{
 "cells": [
  {
   "cell_type": "markdown",
   "metadata": {},
   "source": [
    "# SOFIA/FORCAST Galactic Center Combine Fields Notebook"
   ]
  },
  {
   "cell_type": "markdown",
   "metadata": {},
   "source": [
    "## Preliminary Steps - Select file to use from config.py and load in required packages"
   ]
  },
  {
   "cell_type": "code",
   "execution_count": 1,
   "metadata": {},
   "outputs": [],
   "source": [
    "#import all required packages\n",
    "import os\n",
    "import numpy as np\n",
    "import re\n",
    "import matplotlib.pyplot as plt\n",
    "from mpl_toolkits.axes_grid1 import make_axes_locatable\n",
    "\n",
    "from astropy.convolution import Gaussian2DKernel\n",
    "from astropy.stats import gaussian_fwhm_to_sigma\n",
    "from astropy.visualization import SqrtStretch, simple_norm\n",
    "from astropy.visualization.mpl_normalize import ImageNormalize\n",
    "from astropy.io import fits,ascii\n",
    "from astropy.wcs import WCS\n",
    "from astropy import units as u\n",
    "from astropy.stats import sigma_clipped_stats\n",
    "from astropy.table import join, vstack, Table\n",
    "from astropy.coordinates import SkyCoord, search_around_sky, Angle\n",
    "\n",
    "from photutils.aperture import SkyCircularAperture,SkyCircularAnnulus,aperture_photometry \n",
    "from photutils.segmentation import detect_threshold, detect_sources, deblend_sources, SourceCatalog\n",
    "from photutils.background import Background2D, MedianBackground, SExtractorBackground, MMMBackground\n",
    "from photutils.utils import calc_total_error"
   ]
  },
  {
   "cell_type": "code",
   "execution_count": 2,
   "metadata": {},
   "outputs": [],
   "source": [
    "#new functions needed for this notebook\n",
    "from astropy.coordinates.matching import _get_cartesian_kdtree\n",
    "\n",
    "from regions import read_ds9, write_ds9, CircleSkyRegion"
   ]
  },
  {
   "cell_type": "code",
   "execution_count": 3,
   "metadata": {},
   "outputs": [],
   "source": [
    "#import configuration for selected file\n",
    "#from config import wavelength, segdetsig, finddetsig, bkgbox #import additional common paramters\n",
    "from config import dpath, dpathalt, ds9path #import additional common paramters\n",
    "\n",
    "from config import *"
   ]
  },
  {
   "cell_type": "code",
   "execution_count": 4,
   "metadata": {},
   "outputs": [],
   "source": [
    "#change directory to where data is\n",
    "try:\n",
    "    os.chdir(dpath)\n",
    "except:\n",
    "    os.chdir(dpathalt)"
   ]
  },
  {
   "cell_type": "code",
   "execution_count": 5,
   "metadata": {},
   "outputs": [],
   "source": [
    "def CombineFieldResults(CatName,wavelength): # #Name options- 'CombCat', 'SegCat', 'DaoCat'\n",
    "    #pick a field to start with so we can get the table structure. \n",
    "    #The files for the field cannot be empty or an error message will display\n",
    "    startfield=FieldA.name\n",
    "\n",
    "    if os.path.exists(startfield+'_'+str(wavelength)+'um_'+CatName+'.fits'):\n",
    "        cat=Table.read(startfield+'_'+str(wavelength)+'um_'+CatName+'.fits')\n",
    "\n",
    "        #fix for issue with combining tables with objects as columns\n",
    "        cat['RA(J2000)']=cat['sky_centroid'].ra\n",
    "        cat['DEC(J2000)']=cat['sky_centroid'].dec\n",
    "        cat.remove_column('sky_centroid')\n",
    "\n",
    "    else:\n",
    "        print('Error... Must pick another file to start with')\n",
    "        \n",
    "        \n",
    "    #loop through all the saved photometry tables for individual fields and append them together\n",
    "    for info in field._registry:\n",
    "        filename=info.filename\n",
    "        name=info.name\n",
    "\n",
    "        #print('\\nLoading in photometry data from field: ', name)\n",
    "\n",
    "        if name is not startfield:\n",
    "\n",
    "            if os.path.exists(name+'_'+str(wavelength)+'um_'+CatName+'.fits'):\n",
    "                newtab1=Table.read(name+'_'+str(wavelength)+'um_'+CatName+'.fits')\n",
    "\n",
    "                #fix for issue with combining tables with objects as columns\n",
    "                newtab1['RA(J2000)']=newtab1['sky_centroid'].ra\n",
    "                newtab1['DEC(J2000)']=newtab1['sky_centroid'].dec\n",
    "                newtab1.remove_column('sky_centroid')\n",
    "\n",
    "                #combine tables\n",
    "                cat=vstack([cat,newtab1])\n",
    "\n",
    "    #re-add \"sky_centroid\" column \n",
    "    cat['sky_centroid']=SkyCoord(cat['RA(J2000)'],cat['DEC(J2000)'],unit=u.deg)\n",
    "\n",
    "    #print the table sizes to get source counts\n",
    "    #print('Raw number of combinded sources: ', len(cat))\n",
    "    \n",
    "    #rename field based id to anothter name to avoid confusion\n",
    "    cat.rename_column('id', 'old_id')\n",
    "\n",
    "    #add new ids to the master catalog\n",
    "    cat['id']=np.linspace(1,len(cat),len(cat),dtype=np.int64)\n",
    "\n",
    "    #return combined catalog\n",
    "    return cat\n",
    "    "
   ]
  },
  {
   "cell_type": "code",
   "execution_count": 6,
   "metadata": {},
   "outputs": [],
   "source": [
    "#source coords should be skycoord objects, sep should be an angular quantity e.g., 4*u.arcsec\n",
    "def remove_duplicates(cat, sep):\n",
    "\tsourcecoords=cat['sky_centroid']\n",
    "\n",
    "\t#create KD Tree\n",
    "\tkdt=_get_cartesian_kdtree(sourcecoords)\n",
    "    \n",
    "\t#search radius\n",
    "\tr = (2 * np.sin(Angle(sep) / 2.0)).value #search radius\n",
    "    \n",
    "\t#initialize counter\n",
    "\tcounter=0\n",
    "    \n",
    "\t#create array to hold matches\n",
    "\tmatchstore=np.zeros(len(cat),dtype=np.int)\n",
    "    \n",
    "\t#loop through and find all matching sources within crossmatch radius\n",
    "\tfor i, matches in enumerate(kdt.query_ball_tree(kdt,r)):\n",
    "\t\tif len(matches)>1:\n",
    "\t\t\tcounter+=1\n",
    "\t\t\t\n",
    "\t\t\tfor match in matches:\n",
    "\t\t\t\tif match!=matches[(match+1)%len(matches)]:\n",
    "\t\t\t\t\tmatchstore[match]=matches[(match+1)%len(matches)]+1\n",
    "\t\t\t\telse:\n",
    "\t\t\t\t\tmatchstore[match]=matches[(match+2)%len(matches)]+1\n",
    "\n",
    "\t#store possible crossmatches\n",
    "\tcat['selfXmatch']=matchstore\n",
    "\tprint('number of likely duplicates: ', counter)\n",
    "    \n",
    "\t#create keep and remove lists\n",
    "\tkeep=[]\n",
    "\tremove=[]\n",
    "    \n",
    "\t#loop through and mark sources to keep and remove based on which has the greater aperture photometry snr\n",
    "\tfor row in cat:\n",
    "\t\tif row['selfXmatch']>0:\n",
    "\t\t\t#print(row['Master_id'])\n",
    "\t\t\tidx1 = row['id']\n",
    "\t\t\tidx2 = row['selfXmatch']\n",
    "\t\t\t\n",
    "\t\t\trow1=cat[cat['id']==idx1]\n",
    "\t\t\trow2=cat[cat['id']==idx2]\n",
    "\t\t\t\n",
    "\t\t\tsnr1=row1['aper_snr_4pix'].data[0]\n",
    "\t\t\tsnr2=row2['aper_snr_4pix'].data[0]\n",
    "\t\t\t           \n",
    "\t\t\tif snr1>snr2:\n",
    "\t\t\t\tkeep.append(idx1)\n",
    "\t\t\t\tremove.append(idx2)\n",
    "\t\t\telse:\n",
    "\t\t\t\tkeep.append(idx2)\n",
    "\t\t\t\tremove.append(idx1)\n",
    "\n",
    "\t#remove duplicates in lists\n",
    "\tkeep=list(set(keep))\n",
    "\tremove=list(set(remove))\n",
    "    \n",
    "\t#remove duplicates in table\n",
    "\tremoveIdx=np.array(remove)-1 #fix zero/one initialization issue\n",
    "\tcat.remove_rows(removeIdx)\n",
    "\t\n",
    "\treturn cat"
   ]
  },
  {
   "cell_type": "code",
   "execution_count": 7,
   "metadata": {},
   "outputs": [],
   "source": [
    "def makeDS9file(savename, table, radius, color='green', labelon=False,label='ColumnName'):\n",
    "    scs=table['sky_centroid']\n",
    "    \n",
    "    decimals = 1 # number of decimal places to display with labels\n",
    "    \n",
    "    #loop through and create region instances for each source\n",
    "    regions=[]\n",
    "    for i in range(0,len(scs)):\n",
    "        region = CircleSkyRegion(scs[i], radius)\n",
    "        regions.append(region)\n",
    "            #write out region file\n",
    "    write_ds9(regions, savename)\n",
    "    \n",
    "    hld=\"\"\n",
    "    with open(savename, 'r+') as f:\n",
    "        lineno=0\n",
    "        for line in f:\n",
    "            if lineno<len(table):\n",
    "                if labelon:\n",
    "                    text=line.replace(r')', r') # color='+color+' text={'+str(np.round(table[label][lineno-2],decimals))+'}')\n",
    "                else:\n",
    "                    text=line.replace(r')', r') # color='+color)\n",
    "                hld=hld+text\n",
    "                lineno=lineno+1\n",
    "        f.seek(0)\n",
    "        f.write(hld)\n",
    "        f.truncate()"
   ]
  },
  {
   "cell_type": "code",
   "execution_count": null,
   "metadata": {},
   "outputs": [],
   "source": [
    "#find the 'not' indcies for sources in table\n",
    "def findNOTindex(tab,index):\n",
    "    allpos=np.linspace(0,len(tab)-1,len(tab),dtype=np.int64) \n",
    "    notindex=list(set(allpos)-set(index))\n",
    "    return notindex"
   ]
  },
  {
   "cell_type": "markdown",
   "metadata": {},
   "source": [
    "## Combine data files for each field at 25 um"
   ]
  },
  {
   "cell_type": "code",
   "execution_count": 8,
   "metadata": {
    "scrolled": true
   },
   "outputs": [
    {
     "data": {
      "text/html": [
       "<div><i>Table length=1787</i>\n",
       "<table id=\"table2250532792832\" class=\"table-striped table-bordered table-condensed\">\n",
       "<thead><tr><th>type</th><th>old_id</th><th>xcentroid</th><th>ycentroid</th><th>sky_center</th><th>aperture_sum_4pix</th><th>aperture_sum_err_4pix</th><th>aperture_sum_7pix</th><th>aperture_sum_err_7pix</th><th>aperture_sum_12pix</th><th>aperture_sum_err_12pix</th><th>pixAnnArea</th><th>ann_bkg_med</th><th>ann_bkg_mean</th><th>ann_bkg_std</th><th>texp_med</th><th>texp_mean</th><th>aper_sum_bkgsub_4pix</th><th>aper_snr_4pix</th><th>aper_area_4pix</th><th>aper_sum_bkgsub_7pix</th><th>aper_snr_7pix</th><th>aper_area_7pix</th><th>aper_sum_bkgsub_12pix</th><th>aper_snr_12pix</th><th>aper_area_12pix</th><th>Field</th><th>wv</th><th>fit_x_cent</th><th>fit_y_cent</th><th>fwhm</th><th>semimajor_sigma</th><th>semiminor_sigma</th><th>orientation</th><th>RA(J2000)</th><th>DEC(J2000)</th><th>sky_centroid</th><th>id</th></tr></thead>\n",
       "<thead><tr><th></th><th></th><th>pix</th><th>pix</th><th>deg,deg</th><th></th><th></th><th></th><th></th><th></th><th></th><th></th><th></th><th></th><th></th><th></th><th></th><th></th><th></th><th></th><th></th><th></th><th></th><th></th><th></th><th></th><th></th><th></th><th></th><th></th><th>pix</th><th>pix</th><th>pix</th><th>deg</th><th>deg</th><th>deg</th><th>deg,deg</th><th></th></tr></thead>\n",
       "<thead><tr><th>bytes1</th><th>int32</th><th>float64</th><th>float64</th><th>object</th><th>float64</th><th>float64</th><th>float64</th><th>float64</th><th>float64</th><th>float64</th><th>float64</th><th>float64</th><th>float64</th><th>float64</th><th>float64</th><th>float64</th><th>float64</th><th>float64</th><th>float64</th><th>float64</th><th>float64</th><th>float64</th><th>float64</th><th>float64</th><th>float64</th><th>bytes7</th><th>int32</th><th>float64</th><th>float64</th><th>float64</th><th>float64</th><th>float64</th><th>float64</th><th>float64</th><th>float64</th><th>object</th><th>int64</th></tr></thead>\n",
       "<tr><td>C</td><td>1</td><td>186.13215812089783</td><td>44.83908685070949</td><td>266.3254722621009,-29.07789334142956</td><td>4.251441381840274</td><td>0.08140057006109706</td><td>7.009887388867945</td><td>0.1414690116539936</td><td>9.333651826471463</td><td>0.24034146855993158</td><td>842.3889699154489</td><td>0.00015792294881538803</td><td>0.00037795126751484764</td><td>0.005781510100510126</td><td>363.0956726074219</td><td>326.0785093413304</td><td>4.243126847454111</td><td>75.65767425773959</td><td>52.64931061971556</td><td>6.984424127310321</td><td>124.05814677265663</td><td>161.23851377287892</td><td>9.258821016995999</td><td>160.89590869049604</td><td>473.84379557743995</td><td>FieldA</td><td>25</td><td>3.856358236558295</td><td>4.361264416619696</td><td>5.239291643470527</td><td>2.284067037427705</td><td>2.164161800551066</td><td>29.94547828716522</td><td>266.3254722621009</td><td>-29.07789334142956</td><td>266.3254722621009,-29.07789334142956</td><td>1</td></tr>\n",
       "<tr><td>C</td><td>2</td><td>91.13388232439642</td><td>221.0476097606492</td><td>266.34865390850393,-29.040300695372114</td><td>1.3087028693588476</td><td>0.06457617602575318</td><td>2.1016104813737044</td><td>0.11298118086528029</td><td>2.570591187679788</td><td>0.19357004533413544</td><td>842.3889699154489</td><td>0.00011159306027058632</td><td>0.0005865174569878199</td><td>0.0052890662534054115</td><td>477.7574157714844</td><td>475.80978975703977</td><td>1.3028275716656568</td><td>19.176781006656906</td><td>52.64931061971556</td><td>2.083617382188308</td><td>29.63774817430125</td><td>161.23851377287892</td><td>2.5177135084410716</td><td>30.19705170464805</td><td>473.84379557743995</td><td>FieldA</td><td>25</td><td>4.303490864826108</td><td>4.548264914504913</td><td>5.073429306251551</td><td>2.282598650049977</td><td>2.0182597334875942</td><td>31.718048708673404</td><td>266.34865390850393</td><td>-29.040300695372114</td><td>266.34865390850393,-29.040300695372114</td><td>2</td></tr>\n",
       "<tr><td>C</td><td>3</td><td>214.3263472674334</td><td>138.54481158630034</td><td>266.31859196098685,-29.057902466534006</td><td>4.517279878238537</td><td>0.06429089590388001</td><td>9.700689650183616</td><td>0.11249368591449324</td><td>18.396979270647673</td><td>0.1928197424831015</td><td>842.3889699154489</td><td>0.005476475752424609</td><td>0.007393471952174815</td><td>0.010939288794574635</td><td>477.7574157714844</td><td>476.6207881826312</td><td>4.228947205247794</td><td>70.1773179717275</td><td>52.64931061971556</td><td>8.817670839149462</td><td>150.50326768165246</td><td>161.23851377287892</td><td>15.80198521373098</td><td>271.30942864767303</td><td>473.84379557743995</td><td>FieldA</td><td>25</td><td>4.0223423402092715</td><td>4.259147699153211</td><td>5.6694189581002234</td><td>2.6003146112532844</td><td>2.1980109666265277</td><td>-56.042078181573224</td><td>266.31859196098685</td><td>-29.057902466534006</td><td>266.31859196098685,-29.057902466534006</td><td>3</td></tr>\n",
       "<tr><td>C</td><td>4</td><td>212.7142389276733</td><td>141.23325791893993</td><td>266.31898545191007,-29.05732895919832</td><td>4.577030147285304</td><td>0.06426838656977268</td><td>10.718344604081759</td><td>0.11245133486776629</td><td>21.375549586640382</td><td>0.1926839507467687</td><td>842.3889699154489</td><td>0.006605751189177805</td><td>0.00894511909769135</td><td>0.011903154200365071</td><td>477.7574157714844</td><td>475.7045142320095</td><td>4.2292419010497255</td><td>69.01698575128042</td><td>52.64931061971556</td><td>9.653243099985302</td><td>164.90305656388173</td><td>161.23851377287892</td><td>18.245455370520183</td><td>315.52690022699494</td><td>473.84379557743995</td><td>FieldA</td><td>25</td><td>4.374031773347815</td><td>4.086774694774066</td><td>5.73071061687469</td><td>2.6742723959937145</td><td>2.1663725542983783</td><td>-55.15291558906831</td><td>266.31898545191007</td><td>-29.05732895919832</td><td>266.31898545191007,-29.05732895919832</td><td>4</td></tr>\n",
       "<tr><td>C</td><td>5</td><td>208.6319409033432</td><td>157.28357758668136</td><td>266.31998201863314,-29.05390495647942</td><td>8.761508922127174</td><td>0.0642364378465394</td><td>22.78083532228061</td><td>0.11241803572221779</td><td>43.08542487402444</td><td>0.1926180723563314</td><td>842.3889699154489</td><td>0.00772719273513307</td><td>0.011328467887221014</td><td>0.01467723523285137</td><td>477.7574157714844</td><td>475.60596309923363</td><td>8.354677551596744</td><td>146.12537611822236</td><td>52.64931061971556</td><td>21.534914250031168</td><td>386.67245236362214</td><td>161.23851377287892</td><td>39.42394253925057</td><td>709.8989212327396</td><td>473.84379557743995</td><td>FieldA</td><td>25</td><td>4.025846309216539</td><td>4.130433025801435</td><td>5.905646769431775</td><td>2.571645105753109</td><td>2.4424862157837444</td><td>-42.97054748473064</td><td>266.31998201863314</td><td>-29.05390495647942</td><td>266.31998201863314,-29.05390495647942</td><td>5</td></tr>\n",
       "<tr><td>C</td><td>6</td><td>212.0622251554071</td><td>161.08242277174958</td><td>266.31914495440424,-29.05309448168491</td><td>7.501255169169433</td><td>0.0643800179750148</td><td>20.44725753010384</td><td>0.11262472627650104</td><td>43.040572984728094</td><td>0.193004944319555</td><td>842.3889699154489</td><td>0.009196170754891108</td><td>0.012972813296279445</td><td>0.015832963666569794</td><td>477.7574157714844</td><td>476.00238638121897</td><td>7.017083118583227</td><td>119.11340899958353</td><td>52.64931061971556</td><td>18.964480625183583</td><td>336.6562630851338</td><td>161.23851377287892</td><td>38.68302452945224</td><td>693.6206556421314</td><td>473.84379557743995</td><td>FieldA</td><td>25</td><td>3.8237658980516542</td><td>3.821868817715031</td><td>5.930305319774948</td><td>2.663970645223108</td><td>2.3638153859618454</td><td>39.70799011491482</td><td>266.31914495440424</td><td>-29.05309448168491</td><td>266.31914495440424,-29.05309448168491</td><td>6</td></tr>\n",
       "<tr><td>C</td><td>7</td><td>65.41398231792918</td><td>156.5869547952099</td><td>266.3549333829732,-29.054051210496706</td><td>1.8374268263349816</td><td>0.06336991125588685</td><td>3.6602662752160096</td><td>0.11087680364247904</td><td>6.177315607266441</td><td>0.19003332192976338</td><td>842.3889699154489</td><td>0.0010364338582972855</td><td>0.0024681517073962852</td><td>0.008946099497113696</td><td>477.7574157714844</td><td>476.3300521322577</td><td>1.7828592981926976</td><td>24.062117748823297</td><td>52.64931061971556</td><td>3.493153220280264</td><td>49.509587293196695</td><td>161.23851377287892</td><td>5.686207853985884</td><td>78.86675026120997</td><td>473.84379557743995</td><td>FieldA</td><td>25</td><td>4.081515148833704</td><td>3.67167466650717</td><td>5.522051389898966</td><td>2.502196336300352</td><td>2.1764781319284303</td><td>-54.072194478215714</td><td>266.3549333829732</td><td>-29.054051210496706</td><td>266.3549333829732,-29.054051210496706</td><td>7</td></tr>\n",
       "<tr><td>D</td><td>8</td><td>236.78868729632939</td><td>47.12821240943839</td><td>266.3131070918628,-29.077404164330705</td><td>0.21574590848968056</td><td>0.08014971361877689</td><td>0.2266815979788868</td><td>0.14095079399637375</td><td>-0.27186881476704844</td><td>0.24257133679316667</td><td>842.3889699154489</td><td>-0.0004808375188808347</td><td>-0.0009032823729738653</td><td>0.006317733034143511</td><td>343.9853820800781</td><td>307.69590262617146</td><td>0.24106167237885096</td><td>0.8983272643338109</td><td>52.64931061971556</td><td>0.30421112488947116</td><td>0.8256873314400025</td><td>161.23851377287892</td><td>-0.04402693976451478</td><td>-0.010199292965130127</td><td>473.84379557743995</td><td>FieldA</td><td>25</td><td>4.465576609936946</td><td>3.1564430410210416</td><td>5.296721684368089</td><td>2.4466111042254193</td><td>2.0329511651524537</td><td>61.0344575434712</td><td>266.3131070918628</td><td>-29.077404164330705</td><td>266.3131070918628,-29.077404164330705</td><td>8</td></tr>\n",
       "<tr><td>D</td><td>9</td><td>246.24509519616183</td><td>46.179366184045236</td><td>266.31079876235106,-29.07760630424547</td><td>-0.04708584148030193</td><td>0.08249648687694569</td><td>-0.4395421640941832</td><td>0.1450478282582179</td><td>-0.558684642328347</td><td>0.24777534263685017</td><td>842.3889699154489</td><td>-0.0004319205154930568</td><td>-0.0010410807492035727</td><td>0.006678508592448676</td><td>321.3936146706169</td><td>287.74206589444105</td><td>-0.02434552409708032</td><td>-0.008849605969226007</td><td>52.64931061971556</td><td>-0.369899942108067</td><td>-1.1507792809710984</td><td>161.23851377287892</td><td>-0.35402178587935257</td><td>-0.621045046819482</td><td>473.84379557743995</td><td>FieldA</td><td>25</td><td>3.4802033401859793</td><td>3.3893891957746773</td><td>4.794144415372929</td><td>2.378546326822249</td><td>1.622398964018759</td><td>20.225007915310158</td><td>266.31079876235106</td><td>-29.07760630424547</td><td>266.31079876235106,-29.07760630424547</td><td>9</td></tr>\n",
       "<tr><td>...</td><td>...</td><td>...</td><td>...</td><td>...</td><td>...</td><td>...</td><td>...</td><td>...</td><td>...</td><td>...</td><td>...</td><td>...</td><td>...</td><td>...</td><td>...</td><td>...</td><td>...</td><td>...</td><td>...</td><td>...</td><td>...</td><td>...</td><td>...</td><td>...</td><td>...</td><td>...</td><td>...</td><td>...</td><td>...</td><td>...</td><td>...</td><td>...</td><td>...</td><td>...</td><td>...</td><td>...</td><td>...</td></tr>\n",
       "<tr><td>D</td><td>13</td><td>99.43648180440152</td><td>244.1579494502783</td><td>266.0701878920657,-29.403637511007226</td><td>-0.018732480416473792</td><td>0.741697489153893</td><td>0.4231253299436692</td><td>1.2980141147163589</td><td>0.6442948355457887</td><td>2.225513512699238</td><td>842.388793959484</td><td>-0.0003798129974791205</td><td>-0.0007525989355878068</td><td>0.0048322765922892775</td><td>478.2879500000003</td><td>476.0260857679352</td><td>0.0012644078883120103</td><td>3.2996830820548e-05</td><td>52.649299622467744</td><td>0.4843658003770757</td><td>2.6382704971031647</td><td>161.23848009380748</td><td>0.8242668302888609</td><td>4.459772192256232</td><td>473.84369660220966</td><td>FieldN9</td><td>25</td><td>5.7732661765715365</td><td>4.83583471989958</td><td>4.997755534188915</td><td>2.579835931340945</td><td>1.5340134258279063</td><td>52.752391117958894</td><td>266.0701878920657</td><td>-29.403637511007226</td><td>266.0701878920657,-29.403637511007226</td><td>1778</td></tr>\n",
       "<tr><td>D</td><td>14</td><td>117.13035109560172</td><td>177.083768397811</td><td>266.0658578218098,-29.417947374115126</td><td>-0.054152716996534386</td><td>0.7126987158767143</td><td>-0.09167028082773743</td><td>1.2470126170236542</td><td>-0.2942207129354436</td><td>2.1388537834018386</td><td>842.388793959484</td><td>0.00026276803207650294</td><td>0.0005320167013055005</td><td>0.004977852472690042</td><td>575.4245000000004</td><td>572.3419112520944</td><td>-0.0679872698485364</td><td>-0.09234908354530931</td><td>52.649299622467744</td><td>-0.13403859893699363</td><td>-0.20495994490472974</td><td>161.23848009380748</td><td>-0.41873168860346177</td><td>-1.1572257202350453</td><td>473.84369660220966</td><td>FieldN9</td><td>25</td><td>4.335189994986265</td><td>3.939946021920311</td><td>5.374069150740686</td><td>2.755692083227827</td><td>1.6800722246886868</td><td>51.72308431552032</td><td>266.0658578218098</td><td>-29.417947374115126</td><td>266.0658578218098,-29.417947374115126</td><td>1779</td></tr>\n",
       "<tr><td>D</td><td>15</td><td>96.26106984262873</td><td>222.67610182438298</td><td>266.07096659614905,-29.4082201632347</td><td>-0.05483129668439758</td><td>0.7460224152379078</td><td>-0.36053362531016553</td><td>1.3029995326559065</td><td>-0.9119894653534615</td><td>2.2172134316739047</td><td>842.388793959484</td><td>2.0219788045130183e-06</td><td>6.316122836991421e-05</td><td>0.005186718260626257</td><td>478.2879500000003</td><td>475.9554249944069</td><td>-0.05493775245230666</td><td>-0.05793729261782638</td><td>52.649299622467744</td><td>-0.36085964609938714</td><td>-1.3975996768946768</td><td>161.23848009380748</td><td>-0.9129475672646432</td><td>-5.082407180182431</td><td>473.84369660220966</td><td>FieldN9</td><td>25</td><td>4.65590198151758</td><td>4.140142926782727</td><td>4.262239823021728</td><td>2.156605317297721</td><td>1.3788768213942977</td><td>81.7388051101987</td><td>266.07096659614905</td><td>-29.4082201632347</td><td>266.07096659614905,-29.4082201632347</td><td>1780</td></tr>\n",
       "<tr><td>S</td><td>16</td><td>168.67975195246652</td><td>33.23462325499537</td><td>266.0532348592611,-29.44863644397799</td><td>4.392520750318843</td><td>1.2489624758390343</td><td>5.665145945321115</td><td>2.3484320796272584</td><td>6.4060518432585525</td><td>4.2177576243749515</td><td>842.388793959484</td><td>-0.0007921620894132224</td><td>-0.0015341674941784852</td><td>0.013562137383644379</td><td>61.12537352738121</td><td>64.74224480818025</td><td>4.434227529513921</td><td>70.08143416263897</td><td>52.649299622467744</td><td>5.792872956606038</td><td>84.04745970501024</td><td>161.23848009380748</td><td>6.781412856014244</td><td>82.96126980770082</td><td>473.84369660220966</td><td>FieldN9</td><td>25</td><td>4.181129975894356</td><td>3.5759903033193887</td><td>4.414387777839156</td><td>1.9081620328325375</td><td>1.8404624699761662</td><td>-39.00113964631665</td><td>266.0532348592611</td><td>-29.44863644397799</td><td>266.0532348592611,-29.44863644397799</td><td>1781</td></tr>\n",
       "<tr><td>S</td><td>17</td><td>194.3010661678876</td><td>54.160439151602105</td><td>266.0469579552481,-29.444172453614065</td><td>2.7409099231305194</td><td>0.8806605575162092</td><td>4.322656914989217</td><td>1.5549408856889166</td><td>5.231165689994828</td><td>2.702200173895412</td><td>842.388793959484</td><td>-0.0002938797915606288</td><td>-0.0007320062680424534</td><td>0.00561884862330706</td><td>227.62284999999994</td><td>201.815095235622</td><td>2.756382488329383</td><td>46.72007876107</td><td>52.649299622467744</td><td>4.370041645910738</td><td>73.11922677976484</td><td>161.23848009380748</td><td>5.370418776784604</td><td>84.35242477846077</td><td>473.84369660220966</td><td>FieldN9</td><td>25</td><td>4.272843208779053</td><td>4.0210869919965955</td><td>5.080135159525843</td><td>2.195019391121517</td><td>2.1189800588235475</td><td>-73.7289427705983</td><td>266.0469579552481</td><td>-29.444172453614065</td><td>266.0469579552481,-29.444172453614065</td><td>1782</td></tr>\n",
       "<tr><td>S</td><td>18</td><td>165.93031534766877</td><td>176.0086173137294</td><td>266.05390612683294,-29.418177959678403</td><td>0.5007759378044182</td><td>0.7035765686629369</td><td>1.0768718974179097</td><td>1.231954698898049</td><td>1.4124241451478605</td><td>2.1117957421496785</td><td>842.388793959484</td><td>-0.0005045663663663658</td><td>-0.00108867688278409</td><td>0.004081407404008763</td><td>575.4245000000004</td><td>572.8547784787061</td><td>0.5273410036066609</td><td>5.53261692256508</td><td>52.649299622467744</td><td>1.1582274114372777</td><td>13.957559287294652</td><td>161.23848009380748</td><td>1.651509737368044</td><td>17.82023901436689</td><td>473.84369660220966</td><td>FieldN9</td><td>25</td><td>4.972834049356123</td><td>4.61975812862921</td><td>5.486776772178302</td><td>2.4781238614018233</td><td>2.1718389569962726</td><td>-68.17161937809979</td><td>266.05390612683294</td><td>-29.418177959678403</td><td>266.05390612683294,-29.418177959678403</td><td>1783</td></tr>\n",
       "<tr><td>S</td><td>19</td><td>169.41993467315282</td><td>180.29681927854864</td><td>266.05305141254144,-29.41726318964818</td><td>0.586081260512387</td><td>0.7028130076879995</td><td>1.1807568415704432</td><td>1.2300198287270647</td><td>1.3882484184505604</td><td>2.109054547094742</td><td>842.388793959484</td><td>-0.0005046555850186958</td><td>-0.000872514735439932</td><td>0.0038881403077422076</td><td>575.4245000000004</td><td>573.4722603228839</td><td>0.6126510236141881</td><td>7.264651306022769</td><td>52.649299622467744</td><td>1.2621267410697092</td><td>16.314643213374293</td><td>161.23848009380748</td><td>1.62737628636677</td><td>17.94102829350068</td><td>473.84369660220966</td><td>FieldN9</td><td>25</td><td>3.532883398007249</td><td>3.963615373034376</td><td>5.505668198125611</td><td>2.6342904882666986</td><td>1.998347950606851</td><td>46.35029294920548</td><td>266.05305141254144</td><td>-29.41726318964818</td><td>266.05305141254144,-29.41726318964818</td><td>1784</td></tr>\n",
       "<tr><td>S</td><td>20</td><td>125.99585503473169</td><td>208.95313684537766</td><td>266.06368538179885,-29.41114887676718</td><td>0.5518932717299883</td><td>0.7078524749071465</td><td>1.3686131472922112</td><td>1.2387168066428587</td><td>2.2433514317509093</td><td>2.124053148741191</td><td>842.388793959484</td><td>0.00011042312225466933</td><td>0.00041306307439496347</td><td>0.004700426651666292</td><td>575.4245000000004</td><td>573.434485361423</td><td>0.5460795716811537</td><td>5.326304027717394</td><td>52.649299622467744</td><td>1.3508086908926555</td><td>16.39195682597858</td><td>161.23848009380748</td><td>2.1910281313113993</td><td>25.77307133090917</td><td>473.84369660220966</td><td>FieldN9</td><td>25</td><td>4.283922482402684</td><td>3.6921331728543483</td><td>5.706032045178273</td><td>2.5171369613213583</td><td>2.3253229787786593</td><td>-58.03239743103694</td><td>266.06368538179885</td><td>-29.41114887676718</td><td>266.06368538179885,-29.41114887676718</td><td>1785</td></tr>\n",
       "<tr><td>S</td><td>21</td><td>104.50718149691794</td><td>299.35552041817846</td><td>266.06894355662627,-29.39186224750333</td><td>1.5080251641324602</td><td>0.8771167767791587</td><td>2.5640075257815598</td><td>1.546591378523627</td><td>3.782780855321297</td><td>2.692938063692182</td><td>842.388793959484</td><td>-0.0003177691816243689</td><td>-0.0008159992052728433</td><td>0.006991471418604296</td><td>228.10829999999993</td><td>203.94783127894448</td><td>1.524755488986588</td><td>21.19216765571207</td><td>52.649299622467744</td><td>2.6152441456473254</td><td>36.04807357724081</td><td>161.23848009380748</td><td>3.9333537790084474</td><td>51.114451889845675</td><td>473.84369660220966</td><td>FieldN9</td><td>25</td><td>4.197206649081581</td><td>4.2398702275830304</td><td>5.215928949160135</td><td>2.2641798291155713</td><td>2.164705359534442</td><td>-62.38898847533513</td><td>266.06894355662627</td><td>-29.39186224750333</td><td>266.06894355662627,-29.39186224750333</td><td>1786</td></tr>\n",
       "<tr><td>S</td><td>22</td><td>92.75718981815103</td><td>302.98709037654413</td><td>266.07182034035134,-29.391086993802112</td><td>1.3514780700049394</td><td>1.0285353293095452</td><td>1.830826257012093</td><td>1.8049821639196222</td><td>2.490753660459377</td><td>3.0424544442879884</td><td>842.388793959484</td><td>-0.0005748913756636531</td><td>-0.000819998141687822</td><td>0.008950607461800285</td><td>130.97175000000001</td><td>129.21085807586468</td><td>1.3817456982926277</td><td>16.192750964017822</td><td>52.649299622467744</td><td>1.9235208686431386</td><td>19.500936690787736</td><td>161.23848009380748</td><td>2.763162315048572</td><td>24.658639287043304</td><td>473.84369660220966</td><td>FieldN9</td><td>25</td><td>4.6827256575447</td><td>4.860942450170226</td><td>4.223039602427426</td><td>1.9337089318539855</td><td>1.6410510362464892</td><td>24.742526824523882</td><td>266.07182034035134</td><td>-29.391086993802112</td><td>266.07182034035134,-29.391086993802112</td><td>1787</td></tr>\n",
       "</table></div>"
      ],
      "text/plain": [
       "<Table length=1787>\n",
       " type  old_id ...              sky_centroid                id \n",
       "              ...                deg,deg                      \n",
       "bytes1 int32  ...                 object                 int64\n",
       "------ ------ ... -------------------------------------- -----\n",
       "     C      1 ...   266.3254722621009,-29.07789334142956     1\n",
       "     C      2 ... 266.34865390850393,-29.040300695372114     2\n",
       "     C      3 ... 266.31859196098685,-29.057902466534006     3\n",
       "     C      4 ...  266.31898545191007,-29.05732895919832     4\n",
       "     C      5 ...  266.31998201863314,-29.05390495647942     5\n",
       "     C      6 ...  266.31914495440424,-29.05309448168491     6\n",
       "     C      7 ...  266.3549333829732,-29.054051210496706     7\n",
       "     D      8 ...  266.3131070918628,-29.077404164330705     8\n",
       "     D      9 ...  266.31079876235106,-29.07760630424547     9\n",
       "   ...    ... ...                                    ...   ...\n",
       "     D     13 ...  266.0701878920657,-29.403637511007226  1778\n",
       "     D     14 ...  266.0658578218098,-29.417947374115126  1779\n",
       "     D     15 ...   266.07096659614905,-29.4082201632347  1780\n",
       "     S     16 ...   266.0532348592611,-29.44863644397799  1781\n",
       "     S     17 ...  266.0469579552481,-29.444172453614065  1782\n",
       "     S     18 ... 266.05390612683294,-29.418177959678403  1783\n",
       "     S     19 ...  266.05305141254144,-29.41726318964818  1784\n",
       "     S     20 ...  266.06368538179885,-29.41114887676718  1785\n",
       "     S     21 ...  266.06894355662627,-29.39186224750333  1786\n",
       "     S     22 ... 266.07182034035134,-29.391086993802112  1787"
      ]
     },
     "execution_count": 8,
     "metadata": {},
     "output_type": "execute_result"
    }
   ],
   "source": [
    "#create initial master catalog at 25 um\n",
    "mastercat25=CombineFieldResults('CombCat',25)\n",
    "\n",
    "#print the master catalog\n",
    "mastercat25"
   ]
  },
  {
   "cell_type": "code",
   "execution_count": 9,
   "metadata": {},
   "outputs": [],
   "source": [
    "#Optional - write 'master' catalogs to fits prior to quality cuts\n",
    "#mastercat25.write('masterCatComb_FromFields_25um_NoCuts.fits',overwrite=True)"
   ]
  },
  {
   "cell_type": "code",
   "execution_count": 10,
   "metadata": {},
   "outputs": [],
   "source": [
    "#write out save ds9 region files  - Optional for inspection\n",
    "#set size of regions \n",
    "r = Angle(0.00083333, u.deg) #must be in degrees - current value is r=3\"\n",
    "#write out ds9 files\n",
    "makeDS9file('mastercatComb_25um_labelID.reg', mastercat25, r, color='yellow', labelon=True, label=\"id\")\n",
    "makeDS9file('mastercatComb_25um_label4pixSNR.reg', mastercat25, r, color='cyan', labelon=True, label=\"aper_snr_4pix\")"
   ]
  },
  {
   "cell_type": "code",
   "execution_count": 11,
   "metadata": {},
   "outputs": [
    {
     "name": "stdout",
     "output_type": "stream",
     "text": [
      "Number of sources with duplicates included 1787\n",
      "number of likely duplicates:  377\n"
     ]
    },
    {
     "name": "stderr",
     "output_type": "stream",
     "text": [
      "C:\\Users\\MHANKI~1\\AppData\\Local\\Temp/ipykernel_18912/2402376784.py:15: DeprecationWarning: `np.int` is a deprecated alias for the builtin `int`. To silence this warning, use `int` by itself. Doing this will not modify any behavior and is safe. When replacing `np.int`, you may wish to use e.g. `np.int64` or `np.int32` to specify the precision. If you wish to review your current use, check the release note link for additional information.\n",
      "Deprecated in NumPy 1.20; for more details and guidance: https://numpy.org/devdocs/release/1.20.0-notes.html#deprecations\n",
      "  matchstore=np.zeros(len(cat),dtype=np.int)\n"
     ]
    },
    {
     "name": "stdout",
     "output_type": "stream",
     "text": [
      "Number of sources with duplicates removed 1589\n"
     ]
    }
   ],
   "source": [
    "#Now lets look at possible duplications that may exist because of overlapping data coverage\n",
    "print('Number of sources with duplicates included', len(mastercat25))\n",
    "mastercat25=remove_duplicates(mastercat25, 3.0*u.arcsec)\n",
    "print('Number of sources with duplicates removed', len(mastercat25))"
   ]
  },
  {
   "cell_type": "code",
   "execution_count": 12,
   "metadata": {},
   "outputs": [],
   "source": [
    "#write 'master' catalogs to fits - optional for testing\n",
    "#mastercat25.write('masterCat_FromFields_noDuplicates_25um.fits',overwrite=True)"
   ]
  },
  {
   "cell_type": "code",
   "execution_count": 13,
   "metadata": {},
   "outputs": [],
   "source": [
    "#write out save ds9 region files - optional for testing\n",
    "makeDS9file('mastercat_noDuplicates_25um_labelID.reg', mastercat25, r, color='magenta', labelon=True, label=\"id\")"
   ]
  },
  {
   "cell_type": "code",
   "execution_count": 14,
   "metadata": {},
   "outputs": [
    {
     "data": {
      "image/png": "[encoded data removed]",
      "text/plain": [
       "<Figure size 864x504 with 1 Axes>"
      ]
     },
     "metadata": {
      "needs_background": "light"
     },
     "output_type": "display_data"
    }
   ],
   "source": [
    "#now lets look at SNR distrobution\n",
    "binlist=np.linspace(1,40,20)\n",
    "\n",
    "plt.figure(figsize=(12,7))\n",
    "plt.title('Histogram of 4pix Ap SNR for 25 um Sources')\n",
    "plt.hist(mastercat25['aper_snr_4pix'],bins=binlist)\n",
    "plt.xlabel('SNR of Source')\n",
    "plt.ylabel('Number of Sources')\n",
    "#plt.xlim(0,25)\n",
    "plt.show()\n"
   ]
  },
  {
   "cell_type": "code",
   "execution_count": 15,
   "metadata": {},
   "outputs": [
    {
     "name": "stdout",
     "output_type": "stream",
     "text": [
      "Number of Catalog Sources after SNR cut:  973\n"
     ]
    }
   ],
   "source": [
    "#lets examine SNR cuts...\n",
    "snrcut4pix=mastercat25['aper_snr_4pix']>=5.0 #max snr in all computed apertures must be gtreq to 5\n",
    "mcat25snrcut=mastercat25[snrcut4pix] #apply snr cut\n",
    "\n",
    "print(\"Number of Catalog Sources after SNR cut: \", len(mcat25snrcut))"
   ]
  },
  {
   "cell_type": "code",
   "execution_count": 16,
   "metadata": {},
   "outputs": [],
   "source": [
    "#other cuts to consider????"
   ]
  },
  {
   "cell_type": "code",
   "execution_count": 17,
   "metadata": {},
   "outputs": [],
   "source": [
    "makeDS9file('mastercatComb_4pixSNRselect_25m_NoLabel.reg', mcat25snrcut, r, color='green')"
   ]
  },
  {
   "cell_type": "code",
   "execution_count": null,
   "metadata": {},
   "outputs": [],
   "source": [
    "#Optional - write 'master' catalogs to fits prior to quality cuts\n",
    "mcat25snrcut.write('masterCat_25um_Step3.fits',overwrite=True)"
   ]
  },
  {
   "cell_type": "markdown",
   "metadata": {},
   "source": [
    "## Repeat process for 37 um data"
   ]
  },
  {
   "cell_type": "code",
   "execution_count": 18,
   "metadata": {
    "scrolled": true
   },
   "outputs": [
    {
     "data": {
      "text/html": [
       "<div><i>Table length=1701</i>\n",
       "<table id=\"table2248481899280\" class=\"table-striped table-bordered table-condensed\">\n",
       "<thead><tr><th>type</th><th>old_id</th><th>xcentroid</th><th>ycentroid</th><th>sky_center</th><th>aperture_sum_4pix</th><th>aperture_sum_err_4pix</th><th>aperture_sum_7pix</th><th>aperture_sum_err_7pix</th><th>aperture_sum_12pix</th><th>aperture_sum_err_12pix</th><th>pixAnnArea</th><th>ann_bkg_med</th><th>ann_bkg_mean</th><th>ann_bkg_std</th><th>texp_med</th><th>texp_mean</th><th>aper_sum_bkgsub_4pix</th><th>aper_snr_4pix</th><th>aper_area_4pix</th><th>aper_sum_bkgsub_7pix</th><th>aper_snr_7pix</th><th>aper_area_7pix</th><th>aper_sum_bkgsub_12pix</th><th>aper_snr_12pix</th><th>aper_area_12pix</th><th>Field</th><th>wv</th><th>fit_x_cent</th><th>fit_y_cent</th><th>fwhm</th><th>semimajor_sigma</th><th>semiminor_sigma</th><th>orientation</th><th>RA(J2000)</th><th>DEC(J2000)</th><th>sky_centroid</th><th>id</th></tr></thead>\n",
       "<thead><tr><th></th><th></th><th>pix</th><th>pix</th><th>deg,deg</th><th></th><th></th><th></th><th></th><th></th><th></th><th></th><th></th><th></th><th></th><th></th><th></th><th></th><th></th><th></th><th></th><th></th><th></th><th></th><th></th><th></th><th></th><th></th><th></th><th></th><th>pix</th><th>pix</th><th>pix</th><th>deg</th><th>deg</th><th>deg</th><th>deg,deg</th><th></th></tr></thead>\n",
       "<thead><tr><th>bytes1</th><th>int32</th><th>float64</th><th>float64</th><th>object</th><th>float64</th><th>float64</th><th>float64</th><th>float64</th><th>float64</th><th>float64</th><th>float64</th><th>float64</th><th>float64</th><th>float64</th><th>float64</th><th>float64</th><th>float64</th><th>float64</th><th>float64</th><th>float64</th><th>float64</th><th>float64</th><th>float64</th><th>float64</th><th>float64</th><th>bytes7</th><th>int32</th><th>float64</th><th>float64</th><th>float64</th><th>float64</th><th>float64</th><th>float64</th><th>float64</th><th>float64</th><th>object</th><th>int64</th></tr></thead>\n",
       "<tr><td>C</td><td>1</td><td>142.4222167812415</td><td>244.69398363028392</td><td>266.33571101881336,-29.03729396282822</td><td>16.823313759787407</td><td>0.13052538734462685</td><td>38.275534963104235</td><td>0.2283676991062819</td><td>68.07677396548733</td><td>0.39151472058742304</td><td>842.3887129996068</td><td>0.016057226720894983</td><td>0.019351436261361116</td><td>0.020377260213605218</td><td>400.12127685546875</td><td>398.9379262555463</td><td>15.977912100302554</td><td>271.5398303385732</td><td>52.64929456247541</td><td>35.686492380931874</td><td>612.0870483772352</td><td>161.238464597581</td><td>60.46815903012367</td><td>1036.7759983151554</td><td>473.8436510622788</td><td>FieldA</td><td>37</td><td>4.070412929544192</td><td>3.9802422511197113</td><td>5.779556083285771</td><td>2.5329860953472934</td><td>2.373112703084954</td><td>20.07691949172173</td><td>266.33571101881336</td><td>-29.03729396282822</td><td>266.33571101881336,-29.03729396282822</td><td>1</td></tr>\n",
       "<tr><td>C</td><td>2</td><td>143.5452530013948</td><td>244.50410045870763</td><td>266.33543699669957,-29.037334485899724</td><td>16.76676079088167</td><td>0.13054563467289776</td><td>37.57966399928746</td><td>0.22840555953571776</td><td>67.17481107905367</td><td>0.391592620955339</td><td>842.3887129996068</td><td>0.016504211012411327</td><td>0.020389312693609014</td><td>0.021973153005091846</td><td>400.12127685546875</td><td>399.39843961883486</td><td>15.897825723767975</td><td>269.07228308078123</td><td>52.64929456247541</td><td>34.91855035625177</td><td>597.0277710914795</td><td>161.238464597581</td><td>59.35439547503041</td><td>1014.5156440506069</td><td>473.8436510622788</td><td>FieldA</td><td>37</td><td>3.9218353512269655</td><td>3.986797467245211</td><td>5.758378688553219</td><td>2.5114391636468456</td><td>2.3774413842493956</td><td>2.6297466961680778</td><td>266.33543699669957</td><td>-29.037334485899724</td><td>266.33543699669957,-29.037334485899724</td><td>2</td></tr>\n",
       "<tr><td>C</td><td>3</td><td>185.8843184824861</td><td>53.32524497654224</td><td>266.325104824915,-29.07811945352745</td><td>3.2922456491385277</td><td>0.1288646792540781</td><td>5.946337621550762</td><td>0.22777968022304018</td><td>9.70170351559762</td><td>0.4130127488866621</td><td>842.3887129996068</td><td>0.0012552982252203642</td><td>0.0022844224406179886</td><td>0.009843589123761744</td><td>400.12127685546875</td><td>398.4387799392621</td><td>3.226155083115148</td><td>49.575878874489725</td><td>52.64929456247541</td><td>5.743935263104162</td><td>88.59866122176086</td><td>161.238464597581</td><td>9.106888421387204</td><td>137.98415905490256</td><td>473.8436510622788</td><td>FieldA</td><td>37</td><td>4.1585647558307075</td><td>4.184071346916277</td><td>5.341338874912004</td><td>2.343391052754806</td><td>2.190549026587604</td><td>-5.856931798641261</td><td>266.325104824915</td><td>-29.07811945352745</td><td>266.325104824915,-29.07811945352745</td><td>3</td></tr>\n",
       "<tr><td>C</td><td>4</td><td>213.49728794963903</td><td>148.54816508325013</td><td>266.31836645961846,-29.057804902179896</td><td>6.494607739758986</td><td>0.13310729707661068</td><td>14.312205185063284</td><td>0.23286900430662769</td><td>25.933423437623027</td><td>0.3990069575609686</td><td>842.3887129996068</td><td>0.004691032885682408</td><td>0.007080396648139035</td><td>0.015030417264407871</td><td>400.12127685546875</td><td>399.3883021741741</td><td>6.2476281675584335</td><td>100.29052696171526</td><td>52.64929456247541</td><td>13.555830245199093</td><td>223.54164787238813</td><td>161.238464597581</td><td>23.710607287818057</td><td>391.79407109255396</td><td>473.8436510622788</td><td>FieldA</td><td>37</td><td>4.14391381367146</td><td>4.22329857289421</td><td>5.694095220221748</td><td>2.629873388595846</td><td>2.185815736731943</td><td>-58.82213122682895</td><td>266.31836645961846</td><td>-29.057804902179896</td><td>266.31836645961846,-29.057804902179896</td><td>4</td></tr>\n",
       "<tr><td>C</td><td>5</td><td>212.18811637382836</td><td>150.4513954114122</td><td>266.3186860037761,-29.05739890297304</td><td>6.54538637221277</td><td>0.13306405204379268</td><td>14.877321306298306</td><td>0.232778276627887</td><td>28.09258049300846</td><td>0.39882551009772577</td><td>842.3887129996068</td><td>0.005485694207867119</td><td>0.00901293769265498</td><td>0.01733913996203883</td><td>400.12127685546875</td><td>398.3890928989456</td><td>6.256568441983109</td><td>98.05896050842077</td><td>52.64929456247541</td><td>13.992816394969969</td><td>227.84673284334434</td><td>161.238464597581</td><td>25.49321912094151</td><td>418.12371003261825</td><td>473.8436510622788</td><td>FieldA</td><td>37</td><td>4.285200738265712</td><td>4.050534101749928</td><td>5.693267738704508</td><td>2.6375701940904444</td><td>2.175741110024205</td><td>-56.80746871485615</td><td>266.3186860037761</td><td>-29.05739890297304</td><td>266.3186860037761,-29.05739890297304</td><td>5</td></tr>\n",
       "<tr><td>D</td><td>6</td><td>157.19979139396133</td><td>43.41438316546808</td><td>266.3321068013122,-29.08023375689039</td><td>0.14400016195680396</td><td>0.16239107832519056</td><td>0.16686060634235192</td><td>0.2814870766390917</td><td>0.9955628416209896</td><td>0.4801389625938168</td><td>842.3887129996068</td><td>-8.000353119281957e-05</td><td>6.820277413683625e-05</td><td>0.009151644911150131</td><td>305.60818724626745</td><td>281.07173697725005</td><td>0.1482122914366129</td><td>0.23837376013079437</td><td>52.64929456247541</td><td>0.1797602528742668</td><td>0.20081879545710157</td><td>161.238464597581</td><td>1.0334720069392702</td><td>3.792784917390484</td><td>473.8436510622788</td><td>FieldA</td><td>37</td><td>4.424567790266906</td><td>3.8641186553839626</td><td>5.300009847102738</td><td>2.562689565322597</td><td>1.8878521561115587</td><td>61.991645330926254</td><td>266.3321068013122</td><td>-29.08023375689039</td><td>266.3321068013122,-29.08023375689039</td><td>6</td></tr>\n",
       "<tr><td>D</td><td>7</td><td>252.34997534843282</td><td>81.0496428342572</td><td>266.3088816607937,-29.07220355079124</td><td>0.19466313812736077</td><td>0.1305128713179189</td><td>0.3241266310136933</td><td>0.22835881167649333</td><td>0.2303992756792847</td><td>0.3930232119878138</td><td>842.3887129996068</td><td>-0.0004162761288198376</td><td>-0.0008613394920414298</td><td>0.00940193846610605</td><td>400.12127685546875</td><td>398.8292664472345</td><td>0.21657978265292335</td><td>0.4933100196265782</td><td>52.64929456247541</td><td>0.3912463548732288</td><td>0.919396955664477</td><td>161.238464597581</td><td>0.4276490764093481</td><td>0.6442503070353062</td><td>473.8436510622788</td><td>FieldA</td><td>37</td><td>4.212624524085888</td><td>3.678271038187663</td><td>5.352500929785833</td><td>2.5501524233841524</td><td>1.956977564174179</td><td>51.09028515576847</td><td>266.3088816607937</td><td>-29.07220355079124</td><td>266.3088816607937,-29.07220355079124</td><td>7</td></tr>\n",
       "<tr><td>D</td><td>8</td><td>57.2176161309975</td><td>83.79575979418884</td><td>266.35651061771057,-29.07161617791247</td><td>0.15886231649105323</td><td>0.13342889777597886</td><td>0.15296958510182024</td><td>0.23511467469917818</td><td>-0.2364341414586359</td><td>0.4113647453064471</td><td>842.3887129996068</td><td>-0.00023607468995123294</td><td>-0.0006291172487033739</td><td>0.008141695536071225</td><td>368.111572265625</td><td>362.1103809895024</td><td>0.17129148238104075</td><td>0.35684158173601066</td><td>52.64929456247541</td><td>0.19103390563990702</td><td>0.25470700550571573</td><td>161.238464597581</td><td>-0.1245716484487482</td><td>-0.0633384043118493</td><td>473.8436510622788</td><td>FieldA</td><td>37</td><td>4.52053930097836</td><td>3.639762826957042</td><td>5.2804207859229395</td><td>2.498068860982185</td><td>1.953525541233036</td><td>73.62976730152307</td><td>266.35651061771057</td><td>-29.07161617791247</td><td>266.35651061771057,-29.07161617791247</td><td>8</td></tr>\n",
       "<tr><td>D</td><td>9</td><td>224.47680991486465</td><td>152.74176269697296</td><td>266.3156869936951,-29.056910043236957</td><td>0.9597346306992355</td><td>0.13288102268177787</td><td>2.3423506631668474</td><td>0.23252072515598474</td><td>12.603610760947078</td><td>0.398580283406106</td><td>842.3887129996068</td><td>0.018772926147409302</td><td>0.023662330526489948</td><td>0.023155750791462596</td><td>400.12127685546875</td><td>398.1522602101539</td><td>-0.02864668783531351</td><td>-0.0035345093379232626</td><td>52.64929456247541</td><td>-0.6845671248452098</td><td>-1.1480509067136446</td><td>161.238464597581</td><td>3.708178894136134</td><td>18.879103767313445</td><td>473.8436510622788</td><td>FieldA</td><td>37</td><td>4.4448642107951954</td><td>3.101824231914473</td><td>5.592621500558809</td><td>2.6790202001404793</td><td>2.025782252600902</td><td>37.58037253620251</td><td>266.3156869936951</td><td>-29.056910043236957</td><td>266.3156869936951,-29.056910043236957</td><td>9</td></tr>\n",
       "<tr><td>...</td><td>...</td><td>...</td><td>...</td><td>...</td><td>...</td><td>...</td><td>...</td><td>...</td><td>...</td><td>...</td><td>...</td><td>...</td><td>...</td><td>...</td><td>...</td><td>...</td><td>...</td><td>...</td><td>...</td><td>...</td><td>...</td><td>...</td><td>...</td><td>...</td><td>...</td><td>...</td><td>...</td><td>...</td><td>...</td><td>...</td><td>...</td><td>...</td><td>...</td><td>...</td><td>...</td><td>...</td><td>...</td></tr>\n",
       "<tr><td>S</td><td>15</td><td>314.75085910237834</td><td>143.27522439545038</td><td>266.02009113421934,-29.42486215220104</td><td>2.0427496291738056</td><td>1.1363969888866368</td><td>5.535172989877591</td><td>2.010008244683621</td><td>12.555732397171845</td><td>3.456453959468835</td><td>842.3886470862557</td><td>0.005433476175665479</td><td>0.008490380572304373</td><td>0.014946979632620686</td><td>347.3763500000002</td><td>311.0733831508243</td><td>1.7566809638866652</td><td>17.136131075725327</td><td>52.649290442890965</td><td>4.659087702435723</td><td>58.24076854415671</td><td>161.2384519813536</td><td>9.981114409587583</td><td>137.62321713775705</td><td>473.8436139860186</td><td>FieldN9</td><td>37</td><td>4.381879464004753</td><td>4.285391659221844</td><td>5.754347445208807</td><td>2.5740649943989395</td><td>2.305863076381003</td><td>-78.99486075766184</td><td>266.02009113421934</td><td>-29.42486215220104</td><td>266.02009113421934,-29.42486215220104</td><td>1692</td></tr>\n",
       "<tr><td>S</td><td>16</td><td>316.2342092546843</td><td>152.08195046814023</td><td>266.01972830847285,-29.42298331287107</td><td>3.00033380680778</td><td>1.1012830607707005</td><td>7.121755063602315</td><td>1.923587982067394</td><td>15.30474707973263</td><td>3.3401095933325724</td><td>842.3886470862557</td><td>0.00374860679412216</td><td>0.0064514531653398904</td><td>0.013374531835794587</td><td>347.3763500000002</td><td>318.5793132400147</td><td>2.802972318947848</td><td>37.72781912339308</td><td>52.649290442890965</td><td>6.517335507031274</td><td>96.860433573071</td><td>161.2384519813536</td><td>13.528493688993242</td><td>210.8909390040154</td><td>473.8436139860186</td><td>FieldN9</td><td>37</td><td>3.8663704183490193</td><td>4.051275315491783</td><td>5.683401403142176</td><td>2.5019653822983443</td><td>2.3217043163913056</td><td>58.26490072227616</td><td>266.01972830847285</td><td>-29.42298331287107</td><td>266.01972830847285,-29.42298331287107</td><td>1693</td></tr>\n",
       "<tr><td>S</td><td>17</td><td>308.92978082905324</td><td>158.41369353246114</td><td>266.0215176696424,-29.42163288306562</td><td>1.7054875269669019</td><td>1.035113763658692</td><td>4.030162635233614</td><td>1.8137520190003824</td><td>8.885911767219445</td><td>3.1451753229879498</td><td>842.3886470862557</td><td>0.0022474175862409636</td><td>0.006878830077412764</td><td>0.015897791200717524</td><td>463.2528500000002</td><td>460.24250549437846</td><td>1.5871625857224403</td><td>13.75360979132338</td><td>52.649290442890965</td><td>3.6677925026724507</td><td>38.629794163240206</td><td>161.2384519813536</td><td>7.820987296019293</td><td>93.68445154443836</td><td>473.8436139860186</td><td>FieldN9</td><td>37</td><td>4.822676440157681</td><td>3.9415316338374873</td><td>5.603848666866085</td><td>2.7274463736069388</td><td>1.9716281620370957</td><td>-61.02079249126792</td><td>266.0215176696424</td><td>-29.42163288306562</td><td>266.0215176696424,-29.42163288306562</td><td>1694</td></tr>\n",
       "<tr><td>S</td><td>18</td><td>175.4818376418138</td><td>172.66404168912632</td><td>266.05420166165914,-29.41859484749044</td><td>1.4388062140684892</td><td>1.0001261992994475</td><td>3.230631085120306</td><td>1.7504071590070969</td><td>5.1149081280125</td><td>3.0007547051451766</td><td>842.3886470862557</td><td>-0.000661495766301437</td><td>-0.0014501285275468115</td><td>0.007726431369091466</td><td>557.6466500000002</td><td>556.3775352121464</td><td>1.4736334967952363</td><td>19.03333802020444</td><td>52.649290442890965</td><td>3.337289638470969</td><td>47.76797937262854</td><td>161.2384519813536</td><td>5.428353672553223</td><td>76.28314655787496</td><td>473.8436139860186</td><td>FieldN9</td><td>37</td><td>3.825819102800761</td><td>4.93155360001187</td><td>5.534639232255246</td><td>2.4044343675912883</td><td>2.2949809293851504</td><td>-13.607952757977499</td><td>266.05420166165914</td><td>-29.41859484749044</td><td>266.05420166165914,-29.41859484749044</td><td>1695</td></tr>\n",
       "<tr><td>S</td><td>19</td><td>137.05802494925172</td><td>199.21471553928595</td><td>266.06361121683733,-29.412929811914527</td><td>2.358283957291878</td><td>0.9987448362953462</td><td>6.023690362908162</td><td>1.7477751490967235</td><td>11.2375182593437</td><td>2.9965594802851117</td><td>842.3886470862557</td><td>0.001005549595100793</td><td>0.0020112452178507145</td><td>0.009202697458091274</td><td>557.6466500000002</td><td>556.2247314373128</td><td>2.305342484604685</td><td>33.16160566438846</td><td>52.649290442890965</td><td>5.8615571028036335</td><td>92.79873073778876</td><td>161.2384519813536</td><td>10.761045005158962</td><td>172.47995452784392</td><td>473.8436139860186</td><td>FieldN9</td><td>37</td><td>3.951996752190388</td><td>4.126230760192929</td><td>5.8847432131386705</td><td>2.571849687510475</td><td>2.4240038375296917</td><td>75.34052072441098</td><td>266.06361121683733</td><td>-29.412929811914527</td><td>266.06361121683733,-29.412929811914527</td><td>1696</td></tr>\n",
       "<tr><td>S</td><td>20</td><td>135.33113033518276</td><td>209.8164761460239</td><td>266.0640337370894,-29.410668047486627</td><td>1.448416018885908</td><td>0.9967480809995625</td><td>4.0641520172812875</td><td>1.7448721020971003</td><td>8.403595310345649</td><td>2.991386754605124</td><td>842.3886470862557</td><td>0.0012546359000332116</td><td>0.0028150447031379203</td><td>0.01151648583037616</td><td>557.6466500000002</td><td>555.6950810990364</td><td>1.3823603289849815</td><td>13.681853484345268</td><td>52.649290442890965</td><td>3.8618564669597</td><td>49.98664901080797</td><td>161.2384519813536</td><td>7.80909410123731</td><td>108.30698931361589</td><td>473.8436139860186</td><td>FieldN9</td><td>37</td><td>4.180303357980015</td><td>3.4329256495571383</td><td>5.94168277076557</td><td>2.5850252966431007</td><td>2.4598219989631485</td><td>-30.352061104870486</td><td>266.0640337370894</td><td>-29.410668047486627</td><td>266.0640337370894,-29.410668047486627</td><td>1697</td></tr>\n",
       "<tr><td>S</td><td>21</td><td>213.01906382149804</td><td>227.3256574597328</td><td>266.0450084117407,-29.406933935765426</td><td>3.2066863335111075</td><td>0.9913519447754217</td><td>6.377793344729234</td><td>1.7351782754924105</td><td>9.396316955506455</td><td>2.972760188784256</td><td>842.3886470862557</td><td>0.0010783238928374936</td><td>0.001813727958554713</td><td>0.008555063154067753</td><td>557.6466500000002</td><td>555.8249853353506</td><td>3.1499133456855977</td><td>49.977299692096345</td><td>52.649290442890965</td><td>6.20392606951361</td><td>100.42618012224314</td><td>161.2384519813536</td><td>8.885360065076863</td><td>139.28359523132877</td><td>473.8436139860186</td><td>FieldN9</td><td>37</td><td>4.111296983681322</td><td>4.204961751621583</td><td>5.557364453102185</td><td>2.4657887243261754</td><td>2.249231526288261</td><td>-55.55882835425378</td><td>266.0450084117407</td><td>-29.406933935765426</td><td>266.0450084117407,-29.406933935765426</td><td>1698</td></tr>\n",
       "<tr><td>S</td><td>22</td><td>221.6024104626654</td><td>221.03193063451874</td><td>266.0429064284553,-29.40827656209453</td><td>1.1709207275222804</td><td>0.9924666480544945</td><td>3.308670256096285</td><td>1.7348378100393806</td><td>7.633351318027112</td><td>2.9729209035390434</td><td>842.3886470862557</td><td>-8.072275533493581e-07</td><td>-1.4102485189040754e-05</td><td>0.0075354394318350275</td><td>557.6466500000002</td><td>554.511362979141</td><td>1.1709632274801902</td><td>13.61764310609655</td><td>52.649290442890965</td><td>3.308800412217384</td><td>47.62156414178977</td><td>161.2384519813536</td><td>7.6337338176483005</td><td>119.03827594120874</td><td>473.8436139860186</td><td>FieldN9</td><td>37</td><td>3.532305601752961</td><td>4.043124658365418</td><td>5.76738163090362</td><td>2.710913887574838</td><td>2.1559048419829594</td><td>-37.960760459176</td><td>266.0429064284553</td><td>-29.40827656209453</td><td>266.0429064284553,-29.40827656209453</td><td>1699</td></tr>\n",
       "<tr><td>S</td><td>23</td><td>147.06102340552076</td><td>258.27436233999646</td><td>266.061159627194,-29.40033071708305</td><td>2.2324247710914893</td><td>0.9852551086520361</td><td>5.18590027589418</td><td>1.724061182047631</td><td>8.743459361590899</td><td>2.9549055179423465</td><td>842.3886470862557</td><td>0.00036758521105041816</td><td>0.0007672972632928773</td><td>0.007550534557703854</td><td>557.6466500000002</td><td>556.7258229360565</td><td>2.2130716705523845</td><td>33.359389905459366</td><td>52.649290442890965</td><td>5.126631405493171</td><td>82.10596206110615</td><td>161.2384519813536</td><td>8.569281456738956</td><td>136.6368802754759</td><td>473.8436139860186</td><td>FieldN9</td><td>37</td><td>4.263762807466023</td><td>4.4995433260825</td><td>5.739439314886548</td><td>2.460909061847216</td><td>2.4134912365274888</td><td>17.557643112150366</td><td>266.061159627194</td><td>-29.40033071708305</td><td>266.061159627194,-29.40033071708305</td><td>1700</td></tr>\n",
       "<tr><td>S</td><td>24</td><td>149.00145255784</td><td>263.1465487824519</td><td>266.0606843265714,-29.39929136957136</td><td>2.173127379744132</td><td>0.9836612381620936</td><td>4.975879746595912</td><td>1.7214854115468383</td><td>8.796183979307177</td><td>2.950828544455237</td><td>842.3886470862557</td><td>0.00016994403903961542</td><td>0.00018434568526697685</td><td>0.007735702406335066</td><td>557.6466500000002</td><td>556.3777049058408</td><td>2.1641799466736975</td><td>32.207128894079965</td><td>52.649290442890965</td><td>4.948478232817705</td><td>78.40719634778824</td><td>161.2384519813536</td><td>8.715657081673264</td><td>138.7889195173755</td><td>473.8436139860186</td><td>FieldN9</td><td>37</td><td>3.6964578070007015</td><td>3.5773147651739428</td><td>5.797358551304407</td><td>2.494630970370832</td><td>2.428751283632393</td><td>69.74570343456311</td><td>266.0606843265714</td><td>-29.39929136957136</td><td>266.0606843265714,-29.39929136957136</td><td>1701</td></tr>\n",
       "</table></div>"
      ],
      "text/plain": [
       "<Table length=1701>\n",
       " type  old_id ...              sky_centroid                id \n",
       "              ...                deg,deg                      \n",
       "bytes1 int32  ...                 object                 int64\n",
       "------ ------ ... -------------------------------------- -----\n",
       "     C      1 ...  266.33571101881336,-29.03729396282822     1\n",
       "     C      2 ... 266.33543699669957,-29.037334485899724     2\n",
       "     C      3 ...    266.325104824915,-29.07811945352745     3\n",
       "     C      4 ... 266.31836645961846,-29.057804902179896     4\n",
       "     C      5 ...   266.3186860037761,-29.05739890297304     5\n",
       "     D      6 ...   266.3321068013122,-29.08023375689039     6\n",
       "     D      7 ...   266.3088816607937,-29.07220355079124     7\n",
       "     D      8 ...  266.35651061771057,-29.07161617791247     8\n",
       "     D      9 ...  266.3156869936951,-29.056910043236957     9\n",
       "   ...    ... ...                                    ...   ...\n",
       "     S     15 ...  266.02009113421934,-29.42486215220104  1692\n",
       "     S     16 ...  266.01972830847285,-29.42298331287107  1693\n",
       "     S     17 ...   266.0215176696424,-29.42163288306562  1694\n",
       "     S     18 ...  266.05420166165914,-29.41859484749044  1695\n",
       "     S     19 ... 266.06361121683733,-29.412929811914527  1696\n",
       "     S     20 ...  266.0640337370894,-29.410668047486627  1697\n",
       "     S     21 ...  266.0450084117407,-29.406933935765426  1698\n",
       "     S     22 ...   266.0429064284553,-29.40827656209453  1699\n",
       "     S     23 ...    266.061159627194,-29.40033071708305  1700\n",
       "     S     24 ...   266.0606843265714,-29.39929136957136  1701"
      ]
     },
     "execution_count": 18,
     "metadata": {},
     "output_type": "execute_result"
    }
   ],
   "source": [
    "#create initial master catalog at 37 um\n",
    "mastercat37=CombineFieldResults('CombCat',37)\n",
    "\n",
    "#print the master catalog\n",
    "mastercat37"
   ]
  },
  {
   "cell_type": "code",
   "execution_count": 19,
   "metadata": {},
   "outputs": [],
   "source": [
    "#Optional - write 'master' catalogs to fits prior to quality cuts\n",
    "#mastercat37.write('masterCatComb_FromFields_37um_NoCuts.fits',overwrite=True)"
   ]
  },
  {
   "cell_type": "code",
   "execution_count": 20,
   "metadata": {},
   "outputs": [],
   "source": [
    "#write out save ds9 region files  - Optional for inspection\n",
    "#set size of regions \n",
    "r = Angle(0.00083333, u.deg) #must be in degrees - current value is r=3\"\n",
    "#write out ds9 files\n",
    "makeDS9file('mastercatComb_37um_labelID.reg', mastercat37, r, color='yellow', labelon=True, label=\"id\")\n",
    "makeDS9file('mastercatComb_37um_label4pixSNR.reg', mastercat37, r, color='cyan', labelon=True, label=\"aper_snr_4pix\")"
   ]
  },
  {
   "cell_type": "code",
   "execution_count": 21,
   "metadata": {},
   "outputs": [
    {
     "name": "stdout",
     "output_type": "stream",
     "text": [
      "Number of sources with duplicates included 1701\n",
      "number of likely duplicates:  367\n"
     ]
    },
    {
     "name": "stderr",
     "output_type": "stream",
     "text": [
      "C:\\Users\\MHANKI~1\\AppData\\Local\\Temp/ipykernel_18912/2402376784.py:15: DeprecationWarning: `np.int` is a deprecated alias for the builtin `int`. To silence this warning, use `int` by itself. Doing this will not modify any behavior and is safe. When replacing `np.int`, you may wish to use e.g. `np.int64` or `np.int32` to specify the precision. If you wish to review your current use, check the release note link for additional information.\n",
      "Deprecated in NumPy 1.20; for more details and guidance: https://numpy.org/devdocs/release/1.20.0-notes.html#deprecations\n",
      "  matchstore=np.zeros(len(cat),dtype=np.int)\n"
     ]
    },
    {
     "name": "stdout",
     "output_type": "stream",
     "text": [
      "Number of sources with duplicates removed 1508\n"
     ]
    }
   ],
   "source": [
    "#Now lets look at possible duplications that may exist because of overlapping data coverage\n",
    "\n",
    "print('Number of sources with duplicates included', len(mastercat37))\n",
    "\n",
    "mastercat37=remove_duplicates(mastercat37, 3.0*u.arcsec)\n",
    "\n",
    "print('Number of sources with duplicates removed', len(mastercat37))"
   ]
  },
  {
   "cell_type": "code",
   "execution_count": 22,
   "metadata": {},
   "outputs": [],
   "source": [
    "#write 'master' catalogs to fits - optional for testing\n",
    "#mastercat37.write('masterCat_FromFields_noDuplicates_37um.fits',overwrite=True)"
   ]
  },
  {
   "cell_type": "code",
   "execution_count": 23,
   "metadata": {},
   "outputs": [],
   "source": [
    "#write out save ds9 region files - optional for testing\n",
    "makeDS9file('mastercat_noDuplicates_37um_labelID.reg', mastercat37, r, color='magenta', labelon=True, label=\"id\")"
   ]
  },
  {
   "cell_type": "code",
   "execution_count": 24,
   "metadata": {},
   "outputs": [
    {
     "data": {
      "image/png": "[encoded data removed]",
      "text/plain": [
       "<Figure size 864x504 with 1 Axes>"
      ]
     },
     "metadata": {
      "needs_background": "light"
     },
     "output_type": "display_data"
    }
   ],
   "source": [
    "#now lets look at SNR distrobution\n",
    "binlist=np.linspace(1,40,20)\n",
    "\n",
    "plt.figure(figsize=(12,7))\n",
    "plt.title('Histogram of 4pix Ap SNR for 37 um Sources')\n",
    "plt.hist(mastercat37['aper_snr_4pix'],bins=binlist)\n",
    "plt.xlabel('SNR of Source')\n",
    "plt.ylabel('Number of Sources')\n",
    "#plt.xlim(0,25)\n",
    "plt.show()\n"
   ]
  },
  {
   "cell_type": "code",
   "execution_count": 25,
   "metadata": {},
   "outputs": [
    {
     "name": "stdout",
     "output_type": "stream",
     "text": [
      "Number of Catalog Sources after SNR cut:  1029\n"
     ]
    }
   ],
   "source": [
    "#lets examine SNR cuts...\n",
    "snrcut4pix=mastercat37['aper_snr_4pix']>=5.0 #max snr in all computed apertures must be gtreq to 5\n",
    "mcat37snrcut=mastercat37[snrcut4pix] #apply snr cut\n",
    "\n",
    "print(\"Number of Catalog Sources after SNR cut: \", len(mcat37snrcut))"
   ]
  },
  {
   "cell_type": "code",
   "execution_count": 26,
   "metadata": {},
   "outputs": [],
   "source": [
    "#more cuts to consider?"
   ]
  },
  {
   "cell_type": "code",
   "execution_count": 27,
   "metadata": {},
   "outputs": [],
   "source": [
    "makeDS9file('mastercatComb_4pixSNRselect_37m_NoLabel.reg', mcat37snrcut, r, color='green')"
   ]
  },
  {
   "cell_type": "code",
   "execution_count": null,
   "metadata": {},
   "outputs": [],
   "source": [
    "#Optional - write 'master' catalogs to fits prior to quality cuts\n",
    "mcat37snrcut.write('masterCat_37um_Step3.fits',overwrite=True)"
   ]
  },
  {
   "cell_type": "markdown",
   "metadata": {},
   "source": [
    "## Crossmatch the 25 and 37 um catalogs"
   ]
  },
  {
   "cell_type": "code",
   "execution_count": 28,
   "metadata": {},
   "outputs": [
    {
     "name": "stdout",
     "output_type": "stream",
     "text": [
      "Number of crossmatched 25/37 sources found:  604\n"
     ]
    }
   ],
   "source": [
    "#get source coordinates from both tables\n",
    "sources25=mcat25snrcut['sky_centroid']\n",
    "sources37=mcat37snrcut['sky_centroid']\n",
    "\n",
    "#crossmatch source lists to look for duplication\n",
    "idx,rdx, d2d, d3d = sources25.search_around_sky(sources37, 3*u.arcsec) #use larger search radius?\n",
    "print('Number of crossmatched 25/37 sources found: ', len(idx))"
   ]
  },
  {
   "cell_type": "code",
   "execution_count": 29,
   "metadata": {},
   "outputs": [],
   "source": [
    "matched25=mcat25snrcut[rdx]\n",
    "matched37=mcat37snrcut[idx]"
   ]
  },
  {
   "cell_type": "code",
   "execution_count": 31,
   "metadata": {},
   "outputs": [],
   "source": [
    "notrdx=findNOTindex(mcat25snrcut,rdx)\n",
    "only25=mcat25snrcut[notrdx]\n",
    "\n",
    "notidx=findNOTindex(mcat37snrcut,idx)\n",
    "only37=mcat37snrcut[notidx]"
   ]
  },
  {
   "cell_type": "code",
   "execution_count": 34,
   "metadata": {},
   "outputs": [],
   "source": [
    "t1=Table()\n",
    "t1['RA(J2000)']=matched25['RA(J2000)']\n",
    "t1['DEC(J2000)']=matched25['DEC(J2000)']\n",
    "t1['25um Flux (Jy)']=matched25['aper_sum_bkgsub_4pix']\n",
    "t1['fwhm25']=matched25['fwhm']\n",
    "t1['25um SNR']=matched25['aper_snr_4pix']\n",
    "t1['37um Flux (Jy)']=matched37['aper_sum_bkgsub_4pix']\n",
    "t1['37um SNR']=matched37['aper_snr_4pix']\n",
    "t1['fwhm37']=matched37['fwhm']\n",
    "\n",
    "\n",
    "t2=Table()\n",
    "t2['RA(J2000)']=only25['RA(J2000)']\n",
    "t2['DEC(J2000)']=only25['DEC(J2000)']\n",
    "t2['25um Flux (Jy)']=only25['aper_sum_bkgsub_4pix']\n",
    "t2['25um SNR']=only25['aper_snr_4pix']\n",
    "t2['fwhm25']=only25['fwhm']\n",
    "t2['37um Flux (Jy)']=-1\n",
    "t2['37um SNR']=-1\n",
    "t2['fwhm37']=-1\n",
    "\n",
    "\n",
    "t3=Table()\n",
    "t3['RA(J2000)']=only37['RA(J2000)']\n",
    "t3['DEC(J2000)']=only37['DEC(J2000)']\n",
    "t3['25um Flux (Jy)']=-1\n",
    "t3['25um SNR']=-1\n",
    "t3['fwhm25']=-1\n",
    "t3['37um Flux (Jy)']=only37['aper_sum_bkgsub_4pix']\n",
    "t3['37um SNR']=only37['aper_snr_4pix']\n",
    "t3['fwhm37']=only37['fwhm']"
   ]
  },
  {
   "cell_type": "code",
   "execution_count": 35,
   "metadata": {},
   "outputs": [],
   "source": [
    "mastercat=vstack((t1,t2,t3))"
   ]
  },
  {
   "cell_type": "code",
   "execution_count": 36,
   "metadata": {},
   "outputs": [
    {
     "data": {
      "text/html": [
       "<div><i>Table length=1464</i>\n",
       "<table id=\"table2248482700688\" class=\"table-striped table-bordered table-condensed\">\n",
       "<thead><tr><th>RA(J2000)</th><th>DEC(J2000)</th><th>25um Flux (Jy)</th><th>fwhm25</th><th>25um SNR</th><th>37um Flux (Jy)</th><th>37um SNR</th><th>fwhm37</th></tr></thead>\n",
       "<thead><tr><th>deg</th><th>deg</th><th></th><th>pix</th><th></th><th></th><th></th><th>pix</th></tr></thead>\n",
       "<thead><tr><th>float64</th><th>float64</th><th>float64</th><th>float64</th><th>float64</th><th>float64</th><th>float64</th><th>float64</th></tr></thead>\n",
       "<tr><td>266.33591716284303</td><td>-29.037906320021353</td><td>19.06</td><td>5.873</td><td>348.9</td><td>15.98</td><td>271.5</td><td>5.78</td></tr>\n",
       "<tr><td>266.3254722621009</td><td>-29.07789334142956</td><td>4.243</td><td>5.239</td><td>75.66</td><td>3.226</td><td>49.58</td><td>5.341</td></tr>\n",
       "<tr><td>266.31859196098685</td><td>-29.057902466534006</td><td>4.229</td><td>5.669</td><td>70.18</td><td>6.248</td><td>100.3</td><td>5.694</td></tr>\n",
       "<tr><td>266.31998201863314</td><td>-29.05390495647942</td><td>8.355</td><td>5.906</td><td>146.1</td><td>8.052</td><td>130.6</td><td>5.834</td></tr>\n",
       "<tr><td>266.3362279098425</td><td>-29.038785430975665</td><td>12.45</td><td>5.751</td><td>226.6</td><td>11.1</td><td>184.4</td><td>5.717</td></tr>\n",
       "<tr><td>266.33448072434913</td><td>-29.038787791948685</td><td>8.867</td><td>5.598</td><td>160</td><td>10.02</td><td>164.6</td><td>5.859</td></tr>\n",
       "<tr><td>266.35377268616793</td><td>-29.055963810072285</td><td>1.6</td><td>5.758</td><td>19.96</td><td>1.126</td><td>9.995</td><td>5.751</td></tr>\n",
       "<tr><td>266.3549333829732</td><td>-29.054051210496706</td><td>1.783</td><td>5.522</td><td>24.06</td><td>0.9815</td><td>6.991</td><td>5.635</td></tr>\n",
       "<tr><td>266.31650178163045</td><td>-29.031959479992114</td><td>1.662</td><td>5.776</td><td>26.95</td><td>1.491</td><td>17.07</td><td>5.746</td></tr>\n",
       "<tr><td>...</td><td>...</td><td>...</td><td>...</td><td>...</td><td>...</td><td>...</td><td>...</td></tr>\n",
       "<tr><td>266.1758811006956</td><td>-29.393053265869053</td><td>-1</td><td>-1</td><td>-1</td><td>1.09</td><td>7.921</td><td>5.965</td></tr>\n",
       "<tr><td>266.19524203054436</td><td>-29.396363872936913</td><td>-1</td><td>-1</td><td>-1</td><td>3.008</td><td>39.55</td><td>5.212</td></tr>\n",
       "<tr><td>266.15753993073696</td><td>-29.42821901269571</td><td>-1</td><td>-1</td><td>-1</td><td>1.801</td><td>20.66</td><td>5.773</td></tr>\n",
       "<tr><td>266.1744813703697</td><td>-29.408554340729093</td><td>-1</td><td>-1</td><td>-1</td><td>1.835</td><td>20.77</td><td>5.978</td></tr>\n",
       "<tr><td>266.0549635486131</td><td>-29.417901484657563</td><td>-1</td><td>-1</td><td>-1</td><td>1.492</td><td>19.04</td><td>5.642</td></tr>\n",
       "<tr><td>266.0174095719637</td><td>-29.42366789441942</td><td>-1</td><td>-1</td><td>-1</td><td>1.715</td><td>15.71</td><td>5.802</td></tr>\n",
       "<tr><td>266.02009113421934</td><td>-29.42486215220104</td><td>-1</td><td>-1</td><td>-1</td><td>1.757</td><td>17.14</td><td>5.754</td></tr>\n",
       "<tr><td>266.0215176696424</td><td>-29.42163288306562</td><td>-1</td><td>-1</td><td>-1</td><td>1.587</td><td>13.75</td><td>5.604</td></tr>\n",
       "<tr><td>266.06361121683733</td><td>-29.412929811914527</td><td>-1</td><td>-1</td><td>-1</td><td>2.305</td><td>33.16</td><td>5.885</td></tr>\n",
       "<tr><td>266.0429064284553</td><td>-29.40827656209453</td><td>-1</td><td>-1</td><td>-1</td><td>1.171</td><td>13.62</td><td>5.767</td></tr>\n",
       "</table></div>"
      ],
      "text/plain": [
       "<Table length=1464>\n",
       "    RA(J2000)           DEC(J2000)     25um Flux (Jy) ... 37um SNR  fwhm37\n",
       "       deg                 deg                        ...            pix  \n",
       "     float64             float64          float64     ... float64  float64\n",
       "------------------ ------------------- -------------- ... -------- -------\n",
       "266.33591716284303 -29.037906320021353          19.06 ...    271.5    5.78\n",
       " 266.3254722621009  -29.07789334142956          4.243 ...    49.58   5.341\n",
       "266.31859196098685 -29.057902466534006          4.229 ...    100.3   5.694\n",
       "266.31998201863314  -29.05390495647942          8.355 ...    130.6   5.834\n",
       " 266.3362279098425 -29.038785430975665          12.45 ...    184.4   5.717\n",
       "266.33448072434913 -29.038787791948685          8.867 ...    164.6   5.859\n",
       "266.35377268616793 -29.055963810072285            1.6 ...    9.995   5.751\n",
       " 266.3549333829732 -29.054051210496706          1.783 ...    6.991   5.635\n",
       "266.31650178163045 -29.031959479992114          1.662 ...    17.07   5.746\n",
       "               ...                 ...            ... ...      ...     ...\n",
       " 266.1758811006956 -29.393053265869053             -1 ...    7.921   5.965\n",
       "266.19524203054436 -29.396363872936913             -1 ...    39.55   5.212\n",
       "266.15753993073696  -29.42821901269571             -1 ...    20.66   5.773\n",
       " 266.1744813703697 -29.408554340729093             -1 ...    20.77   5.978\n",
       " 266.0549635486131 -29.417901484657563             -1 ...    19.04   5.642\n",
       " 266.0174095719637  -29.42366789441942             -1 ...    15.71   5.802\n",
       "266.02009113421934  -29.42486215220104             -1 ...    17.14   5.754\n",
       " 266.0215176696424  -29.42163288306562             -1 ...    13.75   5.604\n",
       "266.06361121683733 -29.412929811914527             -1 ...    33.16   5.885\n",
       " 266.0429064284553  -29.40827656209453             -1 ...    13.62   5.767"
      ]
     },
     "execution_count": 36,
     "metadata": {},
     "output_type": "execute_result"
    }
   ],
   "source": [
    "#change format of columns to save fewer decimal places\n",
    "for col in mastercat.colnames:\n",
    "    if col!='RA(J2000)' and col!='DEC(J2000)' and col!='type': #skip columns that aren't relevant\n",
    "        mastercat[col].info.format = '%.4G'\n",
    "\n",
    "#display catalog\n",
    "mastercat"
   ]
  },
  {
   "cell_type": "code",
   "execution_count": null,
   "metadata": {},
   "outputs": [],
   "source": []
  },
  {
   "cell_type": "code",
   "execution_count": 37,
   "metadata": {},
   "outputs": [],
   "source": [
    "#write out final catalog\n",
    "mastercat.write('masterCat_step3_final.fits',overwrite=True)"
   ]
  },
  {
   "cell_type": "code",
   "execution_count": null,
   "metadata": {},
   "outputs": [],
   "source": []
  },
  {
   "cell_type": "markdown",
   "metadata": {},
   "source": [
    "## Optional - Create combined Segment Map Catalogs (mainly for testing purposes)"
   ]
  },
  {
   "cell_type": "code",
   "execution_count": 39,
   "metadata": {},
   "outputs": [
    {
     "name": "stderr",
     "output_type": "stream",
     "text": [
      "WARNING: MergeConflictWarning: Cannot merge meta key 'DATE' types <class 'str'> and <class 'str'>, choosing DATE='2022-05-12 12:54:07 Central Daylight Time' [astropy.utils.metadata]\n",
      "WARNING: MergeConflictWarning: Cannot merge meta key 'DATE' types <class 'str'> and <class 'str'>, choosing DATE='2022-05-12 12:54:08 Central Daylight Time' [astropy.utils.metadata]\n",
      "WARNING: MergeConflictWarning: Cannot merge meta key 'DATE' types <class 'str'> and <class 'str'>, choosing DATE='2022-05-12 12:54:09 Central Daylight Time' [astropy.utils.metadata]\n",
      "WARNING: MergeConflictWarning: Cannot merge meta key 'DATE' types <class 'str'> and <class 'str'>, choosing DATE='2022-05-12 12:54:10 Central Daylight Time' [astropy.utils.metadata]\n",
      "WARNING: MergeConflictWarning: Cannot merge meta key 'DATE' types <class 'str'> and <class 'str'>, choosing DATE='2022-05-12 12:54:11 Central Daylight Time' [astropy.utils.metadata]\n",
      "WARNING: MergeConflictWarning: Cannot merge meta key 'DATE' types <class 'str'> and <class 'str'>, choosing DATE='2022-05-12 12:54:12 Central Daylight Time' [astropy.utils.metadata]\n",
      "WARNING: MergeConflictWarning: Cannot merge meta key 'DATE' types <class 'str'> and <class 'str'>, choosing DATE='2022-05-12 12:54:13 Central Daylight Time' [astropy.utils.metadata]\n",
      "WARNING: MergeConflictWarning: Cannot merge meta key 'DATE' types <class 'str'> and <class 'str'>, choosing DATE='2022-05-12 12:54:14 Central Daylight Time' [astropy.utils.metadata]\n",
      "WARNING: MergeConflictWarning: Cannot merge meta key 'DATE' types <class 'str'> and <class 'str'>, choosing DATE='2022-05-12 12:54:15 Central Daylight Time' [astropy.utils.metadata]\n",
      "WARNING: MergeConflictWarning: Cannot merge meta key 'DATE' types <class 'str'> and <class 'str'>, choosing DATE='2022-05-12 12:54:16 Central Daylight Time' [astropy.utils.metadata]\n",
      "WARNING: MergeConflictWarning: Cannot merge meta key 'DATE' types <class 'str'> and <class 'str'>, choosing DATE='2022-05-12 12:54:17 Central Daylight Time' [astropy.utils.metadata]\n",
      "WARNING: MergeConflictWarning: Cannot merge meta key 'DATE' types <class 'str'> and <class 'str'>, choosing DATE='2022-05-12 12:54:18 Central Daylight Time' [astropy.utils.metadata]\n",
      "WARNING: MergeConflictWarning: Cannot merge meta key 'DATE' types <class 'str'> and <class 'str'>, choosing DATE='2022-05-12 12:54:19 Central Daylight Time' [astropy.utils.metadata]\n",
      "WARNING: MergeConflictWarning: Cannot merge meta key 'DATE' types <class 'str'> and <class 'str'>, choosing DATE='2022-05-12 12:54:20 Central Daylight Time' [astropy.utils.metadata]\n",
      "WARNING: MergeConflictWarning: Cannot merge meta key 'DATE' types <class 'str'> and <class 'str'>, choosing DATE='2022-05-12 12:54:21 Central Daylight Time' [astropy.utils.metadata]\n",
      "WARNING: MergeConflictWarning: Cannot merge meta key 'DATE' types <class 'str'> and <class 'str'>, choosing DATE='2022-05-12 12:54:22 Central Daylight Time' [astropy.utils.metadata]\n",
      "WARNING: MergeConflictWarning: Cannot merge meta key 'DATE' types <class 'str'> and <class 'str'>, choosing DATE='2022-05-12 12:54:23 Central Daylight Time' [astropy.utils.metadata]\n",
      "WARNING: MergeConflictWarning: Cannot merge meta key 'DATE' types <class 'str'> and <class 'str'>, choosing DATE='2022-05-12 12:54:24 Central Daylight Time' [astropy.utils.metadata]\n",
      "WARNING: MergeConflictWarning: Cannot merge meta key 'DATE' types <class 'str'> and <class 'str'>, choosing DATE='2022-05-12 12:54:25 Central Daylight Time' [astropy.utils.metadata]\n",
      "WARNING: MergeConflictWarning: Cannot merge meta key 'DATE' types <class 'str'> and <class 'str'>, choosing DATE='2022-05-12 12:54:26 Central Daylight Time' [astropy.utils.metadata]\n",
      "WARNING: MergeConflictWarning: Cannot merge meta key 'DATE' types <class 'str'> and <class 'str'>, choosing DATE='2022-05-12 12:54:27 Central Daylight Time' [astropy.utils.metadata]\n",
      "WARNING: MergeConflictWarning: Cannot merge meta key 'DATE' types <class 'str'> and <class 'str'>, choosing DATE='2022-05-12 12:54:28 Central Daylight Time' [astropy.utils.metadata]\n",
      "WARNING: MergeConflictWarning: Cannot merge meta key 'DATE' types <class 'str'> and <class 'str'>, choosing DATE='2022-05-12 12:54:29 Central Daylight Time' [astropy.utils.metadata]\n",
      "WARNING: MergeConflictWarning: Cannot merge meta key 'DATE' types <class 'str'> and <class 'str'>, choosing DATE='2022-05-12 12:54:30 Central Daylight Time' [astropy.utils.metadata]\n",
      "WARNING: MergeConflictWarning: Cannot merge meta key 'DATE' types <class 'str'> and <class 'str'>, choosing DATE='2022-05-12 12:54:31 Central Daylight Time' [astropy.utils.metadata]\n",
      "WARNING: MergeConflictWarning: Cannot merge meta key 'DATE' types <class 'str'> and <class 'str'>, choosing DATE='2022-05-12 12:54:32 Central Daylight Time' [astropy.utils.metadata]\n",
      "WARNING: MergeConflictWarning: Cannot merge meta key 'DATE' types <class 'str'> and <class 'str'>, choosing DATE='2022-05-12 12:54:33 Central Daylight Time' [astropy.utils.metadata]\n",
      "WARNING: MergeConflictWarning: Cannot merge meta key 'DATE' types <class 'str'> and <class 'str'>, choosing DATE='2022-05-12 12:54:34 Central Daylight Time' [astropy.utils.metadata]\n",
      "WARNING: MergeConflictWarning: Cannot merge meta key 'DATE' types <class 'str'> and <class 'str'>, choosing DATE='2022-05-12 12:54:35 Central Daylight Time' [astropy.utils.metadata]\n",
      "WARNING: MergeConflictWarning: Cannot merge meta key 'DATE' types <class 'str'> and <class 'str'>, choosing DATE='2022-05-12 12:54:36 Central Daylight Time' [astropy.utils.metadata]\n",
      "C:\\Users\\MHANKI~1\\AppData\\Local\\Temp/ipykernel_25392/2402376784.py:15: DeprecationWarning: `np.int` is a deprecated alias for the builtin `int`. To silence this warning, use `int` by itself. Doing this will not modify any behavior and is safe. When replacing `np.int`, you may wish to use e.g. `np.int64` or `np.int32` to specify the precision. If you wish to review your current use, check the release note link for additional information.\n",
      "Deprecated in NumPy 1.20; for more details and guidance: https://numpy.org/devdocs/release/1.20.0-notes.html#deprecations\n",
      "  matchstore=np.zeros(len(cat),dtype=np.int)\n"
     ]
    },
    {
     "name": "stdout",
     "output_type": "stream",
     "text": [
      "number of likely duplicates:  294\n",
      "Number of 25 um Seg Catalog Sources after SNR cut:  858\n"
     ]
    },
    {
     "name": "stderr",
     "output_type": "stream",
     "text": [
      "WARNING: VerifyWarning: Keyword name 'aperture_photometry_args' is greater than 8 characters or contains characters not allowed by the FITS standard; a HIERARCH card will be created. [astropy.io.fits.card]\n"
     ]
    }
   ],
   "source": [
    "#create combined field segment map source catalog at 25 um\n",
    "Segcat25=CombineFieldResults('segCat',25)\n",
    "\n",
    "#Remove duplications from overlapping fields\n",
    "SegCat25=remove_duplicates(Segcat25, 3.0*u.arcsec)\n",
    "\n",
    "#lets examine SNR cuts...\n",
    "snrcut4pix=SegCat25['aper_snr_4pix']>=5.0 #max snr in all computed apertures must be gtreq to 5\n",
    "Segcat25snr=SegCat25[snrcut4pix] #apply snr cut\n",
    "print(\"Number of 25 um Seg Catalog Sources after SNR cut: \", len(Segcat25snr))\n",
    "\n",
    "#write ds9 file\n",
    "makeDS9file('Segcat_4pixSNRselect_25m_NoLabel.reg', Segcat25snr, r, color='green')\n",
    "\n",
    "#write fits file\n",
    "Segcat25snr.write('SegCat_CombinedFields_snrcut.fits',overwrite=True)"
   ]
  },
  {
   "cell_type": "code",
   "execution_count": 40,
   "metadata": {
    "scrolled": true
   },
   "outputs": [
    {
     "data": {
      "text/html": [
       "<div><i>Table length=858</i>\n",
       "<table id=\"table1403867925424\" class=\"table-striped table-bordered table-condensed\">\n",
       "<thead><tr><th>old_id</th><th>xcentroid</th><th>ycentroid</th><th>background_centroid</th><th>background_mean</th><th>background_sum</th><th>area</th><th>semimajor_sigma_seg</th><th>semiminor_sigma_seg</th><th>orientation_seg</th><th>cxx</th><th>cxy</th><th>cyy</th><th>eccentricity</th><th>ellipticity</th><th>elongation</th><th>fwhm_seg</th><th>kron_flux</th><th>kron_fluxerr</th><th>kron_radius</th><th>segment_flux</th><th>segment_fluxerr</th><th>segbkg_mean_sc</th><th>segbkg_median_sc</th><th>segbkg_std_sc</th><th>segmentSNR</th><th>xcenter</th><th>ycenter</th><th>sky_center</th><th>aperture_sum_4pix</th><th>aperture_sum_err_4pix</th><th>aperture_sum_7pix</th><th>aperture_sum_err_7pix</th><th>aperture_sum_12pix</th><th>aperture_sum_err_12pix</th><th>pixAnnArea</th><th>ann_bkg_med</th><th>ann_bkg_mean</th><th>ann_bkg_std</th><th>texp_med</th><th>texp_mean</th><th>aper_sum_bkgsub_4pix</th><th>aper_snr_4pix</th><th>aper_area_4pix</th><th>aper_sum_bkgsub_7pix</th><th>aper_snr_7pix</th><th>aper_area_7pix</th><th>aper_sum_bkgsub_12pix</th><th>aper_snr_12pix</th><th>aper_area_12pix</th><th>Field</th><th>wv</th><th>fit_x_cent</th><th>fit_y_cent</th><th>fwhm</th><th>semimajor_sigma</th><th>semiminor_sigma</th><th>orientation</th><th>RA(J2000)</th><th>DEC(J2000)</th><th>sky_centroid</th><th>id</th><th>selfXmatch</th></tr></thead>\n",
       "<thead><tr><th></th><th></th><th></th><th></th><th></th><th></th><th>pix2</th><th>pix</th><th>pix</th><th>deg</th><th>1 / pix2</th><th>1 / pix2</th><th>1 / pix2</th><th></th><th></th><th></th><th>pix</th><th></th><th></th><th>pix</th><th></th><th></th><th></th><th></th><th></th><th></th><th>pix</th><th>pix</th><th>deg,deg</th><th></th><th></th><th></th><th></th><th></th><th></th><th></th><th></th><th></th><th></th><th></th><th></th><th></th><th></th><th></th><th></th><th></th><th></th><th></th><th></th><th></th><th></th><th></th><th></th><th></th><th>pix</th><th>pix</th><th>pix</th><th>deg</th><th>deg</th><th>deg</th><th>deg,deg</th><th></th><th></th></tr></thead>\n",
       "<thead><tr><th>int32</th><th>float64</th><th>float64</th><th>float64</th><th>float64</th><th>float64</th><th>float64</th><th>float64</th><th>float64</th><th>float64</th><th>float64</th><th>float64</th><th>float64</th><th>float64</th><th>float64</th><th>float64</th><th>float64</th><th>float64</th><th>float64</th><th>float64</th><th>float64</th><th>float64</th><th>float64</th><th>float64</th><th>float64</th><th>float64</th><th>float64</th><th>float64</th><th>object</th><th>float64</th><th>float64</th><th>float64</th><th>float64</th><th>float64</th><th>float64</th><th>float64</th><th>float64</th><th>float64</th><th>float64</th><th>float64</th><th>float64</th><th>float64</th><th>float64</th><th>float64</th><th>float64</th><th>float64</th><th>float64</th><th>float64</th><th>float64</th><th>float64</th><th>bytes7</th><th>int32</th><th>float64</th><th>float64</th><th>float64</th><th>float64</th><th>float64</th><th>float64</th><th>float64</th><th>float64</th><th>object</th><th>int64</th><th>int32</th></tr></thead>\n",
       "<tr><td>1</td><td>185.74025305952063</td><td>45.29468593234474</td><td>-0.0010024959751888693</td><td>-0.0004956385032757274</td><td>-0.05005948883084846</td><td>101.0</td><td>2.6243450015424092</td><td>2.1592520002946807</td><td>6.6485615155907</td><td>0.14612593264096238</td><td>-0.01593585441761772</td><td>0.21355446379362664</td><td>0.5683636138426366</td><td>0.1772225073206377</td><td>1.2153954245193501</td><td>5.658813338648118</td><td>9.452813107528392</td><td>0.26268936835739903</td><td>2.275454410029209</td><td>5.635387378601118</td><td>0.10810196399688721</td><td>-0.0004975240031514727</td><td>-0.0005376331807221336</td><td>0.00013432667608972187</td><td>16.156001325545247</td><td>185.7402530596197</td><td>45.2946859322694</td><td>266.3255679286236,-29.0777961489855</td><td>4.223261726128053</td><td>0.07965694794375933</td><td>6.990669465142625</td><td>0.13954518125803658</td><td>9.274056937915002</td><td>0.238326336657559</td><td>842.3889672608536</td><td>0.00015622811410386216</td><td>0.00040810074823285295</td><td>0.005793276622484106</td><td>419.3362724757975</td><td>336.2819897809317</td><td>4.215036423646986</td><td>75.11780662752693</td><td>52.64931045380335</td><td>6.96547947629436</td><td>123.6823749899232</td><td>161.2385132647728</td><td>9.200029215585404</td><td>159.73011029162714</td><td>473.84379408423024</td><td>FieldA</td><td>25</td><td>4.378306921607122</td><td>3.8199525587441663</td><td>5.1955358339515545</td><td>2.2621740636932857</td><td>2.149057712389039</td><td>11.862892326351194</td><td>266.3255679286236</td><td>-29.0777961489855</td><td>266.3255679286236,-29.0777961489855</td><td>1</td><td>0</td></tr>\n",
       "<tr><td>2</td><td>99.33997412427225</td><td>135.7560428642921</td><td>0.000645686407520613</td><td>0.01972296132447175</td><td>3.431795270458084</td><td>174.0</td><td>3.8835755737063407</td><td>3.2426723319262165</td><td>-1.7704318600475983</td><td>0.06633099263366786</td><td>0.0017786637010446392</td><td>0.09507543463733634</td><td>0.5502942012990037</td><td>0.1650291669664793</td><td>1.1976466248131257</td><td>8.42438032703874</td><td>--</td><td>--</td><td>nan</td><td>5.714359056859989</td><td>0.11486293375492096</td><td>0.019715966455985303</td><td>0.01957748140953601</td><td>0.0043672587653352255</td><td>6.10972394850931</td><td>99.33997412423895</td><td>135.75604286425096</td><td>266.3466547631106,-29.058496515013818</td><td>2.2444751769657416</td><td>0.06317449923777498</td><td>5.263501701641234</td><td>0.11057385187481032</td><td>8.179289331002943</td><td>0.18959596849336177</td><td>842.3889672608536</td><td>-0.0022032085635257017</td><td>-0.0024315801082415126</td><td>0.006543116118794441</td><td>477.7574157714844</td><td>476.9713757719391</td><td>2.3604725886212847</td><td>38.64366558564773</td><td>52.64931045380335</td><td>5.618743774836334</td><td>96.69975751476773</td><td>161.2385132647728</td><td>9.223266035902828</td><td>157.8522858399414</td><td>473.84379408423024</td><td>FieldA</td><td>25</td><td>3.832897264201368</td><td>4.41238741642627</td><td>5.783185493264922</td><td>2.4629032764829675</td><td>2.44886216866295</td><td>-45.987069195414584</td><td>266.3466547631106</td><td>-29.058496515013818</td><td>266.3466547631106,-29.058496515013818</td><td>2</td><td>0</td></tr>\n",
       "<tr><td>3</td><td>83.94487721758777</td><td>159.5619761735801</td><td>0.0009578778421280461</td><td>0.03018293132272653</td><td>2.8371955443362937</td><td>94.0</td><td>2.9415442293194145</td><td>2.491499368532639</td><td>85.1490718882491</td><td>0.16076812412716185</td><td>-0.007671521450482014</td><td>0.11589662823547614</td><td>0.5315867109270886</td><td>0.15299612234316196</td><td>1.1806321392133556</td><td>6.418829011200888</td><td>5.280462197504612</td><td>0.1708810265002524</td><td>1.630806735925989</td><td>2.6832354005236883</td><td>0.08466546982526779</td><td>0.030319889043595984</td><td>0.030378905230929468</td><td>0.0001790898898695735</td><td>8.422207289803772</td><td>83.94487721762258</td><td>159.56197617356267</td><td>266.3504109079254,-29.053417354322207</td><td>1.634053144875606</td><td>0.06336264705435525</td><td>3.8537894791118954</td><td>0.11088870564738892</td><td>5.217242358966702</td><td>0.19015455001734047</td><td>842.3889672608536</td><td>-0.0010116770154283018</td><td>-0.0011355926189329302</td><td>0.00748483062563589</td><td>477.7574157714844</td><td>475.1745442953916</td><td>1.6873172421398677</td><td>24.01431226966915</td><td>52.64931045380335</td><td>4.016910776983698</td><td>63.2946938567837</td><td>161.2385132647728</td><td>5.696619234345059</td><td>84.7259746182247</td><td>473.84379408423024</td><td>FieldA</td><td>25</td><td>4.0747868063515735</td><td>4.042576621057237</td><td>5.737435603609527</td><td>2.490351584991647</td><td>2.3813584704644932</td><td>81.34899887925864</td><td>266.3504109079254</td><td>-29.053417354322207</td><td>266.3504109079254,-29.053417354322207</td><td>3</td><td>0</td></tr>\n",
       "<tr><td>4</td><td>91.74734950975652</td><td>221.98052378995942</td><td>0.0033234911990453163</td><td>0.02046894788096464</td><td>1.0439163419291966</td><td>51.0</td><td>2.2047323958181666</td><td>1.5885444283314707</td><td>44.36550095622294</td><td>0.298892334061865</td><td>-0.19050690608251136</td><td>0.30311240819863466</td><td>0.6934385666808762</td><td>0.2794842442808263</td><td>1.387894701902615</td><td>4.524784828611974</td><td>2.7030478105491107</td><td>0.17972880591525217</td><td>2.436954643710001</td><td>1.3851650552018888</td><td>0.06356193125247955</td><td>0.02055665910751768</td><td>0.02048894437523569</td><td>0.0021357526070630694</td><td>3.3352275120185735</td><td>91.74734950977276</td><td>221.9805237899783</td><td>266.34850417705957,-29.04010169616116</td><td>1.3871926262445082</td><td>0.06458194714519135</td><td>2.2162156241417907</td><td>0.11298793434200416</td><td>2.7038126766056654</td><td>0.19357545208716054</td><td>842.3889672608536</td><td>0.00014538291432850074</td><td>0.0004612259647952923</td><td>0.005255224365929812</td><td>477.7574157714844</td><td>476.72005775531505</td><td>1.3795383160533483</td><td>20.755968610267338</td><td>52.64931045380335</td><td>2.1927742991813637</td><td>31.89326736132171</td><td>161.2385132647728</td><td>2.634923884885226</td><td>32.53800049828406</td><td>473.84379408423024</td><td>FieldA</td><td>25</td><td>4.303490864826108</td><td>4.548264914504913</td><td>5.073429306251551</td><td>2.282598650049977</td><td>2.0182597334875942</td><td>31.718048708673404</td><td>266.34850417705957</td><td>-29.04010169616116</td><td>266.34850417705957,-29.04010169616116</td><td>4</td><td>0</td></tr>\n",
       "<tr><td>5</td><td>143.33064646883497</td><td>232.27740782564226</td><td>0.09720079941295612</td><td>0.04567399780196773</td><td>25.029350795478315</td><td>548.0</td><td>5.518493440709489</td><td>4.585123933263347</td><td>-29.381613478733257</td><td>0.036382219503103594</td><td>0.012594167079823656</td><td>0.0440205702573243</td><td>0.5564737968619645</td><td>0.16913484041871807</td><td>1.20356472824538</td><td>11.946753274529716</td><td>81.3890690965413</td><td>0.3038313172592993</td><td>1.555873642863163</td><td>73.51149504941633</td><td>0.2051331102848053</td><td>0.04356188403982215</td><td>0.042591569479314945</td><td>0.009625101259996034</td><td>31.403446620890737</td><td>143.33064646859202</td><td>232.27740782568836</td><td>266.33591716284303,-29.037906320021353</td><td>19.57490920415079</td><td>0.06352791071281867</td><td>46.33830542468783</td><td>0.11125795675068886</td><td>70.53389626479888</td><td>0.19069278648469207</td><td>842.3889672608536</td><td>0.009754849753543987</td><td>0.010880860196856478</td><td>0.0097357002593065</td><td>477.7574157714844</td><td>476.0483250646849</td><td>19.061323091046248</td><td>348.88899031785644</td><td>52.64931045380335</td><td>44.765447953305156</td><td>820.9700795164399</td><td>161.2385132647728</td><td>65.91162124685799</td><td>1207.7263432935</td><td>473.84379408423024</td><td>FieldA</td><td>25</td><td>4.261348794649927</td><td>4.427361193721631</td><td>5.872670068415853</td><td>2.593729763100459</td><td>2.389889970938957</td><td>46.13023101621495</td><td>266.33591716284303</td><td>-29.037906320021353</td><td>266.33591716284303,-29.037906320021353</td><td>5</td><td>0</td></tr>\n",
       "<tr><td>6</td><td>222.90302824938135</td><td>260.15178055175033</td><td>-0.003597258873933545</td><td>0.012749605330520613</td><td>1.810443956933927</td><td>142.0</td><td>3.6680116126629096</td><td>2.766804083698943</td><td>-69.79986275921493</td><td>0.12391676296861187</td><td>0.036492238579800586</td><td>0.08103894386721748</td><td>0.6565227197455817</td><td>0.24569375021953832</td><td>1.3257214828738946</td><td>7.650359503092543</td><td>8.894033360976133</td><td>0.32916021627331304</td><td>2.580059479383012</td><td>3.7915161935910464</td><td>0.10459212958812714</td><td>0.012209440146522612</td><td>0.01231828380143192</td><td>0.0014550359231082623</td><td>6.796543106637767</td><td>222.90302824913866</td><td>260.1517805517401</td><td>266.31650178163045,-29.031959479992114</td><td>1.7654836726514722</td><td>0.06368735848834757</td><td>4.004972134157923</td><td>0.1114511040807127</td><td>6.530918805231122</td><td>0.1912584827582983</td><td>842.3889672608536</td><td>0.0019603193650176657</td><td>0.00229831422934513</td><td>0.0048174966082475375</td><td>477.7574157714844</td><td>476.75639304568153</td><td>1.6622742098140546</td><td>26.95477915205029</td><td>52.64931045380335</td><td>3.6888931542183316</td><td>62.498770874906626</td><td>161.2385132647728</td><td>5.602033639694362</td><td>93.00892086591304</td><td>473.84379408423024</td><td>FieldA</td><td>25</td><td>4.178168034488737</td><td>4.031674269787347</td><td>5.775983412688221</td><td>2.5152046283199985</td><td>2.388836125355649</td><td>85.20837819986887</td><td>266.31650178163045</td><td>-29.031959479992114</td><td>266.31650178163045,-29.031959479992114</td><td>6</td><td>0</td></tr>\n",
       "<tr><td>7</td><td>213.96269208922538</td><td>138.63847192770717</td><td>0.03190011047520076</td><td>0.10413965711427113</td><td>10.622245025655655</td><td>102.0</td><td>3.4785133820537215</td><td>2.039040608119419</td><td>-63.371720696887934</td><td>0.20880405373209066</td><td>0.12650805161951978</td><td>0.11435856527382646</td><td>0.8101796768828854</td><td>0.41381838039226837</td><td>1.705955912894697</td><td>6.713868630049212</td><td>22.95014944049283</td><td>0.30052426358090295</td><td>2.8718953979164126</td><td>7.718322622755144</td><td>0.08946112543344498</td><td>0.10279448773512541</td><td>0.10120719787453634</td><td>0.0310601385262331</td><td>4.276361058166707</td><td>213.96269208908842</td><td>138.6384719276955</td><td>266.3186807137666,-29.057882492048993</td><td>4.536002080154933</td><td>0.0642775978597659</td><td>9.818211158734098</td><td>0.1124725848025225</td><td>18.51828075778346</td><td>0.19278298949340764</td><td>842.3889672608536</td><td>0.005426569534953534</td><td>0.007380247527218689</td><td>0.011054988253194653</td><td>477.7574157714844</td><td>476.22947860486306</td><td>4.250296936010013</td><td>70.45965521878048</td><td>52.64931045380335</td><td>8.94323915479028</td><td>152.72255973290873</td><td>161.2385132647728</td><td>15.946934460479184</td><td>273.7494109828176</td><td>473.84379408423024</td><td>FieldA</td><td>25</td><td>4.404971346754575</td><td>4.348178332331447</td><td>5.685347225218109</td><td>2.5909105669383514</td><td>2.2238036801987557</td><td>-58.09011616266264</td><td>266.3186807137666</td><td>-29.057882492048993</td><td>266.3186807137666,-29.057882492048993</td><td>7</td><td>0</td></tr>\n",
       "<tr><td>8</td><td>210.87387019051536</td><td>158.69027331530378</td><td>0.014139061687633118</td><td>0.11848954581244552</td><td>51.66144197422624</td><td>436.0</td><td>6.443671545575428</td><td>5.491636609406687</td><td>31.147744806861457</td><td>0.02651204717318834</td><td>-0.008034051092441744</td><td>0.03073082510468844</td><td>0.5231302888974759</td><td>0.1477472787734595</td><td>1.1733608765259502</td><td>14.09738697322809</td><td>76.4974834906516</td><td>0.5366833051582331</td><td>2.30184603163704</td><td>44.5029831082785</td><td>0.18501514196395874</td><td>0.11552244388149793</td><td>0.1204730388337175</td><td>0.029926091980566883</td><td>12.233856802620306</td><td>210.8738701902472</td><td>158.69027331527215</td><td>266.3194349176237,-29.053604826365042</td><td>8.096563151732653</td><td>0.06431984553539491</td><td>22.316377050030745</td><td>0.1125506683729933</td><td>44.41516005723147</td><td>0.19285587290198916</td><td>842.3889672608536</td><td>0.010164842982636785</td><td>0.013078511873209594</td><td>0.015507730436719162</td><td>477.7574157714844</td><td>476.3500825579566</td><td>7.5613911778256435</td><td>130.0302091031223</td><td>52.64931045380335</td><td>20.67741287994053</td><td>369.48352250425586</td><td>161.2385132647728</td><td>39.59861229206839</td><td>711.5046442780917</td><td>473.84379408423024</td><td>FieldA</td><td>25</td><td>3.770186268675676</td><td>4.014607697432587</td><td>5.95106902266555</td><td>2.579591482855219</td><td>2.4736712098179465</td><td>52.68315684239385</td><td>266.3194349176237</td><td>-29.053604826365042</td><td>266.3194349176237,-29.053604826365042</td><td>8</td><td>0</td></tr>\n",
       "<tr><td>9</td><td>70.17202558627616</td><td>147.62269213882416</td><td>-0.002083902725164626</td><td>0.023834207611473934</td><td>1.1678761729622227</td><td>49.0</td><td>2.439723270690035</td><td>1.5229049244111665</td><td>69.47091536738199</td><td>0.3988113428493476</td><td>-0.17285801190954708</td><td>0.2003682033551042</td><td>0.781254877423663</td><td>0.37578784335633353</td><td>1.602019424576592</td><td>4.7888868483206455</td><td>4.29656459934296</td><td>0.20416999500188407</td><td>2.7359216321203714</td><td>1.506623573449816</td><td>0.06116006150841713</td><td>0.023200491805710786</td><td>0.02316475291623711</td><td>0.0033209974172389895</td><td>3.1841127894284664</td><td>70.17202558626177</td><td>147.62269213882217</td><td>266.35377268616793,-29.055963810072285</td><td>1.6610081387637257</td><td>0.06338450972141596</td><td>3.588160851440405</td><td>0.11096432491301231</td><td>6.268593679827774</td><td>0.19013040058640274</td><td>842.3889672608536</td><td>0.0011530285665452015</td><td>0.002489091957592608</td><td>0.009401212057763467</td><td>477.7574157714844</td><td>476.1243839722185</td><td>1.6003019798015834</td><td>19.959910191365807</td><td>52.64931045380335</td><td>3.402248239618845</td><td>46.69180190237797</td><td>161.2385132647728</td><td>5.722238249168494</td><td>77.86353238203186</td><td>473.84379408423024</td><td>FieldA</td><td>25</td><td>3.705435896262083</td><td>4.515801776919121</td><td>5.757593598675893</td><td>2.504494963727796</td><td>2.3840717914966656</td><td>-48.68941886120479</td><td>266.35377268616793</td><td>-29.055963810072285</td><td>266.35377268616793,-29.055963810072285</td><td>9</td><td>0</td></tr>\n",
       "<tr><td>...</td><td>...</td><td>...</td><td>...</td><td>...</td><td>...</td><td>...</td><td>...</td><td>...</td><td>...</td><td>...</td><td>...</td><td>...</td><td>...</td><td>...</td><td>...</td><td>...</td><td>...</td><td>...</td><td>...</td><td>...</td><td>...</td><td>...</td><td>...</td><td>...</td><td>...</td><td>...</td><td>...</td><td>...</td><td>...</td><td>...</td><td>...</td><td>...</td><td>...</td><td>...</td><td>...</td><td>...</td><td>...</td><td>...</td><td>...</td><td>...</td><td>...</td><td>...</td><td>...</td><td>...</td><td>...</td><td>...</td><td>...</td><td>...</td><td>...</td><td>...</td><td>...</td><td>...</td><td>...</td><td>...</td><td>...</td><td>...</td><td>...</td><td>...</td><td>...</td><td>...</td><td>...</td><td>...</td></tr>\n",
       "<tr><td>9</td><td>125.99585503467537</td><td>208.9531368453665</td><td>0.0019545032500130283</td><td>0.0012638026263445826</td><td>0.011374223637101244</td><td>9.0</td><td>0.8785525672323194</td><td>0.6850759285773804</td><td>39.7058337067942</td><td>1.636413871176837</td><td>-0.8209008112300106</td><td>1.789868270265877</td><td>0.6260561741490868</td><td>0.22022204005896118</td><td>1.2824163433339573</td><td>1.855071903219751</td><td>1.2615433690957814</td><td>1.1755144050599926</td><td>3.50502265212511</td><td>0.15228396541268782</td><td>0.2926134923276811</td><td>0.0012638026263445826</td><td>0.0012727944641442</td><td>0.00012880962917915037</td><td>0.2809625276726864</td><td>125.99585503473169</td><td>208.95313684537766</td><td>266.06368538179885,-29.41114887676718</td><td>0.5518935216844906</td><td>0.7078526746432148</td><td>1.3686137370532898</td><td>1.2387171561951609</td><td>2.2433517281878137</td><td>2.1240537484719613</td><td>842.3892693225855</td><td>0.00011042479006642126</td><td>0.0004130634778303803</td><td>0.004700427775575832</td><td>575.4245000000004</td><td>573.4345205786286</td><td>0.5460797305457935</td><td>5.326305772782498</td><td>52.64932933266161</td><td>1.3508090016910301</td><td>16.39196051628321</td><td>161.23857108127618</td><td>2.19102760793954</td><td>25.77305807655192</td><td>473.8439639939544</td><td>FieldN9</td><td>25</td><td>4.283922482402684</td><td>3.6921331728543483</td><td>5.706032045178273</td><td>2.5171369613213583</td><td>2.3253229787786593</td><td>-58.03239743103694</td><td>266.06368538179885</td><td>-29.41114887676718</td><td>266.06368538179885,-29.41114887676718</td><td>1031</td><td>0</td></tr>\n",
       "<tr><td>10</td><td>167.45833513935395</td><td>211.50318757123065</td><td>0.005155969942770204</td><td>0.0014817801370541053</td><td>0.07557078698975937</td><td>51.0</td><td>1.9020917189180861</td><td>1.700285904180036</td><td>-19.236385264130075</td><td>0.28394402896725734</td><td>0.0432420285137121</td><td>0.3383597713000222</td><td>0.448260014816576</td><td>0.10609678425645941</td><td>1.1186893417406594</td><td>4.248125730712112</td><td>2.131511907991113</td><td>1.809126270434322</td><td>2.348809492223702</td><td>1.1183522914442572</td><td>0.6894912562373783</td><td>0.0015134513118242163</td><td>0.0014761221656757976</td><td>0.00016282541001680928</td><td>1.3387965845310479</td><td>167.4583351392794</td><td>211.5031875712785</td><td>266.0535313497272,-29.410605805745053</td><td>1.1028861468966311</td><td>0.7006480450735383</td><td>1.844531665729252</td><td>1.2273387743941566</td><td>2.193798612944886</td><td>2.1037412396402067</td><td>842.3892693225855</td><td>-0.0003841842623359254</td><td>-0.0005656093155017477</td><td>0.003494508942009147</td><td>575.4245000000004</td><td>572.4675905054108</td><td>1.123113190648781</td><td>17.678067969791446</td><td>52.64932933266161</td><td>1.9064769872202108</td><td>29.78366865457128</td><td>161.23857108127618</td><td>2.3758420067142345</td><td>33.53117019416829</td><td>473.8439639939544</td><td>FieldN9</td><td>25</td><td>4.177728115811366</td><td>4.273322831870088</td><td>4.851756001904815</td><td>2.084558146276719</td><td>2.035856185178277</td><td>65.37432969083663</td><td>266.0535313497272</td><td>-29.410605805745053</td><td>266.0535313497272,-29.410605805745053</td><td>1032</td><td>0</td></tr>\n",
       "<tr><td>11</td><td>202.98418082106434</td><td>229.74702909037097</td><td>-0.002803474377470835</td><td>0.0025348857477387895</td><td>0.40811660538594513</td><td>161.0</td><td>3.9605926752423706</td><td>2.4548711722260435</td><td>-39.0849158521478</td><td>0.10436860169542803</td><td>0.1000163423119573</td><td>0.1253180708587279</td><td>0.784740699561893</td><td>0.3801758035933811</td><td>1.6133607009816973</td><td>7.758888488877758</td><td>7.096509732462344</td><td>2.2445878369518786</td><td>1.683507255634007</td><td>5.371270261804395</td><td>1.223078206541128</td><td>0.002424354430846841</td><td>0.0024515357795662704</td><td>0.00029359671882816504</td><td>4.765580107297006</td><td>202.98418082103237</td><td>229.74702909040607</td><td>266.04483131353464,-29.40671397912156</td><td>2.789310735698525</td><td>0.6990546218522665</td><td>5.110928056530545</td><td>1.2236217715930993</td><td>6.74551344431144</td><td>2.101218830366758</td><td>842.3892693225855</td><td>-0.00017897936889110073</td><td>-0.0002546000056917732</td><td>0.004121375115174742</td><td>575.4245000000004</td><td>573.685635120227</td><td>2.7987338794350247</td><td>48.86060218802071</td><td>52.64932933266161</td><td>5.139786434223574</td><td>90.00632648900772</td><td>161.23857108127618</td><td>6.8303217379399355</td><td>117.27004307036364</td><td>473.8439639939544</td><td>FieldN9</td><td>25</td><td>4.482134176408353</td><td>4.471222981850202</td><td>5.428493279438766</td><td>2.4227017395609747</td><td>2.181523585312386</td><td>-55.060058377484275</td><td>266.04483131353464</td><td>-29.40671397912156</td><td>266.04483131353464,-29.40671397912156</td><td>1033</td><td>0</td></tr>\n",
       "<tr><td>12</td><td>268.6558523119645</td><td>239.0432534435052</td><td>0.003914599198545168</td><td>0.0030450380259256817</td><td>0.2283778519444261</td><td>75.0</td><td>1.8457253256632746</td><td>1.736565270968204</td><td>-62.56765636736247</td><td>0.3235236960950496</td><td>0.031128108733478484</td><td>0.3016178211367895</td><td>0.33880140877296894</td><td>0.0591420907419381</td><td>1.0628597476409336</td><td>4.219782630865518</td><td>4.0042286083771135</td><td>1.1071971179557034</td><td>1.4343580511881662</td><td>3.6365211002452638</td><td>0.8427295529129751</td><td>0.0030618673487244237</td><td>0.0030492269602982306</td><td>0.0002485757189937503</td><td>3.918235653908964</td><td>268.6558523119268</td><td>239.0432534434152</td><td>266.02874963048555,-29.404729653542844</td><td>3.2746018708395312</td><td>0.7061407765293917</td><td>4.060631508025974</td><td>1.2355224805410205</td><td>4.1176688203279275</td><td>2.118933265806452</td><td>842.3892693225855</td><td>-9.297621536054092e-06</td><td>-0.00020613482517450554</td><td>0.003650453639422671</td><td>575.4245000000004</td><td>573.1727615159261</td><td>3.2750913843777933</td><td>58.00586037269396</td><td>52.64932933266161</td><td>4.062130643236902</td><td>70.5883675937981</td><td>161.23857108127618</td><td>4.122074442172287</td><td>67.1114666264465</td><td>473.8439639939544</td><td>FieldN9</td><td>25</td><td>4.48676657648159</td><td>4.002354060163985</td><td>4.151783957923129</td><td>1.8252043807164282</td><td>1.6987272866557577</td><td>-54.75239764043597</td><td>266.02874963048555</td><td>-29.404729653542844</td><td>266.02874963048555,-29.404729653542844</td><td>1034</td><td>0</td></tr>\n",
       "<tr><td>13</td><td>101.54125353481471</td><td>250.78640199664954</td><td>-0.0034815703231153975</td><td>-0.0038585529120772274</td><td>-0.10803948153816237</td><td>28.0</td><td>1.3351280129762668</td><td>1.1755073394791062</td><td>-9.770974993896475</td><td>0.5656746865144032</td><td>0.05442123842654358</td><td>0.7189986692744311</td><td>0.4741475177056913</td><td>0.11955458348996384</td><td>1.13578875106632</td><td>2.9620155752354576</td><td>1.3228576756294141</td><td>0.9901417850969466</td><td>1.7455579040354892</td><td>1.0353298864859866</td><td>0.5406628399090277</td><td>-0.0038737993658876277</td><td>-0.0038540336544368135</td><td>0.00018352756414225952</td><td>1.4013975178122875</td><td>101.5412535348786</td><td>250.78640199664153</td><td>266.0696721537782,-29.40222353255141</td><td>1.2006329298901368</td><td>0.7414717724902246</td><td>1.3755893157208652</td><td>1.2974126886902617</td><td>0.7483398524733638</td><td>2.226874159606132</td><td>842.3892693225855</td><td>-0.0002037289098072973</td><td>-0.0005181972291131807</td><td>0.004946649186259353</td><td>478.2879500000003</td><td>475.8339372323871</td><td>1.2113591203571654</td><td>17.59591304338607</td><td>52.64932933266161</td><td>1.4084382740261399</td><td>17.004086655535332</td><td>161.23857108127618</td><td>0.8448755666766203</td><td>4.576699799803201</td><td>473.8439639939544</td><td>FieldN9</td><td>25</td><td>4.562059528942791</td><td>4.789367111842461</td><td>3.930843332920894</td><td>1.8543552864483632</td><td>1.4609338274919288</td><td>-36.08716505432317</td><td>266.0696721537782</td><td>-29.40222353255141</td><td>266.0696721537782,-29.40222353255141</td><td>1035</td><td>0</td></tr>\n",
       "<tr><td>14</td><td>137.59077841273484</td><td>262.5520980011864</td><td>-0.0037657964437584433</td><td>-0.0006428641866488395</td><td>-0.04242903631882341</td><td>66.0</td><td>2.517168783093235</td><td>1.7782023516272987</td><td>-65.7530224234846</td><td>0.2895358219036227</td><td>0.11864623755699086</td><td>0.18454418052525218</td><td>0.7077833878043825</td><td>0.2935704734737151</td><td>1.4155693702629968</td><td>5.131709479710265</td><td>2.931393643891817</td><td>2.132328789697524</td><td>2.3194532166612687</td><td>1.5168576436940167</td><td>0.7908732184073131</td><td>-0.000708356999173695</td><td>-0.0006985391655847981</td><td>0.0005961912986918523</td><td>1.664745104300284</td><td>137.5907784126744</td><td>262.5520980012241</td><td>266.06084418600705,-29.399714772685506</td><td>1.2811143310420288</td><td>0.7064287866253178</td><td>2.3524902626752557</td><td>1.236862898542595</td><td>2.810048053288428</td><td>2.1315857046750692</td><td>842.3892693225855</td><td>-0.00031811823697379036</td><td>-0.0005806537867689382</td><td>0.004269273537174587</td><td>575.4245000000004</td><td>572.7515140804949</td><td>1.2978630428671876</td><td>20.144811171391765</td><td>52.64932933266161</td><td>2.4037831926398043</td><td>37.84589794613098</td><td>161.23857108127618</td><td>2.960786459714857</td><td>42.10747115094523</td><td>473.8439639939544</td><td>FieldN9</td><td>25</td><td>4.370143923743421</td><td>4.139931077239167</td><td>5.413253831388731</td><td>2.394435632852694</td><td>2.1990033071882262</td><td>-67.73323548714623</td><td>266.06084418600705</td><td>-29.399714772685506</td><td>266.06084418600705,-29.399714772685506</td><td>1036</td><td>0</td></tr>\n",
       "<tr><td>15</td><td>104.50718149676902</td><td>299.355520418219</td><td>-0.002682963347138287</td><td>-0.00047999195133659943</td><td>-0.01871968610212738</td><td>39.0</td><td>1.6891895520218825</td><td>1.6218888539283682</td><td>84.29247774256083</td><td>0.3798588425546419</td><td>-0.005875816164752773</td><td>0.3507574812143436</td><td>0.2794577322015876</td><td>0.039842004713419144</td><td>1.041495259018832</td><td>3.8993021353390387</td><td>3.33251905933828</td><td>2.5708343060445245</td><td>2.8517048426119533</td><td>1.2538634362994594</td><td>0.754165371330449</td><td>-0.0003765126210352319</td><td>-0.0003005579946023315</td><td>0.0007233230175177018</td><td>1.4175642905537775</td><td>104.50718149691794</td><td>299.35552041817846</td><td>266.06894355662627,-29.39186224750333</td><td>1.5080257332158729</td><td>0.87711702208889</td><td>2.5640081029443564</td><td>1.5465918288275164</td><td>3.782781607330494</td><td>2.6929388354668338</td><td>842.3892693225855</td><td>-0.0003177950501493927</td><td>-0.0008160009939868759</td><td>0.0069914721567101625</td><td>228.10829999999993</td><td>203.94794622554286</td><td>1.5247574294714779</td><td>21.19220472464166</td><td>52.64932933266161</td><td>2.615248922727147</td><td>36.04816535983478</td><td>161.23857108127618</td><td>3.9333668736309395</td><td>51.114701597656584</td><td>473.8439639939544</td><td>FieldN9</td><td>25</td><td>4.197206649081581</td><td>4.2398702275830304</td><td>5.215928949160135</td><td>2.2641798291155713</td><td>2.164705359534442</td><td>-62.38898847533513</td><td>266.06894355662627</td><td>-29.39186224750333</td><td>266.06894355662627,-29.39186224750333</td><td>1037</td><td>0</td></tr>\n",
       "<tr><td>16</td><td>92.7571898181905</td><td>302.9870903765893</td><td>-0.004911368709734202</td><td>-0.0038108030302316524</td><td>-0.08764846969532801</td><td>23.0</td><td>1.373224595165317</td><td>1.1517506839415959</td><td>23.591318240878504</td><td>0.5661001750938228</td><td>-0.16398113410684736</td><td>0.7180407035448022</td><td>0.5445631874906283</td><td>0.16128018097218744</td><td>1.1922932751954431</td><td>2.984345593404178</td><td>1.8834850152840605</td><td>1.8950958102642896</td><td>2.393824410212343</td><td>0.964886182048392</td><td>0.680067180897961</td><td>-0.003813861846768703</td><td>-0.0038278925563566355</td><td>0.0002599765778329697</td><td>1.164928486734948</td><td>92.75718981815103</td><td>302.98709037654413</td><td>266.07182034035134,-29.391086993802112</td><td>1.3514783239262809</td><td>1.0285356195616278</td><td>1.8308264502614149</td><td>1.8049826711917636</td><td>2.4907544963900268</td><td>3.0424552624474277</td><td>842.3892693225855</td><td>-0.0005748913756636531</td><td>-0.0008199998668247257</td><td>0.008950609443470639</td><td>130.97175000000001</td><td>129.21086831436548</td><td>1.3817459692941034</td><td>16.192753902829534</td><td>52.64932933266161</td><td>1.9235211142003716</td><td>19.500937927758002</td><td>161.23857108127618</td><td>2.7631633047004294</td><td>24.658650668427484</td><td>473.8439639939544</td><td>FieldN9</td><td>25</td><td>4.6827256575447</td><td>4.860942450170226</td><td>4.223039602427426</td><td>1.9337089318539855</td><td>1.6410510362464892</td><td>24.742526824523882</td><td>266.07182034035134</td><td>-29.391086993802112</td><td>266.07182034035134,-29.391086993802112</td><td>1038</td><td>0</td></tr>\n",
       "<tr><td>17</td><td>139.8841651738395</td><td>309.83351774183615</td><td>0.007263774202092084</td><td>0.002553820442356382</td><td>0.21962855804264886</td><td>86.0</td><td>2.1512593913051905</td><td>1.9730306859727182</td><td>-19.92960824784715</td><td>0.22082060281879912</td><td>0.026149668668265368</td><td>0.2521405321549714</td><td>0.39853883649665955</td><td>0.08284854260384622</td><td>1.090332454836912</td><td>4.860512590828001</td><td>4.545872386814375</td><td>1.7828213460766884</td><td>1.8960866290393303</td><td>3.67258678346972</td><td>0.9531299522565385</td><td>0.00250912985096552</td><td>0.0025527277671854413</td><td>0.0004605223839364295</td><td>3.6860008156750057</td><td>139.88416517379272</td><td>309.833517741844</td><td>266.06028121191275,-29.389628131343258</td><td>3.0558765781842294</td><td>0.7452950658453148</td><td>4.19473136120131</td><td>1.306552891267224</td><td>4.822948251349383</td><td>2.243759935386289</td><td>842.3892693225855</td><td>-9.68014499383055e-05</td><td>-0.0005602037766988024</td><td>0.004396622303519797</td><td>455.73115000000024</td><td>450.1750121377839</td><td>3.0609731096019104</td><td>53.52531380615504</td><td>52.64932933266161</td><td>4.210339488667958</td><td>72.22037493472335</td><td>161.23857108127618</td><td>4.868817034108512</td><td>78.97448956286817</td><td>473.8439639939544</td><td>FieldN9</td><td>25</td><td>4.556148209714144</td><td>4.643735212375794</td><td>4.66221045971341</td><td>1.987752265093924</td><td>1.9719331168391465</td><td>43.84116581923517</td><td>266.06028121191275</td><td>-29.389628131343258</td><td>266.06028121191275,-29.389628131343258</td><td>1039</td><td>0</td></tr>\n",
       "<tr><td>18</td><td>180.60361577489982</td><td>316.7847128162686</td><td>-0.003102364154334108</td><td>0.004995341502474342</td><td>0.09491148854701249</td><td>19.0</td><td>1.3549736862992097</td><td>0.964630919297489</td><td>-7.3595937812167405</td><td>0.5533726303332279</td><td>0.1346634296555315</td><td>1.065979648350522</td><td>0.7022620308898506</td><td>0.28808143726233504</td><td>1.4046550439063215</td><td>2.769525919937264</td><td>0.9354224221351732</td><td>1.3852914221063415</td><td>2.695303512198853</td><td>0.4099261749275547</td><td>0.44793245630922157</td><td>0.004987317671423775</td><td>0.005001146073920992</td><td>0.00014076618083327147</td><td>0.6106701283299591</td><td>180.60361577492392</td><td>316.7847128162928</td><td>266.05031123511264,-29.388145885899117</td><td>0.6054921829477851</td><td>0.7412818794848223</td><td>0.8762806370664028</td><td>1.2884599961872345</td><td>1.179741707763626</td><td>2.197931550026035</td><td>842.3892693225855</td><td>-8.014943521543066e-06</td><td>-0.00022039452892949485</td><td>0.004144761220242521</td><td>455.73115000000024</td><td>410.4816956273775</td><td>0.6059141643488335</td><td>6.875144299685427</td><td>52.64932933266161</td><td>0.8775729551071134</td><td>8.806319195614158</td><td>161.23857108127618</td><td>1.183539540373062</td><td>9.946330974260336</td><td>473.8439639939544</td><td>FieldN9</td><td>25</td><td>4.396307318863144</td><td>4.85093174176597</td><td>4.578262063093767</td><td>2.131142326001515</td><td>1.7372762569520592</td><td>-16.55968596619501</td><td>266.05031123511264</td><td>-29.388145885899117</td><td>266.05031123511264,-29.388145885899117</td><td>1040</td><td>0</td></tr>\n",
       "</table></div>"
      ],
      "text/plain": [
       "<Table length=858>\n",
       "old_id     xcentroid          ycentroid      ...   id  selfXmatch\n",
       "                                             ...                 \n",
       "int32       float64            float64       ... int64   int32   \n",
       "------ ------------------ ------------------ ... ----- ----------\n",
       "     1 185.74025305952063  45.29468593234474 ...     1          0\n",
       "     2  99.33997412427225  135.7560428642921 ...     2          0\n",
       "     3  83.94487721758777  159.5619761735801 ...     3          0\n",
       "     4  91.74734950975652 221.98052378995942 ...     4          0\n",
       "     5 143.33064646883497 232.27740782564226 ...     5          0\n",
       "     6 222.90302824938135 260.15178055175033 ...     6          0\n",
       "     7 213.96269208922538 138.63847192770717 ...     7          0\n",
       "     8 210.87387019051536 158.69027331530378 ...     8          0\n",
       "     9  70.17202558627616 147.62269213882416 ...     9          0\n",
       "   ...                ...                ... ...   ...        ...\n",
       "     9 125.99585503467537  208.9531368453665 ...  1031          0\n",
       "    10 167.45833513935395 211.50318757123065 ...  1032          0\n",
       "    11 202.98418082106434 229.74702909037097 ...  1033          0\n",
       "    12  268.6558523119645  239.0432534435052 ...  1034          0\n",
       "    13 101.54125353481471 250.78640199664954 ...  1035          0\n",
       "    14 137.59077841273484  262.5520980011864 ...  1036          0\n",
       "    15 104.50718149676902   299.355520418219 ...  1037          0\n",
       "    16   92.7571898181905  302.9870903765893 ...  1038          0\n",
       "    17  139.8841651738395 309.83351774183615 ...  1039          0\n",
       "    18 180.60361577489982  316.7847128162686 ...  1040          0"
      ]
     },
     "execution_count": 40,
     "metadata": {},
     "output_type": "execute_result"
    }
   ],
   "source": [
    "Segcat25snr"
   ]
  },
  {
   "cell_type": "code",
   "execution_count": 41,
   "metadata": {},
   "outputs": [
    {
     "name": "stderr",
     "output_type": "stream",
     "text": [
      "WARNING: MergeConflictWarning: Cannot merge meta key 'DATE' types <class 'str'> and <class 'str'>, choosing DATE='2022-05-12 12:50:20 Central Daylight Time' [astropy.utils.metadata]\n",
      "WARNING: MergeConflictWarning: Cannot merge meta key 'DATE' types <class 'str'> and <class 'str'>, choosing DATE='2022-05-12 12:50:21 Central Daylight Time' [astropy.utils.metadata]\n",
      "WARNING: MergeConflictWarning: Cannot merge meta key 'DATE' types <class 'str'> and <class 'str'>, choosing DATE='2022-05-12 12:50:22 Central Daylight Time' [astropy.utils.metadata]\n",
      "WARNING: MergeConflictWarning: Cannot merge meta key 'DATE' types <class 'str'> and <class 'str'>, choosing DATE='2022-05-12 12:50:23 Central Daylight Time' [astropy.utils.metadata]\n",
      "WARNING: MergeConflictWarning: Cannot merge meta key 'DATE' types <class 'str'> and <class 'str'>, choosing DATE='2022-05-12 12:50:24 Central Daylight Time' [astropy.utils.metadata]\n",
      "WARNING: MergeConflictWarning: Cannot merge meta key 'DATE' types <class 'str'> and <class 'str'>, choosing DATE='2022-05-12 12:50:25 Central Daylight Time' [astropy.utils.metadata]\n",
      "WARNING: MergeConflictWarning: Cannot merge meta key 'DATE' types <class 'str'> and <class 'str'>, choosing DATE='2022-05-12 12:50:26 Central Daylight Time' [astropy.utils.metadata]\n",
      "WARNING: MergeConflictWarning: Cannot merge meta key 'DATE' types <class 'str'> and <class 'str'>, choosing DATE='2022-05-12 12:50:27 Central Daylight Time' [astropy.utils.metadata]\n",
      "WARNING: MergeConflictWarning: Cannot merge meta key 'DATE' types <class 'str'> and <class 'str'>, choosing DATE='2022-05-12 12:50:28 Central Daylight Time' [astropy.utils.metadata]\n",
      "WARNING: MergeConflictWarning: Cannot merge meta key 'DATE' types <class 'str'> and <class 'str'>, choosing DATE='2022-05-12 12:50:29 Central Daylight Time' [astropy.utils.metadata]\n",
      "WARNING: MergeConflictWarning: Cannot merge meta key 'DATE' types <class 'str'> and <class 'str'>, choosing DATE='2022-05-12 12:50:30 Central Daylight Time' [astropy.utils.metadata]\n",
      "WARNING: MergeConflictWarning: Cannot merge meta key 'DATE' types <class 'str'> and <class 'str'>, choosing DATE='2022-05-12 12:50:31 Central Daylight Time' [astropy.utils.metadata]\n",
      "WARNING: MergeConflictWarning: Cannot merge meta key 'DATE' types <class 'str'> and <class 'str'>, choosing DATE='2022-05-12 12:50:32 Central Daylight Time' [astropy.utils.metadata]\n",
      "WARNING: MergeConflictWarning: Cannot merge meta key 'DATE' types <class 'str'> and <class 'str'>, choosing DATE='2022-05-12 12:50:33 Central Daylight Time' [astropy.utils.metadata]\n",
      "WARNING: MergeConflictWarning: Cannot merge meta key 'DATE' types <class 'str'> and <class 'str'>, choosing DATE='2022-05-12 12:50:34 Central Daylight Time' [astropy.utils.metadata]\n",
      "WARNING: MergeConflictWarning: Cannot merge meta key 'DATE' types <class 'str'> and <class 'str'>, choosing DATE='2022-05-12 12:50:35 Central Daylight Time' [astropy.utils.metadata]\n",
      "WARNING: MergeConflictWarning: Cannot merge meta key 'DATE' types <class 'str'> and <class 'str'>, choosing DATE='2022-05-12 12:50:36 Central Daylight Time' [astropy.utils.metadata]\n",
      "WARNING: MergeConflictWarning: Cannot merge meta key 'DATE' types <class 'str'> and <class 'str'>, choosing DATE='2022-05-12 12:50:37 Central Daylight Time' [astropy.utils.metadata]\n",
      "WARNING: MergeConflictWarning: Cannot merge meta key 'DATE' types <class 'str'> and <class 'str'>, choosing DATE='2022-05-12 12:50:38 Central Daylight Time' [astropy.utils.metadata]\n",
      "WARNING: MergeConflictWarning: Cannot merge meta key 'DATE' types <class 'str'> and <class 'str'>, choosing DATE='2022-05-12 12:50:39 Central Daylight Time' [astropy.utils.metadata]\n",
      "WARNING: MergeConflictWarning: Cannot merge meta key 'DATE' types <class 'str'> and <class 'str'>, choosing DATE='2022-05-12 12:50:40 Central Daylight Time' [astropy.utils.metadata]\n",
      "WARNING: MergeConflictWarning: Cannot merge meta key 'DATE' types <class 'str'> and <class 'str'>, choosing DATE='2022-05-12 12:50:41 Central Daylight Time' [astropy.utils.metadata]\n",
      "WARNING: MergeConflictWarning: Cannot merge meta key 'DATE' types <class 'str'> and <class 'str'>, choosing DATE='2022-05-12 12:50:42 Central Daylight Time' [astropy.utils.metadata]\n",
      "WARNING: MergeConflictWarning: Cannot merge meta key 'DATE' types <class 'str'> and <class 'str'>, choosing DATE='2022-05-12 12:50:43 Central Daylight Time' [astropy.utils.metadata]\n",
      "WARNING: MergeConflictWarning: Cannot merge meta key 'DATE' types <class 'str'> and <class 'str'>, choosing DATE='2022-05-12 12:50:44 Central Daylight Time' [astropy.utils.metadata]\n",
      "WARNING: MergeConflictWarning: Cannot merge meta key 'DATE' types <class 'str'> and <class 'str'>, choosing DATE='2022-05-12 12:50:45 Central Daylight Time' [astropy.utils.metadata]\n",
      "WARNING: MergeConflictWarning: Cannot merge meta key 'DATE' types <class 'str'> and <class 'str'>, choosing DATE='2022-05-12 12:50:46 Central Daylight Time' [astropy.utils.metadata]\n",
      "WARNING: MergeConflictWarning: Cannot merge meta key 'DATE' types <class 'str'> and <class 'str'>, choosing DATE='2022-05-12 12:50:47 Central Daylight Time' [astropy.utils.metadata]\n",
      "WARNING: MergeConflictWarning: Cannot merge meta key 'DATE' types <class 'str'> and <class 'str'>, choosing DATE='2022-05-12 12:50:48 Central Daylight Time' [astropy.utils.metadata]\n",
      "C:\\Users\\MHANKI~1\\AppData\\Local\\Temp/ipykernel_25392/2402376784.py:15: DeprecationWarning: `np.int` is a deprecated alias for the builtin `int`. To silence this warning, use `int` by itself. Doing this will not modify any behavior and is safe. When replacing `np.int`, you may wish to use e.g. `np.int64` or `np.int32` to specify the precision. If you wish to review your current use, check the release note link for additional information.\n",
      "Deprecated in NumPy 1.20; for more details and guidance: https://numpy.org/devdocs/release/1.20.0-notes.html#deprecations\n",
      "  matchstore=np.zeros(len(cat),dtype=np.int)\n"
     ]
    },
    {
     "name": "stdout",
     "output_type": "stream",
     "text": [
      "number of likely duplicates:  282\n",
      "Number of 37 um Seg Catalog Sources after SNR cut:  920\n"
     ]
    }
   ],
   "source": [
    "#create combined field segment map source catalog at 37 um\n",
    "Segcat37=CombineFieldResults('segCat',37)\n",
    "\n",
    "#Remove duplications from overlapping fields\n",
    "SegCat37=remove_duplicates(Segcat37, 3.0*u.arcsec)\n",
    "\n",
    "#lets examine SNR cuts...\n",
    "snrcut4pix=SegCat37['aper_snr_4pix']>=5.0 #max snr in all computed apertures must be gtreq to 5\n",
    "Segcat37snr=SegCat37[snrcut4pix] #apply snr cut\n",
    "print(\"Number of 37 um Seg Catalog Sources after SNR cut: \", len(Segcat37snr))\n",
    "\n",
    "#write ds9 file\n",
    "makeDS9file('Segcat_4pixSNRselect_37m_NoLabel.reg', Segcat37snr, r, color='green')\n",
    "\n",
    "#write fits file\n",
    "Segcat37snr.write('SegCat_CombinedFields_snrcut.fits',overwrite=True)"
   ]
  },
  {
   "cell_type": "code",
   "execution_count": 42,
   "metadata": {
    "scrolled": true
   },
   "outputs": [
    {
     "data": {
      "text/html": [
       "<div><i>Table length=920</i>\n",
       "<table id=\"table1403876711536\" class=\"table-striped table-bordered table-condensed\">\n",
       "<thead><tr><th>old_id</th><th>xcentroid</th><th>ycentroid</th><th>background_centroid</th><th>background_mean</th><th>background_sum</th><th>area</th><th>semimajor_sigma_seg</th><th>semiminor_sigma_seg</th><th>orientation_seg</th><th>cxx</th><th>cxy</th><th>cyy</th><th>eccentricity</th><th>ellipticity</th><th>elongation</th><th>fwhm_seg</th><th>kron_flux</th><th>kron_fluxerr</th><th>kron_radius</th><th>segment_flux</th><th>segment_fluxerr</th><th>segbkg_mean_sc</th><th>segbkg_median_sc</th><th>segbkg_std_sc</th><th>segmentSNR</th><th>xcenter</th><th>ycenter</th><th>sky_center</th><th>aperture_sum_4pix</th><th>aperture_sum_err_4pix</th><th>aperture_sum_7pix</th><th>aperture_sum_err_7pix</th><th>aperture_sum_12pix</th><th>aperture_sum_err_12pix</th><th>pixAnnArea</th><th>ann_bkg_med</th><th>ann_bkg_mean</th><th>ann_bkg_std</th><th>texp_med</th><th>texp_mean</th><th>aper_sum_bkgsub_4pix</th><th>aper_snr_4pix</th><th>aper_area_4pix</th><th>aper_sum_bkgsub_7pix</th><th>aper_snr_7pix</th><th>aper_area_7pix</th><th>aper_sum_bkgsub_12pix</th><th>aper_snr_12pix</th><th>aper_area_12pix</th><th>Field</th><th>wv</th><th>fit_x_cent</th><th>fit_y_cent</th><th>fwhm</th><th>semimajor_sigma</th><th>semiminor_sigma</th><th>orientation</th><th>RA(J2000)</th><th>DEC(J2000)</th><th>sky_centroid</th><th>id</th><th>selfXmatch</th></tr></thead>\n",
       "<thead><tr><th></th><th></th><th></th><th></th><th></th><th></th><th>pix2</th><th>pix</th><th>pix</th><th>deg</th><th>1 / pix2</th><th>1 / pix2</th><th>1 / pix2</th><th></th><th></th><th></th><th>pix</th><th></th><th></th><th>pix</th><th></th><th></th><th></th><th></th><th></th><th></th><th>pix</th><th>pix</th><th>deg,deg</th><th></th><th></th><th></th><th></th><th></th><th></th><th></th><th></th><th></th><th></th><th></th><th></th><th></th><th></th><th></th><th></th><th></th><th></th><th></th><th></th><th></th><th></th><th></th><th></th><th></th><th>pix</th><th>pix</th><th>pix</th><th>deg</th><th>deg</th><th>deg</th><th>deg,deg</th><th></th><th></th></tr></thead>\n",
       "<thead><tr><th>int32</th><th>float64</th><th>float64</th><th>float64</th><th>float64</th><th>float64</th><th>float64</th><th>float64</th><th>float64</th><th>float64</th><th>float64</th><th>float64</th><th>float64</th><th>float64</th><th>float64</th><th>float64</th><th>float64</th><th>float64</th><th>float64</th><th>float64</th><th>float64</th><th>float64</th><th>float64</th><th>float64</th><th>float64</th><th>float64</th><th>float64</th><th>float64</th><th>object</th><th>float64</th><th>float64</th><th>float64</th><th>float64</th><th>float64</th><th>float64</th><th>float64</th><th>float64</th><th>float64</th><th>float64</th><th>float64</th><th>float64</th><th>float64</th><th>float64</th><th>float64</th><th>float64</th><th>float64</th><th>float64</th><th>float64</th><th>float64</th><th>float64</th><th>bytes7</th><th>int32</th><th>float64</th><th>float64</th><th>float64</th><th>float64</th><th>float64</th><th>float64</th><th>float64</th><th>float64</th><th>object</th><th>int64</th><th>int32</th></tr></thead>\n",
       "<tr><td>1</td><td>165.88124869656778</td><td>135.1457600413451</td><td>0.105157953693618</td><td>0.08381862214796677</td><td>0.6705489771837342</td><td>8.0</td><td>0.8769722412230371</td><td>0.6688080918264174</td><td>43.894949188395</td><td>1.7498989131658533</td><td>-0.9346646218817445</td><td>1.7859701379371873</td><td>0.6468312744319636</td><td>0.2373668624976215</td><td>1.3112464576021408</td><td>1.836446066762363</td><td>3.0502143518220093</td><td>0.218849915392413</td><td>3.5576433313609304</td><td>0.3180231434827696</td><td>0.05132055655121803</td><td>0.08380100852482836</td><td>0.08372312982837603</td><td>0.0017530802984467436</td><td>1.2440902422001605</td><td>165.88124869667803</td><td>135.14576004139107</td><td>266.32998730132323,-29.06066444114748</td><td>1.4361474202736453</td><td>0.13156885091446782</td><td>3.4240688268525985</td><td>0.2301722297471936</td><td>6.334599409822843</td><td>0.39444305527428686</td><td>842.3886494273573</td><td>-0.0004895834732235229</td><td>-0.0014007875371557087</td><td>0.015934638470782567</td><td>400.12127685546875</td><td>399.28152922907714</td><td>1.461923642823065</td><td>11.841245627924435</td><td>52.649290589209805</td><td>3.503008508410197</td><td>35.623862346703916</td><td>161.23845242945507</td><td>6.566585412767622</td><td>70.69985509181079</td><td>473.8436153028882</td><td>FieldA</td><td>37</td><td>4.6615991348491255</td><td>4.509769738878789</td><td>5.350586354743857</td><td>2.3200332857300094</td><td>2.223306826488856</td><td>47.27429070714086</td><td>266.32998730132323</td><td>-29.06066444114748</td><td>266.32998730132323,-29.06066444114748</td><td>1</td><td>0</td></tr>\n",
       "<tr><td>2</td><td>167.721005456061</td><td>139.46752245357496</td><td>0.10689638267581611</td><td>0.09481086211696702</td><td>0.6636760348187691</td><td>7.0</td><td>1.2340198435091818</td><td>0.5847190899471192</td><td>-21.821246697740367</td><td>0.970077048804135</td><td>1.5653987412335955</td><td>2.61146835817579</td><td>0.8806148239969739</td><td>0.5261671900798988</td><td>2.1104490424979696</td><td>2.273774403851281</td><td>3.4409512080472973</td><td>0.24859120479955898</td><td>3.6420654056456057</td><td>0.2440112566841834</td><td>0.04795633628964424</td><td>0.09331031030341473</td><td>0.09330699734645656</td><td>0.002666071464332059</td><td>0.9453907304634207</td><td>167.72100545600614</td><td>139.46752245360557</td><td>266.3295382816666,-29.05974246988601</td><td>1.5821418218562586</td><td>0.13160807260993931</td><td>3.6855860075505813</td><td>0.23030600062649667</td><td>5.754407922891304</td><td>0.39480453920049835</td><td>842.3886494273573</td><td>-0.0003286288233462775</td><td>-0.0012227842082075061</td><td>0.01675698505552631</td><td>400.12127685546875</td><td>399.59329539155095</td><td>1.599443896272607</td><td>13.359639770918713</td><td>52.649290589209805</td><td>3.738573610450648</td><td>38.38912912650552</td><td>161.23845242945507</td><td>5.910126592638439</td><td>57.47936235547718</td><td>473.8436153028882</td><td>FieldA</td><td>37</td><td>4.172936348945814</td><td>3.6415464483904443</td><td>5.739674384677733</td><td>2.550069670800815</td><td>2.3192954259942944</td><td>58.439418286752016</td><td>266.3295382816666</td><td>-29.05974246988601</td><td>266.3295382816666,-29.05974246988601</td><td>2</td><td>0</td></tr>\n",
       "<tr><td>3</td><td>67.73793200190819</td><td>155.70307950024414</td><td>-0.004177105834915287</td><td>0.05753259209647462</td><td>0.2876629604823731</td><td>5.0</td><td>1.1947068696746086</td><td>0.28650901315579624</td><td>-34.92444736022005</td><td>4.463697121268363</td><td>10.778709370165084</td><td>8.41904981103734</td><td>0.9708185263629986</td><td>0.7601846775738135</td><td>4.169875343589829</td><td>2.0457219908922264</td><td>1.5909675252212536</td><td>0.16593711753955537</td><td>3.669796436998084</td><td>0.17825671296046747</td><td>0.038993656635284424</td><td>0.05744722008810014</td><td>0.057584338725928705</td><td>0.0009692298268260398</td><td>0.8513567490894765</td><td>67.73793200190781</td><td>155.70307950024608</td><td>266.3539389621979,-29.056276463542673</td><td>1.2352390451360173</td><td>0.12658782278609668</td><td>2.7973793551533896</td><td>0.22149365661485018</td><td>4.10888436902588</td><td>0.379601231915448</td><td>842.3886494273573</td><td>0.0020685550457523044</td><td>0.00280309204057926</td><td>0.010891983435631221</td><td>400.12127685546875</td><td>397.4188100722395</td><td>1.126331089432428</td><td>9.99456523289057</td><td>52.649290589209805</td><td>2.4638487408111476</td><td>25.52751853807114</td><td>161.23845242945507</td><td>3.1287127676935764</td><td>26.196363318558735</td><td>473.8436153028882</td><td>FieldA</td><td>37</td><td>4.138058931540355</td><td>4.539406223758336</td><td>5.751382574891824</td><td>2.4499952534528773</td><td>2.434755576524403</td><td>73.55844543138383</td><td>266.3539389621979</td><td>-29.056276463542673</td><td>266.3539389621979,-29.056276463542673</td><td>3</td><td>0</td></tr>\n",
       "<tr><td>4</td><td>63.8481820611361</td><td>167.91592386149125</td><td>0.000335278478510568</td><td>0.0575216159085855</td><td>0.460172927268684</td><td>8.0</td><td>0.8665274113714866</td><td>0.6595690392788012</td><td>-43.227348611624826</td><td>1.7853416561909872</td><td>0.9650457582593389</td><td>1.845132319883869</td><td>0.6485600379038339</td><td>0.2388364976996219</td><td>1.3137781790348768</td><td>1.8132887080016231</td><td>1.9305950353764312</td><td>0.1958942948555809</td><td>3.357808221243836</td><td>0.3040010945118069</td><td>0.04924512282013893</td><td>0.05756906614481824</td><td>0.057691632167739884</td><td>0.0008564328714721329</td><td>1.2835326850916788</td><td>63.848182061157175</td><td>167.91592386148824</td><td>266.35488757938566,-29.053670873678552</td><td>1.0864350848477948</td><td>0.12639340531896248</td><td>2.162937648703254</td><td>0.22113932907136932</td><td>3.5635641772059623</td><td>0.37897314919893366</td><td>842.3886494273573</td><td>0.001993208361358732</td><td>0.0022143652446735907</td><td>0.012541459589258121</td><td>400.12127685546875</td><td>397.2522093896825</td><td>0.9814940786257762</td><td>6.99053394550048</td><td>52.649290589209805</td><td>1.8415558171483224</td><td>13.889932068833664</td><td>161.23845242945507</td><td>2.6190951212077955</td><td>16.89038352318623</td><td>473.8436153028882</td><td>FieldA</td><td>37</td><td>3.9757239920983807</td><td>3.5064049452571764</td><td>5.634586221129913</td><td>2.4528168701290056</td><td>2.3312148330271594</td><td>-60.309896919864705</td><td>266.35488757938566</td><td>-29.053670873678552</td><td>266.35488757938566,-29.053670873678552</td><td>4</td><td>0</td></tr>\n",
       "<tr><td>5</td><td>89.22009080709869</td><td>169.11843087024968</td><td>0.015304183625255659</td><td>0.07860085210941525</td><td>0.8646093732035678</td><td>11.0</td><td>1.251302634803822</td><td>0.652404219799168</td><td>-23.167024351116822</td><td>0.9034523929397433</td><td>1.2375422728324335</td><td>2.0846672527462693</td><td>0.8533245878398487</td><td>0.47861995839123983</td><td>1.9179867279046958</td><td>2.349745562306688</td><td>2.7436528848202837</td><td>0.23993700330539858</td><td>3.3868955637335323</td><td>0.43723811448449684</td><td>0.05869416519999504</td><td>0.07835706212762965</td><td>0.0782582698851505</td><td>0.0015684033973110013</td><td>1.5865868026073269</td><td>89.22009080711473</td><td>169.1184308702658</td><td>266.34869570918073,-29.053415414340137</td><td>1.3571888780362718</td><td>0.12836041322712446</td><td>2.3760671423812774</td><td>0.22467781887688223</td><td>2.5531090663700486</td><td>0.38525419821761864</td><td>842.3886494273573</td><td>-0.0007818177973804435</td><td>-0.0013566610841683623</td><td>0.011718353743974393</td><td>400.12127685546875</td><td>398.8154895624159</td><td>1.3983510304383706</td><td>13.7392095427383</td><td>52.649290589209805</td><td>2.5021262341127053</td><td>24.95675809753067</td><td>161.23845242945507</td><td>2.923568437988939</td><td>21.891565158426424</td><td>473.8436153028882</td><td>FieldA</td><td>37</td><td>3.7608298589315186</td><td>4.013405033555952</td><td>5.471413122206374</td><td>2.4294824893340627</td><td>2.2124364223677775</td><td>-30.987147480261246</td><td>266.34869570918073</td><td>-29.053415414340137</td><td>266.34869570918073,-29.053415414340137</td><td>5</td><td>0</td></tr>\n",
       "<tr><td>6</td><td>238.79411728444944</td><td>170.76845971845455</td><td>0.02638921810691239</td><td>0.0925184890978533</td><td>0.5551109345871198</td><td>6.0</td><td>0.7703084586579614</td><td>0.5645861237403841</td><td>44.06465956305889</td><td>2.3875300383969784</td><td>-1.4511328158491656</td><td>2.4349257003807043</td><td>0.6802985430449285</td><td>0.2670648784981392</td><td>1.3643772424916618</td><td>1.5902731195874538</td><td>3.511295685261139</td><td>0.20231199131416527</td><td>3.802854457935408</td><td>0.28291833081662776</td><td>0.04459637403488159</td><td>0.09135021128804918</td><td>0.09116636281544506</td><td>0.004205822924214018</td><td>1.070621566664215</td><td>238.79411728447616</td><td>170.76845971843105</td><td>266.3121934570579,-29.053063974948326</td><td>1.693585775653958</td><td>0.13209301531493065</td><td>4.240838615339721</td><td>0.23116872694317978</td><td>9.335090356203015</td><td>0.396336759921969</td><td>842.3886494273573</td><td>0.004968714303083703</td><td>0.006212327525460642</td><td>0.011019952120502864</td><td>400.12127685546875</td><td>398.6817964337386</td><td>1.4319864924561412</td><td>14.887092970176294</td><td>52.649290589209805</td><td>3.4396908105464057</td><td>42.79956738215877</td><td>161.23845242945507</td><td>6.980696807422663</td><td>93.67208020052527</td><td>473.8436153028882</td><td>FieldA</td><td>37</td><td>3.9476357927451984</td><td>4.073177830403475</td><td>5.860059426982286</td><td>2.5065383255176314</td><td>2.4704067446677085</td><td>17.808246337605397</td><td>266.3121934570579</td><td>-29.053063974948326</td><td>266.3121934570579,-29.053063974948326</td><td>6</td><td>0</td></tr>\n",
       "<tr><td>7</td><td>108.80058193296583</td><td>218.8511874261194</td><td>0.020985685447878624</td><td>0.09800301407986121</td><td>0.5880180844791673</td><td>6.0</td><td>0.7526539110018218</td><td>0.601368109008832</td><td>47.62996425558811</td><td>2.3110400901178503</td><td>-0.9956800744633206</td><td>2.219375947673096</td><td>0.601335200300667</td><td>0.20100314338580993</td><td>1.2515693794310732</td><td>1.604159270054147</td><td>2.5941358922475874</td><td>0.19876381261783369</td><td>3.7330351336097896</td><td>0.22944288461129453</td><td>0.0437442772090435</td><td>0.09808531010727578</td><td>0.09807574186024165</td><td>0.00032971032999126314</td><td>1.0730239700052813</td><td>108.80058193290219</td><td>218.8511874261266</td><td>266.34391565094484,-29.04280639574484</td><td>1.4115717154738951</td><td>0.12957660737577323</td><td>3.3783194728350434</td><td>0.22676733121635556</td><td>4.9615305727541354</td><td>0.3886723151082033</td><td>842.3886494273573</td><td>-0.00019441604318066942</td><td>-0.00047887218945176735</td><td>0.01430426814485289</td><td>400.12127685546875</td><td>398.34894028264944</td><td>1.4218075822265186</td><td>12.248678328399741</td><td>52.649290589209805</td><td>3.409666814764953</td><td>36.51895078011446</td><td>161.23845242945507</td><td>5.053653373527746</td><td>49.20720372716249</td><td>473.8436153028882</td><td>FieldA</td><td>37</td><td>3.975201615677801</td><td>4.277042389307311</td><td>5.737872325726664</td><td>2.6092723694671465</td><td>2.25082749398984</td><td>-28.824384259352406</td><td>266.34391565094484</td><td>-29.04280639574484</td><td>266.34391565094484,-29.04280639574484</td><td>7</td><td>0</td></tr>\n",
       "<tr><td>8</td><td>105.61464139054232</td><td>223.2812069399375</td><td>0.01649666590369353</td><td>0.09805813979322056</td><td>0.49029069896610283</td><td>5.0</td><td>0.7428052099830145</td><td>0.4553668635481094</td><td>-72.98257695275308</td><td>4.5647294114051995</td><td>1.6847836891772616</td><td>2.070208739953107</td><td>0.790054422049661</td><td>0.38696328804893254</td><td>1.631223677970888</td><td>1.4507665420030913</td><td>2.1713125175715255</td><td>0.1760255713499877</td><td>3.8319852234964786</td><td>0.222282590905113</td><td>0.03988763689994812</td><td>0.0980593255886346</td><td>0.09804569966577815</td><td>8.664685621593398e-05</td><td>1.106981840995833</td><td>105.6146413904526</td><td>223.28120693992747</td><td>266.3446929237156,-29.04186123308418</td><td>1.4088129456874183</td><td>0.12935301061042406</td><td>3.119711988445278</td><td>0.22634314857152574</td><td>5.0230338255773095</td><td>0.3879199641525689</td><td>842.3886494273573</td><td>-3.237566033281345e-05</td><td>0.001366424085079554</td><td>0.016528485058627137</td><td>400.12127685546875</td><td>398.8885323341099</td><td>1.4105175012362983</td><td>10.785556613705317</td><td>52.649290589209805</td><td>3.124932189813723</td><td>28.63179750066561</td><td>161.23845242945507</td><td>5.038374825517228</td><td>44.12857118710081</td><td>473.8436153028882</td><td>FieldA</td><td>37</td><td>4.603929621110673</td><td>3.7775370222300806</td><td>5.738062537398247</td><td>2.5272533498502336</td><td>2.342713066209622</td><td>62.700884267923236</td><td>266.3446929237156</td><td>-29.04186123308418</td><td>266.3446929237156,-29.04186123308418</td><td>8</td><td>0</td></tr>\n",
       "<tr><td>9</td><td>141.4683361559174</td><td>242.1430205965442</td><td>0.05360741218495563</td><td>0.10962621980184267</td><td>55.251614780128705</td><td>504.0</td><td>5.909204694342785</td><td>5.019721091775827</td><td>-17.162529503818863</td><td>0.029599977422859428</td><td>0.0062300350935440155</td><td>0.038724292503411056</td><td>0.5276290241173667</td><td>0.1505250957744807</td><td>1.1771978136443206</td><td>12.910374715271603</td><td>86.7535595207085</td><td>0.6159709680569433</td><td>1.419254247745604</td><td>73.57705917864968</td><td>0.4038142263889313</td><td>0.10154885123333918</td><td>0.10314459934692774</td><td>0.024224431483471354</td><td>20.717362845341626</td><td>141.4683361560318</td><td>242.14302059646997</td><td>266.3359438091984,-29.037838155353167</td><td>16.156660422903997</td><td>0.13053426336944915</td><td>41.78907605397727</td><td>0.22843035145035165</td><td>70.92995385058559</td><td>0.391581007985885</td><td>842.3886494273573</td><td>0.015194621241596023</td><td>0.01742502977859139</td><td>0.018230259880375</td><td>400.12127685546875</td><td>398.2536398569551</td><td>15.356674393762226</td><td>261.80904667824495</td><td>52.649290589209805</td><td>39.3391188397306</td><td>678.1628832261349</td><td>161.23845242945507</td><td>63.73007958830968</td><td>1097.3456788771662</td><td>473.8436153028882</td><td>FieldA</td><td>37</td><td>4.142475273390824</td><td>4.322523965418333</td><td>5.960157080135719</td><td>2.625671853074971</td><td>2.432741600294478</td><td>50.256020455544615</td><td>266.3359438091984</td><td>-29.037838155353167</td><td>266.3359438091984,-29.037838155353167</td><td>9</td><td>0</td></tr>\n",
       "<tr><td>...</td><td>...</td><td>...</td><td>...</td><td>...</td><td>...</td><td>...</td><td>...</td><td>...</td><td>...</td><td>...</td><td>...</td><td>...</td><td>...</td><td>...</td><td>...</td><td>...</td><td>...</td><td>...</td><td>...</td><td>...</td><td>...</td><td>...</td><td>...</td><td>...</td><td>...</td><td>...</td><td>...</td><td>...</td><td>...</td><td>...</td><td>...</td><td>...</td><td>...</td><td>...</td><td>...</td><td>...</td><td>...</td><td>...</td><td>...</td><td>...</td><td>...</td><td>...</td><td>...</td><td>...</td><td>...</td><td>...</td><td>...</td><td>...</td><td>...</td><td>...</td><td>...</td><td>...</td><td>...</td><td>...</td><td>...</td><td>...</td><td>...</td><td>...</td><td>...</td><td>...</td><td>...</td><td>...</td></tr>\n",
       "<tr><td>13</td><td>316.2342092547966</td><td>152.08195046811727</td><td>0.0022818316444042754</td><td>0.034525919136390026</td><td>3.0728068031387124</td><td>89.0</td><td>2.9206648865512075</td><td>2.5636633771929076</td><td>19.803622062039505</td><td>0.12123795771515877</td><td>-0.02226398015126395</td><td>0.14814355964850567</td><td>0.4790876960939774</td><td>0.12223295832472447</td><td>1.139254440553424</td><td>6.470969493884425</td><td>21.1982884404727</td><td>6.17827193903615</td><td>3.207828647599893</td><td>4.663116459560465</td><td>1.4329825331177415</td><td>0.034184197814192824</td><td>0.034234707224631344</td><td>0.0019851293266713293</td><td>3.675439809949539</td><td>316.2342092546843</td><td>152.08195046814023</td><td>266.01972830847285,-29.42298331287107</td><td>3.000335610463224</td><td>1.1012834710980437</td><td>7.121759350200632</td><td>1.9235887241393732</td><td>15.304753423357633</td><td>3.3401108839476406</td><td>842.3892863976475</td><td>0.00374860679412216</td><td>0.006451449731760608</td><td>0.013374533705550161</td><td>347.3763500000002</td><td>318.57955250808817</td><td>2.802973972820353</td><td>37.727848428312605</td><td>52.64933039985298</td><td>6.517339334919339</td><td>96.86050287736124</td><td>161.23857434954976</td><td>13.528498684571794</td><td>210.89102727728917</td><td>473.84397359867694</td><td>FieldN9</td><td>37</td><td>3.8663704183490193</td><td>4.051275315491783</td><td>5.683401403142176</td><td>2.5019653822983443</td><td>2.3217043163913056</td><td>58.26490072227616</td><td>266.01972830847285</td><td>-29.42298331287107</td><td>266.01972830847285,-29.42298331287107</td><td>1068</td><td>0</td></tr>\n",
       "<tr><td>14</td><td>308.9297808291428</td><td>158.41369353245358</td><td>0.002483133148920348</td><td>0.024223772765374924</td><td>0.9205033650842471</td><td>38.0</td><td>3.4691398167946508</td><td>0.9243468693550982</td><td>-68.29368001849645</td><td>1.0216588212703717</td><td>0.7472424887513717</td><td>0.23182115229302458</td><td>0.9638491751048335</td><td>0.7335515666217343</td><td>3.7530714191903014</td><td>5.978031571148489</td><td>8.572763986629893</td><td>3.8000172164058075</td><td>3.263211926605763</td><td>1.5346482460801338</td><td>0.8794462411937491</td><td>0.023880172899365483</td><td>0.024912205920638867</td><td>0.00588925165977023</td><td>1.4610809547840178</td><td>308.92978082905324</td><td>158.41369353246114</td><td>266.0215176696424,-29.42163288306562</td><td>1.7054885689167127</td><td>1.0351141563844255</td><td>4.030164824614847</td><td>1.813752716711289</td><td>8.885915551057646</td><td>3.1451765451406457</td><td>842.3892863976475</td><td>0.002247434001847556</td><td>0.0068788359964027535</td><td>0.015897795889301552</td><td>463.2528500000002</td><td>460.24256019156417</td><td>1.5871626736015771</td><td>13.753608057460234</td><td>52.64933039985298</td><td>3.667791770212243</td><td>38.62977418942243</td><td>161.23857434954976</td><td>7.8209824932214245</td><td>93.68434833204925</td><td>473.84397359867694</td><td>FieldN9</td><td>37</td><td>4.822676440157681</td><td>3.9415316338374873</td><td>5.603848666866085</td><td>2.7274463736069388</td><td>1.9716281620370957</td><td>-61.02079249126792</td><td>266.0215176696424</td><td>-29.42163288306562</td><td>266.0215176696424,-29.42163288306562</td><td>1069</td><td>0</td></tr>\n",
       "<tr><td>15</td><td>175.4818376417732</td><td>172.66404168908596</td><td>0.024794399029516617</td><td>0.026532190332926392</td><td>0.5571759969914543</td><td>21.0</td><td>1.5009487087131308</td><td>1.0446455827647254</td><td>17.714810354413885</td><td>0.48762671105982625</td><td>-0.273891249474504</td><td>0.8726074851599257</td><td>0.718051286495712</td><td>0.30400980613096784</td><td>1.4368018526826756</td><td>3.0449796485629776</td><td>2.8573984336380613</td><td>2.3825116336935355</td><td>3.114478305137542</td><td>0.6950888701209509</td><td>0.6316513405911816</td><td>0.026500333023431893</td><td>0.026550636375011573</td><td>0.001411106838461283</td><td>0.8547638278418838</td><td>175.4818376418138</td><td>172.66404168912632</td><td>266.05420166165914,-29.41859484749044</td><td>1.4388070716514616</td><td>1.0001265788647058</td><td>3.2306325098889213</td><td>1.750407823301732</td><td>5.1149086397868775</td><td>3.0007558441916413</td><td>842.3892863976475</td><td>-0.000661495766301437</td><td>-0.0014501285867318404</td><td>0.007726434001484554</td><td>557.6466500000002</td><td>556.377592034953</td><td>1.47363438080957</td><td>19.033351712426434</td><td>52.64933039985298</td><td>3.337291144185628</td><td>47.768002708756285</td><td>161.23857434954976</td><td>5.4283544222098525</td><td>76.28315149821104</td><td>473.84397359867694</td><td>FieldN9</td><td>37</td><td>3.825819102800761</td><td>4.93155360001187</td><td>5.534639232255246</td><td>2.4044343675912883</td><td>2.2949809293851504</td><td>-13.607952757977499</td><td>266.05420166165914</td><td>-29.41859484749044</td><td>266.05420166165914,-29.41859484749044</td><td>1070</td><td>0</td></tr>\n",
       "<tr><td>16</td><td>175.10246144699028</td><td>177.43969600728852</td><td>0.028204654005510713</td><td>0.026329458249955057</td><td>1.5271085784973932</td><td>58.0</td><td>2.905095403556061</td><td>1.7756712669802197</td><td>22.990033531001774</td><td>0.14879528354845178</td><td>-0.14286184637901922</td><td>0.2868514470941247</td><td>0.7914557333011147</td><td>0.38877350987968906</td><td>1.6360547459308654</td><td>5.6693454704368715</td><td>4.04655230117083</td><td>2.6297555954377954</td><td>1.896184232065472</td><td>1.8795432514231953</td><td>1.049521517252885</td><td>0.026503471443632545</td><td>0.026608837539141648</td><td>0.0016715732053230838</td><td>1.755377200163093</td><td>175.10246144702137</td><td>177.43969600732888</td><td>266.05429449512764,-29.417576035677982</td><td>1.5852270787824931</td><td>0.9998614137550338</td><td>3.7419750776140654</td><td>1.7496961267227369</td><td>4.648713840159168</td><td>2.999738579650358</td><td>842.3892863976475</td><td>-0.0007446136073257321</td><td>-0.0013508505340643097</td><td>0.008223142178307575</td><td>557.6466500000002</td><td>554.8786635490941</td><td>1.624430486614812</td><td>21.31698473359757</td><td>52.64933039985298</td><td>3.862035514100542</td><td>56.77862020473211</td><td>161.23857434954976</td><td>5.001544510650037</td><td>66.38371232773855</td><td>473.84397359867694</td><td>FieldN9</td><td>37</td><td>3.948902930790741</td><td>3.8428757629036405</td><td>5.936204907164425</td><td>2.587201364388629</td><td>2.4527539116220667</td><td>32.56437902272376</td><td>266.05429449512764</td><td>-29.417576035677982</td><td>266.05429449512764,-29.417576035677982</td><td>1071</td><td>0</td></tr>\n",
       "<tr><td>17</td><td>137.058024949201</td><td>199.21471553934916</td><td>0.012442915840867926</td><td>0.022046438904095536</td><td>3.1085478854774706</td><td>141.0</td><td>4.588813597262756</td><td>2.544566066568089</td><td>-73.81949822758166</td><td>0.14613908200421255</td><td>0.05724780377072742</td><td>0.05579512180611357</td><td>0.8321737149731154</td><td>0.445484979366795</td><td>1.803377659378987</td><td>8.736989568612348</td><td>15.314764492891689</td><td>5.309618210768038</td><td>2.547449136231744</td><td>5.7153016752162324</td><td>1.6345894734117576</td><td>0.02112836563199643</td><td>0.022214056093816915</td><td>0.003730809609625789</td><td>3.8881999776077047</td><td>137.05802494925172</td><td>199.21471553928595</td><td>266.06361121683733,-29.412929811914527</td><td>2.358285500624902</td><td>0.9987452153310473</td><td>6.0236938388955545</td><td>1.7477758123541367</td><td>11.237521357287891</td><td>2.9965606180614275</td><td>842.3892863976475</td><td>0.001005549595100793</td><td>0.0020112412392535952</td><td>0.009202699874642735</td><td>557.6466500000002</td><td>556.2247660729862</td><td>2.305343987759002</td><td>33.161631567672124</td><td>52.64933039985298</td><td>5.861560455743735</td><td>92.79878928260702</td><td>161.23857434954976</td><td>10.76104774149479</td><td>172.47999814267004</td><td>473.84397359867694</td><td>FieldN9</td><td>37</td><td>3.951996752190388</td><td>4.126230760192929</td><td>5.8847432131386705</td><td>2.571849687510475</td><td>2.4240038375296917</td><td>75.34052072441098</td><td>266.06361121683733</td><td>-29.412929811914527</td><td>266.06361121683733,-29.412929811914527</td><td>1072</td><td>0</td></tr>\n",
       "<tr><td>18</td><td>135.3311303350638</td><td>209.81647614606229</td><td>0.00524256480414414</td><td>0.018234951970594424</td><td>0.2917592315295108</td><td>16.0</td><td>2.2697455166198583</td><td>0.5981857060251595</td><td>21.9895782884069</td><td>0.558715112660506</td><td>-1.8058092222723814</td><td>2.430047184957411</td><td>0.9646464258861644</td><td>0.7364525222563332</td><td>3.794382737263858</td><td>3.9084234674124065</td><td>3.1138529179521144</td><td>2.3262916046544757</td><td>3.278532916886129</td><td>0.532291224669162</td><td>0.5495949812745405</td><td>0.018415939867104457</td><td>0.018373686200513765</td><td>0.0011578198487450923</td><td>0.7062024655924375</td><td>135.33113033518276</td><td>209.8164761460239</td><td>266.0640337370894,-29.410668047486627</td><td>1.4484169879603672</td><td>0.9967484590685163</td><td>4.064154465087023</td><td>1.7448727650866982</td><td>8.403598857096426</td><td>2.991387889153196</td><td>842.3892863976475</td><td>0.0012546359000332116</td><td>0.0028150420920871905</td><td>0.011516487881998523</td><td>557.6466500000002</td><td>555.6951397372552</td><td>1.3823612479280016</td><td>13.681867130233849</td><td>52.64933039985298</td><td>3.861858761237904</td><td>49.98668824449886</td><td>161.23857434954976</td><td>7.809097196805137</td><td>108.30704119500298</td><td>473.84397359867694</td><td>FieldN9</td><td>37</td><td>4.180303357980015</td><td>3.4329256495571383</td><td>5.94168277076557</td><td>2.5850252966431007</td><td>2.4598219989631485</td><td>-30.352061104870486</td><td>266.0640337370894</td><td>-29.410668047486627</td><td>266.0640337370894,-29.410668047486627</td><td>1073</td><td>0</td></tr>\n",
       "<tr><td>19</td><td>213.01906382160212</td><td>227.3256574598053</td><td>0.012968619033439734</td><td>0.02032909508530804</td><td>2.8054151217725094</td><td>138.0</td><td>4.065410041529597</td><td>2.3011557448839044</td><td>-50.76340007111679</td><td>0.1374985009698456</td><td>0.12575260921752038</td><td>0.11185258199493922</td><td>0.8243826668178605</td><td>0.43396712228857914</td><td>1.76668182958416</td><td>7.778551372795408</td><td>11.87657943212818</td><td>4.298901457170646</td><td>2.3228490830364996</td><td>6.264441417495236</td><td>1.605475966674146</td><td>0.020781200960819805</td><td>0.02175984181902959</td><td>0.0022043356126439533</td><td>4.533177271573067</td><td>213.01906382149804</td><td>227.3256574597328</td><td>266.0450084117407,-29.406933935765426</td><td>3.2066882484711505</td><td>0.9913523207706928</td><td>6.377795841757845</td><td>1.735178934028989</td><td>9.396319055133784</td><td>2.9727613158049015</td><td>842.3892863976475</td><td>0.0010783420549591888</td><td>0.0018137243530490263</td><td>0.008555065177088742</td><td>557.6466500000002</td><td>555.8250331629661</td><td>3.1499142613355477</td><td>49.977314725882074</td><td>52.64933039985298</td><td>6.203925506155062</td><td>100.42616596074947</td><td>161.23857434954976</td><td>8.885353170913358</td><td>139.28345809876825</td><td>473.84397359867694</td><td>FieldN9</td><td>37</td><td>4.111296983681322</td><td>4.204961751621583</td><td>5.557364453102185</td><td>2.4657887243261754</td><td>2.249231526288261</td><td>-55.55882835425378</td><td>266.0450084117407</td><td>-29.406933935765426</td><td>266.0450084117407,-29.406933935765426</td><td>1074</td><td>0</td></tr>\n",
       "<tr><td>20</td><td>221.60241046256027</td><td>221.0319306345009</td><td>0.019589532008821305</td><td>0.018840968630952838</td><td>0.16956871767857554</td><td>9.0</td><td>1.1043786265015183</td><td>0.560449988128557</td><td>-26.363356346261504</td><td>1.2860169785269373</td><td>1.880968928186888</td><td>2.7175459240750586</td><td>0.8616635773861088</td><td>0.49252006994741815</td><td>1.9705212773564982</td><td>2.0621531297597957</td><td>2.8242766506514423</td><td>1.810645346658333</td><td>3.8202367959844907</td><td>0.2790160783101657</td><td>0.4100670589517857</td><td>0.018842521465556896</td><td>0.01889358031470339</td><td>0.001244287895514571</td><td>0.42988392562251787</td><td>221.6024104626654</td><td>221.03193063451874</td><td>266.0429064284553,-29.40827656209453</td><td>1.1709215442453549</td><td>0.9924670241445733</td><td>3.308672585158616</td><td>1.734838467290106</td><td>7.6333542643497285</td><td>2.9729220317753318</td><td>842.3892863976475</td><td>-8.074053729197016e-07</td><td>-1.4105628964272538e-05</td><td>0.00753544467643006</td><td>557.6466500000002</td><td>554.5114160570529</td><td>1.1709640535976005</td><td>13.617652786308266</td><td>52.64933039985298</td><td>3.3088027700498674</td><td>47.62159833818125</td><td>161.23857434954976</td><td>7.633736848519939</td><td>119.03831557461648</td><td>473.84397359867694</td><td>FieldN9</td><td>37</td><td>3.532305601752961</td><td>4.043124658365418</td><td>5.76738163090362</td><td>2.710913887574838</td><td>2.1559048419829594</td><td>-37.960760459176</td><td>266.0429064284553</td><td>-29.40827656209453</td><td>266.0429064284553,-29.40827656209453</td><td>1075</td><td>0</td></tr>\n",
       "<tr><td>21</td><td>147.0610234055624</td><td>258.2743623399461</td><td>0.005525993309385543</td><td>0.013454296935153062</td><td>0.7803492222388776</td><td>58.0</td><td>2.6485306398381</td><td>1.679017830922233</td><td>-33.43332707730209</td><td>0.20696325913916297</td><td>0.19510595760010066</td><td>0.29031724499432365</td><td>0.7733796576738199</td><td>0.3660568597292616</td><td>1.577428536529206</td><td>5.221601837434601</td><td>7.905836688363433</td><td>3.765504300391175</td><td>2.9677205325081</td><td>2.3461614376644255</td><td>1.0339196466013079</td><td>0.01327934065189175</td><td>0.01327886539284678</td><td>0.00036051424940748114</td><td>2.2843716635274767</td><td>147.06102340552076</td><td>258.27436233999646</td><td>266.061159627194,-29.40033071708305</td><td>2.2324261801517435</td><td>0.9852554822017054</td><td>5.18590271653394</td><td>1.7240618365172589</td><td>8.743461817843167</td><td>2.954906638059294</td><td>842.3892863976475</td><td>0.00036758521105041816</td><td>0.0007672926989616563</td><td>0.007550536288552662</td><td>557.6466500000002</td><td>556.7258549996114</td><td>2.2130730649250503</td><td>33.3594144793149</td><td>52.64933039985298</td><td>5.126633801152192</td><td>82.10600377720768</td><td>161.23857434954976</td><td>8.56928378080293</td><td>136.63691835682422</td><td>473.84397359867694</td><td>FieldN9</td><td>37</td><td>4.263762807466023</td><td>4.4995433260825</td><td>5.739439314886548</td><td>2.460909061847216</td><td>2.4134912365274888</td><td>17.557643112150366</td><td>266.061159627194</td><td>-29.40033071708305</td><td>266.061159627194,-29.40033071708305</td><td>1076</td><td>0</td></tr>\n",
       "<tr><td>22</td><td>149.00145255781746</td><td>263.1465487824336</td><td>0.004814936912074815</td><td>0.012454386379569488</td><td>0.6227193189784744</td><td>50.0</td><td>2.8062926564960975</td><td>1.3422408961193377</td><td>-44.12999982175319</td><td>0.33452015167705285</td><td>0.42788187223916</td><td>0.34751837911594996</td><td>0.8781982335903492</td><td>0.5217031648455215</td><td>2.0907518647432064</td><td>5.179771575758694</td><td>6.899162851101639</td><td>3.4746748056031818</td><td>2.9766981217517694</td><td>2.028886626522074</td><td>0.9585734722489982</td><td>0.012275863967555332</td><td>0.01242348547983942</td><td>0.001039000652834515</td><td>2.0182946529387498</td><td>149.00145255784</td><td>263.1465487824519</td><td>266.0606843265714,-29.39929136957136</td><td>2.1731287509611033</td><td>0.9836616115596534</td><td>4.97588198824124</td><td>1.7214860646822432</td><td>8.79618597326434</td><td>2.9508296632102775</td><td>842.3892863976475</td><td>0.0001699397088695992</td><td>0.00018433943182174562</td><td>0.007735707542763148</td><td>557.6466500000002</td><td>556.3777367669587</td><td>2.164181539080773</td><td>32.20715325006342</td><td>52.64933039985298</td><td>4.948481151857728</td><td>78.40724150165094</td><td>161.23857434954976</td><td>8.715661066341367</td><td>138.78897778199524</td><td>473.84397359867694</td><td>FieldN9</td><td>37</td><td>3.6964578070007015</td><td>3.5773147651739428</td><td>5.797358551304407</td><td>2.494630970370832</td><td>2.428751283632393</td><td>69.74570343456311</td><td>266.0606843265714</td><td>-29.39929136957136</td><td>266.0606843265714,-29.39929136957136</td><td>1077</td><td>0</td></tr>\n",
       "</table></div>"
      ],
      "text/plain": [
       "<Table length=920>\n",
       "old_id     xcentroid          ycentroid      ...   id  selfXmatch\n",
       "                                             ...                 \n",
       "int32       float64            float64       ... int64   int32   \n",
       "------ ------------------ ------------------ ... ----- ----------\n",
       "     1 165.88124869656778  135.1457600413451 ...     1          0\n",
       "     2   167.721005456061 139.46752245357496 ...     2          0\n",
       "     3  67.73793200190819 155.70307950024414 ...     3          0\n",
       "     4   63.8481820611361 167.91592386149125 ...     4          0\n",
       "     5  89.22009080709869 169.11843087024968 ...     5          0\n",
       "     6 238.79411728444944 170.76845971845455 ...     6          0\n",
       "     7 108.80058193296583  218.8511874261194 ...     7          0\n",
       "     8 105.61464139054232  223.2812069399375 ...     8          0\n",
       "     9  141.4683361559174  242.1430205965442 ...     9          0\n",
       "   ...                ...                ... ...   ...        ...\n",
       "    13  316.2342092547966 152.08195046811727 ...  1068          0\n",
       "    14  308.9297808291428 158.41369353245358 ...  1069          0\n",
       "    15  175.4818376417732 172.66404168908596 ...  1070          0\n",
       "    16 175.10246144699028 177.43969600728852 ...  1071          0\n",
       "    17   137.058024949201 199.21471553934916 ...  1072          0\n",
       "    18  135.3311303350638 209.81647614606229 ...  1073          0\n",
       "    19 213.01906382160212  227.3256574598053 ...  1074          0\n",
       "    20 221.60241046256027  221.0319306345009 ...  1075          0\n",
       "    21  147.0610234055624  258.2743623399461 ...  1076          0\n",
       "    22 149.00145255781746  263.1465487824336 ...  1077          0"
      ]
     },
     "execution_count": 42,
     "metadata": {},
     "output_type": "execute_result"
    }
   ],
   "source": [
    "Segcat37snr"
   ]
  },
  {
   "cell_type": "code",
   "execution_count": null,
   "metadata": {},
   "outputs": [],
   "source": []
  },
  {
   "cell_type": "code",
   "execution_count": null,
   "metadata": {},
   "outputs": [],
   "source": []
  },
  {
   "cell_type": "markdown",
   "metadata": {},
   "source": [
    "## testing..."
   ]
  },
  {
   "cell_type": "code",
   "execution_count": null,
   "metadata": {},
   "outputs": [],
   "source": []
  },
  {
   "cell_type": "code",
   "execution_count": 66,
   "metadata": {},
   "outputs": [
    {
     "data": {
      "text/plain": [
       "6.0680694089549565"
      ]
     },
     "execution_count": 66,
     "metadata": {},
     "output_type": "execute_result"
    }
   ],
   "source": [
    "np.max(Segcat25['fwhm'])"
   ]
  },
  {
   "cell_type": "code",
   "execution_count": 67,
   "metadata": {},
   "outputs": [
    {
     "data": {
      "text/plain": [
       "3.0486507818268596"
      ]
     },
     "execution_count": 67,
     "metadata": {},
     "output_type": "execute_result"
    }
   ],
   "source": [
    "np.min(Segcat25['fwhm'])"
   ]
  },
  {
   "cell_type": "code",
   "execution_count": 68,
   "metadata": {},
   "outputs": [
    {
     "data": {
      "text/plain": [
       "5.457743928773992"
      ]
     },
     "execution_count": 68,
     "metadata": {},
     "output_type": "execute_result"
    }
   ],
   "source": [
    "np.mean(Segcat25['fwhm'])"
   ]
  },
  {
   "cell_type": "code",
   "execution_count": 69,
   "metadata": {},
   "outputs": [
    {
     "data": {
      "text/plain": [
       "0.42717443772804187"
      ]
     },
     "execution_count": 69,
     "metadata": {},
     "output_type": "execute_result"
    }
   ],
   "source": [
    "np.std(Segcat25['fwhm'])"
   ]
  },
  {
   "cell_type": "code",
   "execution_count": null,
   "metadata": {},
   "outputs": [],
   "source": []
  },
  {
   "cell_type": "code",
   "execution_count": 70,
   "metadata": {},
   "outputs": [
    {
     "data": {
      "text/plain": [
       "4.871949935807235"
      ]
     },
     "execution_count": 70,
     "metadata": {},
     "output_type": "execute_result"
    }
   ],
   "source": [
    "np.mean(Segcat25['fwhm_seg'])"
   ]
  },
  {
   "cell_type": "code",
   "execution_count": 71,
   "metadata": {},
   "outputs": [
    {
     "data": {
      "text/plain": [
       "2.880269379660212"
      ]
     },
     "execution_count": 71,
     "metadata": {},
     "output_type": "execute_result"
    }
   ],
   "source": [
    "np.std(Segcat25['fwhm_seg'])"
   ]
  },
  {
   "cell_type": "code",
   "execution_count": null,
   "metadata": {},
   "outputs": [],
   "source": []
  },
  {
   "cell_type": "code",
   "execution_count": 45,
   "metadata": {},
   "outputs": [
    {
     "data": {
      "image/png": "[encoded data removed]",
      "text/plain": [
       "<Figure size 864x504 with 1 Axes>"
      ]
     },
     "metadata": {
      "needs_background": "light"
     },
     "output_type": "display_data"
    }
   ],
   "source": [
    "#now lets look at SNR distrobution\n",
    "binlist=np.linspace(1,10,20)\n",
    "\n",
    "plt.figure(figsize=(12,7))\n",
    "plt.title('Histogram of FWHM for Seg sources at 25um')\n",
    "plt.hist(Segcat25['fwhm'],bins=binlist,label='ShapePar')\n",
    "plt.hist(Segcat25['fwhm_seg'],bins=binlist,label='Segment')\n",
    "plt.legend()\n",
    "plt.xlabel('FWHM of Source')\n",
    "plt.ylabel('Number of Sources')\n",
    "#plt.xlim(0,25)\n",
    "plt.show()"
   ]
  },
  {
   "cell_type": "code",
   "execution_count": null,
   "metadata": {},
   "outputs": [],
   "source": []
  },
  {
   "cell_type": "code",
   "execution_count": 46,
   "metadata": {},
   "outputs": [],
   "source": [
    "xmatch=mcat25snrcut['type']=='C'\n",
    "segonly=mcat25snrcut['type']=='S'\n",
    "daoonly=mcat25snrcut['type']=='D'"
   ]
  },
  {
   "cell_type": "code",
   "execution_count": 47,
   "metadata": {},
   "outputs": [],
   "source": [
    "xmatch25=mcat25snrcut[xmatch]\n",
    "seg25=mcat25snrcut[segonly]\n",
    "dao25=mcat25snrcut[daoonly]"
   ]
  },
  {
   "cell_type": "code",
   "execution_count": 48,
   "metadata": {},
   "outputs": [
    {
     "data": {
      "image/png": "[encoded data removed]",
      "text/plain": [
       "<Figure size 864x504 with 1 Axes>"
      ]
     },
     "metadata": {
      "needs_background": "light"
     },
     "output_type": "display_data"
    }
   ],
   "source": [
    "#now lets look at SNR distrobution\n",
    "binlist=np.linspace(1,8,25)\n",
    "\n",
    "plt.figure(figsize=(12,7))\n",
    "plt.title('Histogram of FWHM for all sources at 25um')\n",
    "plt.hist(seg25['fwhm'],bins=binlist,label='Seg')\n",
    "plt.hist(dao25['fwhm'],bins=binlist,label='dao')\n",
    "plt.hist(xmatch25['fwhm'],bins=binlist,label='both')\n",
    "plt.legend()\n",
    "plt.xlabel('FWHM of Source')\n",
    "plt.ylabel('Number of Sources')\n",
    "#plt.xlim(0,25)\n",
    "plt.show()"
   ]
  },
  {
   "cell_type": "code",
   "execution_count": null,
   "metadata": {},
   "outputs": [],
   "source": []
  }
 ],
 "metadata": {
  "kernelspec": {
   "display_name": "Python 3 (ipykernel)",
   "language": "python",
   "name": "python3"
  },
  "language_info": {
   "codemirror_mode": {
    "name": "ipython",
    "version": 3
   },
   "file_extension": ".py",
   "mimetype": "text/x-python",
   "name": "python",
   "nbconvert_exporter": "python",
   "pygments_lexer": "ipython3",
   "version": "3.9.7"
  }
 },
 "nbformat": 4,
 "nbformat_minor": 4
}
