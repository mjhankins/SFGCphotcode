{
 "cells": [
  {
   "cell_type": "markdown",
   "id": "98086c5f",
   "metadata": {},
   "source": [
    "# SOFIA/FORCAST Galactic Center Catalog - Prep for IRSA Ingestion"
   ]
  },
  {
   "cell_type": "markdown",
   "id": "78900bbf",
   "metadata": {},
   "source": [
    "## IRSA Gator has formatting rules for column names data values that require we make a few changes to the table columns used in the previous notebooks. This notebook adapts our catalog to those conventions (see https://irsa.ipac.caltech.edu/applications/DDGEN/Doc/ipac_tbl.html)"
   ]
  },
  {
   "cell_type": "code",
   "execution_count": 1,
   "id": "04b7dc2e",
   "metadata": {},
   "outputs": [],
   "source": [
    "import os\n",
    "import numpy as np\n",
    "from astropy.io import fits,ascii\n",
    "from astropy.table import join, vstack, Table"
   ]
  },
  {
   "cell_type": "code",
   "execution_count": 2,
   "id": "ce71c88f",
   "metadata": {},
   "outputs": [],
   "source": [
    "#import configuration for selected file\n",
    "#from config import wavelength, segdetsig, finddetsig, bkgbox #import additional common paramters\n",
    "from config import dpath, dpathalt, ds9path #import additional common paramters\n",
    "\n",
    "from config import *"
   ]
  },
  {
   "cell_type": "code",
   "execution_count": 3,
   "id": "47f68797",
   "metadata": {},
   "outputs": [],
   "source": [
    "#change directory to where data is\n",
    "try:\n",
    "    os.chdir(dpath)\n",
    "except:\n",
    "    os.chdir(dpathalt)"
   ]
  },
  {
   "cell_type": "code",
   "execution_count": 4,
   "id": "b28d029e",
   "metadata": {},
   "outputs": [],
   "source": [
    "#Read in the step 4 catalog \n",
    "mcatComb=Table.read('masterCat_combined_step4.fits')"
   ]
  },
  {
   "cell_type": "code",
   "execution_count": 6,
   "id": "9bef2525",
   "metadata": {},
   "outputs": [],
   "source": [
    "#Optional- print current column names for table\n",
    "mcatComb.colnames;"
   ]
  },
  {
   "cell_type": "code",
   "execution_count": 7,
   "id": "97923911",
   "metadata": {},
   "outputs": [],
   "source": [
    "#construct new table with IRSA suitable column names\n",
    "t1=Table()\n",
    "\n",
    "t1['SourceID']=mcatComb['SourceID']\n",
    "t1['ra']=np.round(mcatComb['skycoords'].ra.deg,6)\n",
    "t1['dec']=np.round(mcatComb['skycoords'].dec.deg,6)\n",
    "t1['BestModel_25']=mcatComb['25BestModel']\n",
    "t1['_25um_Flux_4pix']=mcatComb['25um_Flux_4pix'].astype(np.float32)\n",
    "t1['_25um_Flux_4pix_err']=mcatComb['25um_Flux_4pix_err'].astype(np.float32)\n",
    "t1['_25um_SNR_4pix']=mcatComb['25um_SNR_4pix'].astype(np.float32)\n",
    "t1['_25um_Flux_8pix']=mcatComb['25um_Flux_8pix'].astype(np.float32)\n",
    "t1['_25um_Flux_8pix_err']=mcatComb['25um_Flux_8pix_err'].astype(np.float32)\n",
    "t1['_25um_SNR_8pix']=mcatComb['25um_SNR_8pix'].astype(np.float32)\n",
    "t1['_25um_Flux_12pix']=mcatComb['25um_Flux_12pix'].astype(np.float32)\n",
    "t1['_25um_Flux_12pix_err']=mcatComb['25um_Flux_12pix_err'].astype(np.float32)\n",
    "t1['_25um_SNR_12pix']=mcatComb['25um_SNR_12pix'].astype(np.float32)\n",
    "t1['_25ApRatio8_4']=mcatComb['25ApRatio8_4'].astype(np.float32)\n",
    "t1['_25ApRatio12_8']=mcatComb['25ApRatio12_8'].astype(np.float32)\n",
    "t1['_25um_Flux_M2D']=mcatComb['25um_Flux_M2D'].astype(np.float32)\n",
    "t1['_25um_Flux_M2D_err']=mcatComb['25um_Flux_M2D_err'].astype(np.float32)\n",
    "t1['_25um_SNR_M2D']=mcatComb['25um_SNR_M2D'].astype(np.float32)\n",
    "t1['_25um_M2D_chi2']=mcatComb['25um_M2D_chi2'].astype(np.float32)\n",
    "t1['M2D25_qflag']=mcatComb['M2D25_qflag'] #M2D25_qflag\n",
    "t1['_25um_Flux_G2D']=mcatComb['25um_Flux_G2D'].astype(np.float32)\n",
    "t1['_25um_Flux_G2D_err']=mcatComb['25um_Flux_G2D_err'].astype(np.float32)\n",
    "t1['_25um_SNR_G2D']=mcatComb['25um_SNR_G2D'].astype(np.float32)\n",
    "t1['_25um_G2D_chi2']=mcatComb['25um_G2D_chi2'].astype(np.float32)\n",
    "t1['G2D25_qflag']=mcatComb['G2D25_qflag'] #G2D25_qflag\n",
    "t1['fwhm25']=mcatComb['fwhm25'] .astype(np.float32)\n",
    "t1['fwhm25err']=mcatComb['fwhm25err'] .astype(np.float32)\n",
    "t1['elong25']=mcatComb['elong25'].astype(np.float32)\n",
    "t1['ErrCalF25']=mcatComb['ErrCalF25'].astype(np.float32)\n",
    "t1['vExtFlag25']=mcatComb['vExtFlag25']\n",
    "t1['bkg_qflag25']=mcatComb['bkg_qflag25']\n",
    "t1['edge_flag25']=mcatComb['edge_flag25']\n",
    "\n",
    "t1['cutout25']=mcatComb['cutout25'].astype(np.float32)\n",
    "t1['M2Dresid25']=mcatComb['M2Dresid25'].astype(np.float32)\n",
    "t1['G2Dresid25']=mcatComb['G2Dresid25'].astype(np.float32)\n",
    "\n",
    "t1['BestModel_37']=mcatComb['37BestModel']\n",
    "t1['_37um_Flux_5_5pix']=mcatComb['37um_Flux_5.5pix'].astype(np.float32)\n",
    "t1['_37um_Flux_5_5pix_err']=mcatComb['37um_Flux_5.5pix_err'].astype(np.float32)\n",
    "t1['_37um_SNR_5_5pix']=mcatComb['37um_SNR_5.5pix'].astype(np.float32)\n",
    "t1['_37um_Flux_10_5pix']=mcatComb['37um_Flux_10.5pix'].astype(np.float32)\n",
    "t1['_37um_Flux_10_5pix_err']=mcatComb['37um_Flux_10.5pix_err'].astype(np.float32)\n",
    "t1['_37um_SNR_10_5pix']=mcatComb['37um_SNR_10.5pix'].astype(np.float32)\n",
    "t1['_37um_Flux_14pix']=mcatComb['37um_Flux_14pix'].astype(np.float32)\n",
    "t1['_37um_Flux_14pix_err']=mcatComb['37um_Flux_14pix_err'].astype(np.float32)\n",
    "t1['_37um_SNR_14pix']=mcatComb['37um_SNR_14pix'].astype(np.float32)\n",
    "t1['_37ApRatio10_5']=mcatComb['37ApRatio10.5_5.5'].astype(np.float32)\n",
    "t1['_37ApRatio14_10']=mcatComb['37ApRatio14_10.5'].astype(np.float32)\n",
    "\n",
    "t1['_37um_Flux_M2D']=mcatComb['37um_Flux_M2D'].astype(np.float32)\n",
    "t1['_37um_Flux_M2D_err']=mcatComb['37um_Flux_M2D_err'].astype(np.float32)\n",
    "t1['_37um_SNR_M2D']=mcatComb['37um_SNR_M2D'].astype(np.float32)\n",
    "t1['_37um_M2D_chi2']=mcatComb['37um_M2D_chi2'].astype(np.float32)\n",
    "t1['M2D37_qflag']=mcatComb['M2D37_qflag'].astype(np.float32)\n",
    "t1['_37um_Flux_G2D']=mcatComb['37um_Flux_G2D'].astype(np.float32)\n",
    "t1['_37um_Flux_G2D_err']=mcatComb['37um_Flux_G2D_err'].astype(np.float32)\n",
    "t1['_37um_SNR_G2D']=mcatComb['37um_SNR_G2D'].astype(np.float32)\n",
    "t1['_37um_G2D_chi2']=mcatComb['37um_G2D_chi2'].astype(np.float32)\n",
    "t1['G2D37_qflag']=mcatComb['G2D37_qflag'].astype(np.float32)\n",
    "\n",
    "t1['fwhm37']=mcatComb['fwhm37'].astype(np.float32)\n",
    "t1['fwhm37err']=mcatComb['fwhm37err'].astype(np.float32)\n",
    "t1['elong37']=mcatComb['elong37'].astype(np.float32)\n",
    "t1['vExtFlag37']=mcatComb['vExtFlag37']\n",
    "t1['bkg_qflag37']=mcatComb['bkg_qflag37']\n",
    "t1['edge_flag37']=mcatComb['edge_flag37']\n",
    "t1['ErrCalF37']=mcatComb['ErrCalF37']\n",
    "\n",
    "t1['cutout37']=mcatComb['cutout37']\n",
    "t1['M2Dresid37']=mcatComb['M2Dresid37']\n",
    "t1['G2Dresid37']=mcatComb['G2Dresid37']\n",
    "                           \n",
    "t1['FieldID']=mcatComb['FieldID']\n",
    "t1['SID25']=mcatComb['SID25']\n",
    "t1['SID37']=mcatComb['SID37']\n",
    "t1['Found25']=mcatComb['Found25']\n",
    "t1['Found37']=mcatComb['Found37']\n",
    "t1['Matched']=mcatComb['Matched']\n",
    "t1['F25_F37_sep']=mcatComb['F25_F37_sep']\n",
    "t1['_25ApPhot_qflag']=mcatComb['25ApPhot_qflag']\n",
    "t1['_25Ap_4pix_UL']=mcatComb['25Ap_4pix_UL']\n",
    "t1['_25Ap_8pix_UL']=mcatComb['25Ap_8pix_UL']\n",
    "t1['_25Ap_12pix_UL']=mcatComb['25Ap_12pix_UL']\n",
    "t1['_37ApPhot_qflag']=mcatComb['37ApPhot_qflag']\n",
    "t1['_37Ap_5_5pix_UL']=mcatComb['37Ap_5.5pix_UL']\n",
    "t1['_37Ap_10_5pix_UL']=mcatComb['37Ap_10.5pix_UL']\n",
    "t1['_37Ap_14pix_UL']=mcatComb['37Ap_14pix_UL']\n",
    "t1['SSTGCxmatch']=mcatComb['SSTGCxmatch']\n",
    "t1['SSTGCd2d']=mcatComb['SSTGCd2d']\n",
    "t1['tau_9_6'] = mcatComb['tau_9.6']\n",
    "t1['tau_distance'] = mcatComb['tau_distance']"
   ]
  },
  {
   "cell_type": "code",
   "execution_count": 8,
   "id": "d91e088a",
   "metadata": {
    "scrolled": true
   },
   "outputs": [
    {
     "data": {
      "text/html": [
       "<div><i>Table length=950</i>\n",
       "<table id=\"table1356348888112\" class=\"table-striped table-bordered table-condensed\">\n",
       "<thead><tr><th>SourceID</th><th>ra</th><th>dec</th><th>BestModel_25</th><th>_25um_Flux_4pix</th><th>_25um_Flux_4pix_err</th><th>_25um_SNR_4pix</th><th>_25um_Flux_8pix</th><th>_25um_Flux_8pix_err</th><th>_25um_SNR_8pix</th><th>_25um_Flux_12pix</th><th>_25um_Flux_12pix_err</th><th>_25um_SNR_12pix</th><th>_25ApRatio8_4</th><th>_25ApRatio12_8</th><th>_25um_Flux_M2D</th><th>_25um_Flux_M2D_err</th><th>_25um_SNR_M2D</th><th>_25um_M2D_chi2</th><th>M2D25_qflag</th><th>_25um_Flux_G2D</th><th>_25um_Flux_G2D_err</th><th>_25um_SNR_G2D</th><th>_25um_G2D_chi2</th><th>G2D25_qflag</th><th>fwhm25</th><th>fwhm25err</th><th>elong25</th><th>ErrCalF25</th><th>vExtFlag25</th><th>bkg_qflag25</th><th>edge_flag25</th><th>cutout25 [25,25]</th><th>M2Dresid25 [17,17]</th><th>G2Dresid25 [17,17]</th><th>BestModel_37</th><th>_37um_Flux_5_5pix</th><th>_37um_Flux_5_5pix_err</th><th>_37um_SNR_5_5pix</th><th>_37um_Flux_10_5pix</th><th>_37um_Flux_10_5pix_err</th><th>_37um_SNR_10_5pix</th><th>_37um_Flux_14pix</th><th>_37um_Flux_14pix_err</th><th>_37um_SNR_14pix</th><th>_37ApRatio10_5</th><th>_37ApRatio14_10</th><th>_37um_Flux_M2D</th><th>_37um_Flux_M2D_err</th><th>_37um_SNR_M2D</th><th>_37um_M2D_chi2</th><th>M2D37_qflag</th><th>_37um_Flux_G2D</th><th>_37um_Flux_G2D_err</th><th>_37um_SNR_G2D</th><th>_37um_G2D_chi2</th><th>G2D37_qflag</th><th>fwhm37</th><th>fwhm37err</th><th>elong37</th><th>vExtFlag37</th><th>bkg_qflag37</th><th>edge_flag37</th><th>ErrCalF37</th><th>cutout37 [31,31]</th><th>M2Dresid37 [17,17]</th><th>G2Dresid37 [17,17]</th><th>FieldID</th><th>SID25</th><th>SID37</th><th>Found25</th><th>Found37</th><th>Matched</th><th>F25_F37_sep</th><th>_25ApPhot_qflag</th><th>_25Ap_4pix_UL</th><th>_25Ap_8pix_UL</th><th>_25Ap_12pix_UL</th><th>_37ApPhot_qflag</th><th>_37Ap_5_5pix_UL</th><th>_37Ap_10_5pix_UL</th><th>_37Ap_14pix_UL</th><th>SSTGCxmatch</th><th>SSTGCd2d</th><th>tau_9_6</th><th>tau_distance</th></tr></thead>\n",
       "<thead><tr><th></th><th></th><th></th><th></th><th></th><th></th><th></th><th></th><th></th><th></th><th></th><th></th><th></th><th></th><th></th><th></th><th></th><th></th><th></th><th></th><th></th><th></th><th></th><th></th><th></th><th></th><th></th><th></th><th></th><th></th><th></th><th></th><th></th><th></th><th></th><th></th><th></th><th></th><th></th><th></th><th></th><th></th><th></th><th></th><th></th><th></th><th></th><th></th><th></th><th></th><th></th><th></th><th></th><th></th><th></th><th></th><th></th><th></th><th></th><th></th><th></th><th></th><th></th><th></th><th></th><th></th><th></th><th></th><th></th><th></th><th></th><th></th><th></th><th></th><th></th><th></th><th></th><th></th><th></th><th></th><th></th><th></th><th></th><th></th><th></th><th>arcsec</th></tr></thead>\n",
       "<thead><tr><th>bytes18</th><th>float64</th><th>float64</th><th>bytes1</th><th>float32</th><th>float32</th><th>float32</th><th>float32</th><th>float32</th><th>float32</th><th>float32</th><th>float32</th><th>float32</th><th>float32</th><th>float32</th><th>float32</th><th>float32</th><th>float32</th><th>float32</th><th>float64</th><th>float32</th><th>float32</th><th>float32</th><th>float32</th><th>int32</th><th>float32</th><th>float32</th><th>float32</th><th>float32</th><th>int32</th><th>int32</th><th>int32</th><th>float32</th><th>float32</th><th>float32</th><th>bytes1</th><th>float32</th><th>float32</th><th>float32</th><th>float32</th><th>float32</th><th>float32</th><th>float32</th><th>float32</th><th>float32</th><th>float32</th><th>float32</th><th>float32</th><th>float32</th><th>float32</th><th>float32</th><th>float32</th><th>float32</th><th>float32</th><th>float32</th><th>float32</th><th>float32</th><th>float32</th><th>float32</th><th>float32</th><th>int32</th><th>int32</th><th>int32</th><th>float32</th><th>float32</th><th>float32</th><th>float32</th><th>bytes7</th><th>bytes18</th><th>bytes18</th><th>int32</th><th>int32</th><th>int32</th><th>float32</th><th>bytes3</th><th>float32</th><th>float32</th><th>float32</th><th>bytes3</th><th>float32</th><th>float32</th><th>float32</th><th>bytes7</th><th>float64</th><th>float64</th><th>float64</th></tr></thead>\n",
       "<tr><td>SFGC0.154+0.0305</td><td>266.467125</td><td>-28.788414</td><td>a</td><td>1.215</td><td>0.07536</td><td>16.12</td><td>2.91</td><td>0.1507</td><td>19.31</td><td>4.134</td><td>0.2261</td><td>18.29</td><td>2.395</td><td>1.421</td><td>--</td><td>--</td><td>--</td><td>--</td><td>1.0</td><td>3.369</td><td>0.1399</td><td>24.08</td><td>1.72</td><td>0</td><td>8.166</td><td>--</td><td>1.192</td><td>0.02142</td><td>0</td><td>0</td><td>0</td><td>0.012317061 .. 0.010174385</td><td>-- .. --</td><td>-0.00020164582 .. -0.010862777</td><td>a</td><td>1.735</td><td>0.4041</td><td>4.294</td><td>4.79</td><td>0.7714</td><td>6.21</td><td>6.848</td><td>1.029</td><td>6.658</td><td>2.761</td><td>1.43</td><td>--</td><td>--</td><td>--</td><td>--</td><td>1.0</td><td>4.02</td><td>0.7758</td><td>5.181</td><td>1.277</td><td>0.0</td><td>11.61</td><td>--</td><td>1.708</td><td>0</td><td>0</td><td>0</td><td>0.02826</td><td>0.102191195 .. 0.010739732</td><td>-- .. --</td><td>0.0066655492 .. -0.01574394</td><td>Field20</td><td>SFGC0.154+0.0305</td><td>--</td><td>0</td><td>1</td><td>0</td><td>--</td><td>000</td><td>--</td><td>--</td><td>--</td><td>000</td><td>--</td><td>--</td><td>--</td><td>0558345</td><td>0.11</td><td>3.02</td><td>34.0</td></tr>\n",
       "<tr><td>SFGC359.948-0.0293</td><td>266.4025</td><td>-28.996056</td><td>a</td><td>1.934</td><td>0.274</td><td>7.058</td><td>4.92</td><td>0.548</td><td>8.978</td><td>8.436</td><td>0.822</td><td>10.26</td><td>2.544</td><td>1.715</td><td>--</td><td>--</td><td>--</td><td>--</td><td>1.0</td><td>6.087</td><td>0.6909</td><td>8.81</td><td>4.124</td><td>0</td><td>11.09</td><td>--</td><td>1.585</td><td>0.02142</td><td>0</td><td>1</td><td>0</td><td>0.050377894 .. -0.013156525</td><td>-- .. --</td><td>0.024666041 .. -0.011547057</td><td>a</td><td>10.11</td><td>1.17</td><td>8.638</td><td>27.95</td><td>2.234</td><td>12.51</td><td>42.42</td><td>2.978</td><td>14.24</td><td>2.766</td><td>1.518</td><td>--</td><td>--</td><td>--</td><td>--</td><td>1.0</td><td>23.4</td><td>2.909</td><td>8.045</td><td>2.748</td><td>0.0</td><td>15.03</td><td>--</td><td>1.296</td><td>1</td><td>0</td><td>0</td><td>0.02826</td><td>0.26187968 .. -0.06528417</td><td>-- .. --</td><td>0.04126874 .. -0.004408556</td><td>Field41</td><td>SFGC359.948-0.0293</td><td>--</td><td>0</td><td>1</td><td>0</td><td>--</td><td>000</td><td>--</td><td>--</td><td>--</td><td>000</td><td>--</td><td>--</td><td>--</td><td>0515803</td><td>0.131</td><td>4.16</td><td>95.0</td></tr>\n",
       "<tr><td>SFGC0.299-0.0610</td><td>266.64175</td><td>-28.712831</td><td>g</td><td>0.3175</td><td>0.06646</td><td>4.778</td><td>--</td><td>--</td><td>--</td><td>--</td><td>--</td><td>--</td><td>--</td><td>--</td><td>--</td><td>--</td><td>--</td><td>--</td><td>1.0</td><td>0.3584</td><td>0.03986</td><td>8.992</td><td>1.723</td><td>0</td><td>2.637</td><td>0.948</td><td>1.285</td><td>0.02142</td><td>0</td><td>0</td><td>0</td><td>0.0046728295 .. -0.010867304</td><td>-- .. --</td><td>0.0044102594 .. -0.00626117</td><td>a</td><td>--</td><td>--</td><td>--</td><td>--</td><td>--</td><td>--</td><td>--</td><td>--</td><td>--</td><td>--</td><td>--</td><td>0.1374</td><td>0.04258</td><td>3.227</td><td>1.665</td><td>0.0</td><td>0.1319</td><td>0.04041</td><td>3.265</td><td>1.663</td><td>0.0</td><td>1.522</td><td>--</td><td>1.363</td><td>0</td><td>0</td><td>0</td><td>0.02826</td><td>-0.00489589 .. -0.013288289</td><td>-0.0020012243 .. -0.034825362</td><td>-0.0020012243 .. -0.034825362</td><td>Field11</td><td>SFGC0.299-0.0610</td><td>--</td><td>0</td><td>1</td><td>0</td><td>--</td><td>011</td><td>--</td><td>0.4146</td><td>0.6221</td><td>111</td><td>0.4761</td><td>0.9087</td><td>1.212</td><td>0673798</td><td>0.132</td><td>3.13</td><td>23.0</td></tr>\n",
       "<tr><td>SFGC0.395+0.0076</td><td>266.632125</td><td>-28.594775</td><td>g</td><td>0.9391</td><td>0.05525</td><td>17</td><td>1.528</td><td>0.1105</td><td>13.83</td><td>2.129</td><td>0.1658</td><td>12.85</td><td>1.627</td><td>1.394</td><td>1.691</td><td>0.03149</td><td>53.69</td><td>0.9483</td><td>0.0</td><td>1.154</td><td>0.04685</td><td>24.62</td><td>1.156</td><td>0</td><td>3.729</td><td>0.3669</td><td>1.1</td><td>0.02373</td><td>0</td><td>0</td><td>1</td><td>-0.0041721943 .. 0.0033475205</td><td>0.006165268 .. -0.002404517</td><td>0.007233214 .. -0.0012212958</td><td>g</td><td>0.703</td><td>0.106</td><td>6.631</td><td>0.892</td><td>0.2024</td><td>4.407</td><td>--</td><td>--</td><td>--</td><td>1.269</td><td>--</td><td>0.8648</td><td>0.04362</td><td>19.83</td><td>0.5585</td><td>0.0</td><td>0.9476</td><td>0.08267</td><td>11.46</td><td>0.5464</td><td>0.0</td><td>4.716</td><td>3.258</td><td>1.984</td><td>0</td><td>0</td><td>0</td><td>0.02703</td><td>0.004471551 .. -0.003152961</td><td>-0.010298081 .. 0.009193374</td><td>-0.010016264 .. 0.009464073</td><td>Field09</td><td>SFGC0.395+0.0076</td><td>SFGC0.395+0.0072</td><td>1</td><td>1</td><td>1</td><td>1.377</td><td>000</td><td>--</td><td>--</td><td>--</td><td>001</td><td>--</td><td>--</td><td>0.8003</td><td>0667560</td><td>0.132</td><td>2.35</td><td>139.0</td></tr>\n",
       "<tr><td>SFGC359.954-0.0262</td><td>266.403417</td><td>-28.988825</td><td>a</td><td>2.403</td><td>0.2107</td><td>11.41</td><td>5.95</td><td>0.4213</td><td>14.12</td><td>8.986</td><td>0.632</td><td>14.22</td><td>2.476</td><td>1.51</td><td>--</td><td>--</td><td>--</td><td>--</td><td>1.0</td><td>7.338</td><td>0.4658</td><td>15.75</td><td>3.793</td><td>0</td><td>9.723</td><td>--</td><td>1.595</td><td>0.02142</td><td>0</td><td>1</td><td>0</td><td>-0.00950928 .. 0.009172682</td><td>-- .. --</td><td>-0.005586301 .. 0.00984423</td><td>a</td><td>6.284</td><td>0.5148</td><td>12.21</td><td>13.07</td><td>0.9828</td><td>13.3</td><td>14.76</td><td>1.31</td><td>11.26</td><td>2.08</td><td>1.129</td><td>--</td><td>--</td><td>--</td><td>--</td><td>1.0</td><td>12.04</td><td>0.8646</td><td>13.93</td><td>2.981</td><td>0.0</td><td>10.16</td><td>--</td><td>1.643</td><td>0</td><td>0</td><td>0</td><td>0.02826</td><td>-0.08488364 .. -0.044584747</td><td>-- .. --</td><td>-0.013150876 .. 0.016428657</td><td>Field38</td><td>SFGC359.954-0.0262</td><td>SFGC359.954-0.0259</td><td>1</td><td>1</td><td>1</td><td>1.444</td><td>000</td><td>--</td><td>--</td><td>--</td><td>000</td><td>--</td><td>--</td><td>--</td><td>0516452</td><td>0.135</td><td>3.18</td><td>113.0</td></tr>\n",
       "<tr><td>SFGC0.036-0.1818</td><td>266.603667</td><td>-29.000372</td><td>g</td><td>1.352</td><td>0.1088</td><td>12.42</td><td>1.15</td><td>0.2176</td><td>5.285</td><td>--</td><td>--</td><td>--</td><td>0.8509</td><td>--</td><td>--</td><td>--</td><td>--</td><td>--</td><td>1.0</td><td>1.403</td><td>0.06501</td><td>21.58</td><td>1.429</td><td>0</td><td>2.628</td><td>0.3065</td><td>1.02</td><td>0.02373</td><td>0</td><td>0</td><td>1</td><td>-0.02002774 .. -0.012622309</td><td>-- .. --</td><td>-0.00019068921 .. -0.0063876263</td><td>g</td><td>1.49</td><td>0.1967</td><td>7.574</td><td>2.02</td><td>0.3756</td><td>5.377</td><td>2.351</td><td>0.5008</td><td>4.694</td><td>1.355</td><td>1.164</td><td>--</td><td>--</td><td>--</td><td>--</td><td>1.0</td><td>1.615</td><td>0.1373</td><td>11.76</td><td>0.6163</td><td>0.0</td><td>4.219</td><td>0.8425</td><td>1.237</td><td>0</td><td>0</td><td>1</td><td>0.02703</td><td>-0.008324572 .. 0.004368282</td><td>-- .. --</td><td>0.00025314777 .. 0.000968509</td><td>Field35</td><td>SFGC0.036-0.1818</td><td>SFGC0.036-0.1818</td><td>1</td><td>1</td><td>1</td><td>0</td><td>001</td><td>--</td><td>--</td><td>0.9746</td><td>000</td><td>--</td><td>--</td><td>--</td><td>0648643</td><td>0.137</td><td>1.92</td><td>124.0</td></tr>\n",
       "<tr><td>SFGC0.055+0.0265</td><td>266.411792</td><td>-28.875542</td><td>a</td><td>9.168</td><td>0.1826</td><td>50.2</td><td>13.78</td><td>0.3653</td><td>37.71</td><td>16.23</td><td>0.5479</td><td>29.63</td><td>1.503</td><td>1.179</td><td>14.13</td><td>0.1722</td><td>82.08</td><td>9.235</td><td>0.0</td><td>13.17</td><td>0.1922</td><td>68.5</td><td>5.241</td><td>0</td><td>4.629</td><td>--</td><td>1.459</td><td>0.02142</td><td>0</td><td>1</td><td>1</td><td>0.0137687 .. -0.0060447566</td><td>-0.013851131 .. -0.012309242</td><td>-0.012057202 .. -0.010552663</td><td>a</td><td>15.67</td><td>0.9963</td><td>15.73</td><td>17.61</td><td>1.902</td><td>9.257</td><td>19.37</td><td>2.536</td><td>7.639</td><td>1.124</td><td>1.1</td><td>17.5</td><td>0.7156</td><td>24.46</td><td>4.869</td><td>0.0</td><td>17.25</td><td>0.7422</td><td>23.24</td><td>4.584</td><td>0.0</td><td>4.505</td><td>--</td><td>1.119</td><td>0</td><td>0</td><td>0</td><td>0.05605</td><td>-0.013989766 .. -0.020645522</td><td>-0.03255373 .. -0.014349979</td><td>-0.032452732 .. -0.014055125</td><td>Field31</td><td>SFGC0.055+0.0265</td><td>SFGC0.055+0.0266</td><td>1</td><td>1</td><td>1</td><td>0.5366</td><td>000</td><td>--</td><td>--</td><td>--</td><td>000</td><td>--</td><td>--</td><td>--</td><td>0521894</td><td>0.141</td><td>3.12</td><td>0.0</td></tr>\n",
       "<tr><td>SFGC359.639-0.0576</td><td>266.245667</td><td>-29.274294</td><td>m</td><td>3.39</td><td>0.1223</td><td>27.72</td><td>5.276</td><td>0.2445</td><td>21.58</td><td>7.666</td><td>0.3668</td><td>20.9</td><td>1.557</td><td>1.453</td><td>5.577</td><td>0.07045</td><td>79.16</td><td>3.822</td><td>0.0</td><td>4.022</td><td>0.09802</td><td>41.03</td><td>6.677</td><td>0</td><td>2.534</td><td>0.5935</td><td>1.206</td><td>0.02142</td><td>0</td><td>1</td><td>0</td><td>0.0011366992 .. 0.0113458</td><td>-0.0031141685 .. 0.010606364</td><td>-0.00053392415 .. 0.01316614</td><td>a</td><td>3.529</td><td>0.9561</td><td>3.691</td><td>8.97</td><td>1.825</td><td>4.914</td><td>16.49</td><td>2.434</td><td>6.778</td><td>2.542</td><td>1.839</td><td>--</td><td>--</td><td>--</td><td>--</td><td>1.0</td><td>8.046</td><td>1.86</td><td>4.326</td><td>3.042</td><td>0.0</td><td>11.76</td><td>--</td><td>1.31</td><td>0</td><td>0</td><td>0</td><td>0.02826</td><td>-0.0019586748 .. 0.04764301</td><td>-- .. --</td><td>-0.012796373 .. 0.018000342</td><td>Field45</td><td>SFGC359.639-0.0576</td><td>SFGC359.639-0.0577</td><td>1</td><td>1</td><td>1</td><td>0.47</td><td>000</td><td>--</td><td>--</td><td>--</td><td>000</td><td>--</td><td>--</td><td>--</td><td>0414950</td><td>0.144</td><td>3.13</td><td>71.0</td></tr>\n",
       "<tr><td>SFGC359.410+0.0325</td><td>266.020083</td><td>-29.422522</td><td>a</td><td>2.735</td><td>0.08493</td><td>32.2</td><td>7.384</td><td>0.1699</td><td>43.47</td><td>11.53</td><td>0.2548</td><td>45.26</td><td>2.7</td><td>1.561</td><td>8.828</td><td>0.1675</td><td>52.71</td><td>1.722</td><td>0.0</td><td>8.763</td><td>0.2029</td><td>43.18</td><td>1.816</td><td>0</td><td>10.51</td><td>--</td><td>1.206</td><td>0.02373</td><td>0</td><td>0</td><td>0</td><td>-0.0015718809 .. 0.015309025</td><td>-0.0070291045 .. -0.005470701</td><td>0.0005994801 .. 0.0020603056</td><td>a</td><td>6.461</td><td>0.189</td><td>34.19</td><td>17.67</td><td>0.3607</td><td>48.97</td><td>24.76</td><td>0.481</td><td>51.48</td><td>2.734</td><td>1.402</td><td>14.81</td><td>0.3446</td><td>42.98</td><td>1.15</td><td>0.0</td><td>14.78</td><td>0.4328</td><td>34.15</td><td>1.146</td><td>0.0</td><td>13.85</td><td>--</td><td>1.256</td><td>0</td><td>0</td><td>1</td><td>0.02703</td><td>0.019314835 .. 0.0036558802</td><td>-0.016732201 .. 0.0022502774</td><td>-0.0038788246 .. 0.013803407</td><td>Field49</td><td>SFGC359.410+0.0325</td><td>SFGC359.409+0.0323</td><td>1</td><td>1</td><td>1</td><td>2.039</td><td>000</td><td>--</td><td>--</td><td>--</td><td>000</td><td>--</td><td>--</td><td>--</td><td>0279869</td><td>0.153</td><td>2.41</td><td>70.0</td></tr>\n",
       "<tr><td>...</td><td>...</td><td>...</td><td>...</td><td>...</td><td>...</td><td>...</td><td>...</td><td>...</td><td>...</td><td>...</td><td>...</td><td>...</td><td>...</td><td>...</td><td>...</td><td>...</td><td>...</td><td>...</td><td>...</td><td>...</td><td>...</td><td>...</td><td>...</td><td>...</td><td>...</td><td>...</td><td>...</td><td>...</td><td>...</td><td>...</td><td>...</td><td>...</td><td>...</td><td>...</td><td>...</td><td>...</td><td>...</td><td>...</td><td>...</td><td>...</td><td>...</td><td>...</td><td>...</td><td>...</td><td>...</td><td>...</td><td>...</td><td>...</td><td>...</td><td>...</td><td>...</td><td>...</td><td>...</td><td>...</td><td>...</td><td>...</td><td>...</td><td>...</td><td>...</td><td>...</td><td>...</td><td>...</td><td>...</td><td>...</td><td>...</td><td>...</td><td>...</td><td>...</td><td>...</td><td>...</td><td>...</td><td>...</td><td>...</td><td>...</td><td>...</td><td>...</td><td>...</td><td>...</td><td>...</td><td>...</td><td>...</td><td>...</td><td>...</td><td>...</td><td>...</td></tr>\n",
       "<tr><td>SFGC0.521-0.0413</td><td>266.754083</td><td>-28.512392</td><td>a</td><td>3.012</td><td>0.3148</td><td>9.566</td><td>10.06</td><td>0.6297</td><td>15.98</td><td>17.16</td><td>0.9445</td><td>18.17</td><td>3.341</td><td>1.706</td><td>12.77</td><td>1.057</td><td>12.08</td><td>3.735</td><td>0.0</td><td>--</td><td>--</td><td>--</td><td>--</td><td>1</td><td>20</td><td>--</td><td>1</td><td>0.02142</td><td>0</td><td>1</td><td>1</td><td>0.054261215 .. -0.010793322</td><td>-0.0035690006 .. -0.056515787</td><td>-- .. --</td><td>a</td><td>10.02</td><td>0.5869</td><td>17.08</td><td>28.57</td><td>1.12</td><td>25.5</td><td>40.09</td><td>1.494</td><td>26.84</td><td>2.851</td><td>1.403</td><td>--</td><td>--</td><td>--</td><td>--</td><td>1.0</td><td>24.51</td><td>2.336</td><td>10.49</td><td>1.294</td><td>0.0</td><td>24.07</td><td>--</td><td>4.109</td><td>1</td><td>0</td><td>1</td><td>0.02826</td><td>0.09041624 .. -0.008825937</td><td>-- .. --</td><td>0.005410999 .. -0.029518789</td><td>Field05</td><td>--</td><td>SFGC0.521-0.0413</td><td>--</td><td>--</td><td>--</td><td>--</td><td>000</td><td>--</td><td>--</td><td>--</td><td>000</td><td>--</td><td>--</td><td>--</td><td>--</td><td>--</td><td>4.0</td><td>70.0</td></tr>\n",
       "<tr><td>SFGC0.526-0.0633</td><td>266.778667</td><td>-28.519256</td><td>a</td><td>1.769</td><td>0.1302</td><td>13.59</td><td>5.538</td><td>0.2604</td><td>21.27</td><td>9.684</td><td>0.3906</td><td>24.8</td><td>3.131</td><td>1.749</td><td>6.75</td><td>0.3066</td><td>22.02</td><td>1.844</td><td>0.0</td><td>6.765</td><td>0.3596</td><td>18.81</td><td>1.144</td><td>0</td><td>12.15</td><td>--</td><td>1.745</td><td>0.02142</td><td>1</td><td>1</td><td>0</td><td>0.033648897 .. 0.062026855</td><td>-0.0065642996 .. 0.008851886</td><td>-0.007555065 .. 0.0034342336</td><td>a</td><td>7.808</td><td>0.5478</td><td>14.25</td><td>20.2</td><td>1.046</td><td>19.31</td><td>30.72</td><td>1.395</td><td>22.03</td><td>2.587</td><td>1.521</td><td>16.77</td><td>0.9312</td><td>18.01</td><td>3.616</td><td>0.0</td><td>16.77</td><td>1.304</td><td>12.86</td><td>1.603</td><td>0.0</td><td>14.4</td><td>--</td><td>2.569</td><td>1</td><td>0</td><td>0</td><td>0.02826</td><td>0.04209341 .. 0.07617061</td><td>0.00072348455 .. 0.029322121</td><td>-0.0001326466 .. 0.01918324</td><td>Field05</td><td>--</td><td>SFGC0.526-0.0633</td><td>--</td><td>--</td><td>--</td><td>--</td><td>000</td><td>--</td><td>--</td><td>--</td><td>000</td><td>--</td><td>--</td><td>--</td><td>--</td><td>--</td><td>4.4</td><td>0.0</td></tr>\n",
       "<tr><td>SFGC0.530-0.1076</td><td>266.823875</td><td>-28.539233</td><td>a</td><td>3.69</td><td>0.1538</td><td>23.98</td><td>--</td><td>0.3077</td><td>--</td><td>--</td><td>0.4615</td><td>--</td><td>--</td><td>--</td><td>--</td><td>--</td><td>--</td><td>--</td><td>1.0</td><td>--</td><td>--</td><td>--</td><td>--</td><td>1</td><td>--</td><td>--</td><td>--</td><td>0.02142</td><td>0</td><td>1</td><td>1</td><td>-- .. 0.014289138</td><td>-- .. --</td><td>-- .. --</td><td>a</td><td>11.23</td><td>0.219</td><td>51.31</td><td>27.17</td><td>0.418</td><td>65</td><td>31.95</td><td>0.5573</td><td>57.33</td><td>2.419</td><td>1.176</td><td>--</td><td>--</td><td>--</td><td>--</td><td>1.0</td><td>23.81</td><td>0.4536</td><td>52.48</td><td>1.031</td><td>0.0</td><td>12.53</td><td>--</td><td>1.482</td><td>0</td><td>0</td><td>1</td><td>0.02826</td><td>0.0021600751 .. 0.008482332</td><td>-- .. --</td><td>-0.036895983 .. 0.008677322</td><td>Field05</td><td>--</td><td>SFGC0.530-0.1076</td><td>--</td><td>--</td><td>--</td><td>--</td><td>000</td><td>--</td><td>--</td><td>--</td><td>000</td><td>--</td><td>--</td><td>--</td><td>--</td><td>--</td><td>4.23</td><td>0.0</td></tr>\n",
       "<tr><td>SFGC0.535-0.0795</td><td>266.799708</td><td>-28.519994</td><td>a</td><td>15.89</td><td>1.082</td><td>14.69</td><td>57.24</td><td>2.164</td><td>26.46</td><td>107.4</td><td>3.245</td><td>33.09</td><td>3.602</td><td>1.876</td><td>74.26</td><td>2.284</td><td>32.52</td><td>78.96</td><td>0.0</td><td>73.79</td><td>5.068</td><td>14.56</td><td>57.47</td><td>0</td><td>20</td><td>--</td><td>3.782</td><td>0.02142</td><td>1</td><td>1</td><td>0</td><td>0.34421888 .. 0.06347808</td><td>0.04909153 .. -0.066584095</td><td>0.020154081 .. -0.012343248</td><td>a</td><td>35.61</td><td>1.853</td><td>19.22</td><td>107.7</td><td>3.537</td><td>30.45</td><td>164.9</td><td>4.716</td><td>34.98</td><td>3.025</td><td>1.531</td><td>--</td><td>--</td><td>--</td><td>--</td><td>1.0</td><td>87.12</td><td>4.967</td><td>17.54</td><td>8.546</td><td>0.0</td><td>16.21</td><td>--</td><td>1.873</td><td>1</td><td>1</td><td>0</td><td>0.02826</td><td>0.43167934 .. 0.03632593</td><td>-- .. --</td><td>0.041710526 .. -0.031914208</td><td>Field05</td><td>--</td><td>SFGC0.535-0.0795</td><td>--</td><td>--</td><td>--</td><td>--</td><td>000</td><td>--</td><td>--</td><td>--</td><td>000</td><td>--</td><td>--</td><td>--</td><td>--</td><td>--</td><td>4.36</td><td>0.0</td></tr>\n",
       "<tr><td>SFGC0.543-0.0856</td><td>266.81025</td><td>-28.516519</td><td>a</td><td>2.506</td><td>0.2563</td><td>9.777</td><td>8.69</td><td>0.5126</td><td>16.95</td><td>15.47</td><td>0.7689</td><td>20.12</td><td>3.468</td><td>1.78</td><td>--</td><td>--</td><td>--</td><td>--</td><td>1.0</td><td>--</td><td>--</td><td>--</td><td>--</td><td>1</td><td>--</td><td>--</td><td>--</td><td>0.02142</td><td>0</td><td>1</td><td>0</td><td>0.028055929 .. 0.015348984</td><td>-- .. --</td><td>-- .. --</td><td>a</td><td>4.448</td><td>0.7648</td><td>5.817</td><td>14.57</td><td>1.46</td><td>9.982</td><td>26.14</td><td>1.947</td><td>13.43</td><td>3.276</td><td>1.793</td><td>--</td><td>--</td><td>--</td><td>--</td><td>1.0</td><td>--</td><td>--</td><td>--</td><td>--</td><td>1.0</td><td>--</td><td>--</td><td>--</td><td>1</td><td>0</td><td>0</td><td>0.02826</td><td>0.03898405 .. -0.00021380108</td><td>-- .. --</td><td>-- .. --</td><td>Field05</td><td>--</td><td>SFGC0.543-0.0856</td><td>--</td><td>--</td><td>--</td><td>--</td><td>000</td><td>--</td><td>--</td><td>--</td><td>000</td><td>--</td><td>--</td><td>--</td><td>--</td><td>--</td><td>4.33</td><td>11.0</td></tr>\n",
       "<tr><td>SFGC0.544-0.0876</td><td>266.813</td><td>-28.516494</td><td>a</td><td>1.938</td><td>0.1974</td><td>9.819</td><td>6.453</td><td>0.3948</td><td>16.34</td><td>12.03</td><td>0.5922</td><td>20.32</td><td>3.329</td><td>1.865</td><td>--</td><td>--</td><td>--</td><td>--</td><td>1.0</td><td>7.876</td><td>0.4966</td><td>15.86</td><td>1.872</td><td>0</td><td>11.06</td><td>--</td><td>1.275</td><td>0.02142</td><td>0</td><td>1</td><td>0</td><td>-0.0011402714 .. 0.020117477</td><td>-- .. --</td><td>0.011574247 .. -0.009747095</td><td>a</td><td>6.382</td><td>0.6323</td><td>10.09</td><td>14.27</td><td>1.207</td><td>11.83</td><td>20.21</td><td>1.609</td><td>12.56</td><td>2.237</td><td>1.416</td><td>--</td><td>--</td><td>--</td><td>--</td><td>1.0</td><td>12.14</td><td>1.07</td><td>11.35</td><td>1.829</td><td>0.0</td><td>10.23</td><td>--</td><td>1.146</td><td>0</td><td>0</td><td>0</td><td>0.02826</td><td>-0.007320549 .. 0.013732727</td><td>-- .. --</td><td>-0.010881714 .. 0.0051935064</td><td>Field05</td><td>--</td><td>SFGC0.544-0.0876</td><td>--</td><td>--</td><td>--</td><td>--</td><td>000</td><td>--</td><td>--</td><td>--</td><td>000</td><td>--</td><td>--</td><td>--</td><td>--</td><td>--</td><td>5.81</td><td>15.0</td></tr>\n",
       "<tr><td>SFGC0.547-0.0783</td><td>266.805417</td><td>-28.509497</td><td>a</td><td>1.933</td><td>0.09536</td><td>20.27</td><td>6.229</td><td>0.1907</td><td>32.66</td><td>9.702</td><td>0.2861</td><td>33.91</td><td>3.223</td><td>1.558</td><td>7.815</td><td>0.2809</td><td>27.82</td><td>3.232</td><td>0.0</td><td>--</td><td>--</td><td>--</td><td>--</td><td>1</td><td>20</td><td>--</td><td>1</td><td>0.02142</td><td>0</td><td>1</td><td>0</td><td>0.014251363 .. 0.042046458</td><td>-0.0036034286 .. 0.010035021</td><td>-- .. --</td><td>a</td><td>6.679</td><td>0.4443</td><td>15.03</td><td>16.85</td><td>0.8482</td><td>19.87</td><td>22.64</td><td>1.131</td><td>20.02</td><td>2.524</td><td>1.343</td><td>--</td><td>--</td><td>--</td><td>--</td><td>1.0</td><td>14.67</td><td>1.057</td><td>13.88</td><td>2.01</td><td>0.0</td><td>14.38</td><td>--</td><td>2.837</td><td>1</td><td>0</td><td>0</td><td>0.02826</td><td>-0.0029501256 .. 0.04951339</td><td>-- .. --</td><td>0.017250381 .. 0.0024769083</td><td>Field05</td><td>--</td><td>SFGC0.547-0.0783</td><td>--</td><td>--</td><td>--</td><td>--</td><td>000</td><td>--</td><td>--</td><td>--</td><td>000</td><td>--</td><td>--</td><td>--</td><td>--</td><td>--</td><td>4.59</td><td>39.0</td></tr>\n",
       "<tr><td>SFGC0.608-0.0474</td><td>266.811292</td><td>-28.441269</td><td>a</td><td>0.8958</td><td>0.2479</td><td>3.614</td><td>2.878</td><td>0.4958</td><td>5.805</td><td>6.002</td><td>0.7437</td><td>8.071</td><td>3.213</td><td>2.085</td><td>--</td><td>--</td><td>--</td><td>--</td><td>1.0</td><td>4.042</td><td>0.7135</td><td>5.664</td><td>1.862</td><td>0</td><td>12.66</td><td>--</td><td>1.213</td><td>0.02142</td><td>1</td><td>1</td><td>0</td><td>0.04877033 .. 0.009715956</td><td>-- .. --</td><td>-0.0012639214 .. 0.00063276035</td><td>a</td><td>3.516</td><td>1</td><td>3.515</td><td>11.35</td><td>1.91</td><td>5.943</td><td>19.7</td><td>2.546</td><td>7.737</td><td>3.228</td><td>1.736</td><td>--</td><td>--</td><td>--</td><td>--</td><td>1.0</td><td>9.107</td><td>2.938</td><td>3.099</td><td>1.668</td><td>0.0</td><td>17.76</td><td>--</td><td>1.624</td><td>1</td><td>0</td><td>0</td><td>0.02826</td><td>0.09177378 .. 0.0028818536</td><td>-- .. --</td><td>-0.0029147717 .. 0.009932723</td><td>Field03</td><td>--</td><td>SFGC0.608-0.0474</td><td>--</td><td>--</td><td>--</td><td>--</td><td>000</td><td>--</td><td>--</td><td>--</td><td>000</td><td>--</td><td>--</td><td>--</td><td>--</td><td>--</td><td>4.1</td><td>0.0</td></tr>\n",
       "<tr><td>SFGC0.645-0.0413</td><td>266.827208</td><td>-28.406431</td><td>a</td><td>0.2653</td><td>0.04392</td><td>6.041</td><td>0.7052</td><td>0.08783</td><td>8.029</td><td>1.194</td><td>0.1317</td><td>9.065</td><td>2.658</td><td>1.694</td><td>0.8238</td><td>0.0574</td><td>14.35</td><td>1.217</td><td>0.0</td><td>0.8174</td><td>0.1903</td><td>4.295</td><td>1.09</td><td>0</td><td>19.06</td><td>--</td><td>13.23</td><td>0.02142</td><td>1</td><td>0</td><td>0</td><td>0.0012395487 .. -0.009713518</td><td>0.002345207 .. -3.3755336e-05</td><td>0.0032379467 .. 0.0017057823</td><td>g</td><td>3.768</td><td>0.1425</td><td>26.45</td><td>6.82</td><td>0.272</td><td>25.08</td><td>7.734</td><td>0.3626</td><td>21.33</td><td>1.81</td><td>1.134</td><td>6.149</td><td>0.1426</td><td>43.12</td><td>1.903</td><td>0.0</td><td>6.068</td><td>0.1853</td><td>32.75</td><td>1.561</td><td>0.0</td><td>7.865</td><td>1.241</td><td>1.582</td><td>0</td><td>0</td><td>0</td><td>0.02826</td><td>0.018213322 .. 0.010447741</td><td>-0.0044285045 .. -0.0009069219</td><td>-6.54139e-05 .. 0.0029483454</td><td>Field03</td><td>--</td><td>SFGC0.645-0.0413</td><td>--</td><td>--</td><td>--</td><td>--</td><td>000</td><td>--</td><td>--</td><td>--</td><td>000</td><td>--</td><td>--</td><td>--</td><td>--</td><td>--</td><td>4.84</td><td>0.0</td></tr>\n",
       "<tr><td>SFGC0.671-0.0419</td><td>266.842917</td><td>-28.384844</td><td>a</td><td>0.7584</td><td>0.1035</td><td>7.326</td><td>2.216</td><td>0.2071</td><td>10.7</td><td>2.583</td><td>0.3106</td><td>8.315</td><td>2.922</td><td>1.165</td><td>2.414</td><td>0.1777</td><td>13.59</td><td>1.911</td><td>0.0</td><td>2.52</td><td>0.2082</td><td>12.1</td><td>1.553</td><td>0</td><td>8.844</td><td>--</td><td>2.483</td><td>0.02142</td><td>0</td><td>0</td><td>0</td><td>0.0020642637 .. -0.010091871</td><td>-0.00406073 .. -0.009509405</td><td>-0.0023189965 .. -0.008181876</td><td>a</td><td>8.878</td><td>0.5793</td><td>15.33</td><td>23.38</td><td>1.106</td><td>21.14</td><td>32.5</td><td>1.474</td><td>22.04</td><td>2.634</td><td>1.39</td><td>--</td><td>--</td><td>--</td><td>--</td><td>1.0</td><td>--</td><td>--</td><td>--</td><td>--</td><td>1.0</td><td>--</td><td>--</td><td>--</td><td>0</td><td>1</td><td>0</td><td>0.02826</td><td>0.011925301 .. 0.07435048</td><td>-- .. --</td><td>-- .. --</td><td>Field01</td><td>--</td><td>SFGC0.671-0.0419</td><td>--</td><td>--</td><td>--</td><td>--</td><td>000</td><td>--</td><td>--</td><td>--</td><td>000</td><td>--</td><td>--</td><td>--</td><td>--</td><td>--</td><td>9.08</td><td>35.0</td></tr>\n",
       "</table></div>"
      ],
      "text/plain": [
       "<Table length=950>\n",
       "     SourceID          ra        dec     ... SSTGCd2d tau_9_6 tau_distance\n",
       "                                         ...                     arcsec   \n",
       "     bytes18        float64    float64   ... float64  float64   float64   \n",
       "------------------ ---------- ---------- ... -------- ------- ------------\n",
       "  SFGC0.154+0.0305 266.467125 -28.788414 ...     0.11    3.02         34.0\n",
       "SFGC359.948-0.0293   266.4025 -28.996056 ...    0.131    4.16         95.0\n",
       "  SFGC0.299-0.0610  266.64175 -28.712831 ...    0.132    3.13         23.0\n",
       "  SFGC0.395+0.0076 266.632125 -28.594775 ...    0.132    2.35        139.0\n",
       "SFGC359.954-0.0262 266.403417 -28.988825 ...    0.135    3.18        113.0\n",
       "  SFGC0.036-0.1818 266.603667 -29.000372 ...    0.137    1.92        124.0\n",
       "  SFGC0.055+0.0265 266.411792 -28.875542 ...    0.141    3.12          0.0\n",
       "SFGC359.639-0.0576 266.245667 -29.274294 ...    0.144    3.13         71.0\n",
       "SFGC359.410+0.0325 266.020083 -29.422522 ...    0.153    2.41         70.0\n",
       "               ...        ...        ... ...      ...     ...          ...\n",
       "  SFGC0.521-0.0413 266.754083 -28.512392 ...       --     4.0         70.0\n",
       "  SFGC0.526-0.0633 266.778667 -28.519256 ...       --     4.4          0.0\n",
       "  SFGC0.530-0.1076 266.823875 -28.539233 ...       --    4.23          0.0\n",
       "  SFGC0.535-0.0795 266.799708 -28.519994 ...       --    4.36          0.0\n",
       "  SFGC0.543-0.0856  266.81025 -28.516519 ...       --    4.33         11.0\n",
       "  SFGC0.544-0.0876    266.813 -28.516494 ...       --    5.81         15.0\n",
       "  SFGC0.547-0.0783 266.805417 -28.509497 ...       --    4.59         39.0\n",
       "  SFGC0.608-0.0474 266.811292 -28.441269 ...       --     4.1          0.0\n",
       "  SFGC0.645-0.0413 266.827208 -28.406431 ...       --    4.84          0.0\n",
       "  SFGC0.671-0.0419 266.842917 -28.384844 ...       --    9.08         35.0"
      ]
     },
     "execution_count": 8,
     "metadata": {},
     "output_type": "execute_result"
    }
   ],
   "source": [
    "#print 'new' table\n",
    "t1"
   ]
  },
  {
   "cell_type": "code",
   "execution_count": 10,
   "id": "5e101b44",
   "metadata": {},
   "outputs": [],
   "source": [
    "t1.write('masterCat_combined_step4_update_final.fits')"
   ]
  },
  {
   "cell_type": "code",
   "execution_count": 11,
   "id": "4d03c19d",
   "metadata": {},
   "outputs": [],
   "source": [
    "#remove cutouts from table if present\n",
    "if 'cutout25' in t1.columns:\n",
    "    t1.remove_columns('cutout25')\n",
    "    \n",
    "if 'M2Dresid25' in t1.columns:\n",
    "    t1.remove_columns('M2Dresid25')\n",
    "    \n",
    "if 'G2Dresid25' in t1.columns:\n",
    "    t1.remove_columns('G2Dresid25')\n",
    "    \n",
    "if 'cutout37' in t1.columns:\n",
    "    t1.remove_columns('cutout37')\n",
    "    \n",
    "if 'M2Dresid37' in t1.columns:\n",
    "    t1.remove_columns('M2Dresid37')\n",
    "    \n",
    "if 'G2Dresid37' in t1.columns:\n",
    "    t1.remove_columns('G2Dresid37')"
   ]
  },
  {
   "cell_type": "code",
   "execution_count": 12,
   "id": "e5e6b485",
   "metadata": {},
   "outputs": [],
   "source": [
    "t1.write('masterCat_combined_step4_update_noCutouts.fits')"
   ]
  },
  {
   "cell_type": "code",
   "execution_count": 13,
   "id": "c6d38a52",
   "metadata": {},
   "outputs": [],
   "source": [
    "#prep table to write out in IPAC format\n",
    "from astropy.io.ascii import masked\n",
    "fill = [('', 'null', 'SID25'), ('', 'null', 'SID37'),('','null','SSTGCxmatch')]\n",
    "ascii.write(t1, 'SFGC_MasterCatalog.txt' ,format='ipac', fill_values=fill)"
   ]
  },
  {
   "cell_type": "code",
   "execution_count": 16,
   "id": "58ae95c6",
   "metadata": {},
   "outputs": [],
   "source": [
    "#print data types for each column\n",
    "t1.dtype;"
   ]
  },
  {
   "cell_type": "code",
   "execution_count": null,
   "id": "5288a98f",
   "metadata": {},
   "outputs": [],
   "source": []
  },
  {
   "cell_type": "code",
   "execution_count": 25,
   "id": "df635974",
   "metadata": {},
   "outputs": [],
   "source": [
    "t1.colnames;"
   ]
  },
  {
   "cell_type": "code",
   "execution_count": 19,
   "id": "87b2556e",
   "metadata": {},
   "outputs": [],
   "source": [
    "#create short form catalog\n",
    "shortTab=t1['SourceID','ra','dec','_25um_Flux_8pix','_25um_Flux_8pix_err','_25um_Flux_G2D','_25um_Flux_G2D_err','fwhm25','_37um_Flux_10_5pix','_37um_Flux_10_5pix_err','_37um_Flux_G2D', '_37um_Flux_G2D_err',\"fwhm37\",'_25ApPhot_qflag','_37ApPhot_qflag','G2D25_qflag','G2D37_qflag','bkg_qflag25','bkg_qflag37','vExtFlag25','vExtFlag37']"
   ]
  },
  {
   "cell_type": "code",
   "execution_count": 20,
   "id": "0e9b4197",
   "metadata": {},
   "outputs": [],
   "source": [
    "#write out the short form table\n",
    "shortTab.write(\"masterCat_step4_ShortForm_update.fits\")"
   ]
  },
  {
   "cell_type": "code",
   "execution_count": 26,
   "id": "84e74de9",
   "metadata": {},
   "outputs": [],
   "source": [
    "#also write as text\n",
    "ascii.write(shortTab, 'SFGC_ShortTab_final.txt')"
   ]
  },
  {
   "cell_type": "code",
   "execution_count": 21,
   "id": "c26d7b19",
   "metadata": {},
   "outputs": [],
   "source": [
    "#create even shorter version for journal table \n",
    "shortTab2=t1['SourceID','ra','dec','_25um_Flux_8pix','_25um_Flux_8pix_err','_25um_Flux_G2D','_25um_Flux_G2D_err','fwhm25','_37um_Flux_10_5pix','_37um_Flux_10_5pix_err','_37um_Flux_G2D', '_37um_Flux_G2D_err',\"fwhm37\"]"
   ]
  },
  {
   "cell_type": "code",
   "execution_count": 23,
   "id": "87de6929",
   "metadata": {},
   "outputs": [],
   "source": [
    "#write out the short(er) form table\n",
    "shortTab2.write(\"SFGC_ShortCatalog_Journal.fits\")\n",
    "#shortTab2.write(\"SFGC_ShortCatalog.csv\")\n",
    "#shortTab2.write(\"SFGC_ShortCatalog.ecsv\")"
   ]
  },
  {
   "cell_type": "code",
   "execution_count": null,
   "id": "2affd48c",
   "metadata": {},
   "outputs": [],
   "source": []
  },
  {
   "cell_type": "code",
   "execution_count": null,
   "id": "8f5457ce",
   "metadata": {},
   "outputs": [],
   "source": []
  },
  {
   "cell_type": "code",
   "execution_count": null,
   "id": "0e548e63",
   "metadata": {},
   "outputs": [],
   "source": []
  }
 ],
 "metadata": {
  "kernelspec": {
   "display_name": "Python 3 (ipykernel)",
   "language": "python",
   "name": "python3"
  },
  "language_info": {
   "codemirror_mode": {
    "name": "ipython",
    "version": 3
   },
   "file_extension": ".py",
   "mimetype": "text/x-python",
   "name": "python",
   "nbconvert_exporter": "python",
   "pygments_lexer": "ipython3",
   "version": "3.9.7"
  }
 },
 "nbformat": 4,
 "nbformat_minor": 5
}
