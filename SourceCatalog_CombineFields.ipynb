{
 "cells": [
  {
   "cell_type": "code",
   "execution_count": 1,
   "metadata": {},
   "outputs": [],
   "source": [
    "#import all required packages\n",
    "import os\n",
    "import numpy as np\n",
    "import re\n",
    "import matplotlib.pyplot as plt\n",
    "from mpl_toolkits.axes_grid1 import make_axes_locatable\n",
    "\n",
    "from astropy.convolution import Gaussian2DKernel\n",
    "from astropy.stats import gaussian_fwhm_to_sigma\n",
    "from astropy.visualization import SqrtStretch, simple_norm\n",
    "from astropy.visualization.mpl_normalize import ImageNormalize\n",
    "from astropy.io import fits,ascii\n",
    "from astropy.wcs import WCS\n",
    "from astropy import units as u\n",
    "from astropy.stats import sigma_clipped_stats\n",
    "from astropy.table import join, vstack, Table\n",
    "from astropy.coordinates import SkyCoord, search_around_sky, Angle\n",
    "\n",
    "from photutils.aperture import SkyCircularAperture,SkyCircularAnnulus,aperture_photometry \n",
    "from photutils.segmentation import detect_threshold, detect_sources, deblend_sources, SourceCatalog\n",
    "from photutils.background import Background2D, MedianBackground, SExtractorBackground, MMMBackground\n",
    "from photutils.utils import calc_total_error"
   ]
  },
  {
   "cell_type": "code",
   "execution_count": 2,
   "metadata": {},
   "outputs": [],
   "source": [
    "#new functions needed for this notebook\n",
    "from astropy.coordinates.matching import _get_cartesian_kdtree\n",
    "\n",
    "from regions import read_ds9, write_ds9, CircleSkyRegion"
   ]
  },
  {
   "cell_type": "code",
   "execution_count": 3,
   "metadata": {},
   "outputs": [],
   "source": [
    "#import configuration for selected file\n",
    "from config import wavelength, segdetsig, finddetsig, bkgbox #import additional common paramters\n",
    "from config import dpath, dpathalt, ds9path #import additional common paramters\n",
    "\n",
    "from config import *"
   ]
  },
  {
   "cell_type": "code",
   "execution_count": 4,
   "metadata": {},
   "outputs": [],
   "source": [
    "#change directory to where data is\n",
    "try:\n",
    "    os.chdir(dpath)\n",
    "except:\n",
    "    os.chdir(dpathalt)"
   ]
  },
  {
   "cell_type": "code",
   "execution_count": 5,
   "metadata": {},
   "outputs": [],
   "source": [
    "#pick a field to start with so we can get the table structure. \n",
    "#The files for the field cannot be empty or an error message will display\n",
    "startfield=FieldA.name\n",
    "\n",
    "if os.path.exists(startfield+'_25um_CombCat.fits'):\n",
    "    mastercat25=Table.read(startfield+'_25um_CombCat.fits')\n",
    "    \n",
    "    #fix for issue with combining tables with objects as columns\n",
    "    mastercat25['RA(J2000)']=mastercat25['sky_centroid'].ra\n",
    "    mastercat25['DEC(J2000)']=mastercat25['sky_centroid'].dec\n",
    "    mastercat25.remove_column('sky_centroid')\n",
    "\n",
    "else:\n",
    "    print('Error... Must pick another file to start with')\n"
   ]
  },
  {
   "cell_type": "code",
   "execution_count": 6,
   "metadata": {},
   "outputs": [
    {
     "name": "stdout",
     "output_type": "stream",
     "text": [
      "Raw number of combinded sources:  1783\n"
     ]
    }
   ],
   "source": [
    "#loop through all the saved photometry tables for individual fields and append them together\n",
    "for info in field._registry:\n",
    "    filename=info.filename\n",
    "    name=info.name\n",
    "    \n",
    "    #print('\\nLoading in photometry data from field: ', name)\n",
    "    \n",
    "    if name is not startfield:\n",
    "        \n",
    "        if os.path.exists(name+'_25um_CombCat.fits'):\n",
    "            newtab1=Table.read(name+'_25um_CombCat.fits')\n",
    "            \n",
    "            #fix for issue with combining tables with objects as columns\n",
    "            newtab1['RA(J2000)']=newtab1['sky_centroid'].ra\n",
    "            newtab1['DEC(J2000)']=newtab1['sky_centroid'].dec\n",
    "            newtab1.remove_column('sky_centroid')\n",
    "            \n",
    "            #combine tables\n",
    "            mastercat25=vstack([mastercat25,newtab1])\n",
    "\n",
    "#re-add \"sky_centroid\" column \n",
    "mastercat25['sky_centroid']=SkyCoord(mastercat25['RA(J2000)'],mastercat25['DEC(J2000)'],unit=u.deg)\n",
    "\n",
    "#print the table sizes to get source counts\n",
    "print('Raw number of combinded sources: ', len(mastercat25))"
   ]
  },
  {
   "cell_type": "code",
   "execution_count": 7,
   "metadata": {
    "scrolled": true
   },
   "outputs": [
    {
     "name": "stderr",
     "output_type": "stream",
     "text": [
      "C:\\Users\\MHANKI~1\\AppData\\Local\\Temp/ipykernel_2620/59686400.py:5: DeprecationWarning: `np.int` is a deprecated alias for the builtin `int`. To silence this warning, use `int` by itself. Doing this will not modify any behavior and is safe. When replacing `np.int`, you may wish to use e.g. `np.int64` or `np.int32` to specify the precision. If you wish to review your current use, check the release note link for additional information.\n",
      "Deprecated in NumPy 1.20; for more details and guidance: https://numpy.org/devdocs/release/1.20.0-notes.html#deprecations\n",
      "  mastercat25['id_init']=np.linspace(1,len(mastercat25),len(mastercat25),dtype=np.int)\n"
     ]
    },
    {
     "data": {
      "text/html": [
       "<div><i>Table length=1783</i>\n",
       "<table id=\"table2668413623312\" class=\"table-striped table-bordered table-condensed\">\n",
       "<thead><tr><th>type</th><th>old_id</th><th>xcenter</th><th>ycenter</th><th>sky_center</th><th>aperture_sum_4pix</th><th>aperture_sum_err_4pix</th><th>aperture_sum_7pix</th><th>aperture_sum_err_7pix</th><th>aperture_sum_12pix</th><th>aperture_sum_err_12pix</th><th>pixAnnArea</th><th>ann_bkg_med</th><th>ann_bkg_mean</th><th>ann_bkg_std</th><th>texp_med</th><th>texp_mean</th><th>aper_sum_bkgsub_4pix</th><th>aper_snr_4pix</th><th>aper_area_4pix</th><th>aper_sum_bkgsub_7pix</th><th>aper_snr_7pix</th><th>aper_area_7pix</th><th>aper_sum_bkgsub_12pix</th><th>aper_snr_12pix</th><th>aper_area_12pix</th><th>Field</th><th>wv</th><th>RA(J2000)</th><th>DEC(J2000)</th><th>sky_centroid</th><th>id_init</th></tr></thead>\n",
       "<thead><tr><th></th><th></th><th>pix</th><th>pix</th><th>deg,deg</th><th></th><th></th><th></th><th></th><th></th><th></th><th></th><th></th><th></th><th></th><th></th><th></th><th></th><th></th><th></th><th></th><th></th><th></th><th></th><th></th><th></th><th></th><th></th><th>deg</th><th>deg</th><th>deg,deg</th><th></th></tr></thead>\n",
       "<thead><tr><th>bytes1</th><th>int32</th><th>float64</th><th>float64</th><th>object</th><th>float64</th><th>float64</th><th>float64</th><th>float64</th><th>float64</th><th>float64</th><th>float64</th><th>float64</th><th>float64</th><th>float64</th><th>float64</th><th>float64</th><th>float64</th><th>float64</th><th>float64</th><th>float64</th><th>float64</th><th>float64</th><th>float64</th><th>float64</th><th>float64</th><th>bytes7</th><th>int32</th><th>float64</th><th>float64</th><th>object</th><th>int32</th></tr></thead>\n",
       "<tr><td>C</td><td>1</td><td>186.13215812089783</td><td>44.83908685070949</td><td>266.3254722621009,-29.07789334142956</td><td>4.251441381840274</td><td>0.08140057006109706</td><td>7.009887388867945</td><td>0.1414690116539936</td><td>9.333651826471463</td><td>0.24034146855993158</td><td>842.3889699154489</td><td>0.00015792294881538803</td><td>0.00037795126751484764</td><td>0.005781510100510126</td><td>363.0956726074219</td><td>326.0785093413304</td><td>4.243126847454111</td><td>75.65767425773959</td><td>52.64931061971556</td><td>6.984424127310321</td><td>124.05814677265663</td><td>161.23851377287892</td><td>9.258821016995999</td><td>160.89590869049604</td><td>473.84379557743995</td><td>FieldA</td><td>25</td><td>266.3254722621009</td><td>-29.07789334142956</td><td>266.3254722621009,-29.07789334142956</td><td>1</td></tr>\n",
       "<tr><td>C</td><td>2</td><td>91.13388232439642</td><td>221.0476097606492</td><td>266.34865390850393,-29.040300695372114</td><td>1.3087028693588476</td><td>0.06457617602575318</td><td>2.1016104813737044</td><td>0.11298118086528029</td><td>2.570591187679788</td><td>0.19357004533413544</td><td>842.3889699154489</td><td>0.00011159306027058632</td><td>0.0005865174569878199</td><td>0.0052890662534054115</td><td>477.7574157714844</td><td>475.80978975703977</td><td>1.3028275716656568</td><td>19.176781006656906</td><td>52.64931061971556</td><td>2.083617382188308</td><td>29.63774817430125</td><td>161.23851377287892</td><td>2.5177135084410716</td><td>30.19705170464805</td><td>473.84379557743995</td><td>FieldA</td><td>25</td><td>266.34865390850393</td><td>-29.040300695372114</td><td>266.34865390850393,-29.040300695372114</td><td>2</td></tr>\n",
       "<tr><td>C</td><td>3</td><td>214.3263472674334</td><td>138.54481158630034</td><td>266.31859196098685,-29.057902466534006</td><td>4.517279878238537</td><td>0.06429089590388001</td><td>9.700689650183616</td><td>0.11249368591449324</td><td>18.396979270647673</td><td>0.1928197424831015</td><td>842.3889699154489</td><td>0.005476475752424609</td><td>0.007393471952174815</td><td>0.010939288794574635</td><td>477.7574157714844</td><td>476.6207881826312</td><td>4.228947205247794</td><td>70.1773179717275</td><td>52.64931061971556</td><td>8.817670839149462</td><td>150.50326768165246</td><td>161.23851377287892</td><td>15.80198521373098</td><td>271.30942864767303</td><td>473.84379557743995</td><td>FieldA</td><td>25</td><td>266.31859196098685</td><td>-29.057902466534006</td><td>266.31859196098685,-29.057902466534006</td><td>3</td></tr>\n",
       "<tr><td>C</td><td>4</td><td>212.7142389276733</td><td>141.23325791893993</td><td>266.31898545191007,-29.05732895919832</td><td>4.577030147285304</td><td>0.06426838656977268</td><td>10.718344604081759</td><td>0.11245133486776629</td><td>21.375549586640382</td><td>0.1926839507467687</td><td>842.3889699154489</td><td>0.006605751189177805</td><td>0.00894511909769135</td><td>0.011903154200365071</td><td>477.7574157714844</td><td>475.7045142320095</td><td>4.2292419010497255</td><td>69.01698575128042</td><td>52.64931061971556</td><td>9.653243099985302</td><td>164.90305656388173</td><td>161.23851377287892</td><td>18.245455370520183</td><td>315.52690022699494</td><td>473.84379557743995</td><td>FieldA</td><td>25</td><td>266.31898545191007</td><td>-29.05732895919832</td><td>266.31898545191007,-29.05732895919832</td><td>4</td></tr>\n",
       "<tr><td>C</td><td>5</td><td>208.6319409033432</td><td>157.28357758668136</td><td>266.31998201863314,-29.05390495647942</td><td>8.761508922127174</td><td>0.0642364378465394</td><td>22.78083532228061</td><td>0.11241803572221779</td><td>43.08542487402444</td><td>0.1926180723563314</td><td>842.3889699154489</td><td>0.00772719273513307</td><td>0.011328467887221014</td><td>0.01467723523285137</td><td>477.7574157714844</td><td>475.60596309923363</td><td>8.354677551596744</td><td>146.12537611822236</td><td>52.64931061971556</td><td>21.534914250031168</td><td>386.67245236362214</td><td>161.23851377287892</td><td>39.42394253925057</td><td>709.8989212327396</td><td>473.84379557743995</td><td>FieldA</td><td>25</td><td>266.31998201863314</td><td>-29.05390495647942</td><td>266.31998201863314,-29.05390495647942</td><td>5</td></tr>\n",
       "<tr><td>C</td><td>6</td><td>212.0622251554071</td><td>161.08242277174958</td><td>266.31914495440424,-29.05309448168491</td><td>7.501255169169433</td><td>0.0643800179750148</td><td>20.44725753010384</td><td>0.11262472627650104</td><td>43.040572984728094</td><td>0.193004944319555</td><td>842.3889699154489</td><td>0.009196170754891108</td><td>0.012972813296279445</td><td>0.015832963666569794</td><td>477.7574157714844</td><td>476.00238638121897</td><td>7.017083118583227</td><td>119.11340899958353</td><td>52.64931061971556</td><td>18.964480625183583</td><td>336.6562630851338</td><td>161.23851377287892</td><td>38.68302452945224</td><td>693.6206556421314</td><td>473.84379557743995</td><td>FieldA</td><td>25</td><td>266.31914495440424</td><td>-29.05309448168491</td><td>266.31914495440424,-29.05309448168491</td><td>6</td></tr>\n",
       "<tr><td>C</td><td>7</td><td>65.41398231792918</td><td>156.5869547952099</td><td>266.3549333829732,-29.054051210496706</td><td>1.8374268263349816</td><td>0.06336991125588685</td><td>3.6602662752160096</td><td>0.11087680364247904</td><td>6.177315607266441</td><td>0.19003332192976338</td><td>842.3889699154489</td><td>0.0010364338582972855</td><td>0.0024681517073962852</td><td>0.008946099497113696</td><td>477.7574157714844</td><td>476.3300521322577</td><td>1.7828592981926976</td><td>24.062117748823297</td><td>52.64931061971556</td><td>3.493153220280264</td><td>49.509587293196695</td><td>161.23851377287892</td><td>5.686207853985884</td><td>78.86675026120997</td><td>473.84379557743995</td><td>FieldA</td><td>25</td><td>266.3549333829732</td><td>-29.054051210496706</td><td>266.3549333829732,-29.054051210496706</td><td>7</td></tr>\n",
       "<tr><td>D</td><td>8</td><td>236.78868729632939</td><td>47.12821240943839</td><td>266.3131070918628,-29.077404164330705</td><td>0.21574590848968056</td><td>0.08014971361877689</td><td>0.2266815979788868</td><td>0.14095079399637375</td><td>-0.27186881476704844</td><td>0.24257133679316667</td><td>842.3889699154489</td><td>-0.0004808375188808347</td><td>-0.0009032823729738653</td><td>0.006317733034143511</td><td>343.9853820800781</td><td>307.69590262617146</td><td>0.24106167237885096</td><td>0.8983272643338109</td><td>52.64931061971556</td><td>0.30421112488947116</td><td>0.8256873314400025</td><td>161.23851377287892</td><td>-0.04402693976451478</td><td>-0.010199292965130127</td><td>473.84379557743995</td><td>FieldA</td><td>25</td><td>266.3131070918628</td><td>-29.077404164330705</td><td>266.3131070918628,-29.077404164330705</td><td>8</td></tr>\n",
       "<tr><td>D</td><td>9</td><td>246.24509519616183</td><td>46.179366184045236</td><td>266.31079876235106,-29.07760630424547</td><td>-0.04708584148030193</td><td>0.08249648687694569</td><td>-0.4395421640941832</td><td>0.1450478282582179</td><td>-0.558684642328347</td><td>0.24777534263685017</td><td>842.3889699154489</td><td>-0.0004319205154930568</td><td>-0.0010410807492035727</td><td>0.006678508592448676</td><td>321.3936146706169</td><td>287.74206589444105</td><td>-0.02434552409708032</td><td>-0.008849605969226007</td><td>52.64931061971556</td><td>-0.369899942108067</td><td>-1.1507792809710984</td><td>161.23851377287892</td><td>-0.35402178587935257</td><td>-0.621045046819482</td><td>473.84379557743995</td><td>FieldA</td><td>25</td><td>266.31079876235106</td><td>-29.07760630424547</td><td>266.31079876235106,-29.07760630424547</td><td>9</td></tr>\n",
       "<tr><td>...</td><td>...</td><td>...</td><td>...</td><td>...</td><td>...</td><td>...</td><td>...</td><td>...</td><td>...</td><td>...</td><td>...</td><td>...</td><td>...</td><td>...</td><td>...</td><td>...</td><td>...</td><td>...</td><td>...</td><td>...</td><td>...</td><td>...</td><td>...</td><td>...</td><td>...</td><td>...</td><td>...</td><td>...</td><td>...</td><td>...</td><td>...</td></tr>\n",
       "<tr><td>S</td><td>9</td><td>168.67975195246652</td><td>33.23462325499537</td><td>266.0532348592611,-29.44863644397799</td><td>4.39252049339748</td><td>1.2489623482926004</td><td>5.66514583817631</td><td>2.3484318486161446</td><td>6.40605209936679</td><td>4.2177572301384245</td><td>842.3886456319777</td><td>-0.0007921537885921834</td><td>-0.001534167838163637</td><td>0.013562135522772432</td><td>61.12529675231065</td><td>64.74223408315822</td><td>4.434226828216506</td><td>70.08142273407606</td><td>52.64929035199863</td><td>5.792871488559575</td><td>84.04743493584833</td><td>161.23845170299583</td><td>6.781409112738021</td><td>82.96120537747674</td><td>473.84361316798766</td><td>FieldN9</td><td>25</td><td>266.0532348592611</td><td>-29.44863644397799</td><td>266.0532348592611,-29.44863644397799</td><td>1774</td></tr>\n",
       "<tr><td>S</td><td>10</td><td>194.3010661678876</td><td>54.160439151602105</td><td>266.0469579552481,-29.444172453614065</td><td>2.74090967184317</td><td>0.8806604803484864</td><td>4.322656704617099</td><td>1.5549407443269914</td><td>5.231165667311643</td><td>2.7021999316478467</td><td>842.3886456319777</td><td>-0.0002938797915606288</td><td>-0.0007320059129427359</td><td>0.005618847959870105</td><td>227.62284999999994</td><td>201.8150598674139</td><td>2.75638223431763</td><td>46.72007460096238</td><td>52.64929035199863</td><td>4.370041427195134</td><td>73.11922382897446</td><td>161.23845170299583</td><td>5.370418729581787</td><td>84.35242628949632</td><td>473.84361316798766</td><td>FieldN9</td><td>25</td><td>266.0469579552481</td><td>-29.444172453614065</td><td>266.0469579552481,-29.444172453614065</td><td>1775</td></tr>\n",
       "<tr><td>S</td><td>11</td><td>303.8460437989811</td><td>156.7348877096979</td><td>266.0201277343422,-29.422287369062765</td><td>2.100843524209236</td><td>0.7387677209668878</td><td>4.754116499571636</td><td>1.294137168204557</td><td>8.849944090798292</td><td>2.223343397185319</td><td>842.3886456319777</td><td>0.002599102124112642</td><td>0.0037957786979804613</td><td>0.006523683798309962</td><td>478.2879500000003</td><td>475.093523429979</td><td>1.9640026418223329</td><td>30.40611883757693</td><td>52.64929035199863</td><td>4.335041297261746</td><td>70.69464528859183</td><td>161.23845170299583</td><td>7.618376149316166</td><td>124.80029471214173</td><td>473.84361316798766</td><td>FieldN9</td><td>25</td><td>266.0201277343422</td><td>-29.422287369062765</td><td>266.0201277343422,-29.422287369062765</td><td>1776</td></tr>\n",
       "<tr><td>S</td><td>12</td><td>165.93031534766877</td><td>176.0086173137294</td><td>266.05390612683294,-29.418177959678403</td><td>0.5007758805830856</td><td>0.7035765066862013</td><td>1.0768717964330188</td><td>1.2319545904067668</td><td>1.4124241704862113</td><td>2.1117955562927437</td><td>842.3886456319777</td><td>-0.0005045663663663658</td><td>-0.001088676678767638</td><td>0.004081406986613808</td><td>575.4245000000004</td><td>572.8547674561189</td><td>0.5273409417077614</td><td>5.5326162177309905</td><td>52.64929035199863</td><td>1.158227296127338</td><td>13.957557918719536</td><td>161.23845170299583</td><td>1.6515097206082925</td><td>17.820239889682323</td><td>473.84361316798766</td><td>FieldN9</td><td>25</td><td>266.05390612683294</td><td>-29.418177959678403</td><td>266.05390612683294,-29.418177959678403</td><td>1777</td></tr>\n",
       "<tr><td>S</td><td>13</td><td>169.41993467315282</td><td>180.29681927854864</td><td>266.05305141254144,-29.41726318964818</td><td>0.5860812015675743</td><td>0.7028129458152504</td><td>1.1807567469135989</td><td>1.2300197204326055</td><td>1.3882485308628838</td><td>2.1090543612161317</td><td>842.3886456319777</td><td>-0.00050465593697381</td><td>-0.0008725144893654049</td><td>0.0038881399931285413</td><td>575.4245000000004</td><td>573.4722458625162</td><td>0.6126509785211683</td><td>7.264650801568574</td><td>52.64929035199863</td><td>1.2621266888339808</td><td>16.314642853005083</td><td>161.23845170299583</td><td>1.6273765234452302</td><td>17.941033459122103</td><td>473.84361316798766</td><td>FieldN9</td><td>25</td><td>266.05305141254144</td><td>-29.41726318964818</td><td>266.05305141254144,-29.41726318964818</td><td>1778</td></tr>\n",
       "<tr><td>S</td><td>14</td><td>258.8904615469405</td><td>200.50219641698928</td><td>266.03113976459787,-29.412952035756078</td><td>0.19440385876335364</td><td>0.7402290003276668</td><td>0.044511901405978535</td><td>1.2879007805224112</td><td>0.0987428514128671</td><td>2.1652538271758357</td><td>842.3886456319777</td><td>-0.000142558963717173</td><td>-0.00032280764285288083</td><td>0.003810359263871072</td><td>478.2879500000003</td><td>482.8046147109662</td><td>0.20190948703637912</td><td>1.02417077703677</td><td>52.64929035199863</td><td>0.06749788799211906</td><td>0.06803769827097858</td><td>161.23845170299583</td><td>0.1662935058700964</td><td>0.240501511965241</td><td>473.84361316798766</td><td>FieldN9</td><td>25</td><td>266.03113976459787</td><td>-29.412952035756078</td><td>266.03113976459787,-29.412952035756078</td><td>1779</td></tr>\n",
       "<tr><td>S</td><td>15</td><td>125.99585503473169</td><td>208.95313684537766</td><td>266.06368538179885,-29.41114887676718</td><td>0.5518931937367034</td><td>0.7078524125835077</td><td>1.3686129632691122</td><td>1.2387166975720654</td><td>2.243351339253646</td><td>2.1240529616072172</td><td>842.3886456319777</td><td>0.00011042260184741469</td><td>0.00041306294851057825</td><td>0.004700426300969096</td><td>575.4245000000004</td><td>573.434474372529</td><td>0.5460795221106157</td><td>5.3263034832076315</td><td>52.64929035199863</td><td>1.3508085939142187</td><td>16.391955674499535</td><td>161.23845170299583</td><td>2.191028294618857</td><td>25.77307546667358</td><td>473.84361316798766</td><td>FieldN9</td><td>25</td><td>266.06368538179885</td><td>-29.41114887676718</td><td>266.06368538179885,-29.41114887676718</td><td>1780</td></tr>\n",
       "<tr><td>S</td><td>16</td><td>137.5907784126744</td><td>262.5520980012241</td><td>266.06084418600705,-29.399714772685506</td><td>1.2811136812606472</td><td>0.7064285251312362</td><td>2.3524895350672277</td><td>1.2368624407140378</td><td>2.8100478757256226</td><td>2.131584903130133</td><td>842.3886456319777</td><td>-0.0003181266469198341</td><td>-0.0005806524932706796</td><td>0.004269272332380436</td><td>575.4245000000004</td><td>572.7514592209525</td><td>1.2978628234630374</td><td>20.144808363270432</td><td>52.64929035199863</td><td>2.4037837830620474</td><td>37.84591205084101</td><td>161.23845170299583</td><td>2.960790155547133</td><td>42.10754823211334</td><td>473.84361316798766</td><td>FieldN9</td><td>25</td><td>266.06084418600705</td><td>-29.399714772685506</td><td>266.06084418600705,-29.399714772685506</td><td>1781</td></tr>\n",
       "<tr><td>S</td><td>17</td><td>104.50718149691794</td><td>299.35552041817846</td><td>266.06894355662627,-29.39186224750333</td><td>1.5080249865613942</td><td>0.8771167002351715</td><td>2.564007345689402</td><td>1.5465912380153286</td><td>3.7827806206720243</td><td>2.6929378228753538</td><td>842.3886456319777</td><td>-0.00031776111012855445</td><td>-0.0008159986471408555</td><td>0.006991471188297007</td><td>228.10829999999993</td><td>203.94779541216465</td><td>1.5247548835111258</td><td>21.192156089364477</td><td>52.64929035199863</td><td>2.6152426550979557</td><td>36.04804493914946</td><td>161.23845170299583</td><td>3.933349693219609</td><td>51.11437397595926</td><td>473.84361316798766</td><td>FieldN9</td><td>25</td><td>266.06894355662627</td><td>-29.39186224750333</td><td>266.06894355662627,-29.39186224750333</td><td>1782</td></tr>\n",
       "<tr><td>S</td><td>18</td><td>92.75718981815103</td><td>302.98709037654413</td><td>266.07182034035134,-29.391086993802112</td><td>1.3514779907738639</td><td>1.0285352387421973</td><td>1.8308261967125783</td><td>1.8049820056355088</td><td>2.490753399623444</td><td>3.042454188997725</td><td>842.3886456319777</td><td>-0.0005748913756636531</td><td>-0.000819997603393812</td><td>0.008950606843463103</td><td>130.97175000000001</td><td>129.2108548811251</td><td>1.3817456137320394</td><td>16.192750047016858</td><td>52.64929035199863</td><td>1.9235207920219912</td><td>19.50093630481212</td><td>161.23845170299583</td><td>2.763162006247024</td><td>24.658635735695466</td><td>473.84361316798766</td><td>FieldN9</td><td>25</td><td>266.07182034035134</td><td>-29.391086993802112</td><td>266.07182034035134,-29.391086993802112</td><td>1783</td></tr>\n",
       "</table></div>"
      ],
      "text/plain": [
       "<Table length=1783>\n",
       " type  old_id ...              sky_centroid              id_init\n",
       "              ...                deg,deg                        \n",
       "bytes1 int32  ...                 object                  int32 \n",
       "------ ------ ... -------------------------------------- -------\n",
       "     C      1 ...   266.3254722621009,-29.07789334142956       1\n",
       "     C      2 ... 266.34865390850393,-29.040300695372114       2\n",
       "     C      3 ... 266.31859196098685,-29.057902466534006       3\n",
       "     C      4 ...  266.31898545191007,-29.05732895919832       4\n",
       "     C      5 ...  266.31998201863314,-29.05390495647942       5\n",
       "     C      6 ...  266.31914495440424,-29.05309448168491       6\n",
       "     C      7 ...  266.3549333829732,-29.054051210496706       7\n",
       "     D      8 ...  266.3131070918628,-29.077404164330705       8\n",
       "     D      9 ...  266.31079876235106,-29.07760630424547       9\n",
       "   ...    ... ...                                    ...     ...\n",
       "     S      9 ...   266.0532348592611,-29.44863644397799    1774\n",
       "     S     10 ...  266.0469579552481,-29.444172453614065    1775\n",
       "     S     11 ...  266.0201277343422,-29.422287369062765    1776\n",
       "     S     12 ... 266.05390612683294,-29.418177959678403    1777\n",
       "     S     13 ...  266.05305141254144,-29.41726318964818    1778\n",
       "     S     14 ... 266.03113976459787,-29.412952035756078    1779\n",
       "     S     15 ...  266.06368538179885,-29.41114887676718    1780\n",
       "     S     16 ... 266.06084418600705,-29.399714772685506    1781\n",
       "     S     17 ...  266.06894355662627,-29.39186224750333    1782\n",
       "     S     18 ... 266.07182034035134,-29.391086993802112    1783"
      ]
     },
     "execution_count": 7,
     "metadata": {},
     "output_type": "execute_result"
    }
   ],
   "source": [
    "#rename field based id to anothter name to avoid confusion\n",
    "mastercat25.rename_column('id', 'old_id')\n",
    "\n",
    "#add new ids to the master catalog ahead of quality cuts\n",
    "mastercat25['id_init']=np.linspace(1,len(mastercat25),len(mastercat25),dtype=np.int)\n",
    "\n",
    "#print the master catalog\n",
    "mastercat25"
   ]
  },
  {
   "cell_type": "code",
   "execution_count": 8,
   "metadata": {},
   "outputs": [],
   "source": [
    "#Optional - write 'master' catalogs to fits prior to quality cuts\n",
    "#mastercat25.write('masterCatComb_FromFields_25um_NoCuts.fits',overwrite=True)"
   ]
  },
  {
   "cell_type": "code",
   "execution_count": 9,
   "metadata": {},
   "outputs": [],
   "source": [
    "def makeDS9file(savename, table, radius, color='green', labelon=False,label='ColumnName'):\n",
    "    scs=table['sky_centroid']\n",
    "    \n",
    "    decimals = 1 # number of decimal places to display with labels\n",
    "    \n",
    "    #loop through and create region instances for each source\n",
    "    regions=[]\n",
    "    for i in range(0,len(scs)):\n",
    "        region = CircleSkyRegion(scs[i], radius)\n",
    "        regions.append(region)\n",
    "            #write out region file\n",
    "    write_ds9(regions, savename)\n",
    "    \n",
    "    hld=\"\"\n",
    "    with open(savename, 'r+') as f:\n",
    "        lineno=0\n",
    "        for line in f:\n",
    "            if lineno<len(table):\n",
    "                if labelon:\n",
    "                    text=line.replace(r')', r') # color='+color+' text={'+str(np.round(table[label][lineno-2],decimals))+'}')\n",
    "                else:\n",
    "                    text=line.replace(r')', r') # color='+color)\n",
    "                hld=hld+text\n",
    "                lineno=lineno+1\n",
    "        f.seek(0)\n",
    "        f.write(hld)\n",
    "        f.truncate()"
   ]
  },
  {
   "cell_type": "code",
   "execution_count": 10,
   "metadata": {},
   "outputs": [],
   "source": [
    "#write out save ds9 region files  - Optional for inspection\n",
    "#set size of regions \n",
    "r = Angle(0.00083333, u.deg) #must be in degrees - current value is r=3\"\n",
    "#write out ds9 files\n",
    "makeDS9file('mastercatComb_25um_labelIDinit.reg', mastercat25, r, color='yellow', labelon=True, label=\"id_init\")\n",
    "makeDS9file('mastercatComb_25um_label4pixSNR.reg', mastercat25, r, color='cyan', labelon=True, label=\"aper_snr_4pix\")"
   ]
  },
  {
   "cell_type": "code",
   "execution_count": 11,
   "metadata": {},
   "outputs": [],
   "source": [
    "#source coords should be skycoord objects, sep should be an angular quantity e.g., 4*u.arcsec\n",
    "def remove_duplicates(cat, sep):\n",
    "\tsourcecoords=cat['sky_centroid']\n",
    "\n",
    "\t#create KD Tree\n",
    "\tkdt=_get_cartesian_kdtree(sourcecoords)\n",
    "    \n",
    "\t#search radius\n",
    "\tr = (2 * np.sin(Angle(sep) / 2.0)).value #search radius\n",
    "    \n",
    "\t#initialize counter\n",
    "\tcounter=0\n",
    "    \n",
    "\t#create array to hold matches\n",
    "\tmatchstore=np.zeros(len(cat),dtype=np.int)\n",
    "    \n",
    "\t#loop through and find all matching sources within crossmatch radius\n",
    "\tfor i, matches in enumerate(kdt.query_ball_tree(kdt,r)):\n",
    "\t\tif len(matches)>1:\n",
    "\t\t\tcounter+=1\n",
    "\t\t\t\n",
    "\t\t\tfor match in matches:\n",
    "\t\t\t\tif match!=matches[(match+1)%len(matches)]:\n",
    "\t\t\t\t\tmatchstore[match]=matches[(match+1)%len(matches)]+1\n",
    "\t\t\t\telse:\n",
    "\t\t\t\t\tmatchstore[match]=matches[(match+2)%len(matches)]+1\n",
    "\n",
    "\t#store possible crossmatches\n",
    "\tcat['selfXmatch']=matchstore\n",
    "\tprint('number of likely duplicates: ', counter)\n",
    "    \n",
    "\t#create keep and remove lists\n",
    "\tkeep=[]\n",
    "\tremove=[]\n",
    "    \n",
    "\t#loop through and mark sources to keep and remove based on which has the greater aperture photometry snr\n",
    "\tfor row in cat:\n",
    "\t\tif row['selfXmatch']>0:\n",
    "\t\t\t#print(row['Master_id'])\n",
    "\t\t\tidx1 = row['id_init']\n",
    "\t\t\tidx2 = row['selfXmatch']\n",
    "\t\t\t\n",
    "\t\t\trow1=cat[cat['id_init']==idx1]\n",
    "\t\t\trow2=cat[cat['id_init']==idx2]\n",
    "\t\t\t\n",
    "\t\t\tsnr1=row1['aper_snr_4pix'].data[0]\n",
    "\t\t\tsnr2=row2['aper_snr_4pix'].data[0]\n",
    "\t\t\t           \n",
    "\t\t\tif snr1>snr2:\n",
    "\t\t\t\tkeep.append(idx1)\n",
    "\t\t\t\tremove.append(idx2)\n",
    "\t\t\telse:\n",
    "\t\t\t\tkeep.append(idx2)\n",
    "\t\t\t\tremove.append(idx1)\n",
    "\n",
    "\t#remove duplicates in lists\n",
    "\tkeep=list(set(keep))\n",
    "\tremove=list(set(remove))\n",
    "    \n",
    "\t#remove duplicates in table\n",
    "\tremoveIdx=np.array(remove)-1 #fix zero/one initialization issue\n",
    "\tcat.remove_rows(removeIdx)\n",
    "\t\n",
    "\treturn cat"
   ]
  },
  {
   "cell_type": "code",
   "execution_count": 12,
   "metadata": {},
   "outputs": [
    {
     "name": "stdout",
     "output_type": "stream",
     "text": [
      "Number of sources with duplicates included 1783\n",
      "number of likely duplicates:  375\n"
     ]
    },
    {
     "name": "stderr",
     "output_type": "stream",
     "text": [
      "C:\\Users\\MHANKI~1\\AppData\\Local\\Temp/ipykernel_2620/3399744466.py:15: DeprecationWarning: `np.int` is a deprecated alias for the builtin `int`. To silence this warning, use `int` by itself. Doing this will not modify any behavior and is safe. When replacing `np.int`, you may wish to use e.g. `np.int64` or `np.int32` to specify the precision. If you wish to review your current use, check the release note link for additional information.\n",
      "Deprecated in NumPy 1.20; for more details and guidance: https://numpy.org/devdocs/release/1.20.0-notes.html#deprecations\n",
      "  matchstore=np.zeros(len(cat),dtype=np.int)\n"
     ]
    },
    {
     "name": "stdout",
     "output_type": "stream",
     "text": [
      "Number of sources with duplicates removed 1586\n"
     ]
    }
   ],
   "source": [
    "#Now lets look at possible duplications that may exist because of overlapping data coverage\n",
    "\n",
    "print('Number of sources with duplicates included', len(mastercat25))\n",
    "\n",
    "mastercat25=remove_duplicates(mastercat25, 3.0*u.arcsec)\n",
    "\n",
    "print('Number of sources with duplicates removed', len(mastercat25))"
   ]
  },
  {
   "cell_type": "code",
   "execution_count": 13,
   "metadata": {},
   "outputs": [],
   "source": [
    "#write 'master' catalogs to fits - optional for testing\n",
    "#mastercat25.write('masterCat_FromFields_noDuplicates_25um.fits',overwrite=True)"
   ]
  },
  {
   "cell_type": "code",
   "execution_count": 14,
   "metadata": {},
   "outputs": [],
   "source": [
    "#write out save ds9 region files - optional for testing\n",
    "makeDS9file('mastercat_noDuplicates_25um_labelID.reg', mastercat25, r, color='magenta', labelon=True, label=\"id_init\")"
   ]
  },
  {
   "cell_type": "code",
   "execution_count": 15,
   "metadata": {},
   "outputs": [
    {
     "data": {
      "image/png": "[encoded data removed]",
      "text/plain": [
       "<Figure size 864x504 with 1 Axes>"
      ]
     },
     "metadata": {
      "needs_background": "light"
     },
     "output_type": "display_data"
    }
   ],
   "source": [
    "#now lets look at SNR distrobution\n",
    "binlist=np.linspace(1,40,20)\n",
    "\n",
    "plt.figure(figsize=(12,7))\n",
    "plt.title('Histogram of 4pix Ap SNR for 25 um Sources')\n",
    "plt.hist(mastercat25['aper_snr_4pix'],bins=binlist)\n",
    "plt.xlabel('SNR of Source')\n",
    "plt.ylabel('Number of Sources')\n",
    "#plt.xlim(0,25)\n",
    "plt.show()\n"
   ]
  },
  {
   "cell_type": "code",
   "execution_count": 16,
   "metadata": {},
   "outputs": [
    {
     "name": "stdout",
     "output_type": "stream",
     "text": [
      "Number of Catalog Sources after SNR cut:  973\n"
     ]
    }
   ],
   "source": [
    "#lets examine SNR cuts...\n",
    "snrcut4pix=mastercat25['aper_snr_4pix']>=5.0 #max snr in all computed apertures must be gtreq to 5\n",
    "mcat25snrcut=mastercat25[snrcut4pix] #apply snr cut\n",
    "\n",
    "print(\"Number of Catalog Sources after SNR cut: \", len(mcat25snrcut))"
   ]
  },
  {
   "cell_type": "code",
   "execution_count": 17,
   "metadata": {},
   "outputs": [],
   "source": [
    "#other cuts to consider????"
   ]
  },
  {
   "cell_type": "code",
   "execution_count": 18,
   "metadata": {},
   "outputs": [],
   "source": [
    "makeDS9file('mastercatComb_4pixSNRselect_25m_NoLabel.reg', mcat25snrcut, r, color='green')"
   ]
  },
  {
   "cell_type": "code",
   "execution_count": null,
   "metadata": {},
   "outputs": [],
   "source": []
  },
  {
   "cell_type": "markdown",
   "metadata": {},
   "source": [
    "## Repeat process for 37 um data"
   ]
  },
  {
   "cell_type": "code",
   "execution_count": 19,
   "metadata": {},
   "outputs": [],
   "source": [
    "#pick a field to start with so we can get the table structure. \n",
    "#The files for the field cannot be empty or an error message will display\n",
    "startfield=FieldA.name\n",
    "\n",
    "if os.path.exists(startfield+'_37um_CombCat.fits'):\n",
    "    mastercat37=Table.read(startfield+'_37um_CombCat.fits')\n",
    "    \n",
    "    #fix for issue with combining tables with objects as columns\n",
    "    mastercat37['RA(J2000)']=mastercat37['sky_centroid'].ra\n",
    "    mastercat37['DEC(J2000)']=mastercat37['sky_centroid'].dec\n",
    "    mastercat37.remove_column('sky_centroid')\n",
    "\n",
    "else:\n",
    "    print('Error... Must pick another file to start with')"
   ]
  },
  {
   "cell_type": "code",
   "execution_count": 20,
   "metadata": {},
   "outputs": [
    {
     "name": "stdout",
     "output_type": "stream",
     "text": [
      "Raw number of combinded 37um sources:  1701\n"
     ]
    }
   ],
   "source": [
    "#loop through all the saved photometry tables for individual fields and append them together\n",
    "for info in field._registry:\n",
    "    filename=info.filename\n",
    "    name=info.name\n",
    "    \n",
    "    #print('\\nLoading in photometry data from field: ', name)\n",
    "    \n",
    "    if name is not startfield:\n",
    "        \n",
    "        if os.path.exists(name+'_37um_CombCat.fits'):\n",
    "            newtab1=Table.read(name+'_37um_CombCat.fits')\n",
    "            \n",
    "            #fix for issue with combining tables with objects as columns\n",
    "            newtab1['RA(J2000)']=newtab1['sky_centroid'].ra\n",
    "            newtab1['DEC(J2000)']=newtab1['sky_centroid'].dec\n",
    "            newtab1.remove_column('sky_centroid')\n",
    "            \n",
    "            #combine tables\n",
    "            mastercat37=vstack([mastercat37,newtab1])\n",
    "\n",
    "#re-add \"sky_centroid\" column \n",
    "mastercat37['sky_centroid']=SkyCoord(mastercat37['RA(J2000)'],mastercat37['DEC(J2000)'],unit=u.deg)\n",
    "\n",
    "#print the table sizes to get source counts\n",
    "print('Raw number of combinded 37um sources: ', len(mastercat37))"
   ]
  },
  {
   "cell_type": "code",
   "execution_count": 21,
   "metadata": {
    "scrolled": true
   },
   "outputs": [
    {
     "name": "stderr",
     "output_type": "stream",
     "text": [
      "C:\\Users\\MHANKI~1\\AppData\\Local\\Temp/ipykernel_2620/1604376380.py:5: DeprecationWarning: `np.int` is a deprecated alias for the builtin `int`. To silence this warning, use `int` by itself. Doing this will not modify any behavior and is safe. When replacing `np.int`, you may wish to use e.g. `np.int64` or `np.int32` to specify the precision. If you wish to review your current use, check the release note link for additional information.\n",
      "Deprecated in NumPy 1.20; for more details and guidance: https://numpy.org/devdocs/release/1.20.0-notes.html#deprecations\n",
      "  mastercat37['id_init']=np.linspace(1,len(mastercat37),len(mastercat37),dtype=np.int)\n"
     ]
    },
    {
     "data": {
      "text/html": [
       "<div><i>Table length=1701</i>\n",
       "<table id=\"table2668416881520\" class=\"table-striped table-bordered table-condensed\">\n",
       "<thead><tr><th>type</th><th>old_id</th><th>xcenter</th><th>ycenter</th><th>sky_center</th><th>aperture_sum_4pix</th><th>aperture_sum_err_4pix</th><th>aperture_sum_7pix</th><th>aperture_sum_err_7pix</th><th>aperture_sum_12pix</th><th>aperture_sum_err_12pix</th><th>pixAnnArea</th><th>ann_bkg_med</th><th>ann_bkg_mean</th><th>ann_bkg_std</th><th>texp_med</th><th>texp_mean</th><th>aper_sum_bkgsub_4pix</th><th>aper_snr_4pix</th><th>aper_area_4pix</th><th>aper_sum_bkgsub_7pix</th><th>aper_snr_7pix</th><th>aper_area_7pix</th><th>aper_sum_bkgsub_12pix</th><th>aper_snr_12pix</th><th>aper_area_12pix</th><th>Field</th><th>wv</th><th>RA(J2000)</th><th>DEC(J2000)</th><th>sky_centroid</th><th>id_init</th></tr></thead>\n",
       "<thead><tr><th></th><th></th><th>pix</th><th>pix</th><th>deg,deg</th><th></th><th></th><th></th><th></th><th></th><th></th><th></th><th></th><th></th><th></th><th></th><th></th><th></th><th></th><th></th><th></th><th></th><th></th><th></th><th></th><th></th><th></th><th></th><th>deg</th><th>deg</th><th>deg,deg</th><th></th></tr></thead>\n",
       "<thead><tr><th>bytes1</th><th>int32</th><th>float64</th><th>float64</th><th>object</th><th>float64</th><th>float64</th><th>float64</th><th>float64</th><th>float64</th><th>float64</th><th>float64</th><th>float64</th><th>float64</th><th>float64</th><th>float64</th><th>float64</th><th>float64</th><th>float64</th><th>float64</th><th>float64</th><th>float64</th><th>float64</th><th>float64</th><th>float64</th><th>float64</th><th>bytes7</th><th>int32</th><th>float64</th><th>float64</th><th>object</th><th>int32</th></tr></thead>\n",
       "<tr><td>C</td><td>1</td><td>142.4222167812415</td><td>244.69398363028392</td><td>266.33571101881336,-29.03729396282822</td><td>16.823313759787407</td><td>0.13052538734462685</td><td>38.275534963104235</td><td>0.2283676991062819</td><td>68.07677396548733</td><td>0.39151472058742304</td><td>842.3887129996068</td><td>0.016057226720894983</td><td>0.019351436261361116</td><td>0.020377260213605218</td><td>400.12127685546875</td><td>398.9379262555463</td><td>15.977912100302554</td><td>271.5398303385732</td><td>52.64929456247541</td><td>35.686492380931874</td><td>612.0870483772352</td><td>161.238464597581</td><td>60.46815903012367</td><td>1036.7759983151554</td><td>473.8436510622788</td><td>FieldA</td><td>37</td><td>266.33571101881336</td><td>-29.03729396282822</td><td>266.33571101881336,-29.03729396282822</td><td>1</td></tr>\n",
       "<tr><td>C</td><td>2</td><td>143.5452530013948</td><td>244.50410045870763</td><td>266.33543699669957,-29.037334485899724</td><td>16.76676079088167</td><td>0.13054563467289776</td><td>37.57966399928746</td><td>0.22840555953571776</td><td>67.17481107905367</td><td>0.391592620955339</td><td>842.3887129996068</td><td>0.016504211012411327</td><td>0.020389312693609014</td><td>0.021973153005091846</td><td>400.12127685546875</td><td>399.39843961883486</td><td>15.897825723767975</td><td>269.07228308078123</td><td>52.64929456247541</td><td>34.91855035625177</td><td>597.0277710914795</td><td>161.238464597581</td><td>59.35439547503041</td><td>1014.5156440506069</td><td>473.8436510622788</td><td>FieldA</td><td>37</td><td>266.33543699669957</td><td>-29.037334485899724</td><td>266.33543699669957,-29.037334485899724</td><td>2</td></tr>\n",
       "<tr><td>C</td><td>3</td><td>185.8843184824861</td><td>53.32524497654224</td><td>266.325104824915,-29.07811945352745</td><td>3.2922456491385277</td><td>0.1288646792540781</td><td>5.946337621550762</td><td>0.22777968022304018</td><td>9.70170351559762</td><td>0.4130127488866621</td><td>842.3887129996068</td><td>0.0012552982252203642</td><td>0.0022844224406179886</td><td>0.009843589123761744</td><td>400.12127685546875</td><td>398.4387799392621</td><td>3.226155083115148</td><td>49.575878874489725</td><td>52.64929456247541</td><td>5.743935263104162</td><td>88.59866122176086</td><td>161.238464597581</td><td>9.106888421387204</td><td>137.98415905490256</td><td>473.8436510622788</td><td>FieldA</td><td>37</td><td>266.325104824915</td><td>-29.07811945352745</td><td>266.325104824915,-29.07811945352745</td><td>3</td></tr>\n",
       "<tr><td>C</td><td>4</td><td>213.49728794963903</td><td>148.54816508325013</td><td>266.31836645961846,-29.057804902179896</td><td>6.494607739758986</td><td>0.13310729707661068</td><td>14.312205185063284</td><td>0.23286900430662769</td><td>25.933423437623027</td><td>0.3990069575609686</td><td>842.3887129996068</td><td>0.004691032885682408</td><td>0.007080396648139035</td><td>0.015030417264407871</td><td>400.12127685546875</td><td>399.3883021741741</td><td>6.2476281675584335</td><td>100.29052696171526</td><td>52.64929456247541</td><td>13.555830245199093</td><td>223.54164787238813</td><td>161.238464597581</td><td>23.710607287818057</td><td>391.79407109255396</td><td>473.8436510622788</td><td>FieldA</td><td>37</td><td>266.31836645961846</td><td>-29.057804902179896</td><td>266.31836645961846,-29.057804902179896</td><td>4</td></tr>\n",
       "<tr><td>C</td><td>5</td><td>212.18811637382836</td><td>150.4513954114122</td><td>266.3186860037761,-29.05739890297304</td><td>6.54538637221277</td><td>0.13306405204379268</td><td>14.877321306298306</td><td>0.232778276627887</td><td>28.09258049300846</td><td>0.39882551009772577</td><td>842.3887129996068</td><td>0.005485694207867119</td><td>0.00901293769265498</td><td>0.01733913996203883</td><td>400.12127685546875</td><td>398.3890928989456</td><td>6.256568441983109</td><td>98.05896050842077</td><td>52.64929456247541</td><td>13.992816394969969</td><td>227.84673284334434</td><td>161.238464597581</td><td>25.49321912094151</td><td>418.12371003261825</td><td>473.8436510622788</td><td>FieldA</td><td>37</td><td>266.3186860037761</td><td>-29.05739890297304</td><td>266.3186860037761,-29.05739890297304</td><td>5</td></tr>\n",
       "<tr><td>D</td><td>6</td><td>157.19979139396133</td><td>43.41438316546808</td><td>266.3321068013122,-29.08023375689039</td><td>0.14400016195680396</td><td>0.16239107832519056</td><td>0.16686060634235192</td><td>0.2814870766390917</td><td>0.9955628416209896</td><td>0.4801389625938168</td><td>842.3887129996068</td><td>-8.000353119281957e-05</td><td>6.820277413683625e-05</td><td>0.009151644911150131</td><td>305.60818724626745</td><td>281.07173697725005</td><td>0.1482122914366129</td><td>0.23837376013079437</td><td>52.64929456247541</td><td>0.1797602528742668</td><td>0.20081879545710157</td><td>161.238464597581</td><td>1.0334720069392702</td><td>3.792784917390484</td><td>473.8436510622788</td><td>FieldA</td><td>37</td><td>266.3321068013122</td><td>-29.08023375689039</td><td>266.3321068013122,-29.08023375689039</td><td>6</td></tr>\n",
       "<tr><td>D</td><td>7</td><td>252.34997534843282</td><td>81.0496428342572</td><td>266.3088816607937,-29.07220355079124</td><td>0.19466313812736077</td><td>0.1305128713179189</td><td>0.3241266310136933</td><td>0.22835881167649333</td><td>0.2303992756792847</td><td>0.3930232119878138</td><td>842.3887129996068</td><td>-0.0004162761288198376</td><td>-0.0008613394920414298</td><td>0.00940193846610605</td><td>400.12127685546875</td><td>398.8292664472345</td><td>0.21657978265292335</td><td>0.4933100196265782</td><td>52.64929456247541</td><td>0.3912463548732288</td><td>0.919396955664477</td><td>161.238464597581</td><td>0.4276490764093481</td><td>0.6442503070353062</td><td>473.8436510622788</td><td>FieldA</td><td>37</td><td>266.3088816607937</td><td>-29.07220355079124</td><td>266.3088816607937,-29.07220355079124</td><td>7</td></tr>\n",
       "<tr><td>D</td><td>8</td><td>57.2176161309975</td><td>83.79575979418884</td><td>266.35651061771057,-29.07161617791247</td><td>0.15886231649105323</td><td>0.13342889777597886</td><td>0.15296958510182024</td><td>0.23511467469917818</td><td>-0.2364341414586359</td><td>0.4113647453064471</td><td>842.3887129996068</td><td>-0.00023607468995123294</td><td>-0.0006291172487033739</td><td>0.008141695536071225</td><td>368.111572265625</td><td>362.1103809895024</td><td>0.17129148238104075</td><td>0.35684158173601066</td><td>52.64929456247541</td><td>0.19103390563990702</td><td>0.25470700550571573</td><td>161.238464597581</td><td>-0.1245716484487482</td><td>-0.0633384043118493</td><td>473.8436510622788</td><td>FieldA</td><td>37</td><td>266.35651061771057</td><td>-29.07161617791247</td><td>266.35651061771057,-29.07161617791247</td><td>8</td></tr>\n",
       "<tr><td>D</td><td>9</td><td>224.47680991486465</td><td>152.74176269697296</td><td>266.3156869936951,-29.056910043236957</td><td>0.9597346306992355</td><td>0.13288102268177787</td><td>2.3423506631668474</td><td>0.23252072515598474</td><td>12.603610760947078</td><td>0.398580283406106</td><td>842.3887129996068</td><td>0.018772926147409302</td><td>0.023662330526489948</td><td>0.023155750791462596</td><td>400.12127685546875</td><td>398.1522602101539</td><td>-0.02864668783531351</td><td>-0.0035345093379232626</td><td>52.64929456247541</td><td>-0.6845671248452098</td><td>-1.1480509067136446</td><td>161.238464597581</td><td>3.708178894136134</td><td>18.879103767313445</td><td>473.8436510622788</td><td>FieldA</td><td>37</td><td>266.3156869936951</td><td>-29.056910043236957</td><td>266.3156869936951,-29.056910043236957</td><td>9</td></tr>\n",
       "<tr><td>...</td><td>...</td><td>...</td><td>...</td><td>...</td><td>...</td><td>...</td><td>...</td><td>...</td><td>...</td><td>...</td><td>...</td><td>...</td><td>...</td><td>...</td><td>...</td><td>...</td><td>...</td><td>...</td><td>...</td><td>...</td><td>...</td><td>...</td><td>...</td><td>...</td><td>...</td><td>...</td><td>...</td><td>...</td><td>...</td><td>...</td><td>...</td></tr>\n",
       "<tr><td>S</td><td>15</td><td>314.75085910237834</td><td>143.27522439545038</td><td>266.02009113421934,-29.42486215220104</td><td>2.0427496291738056</td><td>1.1363969888866368</td><td>5.535172989877591</td><td>2.010008244683621</td><td>12.555732397171845</td><td>3.456453959468835</td><td>842.3886470862557</td><td>0.005433476175665479</td><td>0.008490380572304373</td><td>0.014946979632620686</td><td>347.3763500000002</td><td>311.0733831508243</td><td>1.7566809638866652</td><td>17.136131075725327</td><td>52.649290442890965</td><td>4.659087702435723</td><td>58.24076854415671</td><td>161.2384519813536</td><td>9.981114409587583</td><td>137.62321713775705</td><td>473.8436139860186</td><td>FieldN9</td><td>37</td><td>266.02009113421934</td><td>-29.42486215220104</td><td>266.02009113421934,-29.42486215220104</td><td>1692</td></tr>\n",
       "<tr><td>S</td><td>16</td><td>316.2342092546843</td><td>152.08195046814023</td><td>266.01972830847285,-29.42298331287107</td><td>3.00033380680778</td><td>1.1012830607707005</td><td>7.121755063602315</td><td>1.923587982067394</td><td>15.30474707973263</td><td>3.3401095933325724</td><td>842.3886470862557</td><td>0.00374860679412216</td><td>0.0064514531653398904</td><td>0.013374531835794587</td><td>347.3763500000002</td><td>318.5793132400147</td><td>2.802972318947848</td><td>37.72781912339308</td><td>52.649290442890965</td><td>6.517335507031274</td><td>96.860433573071</td><td>161.2384519813536</td><td>13.528493688993242</td><td>210.8909390040154</td><td>473.8436139860186</td><td>FieldN9</td><td>37</td><td>266.01972830847285</td><td>-29.42298331287107</td><td>266.01972830847285,-29.42298331287107</td><td>1693</td></tr>\n",
       "<tr><td>S</td><td>17</td><td>308.92978082905324</td><td>158.41369353246114</td><td>266.0215176696424,-29.42163288306562</td><td>1.7054875269669019</td><td>1.035113763658692</td><td>4.030162635233614</td><td>1.8137520190003824</td><td>8.885911767219445</td><td>3.1451753229879498</td><td>842.3886470862557</td><td>0.0022474175862409636</td><td>0.006878830077412764</td><td>0.015897791200717524</td><td>463.2528500000002</td><td>460.24250549437846</td><td>1.5871625857224403</td><td>13.75360979132338</td><td>52.649290442890965</td><td>3.6677925026724507</td><td>38.629794163240206</td><td>161.2384519813536</td><td>7.820987296019293</td><td>93.68445154443836</td><td>473.8436139860186</td><td>FieldN9</td><td>37</td><td>266.0215176696424</td><td>-29.42163288306562</td><td>266.0215176696424,-29.42163288306562</td><td>1694</td></tr>\n",
       "<tr><td>S</td><td>18</td><td>175.4818376418138</td><td>172.66404168912632</td><td>266.05420166165914,-29.41859484749044</td><td>1.4388062140684892</td><td>1.0001261992994475</td><td>3.230631085120306</td><td>1.7504071590070969</td><td>5.1149081280125</td><td>3.0007547051451766</td><td>842.3886470862557</td><td>-0.000661495766301437</td><td>-0.0014501285275468115</td><td>0.007726431369091466</td><td>557.6466500000002</td><td>556.3775352121464</td><td>1.4736334967952363</td><td>19.03333802020444</td><td>52.649290442890965</td><td>3.337289638470969</td><td>47.76797937262854</td><td>161.2384519813536</td><td>5.428353672553223</td><td>76.28314655787496</td><td>473.8436139860186</td><td>FieldN9</td><td>37</td><td>266.05420166165914</td><td>-29.41859484749044</td><td>266.05420166165914,-29.41859484749044</td><td>1695</td></tr>\n",
       "<tr><td>S</td><td>19</td><td>137.05802494925172</td><td>199.21471553928595</td><td>266.06361121683733,-29.412929811914527</td><td>2.358283957291878</td><td>0.9987448362953462</td><td>6.023690362908162</td><td>1.7477751490967235</td><td>11.2375182593437</td><td>2.9965594802851117</td><td>842.3886470862557</td><td>0.001005549595100793</td><td>0.0020112452178507145</td><td>0.009202697458091274</td><td>557.6466500000002</td><td>556.2247314373128</td><td>2.305342484604685</td><td>33.16160566438846</td><td>52.649290442890965</td><td>5.8615571028036335</td><td>92.79873073778876</td><td>161.2384519813536</td><td>10.761045005158962</td><td>172.47995452784392</td><td>473.8436139860186</td><td>FieldN9</td><td>37</td><td>266.06361121683733</td><td>-29.412929811914527</td><td>266.06361121683733,-29.412929811914527</td><td>1696</td></tr>\n",
       "<tr><td>S</td><td>20</td><td>135.33113033518276</td><td>209.8164761460239</td><td>266.0640337370894,-29.410668047486627</td><td>1.448416018885908</td><td>0.9967480809995625</td><td>4.0641520172812875</td><td>1.7448721020971003</td><td>8.403595310345649</td><td>2.991386754605124</td><td>842.3886470862557</td><td>0.0012546359000332116</td><td>0.0028150447031379203</td><td>0.01151648583037616</td><td>557.6466500000002</td><td>555.6950810990364</td><td>1.3823603289849815</td><td>13.681853484345268</td><td>52.649290442890965</td><td>3.8618564669597</td><td>49.98664901080797</td><td>161.2384519813536</td><td>7.80909410123731</td><td>108.30698931361589</td><td>473.8436139860186</td><td>FieldN9</td><td>37</td><td>266.0640337370894</td><td>-29.410668047486627</td><td>266.0640337370894,-29.410668047486627</td><td>1697</td></tr>\n",
       "<tr><td>S</td><td>21</td><td>213.01906382149804</td><td>227.3256574597328</td><td>266.0450084117407,-29.406933935765426</td><td>3.2066863335111075</td><td>0.9913519447754217</td><td>6.377793344729234</td><td>1.7351782754924105</td><td>9.396316955506455</td><td>2.972760188784256</td><td>842.3886470862557</td><td>0.0010783238928374936</td><td>0.001813727958554713</td><td>0.008555063154067753</td><td>557.6466500000002</td><td>555.8249853353506</td><td>3.1499133456855977</td><td>49.977299692096345</td><td>52.649290442890965</td><td>6.20392606951361</td><td>100.42618012224314</td><td>161.2384519813536</td><td>8.885360065076863</td><td>139.28359523132877</td><td>473.8436139860186</td><td>FieldN9</td><td>37</td><td>266.0450084117407</td><td>-29.406933935765426</td><td>266.0450084117407,-29.406933935765426</td><td>1698</td></tr>\n",
       "<tr><td>S</td><td>22</td><td>221.6024104626654</td><td>221.03193063451874</td><td>266.0429064284553,-29.40827656209453</td><td>1.1709207275222804</td><td>0.9924666480544945</td><td>3.308670256096285</td><td>1.7348378100393806</td><td>7.633351318027112</td><td>2.9729209035390434</td><td>842.3886470862557</td><td>-8.072275533493581e-07</td><td>-1.4102485189040754e-05</td><td>0.0075354394318350275</td><td>557.6466500000002</td><td>554.511362979141</td><td>1.1709632274801902</td><td>13.61764310609655</td><td>52.649290442890965</td><td>3.308800412217384</td><td>47.62156414178977</td><td>161.2384519813536</td><td>7.6337338176483005</td><td>119.03827594120874</td><td>473.8436139860186</td><td>FieldN9</td><td>37</td><td>266.0429064284553</td><td>-29.40827656209453</td><td>266.0429064284553,-29.40827656209453</td><td>1699</td></tr>\n",
       "<tr><td>S</td><td>23</td><td>147.06102340552076</td><td>258.27436233999646</td><td>266.061159627194,-29.40033071708305</td><td>2.2324247710914893</td><td>0.9852551086520361</td><td>5.18590027589418</td><td>1.724061182047631</td><td>8.743459361590899</td><td>2.9549055179423465</td><td>842.3886470862557</td><td>0.00036758521105041816</td><td>0.0007672972632928773</td><td>0.007550534557703854</td><td>557.6466500000002</td><td>556.7258229360565</td><td>2.2130716705523845</td><td>33.359389905459366</td><td>52.649290442890965</td><td>5.126631405493171</td><td>82.10596206110615</td><td>161.2384519813536</td><td>8.569281456738956</td><td>136.6368802754759</td><td>473.8436139860186</td><td>FieldN9</td><td>37</td><td>266.061159627194</td><td>-29.40033071708305</td><td>266.061159627194,-29.40033071708305</td><td>1700</td></tr>\n",
       "<tr><td>S</td><td>24</td><td>149.00145255784</td><td>263.1465487824519</td><td>266.0606843265714,-29.39929136957136</td><td>2.173127379744132</td><td>0.9836612381620936</td><td>4.975879746595912</td><td>1.7214854115468383</td><td>8.796183979307177</td><td>2.950828544455237</td><td>842.3886470862557</td><td>0.00016994403903961542</td><td>0.00018434568526697685</td><td>0.007735702406335066</td><td>557.6466500000002</td><td>556.3777049058408</td><td>2.1641799466736975</td><td>32.207128894079965</td><td>52.649290442890965</td><td>4.948478232817705</td><td>78.40719634778824</td><td>161.2384519813536</td><td>8.715657081673264</td><td>138.7889195173755</td><td>473.8436139860186</td><td>FieldN9</td><td>37</td><td>266.0606843265714</td><td>-29.39929136957136</td><td>266.0606843265714,-29.39929136957136</td><td>1701</td></tr>\n",
       "</table></div>"
      ],
      "text/plain": [
       "<Table length=1701>\n",
       " type  old_id ...              sky_centroid              id_init\n",
       "              ...                deg,deg                        \n",
       "bytes1 int32  ...                 object                  int32 \n",
       "------ ------ ... -------------------------------------- -------\n",
       "     C      1 ...  266.33571101881336,-29.03729396282822       1\n",
       "     C      2 ... 266.33543699669957,-29.037334485899724       2\n",
       "     C      3 ...    266.325104824915,-29.07811945352745       3\n",
       "     C      4 ... 266.31836645961846,-29.057804902179896       4\n",
       "     C      5 ...   266.3186860037761,-29.05739890297304       5\n",
       "     D      6 ...   266.3321068013122,-29.08023375689039       6\n",
       "     D      7 ...   266.3088816607937,-29.07220355079124       7\n",
       "     D      8 ...  266.35651061771057,-29.07161617791247       8\n",
       "     D      9 ...  266.3156869936951,-29.056910043236957       9\n",
       "   ...    ... ...                                    ...     ...\n",
       "     S     15 ...  266.02009113421934,-29.42486215220104    1692\n",
       "     S     16 ...  266.01972830847285,-29.42298331287107    1693\n",
       "     S     17 ...   266.0215176696424,-29.42163288306562    1694\n",
       "     S     18 ...  266.05420166165914,-29.41859484749044    1695\n",
       "     S     19 ... 266.06361121683733,-29.412929811914527    1696\n",
       "     S     20 ...  266.0640337370894,-29.410668047486627    1697\n",
       "     S     21 ...  266.0450084117407,-29.406933935765426    1698\n",
       "     S     22 ...   266.0429064284553,-29.40827656209453    1699\n",
       "     S     23 ...    266.061159627194,-29.40033071708305    1700\n",
       "     S     24 ...   266.0606843265714,-29.39929136957136    1701"
      ]
     },
     "execution_count": 21,
     "metadata": {},
     "output_type": "execute_result"
    }
   ],
   "source": [
    "#rename field based id to anothter name to avoid confusion\n",
    "mastercat37.rename_column('id', 'old_id')\n",
    "\n",
    "#add new ids to the master catalog ahead of quality cuts\n",
    "mastercat37['id_init']=np.linspace(1,len(mastercat37),len(mastercat37),dtype=np.int)\n",
    "\n",
    "#print the master catalog\n",
    "mastercat37"
   ]
  },
  {
   "cell_type": "code",
   "execution_count": 22,
   "metadata": {},
   "outputs": [],
   "source": [
    "#Optional - write 'master' catalogs to fits prior to quality cuts\n",
    "#mastercat25.write('masterCatComb_FromFields_25um_NoCuts.fits',overwrite=True)\n",
    "\n",
    "#write out save ds9 region files  - Optional for inspection\n",
    "\n",
    "#set size of regions \n",
    "r = Angle(0.00083333, u.deg) #must be in degrees - current value is r=3\"\n",
    "#write out ds9 files\n",
    "makeDS9file('mastercatComb_37um_labelIDinit.reg', mastercat37, r, color='yellow', labelon=True, label=\"id_init\")\n",
    "makeDS9file('mastercatComb_37um_label4pixSNR.reg', mastercat37, r, color='cyan', labelon=True, label=\"aper_snr_4pix\")"
   ]
  },
  {
   "cell_type": "code",
   "execution_count": 23,
   "metadata": {},
   "outputs": [
    {
     "name": "stdout",
     "output_type": "stream",
     "text": [
      "Number of sources with duplicates included 1701\n",
      "number of likely duplicates:  367\n"
     ]
    },
    {
     "name": "stderr",
     "output_type": "stream",
     "text": [
      "C:\\Users\\MHANKI~1\\AppData\\Local\\Temp/ipykernel_2620/3399744466.py:15: DeprecationWarning: `np.int` is a deprecated alias for the builtin `int`. To silence this warning, use `int` by itself. Doing this will not modify any behavior and is safe. When replacing `np.int`, you may wish to use e.g. `np.int64` or `np.int32` to specify the precision. If you wish to review your current use, check the release note link for additional information.\n",
      "Deprecated in NumPy 1.20; for more details and guidance: https://numpy.org/devdocs/release/1.20.0-notes.html#deprecations\n",
      "  matchstore=np.zeros(len(cat),dtype=np.int)\n"
     ]
    },
    {
     "name": "stdout",
     "output_type": "stream",
     "text": [
      "Number of sources with duplicates removed 1508\n"
     ]
    }
   ],
   "source": [
    "#Now lets look at possible duplications that may exist because of overlapping data coverage\n",
    "\n",
    "print('Number of sources with duplicates included', len(mastercat37))\n",
    "\n",
    "mastercat37=remove_duplicates(mastercat37, 3.0*u.arcsec)\n",
    "\n",
    "print('Number of sources with duplicates removed', len(mastercat37))"
   ]
  },
  {
   "cell_type": "code",
   "execution_count": 24,
   "metadata": {},
   "outputs": [],
   "source": [
    "#write 'master' catalogs to fits - optional for testing\n",
    "#mastercat37.write('masterCat_FromFields_noDuplicates_37um.fits',overwrite=True)"
   ]
  },
  {
   "cell_type": "code",
   "execution_count": 25,
   "metadata": {},
   "outputs": [],
   "source": [
    "#write out save ds9 region files - optional for testing\n",
    "makeDS9file('mastercat_noDuplicates_37um_labelID.reg', mastercat37, r, color='magenta', labelon=True, label=\"id_init\")"
   ]
  },
  {
   "cell_type": "code",
   "execution_count": 26,
   "metadata": {},
   "outputs": [
    {
     "data": {
      "image/png": "[encoded data removed]",
      "text/plain": [
       "<Figure size 864x504 with 1 Axes>"
      ]
     },
     "metadata": {
      "needs_background": "light"
     },
     "output_type": "display_data"
    }
   ],
   "source": [
    "#now lets look at SNR distrobution\n",
    "binlist=np.linspace(1,40,20)\n",
    "\n",
    "plt.figure(figsize=(12,7))\n",
    "plt.title('Histogram of 4pix Ap SNR for 37 um Sources')\n",
    "plt.hist(mastercat37['aper_snr_4pix'],bins=binlist)\n",
    "plt.xlabel('SNR of Source')\n",
    "plt.ylabel('Number of Sources')\n",
    "#plt.xlim(0,25)\n",
    "plt.show()\n"
   ]
  },
  {
   "cell_type": "code",
   "execution_count": 27,
   "metadata": {},
   "outputs": [
    {
     "name": "stdout",
     "output_type": "stream",
     "text": [
      "Number of Catalog Sources after SNR cut:  1029\n"
     ]
    }
   ],
   "source": [
    "#lets examine SNR cuts...\n",
    "snrcut4pix=mastercat37['aper_snr_4pix']>=5.0 #max snr in all computed apertures must be gtreq to 5\n",
    "mcat37snrcut=mastercat37[snrcut4pix] #apply snr cut\n",
    "\n",
    "print(\"Number of Catalog Sources after SNR cut: \", len(mcat37snrcut))"
   ]
  },
  {
   "cell_type": "code",
   "execution_count": 28,
   "metadata": {},
   "outputs": [],
   "source": [
    "#more cuts to consider?"
   ]
  },
  {
   "cell_type": "code",
   "execution_count": 29,
   "metadata": {},
   "outputs": [],
   "source": [
    "makeDS9file('mastercatComb_4pixSNRselect_37m_NoLabel.reg', mcat37snrcut, r, color='green')"
   ]
  },
  {
   "cell_type": "code",
   "execution_count": null,
   "metadata": {},
   "outputs": [],
   "source": []
  },
  {
   "cell_type": "markdown",
   "metadata": {},
   "source": [
    "# Crossmatch the 25 and 37 um catalogs"
   ]
  },
  {
   "cell_type": "code",
   "execution_count": 30,
   "metadata": {},
   "outputs": [
    {
     "name": "stdout",
     "output_type": "stream",
     "text": [
      "Number of crossmatched 25/37 sources found:  604\n"
     ]
    }
   ],
   "source": [
    "#get source coordinates from both tables\n",
    "sources25=mcat25snrcut['sky_centroid']\n",
    "sources37=mcat37snrcut['sky_centroid']\n",
    "\n",
    "#crossmatch source lists to look for duplication\n",
    "idx,rdx, d2d, d3d = sources25.search_around_sky(sources37, 3*u.arcsec) #use larger search radius?\n",
    "print('Number of crossmatched 25/37 sources found: ', len(idx))"
   ]
  },
  {
   "cell_type": "code",
   "execution_count": 31,
   "metadata": {},
   "outputs": [],
   "source": [
    "matched25=mcat25snrcut[rdx]\n",
    "matched37=mcat37snrcut[idx]"
   ]
  },
  {
   "cell_type": "code",
   "execution_count": 32,
   "metadata": {},
   "outputs": [],
   "source": [
    "#find the 'not' indcies for sources in table\n",
    "def findNOTindex(tab,index):\n",
    "    allpos=np.linspace(0,len(tab)-1,len(tab),dtype=np.int64) \n",
    "    notindex=list(set(allpos)-set(index))\n",
    "    return notindex"
   ]
  },
  {
   "cell_type": "code",
   "execution_count": 33,
   "metadata": {},
   "outputs": [],
   "source": [
    "notrdx=findNOTindex(mcat25snrcut,rdx)\n",
    "only25=mcat25snrcut[notrdx]\n",
    "\n",
    "notidx=findNOTindex(mcat37snrcut,idx)\n",
    "only37=mcat37snrcut[notidx]"
   ]
  },
  {
   "cell_type": "code",
   "execution_count": 40,
   "metadata": {},
   "outputs": [],
   "source": [
    "t1=Table()\n",
    "t1['RA(J2000)']=matched25['RA(J2000)']\n",
    "t1['DEC(J2000)']=matched25['DEC(J2000)']\n",
    "t1['25um Flux (Jy)']=matched25['aper_sum_bkgsub_4pix']\n",
    "t1['25um SNR']=matched25['aper_snr_4pix']\n",
    "t1['37um Flux (Jy)']=matched37['aper_sum_bkgsub_4pix']\n",
    "t1['37um SNR']=matched37['aper_snr_4pix']\n",
    "\n",
    "t2=Table()\n",
    "t2['RA(J2000)']=only25['RA(J2000)']\n",
    "t2['DEC(J2000)']=only25['DEC(J2000)']\n",
    "t2['25um Flux (Jy)']=only25['aper_sum_bkgsub_4pix']\n",
    "t2['25um SNR']=only25['aper_snr_4pix']\n",
    "t2['37um Flux (Jy)']=-1\n",
    "t2['37um SNR']=-1\n",
    "\n",
    "t3=Table()\n",
    "t3['RA(J2000)']=only37['RA(J2000)']\n",
    "t3['DEC(J2000)']=only37['DEC(J2000)']\n",
    "t3['25um Flux (Jy)']=-1\n",
    "t3['25um SNR']=-1\n",
    "t3['37um Flux (Jy)']=only37['aper_sum_bkgsub_4pix']\n",
    "t3['37um SNR']=only37['aper_snr_4pix']"
   ]
  },
  {
   "cell_type": "code",
   "execution_count": 41,
   "metadata": {},
   "outputs": [],
   "source": [
    "mastercat=vstack((t1,t2,t3))"
   ]
  },
  {
   "cell_type": "code",
   "execution_count": 42,
   "metadata": {},
   "outputs": [
    {
     "data": {
      "text/html": [
       "<div><i>Table length=1464</i>\n",
       "<table id=\"table2668414544576\" class=\"table-striped table-bordered table-condensed\">\n",
       "<thead><tr><th>RA(J2000)</th><th>DEC(J2000)</th><th>25um Flux (Jy)</th><th>25um SNR</th><th>37um Flux (Jy)</th><th>37um SNR</th></tr></thead>\n",
       "<thead><tr><th>deg</th><th>deg</th><th></th><th></th><th></th><th></th></tr></thead>\n",
       "<thead><tr><th>float64</th><th>float64</th><th>float64</th><th>float64</th><th>float64</th><th>float64</th></tr></thead>\n",
       "<tr><td>266.33591716284303</td><td>-29.037906320021353</td><td>19.06</td><td>348.9</td><td>15.98</td><td>271.5</td></tr>\n",
       "<tr><td>266.3254722621009</td><td>-29.07789334142956</td><td>4.243</td><td>75.66</td><td>3.226</td><td>49.58</td></tr>\n",
       "<tr><td>266.31859196098685</td><td>-29.057902466534006</td><td>4.229</td><td>70.18</td><td>6.248</td><td>100.3</td></tr>\n",
       "<tr><td>266.31998201863314</td><td>-29.05390495647942</td><td>8.355</td><td>146.1</td><td>8.052</td><td>130.6</td></tr>\n",
       "<tr><td>266.3362279098425</td><td>-29.038785430975665</td><td>12.45</td><td>226.6</td><td>11.1</td><td>184.4</td></tr>\n",
       "<tr><td>266.33448072434913</td><td>-29.038787791948685</td><td>8.867</td><td>160</td><td>10.02</td><td>164.6</td></tr>\n",
       "<tr><td>266.35377268616793</td><td>-29.055963810072285</td><td>1.6</td><td>19.96</td><td>1.126</td><td>9.995</td></tr>\n",
       "<tr><td>266.3549333829732</td><td>-29.054051210496706</td><td>1.783</td><td>24.06</td><td>0.9815</td><td>6.991</td></tr>\n",
       "<tr><td>266.31650178163045</td><td>-29.031959479992114</td><td>1.662</td><td>26.95</td><td>1.491</td><td>17.07</td></tr>\n",
       "<tr><td>...</td><td>...</td><td>...</td><td>...</td><td>...</td><td>...</td></tr>\n",
       "<tr><td>266.1758811006956</td><td>-29.393053265869053</td><td>-1</td><td>-1</td><td>1.09</td><td>7.921</td></tr>\n",
       "<tr><td>266.19524203054436</td><td>-29.396363872936913</td><td>-1</td><td>-1</td><td>3.008</td><td>39.55</td></tr>\n",
       "<tr><td>266.15753993073696</td><td>-29.42821901269571</td><td>-1</td><td>-1</td><td>1.801</td><td>20.66</td></tr>\n",
       "<tr><td>266.1744813703697</td><td>-29.408554340729093</td><td>-1</td><td>-1</td><td>1.835</td><td>20.77</td></tr>\n",
       "<tr><td>266.0549635486131</td><td>-29.417901484657563</td><td>-1</td><td>-1</td><td>1.492</td><td>19.04</td></tr>\n",
       "<tr><td>266.0174095719637</td><td>-29.42366789441942</td><td>-1</td><td>-1</td><td>1.715</td><td>15.71</td></tr>\n",
       "<tr><td>266.02009113421934</td><td>-29.42486215220104</td><td>-1</td><td>-1</td><td>1.757</td><td>17.14</td></tr>\n",
       "<tr><td>266.0215176696424</td><td>-29.42163288306562</td><td>-1</td><td>-1</td><td>1.587</td><td>13.75</td></tr>\n",
       "<tr><td>266.06361121683733</td><td>-29.412929811914527</td><td>-1</td><td>-1</td><td>2.305</td><td>33.16</td></tr>\n",
       "<tr><td>266.0429064284553</td><td>-29.40827656209453</td><td>-1</td><td>-1</td><td>1.171</td><td>13.62</td></tr>\n",
       "</table></div>"
      ],
      "text/plain": [
       "<Table length=1464>\n",
       "    RA(J2000)           DEC(J2000)     ... 37um Flux (Jy) 37um SNR\n",
       "       deg                 deg         ...                        \n",
       "     float64             float64       ...    float64     float64 \n",
       "------------------ ------------------- ... -------------- --------\n",
       "266.33591716284303 -29.037906320021353 ...          15.98    271.5\n",
       " 266.3254722621009  -29.07789334142956 ...          3.226    49.58\n",
       "266.31859196098685 -29.057902466534006 ...          6.248    100.3\n",
       "266.31998201863314  -29.05390495647942 ...          8.052    130.6\n",
       " 266.3362279098425 -29.038785430975665 ...           11.1    184.4\n",
       "266.33448072434913 -29.038787791948685 ...          10.02    164.6\n",
       "266.35377268616793 -29.055963810072285 ...          1.126    9.995\n",
       " 266.3549333829732 -29.054051210496706 ...         0.9815    6.991\n",
       "266.31650178163045 -29.031959479992114 ...          1.491    17.07\n",
       "               ...                 ... ...            ...      ...\n",
       " 266.1758811006956 -29.393053265869053 ...           1.09    7.921\n",
       "266.19524203054436 -29.396363872936913 ...          3.008    39.55\n",
       "266.15753993073696  -29.42821901269571 ...          1.801    20.66\n",
       " 266.1744813703697 -29.408554340729093 ...          1.835    20.77\n",
       " 266.0549635486131 -29.417901484657563 ...          1.492    19.04\n",
       " 266.0174095719637  -29.42366789441942 ...          1.715    15.71\n",
       "266.02009113421934  -29.42486215220104 ...          1.757    17.14\n",
       " 266.0215176696424  -29.42163288306562 ...          1.587    13.75\n",
       "266.06361121683733 -29.412929811914527 ...          2.305    33.16\n",
       " 266.0429064284553  -29.40827656209453 ...          1.171    13.62"
      ]
     },
     "execution_count": 42,
     "metadata": {},
     "output_type": "execute_result"
    }
   ],
   "source": [
    "#change format of columns to save fewer decimal places\n",
    "for col in mastercat.colnames:\n",
    "    if col!='RA(J2000)' and col!='DEC(J2000)' and col!='type': #skip columns that aren't relevant\n",
    "        mastercat[col].info.format = '%.4G'\n",
    "\n",
    "#display catalog\n",
    "mastercat"
   ]
  },
  {
   "cell_type": "code",
   "execution_count": null,
   "metadata": {},
   "outputs": [],
   "source": []
  },
  {
   "cell_type": "code",
   "execution_count": 43,
   "metadata": {},
   "outputs": [],
   "source": [
    "#Optional - write 'master' catalogs to fits prior to quality cuts\n",
    "mastercat.write('masterCat_step3_final.fits',overwrite=True)"
   ]
  },
  {
   "cell_type": "code",
   "execution_count": null,
   "metadata": {},
   "outputs": [],
   "source": []
  },
  {
   "cell_type": "code",
   "execution_count": null,
   "metadata": {},
   "outputs": [],
   "source": []
  },
  {
   "cell_type": "code",
   "execution_count": null,
   "metadata": {},
   "outputs": [],
   "source": []
  },
  {
   "cell_type": "code",
   "execution_count": null,
   "metadata": {},
   "outputs": [],
   "source": []
  },
  {
   "cell_type": "code",
   "execution_count": null,
   "metadata": {},
   "outputs": [],
   "source": []
  },
  {
   "cell_type": "markdown",
   "metadata": {},
   "source": [
    "## testing..."
   ]
  },
  {
   "cell_type": "code",
   "execution_count": 37,
   "metadata": {},
   "outputs": [],
   "source": [
    "tab25=Table.read('FieldA_25um_CombCat.fits')\n",
    "#tab25"
   ]
  },
  {
   "cell_type": "code",
   "execution_count": 38,
   "metadata": {},
   "outputs": [],
   "source": [
    "tab37=Table.read('FieldA_37um_CombCat.fits')\n",
    "#tab37"
   ]
  },
  {
   "cell_type": "code",
   "execution_count": null,
   "metadata": {},
   "outputs": [],
   "source": []
  },
  {
   "cell_type": "code",
   "execution_count": null,
   "metadata": {},
   "outputs": [],
   "source": []
  },
  {
   "cell_type": "code",
   "execution_count": null,
   "metadata": {},
   "outputs": [],
   "source": [
    "keepcols=['RA(J2000)', 'DEC(J2000)','aper_sum_bkgsub_4pix','aper_snr_4pix','aper_sum_bkgsub_7pix','aper_snr_7pix',\n",
    "          'aper_sum_bkgsub_12pix','aper_snr_12pix','type']\n",
    "fincat=mastercat[keepcols]\n",
    "\n",
    "#change format of columns to save fewer decimal places\n",
    "for col in fincat.colnames:\n",
    "    if col!='RA(J2000)' and col!='DEC(J2000)' and col!='type': #skip columns that aren't relevant\n",
    "        fincat[col].info.format = '%.4G'\n",
    "\n",
    "#display catalog\n",
    "fincat"
   ]
  },
  {
   "cell_type": "code",
   "execution_count": null,
   "metadata": {},
   "outputs": [],
   "source": []
  }
 ],
 "metadata": {
  "kernelspec": {
   "display_name": "Python 3 (ipykernel)",
   "language": "python",
   "name": "python3"
  },
  "language_info": {
   "codemirror_mode": {
    "name": "ipython",
    "version": 3
   },
   "file_extension": ".py",
   "mimetype": "text/x-python",
   "name": "python",
   "nbconvert_exporter": "python",
   "pygments_lexer": "ipython3",
   "version": "3.9.7"
  }
 },
 "nbformat": 4,
 "nbformat_minor": 4
}
