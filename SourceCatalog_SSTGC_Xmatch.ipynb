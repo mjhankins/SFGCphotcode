{
 "cells": [
  {
   "cell_type": "markdown",
   "id": "eec2d5f2",
   "metadata": {},
   "source": [
    "# SOFIA/FORCAST Galactic Center SSTGC X-match Notebook"
   ]
  },
  {
   "cell_type": "markdown",
   "id": "880687a9",
   "metadata": {},
   "source": [
    "## Preliminary Steps - Select file to use from config.py and load in required packages"
   ]
  },
  {
   "cell_type": "code",
   "execution_count": 2,
   "id": "492d222e",
   "metadata": {},
   "outputs": [],
   "source": [
    "#import all required packages\n",
    "import os\n",
    "import numpy as np\n",
    "import re\n",
    "import matplotlib.pyplot as plt\n",
    "\n",
    "from astroquery.vizier import Vizier\n",
    "from astropy.io import fits,ascii\n",
    "from astropy.wcs import WCS\n",
    "from astropy import units as u\n",
    "from astropy.stats import sigma_clipped_stats\n",
    "from astropy.table import join, vstack, hstack\n",
    "from astropy.coordinates import SkyCoord, search_around_sky, Angle\n",
    "from astropy.coordinates.matching import _get_cartesian_kdtree\n",
    "from astropy.table import join, vstack, Table\n",
    "\n",
    "from regions import read_ds9, write_ds9, CircleSkyRegion"
   ]
  },
  {
   "cell_type": "code",
   "execution_count": 3,
   "id": "b4d91a9c",
   "metadata": {},
   "outputs": [],
   "source": [
    "#import configuration for selected file\n",
    "#from config import wavelength, segdetsig, finddetsig, bkgbox #import additional common paramters\n",
    "from config import dpath, dpathalt, ds9path #import additional common paramters\n",
    "\n",
    "from config import *\n"
   ]
  },
  {
   "cell_type": "code",
   "execution_count": 4,
   "id": "dc142fcb",
   "metadata": {},
   "outputs": [],
   "source": [
    "from FORCASTphot import makeDS9reg, findNOTindex"
   ]
  },
  {
   "cell_type": "markdown",
   "id": "2e4797c7",
   "metadata": {},
   "source": [
    "## Load in catalog from file"
   ]
  },
  {
   "cell_type": "code",
   "execution_count": 5,
   "id": "e75aaae4",
   "metadata": {},
   "outputs": [],
   "source": [
    "#change directory to where data is\n",
    "try:\n",
    "    os.chdir(dpath)\n",
    "except:\n",
    "    os.chdir(dpathalt)"
   ]
  },
  {
   "cell_type": "code",
   "execution_count": 6,
   "id": "cddd3b7d",
   "metadata": {},
   "outputs": [],
   "source": [
    "#load in the master catalogs\n",
    "mcat=Table.read('masterCat_step3_combined.fits')"
   ]
  },
  {
   "cell_type": "code",
   "execution_count": 7,
   "id": "2e086fae",
   "metadata": {},
   "outputs": [],
   "source": [
    "#add sky coord column if not already present\n",
    "if 'skycoords' not in mcat.columns:\n",
    "\n",
    "    ras=mcat[\"RA(J2000)\"]\n",
    "    decs=mcat[\"DEC(J2000)\"]\n",
    "\n",
    "    scobj=SkyCoord(ras,decs,unit=(u.hr,u.deg))\n",
    "    mcat[\"skycoords\"]=scobj\n",
    "\n",
    "    #print catalog to see the new entry\n",
    "    mcat"
   ]
  },
  {
   "cell_type": "code",
   "execution_count": 8,
   "id": "e2573194",
   "metadata": {},
   "outputs": [],
   "source": [
    "#mcat[mcat['id']==11]"
   ]
  },
  {
   "cell_type": "code",
   "execution_count": 9,
   "id": "b4189eb7",
   "metadata": {},
   "outputs": [],
   "source": [
    "#mcat[mcat['id']==12]"
   ]
  },
  {
   "cell_type": "markdown",
   "id": "eee52806",
   "metadata": {},
   "source": [
    "## Use astroquery to pull down the SSTGC catalog"
   ]
  },
  {
   "cell_type": "code",
   "execution_count": 10,
   "id": "385e6268",
   "metadata": {},
   "outputs": [
    {
     "name": "stdout",
     "output_type": "stream",
     "text": [
      "{'II/295': 'Spitzer IRAC survey of the galactic center (Ramirez+, 2008)', 'J/ApJ/685/958': 'Spitzer and Chandra sources in galactic center (Arendt+ 2008)'}\n",
      "TableList with 3 tables:\n",
      "\t'0:II/295/SSTGC' with 12 column(s) and 1000000 row(s) \n",
      "\t'1:II/295/GC-IRAC' with 8 column(s) and 1000000 row(s) \n",
      "\t'2:J/ApJ/685/958/table7' with 13 column(s) and 115 row(s) \n",
      " SSTGC    RAJ2000     DEJ2000    Jmag    Hmag   ... _5.8mag _8.0mag IRAC _2M\n",
      "          \"h:m:s\"     \"d:m:s\"    mag     mag    ...   mag     mag           \n",
      "------- ----------- ----------- ------ -------- ... ------- ------- ---- ---\n",
      "0000001 17 40 10.53 -29 32 49.2 16.204   13.493 ...      --      -- IRAC  2M\n",
      "0000002 17 40 10.62 -29 31 46.3 14.699   13.021 ...      --      -- IRAC  2M\n",
      "0000003 17 40 10.69 -29 32 57.4 14.558   12.976 ...      --      -- IRAC  2M\n",
      "0000004 17 40 10.69 -29 30 49.5 14.059   11.925 ...      --      -- IRAC  2M\n",
      "0000005 17 40 10.70 -29 31 12.1 13.900   13.339 ...      --      -- IRAC  2M\n",
      "0000006 17 40 10.70 -29 31 39.0 15.886   13.522 ...      --      -- IRAC  2M\n",
      "0000007 17 40 10.71 -29 26 06.8 13.135   11.176 ...      --      -- IRAC  2M\n",
      "0000008 17 40 10.71 -29 31 01.5 12.169   10.103 ...      --      -- IRAC  2M\n",
      "0000009 17 40 10.72 -29 24 55.2 13.318   11.258 ...      --      -- IRAC  2M\n",
      "0000010 17 40 10.72 -29 25 40.5 14.723   12.647 ...      --      -- IRAC  2M\n",
      "    ...         ...         ...    ...      ... ...     ...     ...  ... ...\n",
      "0999991 17 49 32.29 -28 48 13.2 15.317   15.115 ...      --      -- IRAC  2M\n",
      "0999992 17 49 32.30 -28 10 53.4 15.479   14.162 ...      --      -- IRAC  2M\n",
      "0999993 17 49 32.30 -28 19 17.5     --       -- ...      --      -- IRAC  2M\n",
      "0999994 17 49 32.30 -28 04 16.8 15.190   12.628 ...  10.421      -- IRAC  2M\n",
      "0999995 17 49 32.30 -28 06 20.2 14.913   12.318 ...  10.154      -- IRAC  2M\n",
      "0999996 17 49 32.30 -28 13 32.8 12.918    9.988 ...   7.094   7.153 IRAC  2M\n",
      "0999997 17 49 32.30 -28 37 46.6 14.892   13.232 ...  11.917      -- IRAC  2M\n",
      "0999998 17 49 32.30 -28 09 38.6 16.066   13.387 ...      --      -- IRAC  2M\n",
      "0999999 17 49 32.30 -28 24 29.6 14.732   13.207 ...  11.453      -- IRAC  2M\n",
      "1000000 17 49 32.30 -28 35 45.3 13.011   11.496 ...   9.590   9.625 IRAC  2M\n",
      "Length = 1000000 rows\n"
     ]
    }
   ],
   "source": [
    "#online catalog query\n",
    "catalog_list = Vizier.find_catalogs('Spitzer IRAC survey of the galactic center')\n",
    "print({k:v.description for k,v in catalog_list.items()})\n",
    "\n",
    "#get the SSTGC catalog\n",
    "Vizier.ROW_LIMIT = 1000000 #increased by factor of 10, otherwise no matches are returned\n",
    "catalog_irac = Vizier.get_catalogs(catalog_list.keys())\n",
    "print(catalog_irac)\n",
    "\n",
    "sstgc = catalog_irac['II/295/SSTGC']\n",
    "print(sstgc) "
   ]
  },
  {
   "cell_type": "code",
   "execution_count": 11,
   "id": "039e69bf",
   "metadata": {},
   "outputs": [],
   "source": [
    "#only select sources with 8um counterparts\n",
    "sstgc8um=sstgc[np.isnan(sstgc[\"_8.0mag\"])==False]\n",
    "\n",
    "#sstgc8um"
   ]
  },
  {
   "cell_type": "code",
   "execution_count": 12,
   "id": "6d915d2a",
   "metadata": {},
   "outputs": [
    {
     "data": {
      "text/html": [
       "<div><i>Table length=304346</i>\n",
       "<table id=\"table2507654577840\" class=\"table-striped table-bordered table-condensed\">\n",
       "<thead><tr><th>SSTGC</th><th>RAJ2000</th><th>DEJ2000</th><th>Jmag</th><th>Hmag</th><th>Ksmag</th><th>_3.6mag</th><th>_4.5mag</th><th>_5.8mag</th><th>_8.0mag</th><th>IRAC</th><th>_2M</th><th>skycoords</th></tr></thead>\n",
       "<thead><tr><th></th><th>&quot;h:m:s&quot;</th><th>&quot;d:m:s&quot;</th><th>mag</th><th>mag</th><th>mag</th><th>mag</th><th>mag</th><th>mag</th><th>mag</th><th></th><th></th><th>deg,deg</th></tr></thead>\n",
       "<thead><tr><th>str7</th><th>str11</th><th>str11</th><th>float32</th><th>float32</th><th>float32</th><th>float32</th><th>float32</th><th>float32</th><th>float32</th><th>str4</th><th>str2</th><th>object</th></tr></thead>\n",
       "<tr><td>0000181</td><td>17 40 12.19</td><td>-29 32 20.3</td><td>--</td><td>--</td><td>--</td><td>--</td><td>--</td><td>--</td><td>10.702</td><td>IRAC</td><td>2M</td><td>265.05079166666667,-29.538972222222224</td></tr>\n",
       "<tr><td>0000192</td><td>17 40 12.23</td><td>-29 27 46.4</td><td>13.988</td><td>12.000</td><td>11.264</td><td>--</td><td>10.861</td><td>--</td><td>11.033</td><td>IRAC</td><td>2M</td><td>265.0509583333333,-29.462888888888887</td></tr>\n",
       "<tr><td>0000200</td><td>17 40 12.28</td><td>-29 23 20.8</td><td>12.667</td><td>11.304</td><td>10.812</td><td>--</td><td>--</td><td>--</td><td>10.347</td><td>IRAC</td><td>2M</td><td>265.05116666666663,-29.38911111111111</td></tr>\n",
       "<tr><td>0000267</td><td>17 40 12.60</td><td>-29 23 17.5</td><td>11.468</td><td>10.482</td><td>10.148</td><td>--</td><td>--</td><td>--</td><td>9.785</td><td>IRAC</td><td>2M</td><td>265.05249999999995,-29.388194444444444</td></tr>\n",
       "<tr><td>0000268</td><td>17 40 12.60</td><td>-29 27 53.2</td><td>12.378</td><td>10.224</td><td>9.276</td><td>--</td><td>8.534</td><td>--</td><td>8.562</td><td>IRAC</td><td>2M</td><td>265.05249999999995,-29.464777777777776</td></tr>\n",
       "<tr><td>0000280</td><td>17 40 12.69</td><td>-29 23 06.6</td><td>12.528</td><td>10.470</td><td>9.560</td><td>--</td><td>9.092</td><td>--</td><td>8.908</td><td>IRAC</td><td>2M</td><td>265.052875,-29.385166666666667</td></tr>\n",
       "<tr><td>0000337</td><td>17 40 13.00</td><td>-29 23 16.3</td><td>13.133</td><td>12.774</td><td>12.063</td><td>--</td><td>--</td><td>--</td><td>11.650</td><td>IRAC</td><td>2M</td><td>265.0541666666667,-29.38786111111111</td></tr>\n",
       "<tr><td>0000341</td><td>17 40 13.01</td><td>-29 32 43.5</td><td>11.820</td><td>9.748</td><td>8.869</td><td>--</td><td>--</td><td>--</td><td>8.199</td><td>IRAC</td><td>2M</td><td>265.05420833333335,-29.545416666666668</td></tr>\n",
       "<tr><td>0000371</td><td>17 40 13.16</td><td>-29 23 19.2</td><td>13.682</td><td>12.323</td><td>11.510</td><td>--</td><td>--</td><td>--</td><td>10.896</td><td>IRAC</td><td>2M</td><td>265.05483333333336,-29.388666666666666</td></tr>\n",
       "<tr><td>...</td><td>...</td><td>...</td><td>...</td><td>...</td><td>...</td><td>...</td><td>...</td><td>...</td><td>...</td><td>...</td><td>...</td><td>...</td></tr>\n",
       "<tr><td>0999969</td><td>17 49 32.27</td><td>-28 38 30.9</td><td>12.664</td><td>10.832</td><td>9.930</td><td>9.297</td><td>9.505</td><td>9.202</td><td>9.276</td><td>IRAC</td><td>2M</td><td>267.3844583333333,-28.641916666666667</td></tr>\n",
       "<tr><td>0999972</td><td>17 49 32.27</td><td>-28 54 22.5</td><td>14.713</td><td>11.201</td><td>9.493</td><td>8.442</td><td>8.559</td><td>8.106</td><td>8.194</td><td>IRAC</td><td>2M</td><td>267.3844583333333,-28.90625</td></tr>\n",
       "<tr><td>0999973</td><td>17 49 32.28</td><td>-29 03 41.9</td><td>11.002</td><td>8.799</td><td>7.614</td><td>--</td><td>6.506</td><td>--</td><td>6.210</td><td>IRAC</td><td>2M</td><td>267.38449999999995,-29.06163888888889</td></tr>\n",
       "<tr><td>0999977</td><td>17 49 32.28</td><td>-28 14 07.6</td><td>13.692</td><td>10.835</td><td>9.537</td><td>8.636</td><td>8.616</td><td>8.328</td><td>8.431</td><td>IRAC</td><td>2M</td><td>267.38449999999995,-28.235444444444447</td></tr>\n",
       "<tr><td>0999979</td><td>17 49 32.28</td><td>-28 40 53.1</td><td>15.916</td><td>13.037</td><td>11.851</td><td>11.009</td><td>11.080</td><td>10.444</td><td>9.721</td><td>IRAC</td><td>2M</td><td>267.38449999999995,-28.681416666666667</td></tr>\n",
       "<tr><td>0999982</td><td>17 49 32.28</td><td>-28 12 57.5</td><td>14.975</td><td>12.062</td><td>10.746</td><td>9.863</td><td>9.797</td><td>9.691</td><td>9.721</td><td>IRAC</td><td>2M</td><td>267.38449999999995,-28.21597222222222</td></tr>\n",
       "<tr><td>0999984</td><td>17 49 32.29</td><td>-28 34 19.7</td><td>13.649</td><td>12.659</td><td>11.640</td><td>10.784</td><td>10.822</td><td>10.689</td><td>10.755</td><td>IRAC</td><td>2M</td><td>267.3845416666667,-28.57213888888889</td></tr>\n",
       "<tr><td>0999985</td><td>17 49 32.29</td><td>-28 37 07.6</td><td>12.754</td><td>12.447</td><td>12.210</td><td>12.014</td><td>11.968</td><td>11.934</td><td>11.522</td><td>IRAC</td><td>2M</td><td>267.3845416666667,-28.61877777777778</td></tr>\n",
       "<tr><td>0999996</td><td>17 49 32.30</td><td>-28 13 32.8</td><td>12.918</td><td>9.988</td><td>8.555</td><td>7.437</td><td>7.437</td><td>7.094</td><td>7.153</td><td>IRAC</td><td>2M</td><td>267.3845833333333,-28.225777777777775</td></tr>\n",
       "<tr><td>1000000</td><td>17 49 32.30</td><td>-28 35 45.3</td><td>13.011</td><td>11.496</td><td>10.493</td><td>9.718</td><td>9.789</td><td>9.590</td><td>9.625</td><td>IRAC</td><td>2M</td><td>267.3845833333333,-28.595916666666664</td></tr>\n",
       "</table></div>"
      ],
      "text/plain": [
       "<Table length=304346>\n",
       " SSTGC    RAJ2000     DEJ2000   ... _2M                skycoords               \n",
       "          \"h:m:s\"     \"d:m:s\"   ...                     deg,deg                \n",
       "  str7     str11       str11    ... str2                 object                \n",
       "------- ----------- ----------- ... ---- --------------------------------------\n",
       "0000181 17 40 12.19 -29 32 20.3 ...   2M 265.05079166666667,-29.538972222222224\n",
       "0000192 17 40 12.23 -29 27 46.4 ...   2M  265.0509583333333,-29.462888888888887\n",
       "0000200 17 40 12.28 -29 23 20.8 ...   2M  265.05116666666663,-29.38911111111111\n",
       "0000267 17 40 12.60 -29 23 17.5 ...   2M 265.05249999999995,-29.388194444444444\n",
       "0000268 17 40 12.60 -29 27 53.2 ...   2M 265.05249999999995,-29.464777777777776\n",
       "0000280 17 40 12.69 -29 23 06.6 ...   2M         265.052875,-29.385166666666667\n",
       "0000337 17 40 13.00 -29 23 16.3 ...   2M   265.0541666666667,-29.38786111111111\n",
       "0000341 17 40 13.01 -29 32 43.5 ...   2M 265.05420833333335,-29.545416666666668\n",
       "0000371 17 40 13.16 -29 23 19.2 ...   2M 265.05483333333336,-29.388666666666666\n",
       "    ...         ...         ... ...  ...                                    ...\n",
       "0999969 17 49 32.27 -28 38 30.9 ...   2M  267.3844583333333,-28.641916666666667\n",
       "0999972 17 49 32.27 -28 54 22.5 ...   2M            267.3844583333333,-28.90625\n",
       "0999973 17 49 32.28 -29 03 41.9 ...   2M  267.38449999999995,-29.06163888888889\n",
       "0999977 17 49 32.28 -28 14 07.6 ...   2M 267.38449999999995,-28.235444444444447\n",
       "0999979 17 49 32.28 -28 40 53.1 ...   2M 267.38449999999995,-28.681416666666667\n",
       "0999982 17 49 32.28 -28 12 57.5 ...   2M  267.38449999999995,-28.21597222222222\n",
       "0999984 17 49 32.29 -28 34 19.7 ...   2M   267.3845416666667,-28.57213888888889\n",
       "0999985 17 49 32.29 -28 37 07.6 ...   2M   267.3845416666667,-28.61877777777778\n",
       "0999996 17 49 32.30 -28 13 32.8 ...   2M  267.3845833333333,-28.225777777777775\n",
       "1000000 17 49 32.30 -28 35 45.3 ...   2M  267.3845833333333,-28.595916666666664"
      ]
     },
     "execution_count": 12,
     "metadata": {},
     "output_type": "execute_result"
    }
   ],
   "source": [
    "#add new skycoord object to the VIZIER table for crossmatching\n",
    "ras=sstgc8um[\"RAJ2000\"]\n",
    "decs=sstgc8um[\"DEJ2000\"]\n",
    "\n",
    "scobj=SkyCoord(ras,decs,unit=(u.hr,u.deg))\n",
    "sstgc8um[\"skycoords\"]=scobj\n",
    "\n",
    "#print catalog to see the new entry\n",
    "sstgc8um"
   ]
  },
  {
   "cell_type": "markdown",
   "id": "d1032e4b",
   "metadata": {},
   "source": [
    "## Perform cross match between tables for astrometry comparison"
   ]
  },
  {
   "cell_type": "code",
   "execution_count": 13,
   "id": "514b70f8",
   "metadata": {},
   "outputs": [
    {
     "name": "stdout",
     "output_type": "stream",
     "text": [
      "Number of crossmatched sources found:  677\n"
     ]
    }
   ],
   "source": [
    "SSTGCsources=sstgc8um['skycoords']\n",
    "mcatsources=mcat['skycoords']\n",
    "\n",
    "idx,rdx, d2d, d3d = mcatsources.search_around_sky(SSTGCsources, 5*u.arcsec) #use 5\" for plotting, 3\" for catalog matches\n",
    "\n",
    "print('Number of crossmatched sources found: ', len(idx))"
   ]
  },
  {
   "cell_type": "code",
   "execution_count": 14,
   "id": "2ef71f3b",
   "metadata": {},
   "outputs": [],
   "source": [
    "#create new tables containing only the crossmatched sources\n",
    "matchedSSTGC=sstgc8um[idx]\n",
    "matchedmcat=mcat[rdx]"
   ]
  },
  {
   "cell_type": "code",
   "execution_count": 15,
   "id": "58295525",
   "metadata": {},
   "outputs": [],
   "source": [
    "#idx"
   ]
  },
  {
   "cell_type": "code",
   "execution_count": 16,
   "id": "5206248c",
   "metadata": {},
   "outputs": [],
   "source": [
    "#d2d"
   ]
  },
  {
   "cell_type": "code",
   "execution_count": 17,
   "id": "2dcca55a",
   "metadata": {},
   "outputs": [
    {
     "name": "stdout",
     "output_type": "stream",
     "text": [
      "Average difference in RA:  6.194483886662779e-05 ,  Standard deviation of difference:  0.0005521026136602493\n",
      "Average difference in DEC:  -3.10519845697214e-05 ,  Standard deviation of difference:  0.0005138156365896385\n"
     ]
    }
   ],
   "source": [
    "#Examine the positional accuracy of the cross match\n",
    "deltaRA=matchedmcat['skycoords'].ra.deg - matchedSSTGC['skycoords'].ra.deg\n",
    "deltaDEC=matchedmcat['skycoords'].dec.deg - matchedSSTGC['skycoords'].dec.deg\n",
    "\n",
    "print(\"Average difference in RA: \", np.mean(deltaRA), \",  Standard deviation of difference: \", np.std(deltaRA))\n",
    "print(\"Average difference in DEC: \", np.mean(deltaDEC), \",  Standard deviation of difference: \", np.std(deltaDEC))"
   ]
  },
  {
   "cell_type": "code",
   "execution_count": 18,
   "id": "fae48cc1",
   "metadata": {},
   "outputs": [
    {
     "name": "stdout",
     "output_type": "stream",
     "text": [
      "Average difference in RA:  0.22300141992321185 ,  Standard deviation of difference:  1.9875694091767073\n",
      "Average difference in DEC:  -0.11178714445123825 ,  Standard deviation of difference:  1.8497362917224218\n"
     ]
    }
   ],
   "source": [
    "#Examine the positional accuracy of the cross match\n",
    "deltaRA=matchedmcat['skycoords'].ra.arcsec - matchedSSTGC['skycoords'].ra.arcsec\n",
    "deltaDEC=matchedmcat['skycoords'].dec.arcsec - matchedSSTGC['skycoords'].dec.arcsec\n",
    "\n",
    "print(\"Average difference in RA: \", np.mean(deltaRA), \",  Standard deviation of difference: \", np.std(deltaRA))\n",
    "print(\"Average difference in DEC: \", np.mean(deltaDEC), \",  Standard deviation of difference: \", np.std(deltaDEC))"
   ]
  },
  {
   "cell_type": "code",
   "execution_count": 19,
   "id": "0cc9f89c",
   "metadata": {},
   "outputs": [
    {
     "data": {
      "image/png": "[encoded data removed]",
      "text/plain": [
       "<Figure size 576x576 with 3 Axes>"
      ]
     },
     "metadata": {
      "needs_background": "light"
     },
     "output_type": "display_data"
    }
   ],
   "source": [
    "#define a 'fancy' scatter+histogram plot\n",
    "def scatter_hist(x, y, ax, ax_histx, ax_histy):\n",
    "    # no labels\n",
    "    ax_histx.tick_params(axis=\"x\", labelbottom=False)\n",
    "    ax_histy.tick_params(axis=\"y\", labelleft=False)\n",
    "\n",
    "    # the scatter plot:\n",
    "    ax.scatter(x, y)\n",
    "\n",
    "    # now determine nice limits by hand:\n",
    "    binwidth = 0.25 #1e-4\n",
    "    xymax = max(np.max(np.abs(x)), np.max(np.abs(y)))\n",
    "    lim = (int(xymax/binwidth) + 1) * binwidth\n",
    "\n",
    "    bins = np.arange(-lim, lim + binwidth, binwidth)\n",
    "    ax_histx.hist(deltaRA, bins=bins)\n",
    "    ax_histy.hist(deltaDEC, bins=bins, orientation='horizontal')\n",
    "\n",
    "    \n",
    "    \n",
    "#make the scatter+hist plot for position x-match\n",
    "plt.rcParams.update({'font.size': 14})\n",
    "\n",
    "# definitions for the axes\n",
    "left, width = 0.1, 0.65\n",
    "bottom, height = 0.1, 0.65\n",
    "spacing = 0.02\n",
    "\n",
    "\n",
    "rect_scatter = [left, bottom, width, height]\n",
    "rect_histx = [left, bottom + height + spacing, width, 0.2]\n",
    "rect_histy = [left + width + spacing, bottom, 0.2, height]\n",
    "\n",
    "# start with a square Figure\n",
    "fig = plt.figure(figsize=(8, 8))\n",
    "\n",
    "ax = fig.add_axes(rect_scatter)\n",
    "ax_histx = fig.add_axes(rect_histx, sharex=ax)\n",
    "ax_histy = fig.add_axes(rect_histy, sharey=ax)\n",
    "\n",
    "# use the previously defined function\n",
    "scatter_hist(deltaRA, deltaDEC, ax, ax_histx, ax_histy)\n",
    "\n",
    "ax.set_xlabel('RA Difference (\\\")')\n",
    "ax.set_ylabel('DEC Difference (\\\")')\n",
    "\n",
    "plt.show()\n"
   ]
  },
  {
   "cell_type": "code",
   "execution_count": null,
   "id": "726630fc",
   "metadata": {},
   "outputs": [],
   "source": []
  },
  {
   "cell_type": "code",
   "execution_count": 20,
   "id": "4c637064",
   "metadata": {},
   "outputs": [
    {
     "data": {
      "text/plain": [
       "array([ 90599,  90706, 102975, 115376, 117373, 117431, 125886, 129212,\n",
       "       133907, 138829, 148113, 148311, 151192, 153484, 157466, 162130,\n",
       "       164887, 164994, 165143, 166036, 166132, 166153, 166496, 166935,\n",
       "       166987, 167478, 167488, 167517, 170914, 170938, 171974, 174644,\n",
       "       176401, 176440, 177130, 177896, 178869, 179755, 183612, 185769,\n",
       "       186336, 186960, 186969, 190238, 190630, 192191, 192212, 192371,\n",
       "       192478, 193776, 195159, 195163, 195918, 206367, 209423, 216706,\n",
       "       229410, 231569, 232072, 232467, 234645, 235319, 239278, 239443,\n",
       "       240096, 240916, 240989, 242643, 244586, 244713, 246542, 250667])"
      ]
     },
     "execution_count": 20,
     "metadata": {},
     "output_type": "execute_result"
    }
   ],
   "source": [
    "#idx\n",
    "w, c = np.unique(idx, return_counts=True)\n",
    "w[c > 1]"
   ]
  },
  {
   "cell_type": "code",
   "execution_count": 21,
   "id": "77e4eadf",
   "metadata": {},
   "outputs": [
    {
     "data": {
      "text/plain": [
       "array([ 19,  23,  32,  49,  51,  58,  63,  97, 115, 118, 125, 139, 157,\n",
       "       159, 164, 187, 207, 209, 218, 223, 243, 262, 265, 289, 308, 321,\n",
       "       329, 342, 362, 367, 385, 391, 395, 396, 414, 415, 427, 429, 432,\n",
       "       439, 465, 467, 474, 541, 543, 569, 584, 587, 615, 641, 660, 665,\n",
       "       684, 709, 713, 718, 743, 747, 774, 822, 837, 871, 899, 910, 912,\n",
       "       946])"
      ]
     },
     "execution_count": 21,
     "metadata": {},
     "output_type": "execute_result"
    }
   ],
   "source": [
    "#idx\n",
    "w, c = np.unique(rdx, return_counts=True)\n",
    "w[c > 1]"
   ]
  },
  {
   "cell_type": "code",
   "execution_count": null,
   "id": "36fc5434",
   "metadata": {},
   "outputs": [],
   "source": []
  },
  {
   "cell_type": "code",
   "execution_count": 22,
   "id": "b62ebce4",
   "metadata": {},
   "outputs": [],
   "source": [
    "def remove_duplicates2(cat1,cat2,radius):\n",
    "    \n",
    "    #get source coordinates from both tables\n",
    "    sources1=cat1['skycoords']\n",
    "    sources2=cat2['skycoords']\n",
    "\n",
    "    #crossmatch source lists to look for duplication\n",
    "    idx,rdx, d2d, d3d = sources1.search_around_sky(sources2, radius*u.arcsec)\n",
    "    print('Number of crossmatched sources found: ', len(idx))\n",
    "    \n",
    "    order=np.argsort(d2d)\n",
    "    dvals=d2d[order].arcsec\n",
    "    idxsort=idx[order]\n",
    "    rdxsort=rdx[order]\n",
    "    \n",
    "    catsort1=cat1[rdxsort]  #this cell is where the changes can be made to swap between tables. \n",
    "    catsort2=cat2[idxsort]\n",
    "    #m37=mcat37snrcut[idxsort]\n",
    "    #m25['xmatchd2d']=np.round(dvals,3)\n",
    "\n",
    "    sindex=0\n",
    "    start=catsort1[:sindex]\n",
    "    \n",
    "    \n",
    "    try:\n",
    "        colname='SourceID'\n",
    "        sourceList=list(start[colname])\n",
    "    except:\n",
    "        colname='SSTGC'\n",
    "        sourceList=list(start[colname])\n",
    "    \n",
    "    #reject_idx=[]\n",
    "    #reject_rdx=[]\n",
    "    #d2d_update=[]\n",
    "    ivals=[]\n",
    "\n",
    "    for i in range(sindex+1,len(catsort1)):\n",
    "        newsid=catsort1[i][colname]\n",
    "\n",
    "        if newsid not in sourceList:\n",
    "            sourceList.append(newsid)\n",
    "        else:\n",
    "            #print(newsid, \" is already in source list!\")\n",
    "            #reject_idx.append(idxsort[i])\n",
    "            #reject_rdx.append(rdxsort[i])\n",
    "            #d2d_update.append(dvals[i])\n",
    "            ivals.append(i)\n",
    "\n",
    "\n",
    "\n",
    "     \n",
    "    rdxNoDup=np.delete(rdxsort,ivals)    \n",
    "    idxNoDup=np.delete(idxsort,ivals) \n",
    "    d2dup=np.delete(dvals,ivals)\n",
    "\n",
    "    cat1nd=cat1[rdxNoDup]\n",
    "    cat2nd=cat2[idxNoDup]\n",
    "    \n",
    "    \n",
    "    return cat1nd,cat2nd,d2dup"
   ]
  },
  {
   "cell_type": "code",
   "execution_count": 23,
   "id": "b8f755f2",
   "metadata": {},
   "outputs": [
    {
     "name": "stdout",
     "output_type": "stream",
     "text": [
      "Number of crossmatched sources found:  487\n"
     ]
    }
   ],
   "source": [
    "stgccat,matchedmcat,d2dup=remove_duplicates2(sstgc8um,mcat,3.0)"
   ]
  },
  {
   "cell_type": "code",
   "execution_count": 25,
   "id": "c9b02ace",
   "metadata": {},
   "outputs": [
    {
     "name": "stdout",
     "output_type": "stream",
     "text": [
      "Number of crossmatched sources found:  505\n"
     ]
    }
   ],
   "source": [
    "matchedmcat,stgccat,d2dup=remove_duplicates2(matchedmcat,stgccat,3.0)"
   ]
  },
  {
   "cell_type": "code",
   "execution_count": 26,
   "id": "590e01e4",
   "metadata": {},
   "outputs": [
    {
     "data": {
      "text/plain": [
       "449"
      ]
     },
     "execution_count": 26,
     "metadata": {},
     "output_type": "execute_result"
    }
   ],
   "source": [
    "len(stgccat)"
   ]
  },
  {
   "cell_type": "code",
   "execution_count": 27,
   "id": "0917d478",
   "metadata": {},
   "outputs": [
    {
     "data": {
      "text/plain": [
       "449"
      ]
     },
     "execution_count": 27,
     "metadata": {},
     "output_type": "execute_result"
    }
   ],
   "source": [
    "len(matchedmcat)"
   ]
  },
  {
   "cell_type": "code",
   "execution_count": 28,
   "id": "37bb1bdf",
   "metadata": {},
   "outputs": [
    {
     "data": {
      "text/plain": [
       "449"
      ]
     },
     "execution_count": 28,
     "metadata": {},
     "output_type": "execute_result"
    }
   ],
   "source": [
    "len(d2dup)"
   ]
  },
  {
   "cell_type": "code",
   "execution_count": 29,
   "id": "bf7fb6b1",
   "metadata": {},
   "outputs": [
    {
     "data": {
      "text/html": [
       "&lt;MaskedColumn name=&apos;SSTGC&apos; dtype=&apos;str7&apos; length=0&gt;\n",
       "<table>\n",
       "</table>"
      ],
      "text/plain": [
       "<MaskedColumn name='SSTGC' dtype='str7' length=0>"
      ]
     },
     "execution_count": 29,
     "metadata": {},
     "output_type": "execute_result"
    }
   ],
   "source": [
    "w, c = np.unique(stgccat['SSTGC'], return_counts=True)\n",
    "w[c > 1]"
   ]
  },
  {
   "cell_type": "code",
   "execution_count": 30,
   "id": "f68ed621",
   "metadata": {},
   "outputs": [
    {
     "data": {
      "text/html": [
       "&lt;Column name=&apos;SourceID&apos; dtype=&apos;bytes17&apos; length=0&gt;\n",
       "<table>\n",
       "</table>"
      ],
      "text/plain": [
       "<Column name='SourceID' dtype='bytes17' length=0>"
      ]
     },
     "execution_count": 30,
     "metadata": {},
     "output_type": "execute_result"
    }
   ],
   "source": [
    "w, c = np.unique(matchedmcat['SourceID'], return_counts=True)\n",
    "w[c > 1]"
   ]
  },
  {
   "cell_type": "code",
   "execution_count": 31,
   "id": "31c57b46",
   "metadata": {
    "scrolled": true
   },
   "outputs": [
    {
     "data": {
      "text/html": [
       "<div><i>Table length=449</i>\n",
       "<table id=\"table2507749736896\" class=\"table-striped table-bordered table-condensed\">\n",
       "<thead><tr><th>SSTGC</th><th>RAJ2000</th><th>DEJ2000</th><th>Jmag</th><th>Hmag</th><th>Ksmag</th><th>_3.6mag</th><th>_4.5mag</th><th>_5.8mag</th><th>_8.0mag</th><th>IRAC</th><th>_2M</th><th>skycoords</th></tr></thead>\n",
       "<thead><tr><th></th><th>&quot;h:m:s&quot;</th><th>&quot;d:m:s&quot;</th><th>mag</th><th>mag</th><th>mag</th><th>mag</th><th>mag</th><th>mag</th><th>mag</th><th></th><th></th><th>deg,deg</th></tr></thead>\n",
       "<thead><tr><th>str7</th><th>str11</th><th>str11</th><th>float32</th><th>float32</th><th>float32</th><th>float32</th><th>float32</th><th>float32</th><th>float32</th><th>str4</th><th>str2</th><th>object</th></tr></thead>\n",
       "<tr><td>0558345</td><td>17 45 52.11</td><td>-28 47 18.4</td><td>10.354</td><td>7.426</td><td>5.802</td><td>--</td><td>--</td><td>3.473</td><td>3.661</td><td>IRAC</td><td>2M</td><td>266.467125,-28.788444444444448</td></tr>\n",
       "<tr><td>0673798</td><td>17 46 34.01</td><td>-28 42 46.2</td><td>15.855</td><td>12.880</td><td>9.720</td><td>7.191</td><td>6.466</td><td>5.743</td><td>5.558</td><td>IRAC</td><td>2M</td><td>266.64170833333327,-28.712833333333332</td></tr>\n",
       "<tr><td>0777321</td><td>17 47 14.83</td><td>-28 30 56.8</td><td>--</td><td>--</td><td>--</td><td>10.819</td><td>9.829</td><td>8.692</td><td>6.833</td><td>IRAC</td><td>2M</td><td>266.8117916666667,-28.515777777777778</td></tr>\n",
       "<tr><td>0667560</td><td>17 46 31.70</td><td>-28 35 41.2</td><td>--</td><td>--</td><td>--</td><td>7.824</td><td>6.393</td><td>5.374</td><td>5.041</td><td>IRAC</td><td>2M</td><td>266.63208333333324,-28.594777777777775</td></tr>\n",
       "<tr><td>0414950</td><td>17 44 58.95</td><td>-29 16 27.4</td><td>10.605</td><td>7.348</td><td>5.658</td><td>--</td><td>5.737</td><td>3.756</td><td>3.708</td><td>IRAC</td><td>2M</td><td>266.24562499999996,-29.274277777777776</td></tr>\n",
       "<tr><td>0521894</td><td>17 45 38.82</td><td>-28 52 31.9</td><td>--</td><td>--</td><td>--</td><td>10.668</td><td>9.378</td><td>7.410</td><td>5.598</td><td>IRAC</td><td>2M</td><td>266.41175,-28.87552777777778</td></tr>\n",
       "<tr><td>0543623</td><td>17 45 46.74</td><td>-28 51 04.5</td><td>16.119</td><td>13.130</td><td>11.646</td><td>10.126</td><td>--</td><td>--</td><td>7.960</td><td>IRAC</td><td>2M</td><td>266.44475,-28.85125</td></tr>\n",
       "<tr><td>0515803</td><td>17 45 36.61</td><td>-28 59 45.8</td><td>--</td><td>--</td><td>--</td><td>--</td><td>--</td><td>--</td><td>6.617</td><td>IRAC</td><td>2M</td><td>266.4025416666666,-28.996055555555557</td></tr>\n",
       "<tr><td>0648643</td><td>17 46 24.87</td><td>-29 00 01.3</td><td>17.327</td><td>13.881</td><td>10.972</td><td>7.673</td><td>6.394</td><td>5.281</td><td>4.893</td><td>IRAC</td><td>2M</td><td>266.6036249999999,-29.00036111111111</td></tr>\n",
       "<tr><td>...</td><td>...</td><td>...</td><td>...</td><td>...</td><td>...</td><td>...</td><td>...</td><td>...</td><td>...</td><td>...</td><td>...</td><td>...</td></tr>\n",
       "<tr><td>0809627</td><td>17 47 29.40</td><td>-28 26 13.5</td><td>--</td><td>--</td><td>--</td><td>--</td><td>--</td><td>--</td><td>7.238</td><td>IRAC</td><td>2M</td><td>266.8725,-28.437083333333334</td></tr>\n",
       "<tr><td>0368854</td><td>17 44 41.29</td><td>-29 24 35.4</td><td>--</td><td>--</td><td>--</td><td>10.834</td><td>9.641</td><td>--</td><td>6.380</td><td>IRAC</td><td>2M</td><td>266.17204166666664,-29.40983333333333</td></tr>\n",
       "<tr><td>0793867</td><td>17 47 22.14</td><td>-28 22 17.0</td><td>--</td><td>--</td><td>--</td><td>--</td><td>--</td><td>8.837</td><td>6.756</td><td>IRAC</td><td>2M</td><td>266.84225000000004,-28.37138888888889</td></tr>\n",
       "<tr><td>0373058</td><td>17 44 42.91</td><td>-29 22 55.7</td><td>--</td><td>--</td><td>--</td><td>12.212</td><td>11.477</td><td>10.542</td><td>8.436</td><td>IRAC</td><td>2M</td><td>266.17879166666665,-29.38213888888889</td></tr>\n",
       "<tr><td>0562378</td><td>17 45 53.60</td><td>-28 58 08.1</td><td>--</td><td>--</td><td>--</td><td>--</td><td>--</td><td>--</td><td>5.544</td><td>IRAC</td><td>2M</td><td>266.4733333333333,-28.968916666666665</td></tr>\n",
       "<tr><td>0650438</td><td>17 46 25.53</td><td>-28 47 30.9</td><td>--</td><td>--</td><td>--</td><td>--</td><td>--</td><td>8.977</td><td>7.095</td><td>IRAC</td><td>2M</td><td>266.60637499999996,-28.79191666666667</td></tr>\n",
       "<tr><td>0623735</td><td>17 46 15.85</td><td>-28 49 52.0</td><td>--</td><td>--</td><td>--</td><td>--</td><td>--</td><td>--</td><td>6.215</td><td>IRAC</td><td>2M</td><td>266.5660416666666,-28.83111111111111</td></tr>\n",
       "<tr><td>0556344</td><td>17 45 51.39</td><td>-28 52 38.3</td><td>--</td><td>--</td><td>--</td><td>--</td><td>--</td><td>9.639</td><td>7.565</td><td>IRAC</td><td>2M</td><td>266.46412499999997,-28.877305555555555</td></tr>\n",
       "<tr><td>0619683</td><td>17 46 14.39</td><td>-28 50 02.5</td><td>13.489</td><td>11.481</td><td>9.051</td><td>7.246</td><td>6.778</td><td>6.089</td><td>5.997</td><td>IRAC</td><td>2M</td><td>266.55995833333327,-28.834027777777777</td></tr>\n",
       "<tr><td>0775471</td><td>17 47 14.00</td><td>-28 26 38.7</td><td>--</td><td>--</td><td>--</td><td>--</td><td>11.423</td><td>8.946</td><td>6.919</td><td>IRAC</td><td>2M</td><td>266.80833333333334,-28.444083333333335</td></tr>\n",
       "</table></div>"
      ],
      "text/plain": [
       "<Table length=449>\n",
       " SSTGC    RAJ2000     DEJ2000   ... _2M                skycoords               \n",
       "          \"h:m:s\"     \"d:m:s\"   ...                     deg,deg                \n",
       "  str7     str11       str11    ... str2                 object                \n",
       "------- ----------- ----------- ... ---- --------------------------------------\n",
       "0558345 17 45 52.11 -28 47 18.4 ...   2M         266.467125,-28.788444444444448\n",
       "0673798 17 46 34.01 -28 42 46.2 ...   2M 266.64170833333327,-28.712833333333332\n",
       "0777321 17 47 14.83 -28 30 56.8 ...   2M  266.8117916666667,-28.515777777777778\n",
       "0667560 17 46 31.70 -28 35 41.2 ...   2M 266.63208333333324,-28.594777777777775\n",
       "0414950 17 44 58.95 -29 16 27.4 ...   2M 266.24562499999996,-29.274277777777776\n",
       "0521894 17 45 38.82 -28 52 31.9 ...   2M           266.41175,-28.87552777777778\n",
       "0543623 17 45 46.74 -28 51 04.5 ...   2M                    266.44475,-28.85125\n",
       "0515803 17 45 36.61 -28 59 45.8 ...   2M  266.4025416666666,-28.996055555555557\n",
       "0648643 17 46 24.87 -29 00 01.3 ...   2M   266.6036249999999,-29.00036111111111\n",
       "    ...         ...         ... ...  ...                                    ...\n",
       "0809627 17 47 29.40 -28 26 13.5 ...   2M           266.8725,-28.437083333333334\n",
       "0368854 17 44 41.29 -29 24 35.4 ...   2M  266.17204166666664,-29.40983333333333\n",
       "0793867 17 47 22.14 -28 22 17.0 ...   2M  266.84225000000004,-28.37138888888889\n",
       "0373058 17 44 42.91 -29 22 55.7 ...   2M  266.17879166666665,-29.38213888888889\n",
       "0562378 17 45 53.60 -28 58 08.1 ...   2M  266.4733333333333,-28.968916666666665\n",
       "0650438 17 46 25.53 -28 47 30.9 ...   2M  266.60637499999996,-28.79191666666667\n",
       "0623735 17 46 15.85 -28 49 52.0 ...   2M   266.5660416666666,-28.83111111111111\n",
       "0556344 17 45 51.39 -28 52 38.3 ...   2M 266.46412499999997,-28.877305555555555\n",
       "0619683 17 46 14.39 -28 50 02.5 ...   2M 266.55995833333327,-28.834027777777777\n",
       "0775471 17 47 14.00 -28 26 38.7 ...   2M 266.80833333333334,-28.444083333333335"
      ]
     },
     "execution_count": 31,
     "metadata": {},
     "output_type": "execute_result"
    }
   ],
   "source": [
    "stgccat"
   ]
  },
  {
   "cell_type": "code",
   "execution_count": 32,
   "id": "698a7ec6",
   "metadata": {},
   "outputs": [],
   "source": [
    "#np.max(matchedmcat['skycoords'].ra.arcsec-stgccat['skycoords'].ra.arcsec)"
   ]
  },
  {
   "cell_type": "code",
   "execution_count": 35,
   "id": "870cadf5",
   "metadata": {
    "scrolled": true
   },
   "outputs": [
    {
     "data": {
      "text/html": [
       "<div><i>Table length=449</i>\n",
       "<table id=\"table2507768483792\" class=\"table-striped table-bordered table-condensed\">\n",
       "<thead><tr><th>SourceID</th><th>RA(J2000)</th><th>DEC(J2000)</th><th>25um_Flux_4pix</th><th>25um_Flux_err_4pix</th><th>25um_SNR_4pix</th><th>25um_Flux_8pix</th><th>25um_Flux_err_8pix</th><th>25um_SNR_8pix</th><th>25um_Flux_12pix</th><th>25um_Flux_err_12pix</th><th>25um_SNR_12pix</th><th>25ApRatio8_4</th><th>25ApRatio12_8</th><th>25um_Flux_M2D</th><th>25um_Flux_err_M2D</th><th>25um_M2D_chi2</th><th>25um_Flux_G2D</th><th>25um_Flux_err_G2D</th><th>25um_G2D_chi2</th><th>25um_BestModel</th><th>fwhm25</th><th>elong25</th><th>bkg_qflag25</th><th>shape_qflag25</th><th>cutout25 [25,25]</th><th>37um_Flux_5.5pix</th><th>37um_Flux_err_5.5pix</th><th>37um_SNR_5.5pix</th><th>37um_Flux_10.5pix</th><th>37um_Flux_err_10.5pix</th><th>37um_SNR_10.5pix</th><th>37um_Flux_14pix</th><th>37um_Flux_err_14pix</th><th>37um_SNR_14pix</th><th>37ApRatio10.5_5.5</th><th>37ApRatio14_10.5</th><th>37um_Flux_M2D</th><th>37um_Flux_err_M2D</th><th>37um_M2D_chi2</th><th>37um_Flux_G2D</th><th>37um_Flux_err_G2D</th><th>37um_G2D_chi2</th><th>37um_BestModel</th><th>fwhm37</th><th>elong37</th><th>bkg_qflag37</th><th>shape_qflag37</th><th>cutout37 [31,31]</th><th>FieldID</th><th>SID25</th><th>SID37</th><th>sky_centroid</th><th>25ApPhot_qflag</th><th>25Ap_4pix_UL</th><th>25Ap_8pix_UL</th><th>25Ap_12pix_UL</th><th>37ApPhot_qflag</th><th>37Ap_5.5pix_UL</th><th>37Ap_10.5pix_UL</th><th>37Ap_14pix_UL</th><th>id</th><th>skycoords</th><th>SSTGCxmatch</th><th>SSTGCd2d</th><th>_8.0mag</th><th>_5.8mag</th><th>_4.5mag</th><th>_3.6mag</th></tr></thead>\n",
       "<thead><tr><th></th><th>deg</th><th>deg</th><th></th><th></th><th></th><th></th><th></th><th></th><th></th><th></th><th></th><th></th><th></th><th></th><th></th><th></th><th></th><th></th><th></th><th></th><th></th><th></th><th></th><th></th><th></th><th></th><th></th><th></th><th></th><th></th><th></th><th></th><th></th><th></th><th></th><th></th><th></th><th></th><th></th><th></th><th></th><th></th><th></th><th></th><th></th><th></th><th></th><th></th><th></th><th></th><th></th><th>deg,deg</th><th></th><th></th><th></th><th></th><th></th><th></th><th></th><th></th><th></th><th>deg,deg</th><th></th><th></th><th>mag</th><th>mag</th><th>mag</th><th>mag</th></tr></thead>\n",
       "<thead><tr><th>bytes17</th><th>float64</th><th>float64</th><th>float64</th><th>float64</th><th>float64</th><th>float64</th><th>float64</th><th>float64</th><th>float64</th><th>float64</th><th>float64</th><th>float64</th><th>float64</th><th>float64</th><th>float64</th><th>float64</th><th>float64</th><th>float64</th><th>float64</th><th>bytes1</th><th>float64</th><th>float64</th><th>int32</th><th>int32</th><th>float64</th><th>float64</th><th>float64</th><th>float64</th><th>float64</th><th>float64</th><th>float64</th><th>float64</th><th>float64</th><th>float64</th><th>float64</th><th>float64</th><th>float64</th><th>float64</th><th>float64</th><th>float64</th><th>float64</th><th>float64</th><th>bytes1</th><th>float64</th><th>float64</th><th>int32</th><th>int32</th><th>float64</th><th>bytes7</th><th>bytes17</th><th>bytes17</th><th>object</th><th>int32</th><th>float64</th><th>float64</th><th>float64</th><th>int32</th><th>float64</th><th>float64</th><th>float64</th><th>int64</th><th>object</th><th>str7</th><th>float64</th><th>float32</th><th>float32</th><th>float32</th><th>float32</th></tr></thead>\n",
       "<tr><td>SFGC0.154+0.031</td><td>266.467110972243</td><td>-28.788414953789108</td><td>0.8717</td><td>0.1151</td><td>7.577</td><td>1.799</td><td>0.1701</td><td>10.58</td><td>2.309</td><td>0.2393</td><td>9.649</td><td>2.064</td><td>1.283</td><td>2.066</td><td>0.1245</td><td>0.4145</td><td>2.082</td><td>0.1241</td><td>0.3935</td><td>M</td><td>6.218</td><td>1.38</td><td>0</td><td>0</td><td>-0.0007852 ..      0.006857</td><td>1.814</td><td>0.2743</td><td>6.614</td><td>5.091</td><td>0.404</td><td>12.6</td><td>7.375</td><td>0.5233</td><td>14.09</td><td>2.806</td><td>1.449</td><td>4.212</td><td>0.2775</td><td>0.3107</td><td>4.248</td><td>0.2772</td><td>0.2955</td><td>M</td><td>15.64</td><td>1.711</td><td>--</td><td>--</td><td>-- .. --</td><td>Field20</td><td>SFGC0.154+0.031</td><td>--</td><td>266.467110972243,-28.788414953789108</td><td>0</td><td>0.0</td><td>0.0</td><td>0.0</td><td>0</td><td>0.0</td><td>0.0</td><td>0.0</td><td>601</td><td>266.46711097224306,-28.788414953789108</td><td>0558345</td><td>0.115</td><td>3.661</td><td>3.473</td><td>--</td><td>--</td></tr>\n",
       "<tr><td>SFGC0.299-0.061</td><td>266.641754753852</td><td>-28.712831904692795</td><td>0.3412</td><td>0.1709</td><td>1.996</td><td>0.0972</td><td>1.045</td><td>0.09303</td><td>-0.07626</td><td>1.989</td><td>-0.03834</td><td>0.2849</td><td>-0.7845</td><td>0.3675</td><td>0.04767</td><td>0.396</td><td>0.3777</td><td>0.04873</td><td>0.3939</td><td>M</td><td>2.382</td><td>1.261</td><td>0</td><td>0</td><td>0.004175 ..     -0.008668</td><td>-0.1664</td><td>0.957</td><td>-0.1739</td><td>-1.582</td><td>0.3943</td><td>-4.012</td><td>-2.632</td><td>0.483</td><td>-5.449</td><td>9.505</td><td>1.664</td><td>0.1378</td><td>0.05654</td><td>0.3867</td><td>0.1324</td><td>0.05371</td><td>0.3862</td><td>M</td><td>1.307</td><td>1.362</td><td>--</td><td>--</td><td>-- .. --</td><td>Field11</td><td>SFGC0.299-0.061</td><td>--</td><td>266.641754753852,-28.712831904692795</td><td>111</td><td>0.8540387925946817</td><td>3.2315652046150176</td><td>5.891293188920325</td><td>111</td><td>2.704449287796992</td><td>-0.39901521434619447</td><td>-1.1826562316232492</td><td>664</td><td>266.64175475385207,-28.712831904692795</td><td>0673798</td><td>0.147</td><td>5.558</td><td>5.743</td><td>6.466</td><td>7.191</td></tr>\n",
       "<tr><td>SFGC0.545-0.086</td><td>266.8118265121627</td><td>-28.51580469297644</td><td>2.144</td><td>0.09385</td><td>22.85</td><td>5.707</td><td>0.1517</td><td>37.63</td><td>8.51</td><td>0.2177</td><td>39.1</td><td>2.662</td><td>1.491</td><td>6.731</td><td>0.1452</td><td>0.697</td><td>6.728</td><td>0.1443</td><td>0.6069</td><td>M</td><td>12.17</td><td>1.39</td><td>0</td><td>0</td><td>0.007008 ..      -0.00486</td><td>5.309</td><td>0.2147</td><td>24.73</td><td>16.21</td><td>0.3784</td><td>42.83</td><td>22.92</td><td>0.5011</td><td>45.74</td><td>3.053</td><td>1.414</td><td>14.13</td><td>0.3012</td><td>0.6603</td><td>--</td><td>--</td><td>--</td><td>M</td><td>2.126e-38</td><td>1</td><td>--</td><td>--</td><td>-- .. --</td><td>Field05</td><td>SFGC0.545-0.086</td><td>--</td><td>266.8118265121627,-28.51580469297644</td><td>0</td><td>0.0</td><td>0.0</td><td>0.0</td><td>0</td><td>0.0</td><td>0.0</td><td>0.0</td><td>694</td><td>266.8118265121628,-28.51580469297644</td><td>0777321</td><td>0.147</td><td>6.833</td><td>8.692</td><td>9.829</td><td>10.819</td></tr>\n",
       "<tr><td>SFGC0.395+0.008</td><td>266.63213024386454</td><td>-28.594773884198776</td><td>0.8135</td><td>0.7847</td><td>1.037</td><td>1.076</td><td>1.567</td><td>0.6864</td><td>1.318</td><td>2.357</td><td>0.5591</td><td>1.323</td><td>1.225</td><td>1.114</td><td>0.8371</td><td>0.002737</td><td>0.8829</td><td>0.6698</td><td>0.002856</td><td>M</td><td>3.263</td><td>1.054</td><td>0</td><td>0</td><td>-0.003655 ..      0.002144</td><td>0.5691</td><td>1.496</td><td>0.3803</td><td>0.9068</td><td>2.819</td><td>0.3216</td><td>0.3662</td><td>3.805</td><td>0.09624</td><td>1.593</td><td>0.4038</td><td>0.9435</td><td>1.36</td><td>0.002914</td><td>0.9486</td><td>1.35</td><td>0.002867</td><td>M</td><td>6.437</td><td>1.925</td><td>--</td><td>--</td><td>-- .. --</td><td>Field09</td><td>SFGC0.395+0.008</td><td>--</td><td>266.63213024386454,-28.594773884198776</td><td>111</td><td>3.167495337479798</td><td>5.7784332643719205</td><td>8.387592645092928</td><td>111</td><td>5.058420532784996</td><td>9.365132877196377</td><td>11.780757430281067</td><td>679</td><td>266.6321302438646,-28.594773884198776</td><td>0667560</td><td>0.149</td><td>5.041</td><td>5.374</td><td>6.393</td><td>7.824</td></tr>\n",
       "<tr><td>SFGC359.639-0.058</td><td>266.2456699094231</td><td>-29.27429422827648</td><td>3.217</td><td>0.08968</td><td>35.88</td><td>4.627</td><td>0.1491</td><td>31.04</td><td>6.347</td><td>0.2128</td><td>29.83</td><td>1.438</td><td>6.347</td><td>4.771</td><td>0.07794</td><td>0.7274</td><td>3.63</td><td>0.06016</td><td>1.093</td><td>M</td><td>3.624</td><td>1.201</td><td>0</td><td>0</td><td>0.001019 ..       0.00661</td><td>3.77</td><td>0.215</td><td>17.53</td><td>9.55</td><td>0.3862</td><td>24.73</td><td>17.03</td><td>0.5101</td><td>33.39</td><td>2.533</td><td>1.784</td><td>8.273</td><td>0.2874</td><td>0.6732</td><td>8.357</td><td>0.2888</td><td>0.6433</td><td>M</td><td>14.54</td><td>1.494</td><td>0</td><td>20</td><td>-0.005279 ..       0.04068</td><td>Field45</td><td>SFGC359.639-0.058</td><td>SFGC359.639-0.058</td><td>266.2456699094231,-29.27429422827648</td><td>0</td><td>0.0</td><td>0.0</td><td>0.0</td><td>0</td><td>0.0</td><td>0.0</td><td>0.0</td><td>82</td><td>266.2456699094231,-29.27429422827648</td><td>0414950</td><td>0.153</td><td>3.708</td><td>3.756</td><td>5.737</td><td>--</td></tr>\n",
       "<tr><td>SFGC0.055+0.027</td><td>266.4117990403134</td><td>-28.87554263769326</td><td>8.834</td><td>0.1181</td><td>74.79</td><td>12.86</td><td>0.2155</td><td>59.67</td><td>14.91</td><td>0.3169</td><td>47.07</td><td>1.456</td><td>14.91</td><td>13.11</td><td>0.1916</td><td>2.012</td><td>12.33</td><td>0.1248</td><td>1.028</td><td>G</td><td>3.709</td><td>1.47</td><td>0</td><td>0</td><td>0.01376 ..     -0.007256</td><td>15.35</td><td>0.2342</td><td>65.52</td><td>16.89</td><td>0.4297</td><td>39.3</td><td>18.69</td><td>0.5687</td><td>32.86</td><td>1.101</td><td>1.107</td><td>16.89</td><td>0.1942</td><td>1.041</td><td>16.78</td><td>0.1927</td><td>0.9707</td><td>M</td><td>4.701</td><td>1.117</td><td>0</td><td>0</td><td>-0.01926 ..      -0.01643</td><td>Field31</td><td>SFGC0.055+0.027</td><td>SFGC0.055+0.027</td><td>266.4117990403134,-28.87554263769326</td><td>0</td><td>0.0</td><td>0.0</td><td>0.0</td><td>0</td><td>0.0</td><td>0.0</td><td>0.0</td><td>105</td><td>266.41179904031344,-28.87554263769326</td><td>0521894</td><td>0.164</td><td>5.598</td><td>7.410</td><td>9.378</td><td>10.668</td></tr>\n",
       "<tr><td>SFGC0.091+0.014</td><td>266.4447525525533</td><td>-28.851296569131748</td><td>2.411</td><td>0.2608</td><td>9.243</td><td>5.454</td><td>0.3149</td><td>17.32</td><td>10.22</td><td>0.3939</td><td>25.94</td><td>2.263</td><td>1.873</td><td>6.952</td><td>0.2838</td><td>2.191</td><td>7.725</td><td>0.2002</td><td>1.583</td><td>G</td><td>6.119</td><td>4.117</td><td>0</td><td>10</td><td>-0.001642 ..      0.005164</td><td>13.92</td><td>0.3512</td><td>39.63</td><td>47.66</td><td>0.5862</td><td>81.31</td><td>80.83</td><td>0.7725</td><td>104.6</td><td>3.424</td><td>1.696</td><td>39.76</td><td>0.7655</td><td>2.853</td><td>39.29</td><td>0.4353</td><td>1.28</td><td>G</td><td>9.929</td><td>13.9</td><td>--</td><td>--</td><td>-- .. --</td><td>Field26</td><td>SFGC0.091+0.014</td><td>--</td><td>266.4447525525533,-28.851296569131748</td><td>0</td><td>0.0</td><td>0.0</td><td>0.0</td><td>0</td><td>0.0</td><td>0.0</td><td>0.0</td><td>554</td><td>266.4447525525534,-28.851296569131748</td><td>0543623</td><td>0.168</td><td>7.960</td><td>--</td><td>--</td><td>10.126</td></tr>\n",
       "<tr><td>SFGC359.948-0.029</td><td>266.40248829200516</td><td>-28.996054851267328</td><td>1.467</td><td>0.1522</td><td>9.639</td><td>3.231</td><td>0.1836</td><td>17.6</td><td>5.111</td><td>0.2336</td><td>21.88</td><td>2.202</td><td>1.582</td><td>3.863</td><td>0.1313</td><td>1.012</td><td>3.867</td><td>0.1287</td><td>0.8889</td><td>M</td><td>11.93</td><td>1.741</td><td>0</td><td>0</td><td>0.02104 ..      -0.01659</td><td>10.22</td><td>0.2221</td><td>46.02</td><td>28.35</td><td>0.3627</td><td>78.16</td><td>43.1</td><td>0.4746</td><td>90.81</td><td>2.774</td><td>1.52</td><td>23.75</td><td>0.2986</td><td>0.7011</td><td>23.74</td><td>0.2981</td><td>0.6372</td><td>M</td><td>17.24</td><td>1.295</td><td>--</td><td>--</td><td>-- .. --</td><td>Field41</td><td>SFGC359.948-0.029</td><td>--</td><td>266.40248829200516,-28.996054851267328</td><td>0</td><td>0.0</td><td>0.0</td><td>0.0</td><td>0</td><td>0.0</td><td>0.0</td><td>0.0</td><td>482</td><td>266.40248829200516,-28.996054851267328</td><td>0515803</td><td>0.168</td><td>6.617</td><td>--</td><td>--</td><td>--</td></tr>\n",
       "<tr><td>SFGC0.036-0.182</td><td>266.603681</td><td>-29.0003732</td><td>1.318</td><td>1.139</td><td>1.158</td><td>1.063</td><td>2.186</td><td>0.4862</td><td>0.4892</td><td>3.264</td><td>0.1499</td><td>0.8061</td><td>0.4892</td><td>1.368</td><td>0.8226</td><td>0.007463</td><td>1.368</td><td>0.8226</td><td>0.007462</td><td>A</td><td>2.619</td><td>1.017</td><td>0</td><td>0</td><td>-0.01921 ..     -0.009346</td><td>1.413</td><td>1.538</td><td>0.9191</td><td>1.781</td><td>3.105</td><td>0.5737</td><td>2.056</td><td>4.311</td><td>0.4769</td><td>1.261</td><td>1.154</td><td>1.51</td><td>1.232</td><td>0.003785</td><td>1.533</td><td>1.243</td><td>0.003719</td><td>M</td><td>4.585</td><td>1.232</td><td>0</td><td>0</td><td>-0.004702 ..      0.007998</td><td>Field35</td><td>SFGC0.036-0.182</td><td>SFGC0.036-0.182</td><td>266.603681,-29.0003732</td><td>111</td><td>4.733973193314756</td><td>7.620370879005402</td><td>10.280584905595646</td><td>111</td><td>6.025706275260065</td><td>11.0962925872066</td><td>14.989421203700925</td><td>19</td><td>266.60368100000005,-29.0003732</td><td>0648643</td><td>0.182</td><td>4.893</td><td>5.281</td><td>6.394</td><td>7.673</td></tr>\n",
       "<tr><td>...</td><td>...</td><td>...</td><td>...</td><td>...</td><td>...</td><td>...</td><td>...</td><td>...</td><td>...</td><td>...</td><td>...</td><td>...</td><td>...</td><td>...</td><td>...</td><td>...</td><td>...</td><td>...</td><td>...</td><td>...</td><td>...</td><td>...</td><td>...</td><td>...</td><td>...</td><td>...</td><td>...</td><td>...</td><td>...</td><td>...</td><td>...</td><td>...</td><td>...</td><td>...</td><td>...</td><td>...</td><td>...</td><td>...</td><td>...</td><td>...</td><td>...</td><td>...</td><td>...</td><td>...</td><td>...</td><td>...</td><td>...</td><td>...</td><td>...</td><td>...</td><td>...</td><td>...</td><td>...</td><td>...</td><td>...</td><td>...</td><td>...</td><td>...</td><td>...</td><td>...</td><td>...</td><td>...</td><td>...</td><td>...</td><td>...</td><td>...</td><td>...</td><td>...</td></tr>\n",
       "<tr><td>SFGC0.640-0.091</td><td>266.8725091504992</td><td>-28.436280541229607</td><td>1.523</td><td>0.0954</td><td>15.96</td><td>4.508</td><td>0.1418</td><td>31.78</td><td>7.938</td><td>0.2005</td><td>39.6</td><td>2.961</td><td>7.938</td><td>5.429</td><td>0.1302</td><td>0.8677</td><td>5.447</td><td>0.1252</td><td>0.3408</td><td>M</td><td>23.28</td><td>3.136</td><td>0</td><td>10</td><td>0.00706 ..     -0.002366</td><td>12.87</td><td>0.1825</td><td>70.51</td><td>35.82</td><td>0.3333</td><td>107.5</td><td>54.31</td><td>0.4413</td><td>123.1</td><td>2.783</td><td>1.516</td><td>29.82</td><td>0.2745</td><td>1.611</td><td>29.79</td><td>0.271</td><td>0.6131</td><td>M</td><td>22.43</td><td>2.062</td><td>0</td><td>20</td><td>0.01107 ..      -0.01059</td><td>Field02</td><td>SFGC0.640-0.091</td><td>SFGC0.640-0.091</td><td>266.8725091504992,-28.436280541229607</td><td>0</td><td>0.0</td><td>0.0</td><td>0.0</td><td>0</td><td>0.0</td><td>0.0</td><td>0.0</td><td>365</td><td>266.8725091504992,-28.436280541229607</td><td>0809627</td><td>2.89</td><td>7.238</td><td>--</td><td>--</td><td>--</td></tr>\n",
       "<tr><td>SFGC359.491-0.074</td><td>266.17281969244084</td><td>-29.409401520743238</td><td>4.747</td><td>0.7405</td><td>6.41</td><td>10.23</td><td>1.477</td><td>6.925</td><td>13.22</td><td>2.229</td><td>5.934</td><td>2.155</td><td>13.22</td><td>11.47</td><td>1.404</td><td>0.01132</td><td>11.1</td><td>1.348</td><td>0.007789</td><td>A</td><td>8.787</td><td>1.412</td><td>0</td><td>0</td><td>-0.005282 ..      0.004639</td><td>7.051</td><td>1.277</td><td>5.522</td><td>15.29</td><td>2.462</td><td>6.21</td><td>19.78</td><td>3.296</td><td>6.001</td><td>2.168</td><td>1.294</td><td>13.76</td><td>1.983</td><td>0.009125</td><td>13.67</td><td>1.948</td><td>0.006065</td><td>G</td><td>12.08</td><td>1.455</td><td>0</td><td>0</td><td>0.005806 ..       0.01696</td><td>Field48</td><td>SFGC359.491-0.074</td><td>SFGC359.490-0.074</td><td>266.17281969244084,-29.409401520743238</td><td>0</td><td>0.0</td><td>0.0</td><td>0.0</td><td>0</td><td>0.0</td><td>0.0</td><td>0.0</td><td>59</td><td>266.17281969244084,-29.409401520743238</td><td>0368854</td><td>2.893</td><td>6.380</td><td>--</td><td>9.641</td><td>10.834</td></tr>\n",
       "<tr><td>SFGC0.682-0.035</td><td>266.8427057255851</td><td>-28.372085830138595</td><td>2.42</td><td>0.1169</td><td>20.7</td><td>6.814</td><td>0.2041</td><td>33.38</td><td>9.368</td><td>0.299</td><td>31.33</td><td>2.816</td><td>9.368</td><td>7.719</td><td>0.1959</td><td>0.547</td><td>7.736</td><td>0.196</td><td>0.5281</td><td>M</td><td>8.68</td><td>1.182</td><td>0</td><td>0</td><td>0.0004936 ..     -0.001348</td><td>12.78</td><td>0.2909</td><td>43.91</td><td>31.28</td><td>0.5469</td><td>57.19</td><td>37.57</td><td>0.7273</td><td>51.66</td><td>2.448</td><td>1.201</td><td>27.48</td><td>0.4623</td><td>0.4547</td><td>27.49</td><td>0.4603</td><td>0.3329</td><td>M</td><td>10.55</td><td>1.334</td><td>0</td><td>0</td><td>-0.05287 ..      0.007497</td><td>Field01</td><td>SFGC0.682-0.035</td><td>SFGC0.682-0.035</td><td>266.8427057255851,-28.372085830138595</td><td>0</td><td>0.0</td><td>0.0</td><td>0.0</td><td>0</td><td>0.0</td><td>0.0</td><td>0.0</td><td>345</td><td>266.8427057255851,-28.372085830138595</td><td>0793867</td><td>2.895</td><td>6.756</td><td>8.837</td><td>--</td><td>--</td></tr>\n",
       "<tr><td>SFGC359.517-0.064</td><td>266.17938775652095</td><td>-29.381522061708562</td><td>0.9798</td><td>0.7745</td><td>1.265</td><td>1.747</td><td>1.545</td><td>1.131</td><td>1.766</td><td>2.317</td><td>0.7622</td><td>1.782</td><td>1.011</td><td>1.857</td><td>1.224</td><td>0.002075</td><td>1.744</td><td>1.158</td><td>0.002187</td><td>M</td><td>5.431</td><td>1.081</td><td>0</td><td>0</td><td>-0.01324 ..       -0.0103</td><td>2.226</td><td>1.405</td><td>1.584</td><td>4.597</td><td>2.735</td><td>1.681</td><td>5.564</td><td>3.723</td><td>1.495</td><td>2.065</td><td>1.21</td><td>4.185</td><td>2.138</td><td>0.002845</td><td>--</td><td>--</td><td>--</td><td>M</td><td>2.126e-38</td><td>1</td><td>--</td><td>--</td><td>-- .. --</td><td>Field47</td><td>SFGC359.517-0.064</td><td>--</td><td>266.17938775652095,-29.381522061708562</td><td>111</td><td>3.303303090934619</td><td>6.380616570062039</td><td>8.715624292325678</td><td>111</td><td>6.4419034513291775</td><td>12.80367433719022</td><td>16.733561547916906</td><td>411</td><td>266.179387756521,-29.381522061708562</td><td>0373058</td><td>2.903</td><td>8.436</td><td>10.542</td><td>11.477</td><td>12.212</td></tr>\n",
       "<tr><td>SFGC0.004-0.068</td><td>266.47347197092427</td><td>-28.96811192904278</td><td>7.178</td><td>0.08899</td><td>80.66</td><td>18.37</td><td>0.1499</td><td>122.6</td><td>25.16</td><td>0.2163</td><td>116.3</td><td>2.56</td><td>25.16</td><td>21.29</td><td>0.1458</td><td>1.517</td><td>21.17</td><td>0.1447</td><td>1.2</td><td>A</td><td>10.22</td><td>1.208</td><td>0</td><td>0</td><td>0.00672 ..     0.0003302</td><td>21.33</td><td>0.2202</td><td>96.86</td><td>48.67</td><td>0.4094</td><td>118.9</td><td>59.73</td><td>0.5434</td><td>109.9</td><td>2.282</td><td>1.227</td><td>43.27</td><td>0.3389</td><td>1.537</td><td>43.38</td><td>0.3374</td><td>0.7457</td><td>M</td><td>9.668</td><td>1.381</td><td>0</td><td>0</td><td>0.01954 ..     0.0009721</td><td>Field34</td><td>SFGC0.004-0.068</td><td>SFGC0.004-0.068</td><td>266.47347197092427,-28.96811192904278</td><td>0</td><td>0.0</td><td>0.0</td><td>0.0</td><td>0</td><td>0.0</td><td>0.0</td><td>0.0</td><td>227</td><td>266.47347197092427,-28.96811192904278</td><td>0562378</td><td>2.93</td><td>5.544</td><td>--</td><td>--</td><td>--</td></tr>\n",
       "<tr><td>SFGC0.214-0.076</td><td>266.60613850366707</td><td>-28.792706778772736</td><td>0.7717</td><td>0.117</td><td>6.596</td><td>0.9268</td><td>0.1951</td><td>4.751</td><td>0.009034</td><td>20.43</td><td>0.0004421</td><td>1.201</td><td>0.009034</td><td>1.105</td><td>0.08781</td><td>0.4098</td><td>1.124</td><td>0.08833</td><td>0.3971</td><td>M</td><td>5.674</td><td>1.298</td><td>0</td><td>0</td><td>0.01204 ..       -0.0121</td><td>2.546</td><td>0.2079</td><td>12.24</td><td>2.348</td><td>0.3899</td><td>6.022</td><td>2.259</td><td>0.5203</td><td>4.341</td><td>0.9224</td><td>0.9621</td><td>3.106</td><td>0.2111</td><td>0.3563</td><td>--</td><td>--</td><td>--</td><td>M</td><td>2.126e-38</td><td>1</td><td>0</td><td>0</td><td>0.01866 ..     -0.008058</td><td>Field12</td><td>SFGC0.214-0.076</td><td>SFGC0.214-0.076</td><td>266.60613850366707,-28.792706778772736</td><td>1</td><td>0.0</td><td>0.0</td><td>61.30865752342277</td><td>0</td><td>0.0</td><td>0.0</td><td>0.0</td><td>200</td><td>266.6061385036671,-28.792706778772736</td><td>0650438</td><td>2.941</td><td>7.095</td><td>8.977</td><td>--</td><td>--</td></tr>\n",
       "<tr><td>SFGC0.162-0.066</td><td>266.56608269680686</td><td>-28.831930770858367</td><td>13.95</td><td>0.1174</td><td>118.9</td><td>36.18</td><td>0.1515</td><td>238.7</td><td>60.95</td><td>0.2051</td><td>297.2</td><td>2.593</td><td>60.95</td><td>45.5</td><td>1.333</td><td>96.54</td><td>46.41</td><td>0.7791</td><td>36.59</td><td>A</td><td>6.948</td><td>4.874</td><td>0</td><td>0</td><td>0.2851 ..        0.1149</td><td>23.65</td><td>0.2011</td><td>117.6</td><td>56.53</td><td>0.3506</td><td>161.2</td><td>79.95</td><td>0.4614</td><td>173.3</td><td>2.39</td><td>1.414</td><td>50.22</td><td>1.284</td><td>20.77</td><td>50.9</td><td>0.7039</td><td>6.839</td><td>A</td><td>7.485</td><td>4.284</td><td>0</td><td>1</td><td>0.3559 ..       0.06531</td><td>Field18</td><td>SFGC0.162-0.066</td><td>SFGC0.162-0.066</td><td>266.56608269680686,-28.831930770858367</td><td>0</td><td>0.0</td><td>0.0</td><td>0.0</td><td>0</td><td>0.0</td><td>0.0</td><td>0.0</td><td>175</td><td>266.56608269680686,-28.831930770858367</td><td>0623735</td><td>2.954</td><td>6.215</td><td>--</td><td>--</td><td>--</td></tr>\n",
       "<tr><td>SFGC0.078-0.014</td><td>266.46506619689114</td><td>-28.877192194266847</td><td>1.539</td><td>0.1179</td><td>13.05</td><td>3.044</td><td>0.1725</td><td>17.64</td><td>3.884</td><td>0.2414</td><td>16.09</td><td>1.978</td><td>3.884</td><td>3.404</td><td>0.127</td><td>0.4307</td><td>3.33</td><td>0.1237</td><td>0.4077</td><td>M</td><td>6.11</td><td>1.236</td><td>0</td><td>0</td><td>0.01822 ..       0.03963</td><td>7.09</td><td>0.2058</td><td>34.45</td><td>13.45</td><td>0.3744</td><td>35.92</td><td>18.15</td><td>0.4949</td><td>36.67</td><td>1.897</td><td>1.35</td><td>12.34</td><td>0.2835</td><td>0.5894</td><td>12.27</td><td>0.2783</td><td>0.4186</td><td>M</td><td>7.189</td><td>1.497</td><td>0</td><td>0</td><td>0.02134 ..        0.0598</td><td>Field25</td><td>SFGC0.078-0.014</td><td>SFGC0.077-0.014</td><td>266.46506619689114,-28.877192194266847</td><td>0</td><td>0.0</td><td>0.0</td><td>0.0</td><td>0</td><td>0.0</td><td>0.0</td><td>0.0</td><td>239</td><td>266.4650661968912,-28.877192194266847</td><td>0556344</td><td>2.995</td><td>7.565</td><td>9.639</td><td>--</td><td>--</td></tr>\n",
       "<tr><td>SFGC0.157-0.062</td><td>266.55923871602033</td><td>-28.834570908398966</td><td>10.71</td><td>0.1243</td><td>86.19</td><td>36.19</td><td>0.1491</td><td>242.7</td><td>59.04</td><td>0.2053</td><td>287.6</td><td>3.378</td><td>1.632</td><td>43.9</td><td>0.803</td><td>32.28</td><td>43.56</td><td>0.453</td><td>11.1</td><td>A</td><td>8.561</td><td>3.399</td><td>0</td><td>0</td><td>0.1157 ..       0.01368</td><td>23</td><td>0.2051</td><td>112.1</td><td>68.17</td><td>0.3463</td><td>196.9</td><td>95.6</td><td>0.4559</td><td>209.7</td><td>2.964</td><td>1.402</td><td>56.62</td><td>0.6362</td><td>4.79</td><td>56.55</td><td>0.4795</td><td>2.769</td><td>A</td><td>28</td><td>2.365</td><td>--</td><td>--</td><td>-- .. --</td><td>Field18</td><td>SFGC0.157-0.062</td><td>--</td><td>266.55923871602033,-28.834570908398966</td><td>0</td><td>0.0</td><td>0.0</td><td>0.0</td><td>0</td><td>0.0</td><td>0.0</td><td>0.0</td><td>604</td><td>266.55923871602033,-28.834570908398966</td><td>0619683</td><td>2.996</td><td>5.997</td><td>6.089</td><td>6.778</td><td>7.246</td></tr>\n",
       "<tr><td>SFGC0.605-0.046</td><td>266.80828905684706</td><td>-28.44325095179017</td><td>1.117</td><td>0.204</td><td>5.478</td><td>3.046</td><td>0.1998</td><td>15.25</td><td>7.013</td><td>0.2326</td><td>30.15</td><td>2.726</td><td>2.302</td><td>3.809</td><td>0.1409</td><td>0.7287</td><td>3.86</td><td>0.1385</td><td>0.5538</td><td>M</td><td>8.927</td><td>3.532</td><td>0</td><td>20</td><td>0.6212 ..      -0.01038</td><td>9.358</td><td>0.2276</td><td>41.12</td><td>31.34</td><td>0.3774</td><td>83.04</td><td>61.19</td><td>0.4997</td><td>122.5</td><td>3.349</td><td>1.953</td><td>24.97</td><td>0.3112</td><td>0.7218</td><td>24.97</td><td>0.31</td><td>0.5326</td><td>M</td><td>94.37</td><td>5.799</td><td>--</td><td>--</td><td>-- .. --</td><td>Field04</td><td>SFGC0.605-0.046</td><td>--</td><td>266.80828905684706,-28.44325095179017</td><td>0</td><td>0.0</td><td>0.0</td><td>0.0</td><td>0</td><td>0.0</td><td>0.0</td><td>0.0</td><td>698</td><td>266.8082890568471,-28.44325095179017</td><td>0775471</td><td>3.0</td><td>6.919</td><td>8.946</td><td>11.423</td><td>--</td></tr>\n",
       "</table></div>"
      ],
      "text/plain": [
       "<Table length=449>\n",
       "     SourceID         RA(J2000)           DEC(J2000)     ... _4.5mag _3.6mag\n",
       "                         deg                 deg         ...   mag     mag  \n",
       "     bytes17           float64             float64       ... float32 float32\n",
       "----------------- ------------------ ------------------- ... ------- -------\n",
       "  SFGC0.154+0.031   266.467110972243 -28.788414953789108 ...      --      --\n",
       "  SFGC0.299-0.061   266.641754753852 -28.712831904692795 ...   6.466   7.191\n",
       "  SFGC0.545-0.086  266.8118265121627  -28.51580469297644 ...   9.829  10.819\n",
       "  SFGC0.395+0.008 266.63213024386454 -28.594773884198776 ...   6.393   7.824\n",
       "SFGC359.639-0.058  266.2456699094231  -29.27429422827648 ...   5.737      --\n",
       "  SFGC0.055+0.027  266.4117990403134  -28.87554263769326 ...   9.378  10.668\n",
       "  SFGC0.091+0.014  266.4447525525533 -28.851296569131748 ...      --  10.126\n",
       "SFGC359.948-0.029 266.40248829200516 -28.996054851267328 ...      --      --\n",
       "  SFGC0.036-0.182         266.603681         -29.0003732 ...   6.394   7.673\n",
       "              ...                ...                 ... ...     ...     ...\n",
       "  SFGC0.640-0.091  266.8725091504992 -28.436280541229607 ...      --      --\n",
       "SFGC359.491-0.074 266.17281969244084 -29.409401520743238 ...   9.641  10.834\n",
       "  SFGC0.682-0.035  266.8427057255851 -28.372085830138595 ...      --      --\n",
       "SFGC359.517-0.064 266.17938775652095 -29.381522061708562 ...  11.477  12.212\n",
       "  SFGC0.004-0.068 266.47347197092427  -28.96811192904278 ...      --      --\n",
       "  SFGC0.214-0.076 266.60613850366707 -28.792706778772736 ...      --      --\n",
       "  SFGC0.162-0.066 266.56608269680686 -28.831930770858367 ...      --      --\n",
       "  SFGC0.078-0.014 266.46506619689114 -28.877192194266847 ...      --      --\n",
       "  SFGC0.157-0.062 266.55923871602033 -28.834570908398966 ...   6.778   7.246\n",
       "  SFGC0.605-0.046 266.80828905684706  -28.44325095179017 ...  11.423      --"
      ]
     },
     "execution_count": 35,
     "metadata": {},
     "output_type": "execute_result"
    }
   ],
   "source": [
    "matchedmcat['SSTGCxmatch']=stgccat[\"SSTGC\"]\n",
    "matchedmcat['SSTGCd2d']=np.round(d2dup,3)\n",
    "#matchedmcat['_8.0mag']=stgccat[\"_8.0mag\"]\n",
    "#matchedmcat['_5.8mag']=stgccat[\"_5.8mag\"]\n",
    "#matchedmcat['_4.5mag']=stgccat[\"_4.5mag\"]\n",
    "#matchedmcat['_3.6mag']=stgccat[\"_3.6mag\"]\n",
    "#matchedmcat['_Jmag']=stgccat[\"_Jmag\"]\n",
    "#matchedmcat['_Hmag']=stgccat[\"_Hmag\"]\n",
    "#matchedmcat['_Kmag']=stgccat[\"_Kmag\"]\n",
    "\n",
    "matchedmcat"
   ]
  },
  {
   "cell_type": "code",
   "execution_count": 36,
   "id": "7261d047",
   "metadata": {},
   "outputs": [],
   "source": [
    "matchsid=list(matchedmcat['id'])\n",
    "\n",
    "i=0\n",
    "rdx2=[]\n",
    "for source in mcat: #mcat25snrcut\n",
    "    \n",
    "    if source['id'] in matchsid:\n",
    "        #print(i)\n",
    "        rdx2.append(i)\n",
    "        \n",
    "    i=i+1"
   ]
  },
  {
   "cell_type": "code",
   "execution_count": 37,
   "id": "d499ff30",
   "metadata": {},
   "outputs": [
    {
     "data": {
      "text/plain": [
       "449"
      ]
     },
     "execution_count": 37,
     "metadata": {},
     "output_type": "execute_result"
    }
   ],
   "source": [
    "len(rdx2)"
   ]
  },
  {
   "cell_type": "code",
   "execution_count": 38,
   "id": "c570084c",
   "metadata": {},
   "outputs": [],
   "source": [
    "#find sources in mcat that were not found in the cross match\n",
    "notrdx=findNOTindex(mcat,rdx2)\n",
    "onlymcat=mcat[notrdx]\n",
    "\n",
    "onlymcat['SSTGCxmatch']=''"
   ]
  },
  {
   "cell_type": "code",
   "execution_count": 39,
   "id": "ac1d476f",
   "metadata": {},
   "outputs": [],
   "source": [
    "#write out a set of ds9 region files for matched and unmatched sources - useful for visual comparison\n",
    "\n",
    "#set size of regions \n",
    "r = Angle(0.00083333, u.deg) #must be in degrees - current value is r=3\"\n",
    "#write out ds9 files\n",
    "makeDS9reg('mcat_matched_SSTGC.reg', matchedmcat, r, color='cyan');\n",
    "makeDS9reg('mcat_nonmatched_SSTGC.reg', onlymcat, r, color='red');"
   ]
  },
  {
   "cell_type": "code",
   "execution_count": 40,
   "id": "728f2079",
   "metadata": {
    "scrolled": true
   },
   "outputs": [
    {
     "data": {
      "text/html": [
       "<div><i>Table length=972</i>\n",
       "<table id=\"table2506169530448\" class=\"table-striped table-bordered table-condensed\">\n",
       "<thead><tr><th>SourceID</th><th>RA(J2000)</th><th>DEC(J2000)</th><th>25um_Flux_4pix</th><th>25um_Flux_err_4pix</th><th>25um_SNR_4pix</th><th>25um_Flux_8pix</th><th>25um_Flux_err_8pix</th><th>25um_SNR_8pix</th><th>25um_Flux_12pix</th><th>25um_Flux_err_12pix</th><th>25um_SNR_12pix</th><th>25ApRatio8_4</th><th>25ApRatio12_8</th><th>25um_Flux_M2D</th><th>25um_Flux_err_M2D</th><th>25um_M2D_chi2</th><th>25um_Flux_G2D</th><th>25um_Flux_err_G2D</th><th>25um_G2D_chi2</th><th>25um_BestModel</th><th>fwhm25</th><th>elong25</th><th>bkg_qflag25</th><th>shape_qflag25</th><th>cutout25 [25,25]</th><th>37um_Flux_5.5pix</th><th>37um_Flux_err_5.5pix</th><th>37um_SNR_5.5pix</th><th>37um_Flux_10.5pix</th><th>37um_Flux_err_10.5pix</th><th>37um_SNR_10.5pix</th><th>37um_Flux_14pix</th><th>37um_Flux_err_14pix</th><th>37um_SNR_14pix</th><th>37ApRatio10.5_5.5</th><th>37ApRatio14_10.5</th><th>37um_Flux_M2D</th><th>37um_Flux_err_M2D</th><th>37um_M2D_chi2</th><th>37um_Flux_G2D</th><th>37um_Flux_err_G2D</th><th>37um_G2D_chi2</th><th>37um_BestModel</th><th>fwhm37</th><th>elong37</th><th>bkg_qflag37</th><th>shape_qflag37</th><th>cutout37 [31,31]</th><th>FieldID</th><th>SID25</th><th>SID37</th><th>sky_centroid</th><th>25ApPhot_qflag</th><th>25Ap_4pix_UL</th><th>25Ap_8pix_UL</th><th>25Ap_12pix_UL</th><th>37ApPhot_qflag</th><th>37Ap_5.5pix_UL</th><th>37Ap_10.5pix_UL</th><th>37Ap_14pix_UL</th><th>id</th><th>skycoords</th><th>SSTGCxmatch</th><th>SSTGCd2d</th><th>_8.0mag</th><th>_5.8mag</th><th>_4.5mag</th><th>_3.6mag</th></tr></thead>\n",
       "<thead><tr><th></th><th>deg</th><th>deg</th><th></th><th></th><th></th><th></th><th></th><th></th><th></th><th></th><th></th><th></th><th></th><th></th><th></th><th></th><th></th><th></th><th></th><th></th><th></th><th></th><th></th><th></th><th></th><th></th><th></th><th></th><th></th><th></th><th></th><th></th><th></th><th></th><th></th><th></th><th></th><th></th><th></th><th></th><th></th><th></th><th></th><th></th><th></th><th></th><th></th><th></th><th></th><th></th><th></th><th>deg,deg</th><th></th><th></th><th></th><th></th><th></th><th></th><th></th><th></th><th></th><th>deg,deg</th><th></th><th></th><th>mag</th><th>mag</th><th>mag</th><th>mag</th></tr></thead>\n",
       "<thead><tr><th>bytes17</th><th>float64</th><th>float64</th><th>float64</th><th>float64</th><th>float64</th><th>float64</th><th>float64</th><th>float64</th><th>float64</th><th>float64</th><th>float64</th><th>float64</th><th>float64</th><th>float64</th><th>float64</th><th>float64</th><th>float64</th><th>float64</th><th>float64</th><th>bytes1</th><th>float64</th><th>float64</th><th>int32</th><th>int32</th><th>float64</th><th>float64</th><th>float64</th><th>float64</th><th>float64</th><th>float64</th><th>float64</th><th>float64</th><th>float64</th><th>float64</th><th>float64</th><th>float64</th><th>float64</th><th>float64</th><th>float64</th><th>float64</th><th>float64</th><th>float64</th><th>bytes1</th><th>float64</th><th>float64</th><th>int32</th><th>int32</th><th>float64</th><th>bytes7</th><th>bytes17</th><th>bytes17</th><th>object</th><th>int32</th><th>float64</th><th>float64</th><th>float64</th><th>int32</th><th>float64</th><th>float64</th><th>float64</th><th>int64</th><th>object</th><th>str7</th><th>float64</th><th>float32</th><th>float32</th><th>float32</th><th>float32</th></tr></thead>\n",
       "<tr><td>SFGC0.154+0.031</td><td>266.467110972243</td><td>-28.788414953789108</td><td>0.8717</td><td>0.1151</td><td>7.577</td><td>1.799</td><td>0.1701</td><td>10.58</td><td>2.309</td><td>0.2393</td><td>9.649</td><td>2.064</td><td>1.283</td><td>2.066</td><td>0.1245</td><td>0.4145</td><td>2.082</td><td>0.1241</td><td>0.3935</td><td>M</td><td>6.218</td><td>1.38</td><td>0</td><td>0</td><td>-0.0007852 ..      0.006857</td><td>1.814</td><td>0.2743</td><td>6.614</td><td>5.091</td><td>0.404</td><td>12.6</td><td>7.375</td><td>0.5233</td><td>14.09</td><td>2.806</td><td>1.449</td><td>4.212</td><td>0.2775</td><td>0.3107</td><td>4.248</td><td>0.2772</td><td>0.2955</td><td>M</td><td>15.64</td><td>1.711</td><td>--</td><td>--</td><td>-- .. --</td><td>Field20</td><td>SFGC0.154+0.031</td><td></td><td>266.467110972243,-28.788414953789108</td><td>0</td><td>0.0</td><td>0.0</td><td>0.0</td><td>0</td><td>0.0</td><td>0.0</td><td>0.0</td><td>601</td><td>266.46711097224306,-28.788414953789108</td><td>0558345</td><td>0.115</td><td>3.661</td><td>3.473</td><td>--</td><td>--</td></tr>\n",
       "<tr><td>SFGC0.299-0.061</td><td>266.641754753852</td><td>-28.712831904692795</td><td>0.3412</td><td>0.1709</td><td>1.996</td><td>0.0972</td><td>1.045</td><td>0.09303</td><td>-0.07626</td><td>1.989</td><td>-0.03834</td><td>0.2849</td><td>-0.7845</td><td>0.3675</td><td>0.04767</td><td>0.396</td><td>0.3777</td><td>0.04873</td><td>0.3939</td><td>M</td><td>2.382</td><td>1.261</td><td>0</td><td>0</td><td>0.004175 ..     -0.008668</td><td>-0.1664</td><td>0.957</td><td>-0.1739</td><td>-1.582</td><td>0.3943</td><td>-4.012</td><td>-2.632</td><td>0.483</td><td>-5.449</td><td>9.505</td><td>1.664</td><td>0.1378</td><td>0.05654</td><td>0.3867</td><td>0.1324</td><td>0.05371</td><td>0.3862</td><td>M</td><td>1.307</td><td>1.362</td><td>--</td><td>--</td><td>-- .. --</td><td>Field11</td><td>SFGC0.299-0.061</td><td></td><td>266.641754753852,-28.712831904692795</td><td>111</td><td>0.8540387925946817</td><td>3.2315652046150176</td><td>5.891293188920325</td><td>111</td><td>2.704449287796992</td><td>-0.39901521434619447</td><td>-1.1826562316232492</td><td>664</td><td>266.64175475385207,-28.712831904692795</td><td>0673798</td><td>0.147</td><td>5.558</td><td>5.743</td><td>6.466</td><td>7.191</td></tr>\n",
       "<tr><td>SFGC0.545-0.086</td><td>266.8118265121627</td><td>-28.51580469297644</td><td>2.144</td><td>0.09385</td><td>22.85</td><td>5.707</td><td>0.1517</td><td>37.63</td><td>8.51</td><td>0.2177</td><td>39.1</td><td>2.662</td><td>1.491</td><td>6.731</td><td>0.1452</td><td>0.697</td><td>6.728</td><td>0.1443</td><td>0.6069</td><td>M</td><td>12.17</td><td>1.39</td><td>0</td><td>0</td><td>0.007008 ..      -0.00486</td><td>5.309</td><td>0.2147</td><td>24.73</td><td>16.21</td><td>0.3784</td><td>42.83</td><td>22.92</td><td>0.5011</td><td>45.74</td><td>3.053</td><td>1.414</td><td>14.13</td><td>0.3012</td><td>0.6603</td><td>--</td><td>--</td><td>--</td><td>M</td><td>2.126e-38</td><td>1</td><td>--</td><td>--</td><td>-- .. --</td><td>Field05</td><td>SFGC0.545-0.086</td><td></td><td>266.8118265121627,-28.51580469297644</td><td>0</td><td>0.0</td><td>0.0</td><td>0.0</td><td>0</td><td>0.0</td><td>0.0</td><td>0.0</td><td>694</td><td>266.8118265121628,-28.51580469297644</td><td>0777321</td><td>0.147</td><td>6.833</td><td>8.692</td><td>9.829</td><td>10.819</td></tr>\n",
       "<tr><td>SFGC0.395+0.008</td><td>266.63213024386454</td><td>-28.594773884198776</td><td>0.8135</td><td>0.7847</td><td>1.037</td><td>1.076</td><td>1.567</td><td>0.6864</td><td>1.318</td><td>2.357</td><td>0.5591</td><td>1.323</td><td>1.225</td><td>1.114</td><td>0.8371</td><td>0.002737</td><td>0.8829</td><td>0.6698</td><td>0.002856</td><td>M</td><td>3.263</td><td>1.054</td><td>0</td><td>0</td><td>-0.003655 ..      0.002144</td><td>0.5691</td><td>1.496</td><td>0.3803</td><td>0.9068</td><td>2.819</td><td>0.3216</td><td>0.3662</td><td>3.805</td><td>0.09624</td><td>1.593</td><td>0.4038</td><td>0.9435</td><td>1.36</td><td>0.002914</td><td>0.9486</td><td>1.35</td><td>0.002867</td><td>M</td><td>6.437</td><td>1.925</td><td>--</td><td>--</td><td>-- .. --</td><td>Field09</td><td>SFGC0.395+0.008</td><td></td><td>266.63213024386454,-28.594773884198776</td><td>111</td><td>3.167495337479798</td><td>5.7784332643719205</td><td>8.387592645092928</td><td>111</td><td>5.058420532784996</td><td>9.365132877196377</td><td>11.780757430281067</td><td>679</td><td>266.6321302438646,-28.594773884198776</td><td>0667560</td><td>0.149</td><td>5.041</td><td>5.374</td><td>6.393</td><td>7.824</td></tr>\n",
       "<tr><td>SFGC359.639-0.058</td><td>266.2456699094231</td><td>-29.27429422827648</td><td>3.217</td><td>0.08968</td><td>35.88</td><td>4.627</td><td>0.1491</td><td>31.04</td><td>6.347</td><td>0.2128</td><td>29.83</td><td>1.438</td><td>6.347</td><td>4.771</td><td>0.07794</td><td>0.7274</td><td>3.63</td><td>0.06016</td><td>1.093</td><td>M</td><td>3.624</td><td>1.201</td><td>0</td><td>0</td><td>0.001019 ..       0.00661</td><td>3.77</td><td>0.215</td><td>17.53</td><td>9.55</td><td>0.3862</td><td>24.73</td><td>17.03</td><td>0.5101</td><td>33.39</td><td>2.533</td><td>1.784</td><td>8.273</td><td>0.2874</td><td>0.6732</td><td>8.357</td><td>0.2888</td><td>0.6433</td><td>M</td><td>14.54</td><td>1.494</td><td>0</td><td>20</td><td>-0.005279 ..       0.04068</td><td>Field45</td><td>SFGC359.639-0.058</td><td>SFGC359.639-0.058</td><td>266.2456699094231,-29.27429422827648</td><td>0</td><td>0.0</td><td>0.0</td><td>0.0</td><td>0</td><td>0.0</td><td>0.0</td><td>0.0</td><td>82</td><td>266.2456699094231,-29.27429422827648</td><td>0414950</td><td>0.153</td><td>3.708</td><td>3.756</td><td>5.737</td><td>--</td></tr>\n",
       "<tr><td>SFGC0.055+0.027</td><td>266.4117990403134</td><td>-28.87554263769326</td><td>8.834</td><td>0.1181</td><td>74.79</td><td>12.86</td><td>0.2155</td><td>59.67</td><td>14.91</td><td>0.3169</td><td>47.07</td><td>1.456</td><td>14.91</td><td>13.11</td><td>0.1916</td><td>2.012</td><td>12.33</td><td>0.1248</td><td>1.028</td><td>G</td><td>3.709</td><td>1.47</td><td>0</td><td>0</td><td>0.01376 ..     -0.007256</td><td>15.35</td><td>0.2342</td><td>65.52</td><td>16.89</td><td>0.4297</td><td>39.3</td><td>18.69</td><td>0.5687</td><td>32.86</td><td>1.101</td><td>1.107</td><td>16.89</td><td>0.1942</td><td>1.041</td><td>16.78</td><td>0.1927</td><td>0.9707</td><td>M</td><td>4.701</td><td>1.117</td><td>0</td><td>0</td><td>-0.01926 ..      -0.01643</td><td>Field31</td><td>SFGC0.055+0.027</td><td>SFGC0.055+0.027</td><td>266.4117990403134,-28.87554263769326</td><td>0</td><td>0.0</td><td>0.0</td><td>0.0</td><td>0</td><td>0.0</td><td>0.0</td><td>0.0</td><td>105</td><td>266.41179904031344,-28.87554263769326</td><td>0521894</td><td>0.164</td><td>5.598</td><td>7.410</td><td>9.378</td><td>10.668</td></tr>\n",
       "<tr><td>SFGC0.091+0.014</td><td>266.4447525525533</td><td>-28.851296569131748</td><td>2.411</td><td>0.2608</td><td>9.243</td><td>5.454</td><td>0.3149</td><td>17.32</td><td>10.22</td><td>0.3939</td><td>25.94</td><td>2.263</td><td>1.873</td><td>6.952</td><td>0.2838</td><td>2.191</td><td>7.725</td><td>0.2002</td><td>1.583</td><td>G</td><td>6.119</td><td>4.117</td><td>0</td><td>10</td><td>-0.001642 ..      0.005164</td><td>13.92</td><td>0.3512</td><td>39.63</td><td>47.66</td><td>0.5862</td><td>81.31</td><td>80.83</td><td>0.7725</td><td>104.6</td><td>3.424</td><td>1.696</td><td>39.76</td><td>0.7655</td><td>2.853</td><td>39.29</td><td>0.4353</td><td>1.28</td><td>G</td><td>9.929</td><td>13.9</td><td>--</td><td>--</td><td>-- .. --</td><td>Field26</td><td>SFGC0.091+0.014</td><td></td><td>266.4447525525533,-28.851296569131748</td><td>0</td><td>0.0</td><td>0.0</td><td>0.0</td><td>0</td><td>0.0</td><td>0.0</td><td>0.0</td><td>554</td><td>266.4447525525534,-28.851296569131748</td><td>0543623</td><td>0.168</td><td>7.960</td><td>--</td><td>--</td><td>10.126</td></tr>\n",
       "<tr><td>SFGC359.948-0.029</td><td>266.40248829200516</td><td>-28.996054851267328</td><td>1.467</td><td>0.1522</td><td>9.639</td><td>3.231</td><td>0.1836</td><td>17.6</td><td>5.111</td><td>0.2336</td><td>21.88</td><td>2.202</td><td>1.582</td><td>3.863</td><td>0.1313</td><td>1.012</td><td>3.867</td><td>0.1287</td><td>0.8889</td><td>M</td><td>11.93</td><td>1.741</td><td>0</td><td>0</td><td>0.02104 ..      -0.01659</td><td>10.22</td><td>0.2221</td><td>46.02</td><td>28.35</td><td>0.3627</td><td>78.16</td><td>43.1</td><td>0.4746</td><td>90.81</td><td>2.774</td><td>1.52</td><td>23.75</td><td>0.2986</td><td>0.7011</td><td>23.74</td><td>0.2981</td><td>0.6372</td><td>M</td><td>17.24</td><td>1.295</td><td>--</td><td>--</td><td>-- .. --</td><td>Field41</td><td>SFGC359.948-0.029</td><td></td><td>266.40248829200516,-28.996054851267328</td><td>0</td><td>0.0</td><td>0.0</td><td>0.0</td><td>0</td><td>0.0</td><td>0.0</td><td>0.0</td><td>482</td><td>266.40248829200516,-28.996054851267328</td><td>0515803</td><td>0.168</td><td>6.617</td><td>--</td><td>--</td><td>--</td></tr>\n",
       "<tr><td>SFGC0.036-0.182</td><td>266.603681</td><td>-29.0003732</td><td>1.318</td><td>1.139</td><td>1.158</td><td>1.063</td><td>2.186</td><td>0.4862</td><td>0.4892</td><td>3.264</td><td>0.1499</td><td>0.8061</td><td>0.4892</td><td>1.368</td><td>0.8226</td><td>0.007463</td><td>1.368</td><td>0.8226</td><td>0.007462</td><td>A</td><td>2.619</td><td>1.017</td><td>0</td><td>0</td><td>-0.01921 ..     -0.009346</td><td>1.413</td><td>1.538</td><td>0.9191</td><td>1.781</td><td>3.105</td><td>0.5737</td><td>2.056</td><td>4.311</td><td>0.4769</td><td>1.261</td><td>1.154</td><td>1.51</td><td>1.232</td><td>0.003785</td><td>1.533</td><td>1.243</td><td>0.003719</td><td>M</td><td>4.585</td><td>1.232</td><td>0</td><td>0</td><td>-0.004702 ..      0.007998</td><td>Field35</td><td>SFGC0.036-0.182</td><td>SFGC0.036-0.182</td><td>266.603681,-29.0003732</td><td>111</td><td>4.733973193314756</td><td>7.620370879005402</td><td>10.280584905595646</td><td>111</td><td>6.025706275260065</td><td>11.0962925872066</td><td>14.989421203700925</td><td>19</td><td>266.60368100000005,-29.0003732</td><td>0648643</td><td>0.182</td><td>4.893</td><td>5.281</td><td>6.394</td><td>7.673</td></tr>\n",
       "<tr><td>...</td><td>...</td><td>...</td><td>...</td><td>...</td><td>...</td><td>...</td><td>...</td><td>...</td><td>...</td><td>...</td><td>...</td><td>...</td><td>...</td><td>...</td><td>...</td><td>...</td><td>...</td><td>...</td><td>...</td><td>...</td><td>...</td><td>...</td><td>...</td><td>...</td><td>...</td><td>...</td><td>...</td><td>...</td><td>...</td><td>...</td><td>...</td><td>...</td><td>...</td><td>...</td><td>...</td><td>...</td><td>...</td><td>...</td><td>...</td><td>...</td><td>...</td><td>...</td><td>...</td><td>...</td><td>...</td><td>...</td><td>...</td><td>...</td><td>...</td><td>...</td><td>...</td><td>...</td><td>...</td><td>...</td><td>...</td><td>...</td><td>...</td><td>...</td><td>...</td><td>...</td><td>...</td><td>...</td><td>...</td><td>...</td><td>...</td><td>...</td><td>...</td><td>...</td></tr>\n",
       "<tr><td>SFGC0.608-0.047</td><td>266.8113042421003</td><td>-28.441270241271535</td><td>0.8671</td><td>0.2983</td><td>2.907</td><td>2.771</td><td>0.2256</td><td>12.29</td><td>5.766</td><td>0.2381</td><td>24.22</td><td>3.196</td><td>2.081</td><td>3.911</td><td>0.1251</td><td>0.4587</td><td>3.926</td><td>0.1253</td><td>0.4507</td><td>M</td><td>13.63</td><td>1.204</td><td>--</td><td>--</td><td>-- .. --</td><td>1.847</td><td>0.3424</td><td>5.396</td><td>6.142</td><td>0.3811</td><td>16.12</td><td>11.99</td><td>0.4729</td><td>25.34</td><td>3.325</td><td>1.951</td><td>4.903</td><td>0.2364</td><td>0.3134</td><td>4.889</td><td>0.2357</td><td>0.3125</td><td>M</td><td>14.8</td><td>1.177</td><td>0</td><td>20</td><td>0.06039 ..      -0.02934</td><td>Field03</td><td></td><td>SFGC0.608-0.047</td><td>266.8113042421003,-28.441270241271535</td><td>100</td><td>1.7620908466140053</td><td>0.0</td><td>0.0</td><td>0</td><td>0.0</td><td>0.0</td><td>0.0</td><td>959</td><td>266.81130424210033,-28.441270241271535</td><td></td><td>--</td><td>--</td><td>--</td><td>--</td><td>--</td></tr>\n",
       "<tr><td>SFGC0.632-0.026</td><td>266.8046318013615</td><td>-28.409429818251144</td><td>7.027</td><td>0.08355</td><td>84.1</td><td>24.84</td><td>0.1321</td><td>188.1</td><td>46.43</td><td>0.188</td><td>247</td><td>3.536</td><td>1.869</td><td>32.14</td><td>0.3771</td><td>10.62</td><td>31.54</td><td>0.3239</td><td>8.211</td><td>A</td><td>26.05</td><td>2.485</td><td>--</td><td>--</td><td>-- .. --</td><td>31.52</td><td>0.1812</td><td>173.9</td><td>99.22</td><td>0.3319</td><td>299</td><td>146.6</td><td>0.4393</td><td>333.8</td><td>3.148</td><td>1.478</td><td>81.79</td><td>0.5641</td><td>4.998</td><td>81.08</td><td>0.6281</td><td>6.283</td><td>A</td><td>23.61</td><td>1.88</td><td>0</td><td>20</td><td>0.08719 ..        0.0156</td><td>Field03</td><td></td><td>SFGC0.632-0.026</td><td>266.8046318013615,-28.409429818251144</td><td>0</td><td>0.0</td><td>0.0</td><td>0.0</td><td>0</td><td>0.0</td><td>0.0</td><td>0.0</td><td>960</td><td>266.8046318013615,-28.409429818251144</td><td></td><td>--</td><td>--</td><td>--</td><td>--</td><td>--</td></tr>\n",
       "<tr><td>SFGC0.643-0.092</td><td>266.87495668570966</td><td>-28.434331150843413</td><td>2.698</td><td>0.1033</td><td>26.11</td><td>8.398</td><td>0.1442</td><td>58.23</td><td>14.52</td><td>0.2022</td><td>71.82</td><td>3.112</td><td>1.729</td><td>10.55</td><td>0.1452</td><td>1.033</td><td>10.55</td><td>0.1428</td><td>0.4064</td><td>M</td><td>22.47</td><td>2.126</td><td>--</td><td>--</td><td>-- .. --</td><td>14.23</td><td>0.1865</td><td>76.32</td><td>42.32</td><td>0.3343</td><td>126.6</td><td>61.52</td><td>0.442</td><td>139.2</td><td>2.974</td><td>1.454</td><td>34.97</td><td>0.2765</td><td>1.648</td><td>34.96</td><td>0.2738</td><td>0.5724</td><td>M</td><td>24.63</td><td>2.007</td><td>0</td><td>20</td><td>0.02059 ..       0.02945</td><td>Field02</td><td></td><td>SFGC0.643-0.092</td><td>266.87495668570966,-28.434331150843413</td><td>0</td><td>0.0</td><td>0.0</td><td>0.0</td><td>0</td><td>0.0</td><td>0.0</td><td>0.0</td><td>962</td><td>266.8749566857097,-28.434331150843413</td><td></td><td>--</td><td>--</td><td>--</td><td>--</td><td>--</td></tr>\n",
       "<tr><td>SFGC0.643-0.093</td><td>266.8758726876464</td><td>-28.434729966361513</td><td>2.337</td><td>0.1128</td><td>20.72</td><td>7.766</td><td>0.146</td><td>53.18</td><td>13.21</td><td>0.2031</td><td>65.01</td><td>3.323</td><td>1.7</td><td>9.765</td><td>0.1402</td><td>1.185</td><td>9.817</td><td>0.138</td><td>0.4579</td><td>M</td><td>9.929</td><td>2.193</td><td>--</td><td>--</td><td>-- .. --</td><td>16.12</td><td>0.1848</td><td>87.23</td><td>45.61</td><td>0.3338</td><td>136.6</td><td>64.44</td><td>0.4416</td><td>145.9</td><td>2.829</td><td>1.413</td><td>38.32</td><td>0.4515</td><td>2.497</td><td>--</td><td>--</td><td>--</td><td>A</td><td>2.126e-38</td><td>1</td><td>0</td><td>0</td><td>0.01823 ..      0.003642</td><td>Field02</td><td></td><td>SFGC0.643-0.093</td><td>266.8758726876464,-28.434729966361513</td><td>0</td><td>0.0</td><td>0.0</td><td>0.0</td><td>0</td><td>0.0</td><td>0.0</td><td>0.0</td><td>963</td><td>266.8758726876464,-28.434729966361513</td><td></td><td>--</td><td>--</td><td>--</td><td>--</td><td>--</td></tr>\n",
       "<tr><td>SFGC0.645-0.041</td><td>266.8271987977095</td><td>-28.40643127500445</td><td>0.2676</td><td>0.1803</td><td>1.485</td><td>0.7093</td><td>0.1793</td><td>3.956</td><td>1.203</td><td>0.2167</td><td>5.551</td><td>2.65</td><td>1.696</td><td>0.8994</td><td>0.1203</td><td>0.3009</td><td>0.8743</td><td>0.1111</td><td>0.28</td><td>M</td><td>29.35</td><td>5.219</td><td>--</td><td>--</td><td>-- .. --</td><td>3.541</td><td>0.1821</td><td>19.45</td><td>6.097</td><td>0.3297</td><td>18.49</td><td>6.597</td><td>0.4362</td><td>15.12</td><td>1.722</td><td>1.082</td><td>5.577</td><td>0.2296</td><td>0.4545</td><td>5.534</td><td>0.2232</td><td>0.3698</td><td>M</td><td>5.967</td><td>1.593</td><td>0</td><td>0</td><td>0.01536 ..      0.009828</td><td>Field03</td><td></td><td>SFGC0.645-0.041</td><td>266.8271987977095,-28.40643127500445</td><td>100</td><td>0.8085280681568437</td><td>0.0</td><td>0.0</td><td>0</td><td>0.0</td><td>0.0</td><td>0.0</td><td>964</td><td>266.8271987977095,-28.40643127500445</td><td></td><td>--</td><td>--</td><td>--</td><td>--</td><td>--</td></tr>\n",
       "<tr><td>SFGC0.648-0.035</td><td>266.82341735831307</td><td>-28.40059050284237</td><td>0.4709</td><td>0.1345</td><td>3.501</td><td>0.7005</td><td>0.1956</td><td>3.581</td><td>0.3766</td><td>0.4443</td><td>0.8476</td><td>1.488</td><td>0.5376</td><td>0.7796</td><td>0.08482</td><td>0.322</td><td>0.7862</td><td>0.08421</td><td>0.3127</td><td>M</td><td>6.212</td><td>1.396</td><td>--</td><td>--</td><td>-- .. --</td><td>2.871</td><td>0.1814</td><td>15.83</td><td>4.676</td><td>0.329</td><td>14.22</td><td>4.447</td><td>0.4361</td><td>10.2</td><td>1.629</td><td>0.951</td><td>4.587</td><td>0.2298</td><td>0.375</td><td>4.602</td><td>0.228</td><td>0.3443</td><td>M</td><td>6.47</td><td>1.367</td><td>0</td><td>0</td><td>-0.005642 ..      -0.01521</td><td>Field03</td><td></td><td>SFGC0.648-0.035</td><td>266.82341735831307,-28.40059050284237</td><td>1</td><td>0.0</td><td>0.0</td><td>1.7095402426028796</td><td>0</td><td>0.0</td><td>0.0</td><td>0.0</td><td>965</td><td>266.8234173583131,-28.40059050284237</td><td></td><td>--</td><td>--</td><td>--</td><td>--</td><td>--</td></tr>\n",
       "<tr><td>SFGC0.661-0.051</td><td>266.8463824609953</td><td>-28.39791412467139</td><td>0.9602</td><td>0.1247</td><td>7.701</td><td>1.837</td><td>0.1929</td><td>9.52</td><td>2.195</td><td>0.2804</td><td>7.828</td><td>1.913</td><td>1.195</td><td>1.947</td><td>0.1273</td><td>0.2243</td><td>1.943</td><td>0.1269</td><td>0.2214</td><td>M</td><td>5.417</td><td>1.148</td><td>--</td><td>--</td><td>-- .. --</td><td>4.413</td><td>0.3342</td><td>13.2</td><td>8.615</td><td>0.8604</td><td>10.01</td><td>9.85</td><td>1.369</td><td>7.193</td><td>1.952</td><td>1.143</td><td>8.549</td><td>0.6514</td><td>0.3378</td><td>8.59</td><td>0.6463</td><td>0.3151</td><td>M</td><td>10.9</td><td>1.466</td><td>0</td><td>0</td><td>0.0008659 ..     -0.009471</td><td>Field03</td><td></td><td>SFGC0.661-0.051</td><td>266.8463824609953,-28.39791412467139</td><td>0</td><td>0.0</td><td>0.0</td><td>0.0</td><td>0</td><td>0.0</td><td>0.0</td><td>0.0</td><td>967</td><td>266.84638246099536,-28.39791412467139</td><td></td><td>--</td><td>--</td><td>--</td><td>--</td><td>--</td></tr>\n",
       "<tr><td>SFGC0.664-0.039</td><td>266.83589105284943</td><td>-28.38845008793058</td><td>-0.2047</td><td>0.3345</td><td>-0.612</td><td>0.9398</td><td>0.3997</td><td>2.351</td><td>--</td><td>--</td><td>--</td><td>-4.591</td><td>--</td><td>--</td><td>--</td><td>--</td><td>--</td><td>--</td><td>--</td><td>A</td><td>2.126e-38</td><td>1</td><td>--</td><td>--</td><td>-- .. --</td><td>15.49</td><td>0.3485</td><td>44.43</td><td>70.27</td><td>0.7857</td><td>89.43</td><td>130.1</td><td>1.288</td><td>101</td><td>4.537</td><td>1.851</td><td>50.71</td><td>0.7007</td><td>0.4986</td><td>--</td><td>--</td><td>--</td><td>M</td><td>2.126e-38</td><td>1</td><td>0</td><td>21</td><td>0.01354 ..     0.0008659</td><td>Field03</td><td></td><td>SFGC0.664-0.039</td><td>266.83589105284943,-28.38845008793058</td><td>110</td><td>0.7987566913209971</td><td>2.138997185406325</td><td>0.0</td><td>0</td><td>0.0</td><td>0.0</td><td>0.0</td><td>968</td><td>266.8358910528495,-28.38845008793058</td><td></td><td>--</td><td>--</td><td>--</td><td>--</td><td>--</td></tr>\n",
       "<tr><td>SFGC0.667-0.038</td><td>266.8368341614815</td><td>-28.38560761284377</td><td>6.555</td><td>0.1127</td><td>58.19</td><td>25.32</td><td>0.2009</td><td>126</td><td>52.64</td><td>0.2948</td><td>178.6</td><td>3.863</td><td>2.079</td><td>35.84</td><td>0.319</td><td>4.281</td><td>34.89</td><td>0.2268</td><td>2.307</td><td>A</td><td>7.253</td><td>2.274</td><td>--</td><td>--</td><td>-- .. --</td><td>125.7</td><td>0.2947</td><td>426.6</td><td>435.5</td><td>0.5541</td><td>785.8</td><td>705.9</td><td>0.7367</td><td>958.2</td><td>3.464</td><td>1.621</td><td>358.3</td><td>2.07</td><td>32.27</td><td>352.8</td><td>1.584</td><td>19.58</td><td>A</td><td>9.29</td><td>2.186</td><td>0</td><td>20</td><td>0.007228 ..        0.7467</td><td>Field01</td><td></td><td>SFGC0.667-0.038</td><td>266.8368341614815,-28.38560761284377</td><td>0</td><td>0.0</td><td>0.0</td><td>0.0</td><td>0</td><td>0.0</td><td>0.0</td><td>0.0</td><td>969</td><td>266.83683416148153,-28.38560761284377</td><td></td><td>--</td><td>--</td><td>--</td><td>--</td><td>--</td></tr>\n",
       "<tr><td>SFGC0.668-0.034</td><td>266.8335367803795</td><td>-28.38358126934335</td><td>7.157</td><td>0.1146</td><td>62.43</td><td>31.56</td><td>0.2027</td><td>155.7</td><td>61.24</td><td>0.2975</td><td>205.8</td><td>4.41</td><td>1.94</td><td>43.9</td><td>0.6019</td><td>13.84</td><td>43.66</td><td>0.3145</td><td>3.969</td><td>A</td><td>7.176</td><td>2.856</td><td>--</td><td>--</td><td>-- .. --</td><td>211.7</td><td>0.2942</td><td>719.5</td><td>634.7</td><td>0.5535</td><td>1147</td><td>850.5</td><td>0.736</td><td>1156</td><td>2.998</td><td>1.34</td><td>543.9</td><td>4.832</td><td>150.8</td><td>537.7</td><td>2.77</td><td>51.48</td><td>A</td><td>15.02</td><td>1.764</td><td>0</td><td>20</td><td>0.5493 ..     -0.001778</td><td>Field01</td><td></td><td>SFGC0.668-0.034</td><td>266.8335367803795,-28.38358126934335</td><td>0</td><td>0.0</td><td>0.0</td><td>0.0</td><td>0</td><td>0.0</td><td>0.0</td><td>0.0</td><td>970</td><td>266.8335367803795,-28.38358126934335</td><td></td><td>--</td><td>--</td><td>--</td><td>--</td><td>--</td></tr>\n",
       "</table></div>"
      ],
      "text/plain": [
       "<Table length=972>\n",
       "     SourceID         RA(J2000)           DEC(J2000)     ... _4.5mag _3.6mag\n",
       "                         deg                 deg         ...   mag     mag  \n",
       "     bytes17           float64             float64       ... float32 float32\n",
       "----------------- ------------------ ------------------- ... ------- -------\n",
       "  SFGC0.154+0.031   266.467110972243 -28.788414953789108 ...      --      --\n",
       "  SFGC0.299-0.061   266.641754753852 -28.712831904692795 ...   6.466   7.191\n",
       "  SFGC0.545-0.086  266.8118265121627  -28.51580469297644 ...   9.829  10.819\n",
       "  SFGC0.395+0.008 266.63213024386454 -28.594773884198776 ...   6.393   7.824\n",
       "SFGC359.639-0.058  266.2456699094231  -29.27429422827648 ...   5.737      --\n",
       "  SFGC0.055+0.027  266.4117990403134  -28.87554263769326 ...   9.378  10.668\n",
       "  SFGC0.091+0.014  266.4447525525533 -28.851296569131748 ...      --  10.126\n",
       "SFGC359.948-0.029 266.40248829200516 -28.996054851267328 ...      --      --\n",
       "  SFGC0.036-0.182         266.603681         -29.0003732 ...   6.394   7.673\n",
       "              ...                ...                 ... ...     ...     ...\n",
       "  SFGC0.608-0.047  266.8113042421003 -28.441270241271535 ...      --      --\n",
       "  SFGC0.632-0.026  266.8046318013615 -28.409429818251144 ...      --      --\n",
       "  SFGC0.643-0.092 266.87495668570966 -28.434331150843413 ...      --      --\n",
       "  SFGC0.643-0.093  266.8758726876464 -28.434729966361513 ...      --      --\n",
       "  SFGC0.645-0.041  266.8271987977095  -28.40643127500445 ...      --      --\n",
       "  SFGC0.648-0.035 266.82341735831307  -28.40059050284237 ...      --      --\n",
       "  SFGC0.661-0.051  266.8463824609953  -28.39791412467139 ...      --      --\n",
       "  SFGC0.664-0.039 266.83589105284943  -28.38845008793058 ...      --      --\n",
       "  SFGC0.667-0.038  266.8368341614815  -28.38560761284377 ...      --      --\n",
       "  SFGC0.668-0.034  266.8335367803795  -28.38358126934335 ...      --      --"
      ]
     },
     "execution_count": 40,
     "metadata": {},
     "output_type": "execute_result"
    }
   ],
   "source": [
    "#create a combined table of both matched and unmatched sources\n",
    "mcatComb=vstack((matchedmcat,onlymcat))\n",
    "\n",
    "#print combined table\n",
    "mcatComb"
   ]
  },
  {
   "cell_type": "code",
   "execution_count": 41,
   "id": "1a48249c",
   "metadata": {},
   "outputs": [],
   "source": [
    "#if 'sky_centroid' in mcatComb.columns:\n",
    "#    mcatComb.remove_columns('sky_centroid')\n",
    "#    \n",
    "#if 'skycoords' in mcatComb.columns:\n",
    "#    mcatComb.remove_columns('skycoords')"
   ]
  },
  {
   "cell_type": "code",
   "execution_count": 42,
   "id": "68562651",
   "metadata": {},
   "outputs": [],
   "source": [
    "#write out final catalog\n",
    "mcatComb.write('masterCat_combined_step4.fits',overwrite=True)"
   ]
  },
  {
   "cell_type": "code",
   "execution_count": 43,
   "id": "0b21ca66",
   "metadata": {},
   "outputs": [],
   "source": [
    "#remove cutouts from table\n",
    "if 'cutout25' in mcatComb.columns:\n",
    "    mcatComb.remove_columns('cutout25')\n",
    "    \n",
    "if 'cutout37' in mcatComb.columns:\n",
    "    mcatComb.remove_columns('cutout37')"
   ]
  },
  {
   "cell_type": "code",
   "execution_count": 44,
   "id": "9c006e21",
   "metadata": {},
   "outputs": [],
   "source": [
    "#write out final catalog\n",
    "mcatComb.write('masterCat_combined_step4_NoCutouts.fits',overwrite=True)"
   ]
  },
  {
   "cell_type": "code",
   "execution_count": null,
   "id": "b4e53221",
   "metadata": {},
   "outputs": [],
   "source": []
  },
  {
   "cell_type": "code",
   "execution_count": null,
   "id": "932097b0",
   "metadata": {},
   "outputs": [],
   "source": []
  },
  {
   "cell_type": "code",
   "execution_count": 45,
   "id": "af1c8854",
   "metadata": {
    "scrolled": true
   },
   "outputs": [
    {
     "data": {
      "text/html": [
       "<div><i>Table length=972</i>\n",
       "<table id=\"table2506169530448\" class=\"table-striped table-bordered table-condensed\">\n",
       "<thead><tr><th>SourceID</th><th>RA(J2000)</th><th>DEC(J2000)</th><th>25um_Flux_4pix</th><th>25um_Flux_err_4pix</th><th>25um_SNR_4pix</th><th>25um_Flux_8pix</th><th>25um_Flux_err_8pix</th><th>25um_SNR_8pix</th><th>25um_Flux_12pix</th><th>25um_Flux_err_12pix</th><th>25um_SNR_12pix</th><th>25ApRatio8_4</th><th>25ApRatio12_8</th><th>25um_Flux_M2D</th><th>25um_Flux_err_M2D</th><th>25um_M2D_chi2</th><th>25um_Flux_G2D</th><th>25um_Flux_err_G2D</th><th>25um_G2D_chi2</th><th>25um_BestModel</th><th>fwhm25</th><th>elong25</th><th>bkg_qflag25</th><th>shape_qflag25</th><th>37um_Flux_5.5pix</th><th>37um_Flux_err_5.5pix</th><th>37um_SNR_5.5pix</th><th>37um_Flux_10.5pix</th><th>37um_Flux_err_10.5pix</th><th>37um_SNR_10.5pix</th><th>37um_Flux_14pix</th><th>37um_Flux_err_14pix</th><th>37um_SNR_14pix</th><th>37ApRatio10.5_5.5</th><th>37ApRatio14_10.5</th><th>37um_Flux_M2D</th><th>37um_Flux_err_M2D</th><th>37um_M2D_chi2</th><th>37um_Flux_G2D</th><th>37um_Flux_err_G2D</th><th>37um_G2D_chi2</th><th>37um_BestModel</th><th>fwhm37</th><th>elong37</th><th>bkg_qflag37</th><th>shape_qflag37</th><th>FieldID</th><th>SID25</th><th>SID37</th><th>sky_centroid</th><th>25ApPhot_qflag</th><th>25Ap_4pix_UL</th><th>25Ap_8pix_UL</th><th>25Ap_12pix_UL</th><th>37ApPhot_qflag</th><th>37Ap_5.5pix_UL</th><th>37Ap_10.5pix_UL</th><th>37Ap_14pix_UL</th><th>id</th><th>skycoords</th><th>SSTGCxmatch</th><th>SSTGCd2d</th><th>_8.0mag</th><th>_5.8mag</th><th>_4.5mag</th><th>_3.6mag</th></tr></thead>\n",
       "<thead><tr><th></th><th>deg</th><th>deg</th><th></th><th></th><th></th><th></th><th></th><th></th><th></th><th></th><th></th><th></th><th></th><th></th><th></th><th></th><th></th><th></th><th></th><th></th><th></th><th></th><th></th><th></th><th></th><th></th><th></th><th></th><th></th><th></th><th></th><th></th><th></th><th></th><th></th><th></th><th></th><th></th><th></th><th></th><th></th><th></th><th></th><th></th><th></th><th></th><th></th><th></th><th></th><th>deg,deg</th><th></th><th></th><th></th><th></th><th></th><th></th><th></th><th></th><th></th><th>deg,deg</th><th></th><th></th><th>mag</th><th>mag</th><th>mag</th><th>mag</th></tr></thead>\n",
       "<thead><tr><th>bytes17</th><th>float64</th><th>float64</th><th>float64</th><th>float64</th><th>float64</th><th>float64</th><th>float64</th><th>float64</th><th>float64</th><th>float64</th><th>float64</th><th>float64</th><th>float64</th><th>float64</th><th>float64</th><th>float64</th><th>float64</th><th>float64</th><th>float64</th><th>bytes1</th><th>float64</th><th>float64</th><th>int32</th><th>int32</th><th>float64</th><th>float64</th><th>float64</th><th>float64</th><th>float64</th><th>float64</th><th>float64</th><th>float64</th><th>float64</th><th>float64</th><th>float64</th><th>float64</th><th>float64</th><th>float64</th><th>float64</th><th>float64</th><th>float64</th><th>bytes1</th><th>float64</th><th>float64</th><th>int32</th><th>int32</th><th>bytes7</th><th>bytes17</th><th>bytes17</th><th>object</th><th>int32</th><th>float64</th><th>float64</th><th>float64</th><th>int32</th><th>float64</th><th>float64</th><th>float64</th><th>int64</th><th>object</th><th>str7</th><th>float64</th><th>float32</th><th>float32</th><th>float32</th><th>float32</th></tr></thead>\n",
       "<tr><td>SFGC0.154+0.031</td><td>266.467110972243</td><td>-28.788414953789108</td><td>0.8717</td><td>0.1151</td><td>7.577</td><td>1.799</td><td>0.1701</td><td>10.58</td><td>2.309</td><td>0.2393</td><td>9.649</td><td>2.064</td><td>1.283</td><td>2.066</td><td>0.1245</td><td>0.4145</td><td>2.082</td><td>0.1241</td><td>0.3935</td><td>M</td><td>6.218</td><td>1.38</td><td>0</td><td>0</td><td>1.814</td><td>0.2743</td><td>6.614</td><td>5.091</td><td>0.404</td><td>12.6</td><td>7.375</td><td>0.5233</td><td>14.09</td><td>2.806</td><td>1.449</td><td>4.212</td><td>0.2775</td><td>0.3107</td><td>4.248</td><td>0.2772</td><td>0.2955</td><td>M</td><td>15.64</td><td>1.711</td><td>--</td><td>--</td><td>Field20</td><td>SFGC0.154+0.031</td><td></td><td>266.467110972243,-28.788414953789108</td><td>0</td><td>0.0</td><td>0.0</td><td>0.0</td><td>0</td><td>0.0</td><td>0.0</td><td>0.0</td><td>601</td><td>266.46711097224306,-28.788414953789108</td><td>0558345</td><td>0.115</td><td>3.661</td><td>3.473</td><td>--</td><td>--</td></tr>\n",
       "<tr><td>SFGC0.299-0.061</td><td>266.641754753852</td><td>-28.712831904692795</td><td>0.3412</td><td>0.1709</td><td>1.996</td><td>0.0972</td><td>1.045</td><td>0.09303</td><td>-0.07626</td><td>1.989</td><td>-0.03834</td><td>0.2849</td><td>-0.7845</td><td>0.3675</td><td>0.04767</td><td>0.396</td><td>0.3777</td><td>0.04873</td><td>0.3939</td><td>M</td><td>2.382</td><td>1.261</td><td>0</td><td>0</td><td>-0.1664</td><td>0.957</td><td>-0.1739</td><td>-1.582</td><td>0.3943</td><td>-4.012</td><td>-2.632</td><td>0.483</td><td>-5.449</td><td>9.505</td><td>1.664</td><td>0.1378</td><td>0.05654</td><td>0.3867</td><td>0.1324</td><td>0.05371</td><td>0.3862</td><td>M</td><td>1.307</td><td>1.362</td><td>--</td><td>--</td><td>Field11</td><td>SFGC0.299-0.061</td><td></td><td>266.641754753852,-28.712831904692795</td><td>111</td><td>0.8540387925946817</td><td>3.2315652046150176</td><td>5.891293188920325</td><td>111</td><td>2.704449287796992</td><td>-0.39901521434619447</td><td>-1.1826562316232492</td><td>664</td><td>266.64175475385207,-28.712831904692795</td><td>0673798</td><td>0.147</td><td>5.558</td><td>5.743</td><td>6.466</td><td>7.191</td></tr>\n",
       "<tr><td>SFGC0.545-0.086</td><td>266.8118265121627</td><td>-28.51580469297644</td><td>2.144</td><td>0.09385</td><td>22.85</td><td>5.707</td><td>0.1517</td><td>37.63</td><td>8.51</td><td>0.2177</td><td>39.1</td><td>2.662</td><td>1.491</td><td>6.731</td><td>0.1452</td><td>0.697</td><td>6.728</td><td>0.1443</td><td>0.6069</td><td>M</td><td>12.17</td><td>1.39</td><td>0</td><td>0</td><td>5.309</td><td>0.2147</td><td>24.73</td><td>16.21</td><td>0.3784</td><td>42.83</td><td>22.92</td><td>0.5011</td><td>45.74</td><td>3.053</td><td>1.414</td><td>14.13</td><td>0.3012</td><td>0.6603</td><td>--</td><td>--</td><td>--</td><td>M</td><td>2.126e-38</td><td>1</td><td>--</td><td>--</td><td>Field05</td><td>SFGC0.545-0.086</td><td></td><td>266.8118265121627,-28.51580469297644</td><td>0</td><td>0.0</td><td>0.0</td><td>0.0</td><td>0</td><td>0.0</td><td>0.0</td><td>0.0</td><td>694</td><td>266.8118265121628,-28.51580469297644</td><td>0777321</td><td>0.147</td><td>6.833</td><td>8.692</td><td>9.829</td><td>10.819</td></tr>\n",
       "<tr><td>SFGC0.395+0.008</td><td>266.63213024386454</td><td>-28.594773884198776</td><td>0.8135</td><td>0.7847</td><td>1.037</td><td>1.076</td><td>1.567</td><td>0.6864</td><td>1.318</td><td>2.357</td><td>0.5591</td><td>1.323</td><td>1.225</td><td>1.114</td><td>0.8371</td><td>0.002737</td><td>0.8829</td><td>0.6698</td><td>0.002856</td><td>M</td><td>3.263</td><td>1.054</td><td>0</td><td>0</td><td>0.5691</td><td>1.496</td><td>0.3803</td><td>0.9068</td><td>2.819</td><td>0.3216</td><td>0.3662</td><td>3.805</td><td>0.09624</td><td>1.593</td><td>0.4038</td><td>0.9435</td><td>1.36</td><td>0.002914</td><td>0.9486</td><td>1.35</td><td>0.002867</td><td>M</td><td>6.437</td><td>1.925</td><td>--</td><td>--</td><td>Field09</td><td>SFGC0.395+0.008</td><td></td><td>266.63213024386454,-28.594773884198776</td><td>111</td><td>3.167495337479798</td><td>5.7784332643719205</td><td>8.387592645092928</td><td>111</td><td>5.058420532784996</td><td>9.365132877196377</td><td>11.780757430281067</td><td>679</td><td>266.6321302438646,-28.594773884198776</td><td>0667560</td><td>0.149</td><td>5.041</td><td>5.374</td><td>6.393</td><td>7.824</td></tr>\n",
       "<tr><td>SFGC359.639-0.058</td><td>266.2456699094231</td><td>-29.27429422827648</td><td>3.217</td><td>0.08968</td><td>35.88</td><td>4.627</td><td>0.1491</td><td>31.04</td><td>6.347</td><td>0.2128</td><td>29.83</td><td>1.438</td><td>6.347</td><td>4.771</td><td>0.07794</td><td>0.7274</td><td>3.63</td><td>0.06016</td><td>1.093</td><td>M</td><td>3.624</td><td>1.201</td><td>0</td><td>0</td><td>3.77</td><td>0.215</td><td>17.53</td><td>9.55</td><td>0.3862</td><td>24.73</td><td>17.03</td><td>0.5101</td><td>33.39</td><td>2.533</td><td>1.784</td><td>8.273</td><td>0.2874</td><td>0.6732</td><td>8.357</td><td>0.2888</td><td>0.6433</td><td>M</td><td>14.54</td><td>1.494</td><td>0</td><td>20</td><td>Field45</td><td>SFGC359.639-0.058</td><td>SFGC359.639-0.058</td><td>266.2456699094231,-29.27429422827648</td><td>0</td><td>0.0</td><td>0.0</td><td>0.0</td><td>0</td><td>0.0</td><td>0.0</td><td>0.0</td><td>82</td><td>266.2456699094231,-29.27429422827648</td><td>0414950</td><td>0.153</td><td>3.708</td><td>3.756</td><td>5.737</td><td>--</td></tr>\n",
       "<tr><td>SFGC0.055+0.027</td><td>266.4117990403134</td><td>-28.87554263769326</td><td>8.834</td><td>0.1181</td><td>74.79</td><td>12.86</td><td>0.2155</td><td>59.67</td><td>14.91</td><td>0.3169</td><td>47.07</td><td>1.456</td><td>14.91</td><td>13.11</td><td>0.1916</td><td>2.012</td><td>12.33</td><td>0.1248</td><td>1.028</td><td>G</td><td>3.709</td><td>1.47</td><td>0</td><td>0</td><td>15.35</td><td>0.2342</td><td>65.52</td><td>16.89</td><td>0.4297</td><td>39.3</td><td>18.69</td><td>0.5687</td><td>32.86</td><td>1.101</td><td>1.107</td><td>16.89</td><td>0.1942</td><td>1.041</td><td>16.78</td><td>0.1927</td><td>0.9707</td><td>M</td><td>4.701</td><td>1.117</td><td>0</td><td>0</td><td>Field31</td><td>SFGC0.055+0.027</td><td>SFGC0.055+0.027</td><td>266.4117990403134,-28.87554263769326</td><td>0</td><td>0.0</td><td>0.0</td><td>0.0</td><td>0</td><td>0.0</td><td>0.0</td><td>0.0</td><td>105</td><td>266.41179904031344,-28.87554263769326</td><td>0521894</td><td>0.164</td><td>5.598</td><td>7.410</td><td>9.378</td><td>10.668</td></tr>\n",
       "<tr><td>SFGC0.091+0.014</td><td>266.4447525525533</td><td>-28.851296569131748</td><td>2.411</td><td>0.2608</td><td>9.243</td><td>5.454</td><td>0.3149</td><td>17.32</td><td>10.22</td><td>0.3939</td><td>25.94</td><td>2.263</td><td>1.873</td><td>6.952</td><td>0.2838</td><td>2.191</td><td>7.725</td><td>0.2002</td><td>1.583</td><td>G</td><td>6.119</td><td>4.117</td><td>0</td><td>10</td><td>13.92</td><td>0.3512</td><td>39.63</td><td>47.66</td><td>0.5862</td><td>81.31</td><td>80.83</td><td>0.7725</td><td>104.6</td><td>3.424</td><td>1.696</td><td>39.76</td><td>0.7655</td><td>2.853</td><td>39.29</td><td>0.4353</td><td>1.28</td><td>G</td><td>9.929</td><td>13.9</td><td>--</td><td>--</td><td>Field26</td><td>SFGC0.091+0.014</td><td></td><td>266.4447525525533,-28.851296569131748</td><td>0</td><td>0.0</td><td>0.0</td><td>0.0</td><td>0</td><td>0.0</td><td>0.0</td><td>0.0</td><td>554</td><td>266.4447525525534,-28.851296569131748</td><td>0543623</td><td>0.168</td><td>7.960</td><td>--</td><td>--</td><td>10.126</td></tr>\n",
       "<tr><td>SFGC359.948-0.029</td><td>266.40248829200516</td><td>-28.996054851267328</td><td>1.467</td><td>0.1522</td><td>9.639</td><td>3.231</td><td>0.1836</td><td>17.6</td><td>5.111</td><td>0.2336</td><td>21.88</td><td>2.202</td><td>1.582</td><td>3.863</td><td>0.1313</td><td>1.012</td><td>3.867</td><td>0.1287</td><td>0.8889</td><td>M</td><td>11.93</td><td>1.741</td><td>0</td><td>0</td><td>10.22</td><td>0.2221</td><td>46.02</td><td>28.35</td><td>0.3627</td><td>78.16</td><td>43.1</td><td>0.4746</td><td>90.81</td><td>2.774</td><td>1.52</td><td>23.75</td><td>0.2986</td><td>0.7011</td><td>23.74</td><td>0.2981</td><td>0.6372</td><td>M</td><td>17.24</td><td>1.295</td><td>--</td><td>--</td><td>Field41</td><td>SFGC359.948-0.029</td><td></td><td>266.40248829200516,-28.996054851267328</td><td>0</td><td>0.0</td><td>0.0</td><td>0.0</td><td>0</td><td>0.0</td><td>0.0</td><td>0.0</td><td>482</td><td>266.40248829200516,-28.996054851267328</td><td>0515803</td><td>0.168</td><td>6.617</td><td>--</td><td>--</td><td>--</td></tr>\n",
       "<tr><td>SFGC0.036-0.182</td><td>266.603681</td><td>-29.0003732</td><td>1.318</td><td>1.139</td><td>1.158</td><td>1.063</td><td>2.186</td><td>0.4862</td><td>0.4892</td><td>3.264</td><td>0.1499</td><td>0.8061</td><td>0.4892</td><td>1.368</td><td>0.8226</td><td>0.007463</td><td>1.368</td><td>0.8226</td><td>0.007462</td><td>A</td><td>2.619</td><td>1.017</td><td>0</td><td>0</td><td>1.413</td><td>1.538</td><td>0.9191</td><td>1.781</td><td>3.105</td><td>0.5737</td><td>2.056</td><td>4.311</td><td>0.4769</td><td>1.261</td><td>1.154</td><td>1.51</td><td>1.232</td><td>0.003785</td><td>1.533</td><td>1.243</td><td>0.003719</td><td>M</td><td>4.585</td><td>1.232</td><td>0</td><td>0</td><td>Field35</td><td>SFGC0.036-0.182</td><td>SFGC0.036-0.182</td><td>266.603681,-29.0003732</td><td>111</td><td>4.733973193314756</td><td>7.620370879005402</td><td>10.280584905595646</td><td>111</td><td>6.025706275260065</td><td>11.0962925872066</td><td>14.989421203700925</td><td>19</td><td>266.60368100000005,-29.0003732</td><td>0648643</td><td>0.182</td><td>4.893</td><td>5.281</td><td>6.394</td><td>7.673</td></tr>\n",
       "<tr><td>...</td><td>...</td><td>...</td><td>...</td><td>...</td><td>...</td><td>...</td><td>...</td><td>...</td><td>...</td><td>...</td><td>...</td><td>...</td><td>...</td><td>...</td><td>...</td><td>...</td><td>...</td><td>...</td><td>...</td><td>...</td><td>...</td><td>...</td><td>...</td><td>...</td><td>...</td><td>...</td><td>...</td><td>...</td><td>...</td><td>...</td><td>...</td><td>...</td><td>...</td><td>...</td><td>...</td><td>...</td><td>...</td><td>...</td><td>...</td><td>...</td><td>...</td><td>...</td><td>...</td><td>...</td><td>...</td><td>...</td><td>...</td><td>...</td><td>...</td><td>...</td><td>...</td><td>...</td><td>...</td><td>...</td><td>...</td><td>...</td><td>...</td><td>...</td><td>...</td><td>...</td><td>...</td><td>...</td><td>...</td><td>...</td><td>...</td><td>...</td></tr>\n",
       "<tr><td>SFGC0.608-0.047</td><td>266.8113042421003</td><td>-28.441270241271535</td><td>0.8671</td><td>0.2983</td><td>2.907</td><td>2.771</td><td>0.2256</td><td>12.29</td><td>5.766</td><td>0.2381</td><td>24.22</td><td>3.196</td><td>2.081</td><td>3.911</td><td>0.1251</td><td>0.4587</td><td>3.926</td><td>0.1253</td><td>0.4507</td><td>M</td><td>13.63</td><td>1.204</td><td>--</td><td>--</td><td>1.847</td><td>0.3424</td><td>5.396</td><td>6.142</td><td>0.3811</td><td>16.12</td><td>11.99</td><td>0.4729</td><td>25.34</td><td>3.325</td><td>1.951</td><td>4.903</td><td>0.2364</td><td>0.3134</td><td>4.889</td><td>0.2357</td><td>0.3125</td><td>M</td><td>14.8</td><td>1.177</td><td>0</td><td>20</td><td>Field03</td><td></td><td>SFGC0.608-0.047</td><td>266.8113042421003,-28.441270241271535</td><td>100</td><td>1.7620908466140053</td><td>0.0</td><td>0.0</td><td>0</td><td>0.0</td><td>0.0</td><td>0.0</td><td>959</td><td>266.81130424210033,-28.441270241271535</td><td></td><td>--</td><td>--</td><td>--</td><td>--</td><td>--</td></tr>\n",
       "<tr><td>SFGC0.632-0.026</td><td>266.8046318013615</td><td>-28.409429818251144</td><td>7.027</td><td>0.08355</td><td>84.1</td><td>24.84</td><td>0.1321</td><td>188.1</td><td>46.43</td><td>0.188</td><td>247</td><td>3.536</td><td>1.869</td><td>32.14</td><td>0.3771</td><td>10.62</td><td>31.54</td><td>0.3239</td><td>8.211</td><td>A</td><td>26.05</td><td>2.485</td><td>--</td><td>--</td><td>31.52</td><td>0.1812</td><td>173.9</td><td>99.22</td><td>0.3319</td><td>299</td><td>146.6</td><td>0.4393</td><td>333.8</td><td>3.148</td><td>1.478</td><td>81.79</td><td>0.5641</td><td>4.998</td><td>81.08</td><td>0.6281</td><td>6.283</td><td>A</td><td>23.61</td><td>1.88</td><td>0</td><td>20</td><td>Field03</td><td></td><td>SFGC0.632-0.026</td><td>266.8046318013615,-28.409429818251144</td><td>0</td><td>0.0</td><td>0.0</td><td>0.0</td><td>0</td><td>0.0</td><td>0.0</td><td>0.0</td><td>960</td><td>266.8046318013615,-28.409429818251144</td><td></td><td>--</td><td>--</td><td>--</td><td>--</td><td>--</td></tr>\n",
       "<tr><td>SFGC0.643-0.092</td><td>266.87495668570966</td><td>-28.434331150843413</td><td>2.698</td><td>0.1033</td><td>26.11</td><td>8.398</td><td>0.1442</td><td>58.23</td><td>14.52</td><td>0.2022</td><td>71.82</td><td>3.112</td><td>1.729</td><td>10.55</td><td>0.1452</td><td>1.033</td><td>10.55</td><td>0.1428</td><td>0.4064</td><td>M</td><td>22.47</td><td>2.126</td><td>--</td><td>--</td><td>14.23</td><td>0.1865</td><td>76.32</td><td>42.32</td><td>0.3343</td><td>126.6</td><td>61.52</td><td>0.442</td><td>139.2</td><td>2.974</td><td>1.454</td><td>34.97</td><td>0.2765</td><td>1.648</td><td>34.96</td><td>0.2738</td><td>0.5724</td><td>M</td><td>24.63</td><td>2.007</td><td>0</td><td>20</td><td>Field02</td><td></td><td>SFGC0.643-0.092</td><td>266.87495668570966,-28.434331150843413</td><td>0</td><td>0.0</td><td>0.0</td><td>0.0</td><td>0</td><td>0.0</td><td>0.0</td><td>0.0</td><td>962</td><td>266.8749566857097,-28.434331150843413</td><td></td><td>--</td><td>--</td><td>--</td><td>--</td><td>--</td></tr>\n",
       "<tr><td>SFGC0.643-0.093</td><td>266.8758726876464</td><td>-28.434729966361513</td><td>2.337</td><td>0.1128</td><td>20.72</td><td>7.766</td><td>0.146</td><td>53.18</td><td>13.21</td><td>0.2031</td><td>65.01</td><td>3.323</td><td>1.7</td><td>9.765</td><td>0.1402</td><td>1.185</td><td>9.817</td><td>0.138</td><td>0.4579</td><td>M</td><td>9.929</td><td>2.193</td><td>--</td><td>--</td><td>16.12</td><td>0.1848</td><td>87.23</td><td>45.61</td><td>0.3338</td><td>136.6</td><td>64.44</td><td>0.4416</td><td>145.9</td><td>2.829</td><td>1.413</td><td>38.32</td><td>0.4515</td><td>2.497</td><td>--</td><td>--</td><td>--</td><td>A</td><td>2.126e-38</td><td>1</td><td>0</td><td>0</td><td>Field02</td><td></td><td>SFGC0.643-0.093</td><td>266.8758726876464,-28.434729966361513</td><td>0</td><td>0.0</td><td>0.0</td><td>0.0</td><td>0</td><td>0.0</td><td>0.0</td><td>0.0</td><td>963</td><td>266.8758726876464,-28.434729966361513</td><td></td><td>--</td><td>--</td><td>--</td><td>--</td><td>--</td></tr>\n",
       "<tr><td>SFGC0.645-0.041</td><td>266.8271987977095</td><td>-28.40643127500445</td><td>0.2676</td><td>0.1803</td><td>1.485</td><td>0.7093</td><td>0.1793</td><td>3.956</td><td>1.203</td><td>0.2167</td><td>5.551</td><td>2.65</td><td>1.696</td><td>0.8994</td><td>0.1203</td><td>0.3009</td><td>0.8743</td><td>0.1111</td><td>0.28</td><td>M</td><td>29.35</td><td>5.219</td><td>--</td><td>--</td><td>3.541</td><td>0.1821</td><td>19.45</td><td>6.097</td><td>0.3297</td><td>18.49</td><td>6.597</td><td>0.4362</td><td>15.12</td><td>1.722</td><td>1.082</td><td>5.577</td><td>0.2296</td><td>0.4545</td><td>5.534</td><td>0.2232</td><td>0.3698</td><td>M</td><td>5.967</td><td>1.593</td><td>0</td><td>0</td><td>Field03</td><td></td><td>SFGC0.645-0.041</td><td>266.8271987977095,-28.40643127500445</td><td>100</td><td>0.8085280681568437</td><td>0.0</td><td>0.0</td><td>0</td><td>0.0</td><td>0.0</td><td>0.0</td><td>964</td><td>266.8271987977095,-28.40643127500445</td><td></td><td>--</td><td>--</td><td>--</td><td>--</td><td>--</td></tr>\n",
       "<tr><td>SFGC0.648-0.035</td><td>266.82341735831307</td><td>-28.40059050284237</td><td>0.4709</td><td>0.1345</td><td>3.501</td><td>0.7005</td><td>0.1956</td><td>3.581</td><td>0.3766</td><td>0.4443</td><td>0.8476</td><td>1.488</td><td>0.5376</td><td>0.7796</td><td>0.08482</td><td>0.322</td><td>0.7862</td><td>0.08421</td><td>0.3127</td><td>M</td><td>6.212</td><td>1.396</td><td>--</td><td>--</td><td>2.871</td><td>0.1814</td><td>15.83</td><td>4.676</td><td>0.329</td><td>14.22</td><td>4.447</td><td>0.4361</td><td>10.2</td><td>1.629</td><td>0.951</td><td>4.587</td><td>0.2298</td><td>0.375</td><td>4.602</td><td>0.228</td><td>0.3443</td><td>M</td><td>6.47</td><td>1.367</td><td>0</td><td>0</td><td>Field03</td><td></td><td>SFGC0.648-0.035</td><td>266.82341735831307,-28.40059050284237</td><td>1</td><td>0.0</td><td>0.0</td><td>1.7095402426028796</td><td>0</td><td>0.0</td><td>0.0</td><td>0.0</td><td>965</td><td>266.8234173583131,-28.40059050284237</td><td></td><td>--</td><td>--</td><td>--</td><td>--</td><td>--</td></tr>\n",
       "<tr><td>SFGC0.661-0.051</td><td>266.8463824609953</td><td>-28.39791412467139</td><td>0.9602</td><td>0.1247</td><td>7.701</td><td>1.837</td><td>0.1929</td><td>9.52</td><td>2.195</td><td>0.2804</td><td>7.828</td><td>1.913</td><td>1.195</td><td>1.947</td><td>0.1273</td><td>0.2243</td><td>1.943</td><td>0.1269</td><td>0.2214</td><td>M</td><td>5.417</td><td>1.148</td><td>--</td><td>--</td><td>4.413</td><td>0.3342</td><td>13.2</td><td>8.615</td><td>0.8604</td><td>10.01</td><td>9.85</td><td>1.369</td><td>7.193</td><td>1.952</td><td>1.143</td><td>8.549</td><td>0.6514</td><td>0.3378</td><td>8.59</td><td>0.6463</td><td>0.3151</td><td>M</td><td>10.9</td><td>1.466</td><td>0</td><td>0</td><td>Field03</td><td></td><td>SFGC0.661-0.051</td><td>266.8463824609953,-28.39791412467139</td><td>0</td><td>0.0</td><td>0.0</td><td>0.0</td><td>0</td><td>0.0</td><td>0.0</td><td>0.0</td><td>967</td><td>266.84638246099536,-28.39791412467139</td><td></td><td>--</td><td>--</td><td>--</td><td>--</td><td>--</td></tr>\n",
       "<tr><td>SFGC0.664-0.039</td><td>266.83589105284943</td><td>-28.38845008793058</td><td>-0.2047</td><td>0.3345</td><td>-0.612</td><td>0.9398</td><td>0.3997</td><td>2.351</td><td>--</td><td>--</td><td>--</td><td>-4.591</td><td>--</td><td>--</td><td>--</td><td>--</td><td>--</td><td>--</td><td>--</td><td>A</td><td>2.126e-38</td><td>1</td><td>--</td><td>--</td><td>15.49</td><td>0.3485</td><td>44.43</td><td>70.27</td><td>0.7857</td><td>89.43</td><td>130.1</td><td>1.288</td><td>101</td><td>4.537</td><td>1.851</td><td>50.71</td><td>0.7007</td><td>0.4986</td><td>--</td><td>--</td><td>--</td><td>M</td><td>2.126e-38</td><td>1</td><td>0</td><td>21</td><td>Field03</td><td></td><td>SFGC0.664-0.039</td><td>266.83589105284943,-28.38845008793058</td><td>110</td><td>0.7987566913209971</td><td>2.138997185406325</td><td>0.0</td><td>0</td><td>0.0</td><td>0.0</td><td>0.0</td><td>968</td><td>266.8358910528495,-28.38845008793058</td><td></td><td>--</td><td>--</td><td>--</td><td>--</td><td>--</td></tr>\n",
       "<tr><td>SFGC0.667-0.038</td><td>266.8368341614815</td><td>-28.38560761284377</td><td>6.555</td><td>0.1127</td><td>58.19</td><td>25.32</td><td>0.2009</td><td>126</td><td>52.64</td><td>0.2948</td><td>178.6</td><td>3.863</td><td>2.079</td><td>35.84</td><td>0.319</td><td>4.281</td><td>34.89</td><td>0.2268</td><td>2.307</td><td>A</td><td>7.253</td><td>2.274</td><td>--</td><td>--</td><td>125.7</td><td>0.2947</td><td>426.6</td><td>435.5</td><td>0.5541</td><td>785.8</td><td>705.9</td><td>0.7367</td><td>958.2</td><td>3.464</td><td>1.621</td><td>358.3</td><td>2.07</td><td>32.27</td><td>352.8</td><td>1.584</td><td>19.58</td><td>A</td><td>9.29</td><td>2.186</td><td>0</td><td>20</td><td>Field01</td><td></td><td>SFGC0.667-0.038</td><td>266.8368341614815,-28.38560761284377</td><td>0</td><td>0.0</td><td>0.0</td><td>0.0</td><td>0</td><td>0.0</td><td>0.0</td><td>0.0</td><td>969</td><td>266.83683416148153,-28.38560761284377</td><td></td><td>--</td><td>--</td><td>--</td><td>--</td><td>--</td></tr>\n",
       "<tr><td>SFGC0.668-0.034</td><td>266.8335367803795</td><td>-28.38358126934335</td><td>7.157</td><td>0.1146</td><td>62.43</td><td>31.56</td><td>0.2027</td><td>155.7</td><td>61.24</td><td>0.2975</td><td>205.8</td><td>4.41</td><td>1.94</td><td>43.9</td><td>0.6019</td><td>13.84</td><td>43.66</td><td>0.3145</td><td>3.969</td><td>A</td><td>7.176</td><td>2.856</td><td>--</td><td>--</td><td>211.7</td><td>0.2942</td><td>719.5</td><td>634.7</td><td>0.5535</td><td>1147</td><td>850.5</td><td>0.736</td><td>1156</td><td>2.998</td><td>1.34</td><td>543.9</td><td>4.832</td><td>150.8</td><td>537.7</td><td>2.77</td><td>51.48</td><td>A</td><td>15.02</td><td>1.764</td><td>0</td><td>20</td><td>Field01</td><td></td><td>SFGC0.668-0.034</td><td>266.8335367803795,-28.38358126934335</td><td>0</td><td>0.0</td><td>0.0</td><td>0.0</td><td>0</td><td>0.0</td><td>0.0</td><td>0.0</td><td>970</td><td>266.8335367803795,-28.38358126934335</td><td></td><td>--</td><td>--</td><td>--</td><td>--</td><td>--</td></tr>\n",
       "</table></div>"
      ],
      "text/plain": [
       "<Table length=972>\n",
       "     SourceID         RA(J2000)           DEC(J2000)     ... _4.5mag _3.6mag\n",
       "                         deg                 deg         ...   mag     mag  \n",
       "     bytes17           float64             float64       ... float32 float32\n",
       "----------------- ------------------ ------------------- ... ------- -------\n",
       "  SFGC0.154+0.031   266.467110972243 -28.788414953789108 ...      --      --\n",
       "  SFGC0.299-0.061   266.641754753852 -28.712831904692795 ...   6.466   7.191\n",
       "  SFGC0.545-0.086  266.8118265121627  -28.51580469297644 ...   9.829  10.819\n",
       "  SFGC0.395+0.008 266.63213024386454 -28.594773884198776 ...   6.393   7.824\n",
       "SFGC359.639-0.058  266.2456699094231  -29.27429422827648 ...   5.737      --\n",
       "  SFGC0.055+0.027  266.4117990403134  -28.87554263769326 ...   9.378  10.668\n",
       "  SFGC0.091+0.014  266.4447525525533 -28.851296569131748 ...      --  10.126\n",
       "SFGC359.948-0.029 266.40248829200516 -28.996054851267328 ...      --      --\n",
       "  SFGC0.036-0.182         266.603681         -29.0003732 ...   6.394   7.673\n",
       "              ...                ...                 ... ...     ...     ...\n",
       "  SFGC0.608-0.047  266.8113042421003 -28.441270241271535 ...      --      --\n",
       "  SFGC0.632-0.026  266.8046318013615 -28.409429818251144 ...      --      --\n",
       "  SFGC0.643-0.092 266.87495668570966 -28.434331150843413 ...      --      --\n",
       "  SFGC0.643-0.093  266.8758726876464 -28.434729966361513 ...      --      --\n",
       "  SFGC0.645-0.041  266.8271987977095  -28.40643127500445 ...      --      --\n",
       "  SFGC0.648-0.035 266.82341735831307  -28.40059050284237 ...      --      --\n",
       "  SFGC0.661-0.051  266.8463824609953  -28.39791412467139 ...      --      --\n",
       "  SFGC0.664-0.039 266.83589105284943  -28.38845008793058 ...      --      --\n",
       "  SFGC0.667-0.038  266.8368341614815  -28.38560761284377 ...      --      --\n",
       "  SFGC0.668-0.034  266.8335367803795  -28.38358126934335 ...      --      --"
      ]
     },
     "execution_count": 45,
     "metadata": {},
     "output_type": "execute_result"
    }
   ],
   "source": [
    "mcatComb"
   ]
  },
  {
   "cell_type": "code",
   "execution_count": 46,
   "id": "1af031a7",
   "metadata": {
    "scrolled": true
   },
   "outputs": [
    {
     "data": {
      "text/html": [
       "<div><i>Table length=449</i>\n",
       "<table id=\"table2507768483792\" class=\"table-striped table-bordered table-condensed\">\n",
       "<thead><tr><th>SourceID</th><th>RA(J2000)</th><th>DEC(J2000)</th><th>25um_Flux_4pix</th><th>25um_Flux_err_4pix</th><th>25um_SNR_4pix</th><th>25um_Flux_8pix</th><th>25um_Flux_err_8pix</th><th>25um_SNR_8pix</th><th>25um_Flux_12pix</th><th>25um_Flux_err_12pix</th><th>25um_SNR_12pix</th><th>25ApRatio8_4</th><th>25ApRatio12_8</th><th>25um_Flux_M2D</th><th>25um_Flux_err_M2D</th><th>25um_M2D_chi2</th><th>25um_Flux_G2D</th><th>25um_Flux_err_G2D</th><th>25um_G2D_chi2</th><th>25um_BestModel</th><th>fwhm25</th><th>elong25</th><th>bkg_qflag25</th><th>shape_qflag25</th><th>cutout25 [25,25]</th><th>37um_Flux_5.5pix</th><th>37um_Flux_err_5.5pix</th><th>37um_SNR_5.5pix</th><th>37um_Flux_10.5pix</th><th>37um_Flux_err_10.5pix</th><th>37um_SNR_10.5pix</th><th>37um_Flux_14pix</th><th>37um_Flux_err_14pix</th><th>37um_SNR_14pix</th><th>37ApRatio10.5_5.5</th><th>37ApRatio14_10.5</th><th>37um_Flux_M2D</th><th>37um_Flux_err_M2D</th><th>37um_M2D_chi2</th><th>37um_Flux_G2D</th><th>37um_Flux_err_G2D</th><th>37um_G2D_chi2</th><th>37um_BestModel</th><th>fwhm37</th><th>elong37</th><th>bkg_qflag37</th><th>shape_qflag37</th><th>cutout37 [31,31]</th><th>FieldID</th><th>SID25</th><th>SID37</th><th>sky_centroid</th><th>25ApPhot_qflag</th><th>25Ap_4pix_UL</th><th>25Ap_8pix_UL</th><th>25Ap_12pix_UL</th><th>37ApPhot_qflag</th><th>37Ap_5.5pix_UL</th><th>37Ap_10.5pix_UL</th><th>37Ap_14pix_UL</th><th>id</th><th>skycoords</th><th>SSTGCxmatch</th><th>SSTGCd2d</th><th>_8.0mag</th><th>_5.8mag</th><th>_4.5mag</th><th>_3.6mag</th></tr></thead>\n",
       "<thead><tr><th></th><th>deg</th><th>deg</th><th></th><th></th><th></th><th></th><th></th><th></th><th></th><th></th><th></th><th></th><th></th><th></th><th></th><th></th><th></th><th></th><th></th><th></th><th></th><th></th><th></th><th></th><th></th><th></th><th></th><th></th><th></th><th></th><th></th><th></th><th></th><th></th><th></th><th></th><th></th><th></th><th></th><th></th><th></th><th></th><th></th><th></th><th></th><th></th><th></th><th></th><th></th><th></th><th></th><th>deg,deg</th><th></th><th></th><th></th><th></th><th></th><th></th><th></th><th></th><th></th><th>deg,deg</th><th></th><th></th><th>mag</th><th>mag</th><th>mag</th><th>mag</th></tr></thead>\n",
       "<thead><tr><th>bytes17</th><th>float64</th><th>float64</th><th>float64</th><th>float64</th><th>float64</th><th>float64</th><th>float64</th><th>float64</th><th>float64</th><th>float64</th><th>float64</th><th>float64</th><th>float64</th><th>float64</th><th>float64</th><th>float64</th><th>float64</th><th>float64</th><th>float64</th><th>bytes1</th><th>float64</th><th>float64</th><th>int32</th><th>int32</th><th>float64</th><th>float64</th><th>float64</th><th>float64</th><th>float64</th><th>float64</th><th>float64</th><th>float64</th><th>float64</th><th>float64</th><th>float64</th><th>float64</th><th>float64</th><th>float64</th><th>float64</th><th>float64</th><th>float64</th><th>float64</th><th>bytes1</th><th>float64</th><th>float64</th><th>int32</th><th>int32</th><th>float64</th><th>bytes7</th><th>bytes17</th><th>bytes17</th><th>object</th><th>int32</th><th>float64</th><th>float64</th><th>float64</th><th>int32</th><th>float64</th><th>float64</th><th>float64</th><th>int64</th><th>object</th><th>str7</th><th>float64</th><th>float32</th><th>float32</th><th>float32</th><th>float32</th></tr></thead>\n",
       "<tr><td>SFGC0.154+0.031</td><td>266.467110972243</td><td>-28.788414953789108</td><td>0.8717</td><td>0.1151</td><td>7.577</td><td>1.799</td><td>0.1701</td><td>10.58</td><td>2.309</td><td>0.2393</td><td>9.649</td><td>2.064</td><td>1.283</td><td>2.066</td><td>0.1245</td><td>0.4145</td><td>2.082</td><td>0.1241</td><td>0.3935</td><td>M</td><td>6.218</td><td>1.38</td><td>0</td><td>0</td><td>-0.0007852 ..      0.006857</td><td>1.814</td><td>0.2743</td><td>6.614</td><td>5.091</td><td>0.404</td><td>12.6</td><td>7.375</td><td>0.5233</td><td>14.09</td><td>2.806</td><td>1.449</td><td>4.212</td><td>0.2775</td><td>0.3107</td><td>4.248</td><td>0.2772</td><td>0.2955</td><td>M</td><td>15.64</td><td>1.711</td><td>--</td><td>--</td><td>-- .. --</td><td>Field20</td><td>SFGC0.154+0.031</td><td>--</td><td>266.467110972243,-28.788414953789108</td><td>0</td><td>0.0</td><td>0.0</td><td>0.0</td><td>0</td><td>0.0</td><td>0.0</td><td>0.0</td><td>601</td><td>266.46711097224306,-28.788414953789108</td><td>0558345</td><td>0.115</td><td>3.661</td><td>3.473</td><td>--</td><td>--</td></tr>\n",
       "<tr><td>SFGC0.299-0.061</td><td>266.641754753852</td><td>-28.712831904692795</td><td>0.3412</td><td>0.1709</td><td>1.996</td><td>0.0972</td><td>1.045</td><td>0.09303</td><td>-0.07626</td><td>1.989</td><td>-0.03834</td><td>0.2849</td><td>-0.7845</td><td>0.3675</td><td>0.04767</td><td>0.396</td><td>0.3777</td><td>0.04873</td><td>0.3939</td><td>M</td><td>2.382</td><td>1.261</td><td>0</td><td>0</td><td>0.004175 ..     -0.008668</td><td>-0.1664</td><td>0.957</td><td>-0.1739</td><td>-1.582</td><td>0.3943</td><td>-4.012</td><td>-2.632</td><td>0.483</td><td>-5.449</td><td>9.505</td><td>1.664</td><td>0.1378</td><td>0.05654</td><td>0.3867</td><td>0.1324</td><td>0.05371</td><td>0.3862</td><td>M</td><td>1.307</td><td>1.362</td><td>--</td><td>--</td><td>-- .. --</td><td>Field11</td><td>SFGC0.299-0.061</td><td>--</td><td>266.641754753852,-28.712831904692795</td><td>111</td><td>0.8540387925946817</td><td>3.2315652046150176</td><td>5.891293188920325</td><td>111</td><td>2.704449287796992</td><td>-0.39901521434619447</td><td>-1.1826562316232492</td><td>664</td><td>266.64175475385207,-28.712831904692795</td><td>0673798</td><td>0.147</td><td>5.558</td><td>5.743</td><td>6.466</td><td>7.191</td></tr>\n",
       "<tr><td>SFGC0.545-0.086</td><td>266.8118265121627</td><td>-28.51580469297644</td><td>2.144</td><td>0.09385</td><td>22.85</td><td>5.707</td><td>0.1517</td><td>37.63</td><td>8.51</td><td>0.2177</td><td>39.1</td><td>2.662</td><td>1.491</td><td>6.731</td><td>0.1452</td><td>0.697</td><td>6.728</td><td>0.1443</td><td>0.6069</td><td>M</td><td>12.17</td><td>1.39</td><td>0</td><td>0</td><td>0.007008 ..      -0.00486</td><td>5.309</td><td>0.2147</td><td>24.73</td><td>16.21</td><td>0.3784</td><td>42.83</td><td>22.92</td><td>0.5011</td><td>45.74</td><td>3.053</td><td>1.414</td><td>14.13</td><td>0.3012</td><td>0.6603</td><td>--</td><td>--</td><td>--</td><td>M</td><td>2.126e-38</td><td>1</td><td>--</td><td>--</td><td>-- .. --</td><td>Field05</td><td>SFGC0.545-0.086</td><td>--</td><td>266.8118265121627,-28.51580469297644</td><td>0</td><td>0.0</td><td>0.0</td><td>0.0</td><td>0</td><td>0.0</td><td>0.0</td><td>0.0</td><td>694</td><td>266.8118265121628,-28.51580469297644</td><td>0777321</td><td>0.147</td><td>6.833</td><td>8.692</td><td>9.829</td><td>10.819</td></tr>\n",
       "<tr><td>SFGC0.395+0.008</td><td>266.63213024386454</td><td>-28.594773884198776</td><td>0.8135</td><td>0.7847</td><td>1.037</td><td>1.076</td><td>1.567</td><td>0.6864</td><td>1.318</td><td>2.357</td><td>0.5591</td><td>1.323</td><td>1.225</td><td>1.114</td><td>0.8371</td><td>0.002737</td><td>0.8829</td><td>0.6698</td><td>0.002856</td><td>M</td><td>3.263</td><td>1.054</td><td>0</td><td>0</td><td>-0.003655 ..      0.002144</td><td>0.5691</td><td>1.496</td><td>0.3803</td><td>0.9068</td><td>2.819</td><td>0.3216</td><td>0.3662</td><td>3.805</td><td>0.09624</td><td>1.593</td><td>0.4038</td><td>0.9435</td><td>1.36</td><td>0.002914</td><td>0.9486</td><td>1.35</td><td>0.002867</td><td>M</td><td>6.437</td><td>1.925</td><td>--</td><td>--</td><td>-- .. --</td><td>Field09</td><td>SFGC0.395+0.008</td><td>--</td><td>266.63213024386454,-28.594773884198776</td><td>111</td><td>3.167495337479798</td><td>5.7784332643719205</td><td>8.387592645092928</td><td>111</td><td>5.058420532784996</td><td>9.365132877196377</td><td>11.780757430281067</td><td>679</td><td>266.6321302438646,-28.594773884198776</td><td>0667560</td><td>0.149</td><td>5.041</td><td>5.374</td><td>6.393</td><td>7.824</td></tr>\n",
       "<tr><td>SFGC359.639-0.058</td><td>266.2456699094231</td><td>-29.27429422827648</td><td>3.217</td><td>0.08968</td><td>35.88</td><td>4.627</td><td>0.1491</td><td>31.04</td><td>6.347</td><td>0.2128</td><td>29.83</td><td>1.438</td><td>6.347</td><td>4.771</td><td>0.07794</td><td>0.7274</td><td>3.63</td><td>0.06016</td><td>1.093</td><td>M</td><td>3.624</td><td>1.201</td><td>0</td><td>0</td><td>0.001019 ..       0.00661</td><td>3.77</td><td>0.215</td><td>17.53</td><td>9.55</td><td>0.3862</td><td>24.73</td><td>17.03</td><td>0.5101</td><td>33.39</td><td>2.533</td><td>1.784</td><td>8.273</td><td>0.2874</td><td>0.6732</td><td>8.357</td><td>0.2888</td><td>0.6433</td><td>M</td><td>14.54</td><td>1.494</td><td>0</td><td>20</td><td>-0.005279 ..       0.04068</td><td>Field45</td><td>SFGC359.639-0.058</td><td>SFGC359.639-0.058</td><td>266.2456699094231,-29.27429422827648</td><td>0</td><td>0.0</td><td>0.0</td><td>0.0</td><td>0</td><td>0.0</td><td>0.0</td><td>0.0</td><td>82</td><td>266.2456699094231,-29.27429422827648</td><td>0414950</td><td>0.153</td><td>3.708</td><td>3.756</td><td>5.737</td><td>--</td></tr>\n",
       "<tr><td>SFGC0.055+0.027</td><td>266.4117990403134</td><td>-28.87554263769326</td><td>8.834</td><td>0.1181</td><td>74.79</td><td>12.86</td><td>0.2155</td><td>59.67</td><td>14.91</td><td>0.3169</td><td>47.07</td><td>1.456</td><td>14.91</td><td>13.11</td><td>0.1916</td><td>2.012</td><td>12.33</td><td>0.1248</td><td>1.028</td><td>G</td><td>3.709</td><td>1.47</td><td>0</td><td>0</td><td>0.01376 ..     -0.007256</td><td>15.35</td><td>0.2342</td><td>65.52</td><td>16.89</td><td>0.4297</td><td>39.3</td><td>18.69</td><td>0.5687</td><td>32.86</td><td>1.101</td><td>1.107</td><td>16.89</td><td>0.1942</td><td>1.041</td><td>16.78</td><td>0.1927</td><td>0.9707</td><td>M</td><td>4.701</td><td>1.117</td><td>0</td><td>0</td><td>-0.01926 ..      -0.01643</td><td>Field31</td><td>SFGC0.055+0.027</td><td>SFGC0.055+0.027</td><td>266.4117990403134,-28.87554263769326</td><td>0</td><td>0.0</td><td>0.0</td><td>0.0</td><td>0</td><td>0.0</td><td>0.0</td><td>0.0</td><td>105</td><td>266.41179904031344,-28.87554263769326</td><td>0521894</td><td>0.164</td><td>5.598</td><td>7.410</td><td>9.378</td><td>10.668</td></tr>\n",
       "<tr><td>SFGC0.091+0.014</td><td>266.4447525525533</td><td>-28.851296569131748</td><td>2.411</td><td>0.2608</td><td>9.243</td><td>5.454</td><td>0.3149</td><td>17.32</td><td>10.22</td><td>0.3939</td><td>25.94</td><td>2.263</td><td>1.873</td><td>6.952</td><td>0.2838</td><td>2.191</td><td>7.725</td><td>0.2002</td><td>1.583</td><td>G</td><td>6.119</td><td>4.117</td><td>0</td><td>10</td><td>-0.001642 ..      0.005164</td><td>13.92</td><td>0.3512</td><td>39.63</td><td>47.66</td><td>0.5862</td><td>81.31</td><td>80.83</td><td>0.7725</td><td>104.6</td><td>3.424</td><td>1.696</td><td>39.76</td><td>0.7655</td><td>2.853</td><td>39.29</td><td>0.4353</td><td>1.28</td><td>G</td><td>9.929</td><td>13.9</td><td>--</td><td>--</td><td>-- .. --</td><td>Field26</td><td>SFGC0.091+0.014</td><td>--</td><td>266.4447525525533,-28.851296569131748</td><td>0</td><td>0.0</td><td>0.0</td><td>0.0</td><td>0</td><td>0.0</td><td>0.0</td><td>0.0</td><td>554</td><td>266.4447525525534,-28.851296569131748</td><td>0543623</td><td>0.168</td><td>7.960</td><td>--</td><td>--</td><td>10.126</td></tr>\n",
       "<tr><td>SFGC359.948-0.029</td><td>266.40248829200516</td><td>-28.996054851267328</td><td>1.467</td><td>0.1522</td><td>9.639</td><td>3.231</td><td>0.1836</td><td>17.6</td><td>5.111</td><td>0.2336</td><td>21.88</td><td>2.202</td><td>1.582</td><td>3.863</td><td>0.1313</td><td>1.012</td><td>3.867</td><td>0.1287</td><td>0.8889</td><td>M</td><td>11.93</td><td>1.741</td><td>0</td><td>0</td><td>0.02104 ..      -0.01659</td><td>10.22</td><td>0.2221</td><td>46.02</td><td>28.35</td><td>0.3627</td><td>78.16</td><td>43.1</td><td>0.4746</td><td>90.81</td><td>2.774</td><td>1.52</td><td>23.75</td><td>0.2986</td><td>0.7011</td><td>23.74</td><td>0.2981</td><td>0.6372</td><td>M</td><td>17.24</td><td>1.295</td><td>--</td><td>--</td><td>-- .. --</td><td>Field41</td><td>SFGC359.948-0.029</td><td>--</td><td>266.40248829200516,-28.996054851267328</td><td>0</td><td>0.0</td><td>0.0</td><td>0.0</td><td>0</td><td>0.0</td><td>0.0</td><td>0.0</td><td>482</td><td>266.40248829200516,-28.996054851267328</td><td>0515803</td><td>0.168</td><td>6.617</td><td>--</td><td>--</td><td>--</td></tr>\n",
       "<tr><td>SFGC0.036-0.182</td><td>266.603681</td><td>-29.0003732</td><td>1.318</td><td>1.139</td><td>1.158</td><td>1.063</td><td>2.186</td><td>0.4862</td><td>0.4892</td><td>3.264</td><td>0.1499</td><td>0.8061</td><td>0.4892</td><td>1.368</td><td>0.8226</td><td>0.007463</td><td>1.368</td><td>0.8226</td><td>0.007462</td><td>A</td><td>2.619</td><td>1.017</td><td>0</td><td>0</td><td>-0.01921 ..     -0.009346</td><td>1.413</td><td>1.538</td><td>0.9191</td><td>1.781</td><td>3.105</td><td>0.5737</td><td>2.056</td><td>4.311</td><td>0.4769</td><td>1.261</td><td>1.154</td><td>1.51</td><td>1.232</td><td>0.003785</td><td>1.533</td><td>1.243</td><td>0.003719</td><td>M</td><td>4.585</td><td>1.232</td><td>0</td><td>0</td><td>-0.004702 ..      0.007998</td><td>Field35</td><td>SFGC0.036-0.182</td><td>SFGC0.036-0.182</td><td>266.603681,-29.0003732</td><td>111</td><td>4.733973193314756</td><td>7.620370879005402</td><td>10.280584905595646</td><td>111</td><td>6.025706275260065</td><td>11.0962925872066</td><td>14.989421203700925</td><td>19</td><td>266.60368100000005,-29.0003732</td><td>0648643</td><td>0.182</td><td>4.893</td><td>5.281</td><td>6.394</td><td>7.673</td></tr>\n",
       "<tr><td>...</td><td>...</td><td>...</td><td>...</td><td>...</td><td>...</td><td>...</td><td>...</td><td>...</td><td>...</td><td>...</td><td>...</td><td>...</td><td>...</td><td>...</td><td>...</td><td>...</td><td>...</td><td>...</td><td>...</td><td>...</td><td>...</td><td>...</td><td>...</td><td>...</td><td>...</td><td>...</td><td>...</td><td>...</td><td>...</td><td>...</td><td>...</td><td>...</td><td>...</td><td>...</td><td>...</td><td>...</td><td>...</td><td>...</td><td>...</td><td>...</td><td>...</td><td>...</td><td>...</td><td>...</td><td>...</td><td>...</td><td>...</td><td>...</td><td>...</td><td>...</td><td>...</td><td>...</td><td>...</td><td>...</td><td>...</td><td>...</td><td>...</td><td>...</td><td>...</td><td>...</td><td>...</td><td>...</td><td>...</td><td>...</td><td>...</td><td>...</td><td>...</td><td>...</td></tr>\n",
       "<tr><td>SFGC0.640-0.091</td><td>266.8725091504992</td><td>-28.436280541229607</td><td>1.523</td><td>0.0954</td><td>15.96</td><td>4.508</td><td>0.1418</td><td>31.78</td><td>7.938</td><td>0.2005</td><td>39.6</td><td>2.961</td><td>7.938</td><td>5.429</td><td>0.1302</td><td>0.8677</td><td>5.447</td><td>0.1252</td><td>0.3408</td><td>M</td><td>23.28</td><td>3.136</td><td>0</td><td>10</td><td>0.00706 ..     -0.002366</td><td>12.87</td><td>0.1825</td><td>70.51</td><td>35.82</td><td>0.3333</td><td>107.5</td><td>54.31</td><td>0.4413</td><td>123.1</td><td>2.783</td><td>1.516</td><td>29.82</td><td>0.2745</td><td>1.611</td><td>29.79</td><td>0.271</td><td>0.6131</td><td>M</td><td>22.43</td><td>2.062</td><td>0</td><td>20</td><td>0.01107 ..      -0.01059</td><td>Field02</td><td>SFGC0.640-0.091</td><td>SFGC0.640-0.091</td><td>266.8725091504992,-28.436280541229607</td><td>0</td><td>0.0</td><td>0.0</td><td>0.0</td><td>0</td><td>0.0</td><td>0.0</td><td>0.0</td><td>365</td><td>266.8725091504992,-28.436280541229607</td><td>0809627</td><td>2.89</td><td>7.238</td><td>--</td><td>--</td><td>--</td></tr>\n",
       "<tr><td>SFGC359.491-0.074</td><td>266.17281969244084</td><td>-29.409401520743238</td><td>4.747</td><td>0.7405</td><td>6.41</td><td>10.23</td><td>1.477</td><td>6.925</td><td>13.22</td><td>2.229</td><td>5.934</td><td>2.155</td><td>13.22</td><td>11.47</td><td>1.404</td><td>0.01132</td><td>11.1</td><td>1.348</td><td>0.007789</td><td>A</td><td>8.787</td><td>1.412</td><td>0</td><td>0</td><td>-0.005282 ..      0.004639</td><td>7.051</td><td>1.277</td><td>5.522</td><td>15.29</td><td>2.462</td><td>6.21</td><td>19.78</td><td>3.296</td><td>6.001</td><td>2.168</td><td>1.294</td><td>13.76</td><td>1.983</td><td>0.009125</td><td>13.67</td><td>1.948</td><td>0.006065</td><td>G</td><td>12.08</td><td>1.455</td><td>0</td><td>0</td><td>0.005806 ..       0.01696</td><td>Field48</td><td>SFGC359.491-0.074</td><td>SFGC359.490-0.074</td><td>266.17281969244084,-29.409401520743238</td><td>0</td><td>0.0</td><td>0.0</td><td>0.0</td><td>0</td><td>0.0</td><td>0.0</td><td>0.0</td><td>59</td><td>266.17281969244084,-29.409401520743238</td><td>0368854</td><td>2.893</td><td>6.380</td><td>--</td><td>9.641</td><td>10.834</td></tr>\n",
       "<tr><td>SFGC0.682-0.035</td><td>266.8427057255851</td><td>-28.372085830138595</td><td>2.42</td><td>0.1169</td><td>20.7</td><td>6.814</td><td>0.2041</td><td>33.38</td><td>9.368</td><td>0.299</td><td>31.33</td><td>2.816</td><td>9.368</td><td>7.719</td><td>0.1959</td><td>0.547</td><td>7.736</td><td>0.196</td><td>0.5281</td><td>M</td><td>8.68</td><td>1.182</td><td>0</td><td>0</td><td>0.0004936 ..     -0.001348</td><td>12.78</td><td>0.2909</td><td>43.91</td><td>31.28</td><td>0.5469</td><td>57.19</td><td>37.57</td><td>0.7273</td><td>51.66</td><td>2.448</td><td>1.201</td><td>27.48</td><td>0.4623</td><td>0.4547</td><td>27.49</td><td>0.4603</td><td>0.3329</td><td>M</td><td>10.55</td><td>1.334</td><td>0</td><td>0</td><td>-0.05287 ..      0.007497</td><td>Field01</td><td>SFGC0.682-0.035</td><td>SFGC0.682-0.035</td><td>266.8427057255851,-28.372085830138595</td><td>0</td><td>0.0</td><td>0.0</td><td>0.0</td><td>0</td><td>0.0</td><td>0.0</td><td>0.0</td><td>345</td><td>266.8427057255851,-28.372085830138595</td><td>0793867</td><td>2.895</td><td>6.756</td><td>8.837</td><td>--</td><td>--</td></tr>\n",
       "<tr><td>SFGC359.517-0.064</td><td>266.17938775652095</td><td>-29.381522061708562</td><td>0.9798</td><td>0.7745</td><td>1.265</td><td>1.747</td><td>1.545</td><td>1.131</td><td>1.766</td><td>2.317</td><td>0.7622</td><td>1.782</td><td>1.011</td><td>1.857</td><td>1.224</td><td>0.002075</td><td>1.744</td><td>1.158</td><td>0.002187</td><td>M</td><td>5.431</td><td>1.081</td><td>0</td><td>0</td><td>-0.01324 ..       -0.0103</td><td>2.226</td><td>1.405</td><td>1.584</td><td>4.597</td><td>2.735</td><td>1.681</td><td>5.564</td><td>3.723</td><td>1.495</td><td>2.065</td><td>1.21</td><td>4.185</td><td>2.138</td><td>0.002845</td><td>--</td><td>--</td><td>--</td><td>M</td><td>2.126e-38</td><td>1</td><td>--</td><td>--</td><td>-- .. --</td><td>Field47</td><td>SFGC359.517-0.064</td><td>--</td><td>266.17938775652095,-29.381522061708562</td><td>111</td><td>3.303303090934619</td><td>6.380616570062039</td><td>8.715624292325678</td><td>111</td><td>6.4419034513291775</td><td>12.80367433719022</td><td>16.733561547916906</td><td>411</td><td>266.179387756521,-29.381522061708562</td><td>0373058</td><td>2.903</td><td>8.436</td><td>10.542</td><td>11.477</td><td>12.212</td></tr>\n",
       "<tr><td>SFGC0.004-0.068</td><td>266.47347197092427</td><td>-28.96811192904278</td><td>7.178</td><td>0.08899</td><td>80.66</td><td>18.37</td><td>0.1499</td><td>122.6</td><td>25.16</td><td>0.2163</td><td>116.3</td><td>2.56</td><td>25.16</td><td>21.29</td><td>0.1458</td><td>1.517</td><td>21.17</td><td>0.1447</td><td>1.2</td><td>A</td><td>10.22</td><td>1.208</td><td>0</td><td>0</td><td>0.00672 ..     0.0003302</td><td>21.33</td><td>0.2202</td><td>96.86</td><td>48.67</td><td>0.4094</td><td>118.9</td><td>59.73</td><td>0.5434</td><td>109.9</td><td>2.282</td><td>1.227</td><td>43.27</td><td>0.3389</td><td>1.537</td><td>43.38</td><td>0.3374</td><td>0.7457</td><td>M</td><td>9.668</td><td>1.381</td><td>0</td><td>0</td><td>0.01954 ..     0.0009721</td><td>Field34</td><td>SFGC0.004-0.068</td><td>SFGC0.004-0.068</td><td>266.47347197092427,-28.96811192904278</td><td>0</td><td>0.0</td><td>0.0</td><td>0.0</td><td>0</td><td>0.0</td><td>0.0</td><td>0.0</td><td>227</td><td>266.47347197092427,-28.96811192904278</td><td>0562378</td><td>2.93</td><td>5.544</td><td>--</td><td>--</td><td>--</td></tr>\n",
       "<tr><td>SFGC0.214-0.076</td><td>266.60613850366707</td><td>-28.792706778772736</td><td>0.7717</td><td>0.117</td><td>6.596</td><td>0.9268</td><td>0.1951</td><td>4.751</td><td>0.009034</td><td>20.43</td><td>0.0004421</td><td>1.201</td><td>0.009034</td><td>1.105</td><td>0.08781</td><td>0.4098</td><td>1.124</td><td>0.08833</td><td>0.3971</td><td>M</td><td>5.674</td><td>1.298</td><td>0</td><td>0</td><td>0.01204 ..       -0.0121</td><td>2.546</td><td>0.2079</td><td>12.24</td><td>2.348</td><td>0.3899</td><td>6.022</td><td>2.259</td><td>0.5203</td><td>4.341</td><td>0.9224</td><td>0.9621</td><td>3.106</td><td>0.2111</td><td>0.3563</td><td>--</td><td>--</td><td>--</td><td>M</td><td>2.126e-38</td><td>1</td><td>0</td><td>0</td><td>0.01866 ..     -0.008058</td><td>Field12</td><td>SFGC0.214-0.076</td><td>SFGC0.214-0.076</td><td>266.60613850366707,-28.792706778772736</td><td>1</td><td>0.0</td><td>0.0</td><td>61.30865752342277</td><td>0</td><td>0.0</td><td>0.0</td><td>0.0</td><td>200</td><td>266.6061385036671,-28.792706778772736</td><td>0650438</td><td>2.941</td><td>7.095</td><td>8.977</td><td>--</td><td>--</td></tr>\n",
       "<tr><td>SFGC0.162-0.066</td><td>266.56608269680686</td><td>-28.831930770858367</td><td>13.95</td><td>0.1174</td><td>118.9</td><td>36.18</td><td>0.1515</td><td>238.7</td><td>60.95</td><td>0.2051</td><td>297.2</td><td>2.593</td><td>60.95</td><td>45.5</td><td>1.333</td><td>96.54</td><td>46.41</td><td>0.7791</td><td>36.59</td><td>A</td><td>6.948</td><td>4.874</td><td>0</td><td>0</td><td>0.2851 ..        0.1149</td><td>23.65</td><td>0.2011</td><td>117.6</td><td>56.53</td><td>0.3506</td><td>161.2</td><td>79.95</td><td>0.4614</td><td>173.3</td><td>2.39</td><td>1.414</td><td>50.22</td><td>1.284</td><td>20.77</td><td>50.9</td><td>0.7039</td><td>6.839</td><td>A</td><td>7.485</td><td>4.284</td><td>0</td><td>1</td><td>0.3559 ..       0.06531</td><td>Field18</td><td>SFGC0.162-0.066</td><td>SFGC0.162-0.066</td><td>266.56608269680686,-28.831930770858367</td><td>0</td><td>0.0</td><td>0.0</td><td>0.0</td><td>0</td><td>0.0</td><td>0.0</td><td>0.0</td><td>175</td><td>266.56608269680686,-28.831930770858367</td><td>0623735</td><td>2.954</td><td>6.215</td><td>--</td><td>--</td><td>--</td></tr>\n",
       "<tr><td>SFGC0.078-0.014</td><td>266.46506619689114</td><td>-28.877192194266847</td><td>1.539</td><td>0.1179</td><td>13.05</td><td>3.044</td><td>0.1725</td><td>17.64</td><td>3.884</td><td>0.2414</td><td>16.09</td><td>1.978</td><td>3.884</td><td>3.404</td><td>0.127</td><td>0.4307</td><td>3.33</td><td>0.1237</td><td>0.4077</td><td>M</td><td>6.11</td><td>1.236</td><td>0</td><td>0</td><td>0.01822 ..       0.03963</td><td>7.09</td><td>0.2058</td><td>34.45</td><td>13.45</td><td>0.3744</td><td>35.92</td><td>18.15</td><td>0.4949</td><td>36.67</td><td>1.897</td><td>1.35</td><td>12.34</td><td>0.2835</td><td>0.5894</td><td>12.27</td><td>0.2783</td><td>0.4186</td><td>M</td><td>7.189</td><td>1.497</td><td>0</td><td>0</td><td>0.02134 ..        0.0598</td><td>Field25</td><td>SFGC0.078-0.014</td><td>SFGC0.077-0.014</td><td>266.46506619689114,-28.877192194266847</td><td>0</td><td>0.0</td><td>0.0</td><td>0.0</td><td>0</td><td>0.0</td><td>0.0</td><td>0.0</td><td>239</td><td>266.4650661968912,-28.877192194266847</td><td>0556344</td><td>2.995</td><td>7.565</td><td>9.639</td><td>--</td><td>--</td></tr>\n",
       "<tr><td>SFGC0.157-0.062</td><td>266.55923871602033</td><td>-28.834570908398966</td><td>10.71</td><td>0.1243</td><td>86.19</td><td>36.19</td><td>0.1491</td><td>242.7</td><td>59.04</td><td>0.2053</td><td>287.6</td><td>3.378</td><td>1.632</td><td>43.9</td><td>0.803</td><td>32.28</td><td>43.56</td><td>0.453</td><td>11.1</td><td>A</td><td>8.561</td><td>3.399</td><td>0</td><td>0</td><td>0.1157 ..       0.01368</td><td>23</td><td>0.2051</td><td>112.1</td><td>68.17</td><td>0.3463</td><td>196.9</td><td>95.6</td><td>0.4559</td><td>209.7</td><td>2.964</td><td>1.402</td><td>56.62</td><td>0.6362</td><td>4.79</td><td>56.55</td><td>0.4795</td><td>2.769</td><td>A</td><td>28</td><td>2.365</td><td>--</td><td>--</td><td>-- .. --</td><td>Field18</td><td>SFGC0.157-0.062</td><td>--</td><td>266.55923871602033,-28.834570908398966</td><td>0</td><td>0.0</td><td>0.0</td><td>0.0</td><td>0</td><td>0.0</td><td>0.0</td><td>0.0</td><td>604</td><td>266.55923871602033,-28.834570908398966</td><td>0619683</td><td>2.996</td><td>5.997</td><td>6.089</td><td>6.778</td><td>7.246</td></tr>\n",
       "<tr><td>SFGC0.605-0.046</td><td>266.80828905684706</td><td>-28.44325095179017</td><td>1.117</td><td>0.204</td><td>5.478</td><td>3.046</td><td>0.1998</td><td>15.25</td><td>7.013</td><td>0.2326</td><td>30.15</td><td>2.726</td><td>2.302</td><td>3.809</td><td>0.1409</td><td>0.7287</td><td>3.86</td><td>0.1385</td><td>0.5538</td><td>M</td><td>8.927</td><td>3.532</td><td>0</td><td>20</td><td>0.6212 ..      -0.01038</td><td>9.358</td><td>0.2276</td><td>41.12</td><td>31.34</td><td>0.3774</td><td>83.04</td><td>61.19</td><td>0.4997</td><td>122.5</td><td>3.349</td><td>1.953</td><td>24.97</td><td>0.3112</td><td>0.7218</td><td>24.97</td><td>0.31</td><td>0.5326</td><td>M</td><td>94.37</td><td>5.799</td><td>--</td><td>--</td><td>-- .. --</td><td>Field04</td><td>SFGC0.605-0.046</td><td>--</td><td>266.80828905684706,-28.44325095179017</td><td>0</td><td>0.0</td><td>0.0</td><td>0.0</td><td>0</td><td>0.0</td><td>0.0</td><td>0.0</td><td>698</td><td>266.8082890568471,-28.44325095179017</td><td>0775471</td><td>3.0</td><td>6.919</td><td>8.946</td><td>11.423</td><td>--</td></tr>\n",
       "</table></div>"
      ],
      "text/plain": [
       "<Table length=449>\n",
       "     SourceID         RA(J2000)           DEC(J2000)     ... _4.5mag _3.6mag\n",
       "                         deg                 deg         ...   mag     mag  \n",
       "     bytes17           float64             float64       ... float32 float32\n",
       "----------------- ------------------ ------------------- ... ------- -------\n",
       "  SFGC0.154+0.031   266.467110972243 -28.788414953789108 ...      --      --\n",
       "  SFGC0.299-0.061   266.641754753852 -28.712831904692795 ...   6.466   7.191\n",
       "  SFGC0.545-0.086  266.8118265121627  -28.51580469297644 ...   9.829  10.819\n",
       "  SFGC0.395+0.008 266.63213024386454 -28.594773884198776 ...   6.393   7.824\n",
       "SFGC359.639-0.058  266.2456699094231  -29.27429422827648 ...   5.737      --\n",
       "  SFGC0.055+0.027  266.4117990403134  -28.87554263769326 ...   9.378  10.668\n",
       "  SFGC0.091+0.014  266.4447525525533 -28.851296569131748 ...      --  10.126\n",
       "SFGC359.948-0.029 266.40248829200516 -28.996054851267328 ...      --      --\n",
       "  SFGC0.036-0.182         266.603681         -29.0003732 ...   6.394   7.673\n",
       "              ...                ...                 ... ...     ...     ...\n",
       "  SFGC0.640-0.091  266.8725091504992 -28.436280541229607 ...      --      --\n",
       "SFGC359.491-0.074 266.17281969244084 -29.409401520743238 ...   9.641  10.834\n",
       "  SFGC0.682-0.035  266.8427057255851 -28.372085830138595 ...      --      --\n",
       "SFGC359.517-0.064 266.17938775652095 -29.381522061708562 ...  11.477  12.212\n",
       "  SFGC0.004-0.068 266.47347197092427  -28.96811192904278 ...      --      --\n",
       "  SFGC0.214-0.076 266.60613850366707 -28.792706778772736 ...      --      --\n",
       "  SFGC0.162-0.066 266.56608269680686 -28.831930770858367 ...      --      --\n",
       "  SFGC0.078-0.014 266.46506619689114 -28.877192194266847 ...      --      --\n",
       "  SFGC0.157-0.062 266.55923871602033 -28.834570908398966 ...   6.778   7.246\n",
       "  SFGC0.605-0.046 266.80828905684706  -28.44325095179017 ...  11.423      --"
      ]
     },
     "execution_count": 46,
     "metadata": {},
     "output_type": "execute_result"
    }
   ],
   "source": [
    "matchedmcat"
   ]
  },
  {
   "cell_type": "code",
   "execution_count": 47,
   "id": "adbcb2bf",
   "metadata": {},
   "outputs": [
    {
     "data": {
      "text/html": [
       "<div><i>Table length=523</i>\n",
       "<table id=\"table2506172079792\" class=\"table-striped table-bordered table-condensed\">\n",
       "<thead><tr><th>SourceID</th><th>RA(J2000)</th><th>DEC(J2000)</th><th>25um_Flux_4pix</th><th>25um_Flux_err_4pix</th><th>25um_SNR_4pix</th><th>25um_Flux_8pix</th><th>25um_Flux_err_8pix</th><th>25um_SNR_8pix</th><th>25um_Flux_12pix</th><th>25um_Flux_err_12pix</th><th>25um_SNR_12pix</th><th>25ApRatio8_4</th><th>25ApRatio12_8</th><th>25um_Flux_M2D</th><th>25um_Flux_err_M2D</th><th>25um_M2D_chi2</th><th>25um_Flux_G2D</th><th>25um_Flux_err_G2D</th><th>25um_G2D_chi2</th><th>25um_BestModel</th><th>fwhm25</th><th>elong25</th><th>bkg_qflag25</th><th>shape_qflag25</th><th>cutout25 [25,25]</th><th>37um_Flux_5.5pix</th><th>37um_Flux_err_5.5pix</th><th>37um_SNR_5.5pix</th><th>37um_Flux_10.5pix</th><th>37um_Flux_err_10.5pix</th><th>37um_SNR_10.5pix</th><th>37um_Flux_14pix</th><th>37um_Flux_err_14pix</th><th>37um_SNR_14pix</th><th>37ApRatio10.5_5.5</th><th>37ApRatio14_10.5</th><th>37um_Flux_M2D</th><th>37um_Flux_err_M2D</th><th>37um_M2D_chi2</th><th>37um_Flux_G2D</th><th>37um_Flux_err_G2D</th><th>37um_G2D_chi2</th><th>37um_BestModel</th><th>fwhm37</th><th>elong37</th><th>bkg_qflag37</th><th>shape_qflag37</th><th>cutout37 [31,31]</th><th>FieldID</th><th>SID25</th><th>SID37</th><th>sky_centroid</th><th>25ApPhot_qflag</th><th>25Ap_4pix_UL</th><th>25Ap_8pix_UL</th><th>25Ap_12pix_UL</th><th>37ApPhot_qflag</th><th>37Ap_5.5pix_UL</th><th>37Ap_10.5pix_UL</th><th>37Ap_14pix_UL</th><th>id</th><th>skycoords</th><th>SSTGCxmatch</th></tr></thead>\n",
       "<thead><tr><th></th><th>deg</th><th>deg</th><th></th><th></th><th></th><th></th><th></th><th></th><th></th><th></th><th></th><th></th><th></th><th></th><th></th><th></th><th></th><th></th><th></th><th></th><th></th><th></th><th></th><th></th><th></th><th></th><th></th><th></th><th></th><th></th><th></th><th></th><th></th><th></th><th></th><th></th><th></th><th></th><th></th><th></th><th></th><th></th><th></th><th></th><th></th><th></th><th></th><th></th><th></th><th></th><th></th><th>deg,deg</th><th></th><th></th><th></th><th></th><th></th><th></th><th></th><th></th><th></th><th>deg,deg</th><th></th></tr></thead>\n",
       "<thead><tr><th>bytes17</th><th>float64</th><th>float64</th><th>float64</th><th>float64</th><th>float64</th><th>float64</th><th>float64</th><th>float64</th><th>float64</th><th>float64</th><th>float64</th><th>float64</th><th>float64</th><th>float64</th><th>float64</th><th>float64</th><th>float64</th><th>float64</th><th>float64</th><th>bytes1</th><th>float64</th><th>float64</th><th>int32</th><th>int32</th><th>float64</th><th>float64</th><th>float64</th><th>float64</th><th>float64</th><th>float64</th><th>float64</th><th>float64</th><th>float64</th><th>float64</th><th>float64</th><th>float64</th><th>float64</th><th>float64</th><th>float64</th><th>float64</th><th>float64</th><th>float64</th><th>bytes1</th><th>float64</th><th>float64</th><th>int32</th><th>int32</th><th>float64</th><th>bytes7</th><th>bytes17</th><th>bytes17</th><th>object</th><th>int32</th><th>float64</th><th>float64</th><th>float64</th><th>int32</th><th>float64</th><th>float64</th><th>float64</th><th>int64</th><th>object</th><th>str1</th></tr></thead>\n",
       "<tr><td>SFGC0.018-0.062</td><td>266.4763478</td><td>-28.9531109</td><td>2.691</td><td>0.204</td><td>13.19</td><td>4.412</td><td>0.4342</td><td>10.16</td><td>4.438</td><td>0.6993</td><td>6.346</td><td>1.64</td><td>4.438</td><td>4.455</td><td>0.281</td><td>0.1841</td><td>4.27</td><td>0.2686</td><td>0.18</td><td>M</td><td>4.786</td><td>1.157</td><td>0</td><td>0</td><td>0.000226 ..      -0.02755</td><td>3.635</td><td>0.9111</td><td>3.989</td><td>4.375</td><td>1.612</td><td>2.714</td><td>2.642</td><td>2.092</td><td>1.263</td><td>1.204</td><td>0.6039</td><td>4.512</td><td>0.9669</td><td>0.1423</td><td>--</td><td>--</td><td>--</td><td>M</td><td>0.2348</td><td>1.104e+37</td><td>0</td><td>0</td><td>0 ..     -0.005663</td><td>Field33</td><td>SFGC0.018-0.062</td><td>SFGC0.018-0.062</td><td>266.4763478,-28.9531109</td><td>0</td><td>0.0</td><td>0.0</td><td>0.0</td><td>11</td><td>0.0</td><td>9.210820581537094</td><td>8.918756304175567</td><td>3</td><td>266.4763478,-28.9531109</td><td></td></tr>\n",
       "<tr><td>SFGC0.513-0.047</td><td>266.7547043</td><td>-28.5219786</td><td>11.66</td><td>0.1934</td><td>60.29</td><td>29.89</td><td>0.4415</td><td>67.7</td><td>42.05</td><td>0.7028</td><td>59.84</td><td>2.563</td><td>42.05</td><td>34.29</td><td>0.3782</td><td>1.247</td><td>34.4</td><td>0.3759</td><td>1.317</td><td>M</td><td>8.717</td><td>1.151</td><td>0</td><td>0</td><td>0.04628 ..     0.0005256</td><td>24.68</td><td>0.3796</td><td>65.02</td><td>62.91</td><td>0.7154</td><td>87.93</td><td>87.74</td><td>1.087</td><td>80.69</td><td>2.549</td><td>1.395</td><td>52.88</td><td>0.5634</td><td>0.6195</td><td>52.83</td><td>0.5607</td><td>0.4582</td><td>M</td><td>13.54</td><td>1.234</td><td>0</td><td>0</td><td>-0.001246 ..       0.01377</td><td>Field05</td><td>SFGC0.513-0.047</td><td>SFGC0.513-0.047</td><td>266.7547043,-28.5219786</td><td>0</td><td>0.0</td><td>0.0</td><td>0.0</td><td>0</td><td>0.0</td><td>0.0</td><td>0.0</td><td>12</td><td>266.75470430000007,-28.5219786</td><td></td></tr>\n",
       "<tr><td>SFGC359.700+0.008</td><td>266.21776158465195</td><td>-29.187630640228313</td><td>2.891</td><td>0.7567</td><td>3.82</td><td>7.563</td><td>1.52</td><td>4.976</td><td>11.54</td><td>2.3</td><td>5.018</td><td>2.616</td><td>11.54</td><td>9.101</td><td>1.62</td><td>0.003942</td><td>9.055</td><td>1.609</td><td>0.003516</td><td>M</td><td>11.27</td><td>1.219</td><td>0</td><td>0</td><td>0.0116 ..    -0.0006453</td><td>5.143</td><td>1.04</td><td>4.947</td><td>11.59</td><td>2.007</td><td>5.777</td><td>14.91</td><td>2.692</td><td>5.538</td><td>2.254</td><td>1.286</td><td>10.3</td><td>1.631</td><td>0.003993</td><td>10.27</td><td>1.625</td><td>0.003744</td><td>M</td><td>11.35</td><td>1.151</td><td>0</td><td>0</td><td>0.01224 ..     -0.008505</td><td>Field44</td><td>SFGC359.700+0.008</td><td>SFGC359.700+0.008</td><td>266.21776158465195,-29.187630640228313</td><td>0</td><td>0.0</td><td>0.0</td><td>0.0</td><td>0</td><td>0.0</td><td>0.0</td><td>0.0</td><td>15</td><td>266.21776158465195,-29.187630640228313</td><td></td></tr>\n",
       "<tr><td>SFGC359.456-0.067</td><td>266.1452142</td><td>-29.4351439</td><td>2.354</td><td>1.136</td><td>2.072</td><td>4.812</td><td>2.274</td><td>2.116</td><td>5.055</td><td>3.629</td><td>1.393</td><td>2.044</td><td>5.055</td><td>5.109</td><td>2.002</td><td>0.004004</td><td>5.12</td><td>2.003</td><td>0.003948</td><td>M</td><td>6.506</td><td>1.114</td><td>0</td><td>0</td><td>-0.01424 ..     -0.005033</td><td>3.016</td><td>2.899</td><td>1.04</td><td>6.313</td><td>5.445</td><td>1.159</td><td>8.555</td><td>7.231</td><td>1.183</td><td>2.093</td><td>1.355</td><td>6.127</td><td>2.667</td><td>0.005786</td><td>6.115</td><td>2.592</td><td>0.005263</td><td>M</td><td>5.99</td><td>1.465</td><td>0</td><td>20</td><td>-0.02269 ..     0.0003994</td><td>Field48</td><td>SFGC359.456-0.067</td><td>SFGC359.456-0.067</td><td>266.1452142,-29.4351439</td><td>111</td><td>5.762909277575613</td><td>11.634762006498079</td><td>15.942205106919149</td><td>111</td><td>11.71193001486631</td><td>22.649352523322655</td><td>30.248373826143784</td><td>17</td><td>266.14521420000005,-29.4351439</td><td></td></tr>\n",
       "<tr><td>SFGC359.445-0.092</td><td>266.1634631</td><td>-29.4579077</td><td>6.309</td><td>1.139</td><td>5.54</td><td>15.36</td><td>2.327</td><td>6.602</td><td>21.65</td><td>3.863</td><td>5.603</td><td>2.435</td><td>21.65</td><td>17.77</td><td>2.383</td><td>0.01069</td><td>17.56</td><td>2.347</td><td>0.0117</td><td>A</td><td>10.08</td><td>1.267</td><td>0</td><td>0</td><td>0.01965 ..      0.004437</td><td>5.286</td><td>3.224</td><td>1.639</td><td>15.72</td><td>5.818</td><td>2.702</td><td>23.77</td><td>7.614</td><td>3.122</td><td>2.974</td><td>1.512</td><td>14.36</td><td>3.299</td><td>0.03581</td><td>--</td><td>--</td><td>--</td><td>A</td><td>0.05528</td><td>2.6e+36</td><td>0</td><td>20</td><td>0.1153 ..     0.0003994</td><td>Field48</td><td>SFGC359.445-0.092</td><td>SFGC359.445-0.092</td><td>266.1634631,-29.4579077</td><td>0</td><td>0.0</td><td>0.0</td><td>0.0</td><td>110</td><td>14.958686853287908</td><td>33.17390962483339</td><td>0.0</td><td>20</td><td>266.1634631,-29.4579077</td><td></td></tr>\n",
       "<tr><td>SFGC0.167-0.044</td><td>266.5470210279652</td><td>-28.816259635181716</td><td>8.479</td><td>0.1513</td><td>56.05</td><td>31.84</td><td>0.2361</td><td>134.8</td><td>60.49</td><td>0.3402</td><td>177.8</td><td>3.755</td><td>60.49</td><td>42.12</td><td>0.557</td><td>4.552</td><td>41.98</td><td>0.2555</td><td>0.9429</td><td>G</td><td>315.9</td><td>24.87</td><td>0</td><td>10</td><td>0.08976 ..         0.064</td><td>20.07</td><td>0.1938</td><td>103.6</td><td>63.55</td><td>0.3506</td><td>181.3</td><td>92.57</td><td>0.4677</td><td>197.9</td><td>3.166</td><td>1.457</td><td>52.39</td><td>0.5395</td><td>3.225</td><td>52.35</td><td>0.2969</td><td>0.8352</td><td>G</td><td>92.95</td><td>6.784</td><td>0</td><td>20</td><td>0.1283 ..       0.02869</td><td>Field17</td><td>SFGC0.167-0.044</td><td>SFGC0.167-0.044</td><td>266.5470210279652,-28.816259635181716</td><td>0</td><td>0.0</td><td>0.0</td><td>0.0</td><td>0</td><td>0.0</td><td>0.0</td><td>0.0</td><td>25</td><td>266.54702102796523,-28.816259635181716</td><td></td></tr>\n",
       "<tr><td>SFGC359.933-0.053</td><td>266.4163824115693</td><td>-29.021321564406687</td><td>14.37</td><td>0.09814</td><td>146.4</td><td>45.67</td><td>0.1499</td><td>304.6</td><td>91.86</td><td>0.2133</td><td>430.6</td><td>3.179</td><td>91.86</td><td>59.67</td><td>0.7889</td><td>29.41</td><td>58.63</td><td>0.7047</td><td>24.52</td><td>A</td><td>10.47</td><td>2.618</td><td>0</td><td>20</td><td>0.1072 ..        0.7458</td><td>61.31</td><td>0.1911</td><td>320.9</td><td>185.5</td><td>0.3407</td><td>544.5</td><td>315.3</td><td>0.4503</td><td>700.2</td><td>3.026</td><td>1.699</td><td>151.4</td><td>1.735</td><td>39.32</td><td>150.9</td><td>1.511</td><td>30.28</td><td>A</td><td>12.96</td><td>2.108</td><td>0</td><td>20</td><td>0.2649 ..         2.638</td><td>Field40</td><td>SFGC359.933-0.053</td><td>SFGC359.933-0.053</td><td>266.4163824115693,-29.021321564406687</td><td>0</td><td>0.0</td><td>0.0</td><td>0.0</td><td>0</td><td>0.0</td><td>0.0</td><td>0.0</td><td>34</td><td>266.4163824115693,-29.021321564406687</td><td></td></tr>\n",
       "<tr><td>SFGC0.133-0.024</td><td>266.50783155558935</td><td>-28.83486954454836</td><td>1.235</td><td>0.1254</td><td>9.85</td><td>3.045</td><td>0.1801</td><td>16.9</td><td>4.516</td><td>0.2577</td><td>17.53</td><td>2.465</td><td>4.516</td><td>3.747</td><td>0.1483</td><td>0.7409</td><td>3.817</td><td>0.1486</td><td>0.6499</td><td>M</td><td>7.422</td><td>2.045</td><td>0</td><td>10</td><td>-0.00702 ..       0.01139</td><td>3.282</td><td>0.2587</td><td>12.69</td><td>5.347</td><td>0.4695</td><td>11.39</td><td>5.673</td><td>0.6415</td><td>8.842</td><td>1.63</td><td>1.061</td><td>5.232</td><td>0.309</td><td>0.3642</td><td>5.3</td><td>0.304</td><td>0.2971</td><td>M</td><td>5.961</td><td>1.777</td><td>0</td><td>0</td><td>-0.01267 ..       0.04588</td><td>Field20</td><td>SFGC0.133-0.024</td><td>SFGC0.133-0.024</td><td>266.50783155558935,-28.83486954454836</td><td>0</td><td>0.0</td><td>0.0</td><td>0.0</td><td>0</td><td>0.0</td><td>0.0</td><td>0.0</td><td>39</td><td>266.50783155558935,-28.83486954454836</td><td></td></tr>\n",
       "<tr><td>SFGC359.931-0.041</td><td>266.4033306034084</td><td>-29.016681927320843</td><td>8.836</td><td>0.1037</td><td>85.22</td><td>24.69</td><td>0.1506</td><td>163.9</td><td>45.98</td><td>0.2112</td><td>217.7</td><td>2.794</td><td>45.98</td><td>31.59</td><td>0.4325</td><td>8.918</td><td>31.5</td><td>0.4065</td><td>7.971</td><td>A</td><td>11.19</td><td>1.376</td><td>0</td><td>10</td><td>0.08852 ..       0.01028</td><td>20</td><td>0.2494</td><td>80.22</td><td>59.3</td><td>0.3683</td><td>161</td><td>100.5</td><td>0.4757</td><td>211.3</td><td>2.964</td><td>1.695</td><td>51.56</td><td>0.8417</td><td>9.703</td><td>51.28</td><td>0.677</td><td>6.505</td><td>A</td><td>62.5</td><td>5.539</td><td>1</td><td>21</td><td>0.416 ..       0.06692</td><td>Field41</td><td>SFGC359.931-0.041</td><td>SFGC359.931-0.041</td><td>266.4033306034084,-29.016681927320843</td><td>0</td><td>0.0</td><td>0.0</td><td>0.0</td><td>0</td><td>0.0</td><td>0.0</td><td>0.0</td><td>54</td><td>266.40333060340845,-29.016681927320843</td><td></td></tr>\n",
       "<tr><td>...</td><td>...</td><td>...</td><td>...</td><td>...</td><td>...</td><td>...</td><td>...</td><td>...</td><td>...</td><td>...</td><td>...</td><td>...</td><td>...</td><td>...</td><td>...</td><td>...</td><td>...</td><td>...</td><td>...</td><td>...</td><td>...</td><td>...</td><td>...</td><td>...</td><td>...</td><td>...</td><td>...</td><td>...</td><td>...</td><td>...</td><td>...</td><td>...</td><td>...</td><td>...</td><td>...</td><td>...</td><td>...</td><td>...</td><td>...</td><td>...</td><td>...</td><td>...</td><td>...</td><td>...</td><td>...</td><td>...</td><td>...</td><td>...</td><td>...</td><td>...</td><td>...</td><td>...</td><td>...</td><td>...</td><td>...</td><td>...</td><td>...</td><td>...</td><td>...</td><td>...</td><td>...</td><td>...</td><td>...</td></tr>\n",
       "<tr><td>SFGC0.608-0.047</td><td>266.8113042421003</td><td>-28.441270241271535</td><td>0.8671</td><td>0.2983</td><td>2.907</td><td>2.771</td><td>0.2256</td><td>12.29</td><td>5.766</td><td>0.2381</td><td>24.22</td><td>3.196</td><td>2.081</td><td>3.911</td><td>0.1251</td><td>0.4587</td><td>3.926</td><td>0.1253</td><td>0.4507</td><td>M</td><td>13.63</td><td>1.204</td><td>--</td><td>--</td><td>-- .. --</td><td>1.847</td><td>0.3424</td><td>5.396</td><td>6.142</td><td>0.3811</td><td>16.12</td><td>11.99</td><td>0.4729</td><td>25.34</td><td>3.325</td><td>1.951</td><td>4.903</td><td>0.2364</td><td>0.3134</td><td>4.889</td><td>0.2357</td><td>0.3125</td><td>M</td><td>14.8</td><td>1.177</td><td>0</td><td>20</td><td>0.06039 ..      -0.02934</td><td>Field03</td><td>--</td><td>SFGC0.608-0.047</td><td>266.8113042421003,-28.441270241271535</td><td>100</td><td>1.7620908466140053</td><td>0.0</td><td>0.0</td><td>0</td><td>0.0</td><td>0.0</td><td>0.0</td><td>959</td><td>266.81130424210033,-28.441270241271535</td><td></td></tr>\n",
       "<tr><td>SFGC0.632-0.026</td><td>266.8046318013615</td><td>-28.409429818251144</td><td>7.027</td><td>0.08355</td><td>84.1</td><td>24.84</td><td>0.1321</td><td>188.1</td><td>46.43</td><td>0.188</td><td>247</td><td>3.536</td><td>1.869</td><td>32.14</td><td>0.3771</td><td>10.62</td><td>31.54</td><td>0.3239</td><td>8.211</td><td>A</td><td>26.05</td><td>2.485</td><td>--</td><td>--</td><td>-- .. --</td><td>31.52</td><td>0.1812</td><td>173.9</td><td>99.22</td><td>0.3319</td><td>299</td><td>146.6</td><td>0.4393</td><td>333.8</td><td>3.148</td><td>1.478</td><td>81.79</td><td>0.5641</td><td>4.998</td><td>81.08</td><td>0.6281</td><td>6.283</td><td>A</td><td>23.61</td><td>1.88</td><td>0</td><td>20</td><td>0.08719 ..        0.0156</td><td>Field03</td><td>--</td><td>SFGC0.632-0.026</td><td>266.8046318013615,-28.409429818251144</td><td>0</td><td>0.0</td><td>0.0</td><td>0.0</td><td>0</td><td>0.0</td><td>0.0</td><td>0.0</td><td>960</td><td>266.8046318013615,-28.409429818251144</td><td></td></tr>\n",
       "<tr><td>SFGC0.643-0.092</td><td>266.87495668570966</td><td>-28.434331150843413</td><td>2.698</td><td>0.1033</td><td>26.11</td><td>8.398</td><td>0.1442</td><td>58.23</td><td>14.52</td><td>0.2022</td><td>71.82</td><td>3.112</td><td>1.729</td><td>10.55</td><td>0.1452</td><td>1.033</td><td>10.55</td><td>0.1428</td><td>0.4064</td><td>M</td><td>22.47</td><td>2.126</td><td>--</td><td>--</td><td>-- .. --</td><td>14.23</td><td>0.1865</td><td>76.32</td><td>42.32</td><td>0.3343</td><td>126.6</td><td>61.52</td><td>0.442</td><td>139.2</td><td>2.974</td><td>1.454</td><td>34.97</td><td>0.2765</td><td>1.648</td><td>34.96</td><td>0.2738</td><td>0.5724</td><td>M</td><td>24.63</td><td>2.007</td><td>0</td><td>20</td><td>0.02059 ..       0.02945</td><td>Field02</td><td>--</td><td>SFGC0.643-0.092</td><td>266.87495668570966,-28.434331150843413</td><td>0</td><td>0.0</td><td>0.0</td><td>0.0</td><td>0</td><td>0.0</td><td>0.0</td><td>0.0</td><td>962</td><td>266.8749566857097,-28.434331150843413</td><td></td></tr>\n",
       "<tr><td>SFGC0.643-0.093</td><td>266.8758726876464</td><td>-28.434729966361513</td><td>2.337</td><td>0.1128</td><td>20.72</td><td>7.766</td><td>0.146</td><td>53.18</td><td>13.21</td><td>0.2031</td><td>65.01</td><td>3.323</td><td>1.7</td><td>9.765</td><td>0.1402</td><td>1.185</td><td>9.817</td><td>0.138</td><td>0.4579</td><td>M</td><td>9.929</td><td>2.193</td><td>--</td><td>--</td><td>-- .. --</td><td>16.12</td><td>0.1848</td><td>87.23</td><td>45.61</td><td>0.3338</td><td>136.6</td><td>64.44</td><td>0.4416</td><td>145.9</td><td>2.829</td><td>1.413</td><td>38.32</td><td>0.4515</td><td>2.497</td><td>--</td><td>--</td><td>--</td><td>A</td><td>2.126e-38</td><td>1</td><td>0</td><td>0</td><td>0.01823 ..      0.003642</td><td>Field02</td><td>--</td><td>SFGC0.643-0.093</td><td>266.8758726876464,-28.434729966361513</td><td>0</td><td>0.0</td><td>0.0</td><td>0.0</td><td>0</td><td>0.0</td><td>0.0</td><td>0.0</td><td>963</td><td>266.8758726876464,-28.434729966361513</td><td></td></tr>\n",
       "<tr><td>SFGC0.645-0.041</td><td>266.8271987977095</td><td>-28.40643127500445</td><td>0.2676</td><td>0.1803</td><td>1.485</td><td>0.7093</td><td>0.1793</td><td>3.956</td><td>1.203</td><td>0.2167</td><td>5.551</td><td>2.65</td><td>1.696</td><td>0.8994</td><td>0.1203</td><td>0.3009</td><td>0.8743</td><td>0.1111</td><td>0.28</td><td>M</td><td>29.35</td><td>5.219</td><td>--</td><td>--</td><td>-- .. --</td><td>3.541</td><td>0.1821</td><td>19.45</td><td>6.097</td><td>0.3297</td><td>18.49</td><td>6.597</td><td>0.4362</td><td>15.12</td><td>1.722</td><td>1.082</td><td>5.577</td><td>0.2296</td><td>0.4545</td><td>5.534</td><td>0.2232</td><td>0.3698</td><td>M</td><td>5.967</td><td>1.593</td><td>0</td><td>0</td><td>0.01536 ..      0.009828</td><td>Field03</td><td>--</td><td>SFGC0.645-0.041</td><td>266.8271987977095,-28.40643127500445</td><td>100</td><td>0.8085280681568437</td><td>0.0</td><td>0.0</td><td>0</td><td>0.0</td><td>0.0</td><td>0.0</td><td>964</td><td>266.8271987977095,-28.40643127500445</td><td></td></tr>\n",
       "<tr><td>SFGC0.648-0.035</td><td>266.82341735831307</td><td>-28.40059050284237</td><td>0.4709</td><td>0.1345</td><td>3.501</td><td>0.7005</td><td>0.1956</td><td>3.581</td><td>0.3766</td><td>0.4443</td><td>0.8476</td><td>1.488</td><td>0.5376</td><td>0.7796</td><td>0.08482</td><td>0.322</td><td>0.7862</td><td>0.08421</td><td>0.3127</td><td>M</td><td>6.212</td><td>1.396</td><td>--</td><td>--</td><td>-- .. --</td><td>2.871</td><td>0.1814</td><td>15.83</td><td>4.676</td><td>0.329</td><td>14.22</td><td>4.447</td><td>0.4361</td><td>10.2</td><td>1.629</td><td>0.951</td><td>4.587</td><td>0.2298</td><td>0.375</td><td>4.602</td><td>0.228</td><td>0.3443</td><td>M</td><td>6.47</td><td>1.367</td><td>0</td><td>0</td><td>-0.005642 ..      -0.01521</td><td>Field03</td><td>--</td><td>SFGC0.648-0.035</td><td>266.82341735831307,-28.40059050284237</td><td>1</td><td>0.0</td><td>0.0</td><td>1.7095402426028796</td><td>0</td><td>0.0</td><td>0.0</td><td>0.0</td><td>965</td><td>266.8234173583131,-28.40059050284237</td><td></td></tr>\n",
       "<tr><td>SFGC0.661-0.051</td><td>266.8463824609953</td><td>-28.39791412467139</td><td>0.9602</td><td>0.1247</td><td>7.701</td><td>1.837</td><td>0.1929</td><td>9.52</td><td>2.195</td><td>0.2804</td><td>7.828</td><td>1.913</td><td>1.195</td><td>1.947</td><td>0.1273</td><td>0.2243</td><td>1.943</td><td>0.1269</td><td>0.2214</td><td>M</td><td>5.417</td><td>1.148</td><td>--</td><td>--</td><td>-- .. --</td><td>4.413</td><td>0.3342</td><td>13.2</td><td>8.615</td><td>0.8604</td><td>10.01</td><td>9.85</td><td>1.369</td><td>7.193</td><td>1.952</td><td>1.143</td><td>8.549</td><td>0.6514</td><td>0.3378</td><td>8.59</td><td>0.6463</td><td>0.3151</td><td>M</td><td>10.9</td><td>1.466</td><td>0</td><td>0</td><td>0.0008659 ..     -0.009471</td><td>Field03</td><td>--</td><td>SFGC0.661-0.051</td><td>266.8463824609953,-28.39791412467139</td><td>0</td><td>0.0</td><td>0.0</td><td>0.0</td><td>0</td><td>0.0</td><td>0.0</td><td>0.0</td><td>967</td><td>266.84638246099536,-28.39791412467139</td><td></td></tr>\n",
       "<tr><td>SFGC0.664-0.039</td><td>266.83589105284943</td><td>-28.38845008793058</td><td>-0.2047</td><td>0.3345</td><td>-0.612</td><td>0.9398</td><td>0.3997</td><td>2.351</td><td>--</td><td>--</td><td>--</td><td>-4.591</td><td>--</td><td>--</td><td>--</td><td>--</td><td>--</td><td>--</td><td>--</td><td>A</td><td>2.126e-38</td><td>1</td><td>--</td><td>--</td><td>-- .. --</td><td>15.49</td><td>0.3485</td><td>44.43</td><td>70.27</td><td>0.7857</td><td>89.43</td><td>130.1</td><td>1.288</td><td>101</td><td>4.537</td><td>1.851</td><td>50.71</td><td>0.7007</td><td>0.4986</td><td>--</td><td>--</td><td>--</td><td>M</td><td>2.126e-38</td><td>1</td><td>0</td><td>21</td><td>0.01354 ..     0.0008659</td><td>Field03</td><td>--</td><td>SFGC0.664-0.039</td><td>266.83589105284943,-28.38845008793058</td><td>110</td><td>0.7987566913209971</td><td>2.138997185406325</td><td>0.0</td><td>0</td><td>0.0</td><td>0.0</td><td>0.0</td><td>968</td><td>266.8358910528495,-28.38845008793058</td><td></td></tr>\n",
       "<tr><td>SFGC0.667-0.038</td><td>266.8368341614815</td><td>-28.38560761284377</td><td>6.555</td><td>0.1127</td><td>58.19</td><td>25.32</td><td>0.2009</td><td>126</td><td>52.64</td><td>0.2948</td><td>178.6</td><td>3.863</td><td>2.079</td><td>35.84</td><td>0.319</td><td>4.281</td><td>34.89</td><td>0.2268</td><td>2.307</td><td>A</td><td>7.253</td><td>2.274</td><td>--</td><td>--</td><td>-- .. --</td><td>125.7</td><td>0.2947</td><td>426.6</td><td>435.5</td><td>0.5541</td><td>785.8</td><td>705.9</td><td>0.7367</td><td>958.2</td><td>3.464</td><td>1.621</td><td>358.3</td><td>2.07</td><td>32.27</td><td>352.8</td><td>1.584</td><td>19.58</td><td>A</td><td>9.29</td><td>2.186</td><td>0</td><td>20</td><td>0.007228 ..        0.7467</td><td>Field01</td><td>--</td><td>SFGC0.667-0.038</td><td>266.8368341614815,-28.38560761284377</td><td>0</td><td>0.0</td><td>0.0</td><td>0.0</td><td>0</td><td>0.0</td><td>0.0</td><td>0.0</td><td>969</td><td>266.83683416148153,-28.38560761284377</td><td></td></tr>\n",
       "<tr><td>SFGC0.668-0.034</td><td>266.8335367803795</td><td>-28.38358126934335</td><td>7.157</td><td>0.1146</td><td>62.43</td><td>31.56</td><td>0.2027</td><td>155.7</td><td>61.24</td><td>0.2975</td><td>205.8</td><td>4.41</td><td>1.94</td><td>43.9</td><td>0.6019</td><td>13.84</td><td>43.66</td><td>0.3145</td><td>3.969</td><td>A</td><td>7.176</td><td>2.856</td><td>--</td><td>--</td><td>-- .. --</td><td>211.7</td><td>0.2942</td><td>719.5</td><td>634.7</td><td>0.5535</td><td>1147</td><td>850.5</td><td>0.736</td><td>1156</td><td>2.998</td><td>1.34</td><td>543.9</td><td>4.832</td><td>150.8</td><td>537.7</td><td>2.77</td><td>51.48</td><td>A</td><td>15.02</td><td>1.764</td><td>0</td><td>20</td><td>0.5493 ..     -0.001778</td><td>Field01</td><td>--</td><td>SFGC0.668-0.034</td><td>266.8335367803795,-28.38358126934335</td><td>0</td><td>0.0</td><td>0.0</td><td>0.0</td><td>0</td><td>0.0</td><td>0.0</td><td>0.0</td><td>970</td><td>266.8335367803795,-28.38358126934335</td><td></td></tr>\n",
       "</table></div>"
      ],
      "text/plain": [
       "<Table length=523>\n",
       "     SourceID         RA(J2000)      ... SSTGCxmatch\n",
       "                         deg         ...            \n",
       "     bytes17           float64       ...     str1   \n",
       "----------------- ------------------ ... -----------\n",
       "  SFGC0.018-0.062        266.4763478 ...            \n",
       "  SFGC0.513-0.047        266.7547043 ...            \n",
       "SFGC359.700+0.008 266.21776158465195 ...            \n",
       "SFGC359.456-0.067        266.1452142 ...            \n",
       "SFGC359.445-0.092        266.1634631 ...            \n",
       "  SFGC0.167-0.044  266.5470210279652 ...            \n",
       "SFGC359.933-0.053  266.4163824115693 ...            \n",
       "  SFGC0.133-0.024 266.50783155558935 ...            \n",
       "SFGC359.931-0.041  266.4033306034084 ...            \n",
       "              ...                ... ...         ...\n",
       "  SFGC0.608-0.047  266.8113042421003 ...            \n",
       "  SFGC0.632-0.026  266.8046318013615 ...            \n",
       "  SFGC0.643-0.092 266.87495668570966 ...            \n",
       "  SFGC0.643-0.093  266.8758726876464 ...            \n",
       "  SFGC0.645-0.041  266.8271987977095 ...            \n",
       "  SFGC0.648-0.035 266.82341735831307 ...            \n",
       "  SFGC0.661-0.051  266.8463824609953 ...            \n",
       "  SFGC0.664-0.039 266.83589105284943 ...            \n",
       "  SFGC0.667-0.038  266.8368341614815 ...            \n",
       "  SFGC0.668-0.034  266.8335367803795 ...            "
      ]
     },
     "execution_count": 47,
     "metadata": {},
     "output_type": "execute_result"
    }
   ],
   "source": [
    "onlymcat"
   ]
  },
  {
   "cell_type": "code",
   "execution_count": null,
   "id": "1a29cb4b",
   "metadata": {},
   "outputs": [],
   "source": []
  }
 ],
 "metadata": {
  "kernelspec": {
   "display_name": "Python 3 (ipykernel)",
   "language": "python",
   "name": "python3"
  },
  "language_info": {
   "codemirror_mode": {
    "name": "ipython",
    "version": 3
   },
   "file_extension": ".py",
   "mimetype": "text/x-python",
   "name": "python",
   "nbconvert_exporter": "python",
   "pygments_lexer": "ipython3",
   "version": "3.9.7"
  }
 },
 "nbformat": 4,
 "nbformat_minor": 5
}
