{
 "cells": [
  {
   "cell_type": "code",
   "execution_count": 1,
   "metadata": {},
   "outputs": [
    {
     "name": "stdout",
     "output_type": "stream",
     "text": [
      "Names of available configurations for fields:,  ['Field1', 'Field2', 'Field3', 'Field5', 'Field6', 'Field7', 'Field8', 'Field9', 'Field10', 'Field11', 'Field12', 'Field13', 'FieldA', 'FieldB', 'FieldC', 'FieldD', 'FieldE', 'FieldF', 'FieldG', 'FieldH', 'FieldI', 'FieldK', 'FieldL', 'FieldM', 'FieldO', 'FieldP', 'FieldQ', 'FieldR', 'FieldS', 'FieldT', 'FieldU', 'FieldV', 'FieldW', 'FieldX', 'FieldY', 'H_North', 'H_South', 'ArchE', 'ArchNE', 'ArchNW', 'ArchSE', 'ArchW']\n",
      "\n",
      "Names of available configurations for mosaics:,  ['Mosaic25', 'Mosaic37']\n"
     ]
    }
   ],
   "source": [
    "#uncomment this to see the names of the different configurations that can be loaded in\n",
    "from config import *\n",
    "\n",
    "fieldlist=[]\n",
    "for info in field._registry:\n",
    "    fieldlist.append(info.name)\n",
    "print('Names of available configurations for fields:, ', fieldlist)\n",
    "\n",
    "mosaiclist=[]\n",
    "for info in mosaic._registry:\n",
    "    mosaiclist.append(info.name)\n",
    "print('\\nNames of available configurations for mosaics:, ', mosaiclist)"
   ]
  },
  {
   "cell_type": "code",
   "execution_count": 2,
   "metadata": {},
   "outputs": [],
   "source": [
    "#import configuration for selected file\n",
    "from config import FieldX as field\n",
    "from config import wavelength, segdetsig, finddetsig, bkgbox #import additional common paramters\n",
    "from config import dpath, dpathalt, ds9path #import additional common paramters"
   ]
  },
  {
   "cell_type": "code",
   "execution_count": 3,
   "metadata": {},
   "outputs": [],
   "source": [
    "#import all required packages\n",
    "import os\n",
    "import numpy as np\n",
    "import matplotlib.pyplot as plt\n",
    "\n",
    "from astropy.convolution import Gaussian2DKernel\n",
    "from astropy.stats import gaussian_fwhm_to_sigma\n",
    "from astropy.visualization import SqrtStretch, simple_norm\n",
    "from astropy.visualization.mpl_normalize import ImageNormalize\n",
    "from astropy.io import fits,ascii\n",
    "from astropy.wcs import WCS\n",
    "from astropy import units as u\n",
    "from astropy.stats import sigma_clipped_stats\n",
    "from astropy.table import join\n",
    "from astropy.coordinates import SkyCoord\n",
    "\n",
    "from photutils.aperture import SkyCircularAperture,SkyCircularAnnulus,aperture_photometry \n",
    "from photutils.segmentation import detect_threshold, detect_sources, deblend_sources, SourceCatalog\n",
    "from photutils.background import Background2D, MedianBackground, SExtractorBackground, MMMBackground\n",
    "from photutils.utils import calc_total_error\n",
    "\n",
    "from regions import read_ds9"
   ]
  },
  {
   "cell_type": "code",
   "execution_count": 4,
   "metadata": {},
   "outputs": [],
   "source": [
    "#change directory to data location - provide alternate if working between two different pc's\n",
    "try:\n",
    "    os.chdir(dpath)\n",
    "except:\n",
    "    os.chdir(dpathalt)\n",
    "\n",
    "#import data - unpack fits file into header, image (data), varance (varmap), and exposure time (tmap)\n",
    "hdu=fits.open(field.filename)\n",
    "header=hdu[0].header\n",
    "\n",
    "#pull the first image plane\n",
    "ims=hdu[0].data\n",
    "\n",
    "#use the first image plane shape to determine how to unpack the rest of the data\n",
    "if len(np.shape(ims))==2:\n",
    "    data=ims\n",
    "    varmap=hdu[1].data\n",
    "    tmap=hdu[2].data\n",
    "elif len(np.shape(ims))==3:\n",
    "    data=ims[0]\n",
    "    varmap=ims[1]\n",
    "    tmap=ims[2]\n",
    "    hdu[0].header['NAXIS']=2 #hack to make non-standard WCS work with astropy\n",
    "hdu.close()\n",
    "\n",
    "#define wcs object for header\n",
    "wcsmap=WCS(hdu[0].header)\n",
    "\n",
    "#create pixel error map by taking sqrt of variance map\n",
    "errormap=np.sqrt(varmap)"
   ]
  },
  {
   "cell_type": "code",
   "execution_count": 5,
   "metadata": {},
   "outputs": [],
   "source": [
    "#load in the catalog files if they exist\n",
    "if os.path.isfile(field.name+'_'+str(wavelength)+'um_seg.dat'):\n",
    "    segTab=ascii.read(field.name+'_'+str(wavelength)+'um_seg.dat')\n",
    "else:\n",
    "    segTab=None\n",
    "    \n",
    "if os.path.isfile(field.name+'_'+str(wavelength)+'um_dao.dat'):   \n",
    "    daoTab=ascii.read(field.name+'_'+str(wavelength)+'um_dao.dat')\n",
    "else:\n",
    "    daoTab=None"
   ]
  },
  {
   "cell_type": "code",
   "execution_count": 6,
   "metadata": {},
   "outputs": [],
   "source": [
    "#Source coordinates need to be in the form of skycoord objects to create apertures. Ascii tables save as strings so this code puts them back in the right form. \n",
    "if segTab is not None:\n",
    "    sourcecoords=segTab['sky_centroid']\n",
    "else:\n",
    "    sourcecoords=[]\n",
    "scseg=[]\n",
    "\n",
    "for coord in sourcecoords:\n",
    "    pos=coord.find(\",\")\n",
    "    ra=coord[:pos]\n",
    "    dec=coord[pos+1:]\n",
    "    scobj=SkyCoord(ra,dec,unit=u.deg)\n",
    "    scseg.append(scobj)\n",
    "\n",
    "if segTab is not None:\n",
    "    segTab['skycoords']=scseg\n",
    "    sourcesseg=segTab['skycoords']\n",
    "\n",
    "sourcecoords=daoTab['sky_centroid']\n",
    "scdao=[]\n",
    "\n",
    "for coord in sourcecoords:\n",
    "    pos=coord.find(\",\")\n",
    "    ra=coord[:pos]\n",
    "    dec=coord[pos+1:]\n",
    "    scobj=SkyCoord(ra,dec,unit=u.deg)\n",
    "    scdao.append(scobj)\n",
    "    \n",
    "daoTab['skycoords']=scdao\n",
    "sourcesdao=daoTab['skycoords']"
   ]
  },
  {
   "cell_type": "code",
   "execution_count": null,
   "metadata": {},
   "outputs": [],
   "source": []
  },
  {
   "cell_type": "code",
   "execution_count": null,
   "metadata": {},
   "outputs": [],
   "source": [
    "radii = [2,4,6,8,10] #define aperture radii & construct apertures (line below)\n",
    "\n",
    "if segTab is not None:\n",
    "    SegPhotTable=performApPhoto(data,wcsmap,sourcesseg,radii,plot=True)\n",
    "\n",
    "    #display the photometry table\n",
    "    SegPhotTable\n",
    "else:\n",
    "    print('No sources found in segmentation map')"
   ]
  },
  {
   "cell_type": "code",
   "execution_count": null,
   "metadata": {},
   "outputs": [],
   "source": []
  },
  {
   "cell_type": "code",
   "execution_count": null,
   "metadata": {},
   "outputs": [],
   "source": [
    "#example: https://photutils.readthedocs.io/en/stable/psf.html"
   ]
  },
  {
   "cell_type": "code",
   "execution_count": 22,
   "metadata": {},
   "outputs": [
    {
     "data": {
      "text/plain": [
       "<matplotlib.image.AxesImage at 0x28dd777b580>"
      ]
     },
     "execution_count": 22,
     "metadata": {},
     "output_type": "execute_result"
    },
    {
     "data": {
      "image/png": "[encoded data removed]",
      "text/plain": [
       "<Figure size 432x288 with 1 Axes>"
      ]
     },
     "metadata": {
      "needs_background": "light"
     },
     "output_type": "display_data"
    }
   ],
   "source": [
    "import numpy as np\n",
    "import matplotlib.pyplot as plt\n",
    "from matplotlib.colors import LogNorm\n",
    "from photutils.datasets import (make_random_gaussians_table,\n",
    "                                make_noise_image,\n",
    "                                make_gaussian_sources_image)\n",
    "from photutils.psf import (IterativelySubtractedPSFPhotometry,\n",
    "                           BasicPSFPhotometry)\n",
    "from photutils.background import MMMBackground\n",
    "from photutils.psf import IntegratedGaussianPRF, DAOGroup\n",
    "from photutils.detection import DAOStarFinder, IRAFStarFinder\n",
    "from astropy.table import Table\n",
    "from astropy.modeling.fitting import LevMarLSQFitter\n",
    "\n",
    "sources = Table()\n",
    "sources['flux'] = [10000, 1000]\n",
    "sources['x_mean'] = [18, 9]\n",
    "sources['y_mean'] = [17, 21]\n",
    "sources['x_stddev'] = [2] * 2\n",
    "sources['y_stddev'] = sources['x_stddev']\n",
    "sources['theta'] = [0] * 2\n",
    "tshape = (32, 32)\n",
    "image = (make_gaussian_sources_image(tshape, sources) +\n",
    "         make_noise_image(tshape, distribution='poisson', mean=6.,\n",
    "                          seed=123) +\n",
    "         make_noise_image(tshape, distribution='gaussian', mean=0.,\n",
    "                          stddev=2., seed=123))\n",
    "\n",
    "vmin, vmax = np.percentile(image, [5, 95])\n",
    "plt.imshow(image, cmap='viridis', aspect=1, interpolation='nearest',\n",
    "           origin='lower', norm=LogNorm(vmin=vmin, vmax=vmax))"
   ]
  },
  {
   "cell_type": "code",
   "execution_count": 8,
   "metadata": {},
   "outputs": [],
   "source": [
    "daogroup = DAOGroup(crit_separation=8)\n",
    "mmm_bkg = MMMBackground()\n",
    "iraffind = IRAFStarFinder(threshold=2.5*mmm_bkg(image), fwhm=4.5)\n",
    "fitter = LevMarLSQFitter()\n",
    "gaussian_prf = IntegratedGaussianPRF(sigma=2.05)\n",
    "gaussian_prf.sigma.fixed = False\n",
    "itr_phot_obj = IterativelySubtractedPSFPhotometry(finder=iraffind,\n",
    "                                                  group_maker=daogroup,\n",
    "                                                  bkg_estimator=mmm_bkg,\n",
    "                                                  psf_model=gaussian_prf,\n",
    "                                                  fitter=fitter,\n",
    "                                                  fitshape=(11, 11),\n",
    "                                                  niters=2)"
   ]
  },
  {
   "cell_type": "code",
   "execution_count": 9,
   "metadata": {},
   "outputs": [
    {
     "data": {
      "text/html": [
       "<i>Table length=2</i>\n",
       "<table id=\"table2808133170368\" class=\"table-striped table-bordered table-condensed\">\n",
       "<thead><tr><th>x_0</th><th>x_fit</th><th>y_0</th><th>y_fit</th><th>flux_0</th><th>flux_fit</th><th>sigma_0</th><th>sigma_fit</th><th>id</th><th>group_id</th><th>flux_unc</th><th>x_0_unc</th><th>y_0_unc</th><th>sigma_unc</th><th>iter_detected</th></tr></thead>\n",
       "<thead><tr><th>float64</th><th>float64</th><th>float64</th><th>float64</th><th>float64</th><th>float64</th><th>float64</th><th>float64</th><th>int32</th><th>int32</th><th>float64</th><th>float64</th><th>float64</th><th>float64</th><th>int32</th></tr></thead>\n",
       "<tr><td>18.003510396149217</td><td>18.005284165751934</td><td>17.001996637752185</td><td>17.008150189196392</td><td>9424.1257697183</td><td>9988.054214012245</td><td>2.05</td><td>1.978347679925348</td><td>1</td><td>1</td><td>34.44224748648674</td><td>0.006875430088399052</td><td>0.006875430514250695</td><td>0.004938199748737145</td><td>1</td></tr>\n",
       "<tr><td>18.012744828527083</td><td>18.006843771267683</td><td>16.98812487673021</td><td>16.896351342418757</td><td>124.47495776908777</td><td>256.8430394054114</td><td>2.05</td><td>1.0952293311837853</td><td>1</td><td>1</td><td>22.9079827859933</td><td>0.10108245578194336</td><td>0.10108097196079789</td><td>0.07397325819095034</td><td>2</td></tr>\n",
       "</table>"
      ],
      "text/plain": [
       "<Table length=2>\n",
       "       x_0               x_fit        ...      sigma_unc       iter_detected\n",
       "     float64            float64       ...       float64            int32    \n",
       "------------------ ------------------ ... -------------------- -------------\n",
       "18.003510396149217 18.005284165751934 ... 0.004938199748737145             1\n",
       "18.012744828527083 18.006843771267683 ...  0.07397325819095034             2"
      ]
     },
     "execution_count": 9,
     "metadata": {},
     "output_type": "execute_result"
    }
   ],
   "source": [
    "phot_results = itr_phot_obj(image)\n",
    "phot_results"
   ]
  },
  {
   "cell_type": "code",
   "execution_count": 10,
   "metadata": {},
   "outputs": [
    {
     "data": {
      "image/png": "[encoded data removed]",
      "text/plain": [
       "<Figure size 432x288 with 2 Axes>"
      ]
     },
     "metadata": {
      "needs_background": "light"
     },
     "output_type": "display_data"
    }
   ],
   "source": [
    "plt.figure()\n",
    "plt.imshow(itr_phot_obj.get_residual_image(), cmap='viridis', aspect=1, interpolation='nearest', origin='lower')\n",
    "plt.colorbar()\n",
    "plt.show()"
   ]
  },
  {
   "cell_type": "code",
   "execution_count": 25,
   "metadata": {},
   "outputs": [],
   "source": [
    "#basic_phot_obj=BasicPSFPhotometry(finder=iraffind,\n",
    "#                    group_maker=daogroup,\n",
    "#                    bkg_estimator=mmm_bkg,\n",
    "#                    psf_model=gaussian_prf,\n",
    "#                    fitter=fitter,\n",
    "#                    fitshape=(11, 11))\n",
    "\n",
    "# See, e.g., DAOStarFinder. If finder is None, initial guesses for positions of objects must be provided.\n",
    "#https://photutils.readthedocs.io/en/stable/api/photutils.psf.BasicPSFPhotometry.html#basicpsfphotometry"
   ]
  },
  {
   "cell_type": "code",
   "execution_count": 26,
   "metadata": {},
   "outputs": [
    {
     "data": {
      "text/html": [
       "<i>Table length=2</i>\n",
       "<table id=\"table2808228654624\" class=\"table-striped table-bordered table-condensed\">\n",
       "<thead><tr><th>x_0</th><th>y_0</th></tr></thead>\n",
       "<thead><tr><th>int32</th><th>int32</th></tr></thead>\n",
       "<tr><td>18</td><td>17</td></tr>\n",
       "<tr><td>9</td><td>21</td></tr>\n",
       "</table>"
      ],
      "text/plain": [
       "<Table length=2>\n",
       " x_0   y_0 \n",
       "int32 int32\n",
       "----- -----\n",
       "   18    17\n",
       "    9    21"
      ]
     },
     "execution_count": 26,
     "metadata": {},
     "output_type": "execute_result"
    }
   ],
   "source": [
    "sourcepos=Table()\n",
    "\n",
    "sourcepos['x_0']=sources['x_mean']\n",
    "sourcepos['y_0']=sources['y_mean']\n",
    "\n"
   ]
  },
  {
   "cell_type": "code",
   "execution_count": 30,
   "metadata": {},
   "outputs": [],
   "source": [
    "daogroup = DAOGroup(crit_separation=8)\n",
    "mmm_bkg = MMMBackground()\n",
    "#iraffind = IRAFStarFinder(threshold=2.5*mmm_bkg(image), fwhm=4.5)\n",
    "fitter = LevMarLSQFitter()\n",
    "gaussian_prf = IntegratedGaussianPRF(sigma=2.05)\n",
    "gaussian_prf.sigma.fixed = False\n",
    "\n",
    "basic_phot_obj=BasicPSFPhotometry(group_maker=daogroup,\n",
    "                    bkg_estimator=mmm_bkg,\n",
    "                    psf_model=gaussian_prf,\n",
    "                    fitter=fitter,\n",
    "                    fitshape=(11, 11))"
   ]
  },
  {
   "cell_type": "code",
   "execution_count": 31,
   "metadata": {},
   "outputs": [
    {
     "data": {
      "text/html": [
       "<i>Table length=2</i>\n",
       "<table id=\"table2808229347680\" class=\"table-striped table-bordered table-condensed\">\n",
       "<thead><tr><th>x_0</th><th>y_0</th><th>flux_0</th><th>sigma_0</th><th>id</th><th>group_id</th><th>x_fit</th><th>y_fit</th><th>flux_fit</th><th>sigma_fit</th><th>flux_unc</th><th>x_0_unc</th><th>y_0_unc</th><th>sigma_unc</th></tr></thead>\n",
       "<thead><tr><th>int32</th><th>int32</th><th>float64</th><th>float64</th><th>int32</th><th>int32</th><th>float64</th><th>float64</th><th>float64</th><th>float64</th><th>float64</th><th>float64</th><th>float64</th><th>float64</th></tr></thead>\n",
       "<tr><td>18</td><td>17</td><td>9393.312984362707</td><td>2.05</td><td>1</td><td>1</td><td>18.00529461242549</td><td>17.008112632536992</td><td>9947.894493960297</td><td>1.9744509020067682</td><td>34.13226738976921</td><td>0.006828337980681691</td><td>0.006828338379870839</td><td>0.0049039988889783585</td></tr>\n",
       "<tr><td>9</td><td>21</td><td>1002.7681485473471</td><td>2.05</td><td>2</td><td>2</td><td>9.056343947485498</td><td>21.016602075454852</td><td>1030.8400172751271</td><td>2.0294772183215777</td><td>33.269909999403204</td><td>0.06590973778794017</td><td>0.06590923325067406</td><td>0.04739876160678118</td></tr>\n",
       "</table>"
      ],
      "text/plain": [
       "<Table length=2>\n",
       " x_0   y_0        flux_0       ...       y_0_unc              sigma_unc      \n",
       "int32 int32      float64       ...       float64               float64       \n",
       "----- ----- ------------------ ... -------------------- ---------------------\n",
       "   18    17  9393.312984362707 ... 0.006828338379870839 0.0049039988889783585\n",
       "    9    21 1002.7681485473471 ...  0.06590923325067406   0.04739876160678118"
      ]
     },
     "execution_count": 31,
     "metadata": {},
     "output_type": "execute_result"
    }
   ],
   "source": [
    "photB_results = basic_phot_obj(image,init_guesses=sourcepos) #must provide initial guesses as an astropy table with columns x_0 and y_0 in pixel coords\n",
    "photB_results"
   ]
  },
  {
   "cell_type": "code",
   "execution_count": 28,
   "metadata": {},
   "outputs": [
    {
     "data": {
      "image/png": "[encoded data removed]",
      "text/plain": [
       "<Figure size 432x288 with 2 Axes>"
      ]
     },
     "metadata": {
      "needs_background": "light"
     },
     "output_type": "display_data"
    }
   ],
   "source": [
    "plt.figure()\n",
    "plt.imshow(basic_phot_obj.get_residual_image(), cmap='viridis', aspect=1, interpolation='nearest', origin='lower')\n",
    "plt.colorbar()\n",
    "plt.show()"
   ]
  },
  {
   "cell_type": "code",
   "execution_count": null,
   "metadata": {},
   "outputs": [],
   "source": []
  }
 ],
 "metadata": {
  "kernelspec": {
   "display_name": "Python 3",
   "language": "python",
   "name": "python3"
  },
  "language_info": {
   "codemirror_mode": {
    "name": "ipython",
    "version": 3
   },
   "file_extension": ".py",
   "mimetype": "text/x-python",
   "name": "python",
   "nbconvert_exporter": "python",
   "pygments_lexer": "ipython3",
   "version": "3.8.5"
  }
 },
 "nbformat": 4,
 "nbformat_minor": 4
}
