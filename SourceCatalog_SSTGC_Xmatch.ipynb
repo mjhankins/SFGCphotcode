{
 "cells": [
  {
   "cell_type": "markdown",
   "id": "eec2d5f2",
   "metadata": {},
   "source": [
    "# SOFIA/FORCAST Galactic Center SSTGC X-match Notebook"
   ]
  },
  {
   "cell_type": "markdown",
   "id": "880687a9",
   "metadata": {},
   "source": [
    "## Preliminary Steps - Select file to use from config.py and load in required packages"
   ]
  },
  {
   "cell_type": "code",
   "execution_count": 47,
   "id": "492d222e",
   "metadata": {},
   "outputs": [],
   "source": [
    "#import all required packages\n",
    "import os\n",
    "import numpy as np\n",
    "import re\n",
    "import matplotlib.pyplot as plt\n",
    "\n",
    "from astroquery.vizier import Vizier\n",
    "from astropy.io import fits,ascii\n",
    "from astropy.wcs import WCS\n",
    "from astropy import units as u\n",
    "from astropy.stats import sigma_clipped_stats\n",
    "from astropy.table import join, vstack, hstack\n",
    "from astropy.coordinates import SkyCoord, search_around_sky, Angle\n",
    "from astropy.coordinates.matching import _get_cartesian_kdtree\n",
    "from astropy.table import join, vstack, Table\n",
    "\n",
    "from regions import read_ds9, write_ds9, CircleSkyRegion"
   ]
  },
  {
   "cell_type": "code",
   "execution_count": 48,
   "id": "b4d91a9c",
   "metadata": {},
   "outputs": [],
   "source": [
    "#import configuration for selected file\n",
    "#from config import wavelength, segdetsig, finddetsig, bkgbox #import additional common paramters\n",
    "from config import dpath, dpathalt, ds9path #import additional common paramters\n",
    "\n",
    "from config import *\n"
   ]
  },
  {
   "cell_type": "code",
   "execution_count": 49,
   "id": "dc142fcb",
   "metadata": {},
   "outputs": [],
   "source": [
    "from FORCASTphot import makeDS9reg, findNOTindex"
   ]
  },
  {
   "cell_type": "markdown",
   "id": "2e4797c7",
   "metadata": {},
   "source": [
    "## Load in catalog from file"
   ]
  },
  {
   "cell_type": "code",
   "execution_count": 50,
   "id": "e75aaae4",
   "metadata": {},
   "outputs": [],
   "source": [
    "#change directory to where data is\n",
    "try:\n",
    "    os.chdir(dpath)\n",
    "except:\n",
    "    os.chdir(dpathalt)"
   ]
  },
  {
   "cell_type": "code",
   "execution_count": 51,
   "id": "cddd3b7d",
   "metadata": {},
   "outputs": [],
   "source": [
    "#load in the master catalogs\n",
    "mcat=Table.read('masterCat_step3_combined.fits')"
   ]
  },
  {
   "cell_type": "code",
   "execution_count": 52,
   "id": "2e086fae",
   "metadata": {},
   "outputs": [],
   "source": [
    "#add sky coord column if not already present\n",
    "if 'skycoords' not in mcat.columns:\n",
    "\n",
    "    ras=mcat[\"RA(J2000)\"]\n",
    "    decs=mcat[\"DEC(J2000)\"]\n",
    "\n",
    "    scobj=SkyCoord(ras,decs,unit=(u.hr,u.deg))\n",
    "    mcat[\"skycoords\"]=scobj\n",
    "\n",
    "    #print catalog to see the new entry\n",
    "    mcat"
   ]
  },
  {
   "cell_type": "code",
   "execution_count": 53,
   "id": "9359dfe5",
   "metadata": {
    "scrolled": true
   },
   "outputs": [
    {
     "data": {
      "text/html": [
       "<div><i>Table length=950</i>\n",
       "<table id=\"table2644555168400\" class=\"table-striped table-bordered table-condensed\">\n",
       "<thead><tr><th>SourceID</th><th>RA(J2000)</th><th>DEC(J2000)</th><th>25BestModel</th><th>25um_Flux_4pix</th><th>25um_Flux_4pix_err</th><th>25um_SNR_4pix</th><th>25um_Flux_8pix</th><th>25um_Flux_8pix_err</th><th>25um_SNR_8pix</th><th>25um_Flux_12pix</th><th>25um_Flux_12pix_err</th><th>25um_SNR_12pix</th><th>25ApRatio8_4</th><th>25ApRatio12_8</th><th>25um_Flux_M2D</th><th>25um_Flux_M2D_err</th><th>25um_SNR_M2D</th><th>25um_M2D_chi2</th><th>M2D25_qflag</th><th>25um_Flux_G2D</th><th>25um_Flux_G2D_err</th><th>25um_SNR_G2D</th><th>25um_G2D_chi2</th><th>G2D25_qflag</th><th>fwhm25</th><th>fwhm25err</th><th>elong25</th><th>ErrCalF25</th><th>vExtFlag25</th><th>bkg_qflag25</th><th>edge_flag25</th><th>cutout25 [25,25]</th><th>M2Dresid25 [17,17]</th><th>G2Dresid25 [17,17]</th><th>37BestModel</th><th>37um_Flux_5.5pix</th><th>37um_Flux_5.5pix_err</th><th>37um_SNR_5.5pix</th><th>37um_Flux_10.5pix</th><th>37um_Flux_10.5pix_err</th><th>37um_SNR_10.5pix</th><th>37um_Flux_14pix</th><th>37um_Flux_14pix_err</th><th>37um_SNR_14pix</th><th>37ApRatio10.5_5.5</th><th>37ApRatio14_10.5</th><th>37um_Flux_M2D</th><th>37um_Flux_M2D_err</th><th>37um_SNR_M2D</th><th>37um_M2D_chi2</th><th>M2D37_qflag</th><th>37um_Flux_G2D</th><th>37um_Flux_G2D_err</th><th>37um_SNR_G2D</th><th>37um_G2D_chi2</th><th>G2D37_qflag</th><th>fwhm37</th><th>fwhm37err</th><th>elong37</th><th>vExtFlag37</th><th>bkg_qflag37</th><th>edge_flag37</th><th>ErrCalF37</th><th>cutout37 [31,31]</th><th>M2Dresid37 [17,17]</th><th>G2Dresid37 [17,17]</th><th>sky_centroid</th><th>FieldID</th><th>SID25</th><th>SID37</th><th>Found25</th><th>Found37</th><th>Matched</th><th>F25_F37_sep</th><th>25ApPhot_qflag</th><th>25Ap_4pix_UL</th><th>25Ap_8pix_UL</th><th>25Ap_12pix_UL</th><th>37ApPhot_qflag</th><th>37Ap_5.5pix_UL</th><th>37Ap_10.5pix_UL</th><th>37Ap_14pix_UL</th><th>id</th><th>skycoords</th></tr></thead>\n",
       "<thead><tr><th></th><th></th><th></th><th></th><th></th><th></th><th></th><th></th><th></th><th></th><th></th><th></th><th></th><th></th><th></th><th></th><th></th><th></th><th></th><th></th><th></th><th></th><th></th><th></th><th></th><th></th><th></th><th></th><th></th><th></th><th></th><th></th><th></th><th></th><th></th><th></th><th></th><th></th><th></th><th></th><th></th><th></th><th></th><th></th><th></th><th></th><th></th><th></th><th></th><th></th><th></th><th></th><th></th><th></th><th></th><th></th><th></th><th></th><th></th><th></th><th></th><th></th><th></th><th></th><th></th><th></th><th></th><th>deg,deg</th><th></th><th></th><th></th><th></th><th></th><th></th><th></th><th></th><th></th><th></th><th></th><th></th><th></th><th></th><th></th><th></th><th>deg,deg</th></tr></thead>\n",
       "<thead><tr><th>bytes18</th><th>bytes12</th><th>bytes13</th><th>bytes1</th><th>float32</th><th>float32</th><th>float32</th><th>float32</th><th>float32</th><th>float32</th><th>float32</th><th>float32</th><th>float32</th><th>float32</th><th>float32</th><th>float32</th><th>float32</th><th>float32</th><th>float32</th><th>float64</th><th>float32</th><th>float32</th><th>float32</th><th>float32</th><th>int32</th><th>float32</th><th>float32</th><th>float32</th><th>float32</th><th>int32</th><th>int32</th><th>int32</th><th>float32</th><th>float32</th><th>float32</th><th>bytes1</th><th>float32</th><th>float32</th><th>float32</th><th>float32</th><th>float32</th><th>float32</th><th>float32</th><th>float32</th><th>float32</th><th>float32</th><th>float32</th><th>float32</th><th>float32</th><th>float32</th><th>float32</th><th>int32</th><th>float32</th><th>float32</th><th>float32</th><th>float32</th><th>int32</th><th>float32</th><th>float32</th><th>float32</th><th>int32</th><th>int32</th><th>int32</th><th>float32</th><th>float32</th><th>float32</th><th>float32</th><th>object</th><th>bytes7</th><th>bytes18</th><th>bytes18</th><th>int32</th><th>int32</th><th>int32</th><th>float32</th><th>bytes3</th><th>float32</th><th>float32</th><th>float32</th><th>bytes3</th><th>float32</th><th>float32</th><th>float32</th><th>int32</th><th>object</th></tr></thead>\n",
       "<tr><td>SFGC0.642-0.0920</td><td>17h47m29.98s</td><td>-28d26m06.11s</td><td>a</td><td>2.62</td><td>0.152</td><td>17.3</td><td>8.43</td><td>0.303</td><td>27.8</td><td>14</td><td>0.455</td><td>30.7</td><td>3.22</td><td>1.66</td><td>--</td><td>--</td><td>--</td><td>--</td><td>1.0</td><td>10.3</td><td>0.463</td><td>22.2</td><td>1.59</td><td>0</td><td>13.4</td><td>--</td><td>1.73</td><td>0.0214</td><td>1</td><td>1</td><td>0</td><td>0.0011582585 .. 0.015019846</td><td>-- .. --</td><td>-0.0020329447 .. -0.0005527116</td><td>a</td><td>16.9</td><td>0.64</td><td>26.4</td><td>47.4</td><td>1.22</td><td>38.8</td><td>66.8</td><td>1.63</td><td>41</td><td>2.8</td><td>1.41</td><td>40.2</td><td>1.63</td><td>24.6</td><td>6.96</td><td>0</td><td>40.2</td><td>1.74</td><td>23.1</td><td>2.06</td><td>0</td><td>16.5</td><td>--</td><td>1.8</td><td>1</td><td>0</td><td>0</td><td>0.0283</td><td>0.021544566 .. 0.05470274</td><td>-0.041184332 .. -0.03553597</td><td>-0.008361966 .. -0.009936933</td><td>266.8749166666667,-28.435030555555556</td><td>Field02</td><td>SFGC0.642-0.0920</td><td>SFGC0.642-0.0920</td><td>1</td><td>1</td><td>1</td><td>0</td><td>000</td><td>--</td><td>--</td><td>--</td><td>000</td><td>--</td><td>--</td><td>--</td><td>1</td><td>266.8749166666667,-28.435030555555556</td></tr>\n",
       "<tr><td>SFGC359.917-0.0411</td><td>17h45m34.98s</td><td>-29d01m42.06s</td><td>g</td><td>0.557</td><td>0.0663</td><td>8.4</td><td>0.804</td><td>0.133</td><td>6.06</td><td>0.966</td><td>0.199</td><td>4.85</td><td>1.44</td><td>1.2</td><td>0.871</td><td>0.0559</td><td>15.6</td><td>1.49</td><td>0.0</td><td>0.93</td><td>0.075</td><td>12.4</td><td>1.43</td><td>0</td><td>4.98</td><td>2.56</td><td>1.87</td><td>0.0214</td><td>0</td><td>0</td><td>0</td><td>-0.017314684 .. -0.0074744164</td><td>-0.008012593 .. 0.010391566</td><td>-0.007907722 .. 0.010521602</td><td>a</td><td>2.71</td><td>0.21</td><td>12.9</td><td>7.05</td><td>0.402</td><td>17.5</td><td>10</td><td>0.536</td><td>18.7</td><td>2.6</td><td>1.42</td><td>--</td><td>--</td><td>--</td><td>--</td><td>1</td><td>6.04</td><td>0.428</td><td>14.1</td><td>1.64</td><td>0</td><td>12.3</td><td>--</td><td>1.57</td><td>0</td><td>0</td><td>0</td><td>0.0283</td><td>-0.043919764 .. 0.012567047</td><td>-- .. --</td><td>-0.00084886176 .. 0.019681368</td><td>266.39574999999996,-29.028350000000003</td><td>Field41</td><td>SFGC359.917-0.0411</td><td>SFGC359.917-0.0411</td><td>1</td><td>1</td><td>1</td><td>0</td><td>000</td><td>--</td><td>--</td><td>--</td><td>000</td><td>--</td><td>--</td><td>--</td><td>2</td><td>266.39574999999996,-29.02835</td></tr>\n",
       "<tr><td>SFGC0.639-0.0744</td><td>17h47m25.45s</td><td>-28d25m42.38s</td><td>a</td><td>1.09</td><td>0.0871</td><td>12.5</td><td>2.68</td><td>0.174</td><td>15.4</td><td>4.48</td><td>0.261</td><td>17.1</td><td>2.46</td><td>1.67</td><td>3.23</td><td>0.141</td><td>22.9</td><td>1.87</td><td>0.0</td><td>--</td><td>--</td><td>--</td><td>--</td><td>1</td><td>20</td><td>--</td><td>1</td><td>0.0214</td><td>0</td><td>0</td><td>0</td><td>0.001997486 .. -0.00861637</td><td>-0.0027230156 .. -0.0077228444</td><td>-- .. --</td><td>a</td><td>4.45</td><td>0.309</td><td>14.4</td><td>12.2</td><td>0.589</td><td>20.8</td><td>17.7</td><td>0.785</td><td>22.5</td><td>2.75</td><td>1.44</td><td>--</td><td>--</td><td>--</td><td>--</td><td>1</td><td>10.4</td><td>0.725</td><td>14.3</td><td>1.19</td><td>0</td><td>14.2</td><td>--</td><td>1.55</td><td>1</td><td>0</td><td>0</td><td>0.0283</td><td>-0.009794885 .. 0.029921846</td><td>-- .. --</td><td>-0.016091263 .. -0.00067445764</td><td>266.85604166666667,-28.428438888888895</td><td>Field02</td><td>SFGC0.639-0.0744</td><td>SFGC0.639-0.0744</td><td>1</td><td>1</td><td>1</td><td>0</td><td>000</td><td>--</td><td>--</td><td>--</td><td>000</td><td>--</td><td>--</td><td>--</td><td>3</td><td>266.85604166666667,-28.42843888888889</td></tr>\n",
       "<tr><td>SFGC0.036-0.1818</td><td>17h46m24.88s</td><td>-29d00m01.34s</td><td>g</td><td>1.35</td><td>0.109</td><td>12.4</td><td>1.15</td><td>0.218</td><td>5.29</td><td>--</td><td>--</td><td>--</td><td>0.851</td><td>--</td><td>--</td><td>--</td><td>--</td><td>--</td><td>1.0</td><td>1.4</td><td>0.065</td><td>21.6</td><td>1.43</td><td>0</td><td>2.63</td><td>0.306</td><td>1.02</td><td>0.0237</td><td>0</td><td>0</td><td>1</td><td>-0.02002774 .. -0.012622309</td><td>-- .. --</td><td>-0.00019068921 .. -0.0063876263</td><td>g</td><td>1.49</td><td>0.197</td><td>7.57</td><td>2.02</td><td>0.376</td><td>5.38</td><td>2.35</td><td>0.501</td><td>4.69</td><td>1.36</td><td>1.16</td><td>--</td><td>--</td><td>--</td><td>--</td><td>1</td><td>1.61</td><td>0.137</td><td>11.8</td><td>0.616</td><td>0</td><td>4.22</td><td>0.842</td><td>1.24</td><td>0</td><td>0</td><td>1</td><td>0.027</td><td>-0.008324572 .. 0.004368282</td><td>-- .. --</td><td>0.00025314777 .. 0.000968509</td><td>266.60366666666664,-29.000372222222225</td><td>Field35</td><td>SFGC0.036-0.1818</td><td>SFGC0.036-0.1818</td><td>1</td><td>1</td><td>1</td><td>0</td><td>001</td><td>--</td><td>--</td><td>0.975</td><td>000</td><td>--</td><td>--</td><td>--</td><td>4</td><td>266.60366666666664,-29.00037222222222</td></tr>\n",
       "<tr><td>SFGC0.002-0.1756</td><td>17h46m18.60s</td><td>-29d01m33.73s</td><td>a</td><td>2.53</td><td>0.126</td><td>20.2</td><td>7.09</td><td>0.251</td><td>28.2</td><td>11.5</td><td>0.377</td><td>30.6</td><td>2.8</td><td>1.63</td><td>8.56</td><td>0.277</td><td>30.9</td><td>4.23</td><td>0.0</td><td>8.44</td><td>0.343</td><td>24.6</td><td>1.1</td><td>0</td><td>12</td><td>--</td><td>2.94</td><td>0.0237</td><td>0</td><td>0</td><td>0</td><td>0.0055379723 .. 0.022273233</td><td>-0.010221736 .. 0.014568055</td><td>-0.0131213665 .. 0.0057871607</td><td>a</td><td>4.26</td><td>0.264</td><td>16.2</td><td>11.1</td><td>0.504</td><td>22</td><td>16.5</td><td>0.671</td><td>24.5</td><td>2.6</td><td>1.48</td><td>9.35</td><td>0.303</td><td>30.8</td><td>2.54</td><td>0</td><td>9.19</td><td>1.21</td><td>7.56</td><td>1.11</td><td>0</td><td>26</td><td>--</td><td>16.1</td><td>1</td><td>0</td><td>0</td><td>0.027</td><td>-0.00895218 .. 0.019151552</td><td>0.00071569986 .. 0.033023752</td><td>-0.0036444536 .. 0.022982571</td><td>266.5775,-29.02603611111111</td><td>Field35</td><td>SFGC0.002-0.1756</td><td>SFGC0.002-0.1756</td><td>1</td><td>1</td><td>1</td><td>0</td><td>000</td><td>--</td><td>--</td><td>--</td><td>000</td><td>--</td><td>--</td><td>--</td><td>5</td><td>266.5775,-29.02603611111111</td></tr>\n",
       "<tr><td>SFGC359.547-0.0525</td><td>17h44m44.48s</td><td>-29d21m01.41s</td><td>g</td><td>0.697</td><td>0.0701</td><td>9.94</td><td>1.08</td><td>0.14</td><td>7.72</td><td>1.51</td><td>0.21</td><td>7.16</td><td>1.55</td><td>1.39</td><td>1.21</td><td>0.0716</td><td>16.9</td><td>0.712</td><td>0.0</td><td>1.1</td><td>0.081</td><td>13.5</td><td>0.696</td><td>0</td><td>5.08</td><td>1.13</td><td>1.34</td><td>0.019</td><td>0</td><td>0</td><td>1</td><td>0.0018905203 .. 0.00069335854</td><td>-0.006266824 .. 0.00829259</td><td>-0.006021309 .. 0.008680867</td><td>g</td><td>1.42</td><td>0.17</td><td>8.33</td><td>2.36</td><td>0.325</td><td>7.25</td><td>2.55</td><td>0.434</td><td>5.89</td><td>1.66</td><td>1.08</td><td>--</td><td>--</td><td>--</td><td>--</td><td>1</td><td>2.35</td><td>0.191</td><td>12.3</td><td>0.909</td><td>0</td><td>6.79</td><td>2.64</td><td>1.12</td><td>0</td><td>0</td><td>1</td><td>0.0334</td><td>-0.019973472 .. 0.054000963</td><td>-- .. --</td><td>-0.002464894 .. -0.010973047</td><td>266.1853333333333,-29.35039166666667</td><td>Field47</td><td>SFGC359.547-0.0525</td><td>SFGC359.547-0.0525</td><td>1</td><td>1</td><td>1</td><td>0</td><td>000</td><td>--</td><td>--</td><td>--</td><td>000</td><td>--</td><td>--</td><td>--</td><td>6</td><td>266.1853333333333,-29.350391666666667</td></tr>\n",
       "<tr><td>SFGC0.185-0.0606</td><td>17h46m17.82s</td><td>-28d48m34.21s</td><td>g</td><td>1.75</td><td>0.0816</td><td>21.5</td><td>1.74</td><td>0.163</td><td>10.6</td><td>1.18</td><td>0.245</td><td>4.81</td><td>0.99</td><td>0.679</td><td>1.89</td><td>0.0576</td><td>32.8</td><td>1.83</td><td>0.0</td><td>1.89</td><td>0.0588</td><td>32.1</td><td>1.77</td><td>0</td><td>3.17</td><td>0.0627</td><td>1.13</td><td>0.0214</td><td>0</td><td>0</td><td>0</td><td>0.015433696 .. -0.0020217283</td><td>-0.0018687655 .. -0.00129253</td><td>-0.0018687604 .. -0.0012924916</td><td>g</td><td>0.961</td><td>0.234</td><td>4.1</td><td>--</td><td>--</td><td>--</td><td>--</td><td>--</td><td>--</td><td>--</td><td>--</td><td>--</td><td>--</td><td>--</td><td>--</td><td>1</td><td>1.01</td><td>0.126</td><td>7.98</td><td>1.93</td><td>0</td><td>3.26</td><td>1.14</td><td>1.15</td><td>0</td><td>0</td><td>0</td><td>0.0283</td><td>0.011256525 .. 0.12223301</td><td>-- .. --</td><td>-0.013528282 .. -0.008289114</td><td>266.57424999999995,-28.809502777777784</td><td>Field18</td><td>SFGC0.185-0.0606</td><td>SFGC0.185-0.0607</td><td>1</td><td>1</td><td>1</td><td>0</td><td>000</td><td>--</td><td>--</td><td>--</td><td>011</td><td>--</td><td>1.36</td><td>1.81</td><td>7</td><td>266.57424999999995,-28.80950277777778</td></tr>\n",
       "<tr><td>SFGC359.997-0.1770</td><td>17h46m18.23s</td><td>-29d01m51.07s</td><td>a</td><td>1.68</td><td>0.116</td><td>14.4</td><td>4.77</td><td>0.232</td><td>20.5</td><td>7.42</td><td>0.349</td><td>21.3</td><td>2.84</td><td>1.56</td><td>--</td><td>--</td><td>--</td><td>--</td><td>1.0</td><td>--</td><td>--</td><td>--</td><td>--</td><td>1</td><td>--</td><td>--</td><td>--</td><td>0.0237</td><td>0</td><td>0</td><td>1</td><td>0.007891582 .. 0.015809549</td><td>-- .. --</td><td>-- .. --</td><td>a</td><td>4.51</td><td>0.245</td><td>18.4</td><td>11.1</td><td>0.467</td><td>23.8</td><td>14.2</td><td>0.623</td><td>22.8</td><td>2.46</td><td>1.28</td><td>--</td><td>--</td><td>--</td><td>--</td><td>1</td><td>--</td><td>--</td><td>--</td><td>--</td><td>1</td><td>--</td><td>--</td><td>--</td><td>0</td><td>0</td><td>0</td><td>0.027</td><td>0.0056441776 .. 0.027672721</td><td>-- .. --</td><td>-- .. --</td><td>266.5759583333333,-29.03085277777778</td><td>Field35</td><td>SFGC359.997-0.1770</td><td>SFGC359.997-0.1770</td><td>1</td><td>1</td><td>1</td><td>0</td><td>000</td><td>--</td><td>--</td><td>--</td><td>000</td><td>--</td><td>--</td><td>--</td><td>8</td><td>266.5759583333333,-29.030852777777778</td></tr>\n",
       "<tr><td>SFGC359.955-0.0671</td><td>17h45m46.43s</td><td>-29d00m35.63s</td><td>a</td><td>1.1</td><td>0.0562</td><td>19.7</td><td>3.12</td><td>0.112</td><td>27.7</td><td>4.57</td><td>0.169</td><td>27.1</td><td>2.82</td><td>1.47</td><td>--</td><td>--</td><td>--</td><td>--</td><td>1.0</td><td>--</td><td>--</td><td>--</td><td>--</td><td>1</td><td>--</td><td>--</td><td>--</td><td>0.0214</td><td>0</td><td>0</td><td>0</td><td>0.00422656 .. 0.019974025</td><td>-- .. --</td><td>-- .. --</td><td>a</td><td>2.95</td><td>0.162</td><td>18.2</td><td>6.68</td><td>0.31</td><td>21.5</td><td>7.76</td><td>0.413</td><td>18.8</td><td>2.26</td><td>1.16</td><td>6.05</td><td>0.28</td><td>21.6</td><td>1.52</td><td>0</td><td>5.95</td><td>0.316</td><td>18.8</td><td>1.25</td><td>0</td><td>11.8</td><td>--</td><td>1.86</td><td>0</td><td>0</td><td>0</td><td>0.0283</td><td>0.0062176134 .. 0.006854685</td><td>-0.0073892223 .. 0.027077286</td><td>-0.010520372 .. 0.020889463</td><td>266.4434583333333,-29.009897222222225</td><td>Field37</td><td>SFGC359.955-0.0671</td><td>SFGC359.955-0.0671</td><td>1</td><td>1</td><td>1</td><td>0</td><td>000</td><td>--</td><td>--</td><td>--</td><td>000</td><td>--</td><td>--</td><td>--</td><td>9</td><td>266.4434583333333,-29.00989722222222</td></tr>\n",
       "<tr><td>...</td><td>...</td><td>...</td><td>...</td><td>...</td><td>...</td><td>...</td><td>...</td><td>...</td><td>...</td><td>...</td><td>...</td><td>...</td><td>...</td><td>...</td><td>...</td><td>...</td><td>...</td><td>...</td><td>...</td><td>...</td><td>...</td><td>...</td><td>...</td><td>...</td><td>...</td><td>...</td><td>...</td><td>...</td><td>...</td><td>...</td><td>...</td><td>...</td><td>...</td><td>...</td><td>...</td><td>...</td><td>...</td><td>...</td><td>...</td><td>...</td><td>...</td><td>...</td><td>...</td><td>...</td><td>...</td><td>...</td><td>...</td><td>...</td><td>...</td><td>...</td><td>...</td><td>...</td><td>...</td><td>...</td><td>...</td><td>...</td><td>...</td><td>...</td><td>...</td><td>...</td><td>...</td><td>...</td><td>...</td><td>...</td><td>...</td><td>...</td><td>...</td><td>...</td><td>...</td><td>...</td><td>...</td><td>...</td><td>...</td><td>...</td><td>...</td><td>...</td><td>...</td><td>...</td><td>...</td><td>...</td><td>...</td><td>...</td><td>...</td><td>...</td></tr>\n",
       "<tr><td>SFGC0.584-0.0385</td><td>17h47m09.22s</td><td>-28d27m26.62s</td><td>a</td><td>--</td><td>--</td><td>--</td><td>--</td><td>--</td><td>--</td><td>--</td><td>--</td><td>--</td><td>--</td><td>--</td><td>--</td><td>--</td><td>--</td><td>--</td><td>1.0</td><td>0.196</td><td>0.0465</td><td>4.21</td><td>2.1</td><td>0</td><td>3.03</td><td>--</td><td>3.88</td><td>0.0214</td><td>0</td><td>0</td><td>0</td><td>0.006060741 .. 0.001687086</td><td>-- .. --</td><td>-0.003107685 .. -0.0057734414</td><td>g</td><td>2</td><td>0.201</td><td>9.94</td><td>3.24</td><td>0.384</td><td>8.45</td><td>4.06</td><td>0.512</td><td>7.93</td><td>1.62</td><td>1.25</td><td>--</td><td>--</td><td>--</td><td>--</td><td>1</td><td>3.13</td><td>0.231</td><td>13.6</td><td>1.45</td><td>0</td><td>6.93</td><td>2.11</td><td>1.05</td><td>0</td><td>0</td><td>0</td><td>0.0283</td><td>0.00246694 .. 0.0062188604</td><td>-- .. --</td><td>-0.0021393276 .. -0.004126311</td><td>266.78841666666665,-28.457394444444443</td><td>Field04</td><td>--</td><td>SFGC0.584-0.0385</td><td>--</td><td>--</td><td>--</td><td>--</td><td>111</td><td>0.195</td><td>0.389</td><td>0.584</td><td>000</td><td>--</td><td>--</td><td>--</td><td>941</td><td>266.78841666666665,-28.457394444444443</td></tr>\n",
       "<tr><td>SFGC0.598-0.0453</td><td>17h47m12.80s</td><td>-28d26m55.17s</td><td>a</td><td>1.81</td><td>0.23</td><td>7.85</td><td>7.53</td><td>0.461</td><td>16.4</td><td>19.8</td><td>0.691</td><td>28.7</td><td>4.17</td><td>2.63</td><td>--</td><td>--</td><td>--</td><td>--</td><td>1.0</td><td>--</td><td>--</td><td>--</td><td>--</td><td>1</td><td>--</td><td>--</td><td>--</td><td>0.0214</td><td>0</td><td>1</td><td>0</td><td>0.011279235 .. 0.022101989</td><td>-- .. --</td><td>-- .. --</td><td>a</td><td>11.8</td><td>0.922</td><td>12.8</td><td>48.2</td><td>1.76</td><td>27.3</td><td>95.3</td><td>2.35</td><td>40.6</td><td>4.07</td><td>1.98</td><td>37.4</td><td>2.03</td><td>18.4</td><td>5.01</td><td>0</td><td>--</td><td>--</td><td>--</td><td>--</td><td>1</td><td>26</td><td>--</td><td>--</td><td>0</td><td>1</td><td>0</td><td>0.0283</td><td>0.033691466 .. 0.06135898</td><td>-0.08368097 .. 0.0035215367</td><td>-- .. --</td><td>266.8033333333333,-28.448658333333334</td><td>Field04</td><td>--</td><td>SFGC0.598-0.0453</td><td>--</td><td>--</td><td>--</td><td>--</td><td>000</td><td>--</td><td>--</td><td>--</td><td>000</td><td>--</td><td>--</td><td>--</td><td>942</td><td>266.8033333333333,-28.448658333333334</td></tr>\n",
       "<tr><td>SFGC0.608-0.0474</td><td>17h47m14.71s</td><td>-28d26m28.57s</td><td>a</td><td>0.896</td><td>0.248</td><td>3.61</td><td>2.88</td><td>0.496</td><td>5.81</td><td>6</td><td>0.744</td><td>8.07</td><td>3.21</td><td>2.09</td><td>--</td><td>--</td><td>--</td><td>--</td><td>1.0</td><td>4.04</td><td>0.714</td><td>5.66</td><td>1.86</td><td>0</td><td>12.7</td><td>--</td><td>1.21</td><td>0.0214</td><td>1</td><td>1</td><td>0</td><td>0.04877033 .. 0.009715956</td><td>-- .. --</td><td>-0.0012639214 .. 0.00063276035</td><td>a</td><td>3.52</td><td>1</td><td>3.51</td><td>11.3</td><td>1.91</td><td>5.94</td><td>19.7</td><td>2.55</td><td>7.74</td><td>3.23</td><td>1.74</td><td>--</td><td>--</td><td>--</td><td>--</td><td>1</td><td>9.11</td><td>2.94</td><td>3.1</td><td>1.67</td><td>0</td><td>17.8</td><td>--</td><td>1.62</td><td>1</td><td>0</td><td>0</td><td>0.0283</td><td>0.09177378 .. 0.0028818536</td><td>-- .. --</td><td>-0.0029147717 .. 0.009932723</td><td>266.81129166666665,-28.441269444444444</td><td>Field03</td><td>--</td><td>SFGC0.608-0.0474</td><td>--</td><td>--</td><td>--</td><td>--</td><td>000</td><td>--</td><td>--</td><td>--</td><td>000</td><td>--</td><td>--</td><td>--</td><td>943</td><td>266.81129166666665,-28.441269444444444</td></tr>\n",
       "<tr><td>SFGC0.623-0.0615</td><td>17h47m20.15s</td><td>-28d26m08.18s</td><td>a</td><td>0.331</td><td>0.0494</td><td>6.71</td><td>0.753</td><td>0.0988</td><td>7.62</td><td>0.69</td><td>0.148</td><td>4.66</td><td>2.27</td><td>0.917</td><td>--</td><td>--</td><td>--</td><td>--</td><td>1.0</td><td>0.985</td><td>0.102</td><td>9.66</td><td>1.35</td><td>0</td><td>9.08</td><td>--</td><td>2.57</td><td>0.0214</td><td>0</td><td>0</td><td>0</td><td>0.0006631533 .. 0.00200384</td><td>-- .. --</td><td>-0.004558163 .. 0.008029722</td><td>a</td><td>2.8</td><td>0.117</td><td>23.9</td><td>5.99</td><td>0.224</td><td>26.7</td><td>7.17</td><td>0.299</td><td>24</td><td>2.14</td><td>1.2</td><td>--</td><td>--</td><td>--</td><td>--</td><td>1</td><td>5.47</td><td>0.193</td><td>28.3</td><td>1.34</td><td>0</td><td>9.95</td><td>--</td><td>1.3</td><td>0</td><td>0</td><td>0</td><td>0.0283</td><td>-0.0139447795 .. 0.006756906</td><td>-- .. --</td><td>-0.02074811 .. 0.0029895466</td><td>266.8339583333333,-28.435605555555554</td><td>Field03</td><td>--</td><td>SFGC0.623-0.0615</td><td>--</td><td>--</td><td>--</td><td>--</td><td>000</td><td>--</td><td>--</td><td>--</td><td>000</td><td>--</td><td>--</td><td>--</td><td>944</td><td>266.8339583333333,-28.435605555555554</td></tr>\n",
       "<tr><td>SFGC0.636-0.0209</td><td>17h47m12.43s</td><td>-28d24m14.15s</td><td>a</td><td>0.397</td><td>0.0817</td><td>4.86</td><td>0.839</td><td>0.163</td><td>5.14</td><td>1.3</td><td>0.245</td><td>5.32</td><td>2.12</td><td>1.55</td><td>1.08</td><td>0.0824</td><td>13.1</td><td>1.36</td><td>0.0</td><td>1.11</td><td>0.187</td><td>5.94</td><td>1.35</td><td>0</td><td>10</td><td>--</td><td>1.26</td><td>0.0214</td><td>0</td><td>0</td><td>0</td><td>0.02448917 .. 0.0017863067</td><td>0.015941571 .. -0.006822668</td><td>0.015875526 .. -0.0062381104</td><td>a</td><td>2.08</td><td>0.472</td><td>4.41</td><td>4.68</td><td>0.902</td><td>5.19</td><td>6.9</td><td>1.2</td><td>5.74</td><td>2.25</td><td>1.47</td><td>3.94</td><td>0.724</td><td>5.45</td><td>1.81</td><td>0</td><td>3.92</td><td>0.766</td><td>5.12</td><td>1.56</td><td>0</td><td>9.81</td><td>--</td><td>2</td><td>0</td><td>0</td><td>0</td><td>0.0283</td><td>0.10238773 .. -0.0041028815</td><td>0.023820875 .. -0.023283547</td><td>0.01616661 .. -0.02677526</td><td>266.80179166666665,-28.403930555555558</td><td>Field03</td><td>--</td><td>SFGC0.636-0.0209</td><td>--</td><td>--</td><td>--</td><td>--</td><td>000</td><td>--</td><td>--</td><td>--</td><td>000</td><td>--</td><td>--</td><td>--</td><td>945</td><td>266.80179166666665,-28.403930555555554</td></tr>\n",
       "<tr><td>SFGC0.645-0.0413</td><td>17h47m18.53s</td><td>-28d24m23.15s</td><td>a</td><td>0.265</td><td>0.0439</td><td>6.04</td><td>0.705</td><td>0.0878</td><td>8.03</td><td>1.19</td><td>0.132</td><td>9.07</td><td>2.66</td><td>1.69</td><td>0.824</td><td>0.0574</td><td>14.3</td><td>1.22</td><td>0.0</td><td>0.817</td><td>0.19</td><td>4.29</td><td>1.09</td><td>0</td><td>19.1</td><td>--</td><td>13.2</td><td>0.0214</td><td>1</td><td>0</td><td>0</td><td>0.0012395487 .. -0.009713518</td><td>0.002345207 .. -3.3755336e-05</td><td>0.0032379467 .. 0.0017057823</td><td>g</td><td>3.77</td><td>0.142</td><td>26.5</td><td>6.82</td><td>0.272</td><td>25.1</td><td>7.73</td><td>0.363</td><td>21.3</td><td>1.81</td><td>1.13</td><td>6.15</td><td>0.143</td><td>43.1</td><td>1.9</td><td>0</td><td>6.07</td><td>0.185</td><td>32.7</td><td>1.56</td><td>0</td><td>7.86</td><td>1.24</td><td>1.58</td><td>0</td><td>0</td><td>0</td><td>0.0283</td><td>0.018213322 .. 0.010447741</td><td>-0.0044285045 .. -0.0009069219</td><td>-6.54139e-05 .. 0.0029483454</td><td>266.8272083333334,-28.406430555555556</td><td>Field03</td><td>--</td><td>SFGC0.645-0.0413</td><td>--</td><td>--</td><td>--</td><td>--</td><td>000</td><td>--</td><td>--</td><td>--</td><td>000</td><td>--</td><td>--</td><td>--</td><td>946</td><td>266.8272083333334,-28.406430555555556</td></tr>\n",
       "<tr><td>SFGC0.649-0.0867</td><td>17h47m29.65s</td><td>-28d25m36.19s</td><td>g</td><td>0.421</td><td>0.0787</td><td>5.35</td><td>0.845</td><td>0.157</td><td>5.37</td><td>--</td><td>--</td><td>--</td><td>2.01</td><td>--</td><td>--</td><td>--</td><td>--</td><td>--</td><td>1.0</td><td>0.966</td><td>0.121</td><td>7.99</td><td>1.82</td><td>0</td><td>6.75</td><td>6.46</td><td>1.48</td><td>0.0214</td><td>0</td><td>0</td><td>0</td><td>0.010048633 .. -0.008900119</td><td>-- .. --</td><td>0.005382017 .. -0.0003075498</td><td>a</td><td>1.01</td><td>0.297</td><td>3.4</td><td>--</td><td>--</td><td>--</td><td>--</td><td>--</td><td>--</td><td>--</td><td>--</td><td>1.76</td><td>0.364</td><td>4.83</td><td>3.75</td><td>0</td><td>1.45</td><td>0.255</td><td>5.68</td><td>3.68</td><td>0</td><td>5.2</td><td>--</td><td>2.42</td><td>0</td><td>0</td><td>0</td><td>0.0283</td><td>0.07526267 .. -0.0014229667</td><td>-0.009933128 .. -0.021649253</td><td>-0.009453942 .. -0.021678956</td><td>266.87354166666665,-28.426719444444444</td><td>Field02</td><td>--</td><td>SFGC0.649-0.0867</td><td>--</td><td>--</td><td>--</td><td>--</td><td>001</td><td>--</td><td>--</td><td>0.771</td><td>011</td><td>--</td><td>1.83</td><td>2.44</td><td>947</td><td>266.87354166666665,-28.426719444444444</td></tr>\n",
       "<tr><td>SFGC0.671-0.0419</td><td>17h47m22.30s</td><td>-28d23m05.44s</td><td>a</td><td>0.758</td><td>0.104</td><td>7.33</td><td>2.22</td><td>0.207</td><td>10.7</td><td>2.58</td><td>0.311</td><td>8.32</td><td>2.92</td><td>1.17</td><td>2.41</td><td>0.178</td><td>13.6</td><td>1.91</td><td>0.0</td><td>2.52</td><td>0.208</td><td>12.1</td><td>1.55</td><td>0</td><td>8.84</td><td>--</td><td>2.48</td><td>0.0214</td><td>0</td><td>0</td><td>0</td><td>0.0020642637 .. -0.010091871</td><td>-0.00406073 .. -0.009509405</td><td>-0.0023189965 .. -0.008181876</td><td>a</td><td>8.88</td><td>0.579</td><td>15.3</td><td>23.4</td><td>1.11</td><td>21.1</td><td>32.5</td><td>1.47</td><td>22</td><td>2.63</td><td>1.39</td><td>--</td><td>--</td><td>--</td><td>--</td><td>1</td><td>--</td><td>--</td><td>--</td><td>--</td><td>1</td><td>--</td><td>--</td><td>--</td><td>0</td><td>1</td><td>0</td><td>0.0283</td><td>0.011925301 .. 0.07435048</td><td>-- .. --</td><td>-- .. --</td><td>266.8429166666666,-28.384844444444443</td><td>Field01</td><td>--</td><td>SFGC0.671-0.0419</td><td>--</td><td>--</td><td>--</td><td>--</td><td>000</td><td>--</td><td>--</td><td>--</td><td>000</td><td>--</td><td>--</td><td>--</td><td>948</td><td>266.8429166666666,-28.384844444444443</td></tr>\n",
       "<tr><td>SFGC0.677-0.0267</td><td>17h47m19.65s</td><td>-28d22m17.39s</td><td>a</td><td>--</td><td>--</td><td>--</td><td>--</td><td>--</td><td>--</td><td>--</td><td>--</td><td>--</td><td>--</td><td>--</td><td>--</td><td>--</td><td>--</td><td>--</td><td>1.0</td><td>--</td><td>--</td><td>--</td><td>--</td><td>1</td><td>--</td><td>--</td><td>--</td><td>0.0214</td><td>0</td><td>0</td><td>1</td><td>-0.015196421 .. -0.019726224</td><td>-- .. --</td><td>-- .. --</td><td>g</td><td>5.95</td><td>0.271</td><td>22</td><td>10.8</td><td>0.517</td><td>20.9</td><td>11.7</td><td>0.69</td><td>16.9</td><td>1.82</td><td>1.08</td><td>--</td><td>--</td><td>--</td><td>--</td><td>1</td><td>10.4</td><td>0.381</td><td>27.3</td><td>1.17</td><td>0</td><td>8.49</td><td>1.87</td><td>1.59</td><td>0</td><td>0</td><td>1</td><td>0.0283</td><td>0.0059511703 .. 0.011820818</td><td>-- .. --</td><td>0.028110461 .. 0.004298289</td><td>266.83187499999997,-28.371497222222224</td><td>Field01</td><td>--</td><td>SFGC0.677-0.0267</td><td>--</td><td>--</td><td>--</td><td>--</td><td>111</td><td>0.327</td><td>0.654</td><td>0.98</td><td>000</td><td>--</td><td>--</td><td>--</td><td>949</td><td>266.83187499999997,-28.371497222222224</td></tr>\n",
       "<tr><td>SFGC0.694-0.0388</td><td>17h47m24.82s</td><td>-28d21m48.34s</td><td>a</td><td>--</td><td>--</td><td>--</td><td>--</td><td>--</td><td>--</td><td>--</td><td>--</td><td>--</td><td>--</td><td>--</td><td>--</td><td>--</td><td>--</td><td>--</td><td>1.0</td><td>--</td><td>--</td><td>--</td><td>--</td><td>1</td><td>--</td><td>--</td><td>--</td><td>0.0214</td><td>0</td><td>0</td><td>0</td><td>0.029547896 .. -0.010599544</td><td>-- .. --</td><td>-- .. --</td><td>a</td><td>1.65</td><td>0.378</td><td>4.36</td><td>3.6</td><td>0.722</td><td>4.98</td><td>5.07</td><td>0.963</td><td>5.27</td><td>2.18</td><td>1.41</td><td>3.17</td><td>0.214</td><td>14.8</td><td>1.06</td><td>0</td><td>2.93</td><td>0.519</td><td>5.65</td><td>1.01</td><td>0</td><td>8.29</td><td>--</td><td>2.28</td><td>0</td><td>0</td><td>0</td><td>0.0283</td><td>0.11768225 .. -0.016305959</td><td>0.00071189494 .. -0.013451038</td><td>0.0040368433 .. -0.013443159</td><td>266.85341666666665,-28.36342777777778</td><td>Field01</td><td>--</td><td>SFGC0.694-0.0388</td><td>--</td><td>--</td><td>--</td><td>--</td><td>111</td><td>0.277</td><td>0.555</td><td>0.832</td><td>000</td><td>--</td><td>--</td><td>--</td><td>950</td><td>266.85341666666665,-28.36342777777778</td></tr>\n",
       "</table></div>"
      ],
      "text/plain": [
       "<Table length=950>\n",
       "     SourceID       RA(J2000)   ...   id                skycoords               \n",
       "                                ...                      deg,deg                \n",
       "     bytes18         bytes12    ... int32                 object                \n",
       "------------------ ------------ ... ----- --------------------------------------\n",
       "  SFGC0.642-0.0920 17h47m29.98s ...     1  266.8749166666667,-28.435030555555556\n",
       "SFGC359.917-0.0411 17h45m34.98s ...     2           266.39574999999996,-29.02835\n",
       "  SFGC0.639-0.0744 17h47m25.45s ...     3  266.85604166666667,-28.42843888888889\n",
       "  SFGC0.036-0.1818 17h46m24.88s ...     4  266.60366666666664,-29.00037222222222\n",
       "  SFGC0.002-0.1756 17h46m18.60s ...     5            266.5775,-29.02603611111111\n",
       "SFGC359.547-0.0525 17h44m44.48s ...     6  266.1853333333333,-29.350391666666667\n",
       "  SFGC0.185-0.0606 17h46m17.82s ...     7  266.57424999999995,-28.80950277777778\n",
       "SFGC359.997-0.1770 17h46m18.23s ...     8  266.5759583333333,-29.030852777777778\n",
       "SFGC359.955-0.0671 17h45m46.43s ...     9   266.4434583333333,-29.00989722222222\n",
       "               ...          ... ...   ...                                    ...\n",
       "  SFGC0.584-0.0385 17h47m09.22s ...   941 266.78841666666665,-28.457394444444443\n",
       "  SFGC0.598-0.0453 17h47m12.80s ...   942  266.8033333333333,-28.448658333333334\n",
       "  SFGC0.608-0.0474 17h47m14.71s ...   943 266.81129166666665,-28.441269444444444\n",
       "  SFGC0.623-0.0615 17h47m20.15s ...   944  266.8339583333333,-28.435605555555554\n",
       "  SFGC0.636-0.0209 17h47m12.43s ...   945 266.80179166666665,-28.403930555555554\n",
       "  SFGC0.645-0.0413 17h47m18.53s ...   946  266.8272083333334,-28.406430555555556\n",
       "  SFGC0.649-0.0867 17h47m29.65s ...   947 266.87354166666665,-28.426719444444444\n",
       "  SFGC0.671-0.0419 17h47m22.30s ...   948  266.8429166666666,-28.384844444444443\n",
       "  SFGC0.677-0.0267 17h47m19.65s ...   949 266.83187499999997,-28.371497222222224\n",
       "  SFGC0.694-0.0388 17h47m24.82s ...   950  266.85341666666665,-28.36342777777778"
      ]
     },
     "execution_count": 53,
     "metadata": {},
     "output_type": "execute_result"
    }
   ],
   "source": [
    "mcat"
   ]
  },
  {
   "cell_type": "code",
   "execution_count": 54,
   "id": "e2573194",
   "metadata": {},
   "outputs": [],
   "source": [
    "#mcat[mcat['id']==11]"
   ]
  },
  {
   "cell_type": "code",
   "execution_count": 55,
   "id": "b4189eb7",
   "metadata": {},
   "outputs": [],
   "source": [
    "#mcat[mcat['id']==12]"
   ]
  },
  {
   "cell_type": "markdown",
   "id": "eee52806",
   "metadata": {},
   "source": [
    "## Use astroquery to pull down the SSTGC catalog"
   ]
  },
  {
   "cell_type": "code",
   "execution_count": 56,
   "id": "385e6268",
   "metadata": {},
   "outputs": [
    {
     "name": "stdout",
     "output_type": "stream",
     "text": [
      "{'II/295': 'Spitzer IRAC survey of the galactic center (Ramirez+, 2008)', 'J/ApJ/685/958': 'Spitzer and Chandra sources in galactic center (Arendt+ 2008)'}\n",
      "TableList with 3 tables:\n",
      "\t'0:II/295/SSTGC' with 12 column(s) and 1000000 row(s) \n",
      "\t'1:II/295/GC-IRAC' with 8 column(s) and 1000000 row(s) \n",
      "\t'2:J/ApJ/685/958/table7' with 13 column(s) and 115 row(s) \n",
      " SSTGC    RAJ2000     DEJ2000    Jmag    Hmag   ... _5.8mag _8.0mag IRAC _2M\n",
      "          \"h:m:s\"     \"d:m:s\"    mag     mag    ...   mag     mag           \n",
      "------- ----------- ----------- ------ -------- ... ------- ------- ---- ---\n",
      "0000001 17 40 10.53 -29 32 49.2 16.204   13.493 ...      --      -- IRAC  2M\n",
      "0000002 17 40 10.62 -29 31 46.3 14.699   13.021 ...      --      -- IRAC  2M\n",
      "0000003 17 40 10.69 -29 32 57.4 14.558   12.976 ...      --      -- IRAC  2M\n",
      "0000004 17 40 10.69 -29 30 49.5 14.059   11.925 ...      --      -- IRAC  2M\n",
      "0000005 17 40 10.70 -29 31 12.1 13.900   13.339 ...      --      -- IRAC  2M\n",
      "0000006 17 40 10.70 -29 31 39.0 15.886   13.522 ...      --      -- IRAC  2M\n",
      "0000007 17 40 10.71 -29 26 06.8 13.135   11.176 ...      --      -- IRAC  2M\n",
      "0000008 17 40 10.71 -29 31 01.5 12.169   10.103 ...      --      -- IRAC  2M\n",
      "0000009 17 40 10.72 -29 24 55.2 13.318   11.258 ...      --      -- IRAC  2M\n",
      "0000010 17 40 10.72 -29 25 40.5 14.723   12.647 ...      --      -- IRAC  2M\n",
      "    ...         ...         ...    ...      ... ...     ...     ...  ... ...\n",
      "0999991 17 49 32.29 -28 48 13.2 15.317   15.115 ...      --      -- IRAC  2M\n",
      "0999992 17 49 32.30 -28 10 53.4 15.479   14.162 ...      --      -- IRAC  2M\n",
      "0999993 17 49 32.30 -28 19 17.5     --       -- ...      --      -- IRAC  2M\n",
      "0999994 17 49 32.30 -28 04 16.8 15.190   12.628 ...  10.421      -- IRAC  2M\n",
      "0999995 17 49 32.30 -28 06 20.2 14.913   12.318 ...  10.154      -- IRAC  2M\n",
      "0999996 17 49 32.30 -28 13 32.8 12.918    9.988 ...   7.094   7.153 IRAC  2M\n",
      "0999997 17 49 32.30 -28 37 46.6 14.892   13.232 ...  11.917      -- IRAC  2M\n",
      "0999998 17 49 32.30 -28 09 38.6 16.066   13.387 ...      --      -- IRAC  2M\n",
      "0999999 17 49 32.30 -28 24 29.6 14.732   13.207 ...  11.453      -- IRAC  2M\n",
      "1000000 17 49 32.30 -28 35 45.3 13.011   11.496 ...   9.590   9.625 IRAC  2M\n",
      "Length = 1000000 rows\n"
     ]
    }
   ],
   "source": [
    "#online catalog query\n",
    "catalog_list = Vizier.find_catalogs('Spitzer IRAC survey of the galactic center')\n",
    "print({k:v.description for k,v in catalog_list.items()})\n",
    "\n",
    "#get the SSTGC catalog\n",
    "Vizier.ROW_LIMIT = 1000000 #increased by factor of 10, otherwise no matches are returned\n",
    "catalog_irac = Vizier.get_catalogs(catalog_list.keys())\n",
    "print(catalog_irac)\n",
    "\n",
    "sstgc = catalog_irac['II/295/SSTGC']\n",
    "print(sstgc) "
   ]
  },
  {
   "cell_type": "code",
   "execution_count": 57,
   "id": "039e69bf",
   "metadata": {},
   "outputs": [],
   "source": [
    "#only select sources with 8um counterparts\n",
    "sstgc8um=sstgc[np.isnan(sstgc[\"_8.0mag\"])==False]\n",
    "\n",
    "#sstgc8um"
   ]
  },
  {
   "cell_type": "code",
   "execution_count": 58,
   "id": "6d915d2a",
   "metadata": {
    "scrolled": true
   },
   "outputs": [
    {
     "data": {
      "text/html": [
       "<div><i>Table length=304346</i>\n",
       "<table id=\"table2644555165760\" class=\"table-striped table-bordered table-condensed\">\n",
       "<thead><tr><th>SSTGC</th><th>RAJ2000</th><th>DEJ2000</th><th>Jmag</th><th>Hmag</th><th>Ksmag</th><th>_3.6mag</th><th>_4.5mag</th><th>_5.8mag</th><th>_8.0mag</th><th>IRAC</th><th>_2M</th><th>skycoords</th></tr></thead>\n",
       "<thead><tr><th></th><th>&quot;h:m:s&quot;</th><th>&quot;d:m:s&quot;</th><th>mag</th><th>mag</th><th>mag</th><th>mag</th><th>mag</th><th>mag</th><th>mag</th><th></th><th></th><th>deg,deg</th></tr></thead>\n",
       "<thead><tr><th>str7</th><th>str11</th><th>str11</th><th>float32</th><th>float32</th><th>float32</th><th>float32</th><th>float32</th><th>float32</th><th>float32</th><th>str4</th><th>str2</th><th>object</th></tr></thead>\n",
       "<tr><td>0000181</td><td>17 40 12.19</td><td>-29 32 20.3</td><td>--</td><td>--</td><td>--</td><td>--</td><td>--</td><td>--</td><td>10.702</td><td>IRAC</td><td>2M</td><td>265.05079166666667,-29.538972222222224</td></tr>\n",
       "<tr><td>0000192</td><td>17 40 12.23</td><td>-29 27 46.4</td><td>13.988</td><td>12.000</td><td>11.264</td><td>--</td><td>10.861</td><td>--</td><td>11.033</td><td>IRAC</td><td>2M</td><td>265.0509583333333,-29.462888888888887</td></tr>\n",
       "<tr><td>0000200</td><td>17 40 12.28</td><td>-29 23 20.8</td><td>12.667</td><td>11.304</td><td>10.812</td><td>--</td><td>--</td><td>--</td><td>10.347</td><td>IRAC</td><td>2M</td><td>265.05116666666663,-29.38911111111111</td></tr>\n",
       "<tr><td>0000267</td><td>17 40 12.60</td><td>-29 23 17.5</td><td>11.468</td><td>10.482</td><td>10.148</td><td>--</td><td>--</td><td>--</td><td>9.785</td><td>IRAC</td><td>2M</td><td>265.05249999999995,-29.388194444444444</td></tr>\n",
       "<tr><td>0000268</td><td>17 40 12.60</td><td>-29 27 53.2</td><td>12.378</td><td>10.224</td><td>9.276</td><td>--</td><td>8.534</td><td>--</td><td>8.562</td><td>IRAC</td><td>2M</td><td>265.05249999999995,-29.464777777777776</td></tr>\n",
       "<tr><td>0000280</td><td>17 40 12.69</td><td>-29 23 06.6</td><td>12.528</td><td>10.470</td><td>9.560</td><td>--</td><td>9.092</td><td>--</td><td>8.908</td><td>IRAC</td><td>2M</td><td>265.052875,-29.385166666666667</td></tr>\n",
       "<tr><td>0000337</td><td>17 40 13.00</td><td>-29 23 16.3</td><td>13.133</td><td>12.774</td><td>12.063</td><td>--</td><td>--</td><td>--</td><td>11.650</td><td>IRAC</td><td>2M</td><td>265.0541666666667,-29.38786111111111</td></tr>\n",
       "<tr><td>0000341</td><td>17 40 13.01</td><td>-29 32 43.5</td><td>11.820</td><td>9.748</td><td>8.869</td><td>--</td><td>--</td><td>--</td><td>8.199</td><td>IRAC</td><td>2M</td><td>265.05420833333335,-29.545416666666668</td></tr>\n",
       "<tr><td>0000371</td><td>17 40 13.16</td><td>-29 23 19.2</td><td>13.682</td><td>12.323</td><td>11.510</td><td>--</td><td>--</td><td>--</td><td>10.896</td><td>IRAC</td><td>2M</td><td>265.05483333333336,-29.388666666666666</td></tr>\n",
       "<tr><td>...</td><td>...</td><td>...</td><td>...</td><td>...</td><td>...</td><td>...</td><td>...</td><td>...</td><td>...</td><td>...</td><td>...</td><td>...</td></tr>\n",
       "<tr><td>0999969</td><td>17 49 32.27</td><td>-28 38 30.9</td><td>12.664</td><td>10.832</td><td>9.930</td><td>9.297</td><td>9.505</td><td>9.202</td><td>9.276</td><td>IRAC</td><td>2M</td><td>267.3844583333333,-28.641916666666667</td></tr>\n",
       "<tr><td>0999972</td><td>17 49 32.27</td><td>-28 54 22.5</td><td>14.713</td><td>11.201</td><td>9.493</td><td>8.442</td><td>8.559</td><td>8.106</td><td>8.194</td><td>IRAC</td><td>2M</td><td>267.3844583333333,-28.90625</td></tr>\n",
       "<tr><td>0999973</td><td>17 49 32.28</td><td>-29 03 41.9</td><td>11.002</td><td>8.799</td><td>7.614</td><td>--</td><td>6.506</td><td>--</td><td>6.210</td><td>IRAC</td><td>2M</td><td>267.38449999999995,-29.06163888888889</td></tr>\n",
       "<tr><td>0999977</td><td>17 49 32.28</td><td>-28 14 07.6</td><td>13.692</td><td>10.835</td><td>9.537</td><td>8.636</td><td>8.616</td><td>8.328</td><td>8.431</td><td>IRAC</td><td>2M</td><td>267.38449999999995,-28.235444444444447</td></tr>\n",
       "<tr><td>0999979</td><td>17 49 32.28</td><td>-28 40 53.1</td><td>15.916</td><td>13.037</td><td>11.851</td><td>11.009</td><td>11.080</td><td>10.444</td><td>9.721</td><td>IRAC</td><td>2M</td><td>267.38449999999995,-28.681416666666667</td></tr>\n",
       "<tr><td>0999982</td><td>17 49 32.28</td><td>-28 12 57.5</td><td>14.975</td><td>12.062</td><td>10.746</td><td>9.863</td><td>9.797</td><td>9.691</td><td>9.721</td><td>IRAC</td><td>2M</td><td>267.38449999999995,-28.21597222222222</td></tr>\n",
       "<tr><td>0999984</td><td>17 49 32.29</td><td>-28 34 19.7</td><td>13.649</td><td>12.659</td><td>11.640</td><td>10.784</td><td>10.822</td><td>10.689</td><td>10.755</td><td>IRAC</td><td>2M</td><td>267.3845416666667,-28.57213888888889</td></tr>\n",
       "<tr><td>0999985</td><td>17 49 32.29</td><td>-28 37 07.6</td><td>12.754</td><td>12.447</td><td>12.210</td><td>12.014</td><td>11.968</td><td>11.934</td><td>11.522</td><td>IRAC</td><td>2M</td><td>267.3845416666667,-28.61877777777778</td></tr>\n",
       "<tr><td>0999996</td><td>17 49 32.30</td><td>-28 13 32.8</td><td>12.918</td><td>9.988</td><td>8.555</td><td>7.437</td><td>7.437</td><td>7.094</td><td>7.153</td><td>IRAC</td><td>2M</td><td>267.3845833333333,-28.225777777777775</td></tr>\n",
       "<tr><td>1000000</td><td>17 49 32.30</td><td>-28 35 45.3</td><td>13.011</td><td>11.496</td><td>10.493</td><td>9.718</td><td>9.789</td><td>9.590</td><td>9.625</td><td>IRAC</td><td>2M</td><td>267.3845833333333,-28.595916666666664</td></tr>\n",
       "</table></div>"
      ],
      "text/plain": [
       "<Table length=304346>\n",
       " SSTGC    RAJ2000     DEJ2000   ... _2M                skycoords               \n",
       "          \"h:m:s\"     \"d:m:s\"   ...                     deg,deg                \n",
       "  str7     str11       str11    ... str2                 object                \n",
       "------- ----------- ----------- ... ---- --------------------------------------\n",
       "0000181 17 40 12.19 -29 32 20.3 ...   2M 265.05079166666667,-29.538972222222224\n",
       "0000192 17 40 12.23 -29 27 46.4 ...   2M  265.0509583333333,-29.462888888888887\n",
       "0000200 17 40 12.28 -29 23 20.8 ...   2M  265.05116666666663,-29.38911111111111\n",
       "0000267 17 40 12.60 -29 23 17.5 ...   2M 265.05249999999995,-29.388194444444444\n",
       "0000268 17 40 12.60 -29 27 53.2 ...   2M 265.05249999999995,-29.464777777777776\n",
       "0000280 17 40 12.69 -29 23 06.6 ...   2M         265.052875,-29.385166666666667\n",
       "0000337 17 40 13.00 -29 23 16.3 ...   2M   265.0541666666667,-29.38786111111111\n",
       "0000341 17 40 13.01 -29 32 43.5 ...   2M 265.05420833333335,-29.545416666666668\n",
       "0000371 17 40 13.16 -29 23 19.2 ...   2M 265.05483333333336,-29.388666666666666\n",
       "    ...         ...         ... ...  ...                                    ...\n",
       "0999969 17 49 32.27 -28 38 30.9 ...   2M  267.3844583333333,-28.641916666666667\n",
       "0999972 17 49 32.27 -28 54 22.5 ...   2M            267.3844583333333,-28.90625\n",
       "0999973 17 49 32.28 -29 03 41.9 ...   2M  267.38449999999995,-29.06163888888889\n",
       "0999977 17 49 32.28 -28 14 07.6 ...   2M 267.38449999999995,-28.235444444444447\n",
       "0999979 17 49 32.28 -28 40 53.1 ...   2M 267.38449999999995,-28.681416666666667\n",
       "0999982 17 49 32.28 -28 12 57.5 ...   2M  267.38449999999995,-28.21597222222222\n",
       "0999984 17 49 32.29 -28 34 19.7 ...   2M   267.3845416666667,-28.57213888888889\n",
       "0999985 17 49 32.29 -28 37 07.6 ...   2M   267.3845416666667,-28.61877777777778\n",
       "0999996 17 49 32.30 -28 13 32.8 ...   2M  267.3845833333333,-28.225777777777775\n",
       "1000000 17 49 32.30 -28 35 45.3 ...   2M  267.3845833333333,-28.595916666666664"
      ]
     },
     "execution_count": 58,
     "metadata": {},
     "output_type": "execute_result"
    }
   ],
   "source": [
    "#add new skycoord object to the VIZIER table for crossmatching\n",
    "ras=sstgc8um[\"RAJ2000\"]\n",
    "decs=sstgc8um[\"DEJ2000\"]\n",
    "\n",
    "scobj=SkyCoord(ras,decs,unit=(u.hr,u.deg))\n",
    "sstgc8um[\"skycoords\"]=scobj\n",
    "\n",
    "#print catalog to see the new entry\n",
    "sstgc8um"
   ]
  },
  {
   "cell_type": "markdown",
   "id": "d1032e4b",
   "metadata": {},
   "source": [
    "## Perform cross match between tables for astrometry comparison"
   ]
  },
  {
   "cell_type": "code",
   "execution_count": 59,
   "id": "514b70f8",
   "metadata": {},
   "outputs": [
    {
     "name": "stdout",
     "output_type": "stream",
     "text": [
      "Number of crossmatched sources found:  721\n"
     ]
    }
   ],
   "source": [
    "SSTGCsources=sstgc8um['skycoords']\n",
    "mcatsources=mcat['skycoords']\n",
    "\n",
    "idx,rdx, d2d, d3d = mcatsources.search_around_sky(SSTGCsources, 5*u.arcsec) #use 5\" for plotting, 3\" for catalog matches\n",
    "\n",
    "print('Number of crossmatched sources found: ', len(idx))"
   ]
  },
  {
   "cell_type": "code",
   "execution_count": 60,
   "id": "2ef71f3b",
   "metadata": {},
   "outputs": [],
   "source": [
    "#create new tables containing only the crossmatched sources\n",
    "matchedSSTGC=sstgc8um[idx]\n",
    "matchedmcat=mcat[rdx]"
   ]
  },
  {
   "cell_type": "code",
   "execution_count": 61,
   "id": "58295525",
   "metadata": {},
   "outputs": [],
   "source": [
    "#idx"
   ]
  },
  {
   "cell_type": "code",
   "execution_count": 62,
   "id": "5206248c",
   "metadata": {},
   "outputs": [],
   "source": [
    "#d2d"
   ]
  },
  {
   "cell_type": "code",
   "execution_count": 63,
   "id": "2dcca55a",
   "metadata": {},
   "outputs": [
    {
     "name": "stdout",
     "output_type": "stream",
     "text": [
      "Average difference in RA:  7.547387887257015e-05 ,  Standard deviation of difference:  0.0005250971947427021\n",
      "Average difference in DEC:  -1.7602866389296777e-05 ,  Standard deviation of difference:  0.0004992696106775969\n"
     ]
    }
   ],
   "source": [
    "#Examine the positional accuracy of the cross match\n",
    "deltaRA=matchedmcat['skycoords'].ra.deg - matchedSSTGC['skycoords'].ra.deg\n",
    "deltaDEC=matchedmcat['skycoords'].dec.deg - matchedSSTGC['skycoords'].dec.deg\n",
    "\n",
    "print(\"Average difference in RA: \", np.mean(deltaRA), \",  Standard deviation of difference: \", np.std(deltaRA))\n",
    "print(\"Average difference in DEC: \", np.mean(deltaDEC), \",  Standard deviation of difference: \", np.std(deltaDEC))"
   ]
  },
  {
   "cell_type": "code",
   "execution_count": 64,
   "id": "fae48cc1",
   "metadata": {},
   "outputs": [
    {
     "name": "stdout",
     "output_type": "stream",
     "text": [
      "Average difference in RA:  0.271705963943204 ,  Standard deviation of difference:  1.8903499010723879\n",
      "Average difference in DEC:  -0.06337031900181403 ,  Standard deviation of difference:  1.797370598439061\n"
     ]
    }
   ],
   "source": [
    "#Examine the positional accuracy of the cross match\n",
    "deltaRA=matchedmcat['skycoords'].ra.arcsec - matchedSSTGC['skycoords'].ra.arcsec\n",
    "deltaDEC=matchedmcat['skycoords'].dec.arcsec - matchedSSTGC['skycoords'].dec.arcsec\n",
    "\n",
    "print(\"Average difference in RA: \", np.mean(deltaRA), \",  Standard deviation of difference: \", np.std(deltaRA))\n",
    "print(\"Average difference in DEC: \", np.mean(deltaDEC), \",  Standard deviation of difference: \", np.std(deltaDEC))"
   ]
  },
  {
   "cell_type": "code",
   "execution_count": 65,
   "id": "0cc9f89c",
   "metadata": {},
   "outputs": [
    {
     "data": {
      "image/png": "[encoded data removed]",
      "text/plain": [
       "<Figure size 576x576 with 3 Axes>"
      ]
     },
     "metadata": {
      "needs_background": "light"
     },
     "output_type": "display_data"
    }
   ],
   "source": [
    "#define a 'fancy' scatter+histogram plot\n",
    "def scatter_hist(x, y, ax, ax_histx, ax_histy):\n",
    "    # no labels\n",
    "    ax_histx.tick_params(axis=\"x\", labelbottom=False)\n",
    "    ax_histy.tick_params(axis=\"y\", labelleft=False)\n",
    "\n",
    "    # the scatter plot:\n",
    "    ax.scatter(x, y)\n",
    "\n",
    "    # now determine nice limits by hand:\n",
    "    binwidth = 0.25 #1e-4\n",
    "    xymax = max(np.max(np.abs(x)), np.max(np.abs(y)))\n",
    "    lim = (int(xymax/binwidth) + 1) * binwidth\n",
    "\n",
    "    bins = np.arange(-lim, lim + binwidth, binwidth)\n",
    "    ax_histx.hist(deltaRA, bins=bins)\n",
    "    ax_histy.hist(deltaDEC, bins=bins, orientation='horizontal')\n",
    "\n",
    "    \n",
    "    \n",
    "#make the scatter+hist plot for position x-match\n",
    "plt.rcParams.update({'font.size': 14})\n",
    "\n",
    "# definitions for the axes\n",
    "left, width = 0.1, 0.65\n",
    "bottom, height = 0.1, 0.65\n",
    "spacing = 0.02\n",
    "\n",
    "\n",
    "rect_scatter = [left, bottom, width, height]\n",
    "rect_histx = [left, bottom + height + spacing, width, 0.2]\n",
    "rect_histy = [left + width + spacing, bottom, 0.2, height]\n",
    "\n",
    "# start with a square Figure\n",
    "fig = plt.figure(figsize=(8, 8))\n",
    "\n",
    "ax = fig.add_axes(rect_scatter)\n",
    "ax_histx = fig.add_axes(rect_histx, sharex=ax)\n",
    "ax_histy = fig.add_axes(rect_histy, sharey=ax)\n",
    "\n",
    "# use the previously defined function\n",
    "scatter_hist(deltaRA, deltaDEC, ax, ax_histx, ax_histy)\n",
    "\n",
    "ax.set_xlabel('RA Difference (\\\")')\n",
    "ax.set_ylabel('DEC Difference (\\\")')\n",
    "\n",
    "plt.show()\n"
   ]
  },
  {
   "cell_type": "code",
   "execution_count": null,
   "id": "726630fc",
   "metadata": {},
   "outputs": [],
   "source": []
  },
  {
   "cell_type": "code",
   "execution_count": 66,
   "id": "4c637064",
   "metadata": {},
   "outputs": [
    {
     "data": {
      "text/plain": [
       "array([102975, 115376, 125886, 133907, 138829, 151192, 153484, 154040,\n",
       "       164887, 166496, 166935, 166987, 167488, 170938, 185769, 186318,\n",
       "       190630, 192191, 192478, 193776, 195918, 229410, 232467, 234645,\n",
       "       239278, 240916, 240989])"
      ]
     },
     "execution_count": 66,
     "metadata": {},
     "output_type": "execute_result"
    }
   ],
   "source": [
    "#idx\n",
    "w, c = np.unique(idx, return_counts=True)\n",
    "w[c > 1]"
   ]
  },
  {
   "cell_type": "code",
   "execution_count": 67,
   "id": "77e4eadf",
   "metadata": {},
   "outputs": [
    {
     "data": {
      "text/plain": [
       "array([  8,  14,  23,  32,  45,  47,  48,  53,  77,  81,  96,  98, 105,\n",
       "       110, 127, 130, 158, 162, 163, 171, 174, 182, 230, 231, 260, 286,\n",
       "       290, 324, 346, 356, 375, 388, 391, 402, 409, 410, 416, 444, 445,\n",
       "       459, 469, 498, 523, 567, 574, 595, 599, 603, 610, 626, 688, 695,\n",
       "       719, 726, 729, 731, 743, 762, 766, 767, 791, 815, 827, 829, 839,\n",
       "       857, 858, 884, 895, 896, 899, 900, 929, 932, 946, 949])"
      ]
     },
     "execution_count": 67,
     "metadata": {},
     "output_type": "execute_result"
    }
   ],
   "source": [
    "#idx\n",
    "w, c = np.unique(rdx, return_counts=True)\n",
    "w[c > 1]"
   ]
  },
  {
   "cell_type": "code",
   "execution_count": null,
   "id": "36fc5434",
   "metadata": {},
   "outputs": [],
   "source": []
  },
  {
   "cell_type": "code",
   "execution_count": 68,
   "id": "b62ebce4",
   "metadata": {},
   "outputs": [],
   "source": [
    "def remove_duplicates2(cat1,cat2,radius):\n",
    "    \n",
    "    #get source coordinates from both tables\n",
    "    sources1=cat1['skycoords']\n",
    "    sources2=cat2['skycoords']\n",
    "\n",
    "    #crossmatch source lists to look for duplication\n",
    "    idx,rdx, d2d, d3d = sources1.search_around_sky(sources2, radius*u.arcsec)\n",
    "    print('Number of crossmatched sources found: ', len(idx))\n",
    "    \n",
    "    order=np.argsort(d2d)\n",
    "    dvals=d2d[order].arcsec\n",
    "    idxsort=idx[order]\n",
    "    rdxsort=rdx[order]\n",
    "    \n",
    "    catsort1=cat1[rdxsort]  #this cell is where the changes can be made to swap between tables. \n",
    "    catsort2=cat2[idxsort]\n",
    "    #m37=mcat37snrcut[idxsort]\n",
    "    #m25['xmatchd2d']=np.round(dvals,3)\n",
    "\n",
    "    sindex=0\n",
    "    start=catsort1[:sindex]\n",
    "    \n",
    "    \n",
    "    try:\n",
    "        colname='SourceID'\n",
    "        sourceList=list(start[colname])\n",
    "    except:\n",
    "        colname='SSTGC'\n",
    "        sourceList=list(start[colname])\n",
    "    \n",
    "    #reject_idx=[]\n",
    "    #reject_rdx=[]\n",
    "    #d2d_update=[]\n",
    "    ivals=[]\n",
    "\n",
    "    for i in range(sindex+1,len(catsort1)):\n",
    "        newsid=catsort1[i][colname]\n",
    "\n",
    "        if newsid not in sourceList:\n",
    "            sourceList.append(newsid)\n",
    "        else:\n",
    "            #print(newsid, \" is already in source list!\")\n",
    "            #reject_idx.append(idxsort[i])\n",
    "            #reject_rdx.append(rdxsort[i])\n",
    "            #d2d_update.append(dvals[i])\n",
    "            ivals.append(i)\n",
    "\n",
    "\n",
    "\n",
    "     \n",
    "    rdxNoDup=np.delete(rdxsort,ivals)    \n",
    "    idxNoDup=np.delete(idxsort,ivals) \n",
    "    d2dup=np.delete(dvals,ivals)\n",
    "\n",
    "    cat1nd=cat1[rdxNoDup]\n",
    "    cat2nd=cat2[idxNoDup]\n",
    "    \n",
    "    \n",
    "    return cat1nd,cat2nd,d2dup"
   ]
  },
  {
   "cell_type": "code",
   "execution_count": 69,
   "id": "b8f755f2",
   "metadata": {},
   "outputs": [
    {
     "name": "stdout",
     "output_type": "stream",
     "text": [
      "Number of crossmatched sources found:  643\n"
     ]
    }
   ],
   "source": [
    "stgccat,matchedmcat,d2dup=remove_duplicates2(sstgc8um,mcat,4.0) #if greater than 4\" start getting duplicaiton with SSTGC sources"
   ]
  },
  {
   "cell_type": "code",
   "execution_count": 70,
   "id": "c9b02ace",
   "metadata": {},
   "outputs": [
    {
     "name": "stdout",
     "output_type": "stream",
     "text": [
      "Number of crossmatched sources found:  602\n"
     ]
    }
   ],
   "source": [
    "matchedmcat,stgccat,d2dup=remove_duplicates2(matchedmcat,stgccat,3.0)"
   ]
  },
  {
   "cell_type": "code",
   "execution_count": 71,
   "id": "590e01e4",
   "metadata": {},
   "outputs": [
    {
     "data": {
      "text/plain": [
       "512"
      ]
     },
     "execution_count": 71,
     "metadata": {},
     "output_type": "execute_result"
    }
   ],
   "source": [
    "len(stgccat)"
   ]
  },
  {
   "cell_type": "code",
   "execution_count": 72,
   "id": "0917d478",
   "metadata": {},
   "outputs": [
    {
     "data": {
      "text/plain": [
       "512"
      ]
     },
     "execution_count": 72,
     "metadata": {},
     "output_type": "execute_result"
    }
   ],
   "source": [
    "len(matchedmcat)"
   ]
  },
  {
   "cell_type": "code",
   "execution_count": 73,
   "id": "37bb1bdf",
   "metadata": {},
   "outputs": [
    {
     "data": {
      "text/plain": [
       "512"
      ]
     },
     "execution_count": 73,
     "metadata": {},
     "output_type": "execute_result"
    }
   ],
   "source": [
    "len(d2dup)"
   ]
  },
  {
   "cell_type": "code",
   "execution_count": 74,
   "id": "bf7fb6b1",
   "metadata": {},
   "outputs": [
    {
     "data": {
      "text/html": [
       "&lt;MaskedColumn name=&apos;SSTGC&apos; dtype=&apos;str7&apos; length=0&gt;\n",
       "<table>\n",
       "</table>"
      ],
      "text/plain": [
       "<MaskedColumn name='SSTGC' dtype='str7' length=0>"
      ]
     },
     "execution_count": 74,
     "metadata": {},
     "output_type": "execute_result"
    }
   ],
   "source": [
    "w, c = np.unique(stgccat['SSTGC'], return_counts=True)\n",
    "w[c > 1]"
   ]
  },
  {
   "cell_type": "code",
   "execution_count": 75,
   "id": "5a79cfb1",
   "metadata": {},
   "outputs": [],
   "source": [
    "#stgccat[stgccat['SSTGC']=='0744351']"
   ]
  },
  {
   "cell_type": "code",
   "execution_count": 76,
   "id": "f68ed621",
   "metadata": {},
   "outputs": [
    {
     "data": {
      "text/html": [
       "&lt;Column name=&apos;SourceID&apos; dtype=&apos;bytes18&apos; length=0&gt;\n",
       "<table>\n",
       "</table>"
      ],
      "text/plain": [
       "<Column name='SourceID' dtype='bytes18' length=0>"
      ]
     },
     "execution_count": 76,
     "metadata": {},
     "output_type": "execute_result"
    }
   ],
   "source": [
    "w, c = np.unique(matchedmcat['SourceID'], return_counts=True)\n",
    "w[c > 1]"
   ]
  },
  {
   "cell_type": "code",
   "execution_count": 77,
   "id": "31c57b46",
   "metadata": {
    "scrolled": true
   },
   "outputs": [
    {
     "data": {
      "text/html": [
       "<div><i>Table length=512</i>\n",
       "<table id=\"table2644483135136\" class=\"table-striped table-bordered table-condensed\">\n",
       "<thead><tr><th>SSTGC</th><th>RAJ2000</th><th>DEJ2000</th><th>Jmag</th><th>Hmag</th><th>Ksmag</th><th>_3.6mag</th><th>_4.5mag</th><th>_5.8mag</th><th>_8.0mag</th><th>IRAC</th><th>_2M</th><th>skycoords</th></tr></thead>\n",
       "<thead><tr><th></th><th>&quot;h:m:s&quot;</th><th>&quot;d:m:s&quot;</th><th>mag</th><th>mag</th><th>mag</th><th>mag</th><th>mag</th><th>mag</th><th>mag</th><th></th><th></th><th>deg,deg</th></tr></thead>\n",
       "<thead><tr><th>str7</th><th>str11</th><th>str11</th><th>float32</th><th>float32</th><th>float32</th><th>float32</th><th>float32</th><th>float32</th><th>float32</th><th>str4</th><th>str2</th><th>object</th></tr></thead>\n",
       "<tr><td>0558345</td><td>17 45 52.11</td><td>-28 47 18.4</td><td>10.354</td><td>7.426</td><td>5.802</td><td>--</td><td>--</td><td>3.473</td><td>3.661</td><td>IRAC</td><td>2M</td><td>266.467125,-28.788444444444448</td></tr>\n",
       "<tr><td>0515803</td><td>17 45 36.61</td><td>-28 59 45.8</td><td>--</td><td>--</td><td>--</td><td>--</td><td>--</td><td>--</td><td>6.617</td><td>IRAC</td><td>2M</td><td>266.4025416666666,-28.996055555555557</td></tr>\n",
       "<tr><td>0673798</td><td>17 46 34.01</td><td>-28 42 46.2</td><td>15.855</td><td>12.880</td><td>9.720</td><td>7.191</td><td>6.466</td><td>5.743</td><td>5.558</td><td>IRAC</td><td>2M</td><td>266.64170833333327,-28.712833333333332</td></tr>\n",
       "<tr><td>0667560</td><td>17 46 31.70</td><td>-28 35 41.2</td><td>--</td><td>--</td><td>--</td><td>7.824</td><td>6.393</td><td>5.374</td><td>5.041</td><td>IRAC</td><td>2M</td><td>266.63208333333324,-28.594777777777775</td></tr>\n",
       "<tr><td>0516452</td><td>17 45 36.83</td><td>-28 59 19.8</td><td>--</td><td>--</td><td>--</td><td>--</td><td>10.943</td><td>9.834</td><td>8.658</td><td>IRAC</td><td>2M</td><td>266.4034583333333,-28.988833333333336</td></tr>\n",
       "<tr><td>0648643</td><td>17 46 24.87</td><td>-29 00 01.3</td><td>17.327</td><td>13.881</td><td>10.972</td><td>7.673</td><td>6.394</td><td>5.281</td><td>4.893</td><td>IRAC</td><td>2M</td><td>266.6036249999999,-29.00036111111111</td></tr>\n",
       "<tr><td>0521894</td><td>17 45 38.82</td><td>-28 52 31.9</td><td>--</td><td>--</td><td>--</td><td>10.668</td><td>9.378</td><td>7.410</td><td>5.598</td><td>IRAC</td><td>2M</td><td>266.41175,-28.87552777777778</td></tr>\n",
       "<tr><td>0414950</td><td>17 44 58.95</td><td>-29 16 27.4</td><td>10.605</td><td>7.348</td><td>5.658</td><td>--</td><td>5.737</td><td>3.756</td><td>3.708</td><td>IRAC</td><td>2M</td><td>266.24562499999996,-29.274277777777776</td></tr>\n",
       "<tr><td>0279869</td><td>17 44 04.83</td><td>-29 25 21.0</td><td>--</td><td>--</td><td>--</td><td>--</td><td>--</td><td>--</td><td>7.883</td><td>IRAC</td><td>2M</td><td>266.02012499999995,-29.4225</td></tr>\n",
       "<tr><td>...</td><td>...</td><td>...</td><td>...</td><td>...</td><td>...</td><td>...</td><td>...</td><td>...</td><td>...</td><td>...</td><td>...</td><td>...</td></tr>\n",
       "<tr><td>0562378</td><td>17 45 53.60</td><td>-28 58 08.1</td><td>--</td><td>--</td><td>--</td><td>--</td><td>--</td><td>--</td><td>5.544</td><td>IRAC</td><td>2M</td><td>266.4733333333333,-28.968916666666665</td></tr>\n",
       "<tr><td>0368854</td><td>17 44 41.29</td><td>-29 24 35.4</td><td>--</td><td>--</td><td>--</td><td>10.834</td><td>9.641</td><td>--</td><td>6.380</td><td>IRAC</td><td>2M</td><td>266.17204166666664,-29.40983333333333</td></tr>\n",
       "<tr><td>0783999</td><td>17 47 17.78</td><td>-28 24 04.5</td><td>--</td><td>--</td><td>--</td><td>--</td><td>--</td><td>--</td><td>7.984</td><td>IRAC</td><td>2M</td><td>266.82408333333336,-28.401249999999997</td></tr>\n",
       "<tr><td>0650438</td><td>17 46 25.53</td><td>-28 47 30.9</td><td>--</td><td>--</td><td>--</td><td>--</td><td>--</td><td>8.977</td><td>7.095</td><td>IRAC</td><td>2M</td><td>266.60637499999996,-28.79191666666667</td></tr>\n",
       "<tr><td>0532584</td><td>17 45 42.77</td><td>-28 59 57.4</td><td>14.798</td><td>10.416</td><td>7.978</td><td>6.927</td><td>5.947</td><td>4.932</td><td>4.774</td><td>IRAC</td><td>2M</td><td>266.4282083333333,-28.999277777777777</td></tr>\n",
       "<tr><td>0623735</td><td>17 46 15.85</td><td>-28 49 52.0</td><td>--</td><td>--</td><td>--</td><td>--</td><td>--</td><td>--</td><td>6.215</td><td>IRAC</td><td>2M</td><td>266.5660416666666,-28.83111111111111</td></tr>\n",
       "<tr><td>0383448</td><td>17 44 46.90</td><td>-29 23 45.9</td><td>--</td><td>--</td><td>--</td><td>--</td><td>--</td><td>--</td><td>5.637</td><td>IRAC</td><td>2M</td><td>266.1954166666667,-29.396083333333333</td></tr>\n",
       "<tr><td>0513261</td><td>17 45 35.66</td><td>-28 59 42.4</td><td>16.128</td><td>11.790</td><td>9.622</td><td>7.893</td><td>7.767</td><td>7.033</td><td>6.530</td><td>IRAC</td><td>2M</td><td>266.3985833333333,-28.99511111111111</td></tr>\n",
       "<tr><td>0524678</td><td>17 45 39.86</td><td>-29 00 08.5</td><td>--</td><td>--</td><td>--</td><td>9.165</td><td>--</td><td>--</td><td>5.547</td><td>IRAC</td><td>2M</td><td>266.4160833333333,-29.00236111111111</td></tr>\n",
       "<tr><td>0377852</td><td>17 44 44.77</td><td>-29 22 31.2</td><td>--</td><td>--</td><td>--</td><td>--</td><td>--</td><td>--</td><td>9.132</td><td>IRAC</td><td>2M</td><td>266.18654166666664,-29.375333333333334</td></tr>\n",
       "</table></div>"
      ],
      "text/plain": [
       "<Table length=512>\n",
       " SSTGC    RAJ2000     DEJ2000   ... _2M                skycoords               \n",
       "          \"h:m:s\"     \"d:m:s\"   ...                     deg,deg                \n",
       "  str7     str11       str11    ... str2                 object                \n",
       "------- ----------- ----------- ... ---- --------------------------------------\n",
       "0558345 17 45 52.11 -28 47 18.4 ...   2M         266.467125,-28.788444444444448\n",
       "0515803 17 45 36.61 -28 59 45.8 ...   2M  266.4025416666666,-28.996055555555557\n",
       "0673798 17 46 34.01 -28 42 46.2 ...   2M 266.64170833333327,-28.712833333333332\n",
       "0667560 17 46 31.70 -28 35 41.2 ...   2M 266.63208333333324,-28.594777777777775\n",
       "0516452 17 45 36.83 -28 59 19.8 ...   2M  266.4034583333333,-28.988833333333336\n",
       "0648643 17 46 24.87 -29 00 01.3 ...   2M   266.6036249999999,-29.00036111111111\n",
       "0521894 17 45 38.82 -28 52 31.9 ...   2M           266.41175,-28.87552777777778\n",
       "0414950 17 44 58.95 -29 16 27.4 ...   2M 266.24562499999996,-29.274277777777776\n",
       "0279869 17 44 04.83 -29 25 21.0 ...   2M            266.02012499999995,-29.4225\n",
       "    ...         ...         ... ...  ...                                    ...\n",
       "0562378 17 45 53.60 -28 58 08.1 ...   2M  266.4733333333333,-28.968916666666665\n",
       "0368854 17 44 41.29 -29 24 35.4 ...   2M  266.17204166666664,-29.40983333333333\n",
       "0783999 17 47 17.78 -28 24 04.5 ...   2M 266.82408333333336,-28.401249999999997\n",
       "0650438 17 46 25.53 -28 47 30.9 ...   2M  266.60637499999996,-28.79191666666667\n",
       "0532584 17 45 42.77 -28 59 57.4 ...   2M  266.4282083333333,-28.999277777777777\n",
       "0623735 17 46 15.85 -28 49 52.0 ...   2M   266.5660416666666,-28.83111111111111\n",
       "0383448 17 44 46.90 -29 23 45.9 ...   2M  266.1954166666667,-29.396083333333333\n",
       "0513261 17 45 35.66 -28 59 42.4 ...   2M   266.3985833333333,-28.99511111111111\n",
       "0524678 17 45 39.86 -29 00 08.5 ...   2M   266.4160833333333,-29.00236111111111\n",
       "0377852 17 44 44.77 -29 22 31.2 ...   2M 266.18654166666664,-29.375333333333334"
      ]
     },
     "execution_count": 77,
     "metadata": {},
     "output_type": "execute_result"
    }
   ],
   "source": [
    "stgccat"
   ]
  },
  {
   "cell_type": "code",
   "execution_count": 78,
   "id": "698a7ec6",
   "metadata": {},
   "outputs": [],
   "source": [
    "#np.max(matchedmcat['skycoords'].ra.arcsec-stgccat['skycoords'].ra.arcsec)"
   ]
  },
  {
   "cell_type": "code",
   "execution_count": 79,
   "id": "1543674e",
   "metadata": {},
   "outputs": [
    {
     "name": "stdout",
     "output_type": "stream",
     "text": [
      "Average difference in RA:  0.27011718750190994 ,  Standard deviation of difference:  1.2717158937372464\n",
      "Average difference in DEC:  0.00845703124932129 ,  Standard deviation of difference:  1.1719915617484244\n"
     ]
    }
   ],
   "source": [
    "#Examine the positional accuracy of the cross match\n",
    "deltaRA=matchedmcat['skycoords'].ra.arcsec - stgccat['skycoords'].ra.arcsec\n",
    "deltaDEC=matchedmcat['skycoords'].dec.arcsec - stgccat['skycoords'].dec.arcsec\n",
    "\n",
    "print(\"Average difference in RA: \", np.mean(deltaRA), \",  Standard deviation of difference: \", np.std(deltaRA))\n",
    "print(\"Average difference in DEC: \", np.mean(deltaDEC), \",  Standard deviation of difference: \", np.std(deltaDEC))"
   ]
  },
  {
   "cell_type": "code",
   "execution_count": 80,
   "id": "5e8834da",
   "metadata": {},
   "outputs": [
    {
     "data": {
      "image/png": "[encoded data removed]",
      "text/plain": [
       "<Figure size 576x576 with 3 Axes>"
      ]
     },
     "metadata": {
      "needs_background": "light"
     },
     "output_type": "display_data"
    }
   ],
   "source": [
    "#define a 'fancy' scatter+histogram plot\n",
    "def scatter_hist(x, y, ax, ax_histx, ax_histy):\n",
    "    # no labels\n",
    "    ax_histx.tick_params(axis=\"x\", labelbottom=False)\n",
    "    ax_histy.tick_params(axis=\"y\", labelleft=False)\n",
    "\n",
    "    # the scatter plot:\n",
    "    ax.scatter(x, y,color='k')\n",
    "\n",
    "    # now determine nice limits by hand:\n",
    "    binwidth = 0.25 #1e-4\n",
    "    xymax = max(np.max(np.abs(x)), np.max(np.abs(y)))\n",
    "    lim = (int(xymax/binwidth) + 1) * binwidth\n",
    "\n",
    "    bins = np.arange(-lim, lim + binwidth, binwidth)\n",
    "    ax_histx.hist(deltaRA, bins=bins,color='k')\n",
    "    ax_histy.hist(deltaDEC, bins=bins, orientation='horizontal',color='k')\n",
    "\n",
    "    \n",
    "    \n",
    "#make the scatter+hist plot for position x-match\n",
    "plt.rcParams.update({'font.size': 14})\n",
    "\n",
    "# definitions for the axes\n",
    "left, width = 0.1, 0.65\n",
    "bottom, height = 0.1, 0.65\n",
    "spacing = 0.02\n",
    "\n",
    "\n",
    "rect_scatter = [left, bottom, width, height]\n",
    "rect_histx = [left, bottom + height + spacing, width, 0.2]\n",
    "rect_histy = [left + width + spacing, bottom, 0.2, height]\n",
    "\n",
    "# start with a square Figure\n",
    "fig = plt.figure(figsize=(8, 8))\n",
    "\n",
    "ax = fig.add_axes(rect_scatter)\n",
    "ax_histx = fig.add_axes(rect_histx, sharex=ax)\n",
    "ax_histy = fig.add_axes(rect_histy, sharey=ax)\n",
    "\n",
    "# use the previously defined function\n",
    "scatter_hist(deltaRA, deltaDEC, ax, ax_histx, ax_histy)\n",
    "\n",
    "ax.set_xlabel('RA Difference (\\\")')\n",
    "ax.set_ylabel('DEC Difference (\\\")')\n",
    "\n",
    "#plt.savefig(\"AstrometryCrossmatch.pdf\",dpi=300)\n",
    "\n",
    "plt.show()\n"
   ]
  },
  {
   "cell_type": "code",
   "execution_count": null,
   "id": "bdb64463",
   "metadata": {},
   "outputs": [],
   "source": []
  },
  {
   "cell_type": "code",
   "execution_count": null,
   "id": "b49ed6aa",
   "metadata": {},
   "outputs": [],
   "source": []
  },
  {
   "cell_type": "code",
   "execution_count": 81,
   "id": "e4c25851",
   "metadata": {
    "scrolled": true
   },
   "outputs": [
    {
     "data": {
      "text/html": [
       "<div><i>Table length=512</i>\n",
       "<table id=\"table2644483135136\" class=\"table-striped table-bordered table-condensed\">\n",
       "<thead><tr><th>SSTGC</th><th>RAJ2000</th><th>DEJ2000</th><th>Jmag</th><th>Hmag</th><th>Ksmag</th><th>_3.6mag</th><th>_4.5mag</th><th>_5.8mag</th><th>_8.0mag</th><th>IRAC</th><th>_2M</th><th>skycoords</th></tr></thead>\n",
       "<thead><tr><th></th><th>&quot;h:m:s&quot;</th><th>&quot;d:m:s&quot;</th><th>mag</th><th>mag</th><th>mag</th><th>mag</th><th>mag</th><th>mag</th><th>mag</th><th></th><th></th><th>deg,deg</th></tr></thead>\n",
       "<thead><tr><th>str7</th><th>str11</th><th>str11</th><th>float32</th><th>float32</th><th>float32</th><th>float32</th><th>float32</th><th>float32</th><th>float32</th><th>str4</th><th>str2</th><th>object</th></tr></thead>\n",
       "<tr><td>0558345</td><td>17 45 52.11</td><td>-28 47 18.4</td><td>10.354</td><td>7.426</td><td>5.802</td><td>--</td><td>--</td><td>3.473</td><td>3.661</td><td>IRAC</td><td>2M</td><td>266.467125,-28.788444444444448</td></tr>\n",
       "<tr><td>0515803</td><td>17 45 36.61</td><td>-28 59 45.8</td><td>--</td><td>--</td><td>--</td><td>--</td><td>--</td><td>--</td><td>6.617</td><td>IRAC</td><td>2M</td><td>266.4025416666666,-28.996055555555557</td></tr>\n",
       "<tr><td>0673798</td><td>17 46 34.01</td><td>-28 42 46.2</td><td>15.855</td><td>12.880</td><td>9.720</td><td>7.191</td><td>6.466</td><td>5.743</td><td>5.558</td><td>IRAC</td><td>2M</td><td>266.64170833333327,-28.712833333333332</td></tr>\n",
       "<tr><td>0667560</td><td>17 46 31.70</td><td>-28 35 41.2</td><td>--</td><td>--</td><td>--</td><td>7.824</td><td>6.393</td><td>5.374</td><td>5.041</td><td>IRAC</td><td>2M</td><td>266.63208333333324,-28.594777777777775</td></tr>\n",
       "<tr><td>0516452</td><td>17 45 36.83</td><td>-28 59 19.8</td><td>--</td><td>--</td><td>--</td><td>--</td><td>10.943</td><td>9.834</td><td>8.658</td><td>IRAC</td><td>2M</td><td>266.4034583333333,-28.988833333333336</td></tr>\n",
       "<tr><td>0648643</td><td>17 46 24.87</td><td>-29 00 01.3</td><td>17.327</td><td>13.881</td><td>10.972</td><td>7.673</td><td>6.394</td><td>5.281</td><td>4.893</td><td>IRAC</td><td>2M</td><td>266.6036249999999,-29.00036111111111</td></tr>\n",
       "<tr><td>0521894</td><td>17 45 38.82</td><td>-28 52 31.9</td><td>--</td><td>--</td><td>--</td><td>10.668</td><td>9.378</td><td>7.410</td><td>5.598</td><td>IRAC</td><td>2M</td><td>266.41175,-28.87552777777778</td></tr>\n",
       "<tr><td>0414950</td><td>17 44 58.95</td><td>-29 16 27.4</td><td>10.605</td><td>7.348</td><td>5.658</td><td>--</td><td>5.737</td><td>3.756</td><td>3.708</td><td>IRAC</td><td>2M</td><td>266.24562499999996,-29.274277777777776</td></tr>\n",
       "<tr><td>0279869</td><td>17 44 04.83</td><td>-29 25 21.0</td><td>--</td><td>--</td><td>--</td><td>--</td><td>--</td><td>--</td><td>7.883</td><td>IRAC</td><td>2M</td><td>266.02012499999995,-29.4225</td></tr>\n",
       "<tr><td>...</td><td>...</td><td>...</td><td>...</td><td>...</td><td>...</td><td>...</td><td>...</td><td>...</td><td>...</td><td>...</td><td>...</td><td>...</td></tr>\n",
       "<tr><td>0562378</td><td>17 45 53.60</td><td>-28 58 08.1</td><td>--</td><td>--</td><td>--</td><td>--</td><td>--</td><td>--</td><td>5.544</td><td>IRAC</td><td>2M</td><td>266.4733333333333,-28.968916666666665</td></tr>\n",
       "<tr><td>0368854</td><td>17 44 41.29</td><td>-29 24 35.4</td><td>--</td><td>--</td><td>--</td><td>10.834</td><td>9.641</td><td>--</td><td>6.380</td><td>IRAC</td><td>2M</td><td>266.17204166666664,-29.40983333333333</td></tr>\n",
       "<tr><td>0783999</td><td>17 47 17.78</td><td>-28 24 04.5</td><td>--</td><td>--</td><td>--</td><td>--</td><td>--</td><td>--</td><td>7.984</td><td>IRAC</td><td>2M</td><td>266.82408333333336,-28.401249999999997</td></tr>\n",
       "<tr><td>0650438</td><td>17 46 25.53</td><td>-28 47 30.9</td><td>--</td><td>--</td><td>--</td><td>--</td><td>--</td><td>8.977</td><td>7.095</td><td>IRAC</td><td>2M</td><td>266.60637499999996,-28.79191666666667</td></tr>\n",
       "<tr><td>0532584</td><td>17 45 42.77</td><td>-28 59 57.4</td><td>14.798</td><td>10.416</td><td>7.978</td><td>6.927</td><td>5.947</td><td>4.932</td><td>4.774</td><td>IRAC</td><td>2M</td><td>266.4282083333333,-28.999277777777777</td></tr>\n",
       "<tr><td>0623735</td><td>17 46 15.85</td><td>-28 49 52.0</td><td>--</td><td>--</td><td>--</td><td>--</td><td>--</td><td>--</td><td>6.215</td><td>IRAC</td><td>2M</td><td>266.5660416666666,-28.83111111111111</td></tr>\n",
       "<tr><td>0383448</td><td>17 44 46.90</td><td>-29 23 45.9</td><td>--</td><td>--</td><td>--</td><td>--</td><td>--</td><td>--</td><td>5.637</td><td>IRAC</td><td>2M</td><td>266.1954166666667,-29.396083333333333</td></tr>\n",
       "<tr><td>0513261</td><td>17 45 35.66</td><td>-28 59 42.4</td><td>16.128</td><td>11.790</td><td>9.622</td><td>7.893</td><td>7.767</td><td>7.033</td><td>6.530</td><td>IRAC</td><td>2M</td><td>266.3985833333333,-28.99511111111111</td></tr>\n",
       "<tr><td>0524678</td><td>17 45 39.86</td><td>-29 00 08.5</td><td>--</td><td>--</td><td>--</td><td>9.165</td><td>--</td><td>--</td><td>5.547</td><td>IRAC</td><td>2M</td><td>266.4160833333333,-29.00236111111111</td></tr>\n",
       "<tr><td>0377852</td><td>17 44 44.77</td><td>-29 22 31.2</td><td>--</td><td>--</td><td>--</td><td>--</td><td>--</td><td>--</td><td>9.132</td><td>IRAC</td><td>2M</td><td>266.18654166666664,-29.375333333333334</td></tr>\n",
       "</table></div>"
      ],
      "text/plain": [
       "<Table length=512>\n",
       " SSTGC    RAJ2000     DEJ2000   ... _2M                skycoords               \n",
       "          \"h:m:s\"     \"d:m:s\"   ...                     deg,deg                \n",
       "  str7     str11       str11    ... str2                 object                \n",
       "------- ----------- ----------- ... ---- --------------------------------------\n",
       "0558345 17 45 52.11 -28 47 18.4 ...   2M         266.467125,-28.788444444444448\n",
       "0515803 17 45 36.61 -28 59 45.8 ...   2M  266.4025416666666,-28.996055555555557\n",
       "0673798 17 46 34.01 -28 42 46.2 ...   2M 266.64170833333327,-28.712833333333332\n",
       "0667560 17 46 31.70 -28 35 41.2 ...   2M 266.63208333333324,-28.594777777777775\n",
       "0516452 17 45 36.83 -28 59 19.8 ...   2M  266.4034583333333,-28.988833333333336\n",
       "0648643 17 46 24.87 -29 00 01.3 ...   2M   266.6036249999999,-29.00036111111111\n",
       "0521894 17 45 38.82 -28 52 31.9 ...   2M           266.41175,-28.87552777777778\n",
       "0414950 17 44 58.95 -29 16 27.4 ...   2M 266.24562499999996,-29.274277777777776\n",
       "0279869 17 44 04.83 -29 25 21.0 ...   2M            266.02012499999995,-29.4225\n",
       "    ...         ...         ... ...  ...                                    ...\n",
       "0562378 17 45 53.60 -28 58 08.1 ...   2M  266.4733333333333,-28.968916666666665\n",
       "0368854 17 44 41.29 -29 24 35.4 ...   2M  266.17204166666664,-29.40983333333333\n",
       "0783999 17 47 17.78 -28 24 04.5 ...   2M 266.82408333333336,-28.401249999999997\n",
       "0650438 17 46 25.53 -28 47 30.9 ...   2M  266.60637499999996,-28.79191666666667\n",
       "0532584 17 45 42.77 -28 59 57.4 ...   2M  266.4282083333333,-28.999277777777777\n",
       "0623735 17 46 15.85 -28 49 52.0 ...   2M   266.5660416666666,-28.83111111111111\n",
       "0383448 17 44 46.90 -29 23 45.9 ...   2M  266.1954166666667,-29.396083333333333\n",
       "0513261 17 45 35.66 -28 59 42.4 ...   2M   266.3985833333333,-28.99511111111111\n",
       "0524678 17 45 39.86 -29 00 08.5 ...   2M   266.4160833333333,-29.00236111111111\n",
       "0377852 17 44 44.77 -29 22 31.2 ...   2M 266.18654166666664,-29.375333333333334"
      ]
     },
     "execution_count": 81,
     "metadata": {},
     "output_type": "execute_result"
    }
   ],
   "source": [
    "stgccat"
   ]
  },
  {
   "cell_type": "code",
   "execution_count": 82,
   "id": "870cadf5",
   "metadata": {
    "scrolled": true
   },
   "outputs": [
    {
     "data": {
      "text/html": [
       "<div><i>Table length=512</i>\n",
       "<table id=\"table2644553311136\" class=\"table-striped table-bordered table-condensed\">\n",
       "<thead><tr><th>SourceID</th><th>RA(J2000)</th><th>DEC(J2000)</th><th>25BestModel</th><th>25um_Flux_4pix</th><th>25um_Flux_4pix_err</th><th>25um_SNR_4pix</th><th>25um_Flux_8pix</th><th>25um_Flux_8pix_err</th><th>25um_SNR_8pix</th><th>25um_Flux_12pix</th><th>25um_Flux_12pix_err</th><th>25um_SNR_12pix</th><th>25ApRatio8_4</th><th>25ApRatio12_8</th><th>25um_Flux_M2D</th><th>25um_Flux_M2D_err</th><th>25um_SNR_M2D</th><th>25um_M2D_chi2</th><th>M2D25_qflag</th><th>25um_Flux_G2D</th><th>25um_Flux_G2D_err</th><th>25um_SNR_G2D</th><th>25um_G2D_chi2</th><th>G2D25_qflag</th><th>fwhm25</th><th>fwhm25err</th><th>elong25</th><th>ErrCalF25</th><th>vExtFlag25</th><th>bkg_qflag25</th><th>edge_flag25</th><th>cutout25 [25,25]</th><th>M2Dresid25 [17,17]</th><th>G2Dresid25 [17,17]</th><th>37BestModel</th><th>37um_Flux_5.5pix</th><th>37um_Flux_5.5pix_err</th><th>37um_SNR_5.5pix</th><th>37um_Flux_10.5pix</th><th>37um_Flux_10.5pix_err</th><th>37um_SNR_10.5pix</th><th>37um_Flux_14pix</th><th>37um_Flux_14pix_err</th><th>37um_SNR_14pix</th><th>37ApRatio10.5_5.5</th><th>37ApRatio14_10.5</th><th>37um_Flux_M2D</th><th>37um_Flux_M2D_err</th><th>37um_SNR_M2D</th><th>37um_M2D_chi2</th><th>M2D37_qflag</th><th>37um_Flux_G2D</th><th>37um_Flux_G2D_err</th><th>37um_SNR_G2D</th><th>37um_G2D_chi2</th><th>G2D37_qflag</th><th>fwhm37</th><th>fwhm37err</th><th>elong37</th><th>vExtFlag37</th><th>bkg_qflag37</th><th>edge_flag37</th><th>ErrCalF37</th><th>cutout37 [31,31]</th><th>M2Dresid37 [17,17]</th><th>G2Dresid37 [17,17]</th><th>sky_centroid</th><th>FieldID</th><th>SID25</th><th>SID37</th><th>Found25</th><th>Found37</th><th>Matched</th><th>F25_F37_sep</th><th>25ApPhot_qflag</th><th>25Ap_4pix_UL</th><th>25Ap_8pix_UL</th><th>25Ap_12pix_UL</th><th>37ApPhot_qflag</th><th>37Ap_5.5pix_UL</th><th>37Ap_10.5pix_UL</th><th>37Ap_14pix_UL</th><th>id</th><th>skycoords</th><th>SSTGCxmatch</th><th>SSTGCd2d</th><th>_8.0mag</th><th>_5.8mag</th><th>_4.5mag</th><th>_3.6mag</th><th>Jmag_2M</th><th>Hmag_2M</th><th>Kmag_2M</th></tr></thead>\n",
       "<thead><tr><th></th><th></th><th></th><th></th><th></th><th></th><th></th><th></th><th></th><th></th><th></th><th></th><th></th><th></th><th></th><th></th><th></th><th></th><th></th><th></th><th></th><th></th><th></th><th></th><th></th><th></th><th></th><th></th><th></th><th></th><th></th><th></th><th></th><th></th><th></th><th></th><th></th><th></th><th></th><th></th><th></th><th></th><th></th><th></th><th></th><th></th><th></th><th></th><th></th><th></th><th></th><th></th><th></th><th></th><th></th><th></th><th></th><th></th><th></th><th></th><th></th><th></th><th></th><th></th><th></th><th></th><th></th><th>deg,deg</th><th></th><th></th><th></th><th></th><th></th><th></th><th></th><th></th><th></th><th></th><th></th><th></th><th></th><th></th><th></th><th></th><th>deg,deg</th><th></th><th></th><th>mag</th><th>mag</th><th>mag</th><th>mag</th><th>mag</th><th>mag</th><th>mag</th></tr></thead>\n",
       "<thead><tr><th>bytes18</th><th>bytes12</th><th>bytes13</th><th>bytes1</th><th>float32</th><th>float32</th><th>float32</th><th>float32</th><th>float32</th><th>float32</th><th>float32</th><th>float32</th><th>float32</th><th>float32</th><th>float32</th><th>float32</th><th>float32</th><th>float32</th><th>float32</th><th>float64</th><th>float32</th><th>float32</th><th>float32</th><th>float32</th><th>int32</th><th>float32</th><th>float32</th><th>float32</th><th>float32</th><th>int32</th><th>int32</th><th>int32</th><th>float32</th><th>float32</th><th>float32</th><th>bytes1</th><th>float32</th><th>float32</th><th>float32</th><th>float32</th><th>float32</th><th>float32</th><th>float32</th><th>float32</th><th>float32</th><th>float32</th><th>float32</th><th>float32</th><th>float32</th><th>float32</th><th>float32</th><th>int32</th><th>float32</th><th>float32</th><th>float32</th><th>float32</th><th>int32</th><th>float32</th><th>float32</th><th>float32</th><th>int32</th><th>int32</th><th>int32</th><th>float32</th><th>float32</th><th>float32</th><th>float32</th><th>object</th><th>bytes7</th><th>bytes18</th><th>bytes18</th><th>int32</th><th>int32</th><th>int32</th><th>float32</th><th>bytes3</th><th>float32</th><th>float32</th><th>float32</th><th>bytes3</th><th>float32</th><th>float32</th><th>float32</th><th>int32</th><th>object</th><th>str7</th><th>float64</th><th>float32</th><th>float32</th><th>float32</th><th>float32</th><th>float32</th><th>float32</th><th>float32</th></tr></thead>\n",
       "<tr><td>SFGC0.154+0.0305</td><td>17h45m52.11s</td><td>-28d47m18.29s</td><td>a</td><td>1.21</td><td>0.0754</td><td>16.1</td><td>2.91</td><td>0.151</td><td>19.3</td><td>4.13</td><td>0.226</td><td>18.3</td><td>2.4</td><td>1.42</td><td>--</td><td>--</td><td>--</td><td>--</td><td>1.0</td><td>3.37</td><td>0.14</td><td>24.1</td><td>1.72</td><td>0</td><td>8.17</td><td>--</td><td>1.19</td><td>0.0214</td><td>0</td><td>0</td><td>0</td><td>0.012317061 .. 0.010174385</td><td>-- .. --</td><td>-0.00020164582 .. -0.010862777</td><td>a</td><td>1.74</td><td>0.404</td><td>4.29</td><td>4.79</td><td>0.771</td><td>6.21</td><td>6.85</td><td>1.03</td><td>6.66</td><td>2.76</td><td>1.43</td><td>--</td><td>--</td><td>--</td><td>--</td><td>1</td><td>4.02</td><td>0.776</td><td>5.18</td><td>1.28</td><td>0</td><td>11.6</td><td>--</td><td>1.71</td><td>0</td><td>0</td><td>0</td><td>0.0283</td><td>0.102191195 .. 0.010739732</td><td>-- .. --</td><td>0.0066655492 .. -0.01574394</td><td>266.467125,-28.788413888888893</td><td>Field20</td><td>SFGC0.154+0.0305</td><td>--</td><td>0</td><td>1</td><td>0</td><td>--</td><td>000</td><td>--</td><td>--</td><td>--</td><td>000</td><td>--</td><td>--</td><td>--</td><td>613</td><td>266.467125,-28.78841388888889</td><td>0558345</td><td>0.11</td><td>3.661</td><td>3.473</td><td>--</td><td>--</td><td>10.354</td><td>7.426</td><td>5.802</td></tr>\n",
       "<tr><td>SFGC359.948-0.0293</td><td>17h45m36.60s</td><td>-28d59m45.80s</td><td>a</td><td>1.93</td><td>0.274</td><td>7.06</td><td>4.92</td><td>0.548</td><td>8.98</td><td>8.44</td><td>0.822</td><td>10.3</td><td>2.54</td><td>1.71</td><td>--</td><td>--</td><td>--</td><td>--</td><td>1.0</td><td>6.09</td><td>0.691</td><td>8.81</td><td>4.12</td><td>0</td><td>11.1</td><td>--</td><td>1.58</td><td>0.0214</td><td>0</td><td>1</td><td>0</td><td>0.050377894 .. -0.013156525</td><td>-- .. --</td><td>0.024666041 .. -0.011547057</td><td>a</td><td>10.1</td><td>1.17</td><td>8.64</td><td>28</td><td>2.23</td><td>12.5</td><td>42.4</td><td>2.98</td><td>14.2</td><td>2.77</td><td>1.52</td><td>--</td><td>--</td><td>--</td><td>--</td><td>1</td><td>23.4</td><td>2.91</td><td>8.05</td><td>2.75</td><td>0</td><td>15</td><td>--</td><td>1.3</td><td>1</td><td>0</td><td>0</td><td>0.0283</td><td>0.26187968 .. -0.06528417</td><td>-- .. --</td><td>0.04126874 .. -0.004408556</td><td>266.4025,-28.99605555555556</td><td>Field41</td><td>SFGC359.948-0.0293</td><td>--</td><td>0</td><td>1</td><td>0</td><td>--</td><td>000</td><td>--</td><td>--</td><td>--</td><td>000</td><td>--</td><td>--</td><td>--</td><td>531</td><td>266.4025,-28.996055555555557</td><td>0515803</td><td>0.131</td><td>6.617</td><td>--</td><td>--</td><td>--</td><td>--</td><td>--</td><td>--</td></tr>\n",
       "<tr><td>SFGC0.299-0.0610</td><td>17h46m34.02s</td><td>-28d42m46.19s</td><td>g</td><td>0.318</td><td>0.0665</td><td>4.78</td><td>--</td><td>--</td><td>--</td><td>--</td><td>--</td><td>--</td><td>--</td><td>--</td><td>--</td><td>--</td><td>--</td><td>--</td><td>1.0</td><td>0.358</td><td>0.0399</td><td>8.99</td><td>1.72</td><td>0</td><td>2.64</td><td>0.948</td><td>1.28</td><td>0.0214</td><td>0</td><td>0</td><td>0</td><td>0.0046728295 .. -0.010867304</td><td>-- .. --</td><td>0.0044102594 .. -0.00626117</td><td>a</td><td>--</td><td>--</td><td>--</td><td>--</td><td>--</td><td>--</td><td>--</td><td>--</td><td>--</td><td>--</td><td>--</td><td>0.137</td><td>0.0426</td><td>3.23</td><td>1.66</td><td>0</td><td>0.132</td><td>0.0404</td><td>3.27</td><td>1.66</td><td>0</td><td>1.52</td><td>--</td><td>1.36</td><td>0</td><td>0</td><td>0</td><td>0.0283</td><td>-0.00489589 .. -0.013288289</td><td>-0.0020012243 .. -0.034825362</td><td>-0.0020012243 .. -0.034825362</td><td>266.64174999999994,-28.712830555555556</td><td>Field11</td><td>SFGC0.299-0.0610</td><td>--</td><td>0</td><td>1</td><td>0</td><td>--</td><td>011</td><td>--</td><td>0.415</td><td>0.622</td><td>111</td><td>0.476</td><td>0.909</td><td>1.21</td><td>672</td><td>266.64174999999994,-28.712830555555556</td><td>0673798</td><td>0.132</td><td>5.558</td><td>5.743</td><td>6.466</td><td>7.191</td><td>15.855</td><td>12.880</td><td>9.720</td></tr>\n",
       "<tr><td>SFGC0.395+0.0076</td><td>17h46m31.71s</td><td>-28d35m41.19s</td><td>g</td><td>0.939</td><td>0.0553</td><td>17</td><td>1.53</td><td>0.111</td><td>13.8</td><td>2.13</td><td>0.166</td><td>12.8</td><td>1.63</td><td>1.39</td><td>1.69</td><td>0.0315</td><td>53.7</td><td>0.948</td><td>0.0</td><td>1.15</td><td>0.0469</td><td>24.6</td><td>1.16</td><td>0</td><td>3.73</td><td>0.367</td><td>1.1</td><td>0.0237</td><td>0</td><td>0</td><td>1</td><td>-0.0041721943 .. 0.0033475205</td><td>0.006165268 .. -0.002404517</td><td>0.007233214 .. -0.0012212958</td><td>g</td><td>0.703</td><td>0.106</td><td>6.63</td><td>0.892</td><td>0.202</td><td>4.41</td><td>--</td><td>--</td><td>--</td><td>1.27</td><td>--</td><td>0.865</td><td>0.0436</td><td>19.8</td><td>0.559</td><td>0</td><td>0.948</td><td>0.0827</td><td>11.5</td><td>0.546</td><td>0</td><td>4.72</td><td>3.26</td><td>1.98</td><td>0</td><td>0</td><td>0</td><td>0.027</td><td>0.004471551 .. -0.003152961</td><td>-0.010298081 .. 0.009193374</td><td>-0.010016264 .. 0.009464073</td><td>266.632125,-28.594775</td><td>Field09</td><td>SFGC0.395+0.0076</td><td>SFGC0.395+0.0072</td><td>1</td><td>1</td><td>1</td><td>1.38</td><td>000</td><td>--</td><td>--</td><td>--</td><td>001</td><td>--</td><td>--</td><td>0.8</td><td>288</td><td>266.632125,-28.594775</td><td>0667560</td><td>0.132</td><td>5.041</td><td>5.374</td><td>6.393</td><td>7.824</td><td>--</td><td>--</td><td>--</td></tr>\n",
       "<tr><td>SFGC359.954-0.0262</td><td>17h45m36.82s</td><td>-28d59m19.77s</td><td>a</td><td>2.4</td><td>0.211</td><td>11.4</td><td>5.95</td><td>0.421</td><td>14.1</td><td>8.99</td><td>0.632</td><td>14.2</td><td>2.48</td><td>1.51</td><td>--</td><td>--</td><td>--</td><td>--</td><td>1.0</td><td>7.34</td><td>0.466</td><td>15.8</td><td>3.79</td><td>0</td><td>9.72</td><td>--</td><td>1.6</td><td>0.0214</td><td>0</td><td>1</td><td>0</td><td>-0.00950928 .. 0.009172682</td><td>-- .. --</td><td>-0.005586301 .. 0.00984423</td><td>a</td><td>6.28</td><td>0.515</td><td>12.2</td><td>13.1</td><td>0.983</td><td>13.3</td><td>14.8</td><td>1.31</td><td>11.3</td><td>2.08</td><td>1.13</td><td>--</td><td>--</td><td>--</td><td>--</td><td>1</td><td>12</td><td>0.865</td><td>13.9</td><td>2.98</td><td>0</td><td>10.2</td><td>--</td><td>1.64</td><td>0</td><td>0</td><td>0</td><td>0.0283</td><td>-0.08488364 .. -0.044584747</td><td>-- .. --</td><td>-0.013150876 .. 0.016428657</td><td>266.40341666666666,-28.988825000000002</td><td>Field38</td><td>SFGC359.954-0.0262</td><td>SFGC359.954-0.0259</td><td>1</td><td>1</td><td>1</td><td>1.44</td><td>000</td><td>--</td><td>--</td><td>--</td><td>000</td><td>--</td><td>--</td><td>--</td><td>293</td><td>266.40341666666666,-28.988825000000002</td><td>0516452</td><td>0.135</td><td>8.658</td><td>9.834</td><td>10.943</td><td>--</td><td>--</td><td>--</td><td>--</td></tr>\n",
       "<tr><td>SFGC0.036-0.1818</td><td>17h46m24.88s</td><td>-29d00m01.34s</td><td>g</td><td>1.35</td><td>0.109</td><td>12.4</td><td>1.15</td><td>0.218</td><td>5.29</td><td>--</td><td>--</td><td>--</td><td>0.851</td><td>--</td><td>--</td><td>--</td><td>--</td><td>--</td><td>1.0</td><td>1.4</td><td>0.065</td><td>21.6</td><td>1.43</td><td>0</td><td>2.63</td><td>0.306</td><td>1.02</td><td>0.0237</td><td>0</td><td>0</td><td>1</td><td>-0.02002774 .. -0.012622309</td><td>-- .. --</td><td>-0.00019068921 .. -0.0063876263</td><td>g</td><td>1.49</td><td>0.197</td><td>7.57</td><td>2.02</td><td>0.376</td><td>5.38</td><td>2.35</td><td>0.501</td><td>4.69</td><td>1.36</td><td>1.16</td><td>--</td><td>--</td><td>--</td><td>--</td><td>1</td><td>1.61</td><td>0.137</td><td>11.8</td><td>0.616</td><td>0</td><td>4.22</td><td>0.842</td><td>1.24</td><td>0</td><td>0</td><td>1</td><td>0.027</td><td>-0.008324572 .. 0.004368282</td><td>-- .. --</td><td>0.00025314777 .. 0.000968509</td><td>266.60366666666664,-29.000372222222225</td><td>Field35</td><td>SFGC0.036-0.1818</td><td>SFGC0.036-0.1818</td><td>1</td><td>1</td><td>1</td><td>0</td><td>001</td><td>--</td><td>--</td><td>0.975</td><td>000</td><td>--</td><td>--</td><td>--</td><td>4</td><td>266.60366666666664,-29.00037222222222</td><td>0648643</td><td>0.137</td><td>4.893</td><td>5.281</td><td>6.394</td><td>7.673</td><td>17.327</td><td>13.881</td><td>10.972</td></tr>\n",
       "<tr><td>SFGC0.055+0.0265</td><td>17h45m38.83s</td><td>-28d52m31.95s</td><td>a</td><td>9.17</td><td>0.183</td><td>50.2</td><td>13.8</td><td>0.365</td><td>37.7</td><td>16.2</td><td>0.548</td><td>29.6</td><td>1.5</td><td>1.18</td><td>14.1</td><td>0.172</td><td>82.1</td><td>9.24</td><td>0.0</td><td>13.2</td><td>0.192</td><td>68.5</td><td>5.24</td><td>0</td><td>4.63</td><td>--</td><td>1.46</td><td>0.0214</td><td>0</td><td>1</td><td>1</td><td>0.0137687 .. -0.0060447566</td><td>-0.013851131 .. -0.012309242</td><td>-0.012057202 .. -0.010552663</td><td>a</td><td>15.7</td><td>0.996</td><td>15.7</td><td>17.6</td><td>1.9</td><td>9.26</td><td>19.4</td><td>2.54</td><td>7.64</td><td>1.12</td><td>1.1</td><td>17.5</td><td>0.716</td><td>24.5</td><td>4.87</td><td>0</td><td>17.3</td><td>0.742</td><td>23.2</td><td>4.58</td><td>0</td><td>4.5</td><td>--</td><td>1.12</td><td>0</td><td>0</td><td>0</td><td>0.056</td><td>-0.013989766 .. -0.020645522</td><td>-0.03255373 .. -0.014349979</td><td>-0.032452732 .. -0.014055125</td><td>266.41179166666666,-28.875541666666667</td><td>Field31</td><td>SFGC0.055+0.0265</td><td>SFGC0.055+0.0266</td><td>1</td><td>1</td><td>1</td><td>0.537</td><td>000</td><td>--</td><td>--</td><td>--</td><td>000</td><td>--</td><td>--</td><td>--</td><td>113</td><td>266.41179166666666,-28.875541666666667</td><td>0521894</td><td>0.141</td><td>5.598</td><td>7.410</td><td>9.378</td><td>10.668</td><td>--</td><td>--</td><td>--</td></tr>\n",
       "<tr><td>SFGC359.639-0.0576</td><td>17h44m58.96s</td><td>-29d16m27.46s</td><td>m</td><td>3.39</td><td>0.122</td><td>27.7</td><td>5.28</td><td>0.245</td><td>21.6</td><td>7.67</td><td>0.367</td><td>20.9</td><td>1.56</td><td>1.45</td><td>5.58</td><td>0.0704</td><td>79.2</td><td>3.82</td><td>0.0</td><td>4.02</td><td>0.098</td><td>41</td><td>6.68</td><td>0</td><td>2.53</td><td>0.594</td><td>1.21</td><td>0.0214</td><td>0</td><td>1</td><td>0</td><td>0.0011366992 .. 0.0113458</td><td>-0.0031141685 .. 0.010606364</td><td>-0.00053392415 .. 0.01316614</td><td>a</td><td>3.53</td><td>0.956</td><td>3.69</td><td>8.97</td><td>1.83</td><td>4.91</td><td>16.5</td><td>2.43</td><td>6.78</td><td>2.54</td><td>1.84</td><td>--</td><td>--</td><td>--</td><td>--</td><td>1</td><td>8.05</td><td>1.86</td><td>4.33</td><td>3.04</td><td>0</td><td>11.8</td><td>--</td><td>1.31</td><td>0</td><td>0</td><td>0</td><td>0.0283</td><td>-0.0019586748 .. 0.04764301</td><td>-- .. --</td><td>-0.012796373 .. 0.018000342</td><td>266.24566666666664,-29.274294444444447</td><td>Field45</td><td>SFGC359.639-0.0576</td><td>SFGC359.639-0.0577</td><td>1</td><td>1</td><td>1</td><td>0.47</td><td>000</td><td>--</td><td>--</td><td>--</td><td>000</td><td>--</td><td>--</td><td>--</td><td>89</td><td>266.24566666666664,-29.274294444444443</td><td>0414950</td><td>0.144</td><td>3.708</td><td>3.756</td><td>5.737</td><td>--</td><td>10.605</td><td>7.348</td><td>5.658</td></tr>\n",
       "<tr><td>SFGC359.410+0.0325</td><td>17h44m04.82s</td><td>-29d25m21.08s</td><td>a</td><td>2.74</td><td>0.0849</td><td>32.2</td><td>7.38</td><td>0.17</td><td>43.5</td><td>11.5</td><td>0.255</td><td>45.3</td><td>2.7</td><td>1.56</td><td>8.83</td><td>0.167</td><td>52.7</td><td>1.72</td><td>0.0</td><td>8.76</td><td>0.203</td><td>43.2</td><td>1.82</td><td>0</td><td>10.5</td><td>--</td><td>1.21</td><td>0.0237</td><td>0</td><td>0</td><td>0</td><td>-0.0015718809 .. 0.015309025</td><td>-0.0070291045 .. -0.005470701</td><td>0.0005994801 .. 0.0020603056</td><td>a</td><td>6.46</td><td>0.189</td><td>34.2</td><td>17.7</td><td>0.361</td><td>49</td><td>24.8</td><td>0.481</td><td>51.5</td><td>2.73</td><td>1.4</td><td>14.8</td><td>0.345</td><td>43</td><td>1.15</td><td>0</td><td>14.8</td><td>0.433</td><td>34.2</td><td>1.15</td><td>0</td><td>13.9</td><td>--</td><td>1.26</td><td>0</td><td>0</td><td>1</td><td>0.027</td><td>0.019314835 .. 0.0036558802</td><td>-0.016732201 .. 0.0022502774</td><td>-0.0038788246 .. 0.013803407</td><td>266.02008333333333,-29.422522222222227</td><td>Field49</td><td>SFGC359.410+0.0325</td><td>SFGC359.409+0.0323</td><td>1</td><td>1</td><td>1</td><td>2.04</td><td>000</td><td>--</td><td>--</td><td>--</td><td>000</td><td>--</td><td>--</td><td>--</td><td>376</td><td>266.02008333333333,-29.422522222222224</td><td>0279869</td><td>0.153</td><td>7.883</td><td>--</td><td>--</td><td>--</td><td>--</td><td>--</td><td>--</td></tr>\n",
       "<tr><td>...</td><td>...</td><td>...</td><td>...</td><td>...</td><td>...</td><td>...</td><td>...</td><td>...</td><td>...</td><td>...</td><td>...</td><td>...</td><td>...</td><td>...</td><td>...</td><td>...</td><td>...</td><td>...</td><td>...</td><td>...</td><td>...</td><td>...</td><td>...</td><td>...</td><td>...</td><td>...</td><td>...</td><td>...</td><td>...</td><td>...</td><td>...</td><td>...</td><td>...</td><td>...</td><td>...</td><td>...</td><td>...</td><td>...</td><td>...</td><td>...</td><td>...</td><td>...</td><td>...</td><td>...</td><td>...</td><td>...</td><td>...</td><td>...</td><td>...</td><td>...</td><td>...</td><td>...</td><td>...</td><td>...</td><td>...</td><td>...</td><td>...</td><td>...</td><td>...</td><td>...</td><td>...</td><td>...</td><td>...</td><td>...</td><td>...</td><td>...</td><td>...</td><td>...</td><td>...</td><td>...</td><td>...</td><td>...</td><td>...</td><td>...</td><td>...</td><td>...</td><td>...</td><td>...</td><td>...</td><td>...</td><td>...</td><td>...</td><td>...</td><td>...</td><td>...</td><td>...</td><td>...</td><td>...</td><td>...</td><td>...</td><td>...</td><td>...</td><td>...</td></tr>\n",
       "<tr><td>SFGC0.004-0.0678</td><td>17h45m53.63s</td><td>-28d58m05.20s</td><td>a</td><td>7.24</td><td>0.0964</td><td>75.1</td><td>18.6</td><td>0.193</td><td>96.4</td><td>25.5</td><td>0.289</td><td>88.3</td><td>2.57</td><td>1.37</td><td>21.6</td><td>0.185</td><td>117</td><td>6.4</td><td>0.0</td><td>21.5</td><td>0.205</td><td>105</td><td>5.41</td><td>0</td><td>9.34</td><td>--</td><td>1.18</td><td>0.0214</td><td>0</td><td>0</td><td>0</td><td>0.01060295 .. -0.0026305704</td><td>0.027550252 .. -0.012777728</td><td>0.027148029 .. -0.009231678</td><td>a</td><td>21.1</td><td>0.294</td><td>71.8</td><td>48.3</td><td>0.562</td><td>85.9</td><td>59.4</td><td>0.749</td><td>79.3</td><td>2.29</td><td>1.23</td><td>--</td><td>--</td><td>--</td><td>--</td><td>1</td><td>43</td><td>0.554</td><td>77.6</td><td>3.44</td><td>0</td><td>11.4</td><td>--</td><td>1.37</td><td>0</td><td>0</td><td>0</td><td>0.0283</td><td>0.02163179 .. 0.004021705</td><td>-- .. --</td><td>0.025882738 .. 0.0071214554</td><td>266.47345833333327,-28.968111111111114</td><td>Field34</td><td>SFGC0.004-0.0678</td><td>SFGC0.004-0.0681</td><td>1</td><td>1</td><td>1</td><td>1.23</td><td>000</td><td>--</td><td>--</td><td>--</td><td>000</td><td>--</td><td>--</td><td>--</td><td>264</td><td>266.47345833333327,-28.96811111111111</td><td>0562378</td><td>2.927</td><td>5.544</td><td>--</td><td>--</td><td>--</td><td>--</td><td>--</td><td>--</td></tr>\n",
       "<tr><td>SFGC359.491-0.0740</td><td>17h44m41.48s</td><td>-29d24m33.85s</td><td>a</td><td>5.06</td><td>0.0874</td><td>58</td><td>11.4</td><td>0.175</td><td>65.5</td><td>15.7</td><td>0.262</td><td>59.8</td><td>2.26</td><td>1.37</td><td>13.1</td><td>0.126</td><td>104</td><td>5.18</td><td>0.0</td><td>12.7</td><td>0.158</td><td>80.3</td><td>3.84</td><td>0</td><td>7.98</td><td>--</td><td>1.39</td><td>0.019</td><td>0</td><td>0</td><td>0</td><td>-0.0031773853 .. 0.004800711</td><td>-0.00571491 .. -0.007553329</td><td>0.0044299653 .. 0.0043044933</td><td>a</td><td>7.64</td><td>0.189</td><td>40.4</td><td>17.2</td><td>0.361</td><td>47.5</td><td>22.7</td><td>0.481</td><td>47.1</td><td>2.25</td><td>1.32</td><td>15.3</td><td>0.297</td><td>51.7</td><td>2.38</td><td>0</td><td>15.3</td><td>0.329</td><td>46.4</td><td>1.69</td><td>0</td><td>10.5</td><td>--</td><td>1.4</td><td>0</td><td>0</td><td>0</td><td>0.0334</td><td>0.011803676 .. 0.02471127</td><td>-0.010595827 .. -0.01276301</td><td>0.0015819976 .. 0.0005903715</td><td>266.1728333333333,-29.409402777777775</td><td>Field48</td><td>SFGC359.491-0.0740</td><td>SFGC359.490-0.0740</td><td>1</td><td>1</td><td>1</td><td>0.423</td><td>000</td><td>--</td><td>--</td><td>--</td><td>000</td><td>--</td><td>--</td><td>--</td><td>82</td><td>266.1728333333333,-29.409402777777775</td><td>0368854</td><td>2.927</td><td>6.380</td><td>--</td><td>9.641</td><td>10.834</td><td>--</td><td>--</td><td>--</td></tr>\n",
       "<tr><td>SFGC0.649-0.0357</td><td>17h47m17.73s</td><td>-28d24m01.63s</td><td>a</td><td>0.522</td><td>0.0441</td><td>11.8</td><td>0.875</td><td>0.0881</td><td>9.93</td><td>0.768</td><td>0.132</td><td>5.81</td><td>1.68</td><td>0.878</td><td>0.874</td><td>0.0545</td><td>16</td><td>1.1</td><td>0.0</td><td>--</td><td>--</td><td>--</td><td>--</td><td>1</td><td>20</td><td>--</td><td>1</td><td>0.0214</td><td>0</td><td>0</td><td>0</td><td>-2.631207e-05 .. -0.0041337865</td><td>-0.00029253305 .. 0.006090621</td><td>-- .. --</td><td>g</td><td>2.92</td><td>0.108</td><td>27.1</td><td>4.92</td><td>0.206</td><td>23.9</td><td>4.89</td><td>0.274</td><td>17.8</td><td>1.69</td><td>0.994</td><td>4.75</td><td>0.131</td><td>36.3</td><td>1.6</td><td>0</td><td>4.76</td><td>0.138</td><td>34.5</td><td>1.48</td><td>0</td><td>7.74</td><td>1.15</td><td>1.33</td><td>0</td><td>0</td><td>0</td><td>0.0283</td><td>-0.0067561576 .. -0.014851357</td><td>-0.009958263 .. -0.007632389</td><td>-0.008778403 .. -0.0054806173</td><td>266.823875,-28.400452777777776</td><td>Field03</td><td>SFGC0.649-0.0357</td><td>SFGC0.648-0.0354</td><td>1</td><td>1</td><td>1</td><td>1.54</td><td>000</td><td>--</td><td>--</td><td>--</td><td>000</td><td>--</td><td>--</td><td>--</td><td>304</td><td>266.823875,-28.400452777777776</td><td>0783999</td><td>2.945</td><td>7.984</td><td>--</td><td>--</td><td>--</td><td>--</td><td>--</td><td>--</td></tr>\n",
       "<tr><td>SFGC0.214-0.0758</td><td>17h46m25.47s</td><td>-28d47m33.74s</td><td>g</td><td>0.878</td><td>0.0787</td><td>11.1</td><td>1.46</td><td>0.157</td><td>9.29</td><td>1.28</td><td>0.236</td><td>5.42</td><td>1.67</td><td>0.876</td><td>--</td><td>--</td><td>--</td><td>--</td><td>1.0</td><td>1.61</td><td>0.107</td><td>15</td><td>1.4</td><td>0</td><td>6</td><td>1.1</td><td>1.46</td><td>0.0214</td><td>0</td><td>0</td><td>0</td><td>0.01529951 .. -0.009181277</td><td>-- .. --</td><td>0.000788806 .. -0.0018220155</td><td>a</td><td>2.76</td><td>0.215</td><td>12.8</td><td>2.98</td><td>0.411</td><td>7.26</td><td>3.16</td><td>0.547</td><td>5.78</td><td>1.08</td><td>1.06</td><td>--</td><td>--</td><td>--</td><td>--</td><td>1</td><td>--</td><td>--</td><td>--</td><td>--</td><td>1</td><td>--</td><td>--</td><td>--</td><td>0</td><td>0</td><td>0</td><td>0.0283</td><td>0.00489613 .. -0.00500993</td><td>-- .. --</td><td>-- .. --</td><td>266.60612499999996,-28.79270555555556</td><td>Field12</td><td>SFGC0.214-0.0758</td><td>SFGC0.214-0.0756</td><td>1</td><td>1</td><td>1</td><td>0.92</td><td>000</td><td>--</td><td>--</td><td>--</td><td>000</td><td>--</td><td>--</td><td>--</td><td>200</td><td>266.60612499999996,-28.792705555555557</td><td>0650438</td><td>2.947</td><td>7.095</td><td>8.977</td><td>--</td><td>--</td><td>--</td><td>--</td><td>--</td></tr>\n",
       "<tr><td>SFGC359.956-0.0510</td><td>17h45m42.91s</td><td>-28d59m59.71s</td><td>a</td><td>34.3</td><td>1.92</td><td>17.9</td><td>88.7</td><td>3.84</td><td>23.1</td><td>141</td><td>5.75</td><td>24.5</td><td>2.59</td><td>1.59</td><td>104</td><td>3.79</td><td>27.4</td><td>55.9</td><td>0.0</td><td>103</td><td>4.19</td><td>24.6</td><td>60.5</td><td>0</td><td>9.6</td><td>--</td><td>1.08</td><td>0.0214</td><td>0</td><td>1</td><td>1</td><td>0.07552722 .. 0.27926648</td><td>-0.049466114 .. 0.11940155</td><td>-0.020673415 .. 0.14233047</td><td>a</td><td>90.4</td><td>7.87</td><td>11.5</td><td>240</td><td>15</td><td>16</td><td>373</td><td>20</td><td>18.6</td><td>2.66</td><td>1.55</td><td>--</td><td>--</td><td>--</td><td>--</td><td>1</td><td>207</td><td>18.5</td><td>11.2</td><td>137</td><td>0</td><td>14.2</td><td>--</td><td>1.3</td><td>1</td><td>1</td><td>0</td><td>0.0283</td><td>0.13282278 .. 1.1213028</td><td>-- .. --</td><td>-0.07651367 .. 0.35095865</td><td>266.42879166666665,-28.999919444444448</td><td>Field40</td><td>SFGC359.956-0.0510</td><td>SFGC359.956-0.0508</td><td>1</td><td>1</td><td>1</td><td>0.726</td><td>000</td><td>--</td><td>--</td><td>--</td><td>000</td><td>--</td><td>--</td><td>--</td><td>154</td><td>266.42879166666665,-28.999919444444444</td><td>0532584</td><td>2.951</td><td>4.774</td><td>4.932</td><td>5.947</td><td>6.927</td><td>14.798</td><td>10.416</td><td>7.978</td></tr>\n",
       "<tr><td>SFGC0.162-0.0662</td><td>17h46m15.86s</td><td>-28d49m54.95s</td><td>a</td><td>15.2</td><td>1.34</td><td>11.4</td><td>40</td><td>2.67</td><td>15</td><td>66.8</td><td>4.01</td><td>16.6</td><td>2.63</td><td>1.67</td><td>--</td><td>--</td><td>--</td><td>--</td><td>1.0</td><td>52</td><td>4.36</td><td>11.9</td><td>191</td><td>0</td><td>14.3</td><td>--</td><td>3.72</td><td>0.0214</td><td>1</td><td>1</td><td>0</td><td>0.33283034 .. 0.10229594</td><td>-- .. --</td><td>0.01041203 .. 0.023577632</td><td>a</td><td>27.6</td><td>2.03</td><td>13.6</td><td>69.7</td><td>3.87</td><td>18</td><td>101</td><td>5.17</td><td>19.6</td><td>2.53</td><td>1.45</td><td>--</td><td>--</td><td>--</td><td>--</td><td>1</td><td>62.2</td><td>5.57</td><td>11.2</td><td>36.3</td><td>0</td><td>16.6</td><td>--</td><td>3.9</td><td>1</td><td>1</td><td>0</td><td>0.0283</td><td>0.3774826 .. 0.091607004</td><td>-- .. --</td><td>0.0133151915 .. -0.035046577</td><td>266.5660833333333,-28.83193055555556</td><td>Field18</td><td>SFGC0.162-0.0662</td><td>SFGC0.162-0.0664</td><td>1</td><td>1</td><td>1</td><td>0.837</td><td>000</td><td>--</td><td>--</td><td>--</td><td>000</td><td>--</td><td>--</td><td>--</td><td>179</td><td>266.5660833333333,-28.831930555555555</td><td>0623735</td><td>2.953</td><td>6.215</td><td>--</td><td>--</td><td>--</td><td>--</td><td>--</td><td>--</td></tr>\n",
       "<tr><td>SFGC359.513-0.0843</td><td>17h44m47.11s</td><td>-29d23m44.77s</td><td>m</td><td>3.51</td><td>0.0839</td><td>41.9</td><td>6.02</td><td>0.168</td><td>35.9</td><td>8.51</td><td>0.252</td><td>33.8</td><td>1.71</td><td>1.41</td><td>6.74</td><td>0.0693</td><td>97.3</td><td>2.93</td><td>0.0</td><td>5.81</td><td>0.101</td><td>57.8</td><td>4.65</td><td>0</td><td>3.63</td><td>1.71</td><td>1.15</td><td>0.019</td><td>0</td><td>0</td><td>0</td><td>-0.0052720527 .. 0.002631939</td><td>-0.0037210688 .. -0.0024997548</td><td>0.0005358079 .. 0.002235549</td><td>a</td><td>7.29</td><td>0.175</td><td>41.7</td><td>16.6</td><td>0.334</td><td>49.8</td><td>21.9</td><td>0.445</td><td>49.3</td><td>2.28</td><td>1.32</td><td>14.7</td><td>0.276</td><td>53.2</td><td>1.96</td><td>0</td><td>14.6</td><td>0.298</td><td>49</td><td>1.41</td><td>0</td><td>10.3</td><td>--</td><td>1.37</td><td>0</td><td>0</td><td>0</td><td>0.0334</td><td>0.002990242 .. 0.0058472236</td><td>0.0015902591 .. 0.0013604384</td><td>0.012445024 .. 0.013111573</td><td>266.19629166666664,-29.395769444444447</td><td>Field47</td><td>SFGC359.513-0.0843</td><td>SFGC359.513-0.0840</td><td>1</td><td>1</td><td>1</td><td>1.09</td><td>000</td><td>--</td><td>--</td><td>--</td><td>000</td><td>--</td><td>--</td><td>--</td><td>241</td><td>266.19629166666664,-29.395769444444444</td><td>0383448</td><td>2.968</td><td>5.637</td><td>--</td><td>--</td><td>--</td><td>--</td><td>--</td><td>--</td></tr>\n",
       "<tr><td>SFGC359.946-0.0257</td><td>17h45m35.49s</td><td>-28d59m44.38s</td><td>a</td><td>1.55</td><td>0.15</td><td>10.3</td><td>4.22</td><td>0.3</td><td>14</td><td>7.11</td><td>0.45</td><td>15.8</td><td>2.72</td><td>1.69</td><td>--</td><td>--</td><td>--</td><td>--</td><td>1.0</td><td>--</td><td>--</td><td>--</td><td>--</td><td>1</td><td>--</td><td>--</td><td>--</td><td>0.0214</td><td>0</td><td>0</td><td>0</td><td>0.014276668 .. 0.007825445</td><td>-- .. --</td><td>-- .. --</td><td>a</td><td>3.38</td><td>0.73</td><td>4.63</td><td>9.09</td><td>1.39</td><td>6.52</td><td>12.5</td><td>1.86</td><td>6.74</td><td>2.69</td><td>1.38</td><td>7.81</td><td>0.751</td><td>10.4</td><td>5.34</td><td>0</td><td>--</td><td>--</td><td>--</td><td>--</td><td>1</td><td>26</td><td>--</td><td>--</td><td>0</td><td>0</td><td>0</td><td>0.0283</td><td>0.144796 .. -0.01986293</td><td>0.006654638 .. 0.003550307</td><td>-- .. --</td><td>266.397875,-28.99566111111111</td><td>Field41</td><td>SFGC359.946-0.0257</td><td>--</td><td>0</td><td>1</td><td>0</td><td>--</td><td>000</td><td>--</td><td>--</td><td>--</td><td>000</td><td>--</td><td>--</td><td>--</td><td>530</td><td>266.397875,-28.99566111111111</td><td>0513261</td><td>2.982</td><td>6.530</td><td>7.033</td><td>7.767</td><td>7.893</td><td>16.128</td><td>11.790</td><td>9.622</td></tr>\n",
       "<tr><td>SFGC359.949-0.0431</td><td>17h45m40.04s</td><td>-29d00m06.67s</td><td>a</td><td>58.9</td><td>7.82</td><td>7.53</td><td>186</td><td>15.6</td><td>11.9</td><td>430</td><td>23.4</td><td>18.3</td><td>3.15</td><td>2.32</td><td>--</td><td>--</td><td>--</td><td>--</td><td>1.0</td><td>--</td><td>--</td><td>--</td><td>--</td><td>1</td><td>--</td><td>--</td><td>--</td><td>0.0214</td><td>0</td><td>1</td><td>1</td><td>5.5312295 .. 0.34408545</td><td>-- .. --</td><td>-- .. --</td><td>a</td><td>124</td><td>10.8</td><td>11.4</td><td>381</td><td>20.6</td><td>18.5</td><td>655</td><td>27.5</td><td>23.8</td><td>3.08</td><td>1.72</td><td>--</td><td>--</td><td>--</td><td>--</td><td>1</td><td>313</td><td>35.8</td><td>8.75</td><td>216</td><td>0</td><td>20</td><td>--</td><td>1.61</td><td>1</td><td>1</td><td>1</td><td>0.0283</td><td>0.0007757627 .. 0.34576464</td><td>-- .. --</td><td>1.2227505 .. -0.54548854</td><td>266.41683333333333,-29.00185277777778</td><td>Field38</td><td>--</td><td>SFGC359.949-0.0431</td><td>--</td><td>--</td><td>--</td><td>--</td><td>000</td><td>--</td><td>--</td><td>--</td><td>000</td><td>--</td><td>--</td><td>--</td><td>780</td><td>266.41683333333333,-29.001852777777778</td><td>0524678</td><td>2.988</td><td>5.547</td><td>--</td><td>--</td><td>9.165</td><td>--</td><td>--</td><td>--</td></tr>\n",
       "<tr><td>SFGC359.526-0.0672</td><td>17h44m44.96s</td><td>-29d22m32.87s</td><td>a</td><td>--</td><td>--</td><td>--</td><td>--</td><td>--</td><td>--</td><td>--</td><td>--</td><td>--</td><td>--</td><td>--</td><td>--</td><td>--</td><td>--</td><td>--</td><td>1.0</td><td>--</td><td>--</td><td>--</td><td>--</td><td>1</td><td>--</td><td>--</td><td>--</td><td>0.019</td><td>0</td><td>0</td><td>0</td><td>-0.00055418594 .. 0.0012216236</td><td>-- .. --</td><td>-- .. --</td><td>g</td><td>0.817</td><td>0.214</td><td>3.82</td><td>--</td><td>--</td><td>--</td><td>--</td><td>--</td><td>--</td><td>--</td><td>--</td><td>--</td><td>--</td><td>--</td><td>--</td><td>1</td><td>0.899</td><td>0.171</td><td>5.27</td><td>0.713</td><td>0</td><td>4.82</td><td>2.63</td><td>1.62</td><td>0</td><td>0</td><td>0</td><td>0.0334</td><td>-0.0017756594 .. 0.0046721245</td><td>-- .. --</td><td>-0.012725596 .. -0.0061325207</td><td>266.1873333333333,-29.37579722222222</td><td>Field47</td><td>--</td><td>SFGC359.526-0.0672</td><td>--</td><td>--</td><td>--</td><td>--</td><td>111</td><td>0.206</td><td>0.412</td><td>0.619</td><td>011</td><td>--</td><td>1.29</td><td>1.72</td><td>744</td><td>266.1873333333333,-29.37579722222222</td><td>0377852</td><td>2.993</td><td>9.132</td><td>--</td><td>--</td><td>--</td><td>--</td><td>--</td><td>--</td></tr>\n",
       "</table></div>"
      ],
      "text/plain": [
       "<Table length=512>\n",
       "     SourceID       RA(J2000)     DEC(J2000)  ... Jmag_2M Hmag_2M  Kmag_2M \n",
       "                                              ...   mag     mag      mag   \n",
       "     bytes18         bytes12       bytes13    ... float32 float32  float32 \n",
       "------------------ ------------ ------------- ... ------- -------- --------\n",
       "  SFGC0.154+0.0305 17h45m52.11s -28d47m18.29s ...  10.354    7.426    5.802\n",
       "SFGC359.948-0.0293 17h45m36.60s -28d59m45.80s ...      --       --       --\n",
       "  SFGC0.299-0.0610 17h46m34.02s -28d42m46.19s ...  15.855   12.880    9.720\n",
       "  SFGC0.395+0.0076 17h46m31.71s -28d35m41.19s ...      --       --       --\n",
       "SFGC359.954-0.0262 17h45m36.82s -28d59m19.77s ...      --       --       --\n",
       "  SFGC0.036-0.1818 17h46m24.88s -29d00m01.34s ...  17.327   13.881   10.972\n",
       "  SFGC0.055+0.0265 17h45m38.83s -28d52m31.95s ...      --       --       --\n",
       "SFGC359.639-0.0576 17h44m58.96s -29d16m27.46s ...  10.605    7.348    5.658\n",
       "SFGC359.410+0.0325 17h44m04.82s -29d25m21.08s ...      --       --       --\n",
       "               ...          ...           ... ...     ...      ...      ...\n",
       "  SFGC0.004-0.0678 17h45m53.63s -28d58m05.20s ...      --       --       --\n",
       "SFGC359.491-0.0740 17h44m41.48s -29d24m33.85s ...      --       --       --\n",
       "  SFGC0.649-0.0357 17h47m17.73s -28d24m01.63s ...      --       --       --\n",
       "  SFGC0.214-0.0758 17h46m25.47s -28d47m33.74s ...      --       --       --\n",
       "SFGC359.956-0.0510 17h45m42.91s -28d59m59.71s ...  14.798   10.416    7.978\n",
       "  SFGC0.162-0.0662 17h46m15.86s -28d49m54.95s ...      --       --       --\n",
       "SFGC359.513-0.0843 17h44m47.11s -29d23m44.77s ...      --       --       --\n",
       "SFGC359.946-0.0257 17h45m35.49s -28d59m44.38s ...  16.128   11.790    9.622\n",
       "SFGC359.949-0.0431 17h45m40.04s -29d00m06.67s ...      --       --       --\n",
       "SFGC359.526-0.0672 17h44m44.96s -29d22m32.87s ...      --       --       --"
      ]
     },
     "execution_count": 82,
     "metadata": {},
     "output_type": "execute_result"
    }
   ],
   "source": [
    "matchedmcat['SSTGCxmatch']=stgccat[\"SSTGC\"]\n",
    "matchedmcat['SSTGCd2d']=np.round(d2dup,3)\n",
    "#matchedmcat['_8.0mag']=stgccat[\"_8.0mag\"]\n",
    "#matchedmcat['_5.8mag']=stgccat[\"_5.8mag\"]\n",
    "#matchedmcat['_4.5mag']=stgccat[\"_4.5mag\"]\n",
    "#matchedmcat['_3.6mag']=stgccat[\"_3.6mag\"]\n",
    "#matchedmcat['Jmag_2M']=stgccat[\"Jmag\"]\n",
    "#matchedmcat['Hmag_2M']=stgccat[\"Hmag\"]\n",
    "#matchedmcat['Kmag_2M']=stgccat[\"Ksmag\"]\n",
    "\n",
    "matchedmcat"
   ]
  },
  {
   "cell_type": "code",
   "execution_count": 83,
   "id": "7261d047",
   "metadata": {},
   "outputs": [],
   "source": [
    "matchsid=list(matchedmcat['id'])\n",
    "\n",
    "i=0\n",
    "rdx2=[]\n",
    "for source in mcat: #mcat25snrcut\n",
    "    \n",
    "    if source['id'] in matchsid:\n",
    "        #print(i)\n",
    "        rdx2.append(i)\n",
    "        \n",
    "    i=i+1"
   ]
  },
  {
   "cell_type": "code",
   "execution_count": 84,
   "id": "d499ff30",
   "metadata": {},
   "outputs": [
    {
     "data": {
      "text/plain": [
       "512"
      ]
     },
     "execution_count": 84,
     "metadata": {},
     "output_type": "execute_result"
    }
   ],
   "source": [
    "len(rdx2)"
   ]
  },
  {
   "cell_type": "code",
   "execution_count": 85,
   "id": "c570084c",
   "metadata": {},
   "outputs": [],
   "source": [
    "#find sources in mcat that were not found in the cross match\n",
    "notrdx=findNOTindex(mcat,rdx2)\n",
    "onlymcat=mcat[notrdx]\n",
    "\n",
    "onlymcat['SSTGCxmatch']=''"
   ]
  },
  {
   "cell_type": "code",
   "execution_count": 86,
   "id": "ac1d476f",
   "metadata": {},
   "outputs": [],
   "source": [
    "#write out a set of ds9 region files for matched and unmatched sources - useful for visual comparison\n",
    "\n",
    "#set size of regions \n",
    "r = Angle(0.00083333, u.deg) #must be in degrees - current value is r=3\"\n",
    "#write out ds9 files\n",
    "makeDS9reg('mcat_matched_SSTGC.reg', matchedmcat, r, color='cyan');\n",
    "makeDS9reg('mcat_nonmatched_SSTGC.reg', onlymcat, r, color='red');"
   ]
  },
  {
   "cell_type": "code",
   "execution_count": 87,
   "id": "728f2079",
   "metadata": {
    "scrolled": true
   },
   "outputs": [
    {
     "data": {
      "text/html": [
       "<div><i>Table length=950</i>\n",
       "<table id=\"table2644553242608\" class=\"table-striped table-bordered table-condensed\">\n",
       "<thead><tr><th>SourceID</th><th>RA(J2000)</th><th>DEC(J2000)</th><th>25BestModel</th><th>25um_Flux_4pix</th><th>25um_Flux_4pix_err</th><th>25um_SNR_4pix</th><th>25um_Flux_8pix</th><th>25um_Flux_8pix_err</th><th>25um_SNR_8pix</th><th>25um_Flux_12pix</th><th>25um_Flux_12pix_err</th><th>25um_SNR_12pix</th><th>25ApRatio8_4</th><th>25ApRatio12_8</th><th>25um_Flux_M2D</th><th>25um_Flux_M2D_err</th><th>25um_SNR_M2D</th><th>25um_M2D_chi2</th><th>M2D25_qflag</th><th>25um_Flux_G2D</th><th>25um_Flux_G2D_err</th><th>25um_SNR_G2D</th><th>25um_G2D_chi2</th><th>G2D25_qflag</th><th>fwhm25</th><th>fwhm25err</th><th>elong25</th><th>ErrCalF25</th><th>vExtFlag25</th><th>bkg_qflag25</th><th>edge_flag25</th><th>cutout25 [25,25]</th><th>M2Dresid25 [17,17]</th><th>G2Dresid25 [17,17]</th><th>37BestModel</th><th>37um_Flux_5.5pix</th><th>37um_Flux_5.5pix_err</th><th>37um_SNR_5.5pix</th><th>37um_Flux_10.5pix</th><th>37um_Flux_10.5pix_err</th><th>37um_SNR_10.5pix</th><th>37um_Flux_14pix</th><th>37um_Flux_14pix_err</th><th>37um_SNR_14pix</th><th>37ApRatio10.5_5.5</th><th>37ApRatio14_10.5</th><th>37um_Flux_M2D</th><th>37um_Flux_M2D_err</th><th>37um_SNR_M2D</th><th>37um_M2D_chi2</th><th>M2D37_qflag</th><th>37um_Flux_G2D</th><th>37um_Flux_G2D_err</th><th>37um_SNR_G2D</th><th>37um_G2D_chi2</th><th>G2D37_qflag</th><th>fwhm37</th><th>fwhm37err</th><th>elong37</th><th>vExtFlag37</th><th>bkg_qflag37</th><th>edge_flag37</th><th>ErrCalF37</th><th>cutout37 [31,31]</th><th>M2Dresid37 [17,17]</th><th>G2Dresid37 [17,17]</th><th>sky_centroid</th><th>FieldID</th><th>SID25</th><th>SID37</th><th>Found25</th><th>Found37</th><th>Matched</th><th>F25_F37_sep</th><th>25ApPhot_qflag</th><th>25Ap_4pix_UL</th><th>25Ap_8pix_UL</th><th>25Ap_12pix_UL</th><th>37ApPhot_qflag</th><th>37Ap_5.5pix_UL</th><th>37Ap_10.5pix_UL</th><th>37Ap_14pix_UL</th><th>id</th><th>skycoords</th><th>SSTGCxmatch</th><th>SSTGCd2d</th><th>_8.0mag</th><th>_5.8mag</th><th>_4.5mag</th><th>_3.6mag</th><th>Jmag_2M</th><th>Hmag_2M</th><th>Kmag_2M</th></tr></thead>\n",
       "<thead><tr><th></th><th></th><th></th><th></th><th></th><th></th><th></th><th></th><th></th><th></th><th></th><th></th><th></th><th></th><th></th><th></th><th></th><th></th><th></th><th></th><th></th><th></th><th></th><th></th><th></th><th></th><th></th><th></th><th></th><th></th><th></th><th></th><th></th><th></th><th></th><th></th><th></th><th></th><th></th><th></th><th></th><th></th><th></th><th></th><th></th><th></th><th></th><th></th><th></th><th></th><th></th><th></th><th></th><th></th><th></th><th></th><th></th><th></th><th></th><th></th><th></th><th></th><th></th><th></th><th></th><th></th><th></th><th>deg,deg</th><th></th><th></th><th></th><th></th><th></th><th></th><th></th><th></th><th></th><th></th><th></th><th></th><th></th><th></th><th></th><th></th><th>deg,deg</th><th></th><th></th><th>mag</th><th>mag</th><th>mag</th><th>mag</th><th>mag</th><th>mag</th><th>mag</th></tr></thead>\n",
       "<thead><tr><th>bytes18</th><th>bytes12</th><th>bytes13</th><th>bytes1</th><th>float32</th><th>float32</th><th>float32</th><th>float32</th><th>float32</th><th>float32</th><th>float32</th><th>float32</th><th>float32</th><th>float32</th><th>float32</th><th>float32</th><th>float32</th><th>float32</th><th>float32</th><th>float64</th><th>float32</th><th>float32</th><th>float32</th><th>float32</th><th>int32</th><th>float32</th><th>float32</th><th>float32</th><th>float32</th><th>int32</th><th>int32</th><th>int32</th><th>float32</th><th>float32</th><th>float32</th><th>bytes1</th><th>float32</th><th>float32</th><th>float32</th><th>float32</th><th>float32</th><th>float32</th><th>float32</th><th>float32</th><th>float32</th><th>float32</th><th>float32</th><th>float32</th><th>float32</th><th>float32</th><th>float32</th><th>int32</th><th>float32</th><th>float32</th><th>float32</th><th>float32</th><th>int32</th><th>float32</th><th>float32</th><th>float32</th><th>int32</th><th>int32</th><th>int32</th><th>float32</th><th>float32</th><th>float32</th><th>float32</th><th>object</th><th>bytes7</th><th>bytes18</th><th>bytes18</th><th>int32</th><th>int32</th><th>int32</th><th>float32</th><th>bytes3</th><th>float32</th><th>float32</th><th>float32</th><th>bytes3</th><th>float32</th><th>float32</th><th>float32</th><th>int32</th><th>object</th><th>str7</th><th>float64</th><th>float32</th><th>float32</th><th>float32</th><th>float32</th><th>float32</th><th>float32</th><th>float32</th></tr></thead>\n",
       "<tr><td>SFGC0.154+0.0305</td><td>17h45m52.11s</td><td>-28d47m18.29s</td><td>a</td><td>1.21</td><td>0.0754</td><td>16.1</td><td>2.91</td><td>0.151</td><td>19.3</td><td>4.13</td><td>0.226</td><td>18.3</td><td>2.4</td><td>1.42</td><td>--</td><td>--</td><td>--</td><td>--</td><td>1.0</td><td>3.37</td><td>0.14</td><td>24.1</td><td>1.72</td><td>0</td><td>8.17</td><td>--</td><td>1.19</td><td>0.0214</td><td>0</td><td>0</td><td>0</td><td>0.012317061 .. 0.010174385</td><td>-- .. --</td><td>-0.00020164582 .. -0.010862777</td><td>a</td><td>1.74</td><td>0.404</td><td>4.29</td><td>4.79</td><td>0.771</td><td>6.21</td><td>6.85</td><td>1.03</td><td>6.66</td><td>2.76</td><td>1.43</td><td>--</td><td>--</td><td>--</td><td>--</td><td>1</td><td>4.02</td><td>0.776</td><td>5.18</td><td>1.28</td><td>0</td><td>11.6</td><td>--</td><td>1.71</td><td>0</td><td>0</td><td>0</td><td>0.0283</td><td>0.102191195 .. 0.010739732</td><td>-- .. --</td><td>0.0066655492 .. -0.01574394</td><td>266.467125,-28.788413888888893</td><td>Field20</td><td>SFGC0.154+0.0305</td><td></td><td>0</td><td>1</td><td>0</td><td>--</td><td>000</td><td>--</td><td>--</td><td>--</td><td>000</td><td>--</td><td>--</td><td>--</td><td>613</td><td>266.467125,-28.78841388888889</td><td>0558345</td><td>0.11</td><td>3.661</td><td>3.473</td><td>--</td><td>--</td><td>10.354</td><td>7.426</td><td>5.802</td></tr>\n",
       "<tr><td>SFGC359.948-0.0293</td><td>17h45m36.60s</td><td>-28d59m45.80s</td><td>a</td><td>1.93</td><td>0.274</td><td>7.06</td><td>4.92</td><td>0.548</td><td>8.98</td><td>8.44</td><td>0.822</td><td>10.3</td><td>2.54</td><td>1.71</td><td>--</td><td>--</td><td>--</td><td>--</td><td>1.0</td><td>6.09</td><td>0.691</td><td>8.81</td><td>4.12</td><td>0</td><td>11.1</td><td>--</td><td>1.58</td><td>0.0214</td><td>0</td><td>1</td><td>0</td><td>0.050377894 .. -0.013156525</td><td>-- .. --</td><td>0.024666041 .. -0.011547057</td><td>a</td><td>10.1</td><td>1.17</td><td>8.64</td><td>28</td><td>2.23</td><td>12.5</td><td>42.4</td><td>2.98</td><td>14.2</td><td>2.77</td><td>1.52</td><td>--</td><td>--</td><td>--</td><td>--</td><td>1</td><td>23.4</td><td>2.91</td><td>8.05</td><td>2.75</td><td>0</td><td>15</td><td>--</td><td>1.3</td><td>1</td><td>0</td><td>0</td><td>0.0283</td><td>0.26187968 .. -0.06528417</td><td>-- .. --</td><td>0.04126874 .. -0.004408556</td><td>266.4025,-28.99605555555556</td><td>Field41</td><td>SFGC359.948-0.0293</td><td></td><td>0</td><td>1</td><td>0</td><td>--</td><td>000</td><td>--</td><td>--</td><td>--</td><td>000</td><td>--</td><td>--</td><td>--</td><td>531</td><td>266.4025,-28.996055555555557</td><td>0515803</td><td>0.131</td><td>6.617</td><td>--</td><td>--</td><td>--</td><td>--</td><td>--</td><td>--</td></tr>\n",
       "<tr><td>SFGC0.299-0.0610</td><td>17h46m34.02s</td><td>-28d42m46.19s</td><td>g</td><td>0.318</td><td>0.0665</td><td>4.78</td><td>--</td><td>--</td><td>--</td><td>--</td><td>--</td><td>--</td><td>--</td><td>--</td><td>--</td><td>--</td><td>--</td><td>--</td><td>1.0</td><td>0.358</td><td>0.0399</td><td>8.99</td><td>1.72</td><td>0</td><td>2.64</td><td>0.948</td><td>1.28</td><td>0.0214</td><td>0</td><td>0</td><td>0</td><td>0.0046728295 .. -0.010867304</td><td>-- .. --</td><td>0.0044102594 .. -0.00626117</td><td>a</td><td>--</td><td>--</td><td>--</td><td>--</td><td>--</td><td>--</td><td>--</td><td>--</td><td>--</td><td>--</td><td>--</td><td>0.137</td><td>0.0426</td><td>3.23</td><td>1.66</td><td>0</td><td>0.132</td><td>0.0404</td><td>3.27</td><td>1.66</td><td>0</td><td>1.52</td><td>--</td><td>1.36</td><td>0</td><td>0</td><td>0</td><td>0.0283</td><td>-0.00489589 .. -0.013288289</td><td>-0.0020012243 .. -0.034825362</td><td>-0.0020012243 .. -0.034825362</td><td>266.64174999999994,-28.712830555555556</td><td>Field11</td><td>SFGC0.299-0.0610</td><td></td><td>0</td><td>1</td><td>0</td><td>--</td><td>011</td><td>--</td><td>0.415</td><td>0.622</td><td>111</td><td>0.476</td><td>0.909</td><td>1.21</td><td>672</td><td>266.64174999999994,-28.712830555555556</td><td>0673798</td><td>0.132</td><td>5.558</td><td>5.743</td><td>6.466</td><td>7.191</td><td>15.855</td><td>12.880</td><td>9.720</td></tr>\n",
       "<tr><td>SFGC0.395+0.0076</td><td>17h46m31.71s</td><td>-28d35m41.19s</td><td>g</td><td>0.939</td><td>0.0553</td><td>17</td><td>1.53</td><td>0.111</td><td>13.8</td><td>2.13</td><td>0.166</td><td>12.8</td><td>1.63</td><td>1.39</td><td>1.69</td><td>0.0315</td><td>53.7</td><td>0.948</td><td>0.0</td><td>1.15</td><td>0.0469</td><td>24.6</td><td>1.16</td><td>0</td><td>3.73</td><td>0.367</td><td>1.1</td><td>0.0237</td><td>0</td><td>0</td><td>1</td><td>-0.0041721943 .. 0.0033475205</td><td>0.006165268 .. -0.002404517</td><td>0.007233214 .. -0.0012212958</td><td>g</td><td>0.703</td><td>0.106</td><td>6.63</td><td>0.892</td><td>0.202</td><td>4.41</td><td>--</td><td>--</td><td>--</td><td>1.27</td><td>--</td><td>0.865</td><td>0.0436</td><td>19.8</td><td>0.559</td><td>0</td><td>0.948</td><td>0.0827</td><td>11.5</td><td>0.546</td><td>0</td><td>4.72</td><td>3.26</td><td>1.98</td><td>0</td><td>0</td><td>0</td><td>0.027</td><td>0.004471551 .. -0.003152961</td><td>-0.010298081 .. 0.009193374</td><td>-0.010016264 .. 0.009464073</td><td>266.632125,-28.594775</td><td>Field09</td><td>SFGC0.395+0.0076</td><td>SFGC0.395+0.0072</td><td>1</td><td>1</td><td>1</td><td>1.38</td><td>000</td><td>--</td><td>--</td><td>--</td><td>001</td><td>--</td><td>--</td><td>0.8</td><td>288</td><td>266.632125,-28.594775</td><td>0667560</td><td>0.132</td><td>5.041</td><td>5.374</td><td>6.393</td><td>7.824</td><td>--</td><td>--</td><td>--</td></tr>\n",
       "<tr><td>SFGC359.954-0.0262</td><td>17h45m36.82s</td><td>-28d59m19.77s</td><td>a</td><td>2.4</td><td>0.211</td><td>11.4</td><td>5.95</td><td>0.421</td><td>14.1</td><td>8.99</td><td>0.632</td><td>14.2</td><td>2.48</td><td>1.51</td><td>--</td><td>--</td><td>--</td><td>--</td><td>1.0</td><td>7.34</td><td>0.466</td><td>15.8</td><td>3.79</td><td>0</td><td>9.72</td><td>--</td><td>1.6</td><td>0.0214</td><td>0</td><td>1</td><td>0</td><td>-0.00950928 .. 0.009172682</td><td>-- .. --</td><td>-0.005586301 .. 0.00984423</td><td>a</td><td>6.28</td><td>0.515</td><td>12.2</td><td>13.1</td><td>0.983</td><td>13.3</td><td>14.8</td><td>1.31</td><td>11.3</td><td>2.08</td><td>1.13</td><td>--</td><td>--</td><td>--</td><td>--</td><td>1</td><td>12</td><td>0.865</td><td>13.9</td><td>2.98</td><td>0</td><td>10.2</td><td>--</td><td>1.64</td><td>0</td><td>0</td><td>0</td><td>0.0283</td><td>-0.08488364 .. -0.044584747</td><td>-- .. --</td><td>-0.013150876 .. 0.016428657</td><td>266.40341666666666,-28.988825000000002</td><td>Field38</td><td>SFGC359.954-0.0262</td><td>SFGC359.954-0.0259</td><td>1</td><td>1</td><td>1</td><td>1.44</td><td>000</td><td>--</td><td>--</td><td>--</td><td>000</td><td>--</td><td>--</td><td>--</td><td>293</td><td>266.40341666666666,-28.988825000000002</td><td>0516452</td><td>0.135</td><td>8.658</td><td>9.834</td><td>10.943</td><td>--</td><td>--</td><td>--</td><td>--</td></tr>\n",
       "<tr><td>SFGC0.036-0.1818</td><td>17h46m24.88s</td><td>-29d00m01.34s</td><td>g</td><td>1.35</td><td>0.109</td><td>12.4</td><td>1.15</td><td>0.218</td><td>5.29</td><td>--</td><td>--</td><td>--</td><td>0.851</td><td>--</td><td>--</td><td>--</td><td>--</td><td>--</td><td>1.0</td><td>1.4</td><td>0.065</td><td>21.6</td><td>1.43</td><td>0</td><td>2.63</td><td>0.306</td><td>1.02</td><td>0.0237</td><td>0</td><td>0</td><td>1</td><td>-0.02002774 .. -0.012622309</td><td>-- .. --</td><td>-0.00019068921 .. -0.0063876263</td><td>g</td><td>1.49</td><td>0.197</td><td>7.57</td><td>2.02</td><td>0.376</td><td>5.38</td><td>2.35</td><td>0.501</td><td>4.69</td><td>1.36</td><td>1.16</td><td>--</td><td>--</td><td>--</td><td>--</td><td>1</td><td>1.61</td><td>0.137</td><td>11.8</td><td>0.616</td><td>0</td><td>4.22</td><td>0.842</td><td>1.24</td><td>0</td><td>0</td><td>1</td><td>0.027</td><td>-0.008324572 .. 0.004368282</td><td>-- .. --</td><td>0.00025314777 .. 0.000968509</td><td>266.60366666666664,-29.000372222222225</td><td>Field35</td><td>SFGC0.036-0.1818</td><td>SFGC0.036-0.1818</td><td>1</td><td>1</td><td>1</td><td>0</td><td>001</td><td>--</td><td>--</td><td>0.975</td><td>000</td><td>--</td><td>--</td><td>--</td><td>4</td><td>266.60366666666664,-29.00037222222222</td><td>0648643</td><td>0.137</td><td>4.893</td><td>5.281</td><td>6.394</td><td>7.673</td><td>17.327</td><td>13.881</td><td>10.972</td></tr>\n",
       "<tr><td>SFGC0.055+0.0265</td><td>17h45m38.83s</td><td>-28d52m31.95s</td><td>a</td><td>9.17</td><td>0.183</td><td>50.2</td><td>13.8</td><td>0.365</td><td>37.7</td><td>16.2</td><td>0.548</td><td>29.6</td><td>1.5</td><td>1.18</td><td>14.1</td><td>0.172</td><td>82.1</td><td>9.24</td><td>0.0</td><td>13.2</td><td>0.192</td><td>68.5</td><td>5.24</td><td>0</td><td>4.63</td><td>--</td><td>1.46</td><td>0.0214</td><td>0</td><td>1</td><td>1</td><td>0.0137687 .. -0.0060447566</td><td>-0.013851131 .. -0.012309242</td><td>-0.012057202 .. -0.010552663</td><td>a</td><td>15.7</td><td>0.996</td><td>15.7</td><td>17.6</td><td>1.9</td><td>9.26</td><td>19.4</td><td>2.54</td><td>7.64</td><td>1.12</td><td>1.1</td><td>17.5</td><td>0.716</td><td>24.5</td><td>4.87</td><td>0</td><td>17.3</td><td>0.742</td><td>23.2</td><td>4.58</td><td>0</td><td>4.5</td><td>--</td><td>1.12</td><td>0</td><td>0</td><td>0</td><td>0.056</td><td>-0.013989766 .. -0.020645522</td><td>-0.03255373 .. -0.014349979</td><td>-0.032452732 .. -0.014055125</td><td>266.41179166666666,-28.875541666666667</td><td>Field31</td><td>SFGC0.055+0.0265</td><td>SFGC0.055+0.0266</td><td>1</td><td>1</td><td>1</td><td>0.537</td><td>000</td><td>--</td><td>--</td><td>--</td><td>000</td><td>--</td><td>--</td><td>--</td><td>113</td><td>266.41179166666666,-28.875541666666667</td><td>0521894</td><td>0.141</td><td>5.598</td><td>7.410</td><td>9.378</td><td>10.668</td><td>--</td><td>--</td><td>--</td></tr>\n",
       "<tr><td>SFGC359.639-0.0576</td><td>17h44m58.96s</td><td>-29d16m27.46s</td><td>m</td><td>3.39</td><td>0.122</td><td>27.7</td><td>5.28</td><td>0.245</td><td>21.6</td><td>7.67</td><td>0.367</td><td>20.9</td><td>1.56</td><td>1.45</td><td>5.58</td><td>0.0704</td><td>79.2</td><td>3.82</td><td>0.0</td><td>4.02</td><td>0.098</td><td>41</td><td>6.68</td><td>0</td><td>2.53</td><td>0.594</td><td>1.21</td><td>0.0214</td><td>0</td><td>1</td><td>0</td><td>0.0011366992 .. 0.0113458</td><td>-0.0031141685 .. 0.010606364</td><td>-0.00053392415 .. 0.01316614</td><td>a</td><td>3.53</td><td>0.956</td><td>3.69</td><td>8.97</td><td>1.83</td><td>4.91</td><td>16.5</td><td>2.43</td><td>6.78</td><td>2.54</td><td>1.84</td><td>--</td><td>--</td><td>--</td><td>--</td><td>1</td><td>8.05</td><td>1.86</td><td>4.33</td><td>3.04</td><td>0</td><td>11.8</td><td>--</td><td>1.31</td><td>0</td><td>0</td><td>0</td><td>0.0283</td><td>-0.0019586748 .. 0.04764301</td><td>-- .. --</td><td>-0.012796373 .. 0.018000342</td><td>266.24566666666664,-29.274294444444447</td><td>Field45</td><td>SFGC359.639-0.0576</td><td>SFGC359.639-0.0577</td><td>1</td><td>1</td><td>1</td><td>0.47</td><td>000</td><td>--</td><td>--</td><td>--</td><td>000</td><td>--</td><td>--</td><td>--</td><td>89</td><td>266.24566666666664,-29.274294444444443</td><td>0414950</td><td>0.144</td><td>3.708</td><td>3.756</td><td>5.737</td><td>--</td><td>10.605</td><td>7.348</td><td>5.658</td></tr>\n",
       "<tr><td>SFGC359.410+0.0325</td><td>17h44m04.82s</td><td>-29d25m21.08s</td><td>a</td><td>2.74</td><td>0.0849</td><td>32.2</td><td>7.38</td><td>0.17</td><td>43.5</td><td>11.5</td><td>0.255</td><td>45.3</td><td>2.7</td><td>1.56</td><td>8.83</td><td>0.167</td><td>52.7</td><td>1.72</td><td>0.0</td><td>8.76</td><td>0.203</td><td>43.2</td><td>1.82</td><td>0</td><td>10.5</td><td>--</td><td>1.21</td><td>0.0237</td><td>0</td><td>0</td><td>0</td><td>-0.0015718809 .. 0.015309025</td><td>-0.0070291045 .. -0.005470701</td><td>0.0005994801 .. 0.0020603056</td><td>a</td><td>6.46</td><td>0.189</td><td>34.2</td><td>17.7</td><td>0.361</td><td>49</td><td>24.8</td><td>0.481</td><td>51.5</td><td>2.73</td><td>1.4</td><td>14.8</td><td>0.345</td><td>43</td><td>1.15</td><td>0</td><td>14.8</td><td>0.433</td><td>34.2</td><td>1.15</td><td>0</td><td>13.9</td><td>--</td><td>1.26</td><td>0</td><td>0</td><td>1</td><td>0.027</td><td>0.019314835 .. 0.0036558802</td><td>-0.016732201 .. 0.0022502774</td><td>-0.0038788246 .. 0.013803407</td><td>266.02008333333333,-29.422522222222227</td><td>Field49</td><td>SFGC359.410+0.0325</td><td>SFGC359.409+0.0323</td><td>1</td><td>1</td><td>1</td><td>2.04</td><td>000</td><td>--</td><td>--</td><td>--</td><td>000</td><td>--</td><td>--</td><td>--</td><td>376</td><td>266.02008333333333,-29.422522222222224</td><td>0279869</td><td>0.153</td><td>7.883</td><td>--</td><td>--</td><td>--</td><td>--</td><td>--</td><td>--</td></tr>\n",
       "<tr><td>...</td><td>...</td><td>...</td><td>...</td><td>...</td><td>...</td><td>...</td><td>...</td><td>...</td><td>...</td><td>...</td><td>...</td><td>...</td><td>...</td><td>...</td><td>...</td><td>...</td><td>...</td><td>...</td><td>...</td><td>...</td><td>...</td><td>...</td><td>...</td><td>...</td><td>...</td><td>...</td><td>...</td><td>...</td><td>...</td><td>...</td><td>...</td><td>...</td><td>...</td><td>...</td><td>...</td><td>...</td><td>...</td><td>...</td><td>...</td><td>...</td><td>...</td><td>...</td><td>...</td><td>...</td><td>...</td><td>...</td><td>...</td><td>...</td><td>...</td><td>...</td><td>...</td><td>...</td><td>...</td><td>...</td><td>...</td><td>...</td><td>...</td><td>...</td><td>...</td><td>...</td><td>...</td><td>...</td><td>...</td><td>...</td><td>...</td><td>...</td><td>...</td><td>...</td><td>...</td><td>...</td><td>...</td><td>...</td><td>...</td><td>...</td><td>...</td><td>...</td><td>...</td><td>...</td><td>...</td><td>...</td><td>...</td><td>...</td><td>...</td><td>...</td><td>...</td><td>...</td><td>...</td><td>...</td><td>...</td><td>...</td><td>...</td><td>...</td><td>...</td></tr>\n",
       "<tr><td>SFGC0.521-0.0413</td><td>17h47m00.98s</td><td>-28d30m44.61s</td><td>a</td><td>3.01</td><td>0.315</td><td>9.57</td><td>10.1</td><td>0.63</td><td>16</td><td>17.2</td><td>0.944</td><td>18.2</td><td>3.34</td><td>1.71</td><td>12.8</td><td>1.06</td><td>12.1</td><td>3.73</td><td>0.0</td><td>--</td><td>--</td><td>--</td><td>--</td><td>1</td><td>20</td><td>--</td><td>1</td><td>0.0214</td><td>0</td><td>1</td><td>1</td><td>0.054261215 .. -0.010793322</td><td>-0.0035690006 .. -0.056515787</td><td>-- .. --</td><td>a</td><td>10</td><td>0.587</td><td>17.1</td><td>28.6</td><td>1.12</td><td>25.5</td><td>40.1</td><td>1.49</td><td>26.8</td><td>2.85</td><td>1.4</td><td>--</td><td>--</td><td>--</td><td>--</td><td>1</td><td>24.5</td><td>2.34</td><td>10.5</td><td>1.29</td><td>0</td><td>24.1</td><td>--</td><td>4.11</td><td>1</td><td>0</td><td>1</td><td>0.0283</td><td>0.09041624 .. -0.008825937</td><td>-- .. --</td><td>0.005410999 .. -0.029518789</td><td>266.7540833333333,-28.512391666666666</td><td>Field05</td><td></td><td>SFGC0.521-0.0413</td><td>--</td><td>--</td><td>--</td><td>--</td><td>000</td><td>--</td><td>--</td><td>--</td><td>000</td><td>--</td><td>--</td><td>--</td><td>931</td><td>266.7540833333333,-28.512391666666666</td><td></td><td>--</td><td>--</td><td>--</td><td>--</td><td>--</td><td>--</td><td>--</td><td>--</td></tr>\n",
       "<tr><td>SFGC0.526-0.0633</td><td>17h47m06.88s</td><td>-28d31m09.32s</td><td>a</td><td>1.77</td><td>0.13</td><td>13.6</td><td>5.54</td><td>0.26</td><td>21.3</td><td>9.68</td><td>0.391</td><td>24.8</td><td>3.13</td><td>1.75</td><td>6.75</td><td>0.307</td><td>22</td><td>1.84</td><td>0.0</td><td>6.77</td><td>0.36</td><td>18.8</td><td>1.14</td><td>0</td><td>12.1</td><td>--</td><td>1.75</td><td>0.0214</td><td>1</td><td>1</td><td>0</td><td>0.033648897 .. 0.062026855</td><td>-0.0065642996 .. 0.008851886</td><td>-0.007555065 .. 0.0034342336</td><td>a</td><td>7.81</td><td>0.548</td><td>14.3</td><td>20.2</td><td>1.05</td><td>19.3</td><td>30.7</td><td>1.39</td><td>22</td><td>2.59</td><td>1.52</td><td>16.8</td><td>0.931</td><td>18</td><td>3.62</td><td>0</td><td>16.8</td><td>1.3</td><td>12.9</td><td>1.6</td><td>0</td><td>14.4</td><td>--</td><td>2.57</td><td>1</td><td>0</td><td>0</td><td>0.0283</td><td>0.04209341 .. 0.07617061</td><td>0.00072348455 .. 0.029322121</td><td>-0.0001326466 .. 0.01918324</td><td>266.77866666666665,-28.519255555555553</td><td>Field05</td><td></td><td>SFGC0.526-0.0633</td><td>--</td><td>--</td><td>--</td><td>--</td><td>000</td><td>--</td><td>--</td><td>--</td><td>000</td><td>--</td><td>--</td><td>--</td><td>932</td><td>266.77866666666665,-28.519255555555553</td><td></td><td>--</td><td>--</td><td>--</td><td>--</td><td>--</td><td>--</td><td>--</td><td>--</td></tr>\n",
       "<tr><td>SFGC0.530-0.1076</td><td>17h47m17.73s</td><td>-28d32m21.24s</td><td>a</td><td>3.69</td><td>0.154</td><td>24</td><td>--</td><td>0.308</td><td>--</td><td>--</td><td>0.462</td><td>--</td><td>--</td><td>--</td><td>--</td><td>--</td><td>--</td><td>--</td><td>1.0</td><td>--</td><td>--</td><td>--</td><td>--</td><td>1</td><td>--</td><td>--</td><td>--</td><td>0.0214</td><td>0</td><td>1</td><td>1</td><td>-- .. 0.014289138</td><td>-- .. --</td><td>-- .. --</td><td>a</td><td>11.2</td><td>0.219</td><td>51.3</td><td>27.2</td><td>0.418</td><td>65</td><td>32</td><td>0.557</td><td>57.3</td><td>2.42</td><td>1.18</td><td>--</td><td>--</td><td>--</td><td>--</td><td>1</td><td>23.8</td><td>0.454</td><td>52.5</td><td>1.03</td><td>0</td><td>12.5</td><td>--</td><td>1.48</td><td>0</td><td>0</td><td>1</td><td>0.0283</td><td>0.0021600751 .. 0.008482332</td><td>-- .. --</td><td>-0.036895983 .. 0.008677322</td><td>266.823875,-28.53923333333334</td><td>Field05</td><td></td><td>SFGC0.530-0.1076</td><td>--</td><td>--</td><td>--</td><td>--</td><td>000</td><td>--</td><td>--</td><td>--</td><td>000</td><td>--</td><td>--</td><td>--</td><td>934</td><td>266.823875,-28.539233333333335</td><td></td><td>--</td><td>--</td><td>--</td><td>--</td><td>--</td><td>--</td><td>--</td><td>--</td></tr>\n",
       "<tr><td>SFGC0.535-0.0795</td><td>17h47m11.93s</td><td>-28d31m11.98s</td><td>a</td><td>15.9</td><td>1.08</td><td>14.7</td><td>57.2</td><td>2.16</td><td>26.5</td><td>107</td><td>3.25</td><td>33.1</td><td>3.6</td><td>1.88</td><td>74.3</td><td>2.28</td><td>32.5</td><td>79</td><td>0.0</td><td>73.8</td><td>5.07</td><td>14.6</td><td>57.5</td><td>0</td><td>20</td><td>--</td><td>3.78</td><td>0.0214</td><td>1</td><td>1</td><td>0</td><td>0.34421888 .. 0.06347808</td><td>0.04909153 .. -0.066584095</td><td>0.020154081 .. -0.012343248</td><td>a</td><td>35.6</td><td>1.85</td><td>19.2</td><td>108</td><td>3.54</td><td>30.5</td><td>165</td><td>4.72</td><td>35</td><td>3.02</td><td>1.53</td><td>--</td><td>--</td><td>--</td><td>--</td><td>1</td><td>87.1</td><td>4.97</td><td>17.5</td><td>8.55</td><td>0</td><td>16.2</td><td>--</td><td>1.87</td><td>1</td><td>1</td><td>0</td><td>0.0283</td><td>0.43167934 .. 0.03632593</td><td>-- .. --</td><td>0.041710526 .. -0.031914208</td><td>266.79970833333334,-28.519994444444443</td><td>Field05</td><td></td><td>SFGC0.535-0.0795</td><td>--</td><td>--</td><td>--</td><td>--</td><td>000</td><td>--</td><td>--</td><td>--</td><td>000</td><td>--</td><td>--</td><td>--</td><td>935</td><td>266.79970833333334,-28.519994444444443</td><td></td><td>--</td><td>--</td><td>--</td><td>--</td><td>--</td><td>--</td><td>--</td><td>--</td></tr>\n",
       "<tr><td>SFGC0.543-0.0856</td><td>17h47m14.46s</td><td>-28d30m59.47s</td><td>a</td><td>2.51</td><td>0.256</td><td>9.78</td><td>8.69</td><td>0.513</td><td>17</td><td>15.5</td><td>0.769</td><td>20.1</td><td>3.47</td><td>1.78</td><td>--</td><td>--</td><td>--</td><td>--</td><td>1.0</td><td>--</td><td>--</td><td>--</td><td>--</td><td>1</td><td>--</td><td>--</td><td>--</td><td>0.0214</td><td>0</td><td>1</td><td>0</td><td>0.028055929 .. 0.015348984</td><td>-- .. --</td><td>-- .. --</td><td>a</td><td>4.45</td><td>0.765</td><td>5.82</td><td>14.6</td><td>1.46</td><td>9.98</td><td>26.1</td><td>1.95</td><td>13.4</td><td>3.28</td><td>1.79</td><td>--</td><td>--</td><td>--</td><td>--</td><td>1</td><td>--</td><td>--</td><td>--</td><td>--</td><td>1</td><td>--</td><td>--</td><td>--</td><td>1</td><td>0</td><td>0</td><td>0.0283</td><td>0.03898405 .. -0.00021380108</td><td>-- .. --</td><td>-- .. --</td><td>266.81025,-28.516519444444448</td><td>Field05</td><td></td><td>SFGC0.543-0.0856</td><td>--</td><td>--</td><td>--</td><td>--</td><td>000</td><td>--</td><td>--</td><td>--</td><td>000</td><td>--</td><td>--</td><td>--</td><td>936</td><td>266.81025,-28.516519444444445</td><td></td><td>--</td><td>--</td><td>--</td><td>--</td><td>--</td><td>--</td><td>--</td><td>--</td></tr>\n",
       "<tr><td>SFGC0.544-0.0876</td><td>17h47m15.12s</td><td>-28d30m59.38s</td><td>a</td><td>1.94</td><td>0.197</td><td>9.82</td><td>6.45</td><td>0.395</td><td>16.3</td><td>12</td><td>0.592</td><td>20.3</td><td>3.33</td><td>1.87</td><td>--</td><td>--</td><td>--</td><td>--</td><td>1.0</td><td>7.88</td><td>0.497</td><td>15.9</td><td>1.87</td><td>0</td><td>11.1</td><td>--</td><td>1.28</td><td>0.0214</td><td>0</td><td>1</td><td>0</td><td>-0.0011402714 .. 0.020117477</td><td>-- .. --</td><td>0.011574247 .. -0.009747095</td><td>a</td><td>6.38</td><td>0.632</td><td>10.1</td><td>14.3</td><td>1.21</td><td>11.8</td><td>20.2</td><td>1.61</td><td>12.6</td><td>2.24</td><td>1.42</td><td>--</td><td>--</td><td>--</td><td>--</td><td>1</td><td>12.1</td><td>1.07</td><td>11.3</td><td>1.83</td><td>0</td><td>10.2</td><td>--</td><td>1.15</td><td>0</td><td>0</td><td>0</td><td>0.0283</td><td>-0.007320549 .. 0.013732727</td><td>-- .. --</td><td>-0.010881714 .. 0.0051935064</td><td>266.813,-28.516494444444444</td><td>Field05</td><td></td><td>SFGC0.544-0.0876</td><td>--</td><td>--</td><td>--</td><td>--</td><td>000</td><td>--</td><td>--</td><td>--</td><td>000</td><td>--</td><td>--</td><td>--</td><td>937</td><td>266.813,-28.516494444444444</td><td></td><td>--</td><td>--</td><td>--</td><td>--</td><td>--</td><td>--</td><td>--</td><td>--</td></tr>\n",
       "<tr><td>SFGC0.547-0.0783</td><td>17h47m13.30s</td><td>-28d30m34.19s</td><td>a</td><td>1.93</td><td>0.0954</td><td>20.3</td><td>6.23</td><td>0.191</td><td>32.7</td><td>9.7</td><td>0.286</td><td>33.9</td><td>3.22</td><td>1.56</td><td>7.82</td><td>0.281</td><td>27.8</td><td>3.23</td><td>0.0</td><td>--</td><td>--</td><td>--</td><td>--</td><td>1</td><td>20</td><td>--</td><td>1</td><td>0.0214</td><td>0</td><td>1</td><td>0</td><td>0.014251363 .. 0.042046458</td><td>-0.0036034286 .. 0.010035021</td><td>-- .. --</td><td>a</td><td>6.68</td><td>0.444</td><td>15</td><td>16.9</td><td>0.848</td><td>19.9</td><td>22.6</td><td>1.13</td><td>20</td><td>2.52</td><td>1.34</td><td>--</td><td>--</td><td>--</td><td>--</td><td>1</td><td>14.7</td><td>1.06</td><td>13.9</td><td>2.01</td><td>0</td><td>14.4</td><td>--</td><td>2.84</td><td>1</td><td>0</td><td>0</td><td>0.0283</td><td>-0.0029501256 .. 0.04951339</td><td>-- .. --</td><td>0.017250381 .. 0.0024769083</td><td>266.80541666666664,-28.509497222222222</td><td>Field05</td><td></td><td>SFGC0.547-0.0783</td><td>--</td><td>--</td><td>--</td><td>--</td><td>000</td><td>--</td><td>--</td><td>--</td><td>000</td><td>--</td><td>--</td><td>--</td><td>938</td><td>266.80541666666664,-28.509497222222222</td><td></td><td>--</td><td>--</td><td>--</td><td>--</td><td>--</td><td>--</td><td>--</td><td>--</td></tr>\n",
       "<tr><td>SFGC0.608-0.0474</td><td>17h47m14.71s</td><td>-28d26m28.57s</td><td>a</td><td>0.896</td><td>0.248</td><td>3.61</td><td>2.88</td><td>0.496</td><td>5.81</td><td>6</td><td>0.744</td><td>8.07</td><td>3.21</td><td>2.09</td><td>--</td><td>--</td><td>--</td><td>--</td><td>1.0</td><td>4.04</td><td>0.714</td><td>5.66</td><td>1.86</td><td>0</td><td>12.7</td><td>--</td><td>1.21</td><td>0.0214</td><td>1</td><td>1</td><td>0</td><td>0.04877033 .. 0.009715956</td><td>-- .. --</td><td>-0.0012639214 .. 0.00063276035</td><td>a</td><td>3.52</td><td>1</td><td>3.51</td><td>11.3</td><td>1.91</td><td>5.94</td><td>19.7</td><td>2.55</td><td>7.74</td><td>3.23</td><td>1.74</td><td>--</td><td>--</td><td>--</td><td>--</td><td>1</td><td>9.11</td><td>2.94</td><td>3.1</td><td>1.67</td><td>0</td><td>17.8</td><td>--</td><td>1.62</td><td>1</td><td>0</td><td>0</td><td>0.0283</td><td>0.09177378 .. 0.0028818536</td><td>-- .. --</td><td>-0.0029147717 .. 0.009932723</td><td>266.81129166666665,-28.441269444444444</td><td>Field03</td><td></td><td>SFGC0.608-0.0474</td><td>--</td><td>--</td><td>--</td><td>--</td><td>000</td><td>--</td><td>--</td><td>--</td><td>000</td><td>--</td><td>--</td><td>--</td><td>943</td><td>266.81129166666665,-28.441269444444444</td><td></td><td>--</td><td>--</td><td>--</td><td>--</td><td>--</td><td>--</td><td>--</td><td>--</td></tr>\n",
       "<tr><td>SFGC0.645-0.0413</td><td>17h47m18.53s</td><td>-28d24m23.15s</td><td>a</td><td>0.265</td><td>0.0439</td><td>6.04</td><td>0.705</td><td>0.0878</td><td>8.03</td><td>1.19</td><td>0.132</td><td>9.07</td><td>2.66</td><td>1.69</td><td>0.824</td><td>0.0574</td><td>14.3</td><td>1.22</td><td>0.0</td><td>0.817</td><td>0.19</td><td>4.29</td><td>1.09</td><td>0</td><td>19.1</td><td>--</td><td>13.2</td><td>0.0214</td><td>1</td><td>0</td><td>0</td><td>0.0012395487 .. -0.009713518</td><td>0.002345207 .. -3.3755336e-05</td><td>0.0032379467 .. 0.0017057823</td><td>g</td><td>3.77</td><td>0.142</td><td>26.5</td><td>6.82</td><td>0.272</td><td>25.1</td><td>7.73</td><td>0.363</td><td>21.3</td><td>1.81</td><td>1.13</td><td>6.15</td><td>0.143</td><td>43.1</td><td>1.9</td><td>0</td><td>6.07</td><td>0.185</td><td>32.7</td><td>1.56</td><td>0</td><td>7.86</td><td>1.24</td><td>1.58</td><td>0</td><td>0</td><td>0</td><td>0.0283</td><td>0.018213322 .. 0.010447741</td><td>-0.0044285045 .. -0.0009069219</td><td>-6.54139e-05 .. 0.0029483454</td><td>266.8272083333334,-28.406430555555556</td><td>Field03</td><td></td><td>SFGC0.645-0.0413</td><td>--</td><td>--</td><td>--</td><td>--</td><td>000</td><td>--</td><td>--</td><td>--</td><td>000</td><td>--</td><td>--</td><td>--</td><td>946</td><td>266.8272083333334,-28.406430555555556</td><td></td><td>--</td><td>--</td><td>--</td><td>--</td><td>--</td><td>--</td><td>--</td><td>--</td></tr>\n",
       "<tr><td>SFGC0.671-0.0419</td><td>17h47m22.30s</td><td>-28d23m05.44s</td><td>a</td><td>0.758</td><td>0.104</td><td>7.33</td><td>2.22</td><td>0.207</td><td>10.7</td><td>2.58</td><td>0.311</td><td>8.32</td><td>2.92</td><td>1.17</td><td>2.41</td><td>0.178</td><td>13.6</td><td>1.91</td><td>0.0</td><td>2.52</td><td>0.208</td><td>12.1</td><td>1.55</td><td>0</td><td>8.84</td><td>--</td><td>2.48</td><td>0.0214</td><td>0</td><td>0</td><td>0</td><td>0.0020642637 .. -0.010091871</td><td>-0.00406073 .. -0.009509405</td><td>-0.0023189965 .. -0.008181876</td><td>a</td><td>8.88</td><td>0.579</td><td>15.3</td><td>23.4</td><td>1.11</td><td>21.1</td><td>32.5</td><td>1.47</td><td>22</td><td>2.63</td><td>1.39</td><td>--</td><td>--</td><td>--</td><td>--</td><td>1</td><td>--</td><td>--</td><td>--</td><td>--</td><td>1</td><td>--</td><td>--</td><td>--</td><td>0</td><td>1</td><td>0</td><td>0.0283</td><td>0.011925301 .. 0.07435048</td><td>-- .. --</td><td>-- .. --</td><td>266.8429166666666,-28.384844444444443</td><td>Field01</td><td></td><td>SFGC0.671-0.0419</td><td>--</td><td>--</td><td>--</td><td>--</td><td>000</td><td>--</td><td>--</td><td>--</td><td>000</td><td>--</td><td>--</td><td>--</td><td>948</td><td>266.8429166666666,-28.384844444444443</td><td></td><td>--</td><td>--</td><td>--</td><td>--</td><td>--</td><td>--</td><td>--</td><td>--</td></tr>\n",
       "</table></div>"
      ],
      "text/plain": [
       "<Table length=950>\n",
       "     SourceID       RA(J2000)     DEC(J2000)  ... Jmag_2M Hmag_2M  Kmag_2M \n",
       "                                              ...   mag     mag      mag   \n",
       "     bytes18         bytes12       bytes13    ... float32 float32  float32 \n",
       "------------------ ------------ ------------- ... ------- -------- --------\n",
       "  SFGC0.154+0.0305 17h45m52.11s -28d47m18.29s ...  10.354    7.426    5.802\n",
       "SFGC359.948-0.0293 17h45m36.60s -28d59m45.80s ...      --       --       --\n",
       "  SFGC0.299-0.0610 17h46m34.02s -28d42m46.19s ...  15.855   12.880    9.720\n",
       "  SFGC0.395+0.0076 17h46m31.71s -28d35m41.19s ...      --       --       --\n",
       "SFGC359.954-0.0262 17h45m36.82s -28d59m19.77s ...      --       --       --\n",
       "  SFGC0.036-0.1818 17h46m24.88s -29d00m01.34s ...  17.327   13.881   10.972\n",
       "  SFGC0.055+0.0265 17h45m38.83s -28d52m31.95s ...      --       --       --\n",
       "SFGC359.639-0.0576 17h44m58.96s -29d16m27.46s ...  10.605    7.348    5.658\n",
       "SFGC359.410+0.0325 17h44m04.82s -29d25m21.08s ...      --       --       --\n",
       "               ...          ...           ... ...     ...      ...      ...\n",
       "  SFGC0.521-0.0413 17h47m00.98s -28d30m44.61s ...      --       --       --\n",
       "  SFGC0.526-0.0633 17h47m06.88s -28d31m09.32s ...      --       --       --\n",
       "  SFGC0.530-0.1076 17h47m17.73s -28d32m21.24s ...      --       --       --\n",
       "  SFGC0.535-0.0795 17h47m11.93s -28d31m11.98s ...      --       --       --\n",
       "  SFGC0.543-0.0856 17h47m14.46s -28d30m59.47s ...      --       --       --\n",
       "  SFGC0.544-0.0876 17h47m15.12s -28d30m59.38s ...      --       --       --\n",
       "  SFGC0.547-0.0783 17h47m13.30s -28d30m34.19s ...      --       --       --\n",
       "  SFGC0.608-0.0474 17h47m14.71s -28d26m28.57s ...      --       --       --\n",
       "  SFGC0.645-0.0413 17h47m18.53s -28d24m23.15s ...      --       --       --\n",
       "  SFGC0.671-0.0419 17h47m22.30s -28d23m05.44s ...      --       --       --"
      ]
     },
     "execution_count": 87,
     "metadata": {},
     "output_type": "execute_result"
    }
   ],
   "source": [
    "#create a combined table of both matched and unmatched sources\n",
    "mcatComb=vstack((matchedmcat,onlymcat))\n",
    "\n",
    "#print combined table\n",
    "mcatComb"
   ]
  },
  {
   "cell_type": "code",
   "execution_count": null,
   "id": "dc397983",
   "metadata": {},
   "outputs": [],
   "source": []
  },
  {
   "cell_type": "code",
   "execution_count": null,
   "id": "29ec0643",
   "metadata": {},
   "outputs": [],
   "source": []
  },
  {
   "cell_type": "code",
   "execution_count": 88,
   "id": "1a48249c",
   "metadata": {},
   "outputs": [],
   "source": [
    "#clean up table before writing out\n",
    "if 'sky_centroid' in mcatComb.columns:\n",
    "    mcatComb.remove_columns('sky_centroid')\n",
    "    \n",
    "if 'skycoords' in mcatComb.columns:\n",
    "    mcatComb.remove_columns('skycoords')\n",
    "    \n",
    "if 'id' in mcatComb.columns:\n",
    "    mcatComb.remove_columns('id')\n"
   ]
  },
  {
   "cell_type": "code",
   "execution_count": 89,
   "id": "68562651",
   "metadata": {},
   "outputs": [],
   "source": [
    "#write out final catalog\n",
    "mcatComb.write('masterCat_combined_step4.fits',overwrite=True)"
   ]
  },
  {
   "cell_type": "code",
   "execution_count": 90,
   "id": "0b21ca66",
   "metadata": {},
   "outputs": [],
   "source": [
    "#remove cutouts from table\n",
    "if 'cutout25' in mcatComb.columns:\n",
    "    mcatComb.remove_columns('cutout25')\n",
    "    \n",
    "if 'M2Dresid25' in mcatComb.columns:\n",
    "    mcatComb.remove_columns('M2Dresid25')\n",
    "    \n",
    "if 'G2Dresid25' in mcatComb.columns:\n",
    "    mcatComb.remove_columns('G2Dresid25')\n",
    "    \n",
    "if 'cutout37' in mcatComb.columns:\n",
    "    mcatComb.remove_columns('cutout37')\n",
    "    \n",
    "if 'M2Dresid37' in mcatComb.columns:\n",
    "    mcatComb.remove_columns('M2Dresid37')\n",
    "    \n",
    "if 'G2Dresid37' in mcatComb.columns:\n",
    "    mcatComb.remove_columns('G2Dresid37')"
   ]
  },
  {
   "cell_type": "code",
   "execution_count": 91,
   "id": "9c006e21",
   "metadata": {},
   "outputs": [],
   "source": [
    "#write out final catalog\n",
    "mcatComb.write('masterCat_combined_step4_NoCutouts.fits',overwrite=True)"
   ]
  },
  {
   "cell_type": "code",
   "execution_count": null,
   "id": "b4e53221",
   "metadata": {},
   "outputs": [],
   "source": []
  },
  {
   "cell_type": "code",
   "execution_count": 92,
   "id": "87f90c97",
   "metadata": {},
   "outputs": [
    {
     "data": {
      "text/plain": [
       "87"
      ]
     },
     "execution_count": 92,
     "metadata": {},
     "output_type": "execute_result"
    }
   ],
   "source": [
    "len(mcatComb.columns)"
   ]
  },
  {
   "cell_type": "code",
   "execution_count": null,
   "id": "df7fa671",
   "metadata": {},
   "outputs": [],
   "source": []
  },
  {
   "cell_type": "code",
   "execution_count": null,
   "id": "8a1ed0ae",
   "metadata": {},
   "outputs": [],
   "source": []
  },
  {
   "cell_type": "code",
   "execution_count": null,
   "id": "1f38d5f3",
   "metadata": {},
   "outputs": [],
   "source": []
  },
  {
   "cell_type": "code",
   "execution_count": 54,
   "id": "371d3a11",
   "metadata": {},
   "outputs": [
    {
     "ename": "KeyError",
     "evalue": "'37um_Flux_err_M2D'",
     "output_type": "error",
     "traceback": [
      "\u001b[1;31m---------------------------------------------------------------------------\u001b[0m",
      "\u001b[1;31mKeyError\u001b[0m                                  Traceback (most recent call last)",
      "\u001b[1;32mC:\\Users\\MHANKI~1\\AppData\\Local\\Temp/ipykernel_21768/3587070569.py\u001b[0m in \u001b[0;36m<module>\u001b[1;34m\u001b[0m\n\u001b[1;32m----> 1\u001b[1;33m \u001b[0mshortTab\u001b[0m\u001b[1;33m=\u001b[0m\u001b[0mmcatComb\u001b[0m\u001b[1;33m[\u001b[0m\u001b[1;34m\"SourceID\"\u001b[0m\u001b[1;33m,\u001b[0m\u001b[1;34m\"RA(J2000)\"\u001b[0m\u001b[1;33m,\u001b[0m\u001b[1;34m\"DEC(J2000)\"\u001b[0m\u001b[1;33m,\u001b[0m\u001b[1;34m\"25um_Flux_8pix\"\u001b[0m\u001b[1;33m,\u001b[0m\u001b[1;34m\"25um_Flux_err_8pix\"\u001b[0m\u001b[1;33m,\u001b[0m\u001b[1;34m\"25um_Flux_M2D\"\u001b[0m\u001b[1;33m,\u001b[0m\u001b[1;34m\"25um_Flux_M2D_err\"\u001b[0m\u001b[1;33m,\u001b[0m\u001b[1;34m\"fwhm25\"\u001b[0m\u001b[1;33m,\u001b[0m\u001b[1;34m\"37um_Flux_10.5pix\"\u001b[0m\u001b[1;33m,\u001b[0m\u001b[1;34m\"37um_Flux_err_10.5pix\"\u001b[0m\u001b[1;33m,\u001b[0m\u001b[1;34m\"37um_Flux_M2D\"\u001b[0m\u001b[1;33m,\u001b[0m\u001b[1;34m\"37um_Flux_err_M2D\"\u001b[0m\u001b[1;33m,\u001b[0m\u001b[1;34m\"fwhm37\"\u001b[0m\u001b[1;33m,\u001b[0m\u001b[1;34m\"25ApPhot_qflag\"\u001b[0m\u001b[1;33m,\u001b[0m\u001b[1;34m\"37ApPhot_qflag\"\u001b[0m\u001b[1;33m,\u001b[0m\u001b[1;34m\"G2D25_qflag\"\u001b[0m\u001b[1;33m,\u001b[0m\u001b[1;34m\"G2D37_qflag\"\u001b[0m\u001b[1;33m,\u001b[0m\u001b[1;34m\"bkg_qflag25\"\u001b[0m\u001b[1;33m,\u001b[0m\u001b[1;34m\"bkg_qflag37\"\u001b[0m\u001b[1;33m,\u001b[0m\u001b[1;34m\"vExtFlag25\"\u001b[0m\u001b[1;33m,\u001b[0m\u001b[1;34m\"vExtFlag37\"\u001b[0m\u001b[1;33m]\u001b[0m\u001b[1;33m\u001b[0m\u001b[1;33m\u001b[0m\u001b[0m\n\u001b[0m",
      "\u001b[1;32m~\\Anaconda3\\lib\\site-packages\\astropy\\table\\table.py\u001b[0m in \u001b[0;36m__getitem__\u001b[1;34m(self, item)\u001b[0m\n\u001b[0;32m   1871\u001b[0m             \u001b[1;32mreturn\u001b[0m \u001b[0mself\u001b[0m\u001b[1;33m.\u001b[0m\u001b[0mRow\u001b[0m\u001b[1;33m(\u001b[0m\u001b[0mself\u001b[0m\u001b[1;33m,\u001b[0m \u001b[0mitem\u001b[0m\u001b[1;33m.\u001b[0m\u001b[0mitem\u001b[0m\u001b[1;33m(\u001b[0m\u001b[1;33m)\u001b[0m\u001b[1;33m)\u001b[0m\u001b[1;33m\u001b[0m\u001b[1;33m\u001b[0m\u001b[0m\n\u001b[0;32m   1872\u001b[0m         \u001b[1;32melif\u001b[0m \u001b[0mself\u001b[0m\u001b[1;33m.\u001b[0m\u001b[0m_is_list_or_tuple_of_str\u001b[0m\u001b[1;33m(\u001b[0m\u001b[0mitem\u001b[0m\u001b[1;33m)\u001b[0m\u001b[1;33m:\u001b[0m\u001b[1;33m\u001b[0m\u001b[1;33m\u001b[0m\u001b[0m\n\u001b[1;32m-> 1873\u001b[1;33m             out = self.__class__([self[x] for x in item],\n\u001b[0m\u001b[0;32m   1874\u001b[0m                                  copy_indices=self._copy_indices)\n\u001b[0;32m   1875\u001b[0m             out._groups = groups.TableGroups(out, indices=self.groups._indices,\n",
      "\u001b[1;32m~\\Anaconda3\\lib\\site-packages\\astropy\\table\\table.py\u001b[0m in \u001b[0;36m<listcomp>\u001b[1;34m(.0)\u001b[0m\n\u001b[0;32m   1871\u001b[0m             \u001b[1;32mreturn\u001b[0m \u001b[0mself\u001b[0m\u001b[1;33m.\u001b[0m\u001b[0mRow\u001b[0m\u001b[1;33m(\u001b[0m\u001b[0mself\u001b[0m\u001b[1;33m,\u001b[0m \u001b[0mitem\u001b[0m\u001b[1;33m.\u001b[0m\u001b[0mitem\u001b[0m\u001b[1;33m(\u001b[0m\u001b[1;33m)\u001b[0m\u001b[1;33m)\u001b[0m\u001b[1;33m\u001b[0m\u001b[1;33m\u001b[0m\u001b[0m\n\u001b[0;32m   1872\u001b[0m         \u001b[1;32melif\u001b[0m \u001b[0mself\u001b[0m\u001b[1;33m.\u001b[0m\u001b[0m_is_list_or_tuple_of_str\u001b[0m\u001b[1;33m(\u001b[0m\u001b[0mitem\u001b[0m\u001b[1;33m)\u001b[0m\u001b[1;33m:\u001b[0m\u001b[1;33m\u001b[0m\u001b[1;33m\u001b[0m\u001b[0m\n\u001b[1;32m-> 1873\u001b[1;33m             out = self.__class__([self[x] for x in item],\n\u001b[0m\u001b[0;32m   1874\u001b[0m                                  copy_indices=self._copy_indices)\n\u001b[0;32m   1875\u001b[0m             out._groups = groups.TableGroups(out, indices=self.groups._indices,\n",
      "\u001b[1;32m~\\Anaconda3\\lib\\site-packages\\astropy\\table\\table.py\u001b[0m in \u001b[0;36m__getitem__\u001b[1;34m(self, item)\u001b[0m\n\u001b[0;32m   1865\u001b[0m     \u001b[1;32mdef\u001b[0m \u001b[0m__getitem__\u001b[0m\u001b[1;33m(\u001b[0m\u001b[0mself\u001b[0m\u001b[1;33m,\u001b[0m \u001b[0mitem\u001b[0m\u001b[1;33m)\u001b[0m\u001b[1;33m:\u001b[0m\u001b[1;33m\u001b[0m\u001b[1;33m\u001b[0m\u001b[0m\n\u001b[0;32m   1866\u001b[0m         \u001b[1;32mif\u001b[0m \u001b[0misinstance\u001b[0m\u001b[1;33m(\u001b[0m\u001b[0mitem\u001b[0m\u001b[1;33m,\u001b[0m \u001b[0mstr\u001b[0m\u001b[1;33m)\u001b[0m\u001b[1;33m:\u001b[0m\u001b[1;33m\u001b[0m\u001b[1;33m\u001b[0m\u001b[0m\n\u001b[1;32m-> 1867\u001b[1;33m             \u001b[1;32mreturn\u001b[0m \u001b[0mself\u001b[0m\u001b[1;33m.\u001b[0m\u001b[0mcolumns\u001b[0m\u001b[1;33m[\u001b[0m\u001b[0mitem\u001b[0m\u001b[1;33m]\u001b[0m\u001b[1;33m\u001b[0m\u001b[1;33m\u001b[0m\u001b[0m\n\u001b[0m\u001b[0;32m   1868\u001b[0m         \u001b[1;32melif\u001b[0m \u001b[0misinstance\u001b[0m\u001b[1;33m(\u001b[0m\u001b[0mitem\u001b[0m\u001b[1;33m,\u001b[0m \u001b[1;33m(\u001b[0m\u001b[0mint\u001b[0m\u001b[1;33m,\u001b[0m \u001b[0mnp\u001b[0m\u001b[1;33m.\u001b[0m\u001b[0minteger\u001b[0m\u001b[1;33m)\u001b[0m\u001b[1;33m)\u001b[0m\u001b[1;33m:\u001b[0m\u001b[1;33m\u001b[0m\u001b[1;33m\u001b[0m\u001b[0m\n\u001b[0;32m   1869\u001b[0m             \u001b[1;32mreturn\u001b[0m \u001b[0mself\u001b[0m\u001b[1;33m.\u001b[0m\u001b[0mRow\u001b[0m\u001b[1;33m(\u001b[0m\u001b[0mself\u001b[0m\u001b[1;33m,\u001b[0m \u001b[0mitem\u001b[0m\u001b[1;33m)\u001b[0m\u001b[1;33m\u001b[0m\u001b[1;33m\u001b[0m\u001b[0m\n",
      "\u001b[1;32m~\\Anaconda3\\lib\\site-packages\\astropy\\table\\table.py\u001b[0m in \u001b[0;36m__getitem__\u001b[1;34m(self, item)\u001b[0m\n\u001b[0;32m    244\u001b[0m         \"\"\"\n\u001b[0;32m    245\u001b[0m         \u001b[1;32mif\u001b[0m \u001b[0misinstance\u001b[0m\u001b[1;33m(\u001b[0m\u001b[0mitem\u001b[0m\u001b[1;33m,\u001b[0m \u001b[0mstr\u001b[0m\u001b[1;33m)\u001b[0m\u001b[1;33m:\u001b[0m\u001b[1;33m\u001b[0m\u001b[1;33m\u001b[0m\u001b[0m\n\u001b[1;32m--> 246\u001b[1;33m             \u001b[1;32mreturn\u001b[0m \u001b[0mOrderedDict\u001b[0m\u001b[1;33m.\u001b[0m\u001b[0m__getitem__\u001b[0m\u001b[1;33m(\u001b[0m\u001b[0mself\u001b[0m\u001b[1;33m,\u001b[0m \u001b[0mitem\u001b[0m\u001b[1;33m)\u001b[0m\u001b[1;33m\u001b[0m\u001b[1;33m\u001b[0m\u001b[0m\n\u001b[0m\u001b[0;32m    247\u001b[0m         \u001b[1;32melif\u001b[0m \u001b[0misinstance\u001b[0m\u001b[1;33m(\u001b[0m\u001b[0mitem\u001b[0m\u001b[1;33m,\u001b[0m \u001b[1;33m(\u001b[0m\u001b[0mint\u001b[0m\u001b[1;33m,\u001b[0m \u001b[0mnp\u001b[0m\u001b[1;33m.\u001b[0m\u001b[0minteger\u001b[0m\u001b[1;33m)\u001b[0m\u001b[1;33m)\u001b[0m\u001b[1;33m:\u001b[0m\u001b[1;33m\u001b[0m\u001b[1;33m\u001b[0m\u001b[0m\n\u001b[0;32m    248\u001b[0m             \u001b[1;32mreturn\u001b[0m \u001b[0mlist\u001b[0m\u001b[1;33m(\u001b[0m\u001b[0mself\u001b[0m\u001b[1;33m.\u001b[0m\u001b[0mvalues\u001b[0m\u001b[1;33m(\u001b[0m\u001b[1;33m)\u001b[0m\u001b[1;33m)\u001b[0m\u001b[1;33m[\u001b[0m\u001b[0mitem\u001b[0m\u001b[1;33m]\u001b[0m\u001b[1;33m\u001b[0m\u001b[1;33m\u001b[0m\u001b[0m\n",
      "\u001b[1;31mKeyError\u001b[0m: '37um_Flux_err_M2D'"
     ]
    }
   ],
   "source": [
    "shortTab=mcatComb[\"SourceID\",\"RA(J2000)\",\"DEC(J2000)\",\"25um_Flux_8pix\",\"25um_Flux_err_8pix\",\"25um_Flux_M2D\",\"25um_Flux_M2D_err\",\"fwhm25\",\"37um_Flux_10.5pix\",\"37um_Flux_err_10.5pix\",\"37um_Flux_M2D\",\"37um_Flux_err_M2D\",\"fwhm37\",\"25ApPhot_qflag\",\"37ApPhot_qflag\",\"G2D25_qflag\",\"G2D37_qflag\",\"bkg_qflag25\",\"bkg_qflag37\",\"vExtFlag25\",\"vExtFlag37\"]"
   ]
  },
  {
   "cell_type": "code",
   "execution_count": 52,
   "id": "9c065cbd",
   "metadata": {
    "scrolled": true
   },
   "outputs": [
    {
     "data": {
      "text/html": [
       "<div><i>Table length=950</i>\n",
       "<table id=\"table2785480793008\" class=\"table-striped table-bordered table-condensed\">\n",
       "<thead><tr><th>SourceID</th><th>RA(J2000)</th><th>DEC(J2000)</th><th>25um_Flux_8pix</th><th>25um_Flux_err_8pix</th><th>25um_Flux_M2D</th><th>25um_Flux_err_M2D</th><th>fwhm25</th><th>37um_Flux_10.5pix</th><th>37um_Flux_err_10.5pix</th><th>37um_Flux_M2D</th><th>37um_Flux_err_M2D</th><th>fwhm37</th><th>25ApPhot_qflag</th><th>37ApPhot_qflag</th><th>G2D25_qflag</th><th>G2D37_qflag</th><th>bkg_qflag25</th><th>bkg_qflag37</th><th>fwhm_qflag25</th><th>fwhm_qflag37</th></tr></thead>\n",
       "<thead><tr><th></th><th>deg</th><th>deg</th><th></th><th></th><th></th><th></th><th></th><th></th><th></th><th></th><th></th><th></th><th></th><th></th><th></th><th></th><th></th><th></th><th></th><th></th></tr></thead>\n",
       "<thead><tr><th>bytes18</th><th>float64</th><th>float64</th><th>float64</th><th>float64</th><th>float64</th><th>float64</th><th>float64</th><th>float64</th><th>float64</th><th>float64</th><th>float64</th><th>float64</th><th>int32</th><th>int32</th><th>float64</th><th>float64</th><th>int32</th><th>int32</th><th>int32</th><th>int32</th></tr></thead>\n",
       "<tr><td>SFGC0.154+0.0305</td><td>266.467110972243</td><td>-28.788414953789108</td><td>1.799</td><td>0.1701</td><td>2.066</td><td>0.1245</td><td>7.036</td><td>5.091</td><td>0.404</td><td>4.212</td><td>0.2775</td><td>11.9</td><td>0</td><td>0</td><td>1.0</td><td>1.0</td><td>0</td><td>--</td><td>0</td><td>--</td></tr>\n",
       "<tr><td>SFGC0.545-0.0864</td><td>266.8118265121627</td><td>-28.51580469297644</td><td>5.707</td><td>0.1517</td><td>6.731</td><td>0.1452</td><td>10.12</td><td>16.21</td><td>0.3784</td><td>14.13</td><td>0.3012</td><td>15.63</td><td>0</td><td>0</td><td>1.0</td><td>0.0</td><td>0</td><td>--</td><td>0</td><td>--</td></tr>\n",
       "<tr><td>SFGC0.395+0.0076</td><td>266.63213024386454</td><td>-28.594773884198776</td><td>1.076</td><td>0.2004</td><td>1.114</td><td>0.09</td><td>2.589</td><td>0.9068</td><td>0.4721</td><td>0.9435</td><td>0.2042</td><td>2.457</td><td>0</td><td>111</td><td>1.0</td><td>1.0</td><td>0</td><td>--</td><td>0</td><td>--</td></tr>\n",
       "<tr><td>SFGC359.639-0.0576</td><td>266.2456699094231</td><td>-29.27429422827648</td><td>4.627</td><td>0.1491</td><td>4.771</td><td>0.07794</td><td>2.565</td><td>9.55</td><td>0.3862</td><td>8.273</td><td>0.2874</td><td>11.25</td><td>0</td><td>0</td><td>1.0</td><td>1.0</td><td>0</td><td>0</td><td>0</td><td>0</td></tr>\n",
       "<tr><td>SFGC0.055+0.0265</td><td>266.4117990403134</td><td>-28.87554263769326</td><td>12.86</td><td>0.2155</td><td>13.11</td><td>0.1916</td><td>4.099</td><td>16.89</td><td>0.4297</td><td>16.89</td><td>0.1942</td><td>4.335</td><td>0</td><td>0</td><td>1.0</td><td>1.0</td><td>0</td><td>0</td><td>0</td><td>0</td></tr>\n",
       "<tr><td>SFGC0.091+0.0145</td><td>266.4447525525533</td><td>-28.851296569131748</td><td>5.454</td><td>0.3149</td><td>6.952</td><td>0.2838</td><td>8.236</td><td>47.66</td><td>0.5862</td><td>39.76</td><td>0.7655</td><td>18.07</td><td>0</td><td>0</td><td>1.0</td><td>1.0</td><td>0</td><td>--</td><td>0</td><td>--</td></tr>\n",
       "<tr><td>SFGC359.948-0.0293</td><td>266.40248829200516</td><td>-28.996054851267328</td><td>3.231</td><td>0.1836</td><td>3.863</td><td>0.1313</td><td>6.689</td><td>28.35</td><td>0.3627</td><td>23.75</td><td>0.2986</td><td>14.99</td><td>0</td><td>0</td><td>1.0</td><td>1.0</td><td>0</td><td>--</td><td>0</td><td>--</td></tr>\n",
       "<tr><td>SFGC0.036-0.1818</td><td>266.603681</td><td>-29.0003732</td><td>0.8017</td><td>0.4217</td><td>1.319</td><td>0.1305</td><td>2.55</td><td>1.781</td><td>0.5579</td><td>1.51</td><td>0.1893</td><td>4.091</td><td>11</td><td>1</td><td>1.0</td><td>1.0</td><td>--</td><td>0</td><td>--</td><td>0</td></tr>\n",
       "<tr><td>SFGC0.016-0.1709</td><td>266.5812699425494</td><td>-29.011478973793213</td><td>2.818</td><td>0.1822</td><td>2.766</td><td>0.08102</td><td>2.509</td><td>2.488</td><td>0.4391</td><td>2.393</td><td>0.1901</td><td>2.741</td><td>0</td><td>0</td><td>1.0</td><td>1.0</td><td>0</td><td>0</td><td>0</td><td>0</td></tr>\n",
       "<tr><td>...</td><td>...</td><td>...</td><td>...</td><td>...</td><td>...</td><td>...</td><td>...</td><td>...</td><td>...</td><td>...</td><td>...</td><td>...</td><td>...</td><td>...</td><td>...</td><td>...</td><td>...</td><td>...</td><td>...</td><td>...</td></tr>\n",
       "<tr><td>SFGC0.587-0.0574</td><td>266.80837590724457</td><td>-28.46482142860104</td><td>2.515</td><td>0.1568</td><td>2.983</td><td>0.1277</td><td>8.213</td><td>10.92</td><td>0.3744</td><td>9.924</td><td>0.2916</td><td>9.626</td><td>0</td><td>0</td><td>1.0</td><td>1.0</td><td>--</td><td>0</td><td>--</td><td>0</td></tr>\n",
       "<tr><td>SFGC0.602-0.0505</td><td>266.8109708524056</td><td>-28.447682765861753</td><td>72.94</td><td>0.1473</td><td>81.16</td><td>0.6727</td><td>5.465</td><td>207.8</td><td>0.3732</td><td>183.5</td><td>1.644</td><td>6.638</td><td>0</td><td>0</td><td>1.0</td><td>1.0</td><td>--</td><td>0</td><td>--</td><td>0</td></tr>\n",
       "<tr><td>SFGC0.608-0.0474</td><td>266.8113042421003</td><td>-28.441270241271535</td><td>2.771</td><td>0.2256</td><td>3.911</td><td>0.1251</td><td>12.05</td><td>6.142</td><td>0.3811</td><td>4.903</td><td>0.2364</td><td>13.8</td><td>100</td><td>0</td><td>1.0</td><td>1.0</td><td>--</td><td>0</td><td>--</td><td>0</td></tr>\n",
       "<tr><td>SFGC0.632-0.0259</td><td>266.8046318013615</td><td>-28.409429818251144</td><td>24.84</td><td>0.1321</td><td>32.14</td><td>0.3771</td><td>8.012</td><td>99.22</td><td>0.3319</td><td>81.79</td><td>0.5641</td><td>9.074</td><td>0</td><td>0</td><td>1.0</td><td>1.0</td><td>--</td><td>0</td><td>--</td><td>0</td></tr>\n",
       "<tr><td>SFGC0.643-0.0917</td><td>266.87495668570966</td><td>-28.434331150843413</td><td>8.398</td><td>0.1442</td><td>10.55</td><td>0.1452</td><td>13.21</td><td>42.32</td><td>0.3343</td><td>34.97</td><td>0.2765</td><td>15.91</td><td>0</td><td>0</td><td>1.0</td><td>1.0</td><td>--</td><td>0</td><td>--</td><td>0</td></tr>\n",
       "<tr><td>SFGC0.643-0.0926</td><td>266.8758726876464</td><td>-28.434729966361513</td><td>7.766</td><td>0.146</td><td>9.765</td><td>0.1402</td><td>13.2</td><td>45.61</td><td>0.3338</td><td>38.32</td><td>0.4515</td><td>15.58</td><td>0</td><td>0</td><td>1.0</td><td>0.0</td><td>--</td><td>0</td><td>--</td><td>0</td></tr>\n",
       "<tr><td>SFGC0.645-0.0413</td><td>266.8271987977095</td><td>-28.40643127500445</td><td>0.7093</td><td>0.1793</td><td>0.8994</td><td>0.1203</td><td>5.815</td><td>6.097</td><td>0.3297</td><td>5.577</td><td>0.2296</td><td>6.033</td><td>100</td><td>0</td><td>1.0</td><td>1.0</td><td>--</td><td>0</td><td>--</td><td>0</td></tr>\n",
       "<tr><td>SFGC0.661-0.0513</td><td>266.8463824609953</td><td>-28.39791412467139</td><td>1.837</td><td>0.1929</td><td>1.947</td><td>0.1273</td><td>5.837</td><td>8.615</td><td>0.8604</td><td>8.549</td><td>0.6514</td><td>8.951</td><td>0</td><td>0</td><td>1.0</td><td>1.0</td><td>--</td><td>0</td><td>--</td><td>0</td></tr>\n",
       "<tr><td>SFGC0.667-0.0378</td><td>266.8368341614815</td><td>-28.38560761284377</td><td>25.32</td><td>0.2009</td><td>35.84</td><td>0.319</td><td>6.966</td><td>435.5</td><td>0.5541</td><td>358.3</td><td>2.07</td><td>8.373</td><td>0</td><td>0</td><td>1.0</td><td>1.0</td><td>--</td><td>0</td><td>--</td><td>0</td></tr>\n",
       "<tr><td>SFGC0.668-0.0342</td><td>266.8335367803795</td><td>-28.38358126934335</td><td>31.56</td><td>0.2027</td><td>43.9</td><td>0.6019</td><td>10.72</td><td>634.7</td><td>0.5535</td><td>543.9</td><td>4.832</td><td>9.193</td><td>0</td><td>0</td><td>1.0</td><td>1.0</td><td>--</td><td>0</td><td>--</td><td>0</td></tr>\n",
       "</table></div>"
      ],
      "text/plain": [
       "<Table length=950>\n",
       "     SourceID          RA(J2000)      ...  fwhm_qflag25  fwhm_qflag37\n",
       "                          deg         ...                            \n",
       "     bytes18            float64       ...     int32         int32    \n",
       "------------------ ------------------ ... ------------- -------------\n",
       "  SFGC0.154+0.0305   266.467110972243 ...             0            --\n",
       "  SFGC0.545-0.0864  266.8118265121627 ...             0            --\n",
       "  SFGC0.395+0.0076 266.63213024386454 ...             0            --\n",
       "SFGC359.639-0.0576  266.2456699094231 ...             0             0\n",
       "  SFGC0.055+0.0265  266.4117990403134 ...             0             0\n",
       "  SFGC0.091+0.0145  266.4447525525533 ...             0            --\n",
       "SFGC359.948-0.0293 266.40248829200516 ...             0            --\n",
       "  SFGC0.036-0.1818         266.603681 ...            --             0\n",
       "  SFGC0.016-0.1709  266.5812699425494 ...             0             0\n",
       "               ...                ... ...           ...           ...\n",
       "  SFGC0.587-0.0574 266.80837590724457 ...            --             0\n",
       "  SFGC0.602-0.0505  266.8109708524056 ...            --             0\n",
       "  SFGC0.608-0.0474  266.8113042421003 ...            --             0\n",
       "  SFGC0.632-0.0259  266.8046318013615 ...            --             0\n",
       "  SFGC0.643-0.0917 266.87495668570966 ...            --             0\n",
       "  SFGC0.643-0.0926  266.8758726876464 ...            --             0\n",
       "  SFGC0.645-0.0413  266.8271987977095 ...            --             0\n",
       "  SFGC0.661-0.0513  266.8463824609953 ...            --             0\n",
       "  SFGC0.667-0.0378  266.8368341614815 ...            --             0\n",
       "  SFGC0.668-0.0342  266.8335367803795 ...            --             0"
      ]
     },
     "execution_count": 52,
     "metadata": {},
     "output_type": "execute_result"
    }
   ],
   "source": [
    "shortTab"
   ]
  },
  {
   "cell_type": "code",
   "execution_count": 53,
   "id": "b1c15535",
   "metadata": {},
   "outputs": [],
   "source": [
    "shortTab.write(\"masterCat_step4_ShortForm.fits\")"
   ]
  },
  {
   "cell_type": "code",
   "execution_count": null,
   "id": "4bf4a9bc",
   "metadata": {},
   "outputs": [],
   "source": []
  },
  {
   "cell_type": "code",
   "execution_count": null,
   "id": "fdf4bdc2",
   "metadata": {},
   "outputs": [],
   "source": []
  },
  {
   "cell_type": "code",
   "execution_count": null,
   "id": "932097b0",
   "metadata": {},
   "outputs": [],
   "source": []
  },
  {
   "cell_type": "code",
   "execution_count": 48,
   "id": "af1c8854",
   "metadata": {
    "scrolled": true
   },
   "outputs": [
    {
     "data": {
      "text/html": [
       "<div><i>Table length=950</i>\n",
       "<table id=\"table2785480348000\" class=\"table-striped table-bordered table-condensed\">\n",
       "<thead><tr><th>SourceID</th><th>RA(J2000)</th><th>DEC(J2000)</th><th>25um_Flux_4pix</th><th>25um_Flux_err_4pix</th><th>25um_SNR_4pix</th><th>25um_Flux_8pix</th><th>25um_Flux_err_8pix</th><th>25um_SNR_8pix</th><th>25um_Flux_12pix</th><th>25um_Flux_err_12pix</th><th>25um_SNR_12pix</th><th>25ApRatio8_4</th><th>25ApRatio12_8</th><th>25um_Flux_M2D</th><th>25um_Flux_err_M2D</th><th>25um_M2D_chi2</th><th>25um_Flux_G2D</th><th>25um_Flux_err_G2D</th><th>25um_G2D_chi2</th><th>25um_BestModel</th><th>fwhm25</th><th>elong25</th><th>bkg_qflag25</th><th>fwhm_qflag25</th><th>37um_Flux_5.5pix</th><th>37um_Flux_err_5.5pix</th><th>37um_SNR_5.5pix</th><th>37um_Flux_10.5pix</th><th>37um_Flux_err_10.5pix</th><th>37um_SNR_10.5pix</th><th>37um_Flux_14pix</th><th>37um_Flux_err_14pix</th><th>37um_SNR_14pix</th><th>37ApRatio10.5_5.5</th><th>37ApRatio14_10.5</th><th>37um_Flux_M2D</th><th>37um_Flux_err_M2D</th><th>37um_M2D_chi2</th><th>37um_Flux_G2D</th><th>37um_Flux_err_G2D</th><th>37um_G2D_chi2</th><th>37um_BestModel</th><th>fwhm37</th><th>elong37</th><th>bkg_qflag37</th><th>fwhm_qflag37</th><th>FieldID</th><th>SID25</th><th>SID37</th><th>sky_centroid</th><th>25ApPhot_qflag</th><th>25Ap_4pix_UL</th><th>25Ap_8pix_UL</th><th>25Ap_12pix_UL</th><th>37ApPhot_qflag</th><th>37Ap_5.5pix_UL</th><th>37Ap_10.5pix_UL</th><th>37Ap_14pix_UL</th><th>M2D25_qflag</th><th>G2D25_qflag</th><th>M2D37_qflag</th><th>G2D37_qflag</th><th>id</th><th>skycoords</th><th>SSTGCxmatch</th></tr></thead>\n",
       "<thead><tr><th></th><th>deg</th><th>deg</th><th></th><th></th><th></th><th></th><th></th><th></th><th></th><th></th><th></th><th></th><th></th><th></th><th></th><th></th><th></th><th></th><th></th><th></th><th></th><th></th><th></th><th></th><th></th><th></th><th></th><th></th><th></th><th></th><th></th><th></th><th></th><th></th><th></th><th></th><th></th><th></th><th></th><th></th><th></th><th></th><th></th><th></th><th></th><th></th><th></th><th></th><th></th><th>deg,deg</th><th></th><th></th><th></th><th></th><th></th><th></th><th></th><th></th><th></th><th></th><th></th><th></th><th></th><th>deg,deg</th><th></th></tr></thead>\n",
       "<thead><tr><th>bytes18</th><th>float64</th><th>float64</th><th>float64</th><th>float64</th><th>float64</th><th>float64</th><th>float64</th><th>float64</th><th>float64</th><th>float64</th><th>float64</th><th>float64</th><th>float64</th><th>float64</th><th>float64</th><th>float64</th><th>float64</th><th>float64</th><th>float64</th><th>bytes1</th><th>float64</th><th>float64</th><th>int32</th><th>int32</th><th>float64</th><th>float64</th><th>float64</th><th>float64</th><th>float64</th><th>float64</th><th>float64</th><th>float64</th><th>float64</th><th>float64</th><th>float64</th><th>float64</th><th>float64</th><th>float64</th><th>float64</th><th>float64</th><th>float64</th><th>bytes1</th><th>float64</th><th>float64</th><th>int32</th><th>int32</th><th>bytes7</th><th>bytes18</th><th>bytes18</th><th>object</th><th>int32</th><th>float64</th><th>float64</th><th>float64</th><th>int32</th><th>float64</th><th>float64</th><th>float64</th><th>int32</th><th>float64</th><th>float64</th><th>float64</th><th>int64</th><th>object</th><th>str7</th></tr></thead>\n",
       "<tr><td>SFGC0.154+0.0305</td><td>266.467110972243</td><td>-28.788414953789108</td><td>0.8717</td><td>0.1151</td><td>7.577</td><td>1.799</td><td>0.1701</td><td>10.58</td><td>2.309</td><td>0.2393</td><td>9.649</td><td>2.064</td><td>1.283</td><td>2.066</td><td>0.1245</td><td>0.4145</td><td>2.082</td><td>0.1241</td><td>0.3935</td><td>M</td><td>7.036</td><td>1.38</td><td>0</td><td>0</td><td>1.814</td><td>0.2743</td><td>6.614</td><td>5.091</td><td>0.404</td><td>12.6</td><td>7.375</td><td>0.5233</td><td>14.09</td><td>2.806</td><td>1.449</td><td>4.212</td><td>0.2775</td><td>0.3107</td><td>4.248</td><td>0.2772</td><td>0.2955</td><td>M</td><td>11.9</td><td>1.711</td><td>--</td><td>--</td><td>Field20</td><td>SFGC0.154+0.0305</td><td></td><td>266.467110972243,-28.788414953789108</td><td>0</td><td>0.0</td><td>0.0</td><td>0.0</td><td>0</td><td>0.0</td><td>0.0</td><td>0.0</td><td>1</td><td>1.0</td><td>1.0</td><td>1.0</td><td>582</td><td>266.46711097224306,-28.788414953789108</td><td>0558345</td></tr>\n",
       "<tr><td>SFGC0.545-0.0864</td><td>266.8118265121627</td><td>-28.51580469297644</td><td>2.144</td><td>0.09385</td><td>22.85</td><td>5.707</td><td>0.1517</td><td>37.63</td><td>8.51</td><td>0.2177</td><td>39.1</td><td>2.662</td><td>1.491</td><td>6.731</td><td>0.1452</td><td>0.697</td><td>6.728</td><td>0.1443</td><td>0.6069</td><td>M</td><td>10.12</td><td>1.39</td><td>0</td><td>0</td><td>5.309</td><td>0.2147</td><td>24.73</td><td>16.21</td><td>0.3784</td><td>42.83</td><td>22.92</td><td>0.5011</td><td>45.74</td><td>3.053</td><td>1.414</td><td>14.13</td><td>0.3012</td><td>0.6603</td><td>--</td><td>--</td><td>--</td><td>M</td><td>15.63</td><td>1</td><td>--</td><td>--</td><td>Field05</td><td>SFGC0.545-0.0864</td><td></td><td>266.8118265121627,-28.51580469297644</td><td>0</td><td>0.0</td><td>0.0</td><td>0.0</td><td>0</td><td>0.0</td><td>0.0</td><td>0.0</td><td>1</td><td>1.0</td><td>1.0</td><td>0.0</td><td>671</td><td>266.8118265121628,-28.51580469297644</td><td>0777321</td></tr>\n",
       "<tr><td>SFGC0.395+0.0076</td><td>266.63213024386454</td><td>-28.594773884198776</td><td>0.8135</td><td>0.1179</td><td>6.897</td><td>1.076</td><td>0.2004</td><td>5.368</td><td>1.318</td><td>0.2848</td><td>4.626</td><td>1.323</td><td>1.225</td><td>1.114</td><td>0.09</td><td>0.2353</td><td>0.8829</td><td>0.07201</td><td>0.2454</td><td>M</td><td>2.589</td><td>1.054</td><td>0</td><td>0</td><td>0.5691</td><td>0.2915</td><td>1.952</td><td>0.9068</td><td>0.4721</td><td>1.921</td><td>0.3662</td><td>0.9064</td><td>0.404</td><td>1.593</td><td>0.4038</td><td>0.9435</td><td>0.2042</td><td>0.1341</td><td>0.9486</td><td>0.2027</td><td>0.1319</td><td>M</td><td>2.457</td><td>1.925</td><td>--</td><td>--</td><td>Field09</td><td>SFGC0.395+0.0076</td><td></td><td>266.63213024386454,-28.594773884198776</td><td>0</td><td>0.0</td><td>0.0</td><td>0.0</td><td>111</td><td>1.4436847711788494</td><td>2.3230802265905193</td><td>3.085494664833485</td><td>1</td><td>1.0</td><td>1.0</td><td>1.0</td><td>654</td><td>266.6321302438646,-28.594773884198776</td><td>0667560</td></tr>\n",
       "<tr><td>SFGC359.639-0.0576</td><td>266.2456699094231</td><td>-29.27429422827648</td><td>3.217</td><td>0.08968</td><td>35.88</td><td>4.627</td><td>0.1491</td><td>31.04</td><td>6.347</td><td>0.2128</td><td>29.83</td><td>1.438</td><td>6.347</td><td>4.771</td><td>0.07794</td><td>0.7274</td><td>3.63</td><td>0.06016</td><td>1.093</td><td>M</td><td>2.565</td><td>1.201</td><td>0</td><td>0</td><td>3.77</td><td>0.215</td><td>17.53</td><td>9.55</td><td>0.3862</td><td>24.73</td><td>17.03</td><td>0.5101</td><td>33.39</td><td>2.533</td><td>1.784</td><td>8.273</td><td>0.2874</td><td>0.6732</td><td>8.357</td><td>0.2888</td><td>0.6433</td><td>M</td><td>11.25</td><td>1.494</td><td>0</td><td>0</td><td>Field45</td><td>SFGC359.639-0.0576</td><td>SFGC359.639-0.0577</td><td>266.2456699094231,-29.27429422827648</td><td>0</td><td>0.0</td><td>0.0</td><td>0.0</td><td>0</td><td>0.0</td><td>0.0</td><td>0.0</td><td>1</td><td>1.0</td><td>1.0</td><td>1.0</td><td>76</td><td>266.2456699094231,-29.27429422827648</td><td>0414950</td></tr>\n",
       "<tr><td>SFGC0.055+0.0265</td><td>266.4117990403134</td><td>-28.87554263769326</td><td>8.834</td><td>0.1181</td><td>74.79</td><td>12.86</td><td>0.2155</td><td>59.67</td><td>14.91</td><td>0.3169</td><td>47.07</td><td>1.456</td><td>14.91</td><td>13.11</td><td>0.1916</td><td>2.012</td><td>12.33</td><td>0.1248</td><td>1.028</td><td>G</td><td>4.099</td><td>1.47</td><td>0</td><td>0</td><td>15.35</td><td>0.2342</td><td>65.52</td><td>16.89</td><td>0.4297</td><td>39.3</td><td>18.69</td><td>0.5687</td><td>32.86</td><td>1.101</td><td>1.107</td><td>16.89</td><td>0.1942</td><td>1.041</td><td>16.78</td><td>0.1927</td><td>0.9707</td><td>M</td><td>4.335</td><td>1.117</td><td>0</td><td>0</td><td>Field31</td><td>SFGC0.055+0.0265</td><td>SFGC0.055+0.0266</td><td>266.4117990403134,-28.87554263769326</td><td>0</td><td>0.0</td><td>0.0</td><td>0.0</td><td>0</td><td>0.0</td><td>0.0</td><td>0.0</td><td>1</td><td>1.0</td><td>1.0</td><td>1.0</td><td>98</td><td>266.41179904031344,-28.87554263769326</td><td>0521894</td></tr>\n",
       "<tr><td>SFGC0.091+0.0145</td><td>266.4447525525533</td><td>-28.851296569131748</td><td>2.411</td><td>0.2608</td><td>9.243</td><td>5.454</td><td>0.3149</td><td>17.32</td><td>10.22</td><td>0.3939</td><td>25.94</td><td>2.263</td><td>1.873</td><td>6.952</td><td>0.2838</td><td>2.191</td><td>7.725</td><td>0.2002</td><td>1.583</td><td>G</td><td>8.236</td><td>4.117</td><td>0</td><td>0</td><td>13.92</td><td>0.3512</td><td>39.63</td><td>47.66</td><td>0.5862</td><td>81.31</td><td>80.83</td><td>0.7725</td><td>104.6</td><td>3.424</td><td>1.696</td><td>39.76</td><td>0.7655</td><td>2.853</td><td>39.29</td><td>0.4353</td><td>1.28</td><td>G</td><td>18.07</td><td>13.9</td><td>--</td><td>--</td><td>Field26</td><td>SFGC0.091+0.0145</td><td></td><td>266.4447525525533,-28.851296569131748</td><td>0</td><td>0.0</td><td>0.0</td><td>0.0</td><td>0</td><td>0.0</td><td>0.0</td><td>0.0</td><td>1</td><td>1.0</td><td>1.0</td><td>1.0</td><td>537</td><td>266.4447525525534,-28.851296569131748</td><td>0543623</td></tr>\n",
       "<tr><td>SFGC359.948-0.0293</td><td>266.40248829200516</td><td>-28.996054851267328</td><td>1.467</td><td>0.1522</td><td>9.639</td><td>3.231</td><td>0.1836</td><td>17.6</td><td>5.111</td><td>0.2336</td><td>21.88</td><td>2.202</td><td>1.582</td><td>3.863</td><td>0.1313</td><td>1.012</td><td>3.867</td><td>0.1287</td><td>0.8889</td><td>M</td><td>6.689</td><td>1.741</td><td>0</td><td>0</td><td>10.22</td><td>0.2221</td><td>46.02</td><td>28.35</td><td>0.3627</td><td>78.16</td><td>43.1</td><td>0.4746</td><td>90.81</td><td>2.774</td><td>1.52</td><td>23.75</td><td>0.2986</td><td>0.7011</td><td>23.74</td><td>0.2981</td><td>0.6372</td><td>M</td><td>14.99</td><td>1.295</td><td>--</td><td>--</td><td>Field41</td><td>SFGC359.948-0.0293</td><td></td><td>266.40248829200516,-28.996054851267328</td><td>0</td><td>0.0</td><td>0.0</td><td>0.0</td><td>0</td><td>0.0</td><td>0.0</td><td>0.0</td><td>1</td><td>1.0</td><td>1.0</td><td>1.0</td><td>472</td><td>266.40248829200516,-28.996054851267328</td><td>0515803</td></tr>\n",
       "<tr><td>SFGC0.036-0.1818</td><td>266.603681</td><td>-29.0003732</td><td>1.257</td><td>0.2042</td><td>6.158</td><td>0.8017</td><td>0.4217</td><td>1.901</td><td>-0.2157</td><td>1.456</td><td>-0.1482</td><td>0.6377</td><td>-0.269</td><td>1.319</td><td>0.1305</td><td>0.3489</td><td>1.318</td><td>0.1305</td><td>0.3488</td><td>M</td><td>2.55</td><td>1.022</td><td>--</td><td>--</td><td>1.413</td><td>0.2726</td><td>5.184</td><td>1.781</td><td>0.5579</td><td>3.193</td><td>2.056</td><td>0.8018</td><td>2.564</td><td>1.261</td><td>1.154</td><td>1.51</td><td>0.1893</td><td>0.1474</td><td>1.533</td><td>0.1911</td><td>0.1446</td><td>M</td><td>4.091</td><td>1.232</td><td>0</td><td>0</td><td>Field35</td><td></td><td>SFGC0.036-0.1818</td><td>266.603681,-29.0003732</td><td>11</td><td>0.0</td><td>2.066866453010822</td><td>4.151405867147268</td><td>1</td><td>0.0</td><td>0.0</td><td>4.461474892621626</td><td>1</td><td>1.0</td><td>1.0</td><td>1.0</td><td>779</td><td>266.60368100000005,-29.0003732</td><td>0648643</td></tr>\n",
       "<tr><td>SFGC0.016-0.1709</td><td>266.5812699425494</td><td>-29.011478973793213</td><td>2.149</td><td>0.1039</td><td>20.69</td><td>2.818</td><td>0.1822</td><td>15.46</td><td>3.025</td><td>0.2669</td><td>11.33</td><td>1.311</td><td>3.025</td><td>2.766</td><td>0.08102</td><td>0.2243</td><td>2.263</td><td>0.06668</td><td>0.2736</td><td>M</td><td>2.509</td><td>1.079</td><td>0</td><td>0</td><td>1.854</td><td>0.2394</td><td>7.745</td><td>2.488</td><td>0.4391</td><td>5.667</td><td>2.186</td><td>0.5869</td><td>3.725</td><td>1.342</td><td>0.8786</td><td>2.393</td><td>0.1901</td><td>0.2222</td><td>1.86</td><td>0.1484</td><td>0.2272</td><td>M</td><td>2.741</td><td>1.239</td><td>0</td><td>0</td><td>Field35</td><td>SFGC0.016-0.1709</td><td>SFGC0.016-0.1710</td><td>266.5812699425494,-29.011478973793213</td><td>0</td><td>0.0</td><td>0.0</td><td>0.0</td><td>0</td><td>0.0</td><td>0.0</td><td>0.0</td><td>1</td><td>1.0</td><td>1.0</td><td>1.0</td><td>124</td><td>266.5812699425494,-29.011478973793213</td><td>0633961</td></tr>\n",
       "<tr><td>...</td><td>...</td><td>...</td><td>...</td><td>...</td><td>...</td><td>...</td><td>...</td><td>...</td><td>...</td><td>...</td><td>...</td><td>...</td><td>...</td><td>...</td><td>...</td><td>...</td><td>...</td><td>...</td><td>...</td><td>...</td><td>...</td><td>...</td><td>...</td><td>...</td><td>...</td><td>...</td><td>...</td><td>...</td><td>...</td><td>...</td><td>...</td><td>...</td><td>...</td><td>...</td><td>...</td><td>...</td><td>...</td><td>...</td><td>...</td><td>...</td><td>...</td><td>...</td><td>...</td><td>...</td><td>...</td><td>...</td><td>...</td><td>...</td><td>...</td><td>...</td><td>...</td><td>...</td><td>...</td><td>...</td><td>...</td><td>...</td><td>...</td><td>...</td><td>...</td><td>...</td><td>...</td><td>...</td><td>...</td><td>...</td><td>...</td></tr>\n",
       "<tr><td>SFGC0.587-0.0574</td><td>266.80837590724457</td><td>-28.46482142860104</td><td>1.116</td><td>0.1115</td><td>10.01</td><td>2.515</td><td>0.1568</td><td>16.04</td><td>3.424</td><td>0.218</td><td>15.71</td><td>2.254</td><td>1.361</td><td>2.983</td><td>0.1277</td><td>0.4427</td><td>3.011</td><td>0.128</td><td>0.4187</td><td>M</td><td>8.213</td><td>1.317</td><td>--</td><td>--</td><td>5.234</td><td>0.2051</td><td>25.52</td><td>10.92</td><td>0.3744</td><td>29.17</td><td>12.76</td><td>0.496</td><td>25.72</td><td>2.086</td><td>1.168</td><td>9.924</td><td>0.2916</td><td>0.4934</td><td>9.99</td><td>0.2893</td><td>0.376</td><td>M</td><td>9.626</td><td>1.507</td><td>0</td><td>0</td><td>Field04</td><td></td><td>SFGC0.587-0.0574</td><td>266.80837590724457,-28.46482142860104</td><td>0</td><td>0.0</td><td>0.0</td><td>0.0</td><td>0</td><td>0.0</td><td>0.0</td><td>0.0</td><td>1</td><td>1.0</td><td>1.0</td><td>1.0</td><td>934</td><td>266.80837590724457,-28.46482142860104</td><td></td></tr>\n",
       "<tr><td>SFGC0.602-0.0505</td><td>266.8109708524056</td><td>-28.447682765861753</td><td>24.68</td><td>0.08835</td><td>279.3</td><td>72.94</td><td>0.1473</td><td>495.1</td><td>99.13</td><td>0.2121</td><td>467.3</td><td>2.956</td><td>1.359</td><td>81.16</td><td>0.6727</td><td>37.88</td><td>77.53</td><td>0.7009</td><td>44.89</td><td>A</td><td>5.465</td><td>1.211</td><td>--</td><td>--</td><td>95.37</td><td>0.2018</td><td>472.6</td><td>207.8</td><td>0.3732</td><td>556.8</td><td>262</td><td>0.4949</td><td>529.4</td><td>2.179</td><td>1.261</td><td>183.5</td><td>1.644</td><td>39.89</td><td>178.5</td><td>1.47</td><td>33.85</td><td>A</td><td>6.638</td><td>1.369</td><td>0</td><td>0</td><td>Field04</td><td></td><td>SFGC0.602-0.0505</td><td>266.8109708524056,-28.447682765861753</td><td>0</td><td>0.0</td><td>0.0</td><td>0.0</td><td>0</td><td>0.0</td><td>0.0</td><td>0.0</td><td>1</td><td>1.0</td><td>1.0</td><td>1.0</td><td>936</td><td>266.8109708524056,-28.447682765861753</td><td></td></tr>\n",
       "<tr><td>SFGC0.608-0.0474</td><td>266.8113042421003</td><td>-28.441270241271535</td><td>0.8671</td><td>0.2983</td><td>2.907</td><td>2.771</td><td>0.2256</td><td>12.29</td><td>5.766</td><td>0.2381</td><td>24.22</td><td>3.196</td><td>2.081</td><td>3.911</td><td>0.1251</td><td>0.4587</td><td>3.926</td><td>0.1253</td><td>0.4507</td><td>M</td><td>12.05</td><td>1.204</td><td>--</td><td>--</td><td>1.847</td><td>0.3424</td><td>5.396</td><td>6.142</td><td>0.3811</td><td>16.12</td><td>11.99</td><td>0.4729</td><td>25.34</td><td>3.325</td><td>1.951</td><td>4.903</td><td>0.2364</td><td>0.3134</td><td>4.889</td><td>0.2357</td><td>0.3125</td><td>M</td><td>13.8</td><td>1.177</td><td>0</td><td>0</td><td>Field03</td><td></td><td>SFGC0.608-0.0474</td><td>266.8113042421003,-28.441270241271535</td><td>100</td><td>1.7620908466140053</td><td>0.0</td><td>0.0</td><td>0</td><td>0.0</td><td>0.0</td><td>0.0</td><td>1</td><td>1.0</td><td>1.0</td><td>1.0</td><td>937</td><td>266.81130424210033,-28.441270241271535</td><td></td></tr>\n",
       "<tr><td>SFGC0.632-0.0259</td><td>266.8046318013615</td><td>-28.409429818251144</td><td>7.027</td><td>0.08355</td><td>84.1</td><td>24.84</td><td>0.1321</td><td>188.1</td><td>46.43</td><td>0.188</td><td>247</td><td>3.536</td><td>1.869</td><td>32.14</td><td>0.3771</td><td>10.62</td><td>31.54</td><td>0.3239</td><td>8.211</td><td>A</td><td>8.012</td><td>2.485</td><td>--</td><td>--</td><td>31.52</td><td>0.1812</td><td>173.9</td><td>99.22</td><td>0.3319</td><td>299</td><td>146.6</td><td>0.4393</td><td>333.8</td><td>3.148</td><td>1.478</td><td>81.79</td><td>0.5641</td><td>4.998</td><td>81.08</td><td>0.6281</td><td>6.283</td><td>A</td><td>9.074</td><td>1.88</td><td>0</td><td>0</td><td>Field03</td><td></td><td>SFGC0.632-0.0259</td><td>266.8046318013615,-28.409429818251144</td><td>0</td><td>0.0</td><td>0.0</td><td>0.0</td><td>0</td><td>0.0</td><td>0.0</td><td>0.0</td><td>1</td><td>1.0</td><td>1.0</td><td>1.0</td><td>938</td><td>266.8046318013615,-28.409429818251144</td><td></td></tr>\n",
       "<tr><td>SFGC0.643-0.0917</td><td>266.87495668570966</td><td>-28.434331150843413</td><td>2.698</td><td>0.1033</td><td>26.11</td><td>8.398</td><td>0.1442</td><td>58.23</td><td>14.52</td><td>0.2022</td><td>71.82</td><td>3.112</td><td>1.729</td><td>10.55</td><td>0.1452</td><td>1.033</td><td>10.55</td><td>0.1428</td><td>0.4064</td><td>M</td><td>13.21</td><td>2.126</td><td>--</td><td>--</td><td>14.23</td><td>0.1865</td><td>76.32</td><td>42.32</td><td>0.3343</td><td>126.6</td><td>61.52</td><td>0.442</td><td>139.2</td><td>2.974</td><td>1.454</td><td>34.97</td><td>0.2765</td><td>1.648</td><td>34.96</td><td>0.2738</td><td>0.5724</td><td>M</td><td>15.91</td><td>2.007</td><td>0</td><td>0</td><td>Field02</td><td></td><td>SFGC0.643-0.0917</td><td>266.87495668570966,-28.434331150843413</td><td>0</td><td>0.0</td><td>0.0</td><td>0.0</td><td>0</td><td>0.0</td><td>0.0</td><td>0.0</td><td>1</td><td>1.0</td><td>1.0</td><td>1.0</td><td>940</td><td>266.8749566857097,-28.434331150843413</td><td></td></tr>\n",
       "<tr><td>SFGC0.643-0.0926</td><td>266.8758726876464</td><td>-28.434729966361513</td><td>2.337</td><td>0.1128</td><td>20.72</td><td>7.766</td><td>0.146</td><td>53.18</td><td>13.21</td><td>0.2031</td><td>65.01</td><td>3.323</td><td>1.7</td><td>9.765</td><td>0.1402</td><td>1.185</td><td>9.817</td><td>0.138</td><td>0.4579</td><td>M</td><td>13.2</td><td>2.193</td><td>--</td><td>--</td><td>16.12</td><td>0.1848</td><td>87.23</td><td>45.61</td><td>0.3338</td><td>136.6</td><td>64.44</td><td>0.4416</td><td>145.9</td><td>2.829</td><td>1.413</td><td>38.32</td><td>0.4515</td><td>2.497</td><td>--</td><td>--</td><td>--</td><td>A</td><td>15.58</td><td>1</td><td>0</td><td>0</td><td>Field02</td><td></td><td>SFGC0.643-0.0926</td><td>266.8758726876464,-28.434729966361513</td><td>0</td><td>0.0</td><td>0.0</td><td>0.0</td><td>0</td><td>0.0</td><td>0.0</td><td>0.0</td><td>1</td><td>1.0</td><td>1.0</td><td>0.0</td><td>941</td><td>266.8758726876464,-28.434729966361513</td><td></td></tr>\n",
       "<tr><td>SFGC0.645-0.0413</td><td>266.8271987977095</td><td>-28.40643127500445</td><td>0.2676</td><td>0.1803</td><td>1.485</td><td>0.7093</td><td>0.1793</td><td>3.956</td><td>1.203</td><td>0.2167</td><td>5.551</td><td>2.65</td><td>1.696</td><td>0.8994</td><td>0.1203</td><td>0.3009</td><td>0.8743</td><td>0.1111</td><td>0.28</td><td>M</td><td>5.815</td><td>5.219</td><td>--</td><td>--</td><td>3.541</td><td>0.1821</td><td>19.45</td><td>6.097</td><td>0.3297</td><td>18.49</td><td>6.597</td><td>0.4362</td><td>15.12</td><td>1.722</td><td>1.082</td><td>5.577</td><td>0.2296</td><td>0.4545</td><td>5.534</td><td>0.2232</td><td>0.3698</td><td>M</td><td>6.033</td><td>1.593</td><td>0</td><td>0</td><td>Field03</td><td></td><td>SFGC0.645-0.0413</td><td>266.8271987977095,-28.40643127500445</td><td>100</td><td>0.8085280681568437</td><td>0.0</td><td>0.0</td><td>0</td><td>0.0</td><td>0.0</td><td>0.0</td><td>1</td><td>1.0</td><td>1.0</td><td>1.0</td><td>942</td><td>266.8271987977095,-28.40643127500445</td><td></td></tr>\n",
       "<tr><td>SFGC0.661-0.0513</td><td>266.8463824609953</td><td>-28.39791412467139</td><td>0.9602</td><td>0.1247</td><td>7.701</td><td>1.837</td><td>0.1929</td><td>9.52</td><td>2.195</td><td>0.2804</td><td>7.828</td><td>1.913</td><td>1.195</td><td>1.947</td><td>0.1273</td><td>0.2243</td><td>1.943</td><td>0.1269</td><td>0.2214</td><td>M</td><td>5.837</td><td>1.148</td><td>--</td><td>--</td><td>4.413</td><td>0.3342</td><td>13.2</td><td>8.615</td><td>0.8604</td><td>10.01</td><td>9.85</td><td>1.369</td><td>7.193</td><td>1.952</td><td>1.143</td><td>8.549</td><td>0.6514</td><td>0.3378</td><td>8.59</td><td>0.6463</td><td>0.3151</td><td>M</td><td>8.951</td><td>1.466</td><td>0</td><td>0</td><td>Field03</td><td></td><td>SFGC0.661-0.0513</td><td>266.8463824609953,-28.39791412467139</td><td>0</td><td>0.0</td><td>0.0</td><td>0.0</td><td>0</td><td>0.0</td><td>0.0</td><td>0.0</td><td>1</td><td>1.0</td><td>1.0</td><td>1.0</td><td>945</td><td>266.84638246099536,-28.39791412467139</td><td></td></tr>\n",
       "<tr><td>SFGC0.667-0.0378</td><td>266.8368341614815</td><td>-28.38560761284377</td><td>6.555</td><td>0.1127</td><td>58.19</td><td>25.32</td><td>0.2009</td><td>126</td><td>52.64</td><td>0.2948</td><td>178.6</td><td>3.863</td><td>2.079</td><td>35.84</td><td>0.319</td><td>4.281</td><td>34.89</td><td>0.2268</td><td>2.307</td><td>A</td><td>6.966</td><td>2.274</td><td>--</td><td>--</td><td>125.7</td><td>0.2947</td><td>426.6</td><td>435.5</td><td>0.5541</td><td>785.8</td><td>705.9</td><td>0.7367</td><td>958.2</td><td>3.464</td><td>1.621</td><td>358.3</td><td>2.07</td><td>32.27</td><td>352.8</td><td>1.584</td><td>19.58</td><td>A</td><td>8.373</td><td>2.186</td><td>0</td><td>0</td><td>Field01</td><td></td><td>SFGC0.667-0.0378</td><td>266.8368341614815,-28.38560761284377</td><td>0</td><td>0.0</td><td>0.0</td><td>0.0</td><td>0</td><td>0.0</td><td>0.0</td><td>0.0</td><td>1</td><td>1.0</td><td>1.0</td><td>1.0</td><td>947</td><td>266.83683416148153,-28.38560761284377</td><td></td></tr>\n",
       "<tr><td>SFGC0.668-0.0342</td><td>266.8335367803795</td><td>-28.38358126934335</td><td>7.157</td><td>0.1146</td><td>62.43</td><td>31.56</td><td>0.2027</td><td>155.7</td><td>61.24</td><td>0.2975</td><td>205.8</td><td>4.41</td><td>1.94</td><td>43.9</td><td>0.6019</td><td>13.84</td><td>43.66</td><td>0.3145</td><td>3.969</td><td>A</td><td>10.72</td><td>2.856</td><td>--</td><td>--</td><td>211.7</td><td>0.2942</td><td>719.5</td><td>634.7</td><td>0.5535</td><td>1147</td><td>850.5</td><td>0.736</td><td>1156</td><td>2.998</td><td>1.34</td><td>543.9</td><td>4.832</td><td>150.8</td><td>537.7</td><td>2.77</td><td>51.48</td><td>A</td><td>9.193</td><td>1.764</td><td>0</td><td>0</td><td>Field01</td><td></td><td>SFGC0.668-0.0342</td><td>266.8335367803795,-28.38358126934335</td><td>0</td><td>0.0</td><td>0.0</td><td>0.0</td><td>0</td><td>0.0</td><td>0.0</td><td>0.0</td><td>1</td><td>1.0</td><td>1.0</td><td>1.0</td><td>948</td><td>266.8335367803795,-28.38358126934335</td><td></td></tr>\n",
       "</table></div>"
      ],
      "text/plain": [
       "<Table length=950>\n",
       "     SourceID          RA(J2000)      ... SSTGCxmatch\n",
       "                          deg         ...            \n",
       "     bytes18            float64       ...     str7   \n",
       "------------------ ------------------ ... -----------\n",
       "  SFGC0.154+0.0305   266.467110972243 ...     0558345\n",
       "  SFGC0.545-0.0864  266.8118265121627 ...     0777321\n",
       "  SFGC0.395+0.0076 266.63213024386454 ...     0667560\n",
       "SFGC359.639-0.0576  266.2456699094231 ...     0414950\n",
       "  SFGC0.055+0.0265  266.4117990403134 ...     0521894\n",
       "  SFGC0.091+0.0145  266.4447525525533 ...     0543623\n",
       "SFGC359.948-0.0293 266.40248829200516 ...     0515803\n",
       "  SFGC0.036-0.1818         266.603681 ...     0648643\n",
       "  SFGC0.016-0.1709  266.5812699425494 ...     0633961\n",
       "               ...                ... ...         ...\n",
       "  SFGC0.587-0.0574 266.80837590724457 ...            \n",
       "  SFGC0.602-0.0505  266.8109708524056 ...            \n",
       "  SFGC0.608-0.0474  266.8113042421003 ...            \n",
       "  SFGC0.632-0.0259  266.8046318013615 ...            \n",
       "  SFGC0.643-0.0917 266.87495668570966 ...            \n",
       "  SFGC0.643-0.0926  266.8758726876464 ...            \n",
       "  SFGC0.645-0.0413  266.8271987977095 ...            \n",
       "  SFGC0.661-0.0513  266.8463824609953 ...            \n",
       "  SFGC0.667-0.0378  266.8368341614815 ...            \n",
       "  SFGC0.668-0.0342  266.8335367803795 ...            "
      ]
     },
     "execution_count": 48,
     "metadata": {},
     "output_type": "execute_result"
    }
   ],
   "source": [
    "mcatComb"
   ]
  },
  {
   "cell_type": "code",
   "execution_count": 47,
   "id": "2c74795f",
   "metadata": {},
   "outputs": [],
   "source": [
    "filtcat=mcatComb[mcatComb[\"_5.8mag\"]>0]"
   ]
  },
  {
   "cell_type": "code",
   "execution_count": 48,
   "id": "8b14be8d",
   "metadata": {
    "scrolled": true
   },
   "outputs": [
    {
     "data": {
      "text/html": [
       "<div><i>Table length=320</i>\n",
       "<table id=\"table2472716300096\" class=\"table-striped table-bordered table-condensed\">\n",
       "<thead><tr><th>SourceID</th><th>RA(J2000)</th><th>DEC(J2000)</th><th>25um_Flux_4pix</th><th>25um_Flux_err_4pix</th><th>25um_SNR_4pix</th><th>25um_Flux_8pix</th><th>25um_Flux_err_8pix</th><th>25um_SNR_8pix</th><th>25um_Flux_12pix</th><th>25um_Flux_err_12pix</th><th>25um_SNR_12pix</th><th>25ApRatio8_4</th><th>25ApRatio12_8</th><th>25um_Flux_M2D</th><th>25um_Flux_err_M2D</th><th>25um_M2D_chi2</th><th>25um_Flux_G2D</th><th>25um_Flux_err_G2D</th><th>25um_G2D_chi2</th><th>25um_BestModel</th><th>fwhm25</th><th>elong25</th><th>bkg_qflag25</th><th>shape_qflag25</th><th>37um_Flux_5.5pix</th><th>37um_Flux_err_5.5pix</th><th>37um_SNR_5.5pix</th><th>37um_Flux_10.5pix</th><th>37um_Flux_err_10.5pix</th><th>37um_SNR_10.5pix</th><th>37um_Flux_14pix</th><th>37um_Flux_err_14pix</th><th>37um_SNR_14pix</th><th>37ApRatio10.5_5.5</th><th>37ApRatio14_10.5</th><th>37um_Flux_M2D</th><th>37um_Flux_err_M2D</th><th>37um_M2D_chi2</th><th>37um_Flux_G2D</th><th>37um_Flux_err_G2D</th><th>37um_G2D_chi2</th><th>37um_BestModel</th><th>fwhm37</th><th>elong37</th><th>bkg_qflag37</th><th>shape_qflag37</th><th>FieldID</th><th>SID25</th><th>SID37</th><th>sky_centroid</th><th>25ApPhot_qflag</th><th>25Ap_4pix_UL</th><th>25Ap_8pix_UL</th><th>25Ap_12pix_UL</th><th>37ApPhot_qflag</th><th>37Ap_5.5pix_UL</th><th>37Ap_10.5pix_UL</th><th>37Ap_14pix_UL</th><th>id</th><th>skycoords</th><th>SSTGCxmatch</th><th>SSTGCd2d</th><th>_8.0mag</th><th>_5.8mag</th><th>_4.5mag</th><th>_3.6mag</th><th>Jmag_2M</th><th>Hmag_2M</th><th>Kmag_2M</th></tr></thead>\n",
       "<thead><tr><th></th><th>deg</th><th>deg</th><th></th><th></th><th></th><th></th><th></th><th></th><th></th><th></th><th></th><th></th><th></th><th></th><th></th><th></th><th></th><th></th><th></th><th></th><th></th><th></th><th></th><th></th><th></th><th></th><th></th><th></th><th></th><th></th><th></th><th></th><th></th><th></th><th></th><th></th><th></th><th></th><th></th><th></th><th></th><th></th><th></th><th></th><th></th><th></th><th></th><th></th><th></th><th>deg,deg</th><th></th><th></th><th></th><th></th><th></th><th></th><th></th><th></th><th></th><th>deg,deg</th><th></th><th></th><th>mag</th><th>mag</th><th>mag</th><th>mag</th><th>mag</th><th>mag</th><th>mag</th></tr></thead>\n",
       "<thead><tr><th>bytes18</th><th>float64</th><th>float64</th><th>float64</th><th>float64</th><th>float64</th><th>float64</th><th>float64</th><th>float64</th><th>float64</th><th>float64</th><th>float64</th><th>float64</th><th>float64</th><th>float64</th><th>float64</th><th>float64</th><th>float64</th><th>float64</th><th>float64</th><th>bytes1</th><th>float64</th><th>float64</th><th>int32</th><th>int32</th><th>float64</th><th>float64</th><th>float64</th><th>float64</th><th>float64</th><th>float64</th><th>float64</th><th>float64</th><th>float64</th><th>float64</th><th>float64</th><th>float64</th><th>float64</th><th>float64</th><th>float64</th><th>float64</th><th>float64</th><th>bytes1</th><th>float64</th><th>float64</th><th>int32</th><th>int32</th><th>bytes7</th><th>bytes18</th><th>bytes18</th><th>object</th><th>int32</th><th>float64</th><th>float64</th><th>float64</th><th>int32</th><th>float64</th><th>float64</th><th>float64</th><th>int64</th><th>object</th><th>str7</th><th>float64</th><th>float32</th><th>float32</th><th>float32</th><th>float32</th><th>float32</th><th>float32</th><th>float32</th></tr></thead>\n",
       "<tr><td>SFGC0.154+0.0305</td><td>266.467110972243</td><td>-28.788414953789108</td><td>0.8717</td><td>0.1151</td><td>7.577</td><td>1.799</td><td>0.1701</td><td>10.58</td><td>2.309</td><td>0.2393</td><td>9.649</td><td>2.064</td><td>1.283</td><td>2.066</td><td>0.1245</td><td>0.4145</td><td>2.082</td><td>0.1241</td><td>0.3935</td><td>M</td><td>7.036</td><td>1.38</td><td>0</td><td>0</td><td>1.814</td><td>0.2743</td><td>6.614</td><td>5.091</td><td>0.404</td><td>12.6</td><td>7.375</td><td>0.5233</td><td>14.09</td><td>2.806</td><td>1.449</td><td>4.212</td><td>0.2775</td><td>0.3107</td><td>4.248</td><td>0.2772</td><td>0.2955</td><td>M</td><td>11.9</td><td>1.711</td><td>--</td><td>--</td><td>Field20</td><td>SFGC0.154+0.0305</td><td></td><td>266.467110972243,-28.788414953789108</td><td>0</td><td>0.0</td><td>0.0</td><td>0.0</td><td>0</td><td>0.0</td><td>0.0</td><td>0.0</td><td>578</td><td>266.46711097224306,-28.788414953789108</td><td>0558345</td><td>0.115</td><td>3.661</td><td>3.473</td><td>--</td><td>--</td><td>10.354</td><td>7.426</td><td>5.802</td></tr>\n",
       "<tr><td>SFGC0.545-0.0864</td><td>266.8118265121627</td><td>-28.51580469297644</td><td>2.144</td><td>0.09385</td><td>22.85</td><td>5.707</td><td>0.1517</td><td>37.63</td><td>8.51</td><td>0.2177</td><td>39.1</td><td>2.662</td><td>1.491</td><td>6.731</td><td>0.1452</td><td>0.697</td><td>6.728</td><td>0.1443</td><td>0.6069</td><td>M</td><td>10.12</td><td>1.39</td><td>0</td><td>0</td><td>5.309</td><td>0.2147</td><td>24.73</td><td>16.21</td><td>0.3784</td><td>42.83</td><td>22.92</td><td>0.5011</td><td>45.74</td><td>3.053</td><td>1.414</td><td>14.13</td><td>0.3012</td><td>0.6603</td><td>--</td><td>--</td><td>--</td><td>M</td><td>15.63</td><td>1</td><td>--</td><td>--</td><td>Field05</td><td>SFGC0.545-0.0864</td><td></td><td>266.8118265121627,-28.51580469297644</td><td>0</td><td>0.0</td><td>0.0</td><td>0.0</td><td>0</td><td>0.0</td><td>0.0</td><td>0.0</td><td>661</td><td>266.8118265121628,-28.51580469297644</td><td>0777321</td><td>0.147</td><td>6.833</td><td>8.692</td><td>9.829</td><td>10.819</td><td>--</td><td>--</td><td>--</td></tr>\n",
       "<tr><td>SFGC0.395+0.0076</td><td>266.63213024386454</td><td>-28.594773884198776</td><td>0.8135</td><td>0.1179</td><td>6.897</td><td>1.076</td><td>0.2004</td><td>5.368</td><td>1.318</td><td>0.2848</td><td>4.626</td><td>1.323</td><td>1.225</td><td>1.114</td><td>0.09</td><td>0.2353</td><td>0.8829</td><td>0.07201</td><td>0.2454</td><td>M</td><td>2.589</td><td>1.054</td><td>0</td><td>0</td><td>0.5691</td><td>0.2915</td><td>1.952</td><td>0.9068</td><td>0.4721</td><td>1.921</td><td>0.3662</td><td>0.9064</td><td>0.404</td><td>1.593</td><td>0.4038</td><td>0.9435</td><td>0.2042</td><td>0.1341</td><td>0.9486</td><td>0.2027</td><td>0.1319</td><td>M</td><td>2.457</td><td>1.925</td><td>--</td><td>--</td><td>Field09</td><td>SFGC0.395+0.0076</td><td></td><td>266.63213024386454,-28.594773884198776</td><td>1</td><td>0.0</td><td>0.0</td><td>2.172079280830045</td><td>111</td><td>1.4436847711788494</td><td>2.3230802265905193</td><td>3.085494664833485</td><td>645</td><td>266.6321302438646,-28.594773884198776</td><td>0667560</td><td>0.149</td><td>5.041</td><td>5.374</td><td>6.393</td><td>7.824</td><td>--</td><td>--</td><td>--</td></tr>\n",
       "<tr><td>SFGC359.639-0.0576</td><td>266.2456699094231</td><td>-29.27429422827648</td><td>3.217</td><td>0.08968</td><td>35.88</td><td>4.627</td><td>0.1491</td><td>31.04</td><td>6.347</td><td>0.2128</td><td>29.83</td><td>1.438</td><td>6.347</td><td>4.771</td><td>0.07794</td><td>0.7274</td><td>3.63</td><td>0.06016</td><td>1.093</td><td>M</td><td>2.565</td><td>1.201</td><td>0</td><td>0</td><td>3.77</td><td>0.215</td><td>17.53</td><td>9.55</td><td>0.3862</td><td>24.73</td><td>17.03</td><td>0.5101</td><td>33.39</td><td>2.533</td><td>1.784</td><td>8.273</td><td>0.2874</td><td>0.6732</td><td>8.357</td><td>0.2888</td><td>0.6433</td><td>M</td><td>11.25</td><td>1.494</td><td>0</td><td>20</td><td>Field45</td><td>SFGC359.639-0.0576</td><td>SFGC359.639-0.0577</td><td>266.2456699094231,-29.27429422827648</td><td>0</td><td>0.0</td><td>0.0</td><td>0.0</td><td>0</td><td>0.0</td><td>0.0</td><td>0.0</td><td>75</td><td>266.2456699094231,-29.27429422827648</td><td>0414950</td><td>0.153</td><td>3.708</td><td>3.756</td><td>5.737</td><td>--</td><td>10.605</td><td>7.348</td><td>5.658</td></tr>\n",
       "<tr><td>SFGC0.055+0.0265</td><td>266.4117990403134</td><td>-28.87554263769326</td><td>8.834</td><td>0.1181</td><td>74.79</td><td>12.86</td><td>0.2155</td><td>59.67</td><td>14.91</td><td>0.3169</td><td>47.07</td><td>1.456</td><td>14.91</td><td>13.11</td><td>0.1916</td><td>2.012</td><td>12.33</td><td>0.1248</td><td>1.028</td><td>G</td><td>4.099</td><td>1.47</td><td>0</td><td>0</td><td>15.35</td><td>0.2342</td><td>65.52</td><td>16.89</td><td>0.4297</td><td>39.3</td><td>18.69</td><td>0.5687</td><td>32.86</td><td>1.101</td><td>1.107</td><td>16.89</td><td>0.1942</td><td>1.041</td><td>16.78</td><td>0.1927</td><td>0.9707</td><td>M</td><td>4.335</td><td>1.117</td><td>0</td><td>0</td><td>Field31</td><td>SFGC0.055+0.0265</td><td>SFGC0.055+0.0266</td><td>266.4117990403134,-28.87554263769326</td><td>0</td><td>0.0</td><td>0.0</td><td>0.0</td><td>0</td><td>0.0</td><td>0.0</td><td>0.0</td><td>97</td><td>266.41179904031344,-28.87554263769326</td><td>0521894</td><td>0.164</td><td>5.598</td><td>7.410</td><td>9.378</td><td>10.668</td><td>--</td><td>--</td><td>--</td></tr>\n",
       "<tr><td>SFGC0.036-0.1818</td><td>266.603681</td><td>-29.0003732</td><td>1.257</td><td>0.2042</td><td>6.158</td><td>0.8017</td><td>0.4217</td><td>1.901</td><td>-0.2157</td><td>1.456</td><td>-0.1482</td><td>0.6377</td><td>-0.269</td><td>1.319</td><td>0.1305</td><td>0.3489</td><td>1.318</td><td>0.1305</td><td>0.3488</td><td>M</td><td>2.55</td><td>1.022</td><td>--</td><td>--</td><td>1.413</td><td>0.2726</td><td>5.184</td><td>1.781</td><td>0.5579</td><td>3.193</td><td>2.056</td><td>0.8018</td><td>2.564</td><td>1.261</td><td>1.154</td><td>1.51</td><td>0.1893</td><td>0.1474</td><td>1.533</td><td>0.1911</td><td>0.1446</td><td>M</td><td>4.091</td><td>1.232</td><td>0</td><td>0</td><td>Field35</td><td></td><td>SFGC0.036-0.1818</td><td>266.603681,-29.0003732</td><td>11</td><td>0.0</td><td>2.066866453010822</td><td>4.151405867147268</td><td>11</td><td>0.0</td><td>3.455049810090288</td><td>4.461474892621626</td><td>763</td><td>266.60368100000005,-29.0003732</td><td>0648643</td><td>0.182</td><td>4.893</td><td>5.281</td><td>6.394</td><td>7.673</td><td>17.327</td><td>13.881</td><td>10.972</td></tr>\n",
       "<tr><td>SFGC0.016-0.1709</td><td>266.5812699425494</td><td>-29.011478973793213</td><td>2.149</td><td>0.1039</td><td>20.69</td><td>2.818</td><td>0.1822</td><td>15.46</td><td>3.025</td><td>0.2669</td><td>11.33</td><td>1.311</td><td>3.025</td><td>2.766</td><td>0.08102</td><td>0.2243</td><td>2.263</td><td>0.06668</td><td>0.2736</td><td>M</td><td>2.509</td><td>1.079</td><td>0</td><td>0</td><td>1.854</td><td>0.2394</td><td>7.745</td><td>2.488</td><td>0.4391</td><td>5.667</td><td>2.186</td><td>0.5869</td><td>3.725</td><td>1.342</td><td>0.8786</td><td>2.393</td><td>0.1901</td><td>0.2222</td><td>1.86</td><td>0.1484</td><td>0.2272</td><td>M</td><td>2.741</td><td>1.239</td><td>0</td><td>0</td><td>Field35</td><td>SFGC0.016-0.1709</td><td>SFGC0.016-0.1710</td><td>266.5812699425494,-29.011478973793213</td><td>0</td><td>0.0</td><td>0.0</td><td>0.0</td><td>1</td><td>0.0</td><td>0.0</td><td>3.9468128111205987</td><td>123</td><td>266.5812699425494,-29.011478973793213</td><td>0633961</td><td>0.187</td><td>4.585</td><td>5.094</td><td>6.219</td><td>7.646</td><td>17.442</td><td>13.183</td><td>10.630</td></tr>\n",
       "<tr><td>SFGC359.954-0.0262</td><td>266.40339825505055</td><td>-28.98882505800519</td><td>2.552</td><td>0.09972</td><td>25.59</td><td>6.313</td><td>0.1574</td><td>40.11</td><td>9.034</td><td>0.225</td><td>40.15</td><td>2.473</td><td>9.034</td><td>7.385</td><td>0.1465</td><td>0.9864</td><td>7.444</td><td>0.1458</td><td>0.7506</td><td>M</td><td>9.082</td><td>1.48</td><td>0</td><td>0</td><td>6.658</td><td>0.1963</td><td>33.92</td><td>12.09</td><td>0.3578</td><td>33.79</td><td>13.33</td><td>0.482</td><td>27.65</td><td>1.816</td><td>1.103</td><td>11.38</td><td>0.2652</td><td>0.6997</td><td>11.38</td><td>0.2621</td><td>0.5395</td><td>M</td><td>8.52</td><td>1.478</td><td>0</td><td>0</td><td>Field38</td><td>SFGC359.954-0.0262</td><td>SFGC359.954-0.0258</td><td>266.40339825505055,-28.98882505800519</td><td>0</td><td>0.0</td><td>0.0</td><td>0.0</td><td>0</td><td>0.0</td><td>0.0</td><td>0.0</td><td>283</td><td>266.4033982550506,-28.98882505800519</td><td>0516452</td><td>0.192</td><td>8.658</td><td>9.834</td><td>10.943</td><td>--</td><td>--</td><td>--</td><td>--</td></tr>\n",
       "<tr><td>SFGC0.479+0.0740</td><td>266.61731121399794</td><td>-28.48819612132566</td><td>13.95</td><td>0.1201</td><td>116.2</td><td>28.7</td><td>0.2201</td><td>130.4</td><td>35.29</td><td>0.3269</td><td>108</td><td>2.057</td><td>35.29</td><td>31.58</td><td>0.1954</td><td>1.537</td><td>30.81</td><td>0.1904</td><td>1.344</td><td>A</td><td>5.972</td><td>1.234</td><td>0</td><td>0</td><td>28.42</td><td>0.2888</td><td>98.4</td><td>53.63</td><td>0.5423</td><td>98.88</td><td>64.01</td><td>0.7211</td><td>88.77</td><td>1.887</td><td>1.194</td><td>49.08</td><td>0.4165</td><td>1.501</td><td>48.79</td><td>0.41</td><td>0.5426</td><td>A</td><td>7.477</td><td>1.425</td><td>0</td><td>0</td><td>Field07</td><td>SFGC0.479+0.0740</td><td>SFGC0.479+0.0742</td><td>266.61731121399794,-28.48819612132566</td><td>0</td><td>0.0</td><td>0.0</td><td>0.0</td><td>0</td><td>0.0</td><td>0.0</td><td>0.0</td><td>64</td><td>266.61731121399794,-28.48819612132566</td><td>0657736</td><td>0.202</td><td>5.257</td><td>7.545</td><td>--</td><td>--</td><td>--</td><td>--</td><td>--</td></tr>\n",
       "<tr><td>...</td><td>...</td><td>...</td><td>...</td><td>...</td><td>...</td><td>...</td><td>...</td><td>...</td><td>...</td><td>...</td><td>...</td><td>...</td><td>...</td><td>...</td><td>...</td><td>...</td><td>...</td><td>...</td><td>...</td><td>...</td><td>...</td><td>...</td><td>...</td><td>...</td><td>...</td><td>...</td><td>...</td><td>...</td><td>...</td><td>...</td><td>...</td><td>...</td><td>...</td><td>...</td><td>...</td><td>...</td><td>...</td><td>...</td><td>...</td><td>...</td><td>...</td><td>...</td><td>...</td><td>...</td><td>...</td><td>...</td><td>...</td><td>...</td><td>...</td><td>...</td><td>...</td><td>...</td><td>...</td><td>...</td><td>...</td><td>...</td><td>...</td><td>...</td><td>...</td><td>...</td><td>...</td><td>...</td><td>...</td><td>...</td><td>...</td><td>...</td><td>...</td><td>...</td><td>...</td></tr>\n",
       "<tr><td>SFGC0.128+0.0205</td><td>266.46093471588995</td><td>-28.816592991752728</td><td>2.335</td><td>0.1665</td><td>14.02</td><td>7.252</td><td>0.2737</td><td>26.5</td><td>11.02</td><td>0.3982</td><td>27.66</td><td>3.106</td><td>1.519</td><td>8.433</td><td>0.2831</td><td>0.4084</td><td>8.441</td><td>0.2824</td><td>0.3877</td><td>M</td><td>11.3</td><td>1.259</td><td>--</td><td>--</td><td>8.888</td><td>0.2594</td><td>34.27</td><td>18</td><td>0.474</td><td>37.97</td><td>22.74</td><td>0.6274</td><td>36.25</td><td>2.025</td><td>1.264</td><td>16.53</td><td>0.3771</td><td>0.4395</td><td>16.49</td><td>0.3751</td><td>0.4014</td><td>M</td><td>9.168</td><td>1.23</td><td>0</td><td>0</td><td>Field23</td><td></td><td>SFGC0.128+0.0205</td><td>266.46093471588995,-28.816592991752728</td><td>0</td><td>0.0</td><td>0.0</td><td>0.0</td><td>0</td><td>0.0</td><td>0.0</td><td>0.0</td><td>818</td><td>266.46093471589,-28.816592991752728</td><td>0553962</td><td>3.624</td><td>7.293</td><td>8.985</td><td>--</td><td>--</td><td>--</td><td>--</td><td>--</td></tr>\n",
       "<tr><td>SFGC0.550-0.0750</td><td>266.8037538177459</td><td>-28.505482868867002</td><td>2.288</td><td>0.1015</td><td>22.54</td><td>6.195</td><td>0.1543</td><td>40.15</td><td>9.085</td><td>0.2197</td><td>41.35</td><td>2.707</td><td>1.467</td><td>6.969</td><td>0.1455</td><td>0.8585</td><td>6.98</td><td>0.1421</td><td>0.4626</td><td>M</td><td>9.567</td><td>1.904</td><td>0</td><td>0</td><td>7.726</td><td>0.212</td><td>36.45</td><td>19.78</td><td>0.3813</td><td>51.87</td><td>27.8</td><td>0.5043</td><td>55.13</td><td>2.56</td><td>1.406</td><td>16.87</td><td>0.3131</td><td>0.7269</td><td>16.82</td><td>0.3062</td><td>0.3321</td><td>M</td><td>12.35</td><td>2.473</td><td>--</td><td>--</td><td>Field05</td><td>SFGC0.550-0.0750</td><td></td><td>266.8037538177459,-28.505482868867002</td><td>0</td><td>0.0</td><td>0.0</td><td>0.0</td><td>0</td><td>0.0</td><td>0.0</td><td>0.0</td><td>662</td><td>266.8037538177459,-28.505482868867002</td><td>0773341</td><td>3.629</td><td>8.456</td><td>8.359</td><td>8.995</td><td>9.137</td><td>16.166</td><td>12.995</td><td>10.579</td></tr>\n",
       "<tr><td>SFGC0.214-0.1232</td><td>266.6521711905902</td><td>-28.817565297557103</td><td>0.6354</td><td>0.1238</td><td>5.133</td><td>1.21</td><td>0.1701</td><td>7.116</td><td>1.272</td><td>0.2439</td><td>5.214</td><td>1.905</td><td>1.272</td><td>1.392</td><td>0.109</td><td>0.4635</td><td>1.457</td><td>0.1084</td><td>0.4017</td><td>M</td><td>6.608</td><td>1.818</td><td>0</td><td>0</td><td>3.003</td><td>0.198</td><td>15.17</td><td>7.498</td><td>0.3509</td><td>21.37</td><td>11.06</td><td>0.4629</td><td>23.9</td><td>2.497</td><td>1.476</td><td>6.275</td><td>0.2614</td><td>0.6428</td><td>6.308</td><td>0.2507</td><td>0.4455</td><td>M</td><td>10.84</td><td>2.573</td><td>0</td><td>20</td><td>Field14</td><td>SFGC0.214-0.1232</td><td>SFGC0.214-0.1229</td><td>266.6521711905902,-28.817565297557103</td><td>0</td><td>0.0</td><td>0.0</td><td>0.0</td><td>0</td><td>0.0</td><td>0.0</td><td>0.0</td><td>263</td><td>266.65217119059025,-28.817565297557103</td><td>0681109</td><td>3.642</td><td>7.737</td><td>8.025</td><td>8.617</td><td>8.671</td><td>16.164</td><td>12.056</td><td>10.050</td></tr>\n",
       "<tr><td>SFGC0.078-0.0040</td><td>266.455322276726</td><td>-28.871615534586194</td><td>3.108</td><td>0.1325</td><td>23.46</td><td>8.205</td><td>0.1755</td><td>46.75</td><td>11.13</td><td>0.2446</td><td>45.5</td><td>2.64</td><td>1.356</td><td>10.5</td><td>0.1387</td><td>1.412</td><td>10.58</td><td>0.1388</td><td>1.134</td><td>A</td><td>8.823</td><td>1.397</td><td>--</td><td>--</td><td>11.9</td><td>0.217</td><td>54.84</td><td>26.98</td><td>0.3966</td><td>68.03</td><td>33.6</td><td>0.5244</td><td>64.08</td><td>2.268</td><td>1.245</td><td>24.01</td><td>0.3105</td><td>0.6929</td><td>23.98</td><td>0.3085</td><td>0.3962</td><td>M</td><td>10.24</td><td>1.424</td><td>0</td><td>0</td><td>Field31</td><td></td><td>SFGC0.078-0.0040</td><td>266.455322276726,-28.871615534586194</td><td>0</td><td>0.0</td><td>0.0</td><td>0.0</td><td>0</td><td>0.0</td><td>0.0</td><td>0.0</td><td>792</td><td>266.455322276726,-28.871615534586194</td><td>0550274</td><td>3.647</td><td>8.518</td><td>8.800</td><td>9.242</td><td>9.346</td><td>16.099</td><td>12.237</td><td>10.608</td></tr>\n",
       "<tr><td>SFGC359.924-0.0223</td><td>266.3811595726216</td><td>-29.01303143548505</td><td>0.6791</td><td>0.1231</td><td>5.518</td><td>1.105</td><td>0.1792</td><td>6.163</td><td>0.8832</td><td>0.2892</td><td>3.054</td><td>1.627</td><td>0.7995</td><td>1.172</td><td>0.09694</td><td>0.4318</td><td>1.171</td><td>0.09662</td><td>0.4295</td><td>M</td><td>5.556</td><td>1.134</td><td>--</td><td>--</td><td>2.202</td><td>0.2096</td><td>10.51</td><td>3.672</td><td>0.3759</td><td>9.769</td><td>4.438</td><td>0.4954</td><td>8.958</td><td>1.668</td><td>1.209</td><td>3.412</td><td>0.2466</td><td>0.325</td><td>3.307</td><td>0.2362</td><td>0.3087</td><td>M</td><td>5.262</td><td>1.475</td><td>0</td><td>0</td><td>Field41</td><td></td><td>SFGC359.924-0.0223</td><td>266.3811595726216,-29.01303143548505</td><td>1</td><td>0.0</td><td>0.0</td><td>1.7508467449453788</td><td>0</td><td>0.0</td><td>0.0</td><td>0.0</td><td>710</td><td>266.38115957262164,-29.01303143548505</td><td>0502511</td><td>3.666</td><td>8.215</td><td>8.538</td><td>8.797</td><td>8.928</td><td>--</td><td>--</td><td>--</td></tr>\n",
       "<tr><td>SFGC0.172-0.0815</td><td>266.5868878108329</td><td>-28.831502232367317</td><td>0.7201</td><td>0.2947</td><td>2.444</td><td>1.581</td><td>0.2922</td><td>5.413</td><td>3.73</td><td>0.2572</td><td>14.5</td><td>2.196</td><td>2.359</td><td>2.129</td><td>0.1141</td><td>0.9307</td><td>2.242</td><td>0.1171</td><td>0.8682</td><td>M</td><td>7.791</td><td>1.822</td><td>0</td><td>0</td><td>1.309</td><td>0.4025</td><td>3.253</td><td>3.349</td><td>0.435</td><td>7.699</td><td>7.407</td><td>0.4833</td><td>15.33</td><td>2.558</td><td>2.212</td><td>3.504</td><td>0.2245</td><td>0.6979</td><td>--</td><td>--</td><td>--</td><td>M</td><td>9.156</td><td>1</td><td>--</td><td>--</td><td>Field18</td><td>SFGC0.172-0.0815</td><td></td><td>266.5868878108329,-28.831502232367317</td><td>100</td><td>1.6041229692757708</td><td>0.0</td><td>0.0</td><td>100</td><td>2.5166470175074096</td><td>0.0</td><td>0.0</td><td>598</td><td>266.5868878108329,-28.831502232367317</td><td>0638359</td><td>3.816</td><td>8.418</td><td>8.628</td><td>9.039</td><td>9.095</td><td>15.529</td><td>11.932</td><td>10.170</td></tr>\n",
       "<tr><td>SFGC359.412-0.0375</td><td>266.0899783354108</td><td>-29.45718910476368</td><td>1.381</td><td>0.118</td><td>11.7</td><td>4.56</td><td>0.1924</td><td>23.7</td><td>9.488</td><td>0.2784</td><td>34.08</td><td>3.302</td><td>2.081</td><td>6.081</td><td>0.1618</td><td>0.3511</td><td>6.111</td><td>0.1607</td><td>0.2309</td><td>M</td><td>8.274</td><td>5.566</td><td>--</td><td>--</td><td>5.339</td><td>0.2325</td><td>22.97</td><td>15.54</td><td>0.4283</td><td>36.29</td><td>23.51</td><td>0.5681</td><td>41.38</td><td>2.911</td><td>1.512</td><td>13.07</td><td>0.323</td><td>0.4221</td><td>13.16</td><td>0.3214</td><td>0.2816</td><td>G</td><td>11.11</td><td>4.197</td><td>0</td><td>20</td><td>Field51</td><td></td><td>SFGC359.412-0.0375</td><td>266.0899783354108,-29.45718910476368</td><td>0</td><td>0.0</td><td>0.0</td><td>0.0</td><td>0</td><td>0.0</td><td>0.0</td><td>0.0</td><td>676</td><td>266.0899783354108,-29.45718910476368</td><td>0317173</td><td>3.823</td><td>7.395</td><td>9.536</td><td>--</td><td>--</td><td>--</td><td>--</td><td>--</td></tr>\n",
       "<tr><td>SFGC0.018+0.0039</td><td>266.4116854005345</td><td>-28.919119451839347</td><td>0.542</td><td>0.1654</td><td>3.278</td><td>0.7837</td><td>0.2546</td><td>3.078</td><td>1.155</td><td>0.3203</td><td>3.607</td><td>1.446</td><td>1.474</td><td>0.8469</td><td>0.1144</td><td>0.4243</td><td>1.053</td><td>0.1226</td><td>0.3585</td><td>M</td><td>4.497</td><td>3.568</td><td>0</td><td>0</td><td>1.548</td><td>0.2643</td><td>5.856</td><td>2.817</td><td>0.4608</td><td>6.112</td><td>3.355</td><td>0.6088</td><td>5.51</td><td>1.819</td><td>1.191</td><td>2.682</td><td>0.338</td><td>0.4002</td><td>2.71</td><td>0.3057</td><td>0.3477</td><td>M</td><td>8.664</td><td>4.321</td><td>--</td><td>--</td><td>Field33</td><td>SFGC0.018+0.0039</td><td></td><td>266.4116854005345,-28.919119451839347</td><td>111</td><td>1.0381374804250967</td><td>1.54748217894371</td><td>2.1163210343190455</td><td>0</td><td>0.0</td><td>0.0</td><td>0.0</td><td>497</td><td>266.41168540053457,-28.919119451839347</td><td>0521069</td><td>3.835</td><td>6.680</td><td>7.054</td><td>7.485</td><td>7.440</td><td>13.601</td><td>10.219</td><td>8.689</td></tr>\n",
       "<tr><td>SFGC359.365-0.0745</td><td>266.0976520367033</td><td>-29.5169558758474</td><td>1.772</td><td>0.0947</td><td>18.71</td><td>4.237</td><td>0.1561</td><td>27.15</td><td>5.377</td><td>0.2251</td><td>23.89</td><td>2.391</td><td>5.377</td><td>4.668</td><td>0.1425</td><td>0.346</td><td>4.611</td><td>0.1403</td><td>0.324</td><td>M</td><td>6.974</td><td>1.26</td><td>0</td><td>0</td><td>4.36</td><td>0.2048</td><td>21.29</td><td>8.482</td><td>0.3744</td><td>22.66</td><td>8.995</td><td>0.4963</td><td>18.12</td><td>1.946</td><td>1.06</td><td>7.781</td><td>0.2845</td><td>0.3834</td><td>7.743</td><td>0.2793</td><td>0.3112</td><td>M</td><td>8.943</td><td>1.493</td><td>0</td><td>0</td><td>Field52</td><td>SFGC359.365-0.0745</td><td>SFGC359.364-0.0745</td><td>266.0976520367033,-29.5169558758474</td><td>0</td><td>0.0</td><td>0.0</td><td>0.0</td><td>0</td><td>0.0</td><td>0.0</td><td>0.0</td><td>208</td><td>266.0976520367034,-29.5169558758474</td><td>0322034</td><td>3.937</td><td>8.056</td><td>10.122</td><td>--</td><td>--</td><td>--</td><td>--</td><td>--</td></tr>\n",
       "<tr><td>SFGC359.738-0.0338</td><td>266.28188236203476</td><td>-29.177142266931728</td><td>1.859</td><td>0.08831</td><td>21.05</td><td>4.438</td><td>0.1401</td><td>31.67</td><td>6.687</td><td>0.1994</td><td>33.53</td><td>2.387</td><td>1.507</td><td>5.251</td><td>0.1283</td><td>0.4557</td><td>5.195</td><td>0.1267</td><td>0.436</td><td>M</td><td>8.089</td><td>1.2</td><td>0</td><td>0</td><td>4.929</td><td>0.1926</td><td>25.59</td><td>12.42</td><td>0.3482</td><td>35.69</td><td>18.28</td><td>0.4603</td><td>39.71</td><td>2.521</td><td>1.471</td><td>10.86</td><td>0.2792</td><td>0.3684</td><td>10.89</td><td>0.2792</td><td>0.3399</td><td>M</td><td>11.84</td><td>1.313</td><td>--</td><td>--</td><td>Field43</td><td>SFGC359.738-0.0338</td><td></td><td>266.28188236203476,-29.177142266931728</td><td>0</td><td>0.0</td><td>0.0</td><td>0.0</td><td>0</td><td>0.0</td><td>0.0</td><td>0.0</td><td>416</td><td>266.28188236203476,-29.177142266931728</td><td>0438731</td><td>3.975</td><td>7.145</td><td>7.250</td><td>7.664</td><td>7.672</td><td>14.599</td><td>11.088</td><td>9.145</td></tr>\n",
       "</table></div>"
      ],
      "text/plain": [
       "<Table length=320>\n",
       "     SourceID          RA(J2000)           DEC(J2000)     ... Hmag_2M  Kmag_2M \n",
       "                          deg                 deg         ...   mag      mag   \n",
       "     bytes18            float64             float64       ... float32  float32 \n",
       "------------------ ------------------ ------------------- ... -------- --------\n",
       "  SFGC0.154+0.0305   266.467110972243 -28.788414953789108 ...    7.426    5.802\n",
       "  SFGC0.545-0.0864  266.8118265121627  -28.51580469297644 ...       --       --\n",
       "  SFGC0.395+0.0076 266.63213024386454 -28.594773884198776 ...       --       --\n",
       "SFGC359.639-0.0576  266.2456699094231  -29.27429422827648 ...    7.348    5.658\n",
       "  SFGC0.055+0.0265  266.4117990403134  -28.87554263769326 ...       --       --\n",
       "  SFGC0.036-0.1818         266.603681         -29.0003732 ...   13.881   10.972\n",
       "  SFGC0.016-0.1709  266.5812699425494 -29.011478973793213 ...   13.183   10.630\n",
       "SFGC359.954-0.0262 266.40339825505055  -28.98882505800519 ...       --       --\n",
       "  SFGC0.479+0.0740 266.61731121399794  -28.48819612132566 ...       --       --\n",
       "               ...                ...                 ... ...      ...      ...\n",
       "  SFGC0.128+0.0205 266.46093471588995 -28.816592991752728 ...       --       --\n",
       "  SFGC0.550-0.0750  266.8037538177459 -28.505482868867002 ...   12.995   10.579\n",
       "  SFGC0.214-0.1232  266.6521711905902 -28.817565297557103 ...   12.056   10.050\n",
       "  SFGC0.078-0.0040   266.455322276726 -28.871615534586194 ...   12.237   10.608\n",
       "SFGC359.924-0.0223  266.3811595726216  -29.01303143548505 ...       --       --\n",
       "  SFGC0.172-0.0815  266.5868878108329 -28.831502232367317 ...   11.932   10.170\n",
       "SFGC359.412-0.0375  266.0899783354108  -29.45718910476368 ...       --       --\n",
       "  SFGC0.018+0.0039  266.4116854005345 -28.919119451839347 ...   10.219    8.689\n",
       "SFGC359.365-0.0745  266.0976520367033   -29.5169558758474 ...       --       --\n",
       "SFGC359.738-0.0338 266.28188236203476 -29.177142266931728 ...   11.088    9.145"
      ]
     },
     "execution_count": 48,
     "metadata": {},
     "output_type": "execute_result"
    }
   ],
   "source": [
    "filtcat"
   ]
  },
  {
   "cell_type": "code",
   "execution_count": 49,
   "id": "d42aeb76",
   "metadata": {},
   "outputs": [],
   "source": [
    "filtcat=filtcat[filtcat[\"_4.5mag\"]>0]"
   ]
  },
  {
   "cell_type": "code",
   "execution_count": 50,
   "id": "17092d33",
   "metadata": {
    "scrolled": true
   },
   "outputs": [
    {
     "data": {
      "text/html": [
       "<div><i>Table length=242</i>\n",
       "<table id=\"table2472766909696\" class=\"table-striped table-bordered table-condensed\">\n",
       "<thead><tr><th>SourceID</th><th>RA(J2000)</th><th>DEC(J2000)</th><th>25um_Flux_4pix</th><th>25um_Flux_err_4pix</th><th>25um_SNR_4pix</th><th>25um_Flux_8pix</th><th>25um_Flux_err_8pix</th><th>25um_SNR_8pix</th><th>25um_Flux_12pix</th><th>25um_Flux_err_12pix</th><th>25um_SNR_12pix</th><th>25ApRatio8_4</th><th>25ApRatio12_8</th><th>25um_Flux_M2D</th><th>25um_Flux_err_M2D</th><th>25um_M2D_chi2</th><th>25um_Flux_G2D</th><th>25um_Flux_err_G2D</th><th>25um_G2D_chi2</th><th>25um_BestModel</th><th>fwhm25</th><th>elong25</th><th>bkg_qflag25</th><th>shape_qflag25</th><th>37um_Flux_5.5pix</th><th>37um_Flux_err_5.5pix</th><th>37um_SNR_5.5pix</th><th>37um_Flux_10.5pix</th><th>37um_Flux_err_10.5pix</th><th>37um_SNR_10.5pix</th><th>37um_Flux_14pix</th><th>37um_Flux_err_14pix</th><th>37um_SNR_14pix</th><th>37ApRatio10.5_5.5</th><th>37ApRatio14_10.5</th><th>37um_Flux_M2D</th><th>37um_Flux_err_M2D</th><th>37um_M2D_chi2</th><th>37um_Flux_G2D</th><th>37um_Flux_err_G2D</th><th>37um_G2D_chi2</th><th>37um_BestModel</th><th>fwhm37</th><th>elong37</th><th>bkg_qflag37</th><th>shape_qflag37</th><th>FieldID</th><th>SID25</th><th>SID37</th><th>sky_centroid</th><th>25ApPhot_qflag</th><th>25Ap_4pix_UL</th><th>25Ap_8pix_UL</th><th>25Ap_12pix_UL</th><th>37ApPhot_qflag</th><th>37Ap_5.5pix_UL</th><th>37Ap_10.5pix_UL</th><th>37Ap_14pix_UL</th><th>id</th><th>skycoords</th><th>SSTGCxmatch</th><th>SSTGCd2d</th><th>_8.0mag</th><th>_5.8mag</th><th>_4.5mag</th><th>_3.6mag</th><th>Jmag_2M</th><th>Hmag_2M</th><th>Kmag_2M</th></tr></thead>\n",
       "<thead><tr><th></th><th>deg</th><th>deg</th><th></th><th></th><th></th><th></th><th></th><th></th><th></th><th></th><th></th><th></th><th></th><th></th><th></th><th></th><th></th><th></th><th></th><th></th><th></th><th></th><th></th><th></th><th></th><th></th><th></th><th></th><th></th><th></th><th></th><th></th><th></th><th></th><th></th><th></th><th></th><th></th><th></th><th></th><th></th><th></th><th></th><th></th><th></th><th></th><th></th><th></th><th></th><th>deg,deg</th><th></th><th></th><th></th><th></th><th></th><th></th><th></th><th></th><th></th><th>deg,deg</th><th></th><th></th><th>mag</th><th>mag</th><th>mag</th><th>mag</th><th>mag</th><th>mag</th><th>mag</th></tr></thead>\n",
       "<thead><tr><th>bytes18</th><th>float64</th><th>float64</th><th>float64</th><th>float64</th><th>float64</th><th>float64</th><th>float64</th><th>float64</th><th>float64</th><th>float64</th><th>float64</th><th>float64</th><th>float64</th><th>float64</th><th>float64</th><th>float64</th><th>float64</th><th>float64</th><th>float64</th><th>bytes1</th><th>float64</th><th>float64</th><th>int32</th><th>int32</th><th>float64</th><th>float64</th><th>float64</th><th>float64</th><th>float64</th><th>float64</th><th>float64</th><th>float64</th><th>float64</th><th>float64</th><th>float64</th><th>float64</th><th>float64</th><th>float64</th><th>float64</th><th>float64</th><th>float64</th><th>bytes1</th><th>float64</th><th>float64</th><th>int32</th><th>int32</th><th>bytes7</th><th>bytes18</th><th>bytes18</th><th>object</th><th>int32</th><th>float64</th><th>float64</th><th>float64</th><th>int32</th><th>float64</th><th>float64</th><th>float64</th><th>int64</th><th>object</th><th>str7</th><th>float64</th><th>float32</th><th>float32</th><th>float32</th><th>float32</th><th>float32</th><th>float32</th><th>float32</th></tr></thead>\n",
       "<tr><td>SFGC0.545-0.0864</td><td>266.8118265121627</td><td>-28.51580469297644</td><td>2.144</td><td>0.09385</td><td>22.85</td><td>5.707</td><td>0.1517</td><td>37.63</td><td>8.51</td><td>0.2177</td><td>39.1</td><td>2.662</td><td>1.491</td><td>6.731</td><td>0.1452</td><td>0.697</td><td>6.728</td><td>0.1443</td><td>0.6069</td><td>M</td><td>10.12</td><td>1.39</td><td>0</td><td>0</td><td>5.309</td><td>0.2147</td><td>24.73</td><td>16.21</td><td>0.3784</td><td>42.83</td><td>22.92</td><td>0.5011</td><td>45.74</td><td>3.053</td><td>1.414</td><td>14.13</td><td>0.3012</td><td>0.6603</td><td>--</td><td>--</td><td>--</td><td>M</td><td>15.63</td><td>1</td><td>--</td><td>--</td><td>Field05</td><td>SFGC0.545-0.0864</td><td></td><td>266.8118265121627,-28.51580469297644</td><td>0</td><td>0.0</td><td>0.0</td><td>0.0</td><td>0</td><td>0.0</td><td>0.0</td><td>0.0</td><td>661</td><td>266.8118265121628,-28.51580469297644</td><td>0777321</td><td>0.147</td><td>6.833</td><td>8.692</td><td>9.829</td><td>10.819</td><td>--</td><td>--</td><td>--</td></tr>\n",
       "<tr><td>SFGC0.395+0.0076</td><td>266.63213024386454</td><td>-28.594773884198776</td><td>0.8135</td><td>0.1179</td><td>6.897</td><td>1.076</td><td>0.2004</td><td>5.368</td><td>1.318</td><td>0.2848</td><td>4.626</td><td>1.323</td><td>1.225</td><td>1.114</td><td>0.09</td><td>0.2353</td><td>0.8829</td><td>0.07201</td><td>0.2454</td><td>M</td><td>2.589</td><td>1.054</td><td>0</td><td>0</td><td>0.5691</td><td>0.2915</td><td>1.952</td><td>0.9068</td><td>0.4721</td><td>1.921</td><td>0.3662</td><td>0.9064</td><td>0.404</td><td>1.593</td><td>0.4038</td><td>0.9435</td><td>0.2042</td><td>0.1341</td><td>0.9486</td><td>0.2027</td><td>0.1319</td><td>M</td><td>2.457</td><td>1.925</td><td>--</td><td>--</td><td>Field09</td><td>SFGC0.395+0.0076</td><td></td><td>266.63213024386454,-28.594773884198776</td><td>1</td><td>0.0</td><td>0.0</td><td>2.172079280830045</td><td>111</td><td>1.4436847711788494</td><td>2.3230802265905193</td><td>3.085494664833485</td><td>645</td><td>266.6321302438646,-28.594773884198776</td><td>0667560</td><td>0.149</td><td>5.041</td><td>5.374</td><td>6.393</td><td>7.824</td><td>--</td><td>--</td><td>--</td></tr>\n",
       "<tr><td>SFGC359.639-0.0576</td><td>266.2456699094231</td><td>-29.27429422827648</td><td>3.217</td><td>0.08968</td><td>35.88</td><td>4.627</td><td>0.1491</td><td>31.04</td><td>6.347</td><td>0.2128</td><td>29.83</td><td>1.438</td><td>6.347</td><td>4.771</td><td>0.07794</td><td>0.7274</td><td>3.63</td><td>0.06016</td><td>1.093</td><td>M</td><td>2.565</td><td>1.201</td><td>0</td><td>0</td><td>3.77</td><td>0.215</td><td>17.53</td><td>9.55</td><td>0.3862</td><td>24.73</td><td>17.03</td><td>0.5101</td><td>33.39</td><td>2.533</td><td>1.784</td><td>8.273</td><td>0.2874</td><td>0.6732</td><td>8.357</td><td>0.2888</td><td>0.6433</td><td>M</td><td>11.25</td><td>1.494</td><td>0</td><td>20</td><td>Field45</td><td>SFGC359.639-0.0576</td><td>SFGC359.639-0.0577</td><td>266.2456699094231,-29.27429422827648</td><td>0</td><td>0.0</td><td>0.0</td><td>0.0</td><td>0</td><td>0.0</td><td>0.0</td><td>0.0</td><td>75</td><td>266.2456699094231,-29.27429422827648</td><td>0414950</td><td>0.153</td><td>3.708</td><td>3.756</td><td>5.737</td><td>--</td><td>10.605</td><td>7.348</td><td>5.658</td></tr>\n",
       "<tr><td>SFGC0.055+0.0265</td><td>266.4117990403134</td><td>-28.87554263769326</td><td>8.834</td><td>0.1181</td><td>74.79</td><td>12.86</td><td>0.2155</td><td>59.67</td><td>14.91</td><td>0.3169</td><td>47.07</td><td>1.456</td><td>14.91</td><td>13.11</td><td>0.1916</td><td>2.012</td><td>12.33</td><td>0.1248</td><td>1.028</td><td>G</td><td>4.099</td><td>1.47</td><td>0</td><td>0</td><td>15.35</td><td>0.2342</td><td>65.52</td><td>16.89</td><td>0.4297</td><td>39.3</td><td>18.69</td><td>0.5687</td><td>32.86</td><td>1.101</td><td>1.107</td><td>16.89</td><td>0.1942</td><td>1.041</td><td>16.78</td><td>0.1927</td><td>0.9707</td><td>M</td><td>4.335</td><td>1.117</td><td>0</td><td>0</td><td>Field31</td><td>SFGC0.055+0.0265</td><td>SFGC0.055+0.0266</td><td>266.4117990403134,-28.87554263769326</td><td>0</td><td>0.0</td><td>0.0</td><td>0.0</td><td>0</td><td>0.0</td><td>0.0</td><td>0.0</td><td>97</td><td>266.41179904031344,-28.87554263769326</td><td>0521894</td><td>0.164</td><td>5.598</td><td>7.410</td><td>9.378</td><td>10.668</td><td>--</td><td>--</td><td>--</td></tr>\n",
       "<tr><td>SFGC0.036-0.1818</td><td>266.603681</td><td>-29.0003732</td><td>1.257</td><td>0.2042</td><td>6.158</td><td>0.8017</td><td>0.4217</td><td>1.901</td><td>-0.2157</td><td>1.456</td><td>-0.1482</td><td>0.6377</td><td>-0.269</td><td>1.319</td><td>0.1305</td><td>0.3489</td><td>1.318</td><td>0.1305</td><td>0.3488</td><td>M</td><td>2.55</td><td>1.022</td><td>--</td><td>--</td><td>1.413</td><td>0.2726</td><td>5.184</td><td>1.781</td><td>0.5579</td><td>3.193</td><td>2.056</td><td>0.8018</td><td>2.564</td><td>1.261</td><td>1.154</td><td>1.51</td><td>0.1893</td><td>0.1474</td><td>1.533</td><td>0.1911</td><td>0.1446</td><td>M</td><td>4.091</td><td>1.232</td><td>0</td><td>0</td><td>Field35</td><td></td><td>SFGC0.036-0.1818</td><td>266.603681,-29.0003732</td><td>11</td><td>0.0</td><td>2.066866453010822</td><td>4.151405867147268</td><td>11</td><td>0.0</td><td>3.455049810090288</td><td>4.461474892621626</td><td>763</td><td>266.60368100000005,-29.0003732</td><td>0648643</td><td>0.182</td><td>4.893</td><td>5.281</td><td>6.394</td><td>7.673</td><td>17.327</td><td>13.881</td><td>10.972</td></tr>\n",
       "<tr><td>SFGC0.016-0.1709</td><td>266.5812699425494</td><td>-29.011478973793213</td><td>2.149</td><td>0.1039</td><td>20.69</td><td>2.818</td><td>0.1822</td><td>15.46</td><td>3.025</td><td>0.2669</td><td>11.33</td><td>1.311</td><td>3.025</td><td>2.766</td><td>0.08102</td><td>0.2243</td><td>2.263</td><td>0.06668</td><td>0.2736</td><td>M</td><td>2.509</td><td>1.079</td><td>0</td><td>0</td><td>1.854</td><td>0.2394</td><td>7.745</td><td>2.488</td><td>0.4391</td><td>5.667</td><td>2.186</td><td>0.5869</td><td>3.725</td><td>1.342</td><td>0.8786</td><td>2.393</td><td>0.1901</td><td>0.2222</td><td>1.86</td><td>0.1484</td><td>0.2272</td><td>M</td><td>2.741</td><td>1.239</td><td>0</td><td>0</td><td>Field35</td><td>SFGC0.016-0.1709</td><td>SFGC0.016-0.1710</td><td>266.5812699425494,-29.011478973793213</td><td>0</td><td>0.0</td><td>0.0</td><td>0.0</td><td>1</td><td>0.0</td><td>0.0</td><td>3.9468128111205987</td><td>123</td><td>266.5812699425494,-29.011478973793213</td><td>0633961</td><td>0.187</td><td>4.585</td><td>5.094</td><td>6.219</td><td>7.646</td><td>17.442</td><td>13.183</td><td>10.630</td></tr>\n",
       "<tr><td>SFGC359.954-0.0262</td><td>266.40339825505055</td><td>-28.98882505800519</td><td>2.552</td><td>0.09972</td><td>25.59</td><td>6.313</td><td>0.1574</td><td>40.11</td><td>9.034</td><td>0.225</td><td>40.15</td><td>2.473</td><td>9.034</td><td>7.385</td><td>0.1465</td><td>0.9864</td><td>7.444</td><td>0.1458</td><td>0.7506</td><td>M</td><td>9.082</td><td>1.48</td><td>0</td><td>0</td><td>6.658</td><td>0.1963</td><td>33.92</td><td>12.09</td><td>0.3578</td><td>33.79</td><td>13.33</td><td>0.482</td><td>27.65</td><td>1.816</td><td>1.103</td><td>11.38</td><td>0.2652</td><td>0.6997</td><td>11.38</td><td>0.2621</td><td>0.5395</td><td>M</td><td>8.52</td><td>1.478</td><td>0</td><td>0</td><td>Field38</td><td>SFGC359.954-0.0262</td><td>SFGC359.954-0.0258</td><td>266.40339825505055,-28.98882505800519</td><td>0</td><td>0.0</td><td>0.0</td><td>0.0</td><td>0</td><td>0.0</td><td>0.0</td><td>0.0</td><td>283</td><td>266.4033982550506,-28.98882505800519</td><td>0516452</td><td>0.192</td><td>8.658</td><td>9.834</td><td>10.943</td><td>--</td><td>--</td><td>--</td><td>--</td></tr>\n",
       "<tr><td>SFGC0.032-0.1746</td><td>266.594593663159</td><td>-28.999584103873005</td><td>1.358</td><td>0.1182</td><td>11.49</td><td>1.891</td><td>0.2092</td><td>9.039</td><td>2.16</td><td>0.3045</td><td>7.093</td><td>1.392</td><td>2.16</td><td>1.812</td><td>0.09048</td><td>0.2436</td><td>1.426</td><td>0.07152</td><td>0.2559</td><td>M</td><td>2.332</td><td>1.158</td><td>0</td><td>0</td><td>1.076</td><td>0.2778</td><td>3.873</td><td>1.758</td><td>0.4834</td><td>3.637</td><td>1.535</td><td>0.6457</td><td>2.378</td><td>1.634</td><td>0.8735</td><td>1.622</td><td>0.223</td><td>0.1726</td><td>1.021</td><td>0.1433</td><td>0.1798</td><td>M</td><td>2.102</td><td>1.23</td><td>0</td><td>0</td><td>Field35</td><td>SFGC0.032-0.1746</td><td>SFGC0.032-0.1749</td><td>266.594593663159,-28.999584103873005</td><td>0</td><td>0.0</td><td>0.0</td><td>0.0</td><td>111</td><td>1.9091086814343314</td><td>3.2081871793128687</td><td>3.4726160666929324</td><td>183</td><td>266.59459366315906,-28.999584103873005</td><td>0642743</td><td>0.221</td><td>5.128</td><td>5.748</td><td>7.029</td><td>8.694</td><td>--</td><td>--</td><td>--</td></tr>\n",
       "<tr><td>SFGC359.374-0.0883</td><td>266.11699223318425</td><td>-29.51585973844053</td><td>1.869</td><td>0.09748</td><td>19.17</td><td>5.283</td><td>0.1552</td><td>34.04</td><td>7.79</td><td>0.2229</td><td>34.95</td><td>2.827</td><td>7.79</td><td>6.067</td><td>0.1505</td><td>0.4887</td><td>6.061</td><td>0.1493</td><td>0.4077</td><td>M</td><td>10.13</td><td>1.359</td><td>0</td><td>0</td><td>6.031</td><td>0.2032</td><td>29.69</td><td>13.13</td><td>0.3713</td><td>35.35</td><td>16.02</td><td>0.4918</td><td>32.58</td><td>2.176</td><td>1.221</td><td>11.7</td><td>0.3006</td><td>0.5158</td><td>11.69</td><td>0.2966</td><td>0.3798</td><td>M</td><td>10.35</td><td>1.51</td><td>0</td><td>0</td><td>Field52</td><td>SFGC359.374-0.0883</td><td>SFGC359.374-0.0882</td><td>266.11699223318425,-29.51585973844053</td><td>0</td><td>0.0</td><td>0.0</td><td>0.0</td><td>0</td><td>0.0</td><td>0.0</td><td>0.0</td><td>26</td><td>266.11699223318425,-29.51585973844053</td><td>0334605</td><td>0.231</td><td>9.408</td><td>10.105</td><td>10.518</td><td>10.865</td><td>15.903</td><td>13.801</td><td>12.498</td></tr>\n",
       "<tr><td>...</td><td>...</td><td>...</td><td>...</td><td>...</td><td>...</td><td>...</td><td>...</td><td>...</td><td>...</td><td>...</td><td>...</td><td>...</td><td>...</td><td>...</td><td>...</td><td>...</td><td>...</td><td>...</td><td>...</td><td>...</td><td>...</td><td>...</td><td>...</td><td>...</td><td>...</td><td>...</td><td>...</td><td>...</td><td>...</td><td>...</td><td>...</td><td>...</td><td>...</td><td>...</td><td>...</td><td>...</td><td>...</td><td>...</td><td>...</td><td>...</td><td>...</td><td>...</td><td>...</td><td>...</td><td>...</td><td>...</td><td>...</td><td>...</td><td>...</td><td>...</td><td>...</td><td>...</td><td>...</td><td>...</td><td>...</td><td>...</td><td>...</td><td>...</td><td>...</td><td>...</td><td>...</td><td>...</td><td>...</td><td>...</td><td>...</td><td>...</td><td>...</td><td>...</td><td>...</td></tr>\n",
       "<tr><td>SFGC0.100-0.0147</td><td>266.4787342514697</td><td>-28.858539363186214</td><td>1.755</td><td>0.09712</td><td>18.07</td><td>5.145</td><td>0.1548</td><td>33.23</td><td>7.226</td><td>0.2226</td><td>32.46</td><td>2.931</td><td>7.226</td><td>6.077</td><td>0.1543</td><td>0.3191</td><td>6.081</td><td>0.1542</td><td>0.3069</td><td>M</td><td>10.63</td><td>1.159</td><td>0</td><td>0</td><td>6.167</td><td>0.2135</td><td>28.89</td><td>13.99</td><td>0.3924</td><td>35.66</td><td>17.08</td><td>0.5202</td><td>32.84</td><td>2.269</td><td>1.221</td><td>12.65</td><td>0.3221</td><td>0.3949</td><td>12.64</td><td>0.3173</td><td>0.2418</td><td>M</td><td>10.59</td><td>1.723</td><td>0</td><td>0</td><td>Field25</td><td>SFGC0.100-0.0147</td><td>SFGC0.100-0.0142</td><td>266.4787342514697,-28.858539363186214</td><td>0</td><td>0.0</td><td>0.0</td><td>0.0</td><td>0</td><td>0.0</td><td>0.0</td><td>0.0</td><td>326</td><td>266.47873425146975,-28.858539363186214</td><td>0565875</td><td>3.459</td><td>6.963</td><td>7.700</td><td>8.318</td><td>8.317</td><td>14.974</td><td>11.264</td><td>9.584</td></tr>\n",
       "<tr><td>SFGC0.154-0.0685</td><td>266.5636446268109</td><td>-28.83997234443419</td><td>8.963</td><td>0.1174</td><td>76.34</td><td>25.62</td><td>0.1505</td><td>170.3</td><td>41.96</td><td>0.2064</td><td>203.3</td><td>2.859</td><td>1.637</td><td>31.47</td><td>0.6926</td><td>24.6</td><td>31.6</td><td>0.2956</td><td>4.941</td><td>A</td><td>11.28</td><td>5.283</td><td>0</td><td>0</td><td>18.26</td><td>0.2019</td><td>90.43</td><td>49.05</td><td>0.344</td><td>142.6</td><td>73.99</td><td>0.4519</td><td>163.7</td><td>2.687</td><td>1.508</td><td>41.94</td><td>0.6563</td><td>5.415</td><td>41.96</td><td>0.2756</td><td>1.73</td><td>G</td><td>13.8</td><td>4.139</td><td>--</td><td>--</td><td>Field18</td><td>SFGC0.154-0.0685</td><td></td><td>266.5636446268109,-28.83997234443419</td><td>0</td><td>0.0</td><td>0.0</td><td>0.0</td><td>0</td><td>0.0</td><td>0.0</td><td>0.0</td><td>577</td><td>266.5636446268109,-28.83997234443419</td><td>0622877</td><td>3.522</td><td>7.103</td><td>6.992</td><td>7.836</td><td>7.987</td><td>14.453</td><td>11.628</td><td>9.445</td></tr>\n",
       "<tr><td>SFGC359.718-0.0354</td><td>266.27106724779696</td><td>-29.195593809166812</td><td>7.265</td><td>0.1044</td><td>69.61</td><td>17.04</td><td>0.1776</td><td>95.94</td><td>23.78</td><td>0.2532</td><td>93.93</td><td>2.345</td><td>23.78</td><td>19.48</td><td>0.3046</td><td>3.042</td><td>19.18</td><td>0.1688</td><td>1.67</td><td>A</td><td>7.698</td><td>1.451</td><td>0</td><td>0</td><td>11.04</td><td>0.1877</td><td>58.79</td><td>22.1</td><td>0.3598</td><td>61.42</td><td>30.29</td><td>0.4952</td><td>61.17</td><td>2.003</td><td>1.371</td><td>19.67</td><td>0.2653</td><td>1.391</td><td>19.24</td><td>0.2575</td><td>0.8682</td><td>M</td><td>7.762</td><td>1.519</td><td>0</td><td>0</td><td>Field43</td><td>SFGC359.718-0.0354</td><td>SFGC359.718-0.0351</td><td>266.27106724779696,-29.195593809166812</td><td>0</td><td>0.0</td><td>0.0</td><td>0.0</td><td>0</td><td>0.0</td><td>0.0</td><td>0.0</td><td>187</td><td>266.271067247797,-29.195593809166812</td><td>0430567</td><td>3.587</td><td>4.866</td><td>4.891</td><td>5.501</td><td>6.507</td><td>15.017</td><td>11.634</td><td>9.044</td></tr>\n",
       "<tr><td>SFGC0.550-0.0750</td><td>266.8037538177459</td><td>-28.505482868867002</td><td>2.288</td><td>0.1015</td><td>22.54</td><td>6.195</td><td>0.1543</td><td>40.15</td><td>9.085</td><td>0.2197</td><td>41.35</td><td>2.707</td><td>1.467</td><td>6.969</td><td>0.1455</td><td>0.8585</td><td>6.98</td><td>0.1421</td><td>0.4626</td><td>M</td><td>9.567</td><td>1.904</td><td>0</td><td>0</td><td>7.726</td><td>0.212</td><td>36.45</td><td>19.78</td><td>0.3813</td><td>51.87</td><td>27.8</td><td>0.5043</td><td>55.13</td><td>2.56</td><td>1.406</td><td>16.87</td><td>0.3131</td><td>0.7269</td><td>16.82</td><td>0.3062</td><td>0.3321</td><td>M</td><td>12.35</td><td>2.473</td><td>--</td><td>--</td><td>Field05</td><td>SFGC0.550-0.0750</td><td></td><td>266.8037538177459,-28.505482868867002</td><td>0</td><td>0.0</td><td>0.0</td><td>0.0</td><td>0</td><td>0.0</td><td>0.0</td><td>0.0</td><td>662</td><td>266.8037538177459,-28.505482868867002</td><td>0773341</td><td>3.629</td><td>8.456</td><td>8.359</td><td>8.995</td><td>9.137</td><td>16.166</td><td>12.995</td><td>10.579</td></tr>\n",
       "<tr><td>SFGC0.214-0.1232</td><td>266.6521711905902</td><td>-28.817565297557103</td><td>0.6354</td><td>0.1238</td><td>5.133</td><td>1.21</td><td>0.1701</td><td>7.116</td><td>1.272</td><td>0.2439</td><td>5.214</td><td>1.905</td><td>1.272</td><td>1.392</td><td>0.109</td><td>0.4635</td><td>1.457</td><td>0.1084</td><td>0.4017</td><td>M</td><td>6.608</td><td>1.818</td><td>0</td><td>0</td><td>3.003</td><td>0.198</td><td>15.17</td><td>7.498</td><td>0.3509</td><td>21.37</td><td>11.06</td><td>0.4629</td><td>23.9</td><td>2.497</td><td>1.476</td><td>6.275</td><td>0.2614</td><td>0.6428</td><td>6.308</td><td>0.2507</td><td>0.4455</td><td>M</td><td>10.84</td><td>2.573</td><td>0</td><td>20</td><td>Field14</td><td>SFGC0.214-0.1232</td><td>SFGC0.214-0.1229</td><td>266.6521711905902,-28.817565297557103</td><td>0</td><td>0.0</td><td>0.0</td><td>0.0</td><td>0</td><td>0.0</td><td>0.0</td><td>0.0</td><td>263</td><td>266.65217119059025,-28.817565297557103</td><td>0681109</td><td>3.642</td><td>7.737</td><td>8.025</td><td>8.617</td><td>8.671</td><td>16.164</td><td>12.056</td><td>10.050</td></tr>\n",
       "<tr><td>SFGC0.078-0.0040</td><td>266.455322276726</td><td>-28.871615534586194</td><td>3.108</td><td>0.1325</td><td>23.46</td><td>8.205</td><td>0.1755</td><td>46.75</td><td>11.13</td><td>0.2446</td><td>45.5</td><td>2.64</td><td>1.356</td><td>10.5</td><td>0.1387</td><td>1.412</td><td>10.58</td><td>0.1388</td><td>1.134</td><td>A</td><td>8.823</td><td>1.397</td><td>--</td><td>--</td><td>11.9</td><td>0.217</td><td>54.84</td><td>26.98</td><td>0.3966</td><td>68.03</td><td>33.6</td><td>0.5244</td><td>64.08</td><td>2.268</td><td>1.245</td><td>24.01</td><td>0.3105</td><td>0.6929</td><td>23.98</td><td>0.3085</td><td>0.3962</td><td>M</td><td>10.24</td><td>1.424</td><td>0</td><td>0</td><td>Field31</td><td></td><td>SFGC0.078-0.0040</td><td>266.455322276726,-28.871615534586194</td><td>0</td><td>0.0</td><td>0.0</td><td>0.0</td><td>0</td><td>0.0</td><td>0.0</td><td>0.0</td><td>792</td><td>266.455322276726,-28.871615534586194</td><td>0550274</td><td>3.647</td><td>8.518</td><td>8.800</td><td>9.242</td><td>9.346</td><td>16.099</td><td>12.237</td><td>10.608</td></tr>\n",
       "<tr><td>SFGC359.924-0.0223</td><td>266.3811595726216</td><td>-29.01303143548505</td><td>0.6791</td><td>0.1231</td><td>5.518</td><td>1.105</td><td>0.1792</td><td>6.163</td><td>0.8832</td><td>0.2892</td><td>3.054</td><td>1.627</td><td>0.7995</td><td>1.172</td><td>0.09694</td><td>0.4318</td><td>1.171</td><td>0.09662</td><td>0.4295</td><td>M</td><td>5.556</td><td>1.134</td><td>--</td><td>--</td><td>2.202</td><td>0.2096</td><td>10.51</td><td>3.672</td><td>0.3759</td><td>9.769</td><td>4.438</td><td>0.4954</td><td>8.958</td><td>1.668</td><td>1.209</td><td>3.412</td><td>0.2466</td><td>0.325</td><td>3.307</td><td>0.2362</td><td>0.3087</td><td>M</td><td>5.262</td><td>1.475</td><td>0</td><td>0</td><td>Field41</td><td></td><td>SFGC359.924-0.0223</td><td>266.3811595726216,-29.01303143548505</td><td>1</td><td>0.0</td><td>0.0</td><td>1.7508467449453788</td><td>0</td><td>0.0</td><td>0.0</td><td>0.0</td><td>710</td><td>266.38115957262164,-29.01303143548505</td><td>0502511</td><td>3.666</td><td>8.215</td><td>8.538</td><td>8.797</td><td>8.928</td><td>--</td><td>--</td><td>--</td></tr>\n",
       "<tr><td>SFGC0.172-0.0815</td><td>266.5868878108329</td><td>-28.831502232367317</td><td>0.7201</td><td>0.2947</td><td>2.444</td><td>1.581</td><td>0.2922</td><td>5.413</td><td>3.73</td><td>0.2572</td><td>14.5</td><td>2.196</td><td>2.359</td><td>2.129</td><td>0.1141</td><td>0.9307</td><td>2.242</td><td>0.1171</td><td>0.8682</td><td>M</td><td>7.791</td><td>1.822</td><td>0</td><td>0</td><td>1.309</td><td>0.4025</td><td>3.253</td><td>3.349</td><td>0.435</td><td>7.699</td><td>7.407</td><td>0.4833</td><td>15.33</td><td>2.558</td><td>2.212</td><td>3.504</td><td>0.2245</td><td>0.6979</td><td>--</td><td>--</td><td>--</td><td>M</td><td>9.156</td><td>1</td><td>--</td><td>--</td><td>Field18</td><td>SFGC0.172-0.0815</td><td></td><td>266.5868878108329,-28.831502232367317</td><td>100</td><td>1.6041229692757708</td><td>0.0</td><td>0.0</td><td>100</td><td>2.5166470175074096</td><td>0.0</td><td>0.0</td><td>598</td><td>266.5868878108329,-28.831502232367317</td><td>0638359</td><td>3.816</td><td>8.418</td><td>8.628</td><td>9.039</td><td>9.095</td><td>15.529</td><td>11.932</td><td>10.170</td></tr>\n",
       "<tr><td>SFGC0.018+0.0039</td><td>266.4116854005345</td><td>-28.919119451839347</td><td>0.542</td><td>0.1654</td><td>3.278</td><td>0.7837</td><td>0.2546</td><td>3.078</td><td>1.155</td><td>0.3203</td><td>3.607</td><td>1.446</td><td>1.474</td><td>0.8469</td><td>0.1144</td><td>0.4243</td><td>1.053</td><td>0.1226</td><td>0.3585</td><td>M</td><td>4.497</td><td>3.568</td><td>0</td><td>0</td><td>1.548</td><td>0.2643</td><td>5.856</td><td>2.817</td><td>0.4608</td><td>6.112</td><td>3.355</td><td>0.6088</td><td>5.51</td><td>1.819</td><td>1.191</td><td>2.682</td><td>0.338</td><td>0.4002</td><td>2.71</td><td>0.3057</td><td>0.3477</td><td>M</td><td>8.664</td><td>4.321</td><td>--</td><td>--</td><td>Field33</td><td>SFGC0.018+0.0039</td><td></td><td>266.4116854005345,-28.919119451839347</td><td>111</td><td>1.0381374804250967</td><td>1.54748217894371</td><td>2.1163210343190455</td><td>0</td><td>0.0</td><td>0.0</td><td>0.0</td><td>497</td><td>266.41168540053457,-28.919119451839347</td><td>0521069</td><td>3.835</td><td>6.680</td><td>7.054</td><td>7.485</td><td>7.440</td><td>13.601</td><td>10.219</td><td>8.689</td></tr>\n",
       "<tr><td>SFGC359.738-0.0338</td><td>266.28188236203476</td><td>-29.177142266931728</td><td>1.859</td><td>0.08831</td><td>21.05</td><td>4.438</td><td>0.1401</td><td>31.67</td><td>6.687</td><td>0.1994</td><td>33.53</td><td>2.387</td><td>1.507</td><td>5.251</td><td>0.1283</td><td>0.4557</td><td>5.195</td><td>0.1267</td><td>0.436</td><td>M</td><td>8.089</td><td>1.2</td><td>0</td><td>0</td><td>4.929</td><td>0.1926</td><td>25.59</td><td>12.42</td><td>0.3482</td><td>35.69</td><td>18.28</td><td>0.4603</td><td>39.71</td><td>2.521</td><td>1.471</td><td>10.86</td><td>0.2792</td><td>0.3684</td><td>10.89</td><td>0.2792</td><td>0.3399</td><td>M</td><td>11.84</td><td>1.313</td><td>--</td><td>--</td><td>Field43</td><td>SFGC359.738-0.0338</td><td></td><td>266.28188236203476,-29.177142266931728</td><td>0</td><td>0.0</td><td>0.0</td><td>0.0</td><td>0</td><td>0.0</td><td>0.0</td><td>0.0</td><td>416</td><td>266.28188236203476,-29.177142266931728</td><td>0438731</td><td>3.975</td><td>7.145</td><td>7.250</td><td>7.664</td><td>7.672</td><td>14.599</td><td>11.088</td><td>9.145</td></tr>\n",
       "</table></div>"
      ],
      "text/plain": [
       "<Table length=242>\n",
       "     SourceID          RA(J2000)           DEC(J2000)     ... Hmag_2M  Kmag_2M \n",
       "                          deg                 deg         ...   mag      mag   \n",
       "     bytes18            float64             float64       ... float32  float32 \n",
       "------------------ ------------------ ------------------- ... -------- --------\n",
       "  SFGC0.545-0.0864  266.8118265121627  -28.51580469297644 ...       --       --\n",
       "  SFGC0.395+0.0076 266.63213024386454 -28.594773884198776 ...       --       --\n",
       "SFGC359.639-0.0576  266.2456699094231  -29.27429422827648 ...    7.348    5.658\n",
       "  SFGC0.055+0.0265  266.4117990403134  -28.87554263769326 ...       --       --\n",
       "  SFGC0.036-0.1818         266.603681         -29.0003732 ...   13.881   10.972\n",
       "  SFGC0.016-0.1709  266.5812699425494 -29.011478973793213 ...   13.183   10.630\n",
       "SFGC359.954-0.0262 266.40339825505055  -28.98882505800519 ...       --       --\n",
       "  SFGC0.032-0.1746   266.594593663159 -28.999584103873005 ...       --       --\n",
       "SFGC359.374-0.0883 266.11699223318425  -29.51585973844053 ...   13.801   12.498\n",
       "               ...                ...                 ... ...      ...      ...\n",
       "  SFGC0.100-0.0147  266.4787342514697 -28.858539363186214 ...   11.264    9.584\n",
       "  SFGC0.154-0.0685  266.5636446268109  -28.83997234443419 ...   11.628    9.445\n",
       "SFGC359.718-0.0354 266.27106724779696 -29.195593809166812 ...   11.634    9.044\n",
       "  SFGC0.550-0.0750  266.8037538177459 -28.505482868867002 ...   12.995   10.579\n",
       "  SFGC0.214-0.1232  266.6521711905902 -28.817565297557103 ...   12.056   10.050\n",
       "  SFGC0.078-0.0040   266.455322276726 -28.871615534586194 ...   12.237   10.608\n",
       "SFGC359.924-0.0223  266.3811595726216  -29.01303143548505 ...       --       --\n",
       "  SFGC0.172-0.0815  266.5868878108329 -28.831502232367317 ...   11.932   10.170\n",
       "  SFGC0.018+0.0039  266.4116854005345 -28.919119451839347 ...   10.219    8.689\n",
       "SFGC359.738-0.0338 266.28188236203476 -29.177142266931728 ...   11.088    9.145"
      ]
     },
     "execution_count": 50,
     "metadata": {},
     "output_type": "execute_result"
    }
   ],
   "source": [
    "filtcat"
   ]
  },
  {
   "cell_type": "code",
   "execution_count": 51,
   "id": "e251c6c7",
   "metadata": {},
   "outputs": [],
   "source": [
    "filtcat=filtcat[filtcat[\"_3.6mag\"]>0]"
   ]
  },
  {
   "cell_type": "code",
   "execution_count": 53,
   "id": "fec8223b",
   "metadata": {
    "scrolled": true
   },
   "outputs": [],
   "source": [
    "filtcat=filtcat[filtcat[\"37ApPhot_qflag\"]==0]"
   ]
  },
  {
   "cell_type": "code",
   "execution_count": 55,
   "id": "5fc76a07",
   "metadata": {},
   "outputs": [],
   "source": [
    "filtcat=filtcat[filtcat[\"25ApPhot_qflag\"]==0]"
   ]
  },
  {
   "cell_type": "code",
   "execution_count": 56,
   "id": "9c57107c",
   "metadata": {
    "scrolled": true
   },
   "outputs": [
    {
     "data": {
      "text/html": [
       "<div><i>Table length=147</i>\n",
       "<table id=\"table2472680491424\" class=\"table-striped table-bordered table-condensed\">\n",
       "<thead><tr><th>SourceID</th><th>RA(J2000)</th><th>DEC(J2000)</th><th>25um_Flux_4pix</th><th>25um_Flux_err_4pix</th><th>25um_SNR_4pix</th><th>25um_Flux_8pix</th><th>25um_Flux_err_8pix</th><th>25um_SNR_8pix</th><th>25um_Flux_12pix</th><th>25um_Flux_err_12pix</th><th>25um_SNR_12pix</th><th>25ApRatio8_4</th><th>25ApRatio12_8</th><th>25um_Flux_M2D</th><th>25um_Flux_err_M2D</th><th>25um_M2D_chi2</th><th>25um_Flux_G2D</th><th>25um_Flux_err_G2D</th><th>25um_G2D_chi2</th><th>25um_BestModel</th><th>fwhm25</th><th>elong25</th><th>bkg_qflag25</th><th>shape_qflag25</th><th>37um_Flux_5.5pix</th><th>37um_Flux_err_5.5pix</th><th>37um_SNR_5.5pix</th><th>37um_Flux_10.5pix</th><th>37um_Flux_err_10.5pix</th><th>37um_SNR_10.5pix</th><th>37um_Flux_14pix</th><th>37um_Flux_err_14pix</th><th>37um_SNR_14pix</th><th>37ApRatio10.5_5.5</th><th>37ApRatio14_10.5</th><th>37um_Flux_M2D</th><th>37um_Flux_err_M2D</th><th>37um_M2D_chi2</th><th>37um_Flux_G2D</th><th>37um_Flux_err_G2D</th><th>37um_G2D_chi2</th><th>37um_BestModel</th><th>fwhm37</th><th>elong37</th><th>bkg_qflag37</th><th>shape_qflag37</th><th>FieldID</th><th>SID25</th><th>SID37</th><th>sky_centroid</th><th>25ApPhot_qflag</th><th>25Ap_4pix_UL</th><th>25Ap_8pix_UL</th><th>25Ap_12pix_UL</th><th>37ApPhot_qflag</th><th>37Ap_5.5pix_UL</th><th>37Ap_10.5pix_UL</th><th>37Ap_14pix_UL</th><th>id</th><th>skycoords</th><th>SSTGCxmatch</th><th>SSTGCd2d</th><th>_8.0mag</th><th>_5.8mag</th><th>_4.5mag</th><th>_3.6mag</th><th>Jmag_2M</th><th>Hmag_2M</th><th>Kmag_2M</th></tr></thead>\n",
       "<thead><tr><th></th><th>deg</th><th>deg</th><th></th><th></th><th></th><th></th><th></th><th></th><th></th><th></th><th></th><th></th><th></th><th></th><th></th><th></th><th></th><th></th><th></th><th></th><th></th><th></th><th></th><th></th><th></th><th></th><th></th><th></th><th></th><th></th><th></th><th></th><th></th><th></th><th></th><th></th><th></th><th></th><th></th><th></th><th></th><th></th><th></th><th></th><th></th><th></th><th></th><th></th><th></th><th>deg,deg</th><th></th><th></th><th></th><th></th><th></th><th></th><th></th><th></th><th></th><th>deg,deg</th><th></th><th></th><th>mag</th><th>mag</th><th>mag</th><th>mag</th><th>mag</th><th>mag</th><th>mag</th></tr></thead>\n",
       "<thead><tr><th>bytes18</th><th>float64</th><th>float64</th><th>float64</th><th>float64</th><th>float64</th><th>float64</th><th>float64</th><th>float64</th><th>float64</th><th>float64</th><th>float64</th><th>float64</th><th>float64</th><th>float64</th><th>float64</th><th>float64</th><th>float64</th><th>float64</th><th>float64</th><th>bytes1</th><th>float64</th><th>float64</th><th>int32</th><th>int32</th><th>float64</th><th>float64</th><th>float64</th><th>float64</th><th>float64</th><th>float64</th><th>float64</th><th>float64</th><th>float64</th><th>float64</th><th>float64</th><th>float64</th><th>float64</th><th>float64</th><th>float64</th><th>float64</th><th>float64</th><th>bytes1</th><th>float64</th><th>float64</th><th>int32</th><th>int32</th><th>bytes7</th><th>bytes18</th><th>bytes18</th><th>object</th><th>int32</th><th>float64</th><th>float64</th><th>float64</th><th>int32</th><th>float64</th><th>float64</th><th>float64</th><th>int64</th><th>object</th><th>str7</th><th>float64</th><th>float32</th><th>float32</th><th>float32</th><th>float32</th><th>float32</th><th>float32</th><th>float32</th></tr></thead>\n",
       "<tr><td>SFGC0.545-0.0864</td><td>266.8118265121627</td><td>-28.51580469297644</td><td>2.144</td><td>0.09385</td><td>22.85</td><td>5.707</td><td>0.1517</td><td>37.63</td><td>8.51</td><td>0.2177</td><td>39.1</td><td>2.662</td><td>1.491</td><td>6.731</td><td>0.1452</td><td>0.697</td><td>6.728</td><td>0.1443</td><td>0.6069</td><td>M</td><td>10.12</td><td>1.39</td><td>0</td><td>0</td><td>5.309</td><td>0.2147</td><td>24.73</td><td>16.21</td><td>0.3784</td><td>42.83</td><td>22.92</td><td>0.5011</td><td>45.74</td><td>3.053</td><td>1.414</td><td>14.13</td><td>0.3012</td><td>0.6603</td><td>--</td><td>--</td><td>--</td><td>M</td><td>15.63</td><td>1</td><td>--</td><td>--</td><td>Field05</td><td>SFGC0.545-0.0864</td><td></td><td>266.8118265121627,-28.51580469297644</td><td>0</td><td>0.0</td><td>0.0</td><td>0.0</td><td>0</td><td>0.0</td><td>0.0</td><td>0.0</td><td>661</td><td>266.8118265121628,-28.51580469297644</td><td>0777321</td><td>0.147</td><td>6.833</td><td>8.692</td><td>9.829</td><td>10.819</td><td>--</td><td>--</td><td>--</td></tr>\n",
       "<tr><td>SFGC0.055+0.0265</td><td>266.4117990403134</td><td>-28.87554263769326</td><td>8.834</td><td>0.1181</td><td>74.79</td><td>12.86</td><td>0.2155</td><td>59.67</td><td>14.91</td><td>0.3169</td><td>47.07</td><td>1.456</td><td>14.91</td><td>13.11</td><td>0.1916</td><td>2.012</td><td>12.33</td><td>0.1248</td><td>1.028</td><td>G</td><td>4.099</td><td>1.47</td><td>0</td><td>0</td><td>15.35</td><td>0.2342</td><td>65.52</td><td>16.89</td><td>0.4297</td><td>39.3</td><td>18.69</td><td>0.5687</td><td>32.86</td><td>1.101</td><td>1.107</td><td>16.89</td><td>0.1942</td><td>1.041</td><td>16.78</td><td>0.1927</td><td>0.9707</td><td>M</td><td>4.335</td><td>1.117</td><td>0</td><td>0</td><td>Field31</td><td>SFGC0.055+0.0265</td><td>SFGC0.055+0.0266</td><td>266.4117990403134,-28.87554263769326</td><td>0</td><td>0.0</td><td>0.0</td><td>0.0</td><td>0</td><td>0.0</td><td>0.0</td><td>0.0</td><td>97</td><td>266.41179904031344,-28.87554263769326</td><td>0521894</td><td>0.164</td><td>5.598</td><td>7.410</td><td>9.378</td><td>10.668</td><td>--</td><td>--</td><td>--</td></tr>\n",
       "<tr><td>SFGC359.374-0.0883</td><td>266.11699223318425</td><td>-29.51585973844053</td><td>1.869</td><td>0.09748</td><td>19.17</td><td>5.283</td><td>0.1552</td><td>34.04</td><td>7.79</td><td>0.2229</td><td>34.95</td><td>2.827</td><td>7.79</td><td>6.067</td><td>0.1505</td><td>0.4887</td><td>6.061</td><td>0.1493</td><td>0.4077</td><td>M</td><td>10.13</td><td>1.359</td><td>0</td><td>0</td><td>6.031</td><td>0.2032</td><td>29.69</td><td>13.13</td><td>0.3713</td><td>35.35</td><td>16.02</td><td>0.4918</td><td>32.58</td><td>2.176</td><td>1.221</td><td>11.7</td><td>0.3006</td><td>0.5158</td><td>11.69</td><td>0.2966</td><td>0.3798</td><td>M</td><td>10.35</td><td>1.51</td><td>0</td><td>0</td><td>Field52</td><td>SFGC359.374-0.0883</td><td>SFGC359.374-0.0882</td><td>266.11699223318425,-29.51585973844053</td><td>0</td><td>0.0</td><td>0.0</td><td>0.0</td><td>0</td><td>0.0</td><td>0.0</td><td>0.0</td><td>26</td><td>266.11699223318425,-29.51585973844053</td><td>0334605</td><td>0.231</td><td>9.408</td><td>10.105</td><td>10.518</td><td>10.865</td><td>15.903</td><td>13.801</td><td>12.498</td></tr>\n",
       "<tr><td>SFGC0.071-0.1013</td><td>266.5462056143622</td><td>-28.928086454342974</td><td>9.547</td><td>0.08594</td><td>111.1</td><td>15.46</td><td>0.1435</td><td>107.7</td><td>17.98</td><td>0.2063</td><td>87.12</td><td>1.619</td><td>17.98</td><td>16.32</td><td>0.09733</td><td>0.843</td><td>14.41</td><td>0.1409</td><td>2.638</td><td>M</td><td>3.944</td><td>1.07</td><td>0</td><td>0</td><td>13.9</td><td>0.1852</td><td>75.06</td><td>23.51</td><td>0.3406</td><td>69.04</td><td>26.47</td><td>0.4512</td><td>58.67</td><td>1.692</td><td>1.126</td><td>21.46</td><td>0.2294</td><td>0.4002</td><td>20</td><td>0.2167</td><td>1.217</td><td>M</td><td>4.744</td><td>1.059</td><td>0</td><td>0</td><td>Field28</td><td>SFGC0.071-0.1013</td><td>SFGC0.071-0.1014</td><td>266.5462056143622,-28.928086454342974</td><td>0</td><td>0.0</td><td>0.0</td><td>0.0</td><td>0</td><td>0.0</td><td>0.0</td><td>0.0</td><td>71</td><td>266.54620561436224,-28.928086454342974</td><td>0610642</td><td>0.244</td><td>4.839</td><td>6.614</td><td>8.010</td><td>9.760</td><td>15.533</td><td>13.244</td><td>12.322</td></tr>\n",
       "<tr><td>SFGC359.977-0.0870</td><td>266.4763572124138</td><td>-29.000868930441108</td><td>2.579</td><td>0.09171</td><td>28.12</td><td>3.357</td><td>0.1537</td><td>21.84</td><td>3.35</td><td>0.2226</td><td>15.05</td><td>1.302</td><td>3.35</td><td>3.388</td><td>0.07778</td><td>0.745</td><td>3.129</td><td>0.07155</td><td>0.6929</td><td>M</td><td>3.604</td><td>1.238</td><td>0</td><td>0</td><td>4.518</td><td>0.1937</td><td>23.32</td><td>4.883</td><td>0.356</td><td>13.72</td><td>5.112</td><td>0.473</td><td>10.81</td><td>1.081</td><td>1.047</td><td>5.035</td><td>0.1522</td><td>0.3947</td><td>4.844</td><td>0.1464</td><td>0.3945</td><td>M</td><td>4.082</td><td>1.07</td><td>0</td><td>0</td><td>Field37</td><td>SFGC359.977-0.0870</td><td>SFGC359.977-0.0871</td><td>266.4763572124138,-29.000868930441108</td><td>0</td><td>0.0</td><td>0.0</td><td>0.0</td><td>0</td><td>0.0</td><td>0.0</td><td>0.0</td><td>110</td><td>266.47635721241386,-29.000868930441108</td><td>0564417</td><td>0.254</td><td>5.129</td><td>6.223</td><td>8.421</td><td>11.703</td><td>--</td><td>--</td><td>--</td></tr>\n",
       "<tr><td>SFGC0.054+0.0344</td><td>266.403372977224</td><td>-28.872545178228982</td><td>3.623</td><td>0.1435</td><td>25.25</td><td>8.133</td><td>0.2506</td><td>32.46</td><td>11.87</td><td>0.3657</td><td>32.45</td><td>2.245</td><td>11.87</td><td>9.686</td><td>0.2402</td><td>0.8675</td><td>9.696</td><td>0.2388</td><td>0.7943</td><td>M</td><td>6.687</td><td>1.436</td><td>0</td><td>0</td><td>13.56</td><td>0.2348</td><td>57.75</td><td>32.82</td><td>0.43</td><td>76.33</td><td>43.34</td><td>0.5693</td><td>76.12</td><td>2.42</td><td>1.32</td><td>29.5</td><td>0.3598</td><td>1.248</td><td>29.54</td><td>0.3553</td><td>0.5848</td><td>M</td><td>12.71</td><td>1.804</td><td>0</td><td>0</td><td>Field30</td><td>SFGC0.054+0.0344</td><td>SFGC0.054+0.0340</td><td>266.403372977224,-28.872545178228982</td><td>0</td><td>0.0</td><td>0.0</td><td>0.0</td><td>0</td><td>0.0</td><td>0.0</td><td>0.0</td><td>271</td><td>266.403372977224,-28.872545178228982</td><td>0516435</td><td>0.272</td><td>6.012</td><td>7.876</td><td>9.425</td><td>10.516</td><td>17.080</td><td>14.416</td><td>13.047</td></tr>\n",
       "<tr><td>SFGC359.429+0.0353</td><td>266.0287822033286</td><td>-29.404757121008238</td><td>3.291</td><td>0.08893</td><td>37</td><td>4.163</td><td>0.1492</td><td>27.9</td><td>4.405</td><td>0.215</td><td>20.49</td><td>1.265</td><td>4.405</td><td>4.197</td><td>0.06715</td><td>0.2994</td><td>3.509</td><td>0.05654</td><td>0.4881</td><td>M</td><td>2.638</td><td>1.04</td><td>0</td><td>0</td><td>7.14</td><td>0.1909</td><td>37.4</td><td>8.917</td><td>0.3521</td><td>25.33</td><td>8.749</td><td>0.4669</td><td>18.74</td><td>1.249</td><td>0.9811</td><td>8.217</td><td>0.1463</td><td>0.2527</td><td>7.314</td><td>0.1305</td><td>0.3022</td><td>M</td><td>3.327</td><td>1.038</td><td>0</td><td>0</td><td>Field49</td><td>SFGC359.429+0.0353</td><td>SFGC359.429+0.0353</td><td>266.0287822033286,-29.404757121008238</td><td>0</td><td>0.0</td><td>0.0</td><td>0.0</td><td>0</td><td>0.0</td><td>0.0</td><td>0.0</td><td>104</td><td>266.0287822033286,-29.404757121008238</td><td>0284291</td><td>0.276</td><td>6.730</td><td>8.940</td><td>10.017</td><td>10.984</td><td>--</td><td>--</td><td>--</td></tr>\n",
       "<tr><td>SFGC0.471-0.0550</td><td>266.7377143028026</td><td>-28.562696132373443</td><td>36.38</td><td>0.1002</td><td>363.2</td><td>73.6</td><td>0.1814</td><td>405.7</td><td>84.75</td><td>0.2781</td><td>304.8</td><td>2.023</td><td>84.75</td><td>78.56</td><td>0.3819</td><td>6.532</td><td>77.89</td><td>0.3257</td><td>4.849</td><td>A</td><td>6.566</td><td>1.103</td><td>0</td><td>0</td><td>62.42</td><td>0.2528</td><td>246.9</td><td>112.4</td><td>0.5012</td><td>224.3</td><td>125.1</td><td>0.6773</td><td>184.7</td><td>1.801</td><td>1.113</td><td>104.5</td><td>0.7746</td><td>4.577</td><td>104</td><td>0.3566</td><td>1.348</td><td>G</td><td>7.897</td><td>1.269</td><td>0</td><td>0</td><td>Field06</td><td>SFGC0.471-0.0550</td><td>SFGC0.471-0.0552</td><td>266.7377143028026,-28.562696132373443</td><td>0</td><td>0.0</td><td>0.0</td><td>0.0</td><td>0</td><td>0.0</td><td>0.0</td><td>0.0</td><td>87</td><td>266.7377143028026,-28.562696132373443</td><td>0735815</td><td>0.298</td><td>3.260</td><td>5.280</td><td>6.876</td><td>8.043</td><td>14.913</td><td>12.313</td><td>11.147</td></tr>\n",
       "<tr><td>SFGC0.008+0.0349</td><td>266.3759292181283</td><td>-28.91081609021649</td><td>30.93</td><td>0.2045</td><td>151.3</td><td>87.37</td><td>0.3881</td><td>225.2</td><td>142.9</td><td>0.5766</td><td>247.8</td><td>2.825</td><td>142.9</td><td>105.9</td><td>0.8672</td><td>4.284</td><td>105.5</td><td>0.6149</td><td>2.194</td><td>A</td><td>10.26</td><td>1.371</td><td>0</td><td>0</td><td>47.49</td><td>0.4217</td><td>112.6</td><td>131</td><td>0.7938</td><td>165</td><td>185.4</td><td>1.056</td><td>175.6</td><td>2.759</td><td>1.416</td><td>110.3</td><td>0.9999</td><td>2.106</td><td>110.2</td><td>0.6827</td><td>0.6546</td><td>G</td><td>14.54</td><td>1.827</td><td>0</td><td>0</td><td>Field36</td><td>SFGC0.008+0.0349</td><td>SFGC0.009+0.0351</td><td>266.3759292181283,-28.91081609021649</td><td>0</td><td>0.0</td><td>0.0</td><td>0.0</td><td>0</td><td>0.0</td><td>0.0</td><td>0.0</td><td>342</td><td>266.3759292181283,-28.91081609021649</td><td>0498297</td><td>0.308</td><td>4.176</td><td>6.348</td><td>7.938</td><td>9.295</td><td>15.034</td><td>12.354</td><td>10.522</td></tr>\n",
       "<tr><td>...</td><td>...</td><td>...</td><td>...</td><td>...</td><td>...</td><td>...</td><td>...</td><td>...</td><td>...</td><td>...</td><td>...</td><td>...</td><td>...</td><td>...</td><td>...</td><td>...</td><td>...</td><td>...</td><td>...</td><td>...</td><td>...</td><td>...</td><td>...</td><td>...</td><td>...</td><td>...</td><td>...</td><td>...</td><td>...</td><td>...</td><td>...</td><td>...</td><td>...</td><td>...</td><td>...</td><td>...</td><td>...</td><td>...</td><td>...</td><td>...</td><td>...</td><td>...</td><td>...</td><td>...</td><td>...</td><td>...</td><td>...</td><td>...</td><td>...</td><td>...</td><td>...</td><td>...</td><td>...</td><td>...</td><td>...</td><td>...</td><td>...</td><td>...</td><td>...</td><td>...</td><td>...</td><td>...</td><td>...</td><td>...</td><td>...</td><td>...</td><td>...</td><td>...</td><td>...</td></tr>\n",
       "<tr><td>SFGC359.410+0.0317</td><td>266.02128009031776</td><td>-29.42228195928783</td><td>1.8</td><td>0.1106</td><td>16.28</td><td>5.814</td><td>0.1646</td><td>35.32</td><td>10.05</td><td>0.235</td><td>42.78</td><td>3.23</td><td>1.729</td><td>7.217</td><td>0.1464</td><td>0.3864</td><td>7.111</td><td>0.1439</td><td>0.3485</td><td>M</td><td>8.488</td><td>1.467</td><td>--</td><td>--</td><td>4.396</td><td>0.2181</td><td>20.16</td><td>12.28</td><td>0.4086</td><td>30.06</td><td>17.11</td><td>0.5514</td><td>31.03</td><td>2.794</td><td>1.393</td><td>10.75</td><td>0.3275</td><td>0.3293</td><td>10.68</td><td>0.3223</td><td>0.2768</td><td>M</td><td>9.794</td><td>1.613</td><td>0</td><td>20</td><td>Field49</td><td></td><td>SFGC359.410+0.0317</td><td>266.02128009031776,-29.42228195928783</td><td>0</td><td>0.0</td><td>0.0</td><td>0.0</td><td>0</td><td>0.0</td><td>0.0</td><td>0.0</td><td>675</td><td>266.0212800903178,-29.42228195928783</td><td>0280925</td><td>3.236</td><td>8.167</td><td>8.426</td><td>8.961</td><td>9.008</td><td>16.523</td><td>12.425</td><td>10.388</td></tr>\n",
       "<tr><td>SFGC359.931-0.0407</td><td>266.4033306034084</td><td>-29.016681927320843</td><td>8.836</td><td>0.1037</td><td>85.22</td><td>24.69</td><td>0.1506</td><td>163.9</td><td>45.98</td><td>0.2112</td><td>217.7</td><td>2.794</td><td>45.98</td><td>31.59</td><td>0.4325</td><td>8.918</td><td>31.5</td><td>0.4065</td><td>7.971</td><td>A</td><td>13.03</td><td>1.376</td><td>0</td><td>10</td><td>20</td><td>0.2494</td><td>80.22</td><td>59.3</td><td>0.3683</td><td>161</td><td>100.5</td><td>0.4757</td><td>211.3</td><td>2.964</td><td>1.695</td><td>51.56</td><td>0.8417</td><td>9.703</td><td>51.28</td><td>0.677</td><td>6.505</td><td>A</td><td>17.93</td><td>5.539</td><td>1</td><td>20</td><td>Field41</td><td>SFGC359.931-0.0407</td><td>SFGC359.931-0.0407</td><td>266.4033306034084,-29.016681927320843</td><td>0</td><td>0.0</td><td>0.0</td><td>0.0</td><td>0</td><td>0.0</td><td>0.0</td><td>0.0</td><td>48</td><td>266.40333060340845,-29.016681927320843</td><td>0516823</td><td>3.249</td><td>6.311</td><td>6.869</td><td>7.557</td><td>8.021</td><td>--</td><td>--</td><td>--</td></tr>\n",
       "<tr><td>SFGC359.534-0.0623</td><td>266.18720097735456</td><td>-29.366423470362786</td><td>1.191</td><td>0.09903</td><td>12.03</td><td>2.134</td><td>0.1629</td><td>13.1</td><td>2.701</td><td>0.2336</td><td>11.56</td><td>1.791</td><td>1.266</td><td>2.375</td><td>0.1227</td><td>0.2554</td><td>2.197</td><td>0.1111</td><td>0.1997</td><td>M</td><td>3.945</td><td>1.799</td><td>0</td><td>0</td><td>2.349</td><td>0.1925</td><td>12.2</td><td>5.166</td><td>0.3325</td><td>15.54</td><td>7.567</td><td>0.436</td><td>17.35</td><td>2.199</td><td>1.465</td><td>4.675</td><td>0.2636</td><td>0.1922</td><td>4.593</td><td>0.2541</td><td>0.1497</td><td>M</td><td>6.385</td><td>1.955</td><td>--</td><td>--</td><td>Field47</td><td>SFGC359.534-0.0623</td><td></td><td>266.18720097735456,-29.366423470362786</td><td>0</td><td>0.0</td><td>0.0</td><td>0.0</td><td>0</td><td>0.0</td><td>0.0</td><td>0.0</td><td>402</td><td>266.1872009773546,-29.366423470362786</td><td>0377800</td><td>3.257</td><td>7.246</td><td>8.238</td><td>8.867</td><td>9.578</td><td>17.161</td><td>14.070</td><td>11.259</td></tr>\n",
       "<tr><td>SFGC0.100-0.0147</td><td>266.4787342514697</td><td>-28.858539363186214</td><td>1.755</td><td>0.09712</td><td>18.07</td><td>5.145</td><td>0.1548</td><td>33.23</td><td>7.226</td><td>0.2226</td><td>32.46</td><td>2.931</td><td>7.226</td><td>6.077</td><td>0.1543</td><td>0.3191</td><td>6.081</td><td>0.1542</td><td>0.3069</td><td>M</td><td>10.63</td><td>1.159</td><td>0</td><td>0</td><td>6.167</td><td>0.2135</td><td>28.89</td><td>13.99</td><td>0.3924</td><td>35.66</td><td>17.08</td><td>0.5202</td><td>32.84</td><td>2.269</td><td>1.221</td><td>12.65</td><td>0.3221</td><td>0.3949</td><td>12.64</td><td>0.3173</td><td>0.2418</td><td>M</td><td>10.59</td><td>1.723</td><td>0</td><td>0</td><td>Field25</td><td>SFGC0.100-0.0147</td><td>SFGC0.100-0.0142</td><td>266.4787342514697,-28.858539363186214</td><td>0</td><td>0.0</td><td>0.0</td><td>0.0</td><td>0</td><td>0.0</td><td>0.0</td><td>0.0</td><td>326</td><td>266.47873425146975,-28.858539363186214</td><td>0565875</td><td>3.459</td><td>6.963</td><td>7.700</td><td>8.318</td><td>8.317</td><td>14.974</td><td>11.264</td><td>9.584</td></tr>\n",
       "<tr><td>SFGC0.154-0.0685</td><td>266.5636446268109</td><td>-28.83997234443419</td><td>8.963</td><td>0.1174</td><td>76.34</td><td>25.62</td><td>0.1505</td><td>170.3</td><td>41.96</td><td>0.2064</td><td>203.3</td><td>2.859</td><td>1.637</td><td>31.47</td><td>0.6926</td><td>24.6</td><td>31.6</td><td>0.2956</td><td>4.941</td><td>A</td><td>11.28</td><td>5.283</td><td>0</td><td>0</td><td>18.26</td><td>0.2019</td><td>90.43</td><td>49.05</td><td>0.344</td><td>142.6</td><td>73.99</td><td>0.4519</td><td>163.7</td><td>2.687</td><td>1.508</td><td>41.94</td><td>0.6563</td><td>5.415</td><td>41.96</td><td>0.2756</td><td>1.73</td><td>G</td><td>13.8</td><td>4.139</td><td>--</td><td>--</td><td>Field18</td><td>SFGC0.154-0.0685</td><td></td><td>266.5636446268109,-28.83997234443419</td><td>0</td><td>0.0</td><td>0.0</td><td>0.0</td><td>0</td><td>0.0</td><td>0.0</td><td>0.0</td><td>577</td><td>266.5636446268109,-28.83997234443419</td><td>0622877</td><td>3.522</td><td>7.103</td><td>6.992</td><td>7.836</td><td>7.987</td><td>14.453</td><td>11.628</td><td>9.445</td></tr>\n",
       "<tr><td>SFGC359.718-0.0354</td><td>266.27106724779696</td><td>-29.195593809166812</td><td>7.265</td><td>0.1044</td><td>69.61</td><td>17.04</td><td>0.1776</td><td>95.94</td><td>23.78</td><td>0.2532</td><td>93.93</td><td>2.345</td><td>23.78</td><td>19.48</td><td>0.3046</td><td>3.042</td><td>19.18</td><td>0.1688</td><td>1.67</td><td>A</td><td>7.698</td><td>1.451</td><td>0</td><td>0</td><td>11.04</td><td>0.1877</td><td>58.79</td><td>22.1</td><td>0.3598</td><td>61.42</td><td>30.29</td><td>0.4952</td><td>61.17</td><td>2.003</td><td>1.371</td><td>19.67</td><td>0.2653</td><td>1.391</td><td>19.24</td><td>0.2575</td><td>0.8682</td><td>M</td><td>7.762</td><td>1.519</td><td>0</td><td>0</td><td>Field43</td><td>SFGC359.718-0.0354</td><td>SFGC359.718-0.0351</td><td>266.27106724779696,-29.195593809166812</td><td>0</td><td>0.0</td><td>0.0</td><td>0.0</td><td>0</td><td>0.0</td><td>0.0</td><td>0.0</td><td>187</td><td>266.271067247797,-29.195593809166812</td><td>0430567</td><td>3.587</td><td>4.866</td><td>4.891</td><td>5.501</td><td>6.507</td><td>15.017</td><td>11.634</td><td>9.044</td></tr>\n",
       "<tr><td>SFGC0.550-0.0750</td><td>266.8037538177459</td><td>-28.505482868867002</td><td>2.288</td><td>0.1015</td><td>22.54</td><td>6.195</td><td>0.1543</td><td>40.15</td><td>9.085</td><td>0.2197</td><td>41.35</td><td>2.707</td><td>1.467</td><td>6.969</td><td>0.1455</td><td>0.8585</td><td>6.98</td><td>0.1421</td><td>0.4626</td><td>M</td><td>9.567</td><td>1.904</td><td>0</td><td>0</td><td>7.726</td><td>0.212</td><td>36.45</td><td>19.78</td><td>0.3813</td><td>51.87</td><td>27.8</td><td>0.5043</td><td>55.13</td><td>2.56</td><td>1.406</td><td>16.87</td><td>0.3131</td><td>0.7269</td><td>16.82</td><td>0.3062</td><td>0.3321</td><td>M</td><td>12.35</td><td>2.473</td><td>--</td><td>--</td><td>Field05</td><td>SFGC0.550-0.0750</td><td></td><td>266.8037538177459,-28.505482868867002</td><td>0</td><td>0.0</td><td>0.0</td><td>0.0</td><td>0</td><td>0.0</td><td>0.0</td><td>0.0</td><td>662</td><td>266.8037538177459,-28.505482868867002</td><td>0773341</td><td>3.629</td><td>8.456</td><td>8.359</td><td>8.995</td><td>9.137</td><td>16.166</td><td>12.995</td><td>10.579</td></tr>\n",
       "<tr><td>SFGC0.214-0.1232</td><td>266.6521711905902</td><td>-28.817565297557103</td><td>0.6354</td><td>0.1238</td><td>5.133</td><td>1.21</td><td>0.1701</td><td>7.116</td><td>1.272</td><td>0.2439</td><td>5.214</td><td>1.905</td><td>1.272</td><td>1.392</td><td>0.109</td><td>0.4635</td><td>1.457</td><td>0.1084</td><td>0.4017</td><td>M</td><td>6.608</td><td>1.818</td><td>0</td><td>0</td><td>3.003</td><td>0.198</td><td>15.17</td><td>7.498</td><td>0.3509</td><td>21.37</td><td>11.06</td><td>0.4629</td><td>23.9</td><td>2.497</td><td>1.476</td><td>6.275</td><td>0.2614</td><td>0.6428</td><td>6.308</td><td>0.2507</td><td>0.4455</td><td>M</td><td>10.84</td><td>2.573</td><td>0</td><td>20</td><td>Field14</td><td>SFGC0.214-0.1232</td><td>SFGC0.214-0.1229</td><td>266.6521711905902,-28.817565297557103</td><td>0</td><td>0.0</td><td>0.0</td><td>0.0</td><td>0</td><td>0.0</td><td>0.0</td><td>0.0</td><td>263</td><td>266.65217119059025,-28.817565297557103</td><td>0681109</td><td>3.642</td><td>7.737</td><td>8.025</td><td>8.617</td><td>8.671</td><td>16.164</td><td>12.056</td><td>10.050</td></tr>\n",
       "<tr><td>SFGC0.078-0.0040</td><td>266.455322276726</td><td>-28.871615534586194</td><td>3.108</td><td>0.1325</td><td>23.46</td><td>8.205</td><td>0.1755</td><td>46.75</td><td>11.13</td><td>0.2446</td><td>45.5</td><td>2.64</td><td>1.356</td><td>10.5</td><td>0.1387</td><td>1.412</td><td>10.58</td><td>0.1388</td><td>1.134</td><td>A</td><td>8.823</td><td>1.397</td><td>--</td><td>--</td><td>11.9</td><td>0.217</td><td>54.84</td><td>26.98</td><td>0.3966</td><td>68.03</td><td>33.6</td><td>0.5244</td><td>64.08</td><td>2.268</td><td>1.245</td><td>24.01</td><td>0.3105</td><td>0.6929</td><td>23.98</td><td>0.3085</td><td>0.3962</td><td>M</td><td>10.24</td><td>1.424</td><td>0</td><td>0</td><td>Field31</td><td></td><td>SFGC0.078-0.0040</td><td>266.455322276726,-28.871615534586194</td><td>0</td><td>0.0</td><td>0.0</td><td>0.0</td><td>0</td><td>0.0</td><td>0.0</td><td>0.0</td><td>792</td><td>266.455322276726,-28.871615534586194</td><td>0550274</td><td>3.647</td><td>8.518</td><td>8.800</td><td>9.242</td><td>9.346</td><td>16.099</td><td>12.237</td><td>10.608</td></tr>\n",
       "<tr><td>SFGC359.738-0.0338</td><td>266.28188236203476</td><td>-29.177142266931728</td><td>1.859</td><td>0.08831</td><td>21.05</td><td>4.438</td><td>0.1401</td><td>31.67</td><td>6.687</td><td>0.1994</td><td>33.53</td><td>2.387</td><td>1.507</td><td>5.251</td><td>0.1283</td><td>0.4557</td><td>5.195</td><td>0.1267</td><td>0.436</td><td>M</td><td>8.089</td><td>1.2</td><td>0</td><td>0</td><td>4.929</td><td>0.1926</td><td>25.59</td><td>12.42</td><td>0.3482</td><td>35.69</td><td>18.28</td><td>0.4603</td><td>39.71</td><td>2.521</td><td>1.471</td><td>10.86</td><td>0.2792</td><td>0.3684</td><td>10.89</td><td>0.2792</td><td>0.3399</td><td>M</td><td>11.84</td><td>1.313</td><td>--</td><td>--</td><td>Field43</td><td>SFGC359.738-0.0338</td><td></td><td>266.28188236203476,-29.177142266931728</td><td>0</td><td>0.0</td><td>0.0</td><td>0.0</td><td>0</td><td>0.0</td><td>0.0</td><td>0.0</td><td>416</td><td>266.28188236203476,-29.177142266931728</td><td>0438731</td><td>3.975</td><td>7.145</td><td>7.250</td><td>7.664</td><td>7.672</td><td>14.599</td><td>11.088</td><td>9.145</td></tr>\n",
       "</table></div>"
      ],
      "text/plain": [
       "<Table length=147>\n",
       "     SourceID          RA(J2000)           DEC(J2000)     ... Hmag_2M  Kmag_2M \n",
       "                          deg                 deg         ...   mag      mag   \n",
       "     bytes18            float64             float64       ... float32  float32 \n",
       "------------------ ------------------ ------------------- ... -------- --------\n",
       "  SFGC0.545-0.0864  266.8118265121627  -28.51580469297644 ...       --       --\n",
       "  SFGC0.055+0.0265  266.4117990403134  -28.87554263769326 ...       --       --\n",
       "SFGC359.374-0.0883 266.11699223318425  -29.51585973844053 ...   13.801   12.498\n",
       "  SFGC0.071-0.1013  266.5462056143622 -28.928086454342974 ...   13.244   12.322\n",
       "SFGC359.977-0.0870  266.4763572124138 -29.000868930441108 ...       --       --\n",
       "  SFGC0.054+0.0344   266.403372977224 -28.872545178228982 ...   14.416   13.047\n",
       "SFGC359.429+0.0353  266.0287822033286 -29.404757121008238 ...       --       --\n",
       "  SFGC0.471-0.0550  266.7377143028026 -28.562696132373443 ...   12.313   11.147\n",
       "  SFGC0.008+0.0349  266.3759292181283  -28.91081609021649 ...   12.354   10.522\n",
       "               ...                ...                 ... ...      ...      ...\n",
       "SFGC359.410+0.0317 266.02128009031776  -29.42228195928783 ...   12.425   10.388\n",
       "SFGC359.931-0.0407  266.4033306034084 -29.016681927320843 ...       --       --\n",
       "SFGC359.534-0.0623 266.18720097735456 -29.366423470362786 ...   14.070   11.259\n",
       "  SFGC0.100-0.0147  266.4787342514697 -28.858539363186214 ...   11.264    9.584\n",
       "  SFGC0.154-0.0685  266.5636446268109  -28.83997234443419 ...   11.628    9.445\n",
       "SFGC359.718-0.0354 266.27106724779696 -29.195593809166812 ...   11.634    9.044\n",
       "  SFGC0.550-0.0750  266.8037538177459 -28.505482868867002 ...   12.995   10.579\n",
       "  SFGC0.214-0.1232  266.6521711905902 -28.817565297557103 ...   12.056   10.050\n",
       "  SFGC0.078-0.0040   266.455322276726 -28.871615534586194 ...   12.237   10.608\n",
       "SFGC359.738-0.0338 266.28188236203476 -29.177142266931728 ...   11.088    9.145"
      ]
     },
     "execution_count": 56,
     "metadata": {},
     "output_type": "execute_result"
    }
   ],
   "source": [
    "filtcat"
   ]
  },
  {
   "cell_type": "code",
   "execution_count": 57,
   "id": "8c4562b0",
   "metadata": {},
   "outputs": [],
   "source": [
    "#write out final catalog\n",
    "filtcat.write('masterCat_combined_step4_BestSources.fits',overwrite=True)"
   ]
  },
  {
   "cell_type": "code",
   "execution_count": null,
   "id": "fbf68425",
   "metadata": {},
   "outputs": [],
   "source": []
  },
  {
   "cell_type": "code",
   "execution_count": null,
   "id": "60959e13",
   "metadata": {},
   "outputs": [],
   "source": []
  },
  {
   "cell_type": "code",
   "execution_count": null,
   "id": "d8aa57a8",
   "metadata": {},
   "outputs": [],
   "source": []
  },
  {
   "cell_type": "code",
   "execution_count": 46,
   "id": "1af031a7",
   "metadata": {
    "scrolled": true
   },
   "outputs": [
    {
     "data": {
      "text/html": [
       "<div><i>Table length=449</i>\n",
       "<table id=\"table2507768483792\" class=\"table-striped table-bordered table-condensed\">\n",
       "<thead><tr><th>SourceID</th><th>RA(J2000)</th><th>DEC(J2000)</th><th>25um_Flux_4pix</th><th>25um_Flux_err_4pix</th><th>25um_SNR_4pix</th><th>25um_Flux_8pix</th><th>25um_Flux_err_8pix</th><th>25um_SNR_8pix</th><th>25um_Flux_12pix</th><th>25um_Flux_err_12pix</th><th>25um_SNR_12pix</th><th>25ApRatio8_4</th><th>25ApRatio12_8</th><th>25um_Flux_M2D</th><th>25um_Flux_err_M2D</th><th>25um_M2D_chi2</th><th>25um_Flux_G2D</th><th>25um_Flux_err_G2D</th><th>25um_G2D_chi2</th><th>25um_BestModel</th><th>fwhm25</th><th>elong25</th><th>bkg_qflag25</th><th>shape_qflag25</th><th>cutout25 [25,25]</th><th>37um_Flux_5.5pix</th><th>37um_Flux_err_5.5pix</th><th>37um_SNR_5.5pix</th><th>37um_Flux_10.5pix</th><th>37um_Flux_err_10.5pix</th><th>37um_SNR_10.5pix</th><th>37um_Flux_14pix</th><th>37um_Flux_err_14pix</th><th>37um_SNR_14pix</th><th>37ApRatio10.5_5.5</th><th>37ApRatio14_10.5</th><th>37um_Flux_M2D</th><th>37um_Flux_err_M2D</th><th>37um_M2D_chi2</th><th>37um_Flux_G2D</th><th>37um_Flux_err_G2D</th><th>37um_G2D_chi2</th><th>37um_BestModel</th><th>fwhm37</th><th>elong37</th><th>bkg_qflag37</th><th>shape_qflag37</th><th>cutout37 [31,31]</th><th>FieldID</th><th>SID25</th><th>SID37</th><th>sky_centroid</th><th>25ApPhot_qflag</th><th>25Ap_4pix_UL</th><th>25Ap_8pix_UL</th><th>25Ap_12pix_UL</th><th>37ApPhot_qflag</th><th>37Ap_5.5pix_UL</th><th>37Ap_10.5pix_UL</th><th>37Ap_14pix_UL</th><th>id</th><th>skycoords</th><th>SSTGCxmatch</th><th>SSTGCd2d</th><th>_8.0mag</th><th>_5.8mag</th><th>_4.5mag</th><th>_3.6mag</th></tr></thead>\n",
       "<thead><tr><th></th><th>deg</th><th>deg</th><th></th><th></th><th></th><th></th><th></th><th></th><th></th><th></th><th></th><th></th><th></th><th></th><th></th><th></th><th></th><th></th><th></th><th></th><th></th><th></th><th></th><th></th><th></th><th></th><th></th><th></th><th></th><th></th><th></th><th></th><th></th><th></th><th></th><th></th><th></th><th></th><th></th><th></th><th></th><th></th><th></th><th></th><th></th><th></th><th></th><th></th><th></th><th></th><th></th><th>deg,deg</th><th></th><th></th><th></th><th></th><th></th><th></th><th></th><th></th><th></th><th>deg,deg</th><th></th><th></th><th>mag</th><th>mag</th><th>mag</th><th>mag</th></tr></thead>\n",
       "<thead><tr><th>bytes17</th><th>float64</th><th>float64</th><th>float64</th><th>float64</th><th>float64</th><th>float64</th><th>float64</th><th>float64</th><th>float64</th><th>float64</th><th>float64</th><th>float64</th><th>float64</th><th>float64</th><th>float64</th><th>float64</th><th>float64</th><th>float64</th><th>float64</th><th>bytes1</th><th>float64</th><th>float64</th><th>int32</th><th>int32</th><th>float64</th><th>float64</th><th>float64</th><th>float64</th><th>float64</th><th>float64</th><th>float64</th><th>float64</th><th>float64</th><th>float64</th><th>float64</th><th>float64</th><th>float64</th><th>float64</th><th>float64</th><th>float64</th><th>float64</th><th>float64</th><th>bytes1</th><th>float64</th><th>float64</th><th>int32</th><th>int32</th><th>float64</th><th>bytes7</th><th>bytes17</th><th>bytes17</th><th>object</th><th>int32</th><th>float64</th><th>float64</th><th>float64</th><th>int32</th><th>float64</th><th>float64</th><th>float64</th><th>int64</th><th>object</th><th>str7</th><th>float64</th><th>float32</th><th>float32</th><th>float32</th><th>float32</th></tr></thead>\n",
       "<tr><td>SFGC0.154+0.031</td><td>266.467110972243</td><td>-28.788414953789108</td><td>0.8717</td><td>0.1151</td><td>7.577</td><td>1.799</td><td>0.1701</td><td>10.58</td><td>2.309</td><td>0.2393</td><td>9.649</td><td>2.064</td><td>1.283</td><td>2.066</td><td>0.1245</td><td>0.4145</td><td>2.082</td><td>0.1241</td><td>0.3935</td><td>M</td><td>6.218</td><td>1.38</td><td>0</td><td>0</td><td>-0.0007852 ..      0.006857</td><td>1.814</td><td>0.2743</td><td>6.614</td><td>5.091</td><td>0.404</td><td>12.6</td><td>7.375</td><td>0.5233</td><td>14.09</td><td>2.806</td><td>1.449</td><td>4.212</td><td>0.2775</td><td>0.3107</td><td>4.248</td><td>0.2772</td><td>0.2955</td><td>M</td><td>15.64</td><td>1.711</td><td>--</td><td>--</td><td>-- .. --</td><td>Field20</td><td>SFGC0.154+0.031</td><td>--</td><td>266.467110972243,-28.788414953789108</td><td>0</td><td>0.0</td><td>0.0</td><td>0.0</td><td>0</td><td>0.0</td><td>0.0</td><td>0.0</td><td>601</td><td>266.46711097224306,-28.788414953789108</td><td>0558345</td><td>0.115</td><td>3.661</td><td>3.473</td><td>--</td><td>--</td></tr>\n",
       "<tr><td>SFGC0.299-0.061</td><td>266.641754753852</td><td>-28.712831904692795</td><td>0.3412</td><td>0.1709</td><td>1.996</td><td>0.0972</td><td>1.045</td><td>0.09303</td><td>-0.07626</td><td>1.989</td><td>-0.03834</td><td>0.2849</td><td>-0.7845</td><td>0.3675</td><td>0.04767</td><td>0.396</td><td>0.3777</td><td>0.04873</td><td>0.3939</td><td>M</td><td>2.382</td><td>1.261</td><td>0</td><td>0</td><td>0.004175 ..     -0.008668</td><td>-0.1664</td><td>0.957</td><td>-0.1739</td><td>-1.582</td><td>0.3943</td><td>-4.012</td><td>-2.632</td><td>0.483</td><td>-5.449</td><td>9.505</td><td>1.664</td><td>0.1378</td><td>0.05654</td><td>0.3867</td><td>0.1324</td><td>0.05371</td><td>0.3862</td><td>M</td><td>1.307</td><td>1.362</td><td>--</td><td>--</td><td>-- .. --</td><td>Field11</td><td>SFGC0.299-0.061</td><td>--</td><td>266.641754753852,-28.712831904692795</td><td>111</td><td>0.8540387925946817</td><td>3.2315652046150176</td><td>5.891293188920325</td><td>111</td><td>2.704449287796992</td><td>-0.39901521434619447</td><td>-1.1826562316232492</td><td>664</td><td>266.64175475385207,-28.712831904692795</td><td>0673798</td><td>0.147</td><td>5.558</td><td>5.743</td><td>6.466</td><td>7.191</td></tr>\n",
       "<tr><td>SFGC0.545-0.086</td><td>266.8118265121627</td><td>-28.51580469297644</td><td>2.144</td><td>0.09385</td><td>22.85</td><td>5.707</td><td>0.1517</td><td>37.63</td><td>8.51</td><td>0.2177</td><td>39.1</td><td>2.662</td><td>1.491</td><td>6.731</td><td>0.1452</td><td>0.697</td><td>6.728</td><td>0.1443</td><td>0.6069</td><td>M</td><td>12.17</td><td>1.39</td><td>0</td><td>0</td><td>0.007008 ..      -0.00486</td><td>5.309</td><td>0.2147</td><td>24.73</td><td>16.21</td><td>0.3784</td><td>42.83</td><td>22.92</td><td>0.5011</td><td>45.74</td><td>3.053</td><td>1.414</td><td>14.13</td><td>0.3012</td><td>0.6603</td><td>--</td><td>--</td><td>--</td><td>M</td><td>2.126e-38</td><td>1</td><td>--</td><td>--</td><td>-- .. --</td><td>Field05</td><td>SFGC0.545-0.086</td><td>--</td><td>266.8118265121627,-28.51580469297644</td><td>0</td><td>0.0</td><td>0.0</td><td>0.0</td><td>0</td><td>0.0</td><td>0.0</td><td>0.0</td><td>694</td><td>266.8118265121628,-28.51580469297644</td><td>0777321</td><td>0.147</td><td>6.833</td><td>8.692</td><td>9.829</td><td>10.819</td></tr>\n",
       "<tr><td>SFGC0.395+0.008</td><td>266.63213024386454</td><td>-28.594773884198776</td><td>0.8135</td><td>0.7847</td><td>1.037</td><td>1.076</td><td>1.567</td><td>0.6864</td><td>1.318</td><td>2.357</td><td>0.5591</td><td>1.323</td><td>1.225</td><td>1.114</td><td>0.8371</td><td>0.002737</td><td>0.8829</td><td>0.6698</td><td>0.002856</td><td>M</td><td>3.263</td><td>1.054</td><td>0</td><td>0</td><td>-0.003655 ..      0.002144</td><td>0.5691</td><td>1.496</td><td>0.3803</td><td>0.9068</td><td>2.819</td><td>0.3216</td><td>0.3662</td><td>3.805</td><td>0.09624</td><td>1.593</td><td>0.4038</td><td>0.9435</td><td>1.36</td><td>0.002914</td><td>0.9486</td><td>1.35</td><td>0.002867</td><td>M</td><td>6.437</td><td>1.925</td><td>--</td><td>--</td><td>-- .. --</td><td>Field09</td><td>SFGC0.395+0.008</td><td>--</td><td>266.63213024386454,-28.594773884198776</td><td>111</td><td>3.167495337479798</td><td>5.7784332643719205</td><td>8.387592645092928</td><td>111</td><td>5.058420532784996</td><td>9.365132877196377</td><td>11.780757430281067</td><td>679</td><td>266.6321302438646,-28.594773884198776</td><td>0667560</td><td>0.149</td><td>5.041</td><td>5.374</td><td>6.393</td><td>7.824</td></tr>\n",
       "<tr><td>SFGC359.639-0.058</td><td>266.2456699094231</td><td>-29.27429422827648</td><td>3.217</td><td>0.08968</td><td>35.88</td><td>4.627</td><td>0.1491</td><td>31.04</td><td>6.347</td><td>0.2128</td><td>29.83</td><td>1.438</td><td>6.347</td><td>4.771</td><td>0.07794</td><td>0.7274</td><td>3.63</td><td>0.06016</td><td>1.093</td><td>M</td><td>3.624</td><td>1.201</td><td>0</td><td>0</td><td>0.001019 ..       0.00661</td><td>3.77</td><td>0.215</td><td>17.53</td><td>9.55</td><td>0.3862</td><td>24.73</td><td>17.03</td><td>0.5101</td><td>33.39</td><td>2.533</td><td>1.784</td><td>8.273</td><td>0.2874</td><td>0.6732</td><td>8.357</td><td>0.2888</td><td>0.6433</td><td>M</td><td>14.54</td><td>1.494</td><td>0</td><td>20</td><td>-0.005279 ..       0.04068</td><td>Field45</td><td>SFGC359.639-0.058</td><td>SFGC359.639-0.058</td><td>266.2456699094231,-29.27429422827648</td><td>0</td><td>0.0</td><td>0.0</td><td>0.0</td><td>0</td><td>0.0</td><td>0.0</td><td>0.0</td><td>82</td><td>266.2456699094231,-29.27429422827648</td><td>0414950</td><td>0.153</td><td>3.708</td><td>3.756</td><td>5.737</td><td>--</td></tr>\n",
       "<tr><td>SFGC0.055+0.027</td><td>266.4117990403134</td><td>-28.87554263769326</td><td>8.834</td><td>0.1181</td><td>74.79</td><td>12.86</td><td>0.2155</td><td>59.67</td><td>14.91</td><td>0.3169</td><td>47.07</td><td>1.456</td><td>14.91</td><td>13.11</td><td>0.1916</td><td>2.012</td><td>12.33</td><td>0.1248</td><td>1.028</td><td>G</td><td>3.709</td><td>1.47</td><td>0</td><td>0</td><td>0.01376 ..     -0.007256</td><td>15.35</td><td>0.2342</td><td>65.52</td><td>16.89</td><td>0.4297</td><td>39.3</td><td>18.69</td><td>0.5687</td><td>32.86</td><td>1.101</td><td>1.107</td><td>16.89</td><td>0.1942</td><td>1.041</td><td>16.78</td><td>0.1927</td><td>0.9707</td><td>M</td><td>4.701</td><td>1.117</td><td>0</td><td>0</td><td>-0.01926 ..      -0.01643</td><td>Field31</td><td>SFGC0.055+0.027</td><td>SFGC0.055+0.027</td><td>266.4117990403134,-28.87554263769326</td><td>0</td><td>0.0</td><td>0.0</td><td>0.0</td><td>0</td><td>0.0</td><td>0.0</td><td>0.0</td><td>105</td><td>266.41179904031344,-28.87554263769326</td><td>0521894</td><td>0.164</td><td>5.598</td><td>7.410</td><td>9.378</td><td>10.668</td></tr>\n",
       "<tr><td>SFGC0.091+0.014</td><td>266.4447525525533</td><td>-28.851296569131748</td><td>2.411</td><td>0.2608</td><td>9.243</td><td>5.454</td><td>0.3149</td><td>17.32</td><td>10.22</td><td>0.3939</td><td>25.94</td><td>2.263</td><td>1.873</td><td>6.952</td><td>0.2838</td><td>2.191</td><td>7.725</td><td>0.2002</td><td>1.583</td><td>G</td><td>6.119</td><td>4.117</td><td>0</td><td>10</td><td>-0.001642 ..      0.005164</td><td>13.92</td><td>0.3512</td><td>39.63</td><td>47.66</td><td>0.5862</td><td>81.31</td><td>80.83</td><td>0.7725</td><td>104.6</td><td>3.424</td><td>1.696</td><td>39.76</td><td>0.7655</td><td>2.853</td><td>39.29</td><td>0.4353</td><td>1.28</td><td>G</td><td>9.929</td><td>13.9</td><td>--</td><td>--</td><td>-- .. --</td><td>Field26</td><td>SFGC0.091+0.014</td><td>--</td><td>266.4447525525533,-28.851296569131748</td><td>0</td><td>0.0</td><td>0.0</td><td>0.0</td><td>0</td><td>0.0</td><td>0.0</td><td>0.0</td><td>554</td><td>266.4447525525534,-28.851296569131748</td><td>0543623</td><td>0.168</td><td>7.960</td><td>--</td><td>--</td><td>10.126</td></tr>\n",
       "<tr><td>SFGC359.948-0.029</td><td>266.40248829200516</td><td>-28.996054851267328</td><td>1.467</td><td>0.1522</td><td>9.639</td><td>3.231</td><td>0.1836</td><td>17.6</td><td>5.111</td><td>0.2336</td><td>21.88</td><td>2.202</td><td>1.582</td><td>3.863</td><td>0.1313</td><td>1.012</td><td>3.867</td><td>0.1287</td><td>0.8889</td><td>M</td><td>11.93</td><td>1.741</td><td>0</td><td>0</td><td>0.02104 ..      -0.01659</td><td>10.22</td><td>0.2221</td><td>46.02</td><td>28.35</td><td>0.3627</td><td>78.16</td><td>43.1</td><td>0.4746</td><td>90.81</td><td>2.774</td><td>1.52</td><td>23.75</td><td>0.2986</td><td>0.7011</td><td>23.74</td><td>0.2981</td><td>0.6372</td><td>M</td><td>17.24</td><td>1.295</td><td>--</td><td>--</td><td>-- .. --</td><td>Field41</td><td>SFGC359.948-0.029</td><td>--</td><td>266.40248829200516,-28.996054851267328</td><td>0</td><td>0.0</td><td>0.0</td><td>0.0</td><td>0</td><td>0.0</td><td>0.0</td><td>0.0</td><td>482</td><td>266.40248829200516,-28.996054851267328</td><td>0515803</td><td>0.168</td><td>6.617</td><td>--</td><td>--</td><td>--</td></tr>\n",
       "<tr><td>SFGC0.036-0.182</td><td>266.603681</td><td>-29.0003732</td><td>1.318</td><td>1.139</td><td>1.158</td><td>1.063</td><td>2.186</td><td>0.4862</td><td>0.4892</td><td>3.264</td><td>0.1499</td><td>0.8061</td><td>0.4892</td><td>1.368</td><td>0.8226</td><td>0.007463</td><td>1.368</td><td>0.8226</td><td>0.007462</td><td>A</td><td>2.619</td><td>1.017</td><td>0</td><td>0</td><td>-0.01921 ..     -0.009346</td><td>1.413</td><td>1.538</td><td>0.9191</td><td>1.781</td><td>3.105</td><td>0.5737</td><td>2.056</td><td>4.311</td><td>0.4769</td><td>1.261</td><td>1.154</td><td>1.51</td><td>1.232</td><td>0.003785</td><td>1.533</td><td>1.243</td><td>0.003719</td><td>M</td><td>4.585</td><td>1.232</td><td>0</td><td>0</td><td>-0.004702 ..      0.007998</td><td>Field35</td><td>SFGC0.036-0.182</td><td>SFGC0.036-0.182</td><td>266.603681,-29.0003732</td><td>111</td><td>4.733973193314756</td><td>7.620370879005402</td><td>10.280584905595646</td><td>111</td><td>6.025706275260065</td><td>11.0962925872066</td><td>14.989421203700925</td><td>19</td><td>266.60368100000005,-29.0003732</td><td>0648643</td><td>0.182</td><td>4.893</td><td>5.281</td><td>6.394</td><td>7.673</td></tr>\n",
       "<tr><td>...</td><td>...</td><td>...</td><td>...</td><td>...</td><td>...</td><td>...</td><td>...</td><td>...</td><td>...</td><td>...</td><td>...</td><td>...</td><td>...</td><td>...</td><td>...</td><td>...</td><td>...</td><td>...</td><td>...</td><td>...</td><td>...</td><td>...</td><td>...</td><td>...</td><td>...</td><td>...</td><td>...</td><td>...</td><td>...</td><td>...</td><td>...</td><td>...</td><td>...</td><td>...</td><td>...</td><td>...</td><td>...</td><td>...</td><td>...</td><td>...</td><td>...</td><td>...</td><td>...</td><td>...</td><td>...</td><td>...</td><td>...</td><td>...</td><td>...</td><td>...</td><td>...</td><td>...</td><td>...</td><td>...</td><td>...</td><td>...</td><td>...</td><td>...</td><td>...</td><td>...</td><td>...</td><td>...</td><td>...</td><td>...</td><td>...</td><td>...</td><td>...</td><td>...</td></tr>\n",
       "<tr><td>SFGC0.640-0.091</td><td>266.8725091504992</td><td>-28.436280541229607</td><td>1.523</td><td>0.0954</td><td>15.96</td><td>4.508</td><td>0.1418</td><td>31.78</td><td>7.938</td><td>0.2005</td><td>39.6</td><td>2.961</td><td>7.938</td><td>5.429</td><td>0.1302</td><td>0.8677</td><td>5.447</td><td>0.1252</td><td>0.3408</td><td>M</td><td>23.28</td><td>3.136</td><td>0</td><td>10</td><td>0.00706 ..     -0.002366</td><td>12.87</td><td>0.1825</td><td>70.51</td><td>35.82</td><td>0.3333</td><td>107.5</td><td>54.31</td><td>0.4413</td><td>123.1</td><td>2.783</td><td>1.516</td><td>29.82</td><td>0.2745</td><td>1.611</td><td>29.79</td><td>0.271</td><td>0.6131</td><td>M</td><td>22.43</td><td>2.062</td><td>0</td><td>20</td><td>0.01107 ..      -0.01059</td><td>Field02</td><td>SFGC0.640-0.091</td><td>SFGC0.640-0.091</td><td>266.8725091504992,-28.436280541229607</td><td>0</td><td>0.0</td><td>0.0</td><td>0.0</td><td>0</td><td>0.0</td><td>0.0</td><td>0.0</td><td>365</td><td>266.8725091504992,-28.436280541229607</td><td>0809627</td><td>2.89</td><td>7.238</td><td>--</td><td>--</td><td>--</td></tr>\n",
       "<tr><td>SFGC359.491-0.074</td><td>266.17281969244084</td><td>-29.409401520743238</td><td>4.747</td><td>0.7405</td><td>6.41</td><td>10.23</td><td>1.477</td><td>6.925</td><td>13.22</td><td>2.229</td><td>5.934</td><td>2.155</td><td>13.22</td><td>11.47</td><td>1.404</td><td>0.01132</td><td>11.1</td><td>1.348</td><td>0.007789</td><td>A</td><td>8.787</td><td>1.412</td><td>0</td><td>0</td><td>-0.005282 ..      0.004639</td><td>7.051</td><td>1.277</td><td>5.522</td><td>15.29</td><td>2.462</td><td>6.21</td><td>19.78</td><td>3.296</td><td>6.001</td><td>2.168</td><td>1.294</td><td>13.76</td><td>1.983</td><td>0.009125</td><td>13.67</td><td>1.948</td><td>0.006065</td><td>G</td><td>12.08</td><td>1.455</td><td>0</td><td>0</td><td>0.005806 ..       0.01696</td><td>Field48</td><td>SFGC359.491-0.074</td><td>SFGC359.490-0.074</td><td>266.17281969244084,-29.409401520743238</td><td>0</td><td>0.0</td><td>0.0</td><td>0.0</td><td>0</td><td>0.0</td><td>0.0</td><td>0.0</td><td>59</td><td>266.17281969244084,-29.409401520743238</td><td>0368854</td><td>2.893</td><td>6.380</td><td>--</td><td>9.641</td><td>10.834</td></tr>\n",
       "<tr><td>SFGC0.682-0.035</td><td>266.8427057255851</td><td>-28.372085830138595</td><td>2.42</td><td>0.1169</td><td>20.7</td><td>6.814</td><td>0.2041</td><td>33.38</td><td>9.368</td><td>0.299</td><td>31.33</td><td>2.816</td><td>9.368</td><td>7.719</td><td>0.1959</td><td>0.547</td><td>7.736</td><td>0.196</td><td>0.5281</td><td>M</td><td>8.68</td><td>1.182</td><td>0</td><td>0</td><td>0.0004936 ..     -0.001348</td><td>12.78</td><td>0.2909</td><td>43.91</td><td>31.28</td><td>0.5469</td><td>57.19</td><td>37.57</td><td>0.7273</td><td>51.66</td><td>2.448</td><td>1.201</td><td>27.48</td><td>0.4623</td><td>0.4547</td><td>27.49</td><td>0.4603</td><td>0.3329</td><td>M</td><td>10.55</td><td>1.334</td><td>0</td><td>0</td><td>-0.05287 ..      0.007497</td><td>Field01</td><td>SFGC0.682-0.035</td><td>SFGC0.682-0.035</td><td>266.8427057255851,-28.372085830138595</td><td>0</td><td>0.0</td><td>0.0</td><td>0.0</td><td>0</td><td>0.0</td><td>0.0</td><td>0.0</td><td>345</td><td>266.8427057255851,-28.372085830138595</td><td>0793867</td><td>2.895</td><td>6.756</td><td>8.837</td><td>--</td><td>--</td></tr>\n",
       "<tr><td>SFGC359.517-0.064</td><td>266.17938775652095</td><td>-29.381522061708562</td><td>0.9798</td><td>0.7745</td><td>1.265</td><td>1.747</td><td>1.545</td><td>1.131</td><td>1.766</td><td>2.317</td><td>0.7622</td><td>1.782</td><td>1.011</td><td>1.857</td><td>1.224</td><td>0.002075</td><td>1.744</td><td>1.158</td><td>0.002187</td><td>M</td><td>5.431</td><td>1.081</td><td>0</td><td>0</td><td>-0.01324 ..       -0.0103</td><td>2.226</td><td>1.405</td><td>1.584</td><td>4.597</td><td>2.735</td><td>1.681</td><td>5.564</td><td>3.723</td><td>1.495</td><td>2.065</td><td>1.21</td><td>4.185</td><td>2.138</td><td>0.002845</td><td>--</td><td>--</td><td>--</td><td>M</td><td>2.126e-38</td><td>1</td><td>--</td><td>--</td><td>-- .. --</td><td>Field47</td><td>SFGC359.517-0.064</td><td>--</td><td>266.17938775652095,-29.381522061708562</td><td>111</td><td>3.303303090934619</td><td>6.380616570062039</td><td>8.715624292325678</td><td>111</td><td>6.4419034513291775</td><td>12.80367433719022</td><td>16.733561547916906</td><td>411</td><td>266.179387756521,-29.381522061708562</td><td>0373058</td><td>2.903</td><td>8.436</td><td>10.542</td><td>11.477</td><td>12.212</td></tr>\n",
       "<tr><td>SFGC0.004-0.068</td><td>266.47347197092427</td><td>-28.96811192904278</td><td>7.178</td><td>0.08899</td><td>80.66</td><td>18.37</td><td>0.1499</td><td>122.6</td><td>25.16</td><td>0.2163</td><td>116.3</td><td>2.56</td><td>25.16</td><td>21.29</td><td>0.1458</td><td>1.517</td><td>21.17</td><td>0.1447</td><td>1.2</td><td>A</td><td>10.22</td><td>1.208</td><td>0</td><td>0</td><td>0.00672 ..     0.0003302</td><td>21.33</td><td>0.2202</td><td>96.86</td><td>48.67</td><td>0.4094</td><td>118.9</td><td>59.73</td><td>0.5434</td><td>109.9</td><td>2.282</td><td>1.227</td><td>43.27</td><td>0.3389</td><td>1.537</td><td>43.38</td><td>0.3374</td><td>0.7457</td><td>M</td><td>9.668</td><td>1.381</td><td>0</td><td>0</td><td>0.01954 ..     0.0009721</td><td>Field34</td><td>SFGC0.004-0.068</td><td>SFGC0.004-0.068</td><td>266.47347197092427,-28.96811192904278</td><td>0</td><td>0.0</td><td>0.0</td><td>0.0</td><td>0</td><td>0.0</td><td>0.0</td><td>0.0</td><td>227</td><td>266.47347197092427,-28.96811192904278</td><td>0562378</td><td>2.93</td><td>5.544</td><td>--</td><td>--</td><td>--</td></tr>\n",
       "<tr><td>SFGC0.214-0.076</td><td>266.60613850366707</td><td>-28.792706778772736</td><td>0.7717</td><td>0.117</td><td>6.596</td><td>0.9268</td><td>0.1951</td><td>4.751</td><td>0.009034</td><td>20.43</td><td>0.0004421</td><td>1.201</td><td>0.009034</td><td>1.105</td><td>0.08781</td><td>0.4098</td><td>1.124</td><td>0.08833</td><td>0.3971</td><td>M</td><td>5.674</td><td>1.298</td><td>0</td><td>0</td><td>0.01204 ..       -0.0121</td><td>2.546</td><td>0.2079</td><td>12.24</td><td>2.348</td><td>0.3899</td><td>6.022</td><td>2.259</td><td>0.5203</td><td>4.341</td><td>0.9224</td><td>0.9621</td><td>3.106</td><td>0.2111</td><td>0.3563</td><td>--</td><td>--</td><td>--</td><td>M</td><td>2.126e-38</td><td>1</td><td>0</td><td>0</td><td>0.01866 ..     -0.008058</td><td>Field12</td><td>SFGC0.214-0.076</td><td>SFGC0.214-0.076</td><td>266.60613850366707,-28.792706778772736</td><td>1</td><td>0.0</td><td>0.0</td><td>61.30865752342277</td><td>0</td><td>0.0</td><td>0.0</td><td>0.0</td><td>200</td><td>266.6061385036671,-28.792706778772736</td><td>0650438</td><td>2.941</td><td>7.095</td><td>8.977</td><td>--</td><td>--</td></tr>\n",
       "<tr><td>SFGC0.162-0.066</td><td>266.56608269680686</td><td>-28.831930770858367</td><td>13.95</td><td>0.1174</td><td>118.9</td><td>36.18</td><td>0.1515</td><td>238.7</td><td>60.95</td><td>0.2051</td><td>297.2</td><td>2.593</td><td>60.95</td><td>45.5</td><td>1.333</td><td>96.54</td><td>46.41</td><td>0.7791</td><td>36.59</td><td>A</td><td>6.948</td><td>4.874</td><td>0</td><td>0</td><td>0.2851 ..        0.1149</td><td>23.65</td><td>0.2011</td><td>117.6</td><td>56.53</td><td>0.3506</td><td>161.2</td><td>79.95</td><td>0.4614</td><td>173.3</td><td>2.39</td><td>1.414</td><td>50.22</td><td>1.284</td><td>20.77</td><td>50.9</td><td>0.7039</td><td>6.839</td><td>A</td><td>7.485</td><td>4.284</td><td>0</td><td>1</td><td>0.3559 ..       0.06531</td><td>Field18</td><td>SFGC0.162-0.066</td><td>SFGC0.162-0.066</td><td>266.56608269680686,-28.831930770858367</td><td>0</td><td>0.0</td><td>0.0</td><td>0.0</td><td>0</td><td>0.0</td><td>0.0</td><td>0.0</td><td>175</td><td>266.56608269680686,-28.831930770858367</td><td>0623735</td><td>2.954</td><td>6.215</td><td>--</td><td>--</td><td>--</td></tr>\n",
       "<tr><td>SFGC0.078-0.014</td><td>266.46506619689114</td><td>-28.877192194266847</td><td>1.539</td><td>0.1179</td><td>13.05</td><td>3.044</td><td>0.1725</td><td>17.64</td><td>3.884</td><td>0.2414</td><td>16.09</td><td>1.978</td><td>3.884</td><td>3.404</td><td>0.127</td><td>0.4307</td><td>3.33</td><td>0.1237</td><td>0.4077</td><td>M</td><td>6.11</td><td>1.236</td><td>0</td><td>0</td><td>0.01822 ..       0.03963</td><td>7.09</td><td>0.2058</td><td>34.45</td><td>13.45</td><td>0.3744</td><td>35.92</td><td>18.15</td><td>0.4949</td><td>36.67</td><td>1.897</td><td>1.35</td><td>12.34</td><td>0.2835</td><td>0.5894</td><td>12.27</td><td>0.2783</td><td>0.4186</td><td>M</td><td>7.189</td><td>1.497</td><td>0</td><td>0</td><td>0.02134 ..        0.0598</td><td>Field25</td><td>SFGC0.078-0.014</td><td>SFGC0.077-0.014</td><td>266.46506619689114,-28.877192194266847</td><td>0</td><td>0.0</td><td>0.0</td><td>0.0</td><td>0</td><td>0.0</td><td>0.0</td><td>0.0</td><td>239</td><td>266.4650661968912,-28.877192194266847</td><td>0556344</td><td>2.995</td><td>7.565</td><td>9.639</td><td>--</td><td>--</td></tr>\n",
       "<tr><td>SFGC0.157-0.062</td><td>266.55923871602033</td><td>-28.834570908398966</td><td>10.71</td><td>0.1243</td><td>86.19</td><td>36.19</td><td>0.1491</td><td>242.7</td><td>59.04</td><td>0.2053</td><td>287.6</td><td>3.378</td><td>1.632</td><td>43.9</td><td>0.803</td><td>32.28</td><td>43.56</td><td>0.453</td><td>11.1</td><td>A</td><td>8.561</td><td>3.399</td><td>0</td><td>0</td><td>0.1157 ..       0.01368</td><td>23</td><td>0.2051</td><td>112.1</td><td>68.17</td><td>0.3463</td><td>196.9</td><td>95.6</td><td>0.4559</td><td>209.7</td><td>2.964</td><td>1.402</td><td>56.62</td><td>0.6362</td><td>4.79</td><td>56.55</td><td>0.4795</td><td>2.769</td><td>A</td><td>28</td><td>2.365</td><td>--</td><td>--</td><td>-- .. --</td><td>Field18</td><td>SFGC0.157-0.062</td><td>--</td><td>266.55923871602033,-28.834570908398966</td><td>0</td><td>0.0</td><td>0.0</td><td>0.0</td><td>0</td><td>0.0</td><td>0.0</td><td>0.0</td><td>604</td><td>266.55923871602033,-28.834570908398966</td><td>0619683</td><td>2.996</td><td>5.997</td><td>6.089</td><td>6.778</td><td>7.246</td></tr>\n",
       "<tr><td>SFGC0.605-0.046</td><td>266.80828905684706</td><td>-28.44325095179017</td><td>1.117</td><td>0.204</td><td>5.478</td><td>3.046</td><td>0.1998</td><td>15.25</td><td>7.013</td><td>0.2326</td><td>30.15</td><td>2.726</td><td>2.302</td><td>3.809</td><td>0.1409</td><td>0.7287</td><td>3.86</td><td>0.1385</td><td>0.5538</td><td>M</td><td>8.927</td><td>3.532</td><td>0</td><td>20</td><td>0.6212 ..      -0.01038</td><td>9.358</td><td>0.2276</td><td>41.12</td><td>31.34</td><td>0.3774</td><td>83.04</td><td>61.19</td><td>0.4997</td><td>122.5</td><td>3.349</td><td>1.953</td><td>24.97</td><td>0.3112</td><td>0.7218</td><td>24.97</td><td>0.31</td><td>0.5326</td><td>M</td><td>94.37</td><td>5.799</td><td>--</td><td>--</td><td>-- .. --</td><td>Field04</td><td>SFGC0.605-0.046</td><td>--</td><td>266.80828905684706,-28.44325095179017</td><td>0</td><td>0.0</td><td>0.0</td><td>0.0</td><td>0</td><td>0.0</td><td>0.0</td><td>0.0</td><td>698</td><td>266.8082890568471,-28.44325095179017</td><td>0775471</td><td>3.0</td><td>6.919</td><td>8.946</td><td>11.423</td><td>--</td></tr>\n",
       "</table></div>"
      ],
      "text/plain": [
       "<Table length=449>\n",
       "     SourceID         RA(J2000)           DEC(J2000)     ... _4.5mag _3.6mag\n",
       "                         deg                 deg         ...   mag     mag  \n",
       "     bytes17           float64             float64       ... float32 float32\n",
       "----------------- ------------------ ------------------- ... ------- -------\n",
       "  SFGC0.154+0.031   266.467110972243 -28.788414953789108 ...      --      --\n",
       "  SFGC0.299-0.061   266.641754753852 -28.712831904692795 ...   6.466   7.191\n",
       "  SFGC0.545-0.086  266.8118265121627  -28.51580469297644 ...   9.829  10.819\n",
       "  SFGC0.395+0.008 266.63213024386454 -28.594773884198776 ...   6.393   7.824\n",
       "SFGC359.639-0.058  266.2456699094231  -29.27429422827648 ...   5.737      --\n",
       "  SFGC0.055+0.027  266.4117990403134  -28.87554263769326 ...   9.378  10.668\n",
       "  SFGC0.091+0.014  266.4447525525533 -28.851296569131748 ...      --  10.126\n",
       "SFGC359.948-0.029 266.40248829200516 -28.996054851267328 ...      --      --\n",
       "  SFGC0.036-0.182         266.603681         -29.0003732 ...   6.394   7.673\n",
       "              ...                ...                 ... ...     ...     ...\n",
       "  SFGC0.640-0.091  266.8725091504992 -28.436280541229607 ...      --      --\n",
       "SFGC359.491-0.074 266.17281969244084 -29.409401520743238 ...   9.641  10.834\n",
       "  SFGC0.682-0.035  266.8427057255851 -28.372085830138595 ...      --      --\n",
       "SFGC359.517-0.064 266.17938775652095 -29.381522061708562 ...  11.477  12.212\n",
       "  SFGC0.004-0.068 266.47347197092427  -28.96811192904278 ...      --      --\n",
       "  SFGC0.214-0.076 266.60613850366707 -28.792706778772736 ...      --      --\n",
       "  SFGC0.162-0.066 266.56608269680686 -28.831930770858367 ...      --      --\n",
       "  SFGC0.078-0.014 266.46506619689114 -28.877192194266847 ...      --      --\n",
       "  SFGC0.157-0.062 266.55923871602033 -28.834570908398966 ...   6.778   7.246\n",
       "  SFGC0.605-0.046 266.80828905684706  -28.44325095179017 ...  11.423      --"
      ]
     },
     "execution_count": 46,
     "metadata": {},
     "output_type": "execute_result"
    }
   ],
   "source": [
    "matchedmcat"
   ]
  },
  {
   "cell_type": "code",
   "execution_count": 47,
   "id": "adbcb2bf",
   "metadata": {
    "scrolled": true
   },
   "outputs": [
    {
     "data": {
      "text/html": [
       "<div><i>Table length=523</i>\n",
       "<table id=\"table2506172079792\" class=\"table-striped table-bordered table-condensed\">\n",
       "<thead><tr><th>SourceID</th><th>RA(J2000)</th><th>DEC(J2000)</th><th>25um_Flux_4pix</th><th>25um_Flux_err_4pix</th><th>25um_SNR_4pix</th><th>25um_Flux_8pix</th><th>25um_Flux_err_8pix</th><th>25um_SNR_8pix</th><th>25um_Flux_12pix</th><th>25um_Flux_err_12pix</th><th>25um_SNR_12pix</th><th>25ApRatio8_4</th><th>25ApRatio12_8</th><th>25um_Flux_M2D</th><th>25um_Flux_err_M2D</th><th>25um_M2D_chi2</th><th>25um_Flux_G2D</th><th>25um_Flux_err_G2D</th><th>25um_G2D_chi2</th><th>25um_BestModel</th><th>fwhm25</th><th>elong25</th><th>bkg_qflag25</th><th>shape_qflag25</th><th>cutout25 [25,25]</th><th>37um_Flux_5.5pix</th><th>37um_Flux_err_5.5pix</th><th>37um_SNR_5.5pix</th><th>37um_Flux_10.5pix</th><th>37um_Flux_err_10.5pix</th><th>37um_SNR_10.5pix</th><th>37um_Flux_14pix</th><th>37um_Flux_err_14pix</th><th>37um_SNR_14pix</th><th>37ApRatio10.5_5.5</th><th>37ApRatio14_10.5</th><th>37um_Flux_M2D</th><th>37um_Flux_err_M2D</th><th>37um_M2D_chi2</th><th>37um_Flux_G2D</th><th>37um_Flux_err_G2D</th><th>37um_G2D_chi2</th><th>37um_BestModel</th><th>fwhm37</th><th>elong37</th><th>bkg_qflag37</th><th>shape_qflag37</th><th>cutout37 [31,31]</th><th>FieldID</th><th>SID25</th><th>SID37</th><th>sky_centroid</th><th>25ApPhot_qflag</th><th>25Ap_4pix_UL</th><th>25Ap_8pix_UL</th><th>25Ap_12pix_UL</th><th>37ApPhot_qflag</th><th>37Ap_5.5pix_UL</th><th>37Ap_10.5pix_UL</th><th>37Ap_14pix_UL</th><th>id</th><th>skycoords</th><th>SSTGCxmatch</th></tr></thead>\n",
       "<thead><tr><th></th><th>deg</th><th>deg</th><th></th><th></th><th></th><th></th><th></th><th></th><th></th><th></th><th></th><th></th><th></th><th></th><th></th><th></th><th></th><th></th><th></th><th></th><th></th><th></th><th></th><th></th><th></th><th></th><th></th><th></th><th></th><th></th><th></th><th></th><th></th><th></th><th></th><th></th><th></th><th></th><th></th><th></th><th></th><th></th><th></th><th></th><th></th><th></th><th></th><th></th><th></th><th></th><th></th><th>deg,deg</th><th></th><th></th><th></th><th></th><th></th><th></th><th></th><th></th><th></th><th>deg,deg</th><th></th></tr></thead>\n",
       "<thead><tr><th>bytes17</th><th>float64</th><th>float64</th><th>float64</th><th>float64</th><th>float64</th><th>float64</th><th>float64</th><th>float64</th><th>float64</th><th>float64</th><th>float64</th><th>float64</th><th>float64</th><th>float64</th><th>float64</th><th>float64</th><th>float64</th><th>float64</th><th>float64</th><th>bytes1</th><th>float64</th><th>float64</th><th>int32</th><th>int32</th><th>float64</th><th>float64</th><th>float64</th><th>float64</th><th>float64</th><th>float64</th><th>float64</th><th>float64</th><th>float64</th><th>float64</th><th>float64</th><th>float64</th><th>float64</th><th>float64</th><th>float64</th><th>float64</th><th>float64</th><th>float64</th><th>bytes1</th><th>float64</th><th>float64</th><th>int32</th><th>int32</th><th>float64</th><th>bytes7</th><th>bytes17</th><th>bytes17</th><th>object</th><th>int32</th><th>float64</th><th>float64</th><th>float64</th><th>int32</th><th>float64</th><th>float64</th><th>float64</th><th>int64</th><th>object</th><th>str1</th></tr></thead>\n",
       "<tr><td>SFGC0.018-0.062</td><td>266.4763478</td><td>-28.9531109</td><td>2.691</td><td>0.204</td><td>13.19</td><td>4.412</td><td>0.4342</td><td>10.16</td><td>4.438</td><td>0.6993</td><td>6.346</td><td>1.64</td><td>4.438</td><td>4.455</td><td>0.281</td><td>0.1841</td><td>4.27</td><td>0.2686</td><td>0.18</td><td>M</td><td>4.786</td><td>1.157</td><td>0</td><td>0</td><td>0.000226 ..      -0.02755</td><td>3.635</td><td>0.9111</td><td>3.989</td><td>4.375</td><td>1.612</td><td>2.714</td><td>2.642</td><td>2.092</td><td>1.263</td><td>1.204</td><td>0.6039</td><td>4.512</td><td>0.9669</td><td>0.1423</td><td>--</td><td>--</td><td>--</td><td>M</td><td>0.2348</td><td>1.104e+37</td><td>0</td><td>0</td><td>0 ..     -0.005663</td><td>Field33</td><td>SFGC0.018-0.062</td><td>SFGC0.018-0.062</td><td>266.4763478,-28.9531109</td><td>0</td><td>0.0</td><td>0.0</td><td>0.0</td><td>11</td><td>0.0</td><td>9.210820581537094</td><td>8.918756304175567</td><td>3</td><td>266.4763478,-28.9531109</td><td></td></tr>\n",
       "<tr><td>SFGC0.513-0.047</td><td>266.7547043</td><td>-28.5219786</td><td>11.66</td><td>0.1934</td><td>60.29</td><td>29.89</td><td>0.4415</td><td>67.7</td><td>42.05</td><td>0.7028</td><td>59.84</td><td>2.563</td><td>42.05</td><td>34.29</td><td>0.3782</td><td>1.247</td><td>34.4</td><td>0.3759</td><td>1.317</td><td>M</td><td>8.717</td><td>1.151</td><td>0</td><td>0</td><td>0.04628 ..     0.0005256</td><td>24.68</td><td>0.3796</td><td>65.02</td><td>62.91</td><td>0.7154</td><td>87.93</td><td>87.74</td><td>1.087</td><td>80.69</td><td>2.549</td><td>1.395</td><td>52.88</td><td>0.5634</td><td>0.6195</td><td>52.83</td><td>0.5607</td><td>0.4582</td><td>M</td><td>13.54</td><td>1.234</td><td>0</td><td>0</td><td>-0.001246 ..       0.01377</td><td>Field05</td><td>SFGC0.513-0.047</td><td>SFGC0.513-0.047</td><td>266.7547043,-28.5219786</td><td>0</td><td>0.0</td><td>0.0</td><td>0.0</td><td>0</td><td>0.0</td><td>0.0</td><td>0.0</td><td>12</td><td>266.75470430000007,-28.5219786</td><td></td></tr>\n",
       "<tr><td>SFGC359.700+0.008</td><td>266.21776158465195</td><td>-29.187630640228313</td><td>2.891</td><td>0.7567</td><td>3.82</td><td>7.563</td><td>1.52</td><td>4.976</td><td>11.54</td><td>2.3</td><td>5.018</td><td>2.616</td><td>11.54</td><td>9.101</td><td>1.62</td><td>0.003942</td><td>9.055</td><td>1.609</td><td>0.003516</td><td>M</td><td>11.27</td><td>1.219</td><td>0</td><td>0</td><td>0.0116 ..    -0.0006453</td><td>5.143</td><td>1.04</td><td>4.947</td><td>11.59</td><td>2.007</td><td>5.777</td><td>14.91</td><td>2.692</td><td>5.538</td><td>2.254</td><td>1.286</td><td>10.3</td><td>1.631</td><td>0.003993</td><td>10.27</td><td>1.625</td><td>0.003744</td><td>M</td><td>11.35</td><td>1.151</td><td>0</td><td>0</td><td>0.01224 ..     -0.008505</td><td>Field44</td><td>SFGC359.700+0.008</td><td>SFGC359.700+0.008</td><td>266.21776158465195,-29.187630640228313</td><td>0</td><td>0.0</td><td>0.0</td><td>0.0</td><td>0</td><td>0.0</td><td>0.0</td><td>0.0</td><td>15</td><td>266.21776158465195,-29.187630640228313</td><td></td></tr>\n",
       "<tr><td>SFGC359.456-0.067</td><td>266.1452142</td><td>-29.4351439</td><td>2.354</td><td>1.136</td><td>2.072</td><td>4.812</td><td>2.274</td><td>2.116</td><td>5.055</td><td>3.629</td><td>1.393</td><td>2.044</td><td>5.055</td><td>5.109</td><td>2.002</td><td>0.004004</td><td>5.12</td><td>2.003</td><td>0.003948</td><td>M</td><td>6.506</td><td>1.114</td><td>0</td><td>0</td><td>-0.01424 ..     -0.005033</td><td>3.016</td><td>2.899</td><td>1.04</td><td>6.313</td><td>5.445</td><td>1.159</td><td>8.555</td><td>7.231</td><td>1.183</td><td>2.093</td><td>1.355</td><td>6.127</td><td>2.667</td><td>0.005786</td><td>6.115</td><td>2.592</td><td>0.005263</td><td>M</td><td>5.99</td><td>1.465</td><td>0</td><td>20</td><td>-0.02269 ..     0.0003994</td><td>Field48</td><td>SFGC359.456-0.067</td><td>SFGC359.456-0.067</td><td>266.1452142,-29.4351439</td><td>111</td><td>5.762909277575613</td><td>11.634762006498079</td><td>15.942205106919149</td><td>111</td><td>11.71193001486631</td><td>22.649352523322655</td><td>30.248373826143784</td><td>17</td><td>266.14521420000005,-29.4351439</td><td></td></tr>\n",
       "<tr><td>SFGC359.445-0.092</td><td>266.1634631</td><td>-29.4579077</td><td>6.309</td><td>1.139</td><td>5.54</td><td>15.36</td><td>2.327</td><td>6.602</td><td>21.65</td><td>3.863</td><td>5.603</td><td>2.435</td><td>21.65</td><td>17.77</td><td>2.383</td><td>0.01069</td><td>17.56</td><td>2.347</td><td>0.0117</td><td>A</td><td>10.08</td><td>1.267</td><td>0</td><td>0</td><td>0.01965 ..      0.004437</td><td>5.286</td><td>3.224</td><td>1.639</td><td>15.72</td><td>5.818</td><td>2.702</td><td>23.77</td><td>7.614</td><td>3.122</td><td>2.974</td><td>1.512</td><td>14.36</td><td>3.299</td><td>0.03581</td><td>--</td><td>--</td><td>--</td><td>A</td><td>0.05528</td><td>2.6e+36</td><td>0</td><td>20</td><td>0.1153 ..     0.0003994</td><td>Field48</td><td>SFGC359.445-0.092</td><td>SFGC359.445-0.092</td><td>266.1634631,-29.4579077</td><td>0</td><td>0.0</td><td>0.0</td><td>0.0</td><td>110</td><td>14.958686853287908</td><td>33.17390962483339</td><td>0.0</td><td>20</td><td>266.1634631,-29.4579077</td><td></td></tr>\n",
       "<tr><td>SFGC0.167-0.044</td><td>266.5470210279652</td><td>-28.816259635181716</td><td>8.479</td><td>0.1513</td><td>56.05</td><td>31.84</td><td>0.2361</td><td>134.8</td><td>60.49</td><td>0.3402</td><td>177.8</td><td>3.755</td><td>60.49</td><td>42.12</td><td>0.557</td><td>4.552</td><td>41.98</td><td>0.2555</td><td>0.9429</td><td>G</td><td>315.9</td><td>24.87</td><td>0</td><td>10</td><td>0.08976 ..         0.064</td><td>20.07</td><td>0.1938</td><td>103.6</td><td>63.55</td><td>0.3506</td><td>181.3</td><td>92.57</td><td>0.4677</td><td>197.9</td><td>3.166</td><td>1.457</td><td>52.39</td><td>0.5395</td><td>3.225</td><td>52.35</td><td>0.2969</td><td>0.8352</td><td>G</td><td>92.95</td><td>6.784</td><td>0</td><td>20</td><td>0.1283 ..       0.02869</td><td>Field17</td><td>SFGC0.167-0.044</td><td>SFGC0.167-0.044</td><td>266.5470210279652,-28.816259635181716</td><td>0</td><td>0.0</td><td>0.0</td><td>0.0</td><td>0</td><td>0.0</td><td>0.0</td><td>0.0</td><td>25</td><td>266.54702102796523,-28.816259635181716</td><td></td></tr>\n",
       "<tr><td>SFGC359.933-0.053</td><td>266.4163824115693</td><td>-29.021321564406687</td><td>14.37</td><td>0.09814</td><td>146.4</td><td>45.67</td><td>0.1499</td><td>304.6</td><td>91.86</td><td>0.2133</td><td>430.6</td><td>3.179</td><td>91.86</td><td>59.67</td><td>0.7889</td><td>29.41</td><td>58.63</td><td>0.7047</td><td>24.52</td><td>A</td><td>10.47</td><td>2.618</td><td>0</td><td>20</td><td>0.1072 ..        0.7458</td><td>61.31</td><td>0.1911</td><td>320.9</td><td>185.5</td><td>0.3407</td><td>544.5</td><td>315.3</td><td>0.4503</td><td>700.2</td><td>3.026</td><td>1.699</td><td>151.4</td><td>1.735</td><td>39.32</td><td>150.9</td><td>1.511</td><td>30.28</td><td>A</td><td>12.96</td><td>2.108</td><td>0</td><td>20</td><td>0.2649 ..         2.638</td><td>Field40</td><td>SFGC359.933-0.053</td><td>SFGC359.933-0.053</td><td>266.4163824115693,-29.021321564406687</td><td>0</td><td>0.0</td><td>0.0</td><td>0.0</td><td>0</td><td>0.0</td><td>0.0</td><td>0.0</td><td>34</td><td>266.4163824115693,-29.021321564406687</td><td></td></tr>\n",
       "<tr><td>SFGC0.133-0.024</td><td>266.50783155558935</td><td>-28.83486954454836</td><td>1.235</td><td>0.1254</td><td>9.85</td><td>3.045</td><td>0.1801</td><td>16.9</td><td>4.516</td><td>0.2577</td><td>17.53</td><td>2.465</td><td>4.516</td><td>3.747</td><td>0.1483</td><td>0.7409</td><td>3.817</td><td>0.1486</td><td>0.6499</td><td>M</td><td>7.422</td><td>2.045</td><td>0</td><td>10</td><td>-0.00702 ..       0.01139</td><td>3.282</td><td>0.2587</td><td>12.69</td><td>5.347</td><td>0.4695</td><td>11.39</td><td>5.673</td><td>0.6415</td><td>8.842</td><td>1.63</td><td>1.061</td><td>5.232</td><td>0.309</td><td>0.3642</td><td>5.3</td><td>0.304</td><td>0.2971</td><td>M</td><td>5.961</td><td>1.777</td><td>0</td><td>0</td><td>-0.01267 ..       0.04588</td><td>Field20</td><td>SFGC0.133-0.024</td><td>SFGC0.133-0.024</td><td>266.50783155558935,-28.83486954454836</td><td>0</td><td>0.0</td><td>0.0</td><td>0.0</td><td>0</td><td>0.0</td><td>0.0</td><td>0.0</td><td>39</td><td>266.50783155558935,-28.83486954454836</td><td></td></tr>\n",
       "<tr><td>SFGC359.931-0.041</td><td>266.4033306034084</td><td>-29.016681927320843</td><td>8.836</td><td>0.1037</td><td>85.22</td><td>24.69</td><td>0.1506</td><td>163.9</td><td>45.98</td><td>0.2112</td><td>217.7</td><td>2.794</td><td>45.98</td><td>31.59</td><td>0.4325</td><td>8.918</td><td>31.5</td><td>0.4065</td><td>7.971</td><td>A</td><td>11.19</td><td>1.376</td><td>0</td><td>10</td><td>0.08852 ..       0.01028</td><td>20</td><td>0.2494</td><td>80.22</td><td>59.3</td><td>0.3683</td><td>161</td><td>100.5</td><td>0.4757</td><td>211.3</td><td>2.964</td><td>1.695</td><td>51.56</td><td>0.8417</td><td>9.703</td><td>51.28</td><td>0.677</td><td>6.505</td><td>A</td><td>62.5</td><td>5.539</td><td>1</td><td>21</td><td>0.416 ..       0.06692</td><td>Field41</td><td>SFGC359.931-0.041</td><td>SFGC359.931-0.041</td><td>266.4033306034084,-29.016681927320843</td><td>0</td><td>0.0</td><td>0.0</td><td>0.0</td><td>0</td><td>0.0</td><td>0.0</td><td>0.0</td><td>54</td><td>266.40333060340845,-29.016681927320843</td><td></td></tr>\n",
       "<tr><td>...</td><td>...</td><td>...</td><td>...</td><td>...</td><td>...</td><td>...</td><td>...</td><td>...</td><td>...</td><td>...</td><td>...</td><td>...</td><td>...</td><td>...</td><td>...</td><td>...</td><td>...</td><td>...</td><td>...</td><td>...</td><td>...</td><td>...</td><td>...</td><td>...</td><td>...</td><td>...</td><td>...</td><td>...</td><td>...</td><td>...</td><td>...</td><td>...</td><td>...</td><td>...</td><td>...</td><td>...</td><td>...</td><td>...</td><td>...</td><td>...</td><td>...</td><td>...</td><td>...</td><td>...</td><td>...</td><td>...</td><td>...</td><td>...</td><td>...</td><td>...</td><td>...</td><td>...</td><td>...</td><td>...</td><td>...</td><td>...</td><td>...</td><td>...</td><td>...</td><td>...</td><td>...</td><td>...</td><td>...</td></tr>\n",
       "<tr><td>SFGC0.608-0.047</td><td>266.8113042421003</td><td>-28.441270241271535</td><td>0.8671</td><td>0.2983</td><td>2.907</td><td>2.771</td><td>0.2256</td><td>12.29</td><td>5.766</td><td>0.2381</td><td>24.22</td><td>3.196</td><td>2.081</td><td>3.911</td><td>0.1251</td><td>0.4587</td><td>3.926</td><td>0.1253</td><td>0.4507</td><td>M</td><td>13.63</td><td>1.204</td><td>--</td><td>--</td><td>-- .. --</td><td>1.847</td><td>0.3424</td><td>5.396</td><td>6.142</td><td>0.3811</td><td>16.12</td><td>11.99</td><td>0.4729</td><td>25.34</td><td>3.325</td><td>1.951</td><td>4.903</td><td>0.2364</td><td>0.3134</td><td>4.889</td><td>0.2357</td><td>0.3125</td><td>M</td><td>14.8</td><td>1.177</td><td>0</td><td>20</td><td>0.06039 ..      -0.02934</td><td>Field03</td><td>--</td><td>SFGC0.608-0.047</td><td>266.8113042421003,-28.441270241271535</td><td>100</td><td>1.7620908466140053</td><td>0.0</td><td>0.0</td><td>0</td><td>0.0</td><td>0.0</td><td>0.0</td><td>959</td><td>266.81130424210033,-28.441270241271535</td><td></td></tr>\n",
       "<tr><td>SFGC0.632-0.026</td><td>266.8046318013615</td><td>-28.409429818251144</td><td>7.027</td><td>0.08355</td><td>84.1</td><td>24.84</td><td>0.1321</td><td>188.1</td><td>46.43</td><td>0.188</td><td>247</td><td>3.536</td><td>1.869</td><td>32.14</td><td>0.3771</td><td>10.62</td><td>31.54</td><td>0.3239</td><td>8.211</td><td>A</td><td>26.05</td><td>2.485</td><td>--</td><td>--</td><td>-- .. --</td><td>31.52</td><td>0.1812</td><td>173.9</td><td>99.22</td><td>0.3319</td><td>299</td><td>146.6</td><td>0.4393</td><td>333.8</td><td>3.148</td><td>1.478</td><td>81.79</td><td>0.5641</td><td>4.998</td><td>81.08</td><td>0.6281</td><td>6.283</td><td>A</td><td>23.61</td><td>1.88</td><td>0</td><td>20</td><td>0.08719 ..        0.0156</td><td>Field03</td><td>--</td><td>SFGC0.632-0.026</td><td>266.8046318013615,-28.409429818251144</td><td>0</td><td>0.0</td><td>0.0</td><td>0.0</td><td>0</td><td>0.0</td><td>0.0</td><td>0.0</td><td>960</td><td>266.8046318013615,-28.409429818251144</td><td></td></tr>\n",
       "<tr><td>SFGC0.643-0.092</td><td>266.87495668570966</td><td>-28.434331150843413</td><td>2.698</td><td>0.1033</td><td>26.11</td><td>8.398</td><td>0.1442</td><td>58.23</td><td>14.52</td><td>0.2022</td><td>71.82</td><td>3.112</td><td>1.729</td><td>10.55</td><td>0.1452</td><td>1.033</td><td>10.55</td><td>0.1428</td><td>0.4064</td><td>M</td><td>22.47</td><td>2.126</td><td>--</td><td>--</td><td>-- .. --</td><td>14.23</td><td>0.1865</td><td>76.32</td><td>42.32</td><td>0.3343</td><td>126.6</td><td>61.52</td><td>0.442</td><td>139.2</td><td>2.974</td><td>1.454</td><td>34.97</td><td>0.2765</td><td>1.648</td><td>34.96</td><td>0.2738</td><td>0.5724</td><td>M</td><td>24.63</td><td>2.007</td><td>0</td><td>20</td><td>0.02059 ..       0.02945</td><td>Field02</td><td>--</td><td>SFGC0.643-0.092</td><td>266.87495668570966,-28.434331150843413</td><td>0</td><td>0.0</td><td>0.0</td><td>0.0</td><td>0</td><td>0.0</td><td>0.0</td><td>0.0</td><td>962</td><td>266.8749566857097,-28.434331150843413</td><td></td></tr>\n",
       "<tr><td>SFGC0.643-0.093</td><td>266.8758726876464</td><td>-28.434729966361513</td><td>2.337</td><td>0.1128</td><td>20.72</td><td>7.766</td><td>0.146</td><td>53.18</td><td>13.21</td><td>0.2031</td><td>65.01</td><td>3.323</td><td>1.7</td><td>9.765</td><td>0.1402</td><td>1.185</td><td>9.817</td><td>0.138</td><td>0.4579</td><td>M</td><td>9.929</td><td>2.193</td><td>--</td><td>--</td><td>-- .. --</td><td>16.12</td><td>0.1848</td><td>87.23</td><td>45.61</td><td>0.3338</td><td>136.6</td><td>64.44</td><td>0.4416</td><td>145.9</td><td>2.829</td><td>1.413</td><td>38.32</td><td>0.4515</td><td>2.497</td><td>--</td><td>--</td><td>--</td><td>A</td><td>2.126e-38</td><td>1</td><td>0</td><td>0</td><td>0.01823 ..      0.003642</td><td>Field02</td><td>--</td><td>SFGC0.643-0.093</td><td>266.8758726876464,-28.434729966361513</td><td>0</td><td>0.0</td><td>0.0</td><td>0.0</td><td>0</td><td>0.0</td><td>0.0</td><td>0.0</td><td>963</td><td>266.8758726876464,-28.434729966361513</td><td></td></tr>\n",
       "<tr><td>SFGC0.645-0.041</td><td>266.8271987977095</td><td>-28.40643127500445</td><td>0.2676</td><td>0.1803</td><td>1.485</td><td>0.7093</td><td>0.1793</td><td>3.956</td><td>1.203</td><td>0.2167</td><td>5.551</td><td>2.65</td><td>1.696</td><td>0.8994</td><td>0.1203</td><td>0.3009</td><td>0.8743</td><td>0.1111</td><td>0.28</td><td>M</td><td>29.35</td><td>5.219</td><td>--</td><td>--</td><td>-- .. --</td><td>3.541</td><td>0.1821</td><td>19.45</td><td>6.097</td><td>0.3297</td><td>18.49</td><td>6.597</td><td>0.4362</td><td>15.12</td><td>1.722</td><td>1.082</td><td>5.577</td><td>0.2296</td><td>0.4545</td><td>5.534</td><td>0.2232</td><td>0.3698</td><td>M</td><td>5.967</td><td>1.593</td><td>0</td><td>0</td><td>0.01536 ..      0.009828</td><td>Field03</td><td>--</td><td>SFGC0.645-0.041</td><td>266.8271987977095,-28.40643127500445</td><td>100</td><td>0.8085280681568437</td><td>0.0</td><td>0.0</td><td>0</td><td>0.0</td><td>0.0</td><td>0.0</td><td>964</td><td>266.8271987977095,-28.40643127500445</td><td></td></tr>\n",
       "<tr><td>SFGC0.648-0.035</td><td>266.82341735831307</td><td>-28.40059050284237</td><td>0.4709</td><td>0.1345</td><td>3.501</td><td>0.7005</td><td>0.1956</td><td>3.581</td><td>0.3766</td><td>0.4443</td><td>0.8476</td><td>1.488</td><td>0.5376</td><td>0.7796</td><td>0.08482</td><td>0.322</td><td>0.7862</td><td>0.08421</td><td>0.3127</td><td>M</td><td>6.212</td><td>1.396</td><td>--</td><td>--</td><td>-- .. --</td><td>2.871</td><td>0.1814</td><td>15.83</td><td>4.676</td><td>0.329</td><td>14.22</td><td>4.447</td><td>0.4361</td><td>10.2</td><td>1.629</td><td>0.951</td><td>4.587</td><td>0.2298</td><td>0.375</td><td>4.602</td><td>0.228</td><td>0.3443</td><td>M</td><td>6.47</td><td>1.367</td><td>0</td><td>0</td><td>-0.005642 ..      -0.01521</td><td>Field03</td><td>--</td><td>SFGC0.648-0.035</td><td>266.82341735831307,-28.40059050284237</td><td>1</td><td>0.0</td><td>0.0</td><td>1.7095402426028796</td><td>0</td><td>0.0</td><td>0.0</td><td>0.0</td><td>965</td><td>266.8234173583131,-28.40059050284237</td><td></td></tr>\n",
       "<tr><td>SFGC0.661-0.051</td><td>266.8463824609953</td><td>-28.39791412467139</td><td>0.9602</td><td>0.1247</td><td>7.701</td><td>1.837</td><td>0.1929</td><td>9.52</td><td>2.195</td><td>0.2804</td><td>7.828</td><td>1.913</td><td>1.195</td><td>1.947</td><td>0.1273</td><td>0.2243</td><td>1.943</td><td>0.1269</td><td>0.2214</td><td>M</td><td>5.417</td><td>1.148</td><td>--</td><td>--</td><td>-- .. --</td><td>4.413</td><td>0.3342</td><td>13.2</td><td>8.615</td><td>0.8604</td><td>10.01</td><td>9.85</td><td>1.369</td><td>7.193</td><td>1.952</td><td>1.143</td><td>8.549</td><td>0.6514</td><td>0.3378</td><td>8.59</td><td>0.6463</td><td>0.3151</td><td>M</td><td>10.9</td><td>1.466</td><td>0</td><td>0</td><td>0.0008659 ..     -0.009471</td><td>Field03</td><td>--</td><td>SFGC0.661-0.051</td><td>266.8463824609953,-28.39791412467139</td><td>0</td><td>0.0</td><td>0.0</td><td>0.0</td><td>0</td><td>0.0</td><td>0.0</td><td>0.0</td><td>967</td><td>266.84638246099536,-28.39791412467139</td><td></td></tr>\n",
       "<tr><td>SFGC0.664-0.039</td><td>266.83589105284943</td><td>-28.38845008793058</td><td>-0.2047</td><td>0.3345</td><td>-0.612</td><td>0.9398</td><td>0.3997</td><td>2.351</td><td>--</td><td>--</td><td>--</td><td>-4.591</td><td>--</td><td>--</td><td>--</td><td>--</td><td>--</td><td>--</td><td>--</td><td>A</td><td>2.126e-38</td><td>1</td><td>--</td><td>--</td><td>-- .. --</td><td>15.49</td><td>0.3485</td><td>44.43</td><td>70.27</td><td>0.7857</td><td>89.43</td><td>130.1</td><td>1.288</td><td>101</td><td>4.537</td><td>1.851</td><td>50.71</td><td>0.7007</td><td>0.4986</td><td>--</td><td>--</td><td>--</td><td>M</td><td>2.126e-38</td><td>1</td><td>0</td><td>21</td><td>0.01354 ..     0.0008659</td><td>Field03</td><td>--</td><td>SFGC0.664-0.039</td><td>266.83589105284943,-28.38845008793058</td><td>110</td><td>0.7987566913209971</td><td>2.138997185406325</td><td>0.0</td><td>0</td><td>0.0</td><td>0.0</td><td>0.0</td><td>968</td><td>266.8358910528495,-28.38845008793058</td><td></td></tr>\n",
       "<tr><td>SFGC0.667-0.038</td><td>266.8368341614815</td><td>-28.38560761284377</td><td>6.555</td><td>0.1127</td><td>58.19</td><td>25.32</td><td>0.2009</td><td>126</td><td>52.64</td><td>0.2948</td><td>178.6</td><td>3.863</td><td>2.079</td><td>35.84</td><td>0.319</td><td>4.281</td><td>34.89</td><td>0.2268</td><td>2.307</td><td>A</td><td>7.253</td><td>2.274</td><td>--</td><td>--</td><td>-- .. --</td><td>125.7</td><td>0.2947</td><td>426.6</td><td>435.5</td><td>0.5541</td><td>785.8</td><td>705.9</td><td>0.7367</td><td>958.2</td><td>3.464</td><td>1.621</td><td>358.3</td><td>2.07</td><td>32.27</td><td>352.8</td><td>1.584</td><td>19.58</td><td>A</td><td>9.29</td><td>2.186</td><td>0</td><td>20</td><td>0.007228 ..        0.7467</td><td>Field01</td><td>--</td><td>SFGC0.667-0.038</td><td>266.8368341614815,-28.38560761284377</td><td>0</td><td>0.0</td><td>0.0</td><td>0.0</td><td>0</td><td>0.0</td><td>0.0</td><td>0.0</td><td>969</td><td>266.83683416148153,-28.38560761284377</td><td></td></tr>\n",
       "<tr><td>SFGC0.668-0.034</td><td>266.8335367803795</td><td>-28.38358126934335</td><td>7.157</td><td>0.1146</td><td>62.43</td><td>31.56</td><td>0.2027</td><td>155.7</td><td>61.24</td><td>0.2975</td><td>205.8</td><td>4.41</td><td>1.94</td><td>43.9</td><td>0.6019</td><td>13.84</td><td>43.66</td><td>0.3145</td><td>3.969</td><td>A</td><td>7.176</td><td>2.856</td><td>--</td><td>--</td><td>-- .. --</td><td>211.7</td><td>0.2942</td><td>719.5</td><td>634.7</td><td>0.5535</td><td>1147</td><td>850.5</td><td>0.736</td><td>1156</td><td>2.998</td><td>1.34</td><td>543.9</td><td>4.832</td><td>150.8</td><td>537.7</td><td>2.77</td><td>51.48</td><td>A</td><td>15.02</td><td>1.764</td><td>0</td><td>20</td><td>0.5493 ..     -0.001778</td><td>Field01</td><td>--</td><td>SFGC0.668-0.034</td><td>266.8335367803795,-28.38358126934335</td><td>0</td><td>0.0</td><td>0.0</td><td>0.0</td><td>0</td><td>0.0</td><td>0.0</td><td>0.0</td><td>970</td><td>266.8335367803795,-28.38358126934335</td><td></td></tr>\n",
       "</table></div>"
      ],
      "text/plain": [
       "<Table length=523>\n",
       "     SourceID         RA(J2000)      ... SSTGCxmatch\n",
       "                         deg         ...            \n",
       "     bytes17           float64       ...     str1   \n",
       "----------------- ------------------ ... -----------\n",
       "  SFGC0.018-0.062        266.4763478 ...            \n",
       "  SFGC0.513-0.047        266.7547043 ...            \n",
       "SFGC359.700+0.008 266.21776158465195 ...            \n",
       "SFGC359.456-0.067        266.1452142 ...            \n",
       "SFGC359.445-0.092        266.1634631 ...            \n",
       "  SFGC0.167-0.044  266.5470210279652 ...            \n",
       "SFGC359.933-0.053  266.4163824115693 ...            \n",
       "  SFGC0.133-0.024 266.50783155558935 ...            \n",
       "SFGC359.931-0.041  266.4033306034084 ...            \n",
       "              ...                ... ...         ...\n",
       "  SFGC0.608-0.047  266.8113042421003 ...            \n",
       "  SFGC0.632-0.026  266.8046318013615 ...            \n",
       "  SFGC0.643-0.092 266.87495668570966 ...            \n",
       "  SFGC0.643-0.093  266.8758726876464 ...            \n",
       "  SFGC0.645-0.041  266.8271987977095 ...            \n",
       "  SFGC0.648-0.035 266.82341735831307 ...            \n",
       "  SFGC0.661-0.051  266.8463824609953 ...            \n",
       "  SFGC0.664-0.039 266.83589105284943 ...            \n",
       "  SFGC0.667-0.038  266.8368341614815 ...            \n",
       "  SFGC0.668-0.034  266.8335367803795 ...            "
      ]
     },
     "execution_count": 47,
     "metadata": {},
     "output_type": "execute_result"
    }
   ],
   "source": [
    "onlymcat"
   ]
  },
  {
   "cell_type": "code",
   "execution_count": null,
   "id": "1a29cb4b",
   "metadata": {},
   "outputs": [],
   "source": []
  }
 ],
 "metadata": {
  "kernelspec": {
   "display_name": "Python 3 (ipykernel)",
   "language": "python",
   "name": "python3"
  },
  "language_info": {
   "codemirror_mode": {
    "name": "ipython",
    "version": 3
   },
   "file_extension": ".py",
   "mimetype": "text/x-python",
   "name": "python",
   "nbconvert_exporter": "python",
   "pygments_lexer": "ipython3",
   "version": "3.9.7"
  }
 },
 "nbformat": 4,
 "nbformat_minor": 5
}
