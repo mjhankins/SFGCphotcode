{
 "cells": [
  {
   "cell_type": "markdown",
   "id": "409d16dc",
   "metadata": {},
   "source": [
    "# SOFIA/FORCAST Galactic Center SSTGC X-match Notebook"
   ]
  },
  {
   "cell_type": "markdown",
   "id": "10eb3cef",
   "metadata": {},
   "source": [
    "## Preliminary Steps - Select file to use from config.py and load in required packages"
   ]
  },
  {
   "cell_type": "code",
   "execution_count": 1,
   "id": "492d222e",
   "metadata": {},
   "outputs": [],
   "source": [
    "#import all required packages\n",
    "import os\n",
    "import numpy as np\n",
    "import re\n",
    "import matplotlib.pyplot as plt\n",
    "\n",
    "from astroquery.vizier import Vizier\n",
    "from astropy.io import fits,ascii\n",
    "from astropy.wcs import WCS\n",
    "from astropy import units as u\n",
    "from astropy.stats import sigma_clipped_stats\n",
    "from astropy.table import join, vstack, hstack\n",
    "from astropy.coordinates import SkyCoord, search_around_sky, Angle\n",
    "from astropy.coordinates.matching import _get_cartesian_kdtree\n",
    "from astropy.table import join, vstack, Table\n",
    "\n",
    "from regions import read_ds9, write_ds9, CircleSkyRegion"
   ]
  },
  {
   "cell_type": "code",
   "execution_count": 2,
   "id": "ba03c8ce",
   "metadata": {},
   "outputs": [],
   "source": [
    "#import configuration for selected file\n",
    "#from config import wavelength, segdetsig, finddetsig, bkgbox #import additional common paramters\n",
    "from config import dpath, dpathalt, ds9path #import additional common paramters\n",
    "\n",
    "from config import *\n",
    "\n",
    "#wavelength=25"
   ]
  },
  {
   "cell_type": "code",
   "execution_count": 3,
   "id": "5e0c24f2",
   "metadata": {},
   "outputs": [],
   "source": [
    "def makeDS9file(savename, table, radius, color='green', labelon=False,label='ColumnName'):\n",
    "    try:\n",
    "        scs=table['sky_centroid']\n",
    "    except:\n",
    "        scs=table['skycoords']\n",
    "    \n",
    "    decimals = 1 # number of decimal places to display with labels\n",
    "    \n",
    "    #loop through and create region instances for each source\n",
    "    regions=[]\n",
    "    for i in range(0,len(scs)):\n",
    "        region = CircleSkyRegion(scs[i], radius)\n",
    "        regions.append(region)\n",
    "            #write out region file\n",
    "    write_ds9(regions, savename)\n",
    "    \n",
    "    \n",
    "    hld=\"\"\n",
    "    with open(savename, 'r+') as f:\n",
    "        lineno=0\n",
    "        for line in f:\n",
    "            if lineno<=(len(table)+1):\n",
    "                if labelon:\n",
    "                    text=line.replace(r')', r') # color='+color+' text={'+str(np.round(table[label][lineno-2],decimals))+'}')\n",
    "                else:\n",
    "                    text=line.replace(r')', r') # color='+color)\n",
    "                hld=hld+text\n",
    "                lineno=lineno+1\n",
    "        f.seek(0)\n",
    "        f.write(hld)\n",
    "        f.truncate()"
   ]
  },
  {
   "cell_type": "code",
   "execution_count": 4,
   "id": "1d9e4beb",
   "metadata": {},
   "outputs": [],
   "source": [
    "#find the 'not' indcies for sources in table\n",
    "def findNOTindex(tab,index):\n",
    "    allpos=np.linspace(0,len(tab)-1,len(tab),dtype=np.int64) \n",
    "    notindex=list(set(allpos)-set(index))\n",
    "    return notindex"
   ]
  },
  {
   "cell_type": "markdown",
   "id": "ddefb03e",
   "metadata": {},
   "source": [
    "## Load in catalog from file"
   ]
  },
  {
   "cell_type": "code",
   "execution_count": 5,
   "id": "3c9d8012",
   "metadata": {},
   "outputs": [],
   "source": [
    "#change directory to where data is\n",
    "try:\n",
    "    os.chdir(dpath)\n",
    "except:\n",
    "    os.chdir(dpathalt)"
   ]
  },
  {
   "cell_type": "code",
   "execution_count": 6,
   "id": "cddd3b7d",
   "metadata": {},
   "outputs": [],
   "source": [
    "#load in the master catalogs\n",
    "mcat=Table.read('masterCat_step3_combined.fits')"
   ]
  },
  {
   "cell_type": "code",
   "execution_count": 7,
   "id": "26e8690b",
   "metadata": {},
   "outputs": [],
   "source": [
    "#add sky coord column if not already present\n",
    "if 'skycoords' not in mcat.columns:\n",
    "\n",
    "    ras=mcat[\"RA(J2000)\"]\n",
    "    decs=mcat[\"DEC(J2000)\"]\n",
    "\n",
    "    scobj=SkyCoord(ras,decs,unit=(u.hr,u.deg))\n",
    "    mcat[\"skycoords\"]=scobj\n",
    "\n",
    "    #print catalog to see the new entry\n",
    "    mcat"
   ]
  },
  {
   "cell_type": "markdown",
   "id": "cf3baaae",
   "metadata": {},
   "source": [
    "## Use astroquery to pull down the SSTGC catalog"
   ]
  },
  {
   "cell_type": "code",
   "execution_count": 8,
   "id": "385e6268",
   "metadata": {},
   "outputs": [
    {
     "name": "stdout",
     "output_type": "stream",
     "text": [
      "{'II/295': 'Spitzer IRAC survey of the galactic center (Ramirez+, 2008)', 'J/ApJ/685/958': 'Spitzer and Chandra sources in galactic center (Arendt+ 2008)'}\n",
      "TableList with 3 tables:\n",
      "\t'0:II/295/SSTGC' with 12 column(s) and 1000000 row(s) \n",
      "\t'1:II/295/GC-IRAC' with 8 column(s) and 1000000 row(s) \n",
      "\t'2:J/ApJ/685/958/table7' with 13 column(s) and 115 row(s) \n",
      " SSTGC    RAJ2000     DEJ2000    Jmag    Hmag   ... _5.8mag _8.0mag IRAC _2M\n",
      "          \"h:m:s\"     \"d:m:s\"    mag     mag    ...   mag     mag           \n",
      "------- ----------- ----------- ------ -------- ... ------- ------- ---- ---\n",
      "0000001 17 40 10.53 -29 32 49.2 16.204   13.493 ...      --      -- IRAC  2M\n",
      "0000002 17 40 10.62 -29 31 46.3 14.699   13.021 ...      --      -- IRAC  2M\n",
      "0000003 17 40 10.69 -29 32 57.4 14.558   12.976 ...      --      -- IRAC  2M\n",
      "0000004 17 40 10.69 -29 30 49.5 14.059   11.925 ...      --      -- IRAC  2M\n",
      "0000005 17 40 10.70 -29 31 12.1 13.900   13.339 ...      --      -- IRAC  2M\n",
      "0000006 17 40 10.70 -29 31 39.0 15.886   13.522 ...      --      -- IRAC  2M\n",
      "0000007 17 40 10.71 -29 26 06.8 13.135   11.176 ...      --      -- IRAC  2M\n",
      "0000008 17 40 10.71 -29 31 01.5 12.169   10.103 ...      --      -- IRAC  2M\n",
      "0000009 17 40 10.72 -29 24 55.2 13.318   11.258 ...      --      -- IRAC  2M\n",
      "0000010 17 40 10.72 -29 25 40.5 14.723   12.647 ...      --      -- IRAC  2M\n",
      "    ...         ...         ...    ...      ... ...     ...     ...  ... ...\n",
      "0999991 17 49 32.29 -28 48 13.2 15.317   15.115 ...      --      -- IRAC  2M\n",
      "0999992 17 49 32.30 -28 10 53.4 15.479   14.162 ...      --      -- IRAC  2M\n",
      "0999993 17 49 32.30 -28 19 17.5     --       -- ...      --      -- IRAC  2M\n",
      "0999994 17 49 32.30 -28 04 16.8 15.190   12.628 ...  10.421      -- IRAC  2M\n",
      "0999995 17 49 32.30 -28 06 20.2 14.913   12.318 ...  10.154      -- IRAC  2M\n",
      "0999996 17 49 32.30 -28 13 32.8 12.918    9.988 ...   7.094   7.153 IRAC  2M\n",
      "0999997 17 49 32.30 -28 37 46.6 14.892   13.232 ...  11.917      -- IRAC  2M\n",
      "0999998 17 49 32.30 -28 09 38.6 16.066   13.387 ...      --      -- IRAC  2M\n",
      "0999999 17 49 32.30 -28 24 29.6 14.732   13.207 ...  11.453      -- IRAC  2M\n",
      "1000000 17 49 32.30 -28 35 45.3 13.011   11.496 ...   9.590   9.625 IRAC  2M\n",
      "Length = 1000000 rows\n"
     ]
    }
   ],
   "source": [
    "#online catalog query\n",
    "catalog_list = Vizier.find_catalogs('Spitzer IRAC survey of the galactic center')\n",
    "print({k:v.description for k,v in catalog_list.items()})\n",
    "\n",
    "#get the SSTGC catalog\n",
    "Vizier.ROW_LIMIT = 1000000 #increased by factor of 10, otherwise no matches are returned\n",
    "catalog_irac = Vizier.get_catalogs(catalog_list.keys())\n",
    "print(catalog_irac)\n",
    "\n",
    "sstgc = catalog_irac['II/295/SSTGC']\n",
    "print(sstgc) "
   ]
  },
  {
   "cell_type": "code",
   "execution_count": 9,
   "id": "d5426c91",
   "metadata": {},
   "outputs": [],
   "source": [
    "#only select sources with 8um counterparts\n",
    "sstgc8um=sstgc[np.isnan(sstgc[\"_8.0mag\"])==False]\n",
    "\n",
    "#sstgc8um"
   ]
  },
  {
   "cell_type": "code",
   "execution_count": 10,
   "id": "6d915d2a",
   "metadata": {},
   "outputs": [
    {
     "data": {
      "text/html": [
       "<div><i>Table length=304346</i>\n",
       "<table id=\"table2691536001296\" class=\"table-striped table-bordered table-condensed\">\n",
       "<thead><tr><th>SSTGC</th><th>RAJ2000</th><th>DEJ2000</th><th>Jmag</th><th>Hmag</th><th>Ksmag</th><th>_3.6mag</th><th>_4.5mag</th><th>_5.8mag</th><th>_8.0mag</th><th>IRAC</th><th>_2M</th><th>skycoords</th></tr></thead>\n",
       "<thead><tr><th></th><th>&quot;h:m:s&quot;</th><th>&quot;d:m:s&quot;</th><th>mag</th><th>mag</th><th>mag</th><th>mag</th><th>mag</th><th>mag</th><th>mag</th><th></th><th></th><th>deg,deg</th></tr></thead>\n",
       "<thead><tr><th>str7</th><th>str11</th><th>str11</th><th>float32</th><th>float32</th><th>float32</th><th>float32</th><th>float32</th><th>float32</th><th>float32</th><th>str4</th><th>str2</th><th>object</th></tr></thead>\n",
       "<tr><td>0000181</td><td>17 40 12.19</td><td>-29 32 20.3</td><td>--</td><td>--</td><td>--</td><td>--</td><td>--</td><td>--</td><td>10.702</td><td>IRAC</td><td>2M</td><td>265.05079166666667,-29.538972222222224</td></tr>\n",
       "<tr><td>0000192</td><td>17 40 12.23</td><td>-29 27 46.4</td><td>13.988</td><td>12.000</td><td>11.264</td><td>--</td><td>10.861</td><td>--</td><td>11.033</td><td>IRAC</td><td>2M</td><td>265.0509583333333,-29.462888888888887</td></tr>\n",
       "<tr><td>0000200</td><td>17 40 12.28</td><td>-29 23 20.8</td><td>12.667</td><td>11.304</td><td>10.812</td><td>--</td><td>--</td><td>--</td><td>10.347</td><td>IRAC</td><td>2M</td><td>265.05116666666663,-29.38911111111111</td></tr>\n",
       "<tr><td>0000267</td><td>17 40 12.60</td><td>-29 23 17.5</td><td>11.468</td><td>10.482</td><td>10.148</td><td>--</td><td>--</td><td>--</td><td>9.785</td><td>IRAC</td><td>2M</td><td>265.05249999999995,-29.388194444444444</td></tr>\n",
       "<tr><td>0000268</td><td>17 40 12.60</td><td>-29 27 53.2</td><td>12.378</td><td>10.224</td><td>9.276</td><td>--</td><td>8.534</td><td>--</td><td>8.562</td><td>IRAC</td><td>2M</td><td>265.05249999999995,-29.464777777777776</td></tr>\n",
       "<tr><td>0000280</td><td>17 40 12.69</td><td>-29 23 06.6</td><td>12.528</td><td>10.470</td><td>9.560</td><td>--</td><td>9.092</td><td>--</td><td>8.908</td><td>IRAC</td><td>2M</td><td>265.052875,-29.385166666666667</td></tr>\n",
       "<tr><td>0000337</td><td>17 40 13.00</td><td>-29 23 16.3</td><td>13.133</td><td>12.774</td><td>12.063</td><td>--</td><td>--</td><td>--</td><td>11.650</td><td>IRAC</td><td>2M</td><td>265.0541666666667,-29.38786111111111</td></tr>\n",
       "<tr><td>0000341</td><td>17 40 13.01</td><td>-29 32 43.5</td><td>11.820</td><td>9.748</td><td>8.869</td><td>--</td><td>--</td><td>--</td><td>8.199</td><td>IRAC</td><td>2M</td><td>265.05420833333335,-29.545416666666668</td></tr>\n",
       "<tr><td>0000371</td><td>17 40 13.16</td><td>-29 23 19.2</td><td>13.682</td><td>12.323</td><td>11.510</td><td>--</td><td>--</td><td>--</td><td>10.896</td><td>IRAC</td><td>2M</td><td>265.05483333333336,-29.388666666666666</td></tr>\n",
       "<tr><td>...</td><td>...</td><td>...</td><td>...</td><td>...</td><td>...</td><td>...</td><td>...</td><td>...</td><td>...</td><td>...</td><td>...</td><td>...</td></tr>\n",
       "<tr><td>0999969</td><td>17 49 32.27</td><td>-28 38 30.9</td><td>12.664</td><td>10.832</td><td>9.930</td><td>9.297</td><td>9.505</td><td>9.202</td><td>9.276</td><td>IRAC</td><td>2M</td><td>267.3844583333333,-28.641916666666667</td></tr>\n",
       "<tr><td>0999972</td><td>17 49 32.27</td><td>-28 54 22.5</td><td>14.713</td><td>11.201</td><td>9.493</td><td>8.442</td><td>8.559</td><td>8.106</td><td>8.194</td><td>IRAC</td><td>2M</td><td>267.3844583333333,-28.90625</td></tr>\n",
       "<tr><td>0999973</td><td>17 49 32.28</td><td>-29 03 41.9</td><td>11.002</td><td>8.799</td><td>7.614</td><td>--</td><td>6.506</td><td>--</td><td>6.210</td><td>IRAC</td><td>2M</td><td>267.38449999999995,-29.06163888888889</td></tr>\n",
       "<tr><td>0999977</td><td>17 49 32.28</td><td>-28 14 07.6</td><td>13.692</td><td>10.835</td><td>9.537</td><td>8.636</td><td>8.616</td><td>8.328</td><td>8.431</td><td>IRAC</td><td>2M</td><td>267.38449999999995,-28.235444444444447</td></tr>\n",
       "<tr><td>0999979</td><td>17 49 32.28</td><td>-28 40 53.1</td><td>15.916</td><td>13.037</td><td>11.851</td><td>11.009</td><td>11.080</td><td>10.444</td><td>9.721</td><td>IRAC</td><td>2M</td><td>267.38449999999995,-28.681416666666667</td></tr>\n",
       "<tr><td>0999982</td><td>17 49 32.28</td><td>-28 12 57.5</td><td>14.975</td><td>12.062</td><td>10.746</td><td>9.863</td><td>9.797</td><td>9.691</td><td>9.721</td><td>IRAC</td><td>2M</td><td>267.38449999999995,-28.21597222222222</td></tr>\n",
       "<tr><td>0999984</td><td>17 49 32.29</td><td>-28 34 19.7</td><td>13.649</td><td>12.659</td><td>11.640</td><td>10.784</td><td>10.822</td><td>10.689</td><td>10.755</td><td>IRAC</td><td>2M</td><td>267.3845416666667,-28.57213888888889</td></tr>\n",
       "<tr><td>0999985</td><td>17 49 32.29</td><td>-28 37 07.6</td><td>12.754</td><td>12.447</td><td>12.210</td><td>12.014</td><td>11.968</td><td>11.934</td><td>11.522</td><td>IRAC</td><td>2M</td><td>267.3845416666667,-28.61877777777778</td></tr>\n",
       "<tr><td>0999996</td><td>17 49 32.30</td><td>-28 13 32.8</td><td>12.918</td><td>9.988</td><td>8.555</td><td>7.437</td><td>7.437</td><td>7.094</td><td>7.153</td><td>IRAC</td><td>2M</td><td>267.3845833333333,-28.225777777777775</td></tr>\n",
       "<tr><td>1000000</td><td>17 49 32.30</td><td>-28 35 45.3</td><td>13.011</td><td>11.496</td><td>10.493</td><td>9.718</td><td>9.789</td><td>9.590</td><td>9.625</td><td>IRAC</td><td>2M</td><td>267.3845833333333,-28.595916666666664</td></tr>\n",
       "</table></div>"
      ],
      "text/plain": [
       "<Table length=304346>\n",
       " SSTGC    RAJ2000     DEJ2000   ... _2M                skycoords               \n",
       "          \"h:m:s\"     \"d:m:s\"   ...                     deg,deg                \n",
       "  str7     str11       str11    ... str2                 object                \n",
       "------- ----------- ----------- ... ---- --------------------------------------\n",
       "0000181 17 40 12.19 -29 32 20.3 ...   2M 265.05079166666667,-29.538972222222224\n",
       "0000192 17 40 12.23 -29 27 46.4 ...   2M  265.0509583333333,-29.462888888888887\n",
       "0000200 17 40 12.28 -29 23 20.8 ...   2M  265.05116666666663,-29.38911111111111\n",
       "0000267 17 40 12.60 -29 23 17.5 ...   2M 265.05249999999995,-29.388194444444444\n",
       "0000268 17 40 12.60 -29 27 53.2 ...   2M 265.05249999999995,-29.464777777777776\n",
       "0000280 17 40 12.69 -29 23 06.6 ...   2M         265.052875,-29.385166666666667\n",
       "0000337 17 40 13.00 -29 23 16.3 ...   2M   265.0541666666667,-29.38786111111111\n",
       "0000341 17 40 13.01 -29 32 43.5 ...   2M 265.05420833333335,-29.545416666666668\n",
       "0000371 17 40 13.16 -29 23 19.2 ...   2M 265.05483333333336,-29.388666666666666\n",
       "    ...         ...         ... ...  ...                                    ...\n",
       "0999969 17 49 32.27 -28 38 30.9 ...   2M  267.3844583333333,-28.641916666666667\n",
       "0999972 17 49 32.27 -28 54 22.5 ...   2M            267.3844583333333,-28.90625\n",
       "0999973 17 49 32.28 -29 03 41.9 ...   2M  267.38449999999995,-29.06163888888889\n",
       "0999977 17 49 32.28 -28 14 07.6 ...   2M 267.38449999999995,-28.235444444444447\n",
       "0999979 17 49 32.28 -28 40 53.1 ...   2M 267.38449999999995,-28.681416666666667\n",
       "0999982 17 49 32.28 -28 12 57.5 ...   2M  267.38449999999995,-28.21597222222222\n",
       "0999984 17 49 32.29 -28 34 19.7 ...   2M   267.3845416666667,-28.57213888888889\n",
       "0999985 17 49 32.29 -28 37 07.6 ...   2M   267.3845416666667,-28.61877777777778\n",
       "0999996 17 49 32.30 -28 13 32.8 ...   2M  267.3845833333333,-28.225777777777775\n",
       "1000000 17 49 32.30 -28 35 45.3 ...   2M  267.3845833333333,-28.595916666666664"
      ]
     },
     "execution_count": 10,
     "metadata": {},
     "output_type": "execute_result"
    }
   ],
   "source": [
    "#add new skycoord object to the VIZIER table for crossmatching\n",
    "ras=sstgc8um[\"RAJ2000\"]\n",
    "decs=sstgc8um[\"DEJ2000\"]\n",
    "\n",
    "scobj=SkyCoord(ras,decs,unit=(u.hr,u.deg))\n",
    "sstgc8um[\"skycoords\"]=scobj\n",
    "\n",
    "#print catalog to see the new entry\n",
    "sstgc8um"
   ]
  },
  {
   "cell_type": "markdown",
   "id": "9a85abf9",
   "metadata": {},
   "source": [
    "## Perform cross match between tables"
   ]
  },
  {
   "cell_type": "code",
   "execution_count": 11,
   "id": "514b70f8",
   "metadata": {},
   "outputs": [
    {
     "name": "stdout",
     "output_type": "stream",
     "text": [
      "Number of crossmatched sources found:  542\n"
     ]
    }
   ],
   "source": [
    "SSTGCsources=sstgc8um['skycoords']\n",
    "mcatsources=mcat['skycoords']\n",
    "\n",
    "idx,rdx, d2d, d3d = mcatsources.search_around_sky(SSTGCsources, 5*u.arcsec)\n",
    "\n",
    "print('Number of crossmatched sources found: ', len(idx))"
   ]
  },
  {
   "cell_type": "code",
   "execution_count": 12,
   "id": "2ef71f3b",
   "metadata": {},
   "outputs": [],
   "source": [
    "#create new tables containing only the crossmatched sources\n",
    "matchedSSTGC=sstgc8um[idx]\n",
    "matchedmcat=mcat[rdx]"
   ]
  },
  {
   "cell_type": "code",
   "execution_count": 13,
   "id": "2dcca55a",
   "metadata": {},
   "outputs": [
    {
     "name": "stdout",
     "output_type": "stream",
     "text": [
      "Average difference in RA:  3.178118613794382e-05 ,  Standard deviation of difference:  0.0004949475476775278\n",
      "Average difference in DEC:  -4.8795789329069306e-05 ,  Standard deviation of difference:  0.0004935337481850458\n"
     ]
    }
   ],
   "source": [
    "#Examine the positional accuracy of the cross match\n",
    "deltaRA=matchedmcat['skycoords'].ra.deg - matchedSSTGC['skycoords'].ra.deg\n",
    "deltaDEC=matchedmcat['skycoords'].dec.deg - matchedSSTGC['skycoords'].dec.deg\n",
    "\n",
    "print(\"Average difference in RA: \", np.mean(deltaRA), \",  Standard deviation of difference: \", np.std(deltaRA))\n",
    "print(\"Average difference in DEC: \", np.mean(deltaDEC), \",  Standard deviation of difference: \", np.std(deltaDEC))"
   ]
  },
  {
   "cell_type": "code",
   "execution_count": 14,
   "id": "0cc9f89c",
   "metadata": {},
   "outputs": [
    {
     "data": {
      "image/png": "[encoded data removed]",
      "text/plain": [
       "<Figure size 576x576 with 3 Axes>"
      ]
     },
     "metadata": {
      "needs_background": "light"
     },
     "output_type": "display_data"
    }
   ],
   "source": [
    "#define a 'fancy' scatter+histogram plot\n",
    "def scatter_hist(x, y, ax, ax_histx, ax_histy):\n",
    "    # no labels\n",
    "    ax_histx.tick_params(axis=\"x\", labelbottom=False)\n",
    "    ax_histy.tick_params(axis=\"y\", labelleft=False)\n",
    "\n",
    "    # the scatter plot:\n",
    "    ax.scatter(x, y)\n",
    "\n",
    "    # now determine nice limits by hand:\n",
    "    binwidth = 1e-4\n",
    "    xymax = max(np.max(np.abs(x)), np.max(np.abs(y)))\n",
    "    lim = (int(xymax/binwidth) + 1) * binwidth\n",
    "\n",
    "    bins = np.arange(-lim, lim + binwidth, binwidth)\n",
    "    ax_histx.hist(deltaRA, bins=bins)\n",
    "    ax_histy.hist(deltaDEC, bins=bins, orientation='horizontal')\n",
    "\n",
    "    \n",
    "    \n",
    "#make the scatter+hist plot for position x-match\n",
    "plt.rcParams.update({'font.size': 14})\n",
    "\n",
    "# definitions for the axes\n",
    "left, width = 1e-5, 0.65\n",
    "bottom, height = 0.0001, 0.65\n",
    "spacing = 0.005\n",
    "\n",
    "\n",
    "rect_scatter = [left, bottom, width, height]\n",
    "rect_histx = [left, bottom + height + spacing, width, 0.2]\n",
    "rect_histy = [left + width + spacing, bottom, 0.2, height]\n",
    "\n",
    "# start with a square Figure\n",
    "fig = plt.figure(figsize=(8, 8))\n",
    "\n",
    "ax = fig.add_axes(rect_scatter)\n",
    "ax_histx = fig.add_axes(rect_histx, sharex=ax)\n",
    "ax_histy = fig.add_axes(rect_histy, sharey=ax)\n",
    "\n",
    "# use the previously defined function\n",
    "scatter_hist(deltaRA, deltaDEC, ax, ax_histx, ax_histy)\n",
    "\n",
    "ax.set_xlabel('RA Difference')\n",
    "ax.set_ylabel('DEC Difference')\n",
    "\n",
    "plt.show()\n"
   ]
  },
  {
   "cell_type": "code",
   "execution_count": 15,
   "id": "fc5067dc",
   "metadata": {},
   "outputs": [],
   "source": [
    "#add cross matched SSTGC numbers to our table\n",
    "matchedmcat['SSTGCxmatch']=matchedSSTGC[\"SSTGC\"]\n",
    "\n",
    "#optional print to display\n",
    "#matchedmcat"
   ]
  },
  {
   "cell_type": "code",
   "execution_count": 16,
   "id": "3c1ccbf6",
   "metadata": {},
   "outputs": [],
   "source": [
    "#find sources in mcat that were not found in the cross match\n",
    "notrdx=findNOTindex(mcat,rdx)\n",
    "onlymcat=mcat[notrdx]\n",
    "\n",
    "onlymcat['SSTGCxmatch']=''"
   ]
  },
  {
   "cell_type": "code",
   "execution_count": 17,
   "id": "d403e768",
   "metadata": {},
   "outputs": [],
   "source": [
    "#write out a set of ds9 region files for matched and unmatched sources - useful for visual comparison\n",
    "\n",
    "#set size of regions \n",
    "r = Angle(0.00083333, u.deg) #must be in degrees - current value is r=3\"\n",
    "#write out ds9 files\n",
    "makeDS9file('mcat_matched_SSTGC.reg', matchedmcat, r, color='cyan')\n",
    "makeDS9file('mcat_nonmatched_SSTGC.reg', onlymcat, r, color='red')"
   ]
  },
  {
   "cell_type": "code",
   "execution_count": 18,
   "id": "260b93cf",
   "metadata": {},
   "outputs": [],
   "source": [
    "#create a combined table of both matched and unmatched sources\n",
    "mcatComb=vstack((matchedmcat,onlymcat))\n",
    "\n",
    "#print combined table\n",
    "#mcatComb"
   ]
  },
  {
   "cell_type": "code",
   "execution_count": 19,
   "id": "2aba35f6",
   "metadata": {},
   "outputs": [],
   "source": [
    "#write out final catalog\n",
    "mcatComb.write('masterCat_combined_step4.fits',overwrite=True)"
   ]
  },
  {
   "cell_type": "code",
   "execution_count": null,
   "id": "698bc26d",
   "metadata": {},
   "outputs": [],
   "source": []
  }
 ],
 "metadata": {
  "kernelspec": {
   "display_name": "Python 3 (ipykernel)",
   "language": "python",
   "name": "python3"
  },
  "language_info": {
   "codemirror_mode": {
    "name": "ipython",
    "version": 3
   },
   "file_extension": ".py",
   "mimetype": "text/x-python",
   "name": "python",
   "nbconvert_exporter": "python",
   "pygments_lexer": "ipython3",
   "version": "3.9.7"
  }
 },
 "nbformat": 4,
 "nbformat_minor": 5
}
