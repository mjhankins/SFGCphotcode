{
 "cells": [
  {
   "cell_type": "markdown",
   "id": "eec2d5f2",
   "metadata": {},
   "source": [
    "# SOFIA/FORCAST Galactic Center SSTGC X-match Notebook"
   ]
  },
  {
   "cell_type": "markdown",
   "id": "880687a9",
   "metadata": {},
   "source": [
    "## Preliminary Steps - Select file to use from config.py and load in required packages"
   ]
  },
  {
   "cell_type": "code",
   "execution_count": 1,
   "id": "492d222e",
   "metadata": {},
   "outputs": [],
   "source": [
    "#import all required packages\n",
    "import os\n",
    "import numpy as np\n",
    "import re\n",
    "import matplotlib.pyplot as plt\n",
    "\n",
    "from astroquery.vizier import Vizier\n",
    "from astropy.io import fits,ascii\n",
    "from astropy.wcs import WCS\n",
    "from astropy import units as u\n",
    "from astropy.stats import sigma_clipped_stats\n",
    "from astropy.table import join, vstack, hstack\n",
    "from astropy.coordinates import SkyCoord, search_around_sky, Angle\n",
    "from astropy.coordinates.matching import _get_cartesian_kdtree\n",
    "from astropy.table import join, vstack, Table\n",
    "\n",
    "from regions import read_ds9, write_ds9, CircleSkyRegion"
   ]
  },
  {
   "cell_type": "code",
   "execution_count": 2,
   "id": "b4d91a9c",
   "metadata": {},
   "outputs": [],
   "source": [
    "#import configuration for selected file\n",
    "#from config import wavelength, segdetsig, finddetsig, bkgbox #import additional common paramters\n",
    "from config import dpath, dpathalt, ds9path #import additional common paramters\n",
    "\n",
    "from config import *\n",
    "\n",
    "#wavelength=25"
   ]
  },
  {
   "cell_type": "code",
   "execution_count": 3,
   "id": "dc142fcb",
   "metadata": {},
   "outputs": [],
   "source": [
    "from FORCASTphot import makeDS9reg, findNOTindex"
   ]
  },
  {
   "cell_type": "markdown",
   "id": "2e4797c7",
   "metadata": {},
   "source": [
    "## Load in catalog from file"
   ]
  },
  {
   "cell_type": "code",
   "execution_count": 4,
   "id": "e75aaae4",
   "metadata": {},
   "outputs": [],
   "source": [
    "#change directory to where data is\n",
    "try:\n",
    "    os.chdir(dpath)\n",
    "except:\n",
    "    os.chdir(dpathalt)"
   ]
  },
  {
   "cell_type": "code",
   "execution_count": 5,
   "id": "cddd3b7d",
   "metadata": {},
   "outputs": [],
   "source": [
    "#load in the master catalogs\n",
    "mcat=Table.read('masterCat_step3_combined.fits')"
   ]
  },
  {
   "cell_type": "code",
   "execution_count": 6,
   "id": "2e086fae",
   "metadata": {},
   "outputs": [],
   "source": [
    "#add sky coord column if not already present\n",
    "if 'skycoords' not in mcat.columns:\n",
    "\n",
    "    ras=mcat[\"RA(J2000)\"]\n",
    "    decs=mcat[\"DEC(J2000)\"]\n",
    "\n",
    "    scobj=SkyCoord(ras,decs,unit=(u.hr,u.deg))\n",
    "    mcat[\"skycoords\"]=scobj\n",
    "\n",
    "    #print catalog to see the new entry\n",
    "    mcat"
   ]
  },
  {
   "cell_type": "markdown",
   "id": "eee52806",
   "metadata": {},
   "source": [
    "## Use astroquery to pull down the SSTGC catalog"
   ]
  },
  {
   "cell_type": "code",
   "execution_count": 7,
   "id": "385e6268",
   "metadata": {},
   "outputs": [
    {
     "name": "stdout",
     "output_type": "stream",
     "text": [
      "{'II/295': 'Spitzer IRAC survey of the galactic center (Ramirez+, 2008)', 'J/ApJ/685/958': 'Spitzer and Chandra sources in galactic center (Arendt+ 2008)'}\n",
      "TableList with 3 tables:\n",
      "\t'0:II/295/SSTGC' with 12 column(s) and 1000000 row(s) \n",
      "\t'1:II/295/GC-IRAC' with 8 column(s) and 1000000 row(s) \n",
      "\t'2:J/ApJ/685/958/table7' with 13 column(s) and 115 row(s) \n",
      " SSTGC    RAJ2000     DEJ2000    Jmag    Hmag   ... _5.8mag _8.0mag IRAC _2M\n",
      "          \"h:m:s\"     \"d:m:s\"    mag     mag    ...   mag     mag           \n",
      "------- ----------- ----------- ------ -------- ... ------- ------- ---- ---\n",
      "0000001 17 40 10.53 -29 32 49.2 16.204   13.493 ...      --      -- IRAC  2M\n",
      "0000002 17 40 10.62 -29 31 46.3 14.699   13.021 ...      --      -- IRAC  2M\n",
      "0000003 17 40 10.69 -29 32 57.4 14.558   12.976 ...      --      -- IRAC  2M\n",
      "0000004 17 40 10.69 -29 30 49.5 14.059   11.925 ...      --      -- IRAC  2M\n",
      "0000005 17 40 10.70 -29 31 12.1 13.900   13.339 ...      --      -- IRAC  2M\n",
      "0000006 17 40 10.70 -29 31 39.0 15.886   13.522 ...      --      -- IRAC  2M\n",
      "0000007 17 40 10.71 -29 26 06.8 13.135   11.176 ...      --      -- IRAC  2M\n",
      "0000008 17 40 10.71 -29 31 01.5 12.169   10.103 ...      --      -- IRAC  2M\n",
      "0000009 17 40 10.72 -29 24 55.2 13.318   11.258 ...      --      -- IRAC  2M\n",
      "0000010 17 40 10.72 -29 25 40.5 14.723   12.647 ...      --      -- IRAC  2M\n",
      "    ...         ...         ...    ...      ... ...     ...     ...  ... ...\n",
      "0999991 17 49 32.29 -28 48 13.2 15.317   15.115 ...      --      -- IRAC  2M\n",
      "0999992 17 49 32.30 -28 10 53.4 15.479   14.162 ...      --      -- IRAC  2M\n",
      "0999993 17 49 32.30 -28 19 17.5     --       -- ...      --      -- IRAC  2M\n",
      "0999994 17 49 32.30 -28 04 16.8 15.190   12.628 ...  10.421      -- IRAC  2M\n",
      "0999995 17 49 32.30 -28 06 20.2 14.913   12.318 ...  10.154      -- IRAC  2M\n",
      "0999996 17 49 32.30 -28 13 32.8 12.918    9.988 ...   7.094   7.153 IRAC  2M\n",
      "0999997 17 49 32.30 -28 37 46.6 14.892   13.232 ...  11.917      -- IRAC  2M\n",
      "0999998 17 49 32.30 -28 09 38.6 16.066   13.387 ...      --      -- IRAC  2M\n",
      "0999999 17 49 32.30 -28 24 29.6 14.732   13.207 ...  11.453      -- IRAC  2M\n",
      "1000000 17 49 32.30 -28 35 45.3 13.011   11.496 ...   9.590   9.625 IRAC  2M\n",
      "Length = 1000000 rows\n"
     ]
    }
   ],
   "source": [
    "#online catalog query\n",
    "catalog_list = Vizier.find_catalogs('Spitzer IRAC survey of the galactic center')\n",
    "print({k:v.description for k,v in catalog_list.items()})\n",
    "\n",
    "#get the SSTGC catalog\n",
    "Vizier.ROW_LIMIT = 1000000 #increased by factor of 10, otherwise no matches are returned\n",
    "catalog_irac = Vizier.get_catalogs(catalog_list.keys())\n",
    "print(catalog_irac)\n",
    "\n",
    "sstgc = catalog_irac['II/295/SSTGC']\n",
    "print(sstgc) "
   ]
  },
  {
   "cell_type": "code",
   "execution_count": 8,
   "id": "039e69bf",
   "metadata": {},
   "outputs": [],
   "source": [
    "#only select sources with 8um counterparts\n",
    "sstgc8um=sstgc[np.isnan(sstgc[\"_8.0mag\"])==False]\n",
    "\n",
    "#sstgc8um"
   ]
  },
  {
   "cell_type": "code",
   "execution_count": 9,
   "id": "6d915d2a",
   "metadata": {},
   "outputs": [
    {
     "data": {
      "text/html": [
       "<div><i>Table length=304346</i>\n",
       "<table id=\"table1748749592080\" class=\"table-striped table-bordered table-condensed\">\n",
       "<thead><tr><th>SSTGC</th><th>RAJ2000</th><th>DEJ2000</th><th>Jmag</th><th>Hmag</th><th>Ksmag</th><th>_3.6mag</th><th>_4.5mag</th><th>_5.8mag</th><th>_8.0mag</th><th>IRAC</th><th>_2M</th><th>skycoords</th></tr></thead>\n",
       "<thead><tr><th></th><th>&quot;h:m:s&quot;</th><th>&quot;d:m:s&quot;</th><th>mag</th><th>mag</th><th>mag</th><th>mag</th><th>mag</th><th>mag</th><th>mag</th><th></th><th></th><th>deg,deg</th></tr></thead>\n",
       "<thead><tr><th>str7</th><th>str11</th><th>str11</th><th>float32</th><th>float32</th><th>float32</th><th>float32</th><th>float32</th><th>float32</th><th>float32</th><th>str4</th><th>str2</th><th>object</th></tr></thead>\n",
       "<tr><td>0000181</td><td>17 40 12.19</td><td>-29 32 20.3</td><td>--</td><td>--</td><td>--</td><td>--</td><td>--</td><td>--</td><td>10.702</td><td>IRAC</td><td>2M</td><td>265.05079166666667,-29.538972222222224</td></tr>\n",
       "<tr><td>0000192</td><td>17 40 12.23</td><td>-29 27 46.4</td><td>13.988</td><td>12.000</td><td>11.264</td><td>--</td><td>10.861</td><td>--</td><td>11.033</td><td>IRAC</td><td>2M</td><td>265.0509583333333,-29.462888888888887</td></tr>\n",
       "<tr><td>0000200</td><td>17 40 12.28</td><td>-29 23 20.8</td><td>12.667</td><td>11.304</td><td>10.812</td><td>--</td><td>--</td><td>--</td><td>10.347</td><td>IRAC</td><td>2M</td><td>265.05116666666663,-29.38911111111111</td></tr>\n",
       "<tr><td>0000267</td><td>17 40 12.60</td><td>-29 23 17.5</td><td>11.468</td><td>10.482</td><td>10.148</td><td>--</td><td>--</td><td>--</td><td>9.785</td><td>IRAC</td><td>2M</td><td>265.05249999999995,-29.388194444444444</td></tr>\n",
       "<tr><td>0000268</td><td>17 40 12.60</td><td>-29 27 53.2</td><td>12.378</td><td>10.224</td><td>9.276</td><td>--</td><td>8.534</td><td>--</td><td>8.562</td><td>IRAC</td><td>2M</td><td>265.05249999999995,-29.464777777777776</td></tr>\n",
       "<tr><td>0000280</td><td>17 40 12.69</td><td>-29 23 06.6</td><td>12.528</td><td>10.470</td><td>9.560</td><td>--</td><td>9.092</td><td>--</td><td>8.908</td><td>IRAC</td><td>2M</td><td>265.052875,-29.385166666666667</td></tr>\n",
       "<tr><td>0000337</td><td>17 40 13.00</td><td>-29 23 16.3</td><td>13.133</td><td>12.774</td><td>12.063</td><td>--</td><td>--</td><td>--</td><td>11.650</td><td>IRAC</td><td>2M</td><td>265.0541666666667,-29.38786111111111</td></tr>\n",
       "<tr><td>0000341</td><td>17 40 13.01</td><td>-29 32 43.5</td><td>11.820</td><td>9.748</td><td>8.869</td><td>--</td><td>--</td><td>--</td><td>8.199</td><td>IRAC</td><td>2M</td><td>265.05420833333335,-29.545416666666668</td></tr>\n",
       "<tr><td>0000371</td><td>17 40 13.16</td><td>-29 23 19.2</td><td>13.682</td><td>12.323</td><td>11.510</td><td>--</td><td>--</td><td>--</td><td>10.896</td><td>IRAC</td><td>2M</td><td>265.05483333333336,-29.388666666666666</td></tr>\n",
       "<tr><td>...</td><td>...</td><td>...</td><td>...</td><td>...</td><td>...</td><td>...</td><td>...</td><td>...</td><td>...</td><td>...</td><td>...</td><td>...</td></tr>\n",
       "<tr><td>0999969</td><td>17 49 32.27</td><td>-28 38 30.9</td><td>12.664</td><td>10.832</td><td>9.930</td><td>9.297</td><td>9.505</td><td>9.202</td><td>9.276</td><td>IRAC</td><td>2M</td><td>267.3844583333333,-28.641916666666667</td></tr>\n",
       "<tr><td>0999972</td><td>17 49 32.27</td><td>-28 54 22.5</td><td>14.713</td><td>11.201</td><td>9.493</td><td>8.442</td><td>8.559</td><td>8.106</td><td>8.194</td><td>IRAC</td><td>2M</td><td>267.3844583333333,-28.90625</td></tr>\n",
       "<tr><td>0999973</td><td>17 49 32.28</td><td>-29 03 41.9</td><td>11.002</td><td>8.799</td><td>7.614</td><td>--</td><td>6.506</td><td>--</td><td>6.210</td><td>IRAC</td><td>2M</td><td>267.38449999999995,-29.06163888888889</td></tr>\n",
       "<tr><td>0999977</td><td>17 49 32.28</td><td>-28 14 07.6</td><td>13.692</td><td>10.835</td><td>9.537</td><td>8.636</td><td>8.616</td><td>8.328</td><td>8.431</td><td>IRAC</td><td>2M</td><td>267.38449999999995,-28.235444444444447</td></tr>\n",
       "<tr><td>0999979</td><td>17 49 32.28</td><td>-28 40 53.1</td><td>15.916</td><td>13.037</td><td>11.851</td><td>11.009</td><td>11.080</td><td>10.444</td><td>9.721</td><td>IRAC</td><td>2M</td><td>267.38449999999995,-28.681416666666667</td></tr>\n",
       "<tr><td>0999982</td><td>17 49 32.28</td><td>-28 12 57.5</td><td>14.975</td><td>12.062</td><td>10.746</td><td>9.863</td><td>9.797</td><td>9.691</td><td>9.721</td><td>IRAC</td><td>2M</td><td>267.38449999999995,-28.21597222222222</td></tr>\n",
       "<tr><td>0999984</td><td>17 49 32.29</td><td>-28 34 19.7</td><td>13.649</td><td>12.659</td><td>11.640</td><td>10.784</td><td>10.822</td><td>10.689</td><td>10.755</td><td>IRAC</td><td>2M</td><td>267.3845416666667,-28.57213888888889</td></tr>\n",
       "<tr><td>0999985</td><td>17 49 32.29</td><td>-28 37 07.6</td><td>12.754</td><td>12.447</td><td>12.210</td><td>12.014</td><td>11.968</td><td>11.934</td><td>11.522</td><td>IRAC</td><td>2M</td><td>267.3845416666667,-28.61877777777778</td></tr>\n",
       "<tr><td>0999996</td><td>17 49 32.30</td><td>-28 13 32.8</td><td>12.918</td><td>9.988</td><td>8.555</td><td>7.437</td><td>7.437</td><td>7.094</td><td>7.153</td><td>IRAC</td><td>2M</td><td>267.3845833333333,-28.225777777777775</td></tr>\n",
       "<tr><td>1000000</td><td>17 49 32.30</td><td>-28 35 45.3</td><td>13.011</td><td>11.496</td><td>10.493</td><td>9.718</td><td>9.789</td><td>9.590</td><td>9.625</td><td>IRAC</td><td>2M</td><td>267.3845833333333,-28.595916666666664</td></tr>\n",
       "</table></div>"
      ],
      "text/plain": [
       "<Table length=304346>\n",
       " SSTGC    RAJ2000     DEJ2000   ... _2M                skycoords               \n",
       "          \"h:m:s\"     \"d:m:s\"   ...                     deg,deg                \n",
       "  str7     str11       str11    ... str2                 object                \n",
       "------- ----------- ----------- ... ---- --------------------------------------\n",
       "0000181 17 40 12.19 -29 32 20.3 ...   2M 265.05079166666667,-29.538972222222224\n",
       "0000192 17 40 12.23 -29 27 46.4 ...   2M  265.0509583333333,-29.462888888888887\n",
       "0000200 17 40 12.28 -29 23 20.8 ...   2M  265.05116666666663,-29.38911111111111\n",
       "0000267 17 40 12.60 -29 23 17.5 ...   2M 265.05249999999995,-29.388194444444444\n",
       "0000268 17 40 12.60 -29 27 53.2 ...   2M 265.05249999999995,-29.464777777777776\n",
       "0000280 17 40 12.69 -29 23 06.6 ...   2M         265.052875,-29.385166666666667\n",
       "0000337 17 40 13.00 -29 23 16.3 ...   2M   265.0541666666667,-29.38786111111111\n",
       "0000341 17 40 13.01 -29 32 43.5 ...   2M 265.05420833333335,-29.545416666666668\n",
       "0000371 17 40 13.16 -29 23 19.2 ...   2M 265.05483333333336,-29.388666666666666\n",
       "    ...         ...         ... ...  ...                                    ...\n",
       "0999969 17 49 32.27 -28 38 30.9 ...   2M  267.3844583333333,-28.641916666666667\n",
       "0999972 17 49 32.27 -28 54 22.5 ...   2M            267.3844583333333,-28.90625\n",
       "0999973 17 49 32.28 -29 03 41.9 ...   2M  267.38449999999995,-29.06163888888889\n",
       "0999977 17 49 32.28 -28 14 07.6 ...   2M 267.38449999999995,-28.235444444444447\n",
       "0999979 17 49 32.28 -28 40 53.1 ...   2M 267.38449999999995,-28.681416666666667\n",
       "0999982 17 49 32.28 -28 12 57.5 ...   2M  267.38449999999995,-28.21597222222222\n",
       "0999984 17 49 32.29 -28 34 19.7 ...   2M   267.3845416666667,-28.57213888888889\n",
       "0999985 17 49 32.29 -28 37 07.6 ...   2M   267.3845416666667,-28.61877777777778\n",
       "0999996 17 49 32.30 -28 13 32.8 ...   2M  267.3845833333333,-28.225777777777775\n",
       "1000000 17 49 32.30 -28 35 45.3 ...   2M  267.3845833333333,-28.595916666666664"
      ]
     },
     "execution_count": 9,
     "metadata": {},
     "output_type": "execute_result"
    }
   ],
   "source": [
    "#add new skycoord object to the VIZIER table for crossmatching\n",
    "ras=sstgc8um[\"RAJ2000\"]\n",
    "decs=sstgc8um[\"DEJ2000\"]\n",
    "\n",
    "scobj=SkyCoord(ras,decs,unit=(u.hr,u.deg))\n",
    "sstgc8um[\"skycoords\"]=scobj\n",
    "\n",
    "#print catalog to see the new entry\n",
    "sstgc8um"
   ]
  },
  {
   "cell_type": "markdown",
   "id": "d1032e4b",
   "metadata": {},
   "source": [
    "## Perform cross match between tables"
   ]
  },
  {
   "cell_type": "code",
   "execution_count": 10,
   "id": "514b70f8",
   "metadata": {},
   "outputs": [
    {
     "name": "stdout",
     "output_type": "stream",
     "text": [
      "Number of crossmatched sources found:  508\n"
     ]
    }
   ],
   "source": [
    "SSTGCsources=sstgc8um['skycoords']\n",
    "mcatsources=mcat['skycoords']\n",
    "\n",
    "idx,rdx, d2d, d3d = mcatsources.search_around_sky(SSTGCsources, 5*u.arcsec)\n",
    "\n",
    "print('Number of crossmatched sources found: ', len(idx))"
   ]
  },
  {
   "cell_type": "code",
   "execution_count": 11,
   "id": "2ef71f3b",
   "metadata": {},
   "outputs": [],
   "source": [
    "#create new tables containing only the crossmatched sources\n",
    "matchedSSTGC=sstgc8um[idx]\n",
    "matchedmcat=mcat[rdx]"
   ]
  },
  {
   "cell_type": "code",
   "execution_count": 12,
   "id": "2dcca55a",
   "metadata": {},
   "outputs": [
    {
     "name": "stdout",
     "output_type": "stream",
     "text": [
      "Average difference in RA:  2.6805048826186138e-05 ,  Standard deviation of difference:  0.0005035802207829786\n",
      "Average difference in DEC:  -3.180721298394156e-05 ,  Standard deviation of difference:  0.0004956962025815006\n"
     ]
    }
   ],
   "source": [
    "#Examine the positional accuracy of the cross match\n",
    "deltaRA=matchedmcat['skycoords'].ra.deg - matchedSSTGC['skycoords'].ra.deg\n",
    "deltaDEC=matchedmcat['skycoords'].dec.deg - matchedSSTGC['skycoords'].dec.deg\n",
    "\n",
    "print(\"Average difference in RA: \", np.mean(deltaRA), \",  Standard deviation of difference: \", np.std(deltaRA))\n",
    "print(\"Average difference in DEC: \", np.mean(deltaDEC), \",  Standard deviation of difference: \", np.std(deltaDEC))"
   ]
  },
  {
   "cell_type": "code",
   "execution_count": 13,
   "id": "0cc9f89c",
   "metadata": {},
   "outputs": [
    {
     "data": {
      "image/png": "[encoded data removed]",
      "text/plain": [
       "<Figure size 576x576 with 3 Axes>"
      ]
     },
     "metadata": {
      "needs_background": "light"
     },
     "output_type": "display_data"
    }
   ],
   "source": [
    "#define a 'fancy' scatter+histogram plot\n",
    "def scatter_hist(x, y, ax, ax_histx, ax_histy):\n",
    "    # no labels\n",
    "    ax_histx.tick_params(axis=\"x\", labelbottom=False)\n",
    "    ax_histy.tick_params(axis=\"y\", labelleft=False)\n",
    "\n",
    "    # the scatter plot:\n",
    "    ax.scatter(x, y)\n",
    "\n",
    "    # now determine nice limits by hand:\n",
    "    binwidth = 1e-4\n",
    "    xymax = max(np.max(np.abs(x)), np.max(np.abs(y)))\n",
    "    lim = (int(xymax/binwidth) + 1) * binwidth\n",
    "\n",
    "    bins = np.arange(-lim, lim + binwidth, binwidth)\n",
    "    ax_histx.hist(deltaRA, bins=bins)\n",
    "    ax_histy.hist(deltaDEC, bins=bins, orientation='horizontal')\n",
    "\n",
    "    \n",
    "    \n",
    "#make the scatter+hist plot for position x-match\n",
    "plt.rcParams.update({'font.size': 14})\n",
    "\n",
    "# definitions for the axes\n",
    "left, width = 1e-5, 0.65\n",
    "bottom, height = 0.0001, 0.65\n",
    "spacing = 0.005\n",
    "\n",
    "\n",
    "rect_scatter = [left, bottom, width, height]\n",
    "rect_histx = [left, bottom + height + spacing, width, 0.2]\n",
    "rect_histy = [left + width + spacing, bottom, 0.2, height]\n",
    "\n",
    "# start with a square Figure\n",
    "fig = plt.figure(figsize=(8, 8))\n",
    "\n",
    "ax = fig.add_axes(rect_scatter)\n",
    "ax_histx = fig.add_axes(rect_histx, sharex=ax)\n",
    "ax_histy = fig.add_axes(rect_histy, sharey=ax)\n",
    "\n",
    "# use the previously defined function\n",
    "scatter_hist(deltaRA, deltaDEC, ax, ax_histx, ax_histy)\n",
    "\n",
    "ax.set_xlabel('RA Difference')\n",
    "ax.set_ylabel('DEC Difference')\n",
    "\n",
    "plt.show()\n"
   ]
  },
  {
   "cell_type": "code",
   "execution_count": 14,
   "id": "1d16d430",
   "metadata": {},
   "outputs": [],
   "source": [
    "#add cross matched SSTGC numbers to our table\n",
    "matchedmcat['SSTGCxmatch']=matchedSSTGC[\"SSTGC\"]\n",
    "\n",
    "#optional print to display\n",
    "#matchedmcat"
   ]
  },
  {
   "cell_type": "code",
   "execution_count": 15,
   "id": "c570084c",
   "metadata": {},
   "outputs": [],
   "source": [
    "#find sources in mcat that were not found in the cross match\n",
    "notrdx=findNOTindex(mcat,rdx)\n",
    "onlymcat=mcat[notrdx]\n",
    "\n",
    "onlymcat['SSTGCxmatch']=''"
   ]
  },
  {
   "cell_type": "code",
   "execution_count": 16,
   "id": "ac1d476f",
   "metadata": {},
   "outputs": [],
   "source": [
    "#write out a set of ds9 region files for matched and unmatched sources - useful for visual comparison\n",
    "\n",
    "#set size of regions \n",
    "r = Angle(0.00083333, u.deg) #must be in degrees - current value is r=3\"\n",
    "#write out ds9 files\n",
    "makeDS9reg('mcat_matched_SSTGC.reg', matchedmcat, r, color='cyan');\n",
    "makeDS9reg('mcat_nonmatched_SSTGC.reg', onlymcat, r, color='red');"
   ]
  },
  {
   "cell_type": "code",
   "execution_count": 17,
   "id": "728f2079",
   "metadata": {
    "scrolled": true
   },
   "outputs": [
    {
     "data": {
      "text/html": [
       "<div><i>Table length=796</i>\n",
       "<table id=\"table1748750279392\" class=\"table-striped table-bordered table-condensed\">\n",
       "<thead><tr><th>SourceID</th><th>RA(J2000)</th><th>DEC(J2000)</th><th>25um_Flux_4pix</th><th>25um_Flux_err_4pix</th><th>25um_SNR_4pix</th><th>25um_Flux_8pix</th><th>25um_Flux_err_8pix</th><th>25um_SNR_8pix</th><th>25um_Flux_12pix</th><th>25um_Flux_err_12pix</th><th>25um_SNR_12pix</th><th>25ApRatio8_4</th><th>25ApRatio12_8</th><th>fwhm25</th><th>elong25</th><th>bkg_qflag25</th><th>shape_qflag25</th><th>cutout25 [25,25]</th><th>37um_Flux_5.5pix</th><th>37um_Flux_err_5.5pix</th><th>37um_SNR_5.5pix</th><th>37um_Flux_10.5pix</th><th>37um_Flux_err_10.5pix</th><th>37um_SNR_10.5pix</th><th>37um_Flux_14pix</th><th>37um_Flux_err_14pix</th><th>37um_SNR_14pix</th><th>37ApRatio10.5_5.5</th><th>37ApRatio14_10.5</th><th>fwhm37</th><th>elong37</th><th>bkg_qflag37</th><th>shape_qflag37</th><th>cutout37 [31,31]</th><th>sky_centroid</th><th>25phot_qflag</th><th>37phot_qflag</th><th>skycoords</th><th>SSTGCxmatch</th></tr></thead>\n",
       "<thead><tr><th></th><th>deg</th><th>deg</th><th></th><th></th><th></th><th></th><th></th><th></th><th></th><th></th><th></th><th></th><th></th><th>pix</th><th></th><th></th><th></th><th></th><th></th><th></th><th></th><th></th><th></th><th></th><th></th><th></th><th></th><th></th><th></th><th>pix</th><th></th><th></th><th></th><th></th><th>deg,deg</th><th></th><th></th><th>deg,deg</th><th></th></tr></thead>\n",
       "<thead><tr><th>bytes17</th><th>float64</th><th>float64</th><th>float64</th><th>float64</th><th>float64</th><th>float64</th><th>float64</th><th>float64</th><th>float64</th><th>float64</th><th>float64</th><th>float64</th><th>float64</th><th>float64</th><th>float64</th><th>int32</th><th>int32</th><th>float64</th><th>float64</th><th>float64</th><th>float64</th><th>float64</th><th>float64</th><th>float64</th><th>float64</th><th>float64</th><th>float64</th><th>float64</th><th>float64</th><th>float64</th><th>float64</th><th>int32</th><th>int32</th><th>float64</th><th>object</th><th>int32</th><th>int32</th><th>object</th><th>str7</th></tr></thead>\n",
       "<tr><td>SFGC359.410+0.032</td><td>266.02006908793686</td><td>-29.42252156100146</td><td>2.435</td><td>0.7414</td><td>3.284</td><td>6.285</td><td>1.479</td><td>4.248</td><td>9.391</td><td>2.227</td><td>4.217</td><td>2.581</td><td>1.494</td><td>5.239</td><td>1.101</td><td>0</td><td>0</td><td>-0.003855 ..      0.001206</td><td>6.227</td><td>1.503</td><td>4.142</td><td>16.92</td><td>2.902</td><td>5.831</td><td>23.58</td><td>3.897</td><td>6.051</td><td>2.717</td><td>1.394</td><td>6.028</td><td>1.144</td><td>0</td><td>0</td><td>0.02183 ..     -0.008483</td><td>266.02006908793686,-29.42252156100146</td><td>0</td><td>0</td><td>266.02006908793686,-29.42252156100146</td><td>0279533</td></tr>\n",
       "<tr><td>SFGC359.410+0.032</td><td>266.02006908793686</td><td>-29.42252156100146</td><td>2.435</td><td>0.7414</td><td>3.284</td><td>6.285</td><td>1.479</td><td>4.248</td><td>9.391</td><td>2.227</td><td>4.217</td><td>2.581</td><td>1.494</td><td>5.239</td><td>1.101</td><td>0</td><td>0</td><td>-0.003855 ..      0.001206</td><td>4.396</td><td>1.433</td><td>3.068</td><td>12.28</td><td>2.77</td><td>4.433</td><td>17.11</td><td>3.724</td><td>4.595</td><td>2.794</td><td>1.393</td><td>6.158</td><td>1.867</td><td>0</td><td>0</td><td>0.0115 ..       0.01695</td><td>266.02006908793686,-29.42252156100146</td><td>0</td><td>0</td><td>266.02006908793686,-29.42252156100146</td><td>0279533</td></tr>\n",
       "<tr><td>SFGC359.410+0.032</td><td>266.02006908793686</td><td>-29.42252156100146</td><td>2.435</td><td>0.7414</td><td>3.284</td><td>6.285</td><td>1.479</td><td>4.248</td><td>9.391</td><td>2.227</td><td>4.217</td><td>2.581</td><td>1.494</td><td>5.239</td><td>1.101</td><td>0</td><td>0</td><td>-0.003855 ..      0.001206</td><td>6.227</td><td>1.503</td><td>4.142</td><td>16.92</td><td>2.902</td><td>5.831</td><td>23.58</td><td>3.897</td><td>6.051</td><td>2.717</td><td>1.394</td><td>6.028</td><td>1.144</td><td>0</td><td>0</td><td>0.02183 ..     -0.008483</td><td>266.02006908793686,-29.42252156100146</td><td>0</td><td>0</td><td>266.02006908793686,-29.42252156100146</td><td>0279869</td></tr>\n",
       "<tr><td>SFGC359.410+0.032</td><td>266.02006908793686</td><td>-29.42252156100146</td><td>2.435</td><td>0.7414</td><td>3.284</td><td>6.285</td><td>1.479</td><td>4.248</td><td>9.391</td><td>2.227</td><td>4.217</td><td>2.581</td><td>1.494</td><td>5.239</td><td>1.101</td><td>0</td><td>0</td><td>-0.003855 ..      0.001206</td><td>4.396</td><td>1.433</td><td>3.068</td><td>12.28</td><td>2.77</td><td>4.433</td><td>17.11</td><td>3.724</td><td>4.595</td><td>2.794</td><td>1.393</td><td>6.158</td><td>1.867</td><td>0</td><td>0</td><td>0.0115 ..       0.01695</td><td>266.02006908793686,-29.42252156100146</td><td>0</td><td>0</td><td>266.02006908793686,-29.42252156100146</td><td>0279869</td></tr>\n",
       "<tr><td>SFGC359.429+0.035</td><td>266.0287822033286</td><td>-29.404757121008238</td><td>3.291</td><td>0.7084</td><td>4.645</td><td>8.403</td><td>1.413</td><td>-1</td><td>10.76</td><td>2.12</td><td>-1</td><td>-1</td><td>-1</td><td>4.054</td><td>1.058</td><td>0</td><td>0</td><td>-0.001938 ..      0.003537</td><td>7.14</td><td>1.348</td><td>5.297</td><td>8.917</td><td>2.571</td><td>3.468</td><td>19.03</td><td>3.428</td><td>-1</td><td>1.249</td><td>-1</td><td>4.342</td><td>1.01</td><td>0</td><td>0</td><td>-0.001818 ..      -0.02405</td><td>266.0287822033286,-29.404757121008238</td><td>11</td><td>1</td><td>266.0287822033286,-29.404757121008238</td><td>0284291</td></tr>\n",
       "<tr><td>SFGC359.423+0.015</td><td>266.0446602894267</td><td>-29.42060261184013</td><td>3.171</td><td>0.7043</td><td>4.502</td><td>6.016</td><td>1.409</td><td>4.271</td><td>7.327</td><td>2.12</td><td>3.456</td><td>1.897</td><td>1.218</td><td>4.867</td><td>1.552</td><td>0</td><td>0</td><td>0.001956 ..      0.002981</td><td>14.2</td><td>1.371</td><td>10.36</td><td>25.6</td><td>2.616</td><td>9.786</td><td>30.13</td><td>3.488</td><td>8.637</td><td>1.803</td><td>1.177</td><td>4.988</td><td>1.65</td><td>0</td><td>0</td><td>-0.001461 ..       0.01888</td><td>266.0446602894267,-29.42060261184013</td><td>0</td><td>0</td><td>266.0446602894267,-29.42060261184013</td><td>0292486</td></tr>\n",
       "<tr><td>SFGC359.435+0.022</td><td>266.04485626247106</td><td>-29.406669356629006</td><td>2.852</td><td>0.7014</td><td>4.066</td><td>5.84</td><td>1.4</td><td>4.171</td><td>7.185</td><td>2.102</td><td>3.418</td><td>2.048</td><td>1.23</td><td>4.904</td><td>1.467</td><td>0</td><td>0</td><td>-0.008663 ..     -0.003829</td><td>5.086</td><td>1.364</td><td>3.728</td><td>9.408</td><td>2.602</td><td>3.615</td><td>11.29</td><td>3.469</td><td>3.256</td><td>1.85</td><td>1.2</td><td>5.147</td><td>1.506</td><td>0</td><td>0</td><td>-0.005275 ..     -0.008264</td><td>266.04485626247106,-29.406669356629006</td><td>0</td><td>0</td><td>266.04485626247106,-29.406669356629006</td><td>0292687</td></tr>\n",
       "<tr><td>SFGC359.404+0.001</td><td>266.04694161813114</td><td>-29.444187095468855</td><td>2.841</td><td>0.883</td><td>3.218</td><td>10.37</td><td>1.786</td><td>-1</td><td>14.07</td><td>2.704</td><td>-1</td><td>-1</td><td>-1</td><td>4.644</td><td>1.154</td><td>0</td><td>0</td><td>0.002236 ..      0.002227</td><td>8.259</td><td>1.663</td><td>4.965</td><td>13.81</td><td>3.206</td><td>4.309</td><td>14.98</td><td>4.332</td><td>3.458</td><td>1.672</td><td>1.084</td><td>4.686</td><td>1.274</td><td>0</td><td>0</td><td>0.006502 ..    -0.0004415</td><td>266.04694161813114,-29.444187095468855</td><td>11</td><td>0</td><td>266.04694161813114,-29.444187095468855</td><td>0293528</td></tr>\n",
       "<tr><td>SFGC359.448+0.014</td><td>266.0609442895529</td><td>-29.39988543418066</td><td>3.479</td><td>0.7093</td><td>-1</td><td>7.111</td><td>1.415</td><td>-1</td><td>9.764</td><td>2.133</td><td>-1</td><td>-1</td><td>-1</td><td>5.16</td><td>1.437</td><td>--</td><td>--</td><td>-- .. --</td><td>4.432</td><td>1.355</td><td>3.271</td><td>9.496</td><td>2.585</td><td>3.673</td><td>11.64</td><td>3.445</td><td>3.38</td><td>2.143</td><td>1.226</td><td>5.449</td><td>1.168</td><td>0</td><td>0</td><td>0.008889 ..      0.003281</td><td>266.0609442895529,-29.39988543418066</td><td>111</td><td>0</td><td>266.0609442895529,-29.39988543418066</td><td>0300687</td></tr>\n",
       "<tr><td>...</td><td>...</td><td>...</td><td>...</td><td>...</td><td>...</td><td>...</td><td>...</td><td>...</td><td>...</td><td>...</td><td>...</td><td>...</td><td>...</td><td>...</td><td>...</td><td>...</td><td>...</td><td>...</td><td>...</td><td>...</td><td>...</td><td>...</td><td>...</td><td>...</td><td>...</td><td>...</td><td>...</td><td>...</td><td>...</td><td>...</td><td>...</td><td>...</td><td>...</td><td>...</td><td>...</td><td>...</td><td>...</td><td>...</td><td>...</td></tr>\n",
       "<tr><td>SFGC0.148-0.037</td><td>266.52900783837674</td><td>-28.829323180852665</td><td>1.814</td><td>0.1207</td><td>15.02</td><td>3.55</td><td>0.1665</td><td>21.32</td><td>4.116</td><td>0.2329</td><td>17.67</td><td>1.957</td><td>1.16</td><td>5.82</td><td>1.88</td><td>0</td><td>0</td><td>0.001314 ..        0.0186</td><td>2.42</td><td>0.3319</td><td>7.293</td><td>4.153</td><td>0.7101</td><td>-1</td><td>2.952</td><td>0.738</td><td>4.001</td><td>-1</td><td>-1</td><td>7.444</td><td>2.253</td><td>--</td><td>--</td><td>-- .. --</td><td>266.52900783837674,-28.829323180852665</td><td>0</td><td>10</td><td>266.5290078383768,-28.829323180852665</td><td></td></tr>\n",
       "<tr><td>SFGC0.148+0.023</td><td>266.47079769151617</td><td>-28.79740421013856</td><td>2.518</td><td>0.09921</td><td>25.38</td><td>7.553</td><td>0.1547</td><td>48.84</td><td>12.69</td><td>0.2212</td><td>57.37</td><td>2.999</td><td>1.68</td><td>5.889</td><td>1.406</td><td>0</td><td>0</td><td>-0.001209 ..      0.009238</td><td>8.298</td><td>0.2329</td><td>35.63</td><td>25.71</td><td>0.3957</td><td>64.97</td><td>40.86</td><td>0.5211</td><td>78.41</td><td>3.098</td><td>1.589</td><td>5.584</td><td>1.446</td><td>--</td><td>--</td><td>-- .. --</td><td>266.47079769151617,-28.79740421013856</td><td>0</td><td>0</td><td>266.47079769151617,-28.79740421013856</td><td></td></tr>\n",
       "<tr><td>SFGC0.151-0.032</td><td>266.52608735216387</td><td>-28.823601122442334</td><td>1.663</td><td>0.1344</td><td>12.37</td><td>4.325</td><td>0.1634</td><td>26.47</td><td>6.558</td><td>0.2198</td><td>29.84</td><td>2.601</td><td>1.516</td><td>6.875</td><td>2.459</td><td>0</td><td>0</td><td>-0.02644 ..      -0.01791</td><td>7.782</td><td>0.2185</td><td>35.61</td><td>20.95</td><td>0.3729</td><td>56.19</td><td>29.66</td><td>0.4908</td><td>60.44</td><td>2.693</td><td>1.416</td><td>7.071</td><td>1.916</td><td>--</td><td>--</td><td>-- .. --</td><td>266.52608735216387,-28.823601122442334</td><td>0</td><td>0</td><td>266.52608735216387,-28.823601122442334</td><td></td></tr>\n",
       "<tr><td>SFGC0.156-0.062</td><td>266.5582495464602</td><td>-28.83500460723829</td><td>13.21</td><td>0.1063</td><td>124.2</td><td>40.81</td><td>0.1451</td><td>281.4</td><td>71.46</td><td>0.2023</td><td>353.2</td><td>3.091</td><td>1.751</td><td>5.437</td><td>1.538</td><td>0</td><td>0</td><td>0.1679 ..     -0.001669</td><td>26.6</td><td>0.1965</td><td>135.4</td><td>74.16</td><td>0.3439</td><td>215.6</td><td>112.5</td><td>0.4535</td><td>248</td><td>2.788</td><td>1.516</td><td>5.465</td><td>1.371</td><td>--</td><td>--</td><td>-- .. --</td><td>266.5582495464602,-28.83500460723829</td><td>0</td><td>0</td><td>266.5582495464603,-28.83500460723829</td><td></td></tr>\n",
       "<tr><td>SFGC0.159-0.069</td><td>266.56742356804017</td><td>-28.836317789531517</td><td>3.477</td><td>0.263</td><td>13.22</td><td>--</td><td>--</td><td>--</td><td>--</td><td>--</td><td>--</td><td>--</td><td>--</td><td>4.606</td><td>1.513</td><td>0</td><td>0</td><td>-- ..        0.1262</td><td>--</td><td>--</td><td>--</td><td>--</td><td>--</td><td>--</td><td>--</td><td>--</td><td>--</td><td>--</td><td>--</td><td>--</td><td>--</td><td>--</td><td>--</td><td>-- .. --</td><td>266.56742356804017,-28.836317789531517</td><td>0</td><td>0</td><td>266.5674235680402,-28.836317789531517</td><td></td></tr>\n",
       "<tr><td>SFGC0.160+0.084</td><td>266.4186654617592</td><td>-28.755764597309323</td><td>2.101</td><td>0.3507</td><td>5.991</td><td>--</td><td>--</td><td>--</td><td>--</td><td>--</td><td>--</td><td>--</td><td>--</td><td>6.872</td><td>1.727</td><td>0</td><td>0</td><td>-0.006369 ..      -0.01555</td><td>2.683</td><td>0.3942</td><td>6.806</td><td>8.54</td><td>0.8045</td><td>10.62</td><td>--</td><td>--</td><td>--</td><td>3.183</td><td>--</td><td>7.175</td><td>1.497</td><td>--</td><td>--</td><td>-- .. --</td><td>266.4186654617592,-28.755764597309323</td><td>0</td><td>0</td><td>266.4186654617592,-28.755764597309323</td><td></td></tr>\n",
       "<tr><td>SFGC0.160-0.070</td><td>266.5689581030063</td><td>-28.835936955356345</td><td>11.17</td><td>0.1109</td><td>100.7</td><td>38.18</td><td>0.1444</td><td>264.5</td><td>67.45</td><td>0.201</td><td>335.7</td><td>3.419</td><td>1.767</td><td>6.152</td><td>2.084</td><td>0</td><td>0</td><td>0.01069 ..        0.2599</td><td>27.67</td><td>0.1963</td><td>141</td><td>83.93</td><td>0.3457</td><td>242.8</td><td>124.6</td><td>0.4564</td><td>273</td><td>3.033</td><td>1.485</td><td>6.136</td><td>1.84</td><td>--</td><td>--</td><td>-- .. --</td><td>266.5689581030063,-28.835936955356345</td><td>0</td><td>0</td><td>266.56895810300637,-28.835936955356345</td><td></td></tr>\n",
       "<tr><td>SFGC0.161+0.085</td><td>266.4177445947612</td><td>-28.754216116941436</td><td>2.781</td><td>0.3844</td><td>7.234</td><td>--</td><td>--</td><td>--</td><td>--</td><td>--</td><td>--</td><td>--</td><td>--</td><td>7.585</td><td>2.061</td><td>0</td><td>1</td><td>-0.01577 .. --</td><td>4.694</td><td>0.4112</td><td>11.42</td><td>16.58</td><td>0.8463</td><td>19.59</td><td>--</td><td>--</td><td>--</td><td>3.532</td><td>--</td><td>8.752</td><td>1.334</td><td>--</td><td>--</td><td>-- .. --</td><td>266.4177445947612,-28.754216116941436</td><td>0</td><td>0</td><td>266.41774459476125,-28.754216116941436</td><td></td></tr>\n",
       "<tr><td>SFGC0.169-0.042</td><td>266.5459662599549</td><td>-28.814054710664767</td><td>3.751</td><td>0.3196</td><td>11.74</td><td>15.46</td><td>0.2135</td><td>72.39</td><td>34.51</td><td>0.2448</td><td>141</td><td>4.12</td><td>2.232</td><td>7.754</td><td>2.246</td><td>0</td><td>11</td><td>0.3076 ..       0.02188</td><td>9.443</td><td>0.269</td><td>35.1</td><td>34.54</td><td>0.3655</td><td>94.51</td><td>55.46</td><td>0.4785</td><td>115.9</td><td>3.658</td><td>1.606</td><td>6.697</td><td>1.607</td><td>--</td><td>--</td><td>-- .. --</td><td>266.5459662599549,-28.814054710664767</td><td>0</td><td>0</td><td>266.5459662599549,-28.814054710664767</td><td></td></tr>\n",
       "<tr><td>SFGC0.169-0.059</td><td>266.562887022575</td><td>-28.822766670876444</td><td>1.35</td><td>0.117</td><td>11.54</td><td>3.914</td><td>0.1482</td><td>26.41</td><td>9.341</td><td>0.1993</td><td>46.87</td><td>2.9</td><td>2.387</td><td>6.807</td><td>1.364</td><td>0</td><td>0</td><td>-0.01534 ..     -0.004891</td><td>2.348</td><td>0.2168</td><td>10.83</td><td>5.318</td><td>0.3611</td><td>14.73</td><td>10.11</td><td>0.4682</td><td>21.59</td><td>2.265</td><td>1.901</td><td>6.38</td><td>1.444</td><td>--</td><td>--</td><td>-- .. --</td><td>266.562887022575,-28.822766670876444</td><td>0</td><td>0</td><td>266.56288702257507,-28.822766670876444</td><td></td></tr>\n",
       "</table></div>"
      ],
      "text/plain": [
       "<Table length=796>\n",
       "     SourceID         RA(J2000)      ... SSTGCxmatch\n",
       "                         deg         ...            \n",
       "     bytes17           float64       ...     str7   \n",
       "----------------- ------------------ ... -----------\n",
       "SFGC359.410+0.032 266.02006908793686 ...     0279533\n",
       "SFGC359.410+0.032 266.02006908793686 ...     0279533\n",
       "SFGC359.410+0.032 266.02006908793686 ...     0279869\n",
       "SFGC359.410+0.032 266.02006908793686 ...     0279869\n",
       "SFGC359.429+0.035  266.0287822033286 ...     0284291\n",
       "SFGC359.423+0.015  266.0446602894267 ...     0292486\n",
       "SFGC359.435+0.022 266.04485626247106 ...     0292687\n",
       "SFGC359.404+0.001 266.04694161813114 ...     0293528\n",
       "SFGC359.448+0.014  266.0609442895529 ...     0300687\n",
       "              ...                ... ...         ...\n",
       "  SFGC0.148-0.037 266.52900783837674 ...            \n",
       "  SFGC0.148+0.023 266.47079769151617 ...            \n",
       "  SFGC0.151-0.032 266.52608735216387 ...            \n",
       "  SFGC0.156-0.062  266.5582495464602 ...            \n",
       "  SFGC0.159-0.069 266.56742356804017 ...            \n",
       "  SFGC0.160+0.084  266.4186654617592 ...            \n",
       "  SFGC0.160-0.070  266.5689581030063 ...            \n",
       "  SFGC0.161+0.085  266.4177445947612 ...            \n",
       "  SFGC0.169-0.042  266.5459662599549 ...            \n",
       "  SFGC0.169-0.059   266.562887022575 ...            "
      ]
     },
     "execution_count": 17,
     "metadata": {},
     "output_type": "execute_result"
    }
   ],
   "source": [
    "#create a combined table of both matched and unmatched sources\n",
    "mcatComb=vstack((matchedmcat,onlymcat))\n",
    "\n",
    "#print combined table\n",
    "mcatComb"
   ]
  },
  {
   "cell_type": "code",
   "execution_count": 18,
   "id": "1a48249c",
   "metadata": {},
   "outputs": [],
   "source": [
    "if 'sky_centroid' in mcatComb.columns:\n",
    "    mcatComb.remove_columns('sky_centroid')\n",
    "    \n",
    "if 'skycoords' in mcatComb.columns:\n",
    "    mcatComb.remove_columns('skycoords')"
   ]
  },
  {
   "cell_type": "code",
   "execution_count": 19,
   "id": "68562651",
   "metadata": {},
   "outputs": [],
   "source": [
    "#write out final catalog\n",
    "mcatComb.write('masterCat_combined_step4.fits',overwrite=True)"
   ]
  },
  {
   "cell_type": "code",
   "execution_count": 20,
   "id": "0b21ca66",
   "metadata": {},
   "outputs": [],
   "source": [
    "#remove cutouts from table\n",
    "if 'cutout25' in mcatComb.columns:\n",
    "    mcatComb.remove_columns('cutout25')\n",
    "    \n",
    "if 'cutout37' in mcatComb.columns:\n",
    "    mcatComb.remove_columns('cutout37')"
   ]
  },
  {
   "cell_type": "code",
   "execution_count": 21,
   "id": "9c006e21",
   "metadata": {},
   "outputs": [],
   "source": [
    "#write out final catalog\n",
    "mcatComb.write('masterCat_combined_step4_NoCutouts.fits',overwrite=True)"
   ]
  },
  {
   "cell_type": "code",
   "execution_count": null,
   "id": "b4e53221",
   "metadata": {},
   "outputs": [],
   "source": []
  },
  {
   "cell_type": "code",
   "execution_count": null,
   "id": "932097b0",
   "metadata": {},
   "outputs": [],
   "source": []
  },
  {
   "cell_type": "code",
   "execution_count": null,
   "id": "af1c8854",
   "metadata": {},
   "outputs": [],
   "source": []
  }
 ],
 "metadata": {
  "kernelspec": {
   "display_name": "Python 3 (ipykernel)",
   "language": "python",
   "name": "python3"
  },
  "language_info": {
   "codemirror_mode": {
    "name": "ipython",
    "version": 3
   },
   "file_extension": ".py",
   "mimetype": "text/x-python",
   "name": "python",
   "nbconvert_exporter": "python",
   "pygments_lexer": "ipython3",
   "version": "3.9.7"
  }
 },
 "nbformat": 4,
 "nbformat_minor": 5
}
