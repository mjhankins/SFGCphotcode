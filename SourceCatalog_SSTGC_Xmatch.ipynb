{
 "cells": [
  {
   "cell_type": "markdown",
   "id": "eec2d5f2",
   "metadata": {},
   "source": [
    "# SOFIA/FORCAST Galactic Center SSTGC X-match Notebook"
   ]
  },
  {
   "cell_type": "markdown",
   "id": "880687a9",
   "metadata": {},
   "source": [
    "## Preliminary Steps - Select file to use from config.py and load in required packages"
   ]
  },
  {
   "cell_type": "code",
   "execution_count": 2,
   "id": "492d222e",
   "metadata": {},
   "outputs": [],
   "source": [
    "#import all required packages\n",
    "import os\n",
    "import numpy as np\n",
    "import re\n",
    "import matplotlib.pyplot as plt\n",
    "\n",
    "from astroquery.vizier import Vizier\n",
    "from astropy.io import fits,ascii\n",
    "from astropy.wcs import WCS\n",
    "from astropy import units as u\n",
    "from astropy.stats import sigma_clipped_stats\n",
    "from astropy.table import join, vstack, hstack\n",
    "from astropy.coordinates import SkyCoord, search_around_sky, Angle\n",
    "from astropy.coordinates.matching import _get_cartesian_kdtree\n",
    "from astropy.table import join, vstack, Table\n",
    "\n",
    "from regions import read_ds9, write_ds9, CircleSkyRegion"
   ]
  },
  {
   "cell_type": "code",
   "execution_count": 3,
   "id": "b4d91a9c",
   "metadata": {},
   "outputs": [],
   "source": [
    "#import configuration for selected file\n",
    "#from config import wavelength, segdetsig, finddetsig, bkgbox #import additional common paramters\n",
    "from config import dpath, dpathalt, ds9path #import additional common paramters\n",
    "\n",
    "from config import *\n"
   ]
  },
  {
   "cell_type": "code",
   "execution_count": 4,
   "id": "dc142fcb",
   "metadata": {},
   "outputs": [],
   "source": [
    "from FORCASTphot import makeDS9reg, findNOTindex"
   ]
  },
  {
   "cell_type": "markdown",
   "id": "2e4797c7",
   "metadata": {},
   "source": [
    "## Load in catalog from file"
   ]
  },
  {
   "cell_type": "code",
   "execution_count": 60,
   "id": "e75aaae4",
   "metadata": {},
   "outputs": [],
   "source": [
    "#change directory to where data is\n",
    "try:\n",
    "    os.chdir(dpath)\n",
    "except:\n",
    "    os.chdir(dpathalt)"
   ]
  },
  {
   "cell_type": "code",
   "execution_count": 61,
   "id": "cddd3b7d",
   "metadata": {},
   "outputs": [],
   "source": [
    "#load in the master catalogs\n",
    "mcat=Table.read('masterCat_step3_combined_update420.fits')"
   ]
  },
  {
   "cell_type": "code",
   "execution_count": 62,
   "id": "2e086fae",
   "metadata": {},
   "outputs": [],
   "source": [
    "#add sky coord column if not already present\n",
    "if 'skycoords' not in mcat.columns:\n",
    "\n",
    "    ras=mcat[\"RA(J2000)\"]\n",
    "    decs=mcat[\"DEC(J2000)\"]\n",
    "\n",
    "    scobj=SkyCoord(ras,decs,unit=(u.hr,u.deg))\n",
    "    mcat[\"skycoords\"]=scobj\n",
    "\n",
    "    #print catalog to see the new entry\n",
    "    mcat"
   ]
  },
  {
   "cell_type": "code",
   "execution_count": 63,
   "id": "9359dfe5",
   "metadata": {
    "scrolled": true
   },
   "outputs": [
    {
     "data": {
      "text/html": [
       "<div><i>Table length=950</i>\n",
       "<table id=\"table2556332441360\" class=\"table-striped table-bordered table-condensed\">\n",
       "<thead><tr><th>SourceID</th><th>RA(J2000)</th><th>DEC(J2000)</th><th>25BestModel</th><th>25um_Flux_4pix</th><th>25um_Flux_4pix_err</th><th>25um_SNR_4pix</th><th>25um_Flux_8pix</th><th>25um_Flux_8pix_err</th><th>25um_SNR_8pix</th><th>25um_Flux_12pix</th><th>25um_Flux_12pix_err</th><th>25um_SNR_12pix</th><th>25ApRatio8_4</th><th>25ApRatio12_8</th><th>25um_Flux_M2D</th><th>25um_Flux_M2D_err</th><th>25um_SNR_M2D</th><th>25um_M2D_chi2</th><th>M2D25_qflag</th><th>25um_Flux_G2D</th><th>25um_Flux_G2D_err</th><th>25um_SNR_G2D</th><th>25um_G2D_chi2</th><th>G2D25_qflag</th><th>fwhm25</th><th>fwhm25err</th><th>elong25</th><th>ErrCalF25</th><th>vExtFlag25</th><th>bkg_qflag25</th><th>edge_flag25</th><th>cutout25 [25,25]</th><th>M2Dresid25 [17,17]</th><th>G2Dresid25 [17,17]</th><th>37BestModel</th><th>37um_Flux_5.5pix</th><th>37um_Flux_5.5pix_err</th><th>37um_SNR_5.5pix</th><th>37um_Flux_10.5pix</th><th>37um_Flux_10.5pix_err</th><th>37um_SNR_10.5pix</th><th>37um_Flux_14pix</th><th>37um_Flux_14pix_err</th><th>37um_SNR_14pix</th><th>37ApRatio10.5_5.5</th><th>37ApRatio14_10.5</th><th>37um_Flux_M2D</th><th>37um_Flux_M2D_err</th><th>37um_SNR_M2D</th><th>37um_M2D_chi2</th><th>M2D37_qflag</th><th>37um_Flux_G2D</th><th>37um_Flux_G2D_err</th><th>37um_SNR_G2D</th><th>37um_G2D_chi2</th><th>G2D37_qflag</th><th>fwhm37</th><th>fwhm37err</th><th>elong37</th><th>vExtFlag37</th><th>bkg_qflag37</th><th>edge_flag37</th><th>ErrCalF37</th><th>cutout37 [31,31]</th><th>M2Dresid37 [17,17]</th><th>G2Dresid37 [17,17]</th><th>sky_centroid</th><th>FieldID</th><th>SID25</th><th>SID37</th><th>Found25</th><th>Found37</th><th>Matched</th><th>F25_F37_sep</th><th>25ApPhot_qflag</th><th>25Ap_4pix_UL</th><th>25Ap_8pix_UL</th><th>25Ap_12pix_UL</th><th>37ApPhot_qflag</th><th>37Ap_5.5pix_UL</th><th>37Ap_10.5pix_UL</th><th>37Ap_14pix_UL</th><th>id</th><th>skycoords</th></tr></thead>\n",
       "<thead><tr><th></th><th></th><th></th><th></th><th></th><th></th><th></th><th></th><th></th><th></th><th></th><th></th><th></th><th></th><th></th><th></th><th></th><th></th><th></th><th></th><th></th><th></th><th></th><th></th><th></th><th></th><th></th><th></th><th></th><th></th><th></th><th></th><th></th><th></th><th></th><th></th><th></th><th></th><th></th><th></th><th></th><th></th><th></th><th></th><th></th><th></th><th></th><th></th><th></th><th></th><th></th><th></th><th></th><th></th><th></th><th></th><th></th><th></th><th></th><th></th><th></th><th></th><th></th><th></th><th></th><th></th><th></th><th>deg,deg</th><th></th><th></th><th></th><th></th><th></th><th></th><th></th><th></th><th></th><th></th><th></th><th></th><th></th><th></th><th></th><th></th><th>deg,deg</th></tr></thead>\n",
       "<thead><tr><th>bytes18</th><th>bytes12</th><th>bytes13</th><th>bytes1</th><th>float32</th><th>float32</th><th>float32</th><th>float32</th><th>float32</th><th>float32</th><th>float32</th><th>float32</th><th>float32</th><th>float32</th><th>float32</th><th>float32</th><th>float32</th><th>float32</th><th>float32</th><th>float64</th><th>float32</th><th>float32</th><th>float32</th><th>float32</th><th>int32</th><th>float32</th><th>float32</th><th>float32</th><th>float32</th><th>int32</th><th>int32</th><th>int32</th><th>float32</th><th>float32</th><th>float32</th><th>bytes1</th><th>float32</th><th>float32</th><th>float32</th><th>float32</th><th>float32</th><th>float32</th><th>float32</th><th>float32</th><th>float32</th><th>float32</th><th>float32</th><th>float32</th><th>float32</th><th>float32</th><th>float32</th><th>int32</th><th>float32</th><th>float32</th><th>float32</th><th>float32</th><th>int32</th><th>float32</th><th>float32</th><th>float32</th><th>int32</th><th>int32</th><th>int32</th><th>float32</th><th>float32</th><th>float32</th><th>float32</th><th>object</th><th>bytes7</th><th>bytes18</th><th>bytes18</th><th>int32</th><th>int32</th><th>int32</th><th>float32</th><th>bytes3</th><th>float32</th><th>float32</th><th>float32</th><th>bytes3</th><th>float32</th><th>float32</th><th>float32</th><th>int32</th><th>object</th></tr></thead>\n",
       "<tr><td>SFGC0.642-0.0920</td><td>17h47m29.98s</td><td>-28d26m06.11s</td><td>a</td><td>2.621</td><td>0.1516</td><td>17.29</td><td>8.426</td><td>0.3032</td><td>27.79</td><td>13.97</td><td>0.4548</td><td>30.71</td><td>3.215</td><td>1.658</td><td>--</td><td>--</td><td>--</td><td>--</td><td>1.0</td><td>10.27</td><td>0.463</td><td>22.18</td><td>1.594</td><td>0</td><td>13.43</td><td>--</td><td>1.732</td><td>0.02142</td><td>1</td><td>1</td><td>0</td><td>0.0011582585 .. 0.015019846</td><td>-- .. --</td><td>-0.0020329447 .. -0.0005527116</td><td>a</td><td>16.92</td><td>0.6399</td><td>26.44</td><td>47.42</td><td>1.222</td><td>38.82</td><td>66.84</td><td>1.629</td><td>41.03</td><td>2.802</td><td>1.409</td><td>40.19</td><td>1.632</td><td>24.62</td><td>6.957</td><td>0</td><td>40.22</td><td>1.741</td><td>23.09</td><td>2.061</td><td>0</td><td>16.46</td><td>--</td><td>1.798</td><td>1</td><td>0</td><td>0</td><td>0.02826</td><td>0.021544566 .. 0.05470274</td><td>-0.041184332 .. -0.03553597</td><td>-0.008361966 .. -0.009936933</td><td>266.8749166666667,-28.435030555555556</td><td>Field02</td><td>SFGC0.642-0.0920</td><td>SFGC0.642-0.0920</td><td>1</td><td>1</td><td>1</td><td>0</td><td>000</td><td>--</td><td>--</td><td>--</td><td>000</td><td>--</td><td>--</td><td>--</td><td>1</td><td>266.8749166666667,-28.435030555555556</td></tr>\n",
       "<tr><td>SFGC359.917-0.0411</td><td>17h45m34.98s</td><td>-29d01m42.06s</td><td>g</td><td>0.5569</td><td>0.06631</td><td>8.399</td><td>0.8038</td><td>0.1326</td><td>6.061</td><td>0.9656</td><td>0.1989</td><td>4.854</td><td>1.443</td><td>1.201</td><td>0.8709</td><td>0.05589</td><td>15.58</td><td>1.494</td><td>0.0</td><td>0.9305</td><td>0.07504</td><td>12.4</td><td>1.426</td><td>0</td><td>4.977</td><td>2.562</td><td>1.872</td><td>0.02142</td><td>0</td><td>0</td><td>0</td><td>-0.017314684 .. -0.0074744164</td><td>-0.008012593 .. 0.010391566</td><td>-0.007907722 .. 0.010521602</td><td>a</td><td>2.707</td><td>0.2104</td><td>12.86</td><td>7.047</td><td>0.4017</td><td>17.54</td><td>10.03</td><td>0.5357</td><td>18.72</td><td>2.603</td><td>1.423</td><td>--</td><td>--</td><td>--</td><td>--</td><td>1</td><td>6.042</td><td>0.4282</td><td>14.11</td><td>1.637</td><td>0</td><td>12.3</td><td>--</td><td>1.574</td><td>0</td><td>0</td><td>0</td><td>0.02826</td><td>-0.043919764 .. 0.012567047</td><td>-- .. --</td><td>-0.00084886176 .. 0.019681368</td><td>266.39574999999996,-29.028350000000003</td><td>Field41</td><td>SFGC359.917-0.0411</td><td>SFGC359.917-0.0411</td><td>1</td><td>1</td><td>1</td><td>0</td><td>000</td><td>--</td><td>--</td><td>--</td><td>000</td><td>--</td><td>--</td><td>--</td><td>2</td><td>266.39574999999996,-29.02835</td></tr>\n",
       "<tr><td>SFGC0.639-0.0744</td><td>17h47m25.45s</td><td>-28d25m42.38s</td><td>a</td><td>1.09</td><td>0.0871</td><td>12.52</td><td>2.677</td><td>0.1742</td><td>15.37</td><td>4.478</td><td>0.2613</td><td>17.14</td><td>2.455</td><td>1.673</td><td>3.234</td><td>0.1414</td><td>22.87</td><td>1.868</td><td>0.0</td><td>--</td><td>--</td><td>--</td><td>--</td><td>1</td><td>20</td><td>--</td><td>1</td><td>0.02142</td><td>0</td><td>0</td><td>0</td><td>0.001997486 .. -0.00861637</td><td>-0.0027230156 .. -0.0077228444</td><td>-- .. --</td><td>a</td><td>4.451</td><td>0.3086</td><td>14.43</td><td>12.23</td><td>0.5891</td><td>20.76</td><td>17.65</td><td>0.7854</td><td>22.48</td><td>2.747</td><td>1.444</td><td>--</td><td>--</td><td>--</td><td>--</td><td>1</td><td>10.39</td><td>0.7252</td><td>14.33</td><td>1.186</td><td>0</td><td>14.21</td><td>--</td><td>1.545</td><td>1</td><td>0</td><td>0</td><td>0.02826</td><td>-0.009794885 .. 0.029921846</td><td>-- .. --</td><td>-0.016091263 .. -0.00067445764</td><td>266.85604166666667,-28.428438888888895</td><td>Field02</td><td>SFGC0.639-0.0744</td><td>SFGC0.639-0.0744</td><td>1</td><td>1</td><td>1</td><td>0</td><td>000</td><td>--</td><td>--</td><td>--</td><td>000</td><td>--</td><td>--</td><td>--</td><td>3</td><td>266.85604166666667,-28.42843888888889</td></tr>\n",
       "<tr><td>SFGC0.036-0.1818</td><td>17h46m24.88s</td><td>-29d00m01.34s</td><td>g</td><td>1.352</td><td>0.1088</td><td>12.42</td><td>1.15</td><td>0.2176</td><td>5.285</td><td>--</td><td>--</td><td>--</td><td>0.8509</td><td>--</td><td>--</td><td>--</td><td>--</td><td>--</td><td>1.0</td><td>1.403</td><td>0.06501</td><td>21.58</td><td>1.429</td><td>0</td><td>2.628</td><td>0.3065</td><td>1.02</td><td>0.02373</td><td>0</td><td>0</td><td>1</td><td>-0.02002774 .. -0.012622309</td><td>-- .. --</td><td>-0.00019068921 .. -0.0063876263</td><td>g</td><td>1.49</td><td>0.1967</td><td>7.574</td><td>2.02</td><td>0.3756</td><td>5.377</td><td>2.351</td><td>0.5008</td><td>4.694</td><td>1.355</td><td>1.164</td><td>--</td><td>--</td><td>--</td><td>--</td><td>1</td><td>1.615</td><td>0.1373</td><td>11.76</td><td>0.6163</td><td>0</td><td>4.219</td><td>0.8425</td><td>1.237</td><td>0</td><td>0</td><td>1</td><td>0.02703</td><td>-0.008324572 .. 0.004368282</td><td>-- .. --</td><td>0.00025314777 .. 0.000968509</td><td>266.60366666666664,-29.000372222222225</td><td>Field35</td><td>SFGC0.036-0.1818</td><td>SFGC0.036-0.1818</td><td>1</td><td>1</td><td>1</td><td>0</td><td>001</td><td>--</td><td>--</td><td>0.9746</td><td>000</td><td>--</td><td>--</td><td>--</td><td>4</td><td>266.60366666666664,-29.00037222222222</td></tr>\n",
       "<tr><td>SFGC0.002-0.1756</td><td>17h46m18.60s</td><td>-29d01m33.73s</td><td>a</td><td>2.534</td><td>0.1257</td><td>20.15</td><td>7.085</td><td>0.2514</td><td>28.18</td><td>11.54</td><td>0.3772</td><td>30.6</td><td>2.796</td><td>1.629</td><td>8.555</td><td>0.277</td><td>30.89</td><td>4.233</td><td>0.0</td><td>8.437</td><td>0.3429</td><td>24.6</td><td>1.096</td><td>0</td><td>12</td><td>--</td><td>2.939</td><td>0.02373</td><td>0</td><td>0</td><td>0</td><td>0.0055379723 .. 0.022273233</td><td>-0.010221736 .. 0.014568055</td><td>-0.0131213665 .. 0.0057871607</td><td>a</td><td>4.261</td><td>0.2638</td><td>16.16</td><td>11.1</td><td>0.5036</td><td>22.04</td><td>16.48</td><td>0.6714</td><td>24.54</td><td>2.605</td><td>1.484</td><td>9.353</td><td>0.3032</td><td>30.85</td><td>2.54</td><td>0</td><td>9.187</td><td>1.215</td><td>7.564</td><td>1.108</td><td>0</td><td>26</td><td>--</td><td>16.06</td><td>1</td><td>0</td><td>0</td><td>0.02703</td><td>-0.00895218 .. 0.019151552</td><td>0.00071569986 .. 0.033023752</td><td>-0.0036444536 .. 0.022982571</td><td>266.5775,-29.02603611111111</td><td>Field35</td><td>SFGC0.002-0.1756</td><td>SFGC0.002-0.1756</td><td>1</td><td>1</td><td>1</td><td>0</td><td>000</td><td>--</td><td>--</td><td>--</td><td>000</td><td>--</td><td>--</td><td>--</td><td>5</td><td>266.5775,-29.02603611111111</td></tr>\n",
       "<tr><td>SFGC359.547-0.0525</td><td>17h44m44.48s</td><td>-29d21m01.41s</td><td>g</td><td>0.6972</td><td>0.07014</td><td>9.94</td><td>1.083</td><td>0.1403</td><td>7.721</td><td>1.507</td><td>0.2104</td><td>7.16</td><td>1.553</td><td>1.391</td><td>1.21</td><td>0.07163</td><td>16.89</td><td>0.7121</td><td>0.0</td><td>1.096</td><td>0.08104</td><td>13.53</td><td>0.6961</td><td>0</td><td>5.081</td><td>1.133</td><td>1.337</td><td>0.01904</td><td>0</td><td>0</td><td>1</td><td>0.0018905203 .. 0.00069335854</td><td>-0.006266824 .. 0.00829259</td><td>-0.006021309 .. 0.008680867</td><td>g</td><td>1.418</td><td>0.1704</td><td>8.325</td><td>2.358</td><td>0.3252</td><td>7.25</td><td>2.553</td><td>0.4336</td><td>5.888</td><td>1.662</td><td>1.083</td><td>--</td><td>--</td><td>--</td><td>--</td><td>1</td><td>2.352</td><td>0.1912</td><td>12.3</td><td>0.9094</td><td>0</td><td>6.786</td><td>2.644</td><td>1.116</td><td>0</td><td>0</td><td>1</td><td>0.03339</td><td>-0.019973472 .. 0.054000963</td><td>-- .. --</td><td>-0.002464894 .. -0.010973047</td><td>266.1853333333333,-29.35039166666667</td><td>Field47</td><td>SFGC359.547-0.0525</td><td>SFGC359.547-0.0525</td><td>1</td><td>1</td><td>1</td><td>0</td><td>000</td><td>--</td><td>--</td><td>--</td><td>000</td><td>--</td><td>--</td><td>--</td><td>6</td><td>266.1853333333333,-29.350391666666667</td></tr>\n",
       "<tr><td>SFGC0.185-0.0606</td><td>17h46m17.82s</td><td>-28d48m34.21s</td><td>g</td><td>1.754</td><td>0.08159</td><td>21.49</td><td>1.735</td><td>0.1632</td><td>10.64</td><td>1.178</td><td>0.2448</td><td>4.812</td><td>0.9897</td><td>0.6787</td><td>1.891</td><td>0.05762</td><td>32.81</td><td>1.831</td><td>0.0</td><td>1.887</td><td>0.05879</td><td>32.09</td><td>1.771</td><td>0</td><td>3.169</td><td>0.06274</td><td>1.127</td><td>0.02142</td><td>0</td><td>0</td><td>0</td><td>0.015433696 .. -0.0020217283</td><td>-0.0018687655 .. -0.00129253</td><td>-0.0018687604 .. -0.0012924916</td><td>g</td><td>0.9606</td><td>0.2341</td><td>4.104</td><td>--</td><td>--</td><td>--</td><td>--</td><td>--</td><td>--</td><td>--</td><td>--</td><td>--</td><td>--</td><td>--</td><td>--</td><td>1</td><td>1.007</td><td>0.1262</td><td>7.977</td><td>1.933</td><td>0</td><td>3.261</td><td>1.135</td><td>1.147</td><td>0</td><td>0</td><td>0</td><td>0.02826</td><td>0.011256525 .. 0.12223301</td><td>-- .. --</td><td>-0.013528282 .. -0.008289114</td><td>266.57424999999995,-28.809502777777784</td><td>Field18</td><td>SFGC0.185-0.0606</td><td>SFGC0.185-0.0607</td><td>1</td><td>1</td><td>1</td><td>0</td><td>000</td><td>--</td><td>--</td><td>--</td><td>011</td><td>--</td><td>1.356</td><td>1.809</td><td>7</td><td>266.57424999999995,-28.80950277777778</td></tr>\n",
       "<tr><td>SFGC359.997-0.1770</td><td>17h46m18.23s</td><td>-29d01m51.07s</td><td>a</td><td>1.679</td><td>0.1162</td><td>14.45</td><td>4.77</td><td>0.2324</td><td>20.52</td><td>7.425</td><td>0.3486</td><td>21.3</td><td>2.841</td><td>1.557</td><td>--</td><td>--</td><td>--</td><td>--</td><td>1.0</td><td>--</td><td>--</td><td>--</td><td>--</td><td>1</td><td>--</td><td>--</td><td>--</td><td>0.02373</td><td>0</td><td>0</td><td>1</td><td>0.007891582 .. 0.015809549</td><td>-- .. --</td><td>-- .. --</td><td>a</td><td>4.507</td><td>0.2447</td><td>18.42</td><td>11.1</td><td>0.4671</td><td>23.77</td><td>14.18</td><td>0.6228</td><td>22.77</td><td>2.464</td><td>1.277</td><td>--</td><td>--</td><td>--</td><td>--</td><td>1</td><td>--</td><td>--</td><td>--</td><td>--</td><td>1</td><td>--</td><td>--</td><td>--</td><td>0</td><td>0</td><td>0</td><td>0.02703</td><td>0.0056441776 .. 0.027672721</td><td>-- .. --</td><td>-- .. --</td><td>266.5759583333333,-29.03085277777778</td><td>Field35</td><td>SFGC359.997-0.1770</td><td>SFGC359.997-0.1770</td><td>1</td><td>1</td><td>1</td><td>0</td><td>000</td><td>--</td><td>--</td><td>--</td><td>000</td><td>--</td><td>--</td><td>--</td><td>8</td><td>266.5759583333333,-29.030852777777778</td></tr>\n",
       "<tr><td>SFGC359.955-0.0671</td><td>17h45m46.43s</td><td>-29d00m35.63s</td><td>a</td><td>1.105</td><td>0.0562</td><td>19.66</td><td>3.115</td><td>0.1124</td><td>27.72</td><td>4.57</td><td>0.1686</td><td>27.11</td><td>2.82</td><td>1.467</td><td>--</td><td>--</td><td>--</td><td>--</td><td>1.0</td><td>--</td><td>--</td><td>--</td><td>--</td><td>1</td><td>--</td><td>--</td><td>--</td><td>0.02142</td><td>0</td><td>0</td><td>0</td><td>0.00422656 .. 0.019974025</td><td>-- .. --</td><td>-- .. --</td><td>a</td><td>2.954</td><td>0.1623</td><td>18.2</td><td>6.677</td><td>0.3099</td><td>21.55</td><td>7.758</td><td>0.4132</td><td>18.78</td><td>2.261</td><td>1.162</td><td>6.045</td><td>0.2803</td><td>21.56</td><td>1.516</td><td>0</td><td>5.951</td><td>0.3158</td><td>18.84</td><td>1.253</td><td>0</td><td>11.76</td><td>--</td><td>1.862</td><td>0</td><td>0</td><td>0</td><td>0.02826</td><td>0.0062176134 .. 0.006854685</td><td>-0.0073892223 .. 0.027077286</td><td>-0.010520372 .. 0.020889463</td><td>266.4434583333333,-29.009897222222225</td><td>Field37</td><td>SFGC359.955-0.0671</td><td>SFGC359.955-0.0671</td><td>1</td><td>1</td><td>1</td><td>0</td><td>000</td><td>--</td><td>--</td><td>--</td><td>000</td><td>--</td><td>--</td><td>--</td><td>9</td><td>266.4434583333333,-29.00989722222222</td></tr>\n",
       "<tr><td>...</td><td>...</td><td>...</td><td>...</td><td>...</td><td>...</td><td>...</td><td>...</td><td>...</td><td>...</td><td>...</td><td>...</td><td>...</td><td>...</td><td>...</td><td>...</td><td>...</td><td>...</td><td>...</td><td>...</td><td>...</td><td>...</td><td>...</td><td>...</td><td>...</td><td>...</td><td>...</td><td>...</td><td>...</td><td>...</td><td>...</td><td>...</td><td>...</td><td>...</td><td>...</td><td>...</td><td>...</td><td>...</td><td>...</td><td>...</td><td>...</td><td>...</td><td>...</td><td>...</td><td>...</td><td>...</td><td>...</td><td>...</td><td>...</td><td>...</td><td>...</td><td>...</td><td>...</td><td>...</td><td>...</td><td>...</td><td>...</td><td>...</td><td>...</td><td>...</td><td>...</td><td>...</td><td>...</td><td>...</td><td>...</td><td>...</td><td>...</td><td>...</td><td>...</td><td>...</td><td>...</td><td>...</td><td>...</td><td>...</td><td>...</td><td>...</td><td>...</td><td>...</td><td>...</td><td>...</td><td>...</td><td>...</td><td>...</td><td>...</td><td>...</td></tr>\n",
       "<tr><td>SFGC0.584-0.0385</td><td>17h47m09.22s</td><td>-28d27m26.62s</td><td>a</td><td>--</td><td>--</td><td>--</td><td>--</td><td>--</td><td>--</td><td>--</td><td>--</td><td>--</td><td>--</td><td>--</td><td>--</td><td>--</td><td>--</td><td>--</td><td>1.0</td><td>0.1955</td><td>0.04647</td><td>4.208</td><td>2.097</td><td>0</td><td>3.032</td><td>--</td><td>3.882</td><td>0.02142</td><td>0</td><td>0</td><td>0</td><td>0.006060741 .. 0.001687086</td><td>-- .. --</td><td>-0.003107685 .. -0.0057734414</td><td>g</td><td>1.999</td><td>0.2011</td><td>9.941</td><td>3.243</td><td>0.3839</td><td>8.448</td><td>4.061</td><td>0.5119</td><td>7.933</td><td>1.622</td><td>1.252</td><td>--</td><td>--</td><td>--</td><td>--</td><td>1</td><td>3.127</td><td>0.2306</td><td>13.56</td><td>1.447</td><td>0</td><td>6.933</td><td>2.109</td><td>1.05</td><td>0</td><td>0</td><td>0</td><td>0.02826</td><td>0.00246694 .. 0.0062188604</td><td>-- .. --</td><td>-0.0021393276 .. -0.004126311</td><td>266.78841666666665,-28.457394444444443</td><td>Field04</td><td>--</td><td>SFGC0.584-0.0385</td><td>--</td><td>--</td><td>--</td><td>--</td><td>111</td><td>0.1947</td><td>0.3894</td><td>0.584</td><td>000</td><td>--</td><td>--</td><td>--</td><td>941</td><td>266.78841666666665,-28.457394444444443</td></tr>\n",
       "<tr><td>SFGC0.598-0.0453</td><td>17h47m12.80s</td><td>-28d26m55.17s</td><td>a</td><td>1.807</td><td>0.2303</td><td>7.848</td><td>7.531</td><td>0.4605</td><td>16.35</td><td>19.81</td><td>0.6908</td><td>28.67</td><td>4.167</td><td>2.63</td><td>--</td><td>--</td><td>--</td><td>--</td><td>1.0</td><td>--</td><td>--</td><td>--</td><td>--</td><td>1</td><td>--</td><td>--</td><td>--</td><td>0.02142</td><td>0</td><td>1</td><td>0</td><td>0.011279235 .. 0.022101989</td><td>-- .. --</td><td>-- .. --</td><td>a</td><td>11.83</td><td>0.9224</td><td>12.83</td><td>48.15</td><td>1.761</td><td>27.34</td><td>95.28</td><td>2.348</td><td>40.58</td><td>4.069</td><td>1.979</td><td>37.43</td><td>2.033</td><td>18.41</td><td>5.013</td><td>0</td><td>--</td><td>--</td><td>--</td><td>--</td><td>1</td><td>26</td><td>--</td><td>--</td><td>0</td><td>1</td><td>0</td><td>0.02826</td><td>0.033691466 .. 0.06135898</td><td>-0.08368097 .. 0.0035215367</td><td>-- .. --</td><td>266.8033333333333,-28.448658333333334</td><td>Field04</td><td>--</td><td>SFGC0.598-0.0453</td><td>--</td><td>--</td><td>--</td><td>--</td><td>000</td><td>--</td><td>--</td><td>--</td><td>000</td><td>--</td><td>--</td><td>--</td><td>942</td><td>266.8033333333333,-28.448658333333334</td></tr>\n",
       "<tr><td>SFGC0.608-0.0474</td><td>17h47m14.71s</td><td>-28d26m28.57s</td><td>a</td><td>0.8958</td><td>0.2479</td><td>3.614</td><td>2.878</td><td>0.4958</td><td>5.805</td><td>6.002</td><td>0.7437</td><td>8.071</td><td>3.213</td><td>2.085</td><td>--</td><td>--</td><td>--</td><td>--</td><td>1.0</td><td>4.042</td><td>0.7135</td><td>5.664</td><td>1.862</td><td>0</td><td>12.66</td><td>--</td><td>1.213</td><td>0.02142</td><td>1</td><td>1</td><td>0</td><td>0.04877033 .. 0.009715956</td><td>-- .. --</td><td>-0.0012639214 .. 0.00063276035</td><td>a</td><td>3.516</td><td>1</td><td>3.515</td><td>11.35</td><td>1.91</td><td>5.943</td><td>19.7</td><td>2.546</td><td>7.737</td><td>3.228</td><td>1.736</td><td>--</td><td>--</td><td>--</td><td>--</td><td>1</td><td>9.107</td><td>2.938</td><td>3.099</td><td>1.668</td><td>0</td><td>17.76</td><td>--</td><td>1.624</td><td>1</td><td>0</td><td>0</td><td>0.02826</td><td>0.09177378 .. 0.0028818536</td><td>-- .. --</td><td>-0.0029147717 .. 0.009932723</td><td>266.81129166666665,-28.441269444444444</td><td>Field03</td><td>--</td><td>SFGC0.608-0.0474</td><td>--</td><td>--</td><td>--</td><td>--</td><td>000</td><td>--</td><td>--</td><td>--</td><td>000</td><td>--</td><td>--</td><td>--</td><td>943</td><td>266.81129166666665,-28.441269444444444</td></tr>\n",
       "<tr><td>SFGC0.623-0.0615</td><td>17h47m20.15s</td><td>-28d26m08.18s</td><td>a</td><td>0.3314</td><td>0.04939</td><td>6.71</td><td>0.7527</td><td>0.09878</td><td>7.62</td><td>0.6901</td><td>0.1482</td><td>4.658</td><td>2.271</td><td>0.9169</td><td>--</td><td>--</td><td>--</td><td>--</td><td>1.0</td><td>0.9846</td><td>0.1019</td><td>9.661</td><td>1.353</td><td>0</td><td>9.075</td><td>--</td><td>2.573</td><td>0.02142</td><td>0</td><td>0</td><td>0</td><td>0.0006631533 .. 0.00200384</td><td>-- .. --</td><td>-0.004558163 .. 0.008029722</td><td>a</td><td>2.803</td><td>0.1173</td><td>23.9</td><td>5.99</td><td>0.224</td><td>26.75</td><td>7.171</td><td>0.2986</td><td>24.01</td><td>2.137</td><td>1.197</td><td>--</td><td>--</td><td>--</td><td>--</td><td>1</td><td>5.471</td><td>0.193</td><td>28.35</td><td>1.343</td><td>0</td><td>9.95</td><td>--</td><td>1.302</td><td>0</td><td>0</td><td>0</td><td>0.02826</td><td>-0.0139447795 .. 0.006756906</td><td>-- .. --</td><td>-0.02074811 .. 0.0029895466</td><td>266.8339583333333,-28.435605555555554</td><td>Field03</td><td>--</td><td>SFGC0.623-0.0615</td><td>--</td><td>--</td><td>--</td><td>--</td><td>000</td><td>--</td><td>--</td><td>--</td><td>000</td><td>--</td><td>--</td><td>--</td><td>944</td><td>266.8339583333333,-28.435605555555554</td></tr>\n",
       "<tr><td>SFGC0.636-0.0209</td><td>17h47m12.43s</td><td>-28d24m14.15s</td><td>a</td><td>0.3967</td><td>0.08169</td><td>4.855</td><td>0.839</td><td>0.1634</td><td>5.135</td><td>1.304</td><td>0.2451</td><td>5.322</td><td>2.115</td><td>1.555</td><td>1.078</td><td>0.08243</td><td>13.07</td><td>1.364</td><td>0.0</td><td>1.109</td><td>0.1867</td><td>5.942</td><td>1.35</td><td>0</td><td>10.05</td><td>--</td><td>1.261</td><td>0.02142</td><td>0</td><td>0</td><td>0</td><td>0.02448917 .. 0.0017863067</td><td>0.015941571 .. -0.006822668</td><td>0.015875526 .. -0.0062381104</td><td>a</td><td>2.081</td><td>0.4723</td><td>4.405</td><td>4.677</td><td>0.9017</td><td>5.187</td><td>6.898</td><td>1.202</td><td>5.738</td><td>2.248</td><td>1.475</td><td>3.944</td><td>0.7239</td><td>5.448</td><td>1.806</td><td>0</td><td>3.924</td><td>0.766</td><td>5.123</td><td>1.557</td><td>0</td><td>9.807</td><td>--</td><td>1.998</td><td>0</td><td>0</td><td>0</td><td>0.02826</td><td>0.10238773 .. -0.0041028815</td><td>0.023820875 .. -0.023283547</td><td>0.01616661 .. -0.02677526</td><td>266.80179166666665,-28.403930555555558</td><td>Field03</td><td>--</td><td>SFGC0.636-0.0209</td><td>--</td><td>--</td><td>--</td><td>--</td><td>000</td><td>--</td><td>--</td><td>--</td><td>000</td><td>--</td><td>--</td><td>--</td><td>945</td><td>266.80179166666665,-28.403930555555554</td></tr>\n",
       "<tr><td>SFGC0.645-0.0413</td><td>17h47m18.53s</td><td>-28d24m23.15s</td><td>a</td><td>0.2653</td><td>0.04392</td><td>6.041</td><td>0.7052</td><td>0.08783</td><td>8.029</td><td>1.194</td><td>0.1317</td><td>9.065</td><td>2.658</td><td>1.694</td><td>0.8238</td><td>0.0574</td><td>14.35</td><td>1.217</td><td>0.0</td><td>0.8174</td><td>0.1903</td><td>4.295</td><td>1.09</td><td>0</td><td>19.06</td><td>--</td><td>13.23</td><td>0.02142</td><td>1</td><td>0</td><td>0</td><td>0.0012395487 .. -0.009713518</td><td>0.002345207 .. -3.3755336e-05</td><td>0.0032379467 .. 0.0017057823</td><td>g</td><td>3.768</td><td>0.1425</td><td>26.45</td><td>6.82</td><td>0.272</td><td>25.08</td><td>7.734</td><td>0.3626</td><td>21.33</td><td>1.81</td><td>1.134</td><td>6.149</td><td>0.1426</td><td>43.12</td><td>1.903</td><td>0</td><td>6.068</td><td>0.1853</td><td>32.75</td><td>1.561</td><td>0</td><td>7.865</td><td>1.241</td><td>1.582</td><td>0</td><td>0</td><td>0</td><td>0.02826</td><td>0.018213322 .. 0.010447741</td><td>-0.0044285045 .. -0.0009069219</td><td>-6.54139e-05 .. 0.0029483454</td><td>266.8272083333334,-28.406430555555556</td><td>Field03</td><td>--</td><td>SFGC0.645-0.0413</td><td>--</td><td>--</td><td>--</td><td>--</td><td>000</td><td>--</td><td>--</td><td>--</td><td>000</td><td>--</td><td>--</td><td>--</td><td>946</td><td>266.8272083333334,-28.406430555555556</td></tr>\n",
       "<tr><td>SFGC0.649-0.0867</td><td>17h47m29.65s</td><td>-28d25m36.19s</td><td>g</td><td>0.421</td><td>0.07869</td><td>5.35</td><td>0.845</td><td>0.1574</td><td>5.369</td><td>--</td><td>--</td><td>--</td><td>2.007</td><td>--</td><td>--</td><td>--</td><td>--</td><td>--</td><td>1.0</td><td>0.9656</td><td>0.1208</td><td>7.994</td><td>1.822</td><td>0</td><td>6.751</td><td>6.458</td><td>1.478</td><td>0.02142</td><td>0</td><td>0</td><td>0</td><td>0.010048633 .. -0.008900119</td><td>-- .. --</td><td>0.005382017 .. -0.0003075498</td><td>a</td><td>1.01</td><td>0.2972</td><td>3.399</td><td>--</td><td>--</td><td>--</td><td>--</td><td>--</td><td>--</td><td>--</td><td>--</td><td>1.757</td><td>0.3638</td><td>4.829</td><td>3.752</td><td>0</td><td>1.451</td><td>0.2554</td><td>5.681</td><td>3.68</td><td>0</td><td>5.197</td><td>--</td><td>2.421</td><td>0</td><td>0</td><td>0</td><td>0.02826</td><td>0.07526267 .. -0.0014229667</td><td>-0.009933128 .. -0.021649253</td><td>-0.009453942 .. -0.021678956</td><td>266.87354166666665,-28.426719444444444</td><td>Field02</td><td>--</td><td>SFGC0.649-0.0867</td><td>--</td><td>--</td><td>--</td><td>--</td><td>001</td><td>--</td><td>--</td><td>0.7705</td><td>011</td><td>--</td><td>1.829</td><td>2.439</td><td>947</td><td>266.87354166666665,-28.426719444444444</td></tr>\n",
       "<tr><td>SFGC0.671-0.0419</td><td>17h47m22.30s</td><td>-28d23m05.44s</td><td>a</td><td>0.7584</td><td>0.1035</td><td>7.326</td><td>2.216</td><td>0.2071</td><td>10.7</td><td>2.583</td><td>0.3106</td><td>8.315</td><td>2.922</td><td>1.165</td><td>2.414</td><td>0.1777</td><td>13.59</td><td>1.911</td><td>0.0</td><td>2.52</td><td>0.2082</td><td>12.1</td><td>1.553</td><td>0</td><td>8.844</td><td>--</td><td>2.483</td><td>0.02142</td><td>0</td><td>0</td><td>0</td><td>0.0020642637 .. -0.010091871</td><td>-0.00406073 .. -0.009509405</td><td>-0.0023189965 .. -0.008181876</td><td>a</td><td>8.878</td><td>0.5793</td><td>15.33</td><td>23.38</td><td>1.106</td><td>21.14</td><td>32.5</td><td>1.474</td><td>22.04</td><td>2.634</td><td>1.39</td><td>--</td><td>--</td><td>--</td><td>--</td><td>1</td><td>--</td><td>--</td><td>--</td><td>--</td><td>1</td><td>--</td><td>--</td><td>--</td><td>0</td><td>1</td><td>0</td><td>0.02826</td><td>0.011925301 .. 0.07435048</td><td>-- .. --</td><td>-- .. --</td><td>266.8429166666666,-28.384844444444443</td><td>Field01</td><td>--</td><td>SFGC0.671-0.0419</td><td>--</td><td>--</td><td>--</td><td>--</td><td>000</td><td>--</td><td>--</td><td>--</td><td>000</td><td>--</td><td>--</td><td>--</td><td>948</td><td>266.8429166666666,-28.384844444444443</td></tr>\n",
       "<tr><td>SFGC0.677-0.0267</td><td>17h47m19.65s</td><td>-28d22m17.39s</td><td>a</td><td>--</td><td>--</td><td>--</td><td>--</td><td>--</td><td>--</td><td>--</td><td>--</td><td>--</td><td>--</td><td>--</td><td>--</td><td>--</td><td>--</td><td>--</td><td>1.0</td><td>--</td><td>--</td><td>--</td><td>--</td><td>1</td><td>--</td><td>--</td><td>--</td><td>0.02142</td><td>0</td><td>0</td><td>1</td><td>-0.015196421 .. -0.019726224</td><td>-- .. --</td><td>-- .. --</td><td>g</td><td>5.949</td><td>0.271</td><td>21.95</td><td>10.81</td><td>0.5173</td><td>20.9</td><td>11.67</td><td>0.6898</td><td>16.92</td><td>1.817</td><td>1.079</td><td>--</td><td>--</td><td>--</td><td>--</td><td>1</td><td>10.41</td><td>0.3806</td><td>27.34</td><td>1.167</td><td>0</td><td>8.494</td><td>1.865</td><td>1.59</td><td>0</td><td>0</td><td>1</td><td>0.02826</td><td>0.0059511703 .. 0.011820818</td><td>-- .. --</td><td>0.028110461 .. 0.004298289</td><td>266.83187499999997,-28.371497222222224</td><td>Field01</td><td>--</td><td>SFGC0.677-0.0267</td><td>--</td><td>--</td><td>--</td><td>--</td><td>111</td><td>0.3269</td><td>0.6538</td><td>0.9805</td><td>000</td><td>--</td><td>--</td><td>--</td><td>949</td><td>266.83187499999997,-28.371497222222224</td></tr>\n",
       "<tr><td>SFGC0.694-0.0388</td><td>17h47m24.82s</td><td>-28d21m48.34s</td><td>a</td><td>--</td><td>--</td><td>--</td><td>--</td><td>--</td><td>--</td><td>--</td><td>--</td><td>--</td><td>--</td><td>--</td><td>--</td><td>--</td><td>--</td><td>--</td><td>1.0</td><td>--</td><td>--</td><td>--</td><td>--</td><td>1</td><td>--</td><td>--</td><td>--</td><td>0.02142</td><td>0</td><td>0</td><td>0</td><td>0.029547896 .. -0.010599544</td><td>-- .. --</td><td>-- .. --</td><td>a</td><td>1.648</td><td>0.3783</td><td>4.356</td><td>3.6</td><td>0.7222</td><td>4.985</td><td>5.073</td><td>0.9629</td><td>5.268</td><td>2.185</td><td>1.409</td><td>3.169</td><td>0.2138</td><td>14.82</td><td>1.056</td><td>0</td><td>2.933</td><td>0.5188</td><td>5.653</td><td>1.012</td><td>0</td><td>8.294</td><td>--</td><td>2.281</td><td>0</td><td>0</td><td>0</td><td>0.02826</td><td>0.11768225 .. -0.016305959</td><td>0.00071189494 .. -0.013451038</td><td>0.0040368433 .. -0.013443159</td><td>266.85341666666665,-28.36342777777778</td><td>Field01</td><td>--</td><td>SFGC0.694-0.0388</td><td>--</td><td>--</td><td>--</td><td>--</td><td>111</td><td>0.2773</td><td>0.5547</td><td>0.832</td><td>000</td><td>--</td><td>--</td><td>--</td><td>950</td><td>266.85341666666665,-28.36342777777778</td></tr>\n",
       "</table></div>"
      ],
      "text/plain": [
       "<Table length=950>\n",
       "     SourceID       RA(J2000)   ...   id                skycoords               \n",
       "                                ...                      deg,deg                \n",
       "     bytes18         bytes12    ... int32                 object                \n",
       "------------------ ------------ ... ----- --------------------------------------\n",
       "  SFGC0.642-0.0920 17h47m29.98s ...     1  266.8749166666667,-28.435030555555556\n",
       "SFGC359.917-0.0411 17h45m34.98s ...     2           266.39574999999996,-29.02835\n",
       "  SFGC0.639-0.0744 17h47m25.45s ...     3  266.85604166666667,-28.42843888888889\n",
       "  SFGC0.036-0.1818 17h46m24.88s ...     4  266.60366666666664,-29.00037222222222\n",
       "  SFGC0.002-0.1756 17h46m18.60s ...     5            266.5775,-29.02603611111111\n",
       "SFGC359.547-0.0525 17h44m44.48s ...     6  266.1853333333333,-29.350391666666667\n",
       "  SFGC0.185-0.0606 17h46m17.82s ...     7  266.57424999999995,-28.80950277777778\n",
       "SFGC359.997-0.1770 17h46m18.23s ...     8  266.5759583333333,-29.030852777777778\n",
       "SFGC359.955-0.0671 17h45m46.43s ...     9   266.4434583333333,-29.00989722222222\n",
       "               ...          ... ...   ...                                    ...\n",
       "  SFGC0.584-0.0385 17h47m09.22s ...   941 266.78841666666665,-28.457394444444443\n",
       "  SFGC0.598-0.0453 17h47m12.80s ...   942  266.8033333333333,-28.448658333333334\n",
       "  SFGC0.608-0.0474 17h47m14.71s ...   943 266.81129166666665,-28.441269444444444\n",
       "  SFGC0.623-0.0615 17h47m20.15s ...   944  266.8339583333333,-28.435605555555554\n",
       "  SFGC0.636-0.0209 17h47m12.43s ...   945 266.80179166666665,-28.403930555555554\n",
       "  SFGC0.645-0.0413 17h47m18.53s ...   946  266.8272083333334,-28.406430555555556\n",
       "  SFGC0.649-0.0867 17h47m29.65s ...   947 266.87354166666665,-28.426719444444444\n",
       "  SFGC0.671-0.0419 17h47m22.30s ...   948  266.8429166666666,-28.384844444444443\n",
       "  SFGC0.677-0.0267 17h47m19.65s ...   949 266.83187499999997,-28.371497222222224\n",
       "  SFGC0.694-0.0388 17h47m24.82s ...   950  266.85341666666665,-28.36342777777778"
      ]
     },
     "execution_count": 63,
     "metadata": {},
     "output_type": "execute_result"
    }
   ],
   "source": [
    "mcat"
   ]
  },
  {
   "cell_type": "markdown",
   "id": "eee52806",
   "metadata": {},
   "source": [
    "## Use astroquery to pull down the SSTGC catalog"
   ]
  },
  {
   "cell_type": "code",
   "execution_count": 11,
   "id": "385e6268",
   "metadata": {},
   "outputs": [
    {
     "name": "stdout",
     "output_type": "stream",
     "text": [
      "{'II/295': 'Spitzer IRAC survey of the galactic center (Ramirez+, 2008)', 'J/ApJ/685/958': 'Spitzer and Chandra sources in galactic center (Arendt+ 2008)'}\n",
      "TableList with 3 tables:\n",
      "\t'0:II/295/SSTGC' with 12 column(s) and 1000000 row(s) \n",
      "\t'1:II/295/GC-IRAC' with 8 column(s) and 1000000 row(s) \n",
      "\t'2:J/ApJ/685/958/table7' with 13 column(s) and 115 row(s) \n",
      " SSTGC    RAJ2000     DEJ2000    Jmag    Hmag   ... _5.8mag _8.0mag IRAC _2M\n",
      "          \"h:m:s\"     \"d:m:s\"    mag     mag    ...   mag     mag           \n",
      "------- ----------- ----------- ------ -------- ... ------- ------- ---- ---\n",
      "0000001 17 40 10.53 -29 32 49.2 16.204   13.493 ...      --      -- IRAC  2M\n",
      "0000002 17 40 10.62 -29 31 46.3 14.699   13.021 ...      --      -- IRAC  2M\n",
      "0000003 17 40 10.69 -29 32 57.4 14.558   12.976 ...      --      -- IRAC  2M\n",
      "0000004 17 40 10.69 -29 30 49.5 14.059   11.925 ...      --      -- IRAC  2M\n",
      "0000005 17 40 10.70 -29 31 12.1 13.900   13.339 ...      --      -- IRAC  2M\n",
      "0000006 17 40 10.70 -29 31 39.0 15.886   13.522 ...      --      -- IRAC  2M\n",
      "0000007 17 40 10.71 -29 26 06.8 13.135   11.176 ...      --      -- IRAC  2M\n",
      "0000008 17 40 10.71 -29 31 01.5 12.169   10.103 ...      --      -- IRAC  2M\n",
      "0000009 17 40 10.72 -29 24 55.2 13.318   11.258 ...      --      -- IRAC  2M\n",
      "0000010 17 40 10.72 -29 25 40.5 14.723   12.647 ...      --      -- IRAC  2M\n",
      "    ...         ...         ...    ...      ... ...     ...     ...  ... ...\n",
      "0999991 17 49 32.29 -28 48 13.2 15.317   15.115 ...      --      -- IRAC  2M\n",
      "0999992 17 49 32.30 -28 10 53.4 15.479   14.162 ...      --      -- IRAC  2M\n",
      "0999993 17 49 32.30 -28 19 17.5     --       -- ...      --      -- IRAC  2M\n",
      "0999994 17 49 32.30 -28 04 16.8 15.190   12.628 ...  10.421      -- IRAC  2M\n",
      "0999995 17 49 32.30 -28 06 20.2 14.913   12.318 ...  10.154      -- IRAC  2M\n",
      "0999996 17 49 32.30 -28 13 32.8 12.918    9.988 ...   7.094   7.153 IRAC  2M\n",
      "0999997 17 49 32.30 -28 37 46.6 14.892   13.232 ...  11.917      -- IRAC  2M\n",
      "0999998 17 49 32.30 -28 09 38.6 16.066   13.387 ...      --      -- IRAC  2M\n",
      "0999999 17 49 32.30 -28 24 29.6 14.732   13.207 ...  11.453      -- IRAC  2M\n",
      "1000000 17 49 32.30 -28 35 45.3 13.011   11.496 ...   9.590   9.625 IRAC  2M\n",
      "Length = 1000000 rows\n"
     ]
    }
   ],
   "source": [
    "#online catalog query\n",
    "catalog_list = Vizier.find_catalogs('Spitzer IRAC survey of the galactic center')\n",
    "print({k:v.description for k,v in catalog_list.items()})\n",
    "\n",
    "#get the SSTGC catalog\n",
    "Vizier.ROW_LIMIT = 1000000 #increased by factor of 10, otherwise no matches are returned\n",
    "catalog_irac = Vizier.get_catalogs(catalog_list.keys())\n",
    "print(catalog_irac)\n",
    "\n",
    "sstgc = catalog_irac['II/295/SSTGC']\n",
    "print(sstgc) "
   ]
  },
  {
   "cell_type": "code",
   "execution_count": 12,
   "id": "039e69bf",
   "metadata": {},
   "outputs": [],
   "source": [
    "#only select sources with 8um counterparts\n",
    "sstgc8um=sstgc[np.isnan(sstgc[\"_8.0mag\"])==False]\n",
    "\n",
    "#sstgc8um"
   ]
  },
  {
   "cell_type": "code",
   "execution_count": 13,
   "id": "6d915d2a",
   "metadata": {
    "scrolled": true
   },
   "outputs": [
    {
     "data": {
      "text/html": [
       "<div><i>Table length=304346</i>\n",
       "<table id=\"table2556136684368\" class=\"table-striped table-bordered table-condensed\">\n",
       "<thead><tr><th>SSTGC</th><th>RAJ2000</th><th>DEJ2000</th><th>Jmag</th><th>Hmag</th><th>Ksmag</th><th>_3.6mag</th><th>_4.5mag</th><th>_5.8mag</th><th>_8.0mag</th><th>IRAC</th><th>_2M</th><th>skycoords</th></tr></thead>\n",
       "<thead><tr><th></th><th>&quot;h:m:s&quot;</th><th>&quot;d:m:s&quot;</th><th>mag</th><th>mag</th><th>mag</th><th>mag</th><th>mag</th><th>mag</th><th>mag</th><th></th><th></th><th>deg,deg</th></tr></thead>\n",
       "<thead><tr><th>str7</th><th>str11</th><th>str11</th><th>float32</th><th>float32</th><th>float32</th><th>float32</th><th>float32</th><th>float32</th><th>float32</th><th>str4</th><th>str2</th><th>object</th></tr></thead>\n",
       "<tr><td>0000181</td><td>17 40 12.19</td><td>-29 32 20.3</td><td>--</td><td>--</td><td>--</td><td>--</td><td>--</td><td>--</td><td>10.702</td><td>IRAC</td><td>2M</td><td>265.05079166666667,-29.538972222222224</td></tr>\n",
       "<tr><td>0000192</td><td>17 40 12.23</td><td>-29 27 46.4</td><td>13.988</td><td>12.000</td><td>11.264</td><td>--</td><td>10.861</td><td>--</td><td>11.033</td><td>IRAC</td><td>2M</td><td>265.0509583333333,-29.462888888888887</td></tr>\n",
       "<tr><td>0000200</td><td>17 40 12.28</td><td>-29 23 20.8</td><td>12.667</td><td>11.304</td><td>10.812</td><td>--</td><td>--</td><td>--</td><td>10.347</td><td>IRAC</td><td>2M</td><td>265.05116666666663,-29.38911111111111</td></tr>\n",
       "<tr><td>0000267</td><td>17 40 12.60</td><td>-29 23 17.5</td><td>11.468</td><td>10.482</td><td>10.148</td><td>--</td><td>--</td><td>--</td><td>9.785</td><td>IRAC</td><td>2M</td><td>265.05249999999995,-29.388194444444444</td></tr>\n",
       "<tr><td>0000268</td><td>17 40 12.60</td><td>-29 27 53.2</td><td>12.378</td><td>10.224</td><td>9.276</td><td>--</td><td>8.534</td><td>--</td><td>8.562</td><td>IRAC</td><td>2M</td><td>265.05249999999995,-29.464777777777776</td></tr>\n",
       "<tr><td>0000280</td><td>17 40 12.69</td><td>-29 23 06.6</td><td>12.528</td><td>10.470</td><td>9.560</td><td>--</td><td>9.092</td><td>--</td><td>8.908</td><td>IRAC</td><td>2M</td><td>265.052875,-29.385166666666667</td></tr>\n",
       "<tr><td>0000337</td><td>17 40 13.00</td><td>-29 23 16.3</td><td>13.133</td><td>12.774</td><td>12.063</td><td>--</td><td>--</td><td>--</td><td>11.650</td><td>IRAC</td><td>2M</td><td>265.0541666666667,-29.38786111111111</td></tr>\n",
       "<tr><td>0000341</td><td>17 40 13.01</td><td>-29 32 43.5</td><td>11.820</td><td>9.748</td><td>8.869</td><td>--</td><td>--</td><td>--</td><td>8.199</td><td>IRAC</td><td>2M</td><td>265.05420833333335,-29.545416666666668</td></tr>\n",
       "<tr><td>0000371</td><td>17 40 13.16</td><td>-29 23 19.2</td><td>13.682</td><td>12.323</td><td>11.510</td><td>--</td><td>--</td><td>--</td><td>10.896</td><td>IRAC</td><td>2M</td><td>265.05483333333336,-29.388666666666666</td></tr>\n",
       "<tr><td>...</td><td>...</td><td>...</td><td>...</td><td>...</td><td>...</td><td>...</td><td>...</td><td>...</td><td>...</td><td>...</td><td>...</td><td>...</td></tr>\n",
       "<tr><td>0999969</td><td>17 49 32.27</td><td>-28 38 30.9</td><td>12.664</td><td>10.832</td><td>9.930</td><td>9.297</td><td>9.505</td><td>9.202</td><td>9.276</td><td>IRAC</td><td>2M</td><td>267.3844583333333,-28.641916666666667</td></tr>\n",
       "<tr><td>0999972</td><td>17 49 32.27</td><td>-28 54 22.5</td><td>14.713</td><td>11.201</td><td>9.493</td><td>8.442</td><td>8.559</td><td>8.106</td><td>8.194</td><td>IRAC</td><td>2M</td><td>267.3844583333333,-28.90625</td></tr>\n",
       "<tr><td>0999973</td><td>17 49 32.28</td><td>-29 03 41.9</td><td>11.002</td><td>8.799</td><td>7.614</td><td>--</td><td>6.506</td><td>--</td><td>6.210</td><td>IRAC</td><td>2M</td><td>267.38449999999995,-29.06163888888889</td></tr>\n",
       "<tr><td>0999977</td><td>17 49 32.28</td><td>-28 14 07.6</td><td>13.692</td><td>10.835</td><td>9.537</td><td>8.636</td><td>8.616</td><td>8.328</td><td>8.431</td><td>IRAC</td><td>2M</td><td>267.38449999999995,-28.235444444444447</td></tr>\n",
       "<tr><td>0999979</td><td>17 49 32.28</td><td>-28 40 53.1</td><td>15.916</td><td>13.037</td><td>11.851</td><td>11.009</td><td>11.080</td><td>10.444</td><td>9.721</td><td>IRAC</td><td>2M</td><td>267.38449999999995,-28.681416666666667</td></tr>\n",
       "<tr><td>0999982</td><td>17 49 32.28</td><td>-28 12 57.5</td><td>14.975</td><td>12.062</td><td>10.746</td><td>9.863</td><td>9.797</td><td>9.691</td><td>9.721</td><td>IRAC</td><td>2M</td><td>267.38449999999995,-28.21597222222222</td></tr>\n",
       "<tr><td>0999984</td><td>17 49 32.29</td><td>-28 34 19.7</td><td>13.649</td><td>12.659</td><td>11.640</td><td>10.784</td><td>10.822</td><td>10.689</td><td>10.755</td><td>IRAC</td><td>2M</td><td>267.3845416666667,-28.57213888888889</td></tr>\n",
       "<tr><td>0999985</td><td>17 49 32.29</td><td>-28 37 07.6</td><td>12.754</td><td>12.447</td><td>12.210</td><td>12.014</td><td>11.968</td><td>11.934</td><td>11.522</td><td>IRAC</td><td>2M</td><td>267.3845416666667,-28.61877777777778</td></tr>\n",
       "<tr><td>0999996</td><td>17 49 32.30</td><td>-28 13 32.8</td><td>12.918</td><td>9.988</td><td>8.555</td><td>7.437</td><td>7.437</td><td>7.094</td><td>7.153</td><td>IRAC</td><td>2M</td><td>267.3845833333333,-28.225777777777775</td></tr>\n",
       "<tr><td>1000000</td><td>17 49 32.30</td><td>-28 35 45.3</td><td>13.011</td><td>11.496</td><td>10.493</td><td>9.718</td><td>9.789</td><td>9.590</td><td>9.625</td><td>IRAC</td><td>2M</td><td>267.3845833333333,-28.595916666666664</td></tr>\n",
       "</table></div>"
      ],
      "text/plain": [
       "<Table length=304346>\n",
       " SSTGC    RAJ2000     DEJ2000   ... _2M                skycoords               \n",
       "          \"h:m:s\"     \"d:m:s\"   ...                     deg,deg                \n",
       "  str7     str11       str11    ... str2                 object                \n",
       "------- ----------- ----------- ... ---- --------------------------------------\n",
       "0000181 17 40 12.19 -29 32 20.3 ...   2M 265.05079166666667,-29.538972222222224\n",
       "0000192 17 40 12.23 -29 27 46.4 ...   2M  265.0509583333333,-29.462888888888887\n",
       "0000200 17 40 12.28 -29 23 20.8 ...   2M  265.05116666666663,-29.38911111111111\n",
       "0000267 17 40 12.60 -29 23 17.5 ...   2M 265.05249999999995,-29.388194444444444\n",
       "0000268 17 40 12.60 -29 27 53.2 ...   2M 265.05249999999995,-29.464777777777776\n",
       "0000280 17 40 12.69 -29 23 06.6 ...   2M         265.052875,-29.385166666666667\n",
       "0000337 17 40 13.00 -29 23 16.3 ...   2M   265.0541666666667,-29.38786111111111\n",
       "0000341 17 40 13.01 -29 32 43.5 ...   2M 265.05420833333335,-29.545416666666668\n",
       "0000371 17 40 13.16 -29 23 19.2 ...   2M 265.05483333333336,-29.388666666666666\n",
       "    ...         ...         ... ...  ...                                    ...\n",
       "0999969 17 49 32.27 -28 38 30.9 ...   2M  267.3844583333333,-28.641916666666667\n",
       "0999972 17 49 32.27 -28 54 22.5 ...   2M            267.3844583333333,-28.90625\n",
       "0999973 17 49 32.28 -29 03 41.9 ...   2M  267.38449999999995,-29.06163888888889\n",
       "0999977 17 49 32.28 -28 14 07.6 ...   2M 267.38449999999995,-28.235444444444447\n",
       "0999979 17 49 32.28 -28 40 53.1 ...   2M 267.38449999999995,-28.681416666666667\n",
       "0999982 17 49 32.28 -28 12 57.5 ...   2M  267.38449999999995,-28.21597222222222\n",
       "0999984 17 49 32.29 -28 34 19.7 ...   2M   267.3845416666667,-28.57213888888889\n",
       "0999985 17 49 32.29 -28 37 07.6 ...   2M   267.3845416666667,-28.61877777777778\n",
       "0999996 17 49 32.30 -28 13 32.8 ...   2M  267.3845833333333,-28.225777777777775\n",
       "1000000 17 49 32.30 -28 35 45.3 ...   2M  267.3845833333333,-28.595916666666664"
      ]
     },
     "execution_count": 13,
     "metadata": {},
     "output_type": "execute_result"
    }
   ],
   "source": [
    "#add new skycoord object to the VIZIER table for crossmatching\n",
    "ras=sstgc8um[\"RAJ2000\"]\n",
    "decs=sstgc8um[\"DEJ2000\"]\n",
    "\n",
    "scobj=SkyCoord(ras,decs,unit=(u.hr,u.deg))\n",
    "sstgc8um[\"skycoords\"]=scobj\n",
    "\n",
    "#print catalog to see the new entry\n",
    "sstgc8um"
   ]
  },
  {
   "cell_type": "markdown",
   "id": "d1032e4b",
   "metadata": {},
   "source": [
    "## Perform cross match between tables for astrometry comparison"
   ]
  },
  {
   "cell_type": "code",
   "execution_count": 64,
   "id": "514b70f8",
   "metadata": {},
   "outputs": [
    {
     "name": "stdout",
     "output_type": "stream",
     "text": [
      "Number of crossmatched sources found:  537\n"
     ]
    }
   ],
   "source": [
    "SSTGCsources=sstgc8um['skycoords']\n",
    "mcatsources=mcat['skycoords']\n",
    "\n",
    "idx,rdx, d2d, d3d = mcatsources.search_around_sky(SSTGCsources, 3*u.arcsec) #use 3\" for catalog matches and 5\" for paper plot\n",
    "\n",
    "print('Number of crossmatched sources found: ', len(idx))"
   ]
  },
  {
   "cell_type": "code",
   "execution_count": 65,
   "id": "2ef71f3b",
   "metadata": {},
   "outputs": [],
   "source": [
    "#create new tables containing only the crossmatched sources\n",
    "matchedSSTGC=sstgc8um[idx]\n",
    "matchedmcat=mcat[rdx]"
   ]
  },
  {
   "cell_type": "code",
   "execution_count": 66,
   "id": "2dcca55a",
   "metadata": {},
   "outputs": [
    {
     "name": "stdout",
     "output_type": "stream",
     "text": [
      "Average difference in RA:  6.758224705163398e-05 ,  Standard deviation of difference:  0.00036473492994286324\n",
      "Average difference in DEC:  3.579557210791149e-06 ,  Standard deviation of difference:  0.00033472539907620076\n"
     ]
    }
   ],
   "source": [
    "#Examine the positional accuracy of the cross match\n",
    "deltaRA=matchedmcat['skycoords'].ra.deg - matchedSSTGC['skycoords'].ra.deg\n",
    "deltaDEC=matchedmcat['skycoords'].dec.deg - matchedSSTGC['skycoords'].dec.deg\n",
    "\n",
    "print(\"Average difference in RA: \", np.mean(deltaRA), \",  Standard deviation of difference: \", np.std(deltaRA))\n",
    "print(\"Average difference in DEC: \", np.mean(deltaDEC), \",  Standard deviation of difference: \", np.std(deltaDEC))"
   ]
  },
  {
   "cell_type": "code",
   "execution_count": 67,
   "id": "fae48cc1",
   "metadata": {},
   "outputs": [
    {
     "name": "stdout",
     "output_type": "stream",
     "text": [
      "Average difference in RA:  0.24329608938725253 ,  Standard deviation of difference:  1.3130457477919157\n",
      "Average difference in DEC:  0.012886405958296744 ,  Standard deviation of difference:  1.2050114366740026\n"
     ]
    }
   ],
   "source": [
    "#Examine the positional accuracy of the cross match\n",
    "deltaRA=matchedmcat['skycoords'].ra.arcsec - matchedSSTGC['skycoords'].ra.arcsec\n",
    "deltaDEC=matchedmcat['skycoords'].dec.arcsec - matchedSSTGC['skycoords'].dec.arcsec\n",
    "\n",
    "print(\"Average difference in RA: \", np.mean(deltaRA), \",  Standard deviation of difference: \", np.std(deltaRA))\n",
    "print(\"Average difference in DEC: \", np.mean(deltaDEC), \",  Standard deviation of difference: \", np.std(deltaDEC))"
   ]
  },
  {
   "cell_type": "code",
   "execution_count": 68,
   "id": "0cc9f89c",
   "metadata": {},
   "outputs": [
    {
     "data": {
      "image/png": "[encoded data removed]",
      "text/plain": [
       "<Figure size 576x576 with 3 Axes>"
      ]
     },
     "metadata": {
      "needs_background": "light"
     },
     "output_type": "display_data"
    }
   ],
   "source": [
    "#define a 'fancy' scatter+histogram plot\n",
    "def scatter_hist(x, y, ax, ax_histx, ax_histy):\n",
    "    # no labels\n",
    "    ax_histx.tick_params(axis=\"x\", labelbottom=False)\n",
    "    ax_histy.tick_params(axis=\"y\", labelleft=False)\n",
    "\n",
    "    # the scatter plot:\n",
    "    ax.scatter(x, y)\n",
    "\n",
    "    # now determine nice limits by hand:\n",
    "    binwidth = 0.25 #1e-4\n",
    "    xymax = max(np.max(np.abs(x)), np.max(np.abs(y)))\n",
    "    lim = (int(xymax/binwidth) + 1) * binwidth\n",
    "\n",
    "    bins = np.arange(-lim, lim + binwidth, binwidth)\n",
    "    ax_histx.hist(deltaRA, bins=bins)\n",
    "    ax_histy.hist(deltaDEC, bins=bins, orientation='horizontal')\n",
    "\n",
    "    \n",
    "    \n",
    "#make the scatter+hist plot for position x-match\n",
    "plt.rcParams.update({'font.size': 14})\n",
    "\n",
    "# definitions for the axes\n",
    "left, width = 0.1, 0.65\n",
    "bottom, height = 0.1, 0.65\n",
    "spacing = 0.02\n",
    "\n",
    "\n",
    "rect_scatter = [left, bottom, width, height]\n",
    "rect_histx = [left, bottom + height + spacing, width, 0.2]\n",
    "rect_histy = [left + width + spacing, bottom, 0.2, height]\n",
    "\n",
    "# start with a square Figure\n",
    "fig = plt.figure(figsize=(8, 8))\n",
    "\n",
    "ax = fig.add_axes(rect_scatter)\n",
    "ax_histx = fig.add_axes(rect_histx, sharex=ax)\n",
    "ax_histy = fig.add_axes(rect_histy, sharey=ax)\n",
    "\n",
    "# use the previously defined function\n",
    "scatter_hist(deltaRA, deltaDEC, ax, ax_histx, ax_histy)\n",
    "\n",
    "ax.set_xlabel('RA Difference (\\\")')\n",
    "ax.set_ylabel('DEC Difference (\\\")')\n",
    "\n",
    "plt.show()\n"
   ]
  },
  {
   "cell_type": "markdown",
   "id": "5e645daf",
   "metadata": {},
   "source": [
    "### check for possible source duplication (multiple matches to the same sources)"
   ]
  },
  {
   "cell_type": "code",
   "execution_count": 69,
   "id": "4c637064",
   "metadata": {},
   "outputs": [
    {
     "data": {
      "text/plain": [
       "array([133907, 193776, 234645])"
      ]
     },
     "execution_count": 69,
     "metadata": {},
     "output_type": "execute_result"
    }
   ],
   "source": [
    "#idx\n",
    "w, c = np.unique(idx, return_counts=True)\n",
    "w[c > 1]"
   ]
  },
  {
   "cell_type": "code",
   "execution_count": 70,
   "id": "77e4eadf",
   "metadata": {},
   "outputs": [
    {
     "data": {
      "text/plain": [
       "array([ 23,  77, 105, 110, 127, 163, 171, 174, 182, 230, 324, 375, 469,\n",
       "       595, 599, 626, 688, 839, 858, 895, 896, 946])"
      ]
     },
     "execution_count": 70,
     "metadata": {},
     "output_type": "execute_result"
    }
   ],
   "source": [
    "#idx\n",
    "w, c = np.unique(rdx, return_counts=True)\n",
    "w[c > 1]"
   ]
  },
  {
   "cell_type": "code",
   "execution_count": 71,
   "id": "b62ebce4",
   "metadata": {},
   "outputs": [],
   "source": [
    "#above cells show that some sources are being double counted \n",
    "#this function will ensure that only the closest match will be counted and the more distant matches will not be returned. \n",
    "def remove_duplicates2(cat1,cat2,radius):\n",
    "    \n",
    "    #get source coordinates from both tables\n",
    "    sources1=cat1['skycoords']\n",
    "    sources2=cat2['skycoords']\n",
    "\n",
    "    #crossmatch source lists to look for duplication\n",
    "    idx,rdx, d2d, d3d = sources1.search_around_sky(sources2, radius*u.arcsec)\n",
    "    print('Number of crossmatched sources found: ', len(idx))\n",
    "    \n",
    "    order=np.argsort(d2d)\n",
    "    dvals=d2d[order].arcsec\n",
    "    idxsort=idx[order]\n",
    "    rdxsort=rdx[order]\n",
    "    \n",
    "    catsort1=cat1[rdxsort]  #this cell is where the changes can be made to swap between tables. \n",
    "    catsort2=cat2[idxsort]\n",
    "    #m37=mcat37snrcut[idxsort]\n",
    "    #m25['xmatchd2d']=np.round(dvals,3)\n",
    "\n",
    "    sindex=0\n",
    "    start=catsort1[:sindex]\n",
    "    \n",
    "    \n",
    "    try:\n",
    "        colname='SourceID'\n",
    "        sourceList=list(start[colname])\n",
    "    except:\n",
    "        colname='SSTGC'\n",
    "        sourceList=list(start[colname])\n",
    "    \n",
    "    #reject_idx=[]\n",
    "    #reject_rdx=[]\n",
    "    #d2d_update=[]\n",
    "    ivals=[]\n",
    "\n",
    "    for i in range(sindex+1,len(catsort1)):\n",
    "        newsid=catsort1[i][colname]\n",
    "\n",
    "        if newsid not in sourceList:\n",
    "            sourceList.append(newsid)\n",
    "        else:\n",
    "            #print(newsid, \" is already in source list!\")\n",
    "            #reject_idx.append(idxsort[i])\n",
    "            #reject_rdx.append(rdxsort[i])\n",
    "            #d2d_update.append(dvals[i])\n",
    "            ivals.append(i)\n",
    "\n",
    "     \n",
    "    rdxNoDup=np.delete(rdxsort,ivals)    \n",
    "    idxNoDup=np.delete(idxsort,ivals) \n",
    "    d2dup=np.delete(dvals,ivals)\n",
    "\n",
    "    cat1nd=cat1[rdxNoDup]\n",
    "    cat2nd=cat2[idxNoDup]\n",
    "    \n",
    "    \n",
    "    return cat1nd,cat2nd,d2dup"
   ]
  },
  {
   "cell_type": "code",
   "execution_count": 72,
   "id": "b8f755f2",
   "metadata": {},
   "outputs": [
    {
     "name": "stdout",
     "output_type": "stream",
     "text": [
      "Number of crossmatched sources found:  643\n"
     ]
    }
   ],
   "source": [
    "stgccat,matchedmcat,d2dup=remove_duplicates2(sstgc8um,mcat,4.0) #if greater than 4\" start getting duplicaiton with SSTGC sources"
   ]
  },
  {
   "cell_type": "code",
   "execution_count": 73,
   "id": "c9b02ace",
   "metadata": {},
   "outputs": [
    {
     "name": "stdout",
     "output_type": "stream",
     "text": [
      "Number of crossmatched sources found:  602\n"
     ]
    }
   ],
   "source": [
    "matchedmcat,stgccat,d2dup=remove_duplicates2(matchedmcat,stgccat,3.0)"
   ]
  },
  {
   "cell_type": "code",
   "execution_count": 74,
   "id": "590e01e4",
   "metadata": {},
   "outputs": [
    {
     "data": {
      "text/plain": [
       "512"
      ]
     },
     "execution_count": 74,
     "metadata": {},
     "output_type": "execute_result"
    }
   ],
   "source": [
    "len(stgccat)"
   ]
  },
  {
   "cell_type": "code",
   "execution_count": 75,
   "id": "0917d478",
   "metadata": {},
   "outputs": [
    {
     "data": {
      "text/plain": [
       "512"
      ]
     },
     "execution_count": 75,
     "metadata": {},
     "output_type": "execute_result"
    }
   ],
   "source": [
    "len(matchedmcat)"
   ]
  },
  {
   "cell_type": "code",
   "execution_count": 76,
   "id": "bf7fb6b1",
   "metadata": {},
   "outputs": [
    {
     "data": {
      "text/html": [
       "&lt;MaskedColumn name=&apos;SSTGC&apos; dtype=&apos;str7&apos; length=0&gt;\n",
       "<table>\n",
       "</table>"
      ],
      "text/plain": [
       "<MaskedColumn name='SSTGC' dtype='str7' length=0>"
      ]
     },
     "execution_count": 76,
     "metadata": {},
     "output_type": "execute_result"
    }
   ],
   "source": [
    "#check to ensure that we aren't double counting sources now\n",
    "w, c = np.unique(stgccat['SSTGC'], return_counts=True)\n",
    "w[c > 1]"
   ]
  },
  {
   "cell_type": "code",
   "execution_count": 77,
   "id": "f68ed621",
   "metadata": {},
   "outputs": [
    {
     "data": {
      "text/html": [
       "&lt;Column name=&apos;SourceID&apos; dtype=&apos;bytes18&apos; length=0&gt;\n",
       "<table>\n",
       "</table>"
      ],
      "text/plain": [
       "<Column name='SourceID' dtype='bytes18' length=0>"
      ]
     },
     "execution_count": 77,
     "metadata": {},
     "output_type": "execute_result"
    }
   ],
   "source": [
    "#check to ensure that we aren't double counting sources now\n",
    "w, c = np.unique(matchedmcat['SourceID'], return_counts=True)\n",
    "w[c > 1]"
   ]
  },
  {
   "cell_type": "code",
   "execution_count": 78,
   "id": "31c57b46",
   "metadata": {
    "scrolled": true
   },
   "outputs": [
    {
     "data": {
      "text/html": [
       "<div><i>Table length=512</i>\n",
       "<table id=\"table2556379211616\" class=\"table-striped table-bordered table-condensed\">\n",
       "<thead><tr><th>SSTGC</th><th>RAJ2000</th><th>DEJ2000</th><th>Jmag</th><th>Hmag</th><th>Ksmag</th><th>_3.6mag</th><th>_4.5mag</th><th>_5.8mag</th><th>_8.0mag</th><th>IRAC</th><th>_2M</th><th>skycoords</th></tr></thead>\n",
       "<thead><tr><th></th><th>&quot;h:m:s&quot;</th><th>&quot;d:m:s&quot;</th><th>mag</th><th>mag</th><th>mag</th><th>mag</th><th>mag</th><th>mag</th><th>mag</th><th></th><th></th><th>deg,deg</th></tr></thead>\n",
       "<thead><tr><th>str7</th><th>str11</th><th>str11</th><th>float32</th><th>float32</th><th>float32</th><th>float32</th><th>float32</th><th>float32</th><th>float32</th><th>str4</th><th>str2</th><th>object</th></tr></thead>\n",
       "<tr><td>0558345</td><td>17 45 52.11</td><td>-28 47 18.4</td><td>10.354</td><td>7.426</td><td>5.802</td><td>--</td><td>--</td><td>3.473</td><td>3.661</td><td>IRAC</td><td>2M</td><td>266.467125,-28.788444444444448</td></tr>\n",
       "<tr><td>0515803</td><td>17 45 36.61</td><td>-28 59 45.8</td><td>--</td><td>--</td><td>--</td><td>--</td><td>--</td><td>--</td><td>6.617</td><td>IRAC</td><td>2M</td><td>266.4025416666666,-28.996055555555557</td></tr>\n",
       "<tr><td>0673798</td><td>17 46 34.01</td><td>-28 42 46.2</td><td>15.855</td><td>12.880</td><td>9.720</td><td>7.191</td><td>6.466</td><td>5.743</td><td>5.558</td><td>IRAC</td><td>2M</td><td>266.64170833333327,-28.712833333333332</td></tr>\n",
       "<tr><td>0667560</td><td>17 46 31.70</td><td>-28 35 41.2</td><td>--</td><td>--</td><td>--</td><td>7.824</td><td>6.393</td><td>5.374</td><td>5.041</td><td>IRAC</td><td>2M</td><td>266.63208333333324,-28.594777777777775</td></tr>\n",
       "<tr><td>0516452</td><td>17 45 36.83</td><td>-28 59 19.8</td><td>--</td><td>--</td><td>--</td><td>--</td><td>10.943</td><td>9.834</td><td>8.658</td><td>IRAC</td><td>2M</td><td>266.4034583333333,-28.988833333333336</td></tr>\n",
       "<tr><td>0648643</td><td>17 46 24.87</td><td>-29 00 01.3</td><td>17.327</td><td>13.881</td><td>10.972</td><td>7.673</td><td>6.394</td><td>5.281</td><td>4.893</td><td>IRAC</td><td>2M</td><td>266.6036249999999,-29.00036111111111</td></tr>\n",
       "<tr><td>0521894</td><td>17 45 38.82</td><td>-28 52 31.9</td><td>--</td><td>--</td><td>--</td><td>10.668</td><td>9.378</td><td>7.410</td><td>5.598</td><td>IRAC</td><td>2M</td><td>266.41175,-28.87552777777778</td></tr>\n",
       "<tr><td>0414950</td><td>17 44 58.95</td><td>-29 16 27.4</td><td>10.605</td><td>7.348</td><td>5.658</td><td>--</td><td>5.737</td><td>3.756</td><td>3.708</td><td>IRAC</td><td>2M</td><td>266.24562499999996,-29.274277777777776</td></tr>\n",
       "<tr><td>0279869</td><td>17 44 04.83</td><td>-29 25 21.0</td><td>--</td><td>--</td><td>--</td><td>--</td><td>--</td><td>--</td><td>7.883</td><td>IRAC</td><td>2M</td><td>266.02012499999995,-29.4225</td></tr>\n",
       "<tr><td>...</td><td>...</td><td>...</td><td>...</td><td>...</td><td>...</td><td>...</td><td>...</td><td>...</td><td>...</td><td>...</td><td>...</td><td>...</td></tr>\n",
       "<tr><td>0562378</td><td>17 45 53.60</td><td>-28 58 08.1</td><td>--</td><td>--</td><td>--</td><td>--</td><td>--</td><td>--</td><td>5.544</td><td>IRAC</td><td>2M</td><td>266.4733333333333,-28.968916666666665</td></tr>\n",
       "<tr><td>0368854</td><td>17 44 41.29</td><td>-29 24 35.4</td><td>--</td><td>--</td><td>--</td><td>10.834</td><td>9.641</td><td>--</td><td>6.380</td><td>IRAC</td><td>2M</td><td>266.17204166666664,-29.40983333333333</td></tr>\n",
       "<tr><td>0783999</td><td>17 47 17.78</td><td>-28 24 04.5</td><td>--</td><td>--</td><td>--</td><td>--</td><td>--</td><td>--</td><td>7.984</td><td>IRAC</td><td>2M</td><td>266.82408333333336,-28.401249999999997</td></tr>\n",
       "<tr><td>0650438</td><td>17 46 25.53</td><td>-28 47 30.9</td><td>--</td><td>--</td><td>--</td><td>--</td><td>--</td><td>8.977</td><td>7.095</td><td>IRAC</td><td>2M</td><td>266.60637499999996,-28.79191666666667</td></tr>\n",
       "<tr><td>0532584</td><td>17 45 42.77</td><td>-28 59 57.4</td><td>14.798</td><td>10.416</td><td>7.978</td><td>6.927</td><td>5.947</td><td>4.932</td><td>4.774</td><td>IRAC</td><td>2M</td><td>266.4282083333333,-28.999277777777777</td></tr>\n",
       "<tr><td>0623735</td><td>17 46 15.85</td><td>-28 49 52.0</td><td>--</td><td>--</td><td>--</td><td>--</td><td>--</td><td>--</td><td>6.215</td><td>IRAC</td><td>2M</td><td>266.5660416666666,-28.83111111111111</td></tr>\n",
       "<tr><td>0383448</td><td>17 44 46.90</td><td>-29 23 45.9</td><td>--</td><td>--</td><td>--</td><td>--</td><td>--</td><td>--</td><td>5.637</td><td>IRAC</td><td>2M</td><td>266.1954166666667,-29.396083333333333</td></tr>\n",
       "<tr><td>0513261</td><td>17 45 35.66</td><td>-28 59 42.4</td><td>16.128</td><td>11.790</td><td>9.622</td><td>7.893</td><td>7.767</td><td>7.033</td><td>6.530</td><td>IRAC</td><td>2M</td><td>266.3985833333333,-28.99511111111111</td></tr>\n",
       "<tr><td>0524678</td><td>17 45 39.86</td><td>-29 00 08.5</td><td>--</td><td>--</td><td>--</td><td>9.165</td><td>--</td><td>--</td><td>5.547</td><td>IRAC</td><td>2M</td><td>266.4160833333333,-29.00236111111111</td></tr>\n",
       "<tr><td>0377852</td><td>17 44 44.77</td><td>-29 22 31.2</td><td>--</td><td>--</td><td>--</td><td>--</td><td>--</td><td>--</td><td>9.132</td><td>IRAC</td><td>2M</td><td>266.18654166666664,-29.375333333333334</td></tr>\n",
       "</table></div>"
      ],
      "text/plain": [
       "<Table length=512>\n",
       " SSTGC    RAJ2000     DEJ2000   ... _2M                skycoords               \n",
       "          \"h:m:s\"     \"d:m:s\"   ...                     deg,deg                \n",
       "  str7     str11       str11    ... str2                 object                \n",
       "------- ----------- ----------- ... ---- --------------------------------------\n",
       "0558345 17 45 52.11 -28 47 18.4 ...   2M         266.467125,-28.788444444444448\n",
       "0515803 17 45 36.61 -28 59 45.8 ...   2M  266.4025416666666,-28.996055555555557\n",
       "0673798 17 46 34.01 -28 42 46.2 ...   2M 266.64170833333327,-28.712833333333332\n",
       "0667560 17 46 31.70 -28 35 41.2 ...   2M 266.63208333333324,-28.594777777777775\n",
       "0516452 17 45 36.83 -28 59 19.8 ...   2M  266.4034583333333,-28.988833333333336\n",
       "0648643 17 46 24.87 -29 00 01.3 ...   2M   266.6036249999999,-29.00036111111111\n",
       "0521894 17 45 38.82 -28 52 31.9 ...   2M           266.41175,-28.87552777777778\n",
       "0414950 17 44 58.95 -29 16 27.4 ...   2M 266.24562499999996,-29.274277777777776\n",
       "0279869 17 44 04.83 -29 25 21.0 ...   2M            266.02012499999995,-29.4225\n",
       "    ...         ...         ... ...  ...                                    ...\n",
       "0562378 17 45 53.60 -28 58 08.1 ...   2M  266.4733333333333,-28.968916666666665\n",
       "0368854 17 44 41.29 -29 24 35.4 ...   2M  266.17204166666664,-29.40983333333333\n",
       "0783999 17 47 17.78 -28 24 04.5 ...   2M 266.82408333333336,-28.401249999999997\n",
       "0650438 17 46 25.53 -28 47 30.9 ...   2M  266.60637499999996,-28.79191666666667\n",
       "0532584 17 45 42.77 -28 59 57.4 ...   2M  266.4282083333333,-28.999277777777777\n",
       "0623735 17 46 15.85 -28 49 52.0 ...   2M   266.5660416666666,-28.83111111111111\n",
       "0383448 17 44 46.90 -29 23 45.9 ...   2M  266.1954166666667,-29.396083333333333\n",
       "0513261 17 45 35.66 -28 59 42.4 ...   2M   266.3985833333333,-28.99511111111111\n",
       "0524678 17 45 39.86 -29 00 08.5 ...   2M   266.4160833333333,-29.00236111111111\n",
       "0377852 17 44 44.77 -29 22 31.2 ...   2M 266.18654166666664,-29.375333333333334"
      ]
     },
     "execution_count": 78,
     "metadata": {},
     "output_type": "execute_result"
    }
   ],
   "source": [
    "stgccat"
   ]
  },
  {
   "cell_type": "code",
   "execution_count": 79,
   "id": "1543674e",
   "metadata": {},
   "outputs": [
    {
     "name": "stdout",
     "output_type": "stream",
     "text": [
      "Average difference in RA:  0.27011718750190994 ,  Standard deviation of difference:  1.2717158937372464\n",
      "Average difference in DEC:  0.00845703124932129 ,  Standard deviation of difference:  1.1719915617484244\n"
     ]
    }
   ],
   "source": [
    "#Examine the positional accuracy of the cross match\n",
    "deltaRA=matchedmcat['skycoords'].ra.arcsec - stgccat['skycoords'].ra.arcsec\n",
    "deltaDEC=matchedmcat['skycoords'].dec.arcsec - stgccat['skycoords'].dec.arcsec\n",
    "\n",
    "print(\"Average difference in RA: \", np.mean(deltaRA), \",  Standard deviation of difference: \", np.std(deltaRA))\n",
    "print(\"Average difference in DEC: \", np.mean(deltaDEC), \",  Standard deviation of difference: \", np.std(deltaDEC))"
   ]
  },
  {
   "cell_type": "code",
   "execution_count": 80,
   "id": "5e8834da",
   "metadata": {},
   "outputs": [
    {
     "data": {
      "image/png": "[encoded data removed]",
      "text/plain": [
       "<Figure size 576x576 with 3 Axes>"
      ]
     },
     "metadata": {
      "needs_background": "light"
     },
     "output_type": "display_data"
    }
   ],
   "source": [
    "#define a 'fancy' scatter+histogram plot\n",
    "def scatter_hist(x, y, ax, ax_histx, ax_histy):\n",
    "    # no labels\n",
    "    ax_histx.tick_params(axis=\"x\", labelbottom=False)\n",
    "    ax_histy.tick_params(axis=\"y\", labelleft=False)\n",
    "\n",
    "    # the scatter plot:\n",
    "    ax.scatter(x, y,color='k')\n",
    "\n",
    "    # now determine nice limits by hand:\n",
    "    binwidth = 0.25 #1e-4\n",
    "    xymax = max(np.max(np.abs(x)), np.max(np.abs(y)))\n",
    "    lim = (int(xymax/binwidth) + 1) * binwidth\n",
    "\n",
    "    bins = np.arange(-lim, lim + binwidth, binwidth)\n",
    "    ax_histx.hist(deltaRA, bins=bins,color='k')\n",
    "    ax_histy.hist(deltaDEC, bins=bins, orientation='horizontal',color='k')\n",
    "\n",
    "    \n",
    "    \n",
    "#make the scatter+hist plot for position x-match\n",
    "plt.rcParams.update({'font.size': 14})\n",
    "\n",
    "# definitions for the axes\n",
    "left, width = 0.1, 0.65\n",
    "bottom, height = 0.1, 0.65\n",
    "spacing = 0.02\n",
    "\n",
    "\n",
    "rect_scatter = [left, bottom, width, height]\n",
    "rect_histx = [left, bottom + height + spacing, width, 0.2]\n",
    "rect_histy = [left + width + spacing, bottom, 0.2, height]\n",
    "\n",
    "# start with a square Figure\n",
    "fig = plt.figure(figsize=(8, 8))\n",
    "\n",
    "ax = fig.add_axes(rect_scatter)\n",
    "ax_histx = fig.add_axes(rect_histx, sharex=ax)\n",
    "ax_histy = fig.add_axes(rect_histy, sharey=ax)\n",
    "\n",
    "# use the previously defined function\n",
    "scatter_hist(deltaRA, deltaDEC, ax, ax_histx, ax_histy)\n",
    "\n",
    "ax.set_xlabel('RA Difference (\\\")')\n",
    "ax.set_ylabel('DEC Difference (\\\")')\n",
    "\n",
    "#plt.savefig(\"AstrometryCrossmatch.pdf\",dpi=300)\n",
    "\n",
    "plt.show()\n"
   ]
  },
  {
   "cell_type": "code",
   "execution_count": 81,
   "id": "e4c25851",
   "metadata": {
    "scrolled": true
   },
   "outputs": [
    {
     "data": {
      "text/html": [
       "<div><i>Table length=512</i>\n",
       "<table id=\"table2556379211616\" class=\"table-striped table-bordered table-condensed\">\n",
       "<thead><tr><th>SSTGC</th><th>RAJ2000</th><th>DEJ2000</th><th>Jmag</th><th>Hmag</th><th>Ksmag</th><th>_3.6mag</th><th>_4.5mag</th><th>_5.8mag</th><th>_8.0mag</th><th>IRAC</th><th>_2M</th><th>skycoords</th></tr></thead>\n",
       "<thead><tr><th></th><th>&quot;h:m:s&quot;</th><th>&quot;d:m:s&quot;</th><th>mag</th><th>mag</th><th>mag</th><th>mag</th><th>mag</th><th>mag</th><th>mag</th><th></th><th></th><th>deg,deg</th></tr></thead>\n",
       "<thead><tr><th>str7</th><th>str11</th><th>str11</th><th>float32</th><th>float32</th><th>float32</th><th>float32</th><th>float32</th><th>float32</th><th>float32</th><th>str4</th><th>str2</th><th>object</th></tr></thead>\n",
       "<tr><td>0558345</td><td>17 45 52.11</td><td>-28 47 18.4</td><td>10.354</td><td>7.426</td><td>5.802</td><td>--</td><td>--</td><td>3.473</td><td>3.661</td><td>IRAC</td><td>2M</td><td>266.467125,-28.788444444444448</td></tr>\n",
       "<tr><td>0515803</td><td>17 45 36.61</td><td>-28 59 45.8</td><td>--</td><td>--</td><td>--</td><td>--</td><td>--</td><td>--</td><td>6.617</td><td>IRAC</td><td>2M</td><td>266.4025416666666,-28.996055555555557</td></tr>\n",
       "<tr><td>0673798</td><td>17 46 34.01</td><td>-28 42 46.2</td><td>15.855</td><td>12.880</td><td>9.720</td><td>7.191</td><td>6.466</td><td>5.743</td><td>5.558</td><td>IRAC</td><td>2M</td><td>266.64170833333327,-28.712833333333332</td></tr>\n",
       "<tr><td>0667560</td><td>17 46 31.70</td><td>-28 35 41.2</td><td>--</td><td>--</td><td>--</td><td>7.824</td><td>6.393</td><td>5.374</td><td>5.041</td><td>IRAC</td><td>2M</td><td>266.63208333333324,-28.594777777777775</td></tr>\n",
       "<tr><td>0516452</td><td>17 45 36.83</td><td>-28 59 19.8</td><td>--</td><td>--</td><td>--</td><td>--</td><td>10.943</td><td>9.834</td><td>8.658</td><td>IRAC</td><td>2M</td><td>266.4034583333333,-28.988833333333336</td></tr>\n",
       "<tr><td>0648643</td><td>17 46 24.87</td><td>-29 00 01.3</td><td>17.327</td><td>13.881</td><td>10.972</td><td>7.673</td><td>6.394</td><td>5.281</td><td>4.893</td><td>IRAC</td><td>2M</td><td>266.6036249999999,-29.00036111111111</td></tr>\n",
       "<tr><td>0521894</td><td>17 45 38.82</td><td>-28 52 31.9</td><td>--</td><td>--</td><td>--</td><td>10.668</td><td>9.378</td><td>7.410</td><td>5.598</td><td>IRAC</td><td>2M</td><td>266.41175,-28.87552777777778</td></tr>\n",
       "<tr><td>0414950</td><td>17 44 58.95</td><td>-29 16 27.4</td><td>10.605</td><td>7.348</td><td>5.658</td><td>--</td><td>5.737</td><td>3.756</td><td>3.708</td><td>IRAC</td><td>2M</td><td>266.24562499999996,-29.274277777777776</td></tr>\n",
       "<tr><td>0279869</td><td>17 44 04.83</td><td>-29 25 21.0</td><td>--</td><td>--</td><td>--</td><td>--</td><td>--</td><td>--</td><td>7.883</td><td>IRAC</td><td>2M</td><td>266.02012499999995,-29.4225</td></tr>\n",
       "<tr><td>...</td><td>...</td><td>...</td><td>...</td><td>...</td><td>...</td><td>...</td><td>...</td><td>...</td><td>...</td><td>...</td><td>...</td><td>...</td></tr>\n",
       "<tr><td>0562378</td><td>17 45 53.60</td><td>-28 58 08.1</td><td>--</td><td>--</td><td>--</td><td>--</td><td>--</td><td>--</td><td>5.544</td><td>IRAC</td><td>2M</td><td>266.4733333333333,-28.968916666666665</td></tr>\n",
       "<tr><td>0368854</td><td>17 44 41.29</td><td>-29 24 35.4</td><td>--</td><td>--</td><td>--</td><td>10.834</td><td>9.641</td><td>--</td><td>6.380</td><td>IRAC</td><td>2M</td><td>266.17204166666664,-29.40983333333333</td></tr>\n",
       "<tr><td>0783999</td><td>17 47 17.78</td><td>-28 24 04.5</td><td>--</td><td>--</td><td>--</td><td>--</td><td>--</td><td>--</td><td>7.984</td><td>IRAC</td><td>2M</td><td>266.82408333333336,-28.401249999999997</td></tr>\n",
       "<tr><td>0650438</td><td>17 46 25.53</td><td>-28 47 30.9</td><td>--</td><td>--</td><td>--</td><td>--</td><td>--</td><td>8.977</td><td>7.095</td><td>IRAC</td><td>2M</td><td>266.60637499999996,-28.79191666666667</td></tr>\n",
       "<tr><td>0532584</td><td>17 45 42.77</td><td>-28 59 57.4</td><td>14.798</td><td>10.416</td><td>7.978</td><td>6.927</td><td>5.947</td><td>4.932</td><td>4.774</td><td>IRAC</td><td>2M</td><td>266.4282083333333,-28.999277777777777</td></tr>\n",
       "<tr><td>0623735</td><td>17 46 15.85</td><td>-28 49 52.0</td><td>--</td><td>--</td><td>--</td><td>--</td><td>--</td><td>--</td><td>6.215</td><td>IRAC</td><td>2M</td><td>266.5660416666666,-28.83111111111111</td></tr>\n",
       "<tr><td>0383448</td><td>17 44 46.90</td><td>-29 23 45.9</td><td>--</td><td>--</td><td>--</td><td>--</td><td>--</td><td>--</td><td>5.637</td><td>IRAC</td><td>2M</td><td>266.1954166666667,-29.396083333333333</td></tr>\n",
       "<tr><td>0513261</td><td>17 45 35.66</td><td>-28 59 42.4</td><td>16.128</td><td>11.790</td><td>9.622</td><td>7.893</td><td>7.767</td><td>7.033</td><td>6.530</td><td>IRAC</td><td>2M</td><td>266.3985833333333,-28.99511111111111</td></tr>\n",
       "<tr><td>0524678</td><td>17 45 39.86</td><td>-29 00 08.5</td><td>--</td><td>--</td><td>--</td><td>9.165</td><td>--</td><td>--</td><td>5.547</td><td>IRAC</td><td>2M</td><td>266.4160833333333,-29.00236111111111</td></tr>\n",
       "<tr><td>0377852</td><td>17 44 44.77</td><td>-29 22 31.2</td><td>--</td><td>--</td><td>--</td><td>--</td><td>--</td><td>--</td><td>9.132</td><td>IRAC</td><td>2M</td><td>266.18654166666664,-29.375333333333334</td></tr>\n",
       "</table></div>"
      ],
      "text/plain": [
       "<Table length=512>\n",
       " SSTGC    RAJ2000     DEJ2000   ... _2M                skycoords               \n",
       "          \"h:m:s\"     \"d:m:s\"   ...                     deg,deg                \n",
       "  str7     str11       str11    ... str2                 object                \n",
       "------- ----------- ----------- ... ---- --------------------------------------\n",
       "0558345 17 45 52.11 -28 47 18.4 ...   2M         266.467125,-28.788444444444448\n",
       "0515803 17 45 36.61 -28 59 45.8 ...   2M  266.4025416666666,-28.996055555555557\n",
       "0673798 17 46 34.01 -28 42 46.2 ...   2M 266.64170833333327,-28.712833333333332\n",
       "0667560 17 46 31.70 -28 35 41.2 ...   2M 266.63208333333324,-28.594777777777775\n",
       "0516452 17 45 36.83 -28 59 19.8 ...   2M  266.4034583333333,-28.988833333333336\n",
       "0648643 17 46 24.87 -29 00 01.3 ...   2M   266.6036249999999,-29.00036111111111\n",
       "0521894 17 45 38.82 -28 52 31.9 ...   2M           266.41175,-28.87552777777778\n",
       "0414950 17 44 58.95 -29 16 27.4 ...   2M 266.24562499999996,-29.274277777777776\n",
       "0279869 17 44 04.83 -29 25 21.0 ...   2M            266.02012499999995,-29.4225\n",
       "    ...         ...         ... ...  ...                                    ...\n",
       "0562378 17 45 53.60 -28 58 08.1 ...   2M  266.4733333333333,-28.968916666666665\n",
       "0368854 17 44 41.29 -29 24 35.4 ...   2M  266.17204166666664,-29.40983333333333\n",
       "0783999 17 47 17.78 -28 24 04.5 ...   2M 266.82408333333336,-28.401249999999997\n",
       "0650438 17 46 25.53 -28 47 30.9 ...   2M  266.60637499999996,-28.79191666666667\n",
       "0532584 17 45 42.77 -28 59 57.4 ...   2M  266.4282083333333,-28.999277777777777\n",
       "0623735 17 46 15.85 -28 49 52.0 ...   2M   266.5660416666666,-28.83111111111111\n",
       "0383448 17 44 46.90 -29 23 45.9 ...   2M  266.1954166666667,-29.396083333333333\n",
       "0513261 17 45 35.66 -28 59 42.4 ...   2M   266.3985833333333,-28.99511111111111\n",
       "0524678 17 45 39.86 -29 00 08.5 ...   2M   266.4160833333333,-29.00236111111111\n",
       "0377852 17 44 44.77 -29 22 31.2 ...   2M 266.18654166666664,-29.375333333333334"
      ]
     },
     "execution_count": 81,
     "metadata": {},
     "output_type": "execute_result"
    }
   ],
   "source": [
    "stgccat"
   ]
  },
  {
   "cell_type": "code",
   "execution_count": 82,
   "id": "870cadf5",
   "metadata": {
    "scrolled": true
   },
   "outputs": [
    {
     "data": {
      "text/html": [
       "<div><i>Table length=512</i>\n",
       "<table id=\"table2556324381792\" class=\"table-striped table-bordered table-condensed\">\n",
       "<thead><tr><th>SourceID</th><th>RA(J2000)</th><th>DEC(J2000)</th><th>25BestModel</th><th>25um_Flux_4pix</th><th>25um_Flux_4pix_err</th><th>25um_SNR_4pix</th><th>25um_Flux_8pix</th><th>25um_Flux_8pix_err</th><th>25um_SNR_8pix</th><th>25um_Flux_12pix</th><th>25um_Flux_12pix_err</th><th>25um_SNR_12pix</th><th>25ApRatio8_4</th><th>25ApRatio12_8</th><th>25um_Flux_M2D</th><th>25um_Flux_M2D_err</th><th>25um_SNR_M2D</th><th>25um_M2D_chi2</th><th>M2D25_qflag</th><th>25um_Flux_G2D</th><th>25um_Flux_G2D_err</th><th>25um_SNR_G2D</th><th>25um_G2D_chi2</th><th>G2D25_qflag</th><th>fwhm25</th><th>fwhm25err</th><th>elong25</th><th>ErrCalF25</th><th>vExtFlag25</th><th>bkg_qflag25</th><th>edge_flag25</th><th>cutout25 [25,25]</th><th>M2Dresid25 [17,17]</th><th>G2Dresid25 [17,17]</th><th>37BestModel</th><th>37um_Flux_5.5pix</th><th>37um_Flux_5.5pix_err</th><th>37um_SNR_5.5pix</th><th>37um_Flux_10.5pix</th><th>37um_Flux_10.5pix_err</th><th>37um_SNR_10.5pix</th><th>37um_Flux_14pix</th><th>37um_Flux_14pix_err</th><th>37um_SNR_14pix</th><th>37ApRatio10.5_5.5</th><th>37ApRatio14_10.5</th><th>37um_Flux_M2D</th><th>37um_Flux_M2D_err</th><th>37um_SNR_M2D</th><th>37um_M2D_chi2</th><th>M2D37_qflag</th><th>37um_Flux_G2D</th><th>37um_Flux_G2D_err</th><th>37um_SNR_G2D</th><th>37um_G2D_chi2</th><th>G2D37_qflag</th><th>fwhm37</th><th>fwhm37err</th><th>elong37</th><th>vExtFlag37</th><th>bkg_qflag37</th><th>edge_flag37</th><th>ErrCalF37</th><th>cutout37 [31,31]</th><th>M2Dresid37 [17,17]</th><th>G2Dresid37 [17,17]</th><th>sky_centroid</th><th>FieldID</th><th>SID25</th><th>SID37</th><th>Found25</th><th>Found37</th><th>Matched</th><th>F25_F37_sep</th><th>25ApPhot_qflag</th><th>25Ap_4pix_UL</th><th>25Ap_8pix_UL</th><th>25Ap_12pix_UL</th><th>37ApPhot_qflag</th><th>37Ap_5.5pix_UL</th><th>37Ap_10.5pix_UL</th><th>37Ap_14pix_UL</th><th>id</th><th>skycoords</th><th>SSTGCxmatch</th><th>SSTGCd2d</th></tr></thead>\n",
       "<thead><tr><th></th><th></th><th></th><th></th><th></th><th></th><th></th><th></th><th></th><th></th><th></th><th></th><th></th><th></th><th></th><th></th><th></th><th></th><th></th><th></th><th></th><th></th><th></th><th></th><th></th><th></th><th></th><th></th><th></th><th></th><th></th><th></th><th></th><th></th><th></th><th></th><th></th><th></th><th></th><th></th><th></th><th></th><th></th><th></th><th></th><th></th><th></th><th></th><th></th><th></th><th></th><th></th><th></th><th></th><th></th><th></th><th></th><th></th><th></th><th></th><th></th><th></th><th></th><th></th><th></th><th></th><th></th><th>deg,deg</th><th></th><th></th><th></th><th></th><th></th><th></th><th></th><th></th><th></th><th></th><th></th><th></th><th></th><th></th><th></th><th></th><th>deg,deg</th><th></th><th></th></tr></thead>\n",
       "<thead><tr><th>bytes18</th><th>bytes12</th><th>bytes13</th><th>bytes1</th><th>float32</th><th>float32</th><th>float32</th><th>float32</th><th>float32</th><th>float32</th><th>float32</th><th>float32</th><th>float32</th><th>float32</th><th>float32</th><th>float32</th><th>float32</th><th>float32</th><th>float32</th><th>float64</th><th>float32</th><th>float32</th><th>float32</th><th>float32</th><th>int32</th><th>float32</th><th>float32</th><th>float32</th><th>float32</th><th>int32</th><th>int32</th><th>int32</th><th>float32</th><th>float32</th><th>float32</th><th>bytes1</th><th>float32</th><th>float32</th><th>float32</th><th>float32</th><th>float32</th><th>float32</th><th>float32</th><th>float32</th><th>float32</th><th>float32</th><th>float32</th><th>float32</th><th>float32</th><th>float32</th><th>float32</th><th>int32</th><th>float32</th><th>float32</th><th>float32</th><th>float32</th><th>int32</th><th>float32</th><th>float32</th><th>float32</th><th>int32</th><th>int32</th><th>int32</th><th>float32</th><th>float32</th><th>float32</th><th>float32</th><th>object</th><th>bytes7</th><th>bytes18</th><th>bytes18</th><th>int32</th><th>int32</th><th>int32</th><th>float32</th><th>bytes3</th><th>float32</th><th>float32</th><th>float32</th><th>bytes3</th><th>float32</th><th>float32</th><th>float32</th><th>int32</th><th>object</th><th>str7</th><th>float64</th></tr></thead>\n",
       "<tr><td>SFGC0.154+0.0305</td><td>17h45m52.11s</td><td>-28d47m18.29s</td><td>a</td><td>1.215</td><td>0.07536</td><td>16.12</td><td>2.91</td><td>0.1507</td><td>19.31</td><td>4.134</td><td>0.2261</td><td>18.29</td><td>2.395</td><td>1.421</td><td>--</td><td>--</td><td>--</td><td>--</td><td>1.0</td><td>3.369</td><td>0.1399</td><td>24.08</td><td>1.72</td><td>0</td><td>8.166</td><td>--</td><td>1.192</td><td>0.02142</td><td>0</td><td>0</td><td>0</td><td>0.012317061 .. 0.010174385</td><td>-- .. --</td><td>-0.00020164582 .. -0.010862777</td><td>a</td><td>1.735</td><td>0.4041</td><td>4.294</td><td>4.79</td><td>0.7714</td><td>6.21</td><td>6.848</td><td>1.029</td><td>6.658</td><td>2.761</td><td>1.43</td><td>--</td><td>--</td><td>--</td><td>--</td><td>1</td><td>4.02</td><td>0.7758</td><td>5.181</td><td>1.277</td><td>0</td><td>11.61</td><td>--</td><td>1.708</td><td>0</td><td>0</td><td>0</td><td>0.02826</td><td>0.102191195 .. 0.010739732</td><td>-- .. --</td><td>0.0066655492 .. -0.01574394</td><td>266.467125,-28.788413888888893</td><td>Field20</td><td>SFGC0.154+0.0305</td><td>--</td><td>0</td><td>1</td><td>0</td><td>--</td><td>000</td><td>--</td><td>--</td><td>--</td><td>000</td><td>--</td><td>--</td><td>--</td><td>613</td><td>266.467125,-28.78841388888889</td><td>0558345</td><td>0.11</td></tr>\n",
       "<tr><td>SFGC359.948-0.0293</td><td>17h45m36.60s</td><td>-28d59m45.80s</td><td>a</td><td>1.934</td><td>0.274</td><td>7.058</td><td>4.92</td><td>0.548</td><td>8.978</td><td>8.436</td><td>0.822</td><td>10.26</td><td>2.544</td><td>1.715</td><td>--</td><td>--</td><td>--</td><td>--</td><td>1.0</td><td>6.087</td><td>0.6909</td><td>8.81</td><td>4.124</td><td>0</td><td>11.09</td><td>--</td><td>1.585</td><td>0.02142</td><td>0</td><td>1</td><td>0</td><td>0.050377894 .. -0.013156525</td><td>-- .. --</td><td>0.024666041 .. -0.011547057</td><td>a</td><td>10.11</td><td>1.17</td><td>8.638</td><td>27.95</td><td>2.234</td><td>12.51</td><td>42.42</td><td>2.978</td><td>14.24</td><td>2.766</td><td>1.518</td><td>--</td><td>--</td><td>--</td><td>--</td><td>1</td><td>23.4</td><td>2.909</td><td>8.045</td><td>2.748</td><td>0</td><td>15.03</td><td>--</td><td>1.296</td><td>1</td><td>0</td><td>0</td><td>0.02826</td><td>0.26187968 .. -0.06528417</td><td>-- .. --</td><td>0.04126874 .. -0.004408556</td><td>266.4025,-28.99605555555556</td><td>Field41</td><td>SFGC359.948-0.0293</td><td>--</td><td>0</td><td>1</td><td>0</td><td>--</td><td>000</td><td>--</td><td>--</td><td>--</td><td>000</td><td>--</td><td>--</td><td>--</td><td>531</td><td>266.4025,-28.996055555555557</td><td>0515803</td><td>0.131</td></tr>\n",
       "<tr><td>SFGC0.299-0.0610</td><td>17h46m34.02s</td><td>-28d42m46.19s</td><td>g</td><td>0.3175</td><td>0.06646</td><td>4.778</td><td>--</td><td>--</td><td>--</td><td>--</td><td>--</td><td>--</td><td>--</td><td>--</td><td>--</td><td>--</td><td>--</td><td>--</td><td>1.0</td><td>0.3584</td><td>0.03986</td><td>8.992</td><td>1.723</td><td>0</td><td>2.637</td><td>0.948</td><td>1.285</td><td>0.02142</td><td>0</td><td>0</td><td>0</td><td>0.0046728295 .. -0.010867304</td><td>-- .. --</td><td>0.0044102594 .. -0.00626117</td><td>a</td><td>--</td><td>--</td><td>--</td><td>--</td><td>--</td><td>--</td><td>--</td><td>--</td><td>--</td><td>--</td><td>--</td><td>0.1374</td><td>0.04258</td><td>3.227</td><td>1.665</td><td>0</td><td>0.1319</td><td>0.04041</td><td>3.265</td><td>1.663</td><td>0</td><td>1.522</td><td>--</td><td>1.363</td><td>0</td><td>0</td><td>0</td><td>0.02826</td><td>-0.00489589 .. -0.013288289</td><td>-0.0020012243 .. -0.034825362</td><td>-0.0020012243 .. -0.034825362</td><td>266.64174999999994,-28.712830555555556</td><td>Field11</td><td>SFGC0.299-0.0610</td><td>--</td><td>0</td><td>1</td><td>0</td><td>--</td><td>011</td><td>--</td><td>0.4146</td><td>0.6221</td><td>111</td><td>0.4761</td><td>0.9087</td><td>1.212</td><td>672</td><td>266.64174999999994,-28.712830555555556</td><td>0673798</td><td>0.132</td></tr>\n",
       "<tr><td>SFGC0.395+0.0076</td><td>17h46m31.71s</td><td>-28d35m41.19s</td><td>g</td><td>0.9391</td><td>0.05525</td><td>17</td><td>1.528</td><td>0.1105</td><td>13.83</td><td>2.129</td><td>0.1658</td><td>12.85</td><td>1.627</td><td>1.394</td><td>1.691</td><td>0.03149</td><td>53.69</td><td>0.9483</td><td>0.0</td><td>1.154</td><td>0.04685</td><td>24.62</td><td>1.156</td><td>0</td><td>3.729</td><td>0.3669</td><td>1.1</td><td>0.02373</td><td>0</td><td>0</td><td>1</td><td>-0.0041721943 .. 0.0033475205</td><td>0.006165268 .. -0.002404517</td><td>0.007233214 .. -0.0012212958</td><td>g</td><td>0.703</td><td>0.106</td><td>6.631</td><td>0.892</td><td>0.2024</td><td>4.407</td><td>--</td><td>--</td><td>--</td><td>1.269</td><td>--</td><td>0.8648</td><td>0.04362</td><td>19.83</td><td>0.5585</td><td>0</td><td>0.9476</td><td>0.08267</td><td>11.46</td><td>0.5464</td><td>0</td><td>4.716</td><td>3.258</td><td>1.984</td><td>0</td><td>0</td><td>0</td><td>0.02703</td><td>0.004471551 .. -0.003152961</td><td>-0.010298081 .. 0.009193374</td><td>-0.010016264 .. 0.009464073</td><td>266.632125,-28.594775</td><td>Field09</td><td>SFGC0.395+0.0076</td><td>SFGC0.395+0.0072</td><td>1</td><td>1</td><td>1</td><td>1.377</td><td>000</td><td>--</td><td>--</td><td>--</td><td>001</td><td>--</td><td>--</td><td>0.8003</td><td>288</td><td>266.632125,-28.594775</td><td>0667560</td><td>0.132</td></tr>\n",
       "<tr><td>SFGC359.954-0.0262</td><td>17h45m36.82s</td><td>-28d59m19.77s</td><td>a</td><td>2.403</td><td>0.2107</td><td>11.41</td><td>5.95</td><td>0.4213</td><td>14.12</td><td>8.986</td><td>0.632</td><td>14.22</td><td>2.476</td><td>1.51</td><td>--</td><td>--</td><td>--</td><td>--</td><td>1.0</td><td>7.338</td><td>0.4658</td><td>15.75</td><td>3.793</td><td>0</td><td>9.723</td><td>--</td><td>1.595</td><td>0.02142</td><td>0</td><td>1</td><td>0</td><td>-0.00950928 .. 0.009172682</td><td>-- .. --</td><td>-0.005586301 .. 0.00984423</td><td>a</td><td>6.284</td><td>0.5148</td><td>12.21</td><td>13.07</td><td>0.9828</td><td>13.3</td><td>14.76</td><td>1.31</td><td>11.26</td><td>2.08</td><td>1.129</td><td>--</td><td>--</td><td>--</td><td>--</td><td>1</td><td>12.04</td><td>0.8646</td><td>13.93</td><td>2.981</td><td>0</td><td>10.16</td><td>--</td><td>1.643</td><td>0</td><td>0</td><td>0</td><td>0.02826</td><td>-0.08488364 .. -0.044584747</td><td>-- .. --</td><td>-0.013150876 .. 0.016428657</td><td>266.40341666666666,-28.988825000000002</td><td>Field38</td><td>SFGC359.954-0.0262</td><td>SFGC359.954-0.0259</td><td>1</td><td>1</td><td>1</td><td>1.444</td><td>000</td><td>--</td><td>--</td><td>--</td><td>000</td><td>--</td><td>--</td><td>--</td><td>293</td><td>266.40341666666666,-28.988825000000002</td><td>0516452</td><td>0.135</td></tr>\n",
       "<tr><td>SFGC0.036-0.1818</td><td>17h46m24.88s</td><td>-29d00m01.34s</td><td>g</td><td>1.352</td><td>0.1088</td><td>12.42</td><td>1.15</td><td>0.2176</td><td>5.285</td><td>--</td><td>--</td><td>--</td><td>0.8509</td><td>--</td><td>--</td><td>--</td><td>--</td><td>--</td><td>1.0</td><td>1.403</td><td>0.06501</td><td>21.58</td><td>1.429</td><td>0</td><td>2.628</td><td>0.3065</td><td>1.02</td><td>0.02373</td><td>0</td><td>0</td><td>1</td><td>-0.02002774 .. -0.012622309</td><td>-- .. --</td><td>-0.00019068921 .. -0.0063876263</td><td>g</td><td>1.49</td><td>0.1967</td><td>7.574</td><td>2.02</td><td>0.3756</td><td>5.377</td><td>2.351</td><td>0.5008</td><td>4.694</td><td>1.355</td><td>1.164</td><td>--</td><td>--</td><td>--</td><td>--</td><td>1</td><td>1.615</td><td>0.1373</td><td>11.76</td><td>0.6163</td><td>0</td><td>4.219</td><td>0.8425</td><td>1.237</td><td>0</td><td>0</td><td>1</td><td>0.02703</td><td>-0.008324572 .. 0.004368282</td><td>-- .. --</td><td>0.00025314777 .. 0.000968509</td><td>266.60366666666664,-29.000372222222225</td><td>Field35</td><td>SFGC0.036-0.1818</td><td>SFGC0.036-0.1818</td><td>1</td><td>1</td><td>1</td><td>0</td><td>001</td><td>--</td><td>--</td><td>0.9746</td><td>000</td><td>--</td><td>--</td><td>--</td><td>4</td><td>266.60366666666664,-29.00037222222222</td><td>0648643</td><td>0.137</td></tr>\n",
       "<tr><td>SFGC0.055+0.0265</td><td>17h45m38.83s</td><td>-28d52m31.95s</td><td>a</td><td>9.168</td><td>0.1826</td><td>50.2</td><td>13.78</td><td>0.3653</td><td>37.71</td><td>16.23</td><td>0.5479</td><td>29.63</td><td>1.503</td><td>1.179</td><td>14.13</td><td>0.1722</td><td>82.08</td><td>9.235</td><td>0.0</td><td>13.17</td><td>0.1922</td><td>68.5</td><td>5.241</td><td>0</td><td>4.629</td><td>--</td><td>1.459</td><td>0.02142</td><td>0</td><td>1</td><td>1</td><td>0.0137687 .. -0.0060447566</td><td>-0.013851131 .. -0.012309242</td><td>-0.012057202 .. -0.010552663</td><td>a</td><td>15.67</td><td>0.9963</td><td>15.73</td><td>17.61</td><td>1.902</td><td>9.257</td><td>19.37</td><td>2.536</td><td>7.639</td><td>1.124</td><td>1.1</td><td>17.5</td><td>0.7156</td><td>24.46</td><td>4.869</td><td>0</td><td>17.25</td><td>0.7422</td><td>23.24</td><td>4.584</td><td>0</td><td>4.505</td><td>--</td><td>1.119</td><td>0</td><td>0</td><td>0</td><td>0.05605</td><td>-0.013989766 .. -0.020645522</td><td>-0.03255373 .. -0.014349979</td><td>-0.032452732 .. -0.014055125</td><td>266.41179166666666,-28.875541666666667</td><td>Field31</td><td>SFGC0.055+0.0265</td><td>SFGC0.055+0.0266</td><td>1</td><td>1</td><td>1</td><td>0.5366</td><td>000</td><td>--</td><td>--</td><td>--</td><td>000</td><td>--</td><td>--</td><td>--</td><td>113</td><td>266.41179166666666,-28.875541666666667</td><td>0521894</td><td>0.141</td></tr>\n",
       "<tr><td>SFGC359.639-0.0576</td><td>17h44m58.96s</td><td>-29d16m27.46s</td><td>m</td><td>3.39</td><td>0.1223</td><td>27.72</td><td>5.276</td><td>0.2445</td><td>21.58</td><td>7.666</td><td>0.3668</td><td>20.9</td><td>1.557</td><td>1.453</td><td>5.577</td><td>0.07045</td><td>79.16</td><td>3.822</td><td>0.0</td><td>4.022</td><td>0.09802</td><td>41.03</td><td>6.677</td><td>0</td><td>2.534</td><td>0.5935</td><td>1.206</td><td>0.02142</td><td>0</td><td>1</td><td>0</td><td>0.0011366992 .. 0.0113458</td><td>-0.0031141685 .. 0.010606364</td><td>-0.00053392415 .. 0.01316614</td><td>a</td><td>3.529</td><td>0.9561</td><td>3.691</td><td>8.97</td><td>1.825</td><td>4.914</td><td>16.49</td><td>2.434</td><td>6.778</td><td>2.542</td><td>1.839</td><td>--</td><td>--</td><td>--</td><td>--</td><td>1</td><td>8.046</td><td>1.86</td><td>4.326</td><td>3.042</td><td>0</td><td>11.76</td><td>--</td><td>1.31</td><td>0</td><td>0</td><td>0</td><td>0.02826</td><td>-0.0019586748 .. 0.04764301</td><td>-- .. --</td><td>-0.012796373 .. 0.018000342</td><td>266.24566666666664,-29.274294444444447</td><td>Field45</td><td>SFGC359.639-0.0576</td><td>SFGC359.639-0.0577</td><td>1</td><td>1</td><td>1</td><td>0.47</td><td>000</td><td>--</td><td>--</td><td>--</td><td>000</td><td>--</td><td>--</td><td>--</td><td>89</td><td>266.24566666666664,-29.274294444444443</td><td>0414950</td><td>0.144</td></tr>\n",
       "<tr><td>SFGC359.410+0.0325</td><td>17h44m04.82s</td><td>-29d25m21.08s</td><td>a</td><td>2.735</td><td>0.08493</td><td>32.2</td><td>7.384</td><td>0.1699</td><td>43.47</td><td>11.53</td><td>0.2548</td><td>45.26</td><td>2.7</td><td>1.561</td><td>8.828</td><td>0.1675</td><td>52.71</td><td>1.722</td><td>0.0</td><td>8.763</td><td>0.2029</td><td>43.18</td><td>1.816</td><td>0</td><td>10.51</td><td>--</td><td>1.206</td><td>0.02373</td><td>0</td><td>0</td><td>0</td><td>-0.0015718809 .. 0.015309025</td><td>-0.0070291045 .. -0.005470701</td><td>0.0005994801 .. 0.0020603056</td><td>a</td><td>6.461</td><td>0.189</td><td>34.19</td><td>17.67</td><td>0.3607</td><td>48.97</td><td>24.76</td><td>0.481</td><td>51.48</td><td>2.734</td><td>1.402</td><td>14.81</td><td>0.3446</td><td>42.98</td><td>1.15</td><td>0</td><td>14.78</td><td>0.4328</td><td>34.15</td><td>1.146</td><td>0</td><td>13.85</td><td>--</td><td>1.256</td><td>0</td><td>0</td><td>1</td><td>0.02703</td><td>0.019314835 .. 0.0036558802</td><td>-0.016732201 .. 0.0022502774</td><td>-0.0038788246 .. 0.013803407</td><td>266.02008333333333,-29.422522222222227</td><td>Field49</td><td>SFGC359.410+0.0325</td><td>SFGC359.409+0.0323</td><td>1</td><td>1</td><td>1</td><td>2.039</td><td>000</td><td>--</td><td>--</td><td>--</td><td>000</td><td>--</td><td>--</td><td>--</td><td>376</td><td>266.02008333333333,-29.422522222222224</td><td>0279869</td><td>0.153</td></tr>\n",
       "<tr><td>...</td><td>...</td><td>...</td><td>...</td><td>...</td><td>...</td><td>...</td><td>...</td><td>...</td><td>...</td><td>...</td><td>...</td><td>...</td><td>...</td><td>...</td><td>...</td><td>...</td><td>...</td><td>...</td><td>...</td><td>...</td><td>...</td><td>...</td><td>...</td><td>...</td><td>...</td><td>...</td><td>...</td><td>...</td><td>...</td><td>...</td><td>...</td><td>...</td><td>...</td><td>...</td><td>...</td><td>...</td><td>...</td><td>...</td><td>...</td><td>...</td><td>...</td><td>...</td><td>...</td><td>...</td><td>...</td><td>...</td><td>...</td><td>...</td><td>...</td><td>...</td><td>...</td><td>...</td><td>...</td><td>...</td><td>...</td><td>...</td><td>...</td><td>...</td><td>...</td><td>...</td><td>...</td><td>...</td><td>...</td><td>...</td><td>...</td><td>...</td><td>...</td><td>...</td><td>...</td><td>...</td><td>...</td><td>...</td><td>...</td><td>...</td><td>...</td><td>...</td><td>...</td><td>...</td><td>...</td><td>...</td><td>...</td><td>...</td><td>...</td><td>...</td><td>...</td><td>...</td></tr>\n",
       "<tr><td>SFGC0.004-0.0678</td><td>17h45m53.63s</td><td>-28d58m05.20s</td><td>a</td><td>7.244</td><td>0.09639</td><td>75.15</td><td>18.58</td><td>0.1928</td><td>96.4</td><td>25.55</td><td>0.2892</td><td>88.34</td><td>2.566</td><td>1.375</td><td>21.57</td><td>0.1849</td><td>116.7</td><td>6.403</td><td>0.0</td><td>21.45</td><td>0.2047</td><td>104.8</td><td>5.411</td><td>0</td><td>9.337</td><td>--</td><td>1.184</td><td>0.02142</td><td>0</td><td>0</td><td>0</td><td>0.01060295 .. -0.0026305704</td><td>0.027550252 .. -0.012777728</td><td>0.027148029 .. -0.009231678</td><td>a</td><td>21.11</td><td>0.2942</td><td>71.76</td><td>48.25</td><td>0.5617</td><td>85.9</td><td>59.39</td><td>0.749</td><td>79.29</td><td>2.285</td><td>1.231</td><td>--</td><td>--</td><td>--</td><td>--</td><td>1</td><td>42.97</td><td>0.5536</td><td>77.63</td><td>3.444</td><td>0</td><td>11.38</td><td>--</td><td>1.365</td><td>0</td><td>0</td><td>0</td><td>0.02826</td><td>0.02163179 .. 0.004021705</td><td>-- .. --</td><td>0.025882738 .. 0.0071214554</td><td>266.47345833333327,-28.968111111111114</td><td>Field34</td><td>SFGC0.004-0.0678</td><td>SFGC0.004-0.0681</td><td>1</td><td>1</td><td>1</td><td>1.227</td><td>000</td><td>--</td><td>--</td><td>--</td><td>000</td><td>--</td><td>--</td><td>--</td><td>264</td><td>266.47345833333327,-28.96811111111111</td><td>0562378</td><td>2.927</td></tr>\n",
       "<tr><td>SFGC359.491-0.0740</td><td>17h44m41.48s</td><td>-29d24m33.85s</td><td>a</td><td>5.065</td><td>0.08737</td><td>57.97</td><td>11.45</td><td>0.1747</td><td>65.5</td><td>15.68</td><td>0.2621</td><td>59.81</td><td>2.26</td><td>1.37</td><td>13.07</td><td>0.1263</td><td>103.5</td><td>5.176</td><td>0.0</td><td>12.73</td><td>0.1585</td><td>80.35</td><td>3.845</td><td>0</td><td>7.978</td><td>--</td><td>1.394</td><td>0.01904</td><td>0</td><td>0</td><td>0</td><td>-0.0031773853 .. 0.004800711</td><td>-0.00571491 .. -0.007553329</td><td>0.0044299653 .. 0.0043044933</td><td>a</td><td>7.639</td><td>0.1891</td><td>40.39</td><td>17.16</td><td>0.361</td><td>47.53</td><td>22.68</td><td>0.4814</td><td>47.12</td><td>2.246</td><td>1.322</td><td>15.34</td><td>0.2965</td><td>51.75</td><td>2.382</td><td>0</td><td>15.25</td><td>0.3288</td><td>46.39</td><td>1.691</td><td>0</td><td>10.51</td><td>--</td><td>1.399</td><td>0</td><td>0</td><td>0</td><td>0.03339</td><td>0.011803676 .. 0.02471127</td><td>-0.010595827 .. -0.01276301</td><td>0.0015819976 .. 0.0005903715</td><td>266.1728333333333,-29.409402777777775</td><td>Field48</td><td>SFGC359.491-0.0740</td><td>SFGC359.490-0.0740</td><td>1</td><td>1</td><td>1</td><td>0.4233</td><td>000</td><td>--</td><td>--</td><td>--</td><td>000</td><td>--</td><td>--</td><td>--</td><td>82</td><td>266.1728333333333,-29.409402777777775</td><td>0368854</td><td>2.927</td></tr>\n",
       "<tr><td>SFGC0.649-0.0357</td><td>17h47m17.73s</td><td>-28d24m01.63s</td><td>a</td><td>0.5221</td><td>0.04406</td><td>11.85</td><td>0.8748</td><td>0.08812</td><td>9.927</td><td>0.7684</td><td>0.1322</td><td>5.813</td><td>1.676</td><td>0.8784</td><td>0.8741</td><td>0.0545</td><td>16.04</td><td>1.099</td><td>0.0</td><td>--</td><td>--</td><td>--</td><td>--</td><td>1</td><td>20</td><td>--</td><td>1</td><td>0.02142</td><td>0</td><td>0</td><td>0</td><td>-2.631207e-05 .. -0.0041337865</td><td>-0.00029253305 .. 0.006090621</td><td>-- .. --</td><td>g</td><td>2.916</td><td>0.1077</td><td>27.08</td><td>4.919</td><td>0.2056</td><td>23.93</td><td>4.888</td><td>0.2741</td><td>17.83</td><td>1.687</td><td>0.9937</td><td>4.752</td><td>0.1309</td><td>36.3</td><td>1.596</td><td>0</td><td>4.759</td><td>0.1378</td><td>34.55</td><td>1.483</td><td>0</td><td>7.736</td><td>1.145</td><td>1.33</td><td>0</td><td>0</td><td>0</td><td>0.02826</td><td>-0.0067561576 .. -0.014851357</td><td>-0.009958263 .. -0.007632389</td><td>-0.008778403 .. -0.0054806173</td><td>266.823875,-28.400452777777776</td><td>Field03</td><td>SFGC0.649-0.0357</td><td>SFGC0.648-0.0354</td><td>1</td><td>1</td><td>1</td><td>1.535</td><td>000</td><td>--</td><td>--</td><td>--</td><td>000</td><td>--</td><td>--</td><td>--</td><td>304</td><td>266.823875,-28.400452777777776</td><td>0783999</td><td>2.945</td></tr>\n",
       "<tr><td>SFGC0.214-0.0758</td><td>17h46m25.47s</td><td>-28d47m33.74s</td><td>g</td><td>0.8779</td><td>0.07874</td><td>11.15</td><td>1.462</td><td>0.1575</td><td>9.285</td><td>1.28</td><td>0.2362</td><td>5.42</td><td>1.666</td><td>0.8755</td><td>--</td><td>--</td><td>--</td><td>--</td><td>1.0</td><td>1.608</td><td>0.1074</td><td>14.96</td><td>1.396</td><td>0</td><td>6.001</td><td>1.098</td><td>1.46</td><td>0.02142</td><td>0</td><td>0</td><td>0</td><td>0.01529951 .. -0.009181277</td><td>-- .. --</td><td>0.000788806 .. -0.0018220155</td><td>a</td><td>2.757</td><td>0.215</td><td>12.82</td><td>2.98</td><td>0.4105</td><td>7.259</td><td>3.163</td><td>0.5474</td><td>5.779</td><td>1.081</td><td>1.061</td><td>--</td><td>--</td><td>--</td><td>--</td><td>1</td><td>--</td><td>--</td><td>--</td><td>--</td><td>1</td><td>--</td><td>--</td><td>--</td><td>0</td><td>0</td><td>0</td><td>0.02826</td><td>0.00489613 .. -0.00500993</td><td>-- .. --</td><td>-- .. --</td><td>266.60612499999996,-28.79270555555556</td><td>Field12</td><td>SFGC0.214-0.0758</td><td>SFGC0.214-0.0756</td><td>1</td><td>1</td><td>1</td><td>0.9204</td><td>000</td><td>--</td><td>--</td><td>--</td><td>000</td><td>--</td><td>--</td><td>--</td><td>200</td><td>266.60612499999996,-28.792705555555557</td><td>0650438</td><td>2.947</td></tr>\n",
       "<tr><td>SFGC359.956-0.0510</td><td>17h45m42.91s</td><td>-28d59m59.71s</td><td>a</td><td>34.28</td><td>1.918</td><td>17.87</td><td>88.66</td><td>3.836</td><td>23.11</td><td>141</td><td>5.754</td><td>24.51</td><td>2.586</td><td>1.591</td><td>103.9</td><td>3.793</td><td>27.38</td><td>55.85</td><td>0.0</td><td>103.2</td><td>4.187</td><td>24.64</td><td>60.53</td><td>0</td><td>9.6</td><td>--</td><td>1.079</td><td>0.02142</td><td>0</td><td>1</td><td>1</td><td>0.07552722 .. 0.27926648</td><td>-0.049466114 .. 0.11940155</td><td>-0.020673415 .. 0.14233047</td><td>a</td><td>90.41</td><td>7.865</td><td>11.5</td><td>240.2</td><td>15.02</td><td>16</td><td>373.1</td><td>20.02</td><td>18.63</td><td>2.657</td><td>1.553</td><td>--</td><td>--</td><td>--</td><td>--</td><td>1</td><td>207.2</td><td>18.48</td><td>11.22</td><td>137.2</td><td>0</td><td>14.2</td><td>--</td><td>1.301</td><td>1</td><td>1</td><td>0</td><td>0.02826</td><td>0.13282278 .. 1.1213028</td><td>-- .. --</td><td>-0.07651367 .. 0.35095865</td><td>266.42879166666665,-28.999919444444448</td><td>Field40</td><td>SFGC359.956-0.0510</td><td>SFGC359.956-0.0508</td><td>1</td><td>1</td><td>1</td><td>0.7256</td><td>000</td><td>--</td><td>--</td><td>--</td><td>000</td><td>--</td><td>--</td><td>--</td><td>154</td><td>266.42879166666665,-28.999919444444444</td><td>0532584</td><td>2.951</td></tr>\n",
       "<tr><td>SFGC0.162-0.0662</td><td>17h46m15.86s</td><td>-28d49m54.95s</td><td>a</td><td>15.22</td><td>1.337</td><td>11.39</td><td>40.04</td><td>2.674</td><td>14.98</td><td>66.76</td><td>4.011</td><td>16.64</td><td>2.631</td><td>1.667</td><td>--</td><td>--</td><td>--</td><td>--</td><td>1.0</td><td>51.96</td><td>4.36</td><td>11.92</td><td>190.9</td><td>0</td><td>14.34</td><td>--</td><td>3.723</td><td>0.02142</td><td>1</td><td>1</td><td>0</td><td>0.33283034 .. 0.10229594</td><td>-- .. --</td><td>0.01041203 .. 0.023577632</td><td>a</td><td>27.55</td><td>2.03</td><td>13.57</td><td>69.72</td><td>3.875</td><td>17.99</td><td>101.1</td><td>5.167</td><td>19.57</td><td>2.531</td><td>1.45</td><td>--</td><td>--</td><td>--</td><td>--</td><td>1</td><td>62.19</td><td>5.571</td><td>11.16</td><td>36.34</td><td>0</td><td>16.6</td><td>--</td><td>3.904</td><td>1</td><td>1</td><td>0</td><td>0.02826</td><td>0.3774826 .. 0.091607004</td><td>-- .. --</td><td>0.0133151915 .. -0.035046577</td><td>266.5660833333333,-28.83193055555556</td><td>Field18</td><td>SFGC0.162-0.0662</td><td>SFGC0.162-0.0664</td><td>1</td><td>1</td><td>1</td><td>0.8369</td><td>000</td><td>--</td><td>--</td><td>--</td><td>000</td><td>--</td><td>--</td><td>--</td><td>179</td><td>266.5660833333333,-28.831930555555555</td><td>0623735</td><td>2.953</td></tr>\n",
       "<tr><td>SFGC359.513-0.0843</td><td>17h44m47.11s</td><td>-29d23m44.77s</td><td>m</td><td>3.511</td><td>0.08387</td><td>41.86</td><td>6.019</td><td>0.1677</td><td>35.88</td><td>8.507</td><td>0.2516</td><td>33.81</td><td>1.714</td><td>1.413</td><td>6.741</td><td>0.06926</td><td>97.33</td><td>2.929</td><td>0.0</td><td>5.812</td><td>0.1005</td><td>57.82</td><td>4.649</td><td>0</td><td>3.631</td><td>1.706</td><td>1.148</td><td>0.01904</td><td>0</td><td>0</td><td>0</td><td>-0.0052720527 .. 0.002631939</td><td>-0.0037210688 .. -0.0024997548</td><td>0.0005358079 .. 0.002235549</td><td>a</td><td>7.289</td><td>0.1748</td><td>41.71</td><td>16.61</td><td>0.3336</td><td>49.8</td><td>21.93</td><td>0.4448</td><td>49.3</td><td>2.279</td><td>1.32</td><td>14.71</td><td>0.2764</td><td>53.21</td><td>1.964</td><td>0</td><td>14.6</td><td>0.2981</td><td>48.98</td><td>1.408</td><td>0</td><td>10.32</td><td>--</td><td>1.366</td><td>0</td><td>0</td><td>0</td><td>0.03339</td><td>0.002990242 .. 0.0058472236</td><td>0.0015902591 .. 0.0013604384</td><td>0.012445024 .. 0.013111573</td><td>266.19629166666664,-29.395769444444447</td><td>Field47</td><td>SFGC359.513-0.0843</td><td>SFGC359.513-0.0840</td><td>1</td><td>1</td><td>1</td><td>1.089</td><td>000</td><td>--</td><td>--</td><td>--</td><td>000</td><td>--</td><td>--</td><td>--</td><td>241</td><td>266.19629166666664,-29.395769444444444</td><td>0383448</td><td>2.968</td></tr>\n",
       "<tr><td>SFGC359.946-0.0257</td><td>17h45m35.49s</td><td>-28d59m44.38s</td><td>a</td><td>1.549</td><td>0.1501</td><td>10.32</td><td>4.219</td><td>0.3003</td><td>14.05</td><td>7.112</td><td>0.4504</td><td>15.79</td><td>2.724</td><td>1.686</td><td>--</td><td>--</td><td>--</td><td>--</td><td>1.0</td><td>--</td><td>--</td><td>--</td><td>--</td><td>1</td><td>--</td><td>--</td><td>--</td><td>0.02142</td><td>0</td><td>0</td><td>0</td><td>0.014276668 .. 0.007825445</td><td>-- .. --</td><td>-- .. --</td><td>a</td><td>3.38</td><td>0.7299</td><td>4.631</td><td>9.089</td><td>1.393</td><td>6.523</td><td>12.52</td><td>1.858</td><td>6.738</td><td>2.689</td><td>1.377</td><td>7.808</td><td>0.7515</td><td>10.39</td><td>5.343</td><td>0</td><td>--</td><td>--</td><td>--</td><td>--</td><td>1</td><td>26</td><td>--</td><td>--</td><td>0</td><td>0</td><td>0</td><td>0.02826</td><td>0.144796 .. -0.01986293</td><td>0.006654638 .. 0.003550307</td><td>-- .. --</td><td>266.397875,-28.99566111111111</td><td>Field41</td><td>SFGC359.946-0.0257</td><td>--</td><td>0</td><td>1</td><td>0</td><td>--</td><td>000</td><td>--</td><td>--</td><td>--</td><td>000</td><td>--</td><td>--</td><td>--</td><td>530</td><td>266.397875,-28.99566111111111</td><td>0513261</td><td>2.982</td></tr>\n",
       "<tr><td>SFGC359.949-0.0431</td><td>17h45m40.04s</td><td>-29d00m06.67s</td><td>a</td><td>58.89</td><td>7.816</td><td>7.535</td><td>185.7</td><td>15.63</td><td>11.88</td><td>430.2</td><td>23.45</td><td>18.35</td><td>3.154</td><td>2.316</td><td>--</td><td>--</td><td>--</td><td>--</td><td>1.0</td><td>--</td><td>--</td><td>--</td><td>--</td><td>1</td><td>--</td><td>--</td><td>--</td><td>0.02142</td><td>0</td><td>1</td><td>1</td><td>5.5312295 .. 0.34408545</td><td>-- .. --</td><td>-- .. --</td><td>a</td><td>123.7</td><td>10.81</td><td>11.45</td><td>381.2</td><td>20.63</td><td>18.48</td><td>654.7</td><td>27.51</td><td>23.8</td><td>3.081</td><td>1.717</td><td>--</td><td>--</td><td>--</td><td>--</td><td>1</td><td>313.4</td><td>35.82</td><td>8.749</td><td>216</td><td>0</td><td>20.04</td><td>--</td><td>1.61</td><td>1</td><td>1</td><td>1</td><td>0.02826</td><td>0.0007757627 .. 0.34576464</td><td>-- .. --</td><td>1.2227505 .. -0.54548854</td><td>266.41683333333333,-29.00185277777778</td><td>Field38</td><td>--</td><td>SFGC359.949-0.0431</td><td>--</td><td>--</td><td>--</td><td>--</td><td>000</td><td>--</td><td>--</td><td>--</td><td>000</td><td>--</td><td>--</td><td>--</td><td>780</td><td>266.41683333333333,-29.001852777777778</td><td>0524678</td><td>2.988</td></tr>\n",
       "<tr><td>SFGC359.526-0.0672</td><td>17h44m44.96s</td><td>-29d22m32.87s</td><td>a</td><td>--</td><td>--</td><td>--</td><td>--</td><td>--</td><td>--</td><td>--</td><td>--</td><td>--</td><td>--</td><td>--</td><td>--</td><td>--</td><td>--</td><td>--</td><td>1.0</td><td>--</td><td>--</td><td>--</td><td>--</td><td>1</td><td>--</td><td>--</td><td>--</td><td>0.01904</td><td>0</td><td>0</td><td>0</td><td>-0.00055418594 .. 0.0012216236</td><td>-- .. --</td><td>-- .. --</td><td>g</td><td>0.8175</td><td>0.2142</td><td>3.816</td><td>--</td><td>--</td><td>--</td><td>--</td><td>--</td><td>--</td><td>--</td><td>--</td><td>--</td><td>--</td><td>--</td><td>--</td><td>1</td><td>0.8986</td><td>0.1706</td><td>5.268</td><td>0.7134</td><td>0</td><td>4.816</td><td>2.628</td><td>1.622</td><td>0</td><td>0</td><td>0</td><td>0.03339</td><td>-0.0017756594 .. 0.0046721245</td><td>-- .. --</td><td>-0.012725596 .. -0.0061325207</td><td>266.1873333333333,-29.37579722222222</td><td>Field47</td><td>--</td><td>SFGC359.526-0.0672</td><td>--</td><td>--</td><td>--</td><td>--</td><td>111</td><td>0.2062</td><td>0.4124</td><td>0.6187</td><td>011</td><td>--</td><td>1.289</td><td>1.719</td><td>744</td><td>266.1873333333333,-29.37579722222222</td><td>0377852</td><td>2.993</td></tr>\n",
       "</table></div>"
      ],
      "text/plain": [
       "<Table length=512>\n",
       "     SourceID       RA(J2000)     DEC(J2000)  ... SSTGCxmatch SSTGCd2d\n",
       "                                              ...                     \n",
       "     bytes18         bytes12       bytes13    ...     str7    float64 \n",
       "------------------ ------------ ------------- ... ----------- --------\n",
       "  SFGC0.154+0.0305 17h45m52.11s -28d47m18.29s ...     0558345     0.11\n",
       "SFGC359.948-0.0293 17h45m36.60s -28d59m45.80s ...     0515803    0.131\n",
       "  SFGC0.299-0.0610 17h46m34.02s -28d42m46.19s ...     0673798    0.132\n",
       "  SFGC0.395+0.0076 17h46m31.71s -28d35m41.19s ...     0667560    0.132\n",
       "SFGC359.954-0.0262 17h45m36.82s -28d59m19.77s ...     0516452    0.135\n",
       "  SFGC0.036-0.1818 17h46m24.88s -29d00m01.34s ...     0648643    0.137\n",
       "  SFGC0.055+0.0265 17h45m38.83s -28d52m31.95s ...     0521894    0.141\n",
       "SFGC359.639-0.0576 17h44m58.96s -29d16m27.46s ...     0414950    0.144\n",
       "SFGC359.410+0.0325 17h44m04.82s -29d25m21.08s ...     0279869    0.153\n",
       "               ...          ...           ... ...         ...      ...\n",
       "  SFGC0.004-0.0678 17h45m53.63s -28d58m05.20s ...     0562378    2.927\n",
       "SFGC359.491-0.0740 17h44m41.48s -29d24m33.85s ...     0368854    2.927\n",
       "  SFGC0.649-0.0357 17h47m17.73s -28d24m01.63s ...     0783999    2.945\n",
       "  SFGC0.214-0.0758 17h46m25.47s -28d47m33.74s ...     0650438    2.947\n",
       "SFGC359.956-0.0510 17h45m42.91s -28d59m59.71s ...     0532584    2.951\n",
       "  SFGC0.162-0.0662 17h46m15.86s -28d49m54.95s ...     0623735    2.953\n",
       "SFGC359.513-0.0843 17h44m47.11s -29d23m44.77s ...     0383448    2.968\n",
       "SFGC359.946-0.0257 17h45m35.49s -28d59m44.38s ...     0513261    2.982\n",
       "SFGC359.949-0.0431 17h45m40.04s -29d00m06.67s ...     0524678    2.988\n",
       "SFGC359.526-0.0672 17h44m44.96s -29d22m32.87s ...     0377852    2.993"
      ]
     },
     "execution_count": 82,
     "metadata": {},
     "output_type": "execute_result"
    }
   ],
   "source": [
    "#add crossmatch information for SSTGC catalog\n",
    "matchedmcat['SSTGCxmatch']=stgccat[\"SSTGC\"]\n",
    "matchedmcat['SSTGCd2d']=np.round(d2dup,3)\n",
    "\n",
    "matchedmcat"
   ]
  },
  {
   "cell_type": "code",
   "execution_count": 83,
   "id": "7261d047",
   "metadata": {},
   "outputs": [],
   "source": [
    "matchsid=list(matchedmcat['id'])\n",
    "\n",
    "i=0\n",
    "rdx2=[]\n",
    "for source in mcat:\n",
    "    \n",
    "    if source['id'] in matchsid:\n",
    "        #print(i)\n",
    "        rdx2.append(i)\n",
    "        \n",
    "    i=i+1"
   ]
  },
  {
   "cell_type": "code",
   "execution_count": 84,
   "id": "d499ff30",
   "metadata": {},
   "outputs": [
    {
     "data": {
      "text/plain": [
       "512"
      ]
     },
     "execution_count": 84,
     "metadata": {},
     "output_type": "execute_result"
    }
   ],
   "source": [
    "len(rdx2)"
   ]
  },
  {
   "cell_type": "code",
   "execution_count": 85,
   "id": "c570084c",
   "metadata": {},
   "outputs": [],
   "source": [
    "#find sources in mcat that were not found in the cross match with SSTGC catalog\n",
    "notrdx=findNOTindex(mcat,rdx2)\n",
    "onlymcat=mcat[notrdx]\n",
    "#set entries for non-matched sources to NULL\n",
    "onlymcat['SSTGCxmatch']=''"
   ]
  },
  {
   "cell_type": "code",
   "execution_count": 86,
   "id": "ac1d476f",
   "metadata": {},
   "outputs": [],
   "source": [
    "#Optional - write out a set of ds9 region files for matched and unmatched sources - useful for visual comparison\n",
    "##set size of regions \n",
    "#r = Angle(0.00083333, u.deg) #must be in degrees - current value is r=3\"\n",
    "##write out ds9 files\n",
    "#makeDS9reg('mcat_matched_SSTGC.reg', matchedmcat, r, color='cyan');\n",
    "#makeDS9reg('mcat_nonmatched_SSTGC.reg', onlymcat, r, color='red');"
   ]
  },
  {
   "cell_type": "code",
   "execution_count": 87,
   "id": "728f2079",
   "metadata": {
    "scrolled": true
   },
   "outputs": [
    {
     "data": {
      "text/html": [
       "<div><i>Table length=950</i>\n",
       "<table id=\"table2556334907104\" class=\"table-striped table-bordered table-condensed\">\n",
       "<thead><tr><th>SourceID</th><th>RA(J2000)</th><th>DEC(J2000)</th><th>25BestModel</th><th>25um_Flux_4pix</th><th>25um_Flux_4pix_err</th><th>25um_SNR_4pix</th><th>25um_Flux_8pix</th><th>25um_Flux_8pix_err</th><th>25um_SNR_8pix</th><th>25um_Flux_12pix</th><th>25um_Flux_12pix_err</th><th>25um_SNR_12pix</th><th>25ApRatio8_4</th><th>25ApRatio12_8</th><th>25um_Flux_M2D</th><th>25um_Flux_M2D_err</th><th>25um_SNR_M2D</th><th>25um_M2D_chi2</th><th>M2D25_qflag</th><th>25um_Flux_G2D</th><th>25um_Flux_G2D_err</th><th>25um_SNR_G2D</th><th>25um_G2D_chi2</th><th>G2D25_qflag</th><th>fwhm25</th><th>fwhm25err</th><th>elong25</th><th>ErrCalF25</th><th>vExtFlag25</th><th>bkg_qflag25</th><th>edge_flag25</th><th>cutout25 [25,25]</th><th>M2Dresid25 [17,17]</th><th>G2Dresid25 [17,17]</th><th>37BestModel</th><th>37um_Flux_5.5pix</th><th>37um_Flux_5.5pix_err</th><th>37um_SNR_5.5pix</th><th>37um_Flux_10.5pix</th><th>37um_Flux_10.5pix_err</th><th>37um_SNR_10.5pix</th><th>37um_Flux_14pix</th><th>37um_Flux_14pix_err</th><th>37um_SNR_14pix</th><th>37ApRatio10.5_5.5</th><th>37ApRatio14_10.5</th><th>37um_Flux_M2D</th><th>37um_Flux_M2D_err</th><th>37um_SNR_M2D</th><th>37um_M2D_chi2</th><th>M2D37_qflag</th><th>37um_Flux_G2D</th><th>37um_Flux_G2D_err</th><th>37um_SNR_G2D</th><th>37um_G2D_chi2</th><th>G2D37_qflag</th><th>fwhm37</th><th>fwhm37err</th><th>elong37</th><th>vExtFlag37</th><th>bkg_qflag37</th><th>edge_flag37</th><th>ErrCalF37</th><th>cutout37 [31,31]</th><th>M2Dresid37 [17,17]</th><th>G2Dresid37 [17,17]</th><th>sky_centroid</th><th>FieldID</th><th>SID25</th><th>SID37</th><th>Found25</th><th>Found37</th><th>Matched</th><th>F25_F37_sep</th><th>25ApPhot_qflag</th><th>25Ap_4pix_UL</th><th>25Ap_8pix_UL</th><th>25Ap_12pix_UL</th><th>37ApPhot_qflag</th><th>37Ap_5.5pix_UL</th><th>37Ap_10.5pix_UL</th><th>37Ap_14pix_UL</th><th>id</th><th>skycoords</th><th>SSTGCxmatch</th><th>SSTGCd2d</th></tr></thead>\n",
       "<thead><tr><th></th><th></th><th></th><th></th><th></th><th></th><th></th><th></th><th></th><th></th><th></th><th></th><th></th><th></th><th></th><th></th><th></th><th></th><th></th><th></th><th></th><th></th><th></th><th></th><th></th><th></th><th></th><th></th><th></th><th></th><th></th><th></th><th></th><th></th><th></th><th></th><th></th><th></th><th></th><th></th><th></th><th></th><th></th><th></th><th></th><th></th><th></th><th></th><th></th><th></th><th></th><th></th><th></th><th></th><th></th><th></th><th></th><th></th><th></th><th></th><th></th><th></th><th></th><th></th><th></th><th></th><th></th><th>deg,deg</th><th></th><th></th><th></th><th></th><th></th><th></th><th></th><th></th><th></th><th></th><th></th><th></th><th></th><th></th><th></th><th></th><th>deg,deg</th><th></th><th></th></tr></thead>\n",
       "<thead><tr><th>bytes18</th><th>bytes12</th><th>bytes13</th><th>bytes1</th><th>float32</th><th>float32</th><th>float32</th><th>float32</th><th>float32</th><th>float32</th><th>float32</th><th>float32</th><th>float32</th><th>float32</th><th>float32</th><th>float32</th><th>float32</th><th>float32</th><th>float32</th><th>float64</th><th>float32</th><th>float32</th><th>float32</th><th>float32</th><th>int32</th><th>float32</th><th>float32</th><th>float32</th><th>float32</th><th>int32</th><th>int32</th><th>int32</th><th>float32</th><th>float32</th><th>float32</th><th>bytes1</th><th>float32</th><th>float32</th><th>float32</th><th>float32</th><th>float32</th><th>float32</th><th>float32</th><th>float32</th><th>float32</th><th>float32</th><th>float32</th><th>float32</th><th>float32</th><th>float32</th><th>float32</th><th>int32</th><th>float32</th><th>float32</th><th>float32</th><th>float32</th><th>int32</th><th>float32</th><th>float32</th><th>float32</th><th>int32</th><th>int32</th><th>int32</th><th>float32</th><th>float32</th><th>float32</th><th>float32</th><th>object</th><th>bytes7</th><th>bytes18</th><th>bytes18</th><th>int32</th><th>int32</th><th>int32</th><th>float32</th><th>bytes3</th><th>float32</th><th>float32</th><th>float32</th><th>bytes3</th><th>float32</th><th>float32</th><th>float32</th><th>int32</th><th>object</th><th>str7</th><th>float64</th></tr></thead>\n",
       "<tr><td>SFGC0.154+0.0305</td><td>17h45m52.11s</td><td>-28d47m18.29s</td><td>a</td><td>1.215</td><td>0.07536</td><td>16.12</td><td>2.91</td><td>0.1507</td><td>19.31</td><td>4.134</td><td>0.2261</td><td>18.29</td><td>2.395</td><td>1.421</td><td>--</td><td>--</td><td>--</td><td>--</td><td>1.0</td><td>3.369</td><td>0.1399</td><td>24.08</td><td>1.72</td><td>0</td><td>8.166</td><td>--</td><td>1.192</td><td>0.02142</td><td>0</td><td>0</td><td>0</td><td>0.012317061 .. 0.010174385</td><td>-- .. --</td><td>-0.00020164582 .. -0.010862777</td><td>a</td><td>1.735</td><td>0.4041</td><td>4.294</td><td>4.79</td><td>0.7714</td><td>6.21</td><td>6.848</td><td>1.029</td><td>6.658</td><td>2.761</td><td>1.43</td><td>--</td><td>--</td><td>--</td><td>--</td><td>1</td><td>4.02</td><td>0.7758</td><td>5.181</td><td>1.277</td><td>0</td><td>11.61</td><td>--</td><td>1.708</td><td>0</td><td>0</td><td>0</td><td>0.02826</td><td>0.102191195 .. 0.010739732</td><td>-- .. --</td><td>0.0066655492 .. -0.01574394</td><td>266.467125,-28.788413888888893</td><td>Field20</td><td>SFGC0.154+0.0305</td><td></td><td>0</td><td>1</td><td>0</td><td>--</td><td>000</td><td>--</td><td>--</td><td>--</td><td>000</td><td>--</td><td>--</td><td>--</td><td>613</td><td>266.467125,-28.78841388888889</td><td>0558345</td><td>0.11</td></tr>\n",
       "<tr><td>SFGC359.948-0.0293</td><td>17h45m36.60s</td><td>-28d59m45.80s</td><td>a</td><td>1.934</td><td>0.274</td><td>7.058</td><td>4.92</td><td>0.548</td><td>8.978</td><td>8.436</td><td>0.822</td><td>10.26</td><td>2.544</td><td>1.715</td><td>--</td><td>--</td><td>--</td><td>--</td><td>1.0</td><td>6.087</td><td>0.6909</td><td>8.81</td><td>4.124</td><td>0</td><td>11.09</td><td>--</td><td>1.585</td><td>0.02142</td><td>0</td><td>1</td><td>0</td><td>0.050377894 .. -0.013156525</td><td>-- .. --</td><td>0.024666041 .. -0.011547057</td><td>a</td><td>10.11</td><td>1.17</td><td>8.638</td><td>27.95</td><td>2.234</td><td>12.51</td><td>42.42</td><td>2.978</td><td>14.24</td><td>2.766</td><td>1.518</td><td>--</td><td>--</td><td>--</td><td>--</td><td>1</td><td>23.4</td><td>2.909</td><td>8.045</td><td>2.748</td><td>0</td><td>15.03</td><td>--</td><td>1.296</td><td>1</td><td>0</td><td>0</td><td>0.02826</td><td>0.26187968 .. -0.06528417</td><td>-- .. --</td><td>0.04126874 .. -0.004408556</td><td>266.4025,-28.99605555555556</td><td>Field41</td><td>SFGC359.948-0.0293</td><td></td><td>0</td><td>1</td><td>0</td><td>--</td><td>000</td><td>--</td><td>--</td><td>--</td><td>000</td><td>--</td><td>--</td><td>--</td><td>531</td><td>266.4025,-28.996055555555557</td><td>0515803</td><td>0.131</td></tr>\n",
       "<tr><td>SFGC0.299-0.0610</td><td>17h46m34.02s</td><td>-28d42m46.19s</td><td>g</td><td>0.3175</td><td>0.06646</td><td>4.778</td><td>--</td><td>--</td><td>--</td><td>--</td><td>--</td><td>--</td><td>--</td><td>--</td><td>--</td><td>--</td><td>--</td><td>--</td><td>1.0</td><td>0.3584</td><td>0.03986</td><td>8.992</td><td>1.723</td><td>0</td><td>2.637</td><td>0.948</td><td>1.285</td><td>0.02142</td><td>0</td><td>0</td><td>0</td><td>0.0046728295 .. -0.010867304</td><td>-- .. --</td><td>0.0044102594 .. -0.00626117</td><td>a</td><td>--</td><td>--</td><td>--</td><td>--</td><td>--</td><td>--</td><td>--</td><td>--</td><td>--</td><td>--</td><td>--</td><td>0.1374</td><td>0.04258</td><td>3.227</td><td>1.665</td><td>0</td><td>0.1319</td><td>0.04041</td><td>3.265</td><td>1.663</td><td>0</td><td>1.522</td><td>--</td><td>1.363</td><td>0</td><td>0</td><td>0</td><td>0.02826</td><td>-0.00489589 .. -0.013288289</td><td>-0.0020012243 .. -0.034825362</td><td>-0.0020012243 .. -0.034825362</td><td>266.64174999999994,-28.712830555555556</td><td>Field11</td><td>SFGC0.299-0.0610</td><td></td><td>0</td><td>1</td><td>0</td><td>--</td><td>011</td><td>--</td><td>0.4146</td><td>0.6221</td><td>111</td><td>0.4761</td><td>0.9087</td><td>1.212</td><td>672</td><td>266.64174999999994,-28.712830555555556</td><td>0673798</td><td>0.132</td></tr>\n",
       "<tr><td>SFGC0.395+0.0076</td><td>17h46m31.71s</td><td>-28d35m41.19s</td><td>g</td><td>0.9391</td><td>0.05525</td><td>17</td><td>1.528</td><td>0.1105</td><td>13.83</td><td>2.129</td><td>0.1658</td><td>12.85</td><td>1.627</td><td>1.394</td><td>1.691</td><td>0.03149</td><td>53.69</td><td>0.9483</td><td>0.0</td><td>1.154</td><td>0.04685</td><td>24.62</td><td>1.156</td><td>0</td><td>3.729</td><td>0.3669</td><td>1.1</td><td>0.02373</td><td>0</td><td>0</td><td>1</td><td>-0.0041721943 .. 0.0033475205</td><td>0.006165268 .. -0.002404517</td><td>0.007233214 .. -0.0012212958</td><td>g</td><td>0.703</td><td>0.106</td><td>6.631</td><td>0.892</td><td>0.2024</td><td>4.407</td><td>--</td><td>--</td><td>--</td><td>1.269</td><td>--</td><td>0.8648</td><td>0.04362</td><td>19.83</td><td>0.5585</td><td>0</td><td>0.9476</td><td>0.08267</td><td>11.46</td><td>0.5464</td><td>0</td><td>4.716</td><td>3.258</td><td>1.984</td><td>0</td><td>0</td><td>0</td><td>0.02703</td><td>0.004471551 .. -0.003152961</td><td>-0.010298081 .. 0.009193374</td><td>-0.010016264 .. 0.009464073</td><td>266.632125,-28.594775</td><td>Field09</td><td>SFGC0.395+0.0076</td><td>SFGC0.395+0.0072</td><td>1</td><td>1</td><td>1</td><td>1.377</td><td>000</td><td>--</td><td>--</td><td>--</td><td>001</td><td>--</td><td>--</td><td>0.8003</td><td>288</td><td>266.632125,-28.594775</td><td>0667560</td><td>0.132</td></tr>\n",
       "<tr><td>SFGC359.954-0.0262</td><td>17h45m36.82s</td><td>-28d59m19.77s</td><td>a</td><td>2.403</td><td>0.2107</td><td>11.41</td><td>5.95</td><td>0.4213</td><td>14.12</td><td>8.986</td><td>0.632</td><td>14.22</td><td>2.476</td><td>1.51</td><td>--</td><td>--</td><td>--</td><td>--</td><td>1.0</td><td>7.338</td><td>0.4658</td><td>15.75</td><td>3.793</td><td>0</td><td>9.723</td><td>--</td><td>1.595</td><td>0.02142</td><td>0</td><td>1</td><td>0</td><td>-0.00950928 .. 0.009172682</td><td>-- .. --</td><td>-0.005586301 .. 0.00984423</td><td>a</td><td>6.284</td><td>0.5148</td><td>12.21</td><td>13.07</td><td>0.9828</td><td>13.3</td><td>14.76</td><td>1.31</td><td>11.26</td><td>2.08</td><td>1.129</td><td>--</td><td>--</td><td>--</td><td>--</td><td>1</td><td>12.04</td><td>0.8646</td><td>13.93</td><td>2.981</td><td>0</td><td>10.16</td><td>--</td><td>1.643</td><td>0</td><td>0</td><td>0</td><td>0.02826</td><td>-0.08488364 .. -0.044584747</td><td>-- .. --</td><td>-0.013150876 .. 0.016428657</td><td>266.40341666666666,-28.988825000000002</td><td>Field38</td><td>SFGC359.954-0.0262</td><td>SFGC359.954-0.0259</td><td>1</td><td>1</td><td>1</td><td>1.444</td><td>000</td><td>--</td><td>--</td><td>--</td><td>000</td><td>--</td><td>--</td><td>--</td><td>293</td><td>266.40341666666666,-28.988825000000002</td><td>0516452</td><td>0.135</td></tr>\n",
       "<tr><td>SFGC0.036-0.1818</td><td>17h46m24.88s</td><td>-29d00m01.34s</td><td>g</td><td>1.352</td><td>0.1088</td><td>12.42</td><td>1.15</td><td>0.2176</td><td>5.285</td><td>--</td><td>--</td><td>--</td><td>0.8509</td><td>--</td><td>--</td><td>--</td><td>--</td><td>--</td><td>1.0</td><td>1.403</td><td>0.06501</td><td>21.58</td><td>1.429</td><td>0</td><td>2.628</td><td>0.3065</td><td>1.02</td><td>0.02373</td><td>0</td><td>0</td><td>1</td><td>-0.02002774 .. -0.012622309</td><td>-- .. --</td><td>-0.00019068921 .. -0.0063876263</td><td>g</td><td>1.49</td><td>0.1967</td><td>7.574</td><td>2.02</td><td>0.3756</td><td>5.377</td><td>2.351</td><td>0.5008</td><td>4.694</td><td>1.355</td><td>1.164</td><td>--</td><td>--</td><td>--</td><td>--</td><td>1</td><td>1.615</td><td>0.1373</td><td>11.76</td><td>0.6163</td><td>0</td><td>4.219</td><td>0.8425</td><td>1.237</td><td>0</td><td>0</td><td>1</td><td>0.02703</td><td>-0.008324572 .. 0.004368282</td><td>-- .. --</td><td>0.00025314777 .. 0.000968509</td><td>266.60366666666664,-29.000372222222225</td><td>Field35</td><td>SFGC0.036-0.1818</td><td>SFGC0.036-0.1818</td><td>1</td><td>1</td><td>1</td><td>0</td><td>001</td><td>--</td><td>--</td><td>0.9746</td><td>000</td><td>--</td><td>--</td><td>--</td><td>4</td><td>266.60366666666664,-29.00037222222222</td><td>0648643</td><td>0.137</td></tr>\n",
       "<tr><td>SFGC0.055+0.0265</td><td>17h45m38.83s</td><td>-28d52m31.95s</td><td>a</td><td>9.168</td><td>0.1826</td><td>50.2</td><td>13.78</td><td>0.3653</td><td>37.71</td><td>16.23</td><td>0.5479</td><td>29.63</td><td>1.503</td><td>1.179</td><td>14.13</td><td>0.1722</td><td>82.08</td><td>9.235</td><td>0.0</td><td>13.17</td><td>0.1922</td><td>68.5</td><td>5.241</td><td>0</td><td>4.629</td><td>--</td><td>1.459</td><td>0.02142</td><td>0</td><td>1</td><td>1</td><td>0.0137687 .. -0.0060447566</td><td>-0.013851131 .. -0.012309242</td><td>-0.012057202 .. -0.010552663</td><td>a</td><td>15.67</td><td>0.9963</td><td>15.73</td><td>17.61</td><td>1.902</td><td>9.257</td><td>19.37</td><td>2.536</td><td>7.639</td><td>1.124</td><td>1.1</td><td>17.5</td><td>0.7156</td><td>24.46</td><td>4.869</td><td>0</td><td>17.25</td><td>0.7422</td><td>23.24</td><td>4.584</td><td>0</td><td>4.505</td><td>--</td><td>1.119</td><td>0</td><td>0</td><td>0</td><td>0.05605</td><td>-0.013989766 .. -0.020645522</td><td>-0.03255373 .. -0.014349979</td><td>-0.032452732 .. -0.014055125</td><td>266.41179166666666,-28.875541666666667</td><td>Field31</td><td>SFGC0.055+0.0265</td><td>SFGC0.055+0.0266</td><td>1</td><td>1</td><td>1</td><td>0.5366</td><td>000</td><td>--</td><td>--</td><td>--</td><td>000</td><td>--</td><td>--</td><td>--</td><td>113</td><td>266.41179166666666,-28.875541666666667</td><td>0521894</td><td>0.141</td></tr>\n",
       "<tr><td>SFGC359.639-0.0576</td><td>17h44m58.96s</td><td>-29d16m27.46s</td><td>m</td><td>3.39</td><td>0.1223</td><td>27.72</td><td>5.276</td><td>0.2445</td><td>21.58</td><td>7.666</td><td>0.3668</td><td>20.9</td><td>1.557</td><td>1.453</td><td>5.577</td><td>0.07045</td><td>79.16</td><td>3.822</td><td>0.0</td><td>4.022</td><td>0.09802</td><td>41.03</td><td>6.677</td><td>0</td><td>2.534</td><td>0.5935</td><td>1.206</td><td>0.02142</td><td>0</td><td>1</td><td>0</td><td>0.0011366992 .. 0.0113458</td><td>-0.0031141685 .. 0.010606364</td><td>-0.00053392415 .. 0.01316614</td><td>a</td><td>3.529</td><td>0.9561</td><td>3.691</td><td>8.97</td><td>1.825</td><td>4.914</td><td>16.49</td><td>2.434</td><td>6.778</td><td>2.542</td><td>1.839</td><td>--</td><td>--</td><td>--</td><td>--</td><td>1</td><td>8.046</td><td>1.86</td><td>4.326</td><td>3.042</td><td>0</td><td>11.76</td><td>--</td><td>1.31</td><td>0</td><td>0</td><td>0</td><td>0.02826</td><td>-0.0019586748 .. 0.04764301</td><td>-- .. --</td><td>-0.012796373 .. 0.018000342</td><td>266.24566666666664,-29.274294444444447</td><td>Field45</td><td>SFGC359.639-0.0576</td><td>SFGC359.639-0.0577</td><td>1</td><td>1</td><td>1</td><td>0.47</td><td>000</td><td>--</td><td>--</td><td>--</td><td>000</td><td>--</td><td>--</td><td>--</td><td>89</td><td>266.24566666666664,-29.274294444444443</td><td>0414950</td><td>0.144</td></tr>\n",
       "<tr><td>SFGC359.410+0.0325</td><td>17h44m04.82s</td><td>-29d25m21.08s</td><td>a</td><td>2.735</td><td>0.08493</td><td>32.2</td><td>7.384</td><td>0.1699</td><td>43.47</td><td>11.53</td><td>0.2548</td><td>45.26</td><td>2.7</td><td>1.561</td><td>8.828</td><td>0.1675</td><td>52.71</td><td>1.722</td><td>0.0</td><td>8.763</td><td>0.2029</td><td>43.18</td><td>1.816</td><td>0</td><td>10.51</td><td>--</td><td>1.206</td><td>0.02373</td><td>0</td><td>0</td><td>0</td><td>-0.0015718809 .. 0.015309025</td><td>-0.0070291045 .. -0.005470701</td><td>0.0005994801 .. 0.0020603056</td><td>a</td><td>6.461</td><td>0.189</td><td>34.19</td><td>17.67</td><td>0.3607</td><td>48.97</td><td>24.76</td><td>0.481</td><td>51.48</td><td>2.734</td><td>1.402</td><td>14.81</td><td>0.3446</td><td>42.98</td><td>1.15</td><td>0</td><td>14.78</td><td>0.4328</td><td>34.15</td><td>1.146</td><td>0</td><td>13.85</td><td>--</td><td>1.256</td><td>0</td><td>0</td><td>1</td><td>0.02703</td><td>0.019314835 .. 0.0036558802</td><td>-0.016732201 .. 0.0022502774</td><td>-0.0038788246 .. 0.013803407</td><td>266.02008333333333,-29.422522222222227</td><td>Field49</td><td>SFGC359.410+0.0325</td><td>SFGC359.409+0.0323</td><td>1</td><td>1</td><td>1</td><td>2.039</td><td>000</td><td>--</td><td>--</td><td>--</td><td>000</td><td>--</td><td>--</td><td>--</td><td>376</td><td>266.02008333333333,-29.422522222222224</td><td>0279869</td><td>0.153</td></tr>\n",
       "<tr><td>...</td><td>...</td><td>...</td><td>...</td><td>...</td><td>...</td><td>...</td><td>...</td><td>...</td><td>...</td><td>...</td><td>...</td><td>...</td><td>...</td><td>...</td><td>...</td><td>...</td><td>...</td><td>...</td><td>...</td><td>...</td><td>...</td><td>...</td><td>...</td><td>...</td><td>...</td><td>...</td><td>...</td><td>...</td><td>...</td><td>...</td><td>...</td><td>...</td><td>...</td><td>...</td><td>...</td><td>...</td><td>...</td><td>...</td><td>...</td><td>...</td><td>...</td><td>...</td><td>...</td><td>...</td><td>...</td><td>...</td><td>...</td><td>...</td><td>...</td><td>...</td><td>...</td><td>...</td><td>...</td><td>...</td><td>...</td><td>...</td><td>...</td><td>...</td><td>...</td><td>...</td><td>...</td><td>...</td><td>...</td><td>...</td><td>...</td><td>...</td><td>...</td><td>...</td><td>...</td><td>...</td><td>...</td><td>...</td><td>...</td><td>...</td><td>...</td><td>...</td><td>...</td><td>...</td><td>...</td><td>...</td><td>...</td><td>...</td><td>...</td><td>...</td><td>...</td><td>...</td></tr>\n",
       "<tr><td>SFGC0.521-0.0413</td><td>17h47m00.98s</td><td>-28d30m44.61s</td><td>a</td><td>3.012</td><td>0.3148</td><td>9.566</td><td>10.06</td><td>0.6297</td><td>15.98</td><td>17.16</td><td>0.9445</td><td>18.17</td><td>3.341</td><td>1.706</td><td>12.77</td><td>1.057</td><td>12.08</td><td>3.735</td><td>0.0</td><td>--</td><td>--</td><td>--</td><td>--</td><td>1</td><td>20</td><td>--</td><td>1</td><td>0.02142</td><td>0</td><td>1</td><td>1</td><td>0.054261215 .. -0.010793322</td><td>-0.0035690006 .. -0.056515787</td><td>-- .. --</td><td>a</td><td>10.02</td><td>0.5869</td><td>17.08</td><td>28.57</td><td>1.12</td><td>25.5</td><td>40.09</td><td>1.494</td><td>26.84</td><td>2.851</td><td>1.403</td><td>--</td><td>--</td><td>--</td><td>--</td><td>1</td><td>24.51</td><td>2.336</td><td>10.49</td><td>1.294</td><td>0</td><td>24.07</td><td>--</td><td>4.109</td><td>1</td><td>0</td><td>1</td><td>0.02826</td><td>0.09041624 .. -0.008825937</td><td>-- .. --</td><td>0.005410999 .. -0.029518789</td><td>266.7540833333333,-28.512391666666666</td><td>Field05</td><td></td><td>SFGC0.521-0.0413</td><td>--</td><td>--</td><td>--</td><td>--</td><td>000</td><td>--</td><td>--</td><td>--</td><td>000</td><td>--</td><td>--</td><td>--</td><td>931</td><td>266.7540833333333,-28.512391666666666</td><td></td><td>--</td></tr>\n",
       "<tr><td>SFGC0.526-0.0633</td><td>17h47m06.88s</td><td>-28d31m09.32s</td><td>a</td><td>1.769</td><td>0.1302</td><td>13.59</td><td>5.538</td><td>0.2604</td><td>21.27</td><td>9.684</td><td>0.3906</td><td>24.8</td><td>3.131</td><td>1.749</td><td>6.75</td><td>0.3066</td><td>22.02</td><td>1.844</td><td>0.0</td><td>6.765</td><td>0.3596</td><td>18.81</td><td>1.144</td><td>0</td><td>12.15</td><td>--</td><td>1.745</td><td>0.02142</td><td>1</td><td>1</td><td>0</td><td>0.033648897 .. 0.062026855</td><td>-0.0065642996 .. 0.008851886</td><td>-0.007555065 .. 0.0034342336</td><td>a</td><td>7.808</td><td>0.5478</td><td>14.25</td><td>20.2</td><td>1.046</td><td>19.31</td><td>30.72</td><td>1.395</td><td>22.03</td><td>2.587</td><td>1.521</td><td>16.77</td><td>0.9312</td><td>18.01</td><td>3.616</td><td>0</td><td>16.77</td><td>1.304</td><td>12.86</td><td>1.603</td><td>0</td><td>14.4</td><td>--</td><td>2.569</td><td>1</td><td>0</td><td>0</td><td>0.02826</td><td>0.04209341 .. 0.07617061</td><td>0.00072348455 .. 0.029322121</td><td>-0.0001326466 .. 0.01918324</td><td>266.77866666666665,-28.519255555555553</td><td>Field05</td><td></td><td>SFGC0.526-0.0633</td><td>--</td><td>--</td><td>--</td><td>--</td><td>000</td><td>--</td><td>--</td><td>--</td><td>000</td><td>--</td><td>--</td><td>--</td><td>932</td><td>266.77866666666665,-28.519255555555553</td><td></td><td>--</td></tr>\n",
       "<tr><td>SFGC0.530-0.1076</td><td>17h47m17.73s</td><td>-28d32m21.24s</td><td>a</td><td>3.69</td><td>0.1538</td><td>23.98</td><td>--</td><td>0.3077</td><td>--</td><td>--</td><td>0.4615</td><td>--</td><td>--</td><td>--</td><td>--</td><td>--</td><td>--</td><td>--</td><td>1.0</td><td>--</td><td>--</td><td>--</td><td>--</td><td>1</td><td>--</td><td>--</td><td>--</td><td>0.02142</td><td>0</td><td>1</td><td>1</td><td>-- .. 0.014289138</td><td>-- .. --</td><td>-- .. --</td><td>a</td><td>11.23</td><td>0.219</td><td>51.31</td><td>27.17</td><td>0.418</td><td>65</td><td>31.95</td><td>0.5573</td><td>57.33</td><td>2.419</td><td>1.176</td><td>--</td><td>--</td><td>--</td><td>--</td><td>1</td><td>23.81</td><td>0.4536</td><td>52.48</td><td>1.031</td><td>0</td><td>12.53</td><td>--</td><td>1.482</td><td>0</td><td>0</td><td>1</td><td>0.02826</td><td>0.0021600751 .. 0.008482332</td><td>-- .. --</td><td>-0.036895983 .. 0.008677322</td><td>266.823875,-28.53923333333334</td><td>Field05</td><td></td><td>SFGC0.530-0.1076</td><td>--</td><td>--</td><td>--</td><td>--</td><td>000</td><td>--</td><td>--</td><td>--</td><td>000</td><td>--</td><td>--</td><td>--</td><td>934</td><td>266.823875,-28.539233333333335</td><td></td><td>--</td></tr>\n",
       "<tr><td>SFGC0.535-0.0795</td><td>17h47m11.93s</td><td>-28d31m11.98s</td><td>a</td><td>15.89</td><td>1.082</td><td>14.69</td><td>57.24</td><td>2.164</td><td>26.46</td><td>107.4</td><td>3.245</td><td>33.09</td><td>3.602</td><td>1.876</td><td>74.26</td><td>2.284</td><td>32.52</td><td>78.96</td><td>0.0</td><td>73.79</td><td>5.068</td><td>14.56</td><td>57.47</td><td>0</td><td>20</td><td>--</td><td>3.782</td><td>0.02142</td><td>1</td><td>1</td><td>0</td><td>0.34421888 .. 0.06347808</td><td>0.04909153 .. -0.066584095</td><td>0.020154081 .. -0.012343248</td><td>a</td><td>35.61</td><td>1.853</td><td>19.22</td><td>107.7</td><td>3.537</td><td>30.45</td><td>164.9</td><td>4.716</td><td>34.98</td><td>3.025</td><td>1.531</td><td>--</td><td>--</td><td>--</td><td>--</td><td>1</td><td>87.12</td><td>4.967</td><td>17.54</td><td>8.546</td><td>0</td><td>16.21</td><td>--</td><td>1.873</td><td>1</td><td>1</td><td>0</td><td>0.02826</td><td>0.43167934 .. 0.03632593</td><td>-- .. --</td><td>0.041710526 .. -0.031914208</td><td>266.79970833333334,-28.519994444444443</td><td>Field05</td><td></td><td>SFGC0.535-0.0795</td><td>--</td><td>--</td><td>--</td><td>--</td><td>000</td><td>--</td><td>--</td><td>--</td><td>000</td><td>--</td><td>--</td><td>--</td><td>935</td><td>266.79970833333334,-28.519994444444443</td><td></td><td>--</td></tr>\n",
       "<tr><td>SFGC0.543-0.0856</td><td>17h47m14.46s</td><td>-28d30m59.47s</td><td>a</td><td>2.506</td><td>0.2563</td><td>9.777</td><td>8.69</td><td>0.5126</td><td>16.95</td><td>15.47</td><td>0.7689</td><td>20.12</td><td>3.468</td><td>1.78</td><td>--</td><td>--</td><td>--</td><td>--</td><td>1.0</td><td>--</td><td>--</td><td>--</td><td>--</td><td>1</td><td>--</td><td>--</td><td>--</td><td>0.02142</td><td>0</td><td>1</td><td>0</td><td>0.028055929 .. 0.015348984</td><td>-- .. --</td><td>-- .. --</td><td>a</td><td>4.448</td><td>0.7648</td><td>5.817</td><td>14.57</td><td>1.46</td><td>9.982</td><td>26.14</td><td>1.947</td><td>13.43</td><td>3.276</td><td>1.793</td><td>--</td><td>--</td><td>--</td><td>--</td><td>1</td><td>--</td><td>--</td><td>--</td><td>--</td><td>1</td><td>--</td><td>--</td><td>--</td><td>1</td><td>0</td><td>0</td><td>0.02826</td><td>0.03898405 .. -0.00021380108</td><td>-- .. --</td><td>-- .. --</td><td>266.81025,-28.516519444444448</td><td>Field05</td><td></td><td>SFGC0.543-0.0856</td><td>--</td><td>--</td><td>--</td><td>--</td><td>000</td><td>--</td><td>--</td><td>--</td><td>000</td><td>--</td><td>--</td><td>--</td><td>936</td><td>266.81025,-28.516519444444445</td><td></td><td>--</td></tr>\n",
       "<tr><td>SFGC0.544-0.0876</td><td>17h47m15.12s</td><td>-28d30m59.38s</td><td>a</td><td>1.938</td><td>0.1974</td><td>9.819</td><td>6.453</td><td>0.3948</td><td>16.34</td><td>12.03</td><td>0.5922</td><td>20.32</td><td>3.329</td><td>1.865</td><td>--</td><td>--</td><td>--</td><td>--</td><td>1.0</td><td>7.876</td><td>0.4966</td><td>15.86</td><td>1.872</td><td>0</td><td>11.06</td><td>--</td><td>1.275</td><td>0.02142</td><td>0</td><td>1</td><td>0</td><td>-0.0011402714 .. 0.020117477</td><td>-- .. --</td><td>0.011574247 .. -0.009747095</td><td>a</td><td>6.382</td><td>0.6323</td><td>10.09</td><td>14.27</td><td>1.207</td><td>11.83</td><td>20.21</td><td>1.609</td><td>12.56</td><td>2.237</td><td>1.416</td><td>--</td><td>--</td><td>--</td><td>--</td><td>1</td><td>12.14</td><td>1.07</td><td>11.35</td><td>1.829</td><td>0</td><td>10.23</td><td>--</td><td>1.146</td><td>0</td><td>0</td><td>0</td><td>0.02826</td><td>-0.007320549 .. 0.013732727</td><td>-- .. --</td><td>-0.010881714 .. 0.0051935064</td><td>266.813,-28.516494444444444</td><td>Field05</td><td></td><td>SFGC0.544-0.0876</td><td>--</td><td>--</td><td>--</td><td>--</td><td>000</td><td>--</td><td>--</td><td>--</td><td>000</td><td>--</td><td>--</td><td>--</td><td>937</td><td>266.813,-28.516494444444444</td><td></td><td>--</td></tr>\n",
       "<tr><td>SFGC0.547-0.0783</td><td>17h47m13.30s</td><td>-28d30m34.19s</td><td>a</td><td>1.933</td><td>0.09536</td><td>20.27</td><td>6.229</td><td>0.1907</td><td>32.66</td><td>9.702</td><td>0.2861</td><td>33.91</td><td>3.223</td><td>1.558</td><td>7.815</td><td>0.2809</td><td>27.82</td><td>3.232</td><td>0.0</td><td>--</td><td>--</td><td>--</td><td>--</td><td>1</td><td>20</td><td>--</td><td>1</td><td>0.02142</td><td>0</td><td>1</td><td>0</td><td>0.014251363 .. 0.042046458</td><td>-0.0036034286 .. 0.010035021</td><td>-- .. --</td><td>a</td><td>6.679</td><td>0.4443</td><td>15.03</td><td>16.85</td><td>0.8482</td><td>19.87</td><td>22.64</td><td>1.131</td><td>20.02</td><td>2.524</td><td>1.343</td><td>--</td><td>--</td><td>--</td><td>--</td><td>1</td><td>14.67</td><td>1.057</td><td>13.88</td><td>2.01</td><td>0</td><td>14.38</td><td>--</td><td>2.837</td><td>1</td><td>0</td><td>0</td><td>0.02826</td><td>-0.0029501256 .. 0.04951339</td><td>-- .. --</td><td>0.017250381 .. 0.0024769083</td><td>266.80541666666664,-28.509497222222222</td><td>Field05</td><td></td><td>SFGC0.547-0.0783</td><td>--</td><td>--</td><td>--</td><td>--</td><td>000</td><td>--</td><td>--</td><td>--</td><td>000</td><td>--</td><td>--</td><td>--</td><td>938</td><td>266.80541666666664,-28.509497222222222</td><td></td><td>--</td></tr>\n",
       "<tr><td>SFGC0.608-0.0474</td><td>17h47m14.71s</td><td>-28d26m28.57s</td><td>a</td><td>0.8958</td><td>0.2479</td><td>3.614</td><td>2.878</td><td>0.4958</td><td>5.805</td><td>6.002</td><td>0.7437</td><td>8.071</td><td>3.213</td><td>2.085</td><td>--</td><td>--</td><td>--</td><td>--</td><td>1.0</td><td>4.042</td><td>0.7135</td><td>5.664</td><td>1.862</td><td>0</td><td>12.66</td><td>--</td><td>1.213</td><td>0.02142</td><td>1</td><td>1</td><td>0</td><td>0.04877033 .. 0.009715956</td><td>-- .. --</td><td>-0.0012639214 .. 0.00063276035</td><td>a</td><td>3.516</td><td>1</td><td>3.515</td><td>11.35</td><td>1.91</td><td>5.943</td><td>19.7</td><td>2.546</td><td>7.737</td><td>3.228</td><td>1.736</td><td>--</td><td>--</td><td>--</td><td>--</td><td>1</td><td>9.107</td><td>2.938</td><td>3.099</td><td>1.668</td><td>0</td><td>17.76</td><td>--</td><td>1.624</td><td>1</td><td>0</td><td>0</td><td>0.02826</td><td>0.09177378 .. 0.0028818536</td><td>-- .. --</td><td>-0.0029147717 .. 0.009932723</td><td>266.81129166666665,-28.441269444444444</td><td>Field03</td><td></td><td>SFGC0.608-0.0474</td><td>--</td><td>--</td><td>--</td><td>--</td><td>000</td><td>--</td><td>--</td><td>--</td><td>000</td><td>--</td><td>--</td><td>--</td><td>943</td><td>266.81129166666665,-28.441269444444444</td><td></td><td>--</td></tr>\n",
       "<tr><td>SFGC0.645-0.0413</td><td>17h47m18.53s</td><td>-28d24m23.15s</td><td>a</td><td>0.2653</td><td>0.04392</td><td>6.041</td><td>0.7052</td><td>0.08783</td><td>8.029</td><td>1.194</td><td>0.1317</td><td>9.065</td><td>2.658</td><td>1.694</td><td>0.8238</td><td>0.0574</td><td>14.35</td><td>1.217</td><td>0.0</td><td>0.8174</td><td>0.1903</td><td>4.295</td><td>1.09</td><td>0</td><td>19.06</td><td>--</td><td>13.23</td><td>0.02142</td><td>1</td><td>0</td><td>0</td><td>0.0012395487 .. -0.009713518</td><td>0.002345207 .. -3.3755336e-05</td><td>0.0032379467 .. 0.0017057823</td><td>g</td><td>3.768</td><td>0.1425</td><td>26.45</td><td>6.82</td><td>0.272</td><td>25.08</td><td>7.734</td><td>0.3626</td><td>21.33</td><td>1.81</td><td>1.134</td><td>6.149</td><td>0.1426</td><td>43.12</td><td>1.903</td><td>0</td><td>6.068</td><td>0.1853</td><td>32.75</td><td>1.561</td><td>0</td><td>7.865</td><td>1.241</td><td>1.582</td><td>0</td><td>0</td><td>0</td><td>0.02826</td><td>0.018213322 .. 0.010447741</td><td>-0.0044285045 .. -0.0009069219</td><td>-6.54139e-05 .. 0.0029483454</td><td>266.8272083333334,-28.406430555555556</td><td>Field03</td><td></td><td>SFGC0.645-0.0413</td><td>--</td><td>--</td><td>--</td><td>--</td><td>000</td><td>--</td><td>--</td><td>--</td><td>000</td><td>--</td><td>--</td><td>--</td><td>946</td><td>266.8272083333334,-28.406430555555556</td><td></td><td>--</td></tr>\n",
       "<tr><td>SFGC0.671-0.0419</td><td>17h47m22.30s</td><td>-28d23m05.44s</td><td>a</td><td>0.7584</td><td>0.1035</td><td>7.326</td><td>2.216</td><td>0.2071</td><td>10.7</td><td>2.583</td><td>0.3106</td><td>8.315</td><td>2.922</td><td>1.165</td><td>2.414</td><td>0.1777</td><td>13.59</td><td>1.911</td><td>0.0</td><td>2.52</td><td>0.2082</td><td>12.1</td><td>1.553</td><td>0</td><td>8.844</td><td>--</td><td>2.483</td><td>0.02142</td><td>0</td><td>0</td><td>0</td><td>0.0020642637 .. -0.010091871</td><td>-0.00406073 .. -0.009509405</td><td>-0.0023189965 .. -0.008181876</td><td>a</td><td>8.878</td><td>0.5793</td><td>15.33</td><td>23.38</td><td>1.106</td><td>21.14</td><td>32.5</td><td>1.474</td><td>22.04</td><td>2.634</td><td>1.39</td><td>--</td><td>--</td><td>--</td><td>--</td><td>1</td><td>--</td><td>--</td><td>--</td><td>--</td><td>1</td><td>--</td><td>--</td><td>--</td><td>0</td><td>1</td><td>0</td><td>0.02826</td><td>0.011925301 .. 0.07435048</td><td>-- .. --</td><td>-- .. --</td><td>266.8429166666666,-28.384844444444443</td><td>Field01</td><td></td><td>SFGC0.671-0.0419</td><td>--</td><td>--</td><td>--</td><td>--</td><td>000</td><td>--</td><td>--</td><td>--</td><td>000</td><td>--</td><td>--</td><td>--</td><td>948</td><td>266.8429166666666,-28.384844444444443</td><td></td><td>--</td></tr>\n",
       "</table></div>"
      ],
      "text/plain": [
       "<Table length=950>\n",
       "     SourceID       RA(J2000)     DEC(J2000)  ... SSTGCxmatch SSTGCd2d\n",
       "                                              ...                     \n",
       "     bytes18         bytes12       bytes13    ...     str7    float64 \n",
       "------------------ ------------ ------------- ... ----------- --------\n",
       "  SFGC0.154+0.0305 17h45m52.11s -28d47m18.29s ...     0558345     0.11\n",
       "SFGC359.948-0.0293 17h45m36.60s -28d59m45.80s ...     0515803    0.131\n",
       "  SFGC0.299-0.0610 17h46m34.02s -28d42m46.19s ...     0673798    0.132\n",
       "  SFGC0.395+0.0076 17h46m31.71s -28d35m41.19s ...     0667560    0.132\n",
       "SFGC359.954-0.0262 17h45m36.82s -28d59m19.77s ...     0516452    0.135\n",
       "  SFGC0.036-0.1818 17h46m24.88s -29d00m01.34s ...     0648643    0.137\n",
       "  SFGC0.055+0.0265 17h45m38.83s -28d52m31.95s ...     0521894    0.141\n",
       "SFGC359.639-0.0576 17h44m58.96s -29d16m27.46s ...     0414950    0.144\n",
       "SFGC359.410+0.0325 17h44m04.82s -29d25m21.08s ...     0279869    0.153\n",
       "               ...          ...           ... ...         ...      ...\n",
       "  SFGC0.521-0.0413 17h47m00.98s -28d30m44.61s ...                   --\n",
       "  SFGC0.526-0.0633 17h47m06.88s -28d31m09.32s ...                   --\n",
       "  SFGC0.530-0.1076 17h47m17.73s -28d32m21.24s ...                   --\n",
       "  SFGC0.535-0.0795 17h47m11.93s -28d31m11.98s ...                   --\n",
       "  SFGC0.543-0.0856 17h47m14.46s -28d30m59.47s ...                   --\n",
       "  SFGC0.544-0.0876 17h47m15.12s -28d30m59.38s ...                   --\n",
       "  SFGC0.547-0.0783 17h47m13.30s -28d30m34.19s ...                   --\n",
       "  SFGC0.608-0.0474 17h47m14.71s -28d26m28.57s ...                   --\n",
       "  SFGC0.645-0.0413 17h47m18.53s -28d24m23.15s ...                   --\n",
       "  SFGC0.671-0.0419 17h47m22.30s -28d23m05.44s ...                   --"
      ]
     },
     "execution_count": 87,
     "metadata": {},
     "output_type": "execute_result"
    }
   ],
   "source": [
    "#create a combined table of both matched and unmatched sources\n",
    "mcatComb=vstack((matchedmcat,onlymcat))\n",
    "\n",
    "#print combined table\n",
    "mcatComb"
   ]
  },
  {
   "cell_type": "code",
   "execution_count": 88,
   "id": "d2ffd7b4",
   "metadata": {},
   "outputs": [],
   "source": [
    "#Get matching catalog that includes extinction information\n",
    "os.getcwd()\n",
    "os.chdir('C:/Users/mhankins1/Downloads')\n",
    "\n",
    "angcat=Table.read('SFGC_MasterCatalog.fits')"
   ]
  },
  {
   "cell_type": "code",
   "execution_count": 89,
   "id": "fbdf6de7",
   "metadata": {},
   "outputs": [],
   "source": [
    "#check that indices for sources match between both tables. \n",
    "flag=0\n",
    "for i in range(len(mcatComb)):\n",
    "    if not mcatComb['SourceID'][i]==angcat['SourceID'][i]:\n",
    "        print('\\n mismatch!')\n",
    "        print(mcatComb['SourceID'][i])\n",
    "        print(angcat['SourceID'][i])"
   ]
  },
  {
   "cell_type": "code",
   "execution_count": 90,
   "id": "e1354047",
   "metadata": {},
   "outputs": [],
   "source": [
    "#add extinction information to table\n",
    "mcatComb['tau_9.6'] = angcat['tau_9.6']\n",
    "mcatComb['tau_distance'] = angcat['tau_distance']"
   ]
  },
  {
   "cell_type": "code",
   "execution_count": 91,
   "id": "57be79dc",
   "metadata": {},
   "outputs": [],
   "source": [
    "#change directory back to data\n",
    "try:\n",
    "    os.chdir(dpath)\n",
    "except:\n",
    "    os.chdir(dpathalt)"
   ]
  },
  {
   "cell_type": "code",
   "execution_count": 92,
   "id": "1a48249c",
   "metadata": {},
   "outputs": [],
   "source": [
    "#clean up table before writing out\n",
    "if 'sky_centroid' in mcatComb.columns:\n",
    "    mcatComb.remove_columns('sky_centroid')\n",
    "    \n",
    "#keep skycoords for next steps...\n",
    "#if 'skycoords' in mcatComb.columns:\n",
    "#    mcatComb.remove_columns('skycoords')\n",
    "    \n",
    "if 'id' in mcatComb.columns:\n",
    "    mcatComb.remove_columns('id')\n"
   ]
  },
  {
   "cell_type": "code",
   "execution_count": 93,
   "id": "68562651",
   "metadata": {},
   "outputs": [],
   "source": [
    "#write out final catalog\n",
    "mcatComb.write('masterCat_combined_step4.fits',overwrite=True)"
   ]
  },
  {
   "cell_type": "code",
   "execution_count": 94,
   "id": "0b21ca66",
   "metadata": {},
   "outputs": [],
   "source": [
    "#remove cutouts from table\n",
    "if 'cutout25' in mcatComb.columns:\n",
    "    mcatComb.remove_columns('cutout25')\n",
    "    \n",
    "if 'M2Dresid25' in mcatComb.columns:\n",
    "    mcatComb.remove_columns('M2Dresid25')\n",
    "    \n",
    "if 'G2Dresid25' in mcatComb.columns:\n",
    "    mcatComb.remove_columns('G2Dresid25')\n",
    "    \n",
    "if 'cutout37' in mcatComb.columns:\n",
    "    mcatComb.remove_columns('cutout37')\n",
    "    \n",
    "if 'M2Dresid37' in mcatComb.columns:\n",
    "    mcatComb.remove_columns('M2Dresid37')\n",
    "    \n",
    "if 'G2Dresid37' in mcatComb.columns:\n",
    "    mcatComb.remove_columns('G2Dresid37')"
   ]
  },
  {
   "cell_type": "code",
   "execution_count": 95,
   "id": "9c006e21",
   "metadata": {},
   "outputs": [],
   "source": [
    "#write out final catalog\n",
    "mcatComb.write('masterCat_combined_step4_NoCutouts.fits',overwrite=True)"
   ]
  },
  {
   "cell_type": "code",
   "execution_count": null,
   "id": "abe10426",
   "metadata": {},
   "outputs": [],
   "source": []
  }
 ],
 "metadata": {
  "kernelspec": {
   "display_name": "Python 3 (ipykernel)",
   "language": "python",
   "name": "python3"
  },
  "language_info": {
   "codemirror_mode": {
    "name": "ipython",
    "version": 3
   },
   "file_extension": ".py",
   "mimetype": "text/x-python",
   "name": "python",
   "nbconvert_exporter": "python",
   "pygments_lexer": "ipython3",
   "version": "3.9.7"
  }
 },
 "nbformat": 4,
 "nbformat_minor": 5
}
