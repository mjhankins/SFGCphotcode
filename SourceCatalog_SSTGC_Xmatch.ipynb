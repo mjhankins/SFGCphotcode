{
 "cells": [
  {
   "cell_type": "markdown",
   "id": "eec2d5f2",
   "metadata": {},
   "source": [
    "# SOFIA/FORCAST Galactic Center SSTGC X-match Notebook"
   ]
  },
  {
   "cell_type": "markdown",
   "id": "880687a9",
   "metadata": {},
   "source": [
    "## Preliminary Steps - Select file to use from config.py and load in required packages"
   ]
  },
  {
   "cell_type": "code",
   "execution_count": 1,
   "id": "492d222e",
   "metadata": {},
   "outputs": [],
   "source": [
    "#import all required packages\n",
    "import os\n",
    "import numpy as np\n",
    "import re\n",
    "import matplotlib.pyplot as plt\n",
    "\n",
    "from astroquery.vizier import Vizier\n",
    "from astropy.io import fits,ascii\n",
    "from astropy.wcs import WCS\n",
    "from astropy import units as u\n",
    "from astropy.stats import sigma_clipped_stats\n",
    "from astropy.table import join, vstack, hstack\n",
    "from astropy.coordinates import SkyCoord, search_around_sky, Angle\n",
    "from astropy.coordinates.matching import _get_cartesian_kdtree\n",
    "from astropy.table import join, vstack, Table\n",
    "\n",
    "from regions import read_ds9, write_ds9, CircleSkyRegion"
   ]
  },
  {
   "cell_type": "code",
   "execution_count": 2,
   "id": "b4d91a9c",
   "metadata": {},
   "outputs": [],
   "source": [
    "#import configuration for selected file\n",
    "#from config import wavelength, segdetsig, finddetsig, bkgbox #import additional common paramters\n",
    "from config import dpath, dpathalt, ds9path #import additional common paramters\n",
    "\n",
    "from config import *\n"
   ]
  },
  {
   "cell_type": "code",
   "execution_count": 3,
   "id": "dc142fcb",
   "metadata": {},
   "outputs": [],
   "source": [
    "from FORCASTphot import makeDS9reg, findNOTindex"
   ]
  },
  {
   "cell_type": "markdown",
   "id": "2e4797c7",
   "metadata": {},
   "source": [
    "## Load in catalog from file"
   ]
  },
  {
   "cell_type": "code",
   "execution_count": 4,
   "id": "e75aaae4",
   "metadata": {},
   "outputs": [],
   "source": [
    "#change directory to where data is\n",
    "try:\n",
    "    os.chdir(dpath)\n",
    "except:\n",
    "    os.chdir(dpathalt)"
   ]
  },
  {
   "cell_type": "code",
   "execution_count": 5,
   "id": "cddd3b7d",
   "metadata": {},
   "outputs": [],
   "source": [
    "#load in the master catalogs\n",
    "mcat=Table.read('masterCat_step3_combined.fits')"
   ]
  },
  {
   "cell_type": "code",
   "execution_count": 6,
   "id": "2e086fae",
   "metadata": {},
   "outputs": [],
   "source": [
    "#add sky coord column if not already present\n",
    "if 'skycoords' not in mcat.columns:\n",
    "\n",
    "    ras=mcat[\"RA(J2000)\"]\n",
    "    decs=mcat[\"DEC(J2000)\"]\n",
    "\n",
    "    scobj=SkyCoord(ras,decs,unit=(u.hr,u.deg))\n",
    "    mcat[\"skycoords\"]=scobj\n",
    "\n",
    "    #print catalog to see the new entry\n",
    "    mcat"
   ]
  },
  {
   "cell_type": "markdown",
   "id": "eee52806",
   "metadata": {},
   "source": [
    "## Use astroquery to pull down the SSTGC catalog"
   ]
  },
  {
   "cell_type": "code",
   "execution_count": 7,
   "id": "385e6268",
   "metadata": {},
   "outputs": [
    {
     "name": "stdout",
     "output_type": "stream",
     "text": [
      "{'II/295': 'Spitzer IRAC survey of the galactic center (Ramirez+, 2008)', 'J/ApJ/685/958': 'Spitzer and Chandra sources in galactic center (Arendt+ 2008)'}\n",
      "TableList with 3 tables:\n",
      "\t'0:II/295/SSTGC' with 12 column(s) and 1000000 row(s) \n",
      "\t'1:II/295/GC-IRAC' with 8 column(s) and 1000000 row(s) \n",
      "\t'2:J/ApJ/685/958/table7' with 13 column(s) and 115 row(s) \n",
      " SSTGC    RAJ2000     DEJ2000    Jmag    Hmag   ... _5.8mag _8.0mag IRAC _2M\n",
      "          \"h:m:s\"     \"d:m:s\"    mag     mag    ...   mag     mag           \n",
      "------- ----------- ----------- ------ -------- ... ------- ------- ---- ---\n",
      "0000001 17 40 10.53 -29 32 49.2 16.204   13.493 ...      --      -- IRAC  2M\n",
      "0000002 17 40 10.62 -29 31 46.3 14.699   13.021 ...      --      -- IRAC  2M\n",
      "0000003 17 40 10.69 -29 32 57.4 14.558   12.976 ...      --      -- IRAC  2M\n",
      "0000004 17 40 10.69 -29 30 49.5 14.059   11.925 ...      --      -- IRAC  2M\n",
      "0000005 17 40 10.70 -29 31 12.1 13.900   13.339 ...      --      -- IRAC  2M\n",
      "0000006 17 40 10.70 -29 31 39.0 15.886   13.522 ...      --      -- IRAC  2M\n",
      "0000007 17 40 10.71 -29 26 06.8 13.135   11.176 ...      --      -- IRAC  2M\n",
      "0000008 17 40 10.71 -29 31 01.5 12.169   10.103 ...      --      -- IRAC  2M\n",
      "0000009 17 40 10.72 -29 24 55.2 13.318   11.258 ...      --      -- IRAC  2M\n",
      "0000010 17 40 10.72 -29 25 40.5 14.723   12.647 ...      --      -- IRAC  2M\n",
      "    ...         ...         ...    ...      ... ...     ...     ...  ... ...\n",
      "0999991 17 49 32.29 -28 48 13.2 15.317   15.115 ...      --      -- IRAC  2M\n",
      "0999992 17 49 32.30 -28 10 53.4 15.479   14.162 ...      --      -- IRAC  2M\n",
      "0999993 17 49 32.30 -28 19 17.5     --       -- ...      --      -- IRAC  2M\n",
      "0999994 17 49 32.30 -28 04 16.8 15.190   12.628 ...  10.421      -- IRAC  2M\n",
      "0999995 17 49 32.30 -28 06 20.2 14.913   12.318 ...  10.154      -- IRAC  2M\n",
      "0999996 17 49 32.30 -28 13 32.8 12.918    9.988 ...   7.094   7.153 IRAC  2M\n",
      "0999997 17 49 32.30 -28 37 46.6 14.892   13.232 ...  11.917      -- IRAC  2M\n",
      "0999998 17 49 32.30 -28 09 38.6 16.066   13.387 ...      --      -- IRAC  2M\n",
      "0999999 17 49 32.30 -28 24 29.6 14.732   13.207 ...  11.453      -- IRAC  2M\n",
      "1000000 17 49 32.30 -28 35 45.3 13.011   11.496 ...   9.590   9.625 IRAC  2M\n",
      "Length = 1000000 rows\n"
     ]
    }
   ],
   "source": [
    "#online catalog query\n",
    "catalog_list = Vizier.find_catalogs('Spitzer IRAC survey of the galactic center')\n",
    "print({k:v.description for k,v in catalog_list.items()})\n",
    "\n",
    "#get the SSTGC catalog\n",
    "Vizier.ROW_LIMIT = 1000000 #increased by factor of 10, otherwise no matches are returned\n",
    "catalog_irac = Vizier.get_catalogs(catalog_list.keys())\n",
    "print(catalog_irac)\n",
    "\n",
    "sstgc = catalog_irac['II/295/SSTGC']\n",
    "print(sstgc) "
   ]
  },
  {
   "cell_type": "code",
   "execution_count": 8,
   "id": "039e69bf",
   "metadata": {},
   "outputs": [],
   "source": [
    "#only select sources with 8um counterparts\n",
    "sstgc8um=sstgc[np.isnan(sstgc[\"_8.0mag\"])==False]\n",
    "\n",
    "#sstgc8um"
   ]
  },
  {
   "cell_type": "code",
   "execution_count": 9,
   "id": "6d915d2a",
   "metadata": {},
   "outputs": [
    {
     "data": {
      "text/html": [
       "<div><i>Table length=304346</i>\n",
       "<table id=\"table1901764202352\" class=\"table-striped table-bordered table-condensed\">\n",
       "<thead><tr><th>SSTGC</th><th>RAJ2000</th><th>DEJ2000</th><th>Jmag</th><th>Hmag</th><th>Ksmag</th><th>_3.6mag</th><th>_4.5mag</th><th>_5.8mag</th><th>_8.0mag</th><th>IRAC</th><th>_2M</th><th>skycoords</th></tr></thead>\n",
       "<thead><tr><th></th><th>&quot;h:m:s&quot;</th><th>&quot;d:m:s&quot;</th><th>mag</th><th>mag</th><th>mag</th><th>mag</th><th>mag</th><th>mag</th><th>mag</th><th></th><th></th><th>deg,deg</th></tr></thead>\n",
       "<thead><tr><th>str7</th><th>str11</th><th>str11</th><th>float32</th><th>float32</th><th>float32</th><th>float32</th><th>float32</th><th>float32</th><th>float32</th><th>str4</th><th>str2</th><th>object</th></tr></thead>\n",
       "<tr><td>0000181</td><td>17 40 12.19</td><td>-29 32 20.3</td><td>--</td><td>--</td><td>--</td><td>--</td><td>--</td><td>--</td><td>10.702</td><td>IRAC</td><td>2M</td><td>265.05079166666667,-29.538972222222224</td></tr>\n",
       "<tr><td>0000192</td><td>17 40 12.23</td><td>-29 27 46.4</td><td>13.988</td><td>12.000</td><td>11.264</td><td>--</td><td>10.861</td><td>--</td><td>11.033</td><td>IRAC</td><td>2M</td><td>265.0509583333333,-29.462888888888887</td></tr>\n",
       "<tr><td>0000200</td><td>17 40 12.28</td><td>-29 23 20.8</td><td>12.667</td><td>11.304</td><td>10.812</td><td>--</td><td>--</td><td>--</td><td>10.347</td><td>IRAC</td><td>2M</td><td>265.05116666666663,-29.38911111111111</td></tr>\n",
       "<tr><td>0000267</td><td>17 40 12.60</td><td>-29 23 17.5</td><td>11.468</td><td>10.482</td><td>10.148</td><td>--</td><td>--</td><td>--</td><td>9.785</td><td>IRAC</td><td>2M</td><td>265.05249999999995,-29.388194444444444</td></tr>\n",
       "<tr><td>0000268</td><td>17 40 12.60</td><td>-29 27 53.2</td><td>12.378</td><td>10.224</td><td>9.276</td><td>--</td><td>8.534</td><td>--</td><td>8.562</td><td>IRAC</td><td>2M</td><td>265.05249999999995,-29.464777777777776</td></tr>\n",
       "<tr><td>0000280</td><td>17 40 12.69</td><td>-29 23 06.6</td><td>12.528</td><td>10.470</td><td>9.560</td><td>--</td><td>9.092</td><td>--</td><td>8.908</td><td>IRAC</td><td>2M</td><td>265.052875,-29.385166666666667</td></tr>\n",
       "<tr><td>0000337</td><td>17 40 13.00</td><td>-29 23 16.3</td><td>13.133</td><td>12.774</td><td>12.063</td><td>--</td><td>--</td><td>--</td><td>11.650</td><td>IRAC</td><td>2M</td><td>265.0541666666667,-29.38786111111111</td></tr>\n",
       "<tr><td>0000341</td><td>17 40 13.01</td><td>-29 32 43.5</td><td>11.820</td><td>9.748</td><td>8.869</td><td>--</td><td>--</td><td>--</td><td>8.199</td><td>IRAC</td><td>2M</td><td>265.05420833333335,-29.545416666666668</td></tr>\n",
       "<tr><td>0000371</td><td>17 40 13.16</td><td>-29 23 19.2</td><td>13.682</td><td>12.323</td><td>11.510</td><td>--</td><td>--</td><td>--</td><td>10.896</td><td>IRAC</td><td>2M</td><td>265.05483333333336,-29.388666666666666</td></tr>\n",
       "<tr><td>...</td><td>...</td><td>...</td><td>...</td><td>...</td><td>...</td><td>...</td><td>...</td><td>...</td><td>...</td><td>...</td><td>...</td><td>...</td></tr>\n",
       "<tr><td>0999969</td><td>17 49 32.27</td><td>-28 38 30.9</td><td>12.664</td><td>10.832</td><td>9.930</td><td>9.297</td><td>9.505</td><td>9.202</td><td>9.276</td><td>IRAC</td><td>2M</td><td>267.3844583333333,-28.641916666666667</td></tr>\n",
       "<tr><td>0999972</td><td>17 49 32.27</td><td>-28 54 22.5</td><td>14.713</td><td>11.201</td><td>9.493</td><td>8.442</td><td>8.559</td><td>8.106</td><td>8.194</td><td>IRAC</td><td>2M</td><td>267.3844583333333,-28.90625</td></tr>\n",
       "<tr><td>0999973</td><td>17 49 32.28</td><td>-29 03 41.9</td><td>11.002</td><td>8.799</td><td>7.614</td><td>--</td><td>6.506</td><td>--</td><td>6.210</td><td>IRAC</td><td>2M</td><td>267.38449999999995,-29.06163888888889</td></tr>\n",
       "<tr><td>0999977</td><td>17 49 32.28</td><td>-28 14 07.6</td><td>13.692</td><td>10.835</td><td>9.537</td><td>8.636</td><td>8.616</td><td>8.328</td><td>8.431</td><td>IRAC</td><td>2M</td><td>267.38449999999995,-28.235444444444447</td></tr>\n",
       "<tr><td>0999979</td><td>17 49 32.28</td><td>-28 40 53.1</td><td>15.916</td><td>13.037</td><td>11.851</td><td>11.009</td><td>11.080</td><td>10.444</td><td>9.721</td><td>IRAC</td><td>2M</td><td>267.38449999999995,-28.681416666666667</td></tr>\n",
       "<tr><td>0999982</td><td>17 49 32.28</td><td>-28 12 57.5</td><td>14.975</td><td>12.062</td><td>10.746</td><td>9.863</td><td>9.797</td><td>9.691</td><td>9.721</td><td>IRAC</td><td>2M</td><td>267.38449999999995,-28.21597222222222</td></tr>\n",
       "<tr><td>0999984</td><td>17 49 32.29</td><td>-28 34 19.7</td><td>13.649</td><td>12.659</td><td>11.640</td><td>10.784</td><td>10.822</td><td>10.689</td><td>10.755</td><td>IRAC</td><td>2M</td><td>267.3845416666667,-28.57213888888889</td></tr>\n",
       "<tr><td>0999985</td><td>17 49 32.29</td><td>-28 37 07.6</td><td>12.754</td><td>12.447</td><td>12.210</td><td>12.014</td><td>11.968</td><td>11.934</td><td>11.522</td><td>IRAC</td><td>2M</td><td>267.3845416666667,-28.61877777777778</td></tr>\n",
       "<tr><td>0999996</td><td>17 49 32.30</td><td>-28 13 32.8</td><td>12.918</td><td>9.988</td><td>8.555</td><td>7.437</td><td>7.437</td><td>7.094</td><td>7.153</td><td>IRAC</td><td>2M</td><td>267.3845833333333,-28.225777777777775</td></tr>\n",
       "<tr><td>1000000</td><td>17 49 32.30</td><td>-28 35 45.3</td><td>13.011</td><td>11.496</td><td>10.493</td><td>9.718</td><td>9.789</td><td>9.590</td><td>9.625</td><td>IRAC</td><td>2M</td><td>267.3845833333333,-28.595916666666664</td></tr>\n",
       "</table></div>"
      ],
      "text/plain": [
       "<Table length=304346>\n",
       " SSTGC    RAJ2000     DEJ2000   ... _2M                skycoords               \n",
       "          \"h:m:s\"     \"d:m:s\"   ...                     deg,deg                \n",
       "  str7     str11       str11    ... str2                 object                \n",
       "------- ----------- ----------- ... ---- --------------------------------------\n",
       "0000181 17 40 12.19 -29 32 20.3 ...   2M 265.05079166666667,-29.538972222222224\n",
       "0000192 17 40 12.23 -29 27 46.4 ...   2M  265.0509583333333,-29.462888888888887\n",
       "0000200 17 40 12.28 -29 23 20.8 ...   2M  265.05116666666663,-29.38911111111111\n",
       "0000267 17 40 12.60 -29 23 17.5 ...   2M 265.05249999999995,-29.388194444444444\n",
       "0000268 17 40 12.60 -29 27 53.2 ...   2M 265.05249999999995,-29.464777777777776\n",
       "0000280 17 40 12.69 -29 23 06.6 ...   2M         265.052875,-29.385166666666667\n",
       "0000337 17 40 13.00 -29 23 16.3 ...   2M   265.0541666666667,-29.38786111111111\n",
       "0000341 17 40 13.01 -29 32 43.5 ...   2M 265.05420833333335,-29.545416666666668\n",
       "0000371 17 40 13.16 -29 23 19.2 ...   2M 265.05483333333336,-29.388666666666666\n",
       "    ...         ...         ... ...  ...                                    ...\n",
       "0999969 17 49 32.27 -28 38 30.9 ...   2M  267.3844583333333,-28.641916666666667\n",
       "0999972 17 49 32.27 -28 54 22.5 ...   2M            267.3844583333333,-28.90625\n",
       "0999973 17 49 32.28 -29 03 41.9 ...   2M  267.38449999999995,-29.06163888888889\n",
       "0999977 17 49 32.28 -28 14 07.6 ...   2M 267.38449999999995,-28.235444444444447\n",
       "0999979 17 49 32.28 -28 40 53.1 ...   2M 267.38449999999995,-28.681416666666667\n",
       "0999982 17 49 32.28 -28 12 57.5 ...   2M  267.38449999999995,-28.21597222222222\n",
       "0999984 17 49 32.29 -28 34 19.7 ...   2M   267.3845416666667,-28.57213888888889\n",
       "0999985 17 49 32.29 -28 37 07.6 ...   2M   267.3845416666667,-28.61877777777778\n",
       "0999996 17 49 32.30 -28 13 32.8 ...   2M  267.3845833333333,-28.225777777777775\n",
       "1000000 17 49 32.30 -28 35 45.3 ...   2M  267.3845833333333,-28.595916666666664"
      ]
     },
     "execution_count": 9,
     "metadata": {},
     "output_type": "execute_result"
    }
   ],
   "source": [
    "#add new skycoord object to the VIZIER table for crossmatching\n",
    "ras=sstgc8um[\"RAJ2000\"]\n",
    "decs=sstgc8um[\"DEJ2000\"]\n",
    "\n",
    "scobj=SkyCoord(ras,decs,unit=(u.hr,u.deg))\n",
    "sstgc8um[\"skycoords\"]=scobj\n",
    "\n",
    "#print catalog to see the new entry\n",
    "sstgc8um"
   ]
  },
  {
   "cell_type": "markdown",
   "id": "d1032e4b",
   "metadata": {},
   "source": [
    "## Perform cross match between tables"
   ]
  },
  {
   "cell_type": "code",
   "execution_count": 11,
   "id": "514b70f8",
   "metadata": {},
   "outputs": [
    {
     "name": "stdout",
     "output_type": "stream",
     "text": [
      "Number of crossmatched sources found:  605\n"
     ]
    }
   ],
   "source": [
    "SSTGCsources=sstgc8um['skycoords']\n",
    "mcatsources=mcat['skycoords']\n",
    "\n",
    "idx,rdx, d2d, d3d = mcatsources.search_around_sky(SSTGCsources, 5*u.arcsec)\n",
    "\n",
    "print('Number of crossmatched sources found: ', len(idx))"
   ]
  },
  {
   "cell_type": "code",
   "execution_count": 12,
   "id": "2ef71f3b",
   "metadata": {},
   "outputs": [],
   "source": [
    "#create new tables containing only the crossmatched sources\n",
    "matchedSSTGC=sstgc8um[idx]\n",
    "matchedmcat=mcat[rdx]"
   ]
  },
  {
   "cell_type": "code",
   "execution_count": 13,
   "id": "2dcca55a",
   "metadata": {},
   "outputs": [
    {
     "name": "stdout",
     "output_type": "stream",
     "text": [
      "Average difference in RA:  6.492399162970444e-05 ,  Standard deviation of difference:  0.0005148158479337826\n",
      "Average difference in DEC:  -1.694997010325318e-05 ,  Standard deviation of difference:  0.0004941282273532688\n"
     ]
    }
   ],
   "source": [
    "#Examine the positional accuracy of the cross match\n",
    "deltaRA=matchedmcat['skycoords'].ra.deg - matchedSSTGC['skycoords'].ra.deg\n",
    "deltaDEC=matchedmcat['skycoords'].dec.deg - matchedSSTGC['skycoords'].dec.deg\n",
    "\n",
    "print(\"Average difference in RA: \", np.mean(deltaRA), \",  Standard deviation of difference: \", np.std(deltaRA))\n",
    "print(\"Average difference in DEC: \", np.mean(deltaDEC), \",  Standard deviation of difference: \", np.std(deltaDEC))"
   ]
  },
  {
   "cell_type": "code",
   "execution_count": 14,
   "id": "0cc9f89c",
   "metadata": {},
   "outputs": [
    {
     "data": {
      "image/png": "[encoded data removed]",
      "text/plain": [
       "<Figure size 576x576 with 3 Axes>"
      ]
     },
     "metadata": {
      "needs_background": "light"
     },
     "output_type": "display_data"
    }
   ],
   "source": [
    "#define a 'fancy' scatter+histogram plot\n",
    "def scatter_hist(x, y, ax, ax_histx, ax_histy):\n",
    "    # no labels\n",
    "    ax_histx.tick_params(axis=\"x\", labelbottom=False)\n",
    "    ax_histy.tick_params(axis=\"y\", labelleft=False)\n",
    "\n",
    "    # the scatter plot:\n",
    "    ax.scatter(x, y)\n",
    "\n",
    "    # now determine nice limits by hand:\n",
    "    binwidth = 1e-4\n",
    "    xymax = max(np.max(np.abs(x)), np.max(np.abs(y)))\n",
    "    lim = (int(xymax/binwidth) + 1) * binwidth\n",
    "\n",
    "    bins = np.arange(-lim, lim + binwidth, binwidth)\n",
    "    ax_histx.hist(deltaRA, bins=bins)\n",
    "    ax_histy.hist(deltaDEC, bins=bins, orientation='horizontal')\n",
    "\n",
    "    \n",
    "    \n",
    "#make the scatter+hist plot for position x-match\n",
    "plt.rcParams.update({'font.size': 14})\n",
    "\n",
    "# definitions for the axes\n",
    "left, width = 1e-5, 0.65\n",
    "bottom, height = 0.0001, 0.65\n",
    "spacing = 0.005\n",
    "\n",
    "\n",
    "rect_scatter = [left, bottom, width, height]\n",
    "rect_histx = [left, bottom + height + spacing, width, 0.2]\n",
    "rect_histy = [left + width + spacing, bottom, 0.2, height]\n",
    "\n",
    "# start with a square Figure\n",
    "fig = plt.figure(figsize=(8, 8))\n",
    "\n",
    "ax = fig.add_axes(rect_scatter)\n",
    "ax_histx = fig.add_axes(rect_histx, sharex=ax)\n",
    "ax_histy = fig.add_axes(rect_histy, sharey=ax)\n",
    "\n",
    "# use the previously defined function\n",
    "scatter_hist(deltaRA, deltaDEC, ax, ax_histx, ax_histy)\n",
    "\n",
    "ax.set_xlabel('RA Difference')\n",
    "ax.set_ylabel('DEC Difference')\n",
    "\n",
    "plt.show()\n"
   ]
  },
  {
   "cell_type": "code",
   "execution_count": 15,
   "id": "1d16d430",
   "metadata": {},
   "outputs": [],
   "source": [
    "#add cross matched SSTGC numbers to our table\n",
    "matchedmcat['SSTGCxmatch']=matchedSSTGC[\"SSTGC\"]\n",
    "\n",
    "#optional print to display\n",
    "#matchedmcat"
   ]
  },
  {
   "cell_type": "code",
   "execution_count": 16,
   "id": "c570084c",
   "metadata": {},
   "outputs": [],
   "source": [
    "#find sources in mcat that were not found in the cross match\n",
    "notrdx=findNOTindex(mcat,rdx)\n",
    "onlymcat=mcat[notrdx]\n",
    "\n",
    "onlymcat['SSTGCxmatch']=''"
   ]
  },
  {
   "cell_type": "code",
   "execution_count": 17,
   "id": "ac1d476f",
   "metadata": {},
   "outputs": [],
   "source": [
    "#write out a set of ds9 region files for matched and unmatched sources - useful for visual comparison\n",
    "\n",
    "#set size of regions \n",
    "r = Angle(0.00083333, u.deg) #must be in degrees - current value is r=3\"\n",
    "#write out ds9 files\n",
    "makeDS9reg('mcat_matched_SSTGC.reg', matchedmcat, r, color='cyan');\n",
    "makeDS9reg('mcat_nonmatched_SSTGC.reg', onlymcat, r, color='red');"
   ]
  },
  {
   "cell_type": "code",
   "execution_count": 18,
   "id": "728f2079",
   "metadata": {
    "scrolled": true
   },
   "outputs": [
    {
     "data": {
      "text/html": [
       "<div><i>Table length=930</i>\n",
       "<table id=\"table1902020005552\" class=\"table-striped table-bordered table-condensed\">\n",
       "<thead><tr><th>SourceID</th><th>RA(J2000)</th><th>DEC(J2000)</th><th>25um_Flux_4pix</th><th>25um_Flux_err_4pix</th><th>25um_SNR_4pix</th><th>25um_Flux_8pix</th><th>25um_Flux_err_8pix</th><th>25um_SNR_8pix</th><th>25um_Flux_12pix</th><th>25um_Flux_err_12pix</th><th>25um_SNR_12pix</th><th>25ApRatio8_4</th><th>25ApRatio12_8</th><th>25um_Flux_M2D</th><th>25um_Flux_err_M2D</th><th>25um_M2D_chi2</th><th>25um_Flux_G2D</th><th>25um_Flux_err_G2D</th><th>25um_G2D_chi2</th><th>25um_BestModel</th><th>fwhm25</th><th>elong25</th><th>bkg_qflag25</th><th>shape_qflag25</th><th>cutout25 [25,25]</th><th>37um_Flux_5.5pix</th><th>37um_Flux_err_5.5pix</th><th>37um_SNR_5.5pix</th><th>37um_Flux_10.5pix</th><th>37um_Flux_err_10.5pix</th><th>37um_SNR_10.5pix</th><th>37um_Flux_14pix</th><th>37um_Flux_err_14pix</th><th>37um_SNR_14pix</th><th>37ApRatio10.5_5.5</th><th>37ApRatio14_10.5</th><th>37um_Flux_M2D</th><th>37um_Flux_err_M2D</th><th>37um_M2D_chi2</th><th>37um_Flux_G2D</th><th>37um_Flux_err_G2D</th><th>37um_G2D_chi2</th><th>37um_BestModel</th><th>fwhm37</th><th>elong37</th><th>bkg_qflag37</th><th>shape_qflag37</th><th>cutout37 [31,31]</th><th>sky_centroid</th><th>25ApPhot_qflag</th><th>25Ap_4pix_UL</th><th>25Ap_8pix_UL</th><th>25Ap_12pix_UL</th><th>37ApPhot_qflag</th><th>37Ap_5.5pix_UL</th><th>37Ap_10.5pix_UL</th><th>37Ap_14pix_UL</th><th>id</th><th>skycoords</th><th>SSTGCxmatch</th></tr></thead>\n",
       "<thead><tr><th></th><th>deg</th><th>deg</th><th></th><th></th><th></th><th></th><th></th><th></th><th></th><th></th><th></th><th></th><th></th><th></th><th></th><th></th><th></th><th></th><th></th><th></th><th></th><th></th><th></th><th></th><th></th><th></th><th></th><th></th><th></th><th></th><th></th><th></th><th></th><th></th><th></th><th></th><th></th><th></th><th></th><th></th><th></th><th></th><th></th><th></th><th></th><th></th><th></th><th></th><th>deg,deg</th><th></th><th></th><th></th><th></th><th></th><th></th><th></th><th></th><th></th><th>deg,deg</th><th></th></tr></thead>\n",
       "<thead><tr><th>bytes17</th><th>float64</th><th>float64</th><th>float64</th><th>float64</th><th>float64</th><th>float64</th><th>float64</th><th>float64</th><th>float64</th><th>float64</th><th>float64</th><th>float64</th><th>float64</th><th>float64</th><th>float64</th><th>float64</th><th>float64</th><th>float64</th><th>float64</th><th>bytes1</th><th>float64</th><th>float64</th><th>int32</th><th>int32</th><th>float64</th><th>float64</th><th>float64</th><th>float64</th><th>float64</th><th>float64</th><th>float64</th><th>float64</th><th>float64</th><th>float64</th><th>float64</th><th>float64</th><th>float64</th><th>float64</th><th>float64</th><th>float64</th><th>float64</th><th>float64</th><th>bytes1</th><th>float64</th><th>float64</th><th>int32</th><th>int32</th><th>float64</th><th>object</th><th>int32</th><th>float64</th><th>float64</th><th>float64</th><th>int32</th><th>float64</th><th>float64</th><th>float64</th><th>int64</th><th>object</th><th>str7</th></tr></thead>\n",
       "<tr><td>SFGC359.410+0.032</td><td>266.02006908793686</td><td>-29.42252156100146</td><td>2.435</td><td>0.7414</td><td>3.284</td><td>6.285</td><td>1.479</td><td>4.248</td><td>9.391</td><td>2.227</td><td>4.217</td><td>2.581</td><td>9.391</td><td>7.422</td><td>1.568</td><td>0.004048</td><td>7.34</td><td>1.554</td><td>0.004385</td><td>M</td><td>8.896</td><td>1.196</td><td>0</td><td>0</td><td>-0.004579 ..       0.01232</td><td>6.227</td><td>1.503</td><td>4.142</td><td>16.92</td><td>2.902</td><td>5.831</td><td>23.58</td><td>3.897</td><td>6.051</td><td>2.717</td><td>1.394</td><td>14.25</td><td>0.1937</td><td>1</td><td>14.23</td><td>0.1926</td><td>1</td><td>M</td><td>15.78</td><td>1.314</td><td>0</td><td>0</td><td>0.01089 ..     -0.003741</td><td>266.02006908793686,-29.42252156100146</td><td>0</td><td>0.0</td><td>0.0</td><td>0.0</td><td>0</td><td>0.0</td><td>0.0</td><td>0.0</td><td>10</td><td>266.02006908793686,-29.42252156100146</td><td>0279533</td></tr>\n",
       "<tr><td>SFGC359.410+0.032</td><td>266.02006908793686</td><td>-29.42252156100146</td><td>2.435</td><td>0.7414</td><td>3.284</td><td>6.285</td><td>1.479</td><td>4.248</td><td>9.391</td><td>2.227</td><td>4.217</td><td>2.581</td><td>9.391</td><td>7.422</td><td>1.568</td><td>0.004048</td><td>7.34</td><td>1.554</td><td>0.004385</td><td>M</td><td>8.896</td><td>1.196</td><td>0</td><td>0</td><td>-0.004579 ..       0.01232</td><td>4.396</td><td>1.433</td><td>3.068</td><td>12.28</td><td>2.77</td><td>4.433</td><td>17.11</td><td>3.724</td><td>4.595</td><td>2.794</td><td>1.393</td><td>10.75</td><td>0.1826</td><td>1</td><td>10.68</td><td>0.1664</td><td>1</td><td>M</td><td>9.437</td><td>1.613</td><td>0</td><td>20</td><td>0.009811 ..       0.01333</td><td>266.02006908793686,-29.42252156100146</td><td>0</td><td>0.0</td><td>0.0</td><td>0.0</td><td>0</td><td>0.0</td><td>0.0</td><td>0.0</td><td>11</td><td>266.02006908793686,-29.42252156100146</td><td>0279533</td></tr>\n",
       "<tr><td>SFGC359.410+0.032</td><td>266.02006908793686</td><td>-29.42252156100146</td><td>2.435</td><td>0.7414</td><td>3.284</td><td>6.285</td><td>1.479</td><td>4.248</td><td>9.391</td><td>2.227</td><td>4.217</td><td>2.581</td><td>9.391</td><td>7.422</td><td>1.568</td><td>0.004048</td><td>7.34</td><td>1.554</td><td>0.004385</td><td>M</td><td>8.896</td><td>1.196</td><td>0</td><td>0</td><td>-0.004579 ..       0.01232</td><td>6.227</td><td>1.503</td><td>4.142</td><td>16.92</td><td>2.902</td><td>5.831</td><td>23.58</td><td>3.897</td><td>6.051</td><td>2.717</td><td>1.394</td><td>14.25</td><td>0.1937</td><td>1</td><td>14.23</td><td>0.1926</td><td>1</td><td>M</td><td>15.78</td><td>1.314</td><td>0</td><td>0</td><td>0.01089 ..     -0.003741</td><td>266.02006908793686,-29.42252156100146</td><td>0</td><td>0.0</td><td>0.0</td><td>0.0</td><td>0</td><td>0.0</td><td>0.0</td><td>0.0</td><td>10</td><td>266.02006908793686,-29.42252156100146</td><td>0279869</td></tr>\n",
       "<tr><td>SFGC359.410+0.032</td><td>266.02006908793686</td><td>-29.42252156100146</td><td>2.435</td><td>0.7414</td><td>3.284</td><td>6.285</td><td>1.479</td><td>4.248</td><td>9.391</td><td>2.227</td><td>4.217</td><td>2.581</td><td>9.391</td><td>7.422</td><td>1.568</td><td>0.004048</td><td>7.34</td><td>1.554</td><td>0.004385</td><td>M</td><td>8.896</td><td>1.196</td><td>0</td><td>0</td><td>-0.004579 ..       0.01232</td><td>4.396</td><td>1.433</td><td>3.068</td><td>12.28</td><td>2.77</td><td>4.433</td><td>17.11</td><td>3.724</td><td>4.595</td><td>2.794</td><td>1.393</td><td>10.75</td><td>0.1826</td><td>1</td><td>10.68</td><td>0.1664</td><td>1</td><td>M</td><td>9.437</td><td>1.613</td><td>0</td><td>20</td><td>0.009811 ..       0.01333</td><td>266.02006908793686,-29.42252156100146</td><td>0</td><td>0.0</td><td>0.0</td><td>0.0</td><td>0</td><td>0.0</td><td>0.0</td><td>0.0</td><td>11</td><td>266.02006908793686,-29.42252156100146</td><td>0279869</td></tr>\n",
       "<tr><td>SFGC359.429+0.035</td><td>266.0287822033286</td><td>-29.404757121008238</td><td>3.291</td><td>0.7084</td><td>4.645</td><td>4.163</td><td>1.413</td><td>2.945</td><td>4.405</td><td>2.12</td><td>2.078</td><td>1.265</td><td>4.405</td><td>4.197</td><td>0.69</td><td>0.002836</td><td>3.509</td><td>0.5809</td><td>0.004623</td><td>M</td><td>3.106</td><td>1.04</td><td>0</td><td>0</td><td>-0.002588 ..     -0.008793</td><td>7.14</td><td>1.348</td><td>5.297</td><td>8.917</td><td>2.571</td><td>3.468</td><td>8.749</td><td>3.428</td><td>2.552</td><td>1.249</td><td>0.9811</td><td>8.217</td><td>0.07344</td><td>1</td><td>7.314</td><td>0.07164</td><td>1</td><td>M</td><td>3.722</td><td>1.038</td><td>0</td><td>0</td><td>7.707e-05 ..     -0.003271</td><td>266.0287822033286,-29.404757121008238</td><td>11</td><td>0.0</td><td>8.402724190441461</td><td>10.764511613923037</td><td>1</td><td>0.0</td><td>0.0</td><td>19.033544088786055</td><td>19</td><td>266.0287822033286,-29.404757121008238</td><td>0284291</td></tr>\n",
       "<tr><td>SFGC359.423+0.015</td><td>266.0446602894267</td><td>-29.42060261184013</td><td>3.171</td><td>0.7043</td><td>4.502</td><td>6.016</td><td>1.409</td><td>4.271</td><td>7.327</td><td>2.12</td><td>3.456</td><td>1.897</td><td>7.327</td><td>6.548</td><td>1.207</td><td>0.005121</td><td>6.074</td><td>1.114</td><td>0.004174</td><td>M</td><td>5.066</td><td>1.427</td><td>0</td><td>0</td><td>-0.0003225 ..      0.004233</td><td>14.2</td><td>1.371</td><td>10.36</td><td>25.6</td><td>2.616</td><td>9.786</td><td>30.13</td><td>3.488</td><td>8.637</td><td>1.803</td><td>1.177</td><td>23.56</td><td>0.2568</td><td>1</td><td>22.85</td><td>0.2194</td><td>1</td><td>M</td><td>6.655</td><td>1.321</td><td>0</td><td>0</td><td>-0.008506 ..       0.00048</td><td>266.0446602894267,-29.42060261184013</td><td>0</td><td>0.0</td><td>0.0</td><td>0.0</td><td>0</td><td>0.0</td><td>0.0</td><td>0.0</td><td>17</td><td>266.0446602894267,-29.42060261184013</td><td>0292486</td></tr>\n",
       "<tr><td>SFGC359.435+0.022</td><td>266.04485626247106</td><td>-29.406669356629006</td><td>2.852</td><td>0.7014</td><td>4.066</td><td>5.84</td><td>1.4</td><td>4.171</td><td>7.185</td><td>2.102</td><td>3.418</td><td>2.048</td><td>7.185</td><td>6.467</td><td>1.286</td><td>0.005518</td><td>6.275</td><td>1.232</td><td>0.003268</td><td>M</td><td>5.658</td><td>1.506</td><td>0</td><td>0</td><td>-0.004002 ..      0.003035</td><td>5.086</td><td>1.364</td><td>3.728</td><td>9.408</td><td>2.602</td><td>3.615</td><td>11.29</td><td>3.469</td><td>3.256</td><td>1.85</td><td>1.2</td><td>8.669</td><td>0.1796</td><td>1</td><td>8.732</td><td>0.1206</td><td>1</td><td>M</td><td>6.352</td><td>1.779</td><td>0</td><td>0</td><td>-0.005275 ..     -0.008264</td><td>266.04485626247106,-29.406669356629006</td><td>0</td><td>0.0</td><td>0.0</td><td>0.0</td><td>0</td><td>0.0</td><td>0.0</td><td>0.0</td><td>22</td><td>266.04485626247106,-29.406669356629006</td><td>0292687</td></tr>\n",
       "<tr><td>SFGC359.404+0.001</td><td>266.04694161813114</td><td>-29.444187095468855</td><td>2.841</td><td>0.883</td><td>3.218</td><td>5.01</td><td>1.786</td><td>2.805</td><td>5.959</td><td>2.704</td><td>2.204</td><td>1.763</td><td>5.959</td><td>5.487</td><td>1.439</td><td>0.002838</td><td>4.892</td><td>1.299</td><td>0.004414</td><td>M</td><td>6.016</td><td>1.194</td><td>0</td><td>0</td><td>0.002236 ..      0.002227</td><td>8.259</td><td>1.663</td><td>4.965</td><td>13.81</td><td>3.206</td><td>4.309</td><td>14.98</td><td>4.332</td><td>3.458</td><td>1.672</td><td>1.084</td><td>13.03</td><td>0.181</td><td>1</td><td>12.35</td><td>0.1905</td><td>1</td><td>M</td><td>7.798</td><td>1.298</td><td>0</td><td>0</td><td>-0.01361 ..     0.0004324</td><td>266.04694161813114,-29.444187095468855</td><td>11</td><td>0.0</td><td>10.368327245281389</td><td>14.070867058865812</td><td>0</td><td>0.0</td><td>0.0</td><td>0.0</td><td>7</td><td>266.04694161813114,-29.444187095468855</td><td>0293528</td></tr>\n",
       "<tr><td>SFGC359.453+0.028</td><td>266.0502456885612</td><td>-29.388137203496434</td><td>0.597</td><td>0.7473</td><td>0.7989</td><td>0.9629</td><td>1.475</td><td>0.6528</td><td>1.091</td><td>2.203</td><td>0.4954</td><td>1.613</td><td>1.133</td><td>1.067</td><td>1.008</td><td>0.001577</td><td>0.6993</td><td>0.6832</td><td>0.001815</td><td>M</td><td>2.87</td><td>1.396</td><td>0</td><td>0</td><td>-0.003604 ..      0.002295</td><td>0.4518</td><td>1.417</td><td>0.3188</td><td>0.8604</td><td>2.656</td><td>0.324</td><td>1.192</td><td>3.522</td><td>0.3384</td><td>1.904</td><td>1.385</td><td>0.7493</td><td>1.553</td><td>0.003197</td><td>0.5255</td><td>1.041</td><td>0.003116</td><td>M</td><td>10.03</td><td>5.527</td><td>--</td><td>--</td><td>-- .. --</td><td>266.0502456885612,-29.388137203496434</td><td>111</td><td>2.8388077085380736</td><td>5.3879104484905564</td><td>7.69874025357709</td><td>111</td><td>4.702486797354274</td><td>8.82747905724687</td><td>11.759395397128815</td><td>409</td><td>266.05024568856123,-29.388137203496434</td><td>0295440</td></tr>\n",
       "<tr><td>...</td><td>...</td><td>...</td><td>...</td><td>...</td><td>...</td><td>...</td><td>...</td><td>...</td><td>...</td><td>...</td><td>...</td><td>...</td><td>...</td><td>...</td><td>...</td><td>...</td><td>...</td><td>...</td><td>...</td><td>...</td><td>...</td><td>...</td><td>...</td><td>...</td><td>...</td><td>...</td><td>...</td><td>...</td><td>...</td><td>...</td><td>...</td><td>...</td><td>...</td><td>...</td><td>...</td><td>...</td><td>...</td><td>...</td><td>...</td><td>...</td><td>...</td><td>...</td><td>...</td><td>...</td><td>...</td><td>...</td><td>...</td><td>...</td><td>...</td><td>...</td><td>...</td><td>...</td><td>...</td><td>...</td><td>...</td><td>...</td><td>...</td><td>...</td><td>...</td><td>...</td></tr>\n",
       "<tr><td>SFGC0.509-0.036</td><td>266.7417960281193</td><td>-28.519536870442384</td><td>2.821</td><td>0.1302</td><td>21.66</td><td>8.847</td><td>0.1575</td><td>56.17</td><td>15.95</td><td>0.2148</td><td>74.22</td><td>3.136</td><td>1.802</td><td>11.52</td><td>0.2512</td><td>2.775</td><td>11.28</td><td>0.1415</td><td>0.9805</td><td>G</td><td>7.899</td><td>5.064</td><td>--</td><td>--</td><td>-- .. --</td><td>11.6</td><td>0.204</td><td>56.86</td><td>32.34</td><td>0.3709</td><td>87.2</td><td>48.52</td><td>0.491</td><td>98.81</td><td>2.789</td><td>1.5</td><td>27.32</td><td>0.3199</td><td>1.663</td><td>27.18</td><td>0.3126</td><td>0.7162</td><td>M</td><td>11.05</td><td>3.115</td><td>0</td><td>0</td><td>-0.03043 ..      0.006064</td><td>266.7417960281193,-28.519536870442384</td><td>0</td><td>0.0</td><td>0.0</td><td>0.0</td><td>0</td><td>0.0</td><td>0.0</td><td>0.0</td><td>855</td><td>266.7417960281193,-28.519536870442384</td><td></td></tr>\n",
       "<tr><td>SFGC0.515-0.047</td><td>266.75628993587696</td><td>-28.520297548954613</td><td>6.178</td><td>0.1066</td><td>57.98</td><td>22.61</td><td>0.1476</td><td>153.2</td><td>42.29</td><td>0.2083</td><td>203</td><td>3.66</td><td>1.87</td><td>30.54</td><td>0.1354</td><td>1.66</td><td>30.19</td><td>0.1977</td><td>2.177</td><td>M</td><td>10.1</td><td>1.722</td><td>--</td><td>--</td><td>-- .. --</td><td>24.33</td><td>0.1993</td><td>122.1</td><td>74.15</td><td>0.3659</td><td>202.6</td><td>105.9</td><td>0.485</td><td>218.3</td><td>3.047</td><td>1.428</td><td>62.8</td><td>0.3109</td><td>1.753</td><td>62.68</td><td>0.3095</td><td>1.037</td><td>M</td><td>13.06</td><td>2.006</td><td>0</td><td>20</td><td>0.04198 ..      0.002314</td><td>266.75628993587696,-28.520297548954613</td><td>0</td><td>0.0</td><td>0.0</td><td>0.0</td><td>0</td><td>0.0</td><td>0.0</td><td>0.0</td><td>856</td><td>266.756289935877,-28.520297548954613</td><td></td></tr>\n",
       "<tr><td>SFGC0.521-0.041</td><td>266.7540910089022</td><td>-28.51239101231107</td><td>2.983</td><td>0.1635</td><td>18.25</td><td>9.968</td><td>0.245</td><td>40.68</td><td>16.95</td><td>0.3658</td><td>46.32</td><td>3.341</td><td>1.7</td><td>12.63</td><td>0.2765</td><td>0.8914</td><td>--</td><td>--</td><td>--</td><td>M</td><td>2.126e-38</td><td>1</td><td>--</td><td>--</td><td>-- .. --</td><td>10.32</td><td>0.2773</td><td>37.23</td><td>29.18</td><td>0.5256</td><td>55.52</td><td>40.9</td><td>0.7118</td><td>57.47</td><td>2.827</td><td>1.402</td><td>24.88</td><td>0.3319</td><td>1</td><td>24.89</td><td>0.2272</td><td>1</td><td>M</td><td>30.32</td><td>2.489</td><td>0</td><td>0</td><td>0.0435 ..     -0.001599</td><td>266.7540910089022,-28.51239101231107</td><td>0</td><td>0.0</td><td>0.0</td><td>0.0</td><td>0</td><td>0.0</td><td>0.0</td><td>0.0</td><td>858</td><td>266.75409100890226,-28.51239101231107</td><td></td></tr>\n",
       "<tr><td>SFGC0.526-0.063</td><td>266.7786679501586</td><td>-28.519254923103496</td><td>1.777</td><td>0.1113</td><td>15.98</td><td>5.574</td><td>0.1553</td><td>35.89</td><td>9.763</td><td>0.2185</td><td>44.69</td><td>3.136</td><td>1.752</td><td>6.801</td><td>0.1476</td><td>0.4402</td><td>6.815</td><td>0.1463</td><td>0.273</td><td>M</td><td>9.232</td><td>1.746</td><td>--</td><td>--</td><td>-- .. --</td><td>7.251</td><td>0.2082</td><td>34.83</td><td>18.82</td><td>0.3809</td><td>49.41</td><td>29.4</td><td>0.5045</td><td>58.28</td><td>2.596</td><td>1.562</td><td>15.56</td><td>0.266</td><td>1</td><td>15.55</td><td>0.1906</td><td>1</td><td>M</td><td>21.14</td><td>2.302</td><td>0</td><td>0</td><td>0.01108 ..        0.0635</td><td>266.7786679501586,-28.519254923103496</td><td>0</td><td>0.0</td><td>0.0</td><td>0.0</td><td>0</td><td>0.0</td><td>0.0</td><td>0.0</td><td>859</td><td>266.7786679501586,-28.519254923103496</td><td></td></tr>\n",
       "<tr><td>SFGC0.535-0.079</td><td>266.79972450183476</td><td>-28.51999513347</td><td>16.16</td><td>0.1086</td><td>148.8</td><td>58.29</td><td>0.1517</td><td>384.2</td><td>109.5</td><td>0.2145</td><td>510.4</td><td>3.607</td><td>1.879</td><td>75.28</td><td>0.6332</td><td>18.84</td><td>74.82</td><td>0.5379</td><td>13.84</td><td>A</td><td>10.67</td><td>3.845</td><td>--</td><td>--</td><td>-- .. --</td><td>35.64</td><td>0.2081</td><td>171.3</td><td>107.7</td><td>0.3783</td><td>284.8</td><td>164.9</td><td>0.5012</td><td>329.1</td><td>3.024</td><td>1.531</td><td>87.34</td><td>0.3048</td><td>4.757</td><td>87.39</td><td>0.3035</td><td>1.895</td><td>G</td><td>11.97</td><td>1.887</td><td>0</td><td>20</td><td>0.3761 ..      0.005077</td><td>266.79972450183476,-28.51999513347</td><td>0</td><td>0.0</td><td>0.0</td><td>0.0</td><td>0</td><td>0.0</td><td>0.0</td><td>0.0</td><td>860</td><td>266.79972450183476,-28.51999513347</td><td></td></tr>\n",
       "<tr><td>SFGC0.547-0.078</td><td>266.8054282443605</td><td>-28.509496093628577</td><td>1.952</td><td>0.09796</td><td>19.92</td><td>6.314</td><td>0.1514</td><td>41.69</td><td>9.892</td><td>0.217</td><td>45.59</td><td>3.235</td><td>1.567</td><td>7.936</td><td>0.1552</td><td>0.7716</td><td>--</td><td>--</td><td>--</td><td>M</td><td>2.126e-38</td><td>1</td><td>--</td><td>--</td><td>-- .. --</td><td>7.171</td><td>0.2053</td><td>34.92</td><td>17.53</td><td>0.3788</td><td>46.29</td><td>22.6</td><td>0.5022</td><td>45</td><td>2.445</td><td>1.289</td><td>15.18</td><td>0.3156</td><td>0.9801</td><td>15.23</td><td>0.1923</td><td>1</td><td>M</td><td>20.2</td><td>2.417</td><td>0</td><td>0</td><td>-0.01347 ..       0.02352</td><td>266.8054282443605,-28.509496093628577</td><td>0</td><td>0.0</td><td>0.0</td><td>0.0</td><td>0</td><td>0.0</td><td>0.0</td><td>0.0</td><td>861</td><td>266.80542824436054,-28.509496093628577</td><td></td></tr>\n",
       "<tr><td>SFGC0.587-0.057</td><td>266.80837590724457</td><td>-28.46482142860104</td><td>1.116</td><td>0.1115</td><td>10.01</td><td>2.515</td><td>0.1568</td><td>16.04</td><td>3.424</td><td>0.218</td><td>15.71</td><td>2.254</td><td>1.361</td><td>2.983</td><td>0.1277</td><td>0.4427</td><td>3.011</td><td>0.128</td><td>0.4187</td><td>M</td><td>7.305</td><td>1.317</td><td>--</td><td>--</td><td>-- .. --</td><td>5.234</td><td>0.2051</td><td>25.52</td><td>10.92</td><td>0.3744</td><td>29.17</td><td>12.76</td><td>0.496</td><td>25.72</td><td>2.086</td><td>1.168</td><td>9.924</td><td>0.2048</td><td>1</td><td>9.99</td><td>0.1774</td><td>1</td><td>M</td><td>12.07</td><td>1.507</td><td>0</td><td>0</td><td>0.01207 ..       0.02015</td><td>266.80837590724457,-28.46482142860104</td><td>0</td><td>0.0</td><td>0.0</td><td>0.0</td><td>0</td><td>0.0</td><td>0.0</td><td>0.0</td><td>863</td><td>266.80837590724457,-28.46482142860104</td><td></td></tr>\n",
       "<tr><td>SFGC0.608-0.047</td><td>266.8113042421003</td><td>-28.441270241271535</td><td>0.8671</td><td>0.2983</td><td>2.907</td><td>2.771</td><td>0.2256</td><td>12.29</td><td>5.766</td><td>0.2381</td><td>24.22</td><td>3.196</td><td>2.081</td><td>3.911</td><td>0.1251</td><td>0.4587</td><td>3.926</td><td>0.1253</td><td>0.4507</td><td>M</td><td>13.63</td><td>1.204</td><td>--</td><td>--</td><td>-- .. --</td><td>1.847</td><td>0.3424</td><td>5.396</td><td>6.142</td><td>0.3811</td><td>16.12</td><td>11.99</td><td>0.4729</td><td>25.34</td><td>3.325</td><td>1.951</td><td>4.903</td><td>0.1324</td><td>1</td><td>4.889</td><td>0.1318</td><td>1</td><td>M</td><td>14.8</td><td>1.177</td><td>0</td><td>20</td><td>0.06039 ..      -0.02934</td><td>266.8113042421003,-28.441270241271535</td><td>100</td><td>1.7620908466140053</td><td>0.0</td><td>0.0</td><td>0</td><td>0.0</td><td>0.0</td><td>0.0</td><td>865</td><td>266.81130424210033,-28.441270241271535</td><td></td></tr>\n",
       "<tr><td>SFGC0.645-0.041</td><td>266.8271987977095</td><td>-28.40643127500445</td><td>0.2676</td><td>0.1803</td><td>1.485</td><td>0.7093</td><td>0.1793</td><td>3.956</td><td>1.203</td><td>0.2167</td><td>5.551</td><td>2.65</td><td>1.696</td><td>0.8994</td><td>0.1203</td><td>0.3009</td><td>0.8743</td><td>0.1111</td><td>0.28</td><td>M</td><td>29.35</td><td>5.219</td><td>--</td><td>--</td><td>-- .. --</td><td>3.541</td><td>0.1821</td><td>19.45</td><td>6.097</td><td>0.3297</td><td>18.49</td><td>6.597</td><td>0.4362</td><td>15.12</td><td>1.722</td><td>1.082</td><td>5.577</td><td>0.1548</td><td>1</td><td>5.534</td><td>0.1358</td><td>1</td><td>M</td><td>5.967</td><td>1.593</td><td>0</td><td>0</td><td>0.01536 ..      0.009828</td><td>266.8271987977095,-28.40643127500445</td><td>100</td><td>0.8085280681568437</td><td>0.0</td><td>0.0</td><td>0</td><td>0.0</td><td>0.0</td><td>0.0</td><td>867</td><td>266.8271987977095,-28.40643127500445</td><td></td></tr>\n",
       "<tr><td>SFGC0.667-0.038</td><td>266.8368341614815</td><td>-28.38560761284377</td><td>6.555</td><td>0.1127</td><td>58.19</td><td>25.32</td><td>0.2009</td><td>126</td><td>52.64</td><td>0.2948</td><td>178.6</td><td>3.863</td><td>2.079</td><td>35.84</td><td>0.319</td><td>4.281</td><td>34.89</td><td>0.2268</td><td>2.307</td><td>A</td><td>7.253</td><td>2.274</td><td>--</td><td>--</td><td>-- .. --</td><td>125.7</td><td>0.2947</td><td>426.6</td><td>435.5</td><td>0.5541</td><td>785.8</td><td>705.9</td><td>0.7367</td><td>958.2</td><td>3.464</td><td>1.621</td><td>358.3</td><td>0.3643</td><td>32.27</td><td>352.8</td><td>0.3581</td><td>19.58</td><td>A</td><td>9.29</td><td>2.186</td><td>0</td><td>20</td><td>0.007228 ..        0.7467</td><td>266.8368341614815,-28.38560761284377</td><td>0</td><td>0.0</td><td>0.0</td><td>0.0</td><td>0</td><td>0.0</td><td>0.0</td><td>0.0</td><td>870</td><td>266.83683416148153,-28.38560761284377</td><td></td></tr>\n",
       "</table></div>"
      ],
      "text/plain": [
       "<Table length=930>\n",
       "     SourceID         RA(J2000)      ... SSTGCxmatch\n",
       "                         deg         ...            \n",
       "     bytes17           float64       ...     str7   \n",
       "----------------- ------------------ ... -----------\n",
       "SFGC359.410+0.032 266.02006908793686 ...     0279533\n",
       "SFGC359.410+0.032 266.02006908793686 ...     0279533\n",
       "SFGC359.410+0.032 266.02006908793686 ...     0279869\n",
       "SFGC359.410+0.032 266.02006908793686 ...     0279869\n",
       "SFGC359.429+0.035  266.0287822033286 ...     0284291\n",
       "SFGC359.423+0.015  266.0446602894267 ...     0292486\n",
       "SFGC359.435+0.022 266.04485626247106 ...     0292687\n",
       "SFGC359.404+0.001 266.04694161813114 ...     0293528\n",
       "SFGC359.453+0.028  266.0502456885612 ...     0295440\n",
       "              ...                ... ...         ...\n",
       "  SFGC0.509-0.036  266.7417960281193 ...            \n",
       "  SFGC0.515-0.047 266.75628993587696 ...            \n",
       "  SFGC0.521-0.041  266.7540910089022 ...            \n",
       "  SFGC0.526-0.063  266.7786679501586 ...            \n",
       "  SFGC0.535-0.079 266.79972450183476 ...            \n",
       "  SFGC0.547-0.078  266.8054282443605 ...            \n",
       "  SFGC0.587-0.057 266.80837590724457 ...            \n",
       "  SFGC0.608-0.047  266.8113042421003 ...            \n",
       "  SFGC0.645-0.041  266.8271987977095 ...            \n",
       "  SFGC0.667-0.038  266.8368341614815 ...            "
      ]
     },
     "execution_count": 18,
     "metadata": {},
     "output_type": "execute_result"
    }
   ],
   "source": [
    "#create a combined table of both matched and unmatched sources\n",
    "mcatComb=vstack((matchedmcat,onlymcat))\n",
    "\n",
    "#print combined table\n",
    "mcatComb"
   ]
  },
  {
   "cell_type": "code",
   "execution_count": 19,
   "id": "1a48249c",
   "metadata": {},
   "outputs": [],
   "source": [
    "if 'sky_centroid' in mcatComb.columns:\n",
    "    mcatComb.remove_columns('sky_centroid')\n",
    "    \n",
    "if 'skycoords' in mcatComb.columns:\n",
    "    mcatComb.remove_columns('skycoords')"
   ]
  },
  {
   "cell_type": "code",
   "execution_count": 20,
   "id": "68562651",
   "metadata": {},
   "outputs": [],
   "source": [
    "#write out final catalog\n",
    "mcatComb.write('masterCat_combined_step4.fits',overwrite=True)"
   ]
  },
  {
   "cell_type": "code",
   "execution_count": 21,
   "id": "0b21ca66",
   "metadata": {},
   "outputs": [],
   "source": [
    "#remove cutouts from table\n",
    "if 'cutout25' in mcatComb.columns:\n",
    "    mcatComb.remove_columns('cutout25')\n",
    "    \n",
    "if 'cutout37' in mcatComb.columns:\n",
    "    mcatComb.remove_columns('cutout37')"
   ]
  },
  {
   "cell_type": "code",
   "execution_count": 22,
   "id": "9c006e21",
   "metadata": {},
   "outputs": [],
   "source": [
    "#write out final catalog\n",
    "mcatComb.write('masterCat_combined_step4_NoCutouts.fits',overwrite=True)"
   ]
  },
  {
   "cell_type": "code",
   "execution_count": null,
   "id": "b4e53221",
   "metadata": {},
   "outputs": [],
   "source": []
  },
  {
   "cell_type": "code",
   "execution_count": null,
   "id": "932097b0",
   "metadata": {},
   "outputs": [],
   "source": []
  },
  {
   "cell_type": "code",
   "execution_count": null,
   "id": "af1c8854",
   "metadata": {},
   "outputs": [],
   "source": []
  },
  {
   "cell_type": "code",
   "execution_count": null,
   "id": "99dc335c",
   "metadata": {},
   "outputs": [],
   "source": []
  }
 ],
 "metadata": {
  "kernelspec": {
   "display_name": "Python 3 (ipykernel)",
   "language": "python",
   "name": "python3"
  },
  "language_info": {
   "codemirror_mode": {
    "name": "ipython",
    "version": 3
   },
   "file_extension": ".py",
   "mimetype": "text/x-python",
   "name": "python",
   "nbconvert_exporter": "python",
   "pygments_lexer": "ipython3",
   "version": "3.9.7"
  }
 },
 "nbformat": 4,
 "nbformat_minor": 5
}
