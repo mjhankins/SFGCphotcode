{
 "cells": [
  {
   "cell_type": "markdown",
   "metadata": {},
   "source": [
    "# SOFIA/FORCAST Galactic Center Combine Fields Notebook"
   ]
  },
  {
   "cell_type": "markdown",
   "metadata": {},
   "source": [
    "## Preliminary Steps - Select file to use from config.py and load in required packages"
   ]
  },
  {
   "cell_type": "code",
   "execution_count": 1,
   "metadata": {},
   "outputs": [],
   "source": [
    "#import all required packages\n",
    "import os\n",
    "import numpy as np\n",
    "import re\n",
    "import matplotlib.pyplot as plt\n",
    "from mpl_toolkits.axes_grid1 import make_axes_locatable\n",
    "\n",
    "from astropy.convolution import Gaussian2DKernel\n",
    "from astropy.stats import gaussian_fwhm_to_sigma\n",
    "from astropy.visualization import SqrtStretch, simple_norm\n",
    "from astropy.visualization.mpl_normalize import ImageNormalize\n",
    "from astropy.io import fits,ascii\n",
    "from astropy.wcs import WCS\n",
    "from astropy import units as u\n",
    "from astropy.stats import sigma_clipped_stats\n",
    "from astropy.table import join, vstack, Table\n",
    "from astropy.coordinates import SkyCoord, search_around_sky, Angle\n",
    "\n",
    "from photutils.aperture import SkyCircularAperture,SkyCircularAnnulus,aperture_photometry \n",
    "from photutils.segmentation import detect_threshold, detect_sources, deblend_sources, SourceCatalog\n",
    "from photutils.background import Background2D, MedianBackground, SExtractorBackground, MMMBackground\n",
    "from photutils.utils import calc_total_error"
   ]
  },
  {
   "cell_type": "code",
   "execution_count": 2,
   "metadata": {},
   "outputs": [],
   "source": [
    "#new functions needed for this notebook\n",
    "from astropy.coordinates.matching import _get_cartesian_kdtree\n",
    "\n",
    "from regions import read_ds9, write_ds9, CircleSkyRegion"
   ]
  },
  {
   "cell_type": "code",
   "execution_count": 3,
   "metadata": {},
   "outputs": [],
   "source": [
    "#import configuration for selected file\n",
    "#from config import wavelength, segdetsig, finddetsig, bkgbox #import additional common paramters\n",
    "from config import dpath, dpathalt, ds9path #import additional common paramters\n",
    "\n",
    "from config import *"
   ]
  },
  {
   "cell_type": "code",
   "execution_count": 4,
   "metadata": {},
   "outputs": [],
   "source": [
    "#change directory to where data is\n",
    "try:\n",
    "    os.chdir(dpath)\n",
    "except:\n",
    "    os.chdir(dpathalt)"
   ]
  },
  {
   "cell_type": "code",
   "execution_count": 5,
   "metadata": {},
   "outputs": [],
   "source": [
    "def CombineFieldResults(CatName,wavelength): # #Name options- 'CombCat', 'SegCat', 'DaoCat'\n",
    "    #pick a field to start with so we can get the table structure. \n",
    "    #The files for the field cannot be empty or an error message will display\n",
    "    startfield=FieldA.name\n",
    "\n",
    "    if os.path.exists(startfield+'_'+str(wavelength)+'um_'+CatName+'.fits'):\n",
    "        cat=Table.read(startfield+'_'+str(wavelength)+'um_'+CatName+'.fits')\n",
    "\n",
    "        #fix for issue with combining tables with objects as columns\n",
    "        cat['RA(J2000)']=cat['sky_centroid'].ra\n",
    "        cat['DEC(J2000)']=cat['sky_centroid'].dec\n",
    "        cat['glon']=cat['sky_centroid'].galactic.l.deg\n",
    "        cat['glat']=cat['sky_centroid'].galactic.b.deg\n",
    "        cat.remove_column('sky_centroid')\n",
    "\n",
    "    else:\n",
    "        print('Error... Must pick another file to start with')\n",
    "        \n",
    "        \n",
    "    #loop through all the saved photometry tables for individual fields and append them together\n",
    "    for info in field._registry:\n",
    "        filename=info.filename\n",
    "        name=info.name\n",
    "\n",
    "        #print('\\nLoading in photometry data from field: ', name)\n",
    "\n",
    "        if name is not startfield:\n",
    "\n",
    "            if os.path.exists(name+'_'+str(wavelength)+'um_'+CatName+'.fits'):\n",
    "                newtab1=Table.read(name+'_'+str(wavelength)+'um_'+CatName+'.fits')\n",
    "\n",
    "                #fix for issue with combining tables with objects as columns\n",
    "                newtab1['RA(J2000)']=newtab1['sky_centroid'].ra\n",
    "                newtab1['DEC(J2000)']=newtab1['sky_centroid'].dec\n",
    "                newtab1['glon']=newtab1['sky_centroid'].galactic.l.deg\n",
    "                newtab1['glat']=newtab1['sky_centroid'].galactic.b.deg\n",
    "                newtab1.remove_column('sky_centroid')\n",
    "\n",
    "                #combine tables\n",
    "                cat=vstack([cat,newtab1])\n",
    "\n",
    "\n",
    "    #print the table sizes to get source counts\n",
    "    #print('Raw number of combinded sources: ', len(cat))\n",
    "    \n",
    "    #sort table entries by gal. lat. \n",
    "    cat.sort('glon')\n",
    "    \n",
    "    #fix to wrap galactic coordinates\n",
    "    alttabidx2=cat['glon']>180\n",
    "    alttabidx1=cat['glon']<180\n",
    "    c1=cat[alttabidx2]\n",
    "    c2=cat[alttabidx1]\n",
    "    catnew=vstack([c1,c2])\n",
    "    \n",
    "    #rename field based id to anothter name to avoid confusion\n",
    "    #catnew.rename_column('id', 'old_id')\n",
    "    \n",
    "    #remove original source 'id' values because they are field based and not useful in combined table\n",
    "    catnew.remove_column('id')\n",
    "\n",
    "    #add new ids to the master catalog\n",
    "    catnew['id']=np.linspace(1,len(catnew),len(catnew),dtype=np.int64)\n",
    "    \n",
    "    #re-add \"sky_centroid\" column \n",
    "    catnew['sky_centroid']=SkyCoord(catnew['RA(J2000)'],catnew['DEC(J2000)'],unit=u.deg)\n",
    "\n",
    "    #return combined catalog\n",
    "    return catnew\n",
    "    "
   ]
  },
  {
   "cell_type": "code",
   "execution_count": 6,
   "metadata": {},
   "outputs": [],
   "source": [
    "#source coords should be skycoord objects, sep should be an angular quantity e.g., 4*u.arcsec\n",
    "def remove_duplicates(cat, sep):\n",
    "\tsourcecoords=cat['sky_centroid']\n",
    "\n",
    "\t#create KD Tree\n",
    "\tkdt=_get_cartesian_kdtree(sourcecoords)\n",
    "    \n",
    "\t#search radius\n",
    "\tr = (2 * np.sin(Angle(sep) / 2.0)).value #search radius\n",
    "    \n",
    "\t#initialize counter\n",
    "\tcounter=0\n",
    "    \n",
    "\t#create array to hold matches\n",
    "\tmatchstore=np.zeros(len(cat),dtype=np.int)\n",
    "    \n",
    "\t#loop through and find all matching sources within crossmatch radius\n",
    "\tfor i, matches in enumerate(kdt.query_ball_tree(kdt,r)):\n",
    "\t\tif len(matches)>1:\n",
    "\t\t\tcounter+=1\n",
    "\t\t\t\n",
    "\t\t\tfor match in matches:\n",
    "\t\t\t\tif match!=matches[(match+1)%len(matches)]:\n",
    "\t\t\t\t\tmatchstore[match]=matches[(match+1)%len(matches)]+1\n",
    "\t\t\t\telse:\n",
    "\t\t\t\t\tmatchstore[match]=matches[(match+2)%len(matches)]+1\n",
    "\n",
    "\t#store possible crossmatches\n",
    "\tcat['selfXmatch']=matchstore\n",
    "\tprint('number of likely duplicates: ', counter)\n",
    "    \n",
    "\t#create keep and remove lists\n",
    "\tkeep=[]\n",
    "\tremove=[]\n",
    "    \n",
    "\t#loop through and mark sources to keep and remove based on which has the greater aperture photometry snr\n",
    "\tfor row in cat:\n",
    "\t\tif row['selfXmatch']>0:\n",
    "\t\t\t#print(row['Master_id'])\n",
    "\t\t\tidx1 = row['id']\n",
    "\t\t\tidx2 = row['selfXmatch']\n",
    "\t\t\t\n",
    "\t\t\trow1=cat[cat['id']==idx1]\n",
    "\t\t\trow2=cat[cat['id']==idx2]\n",
    "\t\t\t\n",
    "\t\t\tsnr1=row1['aper_snr_4pix'].data[0]\n",
    "\t\t\tsnr2=row2['aper_snr_4pix'].data[0]\n",
    "\t\t\t           \n",
    "\t\t\tif snr1>snr2:\n",
    "\t\t\t\tkeep.append(idx1)\n",
    "\t\t\t\tremove.append(idx2)\n",
    "\t\t\telse:\n",
    "\t\t\t\tkeep.append(idx2)\n",
    "\t\t\t\tremove.append(idx1)\n",
    "\n",
    "\t#remove duplicates in lists\n",
    "\tkeep=list(set(keep))\n",
    "\tremove=list(set(remove))\n",
    "    \n",
    "\t#remove duplicates in table\n",
    "\tremoveIdx=np.array(remove)-1 #fix zero/one initialization issue\n",
    "\tcat.remove_rows(removeIdx)\n",
    "\t\n",
    "\treturn cat"
   ]
  },
  {
   "cell_type": "code",
   "execution_count": 7,
   "metadata": {},
   "outputs": [],
   "source": [
    "def makeDS9file(savename, table, radius, color='green', labelon=False,label='ColumnName'):\n",
    "    scs=table['sky_centroid']\n",
    "    \n",
    "    decimals = 1 # number of decimal places to display with labels\n",
    "    \n",
    "    #loop through and create region instances for each source\n",
    "    regions=[]\n",
    "    for i in range(0,len(scs)):\n",
    "        region = CircleSkyRegion(scs[i], radius)\n",
    "        regions.append(region)\n",
    "            #write out region file\n",
    "    write_ds9(regions, savename)\n",
    "    \n",
    "    hld=\"\"\n",
    "    with open(savename, 'r+') as f:\n",
    "        lineno=0\n",
    "        for line in f:\n",
    "            if lineno<len(table):\n",
    "                if labelon:\n",
    "                    text=line.replace(r')', r') # color='+color+' text={'+str(np.round(table[label][lineno-2],decimals))+'}')\n",
    "                else:\n",
    "                    text=line.replace(r')', r') # color='+color)\n",
    "                hld=hld+text\n",
    "                lineno=lineno+1\n",
    "        f.seek(0)\n",
    "        f.write(hld)\n",
    "        f.truncate()"
   ]
  },
  {
   "cell_type": "code",
   "execution_count": 8,
   "metadata": {},
   "outputs": [],
   "source": [
    "#find the 'not' indcies for sources in table\n",
    "def findNOTindex(tab,index):\n",
    "    allpos=np.linspace(0,len(tab)-1,len(tab),dtype=np.int64) \n",
    "    notindex=list(set(allpos)-set(index))\n",
    "    return notindex"
   ]
  },
  {
   "cell_type": "code",
   "execution_count": 9,
   "metadata": {},
   "outputs": [],
   "source": [
    "#create catalog names for sources based on galactic coords\n",
    "def createNames(tab):\n",
    "    #get lat and long values\n",
    "    latvals=tab['glat'].value\n",
    "    lonvals=tab['glon'].value\n",
    "    #convert to strings\n",
    "    strings1 = [\"%.4f\" % lonvals for lonvals in lonvals]\n",
    "    strings2 = [\"%.4f\" % latvals for latvals in latvals]\n",
    "    #update string 2 to include '+' signs where needed\n",
    "    s2update=[]\n",
    "    for string in strings2:\n",
    "        if not string.startswith('-'):\n",
    "            string='+'+string\n",
    "        s2update.append(string)\n",
    "    #create names array\n",
    "    names=['SFGC'+strings1+s2update for strings1,s2update in zip(strings1,s2update)]\n",
    "    #add names to table\n",
    "    tab['SourceID']=names\n",
    "    #return table with names added\n",
    "    return tab"
   ]
  },
  {
   "cell_type": "markdown",
   "metadata": {},
   "source": [
    "## Combine data files for each field at 25 um"
   ]
  },
  {
   "cell_type": "code",
   "execution_count": 10,
   "metadata": {
    "scrolled": true
   },
   "outputs": [
    {
     "data": {
      "text/html": [
       "<div><i>Table length=1102</i>\n",
       "<table id=\"table2485211043440\" class=\"table-striped table-bordered table-condensed\">\n",
       "<thead><tr><th>type</th><th>xcentroid</th><th>ycentroid</th><th>sky_center</th><th>aperture_sum_4pix</th><th>aperture_sum_err_4pix</th><th>aperture_sum_5pix</th><th>aperture_sum_err_5pix</th><th>aperture_sum_6pix</th><th>aperture_sum_err_6pix</th><th>aperture_sum_7pix</th><th>aperture_sum_err_7pix</th><th>aperture_sum_8pix</th><th>aperture_sum_err_8pix</th><th>aperture_sum_9pix</th><th>aperture_sum_err_9pix</th><th>aperture_sum_10pix</th><th>aperture_sum_err_10pix</th><th>aperture_sum_12pix</th><th>aperture_sum_err_12pix</th><th>pixAnnArea</th><th>ann_bkg_med</th><th>ann_bkg_mean</th><th>ann_bkg_std</th><th>texp_med</th><th>texp_mean</th><th>aper_sum_bkgsub_4pix</th><th>aper_snr_4pix</th><th>aper_area_4pix</th><th>aper_sum_bkgsub_5pix</th><th>aper_snr_5pix</th><th>aper_area_5pix</th><th>aper_sum_bkgsub_6pix</th><th>aper_snr_6pix</th><th>aper_area_6pix</th><th>aper_sum_bkgsub_7pix</th><th>aper_snr_7pix</th><th>aper_area_7pix</th><th>aper_sum_bkgsub_8pix</th><th>aper_snr_8pix</th><th>aper_area_8pix</th><th>aper_sum_bkgsub_9pix</th><th>aper_snr_9pix</th><th>aper_area_9pix</th><th>aper_sum_bkgsub_10pix</th><th>aper_snr_10pix</th><th>aper_area_10pix</th><th>aper_sum_bkgsub_12pix</th><th>aper_snr_12pix</th><th>aper_area_12pix</th><th>Field</th><th>wv</th><th>fit_x_cent</th><th>fit_y_cent</th><th>fwhm</th><th>semimajor_sigma</th><th>semiminor_sigma</th><th>orientation</th><th>RA(J2000)</th><th>DEC(J2000)</th><th>glon</th><th>glat</th><th>id</th><th>sky_centroid</th><th>SourceID</th></tr></thead>\n",
       "<thead><tr><th></th><th>pix</th><th>pix</th><th>deg,deg</th><th></th><th></th><th></th><th></th><th></th><th></th><th></th><th></th><th></th><th></th><th></th><th></th><th></th><th></th><th></th><th></th><th></th><th></th><th></th><th></th><th></th><th></th><th></th><th></th><th></th><th></th><th></th><th></th><th></th><th></th><th></th><th></th><th></th><th></th><th></th><th></th><th></th><th></th><th></th><th></th><th></th><th></th><th></th><th></th><th></th><th></th><th></th><th></th><th></th><th></th><th>pix</th><th>pix</th><th>pix</th><th>deg</th><th>deg</th><th>deg</th><th></th><th></th><th></th><th>deg,deg</th><th></th></tr></thead>\n",
       "<thead><tr><th>int32</th><th>float64</th><th>float64</th><th>object</th><th>float64</th><th>float64</th><th>float64</th><th>float64</th><th>float64</th><th>float64</th><th>float64</th><th>float64</th><th>float64</th><th>float64</th><th>float64</th><th>float64</th><th>float64</th><th>float64</th><th>float64</th><th>float64</th><th>float64</th><th>float64</th><th>float64</th><th>float64</th><th>float64</th><th>float64</th><th>float64</th><th>float64</th><th>float64</th><th>float64</th><th>float64</th><th>float64</th><th>float64</th><th>float64</th><th>float64</th><th>float64</th><th>float64</th><th>float64</th><th>float64</th><th>float64</th><th>float64</th><th>float64</th><th>float64</th><th>float64</th><th>float64</th><th>float64</th><th>float64</th><th>float64</th><th>float64</th><th>float64</th><th>bytes7</th><th>int32</th><th>float64</th><th>float64</th><th>float64</th><th>float64</th><th>float64</th><th>float64</th><th>float64</th><th>float64</th><th>float64</th><th>float64</th><th>int64</th><th>object</th><th>str19</th></tr></thead>\n",
       "<tr><td>210</td><td>250.2257166121639</td><td>74.97958925726155</td><td>266.0950436382803,-29.535024921422615</td><td>1.845885481333474</td><td>0.08444821973141009</td><td>2.570779911805536</td><td>0.10606378904109745</td><td>3.3183545166879505</td><td>0.12821244534513332</td><td>4.032149019661047</td><td>0.1510148301208088</td><td>4.7177463364214836</td><td>0.1745263053700836</td><td>5.379825919397939</td><td>0.1986665282506168</td><td>5.970770166395662</td><td>0.2231488547385178</td><td>6.850228539319838</td><td>0.27466261002762604</td><td>842.3890001756049</td><td>0.0003803196811617027</td><td>0.0007069918155229804</td><td>0.008085258790582747</td><td>297.2008361816406</td><td>243.62550801180805</td><td>1.825861911585917</td><td>26.004304584073665</td><td>52.649312510975314</td><td>2.539493084074978</td><td>37.64404044341836</td><td>82.26455079839893</td><td>3.2733014847559474</td><td>49.69398640091326</td><td>118.46095314969445</td><td>3.970826837309154</td><td>61.01653405794673</td><td>161.23851956486192</td><td>4.637652057431255</td><td>71.72369419795315</td><td>210.59725004390125</td><td>5.278456597550932</td><td>81.91009451531013</td><td>266.5371445868125</td><td>5.84562285547343</td><td>90.62500844663205</td><td>329.0582031935957</td><td>6.670016411591826</td><td>101.85724497534935</td><td>473.8438125987778</td><td>Field1</td><td>25</td><td>4.251548043528698</td><td>3.8351015095079495</td><td>5.699915199622362</td><td>2.4489997533779095</td><td>2.391723647932382</td><td>-22.59752088875347</td><td>266.0950436382803</td><td>-29.535024921422615</td><td>359.3480412690212</td><td>-0.08202059155827685</td><td>1</td><td>266.0950436382803,-29.535024921422615</td><td>SFGC359.3480-0.0820</td></tr>\n",
       "<tr><td>220</td><td>235.8129364732463</td><td>68.41343072864075</td><td>266.09857748631543,-29.53642593639456</td><td>0.12248755178416385</td><td>0.0810017229680591</td><td>0.09654104310027684</td><td>0.10118385959690923</td><td>0.12597723150436402</td><td>0.12135081937907281</td><td>0.18682210570421204</td><td>0.1413548250945445</td><td>0.2997225801037092</td><td>0.16133376393736912</td><td>0.4128750543170273</td><td>0.18150203578085058</td><td>0.5635759337751979</td><td>0.20189950862451195</td><td>0.984090762340672</td><td>0.2434417230814924</td><td>842.3890001756049</td><td>-3.058263334552386e-07</td><td>0.0006026735039549028</td><td>0.01145437846204429</td><td>332.1656188964844</td><td>279.1724233990169</td><td>0.12250365333036801</td><td>0.13045083693217835</td><td>52.649312510975314</td><td>0.09656620176622084</td><td>0.06491249911784965</td><td>82.26455079839893</td><td>0.1260134599833234</td><td>0.09210382495940947</td><td>118.46095314969445</td><td>0.1868714166894623</td><td>0.17352879238253877</td><td>161.23851956486192</td><td>0.2997869862885259</td><td>0.39028553180576875</td><td>210.59725004390125</td><td>0.4129565683946859</td><td>0.6574612460191204</td><td>266.5371445868125</td><td>0.563676568438974</td><td>1.1003637824290948</td><td>329.0582031935957</td><td>0.9842356762565095</td><td>2.778273238405255</td><td>473.8438125987778</td><td>Field1</td><td>25</td><td>4.937649212924471</td><td>3.967248852323289</td><td>5.103407714444976</td><td>2.2319260053806214</td><td>2.1005169708144433</td><td>-43.614803433234016</td><td>266.09857748631543</td><td>-29.53642593639456</td><td>359.3484561991237</td><td>-0.08537379289071692</td><td>2</td><td>266.09857748631543,-29.53642593639456</td><td>SFGC359.3485-0.0854</td></tr>\n",
       "<tr><td>220</td><td>332.0378911697175</td><td>186.0992347703184</td><td>266.074990866838,-29.511316297914064</td><td>-0.33055025573547464</td><td>0.08518926447601417</td><td>-0.6415576724566089</td><td>0.10660396660725928</td><td>-1.016802157152918</td><td>0.12809624825910496</td><td>-1.4167578397692444</td><td>0.14993304266586524</td><td>-1.8494000648486448</td><td>0.1718384784988304</td><td>-2.3829711652608623</td><td>0.19385759882190795</td><td>-2.9545656075676305</td><td>0.21614793825192943</td><td>-4.172055781100934</td><td>0.2615381067772004</td><td>842.3890001756049</td><td>-0.004808011930435896</td><td>-0.005221058148551382</td><td>0.008222695145551209</td><td>332.1656188964844</td><td>270.7920432755615</td><td>-0.07741173305345746</td><td>-0.0725911678446694</td><td>52.649312510975314</td><td>-0.24602873076595702</td><td>-0.582460402101168</td><td>82.26455079839893</td><td>-0.4472404811183793</td><td>-1.5870204685035671</td><td>118.46095314969445</td><td>-0.6415211140555666</td><td>-2.772524560386144</td><td>161.23851956486192</td><td>-0.8368459741205759</td><td>-4.094009075159183</td><td>210.59725004390125</td><td>-1.1014573941831507</td><td>-6.223612660937095</td><td>266.5371445868125</td><td>-1.3724498408050234</td><td>-8.592549661024446</td><td>329.0582031935957</td><td>-1.8938090769627787</td><td>-13.386060428527184</td><td>473.8438125987778</td><td>Field1</td><td>25</td><td>3.9319163042660277</td><td>3.702914213444441</td><td>4.2815420623009635</td><td>2.331975909293352</td><td>1.0833357458583257</td><td>65.6094493875728</td><td>266.074990866838</td><td>-29.511316297914064</td><td>359.35911187303003</td><td>-0.05474404413196086</td><td>3</td><td>266.074990866838,-29.511316297914064</td><td>SFGC359.3591-0.0547</td></tr>\n",
       "<tr><td>220</td><td>143.71183323736923</td><td>81.48081608443722</td><td>266.1211601335384,-29.53363752123323</td><td>-0.26805860779804835</td><td>0.08259016751290484</td><td>-0.4601479211848661</td><td>0.10363486719082042</td><td>-0.677549807651428</td><td>0.12485717641236446</td><td>-0.9722690104554154</td><td>0.14615046178268135</td><td>-1.2277202195876962</td><td>0.16743213894640888</td><td>-1.476991506751005</td><td>0.18872323134336663</td><td>-1.7906879274254792</td><td>0.21006514198459836</td><td>-2.334383429819403</td><td>0.2543152955694159</td><td>842.3890001756049</td><td>-0.001420538246009862</td><td>-0.0012987690984140779</td><td>0.007405006990219399</td><td>314.6832275390625</td><td>253.18469558900318</td><td>-0.1932682457500824</td><td>-0.4981215438176015</td><td>52.649312510975314</td><td>-0.3432879804849192</td><td>-1.2448436904842208</td><td>82.26455079839893</td><td>-0.5092714930435046</td><td>-2.2599397435753117</td><td>118.46095314969445</td><td>-0.7432235266835195</td><td>-4.059384222290948</td><td>161.23851956486192</td><td>-0.9285587713958323</td><td>-5.497193861147719</td><td>210.59725004390125</td><td>-1.0983652988831776</td><td>-6.799861121256891</td><td>266.5371445868125</td><td>-1.323248164625692</td><td>-8.79526855314401</td><td>329.0582031935957</td><td>-1.6612701713877096</td><td>-11.481498523656105</td><td>473.8438125987778</td><td>Field1</td><td>25</td><td>4.336657858241436</td><td>4.127061327459961</td><td>3.891748711780299</td><td>1.9417544632835333</td><td>1.3008647403793636</td><td>11.531411653310645</td><td>266.1211601335384</td><td>-29.53363752123323</td><td>359.36111184895236</td><td>-0.10065971231519708</td><td>4</td><td>266.1211601335384,-29.53363752123323</td><td>SFGC359.3611-0.1007</td></tr>\n",
       "<tr><td>220</td><td>182.758347406182</td><td>106.1251404267687</td><td>266.1115859353716,-29.528380832044668</td><td>-0.17335990779034474</td><td>0.07297136589909349</td><td>-0.29940470057316276</td><td>0.09121239663990478</td><td>-0.40767192360703963</td><td>0.1094589236303597</td><td>-0.5503594617261074</td><td>0.1276936864157044</td><td>-0.6925923407112138</td><td>0.14591774604053953</td><td>-0.8807266148692348</td><td>0.16414293958639922</td><td>-1.028605311344628</td><td>0.18237042733957592</td><td>-1.3146083291459068</td><td>0.2188321061853396</td><td>842.3890001756049</td><td>-0.001137502840720117</td><td>-0.0013887409060443854</td><td>0.007398202084225398</td><td>402.0951843261719</td><td>386.29192740395695</td><td>-0.11347116524714912</td><td>-0.17298032266643035</td><td>52.649312510975314</td><td>-0.2058285403494196</td><td>-0.4536094072218465</td><td>82.26455079839893</td><td>-0.27292225288484945</td><td>-0.6635583281037148</td><td>118.46095314969445</td><td>-0.36695018768757076</td><td>-1.0252411015964689</td><td>161.23851956486192</td><td>-0.45303737053843135</td><td>-1.364746436115004</td><td>210.59725004390125</td><td>-0.577539855744307</td><td>-1.9640174942172057</td><td>266.5371445868125</td><td>-0.6543006704496555</td><td>-2.2671720514438616</td><td>329.0582031935957</td><td>-0.7756096462571462</td><td>-2.655959906263434</td><td>473.8438125987778</td><td>Field1</td><td>25</td><td>5.208895998153588</td><td>4.031813793376304</td><td>4.397677855119589</td><td>2.0061377148143165</td><td>1.7177564113682613</td><td>-39.480483848500405</td><td>266.1115859353716</td><td>-29.528380832044668</td><td>359.36123411023965</td><td>-0.09081017006126405</td><td>5</td><td>266.1115859353716,-29.528380832044668</td><td>SFGC359.3612-0.0908</td></tr>\n",
       "<tr><td>110</td><td>240.06902269378463</td><td>159.6150504479975</td><td>266.0975354664297,-29.516969533557337</td><td>2.122277669552102</td><td>0.07214300899424243</td><td>2.9652466416404657</td><td>0.09019854273015905</td><td>3.896604336957404</td><td>0.1082467254955461</td><td>4.791945790745727</td><td>0.12629954734099766</td><td>5.642315188384211</td><td>0.14437124125112638</td><td>6.380732471003727</td><td>0.16244924649198145</td><td>7.054092824774515</td><td>0.1805167735492355</td><td>8.433236851335401</td><td>0.21662932470145055</td><td>842.3890001756049</td><td>0.0033064186573028564</td><td>0.004411929046485698</td><td>0.006441341872653046</td><td>402.0951843261719</td><td>379.0730218559811</td><td>1.948197000371645</td><td>30.58405770383792</td><td>52.649312510975314</td><td>2.6932455960460007</td><td>43.36509924939293</td><td>82.26455079839893</td><td>3.5049228313013745</td><td>57.444941958777115</td><td>118.46095314969445</td><td>4.258823741380576</td><td>70.36761286424448</td><td>161.23851956486192</td><td>4.945992511662381</td><td>81.97092344250261</td><td>210.59725004390125</td><td>5.4994490832776615</td><td>90.9417926688502</td><td>266.5371445868125</td><td>5.966088642396656</td><td>98.2001422910476</td><td>329.0582031935957</td><td>6.866510828711284</td><td>112.05665063171811</td><td>473.8438125987778</td><td>Field1</td><td>25</td><td>3.7820117593921774</td><td>4.125459399593205</td><td>5.64776514266094</td><td>2.4470187294708152</td><td>2.3487445231462845</td><td>37.172720341427215</td><td>266.0975354664297</td><td>-29.516969533557337</td><td>359.36456208068563</td><td>-0.0744204929242794</td><td>6</td><td>266.0975354664297,-29.516969533557337</td><td>SFGC359.3646-0.0744</td></tr>\n",
       "<tr><td>220</td><td>102.50823164462449</td><td>112.20001312772604</td><td>266.13126126892774,-29.52708254199562</td><td>-0.3500584492197678</td><td>0.08159685341977675</td><td>-0.6284013350652002</td><td>0.10226439060779757</td><td>-0.8677158556888056</td><td>0.12389381186512033</td><td>-1.1568064279862913</td><td>0.14667013843710847</td><td>-1.528747311194563</td><td>0.17024046437318746</td><td>-1.8799832409696962</td><td>0.19453662439977332</td><td>-2.318643346268034</td><td>0.21939398876142627</td><td>-3.2106009100174946</td><td>0.27079867531770613</td><td>842.3890001756049</td><td>-0.003036289243027568</td><td>-0.003033703830721038</td><td>0.0077804925876531</td><td>314.6832275390625</td><td>248.91609958933972</td><td>-0.19019990798989672</td><td>-0.4597033752298063</td><td>52.649312510975314</td><td>-0.37862236439352664</td><td>-1.4383665530786116</td><td>82.26455079839893</td><td>-0.5080341379215957</td><td>-2.1466101832591393</td><td>118.46095314969445</td><td>-0.667239645469811</td><td>-3.1516615050093804</td><td>161.23851956486192</td><td>-0.8893131462750786</td><td>-4.84163958671418</td><td>210.59725004390125</td><td>-1.070699375993474</td><td>-6.1989211972319165</td><td>266.5371445868125</td><td>-1.3195274635813397</td><td>-8.378341439462991</td><td>329.0582031935957</td><td>-1.7718740389486547</td><td>-12.40423613156754</td><td>473.8438125987778</td><td>Field1</td><td>25</td><td>4.016933258765454</td><td>3.3501422952828808</td><td>4.864081457270268</td><td>2.710610346147587</td><td>1.0889793712689586</td><td>31.932891819884073</td><td>266.13126126892774</td><td>-29.52708254199562</td><td>359.3712957340333</td><td>-0.10472199051023623</td><td>7</td><td>266.13126126892774,-29.52708254199562</td><td>SFGC359.3713-0.1047</td></tr>\n",
       "<tr><td>210</td><td>203.2553534482713</td><td>176.8253650567436</td><td>266.10656036481095,-29.513298245557767</td><td>4.931100318600685</td><td>0.0709130787550331</td><td>7.060371802342063</td><td>0.08861751202371553</td><td>9.357028741223042</td><td>0.10631455776451869</td><td>11.784184196176518</td><td>0.123999540325287</td><td>14.333606766896539</td><td>0.14167986423296997</td><td>16.884519171819413</td><td>0.15937804951306456</td><td>19.451605464598515</td><td>0.17708905845574938</td><td>24.592309714810384</td><td>0.21255571812650673</td><td>842.3890001756049</td><td>0.019345778971910477</td><td>0.01981437917559348</td><td>0.010796562672416753</td><td>402.0951843261719</td><td>382.59610365002453</td><td>3.912558355740316</td><td>64.11279495826575</td><td>52.649312510975314</td><td>5.468899985372735</td><td>91.51919026188239</td><td>82.26455079839893</td><td>7.0653093247872105</td><td>119.65003753122998</td><td>118.46095314969445</td><td>8.664899434916638</td><td>147.8067029864578</td><td>161.23851956486192</td><td>10.259438915455062</td><td>175.8440499667323</td><td>210.59725004390125</td><td>11.728150484838793</td><td>201.433045044459</td><td>266.5371445868125</td><td>13.085718196721206</td><td>224.86831476218205</td><td>329.0582031935957</td><td>15.42543204906706</td><td>264.4690747848838</td><td>473.8438125987778</td><td>Field1</td><td>25</td><td>3.8813365995651736</td><td>4.131643577129909</td><td>5.758808078101463</td><td>2.5601633927350247</td><td>2.3252744509393155</td><td>31.634677224017853</td><td>266.10656036481095</td><td>-29.513298245557767</td><td>359.3717999898519</td><td>-0.07919246175478578</td><td>8</td><td>266.10656036481095,-29.513298245557767</td><td>SFGC359.3718-0.0792</td></tr>\n",
       "<tr><td>10</td><td>195.88498598065792</td><td>175.63119523151016</td><td>266.10836716343834,-29.513552977766782</td><td>4.092340589136152</td><td>0.07051896866324736</td><td>6.02471520808594</td><td>0.08817252448681016</td><td>8.221475388039664</td><td>0.10582567559275421</td><td>10.600164439347372</td><td>0.1234863814988411</td><td>13.091827916470272</td><td>0.14116164105776222</td><td>15.639019409813791</td><td>0.15885593041848792</td><td>18.322758279166095</td><td>0.17656799540171245</td><td>23.9713943804549</td><td>0.2120208572027542</td><td>842.3890001756049</td><td>0.021831699647009373</td><td>0.021796981722538505</td><td>0.01115885653641091</td><td>402.0951843261719</td><td>388.2693693306632</td><td>2.942916611775007</td><td>44.3456287084872</td><td>52.649312510975314</td><td>4.22874024345915</td><td>66.42786837204355</td><td>82.26455079839893</td><td>5.635271438977087</td><td>90.87230501657511</td><td>118.46095314969445</td><td>7.080053508678862</td><td>116.02784643576513</td><td>161.23851956486192</td><td>8.494132007025689</td><td>140.54410889521372</td><td>210.59725004390125</td><td>9.820060524422992</td><td>163.3084810126949</td><td>266.5371445868125</td><td>11.138858420658933</td><td>185.92510679440565</td><td>329.0582031935957</td><td>13.626578584204589</td><td>228.2078722424086</td><td>473.8438125987778</td><td>Field1</td><td>25</td><td>4.399420319867685</td><td>4.129253752060204</td><td>5.817145130826486</td><td>2.5229480824927406</td><td>2.416533954881725</td><td>-9.243532865002159</td><td>266.10836716343834</td><td>-29.513552977766782</td><td>359.3724055328523</td><td>-0.08066571941213918</td><td>9</td><td>266.10836716343834,-29.513552977766782</td><td>SFGC359.3724-0.0807</td></tr>\n",
       "<tr><td>...</td><td>...</td><td>...</td><td>...</td><td>...</td><td>...</td><td>...</td><td>...</td><td>...</td><td>...</td><td>...</td><td>...</td><td>...</td><td>...</td><td>...</td><td>...</td><td>...</td><td>...</td><td>...</td><td>...</td><td>...</td><td>...</td><td>...</td><td>...</td><td>...</td><td>...</td><td>...</td><td>...</td><td>...</td><td>...</td><td>...</td><td>...</td><td>...</td><td>...</td><td>...</td><td>...</td><td>...</td><td>...</td><td>...</td><td>...</td><td>...</td><td>...</td><td>...</td><td>...</td><td>...</td><td>...</td><td>...</td><td>...</td><td>...</td><td>...</td><td>...</td><td>...</td><td>...</td><td>...</td><td>...</td><td>...</td><td>...</td><td>...</td><td>...</td><td>...</td><td>...</td><td>...</td><td>...</td><td>...</td><td>...</td></tr>\n",
       "<tr><td>220</td><td>278.725084729135</td><td>196.54735543866084</td><td>266.8317364506376,-28.384434901034908</td><td>0.5106214986166354</td><td>0.09779763474850127</td><td>0.9270610020561146</td><td>0.12223702090729013</td><td>1.677163191118945</td><td>0.14668899385714365</td><td>3.095464492326008</td><td>0.1711348739216448</td><td>5.3437442654212575</td><td>0.1955653032415</td><td>8.717505712339229</td><td>0.21999915017427335</td><td>13.19220297529046</td><td>0.24443854739923065</td><td>24.858646966034783</td><td>0.2933560125519881</td><td>842.3887334238968</td><td>0.0012757254298776388</td><td>0.003963475060454857</td><td>0.012676700053983492</td><td>210.21331787109375</td><td>166.2797951005349</td><td>0.4434554530496804</td><td>1.520060176945182</td><td>52.64929583899354</td><td>0.8221140558577473</td><td>4.094898585927412</td><td>82.26452474842742</td><td>1.5260395885932962</td><td>11.199326311727111</td><td>118.46091563773545</td><td>2.889768477777208</td><td>30.660210727227938</td><td>161.23846850691777</td><td>5.075080083153437</td><td>68.63479746603258</td><td>210.59718335597415</td><td>8.377477606656518</td><td>130.45262549432803</td><td>266.53706018490476</td><td>12.772415190496991</td><td>213.5382769516525</td><td>329.0580989937097</td><td>24.254152555932187</td><td>428.3655930895626</td><td>473.8436625509418</td><td>Field11</td><td>25</td><td>1.9014880607474307</td><td>4.2007174513877255</td><td>5.380068134223495</td><td>2.407812896394863</td><td>2.1545735219953945</td><td>84.23957804738153</td><td>266.8317364506376</td><td>-28.384434901034908</td><td>0.6659714467971487</td><td>-0.03333202386781842</td><td>1093</td><td>266.8317364506376,-28.384434901034908</td><td>SFGC0.6660-0.0333</td></tr>\n",
       "<tr><td>210</td><td>208.95953498566087</td><td>155.5373364980976</td><td>266.84865346450334,-28.393184927558217</td><td>6.706581472815884</td><td>0.0948477888836466</td><td>8.492269547290693</td><td>0.11853007558499708</td><td>9.87670881225267</td><td>0.14218296871783895</td><td>10.953778824300574</td><td>0.16581656432034508</td><td>11.699203932355168</td><td>0.18943638115090636</td><td>12.27303855290368</td><td>0.2130563416067432</td><td>12.663200330681853</td><td>0.23668888823471917</td><td>13.35358498773795</td><td>0.28395242447530133</td><td>842.3887334238968</td><td>0.0001362315786808629</td><td>0.0003579455837748807</td><td>0.008333355441576054</td><td>210.21331787109375</td><td>166.2797951005349</td><td>6.699408976127302</td><td>120.04961894028449</td><td>52.64929583899354</td><td>8.481062521214783</td><td>152.07092064026023</td><td>82.26452474842742</td><td>9.86057069470336</td><td>176.52572909190684</td><td>118.46091563773545</td><td>10.931813053191792</td><td>195.1613213155549</td><td>161.23846850691777</td><td>11.670513945600842</td><td>207.48711650042915</td><td>210.59718335597415</td><td>12.236727788417735</td><td>216.49550754904743</td><td>266.53706018490476</td><td>12.618372226378218</td><td>221.93147505411312</td><td>329.0580989937097</td><td>13.289032517540713</td><td>230.8265747190031</td><td>473.8436625509418</td><td>Field11</td><td>25</td><td>4.174186640849163</td><td>4.214493052006263</td><td>5.264546454906373</td><td>2.32095661175832</td><td>2.1469503368682155</td><td>-28.885237896138218</td><td>266.84865346450334</td><td>-28.393184927558217</td><td>0.6661944152686379</td><td>-0.05059484458524685</td><td>1094</td><td>266.84865346450334,-28.393184927558217</td><td>SFGC0.6662-0.0506</td></tr>\n",
       "<tr><td>110</td><td>266.2416268691667</td><td>194.73304269319817</td><td>266.83476345179474,-28.384822326619847</td><td>22.90677550360284</td><td>0.09700204289323494</td><td>31.68305258340166</td><td>0.12126105288357288</td><td>39.937046182459525</td><td>0.1455185943509852</td><td>47.468201123735625</td><td>0.16977765451127205</td><td>54.31383345335821</td><td>0.19403528082965316</td><td>60.438439396689375</td><td>0.21829032389465372</td><td>65.95588115211342</td><td>0.24254644255216937</td><td>75.63190888145064</td><td>0.2910770408339508</td><td>842.3887334238968</td><td>0.007578010205179453</td><td>0.010685584065476249</td><td>0.014540823541230515</td><td>210.21331787109375</td><td>166.27979510053495</td><td>22.507798602439436</td><td>410.89019289983327</td><td>52.64929583899354</td><td>31.059651175333844</td><td>567.7209965488917</td><td>82.26452474842742</td><td>39.03934815484186</td><td>713.9406808906114</td><td>118.46091563773545</td><td>46.24633436392269</td><td>845.8734730912241</td><td>161.23846850691777</td><td>52.71792584870459</td><td>964.2176226576869</td><td>210.59718335597415</td><td>58.41861883454963</td><td>1068.3163848321697</td><td>266.53706018490476</td><td>63.46227551984214</td><td>1160.268868564177</td><td>329.0580989937097</td><td>72.04111677098</td><td>1316.2621271262803</td><td>473.8436625509418</td><td>Field11</td><td>25</td><td>4.033897965967154</td><td>4.435961618261383</td><td>5.578617217050091</td><td>2.4811647744275893</td><td>2.2512971046515045</td><td>-32.27025532352076</td><td>266.83476345179474</td><td>-28.384822326619847</td><td>0.6670194389053614</td><td>-0.035810697852815855</td><td>1095</td><td>266.83476345179474,-28.384822326619847</td><td>SFGC0.6670-0.0358</td></tr>\n",
       "<tr><td>220</td><td>257.8458129309287</td><td>191.98217995855126</td><td>266.83679924856307,-28.385409390040454</td><td>7.831218083980413</td><td>0.09663932281559154</td><td>12.039294837762943</td><td>0.12079280458491512</td><td>17.170362101950573</td><td>0.14493313859133528</td><td>23.103342792779745</td><td>0.1690685671609626</td><td>29.87505010366449</td><td>0.19319693403986407</td><td>37.247160570108505</td><td>0.2173211885603138</td><td>44.74247705339191</td><td>0.24144591390240652</td><td>59.16917167573483</td><td>0.2897075596548055</td><td>842.3887334238968</td><td>0.006674997874053846</td><td>0.009537585197982089</td><td>0.013830630161611044</td><td>210.21331787109375</td><td>164.69617800433934</td><td>7.4797841461846994</td><td>130.15886775231394</td><td>52.64929583899354</td><td>11.49017930995714</td><td>203.55660035258347</td><td>82.26452474842742</td><td>16.379635741910217</td><td>293.24449466102146</td><td>118.46091563773545</td><td>22.02707635828037</td><td>396.8961049004874</td><td>161.23846850691777</td><td>28.469314352481632</td><td>515.1948767302825</td><td>210.59718335597415</td><td>35.4680262600177</td><td>643.6959871572659</td><td>266.53706018490476</td><td>42.546014942168696</td><td>773.5532922062346</td><td>329.0580989937097</td><td>56.006266235573406</td><td>1020.1754879833634</td><td>473.8436625509418</td><td>Field11</td><td>25</td><td>4.813675949134651</td><td>4.892706705332523</td><td>5.626708221004173</td><td>2.4734462334557703</td><td>2.3023768632074386</td><td>40.74379259674458</td><td>266.83679924856307</td><td>-28.385409390040454</td><td>0.6674449291488092</td><td>-0.037646839412789346</td><td>1096</td><td>266.83679924856307,-28.385409390040454</td><td>SFGC0.6674-0.0376</td></tr>\n",
       "<tr><td>210</td><td>264.1719895309399</td><td>207.37393663089966</td><td>266.8352656877387,-28.382125657893567</td><td>8.599877990304472</td><td>0.09720397067458436</td><td>12.23610267081266</td><td>0.12149223587629947</td><td>16.168707177386214</td><td>0.14578019887300708</td><td>20.46321380383797</td><td>0.17007640085168282</td><td>25.190479198721366</td><td>0.19438243597509655</td><td>30.486644345900153</td><td>0.21869850496640345</td><td>36.31150290576093</td><td>0.2430145392301551</td><td>49.66686194716554</td><td>0.291655360442114</td><td>842.3887334238968</td><td>0.00031553504725336564</td><td>0.0023792168981533576</td><td>0.012099494664958242</td><td>210.21331787109375</td><td>204.25192698803403</td><td>8.583265292254058</td><td>152.7267553537008</td><td>52.64929583899354</td><td>12.210145330108887</td><td>218.84469276773865</td><td>82.26452474842742</td><td>16.131328606772783</td><td>290.3863953503917</td><td>118.46091563773545</td><td>20.41233741605858</td><td>368.59182491415686</td><td>161.23846850691777</td><td>25.124028406519713</td><td>454.77911687471396</td><td>210.59718335597415</td><td>30.40254256201994</td><td>551.4720443853015</td><td>266.53706018490476</td><td>36.207673542945855</td><td>657.9027834354546</td><td>329.0580989937097</td><td>49.51734766471183</td><td>902.1503086337364</td><td>473.8436625509418</td><td>Field11</td><td>25</td><td>3.9368209540964654</td><td>3.3926025052658493</td><td>5.680332315154056</td><td>2.569999301698146</td><td>2.2433604994431504</td><td>-51.080889340472666</td><td>266.8352656877387</td><td>-28.382125657893567</td><td>0.6695550524919627</td><td>-0.03479191000923756</td><td>1097</td><td>266.8352656877387,-28.382125657893567</td><td>SFGC0.6696-0.0348</td></tr>\n",
       "<tr><td>220</td><td>117.57519014829266</td><td>317.37496663753114</td><td>266.89027808605766,-28.40707362062158</td><td>-0.2728613668886084</td><td>0.08239655222088953</td><td>-0.46075169867346655</td><td>0.10309947584205702</td><td>-0.6761747684492552</td><td>0.12423871689887715</td><td>-0.9229775335765011</td><td>0.14530304941037542</td><td>-1.2803650253532366</td><td>0.16632804850524566</td><td>-1.7307127933636917</td><td>0.1876294111464752</td><td>-2.2557474551658037</td><td>0.2091189242941908</td><td>-3.3839228746437016</td><td>0.2524649996935491</td><td>842.3889418276866</td><td>-0.005426027812063694</td><td>-0.006281136635017412</td><td>0.0061739888073390654</td><td>369.5454406738281</td><td>309.96435279641423</td><td>0.012815247294637335</td><td>0.0026528377337871915</td><td>52.6493088642304</td><td>-0.014381989012144951</td><td>-0.0026729444661152137</td><td>82.26454510036002</td><td>-0.03340238653695214</td><td>-0.012013369952862969</td><td>118.46094494451843</td><td>-0.04809290264031069</td><td>-0.021344283595954885</td><td>161.23850839670567</td><td>-0.13765856862025377</td><td>-0.15278049712212896</td><td>210.5972354569216</td><td>-0.28447493406100965</td><td>-0.5774655390547314</td><td>266.5371261251665</td><td>-0.4702686165205172</td><td>-1.4098839539622237</td><td>329.0581804014401</td><td>-0.8128333469944892</td><td>-3.460941947164966</td><td>473.8437797780737</td><td>Field10</td><td>25</td><td>3.254726522828856</td><td>4.621855112475343</td><td>4.185434824716522</td><td>1.9326692649399957</td><td>1.6071787811730187</td><td>-17.478366702042376</td><td>266.89027808605766</td><td>-28.40707362062158</td><td>0.6732679124054091</td><td>-0.0891113253409729</td><td>1098</td><td>266.89027808605766,-28.40707362062158</td><td>SFGC0.6733-0.0891</td></tr>\n",
       "<tr><td>210</td><td>224.738923421542</td><td>216.52912397920156</td><td>266.844827522483,-28.380173252560144</td><td>1.3376062456123412</td><td>0.09638491748955787</td><td>1.6322257933934003</td><td>0.12052463417505625</td><td>1.8029353522822933</td><td>0.1446826364852067</td><td>1.9842869353672288</td><td>0.16885033093149898</td><td>2.0674087607583456</td><td>0.1930131623435467</td><td>1.9695751941359638</td><td>0.21716550877833352</td><td>1.8740236282916234</td><td>0.24132518796216063</td><td>1.6133349837506041</td><td>0.2896476256059694</td><td>842.3887334238968</td><td>-0.00427229143679142</td><td>-0.0049389590400751495</td><td>0.009140840043029393</td><td>210.21331787109375</td><td>200.54643690071777</td><td>1.5625393813783715</td><td>19.53312214808621</td><td>52.64929583899354</td><td>1.9836838180278227</td><td>25.00381597686574</td><td>82.26452474842742</td><td>2.3090349077558616</td><td>28.632342162712714</td><td>118.46091563773545</td><td>2.673144663650697</td><td>33.00759074269286</td><td>161.23846850691777</td><td>2.9671413038224665</td><td>36.047929673423894</td><td>210.59718335597415</td><td>3.108299193951492</td><td>36.2310708013184</td><td>266.53706018490476</td><td>3.2798557268293127</td><td>37.04469328911493</td><td>329.0580989937097</td><td>3.637733205644876</td><td>39.06454730894256</td><td>473.8436625509418</td><td>Field11</td><td>25</td><td>3.658023431874462</td><td>4.516733839909787</td><td>5.077100558744073</td><td>2.342193811504403</td><td>1.9522288961756689</td><td>1.1759024297728788</td><td>266.844827522483</td><td>-28.380173252560144</td><td>0.6755822341452534</td><td>-0.04097705210783284</td><td>1099</td><td>266.844827522483,-28.380173252560144</td><td>SFGC0.6756-0.0410</td></tr>\n",
       "<tr><td>210</td><td>211.00551648539357</td><td>236.23541954792884</td><td>266.8481576173019,-28.375969330393776</td><td>0.3974011895667447</td><td>0.0972116558747485</td><td>0.26625637331171176</td><td>0.12146883370603147</td><td>0.08784375449126296</td><td>0.14571305051528882</td><td>-0.20967826634219816</td><td>0.16995819623319228</td><td>-0.6457740294264347</td><td>0.19420538964712772</td><td>-1.1230324436898522</td><td>0.21845455519689128</td><td>-1.6387773520081435</td><td>0.24269490763359008</td><td>-3.0879514023193737</td><td>0.29117133200431083</td><td>842.3887334238968</td><td>-0.0073116545415272596</td><td>-0.007241978307117914</td><td>0.009290324513192729</td><td>210.21331787109375</td><td>193.9835066301839</td><td>0.782354652596134</td><td>5.976753592781636</td><td>52.64929583899354</td><td>0.8677461592951327</td><td>5.993182921980111</td><td>82.26452474842742</td><td>0.9539890463073889</td><td>6.1060165070134245</td><td>118.46091563773545</td><td>0.9692417141853071</td><td>5.483313959403104</td><td>161.23846850691777</td><td>0.8940398226911227</td><td>4.151348429086747</td><td>210.59718335597415</td><td>0.8257944628964311</td><td>3.1814775368330963</td><td>266.53706018490476</td><td>0.7671817919255406</td><td>2.4877833179450337</td><td>329.0580989937097</td><td>0.37662976494513045</td><td>0.5062479976075963</td><td>473.8436625509418</td><td>Field11</td><td>25</td><td>3.7811553716825004</td><td>4.404905056497992</td><td>3.6027719991755216</td><td>1.7305145736102274</td><td>1.298788852526684</td><td>-19.884488714063984</td><td>266.8481576173019</td><td>-28.375969330393776</td><td>0.6806958392125482</td><td>-0.04130636108154101</td><td>1100</td><td>266.8481576173019,-28.375969330393776</td><td>SFGC0.6807-0.0413</td></tr>\n",
       "<tr><td>210</td><td>164.60659991269637</td><td>267.8769859012071</td><td>266.85940719018134,-28.369218827043525</td><td>6.143698651558155</td><td>0.09670926082181379</td><td>8.643833200311802</td><td>0.12087299551309402</td><td>11.149920132079867</td><td>0.14504317319858034</td><td>13.649090322612116</td><td>0.16921360461601953</td><td>16.23311452242222</td><td>0.193385528637107</td><td>19.10148802967617</td><td>0.2175625689257811</td><td>22.257513991501604</td><td>0.2417467551355262</td><td>28.767385300827957</td><td>0.2901118702422154</td><td>842.3887334238968</td><td>0.0038405917574364733</td><td>0.005243432720020859</td><td>0.009709856709370697</td><td>210.21331787109375</td><td>197.09054213951526</td><td>5.941494199924081</td><td>104.58853374815416</td><td>52.64929583899354</td><td>8.327888744633562</td><td>147.86076424766645</td><td>82.26452474842742</td><td>10.694960115903202</td><td>190.70400061444826</td><td>118.46091563773545</td><td>13.029839189482766</td><td>232.91133711417567</td><td>161.23846850691777</td><td>15.424296715885927</td><td>276.2257754042727</td><td>210.59718335597415</td><td>18.077827993278675</td><td>324.39916884893614</td><td>266.53706018490476</td><td>20.993736168788647</td><td>377.47928848524157</td><td>329.0580989937097</td><td>26.9475452361213</td><td>485.86425990219385</td><td>473.8436625509418</td><td>Field11</td><td>25</td><td>4.52783072687796</td><td>4.718436752206607</td><td>5.513882144316574</td><td>2.399726953245896</td><td>2.2818495744774037</td><td>-71.91302880089405</td><td>266.85940719018134</td><td>-28.369218827043525</td><td>0.69159635074896</td><td>-0.046278598836042184</td><td>1101</td><td>266.85940719018134,-28.369218827043525</td><td>SFGC0.6916-0.0463</td></tr>\n",
       "<tr><td>110</td><td>165.03114629114353</td><td>279.14360760818386</td><td>266.85930404991433,-28.36681528820492</td><td>10.4196353077927</td><td>0.09667680260881166</td><td>13.835154220213177</td><td>0.12086815961300107</td><td>16.89232199469835</td><td>0.1450557889028212</td><td>19.672995464172516</td><td>0.16923869717161594</td><td>22.29070532703905</td><td>0.19341831976726412</td><td>24.829462920137612</td><td>0.21759561776044736</td><td>27.503957362230665</td><td>0.24177239913945173</td><td>32.33019852364456</td><td>0.2900901593866624</td><td>842.3887334238968</td><td>0.003303122124634683</td><td>0.004434968420703835</td><td>0.011050760366692195</td><td>210.21331787109375</td><td>164.69617800433937</td><td>10.245728253860484</td><td>184.74613848059892</td><td>52.64929583899354</td><td>13.563424448444088</td><td>245.0749039364666</td><td>82.26452474842742</td><td>16.501031123350863</td><td>298.2914572935031</td><td>118.46091563773545</td><td>19.140405111505103</td><td>345.93721908239297</td><td>161.23846850691777</td><td>21.595077111310182</td><td>390.13169513250284</td><td>210.59718335597415</td><td>23.94905845960577</td><td>432.4423435744899</td><td>266.53706018490476</td><td>26.417038275154315</td><td>476.88251222212875</td><td>329.0580989937097</td><td>30.765035038254616</td><td>554.7596860969811</td><td>473.8436625509418</td><td>Field11</td><td>25</td><td>3.995895448971777</td><td>3.777963574868394</td><td>5.4277278325887846</td><td>2.339168837451724</td><td>2.270202826510529</td><td>30.95613265375231</td><td>266.85930404991433</td><td>-28.36681528820492</td><td>0.6936056144521696</td><td>-0.044956442540903994</td><td>1102</td><td>266.85930404991433,-28.36681528820492</td><td>SFGC0.6936-0.0450</td></tr>\n",
       "</table></div>"
      ],
      "text/plain": [
       "<Table length=1102>\n",
       " type     xcentroid      ...       SourceID     \n",
       "             pix         ...                    \n",
       "int32      float64       ...        str19       \n",
       "----- ------------------ ... -------------------\n",
       "  210  250.2257166121639 ... SFGC359.3480-0.0820\n",
       "  220  235.8129364732463 ... SFGC359.3485-0.0854\n",
       "  220  332.0378911697175 ... SFGC359.3591-0.0547\n",
       "  220 143.71183323736923 ... SFGC359.3611-0.1007\n",
       "  220   182.758347406182 ... SFGC359.3612-0.0908\n",
       "  110 240.06902269378463 ... SFGC359.3646-0.0744\n",
       "  220 102.50823164462449 ... SFGC359.3713-0.1047\n",
       "  210  203.2553534482713 ... SFGC359.3718-0.0792\n",
       "   10 195.88498598065792 ... SFGC359.3724-0.0807\n",
       "  ...                ... ...                 ...\n",
       "  220   278.725084729135 ...   SFGC0.6660-0.0333\n",
       "  210 208.95953498566087 ...   SFGC0.6662-0.0506\n",
       "  110  266.2416268691667 ...   SFGC0.6670-0.0358\n",
       "  220  257.8458129309287 ...   SFGC0.6674-0.0376\n",
       "  210  264.1719895309399 ...   SFGC0.6696-0.0348\n",
       "  220 117.57519014829266 ...   SFGC0.6733-0.0891\n",
       "  210   224.738923421542 ...   SFGC0.6756-0.0410\n",
       "  210 211.00551648539357 ...   SFGC0.6807-0.0413\n",
       "  210 164.60659991269637 ...   SFGC0.6916-0.0463\n",
       "  110 165.03114629114353 ...   SFGC0.6936-0.0450"
      ]
     },
     "execution_count": 10,
     "metadata": {},
     "output_type": "execute_result"
    }
   ],
   "source": [
    "#create initial master catalog at 25 um\n",
    "mastercat25=CombineFieldResults('CombCat',25)\n",
    "\n",
    "#add names to mastercat\n",
    "mastercat25=createNames(mastercat25)\n",
    "\n",
    "#print the master catalog\n",
    "mastercat25"
   ]
  },
  {
   "cell_type": "code",
   "execution_count": 11,
   "metadata": {},
   "outputs": [],
   "source": [
    "#Optional - write 'master' catalogs to fits prior to quality cuts\n",
    "#mastercat25.write('masterCatComb_FromFields_25um_NoCuts.fits',overwrite=True)"
   ]
  },
  {
   "cell_type": "code",
   "execution_count": 12,
   "metadata": {},
   "outputs": [],
   "source": [
    "#write out save ds9 region files  - Optional for inspection\n",
    "#set size of regions \n",
    "r = Angle(0.00083333, u.deg) #must be in degrees - current value is r=3\"\n",
    "#write out ds9 files\n",
    "makeDS9file('mastercatComb_25um_labelID.reg', mastercat25, r, color='yellow', labelon=True, label=\"id\")\n",
    "makeDS9file('mastercatComb_25um_label4pixSNR.reg', mastercat25, r, color='cyan', labelon=True, label=\"aper_snr_4pix\")"
   ]
  },
  {
   "cell_type": "code",
   "execution_count": 13,
   "metadata": {},
   "outputs": [
    {
     "name": "stdout",
     "output_type": "stream",
     "text": [
      "Number of sources with duplicates included:  1102\n",
      "number of likely duplicates:  193\n"
     ]
    },
    {
     "name": "stderr",
     "output_type": "stream",
     "text": [
      "C:\\Users\\MHANKI~1\\AppData\\Local\\Temp/ipykernel_2404/2402376784.py:15: DeprecationWarning: `np.int` is a deprecated alias for the builtin `int`. To silence this warning, use `int` by itself. Doing this will not modify any behavior and is safe. When replacing `np.int`, you may wish to use e.g. `np.int64` or `np.int32` to specify the precision. If you wish to review your current use, check the release note link for additional information.\n",
      "Deprecated in NumPy 1.20; for more details and guidance: https://numpy.org/devdocs/release/1.20.0-notes.html#deprecations\n",
      "  matchstore=np.zeros(len(cat),dtype=np.int)\n"
     ]
    },
    {
     "name": "stdout",
     "output_type": "stream",
     "text": [
      "Number of sources with duplicates removed:  1000\n"
     ]
    }
   ],
   "source": [
    "#Now lets look at possible duplications that may exist because of overlapping data coverage\n",
    "print('Number of sources with duplicates included: ', len(mastercat25))\n",
    "mastercat25=remove_duplicates(mastercat25, 3.0*u.arcsec)\n",
    "print('Number of sources with duplicates removed: ', len(mastercat25))"
   ]
  },
  {
   "cell_type": "code",
   "execution_count": 14,
   "metadata": {},
   "outputs": [],
   "source": [
    "#write 'master' catalogs to fits - optional for testing\n",
    "#mastercat25.write('masterCat_FromFields_noDuplicates_25um.fits',overwrite=True)"
   ]
  },
  {
   "cell_type": "code",
   "execution_count": 15,
   "metadata": {},
   "outputs": [],
   "source": [
    "#write out save ds9 region files - optional for testing\n",
    "makeDS9file('mastercat_noDuplicates_25um_labelID.reg', mastercat25, r, color='magenta', labelon=True, label=\"id\")"
   ]
  },
  {
   "cell_type": "code",
   "execution_count": 16,
   "metadata": {
    "scrolled": true
   },
   "outputs": [
    {
     "data": {
      "text/html": [
       "<div><i>Table length=1000</i>\n",
       "<table id=\"table2485211043440\" class=\"table-striped table-bordered table-condensed\">\n",
       "<thead><tr><th>type</th><th>xcentroid</th><th>ycentroid</th><th>sky_center</th><th>aperture_sum_4pix</th><th>aperture_sum_err_4pix</th><th>aperture_sum_5pix</th><th>aperture_sum_err_5pix</th><th>aperture_sum_6pix</th><th>aperture_sum_err_6pix</th><th>aperture_sum_7pix</th><th>aperture_sum_err_7pix</th><th>aperture_sum_8pix</th><th>aperture_sum_err_8pix</th><th>aperture_sum_9pix</th><th>aperture_sum_err_9pix</th><th>aperture_sum_10pix</th><th>aperture_sum_err_10pix</th><th>aperture_sum_12pix</th><th>aperture_sum_err_12pix</th><th>pixAnnArea</th><th>ann_bkg_med</th><th>ann_bkg_mean</th><th>ann_bkg_std</th><th>texp_med</th><th>texp_mean</th><th>aper_sum_bkgsub_4pix</th><th>aper_snr_4pix</th><th>aper_area_4pix</th><th>aper_sum_bkgsub_5pix</th><th>aper_snr_5pix</th><th>aper_area_5pix</th><th>aper_sum_bkgsub_6pix</th><th>aper_snr_6pix</th><th>aper_area_6pix</th><th>aper_sum_bkgsub_7pix</th><th>aper_snr_7pix</th><th>aper_area_7pix</th><th>aper_sum_bkgsub_8pix</th><th>aper_snr_8pix</th><th>aper_area_8pix</th><th>aper_sum_bkgsub_9pix</th><th>aper_snr_9pix</th><th>aper_area_9pix</th><th>aper_sum_bkgsub_10pix</th><th>aper_snr_10pix</th><th>aper_area_10pix</th><th>aper_sum_bkgsub_12pix</th><th>aper_snr_12pix</th><th>aper_area_12pix</th><th>Field</th><th>wv</th><th>fit_x_cent</th><th>fit_y_cent</th><th>fwhm</th><th>semimajor_sigma</th><th>semiminor_sigma</th><th>orientation</th><th>RA(J2000)</th><th>DEC(J2000)</th><th>glon</th><th>glat</th><th>id</th><th>sky_centroid</th><th>SourceID</th><th>selfXmatch</th></tr></thead>\n",
       "<thead><tr><th></th><th>pix</th><th>pix</th><th>deg,deg</th><th></th><th></th><th></th><th></th><th></th><th></th><th></th><th></th><th></th><th></th><th></th><th></th><th></th><th></th><th></th><th></th><th></th><th></th><th></th><th></th><th></th><th></th><th></th><th></th><th></th><th></th><th></th><th></th><th></th><th></th><th></th><th></th><th></th><th></th><th></th><th></th><th></th><th></th><th></th><th></th><th></th><th></th><th></th><th></th><th></th><th></th><th></th><th></th><th></th><th></th><th>pix</th><th>pix</th><th>pix</th><th>deg</th><th>deg</th><th>deg</th><th></th><th></th><th></th><th>deg,deg</th><th></th><th></th></tr></thead>\n",
       "<thead><tr><th>int32</th><th>float64</th><th>float64</th><th>object</th><th>float64</th><th>float64</th><th>float64</th><th>float64</th><th>float64</th><th>float64</th><th>float64</th><th>float64</th><th>float64</th><th>float64</th><th>float64</th><th>float64</th><th>float64</th><th>float64</th><th>float64</th><th>float64</th><th>float64</th><th>float64</th><th>float64</th><th>float64</th><th>float64</th><th>float64</th><th>float64</th><th>float64</th><th>float64</th><th>float64</th><th>float64</th><th>float64</th><th>float64</th><th>float64</th><th>float64</th><th>float64</th><th>float64</th><th>float64</th><th>float64</th><th>float64</th><th>float64</th><th>float64</th><th>float64</th><th>float64</th><th>float64</th><th>float64</th><th>float64</th><th>float64</th><th>float64</th><th>float64</th><th>bytes7</th><th>int32</th><th>float64</th><th>float64</th><th>float64</th><th>float64</th><th>float64</th><th>float64</th><th>float64</th><th>float64</th><th>float64</th><th>float64</th><th>int64</th><th>object</th><th>str19</th><th>int32</th></tr></thead>\n",
       "<tr><td>210</td><td>250.2257166121639</td><td>74.97958925726155</td><td>266.0950436382803,-29.535024921422615</td><td>1.845885481333474</td><td>0.08444821973141009</td><td>2.570779911805536</td><td>0.10606378904109745</td><td>3.3183545166879505</td><td>0.12821244534513332</td><td>4.032149019661047</td><td>0.1510148301208088</td><td>4.7177463364214836</td><td>0.1745263053700836</td><td>5.379825919397939</td><td>0.1986665282506168</td><td>5.970770166395662</td><td>0.2231488547385178</td><td>6.850228539319838</td><td>0.27466261002762604</td><td>842.3890001756049</td><td>0.0003803196811617027</td><td>0.0007069918155229804</td><td>0.008085258790582747</td><td>297.2008361816406</td><td>243.62550801180805</td><td>1.825861911585917</td><td>26.004304584073665</td><td>52.649312510975314</td><td>2.539493084074978</td><td>37.64404044341836</td><td>82.26455079839893</td><td>3.2733014847559474</td><td>49.69398640091326</td><td>118.46095314969445</td><td>3.970826837309154</td><td>61.01653405794673</td><td>161.23851956486192</td><td>4.637652057431255</td><td>71.72369419795315</td><td>210.59725004390125</td><td>5.278456597550932</td><td>81.91009451531013</td><td>266.5371445868125</td><td>5.84562285547343</td><td>90.62500844663205</td><td>329.0582031935957</td><td>6.670016411591826</td><td>101.85724497534935</td><td>473.8438125987778</td><td>Field1</td><td>25</td><td>4.251548043528698</td><td>3.8351015095079495</td><td>5.699915199622362</td><td>2.4489997533779095</td><td>2.391723647932382</td><td>-22.59752088875347</td><td>266.0950436382803</td><td>-29.535024921422615</td><td>359.3480412690212</td><td>-0.08202059155827685</td><td>1</td><td>266.0950436382803,-29.535024921422615</td><td>SFGC359.3480-0.0820</td><td>0</td></tr>\n",
       "<tr><td>220</td><td>235.8129364732463</td><td>68.41343072864075</td><td>266.09857748631543,-29.53642593639456</td><td>0.12248755178416385</td><td>0.0810017229680591</td><td>0.09654104310027684</td><td>0.10118385959690923</td><td>0.12597723150436402</td><td>0.12135081937907281</td><td>0.18682210570421204</td><td>0.1413548250945445</td><td>0.2997225801037092</td><td>0.16133376393736912</td><td>0.4128750543170273</td><td>0.18150203578085058</td><td>0.5635759337751979</td><td>0.20189950862451195</td><td>0.984090762340672</td><td>0.2434417230814924</td><td>842.3890001756049</td><td>-3.058263334552386e-07</td><td>0.0006026735039549028</td><td>0.01145437846204429</td><td>332.1656188964844</td><td>279.1724233990169</td><td>0.12250365333036801</td><td>0.13045083693217835</td><td>52.649312510975314</td><td>0.09656620176622084</td><td>0.06491249911784965</td><td>82.26455079839893</td><td>0.1260134599833234</td><td>0.09210382495940947</td><td>118.46095314969445</td><td>0.1868714166894623</td><td>0.17352879238253877</td><td>161.23851956486192</td><td>0.2997869862885259</td><td>0.39028553180576875</td><td>210.59725004390125</td><td>0.4129565683946859</td><td>0.6574612460191204</td><td>266.5371445868125</td><td>0.563676568438974</td><td>1.1003637824290948</td><td>329.0582031935957</td><td>0.9842356762565095</td><td>2.778273238405255</td><td>473.8438125987778</td><td>Field1</td><td>25</td><td>4.937649212924471</td><td>3.967248852323289</td><td>5.103407714444976</td><td>2.2319260053806214</td><td>2.1005169708144433</td><td>-43.614803433234016</td><td>266.09857748631543</td><td>-29.53642593639456</td><td>359.3484561991237</td><td>-0.08537379289071692</td><td>2</td><td>266.09857748631543,-29.53642593639456</td><td>SFGC359.3485-0.0854</td><td>0</td></tr>\n",
       "<tr><td>220</td><td>332.0378911697175</td><td>186.0992347703184</td><td>266.074990866838,-29.511316297914064</td><td>-0.33055025573547464</td><td>0.08518926447601417</td><td>-0.6415576724566089</td><td>0.10660396660725928</td><td>-1.016802157152918</td><td>0.12809624825910496</td><td>-1.4167578397692444</td><td>0.14993304266586524</td><td>-1.8494000648486448</td><td>0.1718384784988304</td><td>-2.3829711652608623</td><td>0.19385759882190795</td><td>-2.9545656075676305</td><td>0.21614793825192943</td><td>-4.172055781100934</td><td>0.2615381067772004</td><td>842.3890001756049</td><td>-0.004808011930435896</td><td>-0.005221058148551382</td><td>0.008222695145551209</td><td>332.1656188964844</td><td>270.7920432755615</td><td>-0.07741173305345746</td><td>-0.0725911678446694</td><td>52.649312510975314</td><td>-0.24602873076595702</td><td>-0.582460402101168</td><td>82.26455079839893</td><td>-0.4472404811183793</td><td>-1.5870204685035671</td><td>118.46095314969445</td><td>-0.6415211140555666</td><td>-2.772524560386144</td><td>161.23851956486192</td><td>-0.8368459741205759</td><td>-4.094009075159183</td><td>210.59725004390125</td><td>-1.1014573941831507</td><td>-6.223612660937095</td><td>266.5371445868125</td><td>-1.3724498408050234</td><td>-8.592549661024446</td><td>329.0582031935957</td><td>-1.8938090769627787</td><td>-13.386060428527184</td><td>473.8438125987778</td><td>Field1</td><td>25</td><td>3.9319163042660277</td><td>3.702914213444441</td><td>4.2815420623009635</td><td>2.331975909293352</td><td>1.0833357458583257</td><td>65.6094493875728</td><td>266.074990866838</td><td>-29.511316297914064</td><td>359.35911187303003</td><td>-0.05474404413196086</td><td>3</td><td>266.074990866838,-29.511316297914064</td><td>SFGC359.3591-0.0547</td><td>0</td></tr>\n",
       "<tr><td>220</td><td>143.71183323736923</td><td>81.48081608443722</td><td>266.1211601335384,-29.53363752123323</td><td>-0.26805860779804835</td><td>0.08259016751290484</td><td>-0.4601479211848661</td><td>0.10363486719082042</td><td>-0.677549807651428</td><td>0.12485717641236446</td><td>-0.9722690104554154</td><td>0.14615046178268135</td><td>-1.2277202195876962</td><td>0.16743213894640888</td><td>-1.476991506751005</td><td>0.18872323134336663</td><td>-1.7906879274254792</td><td>0.21006514198459836</td><td>-2.334383429819403</td><td>0.2543152955694159</td><td>842.3890001756049</td><td>-0.001420538246009862</td><td>-0.0012987690984140779</td><td>0.007405006990219399</td><td>314.6832275390625</td><td>253.18469558900318</td><td>-0.1932682457500824</td><td>-0.4981215438176015</td><td>52.649312510975314</td><td>-0.3432879804849192</td><td>-1.2448436904842208</td><td>82.26455079839893</td><td>-0.5092714930435046</td><td>-2.2599397435753117</td><td>118.46095314969445</td><td>-0.7432235266835195</td><td>-4.059384222290948</td><td>161.23851956486192</td><td>-0.9285587713958323</td><td>-5.497193861147719</td><td>210.59725004390125</td><td>-1.0983652988831776</td><td>-6.799861121256891</td><td>266.5371445868125</td><td>-1.323248164625692</td><td>-8.79526855314401</td><td>329.0582031935957</td><td>-1.6612701713877096</td><td>-11.481498523656105</td><td>473.8438125987778</td><td>Field1</td><td>25</td><td>4.336657858241436</td><td>4.127061327459961</td><td>3.891748711780299</td><td>1.9417544632835333</td><td>1.3008647403793636</td><td>11.531411653310645</td><td>266.1211601335384</td><td>-29.53363752123323</td><td>359.36111184895236</td><td>-0.10065971231519708</td><td>4</td><td>266.1211601335384,-29.53363752123323</td><td>SFGC359.3611-0.1007</td><td>0</td></tr>\n",
       "<tr><td>220</td><td>182.758347406182</td><td>106.1251404267687</td><td>266.1115859353716,-29.528380832044668</td><td>-0.17335990779034474</td><td>0.07297136589909349</td><td>-0.29940470057316276</td><td>0.09121239663990478</td><td>-0.40767192360703963</td><td>0.1094589236303597</td><td>-0.5503594617261074</td><td>0.1276936864157044</td><td>-0.6925923407112138</td><td>0.14591774604053953</td><td>-0.8807266148692348</td><td>0.16414293958639922</td><td>-1.028605311344628</td><td>0.18237042733957592</td><td>-1.3146083291459068</td><td>0.2188321061853396</td><td>842.3890001756049</td><td>-0.001137502840720117</td><td>-0.0013887409060443854</td><td>0.007398202084225398</td><td>402.0951843261719</td><td>386.29192740395695</td><td>-0.11347116524714912</td><td>-0.17298032266643035</td><td>52.649312510975314</td><td>-0.2058285403494196</td><td>-0.4536094072218465</td><td>82.26455079839893</td><td>-0.27292225288484945</td><td>-0.6635583281037148</td><td>118.46095314969445</td><td>-0.36695018768757076</td><td>-1.0252411015964689</td><td>161.23851956486192</td><td>-0.45303737053843135</td><td>-1.364746436115004</td><td>210.59725004390125</td><td>-0.577539855744307</td><td>-1.9640174942172057</td><td>266.5371445868125</td><td>-0.6543006704496555</td><td>-2.2671720514438616</td><td>329.0582031935957</td><td>-0.7756096462571462</td><td>-2.655959906263434</td><td>473.8438125987778</td><td>Field1</td><td>25</td><td>5.208895998153588</td><td>4.031813793376304</td><td>4.397677855119589</td><td>2.0061377148143165</td><td>1.7177564113682613</td><td>-39.480483848500405</td><td>266.1115859353716</td><td>-29.528380832044668</td><td>359.36123411023965</td><td>-0.09081017006126405</td><td>5</td><td>266.1115859353716,-29.528380832044668</td><td>SFGC359.3612-0.0908</td><td>0</td></tr>\n",
       "<tr><td>110</td><td>240.06902269378463</td><td>159.6150504479975</td><td>266.0975354664297,-29.516969533557337</td><td>2.122277669552102</td><td>0.07214300899424243</td><td>2.9652466416404657</td><td>0.09019854273015905</td><td>3.896604336957404</td><td>0.1082467254955461</td><td>4.791945790745727</td><td>0.12629954734099766</td><td>5.642315188384211</td><td>0.14437124125112638</td><td>6.380732471003727</td><td>0.16244924649198145</td><td>7.054092824774515</td><td>0.1805167735492355</td><td>8.433236851335401</td><td>0.21662932470145055</td><td>842.3890001756049</td><td>0.0033064186573028564</td><td>0.004411929046485698</td><td>0.006441341872653046</td><td>402.0951843261719</td><td>379.0730218559811</td><td>1.948197000371645</td><td>30.58405770383792</td><td>52.649312510975314</td><td>2.6932455960460007</td><td>43.36509924939293</td><td>82.26455079839893</td><td>3.5049228313013745</td><td>57.444941958777115</td><td>118.46095314969445</td><td>4.258823741380576</td><td>70.36761286424448</td><td>161.23851956486192</td><td>4.945992511662381</td><td>81.97092344250261</td><td>210.59725004390125</td><td>5.4994490832776615</td><td>90.9417926688502</td><td>266.5371445868125</td><td>5.966088642396656</td><td>98.2001422910476</td><td>329.0582031935957</td><td>6.866510828711284</td><td>112.05665063171811</td><td>473.8438125987778</td><td>Field1</td><td>25</td><td>3.7820117593921774</td><td>4.125459399593205</td><td>5.64776514266094</td><td>2.4470187294708152</td><td>2.3487445231462845</td><td>37.172720341427215</td><td>266.0975354664297</td><td>-29.516969533557337</td><td>359.36456208068563</td><td>-0.0744204929242794</td><td>6</td><td>266.0975354664297,-29.516969533557337</td><td>SFGC359.3646-0.0744</td><td>0</td></tr>\n",
       "<tr><td>220</td><td>102.50823164462449</td><td>112.20001312772604</td><td>266.13126126892774,-29.52708254199562</td><td>-0.3500584492197678</td><td>0.08159685341977675</td><td>-0.6284013350652002</td><td>0.10226439060779757</td><td>-0.8677158556888056</td><td>0.12389381186512033</td><td>-1.1568064279862913</td><td>0.14667013843710847</td><td>-1.528747311194563</td><td>0.17024046437318746</td><td>-1.8799832409696962</td><td>0.19453662439977332</td><td>-2.318643346268034</td><td>0.21939398876142627</td><td>-3.2106009100174946</td><td>0.27079867531770613</td><td>842.3890001756049</td><td>-0.003036289243027568</td><td>-0.003033703830721038</td><td>0.0077804925876531</td><td>314.6832275390625</td><td>248.91609958933972</td><td>-0.19019990798989672</td><td>-0.4597033752298063</td><td>52.649312510975314</td><td>-0.37862236439352664</td><td>-1.4383665530786116</td><td>82.26455079839893</td><td>-0.5080341379215957</td><td>-2.1466101832591393</td><td>118.46095314969445</td><td>-0.667239645469811</td><td>-3.1516615050093804</td><td>161.23851956486192</td><td>-0.8893131462750786</td><td>-4.84163958671418</td><td>210.59725004390125</td><td>-1.070699375993474</td><td>-6.1989211972319165</td><td>266.5371445868125</td><td>-1.3195274635813397</td><td>-8.378341439462991</td><td>329.0582031935957</td><td>-1.7718740389486547</td><td>-12.40423613156754</td><td>473.8438125987778</td><td>Field1</td><td>25</td><td>4.016933258765454</td><td>3.3501422952828808</td><td>4.864081457270268</td><td>2.710610346147587</td><td>1.0889793712689586</td><td>31.932891819884073</td><td>266.13126126892774</td><td>-29.52708254199562</td><td>359.3712957340333</td><td>-0.10472199051023623</td><td>7</td><td>266.13126126892774,-29.52708254199562</td><td>SFGC359.3713-0.1047</td><td>0</td></tr>\n",
       "<tr><td>210</td><td>203.2553534482713</td><td>176.8253650567436</td><td>266.10656036481095,-29.513298245557767</td><td>4.931100318600685</td><td>0.0709130787550331</td><td>7.060371802342063</td><td>0.08861751202371553</td><td>9.357028741223042</td><td>0.10631455776451869</td><td>11.784184196176518</td><td>0.123999540325287</td><td>14.333606766896539</td><td>0.14167986423296997</td><td>16.884519171819413</td><td>0.15937804951306456</td><td>19.451605464598515</td><td>0.17708905845574938</td><td>24.592309714810384</td><td>0.21255571812650673</td><td>842.3890001756049</td><td>0.019345778971910477</td><td>0.01981437917559348</td><td>0.010796562672416753</td><td>402.0951843261719</td><td>382.59610365002453</td><td>3.912558355740316</td><td>64.11279495826575</td><td>52.649312510975314</td><td>5.468899985372735</td><td>91.51919026188239</td><td>82.26455079839893</td><td>7.0653093247872105</td><td>119.65003753122998</td><td>118.46095314969445</td><td>8.664899434916638</td><td>147.8067029864578</td><td>161.23851956486192</td><td>10.259438915455062</td><td>175.8440499667323</td><td>210.59725004390125</td><td>11.728150484838793</td><td>201.433045044459</td><td>266.5371445868125</td><td>13.085718196721206</td><td>224.86831476218205</td><td>329.0582031935957</td><td>15.42543204906706</td><td>264.4690747848838</td><td>473.8438125987778</td><td>Field1</td><td>25</td><td>3.8813365995651736</td><td>4.131643577129909</td><td>5.758808078101463</td><td>2.5601633927350247</td><td>2.3252744509393155</td><td>31.634677224017853</td><td>266.10656036481095</td><td>-29.513298245557767</td><td>359.3717999898519</td><td>-0.07919246175478578</td><td>8</td><td>266.10656036481095,-29.513298245557767</td><td>SFGC359.3718-0.0792</td><td>0</td></tr>\n",
       "<tr><td>10</td><td>195.88498598065792</td><td>175.63119523151016</td><td>266.10836716343834,-29.513552977766782</td><td>4.092340589136152</td><td>0.07051896866324736</td><td>6.02471520808594</td><td>0.08817252448681016</td><td>8.221475388039664</td><td>0.10582567559275421</td><td>10.600164439347372</td><td>0.1234863814988411</td><td>13.091827916470272</td><td>0.14116164105776222</td><td>15.639019409813791</td><td>0.15885593041848792</td><td>18.322758279166095</td><td>0.17656799540171245</td><td>23.9713943804549</td><td>0.2120208572027542</td><td>842.3890001756049</td><td>0.021831699647009373</td><td>0.021796981722538505</td><td>0.01115885653641091</td><td>402.0951843261719</td><td>388.2693693306632</td><td>2.942916611775007</td><td>44.3456287084872</td><td>52.649312510975314</td><td>4.22874024345915</td><td>66.42786837204355</td><td>82.26455079839893</td><td>5.635271438977087</td><td>90.87230501657511</td><td>118.46095314969445</td><td>7.080053508678862</td><td>116.02784643576513</td><td>161.23851956486192</td><td>8.494132007025689</td><td>140.54410889521372</td><td>210.59725004390125</td><td>9.820060524422992</td><td>163.3084810126949</td><td>266.5371445868125</td><td>11.138858420658933</td><td>185.92510679440565</td><td>329.0582031935957</td><td>13.626578584204589</td><td>228.2078722424086</td><td>473.8438125987778</td><td>Field1</td><td>25</td><td>4.399420319867685</td><td>4.129253752060204</td><td>5.817145130826486</td><td>2.5229480824927406</td><td>2.416533954881725</td><td>-9.243532865002159</td><td>266.10836716343834</td><td>-29.513552977766782</td><td>359.3724055328523</td><td>-0.08066571941213918</td><td>9</td><td>266.10836716343834,-29.513552977766782</td><td>SFGC359.3724-0.0807</td><td>0</td></tr>\n",
       "<tr><td>...</td><td>...</td><td>...</td><td>...</td><td>...</td><td>...</td><td>...</td><td>...</td><td>...</td><td>...</td><td>...</td><td>...</td><td>...</td><td>...</td><td>...</td><td>...</td><td>...</td><td>...</td><td>...</td><td>...</td><td>...</td><td>...</td><td>...</td><td>...</td><td>...</td><td>...</td><td>...</td><td>...</td><td>...</td><td>...</td><td>...</td><td>...</td><td>...</td><td>...</td><td>...</td><td>...</td><td>...</td><td>...</td><td>...</td><td>...</td><td>...</td><td>...</td><td>...</td><td>...</td><td>...</td><td>...</td><td>...</td><td>...</td><td>...</td><td>...</td><td>...</td><td>...</td><td>...</td><td>...</td><td>...</td><td>...</td><td>...</td><td>...</td><td>...</td><td>...</td><td>...</td><td>...</td><td>...</td><td>...</td><td>...</td><td>...</td></tr>\n",
       "<tr><td>220</td><td>278.725084729135</td><td>196.54735543866084</td><td>266.8317364506376,-28.384434901034908</td><td>0.5106214986166354</td><td>0.09779763474850127</td><td>0.9270610020561146</td><td>0.12223702090729013</td><td>1.677163191118945</td><td>0.14668899385714365</td><td>3.095464492326008</td><td>0.1711348739216448</td><td>5.3437442654212575</td><td>0.1955653032415</td><td>8.717505712339229</td><td>0.21999915017427335</td><td>13.19220297529046</td><td>0.24443854739923065</td><td>24.858646966034783</td><td>0.2933560125519881</td><td>842.3887334238968</td><td>0.0012757254298776388</td><td>0.003963475060454857</td><td>0.012676700053983492</td><td>210.21331787109375</td><td>166.2797951005349</td><td>0.4434554530496804</td><td>1.520060176945182</td><td>52.64929583899354</td><td>0.8221140558577473</td><td>4.094898585927412</td><td>82.26452474842742</td><td>1.5260395885932962</td><td>11.199326311727111</td><td>118.46091563773545</td><td>2.889768477777208</td><td>30.660210727227938</td><td>161.23846850691777</td><td>5.075080083153437</td><td>68.63479746603258</td><td>210.59718335597415</td><td>8.377477606656518</td><td>130.45262549432803</td><td>266.53706018490476</td><td>12.772415190496991</td><td>213.5382769516525</td><td>329.0580989937097</td><td>24.254152555932187</td><td>428.3655930895626</td><td>473.8436625509418</td><td>Field11</td><td>25</td><td>1.9014880607474307</td><td>4.2007174513877255</td><td>5.380068134223495</td><td>2.407812896394863</td><td>2.1545735219953945</td><td>84.23957804738153</td><td>266.8317364506376</td><td>-28.384434901034908</td><td>0.6659714467971487</td><td>-0.03333202386781842</td><td>1093</td><td>266.8317364506376,-28.384434901034908</td><td>SFGC0.6660-0.0333</td><td>0</td></tr>\n",
       "<tr><td>210</td><td>208.95953498566087</td><td>155.5373364980976</td><td>266.84865346450334,-28.393184927558217</td><td>6.706581472815884</td><td>0.0948477888836466</td><td>8.492269547290693</td><td>0.11853007558499708</td><td>9.87670881225267</td><td>0.14218296871783895</td><td>10.953778824300574</td><td>0.16581656432034508</td><td>11.699203932355168</td><td>0.18943638115090636</td><td>12.27303855290368</td><td>0.2130563416067432</td><td>12.663200330681853</td><td>0.23668888823471917</td><td>13.35358498773795</td><td>0.28395242447530133</td><td>842.3887334238968</td><td>0.0001362315786808629</td><td>0.0003579455837748807</td><td>0.008333355441576054</td><td>210.21331787109375</td><td>166.2797951005349</td><td>6.699408976127302</td><td>120.04961894028449</td><td>52.64929583899354</td><td>8.481062521214783</td><td>152.07092064026023</td><td>82.26452474842742</td><td>9.86057069470336</td><td>176.52572909190684</td><td>118.46091563773545</td><td>10.931813053191792</td><td>195.1613213155549</td><td>161.23846850691777</td><td>11.670513945600842</td><td>207.48711650042915</td><td>210.59718335597415</td><td>12.236727788417735</td><td>216.49550754904743</td><td>266.53706018490476</td><td>12.618372226378218</td><td>221.93147505411312</td><td>329.0580989937097</td><td>13.289032517540713</td><td>230.8265747190031</td><td>473.8436625509418</td><td>Field11</td><td>25</td><td>4.174186640849163</td><td>4.214493052006263</td><td>5.264546454906373</td><td>2.32095661175832</td><td>2.1469503368682155</td><td>-28.885237896138218</td><td>266.84865346450334</td><td>-28.393184927558217</td><td>0.6661944152686379</td><td>-0.05059484458524685</td><td>1094</td><td>266.84865346450334,-28.393184927558217</td><td>SFGC0.6662-0.0506</td><td>0</td></tr>\n",
       "<tr><td>110</td><td>266.2416268691667</td><td>194.73304269319817</td><td>266.83476345179474,-28.384822326619847</td><td>22.90677550360284</td><td>0.09700204289323494</td><td>31.68305258340166</td><td>0.12126105288357288</td><td>39.937046182459525</td><td>0.1455185943509852</td><td>47.468201123735625</td><td>0.16977765451127205</td><td>54.31383345335821</td><td>0.19403528082965316</td><td>60.438439396689375</td><td>0.21829032389465372</td><td>65.95588115211342</td><td>0.24254644255216937</td><td>75.63190888145064</td><td>0.2910770408339508</td><td>842.3887334238968</td><td>0.007578010205179453</td><td>0.010685584065476249</td><td>0.014540823541230515</td><td>210.21331787109375</td><td>166.27979510053495</td><td>22.507798602439436</td><td>410.89019289983327</td><td>52.64929583899354</td><td>31.059651175333844</td><td>567.7209965488917</td><td>82.26452474842742</td><td>39.03934815484186</td><td>713.9406808906114</td><td>118.46091563773545</td><td>46.24633436392269</td><td>845.8734730912241</td><td>161.23846850691777</td><td>52.71792584870459</td><td>964.2176226576869</td><td>210.59718335597415</td><td>58.41861883454963</td><td>1068.3163848321697</td><td>266.53706018490476</td><td>63.46227551984214</td><td>1160.268868564177</td><td>329.0580989937097</td><td>72.04111677098</td><td>1316.2621271262803</td><td>473.8436625509418</td><td>Field11</td><td>25</td><td>4.033897965967154</td><td>4.435961618261383</td><td>5.578617217050091</td><td>2.4811647744275893</td><td>2.2512971046515045</td><td>-32.27025532352076</td><td>266.83476345179474</td><td>-28.384822326619847</td><td>0.6670194389053614</td><td>-0.035810697852815855</td><td>1095</td><td>266.83476345179474,-28.384822326619847</td><td>SFGC0.6670-0.0358</td><td>0</td></tr>\n",
       "<tr><td>220</td><td>257.8458129309287</td><td>191.98217995855126</td><td>266.83679924856307,-28.385409390040454</td><td>7.831218083980413</td><td>0.09663932281559154</td><td>12.039294837762943</td><td>0.12079280458491512</td><td>17.170362101950573</td><td>0.14493313859133528</td><td>23.103342792779745</td><td>0.1690685671609626</td><td>29.87505010366449</td><td>0.19319693403986407</td><td>37.247160570108505</td><td>0.2173211885603138</td><td>44.74247705339191</td><td>0.24144591390240652</td><td>59.16917167573483</td><td>0.2897075596548055</td><td>842.3887334238968</td><td>0.006674997874053846</td><td>0.009537585197982089</td><td>0.013830630161611044</td><td>210.21331787109375</td><td>164.69617800433934</td><td>7.4797841461846994</td><td>130.15886775231394</td><td>52.64929583899354</td><td>11.49017930995714</td><td>203.55660035258347</td><td>82.26452474842742</td><td>16.379635741910217</td><td>293.24449466102146</td><td>118.46091563773545</td><td>22.02707635828037</td><td>396.8961049004874</td><td>161.23846850691777</td><td>28.469314352481632</td><td>515.1948767302825</td><td>210.59718335597415</td><td>35.4680262600177</td><td>643.6959871572659</td><td>266.53706018490476</td><td>42.546014942168696</td><td>773.5532922062346</td><td>329.0580989937097</td><td>56.006266235573406</td><td>1020.1754879833634</td><td>473.8436625509418</td><td>Field11</td><td>25</td><td>4.813675949134651</td><td>4.892706705332523</td><td>5.626708221004173</td><td>2.4734462334557703</td><td>2.3023768632074386</td><td>40.74379259674458</td><td>266.83679924856307</td><td>-28.385409390040454</td><td>0.6674449291488092</td><td>-0.037646839412789346</td><td>1096</td><td>266.83679924856307,-28.385409390040454</td><td>SFGC0.6674-0.0376</td><td>0</td></tr>\n",
       "<tr><td>210</td><td>264.1719895309399</td><td>207.37393663089966</td><td>266.8352656877387,-28.382125657893567</td><td>8.599877990304472</td><td>0.09720397067458436</td><td>12.23610267081266</td><td>0.12149223587629947</td><td>16.168707177386214</td><td>0.14578019887300708</td><td>20.46321380383797</td><td>0.17007640085168282</td><td>25.190479198721366</td><td>0.19438243597509655</td><td>30.486644345900153</td><td>0.21869850496640345</td><td>36.31150290576093</td><td>0.2430145392301551</td><td>49.66686194716554</td><td>0.291655360442114</td><td>842.3887334238968</td><td>0.00031553504725336564</td><td>0.0023792168981533576</td><td>0.012099494664958242</td><td>210.21331787109375</td><td>204.25192698803403</td><td>8.583265292254058</td><td>152.7267553537008</td><td>52.64929583899354</td><td>12.210145330108887</td><td>218.84469276773865</td><td>82.26452474842742</td><td>16.131328606772783</td><td>290.3863953503917</td><td>118.46091563773545</td><td>20.41233741605858</td><td>368.59182491415686</td><td>161.23846850691777</td><td>25.124028406519713</td><td>454.77911687471396</td><td>210.59718335597415</td><td>30.40254256201994</td><td>551.4720443853015</td><td>266.53706018490476</td><td>36.207673542945855</td><td>657.9027834354546</td><td>329.0580989937097</td><td>49.51734766471183</td><td>902.1503086337364</td><td>473.8436625509418</td><td>Field11</td><td>25</td><td>3.9368209540964654</td><td>3.3926025052658493</td><td>5.680332315154056</td><td>2.569999301698146</td><td>2.2433604994431504</td><td>-51.080889340472666</td><td>266.8352656877387</td><td>-28.382125657893567</td><td>0.6695550524919627</td><td>-0.03479191000923756</td><td>1097</td><td>266.8352656877387,-28.382125657893567</td><td>SFGC0.6696-0.0348</td><td>0</td></tr>\n",
       "<tr><td>220</td><td>117.57519014829266</td><td>317.37496663753114</td><td>266.89027808605766,-28.40707362062158</td><td>-0.2728613668886084</td><td>0.08239655222088953</td><td>-0.46075169867346655</td><td>0.10309947584205702</td><td>-0.6761747684492552</td><td>0.12423871689887715</td><td>-0.9229775335765011</td><td>0.14530304941037542</td><td>-1.2803650253532366</td><td>0.16632804850524566</td><td>-1.7307127933636917</td><td>0.1876294111464752</td><td>-2.2557474551658037</td><td>0.2091189242941908</td><td>-3.3839228746437016</td><td>0.2524649996935491</td><td>842.3889418276866</td><td>-0.005426027812063694</td><td>-0.006281136635017412</td><td>0.0061739888073390654</td><td>369.5454406738281</td><td>309.96435279641423</td><td>0.012815247294637335</td><td>0.0026528377337871915</td><td>52.6493088642304</td><td>-0.014381989012144951</td><td>-0.0026729444661152137</td><td>82.26454510036002</td><td>-0.03340238653695214</td><td>-0.012013369952862969</td><td>118.46094494451843</td><td>-0.04809290264031069</td><td>-0.021344283595954885</td><td>161.23850839670567</td><td>-0.13765856862025377</td><td>-0.15278049712212896</td><td>210.5972354569216</td><td>-0.28447493406100965</td><td>-0.5774655390547314</td><td>266.5371261251665</td><td>-0.4702686165205172</td><td>-1.4098839539622237</td><td>329.0581804014401</td><td>-0.8128333469944892</td><td>-3.460941947164966</td><td>473.8437797780737</td><td>Field10</td><td>25</td><td>3.254726522828856</td><td>4.621855112475343</td><td>4.185434824716522</td><td>1.9326692649399957</td><td>1.6071787811730187</td><td>-17.478366702042376</td><td>266.89027808605766</td><td>-28.40707362062158</td><td>0.6732679124054091</td><td>-0.0891113253409729</td><td>1098</td><td>266.89027808605766,-28.40707362062158</td><td>SFGC0.6733-0.0891</td><td>0</td></tr>\n",
       "<tr><td>210</td><td>224.738923421542</td><td>216.52912397920156</td><td>266.844827522483,-28.380173252560144</td><td>1.3376062456123412</td><td>0.09638491748955787</td><td>1.6322257933934003</td><td>0.12052463417505625</td><td>1.8029353522822933</td><td>0.1446826364852067</td><td>1.9842869353672288</td><td>0.16885033093149898</td><td>2.0674087607583456</td><td>0.1930131623435467</td><td>1.9695751941359638</td><td>0.21716550877833352</td><td>1.8740236282916234</td><td>0.24132518796216063</td><td>1.6133349837506041</td><td>0.2896476256059694</td><td>842.3887334238968</td><td>-0.00427229143679142</td><td>-0.0049389590400751495</td><td>0.009140840043029393</td><td>210.21331787109375</td><td>200.54643690071777</td><td>1.5625393813783715</td><td>19.53312214808621</td><td>52.64929583899354</td><td>1.9836838180278227</td><td>25.00381597686574</td><td>82.26452474842742</td><td>2.3090349077558616</td><td>28.632342162712714</td><td>118.46091563773545</td><td>2.673144663650697</td><td>33.00759074269286</td><td>161.23846850691777</td><td>2.9671413038224665</td><td>36.047929673423894</td><td>210.59718335597415</td><td>3.108299193951492</td><td>36.2310708013184</td><td>266.53706018490476</td><td>3.2798557268293127</td><td>37.04469328911493</td><td>329.0580989937097</td><td>3.637733205644876</td><td>39.06454730894256</td><td>473.8436625509418</td><td>Field11</td><td>25</td><td>3.658023431874462</td><td>4.516733839909787</td><td>5.077100558744073</td><td>2.342193811504403</td><td>1.9522288961756689</td><td>1.1759024297728788</td><td>266.844827522483</td><td>-28.380173252560144</td><td>0.6755822341452534</td><td>-0.04097705210783284</td><td>1099</td><td>266.844827522483,-28.380173252560144</td><td>SFGC0.6756-0.0410</td><td>0</td></tr>\n",
       "<tr><td>210</td><td>211.00551648539357</td><td>236.23541954792884</td><td>266.8481576173019,-28.375969330393776</td><td>0.3974011895667447</td><td>0.0972116558747485</td><td>0.26625637331171176</td><td>0.12146883370603147</td><td>0.08784375449126296</td><td>0.14571305051528882</td><td>-0.20967826634219816</td><td>0.16995819623319228</td><td>-0.6457740294264347</td><td>0.19420538964712772</td><td>-1.1230324436898522</td><td>0.21845455519689128</td><td>-1.6387773520081435</td><td>0.24269490763359008</td><td>-3.0879514023193737</td><td>0.29117133200431083</td><td>842.3887334238968</td><td>-0.0073116545415272596</td><td>-0.007241978307117914</td><td>0.009290324513192729</td><td>210.21331787109375</td><td>193.9835066301839</td><td>0.782354652596134</td><td>5.976753592781636</td><td>52.64929583899354</td><td>0.8677461592951327</td><td>5.993182921980111</td><td>82.26452474842742</td><td>0.9539890463073889</td><td>6.1060165070134245</td><td>118.46091563773545</td><td>0.9692417141853071</td><td>5.483313959403104</td><td>161.23846850691777</td><td>0.8940398226911227</td><td>4.151348429086747</td><td>210.59718335597415</td><td>0.8257944628964311</td><td>3.1814775368330963</td><td>266.53706018490476</td><td>0.7671817919255406</td><td>2.4877833179450337</td><td>329.0580989937097</td><td>0.37662976494513045</td><td>0.5062479976075963</td><td>473.8436625509418</td><td>Field11</td><td>25</td><td>3.7811553716825004</td><td>4.404905056497992</td><td>3.6027719991755216</td><td>1.7305145736102274</td><td>1.298788852526684</td><td>-19.884488714063984</td><td>266.8481576173019</td><td>-28.375969330393776</td><td>0.6806958392125482</td><td>-0.04130636108154101</td><td>1100</td><td>266.8481576173019,-28.375969330393776</td><td>SFGC0.6807-0.0413</td><td>0</td></tr>\n",
       "<tr><td>210</td><td>164.60659991269637</td><td>267.8769859012071</td><td>266.85940719018134,-28.369218827043525</td><td>6.143698651558155</td><td>0.09670926082181379</td><td>8.643833200311802</td><td>0.12087299551309402</td><td>11.149920132079867</td><td>0.14504317319858034</td><td>13.649090322612116</td><td>0.16921360461601953</td><td>16.23311452242222</td><td>0.193385528637107</td><td>19.10148802967617</td><td>0.2175625689257811</td><td>22.257513991501604</td><td>0.2417467551355262</td><td>28.767385300827957</td><td>0.2901118702422154</td><td>842.3887334238968</td><td>0.0038405917574364733</td><td>0.005243432720020859</td><td>0.009709856709370697</td><td>210.21331787109375</td><td>197.09054213951526</td><td>5.941494199924081</td><td>104.58853374815416</td><td>52.64929583899354</td><td>8.327888744633562</td><td>147.86076424766645</td><td>82.26452474842742</td><td>10.694960115903202</td><td>190.70400061444826</td><td>118.46091563773545</td><td>13.029839189482766</td><td>232.91133711417567</td><td>161.23846850691777</td><td>15.424296715885927</td><td>276.2257754042727</td><td>210.59718335597415</td><td>18.077827993278675</td><td>324.39916884893614</td><td>266.53706018490476</td><td>20.993736168788647</td><td>377.47928848524157</td><td>329.0580989937097</td><td>26.9475452361213</td><td>485.86425990219385</td><td>473.8436625509418</td><td>Field11</td><td>25</td><td>4.52783072687796</td><td>4.718436752206607</td><td>5.513882144316574</td><td>2.399726953245896</td><td>2.2818495744774037</td><td>-71.91302880089405</td><td>266.85940719018134</td><td>-28.369218827043525</td><td>0.69159635074896</td><td>-0.046278598836042184</td><td>1101</td><td>266.85940719018134,-28.369218827043525</td><td>SFGC0.6916-0.0463</td><td>0</td></tr>\n",
       "<tr><td>110</td><td>165.03114629114353</td><td>279.14360760818386</td><td>266.85930404991433,-28.36681528820492</td><td>10.4196353077927</td><td>0.09667680260881166</td><td>13.835154220213177</td><td>0.12086815961300107</td><td>16.89232199469835</td><td>0.1450557889028212</td><td>19.672995464172516</td><td>0.16923869717161594</td><td>22.29070532703905</td><td>0.19341831976726412</td><td>24.829462920137612</td><td>0.21759561776044736</td><td>27.503957362230665</td><td>0.24177239913945173</td><td>32.33019852364456</td><td>0.2900901593866624</td><td>842.3887334238968</td><td>0.003303122124634683</td><td>0.004434968420703835</td><td>0.011050760366692195</td><td>210.21331787109375</td><td>164.69617800433937</td><td>10.245728253860484</td><td>184.74613848059892</td><td>52.64929583899354</td><td>13.563424448444088</td><td>245.0749039364666</td><td>82.26452474842742</td><td>16.501031123350863</td><td>298.2914572935031</td><td>118.46091563773545</td><td>19.140405111505103</td><td>345.93721908239297</td><td>161.23846850691777</td><td>21.595077111310182</td><td>390.13169513250284</td><td>210.59718335597415</td><td>23.94905845960577</td><td>432.4423435744899</td><td>266.53706018490476</td><td>26.417038275154315</td><td>476.88251222212875</td><td>329.0580989937097</td><td>30.765035038254616</td><td>554.7596860969811</td><td>473.8436625509418</td><td>Field11</td><td>25</td><td>3.995895448971777</td><td>3.777963574868394</td><td>5.4277278325887846</td><td>2.339168837451724</td><td>2.270202826510529</td><td>30.95613265375231</td><td>266.85930404991433</td><td>-28.36681528820492</td><td>0.6936056144521696</td><td>-0.044956442540903994</td><td>1102</td><td>266.85930404991433,-28.36681528820492</td><td>SFGC0.6936-0.0450</td><td>0</td></tr>\n",
       "</table></div>"
      ],
      "text/plain": [
       "<Table length=1000>\n",
       " type     xcentroid          ycentroid      ...       SourceID      selfXmatch\n",
       "             pix                pix         ...                               \n",
       "int32      float64            float64       ...        str19          int32   \n",
       "----- ------------------ ------------------ ... ------------------- ----------\n",
       "  210  250.2257166121639  74.97958925726155 ... SFGC359.3480-0.0820          0\n",
       "  220  235.8129364732463  68.41343072864075 ... SFGC359.3485-0.0854          0\n",
       "  220  332.0378911697175  186.0992347703184 ... SFGC359.3591-0.0547          0\n",
       "  220 143.71183323736923  81.48081608443722 ... SFGC359.3611-0.1007          0\n",
       "  220   182.758347406182  106.1251404267687 ... SFGC359.3612-0.0908          0\n",
       "  110 240.06902269378463  159.6150504479975 ... SFGC359.3646-0.0744          0\n",
       "  220 102.50823164462449 112.20001312772604 ... SFGC359.3713-0.1047          0\n",
       "  210  203.2553534482713  176.8253650567436 ... SFGC359.3718-0.0792          0\n",
       "   10 195.88498598065792 175.63119523151016 ... SFGC359.3724-0.0807          0\n",
       "  ...                ...                ... ...                 ...        ...\n",
       "  220   278.725084729135 196.54735543866084 ...   SFGC0.6660-0.0333          0\n",
       "  210 208.95953498566087  155.5373364980976 ...   SFGC0.6662-0.0506          0\n",
       "  110  266.2416268691667 194.73304269319817 ...   SFGC0.6670-0.0358          0\n",
       "  220  257.8458129309287 191.98217995855126 ...   SFGC0.6674-0.0376          0\n",
       "  210  264.1719895309399 207.37393663089966 ...   SFGC0.6696-0.0348          0\n",
       "  220 117.57519014829266 317.37496663753114 ...   SFGC0.6733-0.0891          0\n",
       "  210   224.738923421542 216.52912397920156 ...   SFGC0.6756-0.0410          0\n",
       "  210 211.00551648539357 236.23541954792884 ...   SFGC0.6807-0.0413          0\n",
       "  210 164.60659991269637  267.8769859012071 ...   SFGC0.6916-0.0463          0\n",
       "  110 165.03114629114353 279.14360760818386 ...   SFGC0.6936-0.0450          0"
      ]
     },
     "execution_count": 16,
     "metadata": {},
     "output_type": "execute_result"
    }
   ],
   "source": [
    "mastercat25"
   ]
  },
  {
   "cell_type": "code",
   "execution_count": 65,
   "metadata": {},
   "outputs": [
    {
     "data": {
      "image/png": "[encoded data removed]",
      "text/plain": [
       "<Figure size 864x504 with 1 Axes>"
      ]
     },
     "metadata": {
      "needs_background": "light"
     },
     "output_type": "display_data"
    }
   ],
   "source": [
    "#now lets look at some quality flags...\n",
    "binlist=np.linspace(0,1.0,40)\n",
    "\n",
    "plt.figure(figsize=(12,7))\n",
    "plt.title('Histogram of Annulus stdev for 25 um Sources')\n",
    "plt.hist(mastercat25['ann_bkg_std'],bins=binlist)\n",
    "plt.xlabel('Annulus stdev (background noise estimate)')\n",
    "plt.ylabel('Number of Sources')\n",
    "#plt.xlim(0,25)\n",
    "plt.show()"
   ]
  },
  {
   "cell_type": "code",
   "execution_count": null,
   "metadata": {},
   "outputs": [],
   "source": [
    "#add quality flags for background noise\n",
    "bkgmean=np.mean(mastercat25['ann_bkg_std'])\n",
    "bkgstd=np.std(mastercat25['ann_bkg_std'])\n",
    "\n",
    "print(\"average noise measurement for all sources: \", bkgmean, \", standard deviation of noise measurements: \", bkgstd)\n",
    "\n",
    "bkgstd1sig=mastercat25['ann_bkg_std']>bkgmean+bkgstd\n",
    "bkgstd2sig=mastercat25['ann_bkg_std']>bkgmean+2*bkgstd\n",
    "bkgstd3sig=mastercat25['ann_bkg_std']>bkgmean+3*bkgstd\n",
    "\n",
    "\n",
    "mastercat25['bkg_qflag']=0\n",
    "mastercat25['bkg_qflag'][bkgstd1sig]=1\n",
    "mastercat25['bkg_qflag'][bkgstd2sig]=2\n",
    "mastercat25['bkg_qflag'][bkgstd3sig]=3"
   ]
  },
  {
   "cell_type": "code",
   "execution_count": 31,
   "metadata": {},
   "outputs": [
    {
     "data": {
      "image/png": "[encoded data removed]",
      "text/plain": [
       "<Figure size 864x504 with 1 Axes>"
      ]
     },
     "metadata": {
      "needs_background": "light"
     },
     "output_type": "display_data"
    }
   ],
   "source": [
    "#now lets look at SNR distrobution\n",
    "binlist=np.linspace(1,40,20)\n",
    "\n",
    "plt.figure(figsize=(12,7))\n",
    "plt.title('Histogram of 4pix Ap SNR for 25 um Sources')\n",
    "plt.hist(mastercat25['aper_snr_4pix'],bins=binlist)\n",
    "plt.xlabel('SNR of Source')\n",
    "plt.ylabel('Number of Sources')\n",
    "#plt.xlim(0,25)\n",
    "plt.show()\n"
   ]
  },
  {
   "cell_type": "code",
   "execution_count": 32,
   "metadata": {},
   "outputs": [
    {
     "name": "stdout",
     "output_type": "stream",
     "text": [
      "Number of Catalog Sources after SNR cut:  586\n"
     ]
    }
   ],
   "source": [
    "#lets examine SNR cuts...\n",
    "snrcut4pix=mastercat25['aper_snr_4pix']>=3.0 #max snr in all computed apertures must be gtreq to 5\n",
    "mcat25snrcut=mastercat25[snrcut4pix] #apply snr cut\n",
    "\n",
    "print(\"Number of Catalog Sources after SNR cut: \", len(mcat25snrcut))"
   ]
  },
  {
   "cell_type": "code",
   "execution_count": 34,
   "metadata": {},
   "outputs": [],
   "source": [
    "#other cuts to consider????"
   ]
  },
  {
   "cell_type": "code",
   "execution_count": 66,
   "metadata": {},
   "outputs": [],
   "source": [
    "#now lets look at some quality flags...\n",
    "#binlist=np.linspace(0,1.0,40)\n",
    "\n",
    "#plt.figure(figsize=(12,7))\n",
    "#plt.title('Histogram of Annulus stdev for 25 um Sources')\n",
    "#plt.hist(mastercat25['ann_bkg_std'],bins=binlist)\n",
    "#plt.xlabel('Annulus stdev (background noise estimate)')\n",
    "#plt.ylabel('Number of Sources')\n",
    "#plt.xlim(0,25)\n",
    "#plt.show()"
   ]
  },
  {
   "cell_type": "code",
   "execution_count": 67,
   "metadata": {},
   "outputs": [],
   "source": [
    "#lets examine additional properties\n",
    "#testcut=mastercat25['ann_bkg_std']>=0.17 #max snr in all computed apertures must be gtreq to 5\n",
    "#cattest=mastercat25[testcut] #apply snr cut\n",
    "\n",
    "#print(\"Number of Catalog Sources after SNR cut: \", len(cattest))\n",
    "\n",
    "#makeDS9file('mastercatComb_highstdevsources.reg', cattest, r, color='green')"
   ]
  },
  {
   "cell_type": "code",
   "execution_count": 35,
   "metadata": {},
   "outputs": [],
   "source": [
    "makeDS9file('mastercatComb_4pixSNRselect_25m_NoLabel.reg', mcat25snrcut, r, color='green')"
   ]
  },
  {
   "cell_type": "code",
   "execution_count": 36,
   "metadata": {},
   "outputs": [
    {
     "name": "stderr",
     "output_type": "stream",
     "text": [
      "WARNING: VerifyWarning: Keyword name 'aperture_photometry_args' is greater than 8 characters or contains characters not allowed by the FITS standard; a HIERARCH card will be created. [astropy.io.fits.card]\n"
     ]
    }
   ],
   "source": [
    "#Optional - write 'master' catalogs to fits prior to quality cuts\n",
    "mcat25snrcut.write('masterCat_25um_Step3.fits',overwrite=True)"
   ]
  },
  {
   "cell_type": "markdown",
   "metadata": {},
   "source": [
    "## Repeat process for 37 um data"
   ]
  },
  {
   "cell_type": "code",
   "execution_count": 68,
   "metadata": {
    "scrolled": true
   },
   "outputs": [
    {
     "data": {
      "text/html": [
       "<div><i>Table length=893</i>\n",
       "<table id=\"table2485313107136\" class=\"table-striped table-bordered table-condensed\">\n",
       "<thead><tr><th>type</th><th>xcentroid</th><th>ycentroid</th><th>sky_center</th><th>aperture_sum_4pix</th><th>aperture_sum_err_4pix</th><th>aperture_sum_5pix</th><th>aperture_sum_err_5pix</th><th>aperture_sum_6pix</th><th>aperture_sum_err_6pix</th><th>aperture_sum_7pix</th><th>aperture_sum_err_7pix</th><th>aperture_sum_8pix</th><th>aperture_sum_err_8pix</th><th>aperture_sum_9pix</th><th>aperture_sum_err_9pix</th><th>aperture_sum_10pix</th><th>aperture_sum_err_10pix</th><th>aperture_sum_12pix</th><th>aperture_sum_err_12pix</th><th>pixAnnArea</th><th>ann_bkg_med</th><th>ann_bkg_mean</th><th>ann_bkg_std</th><th>texp_med</th><th>texp_mean</th><th>aper_sum_bkgsub_4pix</th><th>aper_snr_4pix</th><th>aper_area_4pix</th><th>aper_sum_bkgsub_5pix</th><th>aper_snr_5pix</th><th>aper_area_5pix</th><th>aper_sum_bkgsub_6pix</th><th>aper_snr_6pix</th><th>aper_area_6pix</th><th>aper_sum_bkgsub_7pix</th><th>aper_snr_7pix</th><th>aper_area_7pix</th><th>aper_sum_bkgsub_8pix</th><th>aper_snr_8pix</th><th>aper_area_8pix</th><th>aper_sum_bkgsub_9pix</th><th>aper_snr_9pix</th><th>aper_area_9pix</th><th>aper_sum_bkgsub_10pix</th><th>aper_snr_10pix</th><th>aper_area_10pix</th><th>aper_sum_bkgsub_12pix</th><th>aper_snr_12pix</th><th>aper_area_12pix</th><th>Field</th><th>wv</th><th>fit_x_cent</th><th>fit_y_cent</th><th>fwhm</th><th>semimajor_sigma</th><th>semiminor_sigma</th><th>orientation</th><th>RA(J2000)</th><th>DEC(J2000)</th><th>glon</th><th>glat</th><th>id</th><th>sky_centroid</th><th>SourceID</th></tr></thead>\n",
       "<thead><tr><th></th><th>pix</th><th>pix</th><th>deg,deg</th><th></th><th></th><th></th><th></th><th></th><th></th><th></th><th></th><th></th><th></th><th></th><th></th><th></th><th></th><th></th><th></th><th></th><th></th><th></th><th></th><th></th><th></th><th></th><th></th><th></th><th></th><th></th><th></th><th></th><th></th><th></th><th></th><th></th><th></th><th></th><th></th><th></th><th></th><th></th><th></th><th></th><th></th><th></th><th></th><th></th><th></th><th></th><th></th><th></th><th></th><th>pix</th><th>pix</th><th>pix</th><th>deg</th><th>deg</th><th>deg</th><th></th><th></th><th></th><th>deg,deg</th><th></th></tr></thead>\n",
       "<thead><tr><th>int32</th><th>float64</th><th>float64</th><th>object</th><th>float64</th><th>float64</th><th>float64</th><th>float64</th><th>float64</th><th>float64</th><th>float64</th><th>float64</th><th>float64</th><th>float64</th><th>float64</th><th>float64</th><th>float64</th><th>float64</th><th>float64</th><th>float64</th><th>float64</th><th>float64</th><th>float64</th><th>float64</th><th>float64</th><th>float64</th><th>float64</th><th>float64</th><th>float64</th><th>float64</th><th>float64</th><th>float64</th><th>float64</th><th>float64</th><th>float64</th><th>float64</th><th>float64</th><th>float64</th><th>float64</th><th>float64</th><th>float64</th><th>float64</th><th>float64</th><th>float64</th><th>float64</th><th>float64</th><th>float64</th><th>float64</th><th>float64</th><th>float64</th><th>bytes7</th><th>int32</th><th>float64</th><th>float64</th><th>float64</th><th>float64</th><th>float64</th><th>float64</th><th>float64</th><th>float64</th><th>float64</th><th>float64</th><th>int64</th><th>object</th><th>str19</th></tr></thead>\n",
       "<tr><td>220</td><td>242.53974934529</td><td>68.28319940902716</td><td>266.0949774213804,-29.537558515510653</td><td>3.1212755884097283</td><td>0.15385921616294065</td><td>4.558100239950815</td><td>0.1928096276151999</td><td>6.116042906440407</td><td>0.23224758004258844</td><td>7.811650376551029</td><td>0.2721186149845456</td><td>9.723570977293974</td><td>0.3125932964680023</td><td>11.792925847923225</td><td>0.3535996167936249</td><td>14.00431917630897</td><td>0.3952420272499671</td><td>18.21841260634507</td><td>0.48168941045672353</td><td>842.388617226446</td><td>0.00609486104227412</td><td>0.007986292997883985</td><td>0.016581710997662414</td><td>288.4590148925781</td><td>232.81534859202247</td><td>2.800385490560439</td><td>33.900986310508266</td><td>52.6492885766529</td><td>4.0567094620613</td><td>52.710069923021834</td><td>82.26451340102014</td><td>5.394040186279506</td><td>73.15753240366661</td><td>118.46089929746901</td><td>6.82892445188758</td><td>95.4923763064727</td><td>161.2384462659995</td><td>8.440010585896816</td><td>121.17900695149837</td><td>210.5971543066116</td><td>10.168419727561195</td><td>149.08130095989966</td><td>266.5370234193052</td><td>11.998756064750909</td><td>178.89052032698783</td><td>329.05805360408056</td><td>15.330401725701464</td><td>232.24253848761904</td><td>473.84359718987605</td><td>Field1</td><td>37</td><td>4.229410974240364</td><td>4.040650672965748</td><td>5.808122256229713</td><td>2.5099691061317366</td><td>2.4222151425168077</td><td>-45.324384381212205</td><td>266.0949774213804</td><td>-29.537558515510653</td><td>359.3458520843896</td><td>-0.08329726642755148</td><td>1</td><td>266.0949774213804,-29.537558515510653</td><td>SFGC359.3459-0.0833</td></tr>\n",
       "<tr><td>220</td><td>242.97279560259423</td><td>101.97876718948791</td><td>266.0948720059475,-29.530370120730538</td><td>0.633741033723439</td><td>0.13564076090798294</td><td>1.000507347893978</td><td>0.16956964869717084</td><td>1.4633284991696884</td><td>0.20351225146687738</td><td>1.907340922605734</td><td>0.23747098902072633</td><td>2.3821164934684127</td><td>0.2714461956454056</td><td>3.0264388952289556</td><td>0.3054836650014321</td><td>3.8438002634725583</td><td>0.3397122688893242</td><td>5.92366909395138</td><td>0.408801585734706</td><td>842.388617226446</td><td>0.014317973986430697</td><td>0.015263425184962667</td><td>0.013248284913573277</td><td>368.5865783691406</td><td>333.54946037570676</td><td>-0.12009011052116</td><td>-0.10842269829478103</td><td>52.6492885766529</td><td>-0.17735381498820776</td><td>-0.18908006715565218</td><td>82.26451340102014</td><td>-0.2327915753806593</td><td>-0.27136764729640417</td><td>118.46089929746901</td><td>-0.4012669566433506</td><td>-0.6892791168019685</td><td>161.2384462659995</td><td>-0.6332080835099837</td><td>-1.4952767313383222</td><td>210.5971543066116</td><td>-0.7898312725093259</td><td>-2.0636243058412114</td><td>266.5370234193052</td><td>-0.8676443880561847</td><td>-2.241807184949162</td><td>329.05805360408056</td><td>-0.8608112042500103</td><td>-1.8453040991344112</td><td>473.84359718987605</td><td>Field1</td><td>37</td><td>3.788925308239542</td><td>4.409871284832162</td><td>5.351451901093056</td><td>2.558088197597506</td><td>1.9455522161292653</td><td>17.603503144325632</td><td>266.0948720059475</td><td>-29.530370120730538</td><td>359.35192977890733</td><td>-0.07945758732522282</td><td>2</td><td>266.0948720059475,-29.530370120730538</td><td>SFGC359.3519-0.0795</td></tr>\n",
       "<tr><td>220</td><td>204.58835599714808</td><td>92.05632442304436</td><td>266.1042832293255,-29.532487338540815</td><td>0.46930235246551744</td><td>0.135535675890481</td><td>0.7356595304680876</td><td>0.16941658765486212</td><td>1.281237757955795</td><td>0.20329646462356413</td><td>1.8831868398497311</td><td>0.2371758109349808</td><td>2.4344932522312646</td><td>0.2710563092815864</td><td>2.9092360582678762</td><td>0.30492629995057935</td><td>3.6623335570555318</td><td>0.3387853976718635</td><td>5.515776365409833</td><td>0.40650448002730777</td><td>842.388617226446</td><td>0.007620079761626175</td><td>0.008613080626000382</td><td>0.010692640123992226</td><td>368.5865783691406</td><td>334.6491698023318</td><td>0.06811057411854846</td><td>0.04324195093139104</td><td>52.6492885766529</td><td>0.10879737680094875</td><td>0.08823082482552984</td><td>82.26451340102014</td><td>0.37855625667511494</td><td>0.8830822519470286</td><td>118.46089929746901</td><td>0.6545370186621388</td><td>2.2389660903549595</td><td>161.2384462659995</td><td>0.8297261388433889</td><td>3.1342577661025546</td><td>210.5971543066116</td><td>0.8782026803863463</td><td>3.1295315397473806</td><td>266.5370234193052</td><td>1.1548849423869765</td><td>4.830522916860075</td><td>329.05805360408056</td><td>1.9050503602871123</td><td>10.682584017161226</td><td>473.84359718987605</td><td>Field1</td><td>37</td><td>4.209246115813688</td><td>4.403942836733122</td><td>5.7925275856522225</td><td>2.519451820067661</td><td>2.3987881847527466</td><td>-58.062988425870834</td><td>266.1042832293255</td><td>-29.532487338540815</td><td>359.35441013263403</td><td>-0.08754357055269224</td><td>3</td><td>266.1042832293255,-29.532487338540815</td><td>SFGC359.3544-0.0875</td></tr>\n",
       "<tr><td>220</td><td>122.28663152077948</td><td>93.03706121275573</td><td>266.1244626830815,-29.53227680272946</td><td>-0.43383131945507397</td><td>0.1635703577433162</td><td>-0.7063365822368325</td><td>0.20512627506568232</td><td>-0.9532638030078275</td><td>0.2499959662696816</td><td>-1.2947684234039452</td><td>0.29770036738248323</td><td>-1.5846205354954834</td><td>0.3476851994083023</td><td>-1.8869074683479168</td><td>0.3992619001934363</td><td>-2.2263361124557104</td><td>0.45149623635130787</td><td>-2.8324812832075406</td><td>0.5568340717711866</td><td>842.388617226446</td><td>-0.004406120477294979</td><td>-0.004589398568409244</td><td>0.011945224176474293</td><td>256.4079895019531</td><td>218.14323952408512</td><td>-0.20185221094247102</td><td>-0.3386082894409263</td><td>52.6492885766529</td><td>-0.34386922518589047</td><td>-0.7830432037515876</td><td>82.26451340102014</td><td>-0.43131080885447093</td><td>-1.0257821242604337</td><td>118.46089929746901</td><td>-0.5843324035840985</td><td>-1.6085708057464885</td><td>161.2384462659995</td><td>-0.6567041014450715</td><td>-1.7784712743896751</td><td>210.5971543066116</td><td>-0.7125132315028647</td><td>-1.8625509436921814</td><td>266.5370234193052</td><td>-0.7764666842519421</td><td>-1.9915759394516321</td><td>329.05805360408056</td><td>-0.744669306594114</td><td>-1.5325198870983516</td><td>473.84359718987605</td><td>Field1</td><td>37</td><td>2.994649174651392</td><td>3.870780350286454</td><td>5.722339724639935</td><td>3.100132875764114</td><td>1.4830712860913637</td><td>37.31188619192393</td><td>266.1244626830815</td><td>-29.53227680272946</td><td>359.36377460407743</td><td>-0.10239697071912336</td><td>4</td><td>266.1244626830815,-29.53227680272946</td><td>SFGC359.3638-0.1024</td></tr>\n",
       "<tr><td>10</td><td>232.97385251039594</td><td>163.9423440381667</td><td>266.09732467950937,-29.517151401401755</td><td>3.9700145929720416</td><td>0.14024978174856795</td><td>5.7525304804306</td><td>0.17534801033071842</td><td>7.7674957393332935</td><td>0.21040976382455795</td><td>9.813237929975042</td><td>0.24545740342824188</td><td>11.949344479869188</td><td>0.28052525071466433</td><td>14.121395999207001</td><td>0.3156047285617654</td><td>16.32512889645434</td><td>0.3506654208485135</td><td>20.76170555446263</td><td>0.4207807124354261</td><td>842.388617226446</td><td>0.019852999597787857</td><td>0.02199590742538906</td><td>0.018254630826242325</td><td>368.5865783691406</td><td>341.0567926116347</td><td>2.9247682880359345</td><td>34.43278815735722</td><td>52.6492885766529</td><td>4.119333128967933</td><td>51.557975695871775</td><td>82.26451340102014</td><td>5.415691553227054</td><td>70.693588634116</td><td>118.46089929746901</td><td>6.612171121108215</td><td>88.002650085235</td><td>161.2384462659995</td><td>7.768359260124761</td><td>104.56489224669289</td><td>210.5971543066116</td><td>8.829836580467962</td><td>119.34297755741083</td><td>266.5370234193052</td><td>9.792339490603675</td><td>132.25222271203322</td><td>329.05805360408056</td><td>11.354488810037669</td><td>151.22606687888828</td><td>473.84359718987605</td><td>Field1</td><td>37</td><td>3.9227162410480765</td><td>4.093157915035035</td><td>5.825039190401567</td><td>2.5769381226921633</td><td>2.3658910985022454</td><td>42.531856786950094</td><td>266.09732467950937</td><td>-29.517151401401755</td><td>359.3643111167879</td><td>-0.07435934374261063</td><td>5</td><td>266.09732467950937,-29.517151401401755</td><td>SFGC359.3643-0.0744</td></tr>\n",
       "<tr><td>220</td><td>243.32173138646138</td><td>190.4134368050905</td><td>266.09478848389494,-29.51150405225837</td><td>-0.7642650516947395</td><td>0.1421882554604598</td><td>-1.1788874791467605</td><td>0.17774940471377706</td><td>-1.6558142809513177</td><td>0.21328335180033522</td><td>-2.3067832133286132</td><td>0.24882424294241462</td><td>-3.066252108481362</td><td>0.28436906549256635</td><td>-3.91144360735717</td><td>0.319913094718864</td><td>-4.736423832156599</td><td>0.3554553852235333</td><td>-6.038961011806862</td><td>0.42651952986914393</td><td>842.388617226446</td><td>-0.0005203351248191609</td><td>-0.0012141324658279456</td><td>0.017613311982986973</td><td>368.5865783691406</td><td>291.5538030354262</td><td>-0.7368697775515667</td><td>-2.989951036519466</td><td>52.6492885766529</td><td>-1.1360823632980532</td><td>-5.606983238950984</td><td>82.26451340102014</td><td>-1.594174914129179</td><td>-9.06740214449466</td><td>118.46089929746901</td><td>-2.222885186265147</td><td>-14.777097468196661</td><td>161.2384462659995</td><td>-2.9566710119086714</td><td>-22.30624432675895</td><td>210.5971543066116</td><td>-3.7727550320073586</td><td>-31.449060577244083</td><td>266.5370234193052</td><td>-4.56520336876177</td><td>-40.586956029762625</td><td>329.05805360408056</td><td>-5.792403544518307</td><td>-53.631894432108446</td><td>473.84359718987605</td><td>Field1</td><td>37</td><td>3.527521959340056</td><td>2.9519445622489977</td><td>4.722207484067766</td><td>2.3901948083500413</td><td>1.52634229107986</td><td>30.961801811261015</td><td>266.09478848389494</td><td>-29.51150405225837</td><td>359.36796871170026</td><td>-0.06952345967665795</td><td>6</td><td>266.09478848389494,-29.51150405225837</td><td>SFGC359.3680-0.0695</td></tr>\n",
       "<tr><td>110</td><td>196.0817381293394</td><td>182.3182522277884</td><td>266.1063688303592,-29.513231467580326</td><td>9.144903437474275</td><td>0.14010955887530152</td><td>13.737470593753478</td><td>0.17511272203724357</td><td>18.813339454865286</td><td>0.21013385871670762</td><td>24.511284891222182</td><td>0.24517336713707297</td><td>30.798773892248324</td><td>0.2802082566370098</td><td>37.528036484173946</td><td>0.3152371733476402</td><td>44.72358026022831</td><td>0.3502609983700841</td><td>59.9250027852215</td><td>0.420261339017124</td><td>842.388617226446</td><td>0.07744988054037094</td><td>0.07414331181885142</td><td>0.03346728245948824</td><td>368.5865783691406</td><td>354.8109707841951</td><td>5.0672223266769905</td><td>57.805813173458226</td><td>52.6492885766529</td><td>7.366093858132723</td><td>91.07556726192668</td><td>82.26451340102014</td><td>9.638556955571397</td><td>124.16510247933972</td><td>118.46089929746901</td><td>12.023386489405503</td><td>159.47392114612867</td><td>161.2384462659995</td><td>14.48804944905919</td><td>196.34798435334991</td><td>210.5971543066116</td><td>16.884775860762705</td><td>231.96689887391588</td><td>266.5370234193052</td><td>19.238073317745297</td><td>266.77486890123623</td><td>329.05805360408056</td><td>23.225872788045947</td><td>322.78479337774843</td><td>473.84359718987605</td><td>Field1</td><td>37</td><td>3.88535190129861</td><td>3.977371267203702</td><td>5.905065707260414</td><td>2.5809542110702925</td><td>2.432138484498198</td><td>37.52402549311617</td><td>266.1063688303592</td><td>-29.513231467580326</td><td>359.3717696925563</td><td>-0.07901547583257948</td><td>7</td><td>266.1063688303592,-29.513231467580326</td><td>SFGC359.3718-0.0790</td></tr>\n",
       "<tr><td>220</td><td>149.39910866614207</td><td>167.73745837629747</td><td>266.1178131017139,-29.51634148851404</td><td>6.282716953736462</td><td>0.1391404181236515</td><td>9.405217807793147</td><td>0.173882562461898</td><td>12.987485818683965</td><td>0.20862299137940987</td><td>16.914883451351166</td><td>0.24337777231615754</td><td>21.327310427176947</td><td>0.27813359501335644</td><td>26.04292221320003</td><td>0.31289507126402816</td><td>30.853952972031696</td><td>0.34765845002759266</td><td>41.260183068493916</td><td>0.41720000054211276</td><td>842.388617226446</td><td>0.03751328960061073</td><td>0.047803096760561714</td><td>0.04026785686916795</td><td>368.5865783691406</td><td>294.3844224823721</td><td>4.307668944094355</td><td>39.18709391053129</td><td>52.6492885766529</td><td>6.319205292727356</td><td>64.23716034199644</td><td>82.26451340102014</td><td>8.543627796989226</td><td>93.64541994438919</td><td>118.46089929746901</td><td>10.866298921822214</td><td>125.24961756880548</td><td>161.2384462659995</td><td>13.42711838860852</td><td>161.46175829705524</td><td>210.5971543066116</td><td>16.044241664386867</td><td>198.93232881615268</td><td>266.5370234193052</td><td>18.50990291176853</td><td>233.71359886507472</td><td>329.05805360408056</td><td>23.484750981714956</td><td>304.23089101523146</td><td>473.84359718987605</td><td>Field1</td><td>37</td><td>4.310587367979577</td><td>4.35991828348663</td><td>5.8719376061403485</td><td>2.5694480622690974</td><td>2.415334784856279</td><td>39.71112317423605</td><td>266.1178131017139</td><td>-29.51634148851404</td><td>359.37432934701536</td><td>-0.08913005565519945</td><td>8</td><td>266.1178131017139,-29.51634148851404</td><td>SFGC359.3743-0.0891</td></tr>\n",
       "<tr><td>220</td><td>168.08004949063218</td><td>308.0126379876548</td><td>266.1132312373894,-29.48641645499765</td><td>1.2524092729418586</td><td>0.1405533224931583</td><td>1.830069672804404</td><td>0.17570621585210333</td><td>2.5468191023858022</td><td>0.21087128973088223</td><td>3.299994488362099</td><td>0.24621715980298212</td><td>4.05199055451955</td><td>0.2816674925536249</td><td>4.903316820649177</td><td>0.31716232323951193</td><td>5.970632964906955</td><td>0.35275793278067935</td><td>8.5607907969667</td><td>0.4243069493144132</td><td>842.388617226446</td><td>0.01263599842786789</td><td>0.015154443233597582</td><td>0.018037758376842697</td><td>368.5865783691406</td><td>337.4343910267142</td><td>0.5871329452589097</td><td>1.873781999513483</td><td>52.6492885766529</td><td>0.7905754107997965</td><td>2.710540470931652</td><td>82.26451340102014</td><td>1.0499473650991673</td><td>3.966777731498956</td><td>118.46089929746901</td><td>1.2625857348330685</td><td>4.909537193207957</td><td>161.2384462659995</td><td>1.3908852437877546</td><td>5.222499496130435</td><td>210.5971543066116</td><td>1.5353554117542498</td><td>5.661575258038427</td><td>266.5370234193052</td><td>1.8126559168885257</td><td>7.081735622894147</td><td>329.05805360408056</td><td>2.573303847820161</td><td>11.775643626832554</td><td>473.84359718987605</td><td>Field1</td><td>37</td><td>3.7446216324872137</td><td>3.7347159772612932</td><td>5.763853504346177</td><td>2.507333763627527</td><td>2.38654219819887</td><td>-88.03260835654315</td><td>266.1132312373894</td><td>-29.48641645499765</td><td>359.3977470049076</td><td>-0.0700768532772041</td><td>9</td><td>266.1132312373894,-29.48641645499765</td><td>SFGC359.3977-0.0701</td></tr>\n",
       "<tr><td>...</td><td>...</td><td>...</td><td>...</td><td>...</td><td>...</td><td>...</td><td>...</td><td>...</td><td>...</td><td>...</td><td>...</td><td>...</td><td>...</td><td>...</td><td>...</td><td>...</td><td>...</td><td>...</td><td>...</td><td>...</td><td>...</td><td>...</td><td>...</td><td>...</td><td>...</td><td>...</td><td>...</td><td>...</td><td>...</td><td>...</td><td>...</td><td>...</td><td>...</td><td>...</td><td>...</td><td>...</td><td>...</td><td>...</td><td>...</td><td>...</td><td>...</td><td>...</td><td>...</td><td>...</td><td>...</td><td>...</td><td>...</td><td>...</td><td>...</td><td>...</td><td>...</td><td>...</td><td>...</td><td>...</td><td>...</td><td>...</td><td>...</td><td>...</td><td>...</td><td>...</td><td>...</td><td>...</td><td>...</td><td>...</td></tr>\n",
       "<tr><td>220</td><td>257.1850687435191</td><td>212.68775705472345</td><td>266.8350281005104,-28.382096206764253</td><td>73.27733691730249</td><td>0.20992466611522262</td><td>109.53586368954235</td><td>0.2623966241356586</td><td>151.50483113501943</td><td>0.31489374258814634</td><td>199.69020542736143</td><td>0.36739989578588694</td><td>254.6722905039283</td><td>0.41985340400401017</td><td>317.10715828445547</td><td>0.47227391979648176</td><td>386.6138773444603</td><td>0.5247151575217238</td><td>541.0131854376327</td><td>0.629565619168119</td><td>842.3887361678997</td><td>0.05722605437040329</td><td>0.09717567172048068</td><td>0.11740013653588893</td><td>176.05335998535156</td><td>168.948676593737</td><td>70.26442544124252</td><td>1174.4217223847459</td><td>52.64929601049371</td><td>104.82818950819865</td><td>1772.9664083118175</td><td>82.26452501639643</td><td>144.72578031388448</td><td>2464.798446079312</td><td>118.46091602361086</td><td>190.46316403192776</td><td>3258.8397884022384</td><td>161.23846903213703</td><td>242.62064459968843</td><td>4165.194785984137</td><td>210.59718404197483</td><td>301.85429393690185</td><td>5195.250884455587</td><td>266.5370610531244</td><td>367.78318061908544</td><td>6342.149025957008</td><td>329.05810006558573</td><td>513.896982153093</td><td>8883.995523967591</td><td>473.84366409444345</td><td>Field11</td><td>37</td><td>4.135820882742051</td><td>3.193665244934755</td><td>5.781397529567852</td><td>2.5115148738141695</td><td>2.3974265031467503</td><td>-44.22074640179775</td><td>266.8350281005104</td><td>-28.382096206764253</td><td>0.6694719776310463</td><td>-0.03459785107812976</td><td>884</td><td>266.8350281005104,-28.382096206764253</td><td>SFGC0.6695-0.0346</td></tr>\n",
       "<tr><td>10</td><td>215.07570765287738</td><td>222.33738834073614</td><td>266.84523887821786,-28.380038361177018</td><td>7.716909918514161</td><td>0.2085480486247408</td><td>11.185103807717462</td><td>0.26063836228187</td><td>14.934124848527627</td><td>0.31277063611518896</td><td>18.686587281512768</td><td>0.3649112522120888</td><td>22.32419148011755</td><td>0.4170175750622407</td><td>25.913939832729362</td><td>0.46913953479394077</td><td>29.505330333907455</td><td>0.521281445380093</td><td>36.74744403412622</td><td>0.6255463601500045</td><td>842.3887361678997</td><td>0.01997138559179129</td><td>0.026571822178634123</td><td>0.028471707788917187</td><td>176.05335998535156</td><td>166.67730992088502</td><td>6.665430526752233</td><td>93.03279507231248</td><td>52.64929601049371</td><td>9.54216725808945</td><td>139.22647943994804</td><td>82.26452501639643</td><td>12.568296217063288</td><td>188.20274960423993</td><td>118.46091602361086</td><td>15.46643164424186</td><td>234.71234102253743</td><td>161.23846903213703</td><td>18.11827391306983</td><td>276.56290268798557</td><td>210.59718404197483</td><td>20.5908254119346</td><td>315.0373133560088</td><td>266.5370610531244</td><td>22.933584135395403</td><td>351.07247743319107</td><td>329.05810006558573</td><td>27.284129508268858</td><td>416.8500122970114</td><td>473.84366409444345</td><td>Field11</td><td>37</td><td>4.048042711770596</td><td>4.092441792528654</td><td>5.794024409259226</td><td>2.550541479548269</td><td>2.3670267349426664</td><td>-25.36805116331932</td><td>266.84523887821786</td><td>-28.380038361177018</td><td>0.6758850583790307</td><td>-0.04121679508323111</td><td>885</td><td>266.84523887821786,-28.380038361177018</td><td>SFGC0.6759-0.0412</td></tr>\n",
       "<tr><td>220</td><td>141.30973959054018</td><td>184.45954206716527</td><td>266.86312630600037,-28.38811843465628</td><td>0.9129061858066388</td><td>0.20618337340950543</td><td>1.2377763712909229</td><td>0.257688477871521</td><td>1.7164737446016438</td><td>0.30918956578319434</td><td>2.1722941970938088</td><td>0.36066833554229694</td><td>2.624184093977164</td><td>0.41210925454596875</td><td>3.2027540694390133</td><td>0.46353775114652784</td><td>3.824585074752795</td><td>0.5149674050762171</td><td>5.459455798789133</td><td>0.6178306279969716</td><td>842.3887361678997</td><td>0.005912137683480978</td><td>0.009014993817117433</td><td>0.020640900627453034</td><td>176.05335998535156</td><td>139.25909650707305</td><td>0.6016362988542543</td><td>1.7251169442617684</td><td>52.64929601049371</td><td>0.7514171729278218</td><td>2.152843866595347</td><td>82.26452501639643</td><td>1.0161164989587785</td><td>3.268699032383973</td><td>118.46091602361086</td><td>1.2190301683021307</td><td>4.028513347471965</td><td>161.23846903213703</td><td>1.3791045461676257</td><td>4.513107071634572</td><td>210.59718404197483</td><td>1.6269502667425664</td><td>5.5733238711753215</td><td>266.5370610531244</td><td>1.879148281300391</td><td>6.681192578130061</td><td>329.05810006558573</td><td>2.6580268162176712</td><td>11.05023082534828</td><td>473.84366409444345</td><td>Field11</td><td>37</td><td>3.7771807724366644</td><td>3.9647464136076276</td><td>5.806133161759661</td><td>2.6627814852334257</td><td>2.2512959913618364</td><td>-65.34991862737185</td><td>266.86312630600037</td><td>-28.38811843465628</td><td>0.677121597932739</td><td>-0.05886366910733959</td><td>886</td><td>266.86312630600037,-28.38811843465628</td><td>SFGC0.6771-0.0589</td></tr>\n",
       "<tr><td>10</td><td>269.93907881046215</td><td>263.76649048235873</td><td>266.83193737246745,-28.371199035894296</td><td>3.2843980661606245</td><td>0.243944547386021</td><td>4.571643120142595</td><td>0.3049085300604153</td><td>5.718941914228306</td><td>0.3651848933900656</td><td>6.7573093129888555</td><td>0.42473477728699616</td><td>7.692869637946066</td><td>0.4834734660759363</td><td>8.483112191818616</td><td>0.5417798359247761</td><td>9.225084748337334</td><td>0.602133102116526</td><td>9.84531594145451</td><td>0.7283470673749275</td><td>842.3887361678997</td><td>5.44459763430896e-05</td><td>0.0004046335088295191</td><td>0.01930428895122688</td><td>128.03880310058594</td><td>112.04091348728743</td><td>3.2815315238355565</td><td>39.85937904058951</td><td>52.64929601049371</td><td>4.567164147759677</td><td>58.45185485836886</td><td>82.26452501639643</td><td>5.712492193996904</td><td>74.4844088960754</td><td>118.46091602361086</td><td>6.748530527118335</td><td>88.47484902829387</td><td>161.23846903213703</td><td>7.681403468645795</td><td>100.5280148405571</td><td>210.59718404197483</td><td>8.468600321297961</td><td>109.84861937620418</td><td>266.5370610531244</td><td>9.20716885880566</td><td>118.26509340970054</td><td>329.05810006558573</td><td>9.8195170605289</td><td>119.11728810104276</td><td>473.84366409444345</td><td>Field11</td><td>37</td><td>3.977952270341012</td><td>3.404968438311328</td><td>5.5410697249721945</td><td>2.453115368218175</td><td>2.248589577250481</td><td>-7.723916724953464</td><td>266.83193737246745</td><td>-28.371199035894296</td><td>0.6773848833195049</td><td>-0.026627333054732766</td><td>887</td><td>266.83193737246745,-28.371199035894296</td><td>SFGC0.6774-0.0266</td></tr>\n",
       "<tr><td>220</td><td>206.671103115868</td><td>227.04153904035306</td><td>266.8472768150016,-28.37903486609875</td><td>3.4796675528701297</td><td>0.20818995053947043</td><td>5.263359020979998</td><td>0.26019936144237116</td><td>7.230305977959661</td><td>0.3122049628274989</td><td>9.26460366909812</td><td>0.3642176172316675</td><td>11.323864740987837</td><td>0.4161965862029112</td><td>13.60828785889959</td><td>0.46816459294827345</td><td>16.099016719685693</td><td>0.5201331694525886</td><td>21.32991591820422</td><td>0.6241366332572011</td><td>842.3887361678997</td><td>0.013533427380025387</td><td>0.020440706345372886</td><td>0.030871626799798737</td><td>176.05335998535156</td><td>168.55264366712694</td><td>2.7671421287026527</td><td>22.006057957376655</td><td>52.64929601049371</td><td>4.150038045718315</td><td>37.89846185303546</td><td>82.26452501639643</td><td>5.627123773582838</td><td>55.97260031623934</td><td>118.46091602361086</td><td>7.082494557585221</td><td>74.04804398491235</td><td>161.23846903213703</td><td>8.473763044317929</td><td>91.18317570172538</td><td>210.59718404197483</td><td>10.001127899051738</td><td>110.7942778414512</td><td>266.5370610531244</td><td>11.645732818638962</td><td>132.59319861725444</td><td>329.05810006558573</td><td>14.917187100696928</td><td>176.1190850946663</td><td>473.84366409444345</td><td>Field11</td><td>37</td><td>4.977701389159062</td><td>3.355437301343735</td><td>5.565661062772736</td><td>2.450736682735275</td><td>2.2729563139280784</td><td>-48.055435221763545</td><td>266.8472768150016</td><td>-28.37903486609875</td><td>0.6776720647756606</td><td>-0.04223095104891729</td><td>888</td><td>266.8472768150016,-28.37903486609875</td><td>SFGC0.6777-0.0422</td></tr>\n",
       "<tr><td>110</td><td>222.4352631074508</td><td>289.8284750168897</td><td>266.84345526833846,-28.36564018829444</td><td>4.705047612431559</td><td>0.22073545489015775</td><td>6.007809997153348</td><td>0.27674270519873206</td><td>7.052066508223184</td><td>0.3327223550006664</td><td>7.692481297379767</td><td>0.3886486802625035</td><td>7.951418086677906</td><td>0.4447021248235099</td><td>7.915075264102576</td><td>0.5007539799606523</td><td>7.554339694569291</td><td>0.556835681403877</td><td>6.145475687867273</td><td>0.6688732100462467</td><td>842.3887361678997</td><td>-0.01733269914984703</td><td>-0.017706468893122274</td><td>0.017416915017462526</td><td>176.05335998535156</td><td>137.5521065989504</td><td>5.617602020632688</td><td>86.01623471940812</td><td>52.64929601049371</td><td>7.433676259967612</td><td>115.23837616826117</td><td>82.26452501639643</td><td>9.105313926675725</td><td>141.74410342093864</td><td>118.46091602361086</td><td>10.487179172495726</td><td>162.831130874207</td><td>161.23846903213703</td><td>11.601635719482422</td><td>178.90776202933688</td><td>210.59718404197483</td><td>12.53488195562079</td><td>191.56924103736117</td><td>266.5370610531244</td><td>13.257804745826347</td><td>200.25096693975686</td><td>329.05810006558573</td><td>14.358465361677434</td><td>211.01404747979964</td><td>473.84366409444345</td><td>Field11</td><td>37</td><td>4.280467629935446</td><td>4.926649116070674</td><td>5.121427653064246</td><td>2.2354672717814017</td><td>2.1125353918825733</td><td>-18.89945140110483</td><td>266.84345526833846</td><td>-28.36564018829444</td><td>0.6873891789550619</td><td>-0.032417618289266155</td><td>889</td><td>266.84345526833846,-28.36564018829444</td><td>SFGC0.6874-0.0324</td></tr>\n",
       "<tr><td>220</td><td>81.02033439724893</td><td>215.05691155306639</td><td>266.87774441568234,-28.381588825594683</td><td>0.15611493499892778</td><td>0.21135592377205525</td><td>0.05531719047136696</td><td>0.26654440198960605</td><td>0.08813666855359518</td><td>0.32195316839551213</td><td>0.17297643611519237</td><td>0.37722547787094723</td><td>0.15580019305768253</td><td>0.4323746418565358</td><td>0.1704524960792033</td><td>0.487712491967058</td><td>0.283482781227297</td><td>0.543037595574058</td><td>0.3566263382969767</td><td>0.6536986296513995</td><td>842.3887361678997</td><td>2.8569068101360797e-06</td><td>-4.917770061707133e-05</td><td>0.016806364587353007</td><td>176.05335998535156</td><td>159.03405001074108</td><td>0.15596452086660653</td><td>0.144150163372069</td><td>52.64929601049371</td><td>0.05508216838961501</td><td>0.01440254886864</td><td>82.26452501639643</td><td>0.08779823675587237</td><td>0.030490897729731736</td><td>118.46091602361086</td><td>0.17251579283495855</td><td>0.10086742619275196</td><td>161.23846903213703</td><td>0.15519853652839755</td><td>0.07144464540813783</td><td>210.59718404197483</td><td>0.16969102453432697</td><td>0.07592207626874878</td><td>266.5370610531244</td><td>0.28254269290028916</td><td>0.18935747771948644</td><td>329.05810006558573</td><td>0.3552726111060855</td><td>0.24947382653581895</td><td>473.84366409444345</td><td>Field11</td><td>37</td><td>4.440857642905633</td><td>3.98115539401917</td><td>4.97677398188072</td><td>2.3675793073447733</td><td>1.8242359060157411</td><td>-36.333136297353256</td><td>266.87774441568234</td><td>-28.381588825594683</td><td>0.6893660934374622</td><td>-0.06648628569534852</td><td>890</td><td>266.87774441568234,-28.381588825594683</td><td>SFGC0.6894-0.0665</td></tr>\n",
       "<tr><td>210</td><td>156.96733004433972</td><td>273.99095101772735</td><td>266.8593277727411,-28.36901870968684</td><td>18.41774063242959</td><td>0.20627541780313333</td><td>26.326248815452217</td><td>0.2578640941467497</td><td>34.669327235079095</td><td>0.30946085229842674</td><td>43.4440530624152</td><td>0.36105070704413333</td><td>52.68347186865063</td><td>0.41266958374914264</td><td>62.30867561964822</td><td>0.4643178713809516</td><td>72.05926492007433</td><td>0.5159713426137246</td><td>90.09695377682749</td><td>0.6192540827129098</td><td>842.3887361678997</td><td>0.01859031245112419</td><td>0.022843700403121656</td><td>0.023901606368490466</td><td>176.05335998535156</td><td>159.3185981415264</td><td>17.438973769262788</td><td>295.2917323869349</td><td>52.64929601049371</td><td>24.796925591754086</td><td>422.48974187490575</td><td>82.26452501639643</td><td>32.467101792953784</td><td>555.0587425993441</td><td>118.46091602361086</td><td>40.44657954396686</td><td>693.0044739010237</td><td>161.23846903213703</td><td>48.768404415983404</td><td>836.9321224778411</td><td>210.59718404197483</td><td>57.353668374866274</td><td>985.4579292244593</td><td>266.5370610531244</td><td>65.9419720252818</td><td>1134.0012363338462</td><td>329.05810006558573</td><td>81.28805200832625</td><td>1398.8017884015308</td><td>473.84366409444345</td><td>Field11</td><td>37</td><td>4.306684576578514</td><td>4.392641538730626</td><td>5.70211702931682</td><td>2.4809167340032467</td><td>2.3605187552679014</td><td>-69.93800475085514</td><td>266.8593277727411</td><td>-28.36901870968684</td><td>0.691731370788817</td><td>-0.046115198280010115</td><td>891</td><td>266.8593277727411,-28.36901870968684</td><td>SFGC0.6917-0.0461</td></tr>\n",
       "<tr><td>110</td><td>156.8870653711252</td><td>284.0423014874955</td><td>266.8593470458683,-28.366874420427298</td><td>22.34467032291088</td><td>0.2063985578752102</td><td>30.58336460511671</td><td>0.2579645418389088</td><td>38.75831364520627</td><td>0.3095415090847956</td><td>46.84724016566088</td><td>0.36111005349853753</td><td>54.97518850960655</td><td>0.4126552543991029</td><td>63.01507152138044</td><td>0.46421127937576423</td><td>71.16834823825525</td><td>0.5157530468336499</td><td>86.1241089433563</td><td>0.6188235645184135</td><td>842.3887361678997</td><td>0.02026984840631485</td><td>0.025518175034029967</td><td>0.032801956620493226</td><td>176.05335998535156</td><td>163.99217710108778</td><td>21.277477074078973</td><td>357.7296258211632</td><td>52.64929601049371</td><td>28.91587515381686</td><td>488.69833694637765</td><td>82.26452501639643</td><td>36.357128835334485</td><td>616.0478690970269</td><td>118.46091602361086</td><td>43.57896084111317</td><td>739.4464903960996</td><td>161.23846903213703</td><td>50.70641551427893</td><td>861.1476403533244</td><td>210.59718404197483</td><td>57.612405699168924</td><td>978.8981158168461</td><td>266.5370610531244</td><td>64.49839043305585</td><td>1096.2894835170875</td><td>329.05810006558573</td><td>76.51936970386916</td><td>1299.9073282032687</td><td>473.84366409444345</td><td>Field11</td><td>37</td><td>4.413465920424665</td><td>3.762011750922998</td><td>5.522574948665783</td><td>2.3837902422326493</td><td>2.3060080756927803</td><td>47.92867839112752</td><td>266.8593470458683</td><td>-28.366874420427298</td><td>0.6935746155975789</td><td>-0.04501942697618787</td><td>892</td><td>266.8593470458683,-28.366874420427298</td><td>SFGC0.6936-0.0450</td></tr>\n",
       "<tr><td>220</td><td>181.2484022746133</td><td>325.0140003442034</td><td>266.8534404776872,-28.358134063844386</td><td>-1.462000905389977</td><td>0.23364629945597953</td><td>-2.377080204666395</td><td>0.290934170501909</td><td>-3.6388335113850596</td><td>0.3481725805917364</td><td>-5.1600950277815585</td><td>0.4052173731041293</td><td>-7.0047140325441735</td><td>0.4615306875925342</td><td>-8.822512788925462</td><td>0.5183481924912353</td><td>-10.641477923739075</td><td>0.5757599927864486</td><td>-15.009271172276701</td><td>0.6910400624322379</td><td>842.3887361678997</td><td>-0.020983638241887093</td><td>-0.022061500901970493</td><td>0.01821461864794309</td><td>144.0436553955078</td><td>126.849633788583</td><td>-0.35722712421574776</td><td>-0.6943769066521385</td><td>52.64929601049371</td><td>-0.6508711715816612</td><td>-1.8313179394367949</td><td>82.26452501639643</td><td>-1.1530925037430433</td><td>-4.7177214076127845</td><td>118.46091602361086</td><td>-1.7767253229354802</td><td>-9.409175547786118</td><td>161.23846903213703</td><td>-2.585618907847256</td><td>-16.955429392507078</td><td>210.59718404197483</td><td>-3.229595521730926</td><td>-23.135069105790166</td><td>266.5370610531244</td><td>-3.7366417914001393</td><td>-27.67597311941053</td><td>329.05810006558573</td><td>-5.066307141708634</td><td>-41.37472982164257</td><td>473.84366409444345</td><td>Field11</td><td>37</td><td>4.398237899751246</td><td>2.90837365634384</td><td>3.350899458862003</td><td>1.9325237042871144</td><td>0.5614154017868902</td><td>63.06668727840663</td><td>266.8534404776872</td><td>-28.358134063844386</td><td>0.698360663226124</td><td>-0.036047134528164396</td><td>893</td><td>266.8534404776872,-28.358134063844386</td><td>SFGC0.6984-0.0360</td></tr>\n",
       "</table></div>"
      ],
      "text/plain": [
       "<Table length=893>\n",
       " type     xcentroid      ...       SourceID     \n",
       "             pix         ...                    \n",
       "int32      float64       ...        str19       \n",
       "----- ------------------ ... -------------------\n",
       "  220    242.53974934529 ... SFGC359.3459-0.0833\n",
       "  220 242.97279560259423 ... SFGC359.3519-0.0795\n",
       "  220 204.58835599714808 ... SFGC359.3544-0.0875\n",
       "  220 122.28663152077948 ... SFGC359.3638-0.1024\n",
       "   10 232.97385251039594 ... SFGC359.3643-0.0744\n",
       "  220 243.32173138646138 ... SFGC359.3680-0.0695\n",
       "  110  196.0817381293394 ... SFGC359.3718-0.0790\n",
       "  220 149.39910866614207 ... SFGC359.3743-0.0891\n",
       "  220 168.08004949063218 ... SFGC359.3977-0.0701\n",
       "  ...                ... ...                 ...\n",
       "  220  257.1850687435191 ...   SFGC0.6695-0.0346\n",
       "   10 215.07570765287738 ...   SFGC0.6759-0.0412\n",
       "  220 141.30973959054018 ...   SFGC0.6771-0.0589\n",
       "   10 269.93907881046215 ...   SFGC0.6774-0.0266\n",
       "  220   206.671103115868 ...   SFGC0.6777-0.0422\n",
       "  110  222.4352631074508 ...   SFGC0.6874-0.0324\n",
       "  220  81.02033439724893 ...   SFGC0.6894-0.0665\n",
       "  210 156.96733004433972 ...   SFGC0.6917-0.0461\n",
       "  110  156.8870653711252 ...   SFGC0.6936-0.0450\n",
       "  220  181.2484022746133 ...   SFGC0.6984-0.0360"
      ]
     },
     "execution_count": 68,
     "metadata": {},
     "output_type": "execute_result"
    }
   ],
   "source": [
    "#create initial master catalog at 37 um\n",
    "mastercat37=CombineFieldResults('CombCat',37)\n",
    "\n",
    "#add names to mastercat\n",
    "mastercat37=createNames(mastercat37)\n",
    "\n",
    "#print the master catalog\n",
    "mastercat37"
   ]
  },
  {
   "cell_type": "code",
   "execution_count": 69,
   "metadata": {},
   "outputs": [],
   "source": [
    "#Optional - write 'master' catalogs to fits prior to quality cuts\n",
    "#mastercat37.write('masterCatComb_FromFields_37um_NoCuts.fits',overwrite=True)"
   ]
  },
  {
   "cell_type": "code",
   "execution_count": 70,
   "metadata": {},
   "outputs": [],
   "source": [
    "#write out save ds9 region files  - Optional for inspection\n",
    "#set size of regions \n",
    "r = Angle(0.00083333, u.deg) #must be in degrees - current value is r=3\"\n",
    "#write out ds9 files\n",
    "makeDS9file('mastercatComb_37um_labelID.reg', mastercat37, r, color='yellow', labelon=True, label=\"id\")\n",
    "makeDS9file('mastercatComb_37um_label4pixSNR.reg', mastercat37, r, color='cyan', labelon=True, label=\"aper_snr_4pix\")"
   ]
  },
  {
   "cell_type": "code",
   "execution_count": 71,
   "metadata": {},
   "outputs": [
    {
     "name": "stdout",
     "output_type": "stream",
     "text": [
      "Number of sources with duplicates included 893\n",
      "number of likely duplicates:  127\n"
     ]
    },
    {
     "name": "stderr",
     "output_type": "stream",
     "text": [
      "C:\\Users\\MHANKI~1\\AppData\\Local\\Temp/ipykernel_2404/2402376784.py:15: DeprecationWarning: `np.int` is a deprecated alias for the builtin `int`. To silence this warning, use `int` by itself. Doing this will not modify any behavior and is safe. When replacing `np.int`, you may wish to use e.g. `np.int64` or `np.int32` to specify the precision. If you wish to review your current use, check the release note link for additional information.\n",
      "Deprecated in NumPy 1.20; for more details and guidance: https://numpy.org/devdocs/release/1.20.0-notes.html#deprecations\n",
      "  matchstore=np.zeros(len(cat),dtype=np.int)\n"
     ]
    },
    {
     "name": "stdout",
     "output_type": "stream",
     "text": [
      "Number of sources with duplicates removed 820\n"
     ]
    }
   ],
   "source": [
    "#Now lets look at possible duplications that may exist because of overlapping data coverage\n",
    "\n",
    "print('Number of sources with duplicates included', len(mastercat37))\n",
    "\n",
    "mastercat37=remove_duplicates(mastercat37, 3.0*u.arcsec)\n",
    "\n",
    "print('Number of sources with duplicates removed', len(mastercat37))"
   ]
  },
  {
   "cell_type": "code",
   "execution_count": 72,
   "metadata": {},
   "outputs": [],
   "source": [
    "#write 'master' catalogs to fits - optional for testing\n",
    "#mastercat37.write('masterCat_FromFields_noDuplicates_37um.fits',overwrite=True)"
   ]
  },
  {
   "cell_type": "code",
   "execution_count": 73,
   "metadata": {},
   "outputs": [],
   "source": [
    "#write out save ds9 region files - optional for testing\n",
    "makeDS9file('mastercat_noDuplicates_37um_labelID.reg', mastercat37, r, color='magenta', labelon=True, label=\"id\")"
   ]
  },
  {
   "cell_type": "code",
   "execution_count": 76,
   "metadata": {},
   "outputs": [
    {
     "data": {
      "image/png": "[encoded data removed]",
      "text/plain": [
       "<Figure size 864x504 with 1 Axes>"
      ]
     },
     "metadata": {
      "needs_background": "light"
     },
     "output_type": "display_data"
    }
   ],
   "source": [
    "#now lets look at some quality flags...\n",
    "binlist=np.linspace(0,1.0,40)\n",
    "\n",
    "plt.figure(figsize=(12,7))\n",
    "plt.title('Histogram of Annulus stdev for 37 um Sources')\n",
    "plt.hist(mastercat37['ann_bkg_std'],bins=binlist)\n",
    "plt.xlabel('Annulus stdev (background noise estimate)')\n",
    "plt.ylabel('Number of Sources')\n",
    "#plt.xlim(0,25)\n",
    "plt.show()"
   ]
  },
  {
   "cell_type": "code",
   "execution_count": 77,
   "metadata": {},
   "outputs": [
    {
     "name": "stdout",
     "output_type": "stream",
     "text": [
      "average noise measurement for all sources:  0.10166256970885425 , standard deviation of noise measurements:  0.20684413725086068\n"
     ]
    }
   ],
   "source": [
    "#add quality flags for background noise\n",
    "\n",
    "bkgmean=np.mean(mastercat37['ann_bkg_std'])\n",
    "bkgstd=np.std(mastercat37['ann_bkg_std'])\n",
    "\n",
    "print(\"average noise measurement for all sources: \", bkgmean, \", standard deviation of noise measurements: \", bkgstd)\n",
    "\n",
    "bkgstd1sig=mastercat37['ann_bkg_std']>bkgmean+bkgstd\n",
    "bkgstd2sig=mastercat37['ann_bkg_std']>bkgmean+2*bkgstd\n",
    "bkgstd3sig=mastercat37['ann_bkg_std']>bkgmean+3*bkgstd\n",
    "\n",
    "\n",
    "mastercat37['bkg_qflag']=0\n",
    "mastercat37['bkg_qflag'][bkgstd1sig]=1\n",
    "mastercat37['bkg_qflag'][bkgstd2sig]=2\n",
    "mastercat37['bkg_qflag'][bkgstd3sig]=3"
   ]
  },
  {
   "cell_type": "code",
   "execution_count": 78,
   "metadata": {},
   "outputs": [
    {
     "data": {
      "image/png": "[encoded data removed]",
      "text/plain": [
       "<Figure size 864x504 with 1 Axes>"
      ]
     },
     "metadata": {
      "needs_background": "light"
     },
     "output_type": "display_data"
    }
   ],
   "source": [
    "#now lets look at SNR distrobution\n",
    "binlist=np.linspace(1,40,20)\n",
    "\n",
    "plt.figure(figsize=(12,7))\n",
    "plt.title('Histogram of 4pix Ap SNR for 37 um Sources')\n",
    "plt.hist(mastercat37['aper_snr_4pix'],bins=binlist)\n",
    "plt.xlabel('SNR of Source')\n",
    "plt.ylabel('Number of Sources')\n",
    "#plt.xlim(0,25)\n",
    "plt.show()\n"
   ]
  },
  {
   "cell_type": "code",
   "execution_count": 79,
   "metadata": {},
   "outputs": [
    {
     "name": "stdout",
     "output_type": "stream",
     "text": [
      "Number of Catalog Sources after SNR cut:  549\n"
     ]
    }
   ],
   "source": [
    "#lets examine SNR cuts...\n",
    "snrcut4pix=mastercat37['aper_snr_4pix']>=3.0 #max snr in all computed apertures must be gtreq to 5\n",
    "mcat37snrcut=mastercat37[snrcut4pix] #apply snr cut\n",
    "\n",
    "print(\"Number of Catalog Sources after SNR cut: \", len(mcat37snrcut))"
   ]
  },
  {
   "cell_type": "code",
   "execution_count": 45,
   "metadata": {},
   "outputs": [],
   "source": [
    "#more cuts to consider?"
   ]
  },
  {
   "cell_type": "code",
   "execution_count": 46,
   "metadata": {},
   "outputs": [],
   "source": [
    "makeDS9file('mastercatComb_4pixSNRselect_37m_NoLabel.reg', mcat37snrcut, r, color='green')"
   ]
  },
  {
   "cell_type": "code",
   "execution_count": 47,
   "metadata": {},
   "outputs": [
    {
     "name": "stderr",
     "output_type": "stream",
     "text": [
      "WARNING: VerifyWarning: Keyword name 'aperture_photometry_args' is greater than 8 characters or contains characters not allowed by the FITS standard; a HIERARCH card will be created. [astropy.io.fits.card]\n"
     ]
    }
   ],
   "source": [
    "#Optional - write 'master' catalogs to fits prior to quality cuts\n",
    "mcat37snrcut.write('masterCat_37um_Step3.fits',overwrite=True)"
   ]
  },
  {
   "cell_type": "markdown",
   "metadata": {},
   "source": [
    "## Crossmatch the 25 and 37 um catalogs"
   ]
  },
  {
   "cell_type": "code",
   "execution_count": 48,
   "metadata": {},
   "outputs": [
    {
     "name": "stdout",
     "output_type": "stream",
     "text": [
      "Number of crossmatched 25/37 sources found:  383\n"
     ]
    }
   ],
   "source": [
    "#get source coordinates from both tables\n",
    "sources25=mcat25snrcut['sky_centroid']\n",
    "sources37=mcat37snrcut['sky_centroid']\n",
    "\n",
    "#crossmatch source lists to look for duplication\n",
    "idx,rdx, d2d, d3d = sources25.search_around_sky(sources37, 5*u.arcsec) #use larger search radius?\n",
    "print('Number of crossmatched 25/37 sources found: ', len(idx))"
   ]
  },
  {
   "cell_type": "code",
   "execution_count": 32,
   "metadata": {},
   "outputs": [],
   "source": [
    "matched25=mcat25snrcut[rdx]\n",
    "matched37=mcat37snrcut[idx]"
   ]
  },
  {
   "cell_type": "code",
   "execution_count": 33,
   "metadata": {},
   "outputs": [],
   "source": [
    "notrdx=findNOTindex(mcat25snrcut,rdx)\n",
    "only25=mcat25snrcut[notrdx]\n",
    "\n",
    "notidx=findNOTindex(mcat37snrcut,idx)\n",
    "only37=mcat37snrcut[notidx]"
   ]
  },
  {
   "cell_type": "code",
   "execution_count": 34,
   "metadata": {},
   "outputs": [],
   "source": [
    "t1=Table()\n",
    "t1['RA(J2000)']=matched25['RA(J2000)']\n",
    "t1['DEC(J2000)']=matched25['DEC(J2000)']\n",
    "t1['25um Flux (Jy)']=matched25['aper_sum_bkgsub_4pix']\n",
    "t1['fwhm25']=matched25['fwhm']\n",
    "t1['25um SNR']=matched25['aper_snr_4pix']\n",
    "t1['37um Flux (Jy)']=matched37['aper_sum_bkgsub_4pix']\n",
    "t1['37um SNR']=matched37['aper_snr_4pix']\n",
    "t1['fwhm37']=matched37['fwhm']\n",
    "\n",
    "\n",
    "t2=Table()\n",
    "t2['RA(J2000)']=only25['RA(J2000)']\n",
    "t2['DEC(J2000)']=only25['DEC(J2000)']\n",
    "t2['25um Flux (Jy)']=only25['aper_sum_bkgsub_4pix']\n",
    "t2['25um SNR']=only25['aper_snr_4pix']\n",
    "t2['fwhm25']=only25['fwhm']\n",
    "t2['37um Flux (Jy)']=-1\n",
    "t2['37um SNR']=-1\n",
    "t2['fwhm37']=-1\n",
    "\n",
    "\n",
    "t3=Table()\n",
    "t3['RA(J2000)']=only37['RA(J2000)']\n",
    "t3['DEC(J2000)']=only37['DEC(J2000)']\n",
    "t3['25um Flux (Jy)']=-1\n",
    "t3['25um SNR']=-1\n",
    "t3['fwhm25']=-1\n",
    "t3['37um Flux (Jy)']=only37['aper_sum_bkgsub_4pix']\n",
    "t3['37um SNR']=only37['aper_snr_4pix']\n",
    "t3['fwhm37']=only37['fwhm']"
   ]
  },
  {
   "cell_type": "code",
   "execution_count": 35,
   "metadata": {},
   "outputs": [],
   "source": [
    "mastercat=vstack((t1,t2,t3))"
   ]
  },
  {
   "cell_type": "code",
   "execution_count": 36,
   "metadata": {},
   "outputs": [
    {
     "data": {
      "text/html": [
       "<div><i>Table length=1464</i>\n",
       "<table id=\"table2248482700688\" class=\"table-striped table-bordered table-condensed\">\n",
       "<thead><tr><th>RA(J2000)</th><th>DEC(J2000)</th><th>25um Flux (Jy)</th><th>fwhm25</th><th>25um SNR</th><th>37um Flux (Jy)</th><th>37um SNR</th><th>fwhm37</th></tr></thead>\n",
       "<thead><tr><th>deg</th><th>deg</th><th></th><th>pix</th><th></th><th></th><th></th><th>pix</th></tr></thead>\n",
       "<thead><tr><th>float64</th><th>float64</th><th>float64</th><th>float64</th><th>float64</th><th>float64</th><th>float64</th><th>float64</th></tr></thead>\n",
       "<tr><td>266.33591716284303</td><td>-29.037906320021353</td><td>19.06</td><td>5.873</td><td>348.9</td><td>15.98</td><td>271.5</td><td>5.78</td></tr>\n",
       "<tr><td>266.3254722621009</td><td>-29.07789334142956</td><td>4.243</td><td>5.239</td><td>75.66</td><td>3.226</td><td>49.58</td><td>5.341</td></tr>\n",
       "<tr><td>266.31859196098685</td><td>-29.057902466534006</td><td>4.229</td><td>5.669</td><td>70.18</td><td>6.248</td><td>100.3</td><td>5.694</td></tr>\n",
       "<tr><td>266.31998201863314</td><td>-29.05390495647942</td><td>8.355</td><td>5.906</td><td>146.1</td><td>8.052</td><td>130.6</td><td>5.834</td></tr>\n",
       "<tr><td>266.3362279098425</td><td>-29.038785430975665</td><td>12.45</td><td>5.751</td><td>226.6</td><td>11.1</td><td>184.4</td><td>5.717</td></tr>\n",
       "<tr><td>266.33448072434913</td><td>-29.038787791948685</td><td>8.867</td><td>5.598</td><td>160</td><td>10.02</td><td>164.6</td><td>5.859</td></tr>\n",
       "<tr><td>266.35377268616793</td><td>-29.055963810072285</td><td>1.6</td><td>5.758</td><td>19.96</td><td>1.126</td><td>9.995</td><td>5.751</td></tr>\n",
       "<tr><td>266.3549333829732</td><td>-29.054051210496706</td><td>1.783</td><td>5.522</td><td>24.06</td><td>0.9815</td><td>6.991</td><td>5.635</td></tr>\n",
       "<tr><td>266.31650178163045</td><td>-29.031959479992114</td><td>1.662</td><td>5.776</td><td>26.95</td><td>1.491</td><td>17.07</td><td>5.746</td></tr>\n",
       "<tr><td>...</td><td>...</td><td>...</td><td>...</td><td>...</td><td>...</td><td>...</td><td>...</td></tr>\n",
       "<tr><td>266.1758811006956</td><td>-29.393053265869053</td><td>-1</td><td>-1</td><td>-1</td><td>1.09</td><td>7.921</td><td>5.965</td></tr>\n",
       "<tr><td>266.19524203054436</td><td>-29.396363872936913</td><td>-1</td><td>-1</td><td>-1</td><td>3.008</td><td>39.55</td><td>5.212</td></tr>\n",
       "<tr><td>266.15753993073696</td><td>-29.42821901269571</td><td>-1</td><td>-1</td><td>-1</td><td>1.801</td><td>20.66</td><td>5.773</td></tr>\n",
       "<tr><td>266.1744813703697</td><td>-29.408554340729093</td><td>-1</td><td>-1</td><td>-1</td><td>1.835</td><td>20.77</td><td>5.978</td></tr>\n",
       "<tr><td>266.0549635486131</td><td>-29.417901484657563</td><td>-1</td><td>-1</td><td>-1</td><td>1.492</td><td>19.04</td><td>5.642</td></tr>\n",
       "<tr><td>266.0174095719637</td><td>-29.42366789441942</td><td>-1</td><td>-1</td><td>-1</td><td>1.715</td><td>15.71</td><td>5.802</td></tr>\n",
       "<tr><td>266.02009113421934</td><td>-29.42486215220104</td><td>-1</td><td>-1</td><td>-1</td><td>1.757</td><td>17.14</td><td>5.754</td></tr>\n",
       "<tr><td>266.0215176696424</td><td>-29.42163288306562</td><td>-1</td><td>-1</td><td>-1</td><td>1.587</td><td>13.75</td><td>5.604</td></tr>\n",
       "<tr><td>266.06361121683733</td><td>-29.412929811914527</td><td>-1</td><td>-1</td><td>-1</td><td>2.305</td><td>33.16</td><td>5.885</td></tr>\n",
       "<tr><td>266.0429064284553</td><td>-29.40827656209453</td><td>-1</td><td>-1</td><td>-1</td><td>1.171</td><td>13.62</td><td>5.767</td></tr>\n",
       "</table></div>"
      ],
      "text/plain": [
       "<Table length=1464>\n",
       "    RA(J2000)           DEC(J2000)     25um Flux (Jy) ... 37um SNR  fwhm37\n",
       "       deg                 deg                        ...            pix  \n",
       "     float64             float64          float64     ... float64  float64\n",
       "------------------ ------------------- -------------- ... -------- -------\n",
       "266.33591716284303 -29.037906320021353          19.06 ...    271.5    5.78\n",
       " 266.3254722621009  -29.07789334142956          4.243 ...    49.58   5.341\n",
       "266.31859196098685 -29.057902466534006          4.229 ...    100.3   5.694\n",
       "266.31998201863314  -29.05390495647942          8.355 ...    130.6   5.834\n",
       " 266.3362279098425 -29.038785430975665          12.45 ...    184.4   5.717\n",
       "266.33448072434913 -29.038787791948685          8.867 ...    164.6   5.859\n",
       "266.35377268616793 -29.055963810072285            1.6 ...    9.995   5.751\n",
       " 266.3549333829732 -29.054051210496706          1.783 ...    6.991   5.635\n",
       "266.31650178163045 -29.031959479992114          1.662 ...    17.07   5.746\n",
       "               ...                 ...            ... ...      ...     ...\n",
       " 266.1758811006956 -29.393053265869053             -1 ...    7.921   5.965\n",
       "266.19524203054436 -29.396363872936913             -1 ...    39.55   5.212\n",
       "266.15753993073696  -29.42821901269571             -1 ...    20.66   5.773\n",
       " 266.1744813703697 -29.408554340729093             -1 ...    20.77   5.978\n",
       " 266.0549635486131 -29.417901484657563             -1 ...    19.04   5.642\n",
       " 266.0174095719637  -29.42366789441942             -1 ...    15.71   5.802\n",
       "266.02009113421934  -29.42486215220104             -1 ...    17.14   5.754\n",
       " 266.0215176696424  -29.42163288306562             -1 ...    13.75   5.604\n",
       "266.06361121683733 -29.412929811914527             -1 ...    33.16   5.885\n",
       " 266.0429064284553  -29.40827656209453             -1 ...    13.62   5.767"
      ]
     },
     "execution_count": 36,
     "metadata": {},
     "output_type": "execute_result"
    }
   ],
   "source": [
    "#change format of columns to save fewer decimal places\n",
    "for col in mastercat.colnames:\n",
    "    if col!='RA(J2000)' and col!='DEC(J2000)' and col!='type': #skip columns that aren't relevant\n",
    "        mastercat[col].info.format = '%.4G'\n",
    "\n",
    "#display catalog\n",
    "mastercat"
   ]
  },
  {
   "cell_type": "code",
   "execution_count": null,
   "metadata": {},
   "outputs": [],
   "source": []
  },
  {
   "cell_type": "code",
   "execution_count": 37,
   "metadata": {},
   "outputs": [],
   "source": [
    "#write out final catalog\n",
    "mastercat.write('masterCat_step3_final.fits',overwrite=True)"
   ]
  },
  {
   "cell_type": "code",
   "execution_count": null,
   "metadata": {},
   "outputs": [],
   "source": []
  },
  {
   "cell_type": "markdown",
   "metadata": {},
   "source": [
    "## Optional - Create combined Segment Map Catalogs (mainly for testing purposes)"
   ]
  },
  {
   "cell_type": "code",
   "execution_count": 39,
   "metadata": {},
   "outputs": [
    {
     "name": "stderr",
     "output_type": "stream",
     "text": [
      "WARNING: MergeConflictWarning: Cannot merge meta key 'DATE' types <class 'str'> and <class 'str'>, choosing DATE='2022-05-12 12:54:07 Central Daylight Time' [astropy.utils.metadata]\n",
      "WARNING: MergeConflictWarning: Cannot merge meta key 'DATE' types <class 'str'> and <class 'str'>, choosing DATE='2022-05-12 12:54:08 Central Daylight Time' [astropy.utils.metadata]\n",
      "WARNING: MergeConflictWarning: Cannot merge meta key 'DATE' types <class 'str'> and <class 'str'>, choosing DATE='2022-05-12 12:54:09 Central Daylight Time' [astropy.utils.metadata]\n",
      "WARNING: MergeConflictWarning: Cannot merge meta key 'DATE' types <class 'str'> and <class 'str'>, choosing DATE='2022-05-12 12:54:10 Central Daylight Time' [astropy.utils.metadata]\n",
      "WARNING: MergeConflictWarning: Cannot merge meta key 'DATE' types <class 'str'> and <class 'str'>, choosing DATE='2022-05-12 12:54:11 Central Daylight Time' [astropy.utils.metadata]\n",
      "WARNING: MergeConflictWarning: Cannot merge meta key 'DATE' types <class 'str'> and <class 'str'>, choosing DATE='2022-05-12 12:54:12 Central Daylight Time' [astropy.utils.metadata]\n",
      "WARNING: MergeConflictWarning: Cannot merge meta key 'DATE' types <class 'str'> and <class 'str'>, choosing DATE='2022-05-12 12:54:13 Central Daylight Time' [astropy.utils.metadata]\n",
      "WARNING: MergeConflictWarning: Cannot merge meta key 'DATE' types <class 'str'> and <class 'str'>, choosing DATE='2022-05-12 12:54:14 Central Daylight Time' [astropy.utils.metadata]\n",
      "WARNING: MergeConflictWarning: Cannot merge meta key 'DATE' types <class 'str'> and <class 'str'>, choosing DATE='2022-05-12 12:54:15 Central Daylight Time' [astropy.utils.metadata]\n",
      "WARNING: MergeConflictWarning: Cannot merge meta key 'DATE' types <class 'str'> and <class 'str'>, choosing DATE='2022-05-12 12:54:16 Central Daylight Time' [astropy.utils.metadata]\n",
      "WARNING: MergeConflictWarning: Cannot merge meta key 'DATE' types <class 'str'> and <class 'str'>, choosing DATE='2022-05-12 12:54:17 Central Daylight Time' [astropy.utils.metadata]\n",
      "WARNING: MergeConflictWarning: Cannot merge meta key 'DATE' types <class 'str'> and <class 'str'>, choosing DATE='2022-05-12 12:54:18 Central Daylight Time' [astropy.utils.metadata]\n",
      "WARNING: MergeConflictWarning: Cannot merge meta key 'DATE' types <class 'str'> and <class 'str'>, choosing DATE='2022-05-12 12:54:19 Central Daylight Time' [astropy.utils.metadata]\n",
      "WARNING: MergeConflictWarning: Cannot merge meta key 'DATE' types <class 'str'> and <class 'str'>, choosing DATE='2022-05-12 12:54:20 Central Daylight Time' [astropy.utils.metadata]\n",
      "WARNING: MergeConflictWarning: Cannot merge meta key 'DATE' types <class 'str'> and <class 'str'>, choosing DATE='2022-05-12 12:54:21 Central Daylight Time' [astropy.utils.metadata]\n",
      "WARNING: MergeConflictWarning: Cannot merge meta key 'DATE' types <class 'str'> and <class 'str'>, choosing DATE='2022-05-12 12:54:22 Central Daylight Time' [astropy.utils.metadata]\n",
      "WARNING: MergeConflictWarning: Cannot merge meta key 'DATE' types <class 'str'> and <class 'str'>, choosing DATE='2022-05-12 12:54:23 Central Daylight Time' [astropy.utils.metadata]\n",
      "WARNING: MergeConflictWarning: Cannot merge meta key 'DATE' types <class 'str'> and <class 'str'>, choosing DATE='2022-05-12 12:54:24 Central Daylight Time' [astropy.utils.metadata]\n",
      "WARNING: MergeConflictWarning: Cannot merge meta key 'DATE' types <class 'str'> and <class 'str'>, choosing DATE='2022-05-12 12:54:25 Central Daylight Time' [astropy.utils.metadata]\n",
      "WARNING: MergeConflictWarning: Cannot merge meta key 'DATE' types <class 'str'> and <class 'str'>, choosing DATE='2022-05-12 12:54:26 Central Daylight Time' [astropy.utils.metadata]\n",
      "WARNING: MergeConflictWarning: Cannot merge meta key 'DATE' types <class 'str'> and <class 'str'>, choosing DATE='2022-05-12 12:54:27 Central Daylight Time' [astropy.utils.metadata]\n",
      "WARNING: MergeConflictWarning: Cannot merge meta key 'DATE' types <class 'str'> and <class 'str'>, choosing DATE='2022-05-12 12:54:28 Central Daylight Time' [astropy.utils.metadata]\n",
      "WARNING: MergeConflictWarning: Cannot merge meta key 'DATE' types <class 'str'> and <class 'str'>, choosing DATE='2022-05-12 12:54:29 Central Daylight Time' [astropy.utils.metadata]\n",
      "WARNING: MergeConflictWarning: Cannot merge meta key 'DATE' types <class 'str'> and <class 'str'>, choosing DATE='2022-05-12 12:54:30 Central Daylight Time' [astropy.utils.metadata]\n",
      "WARNING: MergeConflictWarning: Cannot merge meta key 'DATE' types <class 'str'> and <class 'str'>, choosing DATE='2022-05-12 12:54:31 Central Daylight Time' [astropy.utils.metadata]\n",
      "WARNING: MergeConflictWarning: Cannot merge meta key 'DATE' types <class 'str'> and <class 'str'>, choosing DATE='2022-05-12 12:54:32 Central Daylight Time' [astropy.utils.metadata]\n",
      "WARNING: MergeConflictWarning: Cannot merge meta key 'DATE' types <class 'str'> and <class 'str'>, choosing DATE='2022-05-12 12:54:33 Central Daylight Time' [astropy.utils.metadata]\n",
      "WARNING: MergeConflictWarning: Cannot merge meta key 'DATE' types <class 'str'> and <class 'str'>, choosing DATE='2022-05-12 12:54:34 Central Daylight Time' [astropy.utils.metadata]\n",
      "WARNING: MergeConflictWarning: Cannot merge meta key 'DATE' types <class 'str'> and <class 'str'>, choosing DATE='2022-05-12 12:54:35 Central Daylight Time' [astropy.utils.metadata]\n",
      "WARNING: MergeConflictWarning: Cannot merge meta key 'DATE' types <class 'str'> and <class 'str'>, choosing DATE='2022-05-12 12:54:36 Central Daylight Time' [astropy.utils.metadata]\n",
      "C:\\Users\\MHANKI~1\\AppData\\Local\\Temp/ipykernel_25392/2402376784.py:15: DeprecationWarning: `np.int` is a deprecated alias for the builtin `int`. To silence this warning, use `int` by itself. Doing this will not modify any behavior and is safe. When replacing `np.int`, you may wish to use e.g. `np.int64` or `np.int32` to specify the precision. If you wish to review your current use, check the release note link for additional information.\n",
      "Deprecated in NumPy 1.20; for more details and guidance: https://numpy.org/devdocs/release/1.20.0-notes.html#deprecations\n",
      "  matchstore=np.zeros(len(cat),dtype=np.int)\n"
     ]
    },
    {
     "name": "stdout",
     "output_type": "stream",
     "text": [
      "number of likely duplicates:  294\n",
      "Number of 25 um Seg Catalog Sources after SNR cut:  858\n"
     ]
    },
    {
     "name": "stderr",
     "output_type": "stream",
     "text": [
      "WARNING: VerifyWarning: Keyword name 'aperture_photometry_args' is greater than 8 characters or contains characters not allowed by the FITS standard; a HIERARCH card will be created. [astropy.io.fits.card]\n"
     ]
    }
   ],
   "source": [
    "#create combined field segment map source catalog at 25 um\n",
    "Segcat25=CombineFieldResults('segCat',25)\n",
    "\n",
    "#Remove duplications from overlapping fields\n",
    "SegCat25=remove_duplicates(Segcat25, 3.0*u.arcsec)\n",
    "\n",
    "#lets examine SNR cuts...\n",
    "snrcut4pix=SegCat25['aper_snr_4pix']>=5.0 #max snr in all computed apertures must be gtreq to 5\n",
    "Segcat25snr=SegCat25[snrcut4pix] #apply snr cut\n",
    "print(\"Number of 25 um Seg Catalog Sources after SNR cut: \", len(Segcat25snr))\n",
    "\n",
    "#write ds9 file\n",
    "makeDS9file('Segcat_4pixSNRselect_25m_NoLabel.reg', Segcat25snr, r, color='green')\n",
    "\n",
    "#write fits file\n",
    "Segcat25snr.write('SegCat_CombinedFields_snrcut.fits',overwrite=True)"
   ]
  },
  {
   "cell_type": "code",
   "execution_count": 40,
   "metadata": {
    "scrolled": true
   },
   "outputs": [
    {
     "data": {
      "text/html": [
       "<div><i>Table length=858</i>\n",
       "<table id=\"table1403867925424\" class=\"table-striped table-bordered table-condensed\">\n",
       "<thead><tr><th>old_id</th><th>xcentroid</th><th>ycentroid</th><th>background_centroid</th><th>background_mean</th><th>background_sum</th><th>area</th><th>semimajor_sigma_seg</th><th>semiminor_sigma_seg</th><th>orientation_seg</th><th>cxx</th><th>cxy</th><th>cyy</th><th>eccentricity</th><th>ellipticity</th><th>elongation</th><th>fwhm_seg</th><th>kron_flux</th><th>kron_fluxerr</th><th>kron_radius</th><th>segment_flux</th><th>segment_fluxerr</th><th>segbkg_mean_sc</th><th>segbkg_median_sc</th><th>segbkg_std_sc</th><th>segmentSNR</th><th>xcenter</th><th>ycenter</th><th>sky_center</th><th>aperture_sum_4pix</th><th>aperture_sum_err_4pix</th><th>aperture_sum_7pix</th><th>aperture_sum_err_7pix</th><th>aperture_sum_12pix</th><th>aperture_sum_err_12pix</th><th>pixAnnArea</th><th>ann_bkg_med</th><th>ann_bkg_mean</th><th>ann_bkg_std</th><th>texp_med</th><th>texp_mean</th><th>aper_sum_bkgsub_4pix</th><th>aper_snr_4pix</th><th>aper_area_4pix</th><th>aper_sum_bkgsub_7pix</th><th>aper_snr_7pix</th><th>aper_area_7pix</th><th>aper_sum_bkgsub_12pix</th><th>aper_snr_12pix</th><th>aper_area_12pix</th><th>Field</th><th>wv</th><th>fit_x_cent</th><th>fit_y_cent</th><th>fwhm</th><th>semimajor_sigma</th><th>semiminor_sigma</th><th>orientation</th><th>RA(J2000)</th><th>DEC(J2000)</th><th>sky_centroid</th><th>id</th><th>selfXmatch</th></tr></thead>\n",
       "<thead><tr><th></th><th></th><th></th><th></th><th></th><th></th><th>pix2</th><th>pix</th><th>pix</th><th>deg</th><th>1 / pix2</th><th>1 / pix2</th><th>1 / pix2</th><th></th><th></th><th></th><th>pix</th><th></th><th></th><th>pix</th><th></th><th></th><th></th><th></th><th></th><th></th><th>pix</th><th>pix</th><th>deg,deg</th><th></th><th></th><th></th><th></th><th></th><th></th><th></th><th></th><th></th><th></th><th></th><th></th><th></th><th></th><th></th><th></th><th></th><th></th><th></th><th></th><th></th><th></th><th></th><th></th><th></th><th>pix</th><th>pix</th><th>pix</th><th>deg</th><th>deg</th><th>deg</th><th>deg,deg</th><th></th><th></th></tr></thead>\n",
       "<thead><tr><th>int32</th><th>float64</th><th>float64</th><th>float64</th><th>float64</th><th>float64</th><th>float64</th><th>float64</th><th>float64</th><th>float64</th><th>float64</th><th>float64</th><th>float64</th><th>float64</th><th>float64</th><th>float64</th><th>float64</th><th>float64</th><th>float64</th><th>float64</th><th>float64</th><th>float64</th><th>float64</th><th>float64</th><th>float64</th><th>float64</th><th>float64</th><th>float64</th><th>object</th><th>float64</th><th>float64</th><th>float64</th><th>float64</th><th>float64</th><th>float64</th><th>float64</th><th>float64</th><th>float64</th><th>float64</th><th>float64</th><th>float64</th><th>float64</th><th>float64</th><th>float64</th><th>float64</th><th>float64</th><th>float64</th><th>float64</th><th>float64</th><th>float64</th><th>bytes7</th><th>int32</th><th>float64</th><th>float64</th><th>float64</th><th>float64</th><th>float64</th><th>float64</th><th>float64</th><th>float64</th><th>object</th><th>int64</th><th>int32</th></tr></thead>\n",
       "<tr><td>1</td><td>185.74025305952063</td><td>45.29468593234474</td><td>-0.0010024959751888693</td><td>-0.0004956385032757274</td><td>-0.05005948883084846</td><td>101.0</td><td>2.6243450015424092</td><td>2.1592520002946807</td><td>6.6485615155907</td><td>0.14612593264096238</td><td>-0.01593585441761772</td><td>0.21355446379362664</td><td>0.5683636138426366</td><td>0.1772225073206377</td><td>1.2153954245193501</td><td>5.658813338648118</td><td>9.452813107528392</td><td>0.26268936835739903</td><td>2.275454410029209</td><td>5.635387378601118</td><td>0.10810196399688721</td><td>-0.0004975240031514727</td><td>-0.0005376331807221336</td><td>0.00013432667608972187</td><td>16.156001325545247</td><td>185.7402530596197</td><td>45.2946859322694</td><td>266.3255679286236,-29.0777961489855</td><td>4.223261726128053</td><td>0.07965694794375933</td><td>6.990669465142625</td><td>0.13954518125803658</td><td>9.274056937915002</td><td>0.238326336657559</td><td>842.3889672608536</td><td>0.00015622811410386216</td><td>0.00040810074823285295</td><td>0.005793276622484106</td><td>419.3362724757975</td><td>336.2819897809317</td><td>4.215036423646986</td><td>75.11780662752693</td><td>52.64931045380335</td><td>6.96547947629436</td><td>123.6823749899232</td><td>161.2385132647728</td><td>9.200029215585404</td><td>159.73011029162714</td><td>473.84379408423024</td><td>FieldA</td><td>25</td><td>4.378306921607122</td><td>3.8199525587441663</td><td>5.1955358339515545</td><td>2.2621740636932857</td><td>2.149057712389039</td><td>11.862892326351194</td><td>266.3255679286236</td><td>-29.0777961489855</td><td>266.3255679286236,-29.0777961489855</td><td>1</td><td>0</td></tr>\n",
       "<tr><td>2</td><td>99.33997412427225</td><td>135.7560428642921</td><td>0.000645686407520613</td><td>0.01972296132447175</td><td>3.431795270458084</td><td>174.0</td><td>3.8835755737063407</td><td>3.2426723319262165</td><td>-1.7704318600475983</td><td>0.06633099263366786</td><td>0.0017786637010446392</td><td>0.09507543463733634</td><td>0.5502942012990037</td><td>0.1650291669664793</td><td>1.1976466248131257</td><td>8.42438032703874</td><td>--</td><td>--</td><td>nan</td><td>5.714359056859989</td><td>0.11486293375492096</td><td>0.019715966455985303</td><td>0.01957748140953601</td><td>0.0043672587653352255</td><td>6.10972394850931</td><td>99.33997412423895</td><td>135.75604286425096</td><td>266.3466547631106,-29.058496515013818</td><td>2.2444751769657416</td><td>0.06317449923777498</td><td>5.263501701641234</td><td>0.11057385187481032</td><td>8.179289331002943</td><td>0.18959596849336177</td><td>842.3889672608536</td><td>-0.0022032085635257017</td><td>-0.0024315801082415126</td><td>0.006543116118794441</td><td>477.7574157714844</td><td>476.9713757719391</td><td>2.3604725886212847</td><td>38.64366558564773</td><td>52.64931045380335</td><td>5.618743774836334</td><td>96.69975751476773</td><td>161.2385132647728</td><td>9.223266035902828</td><td>157.8522858399414</td><td>473.84379408423024</td><td>FieldA</td><td>25</td><td>3.832897264201368</td><td>4.41238741642627</td><td>5.783185493264922</td><td>2.4629032764829675</td><td>2.44886216866295</td><td>-45.987069195414584</td><td>266.3466547631106</td><td>-29.058496515013818</td><td>266.3466547631106,-29.058496515013818</td><td>2</td><td>0</td></tr>\n",
       "<tr><td>3</td><td>83.94487721758777</td><td>159.5619761735801</td><td>0.0009578778421280461</td><td>0.03018293132272653</td><td>2.8371955443362937</td><td>94.0</td><td>2.9415442293194145</td><td>2.491499368532639</td><td>85.1490718882491</td><td>0.16076812412716185</td><td>-0.007671521450482014</td><td>0.11589662823547614</td><td>0.5315867109270886</td><td>0.15299612234316196</td><td>1.1806321392133556</td><td>6.418829011200888</td><td>5.280462197504612</td><td>0.1708810265002524</td><td>1.630806735925989</td><td>2.6832354005236883</td><td>0.08466546982526779</td><td>0.030319889043595984</td><td>0.030378905230929468</td><td>0.0001790898898695735</td><td>8.422207289803772</td><td>83.94487721762258</td><td>159.56197617356267</td><td>266.3504109079254,-29.053417354322207</td><td>1.634053144875606</td><td>0.06336264705435525</td><td>3.8537894791118954</td><td>0.11088870564738892</td><td>5.217242358966702</td><td>0.19015455001734047</td><td>842.3889672608536</td><td>-0.0010116770154283018</td><td>-0.0011355926189329302</td><td>0.00748483062563589</td><td>477.7574157714844</td><td>475.1745442953916</td><td>1.6873172421398677</td><td>24.01431226966915</td><td>52.64931045380335</td><td>4.016910776983698</td><td>63.2946938567837</td><td>161.2385132647728</td><td>5.696619234345059</td><td>84.7259746182247</td><td>473.84379408423024</td><td>FieldA</td><td>25</td><td>4.0747868063515735</td><td>4.042576621057237</td><td>5.737435603609527</td><td>2.490351584991647</td><td>2.3813584704644932</td><td>81.34899887925864</td><td>266.3504109079254</td><td>-29.053417354322207</td><td>266.3504109079254,-29.053417354322207</td><td>3</td><td>0</td></tr>\n",
       "<tr><td>4</td><td>91.74734950975652</td><td>221.98052378995942</td><td>0.0033234911990453163</td><td>0.02046894788096464</td><td>1.0439163419291966</td><td>51.0</td><td>2.2047323958181666</td><td>1.5885444283314707</td><td>44.36550095622294</td><td>0.298892334061865</td><td>-0.19050690608251136</td><td>0.30311240819863466</td><td>0.6934385666808762</td><td>0.2794842442808263</td><td>1.387894701902615</td><td>4.524784828611974</td><td>2.7030478105491107</td><td>0.17972880591525217</td><td>2.436954643710001</td><td>1.3851650552018888</td><td>0.06356193125247955</td><td>0.02055665910751768</td><td>0.02048894437523569</td><td>0.0021357526070630694</td><td>3.3352275120185735</td><td>91.74734950977276</td><td>221.9805237899783</td><td>266.34850417705957,-29.04010169616116</td><td>1.3871926262445082</td><td>0.06458194714519135</td><td>2.2162156241417907</td><td>0.11298793434200416</td><td>2.7038126766056654</td><td>0.19357545208716054</td><td>842.3889672608536</td><td>0.00014538291432850074</td><td>0.0004612259647952923</td><td>0.005255224365929812</td><td>477.7574157714844</td><td>476.72005775531505</td><td>1.3795383160533483</td><td>20.755968610267338</td><td>52.64931045380335</td><td>2.1927742991813637</td><td>31.89326736132171</td><td>161.2385132647728</td><td>2.634923884885226</td><td>32.53800049828406</td><td>473.84379408423024</td><td>FieldA</td><td>25</td><td>4.303490864826108</td><td>4.548264914504913</td><td>5.073429306251551</td><td>2.282598650049977</td><td>2.0182597334875942</td><td>31.718048708673404</td><td>266.34850417705957</td><td>-29.04010169616116</td><td>266.34850417705957,-29.04010169616116</td><td>4</td><td>0</td></tr>\n",
       "<tr><td>5</td><td>143.33064646883497</td><td>232.27740782564226</td><td>0.09720079941295612</td><td>0.04567399780196773</td><td>25.029350795478315</td><td>548.0</td><td>5.518493440709489</td><td>4.585123933263347</td><td>-29.381613478733257</td><td>0.036382219503103594</td><td>0.012594167079823656</td><td>0.0440205702573243</td><td>0.5564737968619645</td><td>0.16913484041871807</td><td>1.20356472824538</td><td>11.946753274529716</td><td>81.3890690965413</td><td>0.3038313172592993</td><td>1.555873642863163</td><td>73.51149504941633</td><td>0.2051331102848053</td><td>0.04356188403982215</td><td>0.042591569479314945</td><td>0.009625101259996034</td><td>31.403446620890737</td><td>143.33064646859202</td><td>232.27740782568836</td><td>266.33591716284303,-29.037906320021353</td><td>19.57490920415079</td><td>0.06352791071281867</td><td>46.33830542468783</td><td>0.11125795675068886</td><td>70.53389626479888</td><td>0.19069278648469207</td><td>842.3889672608536</td><td>0.009754849753543987</td><td>0.010880860196856478</td><td>0.0097357002593065</td><td>477.7574157714844</td><td>476.0483250646849</td><td>19.061323091046248</td><td>348.88899031785644</td><td>52.64931045380335</td><td>44.765447953305156</td><td>820.9700795164399</td><td>161.2385132647728</td><td>65.91162124685799</td><td>1207.7263432935</td><td>473.84379408423024</td><td>FieldA</td><td>25</td><td>4.261348794649927</td><td>4.427361193721631</td><td>5.872670068415853</td><td>2.593729763100459</td><td>2.389889970938957</td><td>46.13023101621495</td><td>266.33591716284303</td><td>-29.037906320021353</td><td>266.33591716284303,-29.037906320021353</td><td>5</td><td>0</td></tr>\n",
       "<tr><td>6</td><td>222.90302824938135</td><td>260.15178055175033</td><td>-0.003597258873933545</td><td>0.012749605330520613</td><td>1.810443956933927</td><td>142.0</td><td>3.6680116126629096</td><td>2.766804083698943</td><td>-69.79986275921493</td><td>0.12391676296861187</td><td>0.036492238579800586</td><td>0.08103894386721748</td><td>0.6565227197455817</td><td>0.24569375021953832</td><td>1.3257214828738946</td><td>7.650359503092543</td><td>8.894033360976133</td><td>0.32916021627331304</td><td>2.580059479383012</td><td>3.7915161935910464</td><td>0.10459212958812714</td><td>0.012209440146522612</td><td>0.01231828380143192</td><td>0.0014550359231082623</td><td>6.796543106637767</td><td>222.90302824913866</td><td>260.1517805517401</td><td>266.31650178163045,-29.031959479992114</td><td>1.7654836726514722</td><td>0.06368735848834757</td><td>4.004972134157923</td><td>0.1114511040807127</td><td>6.530918805231122</td><td>0.1912584827582983</td><td>842.3889672608536</td><td>0.0019603193650176657</td><td>0.00229831422934513</td><td>0.0048174966082475375</td><td>477.7574157714844</td><td>476.75639304568153</td><td>1.6622742098140546</td><td>26.95477915205029</td><td>52.64931045380335</td><td>3.6888931542183316</td><td>62.498770874906626</td><td>161.2385132647728</td><td>5.602033639694362</td><td>93.00892086591304</td><td>473.84379408423024</td><td>FieldA</td><td>25</td><td>4.178168034488737</td><td>4.031674269787347</td><td>5.775983412688221</td><td>2.5152046283199985</td><td>2.388836125355649</td><td>85.20837819986887</td><td>266.31650178163045</td><td>-29.031959479992114</td><td>266.31650178163045,-29.031959479992114</td><td>6</td><td>0</td></tr>\n",
       "<tr><td>7</td><td>213.96269208922538</td><td>138.63847192770717</td><td>0.03190011047520076</td><td>0.10413965711427113</td><td>10.622245025655655</td><td>102.0</td><td>3.4785133820537215</td><td>2.039040608119419</td><td>-63.371720696887934</td><td>0.20880405373209066</td><td>0.12650805161951978</td><td>0.11435856527382646</td><td>0.8101796768828854</td><td>0.41381838039226837</td><td>1.705955912894697</td><td>6.713868630049212</td><td>22.95014944049283</td><td>0.30052426358090295</td><td>2.8718953979164126</td><td>7.718322622755144</td><td>0.08946112543344498</td><td>0.10279448773512541</td><td>0.10120719787453634</td><td>0.0310601385262331</td><td>4.276361058166707</td><td>213.96269208908842</td><td>138.6384719276955</td><td>266.3186807137666,-29.057882492048993</td><td>4.536002080154933</td><td>0.0642775978597659</td><td>9.818211158734098</td><td>0.1124725848025225</td><td>18.51828075778346</td><td>0.19278298949340764</td><td>842.3889672608536</td><td>0.005426569534953534</td><td>0.007380247527218689</td><td>0.011054988253194653</td><td>477.7574157714844</td><td>476.22947860486306</td><td>4.250296936010013</td><td>70.45965521878048</td><td>52.64931045380335</td><td>8.94323915479028</td><td>152.72255973290873</td><td>161.2385132647728</td><td>15.946934460479184</td><td>273.7494109828176</td><td>473.84379408423024</td><td>FieldA</td><td>25</td><td>4.404971346754575</td><td>4.348178332331447</td><td>5.685347225218109</td><td>2.5909105669383514</td><td>2.2238036801987557</td><td>-58.09011616266264</td><td>266.3186807137666</td><td>-29.057882492048993</td><td>266.3186807137666,-29.057882492048993</td><td>7</td><td>0</td></tr>\n",
       "<tr><td>8</td><td>210.87387019051536</td><td>158.69027331530378</td><td>0.014139061687633118</td><td>0.11848954581244552</td><td>51.66144197422624</td><td>436.0</td><td>6.443671545575428</td><td>5.491636609406687</td><td>31.147744806861457</td><td>0.02651204717318834</td><td>-0.008034051092441744</td><td>0.03073082510468844</td><td>0.5231302888974759</td><td>0.1477472787734595</td><td>1.1733608765259502</td><td>14.09738697322809</td><td>76.4974834906516</td><td>0.5366833051582331</td><td>2.30184603163704</td><td>44.5029831082785</td><td>0.18501514196395874</td><td>0.11552244388149793</td><td>0.1204730388337175</td><td>0.029926091980566883</td><td>12.233856802620306</td><td>210.8738701902472</td><td>158.69027331527215</td><td>266.3194349176237,-29.053604826365042</td><td>8.096563151732653</td><td>0.06431984553539491</td><td>22.316377050030745</td><td>0.1125506683729933</td><td>44.41516005723147</td><td>0.19285587290198916</td><td>842.3889672608536</td><td>0.010164842982636785</td><td>0.013078511873209594</td><td>0.015507730436719162</td><td>477.7574157714844</td><td>476.3500825579566</td><td>7.5613911778256435</td><td>130.0302091031223</td><td>52.64931045380335</td><td>20.67741287994053</td><td>369.48352250425586</td><td>161.2385132647728</td><td>39.59861229206839</td><td>711.5046442780917</td><td>473.84379408423024</td><td>FieldA</td><td>25</td><td>3.770186268675676</td><td>4.014607697432587</td><td>5.95106902266555</td><td>2.579591482855219</td><td>2.4736712098179465</td><td>52.68315684239385</td><td>266.3194349176237</td><td>-29.053604826365042</td><td>266.3194349176237,-29.053604826365042</td><td>8</td><td>0</td></tr>\n",
       "<tr><td>9</td><td>70.17202558627616</td><td>147.62269213882416</td><td>-0.002083902725164626</td><td>0.023834207611473934</td><td>1.1678761729622227</td><td>49.0</td><td>2.439723270690035</td><td>1.5229049244111665</td><td>69.47091536738199</td><td>0.3988113428493476</td><td>-0.17285801190954708</td><td>0.2003682033551042</td><td>0.781254877423663</td><td>0.37578784335633353</td><td>1.602019424576592</td><td>4.7888868483206455</td><td>4.29656459934296</td><td>0.20416999500188407</td><td>2.7359216321203714</td><td>1.506623573449816</td><td>0.06116006150841713</td><td>0.023200491805710786</td><td>0.02316475291623711</td><td>0.0033209974172389895</td><td>3.1841127894284664</td><td>70.17202558626177</td><td>147.62269213882217</td><td>266.35377268616793,-29.055963810072285</td><td>1.6610081387637257</td><td>0.06338450972141596</td><td>3.588160851440405</td><td>0.11096432491301231</td><td>6.268593679827774</td><td>0.19013040058640274</td><td>842.3889672608536</td><td>0.0011530285665452015</td><td>0.002489091957592608</td><td>0.009401212057763467</td><td>477.7574157714844</td><td>476.1243839722185</td><td>1.6003019798015834</td><td>19.959910191365807</td><td>52.64931045380335</td><td>3.402248239618845</td><td>46.69180190237797</td><td>161.2385132647728</td><td>5.722238249168494</td><td>77.86353238203186</td><td>473.84379408423024</td><td>FieldA</td><td>25</td><td>3.705435896262083</td><td>4.515801776919121</td><td>5.757593598675893</td><td>2.504494963727796</td><td>2.3840717914966656</td><td>-48.68941886120479</td><td>266.35377268616793</td><td>-29.055963810072285</td><td>266.35377268616793,-29.055963810072285</td><td>9</td><td>0</td></tr>\n",
       "<tr><td>...</td><td>...</td><td>...</td><td>...</td><td>...</td><td>...</td><td>...</td><td>...</td><td>...</td><td>...</td><td>...</td><td>...</td><td>...</td><td>...</td><td>...</td><td>...</td><td>...</td><td>...</td><td>...</td><td>...</td><td>...</td><td>...</td><td>...</td><td>...</td><td>...</td><td>...</td><td>...</td><td>...</td><td>...</td><td>...</td><td>...</td><td>...</td><td>...</td><td>...</td><td>...</td><td>...</td><td>...</td><td>...</td><td>...</td><td>...</td><td>...</td><td>...</td><td>...</td><td>...</td><td>...</td><td>...</td><td>...</td><td>...</td><td>...</td><td>...</td><td>...</td><td>...</td><td>...</td><td>...</td><td>...</td><td>...</td><td>...</td><td>...</td><td>...</td><td>...</td><td>...</td><td>...</td><td>...</td></tr>\n",
       "<tr><td>9</td><td>125.99585503467537</td><td>208.9531368453665</td><td>0.0019545032500130283</td><td>0.0012638026263445826</td><td>0.011374223637101244</td><td>9.0</td><td>0.8785525672323194</td><td>0.6850759285773804</td><td>39.7058337067942</td><td>1.636413871176837</td><td>-0.8209008112300106</td><td>1.789868270265877</td><td>0.6260561741490868</td><td>0.22022204005896118</td><td>1.2824163433339573</td><td>1.855071903219751</td><td>1.2615433690957814</td><td>1.1755144050599926</td><td>3.50502265212511</td><td>0.15228396541268782</td><td>0.2926134923276811</td><td>0.0012638026263445826</td><td>0.0012727944641442</td><td>0.00012880962917915037</td><td>0.2809625276726864</td><td>125.99585503473169</td><td>208.95313684537766</td><td>266.06368538179885,-29.41114887676718</td><td>0.5518935216844906</td><td>0.7078526746432148</td><td>1.3686137370532898</td><td>1.2387171561951609</td><td>2.2433517281878137</td><td>2.1240537484719613</td><td>842.3892693225855</td><td>0.00011042479006642126</td><td>0.0004130634778303803</td><td>0.004700427775575832</td><td>575.4245000000004</td><td>573.4345205786286</td><td>0.5460797305457935</td><td>5.326305772782498</td><td>52.64932933266161</td><td>1.3508090016910301</td><td>16.39196051628321</td><td>161.23857108127618</td><td>2.19102760793954</td><td>25.77305807655192</td><td>473.8439639939544</td><td>FieldN9</td><td>25</td><td>4.283922482402684</td><td>3.6921331728543483</td><td>5.706032045178273</td><td>2.5171369613213583</td><td>2.3253229787786593</td><td>-58.03239743103694</td><td>266.06368538179885</td><td>-29.41114887676718</td><td>266.06368538179885,-29.41114887676718</td><td>1031</td><td>0</td></tr>\n",
       "<tr><td>10</td><td>167.45833513935395</td><td>211.50318757123065</td><td>0.005155969942770204</td><td>0.0014817801370541053</td><td>0.07557078698975937</td><td>51.0</td><td>1.9020917189180861</td><td>1.700285904180036</td><td>-19.236385264130075</td><td>0.28394402896725734</td><td>0.0432420285137121</td><td>0.3383597713000222</td><td>0.448260014816576</td><td>0.10609678425645941</td><td>1.1186893417406594</td><td>4.248125730712112</td><td>2.131511907991113</td><td>1.809126270434322</td><td>2.348809492223702</td><td>1.1183522914442572</td><td>0.6894912562373783</td><td>0.0015134513118242163</td><td>0.0014761221656757976</td><td>0.00016282541001680928</td><td>1.3387965845310479</td><td>167.4583351392794</td><td>211.5031875712785</td><td>266.0535313497272,-29.410605805745053</td><td>1.1028861468966311</td><td>0.7006480450735383</td><td>1.844531665729252</td><td>1.2273387743941566</td><td>2.193798612944886</td><td>2.1037412396402067</td><td>842.3892693225855</td><td>-0.0003841842623359254</td><td>-0.0005656093155017477</td><td>0.003494508942009147</td><td>575.4245000000004</td><td>572.4675905054108</td><td>1.123113190648781</td><td>17.678067969791446</td><td>52.64932933266161</td><td>1.9064769872202108</td><td>29.78366865457128</td><td>161.23857108127618</td><td>2.3758420067142345</td><td>33.53117019416829</td><td>473.8439639939544</td><td>FieldN9</td><td>25</td><td>4.177728115811366</td><td>4.273322831870088</td><td>4.851756001904815</td><td>2.084558146276719</td><td>2.035856185178277</td><td>65.37432969083663</td><td>266.0535313497272</td><td>-29.410605805745053</td><td>266.0535313497272,-29.410605805745053</td><td>1032</td><td>0</td></tr>\n",
       "<tr><td>11</td><td>202.98418082106434</td><td>229.74702909037097</td><td>-0.002803474377470835</td><td>0.0025348857477387895</td><td>0.40811660538594513</td><td>161.0</td><td>3.9605926752423706</td><td>2.4548711722260435</td><td>-39.0849158521478</td><td>0.10436860169542803</td><td>0.1000163423119573</td><td>0.1253180708587279</td><td>0.784740699561893</td><td>0.3801758035933811</td><td>1.6133607009816973</td><td>7.758888488877758</td><td>7.096509732462344</td><td>2.2445878369518786</td><td>1.683507255634007</td><td>5.371270261804395</td><td>1.223078206541128</td><td>0.002424354430846841</td><td>0.0024515357795662704</td><td>0.00029359671882816504</td><td>4.765580107297006</td><td>202.98418082103237</td><td>229.74702909040607</td><td>266.04483131353464,-29.40671397912156</td><td>2.789310735698525</td><td>0.6990546218522665</td><td>5.110928056530545</td><td>1.2236217715930993</td><td>6.74551344431144</td><td>2.101218830366758</td><td>842.3892693225855</td><td>-0.00017897936889110073</td><td>-0.0002546000056917732</td><td>0.004121375115174742</td><td>575.4245000000004</td><td>573.685635120227</td><td>2.7987338794350247</td><td>48.86060218802071</td><td>52.64932933266161</td><td>5.139786434223574</td><td>90.00632648900772</td><td>161.23857108127618</td><td>6.8303217379399355</td><td>117.27004307036364</td><td>473.8439639939544</td><td>FieldN9</td><td>25</td><td>4.482134176408353</td><td>4.471222981850202</td><td>5.428493279438766</td><td>2.4227017395609747</td><td>2.181523585312386</td><td>-55.060058377484275</td><td>266.04483131353464</td><td>-29.40671397912156</td><td>266.04483131353464,-29.40671397912156</td><td>1033</td><td>0</td></tr>\n",
       "<tr><td>12</td><td>268.6558523119645</td><td>239.0432534435052</td><td>0.003914599198545168</td><td>0.0030450380259256817</td><td>0.2283778519444261</td><td>75.0</td><td>1.8457253256632746</td><td>1.736565270968204</td><td>-62.56765636736247</td><td>0.3235236960950496</td><td>0.031128108733478484</td><td>0.3016178211367895</td><td>0.33880140877296894</td><td>0.0591420907419381</td><td>1.0628597476409336</td><td>4.219782630865518</td><td>4.0042286083771135</td><td>1.1071971179557034</td><td>1.4343580511881662</td><td>3.6365211002452638</td><td>0.8427295529129751</td><td>0.0030618673487244237</td><td>0.0030492269602982306</td><td>0.0002485757189937503</td><td>3.918235653908964</td><td>268.6558523119268</td><td>239.0432534434152</td><td>266.02874963048555,-29.404729653542844</td><td>3.2746018708395312</td><td>0.7061407765293917</td><td>4.060631508025974</td><td>1.2355224805410205</td><td>4.1176688203279275</td><td>2.118933265806452</td><td>842.3892693225855</td><td>-9.297621536054092e-06</td><td>-0.00020613482517450554</td><td>0.003650453639422671</td><td>575.4245000000004</td><td>573.1727615159261</td><td>3.2750913843777933</td><td>58.00586037269396</td><td>52.64932933266161</td><td>4.062130643236902</td><td>70.5883675937981</td><td>161.23857108127618</td><td>4.122074442172287</td><td>67.1114666264465</td><td>473.8439639939544</td><td>FieldN9</td><td>25</td><td>4.48676657648159</td><td>4.002354060163985</td><td>4.151783957923129</td><td>1.8252043807164282</td><td>1.6987272866557577</td><td>-54.75239764043597</td><td>266.02874963048555</td><td>-29.404729653542844</td><td>266.02874963048555,-29.404729653542844</td><td>1034</td><td>0</td></tr>\n",
       "<tr><td>13</td><td>101.54125353481471</td><td>250.78640199664954</td><td>-0.0034815703231153975</td><td>-0.0038585529120772274</td><td>-0.10803948153816237</td><td>28.0</td><td>1.3351280129762668</td><td>1.1755073394791062</td><td>-9.770974993896475</td><td>0.5656746865144032</td><td>0.05442123842654358</td><td>0.7189986692744311</td><td>0.4741475177056913</td><td>0.11955458348996384</td><td>1.13578875106632</td><td>2.9620155752354576</td><td>1.3228576756294141</td><td>0.9901417850969466</td><td>1.7455579040354892</td><td>1.0353298864859866</td><td>0.5406628399090277</td><td>-0.0038737993658876277</td><td>-0.0038540336544368135</td><td>0.00018352756414225952</td><td>1.4013975178122875</td><td>101.5412535348786</td><td>250.78640199664153</td><td>266.0696721537782,-29.40222353255141</td><td>1.2006329298901368</td><td>0.7414717724902246</td><td>1.3755893157208652</td><td>1.2974126886902617</td><td>0.7483398524733638</td><td>2.226874159606132</td><td>842.3892693225855</td><td>-0.0002037289098072973</td><td>-0.0005181972291131807</td><td>0.004946649186259353</td><td>478.2879500000003</td><td>475.8339372323871</td><td>1.2113591203571654</td><td>17.59591304338607</td><td>52.64932933266161</td><td>1.4084382740261399</td><td>17.004086655535332</td><td>161.23857108127618</td><td>0.8448755666766203</td><td>4.576699799803201</td><td>473.8439639939544</td><td>FieldN9</td><td>25</td><td>4.562059528942791</td><td>4.789367111842461</td><td>3.930843332920894</td><td>1.8543552864483632</td><td>1.4609338274919288</td><td>-36.08716505432317</td><td>266.0696721537782</td><td>-29.40222353255141</td><td>266.0696721537782,-29.40222353255141</td><td>1035</td><td>0</td></tr>\n",
       "<tr><td>14</td><td>137.59077841273484</td><td>262.5520980011864</td><td>-0.0037657964437584433</td><td>-0.0006428641866488395</td><td>-0.04242903631882341</td><td>66.0</td><td>2.517168783093235</td><td>1.7782023516272987</td><td>-65.7530224234846</td><td>0.2895358219036227</td><td>0.11864623755699086</td><td>0.18454418052525218</td><td>0.7077833878043825</td><td>0.2935704734737151</td><td>1.4155693702629968</td><td>5.131709479710265</td><td>2.931393643891817</td><td>2.132328789697524</td><td>2.3194532166612687</td><td>1.5168576436940167</td><td>0.7908732184073131</td><td>-0.000708356999173695</td><td>-0.0006985391655847981</td><td>0.0005961912986918523</td><td>1.664745104300284</td><td>137.5907784126744</td><td>262.5520980012241</td><td>266.06084418600705,-29.399714772685506</td><td>1.2811143310420288</td><td>0.7064287866253178</td><td>2.3524902626752557</td><td>1.236862898542595</td><td>2.810048053288428</td><td>2.1315857046750692</td><td>842.3892693225855</td><td>-0.00031811823697379036</td><td>-0.0005806537867689382</td><td>0.004269273537174587</td><td>575.4245000000004</td><td>572.7515140804949</td><td>1.2978630428671876</td><td>20.144811171391765</td><td>52.64932933266161</td><td>2.4037831926398043</td><td>37.84589794613098</td><td>161.23857108127618</td><td>2.960786459714857</td><td>42.10747115094523</td><td>473.8439639939544</td><td>FieldN9</td><td>25</td><td>4.370143923743421</td><td>4.139931077239167</td><td>5.413253831388731</td><td>2.394435632852694</td><td>2.1990033071882262</td><td>-67.73323548714623</td><td>266.06084418600705</td><td>-29.399714772685506</td><td>266.06084418600705,-29.399714772685506</td><td>1036</td><td>0</td></tr>\n",
       "<tr><td>15</td><td>104.50718149676902</td><td>299.355520418219</td><td>-0.002682963347138287</td><td>-0.00047999195133659943</td><td>-0.01871968610212738</td><td>39.0</td><td>1.6891895520218825</td><td>1.6218888539283682</td><td>84.29247774256083</td><td>0.3798588425546419</td><td>-0.005875816164752773</td><td>0.3507574812143436</td><td>0.2794577322015876</td><td>0.039842004713419144</td><td>1.041495259018832</td><td>3.8993021353390387</td><td>3.33251905933828</td><td>2.5708343060445245</td><td>2.8517048426119533</td><td>1.2538634362994594</td><td>0.754165371330449</td><td>-0.0003765126210352319</td><td>-0.0003005579946023315</td><td>0.0007233230175177018</td><td>1.4175642905537775</td><td>104.50718149691794</td><td>299.35552041817846</td><td>266.06894355662627,-29.39186224750333</td><td>1.5080257332158729</td><td>0.87711702208889</td><td>2.5640081029443564</td><td>1.5465918288275164</td><td>3.782781607330494</td><td>2.6929388354668338</td><td>842.3892693225855</td><td>-0.0003177950501493927</td><td>-0.0008160009939868759</td><td>0.0069914721567101625</td><td>228.10829999999993</td><td>203.94794622554286</td><td>1.5247574294714779</td><td>21.19220472464166</td><td>52.64932933266161</td><td>2.615248922727147</td><td>36.04816535983478</td><td>161.23857108127618</td><td>3.9333668736309395</td><td>51.114701597656584</td><td>473.8439639939544</td><td>FieldN9</td><td>25</td><td>4.197206649081581</td><td>4.2398702275830304</td><td>5.215928949160135</td><td>2.2641798291155713</td><td>2.164705359534442</td><td>-62.38898847533513</td><td>266.06894355662627</td><td>-29.39186224750333</td><td>266.06894355662627,-29.39186224750333</td><td>1037</td><td>0</td></tr>\n",
       "<tr><td>16</td><td>92.7571898181905</td><td>302.9870903765893</td><td>-0.004911368709734202</td><td>-0.0038108030302316524</td><td>-0.08764846969532801</td><td>23.0</td><td>1.373224595165317</td><td>1.1517506839415959</td><td>23.591318240878504</td><td>0.5661001750938228</td><td>-0.16398113410684736</td><td>0.7180407035448022</td><td>0.5445631874906283</td><td>0.16128018097218744</td><td>1.1922932751954431</td><td>2.984345593404178</td><td>1.8834850152840605</td><td>1.8950958102642896</td><td>2.393824410212343</td><td>0.964886182048392</td><td>0.680067180897961</td><td>-0.003813861846768703</td><td>-0.0038278925563566355</td><td>0.0002599765778329697</td><td>1.164928486734948</td><td>92.75718981815103</td><td>302.98709037654413</td><td>266.07182034035134,-29.391086993802112</td><td>1.3514783239262809</td><td>1.0285356195616278</td><td>1.8308264502614149</td><td>1.8049826711917636</td><td>2.4907544963900268</td><td>3.0424552624474277</td><td>842.3892693225855</td><td>-0.0005748913756636531</td><td>-0.0008199998668247257</td><td>0.008950609443470639</td><td>130.97175000000001</td><td>129.21086831436548</td><td>1.3817459692941034</td><td>16.192753902829534</td><td>52.64932933266161</td><td>1.9235211142003716</td><td>19.500937927758002</td><td>161.23857108127618</td><td>2.7631633047004294</td><td>24.658650668427484</td><td>473.8439639939544</td><td>FieldN9</td><td>25</td><td>4.6827256575447</td><td>4.860942450170226</td><td>4.223039602427426</td><td>1.9337089318539855</td><td>1.6410510362464892</td><td>24.742526824523882</td><td>266.07182034035134</td><td>-29.391086993802112</td><td>266.07182034035134,-29.391086993802112</td><td>1038</td><td>0</td></tr>\n",
       "<tr><td>17</td><td>139.8841651738395</td><td>309.83351774183615</td><td>0.007263774202092084</td><td>0.002553820442356382</td><td>0.21962855804264886</td><td>86.0</td><td>2.1512593913051905</td><td>1.9730306859727182</td><td>-19.92960824784715</td><td>0.22082060281879912</td><td>0.026149668668265368</td><td>0.2521405321549714</td><td>0.39853883649665955</td><td>0.08284854260384622</td><td>1.090332454836912</td><td>4.860512590828001</td><td>4.545872386814375</td><td>1.7828213460766884</td><td>1.8960866290393303</td><td>3.67258678346972</td><td>0.9531299522565385</td><td>0.00250912985096552</td><td>0.0025527277671854413</td><td>0.0004605223839364295</td><td>3.6860008156750057</td><td>139.88416517379272</td><td>309.833517741844</td><td>266.06028121191275,-29.389628131343258</td><td>3.0558765781842294</td><td>0.7452950658453148</td><td>4.19473136120131</td><td>1.306552891267224</td><td>4.822948251349383</td><td>2.243759935386289</td><td>842.3892693225855</td><td>-9.68014499383055e-05</td><td>-0.0005602037766988024</td><td>0.004396622303519797</td><td>455.73115000000024</td><td>450.1750121377839</td><td>3.0609731096019104</td><td>53.52531380615504</td><td>52.64932933266161</td><td>4.210339488667958</td><td>72.22037493472335</td><td>161.23857108127618</td><td>4.868817034108512</td><td>78.97448956286817</td><td>473.8439639939544</td><td>FieldN9</td><td>25</td><td>4.556148209714144</td><td>4.643735212375794</td><td>4.66221045971341</td><td>1.987752265093924</td><td>1.9719331168391465</td><td>43.84116581923517</td><td>266.06028121191275</td><td>-29.389628131343258</td><td>266.06028121191275,-29.389628131343258</td><td>1039</td><td>0</td></tr>\n",
       "<tr><td>18</td><td>180.60361577489982</td><td>316.7847128162686</td><td>-0.003102364154334108</td><td>0.004995341502474342</td><td>0.09491148854701249</td><td>19.0</td><td>1.3549736862992097</td><td>0.964630919297489</td><td>-7.3595937812167405</td><td>0.5533726303332279</td><td>0.1346634296555315</td><td>1.065979648350522</td><td>0.7022620308898506</td><td>0.28808143726233504</td><td>1.4046550439063215</td><td>2.769525919937264</td><td>0.9354224221351732</td><td>1.3852914221063415</td><td>2.695303512198853</td><td>0.4099261749275547</td><td>0.44793245630922157</td><td>0.004987317671423775</td><td>0.005001146073920992</td><td>0.00014076618083327147</td><td>0.6106701283299591</td><td>180.60361577492392</td><td>316.7847128162928</td><td>266.05031123511264,-29.388145885899117</td><td>0.6054921829477851</td><td>0.7412818794848223</td><td>0.8762806370664028</td><td>1.2884599961872345</td><td>1.179741707763626</td><td>2.197931550026035</td><td>842.3892693225855</td><td>-8.014943521543066e-06</td><td>-0.00022039452892949485</td><td>0.004144761220242521</td><td>455.73115000000024</td><td>410.4816956273775</td><td>0.6059141643488335</td><td>6.875144299685427</td><td>52.64932933266161</td><td>0.8775729551071134</td><td>8.806319195614158</td><td>161.23857108127618</td><td>1.183539540373062</td><td>9.946330974260336</td><td>473.8439639939544</td><td>FieldN9</td><td>25</td><td>4.396307318863144</td><td>4.85093174176597</td><td>4.578262063093767</td><td>2.131142326001515</td><td>1.7372762569520592</td><td>-16.55968596619501</td><td>266.05031123511264</td><td>-29.388145885899117</td><td>266.05031123511264,-29.388145885899117</td><td>1040</td><td>0</td></tr>\n",
       "</table></div>"
      ],
      "text/plain": [
       "<Table length=858>\n",
       "old_id     xcentroid          ycentroid      ...   id  selfXmatch\n",
       "                                             ...                 \n",
       "int32       float64            float64       ... int64   int32   \n",
       "------ ------------------ ------------------ ... ----- ----------\n",
       "     1 185.74025305952063  45.29468593234474 ...     1          0\n",
       "     2  99.33997412427225  135.7560428642921 ...     2          0\n",
       "     3  83.94487721758777  159.5619761735801 ...     3          0\n",
       "     4  91.74734950975652 221.98052378995942 ...     4          0\n",
       "     5 143.33064646883497 232.27740782564226 ...     5          0\n",
       "     6 222.90302824938135 260.15178055175033 ...     6          0\n",
       "     7 213.96269208922538 138.63847192770717 ...     7          0\n",
       "     8 210.87387019051536 158.69027331530378 ...     8          0\n",
       "     9  70.17202558627616 147.62269213882416 ...     9          0\n",
       "   ...                ...                ... ...   ...        ...\n",
       "     9 125.99585503467537  208.9531368453665 ...  1031          0\n",
       "    10 167.45833513935395 211.50318757123065 ...  1032          0\n",
       "    11 202.98418082106434 229.74702909037097 ...  1033          0\n",
       "    12  268.6558523119645  239.0432534435052 ...  1034          0\n",
       "    13 101.54125353481471 250.78640199664954 ...  1035          0\n",
       "    14 137.59077841273484  262.5520980011864 ...  1036          0\n",
       "    15 104.50718149676902   299.355520418219 ...  1037          0\n",
       "    16   92.7571898181905  302.9870903765893 ...  1038          0\n",
       "    17  139.8841651738395 309.83351774183615 ...  1039          0\n",
       "    18 180.60361577489982  316.7847128162686 ...  1040          0"
      ]
     },
     "execution_count": 40,
     "metadata": {},
     "output_type": "execute_result"
    }
   ],
   "source": [
    "Segcat25snr"
   ]
  },
  {
   "cell_type": "code",
   "execution_count": 41,
   "metadata": {},
   "outputs": [
    {
     "name": "stderr",
     "output_type": "stream",
     "text": [
      "WARNING: MergeConflictWarning: Cannot merge meta key 'DATE' types <class 'str'> and <class 'str'>, choosing DATE='2022-05-12 12:50:20 Central Daylight Time' [astropy.utils.metadata]\n",
      "WARNING: MergeConflictWarning: Cannot merge meta key 'DATE' types <class 'str'> and <class 'str'>, choosing DATE='2022-05-12 12:50:21 Central Daylight Time' [astropy.utils.metadata]\n",
      "WARNING: MergeConflictWarning: Cannot merge meta key 'DATE' types <class 'str'> and <class 'str'>, choosing DATE='2022-05-12 12:50:22 Central Daylight Time' [astropy.utils.metadata]\n",
      "WARNING: MergeConflictWarning: Cannot merge meta key 'DATE' types <class 'str'> and <class 'str'>, choosing DATE='2022-05-12 12:50:23 Central Daylight Time' [astropy.utils.metadata]\n",
      "WARNING: MergeConflictWarning: Cannot merge meta key 'DATE' types <class 'str'> and <class 'str'>, choosing DATE='2022-05-12 12:50:24 Central Daylight Time' [astropy.utils.metadata]\n",
      "WARNING: MergeConflictWarning: Cannot merge meta key 'DATE' types <class 'str'> and <class 'str'>, choosing DATE='2022-05-12 12:50:25 Central Daylight Time' [astropy.utils.metadata]\n",
      "WARNING: MergeConflictWarning: Cannot merge meta key 'DATE' types <class 'str'> and <class 'str'>, choosing DATE='2022-05-12 12:50:26 Central Daylight Time' [astropy.utils.metadata]\n",
      "WARNING: MergeConflictWarning: Cannot merge meta key 'DATE' types <class 'str'> and <class 'str'>, choosing DATE='2022-05-12 12:50:27 Central Daylight Time' [astropy.utils.metadata]\n",
      "WARNING: MergeConflictWarning: Cannot merge meta key 'DATE' types <class 'str'> and <class 'str'>, choosing DATE='2022-05-12 12:50:28 Central Daylight Time' [astropy.utils.metadata]\n",
      "WARNING: MergeConflictWarning: Cannot merge meta key 'DATE' types <class 'str'> and <class 'str'>, choosing DATE='2022-05-12 12:50:29 Central Daylight Time' [astropy.utils.metadata]\n",
      "WARNING: MergeConflictWarning: Cannot merge meta key 'DATE' types <class 'str'> and <class 'str'>, choosing DATE='2022-05-12 12:50:30 Central Daylight Time' [astropy.utils.metadata]\n",
      "WARNING: MergeConflictWarning: Cannot merge meta key 'DATE' types <class 'str'> and <class 'str'>, choosing DATE='2022-05-12 12:50:31 Central Daylight Time' [astropy.utils.metadata]\n",
      "WARNING: MergeConflictWarning: Cannot merge meta key 'DATE' types <class 'str'> and <class 'str'>, choosing DATE='2022-05-12 12:50:32 Central Daylight Time' [astropy.utils.metadata]\n",
      "WARNING: MergeConflictWarning: Cannot merge meta key 'DATE' types <class 'str'> and <class 'str'>, choosing DATE='2022-05-12 12:50:33 Central Daylight Time' [astropy.utils.metadata]\n",
      "WARNING: MergeConflictWarning: Cannot merge meta key 'DATE' types <class 'str'> and <class 'str'>, choosing DATE='2022-05-12 12:50:34 Central Daylight Time' [astropy.utils.metadata]\n",
      "WARNING: MergeConflictWarning: Cannot merge meta key 'DATE' types <class 'str'> and <class 'str'>, choosing DATE='2022-05-12 12:50:35 Central Daylight Time' [astropy.utils.metadata]\n",
      "WARNING: MergeConflictWarning: Cannot merge meta key 'DATE' types <class 'str'> and <class 'str'>, choosing DATE='2022-05-12 12:50:36 Central Daylight Time' [astropy.utils.metadata]\n",
      "WARNING: MergeConflictWarning: Cannot merge meta key 'DATE' types <class 'str'> and <class 'str'>, choosing DATE='2022-05-12 12:50:37 Central Daylight Time' [astropy.utils.metadata]\n",
      "WARNING: MergeConflictWarning: Cannot merge meta key 'DATE' types <class 'str'> and <class 'str'>, choosing DATE='2022-05-12 12:50:38 Central Daylight Time' [astropy.utils.metadata]\n",
      "WARNING: MergeConflictWarning: Cannot merge meta key 'DATE' types <class 'str'> and <class 'str'>, choosing DATE='2022-05-12 12:50:39 Central Daylight Time' [astropy.utils.metadata]\n",
      "WARNING: MergeConflictWarning: Cannot merge meta key 'DATE' types <class 'str'> and <class 'str'>, choosing DATE='2022-05-12 12:50:40 Central Daylight Time' [astropy.utils.metadata]\n",
      "WARNING: MergeConflictWarning: Cannot merge meta key 'DATE' types <class 'str'> and <class 'str'>, choosing DATE='2022-05-12 12:50:41 Central Daylight Time' [astropy.utils.metadata]\n",
      "WARNING: MergeConflictWarning: Cannot merge meta key 'DATE' types <class 'str'> and <class 'str'>, choosing DATE='2022-05-12 12:50:42 Central Daylight Time' [astropy.utils.metadata]\n",
      "WARNING: MergeConflictWarning: Cannot merge meta key 'DATE' types <class 'str'> and <class 'str'>, choosing DATE='2022-05-12 12:50:43 Central Daylight Time' [astropy.utils.metadata]\n",
      "WARNING: MergeConflictWarning: Cannot merge meta key 'DATE' types <class 'str'> and <class 'str'>, choosing DATE='2022-05-12 12:50:44 Central Daylight Time' [astropy.utils.metadata]\n",
      "WARNING: MergeConflictWarning: Cannot merge meta key 'DATE' types <class 'str'> and <class 'str'>, choosing DATE='2022-05-12 12:50:45 Central Daylight Time' [astropy.utils.metadata]\n",
      "WARNING: MergeConflictWarning: Cannot merge meta key 'DATE' types <class 'str'> and <class 'str'>, choosing DATE='2022-05-12 12:50:46 Central Daylight Time' [astropy.utils.metadata]\n",
      "WARNING: MergeConflictWarning: Cannot merge meta key 'DATE' types <class 'str'> and <class 'str'>, choosing DATE='2022-05-12 12:50:47 Central Daylight Time' [astropy.utils.metadata]\n",
      "WARNING: MergeConflictWarning: Cannot merge meta key 'DATE' types <class 'str'> and <class 'str'>, choosing DATE='2022-05-12 12:50:48 Central Daylight Time' [astropy.utils.metadata]\n",
      "C:\\Users\\MHANKI~1\\AppData\\Local\\Temp/ipykernel_25392/2402376784.py:15: DeprecationWarning: `np.int` is a deprecated alias for the builtin `int`. To silence this warning, use `int` by itself. Doing this will not modify any behavior and is safe. When replacing `np.int`, you may wish to use e.g. `np.int64` or `np.int32` to specify the precision. If you wish to review your current use, check the release note link for additional information.\n",
      "Deprecated in NumPy 1.20; for more details and guidance: https://numpy.org/devdocs/release/1.20.0-notes.html#deprecations\n",
      "  matchstore=np.zeros(len(cat),dtype=np.int)\n"
     ]
    },
    {
     "name": "stdout",
     "output_type": "stream",
     "text": [
      "number of likely duplicates:  282\n",
      "Number of 37 um Seg Catalog Sources after SNR cut:  920\n"
     ]
    }
   ],
   "source": [
    "#create combined field segment map source catalog at 37 um\n",
    "Segcat37=CombineFieldResults('segCat',37)\n",
    "\n",
    "#Remove duplications from overlapping fields\n",
    "SegCat37=remove_duplicates(Segcat37, 3.0*u.arcsec)\n",
    "\n",
    "#lets examine SNR cuts...\n",
    "snrcut4pix=SegCat37['aper_snr_4pix']>=5.0 #max snr in all computed apertures must be gtreq to 5\n",
    "Segcat37snr=SegCat37[snrcut4pix] #apply snr cut\n",
    "print(\"Number of 37 um Seg Catalog Sources after SNR cut: \", len(Segcat37snr))\n",
    "\n",
    "#write ds9 file\n",
    "makeDS9file('Segcat_4pixSNRselect_37m_NoLabel.reg', Segcat37snr, r, color='green')\n",
    "\n",
    "#write fits file\n",
    "Segcat37snr.write('SegCat_CombinedFields_snrcut.fits',overwrite=True)"
   ]
  },
  {
   "cell_type": "code",
   "execution_count": 42,
   "metadata": {
    "scrolled": true
   },
   "outputs": [
    {
     "data": {
      "text/html": [
       "<div><i>Table length=920</i>\n",
       "<table id=\"table1403876711536\" class=\"table-striped table-bordered table-condensed\">\n",
       "<thead><tr><th>old_id</th><th>xcentroid</th><th>ycentroid</th><th>background_centroid</th><th>background_mean</th><th>background_sum</th><th>area</th><th>semimajor_sigma_seg</th><th>semiminor_sigma_seg</th><th>orientation_seg</th><th>cxx</th><th>cxy</th><th>cyy</th><th>eccentricity</th><th>ellipticity</th><th>elongation</th><th>fwhm_seg</th><th>kron_flux</th><th>kron_fluxerr</th><th>kron_radius</th><th>segment_flux</th><th>segment_fluxerr</th><th>segbkg_mean_sc</th><th>segbkg_median_sc</th><th>segbkg_std_sc</th><th>segmentSNR</th><th>xcenter</th><th>ycenter</th><th>sky_center</th><th>aperture_sum_4pix</th><th>aperture_sum_err_4pix</th><th>aperture_sum_7pix</th><th>aperture_sum_err_7pix</th><th>aperture_sum_12pix</th><th>aperture_sum_err_12pix</th><th>pixAnnArea</th><th>ann_bkg_med</th><th>ann_bkg_mean</th><th>ann_bkg_std</th><th>texp_med</th><th>texp_mean</th><th>aper_sum_bkgsub_4pix</th><th>aper_snr_4pix</th><th>aper_area_4pix</th><th>aper_sum_bkgsub_7pix</th><th>aper_snr_7pix</th><th>aper_area_7pix</th><th>aper_sum_bkgsub_12pix</th><th>aper_snr_12pix</th><th>aper_area_12pix</th><th>Field</th><th>wv</th><th>fit_x_cent</th><th>fit_y_cent</th><th>fwhm</th><th>semimajor_sigma</th><th>semiminor_sigma</th><th>orientation</th><th>RA(J2000)</th><th>DEC(J2000)</th><th>sky_centroid</th><th>id</th><th>selfXmatch</th></tr></thead>\n",
       "<thead><tr><th></th><th></th><th></th><th></th><th></th><th></th><th>pix2</th><th>pix</th><th>pix</th><th>deg</th><th>1 / pix2</th><th>1 / pix2</th><th>1 / pix2</th><th></th><th></th><th></th><th>pix</th><th></th><th></th><th>pix</th><th></th><th></th><th></th><th></th><th></th><th></th><th>pix</th><th>pix</th><th>deg,deg</th><th></th><th></th><th></th><th></th><th></th><th></th><th></th><th></th><th></th><th></th><th></th><th></th><th></th><th></th><th></th><th></th><th></th><th></th><th></th><th></th><th></th><th></th><th></th><th></th><th></th><th>pix</th><th>pix</th><th>pix</th><th>deg</th><th>deg</th><th>deg</th><th>deg,deg</th><th></th><th></th></tr></thead>\n",
       "<thead><tr><th>int32</th><th>float64</th><th>float64</th><th>float64</th><th>float64</th><th>float64</th><th>float64</th><th>float64</th><th>float64</th><th>float64</th><th>float64</th><th>float64</th><th>float64</th><th>float64</th><th>float64</th><th>float64</th><th>float64</th><th>float64</th><th>float64</th><th>float64</th><th>float64</th><th>float64</th><th>float64</th><th>float64</th><th>float64</th><th>float64</th><th>float64</th><th>float64</th><th>object</th><th>float64</th><th>float64</th><th>float64</th><th>float64</th><th>float64</th><th>float64</th><th>float64</th><th>float64</th><th>float64</th><th>float64</th><th>float64</th><th>float64</th><th>float64</th><th>float64</th><th>float64</th><th>float64</th><th>float64</th><th>float64</th><th>float64</th><th>float64</th><th>float64</th><th>bytes7</th><th>int32</th><th>float64</th><th>float64</th><th>float64</th><th>float64</th><th>float64</th><th>float64</th><th>float64</th><th>float64</th><th>object</th><th>int64</th><th>int32</th></tr></thead>\n",
       "<tr><td>1</td><td>165.88124869656778</td><td>135.1457600413451</td><td>0.105157953693618</td><td>0.08381862214796677</td><td>0.6705489771837342</td><td>8.0</td><td>0.8769722412230371</td><td>0.6688080918264174</td><td>43.894949188395</td><td>1.7498989131658533</td><td>-0.9346646218817445</td><td>1.7859701379371873</td><td>0.6468312744319636</td><td>0.2373668624976215</td><td>1.3112464576021408</td><td>1.836446066762363</td><td>3.0502143518220093</td><td>0.218849915392413</td><td>3.5576433313609304</td><td>0.3180231434827696</td><td>0.05132055655121803</td><td>0.08380100852482836</td><td>0.08372312982837603</td><td>0.0017530802984467436</td><td>1.2440902422001605</td><td>165.88124869667803</td><td>135.14576004139107</td><td>266.32998730132323,-29.06066444114748</td><td>1.4361474202736453</td><td>0.13156885091446782</td><td>3.4240688268525985</td><td>0.2301722297471936</td><td>6.334599409822843</td><td>0.39444305527428686</td><td>842.3886494273573</td><td>-0.0004895834732235229</td><td>-0.0014007875371557087</td><td>0.015934638470782567</td><td>400.12127685546875</td><td>399.28152922907714</td><td>1.461923642823065</td><td>11.841245627924435</td><td>52.649290589209805</td><td>3.503008508410197</td><td>35.623862346703916</td><td>161.23845242945507</td><td>6.566585412767622</td><td>70.69985509181079</td><td>473.8436153028882</td><td>FieldA</td><td>37</td><td>4.6615991348491255</td><td>4.509769738878789</td><td>5.350586354743857</td><td>2.3200332857300094</td><td>2.223306826488856</td><td>47.27429070714086</td><td>266.32998730132323</td><td>-29.06066444114748</td><td>266.32998730132323,-29.06066444114748</td><td>1</td><td>0</td></tr>\n",
       "<tr><td>2</td><td>167.721005456061</td><td>139.46752245357496</td><td>0.10689638267581611</td><td>0.09481086211696702</td><td>0.6636760348187691</td><td>7.0</td><td>1.2340198435091818</td><td>0.5847190899471192</td><td>-21.821246697740367</td><td>0.970077048804135</td><td>1.5653987412335955</td><td>2.61146835817579</td><td>0.8806148239969739</td><td>0.5261671900798988</td><td>2.1104490424979696</td><td>2.273774403851281</td><td>3.4409512080472973</td><td>0.24859120479955898</td><td>3.6420654056456057</td><td>0.2440112566841834</td><td>0.04795633628964424</td><td>0.09331031030341473</td><td>0.09330699734645656</td><td>0.002666071464332059</td><td>0.9453907304634207</td><td>167.72100545600614</td><td>139.46752245360557</td><td>266.3295382816666,-29.05974246988601</td><td>1.5821418218562586</td><td>0.13160807260993931</td><td>3.6855860075505813</td><td>0.23030600062649667</td><td>5.754407922891304</td><td>0.39480453920049835</td><td>842.3886494273573</td><td>-0.0003286288233462775</td><td>-0.0012227842082075061</td><td>0.01675698505552631</td><td>400.12127685546875</td><td>399.59329539155095</td><td>1.599443896272607</td><td>13.359639770918713</td><td>52.649290589209805</td><td>3.738573610450648</td><td>38.38912912650552</td><td>161.23845242945507</td><td>5.910126592638439</td><td>57.47936235547718</td><td>473.8436153028882</td><td>FieldA</td><td>37</td><td>4.172936348945814</td><td>3.6415464483904443</td><td>5.739674384677733</td><td>2.550069670800815</td><td>2.3192954259942944</td><td>58.439418286752016</td><td>266.3295382816666</td><td>-29.05974246988601</td><td>266.3295382816666,-29.05974246988601</td><td>2</td><td>0</td></tr>\n",
       "<tr><td>3</td><td>67.73793200190819</td><td>155.70307950024414</td><td>-0.004177105834915287</td><td>0.05753259209647462</td><td>0.2876629604823731</td><td>5.0</td><td>1.1947068696746086</td><td>0.28650901315579624</td><td>-34.92444736022005</td><td>4.463697121268363</td><td>10.778709370165084</td><td>8.41904981103734</td><td>0.9708185263629986</td><td>0.7601846775738135</td><td>4.169875343589829</td><td>2.0457219908922264</td><td>1.5909675252212536</td><td>0.16593711753955537</td><td>3.669796436998084</td><td>0.17825671296046747</td><td>0.038993656635284424</td><td>0.05744722008810014</td><td>0.057584338725928705</td><td>0.0009692298268260398</td><td>0.8513567490894765</td><td>67.73793200190781</td><td>155.70307950024608</td><td>266.3539389621979,-29.056276463542673</td><td>1.2352390451360173</td><td>0.12658782278609668</td><td>2.7973793551533896</td><td>0.22149365661485018</td><td>4.10888436902588</td><td>0.379601231915448</td><td>842.3886494273573</td><td>0.0020685550457523044</td><td>0.00280309204057926</td><td>0.010891983435631221</td><td>400.12127685546875</td><td>397.4188100722395</td><td>1.126331089432428</td><td>9.99456523289057</td><td>52.649290589209805</td><td>2.4638487408111476</td><td>25.52751853807114</td><td>161.23845242945507</td><td>3.1287127676935764</td><td>26.196363318558735</td><td>473.8436153028882</td><td>FieldA</td><td>37</td><td>4.138058931540355</td><td>4.539406223758336</td><td>5.751382574891824</td><td>2.4499952534528773</td><td>2.434755576524403</td><td>73.55844543138383</td><td>266.3539389621979</td><td>-29.056276463542673</td><td>266.3539389621979,-29.056276463542673</td><td>3</td><td>0</td></tr>\n",
       "<tr><td>4</td><td>63.8481820611361</td><td>167.91592386149125</td><td>0.000335278478510568</td><td>0.0575216159085855</td><td>0.460172927268684</td><td>8.0</td><td>0.8665274113714866</td><td>0.6595690392788012</td><td>-43.227348611624826</td><td>1.7853416561909872</td><td>0.9650457582593389</td><td>1.845132319883869</td><td>0.6485600379038339</td><td>0.2388364976996219</td><td>1.3137781790348768</td><td>1.8132887080016231</td><td>1.9305950353764312</td><td>0.1958942948555809</td><td>3.357808221243836</td><td>0.3040010945118069</td><td>0.04924512282013893</td><td>0.05756906614481824</td><td>0.057691632167739884</td><td>0.0008564328714721329</td><td>1.2835326850916788</td><td>63.848182061157175</td><td>167.91592386148824</td><td>266.35488757938566,-29.053670873678552</td><td>1.0864350848477948</td><td>0.12639340531896248</td><td>2.162937648703254</td><td>0.22113932907136932</td><td>3.5635641772059623</td><td>0.37897314919893366</td><td>842.3886494273573</td><td>0.001993208361358732</td><td>0.0022143652446735907</td><td>0.012541459589258121</td><td>400.12127685546875</td><td>397.2522093896825</td><td>0.9814940786257762</td><td>6.99053394550048</td><td>52.649290589209805</td><td>1.8415558171483224</td><td>13.889932068833664</td><td>161.23845242945507</td><td>2.6190951212077955</td><td>16.89038352318623</td><td>473.8436153028882</td><td>FieldA</td><td>37</td><td>3.9757239920983807</td><td>3.5064049452571764</td><td>5.634586221129913</td><td>2.4528168701290056</td><td>2.3312148330271594</td><td>-60.309896919864705</td><td>266.35488757938566</td><td>-29.053670873678552</td><td>266.35488757938566,-29.053670873678552</td><td>4</td><td>0</td></tr>\n",
       "<tr><td>5</td><td>89.22009080709869</td><td>169.11843087024968</td><td>0.015304183625255659</td><td>0.07860085210941525</td><td>0.8646093732035678</td><td>11.0</td><td>1.251302634803822</td><td>0.652404219799168</td><td>-23.167024351116822</td><td>0.9034523929397433</td><td>1.2375422728324335</td><td>2.0846672527462693</td><td>0.8533245878398487</td><td>0.47861995839123983</td><td>1.9179867279046958</td><td>2.349745562306688</td><td>2.7436528848202837</td><td>0.23993700330539858</td><td>3.3868955637335323</td><td>0.43723811448449684</td><td>0.05869416519999504</td><td>0.07835706212762965</td><td>0.0782582698851505</td><td>0.0015684033973110013</td><td>1.5865868026073269</td><td>89.22009080711473</td><td>169.1184308702658</td><td>266.34869570918073,-29.053415414340137</td><td>1.3571888780362718</td><td>0.12836041322712446</td><td>2.3760671423812774</td><td>0.22467781887688223</td><td>2.5531090663700486</td><td>0.38525419821761864</td><td>842.3886494273573</td><td>-0.0007818177973804435</td><td>-0.0013566610841683623</td><td>0.011718353743974393</td><td>400.12127685546875</td><td>398.8154895624159</td><td>1.3983510304383706</td><td>13.7392095427383</td><td>52.649290589209805</td><td>2.5021262341127053</td><td>24.95675809753067</td><td>161.23845242945507</td><td>2.923568437988939</td><td>21.891565158426424</td><td>473.8436153028882</td><td>FieldA</td><td>37</td><td>3.7608298589315186</td><td>4.013405033555952</td><td>5.471413122206374</td><td>2.4294824893340627</td><td>2.2124364223677775</td><td>-30.987147480261246</td><td>266.34869570918073</td><td>-29.053415414340137</td><td>266.34869570918073,-29.053415414340137</td><td>5</td><td>0</td></tr>\n",
       "<tr><td>6</td><td>238.79411728444944</td><td>170.76845971845455</td><td>0.02638921810691239</td><td>0.0925184890978533</td><td>0.5551109345871198</td><td>6.0</td><td>0.7703084586579614</td><td>0.5645861237403841</td><td>44.06465956305889</td><td>2.3875300383969784</td><td>-1.4511328158491656</td><td>2.4349257003807043</td><td>0.6802985430449285</td><td>0.2670648784981392</td><td>1.3643772424916618</td><td>1.5902731195874538</td><td>3.511295685261139</td><td>0.20231199131416527</td><td>3.802854457935408</td><td>0.28291833081662776</td><td>0.04459637403488159</td><td>0.09135021128804918</td><td>0.09116636281544506</td><td>0.004205822924214018</td><td>1.070621566664215</td><td>238.79411728447616</td><td>170.76845971843105</td><td>266.3121934570579,-29.053063974948326</td><td>1.693585775653958</td><td>0.13209301531493065</td><td>4.240838615339721</td><td>0.23116872694317978</td><td>9.335090356203015</td><td>0.396336759921969</td><td>842.3886494273573</td><td>0.004968714303083703</td><td>0.006212327525460642</td><td>0.011019952120502864</td><td>400.12127685546875</td><td>398.6817964337386</td><td>1.4319864924561412</td><td>14.887092970176294</td><td>52.649290589209805</td><td>3.4396908105464057</td><td>42.79956738215877</td><td>161.23845242945507</td><td>6.980696807422663</td><td>93.67208020052527</td><td>473.8436153028882</td><td>FieldA</td><td>37</td><td>3.9476357927451984</td><td>4.073177830403475</td><td>5.860059426982286</td><td>2.5065383255176314</td><td>2.4704067446677085</td><td>17.808246337605397</td><td>266.3121934570579</td><td>-29.053063974948326</td><td>266.3121934570579,-29.053063974948326</td><td>6</td><td>0</td></tr>\n",
       "<tr><td>7</td><td>108.80058193296583</td><td>218.8511874261194</td><td>0.020985685447878624</td><td>0.09800301407986121</td><td>0.5880180844791673</td><td>6.0</td><td>0.7526539110018218</td><td>0.601368109008832</td><td>47.62996425558811</td><td>2.3110400901178503</td><td>-0.9956800744633206</td><td>2.219375947673096</td><td>0.601335200300667</td><td>0.20100314338580993</td><td>1.2515693794310732</td><td>1.604159270054147</td><td>2.5941358922475874</td><td>0.19876381261783369</td><td>3.7330351336097896</td><td>0.22944288461129453</td><td>0.0437442772090435</td><td>0.09808531010727578</td><td>0.09807574186024165</td><td>0.00032971032999126314</td><td>1.0730239700052813</td><td>108.80058193290219</td><td>218.8511874261266</td><td>266.34391565094484,-29.04280639574484</td><td>1.4115717154738951</td><td>0.12957660737577323</td><td>3.3783194728350434</td><td>0.22676733121635556</td><td>4.9615305727541354</td><td>0.3886723151082033</td><td>842.3886494273573</td><td>-0.00019441604318066942</td><td>-0.00047887218945176735</td><td>0.01430426814485289</td><td>400.12127685546875</td><td>398.34894028264944</td><td>1.4218075822265186</td><td>12.248678328399741</td><td>52.649290589209805</td><td>3.409666814764953</td><td>36.51895078011446</td><td>161.23845242945507</td><td>5.053653373527746</td><td>49.20720372716249</td><td>473.8436153028882</td><td>FieldA</td><td>37</td><td>3.975201615677801</td><td>4.277042389307311</td><td>5.737872325726664</td><td>2.6092723694671465</td><td>2.25082749398984</td><td>-28.824384259352406</td><td>266.34391565094484</td><td>-29.04280639574484</td><td>266.34391565094484,-29.04280639574484</td><td>7</td><td>0</td></tr>\n",
       "<tr><td>8</td><td>105.61464139054232</td><td>223.2812069399375</td><td>0.01649666590369353</td><td>0.09805813979322056</td><td>0.49029069896610283</td><td>5.0</td><td>0.7428052099830145</td><td>0.4553668635481094</td><td>-72.98257695275308</td><td>4.5647294114051995</td><td>1.6847836891772616</td><td>2.070208739953107</td><td>0.790054422049661</td><td>0.38696328804893254</td><td>1.631223677970888</td><td>1.4507665420030913</td><td>2.1713125175715255</td><td>0.1760255713499877</td><td>3.8319852234964786</td><td>0.222282590905113</td><td>0.03988763689994812</td><td>0.0980593255886346</td><td>0.09804569966577815</td><td>8.664685621593398e-05</td><td>1.106981840995833</td><td>105.6146413904526</td><td>223.28120693992747</td><td>266.3446929237156,-29.04186123308418</td><td>1.4088129456874183</td><td>0.12935301061042406</td><td>3.119711988445278</td><td>0.22634314857152574</td><td>5.0230338255773095</td><td>0.3879199641525689</td><td>842.3886494273573</td><td>-3.237566033281345e-05</td><td>0.001366424085079554</td><td>0.016528485058627137</td><td>400.12127685546875</td><td>398.8885323341099</td><td>1.4105175012362983</td><td>10.785556613705317</td><td>52.649290589209805</td><td>3.124932189813723</td><td>28.63179750066561</td><td>161.23845242945507</td><td>5.038374825517228</td><td>44.12857118710081</td><td>473.8436153028882</td><td>FieldA</td><td>37</td><td>4.603929621110673</td><td>3.7775370222300806</td><td>5.738062537398247</td><td>2.5272533498502336</td><td>2.342713066209622</td><td>62.700884267923236</td><td>266.3446929237156</td><td>-29.04186123308418</td><td>266.3446929237156,-29.04186123308418</td><td>8</td><td>0</td></tr>\n",
       "<tr><td>9</td><td>141.4683361559174</td><td>242.1430205965442</td><td>0.05360741218495563</td><td>0.10962621980184267</td><td>55.251614780128705</td><td>504.0</td><td>5.909204694342785</td><td>5.019721091775827</td><td>-17.162529503818863</td><td>0.029599977422859428</td><td>0.0062300350935440155</td><td>0.038724292503411056</td><td>0.5276290241173667</td><td>0.1505250957744807</td><td>1.1771978136443206</td><td>12.910374715271603</td><td>86.7535595207085</td><td>0.6159709680569433</td><td>1.419254247745604</td><td>73.57705917864968</td><td>0.4038142263889313</td><td>0.10154885123333918</td><td>0.10314459934692774</td><td>0.024224431483471354</td><td>20.717362845341626</td><td>141.4683361560318</td><td>242.14302059646997</td><td>266.3359438091984,-29.037838155353167</td><td>16.156660422903997</td><td>0.13053426336944915</td><td>41.78907605397727</td><td>0.22843035145035165</td><td>70.92995385058559</td><td>0.391581007985885</td><td>842.3886494273573</td><td>0.015194621241596023</td><td>0.01742502977859139</td><td>0.018230259880375</td><td>400.12127685546875</td><td>398.2536398569551</td><td>15.356674393762226</td><td>261.80904667824495</td><td>52.649290589209805</td><td>39.3391188397306</td><td>678.1628832261349</td><td>161.23845242945507</td><td>63.73007958830968</td><td>1097.3456788771662</td><td>473.8436153028882</td><td>FieldA</td><td>37</td><td>4.142475273390824</td><td>4.322523965418333</td><td>5.960157080135719</td><td>2.625671853074971</td><td>2.432741600294478</td><td>50.256020455544615</td><td>266.3359438091984</td><td>-29.037838155353167</td><td>266.3359438091984,-29.037838155353167</td><td>9</td><td>0</td></tr>\n",
       "<tr><td>...</td><td>...</td><td>...</td><td>...</td><td>...</td><td>...</td><td>...</td><td>...</td><td>...</td><td>...</td><td>...</td><td>...</td><td>...</td><td>...</td><td>...</td><td>...</td><td>...</td><td>...</td><td>...</td><td>...</td><td>...</td><td>...</td><td>...</td><td>...</td><td>...</td><td>...</td><td>...</td><td>...</td><td>...</td><td>...</td><td>...</td><td>...</td><td>...</td><td>...</td><td>...</td><td>...</td><td>...</td><td>...</td><td>...</td><td>...</td><td>...</td><td>...</td><td>...</td><td>...</td><td>...</td><td>...</td><td>...</td><td>...</td><td>...</td><td>...</td><td>...</td><td>...</td><td>...</td><td>...</td><td>...</td><td>...</td><td>...</td><td>...</td><td>...</td><td>...</td><td>...</td><td>...</td><td>...</td></tr>\n",
       "<tr><td>13</td><td>316.2342092547966</td><td>152.08195046811727</td><td>0.0022818316444042754</td><td>0.034525919136390026</td><td>3.0728068031387124</td><td>89.0</td><td>2.9206648865512075</td><td>2.5636633771929076</td><td>19.803622062039505</td><td>0.12123795771515877</td><td>-0.02226398015126395</td><td>0.14814355964850567</td><td>0.4790876960939774</td><td>0.12223295832472447</td><td>1.139254440553424</td><td>6.470969493884425</td><td>21.1982884404727</td><td>6.17827193903615</td><td>3.207828647599893</td><td>4.663116459560465</td><td>1.4329825331177415</td><td>0.034184197814192824</td><td>0.034234707224631344</td><td>0.0019851293266713293</td><td>3.675439809949539</td><td>316.2342092546843</td><td>152.08195046814023</td><td>266.01972830847285,-29.42298331287107</td><td>3.000335610463224</td><td>1.1012834710980437</td><td>7.121759350200632</td><td>1.9235887241393732</td><td>15.304753423357633</td><td>3.3401108839476406</td><td>842.3892863976475</td><td>0.00374860679412216</td><td>0.006451449731760608</td><td>0.013374533705550161</td><td>347.3763500000002</td><td>318.57955250808817</td><td>2.802973972820353</td><td>37.727848428312605</td><td>52.64933039985298</td><td>6.517339334919339</td><td>96.86050287736124</td><td>161.23857434954976</td><td>13.528498684571794</td><td>210.89102727728917</td><td>473.84397359867694</td><td>FieldN9</td><td>37</td><td>3.8663704183490193</td><td>4.051275315491783</td><td>5.683401403142176</td><td>2.5019653822983443</td><td>2.3217043163913056</td><td>58.26490072227616</td><td>266.01972830847285</td><td>-29.42298331287107</td><td>266.01972830847285,-29.42298331287107</td><td>1068</td><td>0</td></tr>\n",
       "<tr><td>14</td><td>308.9297808291428</td><td>158.41369353245358</td><td>0.002483133148920348</td><td>0.024223772765374924</td><td>0.9205033650842471</td><td>38.0</td><td>3.4691398167946508</td><td>0.9243468693550982</td><td>-68.29368001849645</td><td>1.0216588212703717</td><td>0.7472424887513717</td><td>0.23182115229302458</td><td>0.9638491751048335</td><td>0.7335515666217343</td><td>3.7530714191903014</td><td>5.978031571148489</td><td>8.572763986629893</td><td>3.8000172164058075</td><td>3.263211926605763</td><td>1.5346482460801338</td><td>0.8794462411937491</td><td>0.023880172899365483</td><td>0.024912205920638867</td><td>0.00588925165977023</td><td>1.4610809547840178</td><td>308.92978082905324</td><td>158.41369353246114</td><td>266.0215176696424,-29.42163288306562</td><td>1.7054885689167127</td><td>1.0351141563844255</td><td>4.030164824614847</td><td>1.813752716711289</td><td>8.885915551057646</td><td>3.1451765451406457</td><td>842.3892863976475</td><td>0.002247434001847556</td><td>0.0068788359964027535</td><td>0.015897795889301552</td><td>463.2528500000002</td><td>460.24256019156417</td><td>1.5871626736015771</td><td>13.753608057460234</td><td>52.64933039985298</td><td>3.667791770212243</td><td>38.62977418942243</td><td>161.23857434954976</td><td>7.8209824932214245</td><td>93.68434833204925</td><td>473.84397359867694</td><td>FieldN9</td><td>37</td><td>4.822676440157681</td><td>3.9415316338374873</td><td>5.603848666866085</td><td>2.7274463736069388</td><td>1.9716281620370957</td><td>-61.02079249126792</td><td>266.0215176696424</td><td>-29.42163288306562</td><td>266.0215176696424,-29.42163288306562</td><td>1069</td><td>0</td></tr>\n",
       "<tr><td>15</td><td>175.4818376417732</td><td>172.66404168908596</td><td>0.024794399029516617</td><td>0.026532190332926392</td><td>0.5571759969914543</td><td>21.0</td><td>1.5009487087131308</td><td>1.0446455827647254</td><td>17.714810354413885</td><td>0.48762671105982625</td><td>-0.273891249474504</td><td>0.8726074851599257</td><td>0.718051286495712</td><td>0.30400980613096784</td><td>1.4368018526826756</td><td>3.0449796485629776</td><td>2.8573984336380613</td><td>2.3825116336935355</td><td>3.114478305137542</td><td>0.6950888701209509</td><td>0.6316513405911816</td><td>0.026500333023431893</td><td>0.026550636375011573</td><td>0.001411106838461283</td><td>0.8547638278418838</td><td>175.4818376418138</td><td>172.66404168912632</td><td>266.05420166165914,-29.41859484749044</td><td>1.4388070716514616</td><td>1.0001265788647058</td><td>3.2306325098889213</td><td>1.750407823301732</td><td>5.1149086397868775</td><td>3.0007558441916413</td><td>842.3892863976475</td><td>-0.000661495766301437</td><td>-0.0014501285867318404</td><td>0.007726434001484554</td><td>557.6466500000002</td><td>556.377592034953</td><td>1.47363438080957</td><td>19.033351712426434</td><td>52.64933039985298</td><td>3.337291144185628</td><td>47.768002708756285</td><td>161.23857434954976</td><td>5.4283544222098525</td><td>76.28315149821104</td><td>473.84397359867694</td><td>FieldN9</td><td>37</td><td>3.825819102800761</td><td>4.93155360001187</td><td>5.534639232255246</td><td>2.4044343675912883</td><td>2.2949809293851504</td><td>-13.607952757977499</td><td>266.05420166165914</td><td>-29.41859484749044</td><td>266.05420166165914,-29.41859484749044</td><td>1070</td><td>0</td></tr>\n",
       "<tr><td>16</td><td>175.10246144699028</td><td>177.43969600728852</td><td>0.028204654005510713</td><td>0.026329458249955057</td><td>1.5271085784973932</td><td>58.0</td><td>2.905095403556061</td><td>1.7756712669802197</td><td>22.990033531001774</td><td>0.14879528354845178</td><td>-0.14286184637901922</td><td>0.2868514470941247</td><td>0.7914557333011147</td><td>0.38877350987968906</td><td>1.6360547459308654</td><td>5.6693454704368715</td><td>4.04655230117083</td><td>2.6297555954377954</td><td>1.896184232065472</td><td>1.8795432514231953</td><td>1.049521517252885</td><td>0.026503471443632545</td><td>0.026608837539141648</td><td>0.0016715732053230838</td><td>1.755377200163093</td><td>175.10246144702137</td><td>177.43969600732888</td><td>266.05429449512764,-29.417576035677982</td><td>1.5852270787824931</td><td>0.9998614137550338</td><td>3.7419750776140654</td><td>1.7496961267227369</td><td>4.648713840159168</td><td>2.999738579650358</td><td>842.3892863976475</td><td>-0.0007446136073257321</td><td>-0.0013508505340643097</td><td>0.008223142178307575</td><td>557.6466500000002</td><td>554.8786635490941</td><td>1.624430486614812</td><td>21.31698473359757</td><td>52.64933039985298</td><td>3.862035514100542</td><td>56.77862020473211</td><td>161.23857434954976</td><td>5.001544510650037</td><td>66.38371232773855</td><td>473.84397359867694</td><td>FieldN9</td><td>37</td><td>3.948902930790741</td><td>3.8428757629036405</td><td>5.936204907164425</td><td>2.587201364388629</td><td>2.4527539116220667</td><td>32.56437902272376</td><td>266.05429449512764</td><td>-29.417576035677982</td><td>266.05429449512764,-29.417576035677982</td><td>1071</td><td>0</td></tr>\n",
       "<tr><td>17</td><td>137.058024949201</td><td>199.21471553934916</td><td>0.012442915840867926</td><td>0.022046438904095536</td><td>3.1085478854774706</td><td>141.0</td><td>4.588813597262756</td><td>2.544566066568089</td><td>-73.81949822758166</td><td>0.14613908200421255</td><td>0.05724780377072742</td><td>0.05579512180611357</td><td>0.8321737149731154</td><td>0.445484979366795</td><td>1.803377659378987</td><td>8.736989568612348</td><td>15.314764492891689</td><td>5.309618210768038</td><td>2.547449136231744</td><td>5.7153016752162324</td><td>1.6345894734117576</td><td>0.02112836563199643</td><td>0.022214056093816915</td><td>0.003730809609625789</td><td>3.8881999776077047</td><td>137.05802494925172</td><td>199.21471553928595</td><td>266.06361121683733,-29.412929811914527</td><td>2.358285500624902</td><td>0.9987452153310473</td><td>6.0236938388955545</td><td>1.7477758123541367</td><td>11.237521357287891</td><td>2.9965606180614275</td><td>842.3892863976475</td><td>0.001005549595100793</td><td>0.0020112412392535952</td><td>0.009202699874642735</td><td>557.6466500000002</td><td>556.2247660729862</td><td>2.305343987759002</td><td>33.161631567672124</td><td>52.64933039985298</td><td>5.861560455743735</td><td>92.79878928260702</td><td>161.23857434954976</td><td>10.76104774149479</td><td>172.47999814267004</td><td>473.84397359867694</td><td>FieldN9</td><td>37</td><td>3.951996752190388</td><td>4.126230760192929</td><td>5.8847432131386705</td><td>2.571849687510475</td><td>2.4240038375296917</td><td>75.34052072441098</td><td>266.06361121683733</td><td>-29.412929811914527</td><td>266.06361121683733,-29.412929811914527</td><td>1072</td><td>0</td></tr>\n",
       "<tr><td>18</td><td>135.3311303350638</td><td>209.81647614606229</td><td>0.00524256480414414</td><td>0.018234951970594424</td><td>0.2917592315295108</td><td>16.0</td><td>2.2697455166198583</td><td>0.5981857060251595</td><td>21.9895782884069</td><td>0.558715112660506</td><td>-1.8058092222723814</td><td>2.430047184957411</td><td>0.9646464258861644</td><td>0.7364525222563332</td><td>3.794382737263858</td><td>3.9084234674124065</td><td>3.1138529179521144</td><td>2.3262916046544757</td><td>3.278532916886129</td><td>0.532291224669162</td><td>0.5495949812745405</td><td>0.018415939867104457</td><td>0.018373686200513765</td><td>0.0011578198487450923</td><td>0.7062024655924375</td><td>135.33113033518276</td><td>209.8164761460239</td><td>266.0640337370894,-29.410668047486627</td><td>1.4484169879603672</td><td>0.9967484590685163</td><td>4.064154465087023</td><td>1.7448727650866982</td><td>8.403598857096426</td><td>2.991387889153196</td><td>842.3892863976475</td><td>0.0012546359000332116</td><td>0.0028150420920871905</td><td>0.011516487881998523</td><td>557.6466500000002</td><td>555.6951397372552</td><td>1.3823612479280016</td><td>13.681867130233849</td><td>52.64933039985298</td><td>3.861858761237904</td><td>49.98668824449886</td><td>161.23857434954976</td><td>7.809097196805137</td><td>108.30704119500298</td><td>473.84397359867694</td><td>FieldN9</td><td>37</td><td>4.180303357980015</td><td>3.4329256495571383</td><td>5.94168277076557</td><td>2.5850252966431007</td><td>2.4598219989631485</td><td>-30.352061104870486</td><td>266.0640337370894</td><td>-29.410668047486627</td><td>266.0640337370894,-29.410668047486627</td><td>1073</td><td>0</td></tr>\n",
       "<tr><td>19</td><td>213.01906382160212</td><td>227.3256574598053</td><td>0.012968619033439734</td><td>0.02032909508530804</td><td>2.8054151217725094</td><td>138.0</td><td>4.065410041529597</td><td>2.3011557448839044</td><td>-50.76340007111679</td><td>0.1374985009698456</td><td>0.12575260921752038</td><td>0.11185258199493922</td><td>0.8243826668178605</td><td>0.43396712228857914</td><td>1.76668182958416</td><td>7.778551372795408</td><td>11.87657943212818</td><td>4.298901457170646</td><td>2.3228490830364996</td><td>6.264441417495236</td><td>1.605475966674146</td><td>0.020781200960819805</td><td>0.02175984181902959</td><td>0.0022043356126439533</td><td>4.533177271573067</td><td>213.01906382149804</td><td>227.3256574597328</td><td>266.0450084117407,-29.406933935765426</td><td>3.2066882484711505</td><td>0.9913523207706928</td><td>6.377795841757845</td><td>1.735178934028989</td><td>9.396319055133784</td><td>2.9727613158049015</td><td>842.3892863976475</td><td>0.0010783420549591888</td><td>0.0018137243530490263</td><td>0.008555065177088742</td><td>557.6466500000002</td><td>555.8250331629661</td><td>3.1499142613355477</td><td>49.977314725882074</td><td>52.64933039985298</td><td>6.203925506155062</td><td>100.42616596074947</td><td>161.23857434954976</td><td>8.885353170913358</td><td>139.28345809876825</td><td>473.84397359867694</td><td>FieldN9</td><td>37</td><td>4.111296983681322</td><td>4.204961751621583</td><td>5.557364453102185</td><td>2.4657887243261754</td><td>2.249231526288261</td><td>-55.55882835425378</td><td>266.0450084117407</td><td>-29.406933935765426</td><td>266.0450084117407,-29.406933935765426</td><td>1074</td><td>0</td></tr>\n",
       "<tr><td>20</td><td>221.60241046256027</td><td>221.0319306345009</td><td>0.019589532008821305</td><td>0.018840968630952838</td><td>0.16956871767857554</td><td>9.0</td><td>1.1043786265015183</td><td>0.560449988128557</td><td>-26.363356346261504</td><td>1.2860169785269373</td><td>1.880968928186888</td><td>2.7175459240750586</td><td>0.8616635773861088</td><td>0.49252006994741815</td><td>1.9705212773564982</td><td>2.0621531297597957</td><td>2.8242766506514423</td><td>1.810645346658333</td><td>3.8202367959844907</td><td>0.2790160783101657</td><td>0.4100670589517857</td><td>0.018842521465556896</td><td>0.01889358031470339</td><td>0.001244287895514571</td><td>0.42988392562251787</td><td>221.6024104626654</td><td>221.03193063451874</td><td>266.0429064284553,-29.40827656209453</td><td>1.1709215442453549</td><td>0.9924670241445733</td><td>3.308672585158616</td><td>1.734838467290106</td><td>7.6333542643497285</td><td>2.9729220317753318</td><td>842.3892863976475</td><td>-8.074053729197016e-07</td><td>-1.4105628964272538e-05</td><td>0.00753544467643006</td><td>557.6466500000002</td><td>554.5114160570529</td><td>1.1709640535976005</td><td>13.617652786308266</td><td>52.64933039985298</td><td>3.3088027700498674</td><td>47.62159833818125</td><td>161.23857434954976</td><td>7.633736848519939</td><td>119.03831557461648</td><td>473.84397359867694</td><td>FieldN9</td><td>37</td><td>3.532305601752961</td><td>4.043124658365418</td><td>5.76738163090362</td><td>2.710913887574838</td><td>2.1559048419829594</td><td>-37.960760459176</td><td>266.0429064284553</td><td>-29.40827656209453</td><td>266.0429064284553,-29.40827656209453</td><td>1075</td><td>0</td></tr>\n",
       "<tr><td>21</td><td>147.0610234055624</td><td>258.2743623399461</td><td>0.005525993309385543</td><td>0.013454296935153062</td><td>0.7803492222388776</td><td>58.0</td><td>2.6485306398381</td><td>1.679017830922233</td><td>-33.43332707730209</td><td>0.20696325913916297</td><td>0.19510595760010066</td><td>0.29031724499432365</td><td>0.7733796576738199</td><td>0.3660568597292616</td><td>1.577428536529206</td><td>5.221601837434601</td><td>7.905836688363433</td><td>3.765504300391175</td><td>2.9677205325081</td><td>2.3461614376644255</td><td>1.0339196466013079</td><td>0.01327934065189175</td><td>0.01327886539284678</td><td>0.00036051424940748114</td><td>2.2843716635274767</td><td>147.06102340552076</td><td>258.27436233999646</td><td>266.061159627194,-29.40033071708305</td><td>2.2324261801517435</td><td>0.9852554822017054</td><td>5.18590271653394</td><td>1.7240618365172589</td><td>8.743461817843167</td><td>2.954906638059294</td><td>842.3892863976475</td><td>0.00036758521105041816</td><td>0.0007672926989616563</td><td>0.007550536288552662</td><td>557.6466500000002</td><td>556.7258549996114</td><td>2.2130730649250503</td><td>33.3594144793149</td><td>52.64933039985298</td><td>5.126633801152192</td><td>82.10600377720768</td><td>161.23857434954976</td><td>8.56928378080293</td><td>136.63691835682422</td><td>473.84397359867694</td><td>FieldN9</td><td>37</td><td>4.263762807466023</td><td>4.4995433260825</td><td>5.739439314886548</td><td>2.460909061847216</td><td>2.4134912365274888</td><td>17.557643112150366</td><td>266.061159627194</td><td>-29.40033071708305</td><td>266.061159627194,-29.40033071708305</td><td>1076</td><td>0</td></tr>\n",
       "<tr><td>22</td><td>149.00145255781746</td><td>263.1465487824336</td><td>0.004814936912074815</td><td>0.012454386379569488</td><td>0.6227193189784744</td><td>50.0</td><td>2.8062926564960975</td><td>1.3422408961193377</td><td>-44.12999982175319</td><td>0.33452015167705285</td><td>0.42788187223916</td><td>0.34751837911594996</td><td>0.8781982335903492</td><td>0.5217031648455215</td><td>2.0907518647432064</td><td>5.179771575758694</td><td>6.899162851101639</td><td>3.4746748056031818</td><td>2.9766981217517694</td><td>2.028886626522074</td><td>0.9585734722489982</td><td>0.012275863967555332</td><td>0.01242348547983942</td><td>0.001039000652834515</td><td>2.0182946529387498</td><td>149.00145255784</td><td>263.1465487824519</td><td>266.0606843265714,-29.39929136957136</td><td>2.1731287509611033</td><td>0.9836616115596534</td><td>4.97588198824124</td><td>1.7214860646822432</td><td>8.79618597326434</td><td>2.9508296632102775</td><td>842.3892863976475</td><td>0.0001699397088695992</td><td>0.00018433943182174562</td><td>0.007735707542763148</td><td>557.6466500000002</td><td>556.3777367669587</td><td>2.164181539080773</td><td>32.20715325006342</td><td>52.64933039985298</td><td>4.948481151857728</td><td>78.40724150165094</td><td>161.23857434954976</td><td>8.715661066341367</td><td>138.78897778199524</td><td>473.84397359867694</td><td>FieldN9</td><td>37</td><td>3.6964578070007015</td><td>3.5773147651739428</td><td>5.797358551304407</td><td>2.494630970370832</td><td>2.428751283632393</td><td>69.74570343456311</td><td>266.0606843265714</td><td>-29.39929136957136</td><td>266.0606843265714,-29.39929136957136</td><td>1077</td><td>0</td></tr>\n",
       "</table></div>"
      ],
      "text/plain": [
       "<Table length=920>\n",
       "old_id     xcentroid          ycentroid      ...   id  selfXmatch\n",
       "                                             ...                 \n",
       "int32       float64            float64       ... int64   int32   \n",
       "------ ------------------ ------------------ ... ----- ----------\n",
       "     1 165.88124869656778  135.1457600413451 ...     1          0\n",
       "     2   167.721005456061 139.46752245357496 ...     2          0\n",
       "     3  67.73793200190819 155.70307950024414 ...     3          0\n",
       "     4   63.8481820611361 167.91592386149125 ...     4          0\n",
       "     5  89.22009080709869 169.11843087024968 ...     5          0\n",
       "     6 238.79411728444944 170.76845971845455 ...     6          0\n",
       "     7 108.80058193296583  218.8511874261194 ...     7          0\n",
       "     8 105.61464139054232  223.2812069399375 ...     8          0\n",
       "     9  141.4683361559174  242.1430205965442 ...     9          0\n",
       "   ...                ...                ... ...   ...        ...\n",
       "    13  316.2342092547966 152.08195046811727 ...  1068          0\n",
       "    14  308.9297808291428 158.41369353245358 ...  1069          0\n",
       "    15  175.4818376417732 172.66404168908596 ...  1070          0\n",
       "    16 175.10246144699028 177.43969600728852 ...  1071          0\n",
       "    17   137.058024949201 199.21471553934916 ...  1072          0\n",
       "    18  135.3311303350638 209.81647614606229 ...  1073          0\n",
       "    19 213.01906382160212  227.3256574598053 ...  1074          0\n",
       "    20 221.60241046256027  221.0319306345009 ...  1075          0\n",
       "    21  147.0610234055624  258.2743623399461 ...  1076          0\n",
       "    22 149.00145255781746  263.1465487824336 ...  1077          0"
      ]
     },
     "execution_count": 42,
     "metadata": {},
     "output_type": "execute_result"
    }
   ],
   "source": [
    "Segcat37snr"
   ]
  },
  {
   "cell_type": "code",
   "execution_count": null,
   "metadata": {},
   "outputs": [],
   "source": []
  },
  {
   "cell_type": "code",
   "execution_count": null,
   "metadata": {},
   "outputs": [],
   "source": []
  },
  {
   "cell_type": "markdown",
   "metadata": {},
   "source": [
    "## testing..."
   ]
  },
  {
   "cell_type": "code",
   "execution_count": null,
   "metadata": {},
   "outputs": [],
   "source": []
  },
  {
   "cell_type": "code",
   "execution_count": 66,
   "metadata": {},
   "outputs": [
    {
     "data": {
      "text/plain": [
       "6.0680694089549565"
      ]
     },
     "execution_count": 66,
     "metadata": {},
     "output_type": "execute_result"
    }
   ],
   "source": [
    "np.max(Segcat25['fwhm'])"
   ]
  },
  {
   "cell_type": "code",
   "execution_count": 67,
   "metadata": {},
   "outputs": [
    {
     "data": {
      "text/plain": [
       "3.0486507818268596"
      ]
     },
     "execution_count": 67,
     "metadata": {},
     "output_type": "execute_result"
    }
   ],
   "source": [
    "np.min(Segcat25['fwhm'])"
   ]
  },
  {
   "cell_type": "code",
   "execution_count": 68,
   "metadata": {},
   "outputs": [
    {
     "data": {
      "text/plain": [
       "5.457743928773992"
      ]
     },
     "execution_count": 68,
     "metadata": {},
     "output_type": "execute_result"
    }
   ],
   "source": [
    "np.mean(Segcat25['fwhm'])"
   ]
  },
  {
   "cell_type": "code",
   "execution_count": 69,
   "metadata": {},
   "outputs": [
    {
     "data": {
      "text/plain": [
       "0.42717443772804187"
      ]
     },
     "execution_count": 69,
     "metadata": {},
     "output_type": "execute_result"
    }
   ],
   "source": [
    "np.std(Segcat25['fwhm'])"
   ]
  },
  {
   "cell_type": "code",
   "execution_count": null,
   "metadata": {},
   "outputs": [],
   "source": []
  },
  {
   "cell_type": "code",
   "execution_count": 70,
   "metadata": {},
   "outputs": [
    {
     "data": {
      "text/plain": [
       "4.871949935807235"
      ]
     },
     "execution_count": 70,
     "metadata": {},
     "output_type": "execute_result"
    }
   ],
   "source": [
    "np.mean(Segcat25['fwhm_seg'])"
   ]
  },
  {
   "cell_type": "code",
   "execution_count": 71,
   "metadata": {},
   "outputs": [
    {
     "data": {
      "text/plain": [
       "2.880269379660212"
      ]
     },
     "execution_count": 71,
     "metadata": {},
     "output_type": "execute_result"
    }
   ],
   "source": [
    "np.std(Segcat25['fwhm_seg'])"
   ]
  },
  {
   "cell_type": "code",
   "execution_count": null,
   "metadata": {},
   "outputs": [],
   "source": []
  },
  {
   "cell_type": "code",
   "execution_count": 45,
   "metadata": {},
   "outputs": [
    {
     "data": {
      "image/png": "[encoded data removed]",
      "text/plain": [
       "<Figure size 864x504 with 1 Axes>"
      ]
     },
     "metadata": {
      "needs_background": "light"
     },
     "output_type": "display_data"
    }
   ],
   "source": [
    "#now lets look at SNR distrobution\n",
    "binlist=np.linspace(1,10,20)\n",
    "\n",
    "plt.figure(figsize=(12,7))\n",
    "plt.title('Histogram of FWHM for Seg sources at 25um')\n",
    "plt.hist(Segcat25['fwhm'],bins=binlist,label='ShapePar')\n",
    "plt.hist(Segcat25['fwhm_seg'],bins=binlist,label='Segment')\n",
    "plt.legend()\n",
    "plt.xlabel('FWHM of Source')\n",
    "plt.ylabel('Number of Sources')\n",
    "#plt.xlim(0,25)\n",
    "plt.show()"
   ]
  },
  {
   "cell_type": "code",
   "execution_count": null,
   "metadata": {},
   "outputs": [],
   "source": []
  },
  {
   "cell_type": "code",
   "execution_count": 46,
   "metadata": {},
   "outputs": [],
   "source": [
    "xmatch=mcat25snrcut['type']=='C'\n",
    "segonly=mcat25snrcut['type']=='S'\n",
    "daoonly=mcat25snrcut['type']=='D'"
   ]
  },
  {
   "cell_type": "code",
   "execution_count": 47,
   "metadata": {},
   "outputs": [],
   "source": [
    "xmatch25=mcat25snrcut[xmatch]\n",
    "seg25=mcat25snrcut[segonly]\n",
    "dao25=mcat25snrcut[daoonly]"
   ]
  },
  {
   "cell_type": "code",
   "execution_count": 48,
   "metadata": {},
   "outputs": [
    {
     "data": {
      "image/png": "[encoded data removed]",
      "text/plain": [
       "<Figure size 864x504 with 1 Axes>"
      ]
     },
     "metadata": {
      "needs_background": "light"
     },
     "output_type": "display_data"
    }
   ],
   "source": [
    "#now lets look at SNR distrobution\n",
    "binlist=np.linspace(1,8,25)\n",
    "\n",
    "plt.figure(figsize=(12,7))\n",
    "plt.title('Histogram of FWHM for all sources at 25um')\n",
    "plt.hist(seg25['fwhm'],bins=binlist,label='Seg')\n",
    "plt.hist(dao25['fwhm'],bins=binlist,label='dao')\n",
    "plt.hist(xmatch25['fwhm'],bins=binlist,label='both')\n",
    "plt.legend()\n",
    "plt.xlabel('FWHM of Source')\n",
    "plt.ylabel('Number of Sources')\n",
    "#plt.xlim(0,25)\n",
    "plt.show()"
   ]
  },
  {
   "cell_type": "code",
   "execution_count": null,
   "metadata": {},
   "outputs": [],
   "source": []
  }
 ],
 "metadata": {
  "kernelspec": {
   "display_name": "Python 3 (ipykernel)",
   "language": "python",
   "name": "python3"
  },
  "language_info": {
   "codemirror_mode": {
    "name": "ipython",
    "version": 3
   },
   "file_extension": ".py",
   "mimetype": "text/x-python",
   "name": "python",
   "nbconvert_exporter": "python",
   "pygments_lexer": "ipython3",
   "version": "3.9.7"
  }
 },
 "nbformat": 4,
 "nbformat_minor": 4
}
